{
 "cells": [
  {
   "cell_type": "code",
   "execution_count": null,
   "id": "f4d29615-5ff2-44f3-8014-8485c3e9afb0",
   "metadata": {
    "tags": []
   },
   "outputs": [],
   "source": [
    "import pandas as pd \n",
    "import numpy as np\n",
    "import matplotlib.pyplot as plt\n",
    "\n",
    "import cufflinks as cf\n",
    "from plotly import __version__\n",
    "from plotly.offline import download_plotlyjs, init_notebook_mode, plot, iplot\n",
    "\n",
    "cf.go_offline()\n",
    "\n",
    "%matplotlib inline\n",
    "from sklearn.metrics import mean_absolute_error, mean_absolute_percentage_error, mean_squared_error\n",
    "\n",
    "from neuralforecast.auto import AutoLSTM\n",
    "from neuralforecast.tsdataset import TimeSeriesDataset\n",
    "from neuralforecast.core import NeuralForecast\n",
    "\n",
    "from datetime import datetime, timedelta"
   ]
  },
  {
   "cell_type": "code",
   "execution_count": null,
   "id": "720ec894-f538-443b-b862-34fd884b719e",
   "metadata": {
    "tags": []
   },
   "outputs": [],
   "source": [
    "LSTMmodel = AutoLSTM(h = 4, backend = \"optuna\")"
   ]
  },
  {
   "cell_type": "code",
   "execution_count": null,
   "id": "bfb892ee-d5f9-4b54-a2f9-cdcd967c159b",
   "metadata": {
    "tags": []
   },
   "outputs": [],
   "source": [
    "LSTMmodel.save?"
   ]
  },
  {
   "cell_type": "code",
   "execution_count": null,
   "id": "deb4d363-3c37-4bf6-b87e-e8dae8d096fb",
   "metadata": {
    "tags": []
   },
   "outputs": [],
   "source": [
    "LSTMmodel.load?"
   ]
  },
  {
   "cell_type": "code",
   "execution_count": null,
   "id": "50a2122d-5962-4c50-a406-6555d5e70190",
   "metadata": {
    "tags": []
   },
   "outputs": [],
   "source": [
    "AutoLSTM.load?"
   ]
  },
  {
   "cell_type": "code",
   "execution_count": null,
   "id": "6fec9174-ecb4-4dd4-aefc-dde16aaffd02",
   "metadata": {
    "tags": []
   },
   "outputs": [],
   "source": [
    "AutoLSTM.save?"
   ]
  },
  {
   "cell_type": "code",
   "execution_count": null,
   "id": "cf405fd0-331f-4c87-8c36-ccf0c28a90d5",
   "metadata": {
    "tags": []
   },
   "outputs": [],
   "source": []
  },
  {
   "cell_type": "code",
   "execution_count": null,
   "id": "b591b746-d6e9-4ea6-a0c9-cdbe1897219d",
   "metadata": {
    "tags": []
   },
   "outputs": [],
   "source": []
  },
  {
   "cell_type": "code",
   "execution_count": null,
   "id": "767fabe0-4aa5-40df-916f-f383ffc17585",
   "metadata": {
    "tags": []
   },
   "outputs": [],
   "source": []
  },
  {
   "cell_type": "code",
   "execution_count": null,
   "id": "fe94c7c8-7b18-483c-a1eb-72ac1cd2e007",
   "metadata": {},
   "outputs": [],
   "source": []
  }
 ],
 "metadata": {
  "kernelspec": {
   "display_name": "Python 3 (ipykernel)",
   "language": "python",
   "name": "python3"
  },
  "language_info": {
   "codemirror_mode": {
    "name": "ipython",
    "version": 3
   },
   "file_extension": ".py",
   "mimetype": "text/x-python",
   "name": "python",
   "nbconvert_exporter": "python",
   "pygments_lexer": "ipython3",
   "version": "3.11.6"
  }
 },
 "nbformat": 4,
 "nbformat_minor": 5
}
