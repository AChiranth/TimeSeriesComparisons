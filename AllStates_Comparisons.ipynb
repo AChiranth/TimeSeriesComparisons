{
 "cells": [
  {
   "cell_type": "code",
   "execution_count": 1,
   "id": "a26493d1-0b2a-461c-8c00-2cd616557047",
   "metadata": {
    "tags": []
   },
   "outputs": [],
   "source": [
    "import pandas as pd"
   ]
  },
  {
   "cell_type": "code",
   "execution_count": 2,
   "id": "af45881c-0144-4bec-bdc3-82f29fa66920",
   "metadata": {
    "tags": []
   },
   "outputs": [],
   "source": [
    "from Processors.ARIMAProcessors import FixedARIMAProcessor, UpdatingARIMAProcessor"
   ]
  },
  {
   "cell_type": "code",
   "execution_count": 3,
   "id": "95855d62-748d-4463-be27-e9c1eb90e7f1",
   "metadata": {
    "tags": []
   },
   "outputs": [],
   "source": [
    "from Processors.LSTMProcessors import FixedModelLSTMProcessor, UpdatingModelLSTMProcessor"
   ]
  },
  {
   "cell_type": "code",
   "execution_count": 4,
   "id": "1f3ae0e1-8da9-46df-b0d2-a6cb4636fb5d",
   "metadata": {
    "tags": []
   },
   "outputs": [],
   "source": [
    "from Processors.PatchTSTProcessors import FixedModelPatchTSTProcessor, UpdatingModelPatchTSTProcessor"
   ]
  },
  {
   "cell_type": "code",
   "execution_count": 5,
   "id": "ce150e02-9208-40a8-baac-dd8aa04050d6",
   "metadata": {
    "tags": []
   },
   "outputs": [],
   "source": [
    "updated_df = pd.read_csv(\"https://raw.githubusercontent.com/cdcepi/FluSight-forecast-hub/refs/heads/main/target-data/target-hospital-admissions.csv\")\n",
    "updated_df = updated_df[[\"date\", \"value\", \"location_name\"]]\n",
    "updated_df[\"date\"] = pd.to_datetime(updated_df[\"date\"])\n",
    "updated_df.sort_values(by = [\"date\", \"location_name\"], inplace = True)\n",
    "updated_df = updated_df.rename(columns = {\"date\": \"ds\", \"location_name\": \"unique_id\", \"value\": \"y\"})"
   ]
  },
  {
   "cell_type": "code",
   "execution_count": 6,
   "id": "2dfc508b-5667-45ae-92fe-f2f6a74507c9",
   "metadata": {
    "tags": []
   },
   "outputs": [],
   "source": [
    "quantiles = [.01, .025, .05, .1, .15, .2, .25, .3, .35, .4, .45, .5, .55, .6, .65, .7, .75, .8, .85, .9, .95, .975, .99]\n",
    "confidence_intervals = []\n",
    "for quantile in quantiles:\n",
    "    if quantile >= 0.5:\n",
    "        continue\n",
    "    else:\n",
    "        lower_bound = quantile * 2\n",
    "        ci = 1 - lower_bound\n",
    "        ci = round(ci * 100)\n",
    "        confidence_intervals.append(ci)"
   ]
  },
  {
   "cell_type": "code",
   "execution_count": 7,
   "id": "a0acc143-f465-4929-9608-5a5a3dcaa43e",
   "metadata": {
    "tags": []
   },
   "outputs": [],
   "source": [
    "AProcessor = FixedARIMAProcessor(overall_df=updated_df, dates = [\"2024-10-05\", \"2024-10-19\", \"2024-11-02\", \"2024-11-16\", \"2024-12-07\"])\n",
    "AProcessor.create_training_dfs(\"y\")\n",
    "AProcessor.load_model(path = \"AutoARIMA Models/fixed_models/ARIMA_Fixed_AllStates.pkl\")\n",
    "AProcessor.create_fixed_model(h = 4, freq = \"W-SAT\", model_name = \"ARIMA_Fixed_AllStates\", season_length = 52, level = confidence_intervals, save = True)"
   ]
  },
  {
   "cell_type": "code",
   "execution_count": 8,
   "id": "ba652317-4126-46de-9ac6-5f7ee875669a",
   "metadata": {
    "tags": []
   },
   "outputs": [],
   "source": [
    "UAProcessor = UpdatingARIMAProcessor(overall_df=updated_df, dates = [\"2024-10-05\", \"2024-10-19\", \"2024-11-02\", \"2024-11-16\", \"2024-12-07\"])\n",
    "UAProcessor.create_training_dfs('y')\n",
    "UAProcessor.load_models(paths = [\"AutoARIMA Models/updating_models/ARIMA_Updating1_AllStates.pkl\", \"AutoARIMA Models/updating_models/ARIMA_Updating2_AllStates.pkl\", \"AutoARIMA Models/updating_models/ARIMA_Updating3_AllStates.pkl\", \"AutoARIMA Models/updating_models/ARIMA_Updating4_AllStates.pkl\", \"AutoARIMA Models/updating_models/ARIMA_Updating5_AllStates.pkl\"])\n",
    "UAProcessor.create_models(h = 4, freq = \"W-SAT\", model_names = [\"ARIMA_Updating1_AllStates\", \"ARIMA_Updating2_AllStates\", \"ARIMA_Updating3_AllStates\", \"ARIMA_Updating4_AllStates\", \"ARIMA_Updating5_AllStates\"], season_length = 52, level = confidence_intervals, save = True)"
   ]
  },
  {
   "cell_type": "code",
   "execution_count": 9,
   "id": "4b7a2e6e-fc17-42a1-94aa-55d7132be2ce",
   "metadata": {
    "tags": []
   },
   "outputs": [
    {
     "name": "stderr",
     "output_type": "stream",
     "text": [
      "[rank: 0] Seed set to 51678\n",
      "/home/hmf6av/.local/lib/python3.11/site-packages/neuralforecast/models/lstm.py:164: UserWarning: context_size is deprecated and will be removed in future versions.\n",
      "  warnings.warn(\n",
      "GPU available: True (cuda), used: True\n",
      "TPU available: False, using: 0 TPU cores\n",
      "HPU available: False, using: 0 HPUs\n",
      "2025-07-29 10:46:45.015304: I tensorflow/core/util/port.cc:111] oneDNN custom operations are on. You may see slightly different numerical results due to floating-point round-off errors from different computation orders. To turn them off, set the environment variable `TF_ENABLE_ONEDNN_OPTS=0`.\n",
      "2025-07-29 10:46:46.129470: I tensorflow/tsl/cuda/cudart_stub.cc:28] Could not find cuda drivers on your machine, GPU will not be used.\n",
      "2025-07-29 10:46:47.561951: E tensorflow/compiler/xla/stream_executor/cuda/cuda_dnn.cc:9342] Unable to register cuDNN factory: Attempting to register factory for plugin cuDNN when one has already been registered\n",
      "2025-07-29 10:46:47.561996: E tensorflow/compiler/xla/stream_executor/cuda/cuda_fft.cc:609] Unable to register cuFFT factory: Attempting to register factory for plugin cuFFT when one has already been registered\n",
      "2025-07-29 10:46:47.584167: E tensorflow/compiler/xla/stream_executor/cuda/cuda_blas.cc:1518] Unable to register cuBLAS factory: Attempting to register factory for plugin cuBLAS when one has already been registered\n",
      "2025-07-29 10:46:48.261651: I tensorflow/core/platform/cpu_feature_guard.cc:182] This TensorFlow binary is optimized to use available CPU instructions in performance-critical operations.\n",
      "To enable the following instructions: AVX2 AVX512F AVX512_VNNI FMA, in other operations, rebuild TensorFlow with the appropriate compiler flags.\n",
      "2025-07-29 10:46:57.901833: W tensorflow/compiler/tf2tensorrt/utils/py_utils.cc:38] TF-TRT Warning: Could not find TensorRT\n",
      "LOCAL_RANK: 0 - CUDA_VISIBLE_DEVICES: [0]\n"
     ]
    },
    {
     "data": {
      "application/vnd.jupyter.widget-view+json": {
       "model_id": "adefe3994fbe4c3cb4e3e3dfcf3c20fc",
       "version_major": 2,
       "version_minor": 0
      },
      "text/plain": [
       "Predicting: |          | 0/? [00:00<?, ?it/s]"
      ]
     },
     "metadata": {},
     "output_type": "display_data"
    },
    {
     "name": "stderr",
     "output_type": "stream",
     "text": [
      "GPU available: True (cuda), used: True\n",
      "TPU available: False, using: 0 TPU cores\n",
      "HPU available: False, using: 0 HPUs\n",
      "LOCAL_RANK: 0 - CUDA_VISIBLE_DEVICES: [0]\n"
     ]
    },
    {
     "data": {
      "application/vnd.jupyter.widget-view+json": {
       "model_id": "a918055fd479408ea11f799b2390d9c9",
       "version_major": 2,
       "version_minor": 0
      },
      "text/plain": [
       "Predicting: |          | 0/? [00:00<?, ?it/s]"
      ]
     },
     "metadata": {},
     "output_type": "display_data"
    },
    {
     "name": "stderr",
     "output_type": "stream",
     "text": [
      "GPU available: True (cuda), used: True\n",
      "TPU available: False, using: 0 TPU cores\n",
      "HPU available: False, using: 0 HPUs\n",
      "LOCAL_RANK: 0 - CUDA_VISIBLE_DEVICES: [0]\n"
     ]
    },
    {
     "data": {
      "application/vnd.jupyter.widget-view+json": {
       "model_id": "962a908b8b1343f599a349c1e8de416c",
       "version_major": 2,
       "version_minor": 0
      },
      "text/plain": [
       "Predicting: |          | 0/? [00:00<?, ?it/s]"
      ]
     },
     "metadata": {},
     "output_type": "display_data"
    },
    {
     "name": "stderr",
     "output_type": "stream",
     "text": [
      "GPU available: True (cuda), used: True\n",
      "TPU available: False, using: 0 TPU cores\n",
      "HPU available: False, using: 0 HPUs\n",
      "LOCAL_RANK: 0 - CUDA_VISIBLE_DEVICES: [0]\n"
     ]
    },
    {
     "data": {
      "application/vnd.jupyter.widget-view+json": {
       "model_id": "0b2b1286aa5f46fe9a240e1517755b32",
       "version_major": 2,
       "version_minor": 0
      },
      "text/plain": [
       "Predicting: |          | 0/? [00:00<?, ?it/s]"
      ]
     },
     "metadata": {},
     "output_type": "display_data"
    },
    {
     "name": "stderr",
     "output_type": "stream",
     "text": [
      "GPU available: True (cuda), used: True\n",
      "TPU available: False, using: 0 TPU cores\n",
      "HPU available: False, using: 0 HPUs\n",
      "LOCAL_RANK: 0 - CUDA_VISIBLE_DEVICES: [0]\n"
     ]
    },
    {
     "data": {
      "application/vnd.jupyter.widget-view+json": {
       "model_id": "c34f07d751304301a6e364362755af2c",
       "version_major": 2,
       "version_minor": 0
      },
      "text/plain": [
       "Predicting: |          | 0/? [00:00<?, ?it/s]"
      ]
     },
     "metadata": {},
     "output_type": "display_data"
    }
   ],
   "source": [
    "LSTMProcessor = FixedModelLSTMProcessor(overall_df=updated_df, dates = [\"2024-10-05\", \"2024-10-19\", \"2024-11-02\", \"2024-11-16\", \"2024-12-07\"])\n",
    "LSTMProcessor.create_training_dfs('y')\n",
    "LSTMProcessor.load_fixed_model(path=\"AutoLSTM Models/fixed_models/LSTM_Fixed_AllStates/\")\n",
    "LSTMProcessor.create_fixed_model(h = 4, freq = \"W-SAT\", model_name = \"LSTM_Fixed_AllStates\", level = confidence_intervals, save = True)"
   ]
  },
  {
   "cell_type": "code",
   "execution_count": 10,
   "id": "2279e5d6-b163-4b75-9e34-b8d799450c44",
   "metadata": {
    "tags": []
   },
   "outputs": [
    {
     "name": "stderr",
     "output_type": "stream",
     "text": [
      "[rank: 0] Seed set to 64052\n",
      "/home/hmf6av/.local/lib/python3.11/site-packages/neuralforecast/models/lstm.py:164: UserWarning: context_size is deprecated and will be removed in future versions.\n",
      "  warnings.warn(\n",
      "[rank: 0] Seed set to 3129\n",
      "/home/hmf6av/.local/lib/python3.11/site-packages/neuralforecast/models/lstm.py:164: UserWarning: context_size is deprecated and will be removed in future versions.\n",
      "  warnings.warn(\n",
      "[rank: 0] Seed set to 17473\n",
      "/home/hmf6av/.local/lib/python3.11/site-packages/neuralforecast/models/lstm.py:164: UserWarning: context_size is deprecated and will be removed in future versions.\n",
      "  warnings.warn(\n",
      "[rank: 0] Seed set to 30807\n",
      "/home/hmf6av/.local/lib/python3.11/site-packages/neuralforecast/models/lstm.py:164: UserWarning: context_size is deprecated and will be removed in future versions.\n",
      "  warnings.warn(\n",
      "[rank: 0] Seed set to 42022\n",
      "/home/hmf6av/.local/lib/python3.11/site-packages/neuralforecast/models/lstm.py:164: UserWarning: context_size is deprecated and will be removed in future versions.\n",
      "  warnings.warn(\n",
      "GPU available: True (cuda), used: True\n",
      "TPU available: False, using: 0 TPU cores\n",
      "HPU available: False, using: 0 HPUs\n",
      "LOCAL_RANK: 0 - CUDA_VISIBLE_DEVICES: [0]\n"
     ]
    },
    {
     "data": {
      "application/vnd.jupyter.widget-view+json": {
       "model_id": "73665fb695af49b0b74616838403ac61",
       "version_major": 2,
       "version_minor": 0
      },
      "text/plain": [
       "Predicting: |          | 0/? [00:00<?, ?it/s]"
      ]
     },
     "metadata": {},
     "output_type": "display_data"
    },
    {
     "name": "stderr",
     "output_type": "stream",
     "text": [
      "GPU available: True (cuda), used: True\n",
      "TPU available: False, using: 0 TPU cores\n",
      "HPU available: False, using: 0 HPUs\n",
      "LOCAL_RANK: 0 - CUDA_VISIBLE_DEVICES: [0]\n"
     ]
    },
    {
     "data": {
      "application/vnd.jupyter.widget-view+json": {
       "model_id": "b5e9357769294b3b8feb7c5e9f445deb",
       "version_major": 2,
       "version_minor": 0
      },
      "text/plain": [
       "Predicting: |          | 0/? [00:00<?, ?it/s]"
      ]
     },
     "metadata": {},
     "output_type": "display_data"
    },
    {
     "name": "stderr",
     "output_type": "stream",
     "text": [
      "GPU available: True (cuda), used: True\n",
      "TPU available: False, using: 0 TPU cores\n",
      "HPU available: False, using: 0 HPUs\n",
      "LOCAL_RANK: 0 - CUDA_VISIBLE_DEVICES: [0]\n"
     ]
    },
    {
     "data": {
      "application/vnd.jupyter.widget-view+json": {
       "model_id": "6051173d275b4c8b9bcb487c6f723b07",
       "version_major": 2,
       "version_minor": 0
      },
      "text/plain": [
       "Predicting: |          | 0/? [00:00<?, ?it/s]"
      ]
     },
     "metadata": {},
     "output_type": "display_data"
    },
    {
     "name": "stderr",
     "output_type": "stream",
     "text": [
      "GPU available: True (cuda), used: True\n",
      "TPU available: False, using: 0 TPU cores\n",
      "HPU available: False, using: 0 HPUs\n",
      "LOCAL_RANK: 0 - CUDA_VISIBLE_DEVICES: [0]\n"
     ]
    },
    {
     "data": {
      "application/vnd.jupyter.widget-view+json": {
       "model_id": "c718e89701204e98b40b94b2dee30901",
       "version_major": 2,
       "version_minor": 0
      },
      "text/plain": [
       "Predicting: |          | 0/? [00:00<?, ?it/s]"
      ]
     },
     "metadata": {},
     "output_type": "display_data"
    },
    {
     "name": "stderr",
     "output_type": "stream",
     "text": [
      "GPU available: True (cuda), used: True\n",
      "TPU available: False, using: 0 TPU cores\n",
      "HPU available: False, using: 0 HPUs\n",
      "LOCAL_RANK: 0 - CUDA_VISIBLE_DEVICES: [0]\n"
     ]
    },
    {
     "data": {
      "application/vnd.jupyter.widget-view+json": {
       "model_id": "15259d3a7ecd4c0c85674fb8b1e1e2d9",
       "version_major": 2,
       "version_minor": 0
      },
      "text/plain": [
       "Predicting: |          | 0/? [00:00<?, ?it/s]"
      ]
     },
     "metadata": {},
     "output_type": "display_data"
    }
   ],
   "source": [
    "ULSTMProcessor = UpdatingModelLSTMProcessor(overall_df=updated_df, dates = [\"2024-10-05\", \"2024-10-19\", \"2024-11-02\", \"2024-11-16\", \"2024-12-07\"])\n",
    "ULSTMProcessor.create_training_dfs('y')\n",
    "ULSTMProcessor.load_models(paths=[\"AutoLSTM Models/updating_models/LSTM_Updating1_AllStates/\", \"AutoLSTM Models/updating_models/LSTM_Updating2_AllStates/\", \"AutoLSTM Models/updating_models/LSTM_Updating3_AllStates/\", \"AutoLSTM Models/updating_models/LSTM_Updating4_AllStates/\", \"AutoLSTM Models/updating_models/LSTM_Updating5_AllStates/\"])\n",
    "ULSTMProcessor.create_models(h = 4, freq = \"W-SAT\", model_names = [\"LSTM_Updating1_AllStates\", \"LSTM_Updating2_AllStates\", \"LSTM_Updating3_AllStates\", \"LSTM_Updating4_AllStates\", \"LSTM_Updating5_AllStates\"], level = confidence_intervals, save = True)"
   ]
  },
  {
   "cell_type": "code",
   "execution_count": 11,
   "id": "5636b213-8210-49ce-850f-7d50f092ea62",
   "metadata": {
    "tags": []
   },
   "outputs": [
    {
     "name": "stderr",
     "output_type": "stream",
     "text": [
      "[rank: 0] Seed set to 34868\n",
      "GPU available: True (cuda), used: True\n",
      "TPU available: False, using: 0 TPU cores\n",
      "HPU available: False, using: 0 HPUs\n",
      "LOCAL_RANK: 0 - CUDA_VISIBLE_DEVICES: [0]\n"
     ]
    },
    {
     "data": {
      "application/vnd.jupyter.widget-view+json": {
       "model_id": "3f8f874fecfc418290fda8e11a7d5d8a",
       "version_major": 2,
       "version_minor": 0
      },
      "text/plain": [
       "Predicting: |          | 0/? [00:00<?, ?it/s]"
      ]
     },
     "metadata": {},
     "output_type": "display_data"
    },
    {
     "name": "stderr",
     "output_type": "stream",
     "text": [
      "GPU available: True (cuda), used: True\n",
      "TPU available: False, using: 0 TPU cores\n",
      "HPU available: False, using: 0 HPUs\n",
      "LOCAL_RANK: 0 - CUDA_VISIBLE_DEVICES: [0]\n"
     ]
    },
    {
     "data": {
      "application/vnd.jupyter.widget-view+json": {
       "model_id": "47f59bd524924b6f84f20a3513b8b100",
       "version_major": 2,
       "version_minor": 0
      },
      "text/plain": [
       "Predicting: |          | 0/? [00:00<?, ?it/s]"
      ]
     },
     "metadata": {},
     "output_type": "display_data"
    },
    {
     "name": "stderr",
     "output_type": "stream",
     "text": [
      "GPU available: True (cuda), used: True\n",
      "TPU available: False, using: 0 TPU cores\n",
      "HPU available: False, using: 0 HPUs\n",
      "LOCAL_RANK: 0 - CUDA_VISIBLE_DEVICES: [0]\n"
     ]
    },
    {
     "data": {
      "application/vnd.jupyter.widget-view+json": {
       "model_id": "4ec0adbe76c540a484df82c275967189",
       "version_major": 2,
       "version_minor": 0
      },
      "text/plain": [
       "Predicting: |          | 0/? [00:00<?, ?it/s]"
      ]
     },
     "metadata": {},
     "output_type": "display_data"
    },
    {
     "name": "stderr",
     "output_type": "stream",
     "text": [
      "GPU available: True (cuda), used: True\n",
      "TPU available: False, using: 0 TPU cores\n",
      "HPU available: False, using: 0 HPUs\n",
      "LOCAL_RANK: 0 - CUDA_VISIBLE_DEVICES: [0]\n"
     ]
    },
    {
     "data": {
      "application/vnd.jupyter.widget-view+json": {
       "model_id": "0dae1bdcc0694ce69a6b0e7ea125e0e1",
       "version_major": 2,
       "version_minor": 0
      },
      "text/plain": [
       "Predicting: |          | 0/? [00:00<?, ?it/s]"
      ]
     },
     "metadata": {},
     "output_type": "display_data"
    },
    {
     "name": "stderr",
     "output_type": "stream",
     "text": [
      "GPU available: True (cuda), used: True\n",
      "TPU available: False, using: 0 TPU cores\n",
      "HPU available: False, using: 0 HPUs\n",
      "LOCAL_RANK: 0 - CUDA_VISIBLE_DEVICES: [0]\n"
     ]
    },
    {
     "data": {
      "application/vnd.jupyter.widget-view+json": {
       "model_id": "46b5147b1e754357b9165ff5fa0244a8",
       "version_major": 2,
       "version_minor": 0
      },
      "text/plain": [
       "Predicting: |          | 0/? [00:00<?, ?it/s]"
      ]
     },
     "metadata": {},
     "output_type": "display_data"
    }
   ],
   "source": [
    "TSTProcessor = FixedModelPatchTSTProcessor(overall_df=updated_df, dates = [\"2024-10-05\", \"2024-10-19\", \"2024-11-02\", \"2024-11-16\", \"2024-12-07\"])\n",
    "TSTProcessor.create_training_dfs('y')\n",
    "TSTProcessor.load_fixed_model(path = \"AutoPatchTST Models/fixed_models/PatchTST_Fixed_AllStates/\")\n",
    "TSTProcessor.create_fixed_model(h = 4, freq = \"W-SAT\", model_name = \"PatchTST_Fixed_AllStates\", level = confidence_intervals, save = True)"
   ]
  },
  {
   "cell_type": "code",
   "execution_count": 12,
   "id": "8ed4f372-2902-431d-8f49-26bc6b92e84b",
   "metadata": {
    "tags": []
   },
   "outputs": [
    {
     "name": "stderr",
     "output_type": "stream",
     "text": [
      "[rank: 0] Seed set to 75381\n",
      "[rank: 0] Seed set to 3688\n",
      "[rank: 0] Seed set to 90962\n",
      "[rank: 0] Seed set to 58205\n",
      "[rank: 0] Seed set to 26964\n",
      "GPU available: True (cuda), used: True\n",
      "TPU available: False, using: 0 TPU cores\n",
      "HPU available: False, using: 0 HPUs\n",
      "LOCAL_RANK: 0 - CUDA_VISIBLE_DEVICES: [0]\n"
     ]
    },
    {
     "data": {
      "application/vnd.jupyter.widget-view+json": {
       "model_id": "9c4d35c33f74432aa55939516b2a66d3",
       "version_major": 2,
       "version_minor": 0
      },
      "text/plain": [
       "Predicting: |          | 0/? [00:00<?, ?it/s]"
      ]
     },
     "metadata": {},
     "output_type": "display_data"
    },
    {
     "name": "stderr",
     "output_type": "stream",
     "text": [
      "GPU available: True (cuda), used: True\n",
      "TPU available: False, using: 0 TPU cores\n",
      "HPU available: False, using: 0 HPUs\n",
      "LOCAL_RANK: 0 - CUDA_VISIBLE_DEVICES: [0]\n"
     ]
    },
    {
     "data": {
      "application/vnd.jupyter.widget-view+json": {
       "model_id": "c1d3f58b568a41588520a8e8e8df0af5",
       "version_major": 2,
       "version_minor": 0
      },
      "text/plain": [
       "Predicting: |          | 0/? [00:00<?, ?it/s]"
      ]
     },
     "metadata": {},
     "output_type": "display_data"
    },
    {
     "name": "stderr",
     "output_type": "stream",
     "text": [
      "GPU available: True (cuda), used: True\n",
      "TPU available: False, using: 0 TPU cores\n",
      "HPU available: False, using: 0 HPUs\n",
      "LOCAL_RANK: 0 - CUDA_VISIBLE_DEVICES: [0]\n"
     ]
    },
    {
     "data": {
      "application/vnd.jupyter.widget-view+json": {
       "model_id": "dfc211a3e5ef4bcfb6876790d861d4f5",
       "version_major": 2,
       "version_minor": 0
      },
      "text/plain": [
       "Predicting: |          | 0/? [00:00<?, ?it/s]"
      ]
     },
     "metadata": {},
     "output_type": "display_data"
    },
    {
     "name": "stderr",
     "output_type": "stream",
     "text": [
      "GPU available: True (cuda), used: True\n",
      "TPU available: False, using: 0 TPU cores\n",
      "HPU available: False, using: 0 HPUs\n",
      "LOCAL_RANK: 0 - CUDA_VISIBLE_DEVICES: [0]\n"
     ]
    },
    {
     "data": {
      "application/vnd.jupyter.widget-view+json": {
       "model_id": "38928c95256344bcb6c723773614143c",
       "version_major": 2,
       "version_minor": 0
      },
      "text/plain": [
       "Predicting: |          | 0/? [00:00<?, ?it/s]"
      ]
     },
     "metadata": {},
     "output_type": "display_data"
    },
    {
     "name": "stderr",
     "output_type": "stream",
     "text": [
      "GPU available: True (cuda), used: True\n",
      "TPU available: False, using: 0 TPU cores\n",
      "HPU available: False, using: 0 HPUs\n",
      "LOCAL_RANK: 0 - CUDA_VISIBLE_DEVICES: [0]\n"
     ]
    },
    {
     "data": {
      "application/vnd.jupyter.widget-view+json": {
       "model_id": "1f6ca338432c4308b2cd35cc576f7960",
       "version_major": 2,
       "version_minor": 0
      },
      "text/plain": [
       "Predicting: |          | 0/? [00:00<?, ?it/s]"
      ]
     },
     "metadata": {},
     "output_type": "display_data"
    }
   ],
   "source": [
    "UTSTProcessor = UpdatingModelPatchTSTProcessor(overall_df=updated_df, dates = [\"2024-10-05\", \"2024-10-19\", \"2024-11-02\", \"2024-11-16\", \"2024-12-07\"])\n",
    "UTSTProcessor.create_training_dfs(\"y\")\n",
    "UTSTProcessor.load_models(paths = [\"AutoPatchTST Models/updating_models/PatchTST_Updating1_AllStates\", \"AutoPatchTST Models/updating_models/PatchTST_Updating2_AllStates\", \"AutoPatchTST Models/updating_models/PatchTST_Updating3_AllStates\", \"AutoPatchTST Models/updating_models/PatchTST_Updating4_AllStates\", \"AutoPatchTST Models/updating_models/PatchTST_Updating5_AllStates\"])\n",
    "UTSTProcessor.create_models(h = 4, freq = \"W-SAT\", model_names = [\"PatchTST_Updating1_AllStates\", \"PatchTST_Updating2_AllStates\", \"PatchTST_Updating3_AllStates\", \"PatchTST_Updating4_AllStates\", \"PatchTST_Updating5_AllStates\"], level = confidence_intervals, save = True)"
   ]
  },
  {
   "cell_type": "code",
   "execution_count": 13,
   "id": "941e14a5-295c-41ce-a7b0-c7222181ed9b",
   "metadata": {},
   "outputs": [
    {
     "name": "stderr",
     "output_type": "stream",
     "text": [
      "/sfs/gpfs/tardis/home/hmf6av/TimeSeriesComparisons/Processors/ARIMAProcessors.py:343: RuntimeWarning: divide by zero encountered in scalar divide\n",
      "  nmse = mse/np.var(sliced_df[(sliced_df[\"ds\"] >= first_forecast_date) & (sliced_df[\"ds\"] <= final_forecast_date)][\"y\"])\n",
      "/sfs/gpfs/tardis/home/hmf6av/TimeSeriesComparisons/Processors/ARIMAProcessors.py:343: RuntimeWarning: divide by zero encountered in scalar divide\n",
      "  nmse = mse/np.var(sliced_df[(sliced_df[\"ds\"] >= first_forecast_date) & (sliced_df[\"ds\"] <= final_forecast_date)][\"y\"])\n",
      "/sfs/gpfs/tardis/home/hmf6av/TimeSeriesComparisons/Processors/ARIMAProcessors.py:343: RuntimeWarning: divide by zero encountered in scalar divide\n",
      "  nmse = mse/np.var(sliced_df[(sliced_df[\"ds\"] >= first_forecast_date) & (sliced_df[\"ds\"] <= final_forecast_date)][\"y\"])\n",
      "/sfs/gpfs/tardis/home/hmf6av/TimeSeriesComparisons/Processors/LSTMProcessors.py:210: RuntimeWarning: divide by zero encountered in scalar divide\n",
      "  nmse = mse/np.var(sliced_df[(sliced_df[\"ds\"] >= first_forecast_date) & (sliced_df[\"ds\"] <= final_forecast_date)][\"y\"])\n",
      "/sfs/gpfs/tardis/home/hmf6av/TimeSeriesComparisons/Processors/LSTMProcessors.py:210: RuntimeWarning: divide by zero encountered in scalar divide\n",
      "  nmse = mse/np.var(sliced_df[(sliced_df[\"ds\"] >= first_forecast_date) & (sliced_df[\"ds\"] <= final_forecast_date)][\"y\"])\n",
      "/sfs/gpfs/tardis/home/hmf6av/TimeSeriesComparisons/Processors/LSTMProcessors.py:210: RuntimeWarning: divide by zero encountered in scalar divide\n",
      "  nmse = mse/np.var(sliced_df[(sliced_df[\"ds\"] >= first_forecast_date) & (sliced_df[\"ds\"] <= final_forecast_date)][\"y\"])\n",
      "/sfs/gpfs/tardis/home/hmf6av/TimeSeriesComparisons/Processors/LSTMProcessors.py:442: RuntimeWarning: divide by zero encountered in scalar divide\n",
      "  nmse = mse/np.var(sliced_df[(sliced_df[\"ds\"] >= first_forecast_date) & (sliced_df[\"ds\"] <= final_forecast_date)][\"y\"])\n",
      "/sfs/gpfs/tardis/home/hmf6av/TimeSeriesComparisons/Processors/LSTMProcessors.py:442: RuntimeWarning: divide by zero encountered in scalar divide\n",
      "  nmse = mse/np.var(sliced_df[(sliced_df[\"ds\"] >= first_forecast_date) & (sliced_df[\"ds\"] <= final_forecast_date)][\"y\"])\n",
      "/sfs/gpfs/tardis/home/hmf6av/TimeSeriesComparisons/Processors/LSTMProcessors.py:442: RuntimeWarning: divide by zero encountered in scalar divide\n",
      "  nmse = mse/np.var(sliced_df[(sliced_df[\"ds\"] >= first_forecast_date) & (sliced_df[\"ds\"] <= final_forecast_date)][\"y\"])\n",
      "/sfs/gpfs/tardis/home/hmf6av/TimeSeriesComparisons/Processors/PatchTSTProcessors.py:206: RuntimeWarning: divide by zero encountered in scalar divide\n",
      "  nmse = mse/np.var(sliced_df[(sliced_df[\"ds\"] >= first_forecast_date) & (sliced_df[\"ds\"] <= final_forecast_date)][\"y\"])\n",
      "/sfs/gpfs/tardis/home/hmf6av/TimeSeriesComparisons/Processors/PatchTSTProcessors.py:206: RuntimeWarning: divide by zero encountered in scalar divide\n",
      "  nmse = mse/np.var(sliced_df[(sliced_df[\"ds\"] >= first_forecast_date) & (sliced_df[\"ds\"] <= final_forecast_date)][\"y\"])\n",
      "/sfs/gpfs/tardis/home/hmf6av/TimeSeriesComparisons/Processors/PatchTSTProcessors.py:206: RuntimeWarning: divide by zero encountered in scalar divide\n",
      "  nmse = mse/np.var(sliced_df[(sliced_df[\"ds\"] >= first_forecast_date) & (sliced_df[\"ds\"] <= final_forecast_date)][\"y\"])\n",
      "/sfs/gpfs/tardis/home/hmf6av/TimeSeriesComparisons/Processors/PatchTSTProcessors.py:434: RuntimeWarning: divide by zero encountered in scalar divide\n",
      "  nmse = mse/np.var(sliced_df[(sliced_df[\"ds\"] >= first_forecast_date) & (sliced_df[\"ds\"] <= final_forecast_date)][\"y\"])\n",
      "/sfs/gpfs/tardis/home/hmf6av/TimeSeriesComparisons/Processors/PatchTSTProcessors.py:434: RuntimeWarning: divide by zero encountered in scalar divide\n",
      "  nmse = mse/np.var(sliced_df[(sliced_df[\"ds\"] >= first_forecast_date) & (sliced_df[\"ds\"] <= final_forecast_date)][\"y\"])\n",
      "/sfs/gpfs/tardis/home/hmf6av/TimeSeriesComparisons/Processors/PatchTSTProcessors.py:434: RuntimeWarning: divide by zero encountered in scalar divide\n",
      "  nmse = mse/np.var(sliced_df[(sliced_df[\"ds\"] >= first_forecast_date) & (sliced_df[\"ds\"] <= final_forecast_date)][\"y\"])\n"
     ]
    }
   ],
   "source": [
    "#Create Display dfs and Metrics dfs\n",
    "allstates_processors = [AProcessor, UAProcessor, LSTMProcessor, ULSTMProcessor, TSTProcessor, UTSTProcessor]\n",
    "for processor in allstates_processors:\n",
    "    processor.create_metrics_df()\n",
    "    processor.create_display_df()"
   ]
  },
  {
   "cell_type": "code",
   "execution_count": null,
   "id": "48370793-c8f0-45d0-8c3e-c335ffa492ea",
   "metadata": {},
   "outputs": [],
   "source": []
  },
  {
   "cell_type": "code",
   "execution_count": null,
   "id": "fce3ba96-79f1-47c8-a06b-69c3450b72be",
   "metadata": {},
   "outputs": [],
   "source": []
  },
  {
   "cell_type": "code",
   "execution_count": null,
   "id": "e2930bd4-333e-4cee-9982-3a4eff9cb1ac",
   "metadata": {},
   "outputs": [],
   "source": []
  },
  {
   "cell_type": "code",
   "execution_count": null,
   "id": "4123d110-7579-49d8-8e8e-1e7bda618b1d",
   "metadata": {},
   "outputs": [],
   "source": []
  }
 ],
 "metadata": {
  "kernelspec": {
   "display_name": "Python 3 (ipykernel)",
   "language": "python",
   "name": "python3"
  },
  "language_info": {
   "codemirror_mode": {
    "name": "ipython",
    "version": 3
   },
   "file_extension": ".py",
   "mimetype": "text/x-python",
   "name": "python",
   "nbconvert_exporter": "python",
   "pygments_lexer": "ipython3",
   "version": "3.11.6"
  }
 },
 "nbformat": 4,
 "nbformat_minor": 5
}
