{
 "cells": [
  {
   "cell_type": "code",
   "execution_count": null,
   "id": "14bb4cd5",
   "metadata": {
    "tags": []
   },
   "outputs": [],
   "source": [
    "import pandas as pd \n",
    "import numpy as np\n",
    "import matplotlib.pyplot as plt\n",
    "\n",
    "import cufflinks as cf\n",
    "from plotly import __version__\n",
    "from plotly.offline import download_plotlyjs, init_notebook_mode, plot, iplot\n",
    "\n",
    "cf.go_offline()\n",
    "\n",
    "%matplotlib inline"
   ]
  },
  {
   "cell_type": "code",
   "execution_count": null,
   "id": "a584251e-edeb-47e5-9d01-fcb8eb458a1e",
   "metadata": {
    "tags": []
   },
   "outputs": [],
   "source": [
    "!pip install cufflinks"
   ]
  },
  {
   "cell_type": "code",
   "execution_count": null,
   "id": "79ee7112",
   "metadata": {
    "tags": []
   },
   "outputs": [],
   "source": [
    "from sklearn.metrics import mean_absolute_error, mean_absolute_percentage_error, mean_squared_error"
   ]
  },
  {
   "cell_type": "code",
   "execution_count": null,
   "id": "d6e23c8a",
   "metadata": {},
   "outputs": [],
   "source": [
    "from nixtla import NixtlaClient"
   ]
  },
  {
   "cell_type": "code",
   "execution_count": null,
   "id": "9af0279f",
   "metadata": {},
   "outputs": [],
   "source": [
    "nixtla_client = NixtlaClient(api_key=\"nixak-sVs734PNn3JEOMYhbwrfTAW5C9Y1Jqu3jDBlBW38DgOxX8tLmcZSmX4InxwXiiEFXllPOCcGmdKEYSZW\")"
   ]
  },
  {
   "cell_type": "code",
   "execution_count": null,
   "id": "69716f30",
   "metadata": {},
   "outputs": [],
   "source": [
    "nixtla_client.validate_api_key()"
   ]
  },
  {
   "cell_type": "code",
   "execution_count": null,
   "id": "d0c69baf",
   "metadata": {
    "tags": []
   },
   "outputs": [],
   "source": [
    "updated_df = pd.read_csv(\"https://raw.githubusercontent.com/cdcepi/FluSight-forecast-hub/refs/heads/main/target-data/target-hospital-admissions.csv\")"
   ]
  },
  {
   "cell_type": "code",
   "execution_count": null,
   "id": "dbfa8eca",
   "metadata": {
    "tags": []
   },
   "outputs": [],
   "source": [
    "updated_df = updated_df[updated_df[\"location_name\"] == \"US\"]\n",
    "updated_df = updated_df[[\"date\", \"value\"]]\n",
    "updated_df[\"date\"] = pd.to_datetime(updated_df[\"date\"])\n",
    "updated_df.set_index(\"date\", inplace = True)\n",
    "updated_df.sort_values(by = \"date\", inplace = True)\n",
    "updated_df"
   ]
  },
  {
   "cell_type": "code",
   "execution_count": null,
   "id": "dfd1dde1",
   "metadata": {
    "tags": []
   },
   "outputs": [],
   "source": [
    "updated_df.iplot(xTitle = \"Date\", yTitle = \"Count\", title = \"US Influenza Cases 2022-2025\")"
   ]
  },
  {
   "cell_type": "code",
   "execution_count": null,
   "id": "4b2aa243",
   "metadata": {
    "tags": []
   },
   "outputs": [],
   "source": [
    "oct1stweekdf = updated_df.loc[:\"2024-10-05\"]\n",
    "oct3rdweekdf = updated_df.loc[:\"2024-10-19\"]\n",
    "nov1stweekdf = updated_df.loc[:\"2024-11-02\"]\n",
    "nov3rdweekdf = updated_df.loc[:\"2024-11-16\"]\n",
    "dec1stweekdf = updated_df.loc[:\"2024-12-07\"]"
   ]
  },
  {
   "cell_type": "code",
   "execution_count": null,
   "id": "7f5a17cd",
   "metadata": {},
   "outputs": [],
   "source": []
  },
  {
   "cell_type": "code",
   "execution_count": null,
   "id": "1203908b",
   "metadata": {},
   "outputs": [],
   "source": [
    "#TimeGPT Predictions"
   ]
  },
  {
   "cell_type": "code",
   "execution_count": null,
   "id": "5a6ba7c9",
   "metadata": {},
   "outputs": [],
   "source": [
    "GPT_oct1stweekfc = nixtla_client.forecast(df = oct1stweekdf, time_col=oct1stweekdf.index.name, target_col=\"value\", h=4)\n",
    "GPT_oct1stweekfc.set_index(\"date\", inplace=True)"
   ]
  },
  {
   "cell_type": "code",
   "execution_count": null,
   "id": "4b2653aa",
   "metadata": {},
   "outputs": [],
   "source": [
    "GPT_oct3rdweekfc = nixtla_client.forecast(df = oct3rdweekdf, time_col=\"date\", target_col=\"value\", h=4)\n",
    "GPT_oct3rdweekfc.set_index(\"date\", inplace=True)"
   ]
  },
  {
   "cell_type": "code",
   "execution_count": null,
   "id": "dcef86e0",
   "metadata": {},
   "outputs": [],
   "source": [
    "GPT_nov1stweekfc = nixtla_client.forecast(df = nov1stweekdf, time_col=\"date\", target_col=\"value\", h=4)\n",
    "GPT_nov1stweekfc.set_index(\"date\", inplace=True)"
   ]
  },
  {
   "cell_type": "code",
   "execution_count": null,
   "id": "4d508677",
   "metadata": {},
   "outputs": [],
   "source": [
    "GPT_nov3rdweekfc = nixtla_client.forecast(df = nov3rdweekdf, time_col=\"date\", target_col=\"value\", h=4)\n",
    "GPT_nov3rdweekfc.set_index(\"date\", inplace=True)"
   ]
  },
  {
   "cell_type": "code",
   "execution_count": null,
   "id": "9042be6a",
   "metadata": {},
   "outputs": [],
   "source": [
    "GPT_dec1stweekfc = nixtla_client.forecast(df = dec1stweekdf, time_col=\"date\", target_col=\"value\", h=4)\n",
    "GPT_dec1stweekfc.set_index(\"date\", inplace=True)"
   ]
  },
  {
   "cell_type": "code",
   "execution_count": null,
   "id": "62960c66",
   "metadata": {},
   "outputs": [],
   "source": [
    "plottingdf = pd.DataFrame()\n",
    "plottingdf.index = updated_df.index\n",
    "plottingdf[\"Real Data\"] = updated_df[\"value\"]\n",
    "plottingdf[\"Oct 1st Week Model\"] = GPT_oct1stweekfc[\"TimeGPT\"]\n",
    "plottingdf[\"Oct 3rd Week Model\"] = GPT_oct3rdweekfc[\"TimeGPT\"]\n",
    "plottingdf[\"Nov 1st Week Model\"] = GPT_nov1stweekfc[\"TimeGPT\"]\n",
    "plottingdf[\"Nov 3rd Week Model\"] = GPT_nov3rdweekfc[\"TimeGPT\"]\n",
    "plottingdf[\"Dec 1st Week Model\"] = GPT_dec1stweekfc[\"TimeGPT\"]\n",
    "plottingdf"
   ]
  },
  {
   "cell_type": "code",
   "execution_count": null,
   "id": "4ef4e758",
   "metadata": {},
   "outputs": [],
   "source": [
    "plottingdf.iloc[-18:-4]"
   ]
  },
  {
   "cell_type": "code",
   "execution_count": null,
   "id": "05448dca",
   "metadata": {},
   "outputs": [],
   "source": [
    "plottingdf.iplot(xTitle = \"Date\", yTitle = \"Count\", title = \"TimeGPT Models vs. Real Data\")"
   ]
  },
  {
   "cell_type": "code",
   "execution_count": null,
   "id": "709a4362",
   "metadata": {},
   "outputs": [],
   "source": [
    "GPT_dec1stweekfc"
   ]
  },
  {
   "cell_type": "code",
   "execution_count": null,
   "id": "2f66ddeb",
   "metadata": {},
   "outputs": [],
   "source": [
    "#Metrics MAE\n",
    "print(mean_absolute_error(updated_df[\"value\"].loc[\"2024-10-12\":\"2024-11-02\"], GPT_oct1stweekfc[\"TimeGPT\"]))\n",
    "print(mean_absolute_error(updated_df[\"value\"].loc[\"2024-10-26\":\"2024-11-16\"], GPT_oct3rdweekfc[\"TimeGPT\"]))\n",
    "print(mean_absolute_error(updated_df[\"value\"].loc[\"2024-11-09\":\"2024-11-30\"], GPT_nov1stweekfc[\"TimeGPT\"]))\n",
    "print(mean_absolute_error(updated_df[\"value\"].loc[\"2024-11-23\":\"2024-12-14\"], GPT_nov3rdweekfc[\"TimeGPT\"])) \n",
    "print(mean_absolute_error(updated_df[\"value\"].loc[\"2024-12-14\":\"2025-01-04\"], GPT_dec1stweekfc[\"TimeGPT\"]))"
   ]
  },
  {
   "cell_type": "code",
   "execution_count": null,
   "id": "a22d3670",
   "metadata": {},
   "outputs": [],
   "source": [
    "#Metrics MSE\n",
    "print(mean_squared_error(updated_df[\"value\"].loc[\"2024-10-12\":\"2024-11-02\"], GPT_oct1stweekfc[\"TimeGPT\"]))\n",
    "print(mean_squared_error(updated_df[\"value\"].loc[\"2024-10-26\":\"2024-11-16\"], GPT_oct3rdweekfc[\"TimeGPT\"]))\n",
    "print(mean_squared_error(updated_df[\"value\"].loc[\"2024-11-09\":\"2024-11-30\"], GPT_nov1stweekfc[\"TimeGPT\"]))\n",
    "print(mean_squared_error(updated_df[\"value\"].loc[\"2024-11-23\":\"2024-12-14\"], GPT_nov3rdweekfc[\"TimeGPT\"])) \n",
    "print(mean_squared_error(updated_df[\"value\"].loc[\"2024-12-14\":\"2025-01-04\"], GPT_dec1stweekfc[\"TimeGPT\"]))"
   ]
  },
  {
   "cell_type": "code",
   "execution_count": null,
   "id": "f4f3e202",
   "metadata": {},
   "outputs": [],
   "source": [
    "#Metrics MAPE\n",
    "print(mean_absolute_percentage_error(updated_df[\"value\"].loc[\"2024-10-12\":\"2024-11-02\"], GPT_oct1stweekfc[\"TimeGPT\"]))\n",
    "print(mean_absolute_percentage_error(updated_df[\"value\"].loc[\"2024-10-26\":\"2024-11-16\"], GPT_oct3rdweekfc[\"TimeGPT\"]))\n",
    "print(mean_absolute_percentage_error(updated_df[\"value\"].loc[\"2024-11-09\":\"2024-11-30\"], GPT_nov1stweekfc[\"TimeGPT\"]))\n",
    "print(mean_absolute_percentage_error(updated_df[\"value\"].loc[\"2024-11-23\":\"2024-12-14\"], GPT_nov3rdweekfc[\"TimeGPT\"])) \n",
    "print(mean_absolute_percentage_error(updated_df[\"value\"].loc[\"2024-12-14\":\"2025-01-04\"], GPT_dec1stweekfc[\"TimeGPT\"]))"
   ]
  },
  {
   "cell_type": "code",
   "execution_count": null,
   "id": "4b9937b9",
   "metadata": {
    "tags": []
   },
   "outputs": [],
   "source": [
    "def nmse_sklearn(y_true, y_pred):\n",
    "    return mean_squared_error(y_true, y_pred) / np.var(y_true)"
   ]
  },
  {
   "cell_type": "code",
   "execution_count": null,
   "id": "2a692dbe",
   "metadata": {},
   "outputs": [],
   "source": [
    "#Metrics NMSE\n",
    "print(nmse_sklearn(updated_df[\"value\"].loc[\"2024-10-12\":\"2024-11-02\"], GPT_oct1stweekfc[\"TimeGPT\"]))\n",
    "print(nmse_sklearn(updated_df[\"value\"].loc[\"2024-10-26\":\"2024-11-16\"], GPT_oct3rdweekfc[\"TimeGPT\"]))\n",
    "print(nmse_sklearn(updated_df[\"value\"].loc[\"2024-11-09\":\"2024-11-30\"], GPT_nov1stweekfc[\"TimeGPT\"]))\n",
    "print(nmse_sklearn(updated_df[\"value\"].loc[\"2024-11-23\":\"2024-12-14\"], GPT_nov3rdweekfc[\"TimeGPT\"])) \n",
    "print(nmse_sklearn(updated_df[\"value\"].loc[\"2024-12-14\":\"2025-01-04\"], GPT_dec1stweekfc[\"TimeGPT\"]))"
   ]
  },
  {
   "cell_type": "code",
   "execution_count": null,
   "id": "2472be3a",
   "metadata": {
    "tags": []
   },
   "outputs": [],
   "source": [
    "#ARIMA Modeling w/ Nixtla\n",
    "#Having a problem with using index as the date column, so will add this dummy date2 column to all of the training data frames\n",
    "\n",
    "oct1stweekdf['date2'] = oct1stweekdf.index\n",
    "oct3rdweekdf[\"date2\"] = oct3rdweekdf.index\n",
    "nov1stweekdf[\"date2\"] = nov1stweekdf.index\n",
    "nov3rdweekdf[\"date2\"] = nov3rdweekdf.index\n",
    "dec1stweekdf[\"date2\"] = dec1stweekdf.index"
   ]
  },
  {
   "cell_type": "code",
   "execution_count": null,
   "id": "1b2021b5",
   "metadata": {},
   "outputs": [],
   "source": []
  },
  {
   "cell_type": "code",
   "execution_count": null,
   "id": "644d2c8d",
   "metadata": {},
   "outputs": [],
   "source": [
    "oct1stweekdf"
   ]
  },
  {
   "cell_type": "code",
   "execution_count": null,
   "id": "89c77c3a",
   "metadata": {},
   "outputs": [],
   "source": [
    "#ARIMA Predictions"
   ]
  },
  {
   "cell_type": "code",
   "execution_count": null,
   "id": "406fd3b2",
   "metadata": {},
   "outputs": [],
   "source": [
    "from statsforecast import StatsForecast\n",
    "from statsforecast.models import AutoARIMA"
   ]
  },
  {
   "cell_type": "code",
   "execution_count": null,
   "id": "453a8cd5",
   "metadata": {},
   "outputs": [],
   "source": [
    "sf = StatsForecast(models=[AutoARIMA(season_length=52)], freq = \"W-SAT\")"
   ]
  },
  {
   "cell_type": "code",
   "execution_count": null,
   "id": "8cdeeaf4",
   "metadata": {},
   "outputs": [],
   "source": [
    "ARIMA_oct1stweekfc = sf.forecast(df = oct1stweekdf.assign(unique_id='series_1'), time_col=\"date2\", target_col=\"value\", h=4)\n",
    "ARIMA_oct1stweekfc.set_index(\"date2\", inplace=True)"
   ]
  },
  {
   "cell_type": "code",
   "execution_count": null,
   "id": "de6f1ea5",
   "metadata": {},
   "outputs": [],
   "source": [
    "ARIMA_dec1stweekfc"
   ]
  },
  {
   "cell_type": "code",
   "execution_count": null,
   "id": "3d483a24",
   "metadata": {},
   "outputs": [],
   "source": [
    "ARIMA_oct3rdweekfc = sf.forecast(df = oct3rdweekdf.assign(unique_id=\"series-1\"), time_col=\"date2\", target_col=\"value\", h = 4)\n",
    "ARIMA_oct3rdweekfc.set_index(\"date2\", inplace=True)"
   ]
  },
  {
   "cell_type": "code",
   "execution_count": null,
   "id": "2c02377a",
   "metadata": {},
   "outputs": [],
   "source": [
    "ARIMA_nov1stweekfc = sf.forecast(df = nov1stweekdf.assign(unique_id=\"series-1\"), time_col=\"date2\", target_col=\"value\", h = 4)\n",
    "ARIMA_nov1stweekfc.set_index(\"date2\", inplace=True)"
   ]
  },
  {
   "cell_type": "code",
   "execution_count": null,
   "id": "ac564d80",
   "metadata": {},
   "outputs": [],
   "source": [
    "ARIMA_nov3rdweekfc = sf.forecast(df = nov3rdweekdf.assign(unique_id=\"series-1\"), time_col=\"date2\", target_col=\"value\", h = 4)\n",
    "ARIMA_nov3rdweekfc.set_index(\"date2\", inplace=True)"
   ]
  },
  {
   "cell_type": "code",
   "execution_count": null,
   "id": "e0d625c9",
   "metadata": {},
   "outputs": [],
   "source": [
    "ARIMA_dec1stweekfc = sf.forecast(df = dec1stweekdf.assign(unique_id=\"series-1\"), time_col=\"date2\", target_col=\"value\", h = 4)\n",
    "ARIMA_dec1stweekfc.set_index(\"date2\", inplace=True)"
   ]
  },
  {
   "cell_type": "code",
   "execution_count": null,
   "id": "e8042f6e",
   "metadata": {},
   "outputs": [],
   "source": [
    "ARIMA_dec1stweekfc"
   ]
  },
  {
   "cell_type": "code",
   "execution_count": null,
   "id": "b45dd0e1",
   "metadata": {},
   "outputs": [],
   "source": [
    "ARIMA_plottingdf = pd.DataFrame()\n",
    "ARIMA_plottingdf.index = updated_df.index\n",
    "ARIMA_plottingdf[\"Real Data\"] = updated_df[\"value\"]\n",
    "\n",
    "ARIMA_plottingdf[\"Oct 1st Week Model\"] = ARIMA_oct1stweekfc[\"AutoARIMA\"]\n",
    "ARIMA_plottingdf[\"Oct 3rd Week Model\"] = ARIMA_oct3rdweekfc[\"AutoARIMA\"]\n",
    "ARIMA_plottingdf[\"Nov 1st Week Model\"] = ARIMA_nov1stweekfc[\"AutoARIMA\"]\n",
    "ARIMA_plottingdf[\"Nov 3rd Week Model\"] = ARIMA_nov3rdweekfc[\"AutoARIMA\"]\n",
    "ARIMA_plottingdf[\"Dec 1st Week Model\"] = ARIMA_dec1stweekfc[\"AutoARIMA\"]\n",
    "ARIMA_plottingdf"
   ]
  },
  {
   "cell_type": "code",
   "execution_count": null,
   "id": "6a246250",
   "metadata": {},
   "outputs": [],
   "source": [
    "ARIMA_plottingdf.iloc[-18:-4]"
   ]
  },
  {
   "cell_type": "code",
   "execution_count": null,
   "id": "13903b17",
   "metadata": {},
   "outputs": [],
   "source": []
  },
  {
   "cell_type": "code",
   "execution_count": null,
   "id": "4ffec1ac",
   "metadata": {},
   "outputs": [],
   "source": [
    "ARIMA_plottingdf.iplot(xTitle = \"Date\", yTitle = \"Count\", title = \"ARIMA Models vs. Real Data\")"
   ]
  },
  {
   "cell_type": "code",
   "execution_count": null,
   "id": "77d3b52b",
   "metadata": {},
   "outputs": [],
   "source": [
    "#Metrics MAE\n",
    "print(mean_absolute_error(updated_df[\"value\"].loc[\"2024-10-12\":\"2024-11-02\"], ARIMA_oct1stweekfc[\"AutoARIMA\"]))\n",
    "print(mean_absolute_error(updated_df[\"value\"].loc[\"2024-10-26\":\"2024-11-16\"], ARIMA_oct3rdweekfc[\"AutoARIMA\"]))\n",
    "print(mean_absolute_error(updated_df[\"value\"].loc[\"2024-11-09\":\"2024-11-30\"], ARIMA_nov1stweekfc[\"AutoARIMA\"]))\n",
    "print(mean_absolute_error(updated_df[\"value\"].loc[\"2024-11-23\":\"2024-12-14\"], ARIMA_nov3rdweekfc[\"AutoARIMA\"])) \n",
    "print(mean_absolute_error(updated_df[\"value\"].loc[\"2024-12-14\":\"2025-01-04\"], ARIMA_dec1stweekfc[\"AutoARIMA\"]))"
   ]
  },
  {
   "cell_type": "code",
   "execution_count": null,
   "id": "956e08b2",
   "metadata": {},
   "outputs": [],
   "source": [
    "#Metrics MSE\n",
    "print(mean_squared_error(updated_df[\"value\"].loc[\"2024-10-12\":\"2024-11-02\"], ARIMA_oct1stweekfc[\"AutoARIMA\"]))\n",
    "print(mean_squared_error(updated_df[\"value\"].loc[\"2024-10-26\":\"2024-11-16\"], ARIMA_oct3rdweekfc[\"AutoARIMA\"]))\n",
    "print(mean_squared_error(updated_df[\"value\"].loc[\"2024-11-09\":\"2024-11-30\"], ARIMA_nov1stweekfc[\"AutoARIMA\"]))\n",
    "print(mean_squared_error(updated_df[\"value\"].loc[\"2024-11-23\":\"2024-12-14\"], ARIMA_nov3rdweekfc[\"AutoARIMA\"])) \n",
    "print(mean_squared_error(updated_df[\"value\"].loc[\"2024-12-14\":\"2025-01-04\"], ARIMA_dec1stweekfc[\"AutoARIMA\"]))"
   ]
  },
  {
   "cell_type": "code",
   "execution_count": null,
   "id": "71e06a52",
   "metadata": {},
   "outputs": [],
   "source": [
    "#Metrics MAPE\n",
    "print(mean_absolute_percentage_error(updated_df[\"value\"].loc[\"2024-10-12\":\"2024-11-02\"], ARIMA_oct1stweekfc[\"AutoARIMA\"]))\n",
    "print(mean_absolute_percentage_error(updated_df[\"value\"].loc[\"2024-10-26\":\"2024-11-16\"], ARIMA_oct3rdweekfc[\"AutoARIMA\"]))\n",
    "print(mean_absolute_percentage_error(updated_df[\"value\"].loc[\"2024-11-09\":\"2024-11-30\"], ARIMA_nov1stweekfc[\"AutoARIMA\"]))\n",
    "print(mean_absolute_percentage_error(updated_df[\"value\"].loc[\"2024-11-23\":\"2024-12-14\"], ARIMA_nov3rdweekfc[\"AutoARIMA\"])) \n",
    "print(mean_absolute_percentage_error(updated_df[\"value\"].loc[\"2024-12-14\":\"2025-01-04\"], ARIMA_dec1stweekfc[\"AutoARIMA\"]))"
   ]
  },
  {
   "cell_type": "code",
   "execution_count": null,
   "id": "3e697f33",
   "metadata": {},
   "outputs": [],
   "source": [
    "#Metrics NMSE\n",
    "print(nmse_sklearn(updated_df[\"value\"].loc[\"2024-10-12\":\"2024-11-02\"], ARIMA_oct1stweekfc[\"AutoARIMA\"]))\n",
    "print(nmse_sklearn(updated_df[\"value\"].loc[\"2024-10-26\":\"2024-11-16\"], ARIMA_oct3rdweekfc[\"AutoARIMA\"]))\n",
    "print(nmse_sklearn(updated_df[\"value\"].loc[\"2024-11-09\":\"2024-11-30\"], ARIMA_nov1stweekfc[\"AutoARIMA\"]))\n",
    "print(nmse_sklearn(updated_df[\"value\"].loc[\"2024-11-23\":\"2024-12-14\"], ARIMA_nov3rdweekfc[\"AutoARIMA\"])) \n",
    "print(nmse_sklearn(updated_df[\"value\"].loc[\"2024-12-14\":\"2025-01-04\"], ARIMA_dec1stweekfc[\"AutoARIMA\"]))"
   ]
  },
  {
   "cell_type": "code",
   "execution_count": null,
   "id": "93abc455",
   "metadata": {},
   "outputs": [],
   "source": [
    "#LSTM"
   ]
  },
  {
   "cell_type": "code",
   "execution_count": null,
   "id": "9aafa226",
   "metadata": {
    "tags": []
   },
   "outputs": [],
   "source": [
    "import logging\n",
    "\n",
    "from neuralforecast import NeuralForecast\n",
    "from neuralforecast.models import LSTM"
   ]
  },
  {
   "cell_type": "code",
   "execution_count": null,
   "id": "9d18deda",
   "metadata": {
    "tags": []
   },
   "outputs": [],
   "source": [
    "oct1stweeknf = NeuralForecast(models=[LSTM(h=4)], freq = \"W-SAT\")"
   ]
  },
  {
   "cell_type": "code",
   "execution_count": null,
   "id": "1588ed73",
   "metadata": {
    "tags": []
   },
   "outputs": [],
   "source": [
    "NeuralForecast?"
   ]
  },
  {
   "cell_type": "code",
   "execution_count": null,
   "id": "704663f6",
   "metadata": {
    "tags": []
   },
   "outputs": [],
   "source": [
    "oct1stweeknf.fit(df = oct1stweekdf.assign(unique_id='series_1'), time_col=\"date2\", target_col=\"value\")\n",
    "\n",
    "\n"
   ]
  },
  {
   "cell_type": "code",
   "execution_count": null,
   "id": "8e8176a4-cac5-4de7-8c77-2bfe4baa2423",
   "metadata": {
    "tags": []
   },
   "outputs": [],
   "source": [
    "oct1stweekdf"
   ]
  },
  {
   "cell_type": "code",
   "execution_count": null,
   "id": "8949e01d",
   "metadata": {
    "tags": []
   },
   "outputs": [],
   "source": [
    "LSTM_oct1stweekfc = oct1stweeknf.predict()\n",
    "LSTM_oct1stweekfc.set_index(\"date2\", inplace = True)"
   ]
  },
  {
   "cell_type": "code",
   "execution_count": null,
   "id": "94c80dbb",
   "metadata": {
    "tags": []
   },
   "outputs": [],
   "source": [
    "oct1stweeknf.predict?"
   ]
  },
  {
   "cell_type": "code",
   "execution_count": null,
   "id": "d695d9e3",
   "metadata": {
    "tags": []
   },
   "outputs": [],
   "source": [
    "oct3rdweeknf = NeuralForecast(models=[LSTM(h=4)], freq = \"W-SAT\")\n",
    "oct3rdweeknf.fit(df = oct3rdweekdf.assign(unique_id='series_1'), time_col=\"date2\", target_col=\"value\")"
   ]
  },
  {
   "cell_type": "code",
   "execution_count": null,
   "id": "4319d6d4",
   "metadata": {
    "tags": []
   },
   "outputs": [],
   "source": [
    "LSTM_oct3rdweekfc = oct3rdweeknf.predict()\n",
    "LSTM_oct3rdweekfc.set_index(\"date2\", inplace = True)"
   ]
  },
  {
   "cell_type": "code",
   "execution_count": null,
   "id": "b01bf2de",
   "metadata": {
    "tags": []
   },
   "outputs": [],
   "source": []
  },
  {
   "cell_type": "code",
   "execution_count": null,
   "id": "26bdd5e9-48b6-4a94-a269-c2a8a85065a0",
   "metadata": {
    "tags": []
   },
   "outputs": [],
   "source": [
    "nov1stweeknf = NeuralForecast(models=[LSTM(h=4)], freq = \"W-SAT\")\n",
    "nov1stweeknf.fit(df = nov1stweekdf.assign(unique_id='series_1'), time_col=\"date2\", target_col=\"value\")"
   ]
  },
  {
   "cell_type": "code",
   "execution_count": null,
   "id": "5c44bdf7-4186-48b9-8138-2416dca726a1",
   "metadata": {
    "tags": []
   },
   "outputs": [],
   "source": [
    "LSTM_nov1stweekfc = nov1stweeknf.predict()\n",
    "LSTM_nov1stweekfc.set_index(\"date2\", inplace = True)"
   ]
  },
  {
   "cell_type": "code",
   "execution_count": null,
   "id": "24012de8-8098-46aa-a7b8-774e956babaf",
   "metadata": {
    "tags": []
   },
   "outputs": [],
   "source": []
  },
  {
   "cell_type": "code",
   "execution_count": null,
   "id": "8c35d0e3-f475-4d21-987a-30d80ead3f18",
   "metadata": {
    "tags": []
   },
   "outputs": [],
   "source": [
    "nov3rdweeknf = NeuralForecast(models=[LSTM(h=4)], freq = \"W-SAT\")\n",
    "nov3rdweeknf.fit(df = nov3rdweekdf.assign(unique_id='series_1'), time_col=\"date2\", target_col=\"value\")"
   ]
  },
  {
   "cell_type": "code",
   "execution_count": null,
   "id": "4c617e8f-33e7-4979-b5bb-20b3be2b10f0",
   "metadata": {
    "tags": []
   },
   "outputs": [],
   "source": [
    "LSTM_nov3rdweekfc = nov3rdweeknf.predict()\n",
    "LSTM_nov3rdweekfc.set_index(\"date2\", inplace = True)"
   ]
  },
  {
   "cell_type": "code",
   "execution_count": null,
   "id": "81058921-ce4a-420c-bc79-71a7b27bd923",
   "metadata": {
    "tags": []
   },
   "outputs": [],
   "source": []
  },
  {
   "cell_type": "code",
   "execution_count": null,
   "id": "adb04439-8489-4547-a588-cfb3fa55b087",
   "metadata": {
    "tags": []
   },
   "outputs": [],
   "source": [
    "dec1stweeknf = NeuralForecast(models=[LSTM(h=4)], freq = \"W-SAT\")\n",
    "dec1stweeknf.fit(df = dec1stweekdf.assign(unique_id='series_1'), time_col=\"date2\", target_col=\"value\")"
   ]
  },
  {
   "cell_type": "code",
   "execution_count": null,
   "id": "0d367beb-c50d-4856-b1b4-55c86fac8052",
   "metadata": {
    "tags": []
   },
   "outputs": [],
   "source": [
    "LSTM_dec1stweekfc = dec1stweeknf.predict()\n",
    "LSTM_dec1stweekfc.set_index(\"date2\", inplace = True)"
   ]
  },
  {
   "cell_type": "code",
   "execution_count": null,
   "id": "ca6a55b0-a299-443f-8c10-e0ed9f940d03",
   "metadata": {
    "tags": []
   },
   "outputs": [],
   "source": []
  },
  {
   "cell_type": "code",
   "execution_count": null,
   "id": "294f3a7f-3904-4f76-b33c-2073bc269d4c",
   "metadata": {
    "tags": []
   },
   "outputs": [],
   "source": [
    "LSTM_plottingdf = pd.DataFrame()\n",
    "LSTM_plottingdf.index = updated_df.index\n",
    "LSTM_plottingdf[\"Real Data\"] = updated_df[\"value\"]\n",
    "\n",
    "LSTM_plottingdf[\"Oct 1st Week Model\"] = LSTM_oct1stweekfc[\"LSTM\"]\n",
    "LSTM_plottingdf[\"Oct 3rd Week Model\"] = LSTM_oct3rdweekfc[\"LSTM\"]\n",
    "LSTM_plottingdf[\"Nov 1st Week Model\"] = LSTM_nov1stweekfc[\"LSTM\"]\n",
    "LSTM_plottingdf[\"Nov 3rd Week Model\"] = LSTM_nov3rdweekfc[\"LSTM\"]\n",
    "LSTM_plottingdf[\"Dec 1st Week Model\"] = LSTM_dec1stweekfc[\"LSTM\"]"
   ]
  },
  {
   "cell_type": "code",
   "execution_count": null,
   "id": "ff5d61d9-7189-4074-8241-5220567974bb",
   "metadata": {
    "tags": []
   },
   "outputs": [],
   "source": [
    "LSTM_plottingdf.iloc[-18:-4]"
   ]
  },
  {
   "cell_type": "code",
   "execution_count": null,
   "id": "38c349db-4afa-424d-a240-091e198e0c91",
   "metadata": {
    "tags": []
   },
   "outputs": [],
   "source": [
    "LSTM_plottingdf.iplot(xTitle = \"Date\", yTitle = \"Count\", title = \"LSTM Models vs. Real Data\")"
   ]
  },
  {
   "cell_type": "code",
   "execution_count": null,
   "id": "c0c859fd-05f0-43ad-aa65-1c2a056e30bf",
   "metadata": {},
   "outputs": [],
   "source": []
  },
  {
   "cell_type": "code",
   "execution_count": null,
   "id": "f892fa42-aaed-4006-a970-690f2be447c1",
   "metadata": {
    "tags": []
   },
   "outputs": [],
   "source": [
    "#Metrics MAE\n",
    "print(mean_absolute_error(updated_df[\"value\"].loc[\"2024-10-12\":\"2024-11-02\"], LSTM_oct1stweekfc[\"LSTM\"]))\n",
    "print(mean_absolute_error(updated_df[\"value\"].loc[\"2024-10-26\":\"2024-11-16\"], LSTM_oct3rdweekfc[\"LSTM\"]))\n",
    "print(mean_absolute_error(updated_df[\"value\"].loc[\"2024-11-09\":\"2024-11-30\"], LSTM_nov1stweekfc[\"LSTM\"]))\n",
    "print(mean_absolute_error(updated_df[\"value\"].loc[\"2024-11-23\":\"2024-12-14\"], LSTM_nov3rdweekfc[\"LSTM\"])) \n",
    "print(mean_absolute_error(updated_df[\"value\"].loc[\"2024-12-14\":\"2025-01-04\"], LSTM_dec1stweekfc[\"LSTM\"]))"
   ]
  },
  {
   "cell_type": "code",
   "execution_count": null,
   "id": "da8b1c98-1844-4f4b-bf83-de4b60c9f20e",
   "metadata": {
    "tags": []
   },
   "outputs": [],
   "source": [
    "#Metrics MSE\n",
    "print(mean_squared_error(updated_df[\"value\"].loc[\"2024-10-12\":\"2024-11-02\"], LSTM_oct1stweekfc[\"LSTM\"]))\n",
    "print(mean_squared_error(updated_df[\"value\"].loc[\"2024-10-26\":\"2024-11-16\"], LSTM_oct3rdweekfc[\"LSTM\"]))\n",
    "print(mean_squared_error(updated_df[\"value\"].loc[\"2024-11-09\":\"2024-11-30\"], LSTM_nov1stweekfc[\"LSTM\"]))\n",
    "print(mean_squared_error(updated_df[\"value\"].loc[\"2024-11-23\":\"2024-12-14\"], LSTM_nov3rdweekfc[\"LSTM\"])) \n",
    "print(mean_squared_error(updated_df[\"value\"].loc[\"2024-12-14\":\"2025-01-04\"], LSTM_dec1stweekfc[\"LSTM\"]))"
   ]
  },
  {
   "cell_type": "code",
   "execution_count": null,
   "id": "be534e8e-4e04-4aff-aa26-632a20444039",
   "metadata": {
    "tags": []
   },
   "outputs": [],
   "source": [
    "#Metrics MAPE\n",
    "print(mean_absolute_percentage_error(updated_df[\"value\"].loc[\"2024-10-12\":\"2024-11-02\"], LSTM_oct1stweekfc[\"LSTM\"]))\n",
    "print(mean_absolute_percentage_error(updated_df[\"value\"].loc[\"2024-10-26\":\"2024-11-16\"], LSTM_oct3rdweekfc[\"LSTM\"]))\n",
    "print(mean_absolute_percentage_error(updated_df[\"value\"].loc[\"2024-11-09\":\"2024-11-30\"], LSTM_nov1stweekfc[\"LSTM\"]))\n",
    "print(mean_absolute_percentage_error(updated_df[\"value\"].loc[\"2024-11-23\":\"2024-12-14\"], LSTM_nov3rdweekfc[\"LSTM\"])) \n",
    "print(mean_absolute_percentage_error(updated_df[\"value\"].loc[\"2024-12-14\":\"2025-01-04\"], LSTM_dec1stweekfc[\"LSTM\"]))"
   ]
  },
  {
   "cell_type": "code",
   "execution_count": null,
   "id": "2cbc8908-4534-40d5-a92c-69c63491970b",
   "metadata": {
    "tags": []
   },
   "outputs": [],
   "source": [
    "#Metrics NMSE\n",
    "print(nmse_sklearn(updated_df[\"value\"].loc[\"2024-10-12\":\"2024-11-02\"], LSTM_oct1stweekfc[\"LSTM\"]))\n",
    "print(nmse_sklearn(updated_df[\"value\"].loc[\"2024-10-26\":\"2024-11-16\"], LSTM_oct3rdweekfc[\"LSTM\"]))\n",
    "print(nmse_sklearn(updated_df[\"value\"].loc[\"2024-11-09\":\"2024-11-30\"], LSTM_nov1stweekfc[\"LSTM\"]))\n",
    "print(nmse_sklearn(updated_df[\"value\"].loc[\"2024-11-23\":\"2024-12-14\"], LSTM_nov3rdweekfc[\"LSTM\"])) \n",
    "print(nmse_sklearn(updated_df[\"value\"].loc[\"2024-12-14\":\"2025-01-04\"], LSTM_dec1stweekfc[\"LSTM\"]))"
   ]
  },
  {
   "cell_type": "code",
   "execution_count": null,
   "id": "a7ce4bf8-8381-455a-b1f5-65d7620ee255",
   "metadata": {
    "tags": []
   },
   "outputs": [],
   "source": [
    "LSTM_oct1stweekfc"
   ]
  },
  {
   "cell_type": "code",
   "execution_count": null,
   "id": "aafa88af-4b29-4ca7-a803-1b8e9c263793",
   "metadata": {},
   "outputs": [],
   "source": []
  }
 ],
 "metadata": {
  "kernelspec": {
   "display_name": "Python 3 (ipykernel)",
   "language": "python",
   "name": "python3"
  },
  "language_info": {
   "codemirror_mode": {
    "name": "ipython",
    "version": 3
   },
   "file_extension": ".py",
   "mimetype": "text/x-python",
   "name": "python",
   "nbconvert_exporter": "python",
   "pygments_lexer": "ipython3",
   "version": "3.11.6"
  }
 },
 "nbformat": 4,
 "nbformat_minor": 5
}
