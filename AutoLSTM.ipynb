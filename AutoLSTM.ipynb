{
 "cells": [
  {
   "cell_type": "code",
   "execution_count": null,
   "id": "1049c124-d86c-4e31-9b75-c1628f2a0185",
   "metadata": {
    "tags": []
   },
   "outputs": [],
   "source": [
    "import pandas as pd \n",
    "import numpy as np\n",
    "import matplotlib.pyplot as plt\n",
    "\n",
    "import cufflinks as cf\n",
    "from plotly import __version__\n",
    "from plotly.offline import download_plotlyjs, init_notebook_mode, plot, iplot\n",
    "\n",
    "cf.go_offline()\n",
    "\n",
    "%matplotlib inline"
   ]
  },
  {
   "cell_type": "code",
   "execution_count": null,
   "id": "8f9a3c74-60c0-4e86-8b19-9dfe4780c30c",
   "metadata": {
    "tags": []
   },
   "outputs": [],
   "source": [
    "from sklearn.metrics import mean_absolute_error, mean_absolute_percentage_error, mean_squared_error"
   ]
  },
  {
   "cell_type": "code",
   "execution_count": null,
   "id": "97e8b991-f8cb-4db9-894f-51dd4cad7c7f",
   "metadata": {
    "tags": []
   },
   "outputs": [],
   "source": [
    "updated_df = pd.read_csv(\"https://raw.githubusercontent.com/cdcepi/FluSight-forecast-hub/refs/heads/main/target-data/target-hospital-admissions.csv\")"
   ]
  },
  {
   "cell_type": "code",
   "execution_count": null,
   "id": "adcb9fb1-14c6-4252-a18e-69c0999c6731",
   "metadata": {
    "tags": []
   },
   "outputs": [],
   "source": [
    "updated_df = updated_df[updated_df[\"location_name\"] == \"US\"]\n",
    "updated_df = updated_df[[\"date\", \"value\"]]\n",
    "updated_df[\"date\"] = pd.to_datetime(updated_df[\"date\"])\n",
    "updated_df.set_index(\"date\", inplace = True)\n",
    "updated_df.sort_values(by = \"date\", inplace = True)\n",
    "updated_df"
   ]
  },
  {
   "cell_type": "code",
   "execution_count": null,
   "id": "6831b969-e357-493d-a53c-546ac5b93cfb",
   "metadata": {
    "tags": []
   },
   "outputs": [],
   "source": [
    "updated_df.iplot(xTitle = \"Date\", yTitle = \"Count\", title = \"US Influenza Cases 2022-2025\")"
   ]
  },
  {
   "cell_type": "code",
   "execution_count": null,
   "id": "f2dad078-04a4-4a22-acc0-b3254eba0f80",
   "metadata": {
    "tags": []
   },
   "outputs": [],
   "source": [
    "#Let's create an AutoLSTM model that is trained up to October 5, fix these parameters and create expanding window models\n",
    "oct1stweekdf = updated_df.loc[:\"2024-10-05\"]\n",
    "oct1stweekdf['ds'] = oct1stweekdf.index\n",
    "oct1stweekdf[\"unique_id\"] = \"series_1\"\n",
    "oct1stweekdf = oct1stweekdf.rename(columns = {\"value\": \"y\"})\n",
    "oct1stweekdf"
   ]
  },
  {
   "cell_type": "code",
   "execution_count": null,
   "id": "7ad4b29b-7db6-4cdf-a3de-d50d28c12927",
   "metadata": {
    "tags": []
   },
   "outputs": [],
   "source": [
    "from neuralforecast.auto import AutoLSTM\n",
    "from neuralforecast.tsdataset import TimeSeriesDataset"
   ]
  },
  {
   "cell_type": "code",
   "execution_count": null,
   "id": "4b1a6f95-f4b9-4465-a1f3-233c58b8a340",
   "metadata": {
    "tags": []
   },
   "outputs": [],
   "source": [
    "dataset, *_ = TimeSeriesDataset.from_df(oct1stweekdf)"
   ]
  },
  {
   "cell_type": "code",
   "execution_count": null,
   "id": "07440b88-19e2-4a20-9699-5bc61316d6b2",
   "metadata": {
    "tags": []
   },
   "outputs": [],
   "source": [
    "type(dataset)"
   ]
  },
  {
   "cell_type": "code",
   "execution_count": null,
   "id": "6b7c883d-545c-41f6-ab09-4351fe212294",
   "metadata": {
    "tags": []
   },
   "outputs": [],
   "source": [
    "config = dict(input_size = np.array([-1, 10, 50]), random_seed = 101, inference_input_size = -1)\n",
    "LSTMmodel = AutoLSTM(h = 4, backend = \"optuna\")\n",
    "LSTMmodel.fit(dataset = dataset)"
   ]
  },
  {
   "cell_type": "code",
   "execution_count": null,
   "id": "99549b41-b463-4f54-b659-b3d2c4fa4a5a",
   "metadata": {
    "tags": []
   },
   "outputs": [],
   "source": [
    "#Best trial is trial 1 with parameters:\n",
    "\n",
    "#{'encoder_hidden_size': 50, 'encoder_n_layers': 1, 'context_size': 10, 'decoder_hidden_size': 64, 'learning_rate': 0.016517696726627108, \n",
    "#'max_steps': 1000, 'batch_size': 32, 'random_seed': 14, 'input_size': 256, 'inference_input_size': -4}\n",
    "\n",
    "#{'encoder_hidden_size': 50, 'encoder_n_layers': 4, 'context_size': 10, 'decoder_hidden_size': 512, 'learning_rate': 0.0015323956353622784, \n",
    "#'max_steps': 500, 'batch_size': 16, 'random_seed': 3, 'input_size': -4, 'inference_input_size': -4}"
   ]
  },
  {
   "cell_type": "code",
   "execution_count": null,
   "id": "a1b85fb2-1585-4c0f-a108-ac72a792bbf1",
   "metadata": {
    "tags": []
   },
   "outputs": [],
   "source": [
    "y_hat = LSTMmodel.predict(dataset = dataset)"
   ]
  },
  {
   "cell_type": "code",
   "execution_count": null,
   "id": "b4afd871-95c2-431d-abe3-964367eeba8b",
   "metadata": {
    "tags": []
   },
   "outputs": [],
   "source": []
  },
  {
   "cell_type": "code",
   "execution_count": null,
   "id": "d2792147-4cfc-4ea0-ad89-7f404483b4c4",
   "metadata": {
    "tags": []
   },
   "outputs": [],
   "source": [
    "y_hat"
   ]
  },
  {
   "cell_type": "code",
   "execution_count": null,
   "id": "ca5e6273-4f4a-424e-a5ce-77b914468020",
   "metadata": {
    "tags": []
   },
   "outputs": [],
   "source": [
    "#Setting up other dataframes to run normal LSTM with specified parameters\n",
    "oct3rdweekdf = updated_df.loc[:\"2024-10-19\"]\n",
    "nov1stweekdf = updated_df.loc[:\"2024-11-02\"]\n",
    "nov3rdweekdf = updated_df.loc[:\"2024-11-16\"]\n",
    "dec1stweekdf = updated_df.loc[:\"2024-12-07\"]"
   ]
  },
  {
   "cell_type": "code",
   "execution_count": null,
   "id": "9e3b6381-5b24-4615-b116-d949ff8b3cb4",
   "metadata": {
    "tags": []
   },
   "outputs": [],
   "source": [
    "#Adding in ds column to these dataframes\n",
    "oct3rdweekdf[\"ds\"] = oct3rdweekdf.index\n",
    "nov1stweekdf[\"ds\"] = nov1stweekdf.index\n",
    "nov3rdweekdf[\"ds\"] = nov3rdweekdf.index\n",
    "dec1stweekdf[\"ds\"] = dec1stweekdf.index"
   ]
  },
  {
   "cell_type": "code",
   "execution_count": null,
   "id": "5ce8201f-e54d-4999-b738-197bb1a7dedf",
   "metadata": {
    "tags": []
   },
   "outputs": [],
   "source": [
    "from neuralforecast import NeuralForecast\n",
    "from neuralforecast.models import LSTM"
   ]
  },
  {
   "cell_type": "code",
   "execution_count": null,
   "id": "14f474ee-3a44-4bcb-afb2-462f4dbfda25",
   "metadata": {
    "tags": []
   },
   "outputs": [],
   "source": [
    "oct3rdweeknf = NeuralForecast(models=[LSTM(h=4, encoder_n_layers = 1, context_size = 10, decoder_hidden_size = 64, learning_rate = 0.016517696726627108, max_steps = 1000, batch_size = 32, random_seed = 14, input_size = 256, inference_input_size = -4)], freq = \"W-SAT\")\n",
    "oct3rdweeknf.fit(df = oct3rdweekdf.assign(unique_id='series_1'), time_col=\"ds\", target_col=\"value\")"
   ]
  },
  {
   "cell_type": "code",
   "execution_count": null,
   "id": "f26bae58-07f3-445a-8c89-8938eb07f170",
   "metadata": {
    "tags": []
   },
   "outputs": [],
   "source": [
    "LSTM_oct3rdweekfc = oct3rdweeknf.predict()\n",
    "LSTM_oct3rdweekfc.set_index(\"ds\", inplace = True)"
   ]
  },
  {
   "cell_type": "code",
   "execution_count": null,
   "id": "82844187-59ec-4db1-82a9-4d1174044265",
   "metadata": {
    "tags": []
   },
   "outputs": [],
   "source": [
    "LSTM_oct3rdweekfc"
   ]
  },
  {
   "cell_type": "code",
   "execution_count": null,
   "id": "4366b8d1-15e6-4107-8a94-cc96e0b1b7e1",
   "metadata": {
    "tags": []
   },
   "outputs": [],
   "source": [
    "nov1stweeknf = NeuralForecast(models=[LSTM(h=4, encoder_n_layers = 1, context_size = 10, decoder_hidden_size = 64, learning_rate = 0.016517696726627108, max_steps = 1000, batch_size = 32, random_seed = 14, input_size = 256, inference_input_size = -4)], freq = \"W-SAT\")\n",
    "nov1stweeknf.fit(df = nov1stweekdf.assign(unique_id='series_1'), time_col=\"ds\", target_col=\"value\")"
   ]
  },
  {
   "cell_type": "code",
   "execution_count": null,
   "id": "b3eeaba5-45aa-4883-9776-bbe8b3757377",
   "metadata": {
    "tags": []
   },
   "outputs": [],
   "source": [
    "LSTM_nov1stweekfc = nov1stweeknf.predict()\n",
    "LSTM_nov1stweekfc.set_index(\"ds\", inplace = True)"
   ]
  },
  {
   "cell_type": "code",
   "execution_count": null,
   "id": "86bca8d6-afe2-4b61-bc33-7230dfcf53be",
   "metadata": {
    "tags": []
   },
   "outputs": [],
   "source": [
    "nov3rdweeknf = NeuralForecast(models=[LSTM(h=4, encoder_n_layers = 1, context_size = 10, decoder_hidden_size = 64, learning_rate = 0.016517696726627108, max_steps = 1000, batch_size = 32, random_seed = 14, input_size = 256, inference_input_size = -4)], freq = \"W-SAT\")\n",
    "nov3rdweeknf.fit(df = nov3rdweekdf.assign(unique_id='series_1'), time_col=\"ds\", target_col=\"value\")"
   ]
  },
  {
   "cell_type": "code",
   "execution_count": null,
   "id": "41f76e16-0f8d-4e72-91be-b6ce6fcafa60",
   "metadata": {
    "tags": []
   },
   "outputs": [],
   "source": [
    "LSTM_nov3rdweekfc = nov3rdweeknf.predict()\n",
    "LSTM_nov3rdweekfc.set_index(\"ds\", inplace = True)"
   ]
  },
  {
   "cell_type": "code",
   "execution_count": null,
   "id": "32e9aa5f-795d-4bd0-839f-9ac5eb0a9462",
   "metadata": {
    "tags": []
   },
   "outputs": [],
   "source": [
    "dec1stweeknf = NeuralForecast(models=[LSTM(h=4, encoder_n_layers = 1, context_size = 10, decoder_hidden_size = 64, learning_rate = 0.016517696726627108, max_steps = 1000, batch_size = 32, random_seed = 14, input_size = 256, inference_input_size = -4)], freq = \"W-SAT\")\n",
    "dec1stweeknf.fit(df = dec1stweekdf.assign(unique_id='series_1'), time_col=\"ds\", target_col=\"value\")"
   ]
  },
  {
   "cell_type": "code",
   "execution_count": null,
   "id": "b9379964-68dd-46cd-8c6b-1da36d2d2776",
   "metadata": {
    "tags": []
   },
   "outputs": [],
   "source": [
    "LSTM_dec1stweekfc = dec1stweeknf.predict()\n",
    "LSTM_dec1stweekfc.set_index(\"ds\", inplace = True)"
   ]
  },
  {
   "cell_type": "code",
   "execution_count": null,
   "id": "cea83a6e-5dd7-4218-a5cc-5f87ea3c775e",
   "metadata": {
    "tags": []
   },
   "outputs": [],
   "source": []
  },
  {
   "cell_type": "code",
   "execution_count": null,
   "id": "d764130a-881c-4c22-8005-9727b8582a51",
   "metadata": {
    "tags": []
   },
   "outputs": [],
   "source": [
    "LSTM_oct1stweekfc = pd.DataFrame(y_hat.ravel(), index = pd.to_datetime([\"2024-10-12\", \"2024-10-19\", \"2024-10-26\", \"2024-11-02\"]))"
   ]
  },
  {
   "cell_type": "code",
   "execution_count": null,
   "id": "326c4a34-d414-4795-a0e0-67dd6a7d2b8f",
   "metadata": {
    "tags": []
   },
   "outputs": [],
   "source": [
    "LSTM_oct1stweekfc"
   ]
  },
  {
   "cell_type": "code",
   "execution_count": null,
   "id": "1e2c9978-69a5-4d94-bcbd-bbce046de47b",
   "metadata": {
    "tags": []
   },
   "outputs": [],
   "source": [
    "LSTM_oct3rdweekfc"
   ]
  },
  {
   "cell_type": "code",
   "execution_count": null,
   "id": "a208ca4e-902c-4471-b255-54e5fce65829",
   "metadata": {
    "tags": []
   },
   "outputs": [],
   "source": [
    "LSTM_plottingdf = pd.DataFrame()\n",
    "LSTM_plottingdf.index = updated_df.index\n",
    "LSTM_plottingdf[\"Real Data\"] = updated_df[\"value\"]\n",
    "\n",
    "LSTM_plottingdf[\"Oct 1st Week Model\"] = LSTM_oct1stweekfc[0]\n",
    "LSTM_plottingdf[\"Oct 3rd Week Model\"] = LSTM_oct3rdweekfc[\"LSTM\"]\n",
    "LSTM_plottingdf[\"Nov 1st Week Model\"] = LSTM_nov1stweekfc[\"LSTM\"]\n",
    "LSTM_plottingdf[\"Nov 3rd Week Model\"] = LSTM_nov3rdweekfc[\"LSTM\"]\n",
    "LSTM_plottingdf[\"Dec 1st Week Model\"] = LSTM_dec1stweekfc[\"LSTM\"]"
   ]
  },
  {
   "cell_type": "code",
   "execution_count": null,
   "id": "b7fcd7e4-caf3-4b3f-bb5e-1269294c2ce3",
   "metadata": {
    "tags": []
   },
   "outputs": [],
   "source": []
  },
  {
   "cell_type": "code",
   "execution_count": null,
   "id": "690cd88c-a848-4d1d-8044-03a8ba827b72",
   "metadata": {
    "tags": []
   },
   "outputs": [],
   "source": [
    "LSTM_plottingdf.iplot(xTitle = \"Date\", yTitle = \"Count\", title = \"Expanding Window with Fixed Parameters from AutoLSTM\")"
   ]
  },
  {
   "cell_type": "code",
   "execution_count": null,
   "id": "1b727bcd-763a-4631-829e-51f0aeb8fcc8",
   "metadata": {
    "tags": []
   },
   "outputs": [],
   "source": [
    "LSTM_oct1stweekfc"
   ]
  },
  {
   "cell_type": "code",
   "execution_count": null,
   "id": "8768f76b-3874-402f-97b2-3dd6b62b83fa",
   "metadata": {},
   "outputs": [],
   "source": []
  }
 ],
 "metadata": {
  "kernelspec": {
   "display_name": "Python 3 (ipykernel)",
   "language": "python",
   "name": "python3"
  },
  "language_info": {
   "codemirror_mode": {
    "name": "ipython",
    "version": 3
   },
   "file_extension": ".py",
   "mimetype": "text/x-python",
   "name": "python",
   "nbconvert_exporter": "python",
   "pygments_lexer": "ipython3",
   "version": "3.11.6"
  }
 },
 "nbformat": 4,
 "nbformat_minor": 5
}
