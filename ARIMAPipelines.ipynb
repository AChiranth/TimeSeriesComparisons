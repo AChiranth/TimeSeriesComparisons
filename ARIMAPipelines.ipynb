{
 "cells": [
  {
   "cell_type": "code",
   "execution_count": 1,
   "id": "87429ba2-44ba-4a1d-bd47-cd82f02082d3",
   "metadata": {
    "tags": []
   },
   "outputs": [
    {
     "data": {
      "text/html": [
       "        <script type=\"text/javascript\">\n",
       "        window.PlotlyConfig = {MathJaxConfig: 'local'};\n",
       "        if (window.MathJax && window.MathJax.Hub && window.MathJax.Hub.Config) {window.MathJax.Hub.Config({SVG: {font: \"STIX-Web\"}});}\n",
       "        if (typeof require !== 'undefined') {\n",
       "        require.undef(\"plotly\");\n",
       "        requirejs.config({\n",
       "            paths: {\n",
       "                'plotly': ['https://cdn.plot.ly/plotly-2.25.2.min']\n",
       "            }\n",
       "        });\n",
       "        require(['plotly'], function(Plotly) {\n",
       "            window._Plotly = Plotly;\n",
       "        });\n",
       "        }\n",
       "        </script>\n",
       "        "
      ]
     },
     "metadata": {},
     "output_type": "display_data"
    }
   ],
   "source": [
    "import pandas as pd \n",
    "import numpy as np\n",
    "import matplotlib.pyplot as plt\n",
    "\n",
    "import cufflinks as cf\n",
    "from plotly import __version__\n",
    "from plotly.offline import download_plotlyjs, init_notebook_mode, plot, iplot\n",
    "import plotly.offline as pyo\n",
    "\n",
    "cf.go_offline()\n",
    "\n",
    "%matplotlib inline\n",
    "from sklearn.metrics import mean_absolute_error, mean_absolute_percentage_error, mean_squared_error\n",
    "\n",
    "from neuralforecast.auto import AutoLSTM\n",
    "from neuralforecast.tsdataset import TimeSeriesDataset\n",
    "\n",
    "from datetime import datetime, timedelta"
   ]
  },
  {
   "cell_type": "code",
   "execution_count": 2,
   "id": "5269b65a-f9c5-4493-a9d8-746e6442b6dc",
   "metadata": {
    "tags": []
   },
   "outputs": [],
   "source": [
    "from statsforecast import StatsForecast\n",
    "from statsforecast.models import AutoARIMA, AutoCES, AutoETS\n",
    "from statsforecast.arima import arima_string"
   ]
  },
  {
   "cell_type": "code",
   "execution_count": null,
   "id": "851c54ff-497f-4e06-a67d-246843251869",
   "metadata": {
    "tags": []
   },
   "outputs": [],
   "source": []
  },
  {
   "cell_type": "code",
   "execution_count": 10,
   "id": "bec6ee04-f6df-4b88-8fb7-2a70b37bb4d5",
   "metadata": {},
   "outputs": [],
   "source": [
    "class FixedARIMAProcessor:\n",
    "    def __init__(self, overall_df, dates):\n",
    "        self.overall_df = overall_df\n",
    "        self.overall_df_value_col = \"value\"\n",
    "        self.dates = dates\n",
    "        \n",
    "        self.dfs = []\n",
    "        self.sf = None\n",
    "        self.forecast = None\n",
    "        self.plotting_df = pd.DataFrame()\n",
    "        \n",
    "        self.mae = None\n",
    "        self.mse = None\n",
    "        self.mape = None\n",
    "        self.nmse = None\n",
    "        \n",
    "        self.metrics_df = pd.DataFrame(columns = [\"Reference Date\", \"MAE\", \"MSE\", \"MAPE\", \"NMSE\"])\n",
    "        self.display_df = pd.DataFrame(columns = [\"Reference Date\", \"Target End Date\", \"Prediction\"])\n",
    "    \n",
    "    def create_training_dfs(self, value_col):\n",
    "        self.overall_df_value_col = value_col\n",
    "        for date in self.dates:\n",
    "            df = self.overall_df.loc[:date]\n",
    "            df['ds'] = df.index\n",
    "            df[\"unique_id\"] = \"series_1\"\n",
    "            df = df.rename(columns = {value_col: \"y\"})\n",
    "            self.dfs.append(df)\n",
    "    \n",
    "    def create_fixed_model(self, h, freq, season_length, model_name, level = []):\n",
    "        self.sf = StatsForecast(models=[AutoARIMA(season_length=season_length)], freq = freq)\n",
    "        \n",
    "        #    self.sf = StatsForecast(models=[AutoCES(season_length=season_length)], freq = freq)\n",
    "        #    self.sf = StatsForecast(models=[AutoETS(model = \"AZN\")], freq = freq)\n",
    "        \n",
    "        self.sf.fit(self.dfs[0])\n",
    "        \n",
    "        start_date = datetime.strptime(self.dates[0], \"%Y-%m-%d\")\n",
    "        ending_date = datetime.strptime(self.dates[-1], \"%Y-%m-%d\") + timedelta(weeks = h)\n",
    "\n",
    "        prediction_horizon = abs((ending_date - start_date).days) // 7\n",
    "        \n",
    "        if not level:\n",
    "            self.forecast = self.sf.predict(h = prediction_horizon)\n",
    "        else:\n",
    "            self.forecast = self.sf.predict(h = prediction_horizon, level = level)\n",
    "        self.forecast.set_index(\"ds\", inplace = True)\n",
    "        \n",
    "        self.sf.save(path = f\"AutoARIMA/fixed_models/{model_name}\")\n",
    "        \n",
    "    \n",
    "    def create_graph(self):\n",
    "        self.plotting_df.index = self.overall_df.index\n",
    "        self.plotting_df[\"Real Data\"] = self.overall_df[self.overall_df_value_col]\n",
    "        \n",
    "\n",
    "        self.plotting_df[f\"Fixed ARIMA Prediction Prediction\"] = self.forecast[\"AutoARIMA\"]\n",
    "\n",
    "       #     self.plotting_df[f\"Fixed {self.model_type} Model\"] = self.forecast[\"CES\"]\n",
    "\n",
    "         #   self.plotting_df[f\"Fixed {self.model_type} Model\"] = self.forecast[\"AutoETS\"]\n",
    "        \n",
    "        self.plotting_df.iplot(xTitle = \"Date\", yTitle = \"Count\", title = f\"Fixed Parameter ARIMA Predictions\")\n",
    "    \n",
    "    def create_metrics(self):\n",
    "        col_string = \"AutoARIMA\"\n",
    "        \n",
    "\n",
    "\n",
    "#            col_string = \"CES\"\n",
    "\n",
    " #           col_string = \"AutoETS\"\n",
    "        \n",
    "        self.mae = mean_absolute_error(self.overall_df[self.overall_df_value_col].loc[self.forecast.index], self.forecast[col_string])\n",
    "        self.mse = mean_squared_error(self.overall_df[self.overall_df_value_col].loc[self.forecast.index], self.forecast[col_string])\n",
    "        self.mape = mean_absolute_percentage_error(self.overall_df[self.overall_df_value_col].loc[self.forecast.index], self.forecast[col_string])\n",
    "        self.nmse = self.mse/np.var(self.overall_df[self.overall_df_value_col].loc[self.forecast.index])\n",
    "\n",
    "    def create_metrics_df(self):\n",
    "        self.metrics_df.loc[len(self.metrics_df)] = [self.dates[0], self.mae, self.mse, self.mape, self.nmse]\n",
    "    \n",
    "    def create_display_df(self):\n",
    "        for index, row in self.forecast.iterrows():\n",
    "            reference_date = self.dates[0]\n",
    "            target_end_date = index\n",
    "            value = row[1]\n",
    "            self.display_df.loc[len(self.display_df)] = [reference_date, target_end_date, value]"
   ]
  },
  {
   "cell_type": "code",
   "execution_count": 11,
   "id": "f92b3cbd-d245-43a0-9960-06be2b442442",
   "metadata": {
    "tags": []
   },
   "outputs": [],
   "source": [
    "updated_df = pd.read_csv(\"https://raw.githubusercontent.com/cdcepi/FluSight-forecast-hub/refs/heads/main/target-data/target-hospital-admissions.csv\")"
   ]
  },
  {
   "cell_type": "code",
   "execution_count": 12,
   "id": "d11e863c-aba6-4746-91fc-08c8d35b8ecf",
   "metadata": {
    "tags": []
   },
   "outputs": [],
   "source": [
    "updated_df = updated_df[updated_df[\"location_name\"] == \"US\"]\n",
    "updated_df = updated_df[[\"date\", \"value\"]]\n",
    "updated_df[\"date\"] = pd.to_datetime(updated_df[\"date\"])\n",
    "updated_df.set_index(\"date\", inplace = True)\n",
    "updated_df.sort_values(by = \"date\", inplace = True)"
   ]
  },
  {
   "cell_type": "code",
   "execution_count": null,
   "id": "d0711284-325b-41be-9b51-4f883120a5e1",
   "metadata": {
    "tags": []
   },
   "outputs": [],
   "source": []
  },
  {
   "cell_type": "code",
   "execution_count": 13,
   "id": "1de2ff48-77be-4a2b-9213-dcf7bfe1c892",
   "metadata": {
    "tags": []
   },
   "outputs": [],
   "source": [
    "Processor = FixedARIMAProcessor(overall_df = updated_df, dates = [\"2024-10-05\", \"2024-10-19\", \"2024-11-02\", \"2024-11-16\", \"2024-12-07\"])"
   ]
  },
  {
   "cell_type": "code",
   "execution_count": null,
   "id": "a195e8ce-711a-495b-a203-f604b0184984",
   "metadata": {
    "tags": []
   },
   "outputs": [],
   "source": []
  },
  {
   "cell_type": "code",
   "execution_count": null,
   "id": "922f92ad-41b1-466b-883b-2dd30cea6ea2",
   "metadata": {
    "tags": []
   },
   "outputs": [],
   "source": []
  },
  {
   "cell_type": "code",
   "execution_count": 14,
   "id": "9ce06829-dc62-4cf6-8890-5b285e5a292a",
   "metadata": {
    "tags": []
   },
   "outputs": [],
   "source": [
    "Processor.create_training_dfs(value_col = \"value\")"
   ]
  },
  {
   "cell_type": "code",
   "execution_count": 15,
   "id": "db2eddc7-638c-47fd-ba15-22b4d8ca149c",
   "metadata": {
    "tags": []
   },
   "outputs": [
    {
     "name": "stdout",
     "output_type": "stream",
     "text": [
      "Saving StatsForecast object of size 103.33KB.\n",
      "StatsForecast object saved\n"
     ]
    }
   ],
   "source": [
    "Processor.create_fixed_model(h = 4, freq = \"W-SAT\", season_length = 52, model_name = \"testing\", level = [80, 95])"
   ]
  },
  {
   "cell_type": "code",
   "execution_count": null,
   "id": "7af09918-81c8-45ba-b39d-eb8bf67fad44",
   "metadata": {
    "tags": []
   },
   "outputs": [],
   "source": []
  },
  {
   "cell_type": "code",
   "execution_count": 26,
   "id": "4445ca30-1ff4-466e-b2b0-253440c01732",
   "metadata": {
    "tags": []
   },
   "outputs": [
    {
     "data": {
      "text/html": [
       "<div>\n",
       "<style scoped>\n",
       "    .dataframe tbody tr th:only-of-type {\n",
       "        vertical-align: middle;\n",
       "    }\n",
       "\n",
       "    .dataframe tbody tr th {\n",
       "        vertical-align: top;\n",
       "    }\n",
       "\n",
       "    .dataframe thead th {\n",
       "        text-align: right;\n",
       "    }\n",
       "</style>\n",
       "<table border=\"1\" class=\"dataframe\">\n",
       "  <thead>\n",
       "    <tr style=\"text-align: right;\">\n",
       "      <th></th>\n",
       "      <th>unique_id</th>\n",
       "      <th>AutoARIMA</th>\n",
       "      <th>AutoARIMA-lo-95</th>\n",
       "      <th>AutoARIMA-lo-80</th>\n",
       "      <th>AutoARIMA-hi-80</th>\n",
       "      <th>AutoARIMA-hi-95</th>\n",
       "    </tr>\n",
       "    <tr>\n",
       "      <th>ds</th>\n",
       "      <th></th>\n",
       "      <th></th>\n",
       "      <th></th>\n",
       "      <th></th>\n",
       "      <th></th>\n",
       "      <th></th>\n",
       "    </tr>\n",
       "  </thead>\n",
       "  <tbody>\n",
       "    <tr>\n",
       "      <th>2024-10-12</th>\n",
       "      <td>series_1</td>\n",
       "      <td>383.968968</td>\n",
       "      <td>-1982.920798</td>\n",
       "      <td>-1163.657064</td>\n",
       "      <td>1931.595000</td>\n",
       "      <td>2750.858734</td>\n",
       "    </tr>\n",
       "    <tr>\n",
       "      <th>2024-10-19</th>\n",
       "      <td>series_1</td>\n",
       "      <td>796.491076</td>\n",
       "      <td>-3982.224923</td>\n",
       "      <td>-2328.143365</td>\n",
       "      <td>3921.125518</td>\n",
       "      <td>5575.207076</td>\n",
       "    </tr>\n",
       "    <tr>\n",
       "      <th>2024-10-26</th>\n",
       "      <td>series_1</td>\n",
       "      <td>1073.112714</td>\n",
       "      <td>-5523.672125</td>\n",
       "      <td>-3240.293045</td>\n",
       "      <td>5386.518473</td>\n",
       "      <td>7669.897554</td>\n",
       "    </tr>\n",
       "    <tr>\n",
       "      <th>2024-11-02</th>\n",
       "      <td>series_1</td>\n",
       "      <td>1664.676194</td>\n",
       "      <td>-6352.376957</td>\n",
       "      <td>-3577.393098</td>\n",
       "      <td>6906.745485</td>\n",
       "      <td>9681.729344</td>\n",
       "    </tr>\n",
       "    <tr>\n",
       "      <th>2024-11-09</th>\n",
       "      <td>series_1</td>\n",
       "      <td>2565.875155</td>\n",
       "      <td>-6323.704356</td>\n",
       "      <td>-3246.708459</td>\n",
       "      <td>8378.458768</td>\n",
       "      <td>11455.454666</td>\n",
       "    </tr>\n",
       "    <tr>\n",
       "      <th>2024-11-16</th>\n",
       "      <td>series_1</td>\n",
       "      <td>3424.084329</td>\n",
       "      <td>-5979.289690</td>\n",
       "      <td>-2724.451456</td>\n",
       "      <td>9572.620114</td>\n",
       "      <td>12827.458348</td>\n",
       "    </tr>\n",
       "    <tr>\n",
       "      <th>2024-11-23</th>\n",
       "      <td>series_1</td>\n",
       "      <td>4405.929947</td>\n",
       "      <td>-5223.028632</td>\n",
       "      <td>-1890.107653</td>\n",
       "      <td>10701.967548</td>\n",
       "      <td>14034.888527</td>\n",
       "    </tr>\n",
       "    <tr>\n",
       "      <th>2024-11-30</th>\n",
       "      <td>series_1</td>\n",
       "      <td>6045.026852</td>\n",
       "      <td>-3664.356302</td>\n",
       "      <td>-303.597551</td>\n",
       "      <td>12393.651256</td>\n",
       "      <td>15754.410007</td>\n",
       "    </tr>\n",
       "    <tr>\n",
       "      <th>2024-12-07</th>\n",
       "      <td>series_1</td>\n",
       "      <td>7614.176343</td>\n",
       "      <td>-2106.877487</td>\n",
       "      <td>1257.920895</td>\n",
       "      <td>13970.431790</td>\n",
       "      <td>17335.230172</td>\n",
       "    </tr>\n",
       "    <tr>\n",
       "      <th>2024-12-14</th>\n",
       "      <td>series_1</td>\n",
       "      <td>10402.966640</td>\n",
       "      <td>681.778067</td>\n",
       "      <td>4046.623088</td>\n",
       "      <td>16759.310192</td>\n",
       "      <td>20124.155213</td>\n",
       "    </tr>\n",
       "    <tr>\n",
       "      <th>2024-12-21</th>\n",
       "      <td>series_1</td>\n",
       "      <td>15839.838620</td>\n",
       "      <td>6108.565441</td>\n",
       "      <td>9476.901099</td>\n",
       "      <td>22202.776140</td>\n",
       "      <td>25571.111798</td>\n",
       "    </tr>\n",
       "    <tr>\n",
       "      <th>2024-12-28</th>\n",
       "      <td>series_1</td>\n",
       "      <td>21782.606246</td>\n",
       "      <td>12031.051364</td>\n",
       "      <td>15406.407232</td>\n",
       "      <td>28158.805259</td>\n",
       "      <td>31534.161127</td>\n",
       "    </tr>\n",
       "    <tr>\n",
       "      <th>2025-01-04</th>\n",
       "      <td>series_1</td>\n",
       "      <td>19621.912006</td>\n",
       "      <td>9844.867757</td>\n",
       "      <td>13229.046391</td>\n",
       "      <td>26014.777621</td>\n",
       "      <td>29398.956255</td>\n",
       "    </tr>\n",
       "  </tbody>\n",
       "</table>\n",
       "</div>"
      ],
      "text/plain": [
       "           unique_id     AutoARIMA  AutoARIMA-lo-95  AutoARIMA-lo-80  \\\n",
       "ds                                                                     \n",
       "2024-10-12  series_1    383.968968     -1982.920798     -1163.657064   \n",
       "2024-10-19  series_1    796.491076     -3982.224923     -2328.143365   \n",
       "2024-10-26  series_1   1073.112714     -5523.672125     -3240.293045   \n",
       "2024-11-02  series_1   1664.676194     -6352.376957     -3577.393098   \n",
       "2024-11-09  series_1   2565.875155     -6323.704356     -3246.708459   \n",
       "2024-11-16  series_1   3424.084329     -5979.289690     -2724.451456   \n",
       "2024-11-23  series_1   4405.929947     -5223.028632     -1890.107653   \n",
       "2024-11-30  series_1   6045.026852     -3664.356302      -303.597551   \n",
       "2024-12-07  series_1   7614.176343     -2106.877487      1257.920895   \n",
       "2024-12-14  series_1  10402.966640       681.778067      4046.623088   \n",
       "2024-12-21  series_1  15839.838620      6108.565441      9476.901099   \n",
       "2024-12-28  series_1  21782.606246     12031.051364     15406.407232   \n",
       "2025-01-04  series_1  19621.912006      9844.867757     13229.046391   \n",
       "\n",
       "            AutoARIMA-hi-80  AutoARIMA-hi-95  \n",
       "ds                                            \n",
       "2024-10-12      1931.595000      2750.858734  \n",
       "2024-10-19      3921.125518      5575.207076  \n",
       "2024-10-26      5386.518473      7669.897554  \n",
       "2024-11-02      6906.745485      9681.729344  \n",
       "2024-11-09      8378.458768     11455.454666  \n",
       "2024-11-16      9572.620114     12827.458348  \n",
       "2024-11-23     10701.967548     14034.888527  \n",
       "2024-11-30     12393.651256     15754.410007  \n",
       "2024-12-07     13970.431790     17335.230172  \n",
       "2024-12-14     16759.310192     20124.155213  \n",
       "2024-12-21     22202.776140     25571.111798  \n",
       "2024-12-28     28158.805259     31534.161127  \n",
       "2025-01-04     26014.777621     29398.956255  "
      ]
     },
     "execution_count": 26,
     "metadata": {},
     "output_type": "execute_result"
    }
   ],
   "source": [
    "Processor.forecast"
   ]
  },
  {
   "cell_type": "code",
   "execution_count": 27,
   "id": "2b6f60b5-cf40-4a6e-8672-fdced6869fab",
   "metadata": {
    "tags": []
   },
   "outputs": [
    {
     "data": {
      "application/vnd.plotly.v1+json": {
       "config": {
        "linkText": "Export to plot.ly",
        "plotlyServerURL": "https://plot.ly",
        "showLink": true
       },
       "data": [
        {
         "line": {
          "color": "rgba(255, 153, 51, 1.0)",
          "dash": "solid",
          "shape": "linear",
          "width": 1.3
         },
         "mode": "lines",
         "name": "Real Data",
         "text": "",
         "type": "scatter",
         "x": [
          "2022-02-05",
          "2022-02-12",
          "2022-02-19",
          "2022-02-26",
          "2022-03-05",
          "2022-03-12",
          "2022-03-19",
          "2022-03-26",
          "2022-04-02",
          "2022-04-09",
          "2022-04-16",
          "2022-04-23",
          "2022-04-30",
          "2022-05-07",
          "2022-05-14",
          "2022-05-21",
          "2022-05-28",
          "2022-06-04",
          "2022-06-11",
          "2022-06-18",
          "2022-06-25",
          "2022-07-02",
          "2022-07-09",
          "2022-07-16",
          "2022-07-23",
          "2022-07-30",
          "2022-08-06",
          "2022-08-13",
          "2022-08-20",
          "2022-08-27",
          "2022-09-03",
          "2022-09-10",
          "2022-09-17",
          "2022-09-24",
          "2022-10-01",
          "2022-10-08",
          "2022-10-15",
          "2022-10-22",
          "2022-10-29",
          "2022-11-05",
          "2022-11-12",
          "2022-11-19",
          "2022-11-26",
          "2022-12-03",
          "2022-12-10",
          "2022-12-17",
          "2022-12-24",
          "2022-12-31",
          "2023-01-07",
          "2023-01-14",
          "2023-01-21",
          "2023-01-28",
          "2023-02-04",
          "2023-02-11",
          "2023-02-18",
          "2023-02-25",
          "2023-03-04",
          "2023-03-11",
          "2023-03-18",
          "2023-03-25",
          "2023-04-01",
          "2023-04-08",
          "2023-04-15",
          "2023-04-22",
          "2023-04-29",
          "2023-05-06",
          "2023-05-13",
          "2023-05-20",
          "2023-05-27",
          "2023-06-03",
          "2023-06-10",
          "2023-06-17",
          "2023-06-24",
          "2023-07-01",
          "2023-07-08",
          "2023-07-15",
          "2023-07-22",
          "2023-07-29",
          "2023-08-05",
          "2023-08-12",
          "2023-08-19",
          "2023-08-26",
          "2023-09-02",
          "2023-09-09",
          "2023-09-16",
          "2023-09-23",
          "2023-09-30",
          "2023-10-07",
          "2023-10-14",
          "2023-10-21",
          "2023-10-28",
          "2023-11-04",
          "2023-11-11",
          "2023-11-18",
          "2023-11-25",
          "2023-12-02",
          "2023-12-09",
          "2023-12-16",
          "2023-12-23",
          "2023-12-30",
          "2024-01-06",
          "2024-01-13",
          "2024-01-20",
          "2024-01-27",
          "2024-02-03",
          "2024-02-10",
          "2024-02-17",
          "2024-02-24",
          "2024-03-02",
          "2024-03-09",
          "2024-03-16",
          "2024-03-23",
          "2024-03-30",
          "2024-04-06",
          "2024-04-13",
          "2024-04-20",
          "2024-04-27",
          "2024-05-04",
          "2024-05-11",
          "2024-05-18",
          "2024-05-25",
          "2024-06-01",
          "2024-06-08",
          "2024-06-15",
          "2024-06-22",
          "2024-06-29",
          "2024-07-06",
          "2024-07-13",
          "2024-07-20",
          "2024-07-27",
          "2024-08-03",
          "2024-08-10",
          "2024-08-17",
          "2024-08-24",
          "2024-08-31",
          "2024-09-07",
          "2024-09-14",
          "2024-09-21",
          "2024-09-28",
          "2024-10-05",
          "2024-10-12",
          "2024-10-19",
          "2024-10-26",
          "2024-11-02",
          "2024-11-09",
          "2024-11-16",
          "2024-11-23",
          "2024-11-30",
          "2024-12-07",
          "2024-12-14",
          "2024-12-21",
          "2024-12-28",
          "2025-01-04",
          "2025-01-11",
          "2025-01-18",
          "2025-01-25",
          "2025-02-01",
          "2025-02-08",
          "2025-02-15",
          "2025-02-22",
          "2025-03-01",
          "2025-03-08",
          "2025-03-15",
          "2025-03-22"
         ],
         "y": [
          1091,
          1164,
          1493,
          1603,
          1791,
          2097,
          2625,
          2918,
          3008,
          3149,
          3308,
          3474,
          3182,
          3175,
          3119,
          3133,
          2738,
          2678,
          2210,
          1776,
          1366,
          1073,
          776,
          766,
          628,
          522,
          486,
          490,
          483,
          483,
          545,
          576,
          665,
          796,
          921,
          1316,
          1674,
          2292,
          4184,
          6408,
          8594,
          10971,
          18177,
          26834,
          24036,
          21612,
          19632,
          19479,
          14074,
          7185,
          4489,
          3091,
          2596,
          2177,
          1908,
          1647,
          1503,
          1372,
          1415,
          1331,
          1295,
          1198,
          1077,
          982,
          903,
          994,
          980,
          1116,
          974,
          939,
          935,
          873,
          813,
          836,
          699,
          736,
          645,
          771,
          690,
          706,
          738,
          793,
          875,
          804,
          821,
          881,
          1026,
          1110,
          1215,
          1470,
          1614,
          2014,
          2775,
          3491,
          4386,
          5955,
          7497,
          10273,
          15722,
          21682,
          19548,
          15905,
          13303,
          13025,
          11964,
          11629,
          11126,
          10870,
          10814,
          9416,
          7324,
          6049,
          5574,
          5071,
          4073,
          2943,
          2420,
          1485,
          852,
          682,
          611,
          591,
          511,
          518,
          441,
          356,
          342,
          367,
          325,
          273,
          275,
          275,
          275,
          274,
          262,
          223,
          319,
          293,
          223,
          287,
          295,
          553,
          1084,
          977,
          2081,
          2535,
          3099,
          4298,
          6307,
          9191,
          15467,
          27749,
          38769,
          30797,
          33019,
          40681,
          51338,
          54359,
          46199,
          37854,
          30779,
          23845,
          18244,
          12294
         ]
        },
        {
         "line": {
          "color": "rgba(55, 128, 191, 1.0)",
          "dash": "solid",
          "shape": "linear",
          "width": 1.3
         },
         "mode": "lines",
         "name": "Fixed ARIMA Prediction Prediction",
         "text": "",
         "type": "scatter",
         "x": [
          "2022-02-05",
          "2022-02-12",
          "2022-02-19",
          "2022-02-26",
          "2022-03-05",
          "2022-03-12",
          "2022-03-19",
          "2022-03-26",
          "2022-04-02",
          "2022-04-09",
          "2022-04-16",
          "2022-04-23",
          "2022-04-30",
          "2022-05-07",
          "2022-05-14",
          "2022-05-21",
          "2022-05-28",
          "2022-06-04",
          "2022-06-11",
          "2022-06-18",
          "2022-06-25",
          "2022-07-02",
          "2022-07-09",
          "2022-07-16",
          "2022-07-23",
          "2022-07-30",
          "2022-08-06",
          "2022-08-13",
          "2022-08-20",
          "2022-08-27",
          "2022-09-03",
          "2022-09-10",
          "2022-09-17",
          "2022-09-24",
          "2022-10-01",
          "2022-10-08",
          "2022-10-15",
          "2022-10-22",
          "2022-10-29",
          "2022-11-05",
          "2022-11-12",
          "2022-11-19",
          "2022-11-26",
          "2022-12-03",
          "2022-12-10",
          "2022-12-17",
          "2022-12-24",
          "2022-12-31",
          "2023-01-07",
          "2023-01-14",
          "2023-01-21",
          "2023-01-28",
          "2023-02-04",
          "2023-02-11",
          "2023-02-18",
          "2023-02-25",
          "2023-03-04",
          "2023-03-11",
          "2023-03-18",
          "2023-03-25",
          "2023-04-01",
          "2023-04-08",
          "2023-04-15",
          "2023-04-22",
          "2023-04-29",
          "2023-05-06",
          "2023-05-13",
          "2023-05-20",
          "2023-05-27",
          "2023-06-03",
          "2023-06-10",
          "2023-06-17",
          "2023-06-24",
          "2023-07-01",
          "2023-07-08",
          "2023-07-15",
          "2023-07-22",
          "2023-07-29",
          "2023-08-05",
          "2023-08-12",
          "2023-08-19",
          "2023-08-26",
          "2023-09-02",
          "2023-09-09",
          "2023-09-16",
          "2023-09-23",
          "2023-09-30",
          "2023-10-07",
          "2023-10-14",
          "2023-10-21",
          "2023-10-28",
          "2023-11-04",
          "2023-11-11",
          "2023-11-18",
          "2023-11-25",
          "2023-12-02",
          "2023-12-09",
          "2023-12-16",
          "2023-12-23",
          "2023-12-30",
          "2024-01-06",
          "2024-01-13",
          "2024-01-20",
          "2024-01-27",
          "2024-02-03",
          "2024-02-10",
          "2024-02-17",
          "2024-02-24",
          "2024-03-02",
          "2024-03-09",
          "2024-03-16",
          "2024-03-23",
          "2024-03-30",
          "2024-04-06",
          "2024-04-13",
          "2024-04-20",
          "2024-04-27",
          "2024-05-04",
          "2024-05-11",
          "2024-05-18",
          "2024-05-25",
          "2024-06-01",
          "2024-06-08",
          "2024-06-15",
          "2024-06-22",
          "2024-06-29",
          "2024-07-06",
          "2024-07-13",
          "2024-07-20",
          "2024-07-27",
          "2024-08-03",
          "2024-08-10",
          "2024-08-17",
          "2024-08-24",
          "2024-08-31",
          "2024-09-07",
          "2024-09-14",
          "2024-09-21",
          "2024-09-28",
          "2024-10-05",
          "2024-10-12",
          "2024-10-19",
          "2024-10-26",
          "2024-11-02",
          "2024-11-09",
          "2024-11-16",
          "2024-11-23",
          "2024-11-30",
          "2024-12-07",
          "2024-12-14",
          "2024-12-21",
          "2024-12-28",
          "2025-01-04",
          "2025-01-11",
          "2025-01-18",
          "2025-01-25",
          "2025-02-01",
          "2025-02-08",
          "2025-02-15",
          "2025-02-22",
          "2025-03-01",
          "2025-03-08",
          "2025-03-15",
          "2025-03-22"
         ],
         "y": [
          "",
          "",
          "",
          "",
          "",
          "",
          "",
          "",
          "",
          "",
          "",
          "",
          "",
          "",
          "",
          "",
          "",
          "",
          "",
          "",
          "",
          "",
          "",
          "",
          "",
          "",
          "",
          "",
          "",
          "",
          "",
          "",
          "",
          "",
          "",
          "",
          "",
          "",
          "",
          "",
          "",
          "",
          "",
          "",
          "",
          "",
          "",
          "",
          "",
          "",
          "",
          "",
          "",
          "",
          "",
          "",
          "",
          "",
          "",
          "",
          "",
          "",
          "",
          "",
          "",
          "",
          "",
          "",
          "",
          "",
          "",
          "",
          "",
          "",
          "",
          "",
          "",
          "",
          "",
          "",
          "",
          "",
          "",
          "",
          "",
          "",
          "",
          "",
          "",
          "",
          "",
          "",
          "",
          "",
          "",
          "",
          "",
          "",
          "",
          "",
          "",
          "",
          "",
          "",
          "",
          "",
          "",
          "",
          "",
          "",
          "",
          "",
          "",
          "",
          "",
          "",
          "",
          "",
          "",
          "",
          "",
          "",
          "",
          "",
          "",
          "",
          "",
          "",
          "",
          "",
          "",
          "",
          "",
          "",
          "",
          "",
          "",
          "",
          "",
          "",
          383.96896804001415,
          796.4910763489565,
          1073.112714224142,
          1664.6761938467027,
          2565.8751547987617,
          3424.0843290202256,
          4405.9299474855,
          6045.026852290889,
          7614.176342600892,
          10402.966640153592,
          15839.838619523118,
          21782.606245600655,
          19621.91200586226,
          "",
          "",
          "",
          "",
          "",
          "",
          "",
          "",
          "",
          "",
          ""
         ]
        }
       ],
       "layout": {
        "autosize": true,
        "legend": {
         "bgcolor": "#F5F6F9",
         "font": {
          "color": "#4D5663"
         }
        },
        "paper_bgcolor": "#F5F6F9",
        "plot_bgcolor": "#F5F6F9",
        "template": {
         "data": {
          "bar": [
           {
            "error_x": {
             "color": "#2a3f5f"
            },
            "error_y": {
             "color": "#2a3f5f"
            },
            "marker": {
             "line": {
              "color": "#E5ECF6",
              "width": 0.5
             },
             "pattern": {
              "fillmode": "overlay",
              "size": 10,
              "solidity": 0.2
             }
            },
            "type": "bar"
           }
          ],
          "barpolar": [
           {
            "marker": {
             "line": {
              "color": "#E5ECF6",
              "width": 0.5
             },
             "pattern": {
              "fillmode": "overlay",
              "size": 10,
              "solidity": 0.2
             }
            },
            "type": "barpolar"
           }
          ],
          "carpet": [
           {
            "aaxis": {
             "endlinecolor": "#2a3f5f",
             "gridcolor": "white",
             "linecolor": "white",
             "minorgridcolor": "white",
             "startlinecolor": "#2a3f5f"
            },
            "baxis": {
             "endlinecolor": "#2a3f5f",
             "gridcolor": "white",
             "linecolor": "white",
             "minorgridcolor": "white",
             "startlinecolor": "#2a3f5f"
            },
            "type": "carpet"
           }
          ],
          "choropleth": [
           {
            "colorbar": {
             "outlinewidth": 0,
             "ticks": ""
            },
            "type": "choropleth"
           }
          ],
          "contour": [
           {
            "colorbar": {
             "outlinewidth": 0,
             "ticks": ""
            },
            "colorscale": [
             [
              0,
              "#0d0887"
             ],
             [
              0.1111111111111111,
              "#46039f"
             ],
             [
              0.2222222222222222,
              "#7201a8"
             ],
             [
              0.3333333333333333,
              "#9c179e"
             ],
             [
              0.4444444444444444,
              "#bd3786"
             ],
             [
              0.5555555555555556,
              "#d8576b"
             ],
             [
              0.6666666666666666,
              "#ed7953"
             ],
             [
              0.7777777777777778,
              "#fb9f3a"
             ],
             [
              0.8888888888888888,
              "#fdca26"
             ],
             [
              1,
              "#f0f921"
             ]
            ],
            "type": "contour"
           }
          ],
          "contourcarpet": [
           {
            "colorbar": {
             "outlinewidth": 0,
             "ticks": ""
            },
            "type": "contourcarpet"
           }
          ],
          "heatmap": [
           {
            "colorbar": {
             "outlinewidth": 0,
             "ticks": ""
            },
            "colorscale": [
             [
              0,
              "#0d0887"
             ],
             [
              0.1111111111111111,
              "#46039f"
             ],
             [
              0.2222222222222222,
              "#7201a8"
             ],
             [
              0.3333333333333333,
              "#9c179e"
             ],
             [
              0.4444444444444444,
              "#bd3786"
             ],
             [
              0.5555555555555556,
              "#d8576b"
             ],
             [
              0.6666666666666666,
              "#ed7953"
             ],
             [
              0.7777777777777778,
              "#fb9f3a"
             ],
             [
              0.8888888888888888,
              "#fdca26"
             ],
             [
              1,
              "#f0f921"
             ]
            ],
            "type": "heatmap"
           }
          ],
          "heatmapgl": [
           {
            "colorbar": {
             "outlinewidth": 0,
             "ticks": ""
            },
            "colorscale": [
             [
              0,
              "#0d0887"
             ],
             [
              0.1111111111111111,
              "#46039f"
             ],
             [
              0.2222222222222222,
              "#7201a8"
             ],
             [
              0.3333333333333333,
              "#9c179e"
             ],
             [
              0.4444444444444444,
              "#bd3786"
             ],
             [
              0.5555555555555556,
              "#d8576b"
             ],
             [
              0.6666666666666666,
              "#ed7953"
             ],
             [
              0.7777777777777778,
              "#fb9f3a"
             ],
             [
              0.8888888888888888,
              "#fdca26"
             ],
             [
              1,
              "#f0f921"
             ]
            ],
            "type": "heatmapgl"
           }
          ],
          "histogram": [
           {
            "marker": {
             "pattern": {
              "fillmode": "overlay",
              "size": 10,
              "solidity": 0.2
             }
            },
            "type": "histogram"
           }
          ],
          "histogram2d": [
           {
            "colorbar": {
             "outlinewidth": 0,
             "ticks": ""
            },
            "colorscale": [
             [
              0,
              "#0d0887"
             ],
             [
              0.1111111111111111,
              "#46039f"
             ],
             [
              0.2222222222222222,
              "#7201a8"
             ],
             [
              0.3333333333333333,
              "#9c179e"
             ],
             [
              0.4444444444444444,
              "#bd3786"
             ],
             [
              0.5555555555555556,
              "#d8576b"
             ],
             [
              0.6666666666666666,
              "#ed7953"
             ],
             [
              0.7777777777777778,
              "#fb9f3a"
             ],
             [
              0.8888888888888888,
              "#fdca26"
             ],
             [
              1,
              "#f0f921"
             ]
            ],
            "type": "histogram2d"
           }
          ],
          "histogram2dcontour": [
           {
            "colorbar": {
             "outlinewidth": 0,
             "ticks": ""
            },
            "colorscale": [
             [
              0,
              "#0d0887"
             ],
             [
              0.1111111111111111,
              "#46039f"
             ],
             [
              0.2222222222222222,
              "#7201a8"
             ],
             [
              0.3333333333333333,
              "#9c179e"
             ],
             [
              0.4444444444444444,
              "#bd3786"
             ],
             [
              0.5555555555555556,
              "#d8576b"
             ],
             [
              0.6666666666666666,
              "#ed7953"
             ],
             [
              0.7777777777777778,
              "#fb9f3a"
             ],
             [
              0.8888888888888888,
              "#fdca26"
             ],
             [
              1,
              "#f0f921"
             ]
            ],
            "type": "histogram2dcontour"
           }
          ],
          "mesh3d": [
           {
            "colorbar": {
             "outlinewidth": 0,
             "ticks": ""
            },
            "type": "mesh3d"
           }
          ],
          "parcoords": [
           {
            "line": {
             "colorbar": {
              "outlinewidth": 0,
              "ticks": ""
             }
            },
            "type": "parcoords"
           }
          ],
          "pie": [
           {
            "automargin": true,
            "type": "pie"
           }
          ],
          "scatter": [
           {
            "fillpattern": {
             "fillmode": "overlay",
             "size": 10,
             "solidity": 0.2
            },
            "type": "scatter"
           }
          ],
          "scatter3d": [
           {
            "line": {
             "colorbar": {
              "outlinewidth": 0,
              "ticks": ""
             }
            },
            "marker": {
             "colorbar": {
              "outlinewidth": 0,
              "ticks": ""
             }
            },
            "type": "scatter3d"
           }
          ],
          "scattercarpet": [
           {
            "marker": {
             "colorbar": {
              "outlinewidth": 0,
              "ticks": ""
             }
            },
            "type": "scattercarpet"
           }
          ],
          "scattergeo": [
           {
            "marker": {
             "colorbar": {
              "outlinewidth": 0,
              "ticks": ""
             }
            },
            "type": "scattergeo"
           }
          ],
          "scattergl": [
           {
            "marker": {
             "colorbar": {
              "outlinewidth": 0,
              "ticks": ""
             }
            },
            "type": "scattergl"
           }
          ],
          "scattermapbox": [
           {
            "marker": {
             "colorbar": {
              "outlinewidth": 0,
              "ticks": ""
             }
            },
            "type": "scattermapbox"
           }
          ],
          "scatterpolar": [
           {
            "marker": {
             "colorbar": {
              "outlinewidth": 0,
              "ticks": ""
             }
            },
            "type": "scatterpolar"
           }
          ],
          "scatterpolargl": [
           {
            "marker": {
             "colorbar": {
              "outlinewidth": 0,
              "ticks": ""
             }
            },
            "type": "scatterpolargl"
           }
          ],
          "scatterternary": [
           {
            "marker": {
             "colorbar": {
              "outlinewidth": 0,
              "ticks": ""
             }
            },
            "type": "scatterternary"
           }
          ],
          "surface": [
           {
            "colorbar": {
             "outlinewidth": 0,
             "ticks": ""
            },
            "colorscale": [
             [
              0,
              "#0d0887"
             ],
             [
              0.1111111111111111,
              "#46039f"
             ],
             [
              0.2222222222222222,
              "#7201a8"
             ],
             [
              0.3333333333333333,
              "#9c179e"
             ],
             [
              0.4444444444444444,
              "#bd3786"
             ],
             [
              0.5555555555555556,
              "#d8576b"
             ],
             [
              0.6666666666666666,
              "#ed7953"
             ],
             [
              0.7777777777777778,
              "#fb9f3a"
             ],
             [
              0.8888888888888888,
              "#fdca26"
             ],
             [
              1,
              "#f0f921"
             ]
            ],
            "type": "surface"
           }
          ],
          "table": [
           {
            "cells": {
             "fill": {
              "color": "#EBF0F8"
             },
             "line": {
              "color": "white"
             }
            },
            "header": {
             "fill": {
              "color": "#C8D4E3"
             },
             "line": {
              "color": "white"
             }
            },
            "type": "table"
           }
          ]
         },
         "layout": {
          "annotationdefaults": {
           "arrowcolor": "#2a3f5f",
           "arrowhead": 0,
           "arrowwidth": 1
          },
          "autotypenumbers": "strict",
          "coloraxis": {
           "colorbar": {
            "outlinewidth": 0,
            "ticks": ""
           }
          },
          "colorscale": {
           "diverging": [
            [
             0,
             "#8e0152"
            ],
            [
             0.1,
             "#c51b7d"
            ],
            [
             0.2,
             "#de77ae"
            ],
            [
             0.3,
             "#f1b6da"
            ],
            [
             0.4,
             "#fde0ef"
            ],
            [
             0.5,
             "#f7f7f7"
            ],
            [
             0.6,
             "#e6f5d0"
            ],
            [
             0.7,
             "#b8e186"
            ],
            [
             0.8,
             "#7fbc41"
            ],
            [
             0.9,
             "#4d9221"
            ],
            [
             1,
             "#276419"
            ]
           ],
           "sequential": [
            [
             0,
             "#0d0887"
            ],
            [
             0.1111111111111111,
             "#46039f"
            ],
            [
             0.2222222222222222,
             "#7201a8"
            ],
            [
             0.3333333333333333,
             "#9c179e"
            ],
            [
             0.4444444444444444,
             "#bd3786"
            ],
            [
             0.5555555555555556,
             "#d8576b"
            ],
            [
             0.6666666666666666,
             "#ed7953"
            ],
            [
             0.7777777777777778,
             "#fb9f3a"
            ],
            [
             0.8888888888888888,
             "#fdca26"
            ],
            [
             1,
             "#f0f921"
            ]
           ],
           "sequentialminus": [
            [
             0,
             "#0d0887"
            ],
            [
             0.1111111111111111,
             "#46039f"
            ],
            [
             0.2222222222222222,
             "#7201a8"
            ],
            [
             0.3333333333333333,
             "#9c179e"
            ],
            [
             0.4444444444444444,
             "#bd3786"
            ],
            [
             0.5555555555555556,
             "#d8576b"
            ],
            [
             0.6666666666666666,
             "#ed7953"
            ],
            [
             0.7777777777777778,
             "#fb9f3a"
            ],
            [
             0.8888888888888888,
             "#fdca26"
            ],
            [
             1,
             "#f0f921"
            ]
           ]
          },
          "colorway": [
           "#636efa",
           "#EF553B",
           "#00cc96",
           "#ab63fa",
           "#FFA15A",
           "#19d3f3",
           "#FF6692",
           "#B6E880",
           "#FF97FF",
           "#FECB52"
          ],
          "font": {
           "color": "#2a3f5f"
          },
          "geo": {
           "bgcolor": "white",
           "lakecolor": "white",
           "landcolor": "#E5ECF6",
           "showlakes": true,
           "showland": true,
           "subunitcolor": "white"
          },
          "hoverlabel": {
           "align": "left"
          },
          "hovermode": "closest",
          "mapbox": {
           "style": "light"
          },
          "paper_bgcolor": "white",
          "plot_bgcolor": "#E5ECF6",
          "polar": {
           "angularaxis": {
            "gridcolor": "white",
            "linecolor": "white",
            "ticks": ""
           },
           "bgcolor": "#E5ECF6",
           "radialaxis": {
            "gridcolor": "white",
            "linecolor": "white",
            "ticks": ""
           }
          },
          "scene": {
           "xaxis": {
            "backgroundcolor": "#E5ECF6",
            "gridcolor": "white",
            "gridwidth": 2,
            "linecolor": "white",
            "showbackground": true,
            "ticks": "",
            "zerolinecolor": "white"
           },
           "yaxis": {
            "backgroundcolor": "#E5ECF6",
            "gridcolor": "white",
            "gridwidth": 2,
            "linecolor": "white",
            "showbackground": true,
            "ticks": "",
            "zerolinecolor": "white"
           },
           "zaxis": {
            "backgroundcolor": "#E5ECF6",
            "gridcolor": "white",
            "gridwidth": 2,
            "linecolor": "white",
            "showbackground": true,
            "ticks": "",
            "zerolinecolor": "white"
           }
          },
          "shapedefaults": {
           "line": {
            "color": "#2a3f5f"
           }
          },
          "ternary": {
           "aaxis": {
            "gridcolor": "white",
            "linecolor": "white",
            "ticks": ""
           },
           "baxis": {
            "gridcolor": "white",
            "linecolor": "white",
            "ticks": ""
           },
           "bgcolor": "#E5ECF6",
           "caxis": {
            "gridcolor": "white",
            "linecolor": "white",
            "ticks": ""
           }
          },
          "title": {
           "x": 0.05
          },
          "xaxis": {
           "automargin": true,
           "gridcolor": "white",
           "linecolor": "white",
           "ticks": "",
           "title": {
            "standoff": 15
           },
           "zerolinecolor": "white",
           "zerolinewidth": 2
          },
          "yaxis": {
           "automargin": true,
           "gridcolor": "white",
           "linecolor": "white",
           "ticks": "",
           "title": {
            "standoff": 15
           },
           "zerolinecolor": "white",
           "zerolinewidth": 2
          }
         }
        },
        "title": {
         "font": {
          "color": "#4D5663"
         },
         "text": "Fixed Parameter ARIMA Predictions"
        },
        "xaxis": {
         "autorange": true,
         "gridcolor": "#E1E5ED",
         "range": [
          "2022-02-05",
          "2025-03-22"
         ],
         "showgrid": true,
         "tickfont": {
          "color": "#4D5663"
         },
         "title": {
          "font": {
           "color": "#4D5663"
          },
          "text": "Date"
         },
         "type": "date",
         "zerolinecolor": "#E1E5ED"
        },
        "yaxis": {
         "autorange": true,
         "gridcolor": "#E1E5ED",
         "range": [
          -2784.5555555555557,
          57366.555555555555
         ],
         "showgrid": true,
         "tickfont": {
          "color": "#4D5663"
         },
         "title": {
          "font": {
           "color": "#4D5663"
          },
          "text": "Count"
         },
         "type": "linear",
         "zerolinecolor": "#E1E5ED"
        }
       }
      },
      "image/png": "[encoded data removed]",
      "text/html": [
       "<div>                            <div id=\"556e9af2-0640-458b-b3b2-753b25bfa74a\" class=\"plotly-graph-div\" style=\"height:525px; width:100%;\"></div>            <script type=\"text/javascript\">                require([\"plotly\"], function(Plotly) {                    window.PLOTLYENV=window.PLOTLYENV || {};\n",
       "                    window.PLOTLYENV.BASE_URL='https://plot.ly';                                    if (document.getElementById(\"556e9af2-0640-458b-b3b2-753b25bfa74a\")) {                    Plotly.newPlot(                        \"556e9af2-0640-458b-b3b2-753b25bfa74a\",                        [{\"line\":{\"color\":\"rgba(255, 153, 51, 1.0)\",\"dash\":\"solid\",\"shape\":\"linear\",\"width\":1.3},\"mode\":\"lines\",\"name\":\"Real Data\",\"text\":\"\",\"x\":[\"2022-02-05\",\"2022-02-12\",\"2022-02-19\",\"2022-02-26\",\"2022-03-05\",\"2022-03-12\",\"2022-03-19\",\"2022-03-26\",\"2022-04-02\",\"2022-04-09\",\"2022-04-16\",\"2022-04-23\",\"2022-04-30\",\"2022-05-07\",\"2022-05-14\",\"2022-05-21\",\"2022-05-28\",\"2022-06-04\",\"2022-06-11\",\"2022-06-18\",\"2022-06-25\",\"2022-07-02\",\"2022-07-09\",\"2022-07-16\",\"2022-07-23\",\"2022-07-30\",\"2022-08-06\",\"2022-08-13\",\"2022-08-20\",\"2022-08-27\",\"2022-09-03\",\"2022-09-10\",\"2022-09-17\",\"2022-09-24\",\"2022-10-01\",\"2022-10-08\",\"2022-10-15\",\"2022-10-22\",\"2022-10-29\",\"2022-11-05\",\"2022-11-12\",\"2022-11-19\",\"2022-11-26\",\"2022-12-03\",\"2022-12-10\",\"2022-12-17\",\"2022-12-24\",\"2022-12-31\",\"2023-01-07\",\"2023-01-14\",\"2023-01-21\",\"2023-01-28\",\"2023-02-04\",\"2023-02-11\",\"2023-02-18\",\"2023-02-25\",\"2023-03-04\",\"2023-03-11\",\"2023-03-18\",\"2023-03-25\",\"2023-04-01\",\"2023-04-08\",\"2023-04-15\",\"2023-04-22\",\"2023-04-29\",\"2023-05-06\",\"2023-05-13\",\"2023-05-20\",\"2023-05-27\",\"2023-06-03\",\"2023-06-10\",\"2023-06-17\",\"2023-06-24\",\"2023-07-01\",\"2023-07-08\",\"2023-07-15\",\"2023-07-22\",\"2023-07-29\",\"2023-08-05\",\"2023-08-12\",\"2023-08-19\",\"2023-08-26\",\"2023-09-02\",\"2023-09-09\",\"2023-09-16\",\"2023-09-23\",\"2023-09-30\",\"2023-10-07\",\"2023-10-14\",\"2023-10-21\",\"2023-10-28\",\"2023-11-04\",\"2023-11-11\",\"2023-11-18\",\"2023-11-25\",\"2023-12-02\",\"2023-12-09\",\"2023-12-16\",\"2023-12-23\",\"2023-12-30\",\"2024-01-06\",\"2024-01-13\",\"2024-01-20\",\"2024-01-27\",\"2024-02-03\",\"2024-02-10\",\"2024-02-17\",\"2024-02-24\",\"2024-03-02\",\"2024-03-09\",\"2024-03-16\",\"2024-03-23\",\"2024-03-30\",\"2024-04-06\",\"2024-04-13\",\"2024-04-20\",\"2024-04-27\",\"2024-05-04\",\"2024-05-11\",\"2024-05-18\",\"2024-05-25\",\"2024-06-01\",\"2024-06-08\",\"2024-06-15\",\"2024-06-22\",\"2024-06-29\",\"2024-07-06\",\"2024-07-13\",\"2024-07-20\",\"2024-07-27\",\"2024-08-03\",\"2024-08-10\",\"2024-08-17\",\"2024-08-24\",\"2024-08-31\",\"2024-09-07\",\"2024-09-14\",\"2024-09-21\",\"2024-09-28\",\"2024-10-05\",\"2024-10-12\",\"2024-10-19\",\"2024-10-26\",\"2024-11-02\",\"2024-11-09\",\"2024-11-16\",\"2024-11-23\",\"2024-11-30\",\"2024-12-07\",\"2024-12-14\",\"2024-12-21\",\"2024-12-28\",\"2025-01-04\",\"2025-01-11\",\"2025-01-18\",\"2025-01-25\",\"2025-02-01\",\"2025-02-08\",\"2025-02-15\",\"2025-02-22\",\"2025-03-01\",\"2025-03-08\",\"2025-03-15\",\"2025-03-22\"],\"y\":[1091.0,1164.0,1493.0,1603.0,1791.0,2097.0,2625.0,2918.0,3008.0,3149.0,3308.0,3474.0,3182.0,3175.0,3119.0,3133.0,2738.0,2678.0,2210.0,1776.0,1366.0,1073.0,776.0,766.0,628.0,522.0,486.0,490.0,483.0,483.0,545.0,576.0,665.0,796.0,921.0,1316.0,1674.0,2292.0,4184.0,6408.0,8594.0,10971.0,18177.0,26834.0,24036.0,21612.0,19632.0,19479.0,14074.0,7185.0,4489.0,3091.0,2596.0,2177.0,1908.0,1647.0,1503.0,1372.0,1415.0,1331.0,1295.0,1198.0,1077.0,982.0,903.0,994.0,980.0,1116.0,974.0,939.0,935.0,873.0,813.0,836.0,699.0,736.0,645.0,771.0,690.0,706.0,738.0,793.0,875.0,804.0,821.0,881.0,1026.0,1110.0,1215.0,1470.0,1614.0,2014.0,2775.0,3491.0,4386.0,5955.0,7497.0,10273.0,15722.0,21682.0,19548.0,15905.0,13303.0,13025.0,11964.0,11629.0,11126.0,10870.0,10814.0,9416.0,7324.0,6049.0,5574.0,5071.0,4073.0,2943.0,2420.0,1485.0,852.0,682.0,611.0,591.0,511.0,518.0,441.0,356.0,342.0,367.0,325.0,273.0,275.0,275.0,275.0,274.0,262.0,223.0,319.0,293.0,223.0,287.0,295.0,553.0,1084.0,977.0,2081.0,2535.0,3099.0,4298.0,6307.0,9191.0,15467.0,27749.0,38769.0,30797.0,33019.0,40681.0,51338.0,54359.0,46199.0,37854.0,30779.0,23845.0,18244.0,12294.0],\"type\":\"scatter\"},{\"line\":{\"color\":\"rgba(55, 128, 191, 1.0)\",\"dash\":\"solid\",\"shape\":\"linear\",\"width\":1.3},\"mode\":\"lines\",\"name\":\"Fixed ARIMA Prediction Prediction\",\"text\":\"\",\"x\":[\"2022-02-05\",\"2022-02-12\",\"2022-02-19\",\"2022-02-26\",\"2022-03-05\",\"2022-03-12\",\"2022-03-19\",\"2022-03-26\",\"2022-04-02\",\"2022-04-09\",\"2022-04-16\",\"2022-04-23\",\"2022-04-30\",\"2022-05-07\",\"2022-05-14\",\"2022-05-21\",\"2022-05-28\",\"2022-06-04\",\"2022-06-11\",\"2022-06-18\",\"2022-06-25\",\"2022-07-02\",\"2022-07-09\",\"2022-07-16\",\"2022-07-23\",\"2022-07-30\",\"2022-08-06\",\"2022-08-13\",\"2022-08-20\",\"2022-08-27\",\"2022-09-03\",\"2022-09-10\",\"2022-09-17\",\"2022-09-24\",\"2022-10-01\",\"2022-10-08\",\"2022-10-15\",\"2022-10-22\",\"2022-10-29\",\"2022-11-05\",\"2022-11-12\",\"2022-11-19\",\"2022-11-26\",\"2022-12-03\",\"2022-12-10\",\"2022-12-17\",\"2022-12-24\",\"2022-12-31\",\"2023-01-07\",\"2023-01-14\",\"2023-01-21\",\"2023-01-28\",\"2023-02-04\",\"2023-02-11\",\"2023-02-18\",\"2023-02-25\",\"2023-03-04\",\"2023-03-11\",\"2023-03-18\",\"2023-03-25\",\"2023-04-01\",\"2023-04-08\",\"2023-04-15\",\"2023-04-22\",\"2023-04-29\",\"2023-05-06\",\"2023-05-13\",\"2023-05-20\",\"2023-05-27\",\"2023-06-03\",\"2023-06-10\",\"2023-06-17\",\"2023-06-24\",\"2023-07-01\",\"2023-07-08\",\"2023-07-15\",\"2023-07-22\",\"2023-07-29\",\"2023-08-05\",\"2023-08-12\",\"2023-08-19\",\"2023-08-26\",\"2023-09-02\",\"2023-09-09\",\"2023-09-16\",\"2023-09-23\",\"2023-09-30\",\"2023-10-07\",\"2023-10-14\",\"2023-10-21\",\"2023-10-28\",\"2023-11-04\",\"2023-11-11\",\"2023-11-18\",\"2023-11-25\",\"2023-12-02\",\"2023-12-09\",\"2023-12-16\",\"2023-12-23\",\"2023-12-30\",\"2024-01-06\",\"2024-01-13\",\"2024-01-20\",\"2024-01-27\",\"2024-02-03\",\"2024-02-10\",\"2024-02-17\",\"2024-02-24\",\"2024-03-02\",\"2024-03-09\",\"2024-03-16\",\"2024-03-23\",\"2024-03-30\",\"2024-04-06\",\"2024-04-13\",\"2024-04-20\",\"2024-04-27\",\"2024-05-04\",\"2024-05-11\",\"2024-05-18\",\"2024-05-25\",\"2024-06-01\",\"2024-06-08\",\"2024-06-15\",\"2024-06-22\",\"2024-06-29\",\"2024-07-06\",\"2024-07-13\",\"2024-07-20\",\"2024-07-27\",\"2024-08-03\",\"2024-08-10\",\"2024-08-17\",\"2024-08-24\",\"2024-08-31\",\"2024-09-07\",\"2024-09-14\",\"2024-09-21\",\"2024-09-28\",\"2024-10-05\",\"2024-10-12\",\"2024-10-19\",\"2024-10-26\",\"2024-11-02\",\"2024-11-09\",\"2024-11-16\",\"2024-11-23\",\"2024-11-30\",\"2024-12-07\",\"2024-12-14\",\"2024-12-21\",\"2024-12-28\",\"2025-01-04\",\"2025-01-11\",\"2025-01-18\",\"2025-01-25\",\"2025-02-01\",\"2025-02-08\",\"2025-02-15\",\"2025-02-22\",\"2025-03-01\",\"2025-03-08\",\"2025-03-15\",\"2025-03-22\"],\"y\":[\"\",\"\",\"\",\"\",\"\",\"\",\"\",\"\",\"\",\"\",\"\",\"\",\"\",\"\",\"\",\"\",\"\",\"\",\"\",\"\",\"\",\"\",\"\",\"\",\"\",\"\",\"\",\"\",\"\",\"\",\"\",\"\",\"\",\"\",\"\",\"\",\"\",\"\",\"\",\"\",\"\",\"\",\"\",\"\",\"\",\"\",\"\",\"\",\"\",\"\",\"\",\"\",\"\",\"\",\"\",\"\",\"\",\"\",\"\",\"\",\"\",\"\",\"\",\"\",\"\",\"\",\"\",\"\",\"\",\"\",\"\",\"\",\"\",\"\",\"\",\"\",\"\",\"\",\"\",\"\",\"\",\"\",\"\",\"\",\"\",\"\",\"\",\"\",\"\",\"\",\"\",\"\",\"\",\"\",\"\",\"\",\"\",\"\",\"\",\"\",\"\",\"\",\"\",\"\",\"\",\"\",\"\",\"\",\"\",\"\",\"\",\"\",\"\",\"\",\"\",\"\",\"\",\"\",\"\",\"\",\"\",\"\",\"\",\"\",\"\",\"\",\"\",\"\",\"\",\"\",\"\",\"\",\"\",\"\",\"\",\"\",\"\",\"\",\"\",\"\",383.96896804001415,796.4910763489565,1073.112714224142,1664.6761938467027,2565.8751547987617,3424.0843290202256,4405.9299474855,6045.026852290889,7614.176342600892,10402.966640153592,15839.838619523118,21782.606245600655,19621.91200586226,\"\",\"\",\"\",\"\",\"\",\"\",\"\",\"\",\"\",\"\",\"\"],\"type\":\"scatter\"}],                        {\"legend\":{\"bgcolor\":\"#F5F6F9\",\"font\":{\"color\":\"#4D5663\"}},\"paper_bgcolor\":\"#F5F6F9\",\"plot_bgcolor\":\"#F5F6F9\",\"template\":{\"data\":{\"barpolar\":[{\"marker\":{\"line\":{\"color\":\"#E5ECF6\",\"width\":0.5},\"pattern\":{\"fillmode\":\"overlay\",\"size\":10,\"solidity\":0.2}},\"type\":\"barpolar\"}],\"bar\":[{\"error_x\":{\"color\":\"#2a3f5f\"},\"error_y\":{\"color\":\"#2a3f5f\"},\"marker\":{\"line\":{\"color\":\"#E5ECF6\",\"width\":0.5},\"pattern\":{\"fillmode\":\"overlay\",\"size\":10,\"solidity\":0.2}},\"type\":\"bar\"}],\"carpet\":[{\"aaxis\":{\"endlinecolor\":\"#2a3f5f\",\"gridcolor\":\"white\",\"linecolor\":\"white\",\"minorgridcolor\":\"white\",\"startlinecolor\":\"#2a3f5f\"},\"baxis\":{\"endlinecolor\":\"#2a3f5f\",\"gridcolor\":\"white\",\"linecolor\":\"white\",\"minorgridcolor\":\"white\",\"startlinecolor\":\"#2a3f5f\"},\"type\":\"carpet\"}],\"choropleth\":[{\"colorbar\":{\"outlinewidth\":0,\"ticks\":\"\"},\"type\":\"choropleth\"}],\"contourcarpet\":[{\"colorbar\":{\"outlinewidth\":0,\"ticks\":\"\"},\"type\":\"contourcarpet\"}],\"contour\":[{\"colorbar\":{\"outlinewidth\":0,\"ticks\":\"\"},\"colorscale\":[[0.0,\"#0d0887\"],[0.1111111111111111,\"#46039f\"],[0.2222222222222222,\"#7201a8\"],[0.3333333333333333,\"#9c179e\"],[0.4444444444444444,\"#bd3786\"],[0.5555555555555556,\"#d8576b\"],[0.6666666666666666,\"#ed7953\"],[0.7777777777777778,\"#fb9f3a\"],[0.8888888888888888,\"#fdca26\"],[1.0,\"#f0f921\"]],\"type\":\"contour\"}],\"heatmapgl\":[{\"colorbar\":{\"outlinewidth\":0,\"ticks\":\"\"},\"colorscale\":[[0.0,\"#0d0887\"],[0.1111111111111111,\"#46039f\"],[0.2222222222222222,\"#7201a8\"],[0.3333333333333333,\"#9c179e\"],[0.4444444444444444,\"#bd3786\"],[0.5555555555555556,\"#d8576b\"],[0.6666666666666666,\"#ed7953\"],[0.7777777777777778,\"#fb9f3a\"],[0.8888888888888888,\"#fdca26\"],[1.0,\"#f0f921\"]],\"type\":\"heatmapgl\"}],\"heatmap\":[{\"colorbar\":{\"outlinewidth\":0,\"ticks\":\"\"},\"colorscale\":[[0.0,\"#0d0887\"],[0.1111111111111111,\"#46039f\"],[0.2222222222222222,\"#7201a8\"],[0.3333333333333333,\"#9c179e\"],[0.4444444444444444,\"#bd3786\"],[0.5555555555555556,\"#d8576b\"],[0.6666666666666666,\"#ed7953\"],[0.7777777777777778,\"#fb9f3a\"],[0.8888888888888888,\"#fdca26\"],[1.0,\"#f0f921\"]],\"type\":\"heatmap\"}],\"histogram2dcontour\":[{\"colorbar\":{\"outlinewidth\":0,\"ticks\":\"\"},\"colorscale\":[[0.0,\"#0d0887\"],[0.1111111111111111,\"#46039f\"],[0.2222222222222222,\"#7201a8\"],[0.3333333333333333,\"#9c179e\"],[0.4444444444444444,\"#bd3786\"],[0.5555555555555556,\"#d8576b\"],[0.6666666666666666,\"#ed7953\"],[0.7777777777777778,\"#fb9f3a\"],[0.8888888888888888,\"#fdca26\"],[1.0,\"#f0f921\"]],\"type\":\"histogram2dcontour\"}],\"histogram2d\":[{\"colorbar\":{\"outlinewidth\":0,\"ticks\":\"\"},\"colorscale\":[[0.0,\"#0d0887\"],[0.1111111111111111,\"#46039f\"],[0.2222222222222222,\"#7201a8\"],[0.3333333333333333,\"#9c179e\"],[0.4444444444444444,\"#bd3786\"],[0.5555555555555556,\"#d8576b\"],[0.6666666666666666,\"#ed7953\"],[0.7777777777777778,\"#fb9f3a\"],[0.8888888888888888,\"#fdca26\"],[1.0,\"#f0f921\"]],\"type\":\"histogram2d\"}],\"histogram\":[{\"marker\":{\"pattern\":{\"fillmode\":\"overlay\",\"size\":10,\"solidity\":0.2}},\"type\":\"histogram\"}],\"mesh3d\":[{\"colorbar\":{\"outlinewidth\":0,\"ticks\":\"\"},\"type\":\"mesh3d\"}],\"parcoords\":[{\"line\":{\"colorbar\":{\"outlinewidth\":0,\"ticks\":\"\"}},\"type\":\"parcoords\"}],\"pie\":[{\"automargin\":true,\"type\":\"pie\"}],\"scatter3d\":[{\"line\":{\"colorbar\":{\"outlinewidth\":0,\"ticks\":\"\"}},\"marker\":{\"colorbar\":{\"outlinewidth\":0,\"ticks\":\"\"}},\"type\":\"scatter3d\"}],\"scattercarpet\":[{\"marker\":{\"colorbar\":{\"outlinewidth\":0,\"ticks\":\"\"}},\"type\":\"scattercarpet\"}],\"scattergeo\":[{\"marker\":{\"colorbar\":{\"outlinewidth\":0,\"ticks\":\"\"}},\"type\":\"scattergeo\"}],\"scattergl\":[{\"marker\":{\"colorbar\":{\"outlinewidth\":0,\"ticks\":\"\"}},\"type\":\"scattergl\"}],\"scattermapbox\":[{\"marker\":{\"colorbar\":{\"outlinewidth\":0,\"ticks\":\"\"}},\"type\":\"scattermapbox\"}],\"scatterpolargl\":[{\"marker\":{\"colorbar\":{\"outlinewidth\":0,\"ticks\":\"\"}},\"type\":\"scatterpolargl\"}],\"scatterpolar\":[{\"marker\":{\"colorbar\":{\"outlinewidth\":0,\"ticks\":\"\"}},\"type\":\"scatterpolar\"}],\"scatter\":[{\"fillpattern\":{\"fillmode\":\"overlay\",\"size\":10,\"solidity\":0.2},\"type\":\"scatter\"}],\"scatterternary\":[{\"marker\":{\"colorbar\":{\"outlinewidth\":0,\"ticks\":\"\"}},\"type\":\"scatterternary\"}],\"surface\":[{\"colorbar\":{\"outlinewidth\":0,\"ticks\":\"\"},\"colorscale\":[[0.0,\"#0d0887\"],[0.1111111111111111,\"#46039f\"],[0.2222222222222222,\"#7201a8\"],[0.3333333333333333,\"#9c179e\"],[0.4444444444444444,\"#bd3786\"],[0.5555555555555556,\"#d8576b\"],[0.6666666666666666,\"#ed7953\"],[0.7777777777777778,\"#fb9f3a\"],[0.8888888888888888,\"#fdca26\"],[1.0,\"#f0f921\"]],\"type\":\"surface\"}],\"table\":[{\"cells\":{\"fill\":{\"color\":\"#EBF0F8\"},\"line\":{\"color\":\"white\"}},\"header\":{\"fill\":{\"color\":\"#C8D4E3\"},\"line\":{\"color\":\"white\"}},\"type\":\"table\"}]},\"layout\":{\"annotationdefaults\":{\"arrowcolor\":\"#2a3f5f\",\"arrowhead\":0,\"arrowwidth\":1},\"autotypenumbers\":\"strict\",\"coloraxis\":{\"colorbar\":{\"outlinewidth\":0,\"ticks\":\"\"}},\"colorscale\":{\"diverging\":[[0,\"#8e0152\"],[0.1,\"#c51b7d\"],[0.2,\"#de77ae\"],[0.3,\"#f1b6da\"],[0.4,\"#fde0ef\"],[0.5,\"#f7f7f7\"],[0.6,\"#e6f5d0\"],[0.7,\"#b8e186\"],[0.8,\"#7fbc41\"],[0.9,\"#4d9221\"],[1,\"#276419\"]],\"sequential\":[[0.0,\"#0d0887\"],[0.1111111111111111,\"#46039f\"],[0.2222222222222222,\"#7201a8\"],[0.3333333333333333,\"#9c179e\"],[0.4444444444444444,\"#bd3786\"],[0.5555555555555556,\"#d8576b\"],[0.6666666666666666,\"#ed7953\"],[0.7777777777777778,\"#fb9f3a\"],[0.8888888888888888,\"#fdca26\"],[1.0,\"#f0f921\"]],\"sequentialminus\":[[0.0,\"#0d0887\"],[0.1111111111111111,\"#46039f\"],[0.2222222222222222,\"#7201a8\"],[0.3333333333333333,\"#9c179e\"],[0.4444444444444444,\"#bd3786\"],[0.5555555555555556,\"#d8576b\"],[0.6666666666666666,\"#ed7953\"],[0.7777777777777778,\"#fb9f3a\"],[0.8888888888888888,\"#fdca26\"],[1.0,\"#f0f921\"]]},\"colorway\":[\"#636efa\",\"#EF553B\",\"#00cc96\",\"#ab63fa\",\"#FFA15A\",\"#19d3f3\",\"#FF6692\",\"#B6E880\",\"#FF97FF\",\"#FECB52\"],\"font\":{\"color\":\"#2a3f5f\"},\"geo\":{\"bgcolor\":\"white\",\"lakecolor\":\"white\",\"landcolor\":\"#E5ECF6\",\"showlakes\":true,\"showland\":true,\"subunitcolor\":\"white\"},\"hoverlabel\":{\"align\":\"left\"},\"hovermode\":\"closest\",\"mapbox\":{\"style\":\"light\"},\"paper_bgcolor\":\"white\",\"plot_bgcolor\":\"#E5ECF6\",\"polar\":{\"angularaxis\":{\"gridcolor\":\"white\",\"linecolor\":\"white\",\"ticks\":\"\"},\"bgcolor\":\"#E5ECF6\",\"radialaxis\":{\"gridcolor\":\"white\",\"linecolor\":\"white\",\"ticks\":\"\"}},\"scene\":{\"xaxis\":{\"backgroundcolor\":\"#E5ECF6\",\"gridcolor\":\"white\",\"gridwidth\":2,\"linecolor\":\"white\",\"showbackground\":true,\"ticks\":\"\",\"zerolinecolor\":\"white\"},\"yaxis\":{\"backgroundcolor\":\"#E5ECF6\",\"gridcolor\":\"white\",\"gridwidth\":2,\"linecolor\":\"white\",\"showbackground\":true,\"ticks\":\"\",\"zerolinecolor\":\"white\"},\"zaxis\":{\"backgroundcolor\":\"#E5ECF6\",\"gridcolor\":\"white\",\"gridwidth\":2,\"linecolor\":\"white\",\"showbackground\":true,\"ticks\":\"\",\"zerolinecolor\":\"white\"}},\"shapedefaults\":{\"line\":{\"color\":\"#2a3f5f\"}},\"ternary\":{\"aaxis\":{\"gridcolor\":\"white\",\"linecolor\":\"white\",\"ticks\":\"\"},\"baxis\":{\"gridcolor\":\"white\",\"linecolor\":\"white\",\"ticks\":\"\"},\"bgcolor\":\"#E5ECF6\",\"caxis\":{\"gridcolor\":\"white\",\"linecolor\":\"white\",\"ticks\":\"\"}},\"title\":{\"x\":0.05},\"xaxis\":{\"automargin\":true,\"gridcolor\":\"white\",\"linecolor\":\"white\",\"ticks\":\"\",\"title\":{\"standoff\":15},\"zerolinecolor\":\"white\",\"zerolinewidth\":2},\"yaxis\":{\"automargin\":true,\"gridcolor\":\"white\",\"linecolor\":\"white\",\"ticks\":\"\",\"title\":{\"standoff\":15},\"zerolinecolor\":\"white\",\"zerolinewidth\":2}}},\"title\":{\"font\":{\"color\":\"#4D5663\"},\"text\":\"Fixed Parameter ARIMA Predictions\"},\"xaxis\":{\"gridcolor\":\"#E1E5ED\",\"showgrid\":true,\"tickfont\":{\"color\":\"#4D5663\"},\"title\":{\"font\":{\"color\":\"#4D5663\"},\"text\":\"Date\"},\"zerolinecolor\":\"#E1E5ED\"},\"yaxis\":{\"gridcolor\":\"#E1E5ED\",\"showgrid\":true,\"tickfont\":{\"color\":\"#4D5663\"},\"title\":{\"font\":{\"color\":\"#4D5663\"},\"text\":\"Count\"},\"zerolinecolor\":\"#E1E5ED\"}},                        {\"showLink\": true, \"linkText\": \"Export to plot.ly\", \"plotlyServerURL\": \"https://plot.ly\", \"responsive\": true}                    ).then(function(){\n",
       "                            \n",
       "var gd = document.getElementById('556e9af2-0640-458b-b3b2-753b25bfa74a');\n",
       "var x = new MutationObserver(function (mutations, observer) {{\n",
       "        var display = window.getComputedStyle(gd).display;\n",
       "        if (!display || display === 'none') {{\n",
       "            console.log([gd, 'removed!']);\n",
       "            Plotly.purge(gd);\n",
       "            observer.disconnect();\n",
       "        }}\n",
       "}});\n",
       "\n",
       "// Listen for the removal of the full notebook cells\n",
       "var notebookContainer = gd.closest('#notebook-container');\n",
       "if (notebookContainer) {{\n",
       "    x.observe(notebookContainer, {childList: true});\n",
       "}}\n",
       "\n",
       "// Listen for the clearing of the current output cell\n",
       "var outputEl = gd.closest('.output');\n",
       "if (outputEl) {{\n",
       "    x.observe(outputEl, {childList: true});\n",
       "}}\n",
       "\n",
       "                        })                };                });            </script>        </div>"
      ]
     },
     "metadata": {},
     "output_type": "display_data"
    }
   ],
   "source": [
    "Processor.create_graph()"
   ]
  },
  {
   "cell_type": "code",
   "execution_count": 17,
   "id": "374c8859-7387-4850-a588-926c55e54868",
   "metadata": {
    "tags": []
   },
   "outputs": [],
   "source": [
    "Processor.create_metrics()"
   ]
  },
  {
   "cell_type": "code",
   "execution_count": 18,
   "id": "e4a15851-07e8-4a1b-8b46-f2fb13c6fd26",
   "metadata": {
    "tags": []
   },
   "outputs": [],
   "source": [
    "Processor.create_metrics_df()"
   ]
  },
  {
   "cell_type": "code",
   "execution_count": 19,
   "id": "ca2e1337-278c-4226-8669-3500925df47d",
   "metadata": {
    "tags": []
   },
   "outputs": [
    {
     "data": {
      "text/html": [
       "<div>\n",
       "<style scoped>\n",
       "    .dataframe tbody tr th:only-of-type {\n",
       "        vertical-align: middle;\n",
       "    }\n",
       "\n",
       "    .dataframe tbody tr th {\n",
       "        vertical-align: top;\n",
       "    }\n",
       "\n",
       "    .dataframe thead th {\n",
       "        text-align: right;\n",
       "    }\n",
       "</style>\n",
       "<table border=\"1\" class=\"dataframe\">\n",
       "  <thead>\n",
       "    <tr style=\"text-align: right;\">\n",
       "      <th></th>\n",
       "      <th>Reference Date</th>\n",
       "      <th>MAE</th>\n",
       "      <th>MSE</th>\n",
       "      <th>MAPE</th>\n",
       "      <th>NMSE</th>\n",
       "    </tr>\n",
       "  </thead>\n",
       "  <tbody>\n",
       "    <tr>\n",
       "      <th>0</th>\n",
       "      <td>2024-10-05</td>\n",
       "      <td>2574.184858</td>\n",
       "      <td>3.168088e+07</td>\n",
       "      <td>0.303065</td>\n",
       "      <td>0.241418</td>\n",
       "    </tr>\n",
       "  </tbody>\n",
       "</table>\n",
       "</div>"
      ],
      "text/plain": [
       "  Reference Date          MAE           MSE      MAPE      NMSE\n",
       "0     2024-10-05  2574.184858  3.168088e+07  0.303065  0.241418"
      ]
     },
     "execution_count": 19,
     "metadata": {},
     "output_type": "execute_result"
    }
   ],
   "source": [
    "Processor.metrics_df"
   ]
  },
  {
   "cell_type": "code",
   "execution_count": 20,
   "id": "78efb7d6-c255-4bcf-84f7-ae56b0544062",
   "metadata": {
    "tags": []
   },
   "outputs": [],
   "source": [
    "Processor.create_display_df()"
   ]
  },
  {
   "cell_type": "code",
   "execution_count": 21,
   "id": "77230c08-f33c-4284-82e7-cee3fc9c41a7",
   "metadata": {
    "tags": []
   },
   "outputs": [
    {
     "data": {
      "text/html": [
       "<div>\n",
       "<style scoped>\n",
       "    .dataframe tbody tr th:only-of-type {\n",
       "        vertical-align: middle;\n",
       "    }\n",
       "\n",
       "    .dataframe tbody tr th {\n",
       "        vertical-align: top;\n",
       "    }\n",
       "\n",
       "    .dataframe thead th {\n",
       "        text-align: right;\n",
       "    }\n",
       "</style>\n",
       "<table border=\"1\" class=\"dataframe\">\n",
       "  <thead>\n",
       "    <tr style=\"text-align: right;\">\n",
       "      <th></th>\n",
       "      <th>Reference Date</th>\n",
       "      <th>Target End Date</th>\n",
       "      <th>Prediction</th>\n",
       "    </tr>\n",
       "  </thead>\n",
       "  <tbody>\n",
       "    <tr>\n",
       "      <th>0</th>\n",
       "      <td>2024-10-05</td>\n",
       "      <td>2024-10-12</td>\n",
       "      <td>383.968968</td>\n",
       "    </tr>\n",
       "    <tr>\n",
       "      <th>1</th>\n",
       "      <td>2024-10-05</td>\n",
       "      <td>2024-10-19</td>\n",
       "      <td>796.491076</td>\n",
       "    </tr>\n",
       "    <tr>\n",
       "      <th>2</th>\n",
       "      <td>2024-10-05</td>\n",
       "      <td>2024-10-26</td>\n",
       "      <td>1073.112714</td>\n",
       "    </tr>\n",
       "    <tr>\n",
       "      <th>3</th>\n",
       "      <td>2024-10-05</td>\n",
       "      <td>2024-11-02</td>\n",
       "      <td>1664.676194</td>\n",
       "    </tr>\n",
       "    <tr>\n",
       "      <th>4</th>\n",
       "      <td>2024-10-05</td>\n",
       "      <td>2024-11-09</td>\n",
       "      <td>2565.875155</td>\n",
       "    </tr>\n",
       "    <tr>\n",
       "      <th>5</th>\n",
       "      <td>2024-10-05</td>\n",
       "      <td>2024-11-16</td>\n",
       "      <td>3424.084329</td>\n",
       "    </tr>\n",
       "    <tr>\n",
       "      <th>6</th>\n",
       "      <td>2024-10-05</td>\n",
       "      <td>2024-11-23</td>\n",
       "      <td>4405.929947</td>\n",
       "    </tr>\n",
       "    <tr>\n",
       "      <th>7</th>\n",
       "      <td>2024-10-05</td>\n",
       "      <td>2024-11-30</td>\n",
       "      <td>6045.026852</td>\n",
       "    </tr>\n",
       "    <tr>\n",
       "      <th>8</th>\n",
       "      <td>2024-10-05</td>\n",
       "      <td>2024-12-07</td>\n",
       "      <td>7614.176343</td>\n",
       "    </tr>\n",
       "    <tr>\n",
       "      <th>9</th>\n",
       "      <td>2024-10-05</td>\n",
       "      <td>2024-12-14</td>\n",
       "      <td>10402.966640</td>\n",
       "    </tr>\n",
       "    <tr>\n",
       "      <th>10</th>\n",
       "      <td>2024-10-05</td>\n",
       "      <td>2024-12-21</td>\n",
       "      <td>15839.838620</td>\n",
       "    </tr>\n",
       "    <tr>\n",
       "      <th>11</th>\n",
       "      <td>2024-10-05</td>\n",
       "      <td>2024-12-28</td>\n",
       "      <td>21782.606246</td>\n",
       "    </tr>\n",
       "    <tr>\n",
       "      <th>12</th>\n",
       "      <td>2024-10-05</td>\n",
       "      <td>2025-01-04</td>\n",
       "      <td>19621.912006</td>\n",
       "    </tr>\n",
       "  </tbody>\n",
       "</table>\n",
       "</div>"
      ],
      "text/plain": [
       "   Reference Date Target End Date    Prediction\n",
       "0      2024-10-05      2024-10-12    383.968968\n",
       "1      2024-10-05      2024-10-19    796.491076\n",
       "2      2024-10-05      2024-10-26   1073.112714\n",
       "3      2024-10-05      2024-11-02   1664.676194\n",
       "4      2024-10-05      2024-11-09   2565.875155\n",
       "5      2024-10-05      2024-11-16   3424.084329\n",
       "6      2024-10-05      2024-11-23   4405.929947\n",
       "7      2024-10-05      2024-11-30   6045.026852\n",
       "8      2024-10-05      2024-12-07   7614.176343\n",
       "9      2024-10-05      2024-12-14  10402.966640\n",
       "10     2024-10-05      2024-12-21  15839.838620\n",
       "11     2024-10-05      2024-12-28  21782.606246\n",
       "12     2024-10-05      2025-01-04  19621.912006"
      ]
     },
     "execution_count": 21,
     "metadata": {},
     "output_type": "execute_result"
    }
   ],
   "source": [
    "Processor.display_df"
   ]
  },
  {
   "cell_type": "code",
   "execution_count": null,
   "id": "3eaddb76-cba7-498b-8bca-f9d3617eabc8",
   "metadata": {
    "tags": []
   },
   "outputs": [],
   "source": []
  },
  {
   "cell_type": "code",
   "execution_count": 9,
   "id": "b8529d6d-562b-457b-882a-2fa06768fcbd",
   "metadata": {
    "tags": []
   },
   "outputs": [],
   "source": []
  },
  {
   "cell_type": "code",
   "execution_count": 20,
   "id": "caf41874-c58c-4c73-9e5b-380e3e21fc80",
   "metadata": {
    "tags": []
   },
   "outputs": [],
   "source": []
  },
  {
   "cell_type": "code",
   "execution_count": 48,
   "id": "077e4340-3b2f-4d66-bff7-e7c3f41e4ead",
   "metadata": {},
   "outputs": [],
   "source": []
  },
  {
   "cell_type": "code",
   "execution_count": null,
   "id": "030bedc6-de34-4bdb-81ee-6d2c8b90adab",
   "metadata": {},
   "outputs": [],
   "source": []
  },
  {
   "cell_type": "code",
   "execution_count": null,
   "id": "cbd479aa-1853-4c1b-8361-a5e7c5651e6b",
   "metadata": {},
   "outputs": [],
   "source": []
  },
  {
   "cell_type": "code",
   "execution_count": null,
   "id": "02f3baf4-7619-4f18-86a7-8803879b2d2f",
   "metadata": {},
   "outputs": [],
   "source": []
  },
  {
   "cell_type": "code",
   "execution_count": null,
   "id": "e5832323-b698-4753-9e0b-9439e92267de",
   "metadata": {},
   "outputs": [],
   "source": []
  },
  {
   "cell_type": "code",
   "execution_count": null,
   "id": "c193ea1b-68de-449d-b95d-a0333ba92199",
   "metadata": {
    "tags": []
   },
   "outputs": [],
   "source": []
  },
  {
   "cell_type": "code",
   "execution_count": null,
   "id": "a7dc6476-305c-488a-ae80-34f406c61844",
   "metadata": {},
   "outputs": [],
   "source": []
  },
  {
   "cell_type": "code",
   "execution_count": null,
   "id": "d9e56ce1-beaa-403c-8fbc-996d91df7cce",
   "metadata": {},
   "outputs": [],
   "source": []
  },
  {
   "cell_type": "code",
   "execution_count": null,
   "id": "981a9f6f-4c3b-48fb-a5b1-18cc03b7d90b",
   "metadata": {},
   "outputs": [],
   "source": []
  },
  {
   "cell_type": "code",
   "execution_count": null,
   "id": "8a3c4f48-4ada-4427-914f-66d14c7fd958",
   "metadata": {},
   "outputs": [],
   "source": []
  },
  {
   "cell_type": "code",
   "execution_count": null,
   "id": "3d1919b1-062b-44f7-921c-72bafa71e7f3",
   "metadata": {},
   "outputs": [],
   "source": []
  },
  {
   "cell_type": "code",
   "execution_count": null,
   "id": "1edb6053-501b-4962-b0a8-de17fef19d52",
   "metadata": {},
   "outputs": [],
   "source": []
  },
  {
   "cell_type": "code",
   "execution_count": null,
   "id": "c78ac5a6-044c-441f-b70d-257d21d84011",
   "metadata": {},
   "outputs": [],
   "source": []
  },
  {
   "cell_type": "code",
   "execution_count": null,
   "id": "f99fa251-ef78-42e9-8f26-95a27208eed8",
   "metadata": {},
   "outputs": [],
   "source": []
  },
  {
   "cell_type": "code",
   "execution_count": null,
   "id": "d0973270-e4aa-4f6c-8f89-b3c9f3a73809",
   "metadata": {},
   "outputs": [],
   "source": []
  },
  {
   "cell_type": "code",
   "execution_count": null,
   "id": "ffeee10d-8b04-4529-9902-d90384335124",
   "metadata": {},
   "outputs": [],
   "source": []
  },
  {
   "cell_type": "code",
   "execution_count": null,
   "id": "5b395d74-d4b5-4e37-90bc-dcbd3441bf6c",
   "metadata": {},
   "outputs": [],
   "source": []
  },
  {
   "cell_type": "code",
   "execution_count": 3,
   "id": "bec0e1e4-da19-47d7-b44a-c32fbb7b6295",
   "metadata": {
    "tags": []
   },
   "outputs": [],
   "source": [
    "class UpdatingARIMAProcessor:\n",
    "    def __init__(self, overall_df, dates):\n",
    "        self.overall_df = overall_df\n",
    "        self.overall_df_value_col = \"value\"\n",
    "        self.dates = dates\n",
    "        \n",
    "        self.dfs = []\n",
    "        self.sf = None\n",
    "        self.forecasts = []\n",
    "        self.plotting_df = pd.DataFrame()\n",
    "        \n",
    "        self.maes = []\n",
    "        self.mses = []\n",
    "        self.mapes = []\n",
    "        self.nmses = []\n",
    "        \n",
    "        self.metrics_df = pd.DataFrame(columns = [\"Reference Date\", \"MAE\", \"MSE\", \"MAPE\", \"NMSE\"])\n",
    "        self.display_df = pd.DataFrame(columns = [\"Reference Date\", \"Target End Date\", \"Prediction\"])\n",
    "    \n",
    "    def create_training_dfs(self, value_col):\n",
    "        self.overall_df_value_col = value_col\n",
    "        for date in self.dates:\n",
    "            df = self.overall_df.loc[:date]\n",
    "            df['ds'] = df.index\n",
    "            df[\"unique_id\"] = \"series_1\"\n",
    "            df = df.rename(columns = {value_col: \"y\"})\n",
    "            self.dfs.append(df)\n",
    "            \n",
    "    def create_models(self, h, freq, season_length, model_names, level = []):\n",
    "\n",
    "        self.sf = StatsForecast(models=[AutoARIMA(season_length=season_length)], freq = freq)\n",
    "      \n",
    "        for i in range(len(self.dfs)):\n",
    "            self.sf.fit(self.dfs[i])\n",
    "            fc = pd.DataFrame()\n",
    "            if not level:\n",
    "                fc = self.sf.predict(h = prediction_horizon)\n",
    "            else:\n",
    "                fc = self.sf.predict(h = prediction_horizon, level = level)\n",
    "            \n",
    "            fc.set_index(\"ds\", inplace = True)\n",
    "            self.forecasts.append(fc)\n",
    "            #self.sf.save(path = f\"./{self.model_type}/updating_models/{model_names[i]}.ckpt\")\n",
    "    \n",
    "    def create_graph(self):\n",
    "        self.plotting_df.index = self.overall_df.index\n",
    "        self.plotting_df[\"Real Data\"] = self.overall_df[self.overall_df_value_col]\n",
    "        \n",
    "        for i in range(len(self.forecasts)):\n",
    "            date_obj = datetime.strptime(self.dates[i], \"%Y-%m-%d\")\n",
    "            english_date = date_obj.strftime(\"%B %d, %Y\")\n",
    "            \n",
    "\n",
    "            self.plotting_df[f\"{english_date} Model\"] = self.forecasts[i][\"AutoARIMA\"]\n",
    "\n",
    "        self.plotting_df.iplot(xTitle = \"Date\", yTitle = \"Count\", title = f\"Fixed Parameter ARIMA Predictions\")\n",
    "        \n",
    "    def calculate_metrics(self):\n",
    "        col_string = \"AutoARIMA\"\n",
    "      \n",
    "        for i in range(len(self.forecasts)):\n",
    "            mae = mean_absolute_error(self.overall_df[self.overall_df_value_col].loc[self.forecasts[i].index], self.forecasts[i][col_string])\n",
    "            mse = mean_squared_error(self.overall_df[self.overall_df_value_col].loc[self.forecasts[i].index], self.forecasts[i][col_string])\n",
    "            mape = mean_absolute_percentage_error(self.overall_df[self.overall_df_value_col].loc[self.forecasts[i].index], self.forecasts[i][col_string])\n",
    "            nmse = mse/np.var(self.overall_df[self.overall_df_value_col].loc[self.forecasts[i].index])\n",
    "            \n",
    "            self.maes.append(mae)\n",
    "            self.mses.append(mse)\n",
    "            self.mapes.append(mape)\n",
    "            self.nmses.append(nmse)\n",
    "    \n",
    "    def create_metrics_df(self):\n",
    "        for i in range(len(self.dates)):\n",
    "            self.metrics_df.loc[len(self.metrics_df)] = [self.dates[i], self.maes[i], self.mses[i], self.mapes[i], self.nmses[i]]\n",
    "    \n",
    "    def create_display_df(self):\n",
    "        for i in range(len(self.forecasts)):\n",
    "            for index, row in self.forecasts[i].iterrows():\n",
    "                reference_date = self.dates[i]\n",
    "                target_end_date = index\n",
    "                value = row[1]\n",
    "                self.display_df.loc[len(self.display_df)] = [reference_date, target_end_date, value]"
   ]
  },
  {
   "cell_type": "code",
   "execution_count": null,
   "id": "4e39a3f8-0717-427f-a8e4-2ed9304d8734",
   "metadata": {},
   "outputs": [],
   "source": []
  },
  {
   "cell_type": "code",
   "execution_count": null,
   "id": "5626d5b5-6dd2-44e0-8d38-71bf4ef2a8be",
   "metadata": {
    "tags": []
   },
   "outputs": [],
   "source": [
    "updated_df = pd.read_csv(\"https://raw.githubusercontent.com/cdcepi/FluSight-forecast-hub/refs/heads/main/target-data/target-hospital-admissions.csv\")"
   ]
  },
  {
   "cell_type": "code",
   "execution_count": null,
   "id": "0d1830a6-5703-44b5-8ebe-316d1b293632",
   "metadata": {
    "tags": []
   },
   "outputs": [],
   "source": [
    "updated_df = updated_df[updated_df[\"location_name\"] == \"US\"]\n",
    "updated_df = updated_df[[\"date\", \"value\"]]\n",
    "updated_df[\"date\"] = pd.to_datetime(updated_df[\"date\"])\n",
    "updated_df.set_index(\"date\", inplace = True)\n",
    "updated_df.sort_values(by = \"date\", inplace = True)"
   ]
  },
  {
   "cell_type": "code",
   "execution_count": null,
   "id": "aaa541d1-90d0-427d-b202-edc1da7b1ef6",
   "metadata": {
    "tags": []
   },
   "outputs": [],
   "source": [
    "UProcessor = UpdatingAUTOModelProcessor(overall_df = updated_df, dates = [\"2024-10-05\", \"2024-10-19\", \"2024-11-02\", \"2024-11-16\", \"2024-12-07\"], model_type = \"ETS\")"
   ]
  },
  {
   "cell_type": "code",
   "execution_count": null,
   "id": "b71d6f9f-98d0-4f79-bd1c-dc81cd515ab1",
   "metadata": {
    "tags": []
   },
   "outputs": [],
   "source": [
    "UProcessor.create_training_dfs(value_col = \"value\")"
   ]
  },
  {
   "cell_type": "code",
   "execution_count": null,
   "id": "8bacffe1-79c6-4e84-b2cc-69007a10b998",
   "metadata": {
    "tags": []
   },
   "outputs": [],
   "source": [
    "UProcessor.create_models(h = 4, freq = \"W-SAT\", season_length = 52, model_name = \"test\")"
   ]
  },
  {
   "cell_type": "code",
   "execution_count": null,
   "id": "5f953c1b-2842-42d7-930e-a16f3b079447",
   "metadata": {
    "tags": []
   },
   "outputs": [],
   "source": [
    "UProcessor.forecasts[4]"
   ]
  },
  {
   "cell_type": "code",
   "execution_count": null,
   "id": "5d760e6c-be04-4ae8-ba00-625f8cc2007b",
   "metadata": {
    "tags": []
   },
   "outputs": [],
   "source": [
    "UProcessor.create_graph()"
   ]
  },
  {
   "cell_type": "code",
   "execution_count": null,
   "id": "9ec96acf-ba03-4328-b604-700e099acbd2",
   "metadata": {},
   "outputs": [],
   "source": []
  },
  {
   "cell_type": "code",
   "execution_count": null,
   "id": "dc4487e3-5ef8-40bc-a673-354a2f41774c",
   "metadata": {
    "tags": []
   },
   "outputs": [],
   "source": [
    "UProcessor.calculate_metrics()"
   ]
  },
  {
   "cell_type": "code",
   "execution_count": null,
   "id": "9b615ea9-42bf-4a7b-a857-418d22e4cfe9",
   "metadata": {
    "tags": []
   },
   "outputs": [],
   "source": [
    "UProcessor.create_metrics_df()"
   ]
  },
  {
   "cell_type": "code",
   "execution_count": null,
   "id": "38c8a9c8-0da9-4170-9fde-0ecffe707fc4",
   "metadata": {
    "tags": []
   },
   "outputs": [],
   "source": [
    "UProcessor.create_display_df()"
   ]
  },
  {
   "cell_type": "code",
   "execution_count": null,
   "id": "0b7f26cc-9b10-4256-97bc-d1b97f1af758",
   "metadata": {
    "tags": []
   },
   "outputs": [],
   "source": [
    "UProcessor.metrics_df"
   ]
  },
  {
   "cell_type": "code",
   "execution_count": null,
   "id": "aeb8c52e-1439-43a5-ac1e-9b6c155b05e9",
   "metadata": {
    "tags": []
   },
   "outputs": [],
   "source": [
    "UProcessor.display_df"
   ]
  },
  {
   "cell_type": "code",
   "execution_count": 22,
   "id": "f11389a4-f189-45a4-8aee-51cf96249341",
   "metadata": {
    "tags": []
   },
   "outputs": [
    {
     "data": {
      "text/plain": [
       "\u001b[0;31mSignature:\u001b[0m\n",
       "\u001b[0mStatsForecast\u001b[0m\u001b[0;34m.\u001b[0m\u001b[0msave\u001b[0m\u001b[0;34m(\u001b[0m\u001b[0;34m\u001b[0m\n",
       "\u001b[0;34m\u001b[0m    \u001b[0mself\u001b[0m\u001b[0;34m,\u001b[0m\u001b[0;34m\u001b[0m\n",
       "\u001b[0;34m\u001b[0m    \u001b[0mpath\u001b[0m\u001b[0;34m:\u001b[0m \u001b[0mUnion\u001b[0m\u001b[0;34m[\u001b[0m\u001b[0mpathlib\u001b[0m\u001b[0;34m.\u001b[0m\u001b[0mPath\u001b[0m\u001b[0;34m,\u001b[0m \u001b[0mstr\u001b[0m\u001b[0;34m,\u001b[0m \u001b[0mNoneType\u001b[0m\u001b[0;34m]\u001b[0m \u001b[0;34m=\u001b[0m \u001b[0;32mNone\u001b[0m\u001b[0;34m,\u001b[0m\u001b[0;34m\u001b[0m\n",
       "\u001b[0;34m\u001b[0m    \u001b[0mmax_size\u001b[0m\u001b[0;34m:\u001b[0m \u001b[0mOptional\u001b[0m\u001b[0;34m[\u001b[0m\u001b[0mstr\u001b[0m\u001b[0;34m]\u001b[0m \u001b[0;34m=\u001b[0m \u001b[0;32mNone\u001b[0m\u001b[0;34m,\u001b[0m\u001b[0;34m\u001b[0m\n",
       "\u001b[0;34m\u001b[0m    \u001b[0mtrim\u001b[0m\u001b[0;34m:\u001b[0m \u001b[0mbool\u001b[0m \u001b[0;34m=\u001b[0m \u001b[0;32mFalse\u001b[0m\u001b[0;34m,\u001b[0m\u001b[0;34m\u001b[0m\n",
       "\u001b[0;34m\u001b[0m\u001b[0;34m)\u001b[0m\u001b[0;34m\u001b[0m\u001b[0;34m\u001b[0m\u001b[0m\n",
       "\u001b[0;31mDocstring:\u001b[0m\n",
       "Function that will save StatsForecast class with certain settings to make it\n",
       "reproducible.\n",
       "\n",
       "Parameters\n",
       "----------\n",
       "path : str or pathlib.Path, optional (default=None)\n",
       "    Path of the file to be saved. If `None` will create one in the current\n",
       "    directory using the current UTC timestamp.\n",
       "max_size : str, optional (default = None)\n",
       "    StatsForecast object should not exceed this size.\n",
       "    Available byte naming: ['B', 'KB', 'MB', 'GB']\n",
       "trim : bool (default = False)\n",
       "    Delete any attributes not needed for inference.\n",
       "\u001b[0;31mFile:\u001b[0m      ~/.local/lib/python3.11/site-packages/statsforecast/core.py\n",
       "\u001b[0;31mType:\u001b[0m      function"
      ]
     },
     "metadata": {},
     "output_type": "display_data"
    }
   ],
   "source": [
    "StatsForecast.save?"
   ]
  },
  {
   "cell_type": "code",
   "execution_count": 21,
   "id": "6b1963b9-bf6e-444c-9447-b2f21a0bf6c4",
   "metadata": {},
   "outputs": [
    {
     "name": "stdout",
     "output_type": "stream",
     "text": [
      "Object `AutoARIMA.save` not found.\n"
     ]
    }
   ],
   "source": [
    "AutoARIMA.save?"
   ]
  },
  {
   "cell_type": "code",
   "execution_count": 16,
   "id": "a09fcd69-bd37-4a43-abe4-bb14df194de1",
   "metadata": {
    "tags": []
   },
   "outputs": [],
   "source": [
    "sf = StatsForecast(models=[AutoARIMA(season_length=52)], freq = \"W-SAT\")"
   ]
  },
  {
   "cell_type": "code",
   "execution_count": 17,
   "id": "1f1ab4a7-5266-4a5c-a021-c8dcc9bc4081",
   "metadata": {
    "tags": []
   },
   "outputs": [
    {
     "data": {
      "text/plain": [
       "StatsForecast(models=[AutoARIMA])"
      ]
     },
     "execution_count": 17,
     "metadata": {},
     "output_type": "execute_result"
    }
   ],
   "source": [
    "sf.load(f\"AutoARIMA/fixed_models/testing\")"
   ]
  },
  {
   "cell_type": "code",
   "execution_count": null,
   "id": "4818c537-adf6-498c-b404-4405b7fe8dcb",
   "metadata": {
    "tags": []
   },
   "outputs": [],
   "source": []
  },
  {
   "cell_type": "code",
   "execution_count": null,
   "id": "82e99659-95e2-4a55-b375-e598600446b1",
   "metadata": {
    "tags": []
   },
   "outputs": [],
   "source": []
  },
  {
   "cell_type": "code",
   "execution_count": null,
   "id": "295767e1-5345-4ae9-8164-8beb1ba55387",
   "metadata": {},
   "outputs": [],
   "source": []
  }
 ],
 "metadata": {
  "kernelspec": {
   "display_name": "Python 3 (ipykernel)",
   "language": "python",
   "name": "python3"
  },
  "language_info": {
   "codemirror_mode": {
    "name": "ipython",
    "version": 3
   },
   "file_extension": ".py",
   "mimetype": "text/x-python",
   "name": "python",
   "nbconvert_exporter": "python",
   "pygments_lexer": "ipython3",
   "version": "3.11.4"
  }
 },
 "nbformat": 4,
 "nbformat_minor": 5
}
