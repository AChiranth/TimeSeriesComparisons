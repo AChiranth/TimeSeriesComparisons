{
 "cells": [
  {
   "cell_type": "code",
   "execution_count": null,
   "id": "87429ba2-44ba-4a1d-bd47-cd82f02082d3",
   "metadata": {
    "tags": []
   },
   "outputs": [],
   "source": [
    "import pandas as pd \n",
    "import numpy as np\n",
    "import matplotlib.pyplot as plt\n",
    "\n",
    "import cufflinks as cf\n",
    "from plotly import __version__\n",
    "from plotly.offline import download_plotlyjs, init_notebook_mode, plot, iplot\n",
    "\n",
    "cf.go_offline()\n",
    "\n",
    "%matplotlib inline\n",
    "from sklearn.metrics import mean_absolute_error, mean_absolute_percentage_error, mean_squared_error\n",
    "\n",
    "from neuralforecast.auto import AutoLSTM\n",
    "from neuralforecast.tsdataset import TimeSeriesDataset\n",
    "\n",
    "from datetime import datetime, timedelta"
   ]
  },
  {
   "cell_type": "code",
   "execution_count": null,
   "id": "5269b65a-f9c5-4493-a9d8-746e6442b6dc",
   "metadata": {
    "tags": []
   },
   "outputs": [],
   "source": [
    "from statsforecast import StatsForecast\n",
    "from statsforecast.models import AutoARIMA, AutoCES, AutoETS\n",
    "from statsforecast.arima import arima_string"
   ]
  },
  {
   "cell_type": "code",
   "execution_count": null,
   "id": "bec6ee04-f6df-4b88-8fb7-2a70b37bb4d5",
   "metadata": {},
   "outputs": [],
   "source": [
    "class FixedAUTOModelProcessor:\n",
    "    def __init__(self, overall_df, dates, model_type = \"ARIMA\"):\n",
    "        self.overall_df = overall_df\n",
    "        self.overall_df_value_col = \"value\"\n",
    "        self.dates = dates\n",
    "        self.model_type = model_type\n",
    "        \n",
    "        self.dfs = []\n",
    "        self.sf = None\n",
    "        self.forecast = None\n",
    "        self.plotting_df = pd.DataFrame()\n",
    "        \n",
    "        self.mae = None\n",
    "        self.mse = None\n",
    "        self.mape = None\n",
    "        self.nmse = None\n",
    "        \n",
    "        self.metrics_df = pd.DataFrame(columns = [\"Reference Date\", \"MAE\", \"MSE\", \"MAPE\", \"NMSE\"])\n",
    "        self.display_df = pd.DataFrame(columns = [\"Reference Date\", \"Target End Date\", \"Prediction\"])\n",
    "    \n",
    "    def create_training_dfs(self, value_col):\n",
    "        self.overall_df_value_col = value_col\n",
    "        for date in self.dates:\n",
    "            df = self.overall_df.loc[:date]\n",
    "            df['ds'] = df.index\n",
    "            df[\"unique_id\"] = \"series_1\"\n",
    "            df = df.rename(columns = {value_col: \"y\"})\n",
    "            self.dfs.append(df)\n",
    "    \n",
    "    def create_fixed_model(self, h, freq, season_length, model_name):\n",
    "        models = []\n",
    "        if self.model_type == \"ARIMA\":\n",
    "            self.sf = StatsForecast(models=[AutoARIMA(season_length=season_length)], freq = freq)\n",
    "        elif self.model_type == \"CES\":\n",
    "            self.sf = StatsForecast(models=[AutoCES(season_length=season_length)], freq = freq)\n",
    "        elif self.model_type == \"ETS\":\n",
    "            self.sf = StatsForecast(models=[AutoETS(model = \"AZN\")], freq = freq)\n",
    "        \n",
    "        self.sf.fit(self.dfs[0])\n",
    "        \n",
    "        start_date = datetime.strptime(self.dates[0], \"%Y-%m-%d\")\n",
    "        ending_date = datetime.strptime(self.dates[-1], \"%Y-%m-%d\") + timedelta(weeks = h)\n",
    "\n",
    "        prediction_horizon = abs((ending_date - start_date).days) // 7\n",
    "        \n",
    "        self.forecast = self.sf.predict(h = prediction_horizon)\n",
    "        self.forecast.set_index(\"ds\", inplace = True)\n",
    "        \n",
    "        #self.sf.save(path = f\"./{self.model_type}/fixed_models/{model_name}.ckpt\")\n",
    "        \n",
    "    \n",
    "    def create_graph(self):\n",
    "        self.plotting_df.index = self.overall_df.index\n",
    "        self.plotting_df[\"Real Data\"] = self.overall_df[self.overall_df_value_col]\n",
    "        \n",
    "        if self.model_type == \"ARIMA\":\n",
    "            self.plotting_df[f\"Fixed {self.model_type} Model\"] = self.forecast[\"AutoARIMA\"]\n",
    "        elif self.model_type == \"CES\":\n",
    "            self.plotting_df[f\"Fixed {self.model_type} Model\"] = self.forecast[\"CES\"]\n",
    "        elif self.model_type == \"ETS\":\n",
    "            self.plotting_df[f\"Fixed {self.model_type} Model\"] = self.forecast[\"AutoETS\"]\n",
    "        \n",
    "        self.plotting_df.iplot(xTitle = \"Date\", yTitle = \"Count\", title = f\"Fixed Parameter {self.model_type} Predictions\")\n",
    "    \n",
    "    def create_metrics(self):\n",
    "        col_string = \"\"\n",
    "        if self.model_type == \"ARIMA\":\n",
    "            col_string = \"AutoARIMA\"\n",
    "        elif self.model_type == \"CES\":\n",
    "            col_string = \"CES\"\n",
    "        elif self.model_type == \"ETS\":\n",
    "            col_string = \"AutoETS\"\n",
    "        \n",
    "        self.mae = mean_absolute_error(self.overall_df[self.overall_df_value_col].loc[self.forecast.index], self.forecast[col_string])\n",
    "        self.mse = mean_squared_error(self.overall_df[self.overall_df_value_col].loc[self.forecast.index], self.forecast[col_string])\n",
    "        self.mape = mean_absolute_percentage_error(self.overall_df[self.overall_df_value_col].loc[self.forecast.index], self.forecast[col_string])\n",
    "        self.nmse = self.mse/np.var(self.overall_df[self.overall_df_value_col].loc[self.forecast.index])\n",
    "\n",
    "    def create_metrics_df(self):\n",
    "        self.metrics_df.loc[len(self.metrics_df)] = [self.dates[0], self.mae, self.mse, self.mape, self.nmse]\n",
    "    \n",
    "    def create_display_df(self):\n",
    "        for index, row in self.forecast.iterrows():\n",
    "            reference_date = self.dates[0]\n",
    "            target_end_date = index\n",
    "            value = row[1]\n",
    "            self.display_df.loc[len(self.display_df)] = [reference_date, target_end_date, value]"
   ]
  },
  {
   "cell_type": "code",
   "execution_count": null,
   "id": "f92b3cbd-d245-43a0-9960-06be2b442442",
   "metadata": {
    "tags": []
   },
   "outputs": [],
   "source": [
    "updated_df = pd.read_csv(\"https://raw.githubusercontent.com/cdcepi/FluSight-forecast-hub/refs/heads/main/target-data/target-hospital-admissions.csv\")"
   ]
  },
  {
   "cell_type": "code",
   "execution_count": null,
   "id": "d11e863c-aba6-4746-91fc-08c8d35b8ecf",
   "metadata": {
    "tags": []
   },
   "outputs": [],
   "source": [
    "updated_df = updated_df[updated_df[\"location_name\"] == \"US\"]\n",
    "updated_df = updated_df[[\"date\", \"value\"]]\n",
    "updated_df[\"date\"] = pd.to_datetime(updated_df[\"date\"])\n",
    "updated_df.set_index(\"date\", inplace = True)\n",
    "updated_df.sort_values(by = \"date\", inplace = True)"
   ]
  },
  {
   "cell_type": "code",
   "execution_count": null,
   "id": "d0711284-325b-41be-9b51-4f883120a5e1",
   "metadata": {
    "tags": []
   },
   "outputs": [],
   "source": [
    "updated_df.iplot()"
   ]
  },
  {
   "cell_type": "code",
   "execution_count": null,
   "id": "1de2ff48-77be-4a2b-9213-dcf7bfe1c892",
   "metadata": {
    "tags": []
   },
   "outputs": [],
   "source": [
    "Processor = FixedAUTOModelProcessor(overall_df = updated_df, dates = [\"2024-10-05\", \"2024-10-19\", \"2024-11-02\", \"2024-11-16\", \"2024-12-07\"], model_type = \"ARIMA\")"
   ]
  },
  {
   "cell_type": "code",
   "execution_count": null,
   "id": "a195e8ce-711a-495b-a203-f604b0184984",
   "metadata": {
    "tags": []
   },
   "outputs": [],
   "source": [
    "Processor.dates"
   ]
  },
  {
   "cell_type": "code",
   "execution_count": null,
   "id": "922f92ad-41b1-466b-883b-2dd30cea6ea2",
   "metadata": {
    "tags": []
   },
   "outputs": [],
   "source": [
    "Processor.dfs"
   ]
  },
  {
   "cell_type": "code",
   "execution_count": null,
   "id": "9ce06829-dc62-4cf6-8890-5b285e5a292a",
   "metadata": {
    "tags": []
   },
   "outputs": [],
   "source": [
    "Processor.create_training_dfs(value_col = \"value\")"
   ]
  },
  {
   "cell_type": "code",
   "execution_count": null,
   "id": "db2eddc7-638c-47fd-ba15-22b4d8ca149c",
   "metadata": {
    "tags": []
   },
   "outputs": [],
   "source": [
    "Processor.create_fixed_model(h = 4, freq = \"W-SAT\", season_length = 52, model_name = \"testing\")"
   ]
  },
  {
   "cell_type": "code",
   "execution_count": null,
   "id": "7af09918-81c8-45ba-b39d-eb8bf67fad44",
   "metadata": {
    "tags": []
   },
   "outputs": [],
   "source": [
    "Processor.dfs[1]"
   ]
  },
  {
   "cell_type": "code",
   "execution_count": null,
   "id": "4445ca30-1ff4-466e-b2b0-253440c01732",
   "metadata": {
    "tags": []
   },
   "outputs": [],
   "source": [
    "Processor.forecast"
   ]
  },
  {
   "cell_type": "code",
   "execution_count": null,
   "id": "2b6f60b5-cf40-4a6e-8672-fdced6869fab",
   "metadata": {
    "tags": []
   },
   "outputs": [],
   "source": [
    "Processor.create_graph()"
   ]
  },
  {
   "cell_type": "code",
   "execution_count": null,
   "id": "374c8859-7387-4850-a588-926c55e54868",
   "metadata": {
    "tags": []
   },
   "outputs": [],
   "source": [
    "Processor.create_metrics()"
   ]
  },
  {
   "cell_type": "code",
   "execution_count": null,
   "id": "e4a15851-07e8-4a1b-8b46-f2fb13c6fd26",
   "metadata": {
    "tags": []
   },
   "outputs": [],
   "source": [
    "Processor.create_metrics_df()"
   ]
  },
  {
   "cell_type": "code",
   "execution_count": null,
   "id": "ca2e1337-278c-4226-8669-3500925df47d",
   "metadata": {
    "tags": []
   },
   "outputs": [],
   "source": [
    "Processor.metrics_df"
   ]
  },
  {
   "cell_type": "code",
   "execution_count": null,
   "id": "78efb7d6-c255-4bcf-84f7-ae56b0544062",
   "metadata": {
    "tags": []
   },
   "outputs": [],
   "source": [
    "Processor.create_display_df()"
   ]
  },
  {
   "cell_type": "code",
   "execution_count": null,
   "id": "77230c08-f33c-4284-82e7-cee3fc9c41a7",
   "metadata": {
    "tags": []
   },
   "outputs": [],
   "source": [
    "Processor.display_df"
   ]
  },
  {
   "cell_type": "code",
   "execution_count": null,
   "id": "3eaddb76-cba7-498b-8bca-f9d3617eabc8",
   "metadata": {
    "tags": []
   },
   "outputs": [],
   "source": []
  },
  {
   "cell_type": "code",
   "execution_count": null,
   "id": "5b395d74-d4b5-4e37-90bc-dcbd3441bf6c",
   "metadata": {},
   "outputs": [],
   "source": []
  },
  {
   "cell_type": "code",
   "execution_count": null,
   "id": "bec0e1e4-da19-47d7-b44a-c32fbb7b6295",
   "metadata": {
    "tags": []
   },
   "outputs": [],
   "source": [
    "class UpdatingAUTOModelProcessor:\n",
    "    def __init__(self, overall_df, dates, model_type = \"ARIMA\"):\n",
    "        self.overall_df = overall_df\n",
    "        self.overall_df_value_col = \"value\"\n",
    "        self.dates = dates\n",
    "        self.model_type = model_type\n",
    "        \n",
    "        self.dfs = []\n",
    "        self.sf = None\n",
    "        self.forecasts = []\n",
    "        self.plotting_df = pd.DataFrame()\n",
    "        \n",
    "        self.maes = []\n",
    "        self.mses = []\n",
    "        self.mapes = []\n",
    "        self.nmses = []\n",
    "        \n",
    "        self.metrics_df = pd.DataFrame(columns = [\"Reference Date\", \"MAE\", \"MSE\", \"MAPE\", \"NMSE\"])\n",
    "        self.display_df = pd.DataFrame(columns = [\"Reference Date\", \"Target End Date\", \"Prediction\"])\n",
    "    \n",
    "    def create_training_dfs(self, value_col):\n",
    "        self.overall_df_value_col = value_col\n",
    "        for date in self.dates:\n",
    "            df = self.overall_df.loc[:date]\n",
    "            df['ds'] = df.index\n",
    "            df[\"unique_id\"] = \"series_1\"\n",
    "            df = df.rename(columns = {value_col: \"y\"})\n",
    "            self.dfs.append(df)\n",
    "            \n",
    "    def create_models(self, h, freq, season_length, model_names):\n",
    "        if self.model_type == \"ARIMA\":\n",
    "            self.sf = StatsForecast(models=[AutoARIMA(season_length=season_length)], freq = freq)\n",
    "        elif self.model_type == \"CES\":\n",
    "            self.sf = StatsForecast(models=[AutoCES(season_length=season_length)], freq = freq)\n",
    "        elif self.model_type == \"ETS\":\n",
    "            self.sf = StatsForecast(models=[AutoETS(model = \"AZN\")], freq = freq)\n",
    "        \n",
    "        for i in range(len(self.dfs)):\n",
    "            fc = self.sf.forecast(df = self.dfs[i], h = h)\n",
    "            fc.set_index(\"ds\", inplace = True)\n",
    "            self.forecasts.append(fc)\n",
    "            #self.sf.save(path = f\"./{self.model_type}/updating_models/{model_names[i]}.ckpt\")\n",
    "    \n",
    "    def create_graph(self):\n",
    "        self.plotting_df.index = self.overall_df.index\n",
    "        self.plotting_df[\"Real Data\"] = self.overall_df[self.overall_df_value_col]\n",
    "        \n",
    "        for i in range(len(self.forecasts)):\n",
    "            date_obj = datetime.strptime(self.dates[i], \"%Y-%m-%d\")\n",
    "            english_date = date_obj.strftime(\"%B %d, %Y\")\n",
    "            \n",
    "            if self.model_type == \"ARIMA\":\n",
    "                self.plotting_df[f\"{english_date} Model\"] = self.forecasts[i][\"AutoARIMA\"]\n",
    "            elif self.model_type == \"CES\":\n",
    "                self.plotting_df[f\"{english_date} Model\"] = self.forecasts[i][\"CES\"]\n",
    "            elif self.model_type == \"ETS\":\n",
    "                self.plotting_df[f\"{english_date} Model\"] = self.forecasts[i][\"AutoETS\"]\n",
    "        \n",
    "        self.plotting_df.iplot(xTitle = \"Date\", yTitle = \"Count\", title = f\"Fixed Parameter {self.model_type} Predictions\")\n",
    "        \n",
    "    def calculate_metrics(self):\n",
    "        col_string = \"\"\n",
    "        if self.model_type == \"ARIMA\":\n",
    "            col_string = \"AutoARIMA\"\n",
    "        elif self.model_type == \"CES\":\n",
    "            col_string = \"CES\"\n",
    "        elif self.model_type == \"ETS\":\n",
    "            col_string = \"AutoETS\"\n",
    "        \n",
    "        for i in range(len(self.forecasts)):\n",
    "            mae = mean_absolute_error(self.overall_df[self.overall_df_value_col].loc[self.forecasts[i].index], self.forecasts[i][col_string])\n",
    "            mse = mean_squared_error(self.overall_df[self.overall_df_value_col].loc[self.forecasts[i].index], self.forecasts[i][col_string])\n",
    "            mape = mean_absolute_percentage_error(self.overall_df[self.overall_df_value_col].loc[self.forecasts[i].index], self.forecasts[i][col_string])\n",
    "            nmse = mse/np.var(self.overall_df[self.overall_df_value_col].loc[self.forecasts[i].index])\n",
    "            \n",
    "            self.maes.append(mae)\n",
    "            self.mses.append(mse)\n",
    "            self.mapes.append(mape)\n",
    "            self.nmses.append(nmse)\n",
    "    \n",
    "    def create_metrics_df(self):\n",
    "        for i in range(len(self.dates)):\n",
    "            self.metrics_df.loc[len(self.metrics_df)] = [self.dates[i], self.maes[i], self.mses[i], self.mapes[i], self.nmses[i]]\n",
    "    \n",
    "    def create_display_df(self):\n",
    "        for i in range(len(self.forecasts)):\n",
    "            for index, row in self.forecasts[i].iterrows():\n",
    "                reference_date = self.dates[i]\n",
    "                target_end_date = index\n",
    "                value = row[1]\n",
    "                self.display_df.loc[len(self.display_df)] = [reference_date, target_end_date, value]"
   ]
  },
  {
   "cell_type": "code",
   "execution_count": null,
   "id": "4e39a3f8-0717-427f-a8e4-2ed9304d8734",
   "metadata": {},
   "outputs": [],
   "source": []
  },
  {
   "cell_type": "code",
   "execution_count": null,
   "id": "5626d5b5-6dd2-44e0-8d38-71bf4ef2a8be",
   "metadata": {
    "tags": []
   },
   "outputs": [],
   "source": [
    "updated_df = pd.read_csv(\"https://raw.githubusercontent.com/cdcepi/FluSight-forecast-hub/refs/heads/main/target-data/target-hospital-admissions.csv\")"
   ]
  },
  {
   "cell_type": "code",
   "execution_count": null,
   "id": "0d1830a6-5703-44b5-8ebe-316d1b293632",
   "metadata": {
    "tags": []
   },
   "outputs": [],
   "source": [
    "updated_df = updated_df[updated_df[\"location_name\"] == \"US\"]\n",
    "updated_df = updated_df[[\"date\", \"value\"]]\n",
    "updated_df[\"date\"] = pd.to_datetime(updated_df[\"date\"])\n",
    "updated_df.set_index(\"date\", inplace = True)\n",
    "updated_df.sort_values(by = \"date\", inplace = True)"
   ]
  },
  {
   "cell_type": "code",
   "execution_count": null,
   "id": "aaa541d1-90d0-427d-b202-edc1da7b1ef6",
   "metadata": {
    "tags": []
   },
   "outputs": [],
   "source": [
    "UProcessor = UpdatingAUTOModelProcessor(overall_df = updated_df, dates = [\"2024-10-05\", \"2024-10-19\", \"2024-11-02\", \"2024-11-16\", \"2024-12-07\"], model_type = \"ETS\")"
   ]
  },
  {
   "cell_type": "code",
   "execution_count": null,
   "id": "b71d6f9f-98d0-4f79-bd1c-dc81cd515ab1",
   "metadata": {
    "tags": []
   },
   "outputs": [],
   "source": [
    "UProcessor.create_training_dfs(value_col = \"value\")"
   ]
  },
  {
   "cell_type": "code",
   "execution_count": null,
   "id": "8bacffe1-79c6-4e84-b2cc-69007a10b998",
   "metadata": {
    "tags": []
   },
   "outputs": [],
   "source": [
    "UProcessor.create_models(h = 4, freq = \"W-SAT\", season_length = 52, model_name = \"test\")"
   ]
  },
  {
   "cell_type": "code",
   "execution_count": null,
   "id": "5f953c1b-2842-42d7-930e-a16f3b079447",
   "metadata": {
    "tags": []
   },
   "outputs": [],
   "source": [
    "UProcessor.forecasts[4]"
   ]
  },
  {
   "cell_type": "code",
   "execution_count": null,
   "id": "5d760e6c-be04-4ae8-ba00-625f8cc2007b",
   "metadata": {
    "tags": []
   },
   "outputs": [],
   "source": [
    "UProcessor.create_graph()"
   ]
  },
  {
   "cell_type": "code",
   "execution_count": null,
   "id": "9ec96acf-ba03-4328-b604-700e099acbd2",
   "metadata": {},
   "outputs": [],
   "source": []
  },
  {
   "cell_type": "code",
   "execution_count": null,
   "id": "dc4487e3-5ef8-40bc-a673-354a2f41774c",
   "metadata": {
    "tags": []
   },
   "outputs": [],
   "source": [
    "UProcessor.calculate_metrics()"
   ]
  },
  {
   "cell_type": "code",
   "execution_count": null,
   "id": "9b615ea9-42bf-4a7b-a857-418d22e4cfe9",
   "metadata": {
    "tags": []
   },
   "outputs": [],
   "source": [
    "UProcessor.create_metrics_df()"
   ]
  },
  {
   "cell_type": "code",
   "execution_count": null,
   "id": "38c8a9c8-0da9-4170-9fde-0ecffe707fc4",
   "metadata": {
    "tags": []
   },
   "outputs": [],
   "source": [
    "UProcessor.create_display_df()"
   ]
  },
  {
   "cell_type": "code",
   "execution_count": null,
   "id": "0b7f26cc-9b10-4256-97bc-d1b97f1af758",
   "metadata": {
    "tags": []
   },
   "outputs": [],
   "source": [
    "UProcessor.metrics_df"
   ]
  },
  {
   "cell_type": "code",
   "execution_count": null,
   "id": "aeb8c52e-1439-43a5-ac1e-9b6c155b05e9",
   "metadata": {
    "tags": []
   },
   "outputs": [],
   "source": [
    "UProcessor.display_df"
   ]
  },
  {
   "cell_type": "code",
   "execution_count": null,
   "id": "f11389a4-f189-45a4-8aee-51cf96249341",
   "metadata": {
    "tags": []
   },
   "outputs": [],
   "source": [
    "StatsForecast.save?"
   ]
  },
  {
   "cell_type": "code",
   "execution_count": null,
   "id": "6b1963b9-bf6e-444c-9447-b2f21a0bf6c4",
   "metadata": {},
   "outputs": [],
   "source": []
  }
 ],
 "metadata": {
  "kernelspec": {
   "display_name": "Python 3 (ipykernel)",
   "language": "python",
   "name": "python3"
  },
  "language_info": {
   "codemirror_mode": {
    "name": "ipython",
    "version": 3
   },
   "file_extension": ".py",
   "mimetype": "text/x-python",
   "name": "python",
   "nbconvert_exporter": "python",
   "pygments_lexer": "ipython3",
   "version": "3.11.4"
  }
 },
 "nbformat": 4,
 "nbformat_minor": 5
}
