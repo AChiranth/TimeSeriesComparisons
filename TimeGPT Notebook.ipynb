{
 "cells": [
  {
   "cell_type": "code",
   "execution_count": 1,
   "id": "c76b9aed",
   "metadata": {},
   "outputs": [],
   "source": [
    "from nixtla import NixtlaClient"
   ]
  },
  {
   "cell_type": "code",
   "execution_count": 2,
   "id": "d7ec1dbf",
   "metadata": {},
   "outputs": [],
   "source": [
    "nixtla_client = NixtlaClient(api_key=\"nixak-sVs734PNn3JEOMYhbwrfTAW5C9Y1Jqu3jDBlBW38DgOxX8tLmcZSmX4InxwXiiEFXllPOCcGmdKEYSZW\")"
   ]
  },
  {
   "cell_type": "code",
   "execution_count": 3,
   "id": "bd4f968f",
   "metadata": {},
   "outputs": [
    {
     "name": "stderr",
     "output_type": "stream",
     "text": [
      "INFO:nixtla.nixtla_client:Happy Forecasting! :)\n"
     ]
    },
    {
     "data": {
      "text/plain": [
       "True"
      ]
     },
     "execution_count": 3,
     "metadata": {},
     "output_type": "execute_result"
    }
   ],
   "source": [
    "#Verifying API key, was able to access this after creating account and following manual at\n",
    "#https://nixtlaverse.nixtla.io/nixtla/docs/getting-started/quickstart.html#step-1-create-a-timegpt-account-and-generate-your-api-key\n",
    "nixtla_client.validate_api_key()"
   ]
  },
  {
   "cell_type": "code",
   "execution_count": 4,
   "id": "1d5661f0",
   "metadata": {},
   "outputs": [
    {
     "data": {
      "text/html": [
       "        <script type=\"text/javascript\">\n",
       "        window.PlotlyConfig = {MathJaxConfig: 'local'};\n",
       "        if (window.MathJax && window.MathJax.Hub && window.MathJax.Hub.Config) {window.MathJax.Hub.Config({SVG: {font: \"STIX-Web\"}});}\n",
       "        if (typeof require !== 'undefined') {\n",
       "        require.undef(\"plotly\");\n",
       "        requirejs.config({\n",
       "            paths: {\n",
       "                'plotly': ['https://cdn.plot.ly/plotly-2.12.1.min']\n",
       "            }\n",
       "        });\n",
       "        require(['plotly'], function(Plotly) {\n",
       "            window._Plotly = Plotly;\n",
       "        });\n",
       "        }\n",
       "        </script>\n",
       "        "
      ]
     },
     "metadata": {},
     "output_type": "display_data"
    }
   ],
   "source": [
    "import pandas as pd \n",
    "import numpy as np\n",
    "import matplotlib.pyplot as plt\n",
    "\n",
    "import cufflinks as cf\n",
    "from plotly import __version__\n",
    "from plotly.offline import download_plotlyjs, init_notebook_mode, plot, iplot\n",
    "\n",
    "cf.go_offline()\n",
    "\n",
    "%matplotlib inline"
   ]
  },
  {
   "cell_type": "code",
   "execution_count": 5,
   "id": "9883a94d",
   "metadata": {},
   "outputs": [
    {
     "data": {
      "text/html": [
       "<div>\n",
       "<style scoped>\n",
       "    .dataframe tbody tr th:only-of-type {\n",
       "        vertical-align: middle;\n",
       "    }\n",
       "\n",
       "    .dataframe tbody tr th {\n",
       "        vertical-align: top;\n",
       "    }\n",
       "\n",
       "    .dataframe thead th {\n",
       "        text-align: right;\n",
       "    }\n",
       "</style>\n",
       "<table border=\"1\" class=\"dataframe\">\n",
       "  <thead>\n",
       "    <tr style=\"text-align: right;\">\n",
       "      <th></th>\n",
       "      <th>date</th>\n",
       "      <th>location</th>\n",
       "      <th>location_name</th>\n",
       "      <th>value</th>\n",
       "      <th>weekly_rate</th>\n",
       "    </tr>\n",
       "  </thead>\n",
       "  <tbody>\n",
       "    <tr>\n",
       "      <th>45</th>\n",
       "      <td>2024-02-17</td>\n",
       "      <td>US</td>\n",
       "      <td>US</td>\n",
       "      <td>11127.0</td>\n",
       "      <td>3.322337</td>\n",
       "    </tr>\n",
       "    <tr>\n",
       "      <th>98</th>\n",
       "      <td>2024-02-24</td>\n",
       "      <td>US</td>\n",
       "      <td>US</td>\n",
       "      <td>10873.0</td>\n",
       "      <td>3.246496</td>\n",
       "    </tr>\n",
       "    <tr>\n",
       "      <th>151</th>\n",
       "      <td>2024-03-02</td>\n",
       "      <td>US</td>\n",
       "      <td>US</td>\n",
       "      <td>10815.0</td>\n",
       "      <td>3.229179</td>\n",
       "    </tr>\n",
       "    <tr>\n",
       "      <th>204</th>\n",
       "      <td>2024-03-09</td>\n",
       "      <td>US</td>\n",
       "      <td>US</td>\n",
       "      <td>9417.0</td>\n",
       "      <td>2.811759</td>\n",
       "    </tr>\n",
       "    <tr>\n",
       "      <th>257</th>\n",
       "      <td>2024-03-16</td>\n",
       "      <td>US</td>\n",
       "      <td>US</td>\n",
       "      <td>7327.0</td>\n",
       "      <td>2.187720</td>\n",
       "    </tr>\n",
       "    <tr>\n",
       "      <th>...</th>\n",
       "      <td>...</td>\n",
       "      <td>...</td>\n",
       "      <td>...</td>\n",
       "      <td>...</td>\n",
       "      <td>...</td>\n",
       "    </tr>\n",
       "    <tr>\n",
       "      <th>7828</th>\n",
       "      <td>2023-03-04</td>\n",
       "      <td>US</td>\n",
       "      <td>US</td>\n",
       "      <td>1504.0</td>\n",
       "      <td>0.449069</td>\n",
       "    </tr>\n",
       "    <tr>\n",
       "      <th>7881</th>\n",
       "      <td>2023-03-11</td>\n",
       "      <td>US</td>\n",
       "      <td>US</td>\n",
       "      <td>1372.0</td>\n",
       "      <td>0.409656</td>\n",
       "    </tr>\n",
       "    <tr>\n",
       "      <th>7934</th>\n",
       "      <td>2023-03-18</td>\n",
       "      <td>US</td>\n",
       "      <td>US</td>\n",
       "      <td>1415.0</td>\n",
       "      <td>0.422495</td>\n",
       "    </tr>\n",
       "    <tr>\n",
       "      <th>7987</th>\n",
       "      <td>2023-03-25</td>\n",
       "      <td>US</td>\n",
       "      <td>US</td>\n",
       "      <td>1331.0</td>\n",
       "      <td>0.397414</td>\n",
       "    </tr>\n",
       "    <tr>\n",
       "      <th>8040</th>\n",
       "      <td>2023-04-01</td>\n",
       "      <td>US</td>\n",
       "      <td>US</td>\n",
       "      <td>1295.0</td>\n",
       "      <td>0.386665</td>\n",
       "    </tr>\n",
       "  </tbody>\n",
       "</table>\n",
       "<p>152 rows × 5 columns</p>\n",
       "</div>"
      ],
      "text/plain": [
       "           date location location_name    value  weekly_rate\n",
       "45   2024-02-17       US            US  11127.0     3.322337\n",
       "98   2024-02-24       US            US  10873.0     3.246496\n",
       "151  2024-03-02       US            US  10815.0     3.229179\n",
       "204  2024-03-09       US            US   9417.0     2.811759\n",
       "257  2024-03-16       US            US   7327.0     2.187720\n",
       "...         ...      ...           ...      ...          ...\n",
       "7828 2023-03-04       US            US   1504.0     0.449069\n",
       "7881 2023-03-11       US            US   1372.0     0.409656\n",
       "7934 2023-03-18       US            US   1415.0     0.422495\n",
       "7987 2023-03-25       US            US   1331.0     0.397414\n",
       "8040 2023-04-01       US            US   1295.0     0.386665\n",
       "\n",
       "[152 rows x 5 columns]"
      ]
     },
     "execution_count": 5,
     "metadata": {},
     "output_type": "execute_result"
    }
   ],
   "source": [
    "df = pd.read_csv(\"flu-hospital-admissions.csv\", parse_dates = [\"date\"])\n",
    "df = df[df[\"location_name\"] == \"US\"]\n",
    "df"
   ]
  },
  {
   "cell_type": "code",
   "execution_count": 17,
   "id": "eaa574b3",
   "metadata": {},
   "outputs": [
    {
     "data": {
      "text/plain": [
       "45     2024-02-17\n",
       "98     2024-02-24\n",
       "151    2024-03-02\n",
       "204    2024-03-09\n",
       "257    2024-03-16\n",
       "          ...    \n",
       "7828   2023-03-04\n",
       "7881   2023-03-11\n",
       "7934   2023-03-18\n",
       "7987   2023-03-25\n",
       "8040   2023-04-01\n",
       "Name: date, Length: 152, dtype: datetime64[ns]"
      ]
     },
     "execution_count": 17,
     "metadata": {},
     "output_type": "execute_result"
    }
   ],
   "source": [
    "df[\"date\"]"
   ]
  },
  {
   "cell_type": "code",
   "execution_count": 6,
   "id": "9da74d84",
   "metadata": {},
   "outputs": [
    {
     "data": {
      "image/png": "[encoded data removed]",
      "text/plain": [
       "<Figure size 1600x350 with 1 Axes>"
      ]
     },
     "execution_count": 6,
     "metadata": {},
     "output_type": "execute_result"
    }
   ],
   "source": [
    "#Traditional plot, works easily with pandas data frame\n",
    "#Problem can potentially arise when time/date column is the index, which is the standard practice for a normal matplotlib/plotly/pandas plotting flow\n",
    "nixtla_client.plot(df, time_col=\"date\", target_col=\"value\")"
   ]
  },
  {
   "cell_type": "code",
   "execution_count": 7,
   "id": "d2c3e2b9",
   "metadata": {},
   "outputs": [],
   "source": [
    "#No need to sort or set index, but heavy limitations on setting axis title, date ranges, etc."
   ]
  },
  {
   "cell_type": "code",
   "execution_count": 8,
   "id": "2faa86dc",
   "metadata": {},
   "outputs": [
    {
     "data": {
      "text/html": [
       "<div>\n",
       "<style scoped>\n",
       "    .dataframe tbody tr th:only-of-type {\n",
       "        vertical-align: middle;\n",
       "    }\n",
       "\n",
       "    .dataframe tbody tr th {\n",
       "        vertical-align: top;\n",
       "    }\n",
       "\n",
       "    .dataframe thead th {\n",
       "        text-align: right;\n",
       "    }\n",
       "</style>\n",
       "<table border=\"1\" class=\"dataframe\">\n",
       "  <thead>\n",
       "    <tr style=\"text-align: right;\">\n",
       "      <th></th>\n",
       "      <th>value</th>\n",
       "    </tr>\n",
       "    <tr>\n",
       "      <th>date</th>\n",
       "      <th></th>\n",
       "    </tr>\n",
       "  </thead>\n",
       "  <tbody>\n",
       "    <tr>\n",
       "      <th>2022-02-05</th>\n",
       "      <td>1095.0</td>\n",
       "    </tr>\n",
       "    <tr>\n",
       "      <th>2022-02-12</th>\n",
       "      <td>1164.0</td>\n",
       "    </tr>\n",
       "    <tr>\n",
       "      <th>2022-02-19</th>\n",
       "      <td>1493.0</td>\n",
       "    </tr>\n",
       "    <tr>\n",
       "      <th>2022-02-26</th>\n",
       "      <td>1603.0</td>\n",
       "    </tr>\n",
       "    <tr>\n",
       "      <th>2022-03-05</th>\n",
       "      <td>1791.0</td>\n",
       "    </tr>\n",
       "    <tr>\n",
       "      <th>...</th>\n",
       "      <td>...</td>\n",
       "    </tr>\n",
       "    <tr>\n",
       "      <th>2024-11-30</th>\n",
       "      <td>4348.0</td>\n",
       "    </tr>\n",
       "    <tr>\n",
       "      <th>2024-12-07</th>\n",
       "      <td>6342.0</td>\n",
       "    </tr>\n",
       "    <tr>\n",
       "      <th>2024-12-14</th>\n",
       "      <td>9118.0</td>\n",
       "    </tr>\n",
       "    <tr>\n",
       "      <th>2024-12-21</th>\n",
       "      <td>14667.0</td>\n",
       "    </tr>\n",
       "    <tr>\n",
       "      <th>2024-12-28</th>\n",
       "      <td>25693.0</td>\n",
       "    </tr>\n",
       "  </tbody>\n",
       "</table>\n",
       "<p>152 rows × 1 columns</p>\n",
       "</div>"
      ],
      "text/plain": [
       "              value\n",
       "date               \n",
       "2022-02-05   1095.0\n",
       "2022-02-12   1164.0\n",
       "2022-02-19   1493.0\n",
       "2022-02-26   1603.0\n",
       "2022-03-05   1791.0\n",
       "...             ...\n",
       "2024-11-30   4348.0\n",
       "2024-12-07   6342.0\n",
       "2024-12-14   9118.0\n",
       "2024-12-21  14667.0\n",
       "2024-12-28  25693.0\n",
       "\n",
       "[152 rows x 1 columns]"
      ]
     },
     "execution_count": 8,
     "metadata": {},
     "output_type": "execute_result"
    }
   ],
   "source": [
    "#A lot of reformatting of dataset to fit plotly or matplotlib plotting specifications\n",
    "plotly_df = df[['date','value']]\n",
    "plotly_df['date'] = pd.to_datetime(plotly_df['date'])\n",
    "plotly_df.set_index('date', inplace=True)\n",
    "plotly_df.sort_values(by=\"date\", inplace=True)\n",
    "plotly_df"
   ]
  },
  {
   "cell_type": "code",
   "execution_count": 9,
   "id": "dfd31cf0",
   "metadata": {},
   "outputs": [
    {
     "name": "stderr",
     "output_type": "stream",
     "text": [
      "/Users/anshulchiranth/anaconda3/lib/python3.11/site-packages/cufflinks/plotlytools.py:117: FutureWarning:\n",
      "\n",
      "DatetimeIndex.format is deprecated and will be removed in a future version. Convert using index.astype(str) or index.map(formatter) instead.\n",
      "\n"
     ]
    },
    {
     "data": {
      "application/vnd.plotly.v1+json": {
       "config": {
        "linkText": "Export to plot.ly",
        "plotlyServerURL": "https://plot.ly",
        "showLink": true
       },
       "data": [
        {
         "line": {
          "color": "rgba(255, 153, 51, 1.0)",
          "dash": "solid",
          "shape": "linear",
          "width": 1.3
         },
         "mode": "lines",
         "name": "value",
         "text": "",
         "type": "scatter",
         "x": [
          "2022-02-05",
          "2022-02-12",
          "2022-02-19",
          "2022-02-26",
          "2022-03-05",
          "2022-03-12",
          "2022-03-19",
          "2022-03-26",
          "2022-04-02",
          "2022-04-09",
          "2022-04-16",
          "2022-04-23",
          "2022-04-30",
          "2022-05-07",
          "2022-05-14",
          "2022-05-21",
          "2022-05-28",
          "2022-06-04",
          "2022-06-11",
          "2022-06-18",
          "2022-06-25",
          "2022-07-02",
          "2022-07-09",
          "2022-07-16",
          "2022-07-23",
          "2022-07-30",
          "2022-08-06",
          "2022-08-13",
          "2022-08-20",
          "2022-08-27",
          "2022-09-03",
          "2022-09-10",
          "2022-09-17",
          "2022-09-24",
          "2022-10-01",
          "2022-10-08",
          "2022-10-15",
          "2022-10-22",
          "2022-10-29",
          "2022-11-05",
          "2022-11-12",
          "2022-11-19",
          "2022-11-26",
          "2022-12-03",
          "2022-12-10",
          "2022-12-17",
          "2022-12-24",
          "2022-12-31",
          "2023-01-07",
          "2023-01-14",
          "2023-01-21",
          "2023-01-28",
          "2023-02-04",
          "2023-02-11",
          "2023-02-18",
          "2023-02-25",
          "2023-03-04",
          "2023-03-11",
          "2023-03-18",
          "2023-03-25",
          "2023-04-01",
          "2023-04-08",
          "2023-04-15",
          "2023-04-22",
          "2023-04-29",
          "2023-05-06",
          "2023-05-13",
          "2023-05-20",
          "2023-05-27",
          "2023-06-03",
          "2023-06-10",
          "2023-06-17",
          "2023-06-24",
          "2023-07-01",
          "2023-07-08",
          "2023-07-15",
          "2023-07-22",
          "2023-07-29",
          "2023-08-05",
          "2023-08-12",
          "2023-08-19",
          "2023-08-26",
          "2023-09-02",
          "2023-09-09",
          "2023-09-16",
          "2023-09-23",
          "2023-09-30",
          "2023-10-07",
          "2023-10-14",
          "2023-10-21",
          "2023-10-28",
          "2023-11-04",
          "2023-11-11",
          "2023-11-18",
          "2023-11-25",
          "2023-12-02",
          "2023-12-09",
          "2023-12-16",
          "2023-12-23",
          "2023-12-30",
          "2024-01-06",
          "2024-01-13",
          "2024-01-20",
          "2024-01-27",
          "2024-02-03",
          "2024-02-10",
          "2024-02-17",
          "2024-02-24",
          "2024-03-02",
          "2024-03-09",
          "2024-03-16",
          "2024-03-23",
          "2024-03-30",
          "2024-04-06",
          "2024-04-13",
          "2024-04-20",
          "2024-04-27",
          "2024-05-04",
          "2024-05-11",
          "2024-05-18",
          "2024-05-25",
          "2024-06-01",
          "2024-06-08",
          "2024-06-15",
          "2024-06-22",
          "2024-06-29",
          "2024-07-06",
          "2024-07-13",
          "2024-07-20",
          "2024-07-27",
          "2024-08-03",
          "2024-08-10",
          "2024-08-17",
          "2024-08-24",
          "2024-08-31",
          "2024-09-07",
          "2024-09-14",
          "2024-09-21",
          "2024-09-28",
          "2024-10-05",
          "2024-10-12",
          "2024-10-19",
          "2024-10-26",
          "2024-11-02",
          "2024-11-09",
          "2024-11-16",
          "2024-11-23",
          "2024-11-30",
          "2024-12-07",
          "2024-12-14",
          "2024-12-21",
          "2024-12-28"
         ],
         "y": [
          1095,
          1164,
          1493,
          1603,
          1791,
          2097,
          2626,
          2919,
          3008,
          3149,
          3308,
          3474,
          3182,
          3175,
          3119,
          3134,
          2738,
          2678,
          2210,
          1776,
          1366,
          1073,
          776,
          766,
          628,
          522,
          486,
          490,
          483,
          483,
          545,
          576,
          665,
          796,
          921,
          1316,
          1674,
          2292,
          4184,
          6409,
          8595,
          10974,
          18185,
          26853,
          24039,
          21615,
          19634,
          19482,
          14078,
          7191,
          4492,
          3092,
          2597,
          2177,
          1908,
          1649,
          1504,
          1372,
          1415,
          1331,
          1295,
          1199,
          1077,
          982,
          903,
          994,
          980,
          1116,
          974,
          939,
          935,
          873,
          813,
          836,
          699,
          736,
          645,
          772,
          690,
          706,
          738,
          793,
          875,
          804,
          821,
          884,
          1026,
          1110,
          1215,
          1470,
          1614,
          2014,
          2776,
          3492,
          4387,
          5962,
          7510,
          10289,
          15727,
          21685,
          19550,
          15909,
          13305,
          13027,
          11967,
          11635,
          11127,
          10873,
          10815,
          9417,
          7327,
          6049,
          5576,
          5073,
          4073,
          2944,
          2421,
          1485,
          852,
          684,
          611,
          591,
          511,
          519,
          441,
          356,
          342,
          367,
          325,
          273,
          276,
          275,
          275,
          274,
          262,
          223,
          319,
          293,
          223,
          287,
          264,
          552,
          1080,
          983,
          2059,
          2468,
          3078,
          4348,
          6342,
          9118,
          14667,
          25693
         ]
        }
       ],
       "layout": {
        "legend": {
         "bgcolor": "#F5F6F9",
         "font": {
          "color": "#4D5663"
         }
        },
        "paper_bgcolor": "#F5F6F9",
        "plot_bgcolor": "#F5F6F9",
        "template": {
         "data": {
          "bar": [
           {
            "error_x": {
             "color": "#2a3f5f"
            },
            "error_y": {
             "color": "#2a3f5f"
            },
            "marker": {
             "line": {
              "color": "#E5ECF6",
              "width": 0.5
             },
             "pattern": {
              "fillmode": "overlay",
              "size": 10,
              "solidity": 0.2
             }
            },
            "type": "bar"
           }
          ],
          "barpolar": [
           {
            "marker": {
             "line": {
              "color": "#E5ECF6",
              "width": 0.5
             },
             "pattern": {
              "fillmode": "overlay",
              "size": 10,
              "solidity": 0.2
             }
            },
            "type": "barpolar"
           }
          ],
          "carpet": [
           {
            "aaxis": {
             "endlinecolor": "#2a3f5f",
             "gridcolor": "white",
             "linecolor": "white",
             "minorgridcolor": "white",
             "startlinecolor": "#2a3f5f"
            },
            "baxis": {
             "endlinecolor": "#2a3f5f",
             "gridcolor": "white",
             "linecolor": "white",
             "minorgridcolor": "white",
             "startlinecolor": "#2a3f5f"
            },
            "type": "carpet"
           }
          ],
          "choropleth": [
           {
            "colorbar": {
             "outlinewidth": 0,
             "ticks": ""
            },
            "type": "choropleth"
           }
          ],
          "contour": [
           {
            "colorbar": {
             "outlinewidth": 0,
             "ticks": ""
            },
            "colorscale": [
             [
              0,
              "#0d0887"
             ],
             [
              0.1111111111111111,
              "#46039f"
             ],
             [
              0.2222222222222222,
              "#7201a8"
             ],
             [
              0.3333333333333333,
              "#9c179e"
             ],
             [
              0.4444444444444444,
              "#bd3786"
             ],
             [
              0.5555555555555556,
              "#d8576b"
             ],
             [
              0.6666666666666666,
              "#ed7953"
             ],
             [
              0.7777777777777778,
              "#fb9f3a"
             ],
             [
              0.8888888888888888,
              "#fdca26"
             ],
             [
              1,
              "#f0f921"
             ]
            ],
            "type": "contour"
           }
          ],
          "contourcarpet": [
           {
            "colorbar": {
             "outlinewidth": 0,
             "ticks": ""
            },
            "type": "contourcarpet"
           }
          ],
          "heatmap": [
           {
            "colorbar": {
             "outlinewidth": 0,
             "ticks": ""
            },
            "colorscale": [
             [
              0,
              "#0d0887"
             ],
             [
              0.1111111111111111,
              "#46039f"
             ],
             [
              0.2222222222222222,
              "#7201a8"
             ],
             [
              0.3333333333333333,
              "#9c179e"
             ],
             [
              0.4444444444444444,
              "#bd3786"
             ],
             [
              0.5555555555555556,
              "#d8576b"
             ],
             [
              0.6666666666666666,
              "#ed7953"
             ],
             [
              0.7777777777777778,
              "#fb9f3a"
             ],
             [
              0.8888888888888888,
              "#fdca26"
             ],
             [
              1,
              "#f0f921"
             ]
            ],
            "type": "heatmap"
           }
          ],
          "heatmapgl": [
           {
            "colorbar": {
             "outlinewidth": 0,
             "ticks": ""
            },
            "colorscale": [
             [
              0,
              "#0d0887"
             ],
             [
              0.1111111111111111,
              "#46039f"
             ],
             [
              0.2222222222222222,
              "#7201a8"
             ],
             [
              0.3333333333333333,
              "#9c179e"
             ],
             [
              0.4444444444444444,
              "#bd3786"
             ],
             [
              0.5555555555555556,
              "#d8576b"
             ],
             [
              0.6666666666666666,
              "#ed7953"
             ],
             [
              0.7777777777777778,
              "#fb9f3a"
             ],
             [
              0.8888888888888888,
              "#fdca26"
             ],
             [
              1,
              "#f0f921"
             ]
            ],
            "type": "heatmapgl"
           }
          ],
          "histogram": [
           {
            "marker": {
             "pattern": {
              "fillmode": "overlay",
              "size": 10,
              "solidity": 0.2
             }
            },
            "type": "histogram"
           }
          ],
          "histogram2d": [
           {
            "colorbar": {
             "outlinewidth": 0,
             "ticks": ""
            },
            "colorscale": [
             [
              0,
              "#0d0887"
             ],
             [
              0.1111111111111111,
              "#46039f"
             ],
             [
              0.2222222222222222,
              "#7201a8"
             ],
             [
              0.3333333333333333,
              "#9c179e"
             ],
             [
              0.4444444444444444,
              "#bd3786"
             ],
             [
              0.5555555555555556,
              "#d8576b"
             ],
             [
              0.6666666666666666,
              "#ed7953"
             ],
             [
              0.7777777777777778,
              "#fb9f3a"
             ],
             [
              0.8888888888888888,
              "#fdca26"
             ],
             [
              1,
              "#f0f921"
             ]
            ],
            "type": "histogram2d"
           }
          ],
          "histogram2dcontour": [
           {
            "colorbar": {
             "outlinewidth": 0,
             "ticks": ""
            },
            "colorscale": [
             [
              0,
              "#0d0887"
             ],
             [
              0.1111111111111111,
              "#46039f"
             ],
             [
              0.2222222222222222,
              "#7201a8"
             ],
             [
              0.3333333333333333,
              "#9c179e"
             ],
             [
              0.4444444444444444,
              "#bd3786"
             ],
             [
              0.5555555555555556,
              "#d8576b"
             ],
             [
              0.6666666666666666,
              "#ed7953"
             ],
             [
              0.7777777777777778,
              "#fb9f3a"
             ],
             [
              0.8888888888888888,
              "#fdca26"
             ],
             [
              1,
              "#f0f921"
             ]
            ],
            "type": "histogram2dcontour"
           }
          ],
          "mesh3d": [
           {
            "colorbar": {
             "outlinewidth": 0,
             "ticks": ""
            },
            "type": "mesh3d"
           }
          ],
          "parcoords": [
           {
            "line": {
             "colorbar": {
              "outlinewidth": 0,
              "ticks": ""
             }
            },
            "type": "parcoords"
           }
          ],
          "pie": [
           {
            "automargin": true,
            "type": "pie"
           }
          ],
          "scatter": [
           {
            "fillpattern": {
             "fillmode": "overlay",
             "size": 10,
             "solidity": 0.2
            },
            "type": "scatter"
           }
          ],
          "scatter3d": [
           {
            "line": {
             "colorbar": {
              "outlinewidth": 0,
              "ticks": ""
             }
            },
            "marker": {
             "colorbar": {
              "outlinewidth": 0,
              "ticks": ""
             }
            },
            "type": "scatter3d"
           }
          ],
          "scattercarpet": [
           {
            "marker": {
             "colorbar": {
              "outlinewidth": 0,
              "ticks": ""
             }
            },
            "type": "scattercarpet"
           }
          ],
          "scattergeo": [
           {
            "marker": {
             "colorbar": {
              "outlinewidth": 0,
              "ticks": ""
             }
            },
            "type": "scattergeo"
           }
          ],
          "scattergl": [
           {
            "marker": {
             "colorbar": {
              "outlinewidth": 0,
              "ticks": ""
             }
            },
            "type": "scattergl"
           }
          ],
          "scattermapbox": [
           {
            "marker": {
             "colorbar": {
              "outlinewidth": 0,
              "ticks": ""
             }
            },
            "type": "scattermapbox"
           }
          ],
          "scatterpolar": [
           {
            "marker": {
             "colorbar": {
              "outlinewidth": 0,
              "ticks": ""
             }
            },
            "type": "scatterpolar"
           }
          ],
          "scatterpolargl": [
           {
            "marker": {
             "colorbar": {
              "outlinewidth": 0,
              "ticks": ""
             }
            },
            "type": "scatterpolargl"
           }
          ],
          "scatterternary": [
           {
            "marker": {
             "colorbar": {
              "outlinewidth": 0,
              "ticks": ""
             }
            },
            "type": "scatterternary"
           }
          ],
          "surface": [
           {
            "colorbar": {
             "outlinewidth": 0,
             "ticks": ""
            },
            "colorscale": [
             [
              0,
              "#0d0887"
             ],
             [
              0.1111111111111111,
              "#46039f"
             ],
             [
              0.2222222222222222,
              "#7201a8"
             ],
             [
              0.3333333333333333,
              "#9c179e"
             ],
             [
              0.4444444444444444,
              "#bd3786"
             ],
             [
              0.5555555555555556,
              "#d8576b"
             ],
             [
              0.6666666666666666,
              "#ed7953"
             ],
             [
              0.7777777777777778,
              "#fb9f3a"
             ],
             [
              0.8888888888888888,
              "#fdca26"
             ],
             [
              1,
              "#f0f921"
             ]
            ],
            "type": "surface"
           }
          ],
          "table": [
           {
            "cells": {
             "fill": {
              "color": "#EBF0F8"
             },
             "line": {
              "color": "white"
             }
            },
            "header": {
             "fill": {
              "color": "#C8D4E3"
             },
             "line": {
              "color": "white"
             }
            },
            "type": "table"
           }
          ]
         },
         "layout": {
          "annotationdefaults": {
           "arrowcolor": "#2a3f5f",
           "arrowhead": 0,
           "arrowwidth": 1
          },
          "autotypenumbers": "strict",
          "coloraxis": {
           "colorbar": {
            "outlinewidth": 0,
            "ticks": ""
           }
          },
          "colorscale": {
           "diverging": [
            [
             0,
             "#8e0152"
            ],
            [
             0.1,
             "#c51b7d"
            ],
            [
             0.2,
             "#de77ae"
            ],
            [
             0.3,
             "#f1b6da"
            ],
            [
             0.4,
             "#fde0ef"
            ],
            [
             0.5,
             "#f7f7f7"
            ],
            [
             0.6,
             "#e6f5d0"
            ],
            [
             0.7,
             "#b8e186"
            ],
            [
             0.8,
             "#7fbc41"
            ],
            [
             0.9,
             "#4d9221"
            ],
            [
             1,
             "#276419"
            ]
           ],
           "sequential": [
            [
             0,
             "#0d0887"
            ],
            [
             0.1111111111111111,
             "#46039f"
            ],
            [
             0.2222222222222222,
             "#7201a8"
            ],
            [
             0.3333333333333333,
             "#9c179e"
            ],
            [
             0.4444444444444444,
             "#bd3786"
            ],
            [
             0.5555555555555556,
             "#d8576b"
            ],
            [
             0.6666666666666666,
             "#ed7953"
            ],
            [
             0.7777777777777778,
             "#fb9f3a"
            ],
            [
             0.8888888888888888,
             "#fdca26"
            ],
            [
             1,
             "#f0f921"
            ]
           ],
           "sequentialminus": [
            [
             0,
             "#0d0887"
            ],
            [
             0.1111111111111111,
             "#46039f"
            ],
            [
             0.2222222222222222,
             "#7201a8"
            ],
            [
             0.3333333333333333,
             "#9c179e"
            ],
            [
             0.4444444444444444,
             "#bd3786"
            ],
            [
             0.5555555555555556,
             "#d8576b"
            ],
            [
             0.6666666666666666,
             "#ed7953"
            ],
            [
             0.7777777777777778,
             "#fb9f3a"
            ],
            [
             0.8888888888888888,
             "#fdca26"
            ],
            [
             1,
             "#f0f921"
            ]
           ]
          },
          "colorway": [
           "#636efa",
           "#EF553B",
           "#00cc96",
           "#ab63fa",
           "#FFA15A",
           "#19d3f3",
           "#FF6692",
           "#B6E880",
           "#FF97FF",
           "#FECB52"
          ],
          "font": {
           "color": "#2a3f5f"
          },
          "geo": {
           "bgcolor": "white",
           "lakecolor": "white",
           "landcolor": "#E5ECF6",
           "showlakes": true,
           "showland": true,
           "subunitcolor": "white"
          },
          "hoverlabel": {
           "align": "left"
          },
          "hovermode": "closest",
          "mapbox": {
           "style": "light"
          },
          "paper_bgcolor": "white",
          "plot_bgcolor": "#E5ECF6",
          "polar": {
           "angularaxis": {
            "gridcolor": "white",
            "linecolor": "white",
            "ticks": ""
           },
           "bgcolor": "#E5ECF6",
           "radialaxis": {
            "gridcolor": "white",
            "linecolor": "white",
            "ticks": ""
           }
          },
          "scene": {
           "xaxis": {
            "backgroundcolor": "#E5ECF6",
            "gridcolor": "white",
            "gridwidth": 2,
            "linecolor": "white",
            "showbackground": true,
            "ticks": "",
            "zerolinecolor": "white"
           },
           "yaxis": {
            "backgroundcolor": "#E5ECF6",
            "gridcolor": "white",
            "gridwidth": 2,
            "linecolor": "white",
            "showbackground": true,
            "ticks": "",
            "zerolinecolor": "white"
           },
           "zaxis": {
            "backgroundcolor": "#E5ECF6",
            "gridcolor": "white",
            "gridwidth": 2,
            "linecolor": "white",
            "showbackground": true,
            "ticks": "",
            "zerolinecolor": "white"
           }
          },
          "shapedefaults": {
           "line": {
            "color": "#2a3f5f"
           }
          },
          "ternary": {
           "aaxis": {
            "gridcolor": "white",
            "linecolor": "white",
            "ticks": ""
           },
           "baxis": {
            "gridcolor": "white",
            "linecolor": "white",
            "ticks": ""
           },
           "bgcolor": "#E5ECF6",
           "caxis": {
            "gridcolor": "white",
            "linecolor": "white",
            "ticks": ""
           }
          },
          "title": {
           "x": 0.05
          },
          "xaxis": {
           "automargin": true,
           "gridcolor": "white",
           "linecolor": "white",
           "ticks": "",
           "title": {
            "standoff": 15
           },
           "zerolinecolor": "white",
           "zerolinewidth": 2
          },
          "yaxis": {
           "automargin": true,
           "gridcolor": "white",
           "linecolor": "white",
           "ticks": "",
           "title": {
            "standoff": 15
           },
           "zerolinecolor": "white",
           "zerolinewidth": 2
          }
         }
        },
        "title": {
         "font": {
          "color": "#4D5663"
         },
         "text": "US Flu Hospital Admissions"
        },
        "xaxis": {
         "gridcolor": "#E1E5ED",
         "showgrid": true,
         "tickfont": {
          "color": "#4D5663"
         },
         "title": {
          "font": {
           "color": "#4D5663"
          },
          "text": "Date"
         },
         "zerolinecolor": "#E1E5ED"
        },
        "yaxis": {
         "gridcolor": "#E1E5ED",
         "showgrid": true,
         "tickfont": {
          "color": "#4D5663"
         },
         "title": {
          "font": {
           "color": "#4D5663"
          },
          "text": "Count"
         },
         "zerolinecolor": "#E1E5ED"
        }
       }
      },
      "text/html": [
       "<div>                            <div id=\"8106e279-8cc8-4cdc-8491-8dd257522d89\" class=\"plotly-graph-div\" style=\"height:525px; width:100%;\"></div>            <script type=\"text/javascript\">                require([\"plotly\"], function(Plotly) {                    window.PLOTLYENV=window.PLOTLYENV || {};\n",
       "                    window.PLOTLYENV.BASE_URL='https://plot.ly';                                    if (document.getElementById(\"8106e279-8cc8-4cdc-8491-8dd257522d89\")) {                    Plotly.newPlot(                        \"8106e279-8cc8-4cdc-8491-8dd257522d89\",                        [{\"line\":{\"color\":\"rgba(255, 153, 51, 1.0)\",\"dash\":\"solid\",\"shape\":\"linear\",\"width\":1.3},\"mode\":\"lines\",\"name\":\"value\",\"text\":\"\",\"x\":[\"2022-02-05\",\"2022-02-12\",\"2022-02-19\",\"2022-02-26\",\"2022-03-05\",\"2022-03-12\",\"2022-03-19\",\"2022-03-26\",\"2022-04-02\",\"2022-04-09\",\"2022-04-16\",\"2022-04-23\",\"2022-04-30\",\"2022-05-07\",\"2022-05-14\",\"2022-05-21\",\"2022-05-28\",\"2022-06-04\",\"2022-06-11\",\"2022-06-18\",\"2022-06-25\",\"2022-07-02\",\"2022-07-09\",\"2022-07-16\",\"2022-07-23\",\"2022-07-30\",\"2022-08-06\",\"2022-08-13\",\"2022-08-20\",\"2022-08-27\",\"2022-09-03\",\"2022-09-10\",\"2022-09-17\",\"2022-09-24\",\"2022-10-01\",\"2022-10-08\",\"2022-10-15\",\"2022-10-22\",\"2022-10-29\",\"2022-11-05\",\"2022-11-12\",\"2022-11-19\",\"2022-11-26\",\"2022-12-03\",\"2022-12-10\",\"2022-12-17\",\"2022-12-24\",\"2022-12-31\",\"2023-01-07\",\"2023-01-14\",\"2023-01-21\",\"2023-01-28\",\"2023-02-04\",\"2023-02-11\",\"2023-02-18\",\"2023-02-25\",\"2023-03-04\",\"2023-03-11\",\"2023-03-18\",\"2023-03-25\",\"2023-04-01\",\"2023-04-08\",\"2023-04-15\",\"2023-04-22\",\"2023-04-29\",\"2023-05-06\",\"2023-05-13\",\"2023-05-20\",\"2023-05-27\",\"2023-06-03\",\"2023-06-10\",\"2023-06-17\",\"2023-06-24\",\"2023-07-01\",\"2023-07-08\",\"2023-07-15\",\"2023-07-22\",\"2023-07-29\",\"2023-08-05\",\"2023-08-12\",\"2023-08-19\",\"2023-08-26\",\"2023-09-02\",\"2023-09-09\",\"2023-09-16\",\"2023-09-23\",\"2023-09-30\",\"2023-10-07\",\"2023-10-14\",\"2023-10-21\",\"2023-10-28\",\"2023-11-04\",\"2023-11-11\",\"2023-11-18\",\"2023-11-25\",\"2023-12-02\",\"2023-12-09\",\"2023-12-16\",\"2023-12-23\",\"2023-12-30\",\"2024-01-06\",\"2024-01-13\",\"2024-01-20\",\"2024-01-27\",\"2024-02-03\",\"2024-02-10\",\"2024-02-17\",\"2024-02-24\",\"2024-03-02\",\"2024-03-09\",\"2024-03-16\",\"2024-03-23\",\"2024-03-30\",\"2024-04-06\",\"2024-04-13\",\"2024-04-20\",\"2024-04-27\",\"2024-05-04\",\"2024-05-11\",\"2024-05-18\",\"2024-05-25\",\"2024-06-01\",\"2024-06-08\",\"2024-06-15\",\"2024-06-22\",\"2024-06-29\",\"2024-07-06\",\"2024-07-13\",\"2024-07-20\",\"2024-07-27\",\"2024-08-03\",\"2024-08-10\",\"2024-08-17\",\"2024-08-24\",\"2024-08-31\",\"2024-09-07\",\"2024-09-14\",\"2024-09-21\",\"2024-09-28\",\"2024-10-05\",\"2024-10-12\",\"2024-10-19\",\"2024-10-26\",\"2024-11-02\",\"2024-11-09\",\"2024-11-16\",\"2024-11-23\",\"2024-11-30\",\"2024-12-07\",\"2024-12-14\",\"2024-12-21\",\"2024-12-28\"],\"y\":[1095.0,1164.0,1493.0,1603.0,1791.0,2097.0,2626.0,2919.0,3008.0,3149.0,3308.0,3474.0,3182.0,3175.0,3119.0,3134.0,2738.0,2678.0,2210.0,1776.0,1366.0,1073.0,776.0,766.0,628.0,522.0,486.0,490.0,483.0,483.0,545.0,576.0,665.0,796.0,921.0,1316.0,1674.0,2292.0,4184.0,6409.0,8595.0,10974.0,18185.0,26853.0,24039.0,21615.0,19634.0,19482.0,14078.0,7191.0,4492.0,3092.0,2597.0,2177.0,1908.0,1649.0,1504.0,1372.0,1415.0,1331.0,1295.0,1199.0,1077.0,982.0,903.0,994.0,980.0,1116.0,974.0,939.0,935.0,873.0,813.0,836.0,699.0,736.0,645.0,772.0,690.0,706.0,738.0,793.0,875.0,804.0,821.0,884.0,1026.0,1110.0,1215.0,1470.0,1614.0,2014.0,2776.0,3492.0,4387.0,5962.0,7510.0,10289.0,15727.0,21685.0,19550.0,15909.0,13305.0,13027.0,11967.0,11635.0,11127.0,10873.0,10815.0,9417.0,7327.0,6049.0,5576.0,5073.0,4073.0,2944.0,2421.0,1485.0,852.0,684.0,611.0,591.0,511.0,519.0,441.0,356.0,342.0,367.0,325.0,273.0,276.0,275.0,275.0,274.0,262.0,223.0,319.0,293.0,223.0,287.0,264.0,552.0,1080.0,983.0,2059.0,2468.0,3078.0,4348.0,6342.0,9118.0,14667.0,25693.0],\"type\":\"scatter\"}],                        {\"legend\":{\"bgcolor\":\"#F5F6F9\",\"font\":{\"color\":\"#4D5663\"}},\"paper_bgcolor\":\"#F5F6F9\",\"plot_bgcolor\":\"#F5F6F9\",\"template\":{\"data\":{\"barpolar\":[{\"marker\":{\"line\":{\"color\":\"#E5ECF6\",\"width\":0.5},\"pattern\":{\"fillmode\":\"overlay\",\"size\":10,\"solidity\":0.2}},\"type\":\"barpolar\"}],\"bar\":[{\"error_x\":{\"color\":\"#2a3f5f\"},\"error_y\":{\"color\":\"#2a3f5f\"},\"marker\":{\"line\":{\"color\":\"#E5ECF6\",\"width\":0.5},\"pattern\":{\"fillmode\":\"overlay\",\"size\":10,\"solidity\":0.2}},\"type\":\"bar\"}],\"carpet\":[{\"aaxis\":{\"endlinecolor\":\"#2a3f5f\",\"gridcolor\":\"white\",\"linecolor\":\"white\",\"minorgridcolor\":\"white\",\"startlinecolor\":\"#2a3f5f\"},\"baxis\":{\"endlinecolor\":\"#2a3f5f\",\"gridcolor\":\"white\",\"linecolor\":\"white\",\"minorgridcolor\":\"white\",\"startlinecolor\":\"#2a3f5f\"},\"type\":\"carpet\"}],\"choropleth\":[{\"colorbar\":{\"outlinewidth\":0,\"ticks\":\"\"},\"type\":\"choropleth\"}],\"contourcarpet\":[{\"colorbar\":{\"outlinewidth\":0,\"ticks\":\"\"},\"type\":\"contourcarpet\"}],\"contour\":[{\"colorbar\":{\"outlinewidth\":0,\"ticks\":\"\"},\"colorscale\":[[0.0,\"#0d0887\"],[0.1111111111111111,\"#46039f\"],[0.2222222222222222,\"#7201a8\"],[0.3333333333333333,\"#9c179e\"],[0.4444444444444444,\"#bd3786\"],[0.5555555555555556,\"#d8576b\"],[0.6666666666666666,\"#ed7953\"],[0.7777777777777778,\"#fb9f3a\"],[0.8888888888888888,\"#fdca26\"],[1.0,\"#f0f921\"]],\"type\":\"contour\"}],\"heatmapgl\":[{\"colorbar\":{\"outlinewidth\":0,\"ticks\":\"\"},\"colorscale\":[[0.0,\"#0d0887\"],[0.1111111111111111,\"#46039f\"],[0.2222222222222222,\"#7201a8\"],[0.3333333333333333,\"#9c179e\"],[0.4444444444444444,\"#bd3786\"],[0.5555555555555556,\"#d8576b\"],[0.6666666666666666,\"#ed7953\"],[0.7777777777777778,\"#fb9f3a\"],[0.8888888888888888,\"#fdca26\"],[1.0,\"#f0f921\"]],\"type\":\"heatmapgl\"}],\"heatmap\":[{\"colorbar\":{\"outlinewidth\":0,\"ticks\":\"\"},\"colorscale\":[[0.0,\"#0d0887\"],[0.1111111111111111,\"#46039f\"],[0.2222222222222222,\"#7201a8\"],[0.3333333333333333,\"#9c179e\"],[0.4444444444444444,\"#bd3786\"],[0.5555555555555556,\"#d8576b\"],[0.6666666666666666,\"#ed7953\"],[0.7777777777777778,\"#fb9f3a\"],[0.8888888888888888,\"#fdca26\"],[1.0,\"#f0f921\"]],\"type\":\"heatmap\"}],\"histogram2dcontour\":[{\"colorbar\":{\"outlinewidth\":0,\"ticks\":\"\"},\"colorscale\":[[0.0,\"#0d0887\"],[0.1111111111111111,\"#46039f\"],[0.2222222222222222,\"#7201a8\"],[0.3333333333333333,\"#9c179e\"],[0.4444444444444444,\"#bd3786\"],[0.5555555555555556,\"#d8576b\"],[0.6666666666666666,\"#ed7953\"],[0.7777777777777778,\"#fb9f3a\"],[0.8888888888888888,\"#fdca26\"],[1.0,\"#f0f921\"]],\"type\":\"histogram2dcontour\"}],\"histogram2d\":[{\"colorbar\":{\"outlinewidth\":0,\"ticks\":\"\"},\"colorscale\":[[0.0,\"#0d0887\"],[0.1111111111111111,\"#46039f\"],[0.2222222222222222,\"#7201a8\"],[0.3333333333333333,\"#9c179e\"],[0.4444444444444444,\"#bd3786\"],[0.5555555555555556,\"#d8576b\"],[0.6666666666666666,\"#ed7953\"],[0.7777777777777778,\"#fb9f3a\"],[0.8888888888888888,\"#fdca26\"],[1.0,\"#f0f921\"]],\"type\":\"histogram2d\"}],\"histogram\":[{\"marker\":{\"pattern\":{\"fillmode\":\"overlay\",\"size\":10,\"solidity\":0.2}},\"type\":\"histogram\"}],\"mesh3d\":[{\"colorbar\":{\"outlinewidth\":0,\"ticks\":\"\"},\"type\":\"mesh3d\"}],\"parcoords\":[{\"line\":{\"colorbar\":{\"outlinewidth\":0,\"ticks\":\"\"}},\"type\":\"parcoords\"}],\"pie\":[{\"automargin\":true,\"type\":\"pie\"}],\"scatter3d\":[{\"line\":{\"colorbar\":{\"outlinewidth\":0,\"ticks\":\"\"}},\"marker\":{\"colorbar\":{\"outlinewidth\":0,\"ticks\":\"\"}},\"type\":\"scatter3d\"}],\"scattercarpet\":[{\"marker\":{\"colorbar\":{\"outlinewidth\":0,\"ticks\":\"\"}},\"type\":\"scattercarpet\"}],\"scattergeo\":[{\"marker\":{\"colorbar\":{\"outlinewidth\":0,\"ticks\":\"\"}},\"type\":\"scattergeo\"}],\"scattergl\":[{\"marker\":{\"colorbar\":{\"outlinewidth\":0,\"ticks\":\"\"}},\"type\":\"scattergl\"}],\"scattermapbox\":[{\"marker\":{\"colorbar\":{\"outlinewidth\":0,\"ticks\":\"\"}},\"type\":\"scattermapbox\"}],\"scatterpolargl\":[{\"marker\":{\"colorbar\":{\"outlinewidth\":0,\"ticks\":\"\"}},\"type\":\"scatterpolargl\"}],\"scatterpolar\":[{\"marker\":{\"colorbar\":{\"outlinewidth\":0,\"ticks\":\"\"}},\"type\":\"scatterpolar\"}],\"scatter\":[{\"fillpattern\":{\"fillmode\":\"overlay\",\"size\":10,\"solidity\":0.2},\"type\":\"scatter\"}],\"scatterternary\":[{\"marker\":{\"colorbar\":{\"outlinewidth\":0,\"ticks\":\"\"}},\"type\":\"scatterternary\"}],\"surface\":[{\"colorbar\":{\"outlinewidth\":0,\"ticks\":\"\"},\"colorscale\":[[0.0,\"#0d0887\"],[0.1111111111111111,\"#46039f\"],[0.2222222222222222,\"#7201a8\"],[0.3333333333333333,\"#9c179e\"],[0.4444444444444444,\"#bd3786\"],[0.5555555555555556,\"#d8576b\"],[0.6666666666666666,\"#ed7953\"],[0.7777777777777778,\"#fb9f3a\"],[0.8888888888888888,\"#fdca26\"],[1.0,\"#f0f921\"]],\"type\":\"surface\"}],\"table\":[{\"cells\":{\"fill\":{\"color\":\"#EBF0F8\"},\"line\":{\"color\":\"white\"}},\"header\":{\"fill\":{\"color\":\"#C8D4E3\"},\"line\":{\"color\":\"white\"}},\"type\":\"table\"}]},\"layout\":{\"annotationdefaults\":{\"arrowcolor\":\"#2a3f5f\",\"arrowhead\":0,\"arrowwidth\":1},\"autotypenumbers\":\"strict\",\"coloraxis\":{\"colorbar\":{\"outlinewidth\":0,\"ticks\":\"\"}},\"colorscale\":{\"diverging\":[[0,\"#8e0152\"],[0.1,\"#c51b7d\"],[0.2,\"#de77ae\"],[0.3,\"#f1b6da\"],[0.4,\"#fde0ef\"],[0.5,\"#f7f7f7\"],[0.6,\"#e6f5d0\"],[0.7,\"#b8e186\"],[0.8,\"#7fbc41\"],[0.9,\"#4d9221\"],[1,\"#276419\"]],\"sequential\":[[0.0,\"#0d0887\"],[0.1111111111111111,\"#46039f\"],[0.2222222222222222,\"#7201a8\"],[0.3333333333333333,\"#9c179e\"],[0.4444444444444444,\"#bd3786\"],[0.5555555555555556,\"#d8576b\"],[0.6666666666666666,\"#ed7953\"],[0.7777777777777778,\"#fb9f3a\"],[0.8888888888888888,\"#fdca26\"],[1.0,\"#f0f921\"]],\"sequentialminus\":[[0.0,\"#0d0887\"],[0.1111111111111111,\"#46039f\"],[0.2222222222222222,\"#7201a8\"],[0.3333333333333333,\"#9c179e\"],[0.4444444444444444,\"#bd3786\"],[0.5555555555555556,\"#d8576b\"],[0.6666666666666666,\"#ed7953\"],[0.7777777777777778,\"#fb9f3a\"],[0.8888888888888888,\"#fdca26\"],[1.0,\"#f0f921\"]]},\"colorway\":[\"#636efa\",\"#EF553B\",\"#00cc96\",\"#ab63fa\",\"#FFA15A\",\"#19d3f3\",\"#FF6692\",\"#B6E880\",\"#FF97FF\",\"#FECB52\"],\"font\":{\"color\":\"#2a3f5f\"},\"geo\":{\"bgcolor\":\"white\",\"lakecolor\":\"white\",\"landcolor\":\"#E5ECF6\",\"showlakes\":true,\"showland\":true,\"subunitcolor\":\"white\"},\"hoverlabel\":{\"align\":\"left\"},\"hovermode\":\"closest\",\"mapbox\":{\"style\":\"light\"},\"paper_bgcolor\":\"white\",\"plot_bgcolor\":\"#E5ECF6\",\"polar\":{\"angularaxis\":{\"gridcolor\":\"white\",\"linecolor\":\"white\",\"ticks\":\"\"},\"bgcolor\":\"#E5ECF6\",\"radialaxis\":{\"gridcolor\":\"white\",\"linecolor\":\"white\",\"ticks\":\"\"}},\"scene\":{\"xaxis\":{\"backgroundcolor\":\"#E5ECF6\",\"gridcolor\":\"white\",\"gridwidth\":2,\"linecolor\":\"white\",\"showbackground\":true,\"ticks\":\"\",\"zerolinecolor\":\"white\"},\"yaxis\":{\"backgroundcolor\":\"#E5ECF6\",\"gridcolor\":\"white\",\"gridwidth\":2,\"linecolor\":\"white\",\"showbackground\":true,\"ticks\":\"\",\"zerolinecolor\":\"white\"},\"zaxis\":{\"backgroundcolor\":\"#E5ECF6\",\"gridcolor\":\"white\",\"gridwidth\":2,\"linecolor\":\"white\",\"showbackground\":true,\"ticks\":\"\",\"zerolinecolor\":\"white\"}},\"shapedefaults\":{\"line\":{\"color\":\"#2a3f5f\"}},\"ternary\":{\"aaxis\":{\"gridcolor\":\"white\",\"linecolor\":\"white\",\"ticks\":\"\"},\"baxis\":{\"gridcolor\":\"white\",\"linecolor\":\"white\",\"ticks\":\"\"},\"bgcolor\":\"#E5ECF6\",\"caxis\":{\"gridcolor\":\"white\",\"linecolor\":\"white\",\"ticks\":\"\"}},\"title\":{\"x\":0.05},\"xaxis\":{\"automargin\":true,\"gridcolor\":\"white\",\"linecolor\":\"white\",\"ticks\":\"\",\"title\":{\"standoff\":15},\"zerolinecolor\":\"white\",\"zerolinewidth\":2},\"yaxis\":{\"automargin\":true,\"gridcolor\":\"white\",\"linecolor\":\"white\",\"ticks\":\"\",\"title\":{\"standoff\":15},\"zerolinecolor\":\"white\",\"zerolinewidth\":2}}},\"title\":{\"font\":{\"color\":\"#4D5663\"},\"text\":\"US Flu Hospital Admissions\"},\"xaxis\":{\"gridcolor\":\"#E1E5ED\",\"showgrid\":true,\"tickfont\":{\"color\":\"#4D5663\"},\"title\":{\"font\":{\"color\":\"#4D5663\"},\"text\":\"Date\"},\"zerolinecolor\":\"#E1E5ED\"},\"yaxis\":{\"gridcolor\":\"#E1E5ED\",\"showgrid\":true,\"tickfont\":{\"color\":\"#4D5663\"},\"title\":{\"font\":{\"color\":\"#4D5663\"},\"text\":\"Count\"},\"zerolinecolor\":\"#E1E5ED\"}},                        {\"showLink\": true, \"linkText\": \"Export to plot.ly\", \"plotlyServerURL\": \"https://plot.ly\", \"responsive\": true}                    ).then(function(){\n",
       "                            \n",
       "var gd = document.getElementById('8106e279-8cc8-4cdc-8491-8dd257522d89');\n",
       "var x = new MutationObserver(function (mutations, observer) {{\n",
       "        var display = window.getComputedStyle(gd).display;\n",
       "        if (!display || display === 'none') {{\n",
       "            console.log([gd, 'removed!']);\n",
       "            Plotly.purge(gd);\n",
       "            observer.disconnect();\n",
       "        }}\n",
       "}});\n",
       "\n",
       "// Listen for the removal of the full notebook cells\n",
       "var notebookContainer = gd.closest('#notebook-container');\n",
       "if (notebookContainer) {{\n",
       "    x.observe(notebookContainer, {childList: true});\n",
       "}}\n",
       "\n",
       "// Listen for the clearing of the current output cell\n",
       "var outputEl = gd.closest('.output');\n",
       "if (outputEl) {{\n",
       "    x.observe(outputEl, {childList: true});\n",
       "}}\n",
       "\n",
       "                        })                };                });            </script>        </div>"
      ]
     },
     "metadata": {},
     "output_type": "display_data"
    }
   ],
   "source": [
    "#Reference point to compare visual plots\n",
    "plotly_df[\"value\"].iplot(yTitle = \"Count\", xTitle = \"Date\", title = \"US Flu Hospital Admissions\")"
   ]
  },
  {
   "cell_type": "code",
   "execution_count": 10,
   "id": "fdf9e199",
   "metadata": {},
   "outputs": [
    {
     "name": "stderr",
     "output_type": "stream",
     "text": [
      "INFO:nixtla.nixtla_client:Validating inputs...\n",
      "INFO:nixtla.nixtla_client:Inferred freq: W-SAT\n",
      "/Users/anshulchiranth/anaconda3/lib/python3.11/site-packages/nixtla/nixtla_client.py:382: UserWarning:\n",
      "\n",
      "`df` contains the following exogenous features: ['location', 'location_name', 'weekly_rate'], but `X_df` was not provided and they were not declared in `hist_exog_list`. They will be ignored.\n",
      "\n",
      "INFO:nixtla.nixtla_client:Preprocessing dataframes...\n",
      "INFO:nixtla.nixtla_client:Querying model metadata...\n",
      "WARNING:nixtla.nixtla_client:The specified horizon \"h\" exceeds the model horizon, this may lead to less accurate forecasts. Please consider using a smaller horizon.\n",
      "INFO:nixtla.nixtla_client:Restricting input...\n",
      "INFO:nixtla.nixtla_client:Calling Forecast Endpoint...\n"
     ]
    },
    {
     "data": {
      "text/html": [
       "<div>\n",
       "<style scoped>\n",
       "    .dataframe tbody tr th:only-of-type {\n",
       "        vertical-align: middle;\n",
       "    }\n",
       "\n",
       "    .dataframe tbody tr th {\n",
       "        vertical-align: top;\n",
       "    }\n",
       "\n",
       "    .dataframe thead th {\n",
       "        text-align: right;\n",
       "    }\n",
       "</style>\n",
       "<table border=\"1\" class=\"dataframe\">\n",
       "  <thead>\n",
       "    <tr style=\"text-align: right;\">\n",
       "      <th></th>\n",
       "      <th>date</th>\n",
       "      <th>TimeGPT</th>\n",
       "    </tr>\n",
       "  </thead>\n",
       "  <tbody>\n",
       "    <tr>\n",
       "      <th>0</th>\n",
       "      <td>2025-01-04</td>\n",
       "      <td>25526.8340</td>\n",
       "    </tr>\n",
       "    <tr>\n",
       "      <th>1</th>\n",
       "      <td>2025-01-11</td>\n",
       "      <td>19926.2580</td>\n",
       "    </tr>\n",
       "    <tr>\n",
       "      <th>2</th>\n",
       "      <td>2025-01-18</td>\n",
       "      <td>16872.2850</td>\n",
       "    </tr>\n",
       "    <tr>\n",
       "      <th>3</th>\n",
       "      <td>2025-01-25</td>\n",
       "      <td>14927.5700</td>\n",
       "    </tr>\n",
       "    <tr>\n",
       "      <th>4</th>\n",
       "      <td>2025-02-01</td>\n",
       "      <td>13745.6890</td>\n",
       "    </tr>\n",
       "    <tr>\n",
       "      <th>5</th>\n",
       "      <td>2025-02-08</td>\n",
       "      <td>12477.0420</td>\n",
       "    </tr>\n",
       "    <tr>\n",
       "      <th>6</th>\n",
       "      <td>2025-02-15</td>\n",
       "      <td>11619.2960</td>\n",
       "    </tr>\n",
       "    <tr>\n",
       "      <th>7</th>\n",
       "      <td>2025-02-22</td>\n",
       "      <td>10918.6290</td>\n",
       "    </tr>\n",
       "    <tr>\n",
       "      <th>8</th>\n",
       "      <td>2025-03-01</td>\n",
       "      <td>10426.8950</td>\n",
       "    </tr>\n",
       "    <tr>\n",
       "      <th>9</th>\n",
       "      <td>2025-03-08</td>\n",
       "      <td>9191.7705</td>\n",
       "    </tr>\n",
       "    <tr>\n",
       "      <th>10</th>\n",
       "      <td>2025-03-15</td>\n",
       "      <td>7395.5493</td>\n",
       "    </tr>\n",
       "    <tr>\n",
       "      <th>11</th>\n",
       "      <td>2025-03-22</td>\n",
       "      <td>6127.5630</td>\n",
       "    </tr>\n",
       "  </tbody>\n",
       "</table>\n",
       "</div>"
      ],
      "text/plain": [
       "         date     TimeGPT\n",
       "0  2025-01-04  25526.8340\n",
       "1  2025-01-11  19926.2580\n",
       "2  2025-01-18  16872.2850\n",
       "3  2025-01-25  14927.5700\n",
       "4  2025-02-01  13745.6890\n",
       "5  2025-02-08  12477.0420\n",
       "6  2025-02-15  11619.2960\n",
       "7  2025-02-22  10918.6290\n",
       "8  2025-03-01  10426.8950\n",
       "9  2025-03-08   9191.7705\n",
       "10 2025-03-15   7395.5493\n",
       "11 2025-03-22   6127.5630"
      ]
     },
     "execution_count": 10,
     "metadata": {},
     "output_type": "execute_result"
    }
   ],
   "source": [
    "#Forecasting which returns data frame. frequency (freq) is a parameter, I've left it blank as the library is supposed to automatically detect frequency\n",
    "#model is also a parameter, I've left it at default\n",
    "timegpt_fcst_df = nixtla_client.forecast(df=df, time_col='date', target_col='value', h=12)\n",
    "timegpt_fcst_df"
   ]
  },
  {
   "cell_type": "code",
   "execution_count": 11,
   "id": "b675cdf5",
   "metadata": {},
   "outputs": [
    {
     "data": {
      "image/png": "[encoded data removed]",
      "text/plain": [
       "<Figure size 1600x350 with 1 Axes>"
      ]
     },
     "execution_count": 11,
     "metadata": {},
     "output_type": "execute_result"
    }
   ],
   "source": [
    "#Easy to plot the training df and the forecasted df\n",
    "nixtla_client.plot(df, timegpt_fcst_df, time_col='date', target_col='value')"
   ]
  },
  {
   "cell_type": "code",
   "execution_count": 12,
   "id": "83e12332",
   "metadata": {},
   "outputs": [],
   "source": [
    "#Little case study. Wanted to see what the prediction would look like in a big spike in December"
   ]
  },
  {
   "cell_type": "code",
   "execution_count": 13,
   "id": "711d5011",
   "metadata": {},
   "outputs": [
    {
     "data": {
      "text/html": [
       "<div>\n",
       "<style scoped>\n",
       "    .dataframe tbody tr th:only-of-type {\n",
       "        vertical-align: middle;\n",
       "    }\n",
       "\n",
       "    .dataframe tbody tr th {\n",
       "        vertical-align: top;\n",
       "    }\n",
       "\n",
       "    .dataframe thead th {\n",
       "        text-align: right;\n",
       "    }\n",
       "</style>\n",
       "<table border=\"1\" class=\"dataframe\">\n",
       "  <thead>\n",
       "    <tr style=\"text-align: right;\">\n",
       "      <th></th>\n",
       "      <th>date</th>\n",
       "      <th>location</th>\n",
       "      <th>location_name</th>\n",
       "      <th>value</th>\n",
       "      <th>weekly_rate</th>\n",
       "    </tr>\n",
       "  </thead>\n",
       "  <tbody>\n",
       "    <tr>\n",
       "      <th>2483</th>\n",
       "      <td>2022-02-05</td>\n",
       "      <td>US</td>\n",
       "      <td>US</td>\n",
       "      <td>1095.0</td>\n",
       "      <td>0.326949</td>\n",
       "    </tr>\n",
       "    <tr>\n",
       "      <th>2536</th>\n",
       "      <td>2022-02-12</td>\n",
       "      <td>US</td>\n",
       "      <td>US</td>\n",
       "      <td>1164.0</td>\n",
       "      <td>0.347551</td>\n",
       "    </tr>\n",
       "    <tr>\n",
       "      <th>2589</th>\n",
       "      <td>2022-02-19</td>\n",
       "      <td>US</td>\n",
       "      <td>US</td>\n",
       "      <td>1493.0</td>\n",
       "      <td>0.445785</td>\n",
       "    </tr>\n",
       "    <tr>\n",
       "      <th>2642</th>\n",
       "      <td>2022-02-26</td>\n",
       "      <td>US</td>\n",
       "      <td>US</td>\n",
       "      <td>1603.0</td>\n",
       "      <td>0.478629</td>\n",
       "    </tr>\n",
       "    <tr>\n",
       "      <th>2695</th>\n",
       "      <td>2022-03-05</td>\n",
       "      <td>US</td>\n",
       "      <td>US</td>\n",
       "      <td>1791.0</td>\n",
       "      <td>0.534763</td>\n",
       "    </tr>\n",
       "    <tr>\n",
       "      <th>...</th>\n",
       "      <td>...</td>\n",
       "      <td>...</td>\n",
       "      <td>...</td>\n",
       "      <td>...</td>\n",
       "      <td>...</td>\n",
       "    </tr>\n",
       "    <tr>\n",
       "      <th>2006</th>\n",
       "      <td>2024-11-02</td>\n",
       "      <td>US</td>\n",
       "      <td>US</td>\n",
       "      <td>983.0</td>\n",
       "      <td>0.293507</td>\n",
       "    </tr>\n",
       "    <tr>\n",
       "      <th>2059</th>\n",
       "      <td>2024-11-09</td>\n",
       "      <td>US</td>\n",
       "      <td>US</td>\n",
       "      <td>2059.0</td>\n",
       "      <td>0.614783</td>\n",
       "    </tr>\n",
       "    <tr>\n",
       "      <th>2112</th>\n",
       "      <td>2024-11-16</td>\n",
       "      <td>US</td>\n",
       "      <td>US</td>\n",
       "      <td>2468.0</td>\n",
       "      <td>0.736904</td>\n",
       "    </tr>\n",
       "    <tr>\n",
       "      <th>2165</th>\n",
       "      <td>2024-11-23</td>\n",
       "      <td>US</td>\n",
       "      <td>US</td>\n",
       "      <td>3078.0</td>\n",
       "      <td>0.919039</td>\n",
       "    </tr>\n",
       "    <tr>\n",
       "      <th>2218</th>\n",
       "      <td>2024-11-30</td>\n",
       "      <td>US</td>\n",
       "      <td>US</td>\n",
       "      <td>4348.0</td>\n",
       "      <td>1.298240</td>\n",
       "    </tr>\n",
       "  </tbody>\n",
       "</table>\n",
       "<p>148 rows × 5 columns</p>\n",
       "</div>"
      ],
      "text/plain": [
       "           date location location_name   value  weekly_rate\n",
       "2483 2022-02-05       US            US  1095.0     0.326949\n",
       "2536 2022-02-12       US            US  1164.0     0.347551\n",
       "2589 2022-02-19       US            US  1493.0     0.445785\n",
       "2642 2022-02-26       US            US  1603.0     0.478629\n",
       "2695 2022-03-05       US            US  1791.0     0.534763\n",
       "...         ...      ...           ...     ...          ...\n",
       "2006 2024-11-02       US            US   983.0     0.293507\n",
       "2059 2024-11-09       US            US  2059.0     0.614783\n",
       "2112 2024-11-16       US            US  2468.0     0.736904\n",
       "2165 2024-11-23       US            US  3078.0     0.919039\n",
       "2218 2024-11-30       US            US  4348.0     1.298240\n",
       "\n",
       "[148 rows x 5 columns]"
      ]
     },
     "execution_count": 13,
     "metadata": {},
     "output_type": "execute_result"
    }
   ],
   "source": [
    "#Setting up training data frame to be only US data and exclude last 4 weeks (December)\n",
    "training_df = df.copy()\n",
    "training_df = training_df.sort_values(by=\"date\")\n",
    "training_df = training_df.iloc[:-4]\n",
    "training_df"
   ]
  },
  {
   "cell_type": "code",
   "execution_count": 14,
   "id": "907c0843",
   "metadata": {},
   "outputs": [
    {
     "name": "stderr",
     "output_type": "stream",
     "text": [
      "INFO:nixtla.nixtla_client:Validating inputs...\n",
      "INFO:nixtla.nixtla_client:Inferred freq: W-SAT\n",
      "/Users/anshulchiranth/anaconda3/lib/python3.11/site-packages/nixtla/nixtla_client.py:382: UserWarning:\n",
      "\n",
      "`df` contains the following exogenous features: ['location', 'location_name', 'weekly_rate'], but `X_df` was not provided and they were not declared in `hist_exog_list`. They will be ignored.\n",
      "\n",
      "INFO:nixtla.nixtla_client:Preprocessing dataframes...\n",
      "INFO:nixtla.nixtla_client:Restricting input...\n",
      "INFO:nixtla.nixtla_client:Calling Forecast Endpoint...\n"
     ]
    },
    {
     "data": {
      "text/html": [
       "<div>\n",
       "<style scoped>\n",
       "    .dataframe tbody tr th:only-of-type {\n",
       "        vertical-align: middle;\n",
       "    }\n",
       "\n",
       "    .dataframe tbody tr th {\n",
       "        vertical-align: top;\n",
       "    }\n",
       "\n",
       "    .dataframe thead th {\n",
       "        text-align: right;\n",
       "    }\n",
       "</style>\n",
       "<table border=\"1\" class=\"dataframe\">\n",
       "  <thead>\n",
       "    <tr style=\"text-align: right;\">\n",
       "      <th></th>\n",
       "      <th>TimeGPT</th>\n",
       "    </tr>\n",
       "    <tr>\n",
       "      <th>date</th>\n",
       "      <th></th>\n",
       "    </tr>\n",
       "  </thead>\n",
       "  <tbody>\n",
       "    <tr>\n",
       "      <th>2024-12-07</th>\n",
       "      <td>6172.6436</td>\n",
       "    </tr>\n",
       "    <tr>\n",
       "      <th>2024-12-14</th>\n",
       "      <td>8456.0600</td>\n",
       "    </tr>\n",
       "    <tr>\n",
       "      <th>2024-12-21</th>\n",
       "      <td>11276.1900</td>\n",
       "    </tr>\n",
       "    <tr>\n",
       "      <th>2024-12-28</th>\n",
       "      <td>14208.0980</td>\n",
       "    </tr>\n",
       "  </tbody>\n",
       "</table>\n",
       "</div>"
      ],
      "text/plain": [
       "               TimeGPT\n",
       "date                  \n",
       "2024-12-07   6172.6436\n",
       "2024-12-14   8456.0600\n",
       "2024-12-21  11276.1900\n",
       "2024-12-28  14208.0980"
      ]
     },
     "execution_count": 14,
     "metadata": {},
     "output_type": "execute_result"
    }
   ],
   "source": [
    "#Forecast next 4 weeks based on this dataframe\n",
    "forecast_df = nixtla_client.forecast(df=training_df, time_col='date', target_col='value', h=4)\n",
    "forecast_df = forecast_df.set_index(\"date\")\n",
    "forecast_df"
   ]
  },
  {
   "cell_type": "code",
   "execution_count": 15,
   "id": "a51599ca",
   "metadata": {},
   "outputs": [
    {
     "data": {
      "text/html": [
       "<div>\n",
       "<style scoped>\n",
       "    .dataframe tbody tr th:only-of-type {\n",
       "        vertical-align: middle;\n",
       "    }\n",
       "\n",
       "    .dataframe tbody tr th {\n",
       "        vertical-align: top;\n",
       "    }\n",
       "\n",
       "    .dataframe thead th {\n",
       "        text-align: right;\n",
       "    }\n",
       "</style>\n",
       "<table border=\"1\" class=\"dataframe\">\n",
       "  <thead>\n",
       "    <tr style=\"text-align: right;\">\n",
       "      <th></th>\n",
       "      <th>Training Data</th>\n",
       "      <th>Real Data</th>\n",
       "      <th>TimeGPT Prediction</th>\n",
       "    </tr>\n",
       "    <tr>\n",
       "      <th>date</th>\n",
       "      <th></th>\n",
       "      <th></th>\n",
       "      <th></th>\n",
       "    </tr>\n",
       "  </thead>\n",
       "  <tbody>\n",
       "    <tr>\n",
       "      <th>2022-02-05</th>\n",
       "      <td>1095.0</td>\n",
       "      <td>NaN</td>\n",
       "      <td>NaN</td>\n",
       "    </tr>\n",
       "    <tr>\n",
       "      <th>2022-02-12</th>\n",
       "      <td>1164.0</td>\n",
       "      <td>NaN</td>\n",
       "      <td>NaN</td>\n",
       "    </tr>\n",
       "    <tr>\n",
       "      <th>2022-02-19</th>\n",
       "      <td>1493.0</td>\n",
       "      <td>NaN</td>\n",
       "      <td>NaN</td>\n",
       "    </tr>\n",
       "    <tr>\n",
       "      <th>2022-02-26</th>\n",
       "      <td>1603.0</td>\n",
       "      <td>NaN</td>\n",
       "      <td>NaN</td>\n",
       "    </tr>\n",
       "    <tr>\n",
       "      <th>2022-03-05</th>\n",
       "      <td>1791.0</td>\n",
       "      <td>NaN</td>\n",
       "      <td>NaN</td>\n",
       "    </tr>\n",
       "    <tr>\n",
       "      <th>...</th>\n",
       "      <td>...</td>\n",
       "      <td>...</td>\n",
       "      <td>...</td>\n",
       "    </tr>\n",
       "    <tr>\n",
       "      <th>2024-11-30</th>\n",
       "      <td>4348.0</td>\n",
       "      <td>NaN</td>\n",
       "      <td>NaN</td>\n",
       "    </tr>\n",
       "    <tr>\n",
       "      <th>2024-12-07</th>\n",
       "      <td>NaN</td>\n",
       "      <td>6342.0</td>\n",
       "      <td>6172.6436</td>\n",
       "    </tr>\n",
       "    <tr>\n",
       "      <th>2024-12-14</th>\n",
       "      <td>NaN</td>\n",
       "      <td>9118.0</td>\n",
       "      <td>8456.0600</td>\n",
       "    </tr>\n",
       "    <tr>\n",
       "      <th>2024-12-21</th>\n",
       "      <td>NaN</td>\n",
       "      <td>14667.0</td>\n",
       "      <td>11276.1900</td>\n",
       "    </tr>\n",
       "    <tr>\n",
       "      <th>2024-12-28</th>\n",
       "      <td>NaN</td>\n",
       "      <td>25693.0</td>\n",
       "      <td>14208.0980</td>\n",
       "    </tr>\n",
       "  </tbody>\n",
       "</table>\n",
       "<p>152 rows × 3 columns</p>\n",
       "</div>"
      ],
      "text/plain": [
       "            Training Data  Real Data  TimeGPT Prediction\n",
       "date                                                    \n",
       "2022-02-05         1095.0        NaN                 NaN\n",
       "2022-02-12         1164.0        NaN                 NaN\n",
       "2022-02-19         1493.0        NaN                 NaN\n",
       "2022-02-26         1603.0        NaN                 NaN\n",
       "2022-03-05         1791.0        NaN                 NaN\n",
       "...                   ...        ...                 ...\n",
       "2024-11-30         4348.0        NaN                 NaN\n",
       "2024-12-07            NaN     6342.0           6172.6436\n",
       "2024-12-14            NaN     9118.0           8456.0600\n",
       "2024-12-21            NaN    14667.0          11276.1900\n",
       "2024-12-28            NaN    25693.0          14208.0980\n",
       "\n",
       "[152 rows x 3 columns]"
      ]
     },
     "execution_count": 15,
     "metadata": {},
     "output_type": "execute_result"
    }
   ],
   "source": [
    "#Creating data frame that has one column as training data, one column as real data, and one column as TimeGPT prediction\n",
    "plotting_df = pd.DataFrame()\n",
    "plotting_df.index = plotly_df.index\n",
    "plotting_df[\"Training Data\"] = plotly_df[\"value\"].iloc[:-4]\n",
    "plotting_df[\"Real Data\"] = plotly_df[\"value\"].iloc[-4:]\n",
    "plotting_df[\"TimeGPT Prediction\"] = forecast_df[\"TimeGPT\"]\n",
    "plotting_df"
   ]
  },
  {
   "cell_type": "code",
   "execution_count": 16,
   "id": "f4fd28d7",
   "metadata": {},
   "outputs": [
    {
     "name": "stderr",
     "output_type": "stream",
     "text": [
      "/Users/anshulchiranth/anaconda3/lib/python3.11/site-packages/cufflinks/plotlytools.py:117: FutureWarning:\n",
      "\n",
      "DatetimeIndex.format is deprecated and will be removed in a future version. Convert using index.astype(str) or index.map(formatter) instead.\n",
      "\n"
     ]
    },
    {
     "data": {
      "application/vnd.plotly.v1+json": {
       "config": {
        "linkText": "Export to plot.ly",
        "plotlyServerURL": "https://plot.ly",
        "showLink": true
       },
       "data": [
        {
         "line": {
          "color": "rgba(255, 153, 51, 1.0)",
          "dash": "solid",
          "shape": "linear",
          "width": 1.3
         },
         "mode": "lines",
         "name": "Training Data",
         "text": "",
         "type": "scatter",
         "x": [
          "2022-02-05",
          "2022-02-12",
          "2022-02-19",
          "2022-02-26",
          "2022-03-05",
          "2022-03-12",
          "2022-03-19",
          "2022-03-26",
          "2022-04-02",
          "2022-04-09",
          "2022-04-16",
          "2022-04-23",
          "2022-04-30",
          "2022-05-07",
          "2022-05-14",
          "2022-05-21",
          "2022-05-28",
          "2022-06-04",
          "2022-06-11",
          "2022-06-18",
          "2022-06-25",
          "2022-07-02",
          "2022-07-09",
          "2022-07-16",
          "2022-07-23",
          "2022-07-30",
          "2022-08-06",
          "2022-08-13",
          "2022-08-20",
          "2022-08-27",
          "2022-09-03",
          "2022-09-10",
          "2022-09-17",
          "2022-09-24",
          "2022-10-01",
          "2022-10-08",
          "2022-10-15",
          "2022-10-22",
          "2022-10-29",
          "2022-11-05",
          "2022-11-12",
          "2022-11-19",
          "2022-11-26",
          "2022-12-03",
          "2022-12-10",
          "2022-12-17",
          "2022-12-24",
          "2022-12-31",
          "2023-01-07",
          "2023-01-14",
          "2023-01-21",
          "2023-01-28",
          "2023-02-04",
          "2023-02-11",
          "2023-02-18",
          "2023-02-25",
          "2023-03-04",
          "2023-03-11",
          "2023-03-18",
          "2023-03-25",
          "2023-04-01",
          "2023-04-08",
          "2023-04-15",
          "2023-04-22",
          "2023-04-29",
          "2023-05-06",
          "2023-05-13",
          "2023-05-20",
          "2023-05-27",
          "2023-06-03",
          "2023-06-10",
          "2023-06-17",
          "2023-06-24",
          "2023-07-01",
          "2023-07-08",
          "2023-07-15",
          "2023-07-22",
          "2023-07-29",
          "2023-08-05",
          "2023-08-12",
          "2023-08-19",
          "2023-08-26",
          "2023-09-02",
          "2023-09-09",
          "2023-09-16",
          "2023-09-23",
          "2023-09-30",
          "2023-10-07",
          "2023-10-14",
          "2023-10-21",
          "2023-10-28",
          "2023-11-04",
          "2023-11-11",
          "2023-11-18",
          "2023-11-25",
          "2023-12-02",
          "2023-12-09",
          "2023-12-16",
          "2023-12-23",
          "2023-12-30",
          "2024-01-06",
          "2024-01-13",
          "2024-01-20",
          "2024-01-27",
          "2024-02-03",
          "2024-02-10",
          "2024-02-17",
          "2024-02-24",
          "2024-03-02",
          "2024-03-09",
          "2024-03-16",
          "2024-03-23",
          "2024-03-30",
          "2024-04-06",
          "2024-04-13",
          "2024-04-20",
          "2024-04-27",
          "2024-05-04",
          "2024-05-11",
          "2024-05-18",
          "2024-05-25",
          "2024-06-01",
          "2024-06-08",
          "2024-06-15",
          "2024-06-22",
          "2024-06-29",
          "2024-07-06",
          "2024-07-13",
          "2024-07-20",
          "2024-07-27",
          "2024-08-03",
          "2024-08-10",
          "2024-08-17",
          "2024-08-24",
          "2024-08-31",
          "2024-09-07",
          "2024-09-14",
          "2024-09-21",
          "2024-09-28",
          "2024-10-05",
          "2024-10-12",
          "2024-10-19",
          "2024-10-26",
          "2024-11-02",
          "2024-11-09",
          "2024-11-16",
          "2024-11-23",
          "2024-11-30",
          "2024-12-07",
          "2024-12-14",
          "2024-12-21",
          "2024-12-28"
         ],
         "y": [
          1095,
          1164,
          1493,
          1603,
          1791,
          2097,
          2626,
          2919,
          3008,
          3149,
          3308,
          3474,
          3182,
          3175,
          3119,
          3134,
          2738,
          2678,
          2210,
          1776,
          1366,
          1073,
          776,
          766,
          628,
          522,
          486,
          490,
          483,
          483,
          545,
          576,
          665,
          796,
          921,
          1316,
          1674,
          2292,
          4184,
          6409,
          8595,
          10974,
          18185,
          26853,
          24039,
          21615,
          19634,
          19482,
          14078,
          7191,
          4492,
          3092,
          2597,
          2177,
          1908,
          1649,
          1504,
          1372,
          1415,
          1331,
          1295,
          1199,
          1077,
          982,
          903,
          994,
          980,
          1116,
          974,
          939,
          935,
          873,
          813,
          836,
          699,
          736,
          645,
          772,
          690,
          706,
          738,
          793,
          875,
          804,
          821,
          884,
          1026,
          1110,
          1215,
          1470,
          1614,
          2014,
          2776,
          3492,
          4387,
          5962,
          7510,
          10289,
          15727,
          21685,
          19550,
          15909,
          13305,
          13027,
          11967,
          11635,
          11127,
          10873,
          10815,
          9417,
          7327,
          6049,
          5576,
          5073,
          4073,
          2944,
          2421,
          1485,
          852,
          684,
          611,
          591,
          511,
          519,
          441,
          356,
          342,
          367,
          325,
          273,
          276,
          275,
          275,
          274,
          262,
          223,
          319,
          293,
          223,
          287,
          264,
          552,
          1080,
          983,
          2059,
          2468,
          3078,
          4348,
          "",
          "",
          "",
          ""
         ]
        },
        {
         "line": {
          "color": "rgba(55, 128, 191, 1.0)",
          "dash": "solid",
          "shape": "linear",
          "width": 1.3
         },
         "mode": "lines",
         "name": "Real Data",
         "text": "",
         "type": "scatter",
         "x": [
          "2022-02-05",
          "2022-02-12",
          "2022-02-19",
          "2022-02-26",
          "2022-03-05",
          "2022-03-12",
          "2022-03-19",
          "2022-03-26",
          "2022-04-02",
          "2022-04-09",
          "2022-04-16",
          "2022-04-23",
          "2022-04-30",
          "2022-05-07",
          "2022-05-14",
          "2022-05-21",
          "2022-05-28",
          "2022-06-04",
          "2022-06-11",
          "2022-06-18",
          "2022-06-25",
          "2022-07-02",
          "2022-07-09",
          "2022-07-16",
          "2022-07-23",
          "2022-07-30",
          "2022-08-06",
          "2022-08-13",
          "2022-08-20",
          "2022-08-27",
          "2022-09-03",
          "2022-09-10",
          "2022-09-17",
          "2022-09-24",
          "2022-10-01",
          "2022-10-08",
          "2022-10-15",
          "2022-10-22",
          "2022-10-29",
          "2022-11-05",
          "2022-11-12",
          "2022-11-19",
          "2022-11-26",
          "2022-12-03",
          "2022-12-10",
          "2022-12-17",
          "2022-12-24",
          "2022-12-31",
          "2023-01-07",
          "2023-01-14",
          "2023-01-21",
          "2023-01-28",
          "2023-02-04",
          "2023-02-11",
          "2023-02-18",
          "2023-02-25",
          "2023-03-04",
          "2023-03-11",
          "2023-03-18",
          "2023-03-25",
          "2023-04-01",
          "2023-04-08",
          "2023-04-15",
          "2023-04-22",
          "2023-04-29",
          "2023-05-06",
          "2023-05-13",
          "2023-05-20",
          "2023-05-27",
          "2023-06-03",
          "2023-06-10",
          "2023-06-17",
          "2023-06-24",
          "2023-07-01",
          "2023-07-08",
          "2023-07-15",
          "2023-07-22",
          "2023-07-29",
          "2023-08-05",
          "2023-08-12",
          "2023-08-19",
          "2023-08-26",
          "2023-09-02",
          "2023-09-09",
          "2023-09-16",
          "2023-09-23",
          "2023-09-30",
          "2023-10-07",
          "2023-10-14",
          "2023-10-21",
          "2023-10-28",
          "2023-11-04",
          "2023-11-11",
          "2023-11-18",
          "2023-11-25",
          "2023-12-02",
          "2023-12-09",
          "2023-12-16",
          "2023-12-23",
          "2023-12-30",
          "2024-01-06",
          "2024-01-13",
          "2024-01-20",
          "2024-01-27",
          "2024-02-03",
          "2024-02-10",
          "2024-02-17",
          "2024-02-24",
          "2024-03-02",
          "2024-03-09",
          "2024-03-16",
          "2024-03-23",
          "2024-03-30",
          "2024-04-06",
          "2024-04-13",
          "2024-04-20",
          "2024-04-27",
          "2024-05-04",
          "2024-05-11",
          "2024-05-18",
          "2024-05-25",
          "2024-06-01",
          "2024-06-08",
          "2024-06-15",
          "2024-06-22",
          "2024-06-29",
          "2024-07-06",
          "2024-07-13",
          "2024-07-20",
          "2024-07-27",
          "2024-08-03",
          "2024-08-10",
          "2024-08-17",
          "2024-08-24",
          "2024-08-31",
          "2024-09-07",
          "2024-09-14",
          "2024-09-21",
          "2024-09-28",
          "2024-10-05",
          "2024-10-12",
          "2024-10-19",
          "2024-10-26",
          "2024-11-02",
          "2024-11-09",
          "2024-11-16",
          "2024-11-23",
          "2024-11-30",
          "2024-12-07",
          "2024-12-14",
          "2024-12-21",
          "2024-12-28"
         ],
         "y": [
          "",
          "",
          "",
          "",
          "",
          "",
          "",
          "",
          "",
          "",
          "",
          "",
          "",
          "",
          "",
          "",
          "",
          "",
          "",
          "",
          "",
          "",
          "",
          "",
          "",
          "",
          "",
          "",
          "",
          "",
          "",
          "",
          "",
          "",
          "",
          "",
          "",
          "",
          "",
          "",
          "",
          "",
          "",
          "",
          "",
          "",
          "",
          "",
          "",
          "",
          "",
          "",
          "",
          "",
          "",
          "",
          "",
          "",
          "",
          "",
          "",
          "",
          "",
          "",
          "",
          "",
          "",
          "",
          "",
          "",
          "",
          "",
          "",
          "",
          "",
          "",
          "",
          "",
          "",
          "",
          "",
          "",
          "",
          "",
          "",
          "",
          "",
          "",
          "",
          "",
          "",
          "",
          "",
          "",
          "",
          "",
          "",
          "",
          "",
          "",
          "",
          "",
          "",
          "",
          "",
          "",
          "",
          "",
          "",
          "",
          "",
          "",
          "",
          "",
          "",
          "",
          "",
          "",
          "",
          "",
          "",
          "",
          "",
          "",
          "",
          "",
          "",
          "",
          "",
          "",
          "",
          "",
          "",
          "",
          "",
          "",
          "",
          "",
          "",
          "",
          "",
          "",
          "",
          "",
          "",
          "",
          "",
          "",
          6342,
          9118,
          14667,
          25693
         ]
        },
        {
         "line": {
          "color": "rgba(50, 171, 96, 1.0)",
          "dash": "solid",
          "shape": "linear",
          "width": 1.3
         },
         "mode": "lines",
         "name": "TimeGPT Prediction",
         "text": "",
         "type": "scatter",
         "x": [
          "2022-02-05",
          "2022-02-12",
          "2022-02-19",
          "2022-02-26",
          "2022-03-05",
          "2022-03-12",
          "2022-03-19",
          "2022-03-26",
          "2022-04-02",
          "2022-04-09",
          "2022-04-16",
          "2022-04-23",
          "2022-04-30",
          "2022-05-07",
          "2022-05-14",
          "2022-05-21",
          "2022-05-28",
          "2022-06-04",
          "2022-06-11",
          "2022-06-18",
          "2022-06-25",
          "2022-07-02",
          "2022-07-09",
          "2022-07-16",
          "2022-07-23",
          "2022-07-30",
          "2022-08-06",
          "2022-08-13",
          "2022-08-20",
          "2022-08-27",
          "2022-09-03",
          "2022-09-10",
          "2022-09-17",
          "2022-09-24",
          "2022-10-01",
          "2022-10-08",
          "2022-10-15",
          "2022-10-22",
          "2022-10-29",
          "2022-11-05",
          "2022-11-12",
          "2022-11-19",
          "2022-11-26",
          "2022-12-03",
          "2022-12-10",
          "2022-12-17",
          "2022-12-24",
          "2022-12-31",
          "2023-01-07",
          "2023-01-14",
          "2023-01-21",
          "2023-01-28",
          "2023-02-04",
          "2023-02-11",
          "2023-02-18",
          "2023-02-25",
          "2023-03-04",
          "2023-03-11",
          "2023-03-18",
          "2023-03-25",
          "2023-04-01",
          "2023-04-08",
          "2023-04-15",
          "2023-04-22",
          "2023-04-29",
          "2023-05-06",
          "2023-05-13",
          "2023-05-20",
          "2023-05-27",
          "2023-06-03",
          "2023-06-10",
          "2023-06-17",
          "2023-06-24",
          "2023-07-01",
          "2023-07-08",
          "2023-07-15",
          "2023-07-22",
          "2023-07-29",
          "2023-08-05",
          "2023-08-12",
          "2023-08-19",
          "2023-08-26",
          "2023-09-02",
          "2023-09-09",
          "2023-09-16",
          "2023-09-23",
          "2023-09-30",
          "2023-10-07",
          "2023-10-14",
          "2023-10-21",
          "2023-10-28",
          "2023-11-04",
          "2023-11-11",
          "2023-11-18",
          "2023-11-25",
          "2023-12-02",
          "2023-12-09",
          "2023-12-16",
          "2023-12-23",
          "2023-12-30",
          "2024-01-06",
          "2024-01-13",
          "2024-01-20",
          "2024-01-27",
          "2024-02-03",
          "2024-02-10",
          "2024-02-17",
          "2024-02-24",
          "2024-03-02",
          "2024-03-09",
          "2024-03-16",
          "2024-03-23",
          "2024-03-30",
          "2024-04-06",
          "2024-04-13",
          "2024-04-20",
          "2024-04-27",
          "2024-05-04",
          "2024-05-11",
          "2024-05-18",
          "2024-05-25",
          "2024-06-01",
          "2024-06-08",
          "2024-06-15",
          "2024-06-22",
          "2024-06-29",
          "2024-07-06",
          "2024-07-13",
          "2024-07-20",
          "2024-07-27",
          "2024-08-03",
          "2024-08-10",
          "2024-08-17",
          "2024-08-24",
          "2024-08-31",
          "2024-09-07",
          "2024-09-14",
          "2024-09-21",
          "2024-09-28",
          "2024-10-05",
          "2024-10-12",
          "2024-10-19",
          "2024-10-26",
          "2024-11-02",
          "2024-11-09",
          "2024-11-16",
          "2024-11-23",
          "2024-11-30",
          "2024-12-07",
          "2024-12-14",
          "2024-12-21",
          "2024-12-28"
         ],
         "y": [
          "",
          "",
          "",
          "",
          "",
          "",
          "",
          "",
          "",
          "",
          "",
          "",
          "",
          "",
          "",
          "",
          "",
          "",
          "",
          "",
          "",
          "",
          "",
          "",
          "",
          "",
          "",
          "",
          "",
          "",
          "",
          "",
          "",
          "",
          "",
          "",
          "",
          "",
          "",
          "",
          "",
          "",
          "",
          "",
          "",
          "",
          "",
          "",
          "",
          "",
          "",
          "",
          "",
          "",
          "",
          "",
          "",
          "",
          "",
          "",
          "",
          "",
          "",
          "",
          "",
          "",
          "",
          "",
          "",
          "",
          "",
          "",
          "",
          "",
          "",
          "",
          "",
          "",
          "",
          "",
          "",
          "",
          "",
          "",
          "",
          "",
          "",
          "",
          "",
          "",
          "",
          "",
          "",
          "",
          "",
          "",
          "",
          "",
          "",
          "",
          "",
          "",
          "",
          "",
          "",
          "",
          "",
          "",
          "",
          "",
          "",
          "",
          "",
          "",
          "",
          "",
          "",
          "",
          "",
          "",
          "",
          "",
          "",
          "",
          "",
          "",
          "",
          "",
          "",
          "",
          "",
          "",
          "",
          "",
          "",
          "",
          "",
          "",
          "",
          "",
          "",
          "",
          "",
          "",
          "",
          "",
          "",
          "",
          6172.6436,
          8456.06,
          11276.19,
          14208.098
         ]
        }
       ],
       "layout": {
        "legend": {
         "bgcolor": "#F5F6F9",
         "font": {
          "color": "#4D5663"
         }
        },
        "paper_bgcolor": "#F5F6F9",
        "plot_bgcolor": "#F5F6F9",
        "template": {
         "data": {
          "bar": [
           {
            "error_x": {
             "color": "#2a3f5f"
            },
            "error_y": {
             "color": "#2a3f5f"
            },
            "marker": {
             "line": {
              "color": "#E5ECF6",
              "width": 0.5
             },
             "pattern": {
              "fillmode": "overlay",
              "size": 10,
              "solidity": 0.2
             }
            },
            "type": "bar"
           }
          ],
          "barpolar": [
           {
            "marker": {
             "line": {
              "color": "#E5ECF6",
              "width": 0.5
             },
             "pattern": {
              "fillmode": "overlay",
              "size": 10,
              "solidity": 0.2
             }
            },
            "type": "barpolar"
           }
          ],
          "carpet": [
           {
            "aaxis": {
             "endlinecolor": "#2a3f5f",
             "gridcolor": "white",
             "linecolor": "white",
             "minorgridcolor": "white",
             "startlinecolor": "#2a3f5f"
            },
            "baxis": {
             "endlinecolor": "#2a3f5f",
             "gridcolor": "white",
             "linecolor": "white",
             "minorgridcolor": "white",
             "startlinecolor": "#2a3f5f"
            },
            "type": "carpet"
           }
          ],
          "choropleth": [
           {
            "colorbar": {
             "outlinewidth": 0,
             "ticks": ""
            },
            "type": "choropleth"
           }
          ],
          "contour": [
           {
            "colorbar": {
             "outlinewidth": 0,
             "ticks": ""
            },
            "colorscale": [
             [
              0,
              "#0d0887"
             ],
             [
              0.1111111111111111,
              "#46039f"
             ],
             [
              0.2222222222222222,
              "#7201a8"
             ],
             [
              0.3333333333333333,
              "#9c179e"
             ],
             [
              0.4444444444444444,
              "#bd3786"
             ],
             [
              0.5555555555555556,
              "#d8576b"
             ],
             [
              0.6666666666666666,
              "#ed7953"
             ],
             [
              0.7777777777777778,
              "#fb9f3a"
             ],
             [
              0.8888888888888888,
              "#fdca26"
             ],
             [
              1,
              "#f0f921"
             ]
            ],
            "type": "contour"
           }
          ],
          "contourcarpet": [
           {
            "colorbar": {
             "outlinewidth": 0,
             "ticks": ""
            },
            "type": "contourcarpet"
           }
          ],
          "heatmap": [
           {
            "colorbar": {
             "outlinewidth": 0,
             "ticks": ""
            },
            "colorscale": [
             [
              0,
              "#0d0887"
             ],
             [
              0.1111111111111111,
              "#46039f"
             ],
             [
              0.2222222222222222,
              "#7201a8"
             ],
             [
              0.3333333333333333,
              "#9c179e"
             ],
             [
              0.4444444444444444,
              "#bd3786"
             ],
             [
              0.5555555555555556,
              "#d8576b"
             ],
             [
              0.6666666666666666,
              "#ed7953"
             ],
             [
              0.7777777777777778,
              "#fb9f3a"
             ],
             [
              0.8888888888888888,
              "#fdca26"
             ],
             [
              1,
              "#f0f921"
             ]
            ],
            "type": "heatmap"
           }
          ],
          "heatmapgl": [
           {
            "colorbar": {
             "outlinewidth": 0,
             "ticks": ""
            },
            "colorscale": [
             [
              0,
              "#0d0887"
             ],
             [
              0.1111111111111111,
              "#46039f"
             ],
             [
              0.2222222222222222,
              "#7201a8"
             ],
             [
              0.3333333333333333,
              "#9c179e"
             ],
             [
              0.4444444444444444,
              "#bd3786"
             ],
             [
              0.5555555555555556,
              "#d8576b"
             ],
             [
              0.6666666666666666,
              "#ed7953"
             ],
             [
              0.7777777777777778,
              "#fb9f3a"
             ],
             [
              0.8888888888888888,
              "#fdca26"
             ],
             [
              1,
              "#f0f921"
             ]
            ],
            "type": "heatmapgl"
           }
          ],
          "histogram": [
           {
            "marker": {
             "pattern": {
              "fillmode": "overlay",
              "size": 10,
              "solidity": 0.2
             }
            },
            "type": "histogram"
           }
          ],
          "histogram2d": [
           {
            "colorbar": {
             "outlinewidth": 0,
             "ticks": ""
            },
            "colorscale": [
             [
              0,
              "#0d0887"
             ],
             [
              0.1111111111111111,
              "#46039f"
             ],
             [
              0.2222222222222222,
              "#7201a8"
             ],
             [
              0.3333333333333333,
              "#9c179e"
             ],
             [
              0.4444444444444444,
              "#bd3786"
             ],
             [
              0.5555555555555556,
              "#d8576b"
             ],
             [
              0.6666666666666666,
              "#ed7953"
             ],
             [
              0.7777777777777778,
              "#fb9f3a"
             ],
             [
              0.8888888888888888,
              "#fdca26"
             ],
             [
              1,
              "#f0f921"
             ]
            ],
            "type": "histogram2d"
           }
          ],
          "histogram2dcontour": [
           {
            "colorbar": {
             "outlinewidth": 0,
             "ticks": ""
            },
            "colorscale": [
             [
              0,
              "#0d0887"
             ],
             [
              0.1111111111111111,
              "#46039f"
             ],
             [
              0.2222222222222222,
              "#7201a8"
             ],
             [
              0.3333333333333333,
              "#9c179e"
             ],
             [
              0.4444444444444444,
              "#bd3786"
             ],
             [
              0.5555555555555556,
              "#d8576b"
             ],
             [
              0.6666666666666666,
              "#ed7953"
             ],
             [
              0.7777777777777778,
              "#fb9f3a"
             ],
             [
              0.8888888888888888,
              "#fdca26"
             ],
             [
              1,
              "#f0f921"
             ]
            ],
            "type": "histogram2dcontour"
           }
          ],
          "mesh3d": [
           {
            "colorbar": {
             "outlinewidth": 0,
             "ticks": ""
            },
            "type": "mesh3d"
           }
          ],
          "parcoords": [
           {
            "line": {
             "colorbar": {
              "outlinewidth": 0,
              "ticks": ""
             }
            },
            "type": "parcoords"
           }
          ],
          "pie": [
           {
            "automargin": true,
            "type": "pie"
           }
          ],
          "scatter": [
           {
            "fillpattern": {
             "fillmode": "overlay",
             "size": 10,
             "solidity": 0.2
            },
            "type": "scatter"
           }
          ],
          "scatter3d": [
           {
            "line": {
             "colorbar": {
              "outlinewidth": 0,
              "ticks": ""
             }
            },
            "marker": {
             "colorbar": {
              "outlinewidth": 0,
              "ticks": ""
             }
            },
            "type": "scatter3d"
           }
          ],
          "scattercarpet": [
           {
            "marker": {
             "colorbar": {
              "outlinewidth": 0,
              "ticks": ""
             }
            },
            "type": "scattercarpet"
           }
          ],
          "scattergeo": [
           {
            "marker": {
             "colorbar": {
              "outlinewidth": 0,
              "ticks": ""
             }
            },
            "type": "scattergeo"
           }
          ],
          "scattergl": [
           {
            "marker": {
             "colorbar": {
              "outlinewidth": 0,
              "ticks": ""
             }
            },
            "type": "scattergl"
           }
          ],
          "scattermapbox": [
           {
            "marker": {
             "colorbar": {
              "outlinewidth": 0,
              "ticks": ""
             }
            },
            "type": "scattermapbox"
           }
          ],
          "scatterpolar": [
           {
            "marker": {
             "colorbar": {
              "outlinewidth": 0,
              "ticks": ""
             }
            },
            "type": "scatterpolar"
           }
          ],
          "scatterpolargl": [
           {
            "marker": {
             "colorbar": {
              "outlinewidth": 0,
              "ticks": ""
             }
            },
            "type": "scatterpolargl"
           }
          ],
          "scatterternary": [
           {
            "marker": {
             "colorbar": {
              "outlinewidth": 0,
              "ticks": ""
             }
            },
            "type": "scatterternary"
           }
          ],
          "surface": [
           {
            "colorbar": {
             "outlinewidth": 0,
             "ticks": ""
            },
            "colorscale": [
             [
              0,
              "#0d0887"
             ],
             [
              0.1111111111111111,
              "#46039f"
             ],
             [
              0.2222222222222222,
              "#7201a8"
             ],
             [
              0.3333333333333333,
              "#9c179e"
             ],
             [
              0.4444444444444444,
              "#bd3786"
             ],
             [
              0.5555555555555556,
              "#d8576b"
             ],
             [
              0.6666666666666666,
              "#ed7953"
             ],
             [
              0.7777777777777778,
              "#fb9f3a"
             ],
             [
              0.8888888888888888,
              "#fdca26"
             ],
             [
              1,
              "#f0f921"
             ]
            ],
            "type": "surface"
           }
          ],
          "table": [
           {
            "cells": {
             "fill": {
              "color": "#EBF0F8"
             },
             "line": {
              "color": "white"
             }
            },
            "header": {
             "fill": {
              "color": "#C8D4E3"
             },
             "line": {
              "color": "white"
             }
            },
            "type": "table"
           }
          ]
         },
         "layout": {
          "annotationdefaults": {
           "arrowcolor": "#2a3f5f",
           "arrowhead": 0,
           "arrowwidth": 1
          },
          "autotypenumbers": "strict",
          "coloraxis": {
           "colorbar": {
            "outlinewidth": 0,
            "ticks": ""
           }
          },
          "colorscale": {
           "diverging": [
            [
             0,
             "#8e0152"
            ],
            [
             0.1,
             "#c51b7d"
            ],
            [
             0.2,
             "#de77ae"
            ],
            [
             0.3,
             "#f1b6da"
            ],
            [
             0.4,
             "#fde0ef"
            ],
            [
             0.5,
             "#f7f7f7"
            ],
            [
             0.6,
             "#e6f5d0"
            ],
            [
             0.7,
             "#b8e186"
            ],
            [
             0.8,
             "#7fbc41"
            ],
            [
             0.9,
             "#4d9221"
            ],
            [
             1,
             "#276419"
            ]
           ],
           "sequential": [
            [
             0,
             "#0d0887"
            ],
            [
             0.1111111111111111,
             "#46039f"
            ],
            [
             0.2222222222222222,
             "#7201a8"
            ],
            [
             0.3333333333333333,
             "#9c179e"
            ],
            [
             0.4444444444444444,
             "#bd3786"
            ],
            [
             0.5555555555555556,
             "#d8576b"
            ],
            [
             0.6666666666666666,
             "#ed7953"
            ],
            [
             0.7777777777777778,
             "#fb9f3a"
            ],
            [
             0.8888888888888888,
             "#fdca26"
            ],
            [
             1,
             "#f0f921"
            ]
           ],
           "sequentialminus": [
            [
             0,
             "#0d0887"
            ],
            [
             0.1111111111111111,
             "#46039f"
            ],
            [
             0.2222222222222222,
             "#7201a8"
            ],
            [
             0.3333333333333333,
             "#9c179e"
            ],
            [
             0.4444444444444444,
             "#bd3786"
            ],
            [
             0.5555555555555556,
             "#d8576b"
            ],
            [
             0.6666666666666666,
             "#ed7953"
            ],
            [
             0.7777777777777778,
             "#fb9f3a"
            ],
            [
             0.8888888888888888,
             "#fdca26"
            ],
            [
             1,
             "#f0f921"
            ]
           ]
          },
          "colorway": [
           "#636efa",
           "#EF553B",
           "#00cc96",
           "#ab63fa",
           "#FFA15A",
           "#19d3f3",
           "#FF6692",
           "#B6E880",
           "#FF97FF",
           "#FECB52"
          ],
          "font": {
           "color": "#2a3f5f"
          },
          "geo": {
           "bgcolor": "white",
           "lakecolor": "white",
           "landcolor": "#E5ECF6",
           "showlakes": true,
           "showland": true,
           "subunitcolor": "white"
          },
          "hoverlabel": {
           "align": "left"
          },
          "hovermode": "closest",
          "mapbox": {
           "style": "light"
          },
          "paper_bgcolor": "white",
          "plot_bgcolor": "#E5ECF6",
          "polar": {
           "angularaxis": {
            "gridcolor": "white",
            "linecolor": "white",
            "ticks": ""
           },
           "bgcolor": "#E5ECF6",
           "radialaxis": {
            "gridcolor": "white",
            "linecolor": "white",
            "ticks": ""
           }
          },
          "scene": {
           "xaxis": {
            "backgroundcolor": "#E5ECF6",
            "gridcolor": "white",
            "gridwidth": 2,
            "linecolor": "white",
            "showbackground": true,
            "ticks": "",
            "zerolinecolor": "white"
           },
           "yaxis": {
            "backgroundcolor": "#E5ECF6",
            "gridcolor": "white",
            "gridwidth": 2,
            "linecolor": "white",
            "showbackground": true,
            "ticks": "",
            "zerolinecolor": "white"
           },
           "zaxis": {
            "backgroundcolor": "#E5ECF6",
            "gridcolor": "white",
            "gridwidth": 2,
            "linecolor": "white",
            "showbackground": true,
            "ticks": "",
            "zerolinecolor": "white"
           }
          },
          "shapedefaults": {
           "line": {
            "color": "#2a3f5f"
           }
          },
          "ternary": {
           "aaxis": {
            "gridcolor": "white",
            "linecolor": "white",
            "ticks": ""
           },
           "baxis": {
            "gridcolor": "white",
            "linecolor": "white",
            "ticks": ""
           },
           "bgcolor": "#E5ECF6",
           "caxis": {
            "gridcolor": "white",
            "linecolor": "white",
            "ticks": ""
           }
          },
          "title": {
           "x": 0.05
          },
          "xaxis": {
           "automargin": true,
           "gridcolor": "white",
           "linecolor": "white",
           "ticks": "",
           "title": {
            "standoff": 15
           },
           "zerolinecolor": "white",
           "zerolinewidth": 2
          },
          "yaxis": {
           "automargin": true,
           "gridcolor": "white",
           "linecolor": "white",
           "ticks": "",
           "title": {
            "standoff": 15
           },
           "zerolinecolor": "white",
           "zerolinewidth": 2
          }
         }
        },
        "title": {
         "font": {
          "color": "#4D5663"
         },
         "text": "TimeGPT vs Real Data"
        },
        "xaxis": {
         "gridcolor": "#E1E5ED",
         "showgrid": true,
         "tickfont": {
          "color": "#4D5663"
         },
         "title": {
          "font": {
           "color": "#4D5663"
          },
          "text": "Date"
         },
         "zerolinecolor": "#E1E5ED"
        },
        "yaxis": {
         "gridcolor": "#E1E5ED",
         "showgrid": true,
         "tickfont": {
          "color": "#4D5663"
         },
         "title": {
          "font": {
           "color": "#4D5663"
          },
          "text": "Count"
         },
         "zerolinecolor": "#E1E5ED"
        }
       }
      },
      "text/html": [
       "<div>                            <div id=\"af819e9b-8917-4ff2-b0a1-dae7624b267d\" class=\"plotly-graph-div\" style=\"height:525px; width:100%;\"></div>            <script type=\"text/javascript\">                require([\"plotly\"], function(Plotly) {                    window.PLOTLYENV=window.PLOTLYENV || {};\n",
       "                    window.PLOTLYENV.BASE_URL='https://plot.ly';                                    if (document.getElementById(\"af819e9b-8917-4ff2-b0a1-dae7624b267d\")) {                    Plotly.newPlot(                        \"af819e9b-8917-4ff2-b0a1-dae7624b267d\",                        [{\"line\":{\"color\":\"rgba(255, 153, 51, 1.0)\",\"dash\":\"solid\",\"shape\":\"linear\",\"width\":1.3},\"mode\":\"lines\",\"name\":\"Training Data\",\"text\":\"\",\"x\":[\"2022-02-05\",\"2022-02-12\",\"2022-02-19\",\"2022-02-26\",\"2022-03-05\",\"2022-03-12\",\"2022-03-19\",\"2022-03-26\",\"2022-04-02\",\"2022-04-09\",\"2022-04-16\",\"2022-04-23\",\"2022-04-30\",\"2022-05-07\",\"2022-05-14\",\"2022-05-21\",\"2022-05-28\",\"2022-06-04\",\"2022-06-11\",\"2022-06-18\",\"2022-06-25\",\"2022-07-02\",\"2022-07-09\",\"2022-07-16\",\"2022-07-23\",\"2022-07-30\",\"2022-08-06\",\"2022-08-13\",\"2022-08-20\",\"2022-08-27\",\"2022-09-03\",\"2022-09-10\",\"2022-09-17\",\"2022-09-24\",\"2022-10-01\",\"2022-10-08\",\"2022-10-15\",\"2022-10-22\",\"2022-10-29\",\"2022-11-05\",\"2022-11-12\",\"2022-11-19\",\"2022-11-26\",\"2022-12-03\",\"2022-12-10\",\"2022-12-17\",\"2022-12-24\",\"2022-12-31\",\"2023-01-07\",\"2023-01-14\",\"2023-01-21\",\"2023-01-28\",\"2023-02-04\",\"2023-02-11\",\"2023-02-18\",\"2023-02-25\",\"2023-03-04\",\"2023-03-11\",\"2023-03-18\",\"2023-03-25\",\"2023-04-01\",\"2023-04-08\",\"2023-04-15\",\"2023-04-22\",\"2023-04-29\",\"2023-05-06\",\"2023-05-13\",\"2023-05-20\",\"2023-05-27\",\"2023-06-03\",\"2023-06-10\",\"2023-06-17\",\"2023-06-24\",\"2023-07-01\",\"2023-07-08\",\"2023-07-15\",\"2023-07-22\",\"2023-07-29\",\"2023-08-05\",\"2023-08-12\",\"2023-08-19\",\"2023-08-26\",\"2023-09-02\",\"2023-09-09\",\"2023-09-16\",\"2023-09-23\",\"2023-09-30\",\"2023-10-07\",\"2023-10-14\",\"2023-10-21\",\"2023-10-28\",\"2023-11-04\",\"2023-11-11\",\"2023-11-18\",\"2023-11-25\",\"2023-12-02\",\"2023-12-09\",\"2023-12-16\",\"2023-12-23\",\"2023-12-30\",\"2024-01-06\",\"2024-01-13\",\"2024-01-20\",\"2024-01-27\",\"2024-02-03\",\"2024-02-10\",\"2024-02-17\",\"2024-02-24\",\"2024-03-02\",\"2024-03-09\",\"2024-03-16\",\"2024-03-23\",\"2024-03-30\",\"2024-04-06\",\"2024-04-13\",\"2024-04-20\",\"2024-04-27\",\"2024-05-04\",\"2024-05-11\",\"2024-05-18\",\"2024-05-25\",\"2024-06-01\",\"2024-06-08\",\"2024-06-15\",\"2024-06-22\",\"2024-06-29\",\"2024-07-06\",\"2024-07-13\",\"2024-07-20\",\"2024-07-27\",\"2024-08-03\",\"2024-08-10\",\"2024-08-17\",\"2024-08-24\",\"2024-08-31\",\"2024-09-07\",\"2024-09-14\",\"2024-09-21\",\"2024-09-28\",\"2024-10-05\",\"2024-10-12\",\"2024-10-19\",\"2024-10-26\",\"2024-11-02\",\"2024-11-09\",\"2024-11-16\",\"2024-11-23\",\"2024-11-30\",\"2024-12-07\",\"2024-12-14\",\"2024-12-21\",\"2024-12-28\"],\"y\":[1095.0,1164.0,1493.0,1603.0,1791.0,2097.0,2626.0,2919.0,3008.0,3149.0,3308.0,3474.0,3182.0,3175.0,3119.0,3134.0,2738.0,2678.0,2210.0,1776.0,1366.0,1073.0,776.0,766.0,628.0,522.0,486.0,490.0,483.0,483.0,545.0,576.0,665.0,796.0,921.0,1316.0,1674.0,2292.0,4184.0,6409.0,8595.0,10974.0,18185.0,26853.0,24039.0,21615.0,19634.0,19482.0,14078.0,7191.0,4492.0,3092.0,2597.0,2177.0,1908.0,1649.0,1504.0,1372.0,1415.0,1331.0,1295.0,1199.0,1077.0,982.0,903.0,994.0,980.0,1116.0,974.0,939.0,935.0,873.0,813.0,836.0,699.0,736.0,645.0,772.0,690.0,706.0,738.0,793.0,875.0,804.0,821.0,884.0,1026.0,1110.0,1215.0,1470.0,1614.0,2014.0,2776.0,3492.0,4387.0,5962.0,7510.0,10289.0,15727.0,21685.0,19550.0,15909.0,13305.0,13027.0,11967.0,11635.0,11127.0,10873.0,10815.0,9417.0,7327.0,6049.0,5576.0,5073.0,4073.0,2944.0,2421.0,1485.0,852.0,684.0,611.0,591.0,511.0,519.0,441.0,356.0,342.0,367.0,325.0,273.0,276.0,275.0,275.0,274.0,262.0,223.0,319.0,293.0,223.0,287.0,264.0,552.0,1080.0,983.0,2059.0,2468.0,3078.0,4348.0,\"\",\"\",\"\",\"\"],\"type\":\"scatter\"},{\"line\":{\"color\":\"rgba(55, 128, 191, 1.0)\",\"dash\":\"solid\",\"shape\":\"linear\",\"width\":1.3},\"mode\":\"lines\",\"name\":\"Real Data\",\"text\":\"\",\"x\":[\"2022-02-05\",\"2022-02-12\",\"2022-02-19\",\"2022-02-26\",\"2022-03-05\",\"2022-03-12\",\"2022-03-19\",\"2022-03-26\",\"2022-04-02\",\"2022-04-09\",\"2022-04-16\",\"2022-04-23\",\"2022-04-30\",\"2022-05-07\",\"2022-05-14\",\"2022-05-21\",\"2022-05-28\",\"2022-06-04\",\"2022-06-11\",\"2022-06-18\",\"2022-06-25\",\"2022-07-02\",\"2022-07-09\",\"2022-07-16\",\"2022-07-23\",\"2022-07-30\",\"2022-08-06\",\"2022-08-13\",\"2022-08-20\",\"2022-08-27\",\"2022-09-03\",\"2022-09-10\",\"2022-09-17\",\"2022-09-24\",\"2022-10-01\",\"2022-10-08\",\"2022-10-15\",\"2022-10-22\",\"2022-10-29\",\"2022-11-05\",\"2022-11-12\",\"2022-11-19\",\"2022-11-26\",\"2022-12-03\",\"2022-12-10\",\"2022-12-17\",\"2022-12-24\",\"2022-12-31\",\"2023-01-07\",\"2023-01-14\",\"2023-01-21\",\"2023-01-28\",\"2023-02-04\",\"2023-02-11\",\"2023-02-18\",\"2023-02-25\",\"2023-03-04\",\"2023-03-11\",\"2023-03-18\",\"2023-03-25\",\"2023-04-01\",\"2023-04-08\",\"2023-04-15\",\"2023-04-22\",\"2023-04-29\",\"2023-05-06\",\"2023-05-13\",\"2023-05-20\",\"2023-05-27\",\"2023-06-03\",\"2023-06-10\",\"2023-06-17\",\"2023-06-24\",\"2023-07-01\",\"2023-07-08\",\"2023-07-15\",\"2023-07-22\",\"2023-07-29\",\"2023-08-05\",\"2023-08-12\",\"2023-08-19\",\"2023-08-26\",\"2023-09-02\",\"2023-09-09\",\"2023-09-16\",\"2023-09-23\",\"2023-09-30\",\"2023-10-07\",\"2023-10-14\",\"2023-10-21\",\"2023-10-28\",\"2023-11-04\",\"2023-11-11\",\"2023-11-18\",\"2023-11-25\",\"2023-12-02\",\"2023-12-09\",\"2023-12-16\",\"2023-12-23\",\"2023-12-30\",\"2024-01-06\",\"2024-01-13\",\"2024-01-20\",\"2024-01-27\",\"2024-02-03\",\"2024-02-10\",\"2024-02-17\",\"2024-02-24\",\"2024-03-02\",\"2024-03-09\",\"2024-03-16\",\"2024-03-23\",\"2024-03-30\",\"2024-04-06\",\"2024-04-13\",\"2024-04-20\",\"2024-04-27\",\"2024-05-04\",\"2024-05-11\",\"2024-05-18\",\"2024-05-25\",\"2024-06-01\",\"2024-06-08\",\"2024-06-15\",\"2024-06-22\",\"2024-06-29\",\"2024-07-06\",\"2024-07-13\",\"2024-07-20\",\"2024-07-27\",\"2024-08-03\",\"2024-08-10\",\"2024-08-17\",\"2024-08-24\",\"2024-08-31\",\"2024-09-07\",\"2024-09-14\",\"2024-09-21\",\"2024-09-28\",\"2024-10-05\",\"2024-10-12\",\"2024-10-19\",\"2024-10-26\",\"2024-11-02\",\"2024-11-09\",\"2024-11-16\",\"2024-11-23\",\"2024-11-30\",\"2024-12-07\",\"2024-12-14\",\"2024-12-21\",\"2024-12-28\"],\"y\":[\"\",\"\",\"\",\"\",\"\",\"\",\"\",\"\",\"\",\"\",\"\",\"\",\"\",\"\",\"\",\"\",\"\",\"\",\"\",\"\",\"\",\"\",\"\",\"\",\"\",\"\",\"\",\"\",\"\",\"\",\"\",\"\",\"\",\"\",\"\",\"\",\"\",\"\",\"\",\"\",\"\",\"\",\"\",\"\",\"\",\"\",\"\",\"\",\"\",\"\",\"\",\"\",\"\",\"\",\"\",\"\",\"\",\"\",\"\",\"\",\"\",\"\",\"\",\"\",\"\",\"\",\"\",\"\",\"\",\"\",\"\",\"\",\"\",\"\",\"\",\"\",\"\",\"\",\"\",\"\",\"\",\"\",\"\",\"\",\"\",\"\",\"\",\"\",\"\",\"\",\"\",\"\",\"\",\"\",\"\",\"\",\"\",\"\",\"\",\"\",\"\",\"\",\"\",\"\",\"\",\"\",\"\",\"\",\"\",\"\",\"\",\"\",\"\",\"\",\"\",\"\",\"\",\"\",\"\",\"\",\"\",\"\",\"\",\"\",\"\",\"\",\"\",\"\",\"\",\"\",\"\",\"\",\"\",\"\",\"\",\"\",\"\",\"\",\"\",\"\",\"\",\"\",\"\",\"\",\"\",\"\",\"\",\"\",6342.0,9118.0,14667.0,25693.0],\"type\":\"scatter\"},{\"line\":{\"color\":\"rgba(50, 171, 96, 1.0)\",\"dash\":\"solid\",\"shape\":\"linear\",\"width\":1.3},\"mode\":\"lines\",\"name\":\"TimeGPT Prediction\",\"text\":\"\",\"x\":[\"2022-02-05\",\"2022-02-12\",\"2022-02-19\",\"2022-02-26\",\"2022-03-05\",\"2022-03-12\",\"2022-03-19\",\"2022-03-26\",\"2022-04-02\",\"2022-04-09\",\"2022-04-16\",\"2022-04-23\",\"2022-04-30\",\"2022-05-07\",\"2022-05-14\",\"2022-05-21\",\"2022-05-28\",\"2022-06-04\",\"2022-06-11\",\"2022-06-18\",\"2022-06-25\",\"2022-07-02\",\"2022-07-09\",\"2022-07-16\",\"2022-07-23\",\"2022-07-30\",\"2022-08-06\",\"2022-08-13\",\"2022-08-20\",\"2022-08-27\",\"2022-09-03\",\"2022-09-10\",\"2022-09-17\",\"2022-09-24\",\"2022-10-01\",\"2022-10-08\",\"2022-10-15\",\"2022-10-22\",\"2022-10-29\",\"2022-11-05\",\"2022-11-12\",\"2022-11-19\",\"2022-11-26\",\"2022-12-03\",\"2022-12-10\",\"2022-12-17\",\"2022-12-24\",\"2022-12-31\",\"2023-01-07\",\"2023-01-14\",\"2023-01-21\",\"2023-01-28\",\"2023-02-04\",\"2023-02-11\",\"2023-02-18\",\"2023-02-25\",\"2023-03-04\",\"2023-03-11\",\"2023-03-18\",\"2023-03-25\",\"2023-04-01\",\"2023-04-08\",\"2023-04-15\",\"2023-04-22\",\"2023-04-29\",\"2023-05-06\",\"2023-05-13\",\"2023-05-20\",\"2023-05-27\",\"2023-06-03\",\"2023-06-10\",\"2023-06-17\",\"2023-06-24\",\"2023-07-01\",\"2023-07-08\",\"2023-07-15\",\"2023-07-22\",\"2023-07-29\",\"2023-08-05\",\"2023-08-12\",\"2023-08-19\",\"2023-08-26\",\"2023-09-02\",\"2023-09-09\",\"2023-09-16\",\"2023-09-23\",\"2023-09-30\",\"2023-10-07\",\"2023-10-14\",\"2023-10-21\",\"2023-10-28\",\"2023-11-04\",\"2023-11-11\",\"2023-11-18\",\"2023-11-25\",\"2023-12-02\",\"2023-12-09\",\"2023-12-16\",\"2023-12-23\",\"2023-12-30\",\"2024-01-06\",\"2024-01-13\",\"2024-01-20\",\"2024-01-27\",\"2024-02-03\",\"2024-02-10\",\"2024-02-17\",\"2024-02-24\",\"2024-03-02\",\"2024-03-09\",\"2024-03-16\",\"2024-03-23\",\"2024-03-30\",\"2024-04-06\",\"2024-04-13\",\"2024-04-20\",\"2024-04-27\",\"2024-05-04\",\"2024-05-11\",\"2024-05-18\",\"2024-05-25\",\"2024-06-01\",\"2024-06-08\",\"2024-06-15\",\"2024-06-22\",\"2024-06-29\",\"2024-07-06\",\"2024-07-13\",\"2024-07-20\",\"2024-07-27\",\"2024-08-03\",\"2024-08-10\",\"2024-08-17\",\"2024-08-24\",\"2024-08-31\",\"2024-09-07\",\"2024-09-14\",\"2024-09-21\",\"2024-09-28\",\"2024-10-05\",\"2024-10-12\",\"2024-10-19\",\"2024-10-26\",\"2024-11-02\",\"2024-11-09\",\"2024-11-16\",\"2024-11-23\",\"2024-11-30\",\"2024-12-07\",\"2024-12-14\",\"2024-12-21\",\"2024-12-28\"],\"y\":[\"\",\"\",\"\",\"\",\"\",\"\",\"\",\"\",\"\",\"\",\"\",\"\",\"\",\"\",\"\",\"\",\"\",\"\",\"\",\"\",\"\",\"\",\"\",\"\",\"\",\"\",\"\",\"\",\"\",\"\",\"\",\"\",\"\",\"\",\"\",\"\",\"\",\"\",\"\",\"\",\"\",\"\",\"\",\"\",\"\",\"\",\"\",\"\",\"\",\"\",\"\",\"\",\"\",\"\",\"\",\"\",\"\",\"\",\"\",\"\",\"\",\"\",\"\",\"\",\"\",\"\",\"\",\"\",\"\",\"\",\"\",\"\",\"\",\"\",\"\",\"\",\"\",\"\",\"\",\"\",\"\",\"\",\"\",\"\",\"\",\"\",\"\",\"\",\"\",\"\",\"\",\"\",\"\",\"\",\"\",\"\",\"\",\"\",\"\",\"\",\"\",\"\",\"\",\"\",\"\",\"\",\"\",\"\",\"\",\"\",\"\",\"\",\"\",\"\",\"\",\"\",\"\",\"\",\"\",\"\",\"\",\"\",\"\",\"\",\"\",\"\",\"\",\"\",\"\",\"\",\"\",\"\",\"\",\"\",\"\",\"\",\"\",\"\",\"\",\"\",\"\",\"\",\"\",\"\",\"\",\"\",\"\",\"\",6172.6436,8456.06,11276.19,14208.098],\"type\":\"scatter\"}],                        {\"legend\":{\"bgcolor\":\"#F5F6F9\",\"font\":{\"color\":\"#4D5663\"}},\"paper_bgcolor\":\"#F5F6F9\",\"plot_bgcolor\":\"#F5F6F9\",\"template\":{\"data\":{\"barpolar\":[{\"marker\":{\"line\":{\"color\":\"#E5ECF6\",\"width\":0.5},\"pattern\":{\"fillmode\":\"overlay\",\"size\":10,\"solidity\":0.2}},\"type\":\"barpolar\"}],\"bar\":[{\"error_x\":{\"color\":\"#2a3f5f\"},\"error_y\":{\"color\":\"#2a3f5f\"},\"marker\":{\"line\":{\"color\":\"#E5ECF6\",\"width\":0.5},\"pattern\":{\"fillmode\":\"overlay\",\"size\":10,\"solidity\":0.2}},\"type\":\"bar\"}],\"carpet\":[{\"aaxis\":{\"endlinecolor\":\"#2a3f5f\",\"gridcolor\":\"white\",\"linecolor\":\"white\",\"minorgridcolor\":\"white\",\"startlinecolor\":\"#2a3f5f\"},\"baxis\":{\"endlinecolor\":\"#2a3f5f\",\"gridcolor\":\"white\",\"linecolor\":\"white\",\"minorgridcolor\":\"white\",\"startlinecolor\":\"#2a3f5f\"},\"type\":\"carpet\"}],\"choropleth\":[{\"colorbar\":{\"outlinewidth\":0,\"ticks\":\"\"},\"type\":\"choropleth\"}],\"contourcarpet\":[{\"colorbar\":{\"outlinewidth\":0,\"ticks\":\"\"},\"type\":\"contourcarpet\"}],\"contour\":[{\"colorbar\":{\"outlinewidth\":0,\"ticks\":\"\"},\"colorscale\":[[0.0,\"#0d0887\"],[0.1111111111111111,\"#46039f\"],[0.2222222222222222,\"#7201a8\"],[0.3333333333333333,\"#9c179e\"],[0.4444444444444444,\"#bd3786\"],[0.5555555555555556,\"#d8576b\"],[0.6666666666666666,\"#ed7953\"],[0.7777777777777778,\"#fb9f3a\"],[0.8888888888888888,\"#fdca26\"],[1.0,\"#f0f921\"]],\"type\":\"contour\"}],\"heatmapgl\":[{\"colorbar\":{\"outlinewidth\":0,\"ticks\":\"\"},\"colorscale\":[[0.0,\"#0d0887\"],[0.1111111111111111,\"#46039f\"],[0.2222222222222222,\"#7201a8\"],[0.3333333333333333,\"#9c179e\"],[0.4444444444444444,\"#bd3786\"],[0.5555555555555556,\"#d8576b\"],[0.6666666666666666,\"#ed7953\"],[0.7777777777777778,\"#fb9f3a\"],[0.8888888888888888,\"#fdca26\"],[1.0,\"#f0f921\"]],\"type\":\"heatmapgl\"}],\"heatmap\":[{\"colorbar\":{\"outlinewidth\":0,\"ticks\":\"\"},\"colorscale\":[[0.0,\"#0d0887\"],[0.1111111111111111,\"#46039f\"],[0.2222222222222222,\"#7201a8\"],[0.3333333333333333,\"#9c179e\"],[0.4444444444444444,\"#bd3786\"],[0.5555555555555556,\"#d8576b\"],[0.6666666666666666,\"#ed7953\"],[0.7777777777777778,\"#fb9f3a\"],[0.8888888888888888,\"#fdca26\"],[1.0,\"#f0f921\"]],\"type\":\"heatmap\"}],\"histogram2dcontour\":[{\"colorbar\":{\"outlinewidth\":0,\"ticks\":\"\"},\"colorscale\":[[0.0,\"#0d0887\"],[0.1111111111111111,\"#46039f\"],[0.2222222222222222,\"#7201a8\"],[0.3333333333333333,\"#9c179e\"],[0.4444444444444444,\"#bd3786\"],[0.5555555555555556,\"#d8576b\"],[0.6666666666666666,\"#ed7953\"],[0.7777777777777778,\"#fb9f3a\"],[0.8888888888888888,\"#fdca26\"],[1.0,\"#f0f921\"]],\"type\":\"histogram2dcontour\"}],\"histogram2d\":[{\"colorbar\":{\"outlinewidth\":0,\"ticks\":\"\"},\"colorscale\":[[0.0,\"#0d0887\"],[0.1111111111111111,\"#46039f\"],[0.2222222222222222,\"#7201a8\"],[0.3333333333333333,\"#9c179e\"],[0.4444444444444444,\"#bd3786\"],[0.5555555555555556,\"#d8576b\"],[0.6666666666666666,\"#ed7953\"],[0.7777777777777778,\"#fb9f3a\"],[0.8888888888888888,\"#fdca26\"],[1.0,\"#f0f921\"]],\"type\":\"histogram2d\"}],\"histogram\":[{\"marker\":{\"pattern\":{\"fillmode\":\"overlay\",\"size\":10,\"solidity\":0.2}},\"type\":\"histogram\"}],\"mesh3d\":[{\"colorbar\":{\"outlinewidth\":0,\"ticks\":\"\"},\"type\":\"mesh3d\"}],\"parcoords\":[{\"line\":{\"colorbar\":{\"outlinewidth\":0,\"ticks\":\"\"}},\"type\":\"parcoords\"}],\"pie\":[{\"automargin\":true,\"type\":\"pie\"}],\"scatter3d\":[{\"line\":{\"colorbar\":{\"outlinewidth\":0,\"ticks\":\"\"}},\"marker\":{\"colorbar\":{\"outlinewidth\":0,\"ticks\":\"\"}},\"type\":\"scatter3d\"}],\"scattercarpet\":[{\"marker\":{\"colorbar\":{\"outlinewidth\":0,\"ticks\":\"\"}},\"type\":\"scattercarpet\"}],\"scattergeo\":[{\"marker\":{\"colorbar\":{\"outlinewidth\":0,\"ticks\":\"\"}},\"type\":\"scattergeo\"}],\"scattergl\":[{\"marker\":{\"colorbar\":{\"outlinewidth\":0,\"ticks\":\"\"}},\"type\":\"scattergl\"}],\"scattermapbox\":[{\"marker\":{\"colorbar\":{\"outlinewidth\":0,\"ticks\":\"\"}},\"type\":\"scattermapbox\"}],\"scatterpolargl\":[{\"marker\":{\"colorbar\":{\"outlinewidth\":0,\"ticks\":\"\"}},\"type\":\"scatterpolargl\"}],\"scatterpolar\":[{\"marker\":{\"colorbar\":{\"outlinewidth\":0,\"ticks\":\"\"}},\"type\":\"scatterpolar\"}],\"scatter\":[{\"fillpattern\":{\"fillmode\":\"overlay\",\"size\":10,\"solidity\":0.2},\"type\":\"scatter\"}],\"scatterternary\":[{\"marker\":{\"colorbar\":{\"outlinewidth\":0,\"ticks\":\"\"}},\"type\":\"scatterternary\"}],\"surface\":[{\"colorbar\":{\"outlinewidth\":0,\"ticks\":\"\"},\"colorscale\":[[0.0,\"#0d0887\"],[0.1111111111111111,\"#46039f\"],[0.2222222222222222,\"#7201a8\"],[0.3333333333333333,\"#9c179e\"],[0.4444444444444444,\"#bd3786\"],[0.5555555555555556,\"#d8576b\"],[0.6666666666666666,\"#ed7953\"],[0.7777777777777778,\"#fb9f3a\"],[0.8888888888888888,\"#fdca26\"],[1.0,\"#f0f921\"]],\"type\":\"surface\"}],\"table\":[{\"cells\":{\"fill\":{\"color\":\"#EBF0F8\"},\"line\":{\"color\":\"white\"}},\"header\":{\"fill\":{\"color\":\"#C8D4E3\"},\"line\":{\"color\":\"white\"}},\"type\":\"table\"}]},\"layout\":{\"annotationdefaults\":{\"arrowcolor\":\"#2a3f5f\",\"arrowhead\":0,\"arrowwidth\":1},\"autotypenumbers\":\"strict\",\"coloraxis\":{\"colorbar\":{\"outlinewidth\":0,\"ticks\":\"\"}},\"colorscale\":{\"diverging\":[[0,\"#8e0152\"],[0.1,\"#c51b7d\"],[0.2,\"#de77ae\"],[0.3,\"#f1b6da\"],[0.4,\"#fde0ef\"],[0.5,\"#f7f7f7\"],[0.6,\"#e6f5d0\"],[0.7,\"#b8e186\"],[0.8,\"#7fbc41\"],[0.9,\"#4d9221\"],[1,\"#276419\"]],\"sequential\":[[0.0,\"#0d0887\"],[0.1111111111111111,\"#46039f\"],[0.2222222222222222,\"#7201a8\"],[0.3333333333333333,\"#9c179e\"],[0.4444444444444444,\"#bd3786\"],[0.5555555555555556,\"#d8576b\"],[0.6666666666666666,\"#ed7953\"],[0.7777777777777778,\"#fb9f3a\"],[0.8888888888888888,\"#fdca26\"],[1.0,\"#f0f921\"]],\"sequentialminus\":[[0.0,\"#0d0887\"],[0.1111111111111111,\"#46039f\"],[0.2222222222222222,\"#7201a8\"],[0.3333333333333333,\"#9c179e\"],[0.4444444444444444,\"#bd3786\"],[0.5555555555555556,\"#d8576b\"],[0.6666666666666666,\"#ed7953\"],[0.7777777777777778,\"#fb9f3a\"],[0.8888888888888888,\"#fdca26\"],[1.0,\"#f0f921\"]]},\"colorway\":[\"#636efa\",\"#EF553B\",\"#00cc96\",\"#ab63fa\",\"#FFA15A\",\"#19d3f3\",\"#FF6692\",\"#B6E880\",\"#FF97FF\",\"#FECB52\"],\"font\":{\"color\":\"#2a3f5f\"},\"geo\":{\"bgcolor\":\"white\",\"lakecolor\":\"white\",\"landcolor\":\"#E5ECF6\",\"showlakes\":true,\"showland\":true,\"subunitcolor\":\"white\"},\"hoverlabel\":{\"align\":\"left\"},\"hovermode\":\"closest\",\"mapbox\":{\"style\":\"light\"},\"paper_bgcolor\":\"white\",\"plot_bgcolor\":\"#E5ECF6\",\"polar\":{\"angularaxis\":{\"gridcolor\":\"white\",\"linecolor\":\"white\",\"ticks\":\"\"},\"bgcolor\":\"#E5ECF6\",\"radialaxis\":{\"gridcolor\":\"white\",\"linecolor\":\"white\",\"ticks\":\"\"}},\"scene\":{\"xaxis\":{\"backgroundcolor\":\"#E5ECF6\",\"gridcolor\":\"white\",\"gridwidth\":2,\"linecolor\":\"white\",\"showbackground\":true,\"ticks\":\"\",\"zerolinecolor\":\"white\"},\"yaxis\":{\"backgroundcolor\":\"#E5ECF6\",\"gridcolor\":\"white\",\"gridwidth\":2,\"linecolor\":\"white\",\"showbackground\":true,\"ticks\":\"\",\"zerolinecolor\":\"white\"},\"zaxis\":{\"backgroundcolor\":\"#E5ECF6\",\"gridcolor\":\"white\",\"gridwidth\":2,\"linecolor\":\"white\",\"showbackground\":true,\"ticks\":\"\",\"zerolinecolor\":\"white\"}},\"shapedefaults\":{\"line\":{\"color\":\"#2a3f5f\"}},\"ternary\":{\"aaxis\":{\"gridcolor\":\"white\",\"linecolor\":\"white\",\"ticks\":\"\"},\"baxis\":{\"gridcolor\":\"white\",\"linecolor\":\"white\",\"ticks\":\"\"},\"bgcolor\":\"#E5ECF6\",\"caxis\":{\"gridcolor\":\"white\",\"linecolor\":\"white\",\"ticks\":\"\"}},\"title\":{\"x\":0.05},\"xaxis\":{\"automargin\":true,\"gridcolor\":\"white\",\"linecolor\":\"white\",\"ticks\":\"\",\"title\":{\"standoff\":15},\"zerolinecolor\":\"white\",\"zerolinewidth\":2},\"yaxis\":{\"automargin\":true,\"gridcolor\":\"white\",\"linecolor\":\"white\",\"ticks\":\"\",\"title\":{\"standoff\":15},\"zerolinecolor\":\"white\",\"zerolinewidth\":2}}},\"title\":{\"font\":{\"color\":\"#4D5663\"},\"text\":\"TimeGPT vs Real Data\"},\"xaxis\":{\"gridcolor\":\"#E1E5ED\",\"showgrid\":true,\"tickfont\":{\"color\":\"#4D5663\"},\"title\":{\"font\":{\"color\":\"#4D5663\"},\"text\":\"Date\"},\"zerolinecolor\":\"#E1E5ED\"},\"yaxis\":{\"gridcolor\":\"#E1E5ED\",\"showgrid\":true,\"tickfont\":{\"color\":\"#4D5663\"},\"title\":{\"font\":{\"color\":\"#4D5663\"},\"text\":\"Count\"},\"zerolinecolor\":\"#E1E5ED\"}},                        {\"showLink\": true, \"linkText\": \"Export to plot.ly\", \"plotlyServerURL\": \"https://plot.ly\", \"responsive\": true}                    ).then(function(){\n",
       "                            \n",
       "var gd = document.getElementById('af819e9b-8917-4ff2-b0a1-dae7624b267d');\n",
       "var x = new MutationObserver(function (mutations, observer) {{\n",
       "        var display = window.getComputedStyle(gd).display;\n",
       "        if (!display || display === 'none') {{\n",
       "            console.log([gd, 'removed!']);\n",
       "            Plotly.purge(gd);\n",
       "            observer.disconnect();\n",
       "        }}\n",
       "}});\n",
       "\n",
       "// Listen for the removal of the full notebook cells\n",
       "var notebookContainer = gd.closest('#notebook-container');\n",
       "if (notebookContainer) {{\n",
       "    x.observe(notebookContainer, {childList: true});\n",
       "}}\n",
       "\n",
       "// Listen for the clearing of the current output cell\n",
       "var outputEl = gd.closest('.output');\n",
       "if (outputEl) {{\n",
       "    x.observe(outputEl, {childList: true});\n",
       "}}\n",
       "\n",
       "                        })                };                });            </script>        </div>"
      ]
     },
     "metadata": {},
     "output_type": "display_data"
    }
   ],
   "source": [
    "plotting_df.iplot(xTitle = \"Date\", yTitle = \"Count\", title = \"TimeGPT vs Real Data\")"
   ]
  },
  {
   "cell_type": "code",
   "execution_count": 18,
   "id": "cc38a048",
   "metadata": {},
   "outputs": [
    {
     "data": {
      "text/html": [
       "<div>\n",
       "<style scoped>\n",
       "    .dataframe tbody tr th:only-of-type {\n",
       "        vertical-align: middle;\n",
       "    }\n",
       "\n",
       "    .dataframe tbody tr th {\n",
       "        vertical-align: top;\n",
       "    }\n",
       "\n",
       "    .dataframe thead th {\n",
       "        text-align: right;\n",
       "    }\n",
       "</style>\n",
       "<table border=\"1\" class=\"dataframe\">\n",
       "  <thead>\n",
       "    <tr style=\"text-align: right;\">\n",
       "      <th></th>\n",
       "      <th>date</th>\n",
       "      <th>TimeGPT</th>\n",
       "    </tr>\n",
       "  </thead>\n",
       "  <tbody>\n",
       "    <tr>\n",
       "      <th>0</th>\n",
       "      <td>2025-01-04</td>\n",
       "      <td>25526.8340</td>\n",
       "    </tr>\n",
       "    <tr>\n",
       "      <th>1</th>\n",
       "      <td>2025-01-11</td>\n",
       "      <td>19926.2580</td>\n",
       "    </tr>\n",
       "    <tr>\n",
       "      <th>2</th>\n",
       "      <td>2025-01-18</td>\n",
       "      <td>16872.2850</td>\n",
       "    </tr>\n",
       "    <tr>\n",
       "      <th>3</th>\n",
       "      <td>2025-01-25</td>\n",
       "      <td>14927.5700</td>\n",
       "    </tr>\n",
       "    <tr>\n",
       "      <th>4</th>\n",
       "      <td>2025-02-01</td>\n",
       "      <td>13745.6890</td>\n",
       "    </tr>\n",
       "    <tr>\n",
       "      <th>5</th>\n",
       "      <td>2025-02-08</td>\n",
       "      <td>12477.0420</td>\n",
       "    </tr>\n",
       "    <tr>\n",
       "      <th>6</th>\n",
       "      <td>2025-02-15</td>\n",
       "      <td>11619.2960</td>\n",
       "    </tr>\n",
       "    <tr>\n",
       "      <th>7</th>\n",
       "      <td>2025-02-22</td>\n",
       "      <td>10918.6290</td>\n",
       "    </tr>\n",
       "    <tr>\n",
       "      <th>8</th>\n",
       "      <td>2025-03-01</td>\n",
       "      <td>10426.8950</td>\n",
       "    </tr>\n",
       "    <tr>\n",
       "      <th>9</th>\n",
       "      <td>2025-03-08</td>\n",
       "      <td>9191.7705</td>\n",
       "    </tr>\n",
       "    <tr>\n",
       "      <th>10</th>\n",
       "      <td>2025-03-15</td>\n",
       "      <td>7395.5493</td>\n",
       "    </tr>\n",
       "    <tr>\n",
       "      <th>11</th>\n",
       "      <td>2025-03-22</td>\n",
       "      <td>6127.5630</td>\n",
       "    </tr>\n",
       "  </tbody>\n",
       "</table>\n",
       "</div>"
      ],
      "text/plain": [
       "         date     TimeGPT\n",
       "0  2025-01-04  25526.8340\n",
       "1  2025-01-11  19926.2580\n",
       "2  2025-01-18  16872.2850\n",
       "3  2025-01-25  14927.5700\n",
       "4  2025-02-01  13745.6890\n",
       "5  2025-02-08  12477.0420\n",
       "6  2025-02-15  11619.2960\n",
       "7  2025-02-22  10918.6290\n",
       "8  2025-03-01  10426.8950\n",
       "9  2025-03-08   9191.7705\n",
       "10 2025-03-15   7395.5493\n",
       "11 2025-03-22   6127.5630"
      ]
     },
     "execution_count": 18,
     "metadata": {},
     "output_type": "execute_result"
    }
   ],
   "source": [
    "timegpt_fcst_df"
   ]
  },
  {
   "cell_type": "code",
   "execution_count": null,
   "id": "8e89332b",
   "metadata": {},
   "outputs": [],
   "source": []
  }
 ],
 "metadata": {
  "kernelspec": {
   "display_name": "Python 3 (ipykernel)",
   "language": "python",
   "name": "python3"
  },
  "language_info": {
   "codemirror_mode": {
    "name": "ipython",
    "version": 3
   },
   "file_extension": ".py",
   "mimetype": "text/x-python",
   "name": "python",
   "nbconvert_exporter": "python",
   "pygments_lexer": "ipython3",
   "version": "3.11.4"
  }
 },
 "nbformat": 4,
 "nbformat_minor": 5
}
