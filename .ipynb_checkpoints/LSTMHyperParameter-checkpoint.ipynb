{
 "cells": [
  {
   "cell_type": "code",
   "execution_count": null,
   "id": "6abbccdb-ee00-4e21-99bf-64ceb3fa9376",
   "metadata": {
    "tags": []
   },
   "outputs": [],
   "source": [
    "import pandas as pd \n",
    "import numpy as np\n",
    "import matplotlib.pyplot as plt\n",
    "\n",
    "import cufflinks as cf\n",
    "from plotly import __version__\n",
    "from plotly.offline import download_plotlyjs, init_notebook_mode, plot, iplot\n",
    "\n",
    "cf.go_offline()\n",
    "\n",
    "%matplotlib inline\n",
    "\n",
    "from sklearn.metrics import mean_absolute_error, mean_absolute_percentage_error, mean_squared_error\n",
    "\n",
    "from neuralforecast.auto import AutoLSTM\n",
    "from neuralforecast.tsdataset import TimeSeriesDataset"
   ]
  },
  {
   "cell_type": "code",
   "execution_count": null,
   "id": "d3f8a4cc-82a7-4373-97b4-8c9f9527a7b6",
   "metadata": {
    "tags": []
   },
   "outputs": [],
   "source": [
    "from ray import tune"
   ]
  },
  {
   "cell_type": "code",
   "execution_count": null,
   "id": "abe9617e-6000-40a3-b3a8-3c455fe280fa",
   "metadata": {
    "tags": []
   },
   "outputs": [],
   "source": [
    "updated_df = pd.read_csv(\"https://raw.githubusercontent.com/cdcepi/FluSight-forecast-hub/refs/heads/main/target-data/target-hospital-admissions.csv\")"
   ]
  },
  {
   "cell_type": "code",
   "execution_count": null,
   "id": "3abd97cc-7f42-49ae-931d-18f6b9532ec0",
   "metadata": {
    "tags": []
   },
   "outputs": [],
   "source": [
    "updated_df = updated_df[updated_df[\"location_name\"] == \"US\"]\n",
    "updated_df = updated_df[[\"date\", \"value\"]]\n",
    "updated_df[\"date\"] = pd.to_datetime(updated_df[\"date\"])\n",
    "updated_df.set_index(\"date\", inplace = True)\n",
    "updated_df.sort_values(by = \"date\", inplace = True)\n",
    "updated_df"
   ]
  },
  {
   "cell_type": "code",
   "execution_count": null,
   "id": "d2d54b22-a92d-4b2e-bc6f-fdc5c8e1fe5e",
   "metadata": {
    "tags": []
   },
   "outputs": [],
   "source": [
    "#Let's create an AutoLSTM model that is trained up to October 5, fix these parameters and create expanding window models\n",
    "oct1stweekdf = updated_df.loc[:\"2024-10-05\"]\n",
    "oct1stweekdf['ds'] = oct1stweekdf.index\n",
    "oct1stweekdf[\"unique_id\"] = \"series_1\"\n",
    "oct1stweekdf = oct1stweekdf.rename(columns = {\"value\": \"y\"})\n",
    "oct1stweekdf"
   ]
  },
  {
   "cell_type": "code",
   "execution_count": null,
   "id": "2a7d5249-a3cc-4383-9249-8b9e962d3f63",
   "metadata": {
    "tags": []
   },
   "outputs": [],
   "source": [
    "dataset, *_ = TimeSeriesDataset.from_df(oct1stweekdf)"
   ]
  },
  {
   "cell_type": "code",
   "execution_count": null,
   "id": "6a738398-5d93-4563-9319-030466dcd145",
   "metadata": {
    "tags": []
   },
   "outputs": [],
   "source": [
    "#Batch Size Exploration\n",
    "config = dict(batch_size = tune.choice([8, 16, 32, 64]), encoder_hidden_size = 200, encoder_n_layers = 2, context_size = 10, decoder_hidden_size = 200, learning_rate = 0.001, max_steps = 1000, input_size = -1, inference_input_size = -1)\n",
    "LSTMmodel = AutoLSTM(h = 4, backend = \"ray\", config = config)\n",
    "LSTMmodel.fit(dataset = dataset)"
   ]
  },
  {
   "cell_type": "code",
   "execution_count": null,
   "id": "72525a99-c896-4faa-be81-62b74f65da48",
   "metadata": {
    "tags": []
   },
   "outputs": [],
   "source": []
  },
  {
   "cell_type": "code",
   "execution_count": null,
   "id": "a8388232-05f0-4a2a-9c70-19eab8ae5136",
   "metadata": {
    "tags": []
   },
   "outputs": [],
   "source": []
  },
  {
   "cell_type": "code",
   "execution_count": null,
   "id": "84a5e5f4-de59-40ed-96aa-3293f072d98a",
   "metadata": {},
   "outputs": [],
   "source": []
  }
 ],
 "metadata": {
  "kernelspec": {
   "display_name": "Python 3 (ipykernel)",
   "language": "python",
   "name": "python3"
  },
  "language_info": {
   "codemirror_mode": {
    "name": "ipython",
    "version": 3
   },
   "file_extension": ".py",
   "mimetype": "text/x-python",
   "name": "python",
   "nbconvert_exporter": "python",
   "pygments_lexer": "ipython3",
   "version": "3.11.6"
  }
 },
 "nbformat": 4,
 "nbformat_minor": 5
}
