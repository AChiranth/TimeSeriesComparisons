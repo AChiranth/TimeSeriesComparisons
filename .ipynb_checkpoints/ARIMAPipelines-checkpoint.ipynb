{
 "cells": [
  {
   "cell_type": "code",
   "execution_count": 1,
   "id": "87429ba2-44ba-4a1d-bd47-cd82f02082d3",
   "metadata": {
    "tags": []
   },
   "outputs": [
    {
     "data": {
      "text/html": [
       "        <script type=\"text/javascript\">\n",
       "        window.PlotlyConfig = {MathJaxConfig: 'local'};\n",
       "        if (window.MathJax && window.MathJax.Hub && window.MathJax.Hub.Config) {window.MathJax.Hub.Config({SVG: {font: \"STIX-Web\"}});}\n",
       "        if (typeof require !== 'undefined') {\n",
       "        require.undef(\"plotly\");\n",
       "        requirejs.config({\n",
       "            paths: {\n",
       "                'plotly': ['https://cdn.plot.ly/plotly-2.25.2.min']\n",
       "            }\n",
       "        });\n",
       "        require(['plotly'], function(Plotly) {\n",
       "            window._Plotly = Plotly;\n",
       "        });\n",
       "        }\n",
       "        </script>\n",
       "        "
      ]
     },
     "metadata": {},
     "output_type": "display_data"
    }
   ],
   "source": [
    "import pandas as pd \n",
    "import numpy as np\n",
    "import matplotlib.pyplot as plt\n",
    "\n",
    "import cufflinks as cf\n",
    "from plotly import __version__\n",
    "from plotly.offline import download_plotlyjs, init_notebook_mode, plot, iplot\n",
    "import plotly.offline as pyo\n",
    "\n",
    "cf.go_offline()\n",
    "\n",
    "%matplotlib inline\n",
    "from sklearn.metrics import mean_absolute_error, mean_absolute_percentage_error, mean_squared_error\n",
    "\n",
    "from neuralforecast.auto import AutoLSTM\n",
    "from neuralforecast.tsdataset import TimeSeriesDataset\n",
    "\n",
    "from datetime import datetime, timedelta"
   ]
  },
  {
   "cell_type": "code",
   "execution_count": 2,
   "id": "5269b65a-f9c5-4493-a9d8-746e6442b6dc",
   "metadata": {
    "tags": []
   },
   "outputs": [],
   "source": [
    "from statsforecast import StatsForecast\n",
    "from statsforecast.models import AutoARIMA, AutoCES, AutoETS\n",
    "from statsforecast.arima import arima_string\n",
    "import plotly.graph_objects as go\n",
    "import matplotlib.colors as mcolors"
   ]
  },
  {
   "cell_type": "code",
   "execution_count": null,
   "id": "851c54ff-497f-4e06-a67d-246843251869",
   "metadata": {
    "tags": []
   },
   "outputs": [],
   "source": []
  },
  {
   "cell_type": "code",
   "execution_count": 90,
   "id": "bec6ee04-f6df-4b88-8fb7-2a70b37bb4d5",
   "metadata": {},
   "outputs": [],
   "source": [
    "class FixedARIMAProcessor:\n",
    "    def __init__(self, overall_df, dates):\n",
    "        self.overall_df = overall_df\n",
    "        self.overall_df_value_col = \"value\"\n",
    "        self.dates = dates\n",
    "        \n",
    "        self.dfs = []\n",
    "        self.sf = None\n",
    "        self.forecast = None\n",
    "        self.plotting_df = pd.DataFrame()\n",
    "        \n",
    "        self.mae = None\n",
    "        self.mse = None\n",
    "        self.mape = None\n",
    "        self.nmse = None\n",
    "        \n",
    "        self.metrics_df = pd.DataFrame(columns = [\"Reference Date\", \"MAE\", \"MSE\", \"MAPE\", \"NMSE\"])\n",
    "        self.display_df = pd.DataFrame(columns = [\"Reference Date\", \"Target End Date\", \"Quantile\", \"Prediction\"])\n",
    "        \n",
    "        self.color_mapping = {}\n",
    "    \n",
    "    def create_training_dfs(self, value_col):\n",
    "        self.overall_df_value_col = value_col\n",
    "        for date in self.dates:\n",
    "            df = self.overall_df.loc[:date]\n",
    "            df['ds'] = df.index\n",
    "            df[\"unique_id\"] = \"series_1\"\n",
    "            df = df.rename(columns = {value_col: \"y\"})\n",
    "            self.dfs.append(df)\n",
    "    \n",
    "    def create_fixed_model(self, h, freq, season_length, model_name, level = []):\n",
    "        self.sf = StatsForecast(models=[AutoARIMA(season_length=season_length)], freq = freq)\n",
    "\n",
    "        self.sf.fit(self.dfs[0])\n",
    "        \n",
    "        start_date = datetime.strptime(self.dates[0], \"%Y-%m-%d\")\n",
    "        ending_date = datetime.strptime(self.dates[-1], \"%Y-%m-%d\") + timedelta(weeks = h)\n",
    "\n",
    "        prediction_horizon = abs((ending_date - start_date).days) // 7\n",
    "        \n",
    "        if not level:\n",
    "            self.forecast = self.sf.predict(h = prediction_horizon)\n",
    "        else:\n",
    "            self.forecast = self.sf.predict(h = prediction_horizon, level = level)\n",
    "        self.forecast.set_index(\"ds\", inplace = True)\n",
    "        self.forecast.drop(columns = \"unique_id\", inplace = True)\n",
    "        self.sf.save(path = f\"AutoARIMA/fixed_models/{model_name}\")\n",
    "        \n",
    "    \n",
    "    def generate_color_map(self, columns, cmap_name = \"viridis\"):\n",
    "        intervals = set()\n",
    "        for col in columns:\n",
    "            if col == \"AutoARIMA\":\n",
    "                continue\n",
    "            parts = col.split('-')\n",
    "            number = parts[-1]\n",
    "            intervals.add(number)\n",
    "        \n",
    "        intervals = sorted(intervals, key=int)\n",
    "        cmap = plt.cm.get_cmap(cmap_name)\n",
    "        \n",
    "        n = len(intervals)\n",
    "        if n > 0:\n",
    "            half = np.linspace(0.2, 0.45, n // 2, endpoint=True)[::-1]  # lower intervals\n",
    "            upper = np.linspace(0.55, 0.8, n - n // 2, endpoint=True)  # higher intervals\n",
    "            sample_points = np.concatenate([half, upper])\n",
    "        else:\n",
    "            sample_points = np.array([])  # just median\n",
    "        \n",
    "        median_value = np.median(sample_points)\n",
    "        \n",
    "        color_mapping = {}\n",
    "        color_mapping['AutoARIMA'] = mcolors.to_hex(cmap(median_value))  # center of the colormap\n",
    "        for interval, point in zip(intervals, sample_points):\n",
    "            color_mapping[interval] = mcolors.to_hex(cmap(point))\n",
    "    \n",
    "        return color_mapping\n",
    "    \n",
    "    \n",
    "    def create_graph(self):\n",
    "        if len(self.forecast.columns) != 1:\n",
    "            self.color_mapping = self.generate_color_map(columns = self.forecast.columns)\n",
    "    \n",
    "    \n",
    "        fig = go.Figure()\n",
    "        fig.add_trace(go.Scatter(x = self.overall_df.index, y = self.overall_df[self.overall_df_value_col], mode = \"lines\", name = \"Real Data\"))\n",
    "        \n",
    "        for col in self.forecast.columns:\n",
    "            if \"hi\" in col:\n",
    "                number = col[-2:]\n",
    "                fig.add_trace(go.Scatter(x = self.forecast.index, y = self.forecast[col], mode = \"lines\", name = col,\n",
    "                                         line = dict(color = self.color_mapping[number])))\n",
    "                                         \n",
    "        for col in self.forecast.columns:\n",
    "            if \"lo\" in col:\n",
    "                number = col[-2:]\n",
    "                fig.add_trace(go.Scatter(x = self.forecast.index, y = self.forecast[col], mode = \"lines\", name = col,\n",
    "                                         fill = \"tonexty\", fillcolor = self.color_mapping[number], line = dict(color = self.color_mapping[number])))\n",
    "            \n",
    "        for col in self.forecast.columns:\n",
    "            if col == \"AutoARIMA\":\n",
    "                fig.add_trace(go.Scatter(x = self.forecast.index, y = self.forecast[col], mode = \"lines\", name = col, \n",
    "                                             line = dict(color = self.color_mapping[\"AutoARIMA\"])))\n",
    "        \n",
    "        fig.update_layout(title = f\"Fixed Parameter ARIMA Predictions, {self.dates[0]}\", xaxis_title = \"Date\", yaxis_title = \"Count\", hovermode = \"x\")\n",
    "        fig.show()\n",
    "        \n",
    "        \n",
    "    def create_metrics(self):\n",
    "        col_string = \"AutoARIMA\"\n",
    "    \n",
    "        self.mae = mean_absolute_error(self.overall_df[self.overall_df_value_col].loc[self.forecast.index], self.forecast[col_string])\n",
    "        self.mse = mean_squared_error(self.overall_df[self.overall_df_value_col].loc[self.forecast.index], self.forecast[col_string])\n",
    "        self.mape = mean_absolute_percentage_error(self.overall_df[self.overall_df_value_col].loc[self.forecast.index], self.forecast[col_string])\n",
    "        self.nmse = self.mse/np.var(self.overall_df[self.overall_df_value_col].loc[self.forecast.index])\n",
    "\n",
    "    def create_metrics_df(self):\n",
    "        self.metrics_df.loc[len(self.metrics_df)] = [self.dates[0], self.mae, self.mse, self.mape, self.nmse]\n",
    "    \n",
    "    def create_display_df(self):\n",
    "        for index, row in self.forecast.iterrows():\n",
    "            reference_date = self.dates[0]\n",
    "            target_end_date = index\n",
    "            \n",
    "            for col in self.forecast.columns:\n",
    "                value = self.forecast.loc[target_end_date, col]\n",
    "                if \"lo\" in col:\n",
    "                    number = int (col[-2:])\n",
    "                    alpha = 1 - (number / 100)\n",
    "                    quantile = alpha / 2\n",
    "                    self.display_df.loc[len(self.display_df)] = [reference_date, target_end_date, quantile, value]\n",
    "                \n",
    "                if col == \"AutoARIMA\":\n",
    "                    quantile = 0.5\n",
    "                    self.display_df.loc[len(self.display_df)] = [reference_date, target_end_date, quantile, value]\n",
    "                \n",
    "                elif \"hi\" in col:\n",
    "                    number = int (col[-2:])\n",
    "                    alpha = 1 - (number / 100)\n",
    "                    quantile = 1 - (alpha / 2)\n",
    "                    self.display_df.loc[len(self.display_df)] = [reference_date, target_end_date, quantile, value]\n",
    "        \n",
    "        self.display_df.sort_values(by = [\"Reference Date\", \"Target End Date\", \"Quantile\"], inplace = True)"
   ]
  },
  {
   "cell_type": "code",
   "execution_count": 91,
   "id": "f92b3cbd-d245-43a0-9960-06be2b442442",
   "metadata": {
    "tags": []
   },
   "outputs": [],
   "source": [
    "updated_df = pd.read_csv(\"https://raw.githubusercontent.com/cdcepi/FluSight-forecast-hub/refs/heads/main/target-data/target-hospital-admissions.csv\")"
   ]
  },
  {
   "cell_type": "code",
   "execution_count": 92,
   "id": "d11e863c-aba6-4746-91fc-08c8d35b8ecf",
   "metadata": {
    "tags": []
   },
   "outputs": [],
   "source": [
    "updated_df = updated_df[updated_df[\"location_name\"] == \"US\"]\n",
    "updated_df = updated_df[[\"date\", \"value\"]]\n",
    "updated_df[\"date\"] = pd.to_datetime(updated_df[\"date\"])\n",
    "updated_df.set_index(\"date\", inplace = True)\n",
    "updated_df.sort_values(by = \"date\", inplace = True)"
   ]
  },
  {
   "cell_type": "code",
   "execution_count": null,
   "id": "d0711284-325b-41be-9b51-4f883120a5e1",
   "metadata": {
    "tags": []
   },
   "outputs": [],
   "source": []
  },
  {
   "cell_type": "code",
   "execution_count": 93,
   "id": "1de2ff48-77be-4a2b-9213-dcf7bfe1c892",
   "metadata": {
    "tags": []
   },
   "outputs": [],
   "source": [
    "Processor = FixedARIMAProcessor(overall_df = updated_df, dates = [\"2024-10-05\", \"2024-10-19\", \"2024-11-02\", \"2024-11-16\", \"2024-12-07\"])"
   ]
  },
  {
   "cell_type": "code",
   "execution_count": null,
   "id": "a195e8ce-711a-495b-a203-f604b0184984",
   "metadata": {
    "tags": []
   },
   "outputs": [],
   "source": []
  },
  {
   "cell_type": "code",
   "execution_count": 94,
   "id": "922f92ad-41b1-466b-883b-2dd30cea6ea2",
   "metadata": {
    "tags": []
   },
   "outputs": [
    {
     "data": {
      "text/plain": [
       "{}"
      ]
     },
     "execution_count": 94,
     "metadata": {},
     "output_type": "execute_result"
    }
   ],
   "source": [
    "Processor.color_mapping"
   ]
  },
  {
   "cell_type": "code",
   "execution_count": 95,
   "id": "9ce06829-dc62-4cf6-8890-5b285e5a292a",
   "metadata": {
    "tags": []
   },
   "outputs": [],
   "source": [
    "Processor.create_training_dfs(value_col = \"value\")"
   ]
  },
  {
   "cell_type": "code",
   "execution_count": 96,
   "id": "db2eddc7-638c-47fd-ba15-22b4d8ca149c",
   "metadata": {
    "tags": []
   },
   "outputs": [
    {
     "name": "stdout",
     "output_type": "stream",
     "text": [
      "Saving StatsForecast object of size 103.33KB.\n",
      "StatsForecast object saved\n"
     ]
    }
   ],
   "source": [
    "Processor.create_fixed_model(h = 4, freq = \"W-SAT\", season_length = 52, model_name = \"testing\", level = [80, 95])"
   ]
  },
  {
   "cell_type": "code",
   "execution_count": 97,
   "id": "7af09918-81c8-45ba-b39d-eb8bf67fad44",
   "metadata": {
    "tags": []
   },
   "outputs": [
    {
     "data": {
      "text/html": [
       "<div>\n",
       "<style scoped>\n",
       "    .dataframe tbody tr th:only-of-type {\n",
       "        vertical-align: middle;\n",
       "    }\n",
       "\n",
       "    .dataframe tbody tr th {\n",
       "        vertical-align: top;\n",
       "    }\n",
       "\n",
       "    .dataframe thead th {\n",
       "        text-align: right;\n",
       "    }\n",
       "</style>\n",
       "<table border=\"1\" class=\"dataframe\">\n",
       "  <thead>\n",
       "    <tr style=\"text-align: right;\">\n",
       "      <th></th>\n",
       "      <th>AutoARIMA</th>\n",
       "      <th>AutoARIMA-lo-95</th>\n",
       "      <th>AutoARIMA-lo-80</th>\n",
       "      <th>AutoARIMA-hi-80</th>\n",
       "      <th>AutoARIMA-hi-95</th>\n",
       "    </tr>\n",
       "    <tr>\n",
       "      <th>ds</th>\n",
       "      <th></th>\n",
       "      <th></th>\n",
       "      <th></th>\n",
       "      <th></th>\n",
       "      <th></th>\n",
       "    </tr>\n",
       "  </thead>\n",
       "  <tbody>\n",
       "    <tr>\n",
       "      <th>2024-10-12</th>\n",
       "      <td>383.998980</td>\n",
       "      <td>-1982.982987</td>\n",
       "      <td>-1163.687339</td>\n",
       "      <td>1931.685299</td>\n",
       "      <td>2750.980947</td>\n",
       "    </tr>\n",
       "    <tr>\n",
       "      <th>2024-10-19</th>\n",
       "      <td>796.517150</td>\n",
       "      <td>-3982.220056</td>\n",
       "      <td>-2328.131158</td>\n",
       "      <td>3921.165457</td>\n",
       "      <td>5575.254355</td>\n",
       "    </tr>\n",
       "    <tr>\n",
       "      <th>2024-10-26</th>\n",
       "      <td>1073.144269</td>\n",
       "      <td>-5523.660859</td>\n",
       "      <td>-3240.274756</td>\n",
       "      <td>5386.563294</td>\n",
       "      <td>7669.949397</td>\n",
       "    </tr>\n",
       "    <tr>\n",
       "      <th>2024-11-02</th>\n",
       "      <td>1664.699805</td>\n",
       "      <td>-6352.350005</td>\n",
       "      <td>-3577.367302</td>\n",
       "      <td>6906.766912</td>\n",
       "      <td>9681.749614</td>\n",
       "    </tr>\n",
       "    <tr>\n",
       "      <th>2024-11-09</th>\n",
       "      <td>2565.893663</td>\n",
       "      <td>-6323.677849</td>\n",
       "      <td>-3246.684720</td>\n",
       "      <td>8378.472046</td>\n",
       "      <td>11455.465175</td>\n",
       "    </tr>\n",
       "    <tr>\n",
       "      <th>2024-11-16</th>\n",
       "      <td>3424.095156</td>\n",
       "      <td>-5979.267323</td>\n",
       "      <td>-2724.433083</td>\n",
       "      <td>9572.623395</td>\n",
       "      <td>12827.457635</td>\n",
       "    </tr>\n",
       "    <tr>\n",
       "      <th>2024-11-23</th>\n",
       "      <td>4405.934220</td>\n",
       "      <td>-5223.014355</td>\n",
       "      <td>-1890.096838</td>\n",
       "      <td>10701.965279</td>\n",
       "      <td>14034.882795</td>\n",
       "    </tr>\n",
       "    <tr>\n",
       "      <th>2024-11-30</th>\n",
       "      <td>6045.026627</td>\n",
       "      <td>-3664.348865</td>\n",
       "      <td>-303.592766</td>\n",
       "      <td>12393.646021</td>\n",
       "      <td>15754.402120</td>\n",
       "    </tr>\n",
       "    <tr>\n",
       "      <th>2024-12-07</th>\n",
       "      <td>7614.172076</td>\n",
       "      <td>-2106.875372</td>\n",
       "      <td>1257.920801</td>\n",
       "      <td>13970.423351</td>\n",
       "      <td>17335.219523</td>\n",
       "    </tr>\n",
       "    <tr>\n",
       "      <th>2024-12-14</th>\n",
       "      <td>10402.961418</td>\n",
       "      <td>681.779404</td>\n",
       "      <td>4046.622155</td>\n",
       "      <td>16759.300681</td>\n",
       "      <td>20124.143432</td>\n",
       "    </tr>\n",
       "    <tr>\n",
       "      <th>2024-12-21</th>\n",
       "      <td>15839.832240</td>\n",
       "      <td>6108.567047</td>\n",
       "      <td>9476.899941</td>\n",
       "      <td>22202.764539</td>\n",
       "      <td>25571.097433</td>\n",
       "    </tr>\n",
       "    <tr>\n",
       "      <th>2024-12-28</th>\n",
       "      <td>21782.601185</td>\n",
       "      <td>12031.056311</td>\n",
       "      <td>15406.408715</td>\n",
       "      <td>28158.793656</td>\n",
       "      <td>31534.146060</td>\n",
       "    </tr>\n",
       "    <tr>\n",
       "      <th>2025-01-04</th>\n",
       "      <td>19621.907465</td>\n",
       "      <td>9844.874807</td>\n",
       "      <td>13229.049429</td>\n",
       "      <td>26014.765501</td>\n",
       "      <td>29398.940123</td>\n",
       "    </tr>\n",
       "  </tbody>\n",
       "</table>\n",
       "</div>"
      ],
      "text/plain": [
       "               AutoARIMA  AutoARIMA-lo-95  AutoARIMA-lo-80  AutoARIMA-hi-80  \\\n",
       "ds                                                                            \n",
       "2024-10-12    383.998980     -1982.982987     -1163.687339      1931.685299   \n",
       "2024-10-19    796.517150     -3982.220056     -2328.131158      3921.165457   \n",
       "2024-10-26   1073.144269     -5523.660859     -3240.274756      5386.563294   \n",
       "2024-11-02   1664.699805     -6352.350005     -3577.367302      6906.766912   \n",
       "2024-11-09   2565.893663     -6323.677849     -3246.684720      8378.472046   \n",
       "2024-11-16   3424.095156     -5979.267323     -2724.433083      9572.623395   \n",
       "2024-11-23   4405.934220     -5223.014355     -1890.096838     10701.965279   \n",
       "2024-11-30   6045.026627     -3664.348865      -303.592766     12393.646021   \n",
       "2024-12-07   7614.172076     -2106.875372      1257.920801     13970.423351   \n",
       "2024-12-14  10402.961418       681.779404      4046.622155     16759.300681   \n",
       "2024-12-21  15839.832240      6108.567047      9476.899941     22202.764539   \n",
       "2024-12-28  21782.601185     12031.056311     15406.408715     28158.793656   \n",
       "2025-01-04  19621.907465      9844.874807     13229.049429     26014.765501   \n",
       "\n",
       "            AutoARIMA-hi-95  \n",
       "ds                           \n",
       "2024-10-12      2750.980947  \n",
       "2024-10-19      5575.254355  \n",
       "2024-10-26      7669.949397  \n",
       "2024-11-02      9681.749614  \n",
       "2024-11-09     11455.465175  \n",
       "2024-11-16     12827.457635  \n",
       "2024-11-23     14034.882795  \n",
       "2024-11-30     15754.402120  \n",
       "2024-12-07     17335.219523  \n",
       "2024-12-14     20124.143432  \n",
       "2024-12-21     25571.097433  \n",
       "2024-12-28     31534.146060  \n",
       "2025-01-04     29398.940123  "
      ]
     },
     "execution_count": 97,
     "metadata": {},
     "output_type": "execute_result"
    }
   ],
   "source": [
    "Processor.forecast"
   ]
  },
  {
   "cell_type": "code",
   "execution_count": null,
   "id": "caa0b672-fea5-4f3a-9c0c-f31b9baad4c1",
   "metadata": {},
   "outputs": [],
   "source": []
  },
  {
   "cell_type": "code",
   "execution_count": 98,
   "id": "4445ca30-1ff4-466e-b2b0-253440c01732",
   "metadata": {
    "tags": []
   },
   "outputs": [
    {
     "data": {
      "text/plain": [
       "Index(['AutoARIMA', 'AutoARIMA-lo-95', 'AutoARIMA-lo-80', 'AutoARIMA-hi-80',\n",
       "       'AutoARIMA-hi-95'],\n",
       "      dtype='object')"
      ]
     },
     "execution_count": 98,
     "metadata": {},
     "output_type": "execute_result"
    }
   ],
   "source": [
    "Processor.forecast.columns"
   ]
  },
  {
   "cell_type": "code",
   "execution_count": 99,
   "id": "2b6f60b5-cf40-4a6e-8672-fdced6869fab",
   "metadata": {
    "tags": []
   },
   "outputs": [
    {
     "name": "stderr",
     "output_type": "stream",
     "text": [
      "/tmp/ipykernel_126897/3880107119.py:60: MatplotlibDeprecationWarning:\n",
      "\n",
      "The get_cmap function was deprecated in Matplotlib 3.7 and will be removed two minor releases later. Use ``matplotlib.colormaps[name]`` or ``matplotlib.colormaps.get_cmap(obj)`` instead.\n",
      "\n"
     ]
    },
    {
     "data": {
      "application/vnd.plotly.v1+json": {
       "config": {
        "plotlyServerURL": "https://plot.ly"
       },
       "data": [
        {
         "mode": "lines",
         "name": "Real Data",
         "type": "scatter",
         "x": [
          "2022-02-05T00:00:00",
          "2022-02-12T00:00:00",
          "2022-02-19T00:00:00",
          "2022-02-26T00:00:00",
          "2022-03-05T00:00:00",
          "2022-03-12T00:00:00",
          "2022-03-19T00:00:00",
          "2022-03-26T00:00:00",
          "2022-04-02T00:00:00",
          "2022-04-09T00:00:00",
          "2022-04-16T00:00:00",
          "2022-04-23T00:00:00",
          "2022-04-30T00:00:00",
          "2022-05-07T00:00:00",
          "2022-05-14T00:00:00",
          "2022-05-21T00:00:00",
          "2022-05-28T00:00:00",
          "2022-06-04T00:00:00",
          "2022-06-11T00:00:00",
          "2022-06-18T00:00:00",
          "2022-06-25T00:00:00",
          "2022-07-02T00:00:00",
          "2022-07-09T00:00:00",
          "2022-07-16T00:00:00",
          "2022-07-23T00:00:00",
          "2022-07-30T00:00:00",
          "2022-08-06T00:00:00",
          "2022-08-13T00:00:00",
          "2022-08-20T00:00:00",
          "2022-08-27T00:00:00",
          "2022-09-03T00:00:00",
          "2022-09-10T00:00:00",
          "2022-09-17T00:00:00",
          "2022-09-24T00:00:00",
          "2022-10-01T00:00:00",
          "2022-10-08T00:00:00",
          "2022-10-15T00:00:00",
          "2022-10-22T00:00:00",
          "2022-10-29T00:00:00",
          "2022-11-05T00:00:00",
          "2022-11-12T00:00:00",
          "2022-11-19T00:00:00",
          "2022-11-26T00:00:00",
          "2022-12-03T00:00:00",
          "2022-12-10T00:00:00",
          "2022-12-17T00:00:00",
          "2022-12-24T00:00:00",
          "2022-12-31T00:00:00",
          "2023-01-07T00:00:00",
          "2023-01-14T00:00:00",
          "2023-01-21T00:00:00",
          "2023-01-28T00:00:00",
          "2023-02-04T00:00:00",
          "2023-02-11T00:00:00",
          "2023-02-18T00:00:00",
          "2023-02-25T00:00:00",
          "2023-03-04T00:00:00",
          "2023-03-11T00:00:00",
          "2023-03-18T00:00:00",
          "2023-03-25T00:00:00",
          "2023-04-01T00:00:00",
          "2023-04-08T00:00:00",
          "2023-04-15T00:00:00",
          "2023-04-22T00:00:00",
          "2023-04-29T00:00:00",
          "2023-05-06T00:00:00",
          "2023-05-13T00:00:00",
          "2023-05-20T00:00:00",
          "2023-05-27T00:00:00",
          "2023-06-03T00:00:00",
          "2023-06-10T00:00:00",
          "2023-06-17T00:00:00",
          "2023-06-24T00:00:00",
          "2023-07-01T00:00:00",
          "2023-07-08T00:00:00",
          "2023-07-15T00:00:00",
          "2023-07-22T00:00:00",
          "2023-07-29T00:00:00",
          "2023-08-05T00:00:00",
          "2023-08-12T00:00:00",
          "2023-08-19T00:00:00",
          "2023-08-26T00:00:00",
          "2023-09-02T00:00:00",
          "2023-09-09T00:00:00",
          "2023-09-16T00:00:00",
          "2023-09-23T00:00:00",
          "2023-09-30T00:00:00",
          "2023-10-07T00:00:00",
          "2023-10-14T00:00:00",
          "2023-10-21T00:00:00",
          "2023-10-28T00:00:00",
          "2023-11-04T00:00:00",
          "2023-11-11T00:00:00",
          "2023-11-18T00:00:00",
          "2023-11-25T00:00:00",
          "2023-12-02T00:00:00",
          "2023-12-09T00:00:00",
          "2023-12-16T00:00:00",
          "2023-12-23T00:00:00",
          "2023-12-30T00:00:00",
          "2024-01-06T00:00:00",
          "2024-01-13T00:00:00",
          "2024-01-20T00:00:00",
          "2024-01-27T00:00:00",
          "2024-02-03T00:00:00",
          "2024-02-10T00:00:00",
          "2024-02-17T00:00:00",
          "2024-02-24T00:00:00",
          "2024-03-02T00:00:00",
          "2024-03-09T00:00:00",
          "2024-03-16T00:00:00",
          "2024-03-23T00:00:00",
          "2024-03-30T00:00:00",
          "2024-04-06T00:00:00",
          "2024-04-13T00:00:00",
          "2024-04-20T00:00:00",
          "2024-04-27T00:00:00",
          "2024-05-04T00:00:00",
          "2024-05-11T00:00:00",
          "2024-05-18T00:00:00",
          "2024-05-25T00:00:00",
          "2024-06-01T00:00:00",
          "2024-06-08T00:00:00",
          "2024-06-15T00:00:00",
          "2024-06-22T00:00:00",
          "2024-06-29T00:00:00",
          "2024-07-06T00:00:00",
          "2024-07-13T00:00:00",
          "2024-07-20T00:00:00",
          "2024-07-27T00:00:00",
          "2024-08-03T00:00:00",
          "2024-08-10T00:00:00",
          "2024-08-17T00:00:00",
          "2024-08-24T00:00:00",
          "2024-08-31T00:00:00",
          "2024-09-07T00:00:00",
          "2024-09-14T00:00:00",
          "2024-09-21T00:00:00",
          "2024-09-28T00:00:00",
          "2024-10-05T00:00:00",
          "2024-10-12T00:00:00",
          "2024-10-19T00:00:00",
          "2024-10-26T00:00:00",
          "2024-11-02T00:00:00",
          "2024-11-09T00:00:00",
          "2024-11-16T00:00:00",
          "2024-11-23T00:00:00",
          "2024-11-30T00:00:00",
          "2024-12-07T00:00:00",
          "2024-12-14T00:00:00",
          "2024-12-21T00:00:00",
          "2024-12-28T00:00:00",
          "2025-01-04T00:00:00",
          "2025-01-11T00:00:00",
          "2025-01-18T00:00:00",
          "2025-01-25T00:00:00",
          "2025-02-01T00:00:00",
          "2025-02-08T00:00:00",
          "2025-02-15T00:00:00",
          "2025-02-22T00:00:00",
          "2025-03-01T00:00:00",
          "2025-03-08T00:00:00",
          "2025-03-15T00:00:00",
          "2025-03-22T00:00:00",
          "2025-03-29T00:00:00",
          "2025-04-05T00:00:00"
         ],
         "y": [
          1091,
          1164,
          1493,
          1603,
          1791,
          2097,
          2625,
          2918,
          3008,
          3149,
          3308,
          3474,
          3182,
          3175,
          3119,
          3133,
          2738,
          2678,
          2210,
          1776,
          1366,
          1073,
          776,
          766,
          628,
          522,
          486,
          490,
          483,
          483,
          545,
          576,
          665,
          796,
          921,
          1316,
          1674,
          2292,
          4184,
          6408,
          8594,
          10971,
          18177,
          26834,
          24036,
          21612,
          19631,
          19479,
          14074,
          7185,
          4489,
          3091,
          2596,
          2177,
          1908,
          1647,
          1503,
          1372,
          1415,
          1331,
          1295,
          1198,
          1077,
          982,
          903,
          994,
          980,
          1116,
          974,
          939,
          935,
          873,
          813,
          836,
          699,
          736,
          645,
          771,
          690,
          706,
          738,
          793,
          875,
          804,
          821,
          881,
          1026,
          1110,
          1215,
          1470,
          1614,
          2014,
          2775,
          3491,
          4386,
          5955,
          7497,
          10273,
          15722,
          21682,
          19548,
          15905,
          13303,
          13025,
          11964,
          11629,
          11126,
          10870,
          10814,
          9416,
          7324,
          6049,
          5574,
          5071,
          4073,
          2943,
          2420,
          1485,
          852,
          682,
          611,
          591,
          511,
          518,
          441,
          356,
          342,
          367,
          325,
          273,
          275,
          275,
          275,
          274,
          262,
          223,
          319,
          293,
          223,
          287,
          295,
          553,
          1084,
          977,
          2081,
          2535,
          3099,
          4297,
          6307,
          9192,
          15467,
          27748,
          38767,
          30796,
          33020,
          40682,
          51337,
          54374,
          46244,
          37881,
          30807,
          23956,
          18384,
          13600,
          9597,
          6273
         ]
        },
        {
         "line": {
          "color": "#414487"
         },
         "mode": "lines",
         "name": "AutoARIMA-hi-80",
         "type": "scatter",
         "x": [
          "2024-10-12T00:00:00",
          "2024-10-19T00:00:00",
          "2024-10-26T00:00:00",
          "2024-11-02T00:00:00",
          "2024-11-09T00:00:00",
          "2024-11-16T00:00:00",
          "2024-11-23T00:00:00",
          "2024-11-30T00:00:00",
          "2024-12-07T00:00:00",
          "2024-12-14T00:00:00",
          "2024-12-21T00:00:00",
          "2024-12-28T00:00:00",
          "2025-01-04T00:00:00"
         ],
         "y": [
          1931.6852994533392,
          3921.1654573881583,
          5386.563294091741,
          6906.7669119278635,
          8378.472046359986,
          9572.62339526218,
          10701.96527862393,
          12393.646020844677,
          13970.423350523004,
          16759.300680797263,
          22202.764539182626,
          28158.793655660338,
          26014.76550128025
         ]
        },
        {
         "line": {
          "color": "#1e9c89"
         },
         "mode": "lines",
         "name": "AutoARIMA-hi-95",
         "type": "scatter",
         "x": [
          "2024-10-12T00:00:00",
          "2024-10-19T00:00:00",
          "2024-10-26T00:00:00",
          "2024-11-02T00:00:00",
          "2024-11-09T00:00:00",
          "2024-11-16T00:00:00",
          "2024-11-23T00:00:00",
          "2024-11-30T00:00:00",
          "2024-12-07T00:00:00",
          "2024-12-14T00:00:00",
          "2024-12-21T00:00:00",
          "2024-12-28T00:00:00",
          "2025-01-04T00:00:00"
         ],
         "y": [
          2750.9809469706843,
          5575.254355377956,
          7669.9493970341755,
          9681.749614367198,
          11455.4651753211,
          12827.457635231953,
          14034.882794654524,
          15754.402119778926,
          17335.219523454318,
          20124.143431659853,
          25571.097432757917,
          31534.146059806062,
          29398.94012302426
         ]
        },
        {
         "fill": "tonexty",
         "fillcolor": "#1e9c89",
         "line": {
          "color": "#1e9c89"
         },
         "mode": "lines",
         "name": "AutoARIMA-lo-95",
         "type": "scatter",
         "x": [
          "2024-10-12T00:00:00",
          "2024-10-19T00:00:00",
          "2024-10-26T00:00:00",
          "2024-11-02T00:00:00",
          "2024-11-09T00:00:00",
          "2024-11-16T00:00:00",
          "2024-11-23T00:00:00",
          "2024-11-30T00:00:00",
          "2024-12-07T00:00:00",
          "2024-12-14T00:00:00",
          "2024-12-21T00:00:00",
          "2024-12-28T00:00:00",
          "2025-01-04T00:00:00"
         ],
         "y": [
          -1982.982986655893,
          -3982.220055506248,
          -5523.660859078873,
          -6352.350004729471,
          -6323.677849127009,
          -5979.267322529472,
          -5223.014354502593,
          -3664.3488650216714,
          -2106.8753722400343,
          681.7794044896855,
          6108.567047112374,
          12031.056310794138,
          9844.874807314969
         ]
        },
        {
         "fill": "tonexty",
         "fillcolor": "#414487",
         "line": {
          "color": "#414487"
         },
         "mode": "lines",
         "name": "AutoARIMA-lo-80",
         "type": "scatter",
         "x": [
          "2024-10-12T00:00:00",
          "2024-10-19T00:00:00",
          "2024-10-26T00:00:00",
          "2024-11-02T00:00:00",
          "2024-11-09T00:00:00",
          "2024-11-16T00:00:00",
          "2024-11-23T00:00:00",
          "2024-11-30T00:00:00",
          "2024-12-07T00:00:00",
          "2024-12-14T00:00:00",
          "2024-12-21T00:00:00",
          "2024-12-28T00:00:00",
          "2025-01-04T00:00:00"
         ],
         "y": [
          -1163.6873391385475,
          -2328.1311575164505,
          -3240.2747561364386,
          -3577.3673022901353,
          -3246.684720165895,
          -2724.4330825597017,
          -1890.0968384719981,
          -303.5927660874213,
          1257.9208006912804,
          4046.622155352272,
          9476.899940687665,
          15406.408714939864,
          13229.049429058978
         ]
        },
        {
         "line": {
          "color": "#2c728e"
         },
         "mode": "lines",
         "name": "AutoARIMA",
         "type": "scatter",
         "x": [
          "2024-10-12T00:00:00",
          "2024-10-19T00:00:00",
          "2024-10-26T00:00:00",
          "2024-11-02T00:00:00",
          "2024-11-09T00:00:00",
          "2024-11-16T00:00:00",
          "2024-11-23T00:00:00",
          "2024-11-30T00:00:00",
          "2024-12-07T00:00:00",
          "2024-12-14T00:00:00",
          "2024-12-21T00:00:00",
          "2024-12-28T00:00:00",
          "2025-01-04T00:00:00"
         ],
         "y": [
          383.99898015739575,
          796.5171499358539,
          1073.1442689776516,
          1664.6998048188639,
          2565.893663097045,
          3424.09515635124,
          4405.934220075966,
          6045.026627378627,
          7614.172075607143,
          10402.961418074769,
          15839.832239935145,
          21782.6011853001,
          19621.907465169614
         ]
        }
       ],
       "layout": {
        "autosize": true,
        "hovermode": "x",
        "template": {
         "data": {
          "bar": [
           {
            "error_x": {
             "color": "#2a3f5f"
            },
            "error_y": {
             "color": "#2a3f5f"
            },
            "marker": {
             "line": {
              "color": "#E5ECF6",
              "width": 0.5
             },
             "pattern": {
              "fillmode": "overlay",
              "size": 10,
              "solidity": 0.2
             }
            },
            "type": "bar"
           }
          ],
          "barpolar": [
           {
            "marker": {
             "line": {
              "color": "#E5ECF6",
              "width": 0.5
             },
             "pattern": {
              "fillmode": "overlay",
              "size": 10,
              "solidity": 0.2
             }
            },
            "type": "barpolar"
           }
          ],
          "carpet": [
           {
            "aaxis": {
             "endlinecolor": "#2a3f5f",
             "gridcolor": "white",
             "linecolor": "white",
             "minorgridcolor": "white",
             "startlinecolor": "#2a3f5f"
            },
            "baxis": {
             "endlinecolor": "#2a3f5f",
             "gridcolor": "white",
             "linecolor": "white",
             "minorgridcolor": "white",
             "startlinecolor": "#2a3f5f"
            },
            "type": "carpet"
           }
          ],
          "choropleth": [
           {
            "colorbar": {
             "outlinewidth": 0,
             "ticks": ""
            },
            "type": "choropleth"
           }
          ],
          "contour": [
           {
            "colorbar": {
             "outlinewidth": 0,
             "ticks": ""
            },
            "colorscale": [
             [
              0,
              "#0d0887"
             ],
             [
              0.1111111111111111,
              "#46039f"
             ],
             [
              0.2222222222222222,
              "#7201a8"
             ],
             [
              0.3333333333333333,
              "#9c179e"
             ],
             [
              0.4444444444444444,
              "#bd3786"
             ],
             [
              0.5555555555555556,
              "#d8576b"
             ],
             [
              0.6666666666666666,
              "#ed7953"
             ],
             [
              0.7777777777777778,
              "#fb9f3a"
             ],
             [
              0.8888888888888888,
              "#fdca26"
             ],
             [
              1,
              "#f0f921"
             ]
            ],
            "type": "contour"
           }
          ],
          "contourcarpet": [
           {
            "colorbar": {
             "outlinewidth": 0,
             "ticks": ""
            },
            "type": "contourcarpet"
           }
          ],
          "heatmap": [
           {
            "colorbar": {
             "outlinewidth": 0,
             "ticks": ""
            },
            "colorscale": [
             [
              0,
              "#0d0887"
             ],
             [
              0.1111111111111111,
              "#46039f"
             ],
             [
              0.2222222222222222,
              "#7201a8"
             ],
             [
              0.3333333333333333,
              "#9c179e"
             ],
             [
              0.4444444444444444,
              "#bd3786"
             ],
             [
              0.5555555555555556,
              "#d8576b"
             ],
             [
              0.6666666666666666,
              "#ed7953"
             ],
             [
              0.7777777777777778,
              "#fb9f3a"
             ],
             [
              0.8888888888888888,
              "#fdca26"
             ],
             [
              1,
              "#f0f921"
             ]
            ],
            "type": "heatmap"
           }
          ],
          "heatmapgl": [
           {
            "colorbar": {
             "outlinewidth": 0,
             "ticks": ""
            },
            "colorscale": [
             [
              0,
              "#0d0887"
             ],
             [
              0.1111111111111111,
              "#46039f"
             ],
             [
              0.2222222222222222,
              "#7201a8"
             ],
             [
              0.3333333333333333,
              "#9c179e"
             ],
             [
              0.4444444444444444,
              "#bd3786"
             ],
             [
              0.5555555555555556,
              "#d8576b"
             ],
             [
              0.6666666666666666,
              "#ed7953"
             ],
             [
              0.7777777777777778,
              "#fb9f3a"
             ],
             [
              0.8888888888888888,
              "#fdca26"
             ],
             [
              1,
              "#f0f921"
             ]
            ],
            "type": "heatmapgl"
           }
          ],
          "histogram": [
           {
            "marker": {
             "pattern": {
              "fillmode": "overlay",
              "size": 10,
              "solidity": 0.2
             }
            },
            "type": "histogram"
           }
          ],
          "histogram2d": [
           {
            "colorbar": {
             "outlinewidth": 0,
             "ticks": ""
            },
            "colorscale": [
             [
              0,
              "#0d0887"
             ],
             [
              0.1111111111111111,
              "#46039f"
             ],
             [
              0.2222222222222222,
              "#7201a8"
             ],
             [
              0.3333333333333333,
              "#9c179e"
             ],
             [
              0.4444444444444444,
              "#bd3786"
             ],
             [
              0.5555555555555556,
              "#d8576b"
             ],
             [
              0.6666666666666666,
              "#ed7953"
             ],
             [
              0.7777777777777778,
              "#fb9f3a"
             ],
             [
              0.8888888888888888,
              "#fdca26"
             ],
             [
              1,
              "#f0f921"
             ]
            ],
            "type": "histogram2d"
           }
          ],
          "histogram2dcontour": [
           {
            "colorbar": {
             "outlinewidth": 0,
             "ticks": ""
            },
            "colorscale": [
             [
              0,
              "#0d0887"
             ],
             [
              0.1111111111111111,
              "#46039f"
             ],
             [
              0.2222222222222222,
              "#7201a8"
             ],
             [
              0.3333333333333333,
              "#9c179e"
             ],
             [
              0.4444444444444444,
              "#bd3786"
             ],
             [
              0.5555555555555556,
              "#d8576b"
             ],
             [
              0.6666666666666666,
              "#ed7953"
             ],
             [
              0.7777777777777778,
              "#fb9f3a"
             ],
             [
              0.8888888888888888,
              "#fdca26"
             ],
             [
              1,
              "#f0f921"
             ]
            ],
            "type": "histogram2dcontour"
           }
          ],
          "mesh3d": [
           {
            "colorbar": {
             "outlinewidth": 0,
             "ticks": ""
            },
            "type": "mesh3d"
           }
          ],
          "parcoords": [
           {
            "line": {
             "colorbar": {
              "outlinewidth": 0,
              "ticks": ""
             }
            },
            "type": "parcoords"
           }
          ],
          "pie": [
           {
            "automargin": true,
            "type": "pie"
           }
          ],
          "scatter": [
           {
            "fillpattern": {
             "fillmode": "overlay",
             "size": 10,
             "solidity": 0.2
            },
            "type": "scatter"
           }
          ],
          "scatter3d": [
           {
            "line": {
             "colorbar": {
              "outlinewidth": 0,
              "ticks": ""
             }
            },
            "marker": {
             "colorbar": {
              "outlinewidth": 0,
              "ticks": ""
             }
            },
            "type": "scatter3d"
           }
          ],
          "scattercarpet": [
           {
            "marker": {
             "colorbar": {
              "outlinewidth": 0,
              "ticks": ""
             }
            },
            "type": "scattercarpet"
           }
          ],
          "scattergeo": [
           {
            "marker": {
             "colorbar": {
              "outlinewidth": 0,
              "ticks": ""
             }
            },
            "type": "scattergeo"
           }
          ],
          "scattergl": [
           {
            "marker": {
             "colorbar": {
              "outlinewidth": 0,
              "ticks": ""
             }
            },
            "type": "scattergl"
           }
          ],
          "scattermapbox": [
           {
            "marker": {
             "colorbar": {
              "outlinewidth": 0,
              "ticks": ""
             }
            },
            "type": "scattermapbox"
           }
          ],
          "scatterpolar": [
           {
            "marker": {
             "colorbar": {
              "outlinewidth": 0,
              "ticks": ""
             }
            },
            "type": "scatterpolar"
           }
          ],
          "scatterpolargl": [
           {
            "marker": {
             "colorbar": {
              "outlinewidth": 0,
              "ticks": ""
             }
            },
            "type": "scatterpolargl"
           }
          ],
          "scatterternary": [
           {
            "marker": {
             "colorbar": {
              "outlinewidth": 0,
              "ticks": ""
             }
            },
            "type": "scatterternary"
           }
          ],
          "surface": [
           {
            "colorbar": {
             "outlinewidth": 0,
             "ticks": ""
            },
            "colorscale": [
             [
              0,
              "#0d0887"
             ],
             [
              0.1111111111111111,
              "#46039f"
             ],
             [
              0.2222222222222222,
              "#7201a8"
             ],
             [
              0.3333333333333333,
              "#9c179e"
             ],
             [
              0.4444444444444444,
              "#bd3786"
             ],
             [
              0.5555555555555556,
              "#d8576b"
             ],
             [
              0.6666666666666666,
              "#ed7953"
             ],
             [
              0.7777777777777778,
              "#fb9f3a"
             ],
             [
              0.8888888888888888,
              "#fdca26"
             ],
             [
              1,
              "#f0f921"
             ]
            ],
            "type": "surface"
           }
          ],
          "table": [
           {
            "cells": {
             "fill": {
              "color": "#EBF0F8"
             },
             "line": {
              "color": "white"
             }
            },
            "header": {
             "fill": {
              "color": "#C8D4E3"
             },
             "line": {
              "color": "white"
             }
            },
            "type": "table"
           }
          ]
         },
         "layout": {
          "annotationdefaults": {
           "arrowcolor": "#2a3f5f",
           "arrowhead": 0,
           "arrowwidth": 1
          },
          "autotypenumbers": "strict",
          "coloraxis": {
           "colorbar": {
            "outlinewidth": 0,
            "ticks": ""
           }
          },
          "colorscale": {
           "diverging": [
            [
             0,
             "#8e0152"
            ],
            [
             0.1,
             "#c51b7d"
            ],
            [
             0.2,
             "#de77ae"
            ],
            [
             0.3,
             "#f1b6da"
            ],
            [
             0.4,
             "#fde0ef"
            ],
            [
             0.5,
             "#f7f7f7"
            ],
            [
             0.6,
             "#e6f5d0"
            ],
            [
             0.7,
             "#b8e186"
            ],
            [
             0.8,
             "#7fbc41"
            ],
            [
             0.9,
             "#4d9221"
            ],
            [
             1,
             "#276419"
            ]
           ],
           "sequential": [
            [
             0,
             "#0d0887"
            ],
            [
             0.1111111111111111,
             "#46039f"
            ],
            [
             0.2222222222222222,
             "#7201a8"
            ],
            [
             0.3333333333333333,
             "#9c179e"
            ],
            [
             0.4444444444444444,
             "#bd3786"
            ],
            [
             0.5555555555555556,
             "#d8576b"
            ],
            [
             0.6666666666666666,
             "#ed7953"
            ],
            [
             0.7777777777777778,
             "#fb9f3a"
            ],
            [
             0.8888888888888888,
             "#fdca26"
            ],
            [
             1,
             "#f0f921"
            ]
           ],
           "sequentialminus": [
            [
             0,
             "#0d0887"
            ],
            [
             0.1111111111111111,
             "#46039f"
            ],
            [
             0.2222222222222222,
             "#7201a8"
            ],
            [
             0.3333333333333333,
             "#9c179e"
            ],
            [
             0.4444444444444444,
             "#bd3786"
            ],
            [
             0.5555555555555556,
             "#d8576b"
            ],
            [
             0.6666666666666666,
             "#ed7953"
            ],
            [
             0.7777777777777778,
             "#fb9f3a"
            ],
            [
             0.8888888888888888,
             "#fdca26"
            ],
            [
             1,
             "#f0f921"
            ]
           ]
          },
          "colorway": [
           "#636efa",
           "#EF553B",
           "#00cc96",
           "#ab63fa",
           "#FFA15A",
           "#19d3f3",
           "#FF6692",
           "#B6E880",
           "#FF97FF",
           "#FECB52"
          ],
          "font": {
           "color": "#2a3f5f"
          },
          "geo": {
           "bgcolor": "white",
           "lakecolor": "white",
           "landcolor": "#E5ECF6",
           "showlakes": true,
           "showland": true,
           "subunitcolor": "white"
          },
          "hoverlabel": {
           "align": "left"
          },
          "hovermode": "closest",
          "mapbox": {
           "style": "light"
          },
          "paper_bgcolor": "white",
          "plot_bgcolor": "#E5ECF6",
          "polar": {
           "angularaxis": {
            "gridcolor": "white",
            "linecolor": "white",
            "ticks": ""
           },
           "bgcolor": "#E5ECF6",
           "radialaxis": {
            "gridcolor": "white",
            "linecolor": "white",
            "ticks": ""
           }
          },
          "scene": {
           "xaxis": {
            "backgroundcolor": "#E5ECF6",
            "gridcolor": "white",
            "gridwidth": 2,
            "linecolor": "white",
            "showbackground": true,
            "ticks": "",
            "zerolinecolor": "white"
           },
           "yaxis": {
            "backgroundcolor": "#E5ECF6",
            "gridcolor": "white",
            "gridwidth": 2,
            "linecolor": "white",
            "showbackground": true,
            "ticks": "",
            "zerolinecolor": "white"
           },
           "zaxis": {
            "backgroundcolor": "#E5ECF6",
            "gridcolor": "white",
            "gridwidth": 2,
            "linecolor": "white",
            "showbackground": true,
            "ticks": "",
            "zerolinecolor": "white"
           }
          },
          "shapedefaults": {
           "line": {
            "color": "#2a3f5f"
           }
          },
          "ternary": {
           "aaxis": {
            "gridcolor": "white",
            "linecolor": "white",
            "ticks": ""
           },
           "baxis": {
            "gridcolor": "white",
            "linecolor": "white",
            "ticks": ""
           },
           "bgcolor": "#E5ECF6",
           "caxis": {
            "gridcolor": "white",
            "linecolor": "white",
            "ticks": ""
           }
          },
          "title": {
           "x": 0.05
          },
          "xaxis": {
           "automargin": true,
           "gridcolor": "white",
           "linecolor": "white",
           "ticks": "",
           "title": {
            "standoff": 15
           },
           "zerolinecolor": "white",
           "zerolinewidth": 2
          },
          "yaxis": {
           "automargin": true,
           "gridcolor": "white",
           "linecolor": "white",
           "ticks": "",
           "title": {
            "standoff": 15
           },
           "zerolinecolor": "white",
           "zerolinewidth": 2
          }
         }
        },
        "title": {
         "text": "Fixed Parameter ARIMA Predictions, 2024-10-05"
        },
        "xaxis": {
         "autorange": true,
         "range": [
          "2022-02-05",
          "2025-04-05"
         ],
         "title": {
          "text": "Date"
         },
         "type": "date"
        },
        "yaxis": {
         "autorange": true,
         "range": [
          -9726.03611610333,
          57747.686111373856
         ],
         "title": {
          "text": "Count"
         },
         "type": "linear"
        }
       }
      },
      "image/png": "[encoded data removed]",
      "text/html": [
       "<div>                            <div id=\"c81aa96b-e21c-47ec-8ed9-e597c4e3e87f\" class=\"plotly-graph-div\" style=\"height:525px; width:100%;\"></div>            <script type=\"text/javascript\">                require([\"plotly\"], function(Plotly) {                    window.PLOTLYENV=window.PLOTLYENV || {};                                    if (document.getElementById(\"c81aa96b-e21c-47ec-8ed9-e597c4e3e87f\")) {                    Plotly.newPlot(                        \"c81aa96b-e21c-47ec-8ed9-e597c4e3e87f\",                        [{\"mode\":\"lines\",\"name\":\"Real Data\",\"x\":[\"2022-02-05T00:00:00\",\"2022-02-12T00:00:00\",\"2022-02-19T00:00:00\",\"2022-02-26T00:00:00\",\"2022-03-05T00:00:00\",\"2022-03-12T00:00:00\",\"2022-03-19T00:00:00\",\"2022-03-26T00:00:00\",\"2022-04-02T00:00:00\",\"2022-04-09T00:00:00\",\"2022-04-16T00:00:00\",\"2022-04-23T00:00:00\",\"2022-04-30T00:00:00\",\"2022-05-07T00:00:00\",\"2022-05-14T00:00:00\",\"2022-05-21T00:00:00\",\"2022-05-28T00:00:00\",\"2022-06-04T00:00:00\",\"2022-06-11T00:00:00\",\"2022-06-18T00:00:00\",\"2022-06-25T00:00:00\",\"2022-07-02T00:00:00\",\"2022-07-09T00:00:00\",\"2022-07-16T00:00:00\",\"2022-07-23T00:00:00\",\"2022-07-30T00:00:00\",\"2022-08-06T00:00:00\",\"2022-08-13T00:00:00\",\"2022-08-20T00:00:00\",\"2022-08-27T00:00:00\",\"2022-09-03T00:00:00\",\"2022-09-10T00:00:00\",\"2022-09-17T00:00:00\",\"2022-09-24T00:00:00\",\"2022-10-01T00:00:00\",\"2022-10-08T00:00:00\",\"2022-10-15T00:00:00\",\"2022-10-22T00:00:00\",\"2022-10-29T00:00:00\",\"2022-11-05T00:00:00\",\"2022-11-12T00:00:00\",\"2022-11-19T00:00:00\",\"2022-11-26T00:00:00\",\"2022-12-03T00:00:00\",\"2022-12-10T00:00:00\",\"2022-12-17T00:00:00\",\"2022-12-24T00:00:00\",\"2022-12-31T00:00:00\",\"2023-01-07T00:00:00\",\"2023-01-14T00:00:00\",\"2023-01-21T00:00:00\",\"2023-01-28T00:00:00\",\"2023-02-04T00:00:00\",\"2023-02-11T00:00:00\",\"2023-02-18T00:00:00\",\"2023-02-25T00:00:00\",\"2023-03-04T00:00:00\",\"2023-03-11T00:00:00\",\"2023-03-18T00:00:00\",\"2023-03-25T00:00:00\",\"2023-04-01T00:00:00\",\"2023-04-08T00:00:00\",\"2023-04-15T00:00:00\",\"2023-04-22T00:00:00\",\"2023-04-29T00:00:00\",\"2023-05-06T00:00:00\",\"2023-05-13T00:00:00\",\"2023-05-20T00:00:00\",\"2023-05-27T00:00:00\",\"2023-06-03T00:00:00\",\"2023-06-10T00:00:00\",\"2023-06-17T00:00:00\",\"2023-06-24T00:00:00\",\"2023-07-01T00:00:00\",\"2023-07-08T00:00:00\",\"2023-07-15T00:00:00\",\"2023-07-22T00:00:00\",\"2023-07-29T00:00:00\",\"2023-08-05T00:00:00\",\"2023-08-12T00:00:00\",\"2023-08-19T00:00:00\",\"2023-08-26T00:00:00\",\"2023-09-02T00:00:00\",\"2023-09-09T00:00:00\",\"2023-09-16T00:00:00\",\"2023-09-23T00:00:00\",\"2023-09-30T00:00:00\",\"2023-10-07T00:00:00\",\"2023-10-14T00:00:00\",\"2023-10-21T00:00:00\",\"2023-10-28T00:00:00\",\"2023-11-04T00:00:00\",\"2023-11-11T00:00:00\",\"2023-11-18T00:00:00\",\"2023-11-25T00:00:00\",\"2023-12-02T00:00:00\",\"2023-12-09T00:00:00\",\"2023-12-16T00:00:00\",\"2023-12-23T00:00:00\",\"2023-12-30T00:00:00\",\"2024-01-06T00:00:00\",\"2024-01-13T00:00:00\",\"2024-01-20T00:00:00\",\"2024-01-27T00:00:00\",\"2024-02-03T00:00:00\",\"2024-02-10T00:00:00\",\"2024-02-17T00:00:00\",\"2024-02-24T00:00:00\",\"2024-03-02T00:00:00\",\"2024-03-09T00:00:00\",\"2024-03-16T00:00:00\",\"2024-03-23T00:00:00\",\"2024-03-30T00:00:00\",\"2024-04-06T00:00:00\",\"2024-04-13T00:00:00\",\"2024-04-20T00:00:00\",\"2024-04-27T00:00:00\",\"2024-05-04T00:00:00\",\"2024-05-11T00:00:00\",\"2024-05-18T00:00:00\",\"2024-05-25T00:00:00\",\"2024-06-01T00:00:00\",\"2024-06-08T00:00:00\",\"2024-06-15T00:00:00\",\"2024-06-22T00:00:00\",\"2024-06-29T00:00:00\",\"2024-07-06T00:00:00\",\"2024-07-13T00:00:00\",\"2024-07-20T00:00:00\",\"2024-07-27T00:00:00\",\"2024-08-03T00:00:00\",\"2024-08-10T00:00:00\",\"2024-08-17T00:00:00\",\"2024-08-24T00:00:00\",\"2024-08-31T00:00:00\",\"2024-09-07T00:00:00\",\"2024-09-14T00:00:00\",\"2024-09-21T00:00:00\",\"2024-09-28T00:00:00\",\"2024-10-05T00:00:00\",\"2024-10-12T00:00:00\",\"2024-10-19T00:00:00\",\"2024-10-26T00:00:00\",\"2024-11-02T00:00:00\",\"2024-11-09T00:00:00\",\"2024-11-16T00:00:00\",\"2024-11-23T00:00:00\",\"2024-11-30T00:00:00\",\"2024-12-07T00:00:00\",\"2024-12-14T00:00:00\",\"2024-12-21T00:00:00\",\"2024-12-28T00:00:00\",\"2025-01-04T00:00:00\",\"2025-01-11T00:00:00\",\"2025-01-18T00:00:00\",\"2025-01-25T00:00:00\",\"2025-02-01T00:00:00\",\"2025-02-08T00:00:00\",\"2025-02-15T00:00:00\",\"2025-02-22T00:00:00\",\"2025-03-01T00:00:00\",\"2025-03-08T00:00:00\",\"2025-03-15T00:00:00\",\"2025-03-22T00:00:00\",\"2025-03-29T00:00:00\",\"2025-04-05T00:00:00\"],\"y\":[1091.0,1164.0,1493.0,1603.0,1791.0,2097.0,2625.0,2918.0,3008.0,3149.0,3308.0,3474.0,3182.0,3175.0,3119.0,3133.0,2738.0,2678.0,2210.0,1776.0,1366.0,1073.0,776.0,766.0,628.0,522.0,486.0,490.0,483.0,483.0,545.0,576.0,665.0,796.0,921.0,1316.0,1674.0,2292.0,4184.0,6408.0,8594.0,10971.0,18177.0,26834.0,24036.0,21612.0,19631.0,19479.0,14074.0,7185.0,4489.0,3091.0,2596.0,2177.0,1908.0,1647.0,1503.0,1372.0,1415.0,1331.0,1295.0,1198.0,1077.0,982.0,903.0,994.0,980.0,1116.0,974.0,939.0,935.0,873.0,813.0,836.0,699.0,736.0,645.0,771.0,690.0,706.0,738.0,793.0,875.0,804.0,821.0,881.0,1026.0,1110.0,1215.0,1470.0,1614.0,2014.0,2775.0,3491.0,4386.0,5955.0,7497.0,10273.0,15722.0,21682.0,19548.0,15905.0,13303.0,13025.0,11964.0,11629.0,11126.0,10870.0,10814.0,9416.0,7324.0,6049.0,5574.0,5071.0,4073.0,2943.0,2420.0,1485.0,852.0,682.0,611.0,591.0,511.0,518.0,441.0,356.0,342.0,367.0,325.0,273.0,275.0,275.0,275.0,274.0,262.0,223.0,319.0,293.0,223.0,287.0,295.0,553.0,1084.0,977.0,2081.0,2535.0,3099.0,4297.0,6307.0,9192.0,15467.0,27748.0,38767.0,30796.0,33020.0,40682.0,51337.0,54374.0,46244.0,37881.0,30807.0,23956.0,18384.0,13600.0,9597.0,6273.0],\"type\":\"scatter\"},{\"line\":{\"color\":\"#414487\"},\"mode\":\"lines\",\"name\":\"AutoARIMA-hi-80\",\"x\":[\"2024-10-12T00:00:00\",\"2024-10-19T00:00:00\",\"2024-10-26T00:00:00\",\"2024-11-02T00:00:00\",\"2024-11-09T00:00:00\",\"2024-11-16T00:00:00\",\"2024-11-23T00:00:00\",\"2024-11-30T00:00:00\",\"2024-12-07T00:00:00\",\"2024-12-14T00:00:00\",\"2024-12-21T00:00:00\",\"2024-12-28T00:00:00\",\"2025-01-04T00:00:00\"],\"y\":[1931.6852994533392,3921.1654573881583,5386.563294091741,6906.7669119278635,8378.472046359986,9572.62339526218,10701.96527862393,12393.646020844677,13970.423350523004,16759.300680797263,22202.764539182626,28158.793655660338,26014.76550128025],\"type\":\"scatter\"},{\"line\":{\"color\":\"#1e9c89\"},\"mode\":\"lines\",\"name\":\"AutoARIMA-hi-95\",\"x\":[\"2024-10-12T00:00:00\",\"2024-10-19T00:00:00\",\"2024-10-26T00:00:00\",\"2024-11-02T00:00:00\",\"2024-11-09T00:00:00\",\"2024-11-16T00:00:00\",\"2024-11-23T00:00:00\",\"2024-11-30T00:00:00\",\"2024-12-07T00:00:00\",\"2024-12-14T00:00:00\",\"2024-12-21T00:00:00\",\"2024-12-28T00:00:00\",\"2025-01-04T00:00:00\"],\"y\":[2750.9809469706843,5575.254355377956,7669.9493970341755,9681.749614367198,11455.4651753211,12827.457635231953,14034.882794654524,15754.402119778926,17335.219523454318,20124.143431659853,25571.097432757917,31534.146059806062,29398.94012302426],\"type\":\"scatter\"},{\"fill\":\"tonexty\",\"fillcolor\":\"#1e9c89\",\"line\":{\"color\":\"#1e9c89\"},\"mode\":\"lines\",\"name\":\"AutoARIMA-lo-95\",\"x\":[\"2024-10-12T00:00:00\",\"2024-10-19T00:00:00\",\"2024-10-26T00:00:00\",\"2024-11-02T00:00:00\",\"2024-11-09T00:00:00\",\"2024-11-16T00:00:00\",\"2024-11-23T00:00:00\",\"2024-11-30T00:00:00\",\"2024-12-07T00:00:00\",\"2024-12-14T00:00:00\",\"2024-12-21T00:00:00\",\"2024-12-28T00:00:00\",\"2025-01-04T00:00:00\"],\"y\":[-1982.982986655893,-3982.220055506248,-5523.660859078873,-6352.350004729471,-6323.677849127009,-5979.267322529472,-5223.014354502593,-3664.3488650216714,-2106.8753722400343,681.7794044896855,6108.567047112374,12031.056310794138,9844.874807314969],\"type\":\"scatter\"},{\"fill\":\"tonexty\",\"fillcolor\":\"#414487\",\"line\":{\"color\":\"#414487\"},\"mode\":\"lines\",\"name\":\"AutoARIMA-lo-80\",\"x\":[\"2024-10-12T00:00:00\",\"2024-10-19T00:00:00\",\"2024-10-26T00:00:00\",\"2024-11-02T00:00:00\",\"2024-11-09T00:00:00\",\"2024-11-16T00:00:00\",\"2024-11-23T00:00:00\",\"2024-11-30T00:00:00\",\"2024-12-07T00:00:00\",\"2024-12-14T00:00:00\",\"2024-12-21T00:00:00\",\"2024-12-28T00:00:00\",\"2025-01-04T00:00:00\"],\"y\":[-1163.6873391385475,-2328.1311575164505,-3240.2747561364386,-3577.3673022901353,-3246.684720165895,-2724.4330825597017,-1890.0968384719981,-303.5927660874213,1257.9208006912804,4046.622155352272,9476.899940687665,15406.408714939864,13229.049429058978],\"type\":\"scatter\"},{\"line\":{\"color\":\"#2c728e\"},\"mode\":\"lines\",\"name\":\"AutoARIMA\",\"x\":[\"2024-10-12T00:00:00\",\"2024-10-19T00:00:00\",\"2024-10-26T00:00:00\",\"2024-11-02T00:00:00\",\"2024-11-09T00:00:00\",\"2024-11-16T00:00:00\",\"2024-11-23T00:00:00\",\"2024-11-30T00:00:00\",\"2024-12-07T00:00:00\",\"2024-12-14T00:00:00\",\"2024-12-21T00:00:00\",\"2024-12-28T00:00:00\",\"2025-01-04T00:00:00\"],\"y\":[383.99898015739575,796.5171499358539,1073.1442689776516,1664.6998048188639,2565.893663097045,3424.09515635124,4405.934220075966,6045.026627378627,7614.172075607143,10402.961418074769,15839.832239935145,21782.6011853001,19621.907465169614],\"type\":\"scatter\"}],                        {\"template\":{\"data\":{\"histogram2dcontour\":[{\"type\":\"histogram2dcontour\",\"colorbar\":{\"outlinewidth\":0,\"ticks\":\"\"},\"colorscale\":[[0.0,\"#0d0887\"],[0.1111111111111111,\"#46039f\"],[0.2222222222222222,\"#7201a8\"],[0.3333333333333333,\"#9c179e\"],[0.4444444444444444,\"#bd3786\"],[0.5555555555555556,\"#d8576b\"],[0.6666666666666666,\"#ed7953\"],[0.7777777777777778,\"#fb9f3a\"],[0.8888888888888888,\"#fdca26\"],[1.0,\"#f0f921\"]]}],\"choropleth\":[{\"type\":\"choropleth\",\"colorbar\":{\"outlinewidth\":0,\"ticks\":\"\"}}],\"histogram2d\":[{\"type\":\"histogram2d\",\"colorbar\":{\"outlinewidth\":0,\"ticks\":\"\"},\"colorscale\":[[0.0,\"#0d0887\"],[0.1111111111111111,\"#46039f\"],[0.2222222222222222,\"#7201a8\"],[0.3333333333333333,\"#9c179e\"],[0.4444444444444444,\"#bd3786\"],[0.5555555555555556,\"#d8576b\"],[0.6666666666666666,\"#ed7953\"],[0.7777777777777778,\"#fb9f3a\"],[0.8888888888888888,\"#fdca26\"],[1.0,\"#f0f921\"]]}],\"heatmap\":[{\"type\":\"heatmap\",\"colorbar\":{\"outlinewidth\":0,\"ticks\":\"\"},\"colorscale\":[[0.0,\"#0d0887\"],[0.1111111111111111,\"#46039f\"],[0.2222222222222222,\"#7201a8\"],[0.3333333333333333,\"#9c179e\"],[0.4444444444444444,\"#bd3786\"],[0.5555555555555556,\"#d8576b\"],[0.6666666666666666,\"#ed7953\"],[0.7777777777777778,\"#fb9f3a\"],[0.8888888888888888,\"#fdca26\"],[1.0,\"#f0f921\"]]}],\"heatmapgl\":[{\"type\":\"heatmapgl\",\"colorbar\":{\"outlinewidth\":0,\"ticks\":\"\"},\"colorscale\":[[0.0,\"#0d0887\"],[0.1111111111111111,\"#46039f\"],[0.2222222222222222,\"#7201a8\"],[0.3333333333333333,\"#9c179e\"],[0.4444444444444444,\"#bd3786\"],[0.5555555555555556,\"#d8576b\"],[0.6666666666666666,\"#ed7953\"],[0.7777777777777778,\"#fb9f3a\"],[0.8888888888888888,\"#fdca26\"],[1.0,\"#f0f921\"]]}],\"contourcarpet\":[{\"type\":\"contourcarpet\",\"colorbar\":{\"outlinewidth\":0,\"ticks\":\"\"}}],\"contour\":[{\"type\":\"contour\",\"colorbar\":{\"outlinewidth\":0,\"ticks\":\"\"},\"colorscale\":[[0.0,\"#0d0887\"],[0.1111111111111111,\"#46039f\"],[0.2222222222222222,\"#7201a8\"],[0.3333333333333333,\"#9c179e\"],[0.4444444444444444,\"#bd3786\"],[0.5555555555555556,\"#d8576b\"],[0.6666666666666666,\"#ed7953\"],[0.7777777777777778,\"#fb9f3a\"],[0.8888888888888888,\"#fdca26\"],[1.0,\"#f0f921\"]]}],\"surface\":[{\"type\":\"surface\",\"colorbar\":{\"outlinewidth\":0,\"ticks\":\"\"},\"colorscale\":[[0.0,\"#0d0887\"],[0.1111111111111111,\"#46039f\"],[0.2222222222222222,\"#7201a8\"],[0.3333333333333333,\"#9c179e\"],[0.4444444444444444,\"#bd3786\"],[0.5555555555555556,\"#d8576b\"],[0.6666666666666666,\"#ed7953\"],[0.7777777777777778,\"#fb9f3a\"],[0.8888888888888888,\"#fdca26\"],[1.0,\"#f0f921\"]]}],\"mesh3d\":[{\"type\":\"mesh3d\",\"colorbar\":{\"outlinewidth\":0,\"ticks\":\"\"}}],\"scatter\":[{\"fillpattern\":{\"fillmode\":\"overlay\",\"size\":10,\"solidity\":0.2},\"type\":\"scatter\"}],\"parcoords\":[{\"type\":\"parcoords\",\"line\":{\"colorbar\":{\"outlinewidth\":0,\"ticks\":\"\"}}}],\"scatterpolargl\":[{\"type\":\"scatterpolargl\",\"marker\":{\"colorbar\":{\"outlinewidth\":0,\"ticks\":\"\"}}}],\"bar\":[{\"error_x\":{\"color\":\"#2a3f5f\"},\"error_y\":{\"color\":\"#2a3f5f\"},\"marker\":{\"line\":{\"color\":\"#E5ECF6\",\"width\":0.5},\"pattern\":{\"fillmode\":\"overlay\",\"size\":10,\"solidity\":0.2}},\"type\":\"bar\"}],\"scattergeo\":[{\"type\":\"scattergeo\",\"marker\":{\"colorbar\":{\"outlinewidth\":0,\"ticks\":\"\"}}}],\"scatterpolar\":[{\"type\":\"scatterpolar\",\"marker\":{\"colorbar\":{\"outlinewidth\":0,\"ticks\":\"\"}}}],\"histogram\":[{\"marker\":{\"pattern\":{\"fillmode\":\"overlay\",\"size\":10,\"solidity\":0.2}},\"type\":\"histogram\"}],\"scattergl\":[{\"type\":\"scattergl\",\"marker\":{\"colorbar\":{\"outlinewidth\":0,\"ticks\":\"\"}}}],\"scatter3d\":[{\"type\":\"scatter3d\",\"line\":{\"colorbar\":{\"outlinewidth\":0,\"ticks\":\"\"}},\"marker\":{\"colorbar\":{\"outlinewidth\":0,\"ticks\":\"\"}}}],\"scattermapbox\":[{\"type\":\"scattermapbox\",\"marker\":{\"colorbar\":{\"outlinewidth\":0,\"ticks\":\"\"}}}],\"scatterternary\":[{\"type\":\"scatterternary\",\"marker\":{\"colorbar\":{\"outlinewidth\":0,\"ticks\":\"\"}}}],\"scattercarpet\":[{\"type\":\"scattercarpet\",\"marker\":{\"colorbar\":{\"outlinewidth\":0,\"ticks\":\"\"}}}],\"carpet\":[{\"aaxis\":{\"endlinecolor\":\"#2a3f5f\",\"gridcolor\":\"white\",\"linecolor\":\"white\",\"minorgridcolor\":\"white\",\"startlinecolor\":\"#2a3f5f\"},\"baxis\":{\"endlinecolor\":\"#2a3f5f\",\"gridcolor\":\"white\",\"linecolor\":\"white\",\"minorgridcolor\":\"white\",\"startlinecolor\":\"#2a3f5f\"},\"type\":\"carpet\"}],\"table\":[{\"cells\":{\"fill\":{\"color\":\"#EBF0F8\"},\"line\":{\"color\":\"white\"}},\"header\":{\"fill\":{\"color\":\"#C8D4E3\"},\"line\":{\"color\":\"white\"}},\"type\":\"table\"}],\"barpolar\":[{\"marker\":{\"line\":{\"color\":\"#E5ECF6\",\"width\":0.5},\"pattern\":{\"fillmode\":\"overlay\",\"size\":10,\"solidity\":0.2}},\"type\":\"barpolar\"}],\"pie\":[{\"automargin\":true,\"type\":\"pie\"}]},\"layout\":{\"autotypenumbers\":\"strict\",\"colorway\":[\"#636efa\",\"#EF553B\",\"#00cc96\",\"#ab63fa\",\"#FFA15A\",\"#19d3f3\",\"#FF6692\",\"#B6E880\",\"#FF97FF\",\"#FECB52\"],\"font\":{\"color\":\"#2a3f5f\"},\"hovermode\":\"closest\",\"hoverlabel\":{\"align\":\"left\"},\"paper_bgcolor\":\"white\",\"plot_bgcolor\":\"#E5ECF6\",\"polar\":{\"bgcolor\":\"#E5ECF6\",\"angularaxis\":{\"gridcolor\":\"white\",\"linecolor\":\"white\",\"ticks\":\"\"},\"radialaxis\":{\"gridcolor\":\"white\",\"linecolor\":\"white\",\"ticks\":\"\"}},\"ternary\":{\"bgcolor\":\"#E5ECF6\",\"aaxis\":{\"gridcolor\":\"white\",\"linecolor\":\"white\",\"ticks\":\"\"},\"baxis\":{\"gridcolor\":\"white\",\"linecolor\":\"white\",\"ticks\":\"\"},\"caxis\":{\"gridcolor\":\"white\",\"linecolor\":\"white\",\"ticks\":\"\"}},\"coloraxis\":{\"colorbar\":{\"outlinewidth\":0,\"ticks\":\"\"}},\"colorscale\":{\"sequential\":[[0.0,\"#0d0887\"],[0.1111111111111111,\"#46039f\"],[0.2222222222222222,\"#7201a8\"],[0.3333333333333333,\"#9c179e\"],[0.4444444444444444,\"#bd3786\"],[0.5555555555555556,\"#d8576b\"],[0.6666666666666666,\"#ed7953\"],[0.7777777777777778,\"#fb9f3a\"],[0.8888888888888888,\"#fdca26\"],[1.0,\"#f0f921\"]],\"sequentialminus\":[[0.0,\"#0d0887\"],[0.1111111111111111,\"#46039f\"],[0.2222222222222222,\"#7201a8\"],[0.3333333333333333,\"#9c179e\"],[0.4444444444444444,\"#bd3786\"],[0.5555555555555556,\"#d8576b\"],[0.6666666666666666,\"#ed7953\"],[0.7777777777777778,\"#fb9f3a\"],[0.8888888888888888,\"#fdca26\"],[1.0,\"#f0f921\"]],\"diverging\":[[0,\"#8e0152\"],[0.1,\"#c51b7d\"],[0.2,\"#de77ae\"],[0.3,\"#f1b6da\"],[0.4,\"#fde0ef\"],[0.5,\"#f7f7f7\"],[0.6,\"#e6f5d0\"],[0.7,\"#b8e186\"],[0.8,\"#7fbc41\"],[0.9,\"#4d9221\"],[1,\"#276419\"]]},\"xaxis\":{\"gridcolor\":\"white\",\"linecolor\":\"white\",\"ticks\":\"\",\"title\":{\"standoff\":15},\"zerolinecolor\":\"white\",\"automargin\":true,\"zerolinewidth\":2},\"yaxis\":{\"gridcolor\":\"white\",\"linecolor\":\"white\",\"ticks\":\"\",\"title\":{\"standoff\":15},\"zerolinecolor\":\"white\",\"automargin\":true,\"zerolinewidth\":2},\"scene\":{\"xaxis\":{\"backgroundcolor\":\"#E5ECF6\",\"gridcolor\":\"white\",\"linecolor\":\"white\",\"showbackground\":true,\"ticks\":\"\",\"zerolinecolor\":\"white\",\"gridwidth\":2},\"yaxis\":{\"backgroundcolor\":\"#E5ECF6\",\"gridcolor\":\"white\",\"linecolor\":\"white\",\"showbackground\":true,\"ticks\":\"\",\"zerolinecolor\":\"white\",\"gridwidth\":2},\"zaxis\":{\"backgroundcolor\":\"#E5ECF6\",\"gridcolor\":\"white\",\"linecolor\":\"white\",\"showbackground\":true,\"ticks\":\"\",\"zerolinecolor\":\"white\",\"gridwidth\":2}},\"shapedefaults\":{\"line\":{\"color\":\"#2a3f5f\"}},\"annotationdefaults\":{\"arrowcolor\":\"#2a3f5f\",\"arrowhead\":0,\"arrowwidth\":1},\"geo\":{\"bgcolor\":\"white\",\"landcolor\":\"#E5ECF6\",\"subunitcolor\":\"white\",\"showland\":true,\"showlakes\":true,\"lakecolor\":\"white\"},\"title\":{\"x\":0.05},\"mapbox\":{\"style\":\"light\"}}},\"title\":{\"text\":\"Fixed Parameter ARIMA Predictions, 2024-10-05\"},\"xaxis\":{\"title\":{\"text\":\"Date\"}},\"yaxis\":{\"title\":{\"text\":\"Count\"}},\"hovermode\":\"x\"},                        {\"responsive\": true}                    ).then(function(){\n",
       "                            \n",
       "var gd = document.getElementById('c81aa96b-e21c-47ec-8ed9-e597c4e3e87f');\n",
       "var x = new MutationObserver(function (mutations, observer) {{\n",
       "        var display = window.getComputedStyle(gd).display;\n",
       "        if (!display || display === 'none') {{\n",
       "            console.log([gd, 'removed!']);\n",
       "            Plotly.purge(gd);\n",
       "            observer.disconnect();\n",
       "        }}\n",
       "}});\n",
       "\n",
       "// Listen for the removal of the full notebook cells\n",
       "var notebookContainer = gd.closest('#notebook-container');\n",
       "if (notebookContainer) {{\n",
       "    x.observe(notebookContainer, {childList: true});\n",
       "}}\n",
       "\n",
       "// Listen for the clearing of the current output cell\n",
       "var outputEl = gd.closest('.output');\n",
       "if (outputEl) {{\n",
       "    x.observe(outputEl, {childList: true});\n",
       "}}\n",
       "\n",
       "                        })                };                });            </script>        </div>"
      ]
     },
     "metadata": {},
     "output_type": "display_data"
    }
   ],
   "source": [
    "Processor.create_graph()"
   ]
  },
  {
   "cell_type": "code",
   "execution_count": 100,
   "id": "888f5a0f-6dc5-46d4-8421-0cb7fe7fb947",
   "metadata": {
    "tags": []
   },
   "outputs": [
    {
     "data": {
      "text/html": [
       "<div>\n",
       "<style scoped>\n",
       "    .dataframe tbody tr th:only-of-type {\n",
       "        vertical-align: middle;\n",
       "    }\n",
       "\n",
       "    .dataframe tbody tr th {\n",
       "        vertical-align: top;\n",
       "    }\n",
       "\n",
       "    .dataframe thead th {\n",
       "        text-align: right;\n",
       "    }\n",
       "</style>\n",
       "<table border=\"1\" class=\"dataframe\">\n",
       "  <thead>\n",
       "    <tr style=\"text-align: right;\">\n",
       "      <th></th>\n",
       "      <th>AutoARIMA</th>\n",
       "      <th>AutoARIMA-lo-95</th>\n",
       "      <th>AutoARIMA-lo-80</th>\n",
       "      <th>AutoARIMA-hi-80</th>\n",
       "      <th>AutoARIMA-hi-95</th>\n",
       "    </tr>\n",
       "    <tr>\n",
       "      <th>ds</th>\n",
       "      <th></th>\n",
       "      <th></th>\n",
       "      <th></th>\n",
       "      <th></th>\n",
       "      <th></th>\n",
       "    </tr>\n",
       "  </thead>\n",
       "  <tbody>\n",
       "    <tr>\n",
       "      <th>2024-10-12</th>\n",
       "      <td>383.998980</td>\n",
       "      <td>-1982.982987</td>\n",
       "      <td>-1163.687339</td>\n",
       "      <td>1931.685299</td>\n",
       "      <td>2750.980947</td>\n",
       "    </tr>\n",
       "    <tr>\n",
       "      <th>2024-10-19</th>\n",
       "      <td>796.517150</td>\n",
       "      <td>-3982.220056</td>\n",
       "      <td>-2328.131158</td>\n",
       "      <td>3921.165457</td>\n",
       "      <td>5575.254355</td>\n",
       "    </tr>\n",
       "    <tr>\n",
       "      <th>2024-10-26</th>\n",
       "      <td>1073.144269</td>\n",
       "      <td>-5523.660859</td>\n",
       "      <td>-3240.274756</td>\n",
       "      <td>5386.563294</td>\n",
       "      <td>7669.949397</td>\n",
       "    </tr>\n",
       "    <tr>\n",
       "      <th>2024-11-02</th>\n",
       "      <td>1664.699805</td>\n",
       "      <td>-6352.350005</td>\n",
       "      <td>-3577.367302</td>\n",
       "      <td>6906.766912</td>\n",
       "      <td>9681.749614</td>\n",
       "    </tr>\n",
       "    <tr>\n",
       "      <th>2024-11-09</th>\n",
       "      <td>2565.893663</td>\n",
       "      <td>-6323.677849</td>\n",
       "      <td>-3246.684720</td>\n",
       "      <td>8378.472046</td>\n",
       "      <td>11455.465175</td>\n",
       "    </tr>\n",
       "    <tr>\n",
       "      <th>2024-11-16</th>\n",
       "      <td>3424.095156</td>\n",
       "      <td>-5979.267323</td>\n",
       "      <td>-2724.433083</td>\n",
       "      <td>9572.623395</td>\n",
       "      <td>12827.457635</td>\n",
       "    </tr>\n",
       "    <tr>\n",
       "      <th>2024-11-23</th>\n",
       "      <td>4405.934220</td>\n",
       "      <td>-5223.014355</td>\n",
       "      <td>-1890.096838</td>\n",
       "      <td>10701.965279</td>\n",
       "      <td>14034.882795</td>\n",
       "    </tr>\n",
       "    <tr>\n",
       "      <th>2024-11-30</th>\n",
       "      <td>6045.026627</td>\n",
       "      <td>-3664.348865</td>\n",
       "      <td>-303.592766</td>\n",
       "      <td>12393.646021</td>\n",
       "      <td>15754.402120</td>\n",
       "    </tr>\n",
       "    <tr>\n",
       "      <th>2024-12-07</th>\n",
       "      <td>7614.172076</td>\n",
       "      <td>-2106.875372</td>\n",
       "      <td>1257.920801</td>\n",
       "      <td>13970.423351</td>\n",
       "      <td>17335.219523</td>\n",
       "    </tr>\n",
       "    <tr>\n",
       "      <th>2024-12-14</th>\n",
       "      <td>10402.961418</td>\n",
       "      <td>681.779404</td>\n",
       "      <td>4046.622155</td>\n",
       "      <td>16759.300681</td>\n",
       "      <td>20124.143432</td>\n",
       "    </tr>\n",
       "    <tr>\n",
       "      <th>2024-12-21</th>\n",
       "      <td>15839.832240</td>\n",
       "      <td>6108.567047</td>\n",
       "      <td>9476.899941</td>\n",
       "      <td>22202.764539</td>\n",
       "      <td>25571.097433</td>\n",
       "    </tr>\n",
       "    <tr>\n",
       "      <th>2024-12-28</th>\n",
       "      <td>21782.601185</td>\n",
       "      <td>12031.056311</td>\n",
       "      <td>15406.408715</td>\n",
       "      <td>28158.793656</td>\n",
       "      <td>31534.146060</td>\n",
       "    </tr>\n",
       "    <tr>\n",
       "      <th>2025-01-04</th>\n",
       "      <td>19621.907465</td>\n",
       "      <td>9844.874807</td>\n",
       "      <td>13229.049429</td>\n",
       "      <td>26014.765501</td>\n",
       "      <td>29398.940123</td>\n",
       "    </tr>\n",
       "  </tbody>\n",
       "</table>\n",
       "</div>"
      ],
      "text/plain": [
       "               AutoARIMA  AutoARIMA-lo-95  AutoARIMA-lo-80  AutoARIMA-hi-80  \\\n",
       "ds                                                                            \n",
       "2024-10-12    383.998980     -1982.982987     -1163.687339      1931.685299   \n",
       "2024-10-19    796.517150     -3982.220056     -2328.131158      3921.165457   \n",
       "2024-10-26   1073.144269     -5523.660859     -3240.274756      5386.563294   \n",
       "2024-11-02   1664.699805     -6352.350005     -3577.367302      6906.766912   \n",
       "2024-11-09   2565.893663     -6323.677849     -3246.684720      8378.472046   \n",
       "2024-11-16   3424.095156     -5979.267323     -2724.433083      9572.623395   \n",
       "2024-11-23   4405.934220     -5223.014355     -1890.096838     10701.965279   \n",
       "2024-11-30   6045.026627     -3664.348865      -303.592766     12393.646021   \n",
       "2024-12-07   7614.172076     -2106.875372      1257.920801     13970.423351   \n",
       "2024-12-14  10402.961418       681.779404      4046.622155     16759.300681   \n",
       "2024-12-21  15839.832240      6108.567047      9476.899941     22202.764539   \n",
       "2024-12-28  21782.601185     12031.056311     15406.408715     28158.793656   \n",
       "2025-01-04  19621.907465      9844.874807     13229.049429     26014.765501   \n",
       "\n",
       "            AutoARIMA-hi-95  \n",
       "ds                           \n",
       "2024-10-12      2750.980947  \n",
       "2024-10-19      5575.254355  \n",
       "2024-10-26      7669.949397  \n",
       "2024-11-02      9681.749614  \n",
       "2024-11-09     11455.465175  \n",
       "2024-11-16     12827.457635  \n",
       "2024-11-23     14034.882795  \n",
       "2024-11-30     15754.402120  \n",
       "2024-12-07     17335.219523  \n",
       "2024-12-14     20124.143432  \n",
       "2024-12-21     25571.097433  \n",
       "2024-12-28     31534.146060  \n",
       "2025-01-04     29398.940123  "
      ]
     },
     "execution_count": 100,
     "metadata": {},
     "output_type": "execute_result"
    }
   ],
   "source": [
    "Processor.forecast"
   ]
  },
  {
   "cell_type": "code",
   "execution_count": 101,
   "id": "374c8859-7387-4850-a588-926c55e54868",
   "metadata": {
    "tags": []
   },
   "outputs": [],
   "source": [
    "Processor.create_metrics()"
   ]
  },
  {
   "cell_type": "code",
   "execution_count": 102,
   "id": "e4a15851-07e8-4a1b-8b46-f2fb13c6fd26",
   "metadata": {
    "tags": []
   },
   "outputs": [],
   "source": [
    "Processor.create_metrics_df()"
   ]
  },
  {
   "cell_type": "code",
   "execution_count": 103,
   "id": "ca2e1337-278c-4226-8669-3500925df47d",
   "metadata": {
    "tags": []
   },
   "outputs": [
    {
     "data": {
      "text/html": [
       "<div>\n",
       "<style scoped>\n",
       "    .dataframe tbody tr th:only-of-type {\n",
       "        vertical-align: middle;\n",
       "    }\n",
       "\n",
       "    .dataframe tbody tr th {\n",
       "        vertical-align: top;\n",
       "    }\n",
       "\n",
       "    .dataframe thead th {\n",
       "        text-align: right;\n",
       "    }\n",
       "</style>\n",
       "<table border=\"1\" class=\"dataframe\">\n",
       "  <thead>\n",
       "    <tr style=\"text-align: right;\">\n",
       "      <th></th>\n",
       "      <th>Reference Date</th>\n",
       "      <th>MAE</th>\n",
       "      <th>MSE</th>\n",
       "      <th>MAPE</th>\n",
       "      <th>NMSE</th>\n",
       "    </tr>\n",
       "  </thead>\n",
       "  <tbody>\n",
       "    <tr>\n",
       "      <th>0</th>\n",
       "      <td>2024-10-05</td>\n",
       "      <td>2573.959878</td>\n",
       "      <td>3.167417e+07</td>\n",
       "      <td>0.303089</td>\n",
       "      <td>0.241388</td>\n",
       "    </tr>\n",
       "  </tbody>\n",
       "</table>\n",
       "</div>"
      ],
      "text/plain": [
       "  Reference Date          MAE           MSE      MAPE      NMSE\n",
       "0     2024-10-05  2573.959878  3.167417e+07  0.303089  0.241388"
      ]
     },
     "execution_count": 103,
     "metadata": {},
     "output_type": "execute_result"
    }
   ],
   "source": [
    "Processor.metrics_df"
   ]
  },
  {
   "cell_type": "code",
   "execution_count": 104,
   "id": "78efb7d6-c255-4bcf-84f7-ae56b0544062",
   "metadata": {
    "tags": []
   },
   "outputs": [],
   "source": [
    "Processor.create_display_df()"
   ]
  },
  {
   "cell_type": "code",
   "execution_count": 105,
   "id": "77230c08-f33c-4284-82e7-cee3fc9c41a7",
   "metadata": {
    "tags": []
   },
   "outputs": [
    {
     "data": {
      "text/html": [
       "<div>\n",
       "<style scoped>\n",
       "    .dataframe tbody tr th:only-of-type {\n",
       "        vertical-align: middle;\n",
       "    }\n",
       "\n",
       "    .dataframe tbody tr th {\n",
       "        vertical-align: top;\n",
       "    }\n",
       "\n",
       "    .dataframe thead th {\n",
       "        text-align: right;\n",
       "    }\n",
       "</style>\n",
       "<table border=\"1\" class=\"dataframe\">\n",
       "  <thead>\n",
       "    <tr style=\"text-align: right;\">\n",
       "      <th></th>\n",
       "      <th>Reference Date</th>\n",
       "      <th>Target End Date</th>\n",
       "      <th>Quantile</th>\n",
       "      <th>Prediction</th>\n",
       "    </tr>\n",
       "  </thead>\n",
       "  <tbody>\n",
       "    <tr>\n",
       "      <th>1</th>\n",
       "      <td>2024-10-05</td>\n",
       "      <td>2024-10-12</td>\n",
       "      <td>0.025</td>\n",
       "      <td>-1982.982987</td>\n",
       "    </tr>\n",
       "    <tr>\n",
       "      <th>2</th>\n",
       "      <td>2024-10-05</td>\n",
       "      <td>2024-10-12</td>\n",
       "      <td>0.100</td>\n",
       "      <td>-1163.687339</td>\n",
       "    </tr>\n",
       "    <tr>\n",
       "      <th>0</th>\n",
       "      <td>2024-10-05</td>\n",
       "      <td>2024-10-12</td>\n",
       "      <td>0.500</td>\n",
       "      <td>383.998980</td>\n",
       "    </tr>\n",
       "    <tr>\n",
       "      <th>3</th>\n",
       "      <td>2024-10-05</td>\n",
       "      <td>2024-10-12</td>\n",
       "      <td>0.900</td>\n",
       "      <td>1931.685299</td>\n",
       "    </tr>\n",
       "    <tr>\n",
       "      <th>4</th>\n",
       "      <td>2024-10-05</td>\n",
       "      <td>2024-10-12</td>\n",
       "      <td>0.975</td>\n",
       "      <td>2750.980947</td>\n",
       "    </tr>\n",
       "    <tr>\n",
       "      <th>...</th>\n",
       "      <td>...</td>\n",
       "      <td>...</td>\n",
       "      <td>...</td>\n",
       "      <td>...</td>\n",
       "    </tr>\n",
       "    <tr>\n",
       "      <th>61</th>\n",
       "      <td>2024-10-05</td>\n",
       "      <td>2025-01-04</td>\n",
       "      <td>0.025</td>\n",
       "      <td>9844.874807</td>\n",
       "    </tr>\n",
       "    <tr>\n",
       "      <th>62</th>\n",
       "      <td>2024-10-05</td>\n",
       "      <td>2025-01-04</td>\n",
       "      <td>0.100</td>\n",
       "      <td>13229.049429</td>\n",
       "    </tr>\n",
       "    <tr>\n",
       "      <th>60</th>\n",
       "      <td>2024-10-05</td>\n",
       "      <td>2025-01-04</td>\n",
       "      <td>0.500</td>\n",
       "      <td>19621.907465</td>\n",
       "    </tr>\n",
       "    <tr>\n",
       "      <th>63</th>\n",
       "      <td>2024-10-05</td>\n",
       "      <td>2025-01-04</td>\n",
       "      <td>0.900</td>\n",
       "      <td>26014.765501</td>\n",
       "    </tr>\n",
       "    <tr>\n",
       "      <th>64</th>\n",
       "      <td>2024-10-05</td>\n",
       "      <td>2025-01-04</td>\n",
       "      <td>0.975</td>\n",
       "      <td>29398.940123</td>\n",
       "    </tr>\n",
       "  </tbody>\n",
       "</table>\n",
       "<p>65 rows × 4 columns</p>\n",
       "</div>"
      ],
      "text/plain": [
       "   Reference Date Target End Date  Quantile    Prediction\n",
       "1      2024-10-05      2024-10-12     0.025  -1982.982987\n",
       "2      2024-10-05      2024-10-12     0.100  -1163.687339\n",
       "0      2024-10-05      2024-10-12     0.500    383.998980\n",
       "3      2024-10-05      2024-10-12     0.900   1931.685299\n",
       "4      2024-10-05      2024-10-12     0.975   2750.980947\n",
       "..            ...             ...       ...           ...\n",
       "61     2024-10-05      2025-01-04     0.025   9844.874807\n",
       "62     2024-10-05      2025-01-04     0.100  13229.049429\n",
       "60     2024-10-05      2025-01-04     0.500  19621.907465\n",
       "63     2024-10-05      2025-01-04     0.900  26014.765501\n",
       "64     2024-10-05      2025-01-04     0.975  29398.940123\n",
       "\n",
       "[65 rows x 4 columns]"
      ]
     },
     "execution_count": 105,
     "metadata": {},
     "output_type": "execute_result"
    }
   ],
   "source": [
    "Processor.display_df"
   ]
  },
  {
   "cell_type": "code",
   "execution_count": null,
   "id": "3eaddb76-cba7-498b-8bca-f9d3617eabc8",
   "metadata": {
    "tags": []
   },
   "outputs": [],
   "source": []
  },
  {
   "cell_type": "code",
   "execution_count": null,
   "id": "b8529d6d-562b-457b-882a-2fa06768fcbd",
   "metadata": {
    "tags": []
   },
   "outputs": [],
   "source": []
  },
  {
   "cell_type": "code",
   "execution_count": null,
   "id": "caf41874-c58c-4c73-9e5b-380e3e21fc80",
   "metadata": {
    "tags": []
   },
   "outputs": [],
   "source": []
  },
  {
   "cell_type": "code",
   "execution_count": null,
   "id": "077e4340-3b2f-4d66-bff7-e7c3f41e4ead",
   "metadata": {},
   "outputs": [],
   "source": []
  },
  {
   "cell_type": "code",
   "execution_count": null,
   "id": "030bedc6-de34-4bdb-81ee-6d2c8b90adab",
   "metadata": {},
   "outputs": [],
   "source": []
  },
  {
   "cell_type": "code",
   "execution_count": null,
   "id": "cbd479aa-1853-4c1b-8361-a5e7c5651e6b",
   "metadata": {},
   "outputs": [],
   "source": []
  },
  {
   "cell_type": "code",
   "execution_count": null,
   "id": "02f3baf4-7619-4f18-86a7-8803879b2d2f",
   "metadata": {},
   "outputs": [],
   "source": []
  },
  {
   "cell_type": "code",
   "execution_count": null,
   "id": "e5832323-b698-4753-9e0b-9439e92267de",
   "metadata": {},
   "outputs": [],
   "source": []
  },
  {
   "cell_type": "code",
   "execution_count": null,
   "id": "c193ea1b-68de-449d-b95d-a0333ba92199",
   "metadata": {
    "tags": []
   },
   "outputs": [],
   "source": []
  },
  {
   "cell_type": "code",
   "execution_count": null,
   "id": "a7dc6476-305c-488a-ae80-34f406c61844",
   "metadata": {},
   "outputs": [],
   "source": []
  },
  {
   "cell_type": "code",
   "execution_count": null,
   "id": "d9e56ce1-beaa-403c-8fbc-996d91df7cce",
   "metadata": {},
   "outputs": [],
   "source": []
  },
  {
   "cell_type": "code",
   "execution_count": null,
   "id": "981a9f6f-4c3b-48fb-a5b1-18cc03b7d90b",
   "metadata": {},
   "outputs": [],
   "source": []
  },
  {
   "cell_type": "code",
   "execution_count": null,
   "id": "8a3c4f48-4ada-4427-914f-66d14c7fd958",
   "metadata": {},
   "outputs": [],
   "source": []
  },
  {
   "cell_type": "code",
   "execution_count": null,
   "id": "3d1919b1-062b-44f7-921c-72bafa71e7f3",
   "metadata": {},
   "outputs": [],
   "source": []
  },
  {
   "cell_type": "code",
   "execution_count": null,
   "id": "1edb6053-501b-4962-b0a8-de17fef19d52",
   "metadata": {},
   "outputs": [],
   "source": []
  },
  {
   "cell_type": "code",
   "execution_count": null,
   "id": "c78ac5a6-044c-441f-b70d-257d21d84011",
   "metadata": {},
   "outputs": [],
   "source": []
  },
  {
   "cell_type": "code",
   "execution_count": null,
   "id": "f99fa251-ef78-42e9-8f26-95a27208eed8",
   "metadata": {},
   "outputs": [],
   "source": []
  },
  {
   "cell_type": "code",
   "execution_count": null,
   "id": "d0973270-e4aa-4f6c-8f89-b3c9f3a73809",
   "metadata": {},
   "outputs": [],
   "source": []
  },
  {
   "cell_type": "code",
   "execution_count": null,
   "id": "ffeee10d-8b04-4529-9902-d90384335124",
   "metadata": {},
   "outputs": [],
   "source": []
  },
  {
   "cell_type": "code",
   "execution_count": null,
   "id": "5b395d74-d4b5-4e37-90bc-dcbd3441bf6c",
   "metadata": {},
   "outputs": [],
   "source": []
  },
  {
   "cell_type": "code",
   "execution_count": 106,
   "id": "bec0e1e4-da19-47d7-b44a-c32fbb7b6295",
   "metadata": {
    "tags": []
   },
   "outputs": [],
   "source": [
    "class UpdatingARIMAProcessor:\n",
    "    def __init__(self, overall_df, dates):\n",
    "        self.overall_df = overall_df\n",
    "        self.overall_df_value_col = \"value\"\n",
    "        self.dates = dates\n",
    "        \n",
    "        self.dfs = []\n",
    "        self.sf = None\n",
    "        self.forecasts = []\n",
    "        self.plotting_df = pd.DataFrame()\n",
    "        \n",
    "        self.maes = []\n",
    "        self.mses = []\n",
    "        self.mapes = []\n",
    "        self.nmses = []\n",
    "        \n",
    "        self.metrics_df = pd.DataFrame(columns = [\"Reference Date\", \"MAE\", \"MSE\", \"MAPE\", \"NMSE\"])\n",
    "        self.display_df = pd.DataFrame(columns = [\"Reference Date\", \"Target End Date\", \"Quantile\", \"Prediction\"])\n",
    "        \n",
    "        self.color_mapping = {}\n",
    "    \n",
    "    def create_training_dfs(self, value_col):\n",
    "        self.overall_df_value_col = value_col\n",
    "        for date in self.dates:\n",
    "            df = self.overall_df.loc[:date]\n",
    "            df['ds'] = df.index\n",
    "            df[\"unique_id\"] = \"series_1\"\n",
    "            df = df.rename(columns = {value_col: \"y\"})\n",
    "            self.dfs.append(df)\n",
    "            \n",
    "    def create_models(self, h, freq, season_length, model_names, level = []):\n",
    "\n",
    "        self.sf = StatsForecast(models=[AutoARIMA(season_length=season_length)], freq = freq)\n",
    "      \n",
    "        for i in range(len(self.dfs)):\n",
    "            self.sf.fit(self.dfs[i])\n",
    "            fc = pd.DataFrame()\n",
    "            if not level:\n",
    "                fc = self.sf.predict(h = h)\n",
    "            else:\n",
    "                fc = self.sf.predict(h = h, level = level)\n",
    "            \n",
    "            fc.set_index(\"ds\", inplace = True)\n",
    "            fc.drop(columns = \"unique_id\", inplace = True)\n",
    "            self.forecasts.append(fc)\n",
    "            #self.sf.save(path = f\"./{self.model_type}/updating_models/{model_names[i]}.ckpt\")\n",
    "    \n",
    "    def generate_color_map(self, columns, cmap_name = \"viridis\"):\n",
    "        intervals = set()\n",
    "        for col in columns:\n",
    "            if col == \"AutoARIMA\":\n",
    "                continue\n",
    "            parts = col.split('-')\n",
    "            number = parts[-1]\n",
    "            intervals.add(number)\n",
    "        \n",
    "        intervals = sorted(intervals, key=int)\n",
    "        cmap = plt.cm.get_cmap(cmap_name)\n",
    "        \n",
    "        n = len(intervals)\n",
    "        if n > 0:\n",
    "            half = np.linspace(0.2, 0.45, n // 2, endpoint=True)[::-1]  # lower intervals\n",
    "            upper = np.linspace(0.55, 0.8, n - n // 2, endpoint=True)  # higher intervals\n",
    "            sample_points = np.concatenate([half, upper])\n",
    "        else:\n",
    "            sample_points = np.array([])  # just median\n",
    "        \n",
    "        median_value = np.median(sample_points)\n",
    "        \n",
    "        color_mapping = {}\n",
    "        color_mapping['AutoARIMA'] = mcolors.to_hex(cmap(median_value))  # center of the colormap\n",
    "        for interval, point in zip(intervals, sample_points):\n",
    "            color_mapping[interval] = mcolors.to_hex(cmap(point))\n",
    "    \n",
    "        return color_mapping\n",
    "    \n",
    "    \n",
    "    \n",
    "    \n",
    "    def create_graph(self):\n",
    "        if len(self.forecasts[0].columns) != 1:\n",
    "            self.color_mapping = self.generate_color_map(columns = self.forecasts[0].columns)\n",
    "                \n",
    "        \n",
    "        for i in range(len(self.forecasts)):\n",
    "            #Plot the overall Real Data\n",
    "            fig = go.Figure()\n",
    "            fig.add_trace(go.Scatter(x = self.overall_df.index, y = self.overall_df[self.overall_df_value_col], mode = \"lines\", name = \"Real Data\"))\n",
    "\n",
    "            \n",
    "            for col in self.forecasts[i].columns:\n",
    "                #Plot his first\n",
    "                if \"hi\" in col:\n",
    "                    number = col[-2:]\n",
    "                    fig.add_trace(go.Scatter(x = self.forecasts[i].index, y = self.forecasts[i][col], mode = \"lines\", name = col, \n",
    "                                             line = dict(color = self.color_mapping[number])))\n",
    "            \n",
    "            for col in self.forecasts[i].columns:\n",
    "                #Lows will go to corresponding his\n",
    "                if \"lo\" in col:\n",
    "                    number = col[-2:]\n",
    "                    fig.add_trace(go.Scatter(x = self.forecasts[i].index, y = self.forecasts[i][col], mode = \"lines\", name = col, \n",
    "                                             fill = \"tonexty\", fillcolor = self.color_mapping[number], line = dict(color = self.color_mapping[number])))\n",
    "            for col in self.forecasts[i].columns:\n",
    "                if col == \"AutoARIMA\":\n",
    "                    fig.add_trace(go.Scatter(x = self.forecasts[i].index, y = self.forecasts[i][col], mode = \"lines\", name = col, \n",
    "                                             line = dict(color = self.color_mapping[\"AutoARIMA\"])))\n",
    "                    \n",
    "            fig.update_layout(title = f\"Updating Parameter ARIMA Predictions, {self.dates[i]}\", xaxis_title = \"Date\", yaxis_title = \"Count\", hovermode = \"x\")\n",
    "            fig.show()\n",
    "        \n",
    "    def calculate_metrics(self):\n",
    "        col_string = \"AutoARIMA\"\n",
    "      \n",
    "        for i in range(len(self.forecasts)):\n",
    "            mae = mean_absolute_error(self.overall_df[self.overall_df_value_col].loc[self.forecasts[i].index], self.forecasts[i][col_string])\n",
    "            mse = mean_squared_error(self.overall_df[self.overall_df_value_col].loc[self.forecasts[i].index], self.forecasts[i][col_string])\n",
    "            mape = mean_absolute_percentage_error(self.overall_df[self.overall_df_value_col].loc[self.forecasts[i].index], self.forecasts[i][col_string])\n",
    "            nmse = mse/np.var(self.overall_df[self.overall_df_value_col].loc[self.forecasts[i].index])\n",
    "            \n",
    "            self.maes.append(mae)\n",
    "            self.mses.append(mse)\n",
    "            self.mapes.append(mape)\n",
    "            self.nmses.append(nmse)\n",
    "    \n",
    "    def create_metrics_df(self):\n",
    "        for i in range(len(self.dates)):\n",
    "            self.metrics_df.loc[len(self.metrics_df)] = [self.dates[i], self.maes[i], self.mses[i], self.mapes[i], self.nmses[i]]\n",
    "    \n",
    "    def create_display_df(self):\n",
    "        for i in range(len(self.forecasts)):\n",
    "            for index, row in self.forecasts[i].iterrows():\n",
    "                reference_date = self.dates[i]\n",
    "                target_end_date = index\n",
    "                \n",
    "                for col in self.forecasts[i].columns:\n",
    "                    value = self.forecasts[i].loc[target_end_date, col]\n",
    "                    if \"lo\" in col:\n",
    "                        number = int (col[-2:])\n",
    "                        alpha = 1 - (number / 100)\n",
    "                        quantile = alpha / 2\n",
    "                        self.display_df.loc[len(self.display_df)] = [reference_date, target_end_date, quantile, value]\n",
    "\n",
    "                    if col == \"AutoARIMA\":\n",
    "                        quantile = 0.5\n",
    "                        self.display_df.loc[len(self.display_df)] = [reference_date, target_end_date, quantile, value]\n",
    "\n",
    "                    elif \"hi\" in col:\n",
    "                        number = int (col[-2:])\n",
    "                        alpha = 1 - (number / 100)\n",
    "                        quantile = 1 - (alpha / 2)\n",
    "                        self.display_df.loc[len(self.display_df)] = [reference_date, target_end_date, quantile, value]\n",
    "                \n",
    "        self.display_df.sort_values(by = [\"Reference Date\", \"Target End Date\", \"Quantile\"], inplace = True)"
   ]
  },
  {
   "cell_type": "code",
   "execution_count": null,
   "id": "4e39a3f8-0717-427f-a8e4-2ed9304d8734",
   "metadata": {},
   "outputs": [],
   "source": []
  },
  {
   "cell_type": "code",
   "execution_count": 107,
   "id": "5626d5b5-6dd2-44e0-8d38-71bf4ef2a8be",
   "metadata": {
    "tags": []
   },
   "outputs": [],
   "source": [
    "updated_df = pd.read_csv(\"https://raw.githubusercontent.com/cdcepi/FluSight-forecast-hub/refs/heads/main/target-data/target-hospital-admissions.csv\")"
   ]
  },
  {
   "cell_type": "code",
   "execution_count": 108,
   "id": "0d1830a6-5703-44b5-8ebe-316d1b293632",
   "metadata": {
    "tags": []
   },
   "outputs": [],
   "source": [
    "updated_df = updated_df[updated_df[\"location_name\"] == \"US\"]\n",
    "updated_df = updated_df[[\"date\", \"value\"]]\n",
    "updated_df[\"date\"] = pd.to_datetime(updated_df[\"date\"])\n",
    "updated_df.set_index(\"date\", inplace = True)\n",
    "updated_df.sort_values(by = \"date\", inplace = True)"
   ]
  },
  {
   "cell_type": "code",
   "execution_count": 109,
   "id": "aaa541d1-90d0-427d-b202-edc1da7b1ef6",
   "metadata": {
    "tags": []
   },
   "outputs": [],
   "source": [
    "UProcessor = UpdatingARIMAProcessor(overall_df = updated_df, dates = [\"2024-10-05\", \"2024-10-19\", \"2024-11-02\", \"2024-11-16\", \"2024-12-07\"])"
   ]
  },
  {
   "cell_type": "code",
   "execution_count": 110,
   "id": "b71d6f9f-98d0-4f79-bd1c-dc81cd515ab1",
   "metadata": {
    "tags": []
   },
   "outputs": [],
   "source": [
    "UProcessor.create_training_dfs(value_col = \"value\")"
   ]
  },
  {
   "cell_type": "code",
   "execution_count": 111,
   "id": "8bacffe1-79c6-4e84-b2cc-69007a10b998",
   "metadata": {
    "tags": []
   },
   "outputs": [],
   "source": [
    "UProcessor.create_models(h = 4, freq = \"W-SAT\", season_length = 52, model_names = [\"test1\", \"test2\", \"test3\", \"test4\", \"test5\"], level = [80, 95])"
   ]
  },
  {
   "cell_type": "code",
   "execution_count": 112,
   "id": "5f953c1b-2842-42d7-930e-a16f3b079447",
   "metadata": {
    "tags": []
   },
   "outputs": [
    {
     "data": {
      "text/html": [
       "<div>\n",
       "<style scoped>\n",
       "    .dataframe tbody tr th:only-of-type {\n",
       "        vertical-align: middle;\n",
       "    }\n",
       "\n",
       "    .dataframe tbody tr th {\n",
       "        vertical-align: top;\n",
       "    }\n",
       "\n",
       "    .dataframe thead th {\n",
       "        text-align: right;\n",
       "    }\n",
       "</style>\n",
       "<table border=\"1\" class=\"dataframe\">\n",
       "  <thead>\n",
       "    <tr style=\"text-align: right;\">\n",
       "      <th></th>\n",
       "      <th>AutoARIMA</th>\n",
       "      <th>AutoARIMA-lo-95</th>\n",
       "      <th>AutoARIMA-lo-80</th>\n",
       "      <th>AutoARIMA-hi-80</th>\n",
       "      <th>AutoARIMA-hi-95</th>\n",
       "    </tr>\n",
       "    <tr>\n",
       "      <th>ds</th>\n",
       "      <th></th>\n",
       "      <th></th>\n",
       "      <th></th>\n",
       "      <th></th>\n",
       "      <th></th>\n",
       "    </tr>\n",
       "  </thead>\n",
       "  <tbody>\n",
       "    <tr>\n",
       "      <th>2024-12-14</th>\n",
       "      <td>9953.066616</td>\n",
       "      <td>7667.588449</td>\n",
       "      <td>8458.672767</td>\n",
       "      <td>11447.460466</td>\n",
       "      <td>12238.544783</td>\n",
       "    </tr>\n",
       "    <tr>\n",
       "      <th>2024-12-21</th>\n",
       "      <td>15703.619151</td>\n",
       "      <td>11134.809135</td>\n",
       "      <td>12716.234855</td>\n",
       "      <td>18691.003448</td>\n",
       "      <td>20272.429168</td>\n",
       "    </tr>\n",
       "    <tr>\n",
       "      <th>2024-12-28</th>\n",
       "      <td>22121.642361</td>\n",
       "      <td>15821.785613</td>\n",
       "      <td>18002.387445</td>\n",
       "      <td>26240.897276</td>\n",
       "      <td>28421.499108</td>\n",
       "    </tr>\n",
       "    <tr>\n",
       "      <th>2025-01-04</th>\n",
       "      <td>20052.087016</td>\n",
       "      <td>12406.389117</td>\n",
       "      <td>15052.833872</td>\n",
       "      <td>25051.340161</td>\n",
       "      <td>27697.784916</td>\n",
       "    </tr>\n",
       "  </tbody>\n",
       "</table>\n",
       "</div>"
      ],
      "text/plain": [
       "               AutoARIMA  AutoARIMA-lo-95  AutoARIMA-lo-80  AutoARIMA-hi-80  \\\n",
       "ds                                                                            \n",
       "2024-12-14   9953.066616      7667.588449      8458.672767     11447.460466   \n",
       "2024-12-21  15703.619151     11134.809135     12716.234855     18691.003448   \n",
       "2024-12-28  22121.642361     15821.785613     18002.387445     26240.897276   \n",
       "2025-01-04  20052.087016     12406.389117     15052.833872     25051.340161   \n",
       "\n",
       "            AutoARIMA-hi-95  \n",
       "ds                           \n",
       "2024-12-14     12238.544783  \n",
       "2024-12-21     20272.429168  \n",
       "2024-12-28     28421.499108  \n",
       "2025-01-04     27697.784916  "
      ]
     },
     "execution_count": 112,
     "metadata": {},
     "output_type": "execute_result"
    }
   ],
   "source": [
    "UProcessor.forecasts[4]"
   ]
  },
  {
   "cell_type": "code",
   "execution_count": 113,
   "id": "5d760e6c-be04-4ae8-ba00-625f8cc2007b",
   "metadata": {
    "tags": []
   },
   "outputs": [
    {
     "name": "stderr",
     "output_type": "stream",
     "text": [
      "/tmp/ipykernel_126897/87466587.py:58: MatplotlibDeprecationWarning:\n",
      "\n",
      "The get_cmap function was deprecated in Matplotlib 3.7 and will be removed two minor releases later. Use ``matplotlib.colormaps[name]`` or ``matplotlib.colormaps.get_cmap(obj)`` instead.\n",
      "\n"
     ]
    },
    {
     "data": {
      "application/vnd.plotly.v1+json": {
       "config": {
        "plotlyServerURL": "https://plot.ly"
       },
       "data": [
        {
         "mode": "lines",
         "name": "Real Data",
         "type": "scatter",
         "x": [
          "2022-02-05T00:00:00",
          "2022-02-12T00:00:00",
          "2022-02-19T00:00:00",
          "2022-02-26T00:00:00",
          "2022-03-05T00:00:00",
          "2022-03-12T00:00:00",
          "2022-03-19T00:00:00",
          "2022-03-26T00:00:00",
          "2022-04-02T00:00:00",
          "2022-04-09T00:00:00",
          "2022-04-16T00:00:00",
          "2022-04-23T00:00:00",
          "2022-04-30T00:00:00",
          "2022-05-07T00:00:00",
          "2022-05-14T00:00:00",
          "2022-05-21T00:00:00",
          "2022-05-28T00:00:00",
          "2022-06-04T00:00:00",
          "2022-06-11T00:00:00",
          "2022-06-18T00:00:00",
          "2022-06-25T00:00:00",
          "2022-07-02T00:00:00",
          "2022-07-09T00:00:00",
          "2022-07-16T00:00:00",
          "2022-07-23T00:00:00",
          "2022-07-30T00:00:00",
          "2022-08-06T00:00:00",
          "2022-08-13T00:00:00",
          "2022-08-20T00:00:00",
          "2022-08-27T00:00:00",
          "2022-09-03T00:00:00",
          "2022-09-10T00:00:00",
          "2022-09-17T00:00:00",
          "2022-09-24T00:00:00",
          "2022-10-01T00:00:00",
          "2022-10-08T00:00:00",
          "2022-10-15T00:00:00",
          "2022-10-22T00:00:00",
          "2022-10-29T00:00:00",
          "2022-11-05T00:00:00",
          "2022-11-12T00:00:00",
          "2022-11-19T00:00:00",
          "2022-11-26T00:00:00",
          "2022-12-03T00:00:00",
          "2022-12-10T00:00:00",
          "2022-12-17T00:00:00",
          "2022-12-24T00:00:00",
          "2022-12-31T00:00:00",
          "2023-01-07T00:00:00",
          "2023-01-14T00:00:00",
          "2023-01-21T00:00:00",
          "2023-01-28T00:00:00",
          "2023-02-04T00:00:00",
          "2023-02-11T00:00:00",
          "2023-02-18T00:00:00",
          "2023-02-25T00:00:00",
          "2023-03-04T00:00:00",
          "2023-03-11T00:00:00",
          "2023-03-18T00:00:00",
          "2023-03-25T00:00:00",
          "2023-04-01T00:00:00",
          "2023-04-08T00:00:00",
          "2023-04-15T00:00:00",
          "2023-04-22T00:00:00",
          "2023-04-29T00:00:00",
          "2023-05-06T00:00:00",
          "2023-05-13T00:00:00",
          "2023-05-20T00:00:00",
          "2023-05-27T00:00:00",
          "2023-06-03T00:00:00",
          "2023-06-10T00:00:00",
          "2023-06-17T00:00:00",
          "2023-06-24T00:00:00",
          "2023-07-01T00:00:00",
          "2023-07-08T00:00:00",
          "2023-07-15T00:00:00",
          "2023-07-22T00:00:00",
          "2023-07-29T00:00:00",
          "2023-08-05T00:00:00",
          "2023-08-12T00:00:00",
          "2023-08-19T00:00:00",
          "2023-08-26T00:00:00",
          "2023-09-02T00:00:00",
          "2023-09-09T00:00:00",
          "2023-09-16T00:00:00",
          "2023-09-23T00:00:00",
          "2023-09-30T00:00:00",
          "2023-10-07T00:00:00",
          "2023-10-14T00:00:00",
          "2023-10-21T00:00:00",
          "2023-10-28T00:00:00",
          "2023-11-04T00:00:00",
          "2023-11-11T00:00:00",
          "2023-11-18T00:00:00",
          "2023-11-25T00:00:00",
          "2023-12-02T00:00:00",
          "2023-12-09T00:00:00",
          "2023-12-16T00:00:00",
          "2023-12-23T00:00:00",
          "2023-12-30T00:00:00",
          "2024-01-06T00:00:00",
          "2024-01-13T00:00:00",
          "2024-01-20T00:00:00",
          "2024-01-27T00:00:00",
          "2024-02-03T00:00:00",
          "2024-02-10T00:00:00",
          "2024-02-17T00:00:00",
          "2024-02-24T00:00:00",
          "2024-03-02T00:00:00",
          "2024-03-09T00:00:00",
          "2024-03-16T00:00:00",
          "2024-03-23T00:00:00",
          "2024-03-30T00:00:00",
          "2024-04-06T00:00:00",
          "2024-04-13T00:00:00",
          "2024-04-20T00:00:00",
          "2024-04-27T00:00:00",
          "2024-05-04T00:00:00",
          "2024-05-11T00:00:00",
          "2024-05-18T00:00:00",
          "2024-05-25T00:00:00",
          "2024-06-01T00:00:00",
          "2024-06-08T00:00:00",
          "2024-06-15T00:00:00",
          "2024-06-22T00:00:00",
          "2024-06-29T00:00:00",
          "2024-07-06T00:00:00",
          "2024-07-13T00:00:00",
          "2024-07-20T00:00:00",
          "2024-07-27T00:00:00",
          "2024-08-03T00:00:00",
          "2024-08-10T00:00:00",
          "2024-08-17T00:00:00",
          "2024-08-24T00:00:00",
          "2024-08-31T00:00:00",
          "2024-09-07T00:00:00",
          "2024-09-14T00:00:00",
          "2024-09-21T00:00:00",
          "2024-09-28T00:00:00",
          "2024-10-05T00:00:00",
          "2024-10-12T00:00:00",
          "2024-10-19T00:00:00",
          "2024-10-26T00:00:00",
          "2024-11-02T00:00:00",
          "2024-11-09T00:00:00",
          "2024-11-16T00:00:00",
          "2024-11-23T00:00:00",
          "2024-11-30T00:00:00",
          "2024-12-07T00:00:00",
          "2024-12-14T00:00:00",
          "2024-12-21T00:00:00",
          "2024-12-28T00:00:00",
          "2025-01-04T00:00:00",
          "2025-01-11T00:00:00",
          "2025-01-18T00:00:00",
          "2025-01-25T00:00:00",
          "2025-02-01T00:00:00",
          "2025-02-08T00:00:00",
          "2025-02-15T00:00:00",
          "2025-02-22T00:00:00",
          "2025-03-01T00:00:00",
          "2025-03-08T00:00:00",
          "2025-03-15T00:00:00",
          "2025-03-22T00:00:00",
          "2025-03-29T00:00:00",
          "2025-04-05T00:00:00"
         ],
         "y": [
          1091,
          1164,
          1493,
          1603,
          1791,
          2097,
          2625,
          2918,
          3008,
          3149,
          3308,
          3474,
          3182,
          3175,
          3119,
          3133,
          2738,
          2678,
          2210,
          1776,
          1366,
          1073,
          776,
          766,
          628,
          522,
          486,
          490,
          483,
          483,
          545,
          576,
          665,
          796,
          921,
          1316,
          1674,
          2292,
          4184,
          6408,
          8594,
          10971,
          18177,
          26834,
          24036,
          21612,
          19631,
          19479,
          14074,
          7185,
          4489,
          3091,
          2596,
          2177,
          1908,
          1647,
          1503,
          1372,
          1415,
          1331,
          1295,
          1198,
          1077,
          982,
          903,
          994,
          980,
          1116,
          974,
          939,
          935,
          873,
          813,
          836,
          699,
          736,
          645,
          771,
          690,
          706,
          738,
          793,
          875,
          804,
          821,
          881,
          1026,
          1110,
          1215,
          1470,
          1614,
          2014,
          2775,
          3491,
          4386,
          5955,
          7497,
          10273,
          15722,
          21682,
          19548,
          15905,
          13303,
          13025,
          11964,
          11629,
          11126,
          10870,
          10814,
          9416,
          7324,
          6049,
          5574,
          5071,
          4073,
          2943,
          2420,
          1485,
          852,
          682,
          611,
          591,
          511,
          518,
          441,
          356,
          342,
          367,
          325,
          273,
          275,
          275,
          275,
          274,
          262,
          223,
          319,
          293,
          223,
          287,
          295,
          553,
          1084,
          977,
          2081,
          2535,
          3099,
          4297,
          6307,
          9192,
          15467,
          27748,
          38767,
          30796,
          33020,
          40682,
          51337,
          54374,
          46244,
          37881,
          30807,
          23956,
          18384,
          13600,
          9597,
          6273
         ]
        },
        {
         "line": {
          "color": "#414487"
         },
         "mode": "lines",
         "name": "AutoARIMA-hi-80",
         "type": "scatter",
         "x": [
          "2024-10-12T00:00:00",
          "2024-10-19T00:00:00",
          "2024-10-26T00:00:00",
          "2024-11-02T00:00:00"
         ],
         "y": [
          1931.6852994533392,
          3921.1654573881583,
          5386.563294091741,
          6906.7669119278635
         ]
        },
        {
         "line": {
          "color": "#1e9c89"
         },
         "mode": "lines",
         "name": "AutoARIMA-hi-95",
         "type": "scatter",
         "x": [
          "2024-10-12T00:00:00",
          "2024-10-19T00:00:00",
          "2024-10-26T00:00:00",
          "2024-11-02T00:00:00"
         ],
         "y": [
          2750.9809469706843,
          5575.254355377956,
          7669.9493970341755,
          9681.749614367198
         ]
        },
        {
         "fill": "tonexty",
         "fillcolor": "#1e9c89",
         "line": {
          "color": "#1e9c89"
         },
         "mode": "lines",
         "name": "AutoARIMA-lo-95",
         "type": "scatter",
         "x": [
          "2024-10-12T00:00:00",
          "2024-10-19T00:00:00",
          "2024-10-26T00:00:00",
          "2024-11-02T00:00:00"
         ],
         "y": [
          -1982.982986655893,
          -3982.220055506248,
          -5523.660859078873,
          -6352.350004729471
         ]
        },
        {
         "fill": "tonexty",
         "fillcolor": "#414487",
         "line": {
          "color": "#414487"
         },
         "mode": "lines",
         "name": "AutoARIMA-lo-80",
         "type": "scatter",
         "x": [
          "2024-10-12T00:00:00",
          "2024-10-19T00:00:00",
          "2024-10-26T00:00:00",
          "2024-11-02T00:00:00"
         ],
         "y": [
          -1163.6873391385475,
          -2328.1311575164505,
          -3240.2747561364386,
          -3577.3673022901353
         ]
        },
        {
         "line": {
          "color": "#2c728e"
         },
         "mode": "lines",
         "name": "AutoARIMA",
         "type": "scatter",
         "x": [
          "2024-10-12T00:00:00",
          "2024-10-19T00:00:00",
          "2024-10-26T00:00:00",
          "2024-11-02T00:00:00"
         ],
         "y": [
          383.99898015739575,
          796.5171499358539,
          1073.1442689776516,
          1664.6998048188639
         ]
        }
       ],
       "layout": {
        "autosize": true,
        "hovermode": "x",
        "template": {
         "data": {
          "bar": [
           {
            "error_x": {
             "color": "#2a3f5f"
            },
            "error_y": {
             "color": "#2a3f5f"
            },
            "marker": {
             "line": {
              "color": "#E5ECF6",
              "width": 0.5
             },
             "pattern": {
              "fillmode": "overlay",
              "size": 10,
              "solidity": 0.2
             }
            },
            "type": "bar"
           }
          ],
          "barpolar": [
           {
            "marker": {
             "line": {
              "color": "#E5ECF6",
              "width": 0.5
             },
             "pattern": {
              "fillmode": "overlay",
              "size": 10,
              "solidity": 0.2
             }
            },
            "type": "barpolar"
           }
          ],
          "carpet": [
           {
            "aaxis": {
             "endlinecolor": "#2a3f5f",
             "gridcolor": "white",
             "linecolor": "white",
             "minorgridcolor": "white",
             "startlinecolor": "#2a3f5f"
            },
            "baxis": {
             "endlinecolor": "#2a3f5f",
             "gridcolor": "white",
             "linecolor": "white",
             "minorgridcolor": "white",
             "startlinecolor": "#2a3f5f"
            },
            "type": "carpet"
           }
          ],
          "choropleth": [
           {
            "colorbar": {
             "outlinewidth": 0,
             "ticks": ""
            },
            "type": "choropleth"
           }
          ],
          "contour": [
           {
            "colorbar": {
             "outlinewidth": 0,
             "ticks": ""
            },
            "colorscale": [
             [
              0,
              "#0d0887"
             ],
             [
              0.1111111111111111,
              "#46039f"
             ],
             [
              0.2222222222222222,
              "#7201a8"
             ],
             [
              0.3333333333333333,
              "#9c179e"
             ],
             [
              0.4444444444444444,
              "#bd3786"
             ],
             [
              0.5555555555555556,
              "#d8576b"
             ],
             [
              0.6666666666666666,
              "#ed7953"
             ],
             [
              0.7777777777777778,
              "#fb9f3a"
             ],
             [
              0.8888888888888888,
              "#fdca26"
             ],
             [
              1,
              "#f0f921"
             ]
            ],
            "type": "contour"
           }
          ],
          "contourcarpet": [
           {
            "colorbar": {
             "outlinewidth": 0,
             "ticks": ""
            },
            "type": "contourcarpet"
           }
          ],
          "heatmap": [
           {
            "colorbar": {
             "outlinewidth": 0,
             "ticks": ""
            },
            "colorscale": [
             [
              0,
              "#0d0887"
             ],
             [
              0.1111111111111111,
              "#46039f"
             ],
             [
              0.2222222222222222,
              "#7201a8"
             ],
             [
              0.3333333333333333,
              "#9c179e"
             ],
             [
              0.4444444444444444,
              "#bd3786"
             ],
             [
              0.5555555555555556,
              "#d8576b"
             ],
             [
              0.6666666666666666,
              "#ed7953"
             ],
             [
              0.7777777777777778,
              "#fb9f3a"
             ],
             [
              0.8888888888888888,
              "#fdca26"
             ],
             [
              1,
              "#f0f921"
             ]
            ],
            "type": "heatmap"
           }
          ],
          "heatmapgl": [
           {
            "colorbar": {
             "outlinewidth": 0,
             "ticks": ""
            },
            "colorscale": [
             [
              0,
              "#0d0887"
             ],
             [
              0.1111111111111111,
              "#46039f"
             ],
             [
              0.2222222222222222,
              "#7201a8"
             ],
             [
              0.3333333333333333,
              "#9c179e"
             ],
             [
              0.4444444444444444,
              "#bd3786"
             ],
             [
              0.5555555555555556,
              "#d8576b"
             ],
             [
              0.6666666666666666,
              "#ed7953"
             ],
             [
              0.7777777777777778,
              "#fb9f3a"
             ],
             [
              0.8888888888888888,
              "#fdca26"
             ],
             [
              1,
              "#f0f921"
             ]
            ],
            "type": "heatmapgl"
           }
          ],
          "histogram": [
           {
            "marker": {
             "pattern": {
              "fillmode": "overlay",
              "size": 10,
              "solidity": 0.2
             }
            },
            "type": "histogram"
           }
          ],
          "histogram2d": [
           {
            "colorbar": {
             "outlinewidth": 0,
             "ticks": ""
            },
            "colorscale": [
             [
              0,
              "#0d0887"
             ],
             [
              0.1111111111111111,
              "#46039f"
             ],
             [
              0.2222222222222222,
              "#7201a8"
             ],
             [
              0.3333333333333333,
              "#9c179e"
             ],
             [
              0.4444444444444444,
              "#bd3786"
             ],
             [
              0.5555555555555556,
              "#d8576b"
             ],
             [
              0.6666666666666666,
              "#ed7953"
             ],
             [
              0.7777777777777778,
              "#fb9f3a"
             ],
             [
              0.8888888888888888,
              "#fdca26"
             ],
             [
              1,
              "#f0f921"
             ]
            ],
            "type": "histogram2d"
           }
          ],
          "histogram2dcontour": [
           {
            "colorbar": {
             "outlinewidth": 0,
             "ticks": ""
            },
            "colorscale": [
             [
              0,
              "#0d0887"
             ],
             [
              0.1111111111111111,
              "#46039f"
             ],
             [
              0.2222222222222222,
              "#7201a8"
             ],
             [
              0.3333333333333333,
              "#9c179e"
             ],
             [
              0.4444444444444444,
              "#bd3786"
             ],
             [
              0.5555555555555556,
              "#d8576b"
             ],
             [
              0.6666666666666666,
              "#ed7953"
             ],
             [
              0.7777777777777778,
              "#fb9f3a"
             ],
             [
              0.8888888888888888,
              "#fdca26"
             ],
             [
              1,
              "#f0f921"
             ]
            ],
            "type": "histogram2dcontour"
           }
          ],
          "mesh3d": [
           {
            "colorbar": {
             "outlinewidth": 0,
             "ticks": ""
            },
            "type": "mesh3d"
           }
          ],
          "parcoords": [
           {
            "line": {
             "colorbar": {
              "outlinewidth": 0,
              "ticks": ""
             }
            },
            "type": "parcoords"
           }
          ],
          "pie": [
           {
            "automargin": true,
            "type": "pie"
           }
          ],
          "scatter": [
           {
            "fillpattern": {
             "fillmode": "overlay",
             "size": 10,
             "solidity": 0.2
            },
            "type": "scatter"
           }
          ],
          "scatter3d": [
           {
            "line": {
             "colorbar": {
              "outlinewidth": 0,
              "ticks": ""
             }
            },
            "marker": {
             "colorbar": {
              "outlinewidth": 0,
              "ticks": ""
             }
            },
            "type": "scatter3d"
           }
          ],
          "scattercarpet": [
           {
            "marker": {
             "colorbar": {
              "outlinewidth": 0,
              "ticks": ""
             }
            },
            "type": "scattercarpet"
           }
          ],
          "scattergeo": [
           {
            "marker": {
             "colorbar": {
              "outlinewidth": 0,
              "ticks": ""
             }
            },
            "type": "scattergeo"
           }
          ],
          "scattergl": [
           {
            "marker": {
             "colorbar": {
              "outlinewidth": 0,
              "ticks": ""
             }
            },
            "type": "scattergl"
           }
          ],
          "scattermapbox": [
           {
            "marker": {
             "colorbar": {
              "outlinewidth": 0,
              "ticks": ""
             }
            },
            "type": "scattermapbox"
           }
          ],
          "scatterpolar": [
           {
            "marker": {
             "colorbar": {
              "outlinewidth": 0,
              "ticks": ""
             }
            },
            "type": "scatterpolar"
           }
          ],
          "scatterpolargl": [
           {
            "marker": {
             "colorbar": {
              "outlinewidth": 0,
              "ticks": ""
             }
            },
            "type": "scatterpolargl"
           }
          ],
          "scatterternary": [
           {
            "marker": {
             "colorbar": {
              "outlinewidth": 0,
              "ticks": ""
             }
            },
            "type": "scatterternary"
           }
          ],
          "surface": [
           {
            "colorbar": {
             "outlinewidth": 0,
             "ticks": ""
            },
            "colorscale": [
             [
              0,
              "#0d0887"
             ],
             [
              0.1111111111111111,
              "#46039f"
             ],
             [
              0.2222222222222222,
              "#7201a8"
             ],
             [
              0.3333333333333333,
              "#9c179e"
             ],
             [
              0.4444444444444444,
              "#bd3786"
             ],
             [
              0.5555555555555556,
              "#d8576b"
             ],
             [
              0.6666666666666666,
              "#ed7953"
             ],
             [
              0.7777777777777778,
              "#fb9f3a"
             ],
             [
              0.8888888888888888,
              "#fdca26"
             ],
             [
              1,
              "#f0f921"
             ]
            ],
            "type": "surface"
           }
          ],
          "table": [
           {
            "cells": {
             "fill": {
              "color": "#EBF0F8"
             },
             "line": {
              "color": "white"
             }
            },
            "header": {
             "fill": {
              "color": "#C8D4E3"
             },
             "line": {
              "color": "white"
             }
            },
            "type": "table"
           }
          ]
         },
         "layout": {
          "annotationdefaults": {
           "arrowcolor": "#2a3f5f",
           "arrowhead": 0,
           "arrowwidth": 1
          },
          "autotypenumbers": "strict",
          "coloraxis": {
           "colorbar": {
            "outlinewidth": 0,
            "ticks": ""
           }
          },
          "colorscale": {
           "diverging": [
            [
             0,
             "#8e0152"
            ],
            [
             0.1,
             "#c51b7d"
            ],
            [
             0.2,
             "#de77ae"
            ],
            [
             0.3,
             "#f1b6da"
            ],
            [
             0.4,
             "#fde0ef"
            ],
            [
             0.5,
             "#f7f7f7"
            ],
            [
             0.6,
             "#e6f5d0"
            ],
            [
             0.7,
             "#b8e186"
            ],
            [
             0.8,
             "#7fbc41"
            ],
            [
             0.9,
             "#4d9221"
            ],
            [
             1,
             "#276419"
            ]
           ],
           "sequential": [
            [
             0,
             "#0d0887"
            ],
            [
             0.1111111111111111,
             "#46039f"
            ],
            [
             0.2222222222222222,
             "#7201a8"
            ],
            [
             0.3333333333333333,
             "#9c179e"
            ],
            [
             0.4444444444444444,
             "#bd3786"
            ],
            [
             0.5555555555555556,
             "#d8576b"
            ],
            [
             0.6666666666666666,
             "#ed7953"
            ],
            [
             0.7777777777777778,
             "#fb9f3a"
            ],
            [
             0.8888888888888888,
             "#fdca26"
            ],
            [
             1,
             "#f0f921"
            ]
           ],
           "sequentialminus": [
            [
             0,
             "#0d0887"
            ],
            [
             0.1111111111111111,
             "#46039f"
            ],
            [
             0.2222222222222222,
             "#7201a8"
            ],
            [
             0.3333333333333333,
             "#9c179e"
            ],
            [
             0.4444444444444444,
             "#bd3786"
            ],
            [
             0.5555555555555556,
             "#d8576b"
            ],
            [
             0.6666666666666666,
             "#ed7953"
            ],
            [
             0.7777777777777778,
             "#fb9f3a"
            ],
            [
             0.8888888888888888,
             "#fdca26"
            ],
            [
             1,
             "#f0f921"
            ]
           ]
          },
          "colorway": [
           "#636efa",
           "#EF553B",
           "#00cc96",
           "#ab63fa",
           "#FFA15A",
           "#19d3f3",
           "#FF6692",
           "#B6E880",
           "#FF97FF",
           "#FECB52"
          ],
          "font": {
           "color": "#2a3f5f"
          },
          "geo": {
           "bgcolor": "white",
           "lakecolor": "white",
           "landcolor": "#E5ECF6",
           "showlakes": true,
           "showland": true,
           "subunitcolor": "white"
          },
          "hoverlabel": {
           "align": "left"
          },
          "hovermode": "closest",
          "mapbox": {
           "style": "light"
          },
          "paper_bgcolor": "white",
          "plot_bgcolor": "#E5ECF6",
          "polar": {
           "angularaxis": {
            "gridcolor": "white",
            "linecolor": "white",
            "ticks": ""
           },
           "bgcolor": "#E5ECF6",
           "radialaxis": {
            "gridcolor": "white",
            "linecolor": "white",
            "ticks": ""
           }
          },
          "scene": {
           "xaxis": {
            "backgroundcolor": "#E5ECF6",
            "gridcolor": "white",
            "gridwidth": 2,
            "linecolor": "white",
            "showbackground": true,
            "ticks": "",
            "zerolinecolor": "white"
           },
           "yaxis": {
            "backgroundcolor": "#E5ECF6",
            "gridcolor": "white",
            "gridwidth": 2,
            "linecolor": "white",
            "showbackground": true,
            "ticks": "",
            "zerolinecolor": "white"
           },
           "zaxis": {
            "backgroundcolor": "#E5ECF6",
            "gridcolor": "white",
            "gridwidth": 2,
            "linecolor": "white",
            "showbackground": true,
            "ticks": "",
            "zerolinecolor": "white"
           }
          },
          "shapedefaults": {
           "line": {
            "color": "#2a3f5f"
           }
          },
          "ternary": {
           "aaxis": {
            "gridcolor": "white",
            "linecolor": "white",
            "ticks": ""
           },
           "baxis": {
            "gridcolor": "white",
            "linecolor": "white",
            "ticks": ""
           },
           "bgcolor": "#E5ECF6",
           "caxis": {
            "gridcolor": "white",
            "linecolor": "white",
            "ticks": ""
           }
          },
          "title": {
           "x": 0.05
          },
          "xaxis": {
           "automargin": true,
           "gridcolor": "white",
           "linecolor": "white",
           "ticks": "",
           "title": {
            "standoff": 15
           },
           "zerolinecolor": "white",
           "zerolinewidth": 2
          },
          "yaxis": {
           "automargin": true,
           "gridcolor": "white",
           "linecolor": "white",
           "ticks": "",
           "title": {
            "standoff": 15
           },
           "zerolinecolor": "white",
           "zerolinewidth": 2
          }
         }
        },
        "title": {
         "text": "Updating Parameter ARIMA Predictions, 2024-10-05"
        },
        "xaxis": {
         "autorange": true,
         "range": [
          "2022-02-05",
          "2025-04-05"
         ],
         "title": {
          "text": "Date"
         },
         "type": "date"
        },
        "yaxis": {
         "autorange": true,
         "range": [
          -9726.03611610333,
          57747.686111373856
         ],
         "title": {
          "text": "Count"
         },
         "type": "linear"
        }
       }
      },
      "image/png": "[encoded data removed]",
      "text/html": [
       "<div>                            <div id=\"0ee94839-4584-435a-8430-1e1673248bde\" class=\"plotly-graph-div\" style=\"height:525px; width:100%;\"></div>            <script type=\"text/javascript\">                require([\"plotly\"], function(Plotly) {                    window.PLOTLYENV=window.PLOTLYENV || {};                                    if (document.getElementById(\"0ee94839-4584-435a-8430-1e1673248bde\")) {                    Plotly.newPlot(                        \"0ee94839-4584-435a-8430-1e1673248bde\",                        [{\"mode\":\"lines\",\"name\":\"Real Data\",\"x\":[\"2022-02-05T00:00:00\",\"2022-02-12T00:00:00\",\"2022-02-19T00:00:00\",\"2022-02-26T00:00:00\",\"2022-03-05T00:00:00\",\"2022-03-12T00:00:00\",\"2022-03-19T00:00:00\",\"2022-03-26T00:00:00\",\"2022-04-02T00:00:00\",\"2022-04-09T00:00:00\",\"2022-04-16T00:00:00\",\"2022-04-23T00:00:00\",\"2022-04-30T00:00:00\",\"2022-05-07T00:00:00\",\"2022-05-14T00:00:00\",\"2022-05-21T00:00:00\",\"2022-05-28T00:00:00\",\"2022-06-04T00:00:00\",\"2022-06-11T00:00:00\",\"2022-06-18T00:00:00\",\"2022-06-25T00:00:00\",\"2022-07-02T00:00:00\",\"2022-07-09T00:00:00\",\"2022-07-16T00:00:00\",\"2022-07-23T00:00:00\",\"2022-07-30T00:00:00\",\"2022-08-06T00:00:00\",\"2022-08-13T00:00:00\",\"2022-08-20T00:00:00\",\"2022-08-27T00:00:00\",\"2022-09-03T00:00:00\",\"2022-09-10T00:00:00\",\"2022-09-17T00:00:00\",\"2022-09-24T00:00:00\",\"2022-10-01T00:00:00\",\"2022-10-08T00:00:00\",\"2022-10-15T00:00:00\",\"2022-10-22T00:00:00\",\"2022-10-29T00:00:00\",\"2022-11-05T00:00:00\",\"2022-11-12T00:00:00\",\"2022-11-19T00:00:00\",\"2022-11-26T00:00:00\",\"2022-12-03T00:00:00\",\"2022-12-10T00:00:00\",\"2022-12-17T00:00:00\",\"2022-12-24T00:00:00\",\"2022-12-31T00:00:00\",\"2023-01-07T00:00:00\",\"2023-01-14T00:00:00\",\"2023-01-21T00:00:00\",\"2023-01-28T00:00:00\",\"2023-02-04T00:00:00\",\"2023-02-11T00:00:00\",\"2023-02-18T00:00:00\",\"2023-02-25T00:00:00\",\"2023-03-04T00:00:00\",\"2023-03-11T00:00:00\",\"2023-03-18T00:00:00\",\"2023-03-25T00:00:00\",\"2023-04-01T00:00:00\",\"2023-04-08T00:00:00\",\"2023-04-15T00:00:00\",\"2023-04-22T00:00:00\",\"2023-04-29T00:00:00\",\"2023-05-06T00:00:00\",\"2023-05-13T00:00:00\",\"2023-05-20T00:00:00\",\"2023-05-27T00:00:00\",\"2023-06-03T00:00:00\",\"2023-06-10T00:00:00\",\"2023-06-17T00:00:00\",\"2023-06-24T00:00:00\",\"2023-07-01T00:00:00\",\"2023-07-08T00:00:00\",\"2023-07-15T00:00:00\",\"2023-07-22T00:00:00\",\"2023-07-29T00:00:00\",\"2023-08-05T00:00:00\",\"2023-08-12T00:00:00\",\"2023-08-19T00:00:00\",\"2023-08-26T00:00:00\",\"2023-09-02T00:00:00\",\"2023-09-09T00:00:00\",\"2023-09-16T00:00:00\",\"2023-09-23T00:00:00\",\"2023-09-30T00:00:00\",\"2023-10-07T00:00:00\",\"2023-10-14T00:00:00\",\"2023-10-21T00:00:00\",\"2023-10-28T00:00:00\",\"2023-11-04T00:00:00\",\"2023-11-11T00:00:00\",\"2023-11-18T00:00:00\",\"2023-11-25T00:00:00\",\"2023-12-02T00:00:00\",\"2023-12-09T00:00:00\",\"2023-12-16T00:00:00\",\"2023-12-23T00:00:00\",\"2023-12-30T00:00:00\",\"2024-01-06T00:00:00\",\"2024-01-13T00:00:00\",\"2024-01-20T00:00:00\",\"2024-01-27T00:00:00\",\"2024-02-03T00:00:00\",\"2024-02-10T00:00:00\",\"2024-02-17T00:00:00\",\"2024-02-24T00:00:00\",\"2024-03-02T00:00:00\",\"2024-03-09T00:00:00\",\"2024-03-16T00:00:00\",\"2024-03-23T00:00:00\",\"2024-03-30T00:00:00\",\"2024-04-06T00:00:00\",\"2024-04-13T00:00:00\",\"2024-04-20T00:00:00\",\"2024-04-27T00:00:00\",\"2024-05-04T00:00:00\",\"2024-05-11T00:00:00\",\"2024-05-18T00:00:00\",\"2024-05-25T00:00:00\",\"2024-06-01T00:00:00\",\"2024-06-08T00:00:00\",\"2024-06-15T00:00:00\",\"2024-06-22T00:00:00\",\"2024-06-29T00:00:00\",\"2024-07-06T00:00:00\",\"2024-07-13T00:00:00\",\"2024-07-20T00:00:00\",\"2024-07-27T00:00:00\",\"2024-08-03T00:00:00\",\"2024-08-10T00:00:00\",\"2024-08-17T00:00:00\",\"2024-08-24T00:00:00\",\"2024-08-31T00:00:00\",\"2024-09-07T00:00:00\",\"2024-09-14T00:00:00\",\"2024-09-21T00:00:00\",\"2024-09-28T00:00:00\",\"2024-10-05T00:00:00\",\"2024-10-12T00:00:00\",\"2024-10-19T00:00:00\",\"2024-10-26T00:00:00\",\"2024-11-02T00:00:00\",\"2024-11-09T00:00:00\",\"2024-11-16T00:00:00\",\"2024-11-23T00:00:00\",\"2024-11-30T00:00:00\",\"2024-12-07T00:00:00\",\"2024-12-14T00:00:00\",\"2024-12-21T00:00:00\",\"2024-12-28T00:00:00\",\"2025-01-04T00:00:00\",\"2025-01-11T00:00:00\",\"2025-01-18T00:00:00\",\"2025-01-25T00:00:00\",\"2025-02-01T00:00:00\",\"2025-02-08T00:00:00\",\"2025-02-15T00:00:00\",\"2025-02-22T00:00:00\",\"2025-03-01T00:00:00\",\"2025-03-08T00:00:00\",\"2025-03-15T00:00:00\",\"2025-03-22T00:00:00\",\"2025-03-29T00:00:00\",\"2025-04-05T00:00:00\"],\"y\":[1091.0,1164.0,1493.0,1603.0,1791.0,2097.0,2625.0,2918.0,3008.0,3149.0,3308.0,3474.0,3182.0,3175.0,3119.0,3133.0,2738.0,2678.0,2210.0,1776.0,1366.0,1073.0,776.0,766.0,628.0,522.0,486.0,490.0,483.0,483.0,545.0,576.0,665.0,796.0,921.0,1316.0,1674.0,2292.0,4184.0,6408.0,8594.0,10971.0,18177.0,26834.0,24036.0,21612.0,19631.0,19479.0,14074.0,7185.0,4489.0,3091.0,2596.0,2177.0,1908.0,1647.0,1503.0,1372.0,1415.0,1331.0,1295.0,1198.0,1077.0,982.0,903.0,994.0,980.0,1116.0,974.0,939.0,935.0,873.0,813.0,836.0,699.0,736.0,645.0,771.0,690.0,706.0,738.0,793.0,875.0,804.0,821.0,881.0,1026.0,1110.0,1215.0,1470.0,1614.0,2014.0,2775.0,3491.0,4386.0,5955.0,7497.0,10273.0,15722.0,21682.0,19548.0,15905.0,13303.0,13025.0,11964.0,11629.0,11126.0,10870.0,10814.0,9416.0,7324.0,6049.0,5574.0,5071.0,4073.0,2943.0,2420.0,1485.0,852.0,682.0,611.0,591.0,511.0,518.0,441.0,356.0,342.0,367.0,325.0,273.0,275.0,275.0,275.0,274.0,262.0,223.0,319.0,293.0,223.0,287.0,295.0,553.0,1084.0,977.0,2081.0,2535.0,3099.0,4297.0,6307.0,9192.0,15467.0,27748.0,38767.0,30796.0,33020.0,40682.0,51337.0,54374.0,46244.0,37881.0,30807.0,23956.0,18384.0,13600.0,9597.0,6273.0],\"type\":\"scatter\"},{\"line\":{\"color\":\"#414487\"},\"mode\":\"lines\",\"name\":\"AutoARIMA-hi-80\",\"x\":[\"2024-10-12T00:00:00\",\"2024-10-19T00:00:00\",\"2024-10-26T00:00:00\",\"2024-11-02T00:00:00\"],\"y\":[1931.6852994533392,3921.1654573881583,5386.563294091741,6906.7669119278635],\"type\":\"scatter\"},{\"line\":{\"color\":\"#1e9c89\"},\"mode\":\"lines\",\"name\":\"AutoARIMA-hi-95\",\"x\":[\"2024-10-12T00:00:00\",\"2024-10-19T00:00:00\",\"2024-10-26T00:00:00\",\"2024-11-02T00:00:00\"],\"y\":[2750.9809469706843,5575.254355377956,7669.9493970341755,9681.749614367198],\"type\":\"scatter\"},{\"fill\":\"tonexty\",\"fillcolor\":\"#1e9c89\",\"line\":{\"color\":\"#1e9c89\"},\"mode\":\"lines\",\"name\":\"AutoARIMA-lo-95\",\"x\":[\"2024-10-12T00:00:00\",\"2024-10-19T00:00:00\",\"2024-10-26T00:00:00\",\"2024-11-02T00:00:00\"],\"y\":[-1982.982986655893,-3982.220055506248,-5523.660859078873,-6352.350004729471],\"type\":\"scatter\"},{\"fill\":\"tonexty\",\"fillcolor\":\"#414487\",\"line\":{\"color\":\"#414487\"},\"mode\":\"lines\",\"name\":\"AutoARIMA-lo-80\",\"x\":[\"2024-10-12T00:00:00\",\"2024-10-19T00:00:00\",\"2024-10-26T00:00:00\",\"2024-11-02T00:00:00\"],\"y\":[-1163.6873391385475,-2328.1311575164505,-3240.2747561364386,-3577.3673022901353],\"type\":\"scatter\"},{\"line\":{\"color\":\"#2c728e\"},\"mode\":\"lines\",\"name\":\"AutoARIMA\",\"x\":[\"2024-10-12T00:00:00\",\"2024-10-19T00:00:00\",\"2024-10-26T00:00:00\",\"2024-11-02T00:00:00\"],\"y\":[383.99898015739575,796.5171499358539,1073.1442689776516,1664.6998048188639],\"type\":\"scatter\"}],                        {\"template\":{\"data\":{\"histogram2dcontour\":[{\"type\":\"histogram2dcontour\",\"colorbar\":{\"outlinewidth\":0,\"ticks\":\"\"},\"colorscale\":[[0.0,\"#0d0887\"],[0.1111111111111111,\"#46039f\"],[0.2222222222222222,\"#7201a8\"],[0.3333333333333333,\"#9c179e\"],[0.4444444444444444,\"#bd3786\"],[0.5555555555555556,\"#d8576b\"],[0.6666666666666666,\"#ed7953\"],[0.7777777777777778,\"#fb9f3a\"],[0.8888888888888888,\"#fdca26\"],[1.0,\"#f0f921\"]]}],\"choropleth\":[{\"type\":\"choropleth\",\"colorbar\":{\"outlinewidth\":0,\"ticks\":\"\"}}],\"histogram2d\":[{\"type\":\"histogram2d\",\"colorbar\":{\"outlinewidth\":0,\"ticks\":\"\"},\"colorscale\":[[0.0,\"#0d0887\"],[0.1111111111111111,\"#46039f\"],[0.2222222222222222,\"#7201a8\"],[0.3333333333333333,\"#9c179e\"],[0.4444444444444444,\"#bd3786\"],[0.5555555555555556,\"#d8576b\"],[0.6666666666666666,\"#ed7953\"],[0.7777777777777778,\"#fb9f3a\"],[0.8888888888888888,\"#fdca26\"],[1.0,\"#f0f921\"]]}],\"heatmap\":[{\"type\":\"heatmap\",\"colorbar\":{\"outlinewidth\":0,\"ticks\":\"\"},\"colorscale\":[[0.0,\"#0d0887\"],[0.1111111111111111,\"#46039f\"],[0.2222222222222222,\"#7201a8\"],[0.3333333333333333,\"#9c179e\"],[0.4444444444444444,\"#bd3786\"],[0.5555555555555556,\"#d8576b\"],[0.6666666666666666,\"#ed7953\"],[0.7777777777777778,\"#fb9f3a\"],[0.8888888888888888,\"#fdca26\"],[1.0,\"#f0f921\"]]}],\"heatmapgl\":[{\"type\":\"heatmapgl\",\"colorbar\":{\"outlinewidth\":0,\"ticks\":\"\"},\"colorscale\":[[0.0,\"#0d0887\"],[0.1111111111111111,\"#46039f\"],[0.2222222222222222,\"#7201a8\"],[0.3333333333333333,\"#9c179e\"],[0.4444444444444444,\"#bd3786\"],[0.5555555555555556,\"#d8576b\"],[0.6666666666666666,\"#ed7953\"],[0.7777777777777778,\"#fb9f3a\"],[0.8888888888888888,\"#fdca26\"],[1.0,\"#f0f921\"]]}],\"contourcarpet\":[{\"type\":\"contourcarpet\",\"colorbar\":{\"outlinewidth\":0,\"ticks\":\"\"}}],\"contour\":[{\"type\":\"contour\",\"colorbar\":{\"outlinewidth\":0,\"ticks\":\"\"},\"colorscale\":[[0.0,\"#0d0887\"],[0.1111111111111111,\"#46039f\"],[0.2222222222222222,\"#7201a8\"],[0.3333333333333333,\"#9c179e\"],[0.4444444444444444,\"#bd3786\"],[0.5555555555555556,\"#d8576b\"],[0.6666666666666666,\"#ed7953\"],[0.7777777777777778,\"#fb9f3a\"],[0.8888888888888888,\"#fdca26\"],[1.0,\"#f0f921\"]]}],\"surface\":[{\"type\":\"surface\",\"colorbar\":{\"outlinewidth\":0,\"ticks\":\"\"},\"colorscale\":[[0.0,\"#0d0887\"],[0.1111111111111111,\"#46039f\"],[0.2222222222222222,\"#7201a8\"],[0.3333333333333333,\"#9c179e\"],[0.4444444444444444,\"#bd3786\"],[0.5555555555555556,\"#d8576b\"],[0.6666666666666666,\"#ed7953\"],[0.7777777777777778,\"#fb9f3a\"],[0.8888888888888888,\"#fdca26\"],[1.0,\"#f0f921\"]]}],\"mesh3d\":[{\"type\":\"mesh3d\",\"colorbar\":{\"outlinewidth\":0,\"ticks\":\"\"}}],\"scatter\":[{\"fillpattern\":{\"fillmode\":\"overlay\",\"size\":10,\"solidity\":0.2},\"type\":\"scatter\"}],\"parcoords\":[{\"type\":\"parcoords\",\"line\":{\"colorbar\":{\"outlinewidth\":0,\"ticks\":\"\"}}}],\"scatterpolargl\":[{\"type\":\"scatterpolargl\",\"marker\":{\"colorbar\":{\"outlinewidth\":0,\"ticks\":\"\"}}}],\"bar\":[{\"error_x\":{\"color\":\"#2a3f5f\"},\"error_y\":{\"color\":\"#2a3f5f\"},\"marker\":{\"line\":{\"color\":\"#E5ECF6\",\"width\":0.5},\"pattern\":{\"fillmode\":\"overlay\",\"size\":10,\"solidity\":0.2}},\"type\":\"bar\"}],\"scattergeo\":[{\"type\":\"scattergeo\",\"marker\":{\"colorbar\":{\"outlinewidth\":0,\"ticks\":\"\"}}}],\"scatterpolar\":[{\"type\":\"scatterpolar\",\"marker\":{\"colorbar\":{\"outlinewidth\":0,\"ticks\":\"\"}}}],\"histogram\":[{\"marker\":{\"pattern\":{\"fillmode\":\"overlay\",\"size\":10,\"solidity\":0.2}},\"type\":\"histogram\"}],\"scattergl\":[{\"type\":\"scattergl\",\"marker\":{\"colorbar\":{\"outlinewidth\":0,\"ticks\":\"\"}}}],\"scatter3d\":[{\"type\":\"scatter3d\",\"line\":{\"colorbar\":{\"outlinewidth\":0,\"ticks\":\"\"}},\"marker\":{\"colorbar\":{\"outlinewidth\":0,\"ticks\":\"\"}}}],\"scattermapbox\":[{\"type\":\"scattermapbox\",\"marker\":{\"colorbar\":{\"outlinewidth\":0,\"ticks\":\"\"}}}],\"scatterternary\":[{\"type\":\"scatterternary\",\"marker\":{\"colorbar\":{\"outlinewidth\":0,\"ticks\":\"\"}}}],\"scattercarpet\":[{\"type\":\"scattercarpet\",\"marker\":{\"colorbar\":{\"outlinewidth\":0,\"ticks\":\"\"}}}],\"carpet\":[{\"aaxis\":{\"endlinecolor\":\"#2a3f5f\",\"gridcolor\":\"white\",\"linecolor\":\"white\",\"minorgridcolor\":\"white\",\"startlinecolor\":\"#2a3f5f\"},\"baxis\":{\"endlinecolor\":\"#2a3f5f\",\"gridcolor\":\"white\",\"linecolor\":\"white\",\"minorgridcolor\":\"white\",\"startlinecolor\":\"#2a3f5f\"},\"type\":\"carpet\"}],\"table\":[{\"cells\":{\"fill\":{\"color\":\"#EBF0F8\"},\"line\":{\"color\":\"white\"}},\"header\":{\"fill\":{\"color\":\"#C8D4E3\"},\"line\":{\"color\":\"white\"}},\"type\":\"table\"}],\"barpolar\":[{\"marker\":{\"line\":{\"color\":\"#E5ECF6\",\"width\":0.5},\"pattern\":{\"fillmode\":\"overlay\",\"size\":10,\"solidity\":0.2}},\"type\":\"barpolar\"}],\"pie\":[{\"automargin\":true,\"type\":\"pie\"}]},\"layout\":{\"autotypenumbers\":\"strict\",\"colorway\":[\"#636efa\",\"#EF553B\",\"#00cc96\",\"#ab63fa\",\"#FFA15A\",\"#19d3f3\",\"#FF6692\",\"#B6E880\",\"#FF97FF\",\"#FECB52\"],\"font\":{\"color\":\"#2a3f5f\"},\"hovermode\":\"closest\",\"hoverlabel\":{\"align\":\"left\"},\"paper_bgcolor\":\"white\",\"plot_bgcolor\":\"#E5ECF6\",\"polar\":{\"bgcolor\":\"#E5ECF6\",\"angularaxis\":{\"gridcolor\":\"white\",\"linecolor\":\"white\",\"ticks\":\"\"},\"radialaxis\":{\"gridcolor\":\"white\",\"linecolor\":\"white\",\"ticks\":\"\"}},\"ternary\":{\"bgcolor\":\"#E5ECF6\",\"aaxis\":{\"gridcolor\":\"white\",\"linecolor\":\"white\",\"ticks\":\"\"},\"baxis\":{\"gridcolor\":\"white\",\"linecolor\":\"white\",\"ticks\":\"\"},\"caxis\":{\"gridcolor\":\"white\",\"linecolor\":\"white\",\"ticks\":\"\"}},\"coloraxis\":{\"colorbar\":{\"outlinewidth\":0,\"ticks\":\"\"}},\"colorscale\":{\"sequential\":[[0.0,\"#0d0887\"],[0.1111111111111111,\"#46039f\"],[0.2222222222222222,\"#7201a8\"],[0.3333333333333333,\"#9c179e\"],[0.4444444444444444,\"#bd3786\"],[0.5555555555555556,\"#d8576b\"],[0.6666666666666666,\"#ed7953\"],[0.7777777777777778,\"#fb9f3a\"],[0.8888888888888888,\"#fdca26\"],[1.0,\"#f0f921\"]],\"sequentialminus\":[[0.0,\"#0d0887\"],[0.1111111111111111,\"#46039f\"],[0.2222222222222222,\"#7201a8\"],[0.3333333333333333,\"#9c179e\"],[0.4444444444444444,\"#bd3786\"],[0.5555555555555556,\"#d8576b\"],[0.6666666666666666,\"#ed7953\"],[0.7777777777777778,\"#fb9f3a\"],[0.8888888888888888,\"#fdca26\"],[1.0,\"#f0f921\"]],\"diverging\":[[0,\"#8e0152\"],[0.1,\"#c51b7d\"],[0.2,\"#de77ae\"],[0.3,\"#f1b6da\"],[0.4,\"#fde0ef\"],[0.5,\"#f7f7f7\"],[0.6,\"#e6f5d0\"],[0.7,\"#b8e186\"],[0.8,\"#7fbc41\"],[0.9,\"#4d9221\"],[1,\"#276419\"]]},\"xaxis\":{\"gridcolor\":\"white\",\"linecolor\":\"white\",\"ticks\":\"\",\"title\":{\"standoff\":15},\"zerolinecolor\":\"white\",\"automargin\":true,\"zerolinewidth\":2},\"yaxis\":{\"gridcolor\":\"white\",\"linecolor\":\"white\",\"ticks\":\"\",\"title\":{\"standoff\":15},\"zerolinecolor\":\"white\",\"automargin\":true,\"zerolinewidth\":2},\"scene\":{\"xaxis\":{\"backgroundcolor\":\"#E5ECF6\",\"gridcolor\":\"white\",\"linecolor\":\"white\",\"showbackground\":true,\"ticks\":\"\",\"zerolinecolor\":\"white\",\"gridwidth\":2},\"yaxis\":{\"backgroundcolor\":\"#E5ECF6\",\"gridcolor\":\"white\",\"linecolor\":\"white\",\"showbackground\":true,\"ticks\":\"\",\"zerolinecolor\":\"white\",\"gridwidth\":2},\"zaxis\":{\"backgroundcolor\":\"#E5ECF6\",\"gridcolor\":\"white\",\"linecolor\":\"white\",\"showbackground\":true,\"ticks\":\"\",\"zerolinecolor\":\"white\",\"gridwidth\":2}},\"shapedefaults\":{\"line\":{\"color\":\"#2a3f5f\"}},\"annotationdefaults\":{\"arrowcolor\":\"#2a3f5f\",\"arrowhead\":0,\"arrowwidth\":1},\"geo\":{\"bgcolor\":\"white\",\"landcolor\":\"#E5ECF6\",\"subunitcolor\":\"white\",\"showland\":true,\"showlakes\":true,\"lakecolor\":\"white\"},\"title\":{\"x\":0.05},\"mapbox\":{\"style\":\"light\"}}},\"title\":{\"text\":\"Updating Parameter ARIMA Predictions, 2024-10-05\"},\"xaxis\":{\"title\":{\"text\":\"Date\"}},\"yaxis\":{\"title\":{\"text\":\"Count\"}},\"hovermode\":\"x\"},                        {\"responsive\": true}                    ).then(function(){\n",
       "                            \n",
       "var gd = document.getElementById('0ee94839-4584-435a-8430-1e1673248bde');\n",
       "var x = new MutationObserver(function (mutations, observer) {{\n",
       "        var display = window.getComputedStyle(gd).display;\n",
       "        if (!display || display === 'none') {{\n",
       "            console.log([gd, 'removed!']);\n",
       "            Plotly.purge(gd);\n",
       "            observer.disconnect();\n",
       "        }}\n",
       "}});\n",
       "\n",
       "// Listen for the removal of the full notebook cells\n",
       "var notebookContainer = gd.closest('#notebook-container');\n",
       "if (notebookContainer) {{\n",
       "    x.observe(notebookContainer, {childList: true});\n",
       "}}\n",
       "\n",
       "// Listen for the clearing of the current output cell\n",
       "var outputEl = gd.closest('.output');\n",
       "if (outputEl) {{\n",
       "    x.observe(outputEl, {childList: true});\n",
       "}}\n",
       "\n",
       "                        })                };                });            </script>        </div>"
      ]
     },
     "metadata": {},
     "output_type": "display_data"
    },
    {
     "data": {
      "application/vnd.plotly.v1+json": {
       "config": {
        "plotlyServerURL": "https://plot.ly"
       },
       "data": [
        {
         "mode": "lines",
         "name": "Real Data",
         "type": "scatter",
         "x": [
          "2022-02-05T00:00:00",
          "2022-02-12T00:00:00",
          "2022-02-19T00:00:00",
          "2022-02-26T00:00:00",
          "2022-03-05T00:00:00",
          "2022-03-12T00:00:00",
          "2022-03-19T00:00:00",
          "2022-03-26T00:00:00",
          "2022-04-02T00:00:00",
          "2022-04-09T00:00:00",
          "2022-04-16T00:00:00",
          "2022-04-23T00:00:00",
          "2022-04-30T00:00:00",
          "2022-05-07T00:00:00",
          "2022-05-14T00:00:00",
          "2022-05-21T00:00:00",
          "2022-05-28T00:00:00",
          "2022-06-04T00:00:00",
          "2022-06-11T00:00:00",
          "2022-06-18T00:00:00",
          "2022-06-25T00:00:00",
          "2022-07-02T00:00:00",
          "2022-07-09T00:00:00",
          "2022-07-16T00:00:00",
          "2022-07-23T00:00:00",
          "2022-07-30T00:00:00",
          "2022-08-06T00:00:00",
          "2022-08-13T00:00:00",
          "2022-08-20T00:00:00",
          "2022-08-27T00:00:00",
          "2022-09-03T00:00:00",
          "2022-09-10T00:00:00",
          "2022-09-17T00:00:00",
          "2022-09-24T00:00:00",
          "2022-10-01T00:00:00",
          "2022-10-08T00:00:00",
          "2022-10-15T00:00:00",
          "2022-10-22T00:00:00",
          "2022-10-29T00:00:00",
          "2022-11-05T00:00:00",
          "2022-11-12T00:00:00",
          "2022-11-19T00:00:00",
          "2022-11-26T00:00:00",
          "2022-12-03T00:00:00",
          "2022-12-10T00:00:00",
          "2022-12-17T00:00:00",
          "2022-12-24T00:00:00",
          "2022-12-31T00:00:00",
          "2023-01-07T00:00:00",
          "2023-01-14T00:00:00",
          "2023-01-21T00:00:00",
          "2023-01-28T00:00:00",
          "2023-02-04T00:00:00",
          "2023-02-11T00:00:00",
          "2023-02-18T00:00:00",
          "2023-02-25T00:00:00",
          "2023-03-04T00:00:00",
          "2023-03-11T00:00:00",
          "2023-03-18T00:00:00",
          "2023-03-25T00:00:00",
          "2023-04-01T00:00:00",
          "2023-04-08T00:00:00",
          "2023-04-15T00:00:00",
          "2023-04-22T00:00:00",
          "2023-04-29T00:00:00",
          "2023-05-06T00:00:00",
          "2023-05-13T00:00:00",
          "2023-05-20T00:00:00",
          "2023-05-27T00:00:00",
          "2023-06-03T00:00:00",
          "2023-06-10T00:00:00",
          "2023-06-17T00:00:00",
          "2023-06-24T00:00:00",
          "2023-07-01T00:00:00",
          "2023-07-08T00:00:00",
          "2023-07-15T00:00:00",
          "2023-07-22T00:00:00",
          "2023-07-29T00:00:00",
          "2023-08-05T00:00:00",
          "2023-08-12T00:00:00",
          "2023-08-19T00:00:00",
          "2023-08-26T00:00:00",
          "2023-09-02T00:00:00",
          "2023-09-09T00:00:00",
          "2023-09-16T00:00:00",
          "2023-09-23T00:00:00",
          "2023-09-30T00:00:00",
          "2023-10-07T00:00:00",
          "2023-10-14T00:00:00",
          "2023-10-21T00:00:00",
          "2023-10-28T00:00:00",
          "2023-11-04T00:00:00",
          "2023-11-11T00:00:00",
          "2023-11-18T00:00:00",
          "2023-11-25T00:00:00",
          "2023-12-02T00:00:00",
          "2023-12-09T00:00:00",
          "2023-12-16T00:00:00",
          "2023-12-23T00:00:00",
          "2023-12-30T00:00:00",
          "2024-01-06T00:00:00",
          "2024-01-13T00:00:00",
          "2024-01-20T00:00:00",
          "2024-01-27T00:00:00",
          "2024-02-03T00:00:00",
          "2024-02-10T00:00:00",
          "2024-02-17T00:00:00",
          "2024-02-24T00:00:00",
          "2024-03-02T00:00:00",
          "2024-03-09T00:00:00",
          "2024-03-16T00:00:00",
          "2024-03-23T00:00:00",
          "2024-03-30T00:00:00",
          "2024-04-06T00:00:00",
          "2024-04-13T00:00:00",
          "2024-04-20T00:00:00",
          "2024-04-27T00:00:00",
          "2024-05-04T00:00:00",
          "2024-05-11T00:00:00",
          "2024-05-18T00:00:00",
          "2024-05-25T00:00:00",
          "2024-06-01T00:00:00",
          "2024-06-08T00:00:00",
          "2024-06-15T00:00:00",
          "2024-06-22T00:00:00",
          "2024-06-29T00:00:00",
          "2024-07-06T00:00:00",
          "2024-07-13T00:00:00",
          "2024-07-20T00:00:00",
          "2024-07-27T00:00:00",
          "2024-08-03T00:00:00",
          "2024-08-10T00:00:00",
          "2024-08-17T00:00:00",
          "2024-08-24T00:00:00",
          "2024-08-31T00:00:00",
          "2024-09-07T00:00:00",
          "2024-09-14T00:00:00",
          "2024-09-21T00:00:00",
          "2024-09-28T00:00:00",
          "2024-10-05T00:00:00",
          "2024-10-12T00:00:00",
          "2024-10-19T00:00:00",
          "2024-10-26T00:00:00",
          "2024-11-02T00:00:00",
          "2024-11-09T00:00:00",
          "2024-11-16T00:00:00",
          "2024-11-23T00:00:00",
          "2024-11-30T00:00:00",
          "2024-12-07T00:00:00",
          "2024-12-14T00:00:00",
          "2024-12-21T00:00:00",
          "2024-12-28T00:00:00",
          "2025-01-04T00:00:00",
          "2025-01-11T00:00:00",
          "2025-01-18T00:00:00",
          "2025-01-25T00:00:00",
          "2025-02-01T00:00:00",
          "2025-02-08T00:00:00",
          "2025-02-15T00:00:00",
          "2025-02-22T00:00:00",
          "2025-03-01T00:00:00",
          "2025-03-08T00:00:00",
          "2025-03-15T00:00:00",
          "2025-03-22T00:00:00",
          "2025-03-29T00:00:00",
          "2025-04-05T00:00:00"
         ],
         "y": [
          1091,
          1164,
          1493,
          1603,
          1791,
          2097,
          2625,
          2918,
          3008,
          3149,
          3308,
          3474,
          3182,
          3175,
          3119,
          3133,
          2738,
          2678,
          2210,
          1776,
          1366,
          1073,
          776,
          766,
          628,
          522,
          486,
          490,
          483,
          483,
          545,
          576,
          665,
          796,
          921,
          1316,
          1674,
          2292,
          4184,
          6408,
          8594,
          10971,
          18177,
          26834,
          24036,
          21612,
          19631,
          19479,
          14074,
          7185,
          4489,
          3091,
          2596,
          2177,
          1908,
          1647,
          1503,
          1372,
          1415,
          1331,
          1295,
          1198,
          1077,
          982,
          903,
          994,
          980,
          1116,
          974,
          939,
          935,
          873,
          813,
          836,
          699,
          736,
          645,
          771,
          690,
          706,
          738,
          793,
          875,
          804,
          821,
          881,
          1026,
          1110,
          1215,
          1470,
          1614,
          2014,
          2775,
          3491,
          4386,
          5955,
          7497,
          10273,
          15722,
          21682,
          19548,
          15905,
          13303,
          13025,
          11964,
          11629,
          11126,
          10870,
          10814,
          9416,
          7324,
          6049,
          5574,
          5071,
          4073,
          2943,
          2420,
          1485,
          852,
          682,
          611,
          591,
          511,
          518,
          441,
          356,
          342,
          367,
          325,
          273,
          275,
          275,
          275,
          274,
          262,
          223,
          319,
          293,
          223,
          287,
          295,
          553,
          1084,
          977,
          2081,
          2535,
          3099,
          4297,
          6307,
          9192,
          15467,
          27748,
          38767,
          30796,
          33020,
          40682,
          51337,
          54374,
          46244,
          37881,
          30807,
          23956,
          18384,
          13600,
          9597,
          6273
         ]
        },
        {
         "line": {
          "color": "#414487"
         },
         "mode": "lines",
         "name": "AutoARIMA-hi-80",
         "type": "scatter",
         "x": [
          "2024-10-26T00:00:00",
          "2024-11-02T00:00:00",
          "2024-11-09T00:00:00",
          "2024-11-16T00:00:00"
         ],
         "y": [
          2278.442756487523,
          4413.700575741356,
          6516.573602747219,
          8348.458547983577
         ]
        },
        {
         "line": {
          "color": "#1e9c89"
         },
         "mode": "lines",
         "name": "AutoARIMA-hi-95",
         "type": "scatter",
         "x": [
          "2024-10-26T00:00:00",
          "2024-11-02T00:00:00",
          "2024-11-09T00:00:00",
          "2024-11-16T00:00:00"
         ],
         "y": [
          3088.2055326937693,
          6048.624271001305,
          8773.608399247734,
          11091.575297158346
         ]
        },
        {
         "fill": "tonexty",
         "fillcolor": "#1e9c89",
         "line": {
          "color": "#1e9c89"
         },
         "mode": "lines",
         "name": "AutoARIMA-lo-95",
         "type": "scatter",
         "x": [
          "2024-10-26T00:00:00",
          "2024-11-02T00:00:00",
          "2024-11-09T00:00:00",
          "2024-11-16T00:00:00"
         ],
         "y": [
          -1590.6766131710906,
          -3398.111874912652,
          -4267.74163837398,
          -4758.399978153266
         ]
        },
        {
         "fill": "tonexty",
         "fillcolor": "#414487",
         "line": {
          "color": "#414487"
         },
         "mode": "lines",
         "name": "AutoARIMA-lo-80",
         "type": "scatter",
         "x": [
          "2024-10-26T00:00:00",
          "2024-11-02T00:00:00",
          "2024-11-09T00:00:00",
          "2024-11-16T00:00:00"
         ],
         "y": [
          -780.9138369648447,
          -1763.1881796527032,
          -2010.7068418734648,
          -2015.2832289784965
         ]
        },
        {
         "line": {
          "color": "#2c728e"
         },
         "mode": "lines",
         "name": "AutoARIMA",
         "type": "scatter",
         "x": [
          "2024-10-26T00:00:00",
          "2024-11-02T00:00:00",
          "2024-11-09T00:00:00",
          "2024-11-16T00:00:00"
         ],
         "y": [
          748.7644597613394,
          1325.2561980443265,
          2252.9333804368775,
          3166.58765950254
         ]
        }
       ],
       "layout": {
        "autosize": true,
        "hovermode": "x",
        "template": {
         "data": {
          "bar": [
           {
            "error_x": {
             "color": "#2a3f5f"
            },
            "error_y": {
             "color": "#2a3f5f"
            },
            "marker": {
             "line": {
              "color": "#E5ECF6",
              "width": 0.5
             },
             "pattern": {
              "fillmode": "overlay",
              "size": 10,
              "solidity": 0.2
             }
            },
            "type": "bar"
           }
          ],
          "barpolar": [
           {
            "marker": {
             "line": {
              "color": "#E5ECF6",
              "width": 0.5
             },
             "pattern": {
              "fillmode": "overlay",
              "size": 10,
              "solidity": 0.2
             }
            },
            "type": "barpolar"
           }
          ],
          "carpet": [
           {
            "aaxis": {
             "endlinecolor": "#2a3f5f",
             "gridcolor": "white",
             "linecolor": "white",
             "minorgridcolor": "white",
             "startlinecolor": "#2a3f5f"
            },
            "baxis": {
             "endlinecolor": "#2a3f5f",
             "gridcolor": "white",
             "linecolor": "white",
             "minorgridcolor": "white",
             "startlinecolor": "#2a3f5f"
            },
            "type": "carpet"
           }
          ],
          "choropleth": [
           {
            "colorbar": {
             "outlinewidth": 0,
             "ticks": ""
            },
            "type": "choropleth"
           }
          ],
          "contour": [
           {
            "colorbar": {
             "outlinewidth": 0,
             "ticks": ""
            },
            "colorscale": [
             [
              0,
              "#0d0887"
             ],
             [
              0.1111111111111111,
              "#46039f"
             ],
             [
              0.2222222222222222,
              "#7201a8"
             ],
             [
              0.3333333333333333,
              "#9c179e"
             ],
             [
              0.4444444444444444,
              "#bd3786"
             ],
             [
              0.5555555555555556,
              "#d8576b"
             ],
             [
              0.6666666666666666,
              "#ed7953"
             ],
             [
              0.7777777777777778,
              "#fb9f3a"
             ],
             [
              0.8888888888888888,
              "#fdca26"
             ],
             [
              1,
              "#f0f921"
             ]
            ],
            "type": "contour"
           }
          ],
          "contourcarpet": [
           {
            "colorbar": {
             "outlinewidth": 0,
             "ticks": ""
            },
            "type": "contourcarpet"
           }
          ],
          "heatmap": [
           {
            "colorbar": {
             "outlinewidth": 0,
             "ticks": ""
            },
            "colorscale": [
             [
              0,
              "#0d0887"
             ],
             [
              0.1111111111111111,
              "#46039f"
             ],
             [
              0.2222222222222222,
              "#7201a8"
             ],
             [
              0.3333333333333333,
              "#9c179e"
             ],
             [
              0.4444444444444444,
              "#bd3786"
             ],
             [
              0.5555555555555556,
              "#d8576b"
             ],
             [
              0.6666666666666666,
              "#ed7953"
             ],
             [
              0.7777777777777778,
              "#fb9f3a"
             ],
             [
              0.8888888888888888,
              "#fdca26"
             ],
             [
              1,
              "#f0f921"
             ]
            ],
            "type": "heatmap"
           }
          ],
          "heatmapgl": [
           {
            "colorbar": {
             "outlinewidth": 0,
             "ticks": ""
            },
            "colorscale": [
             [
              0,
              "#0d0887"
             ],
             [
              0.1111111111111111,
              "#46039f"
             ],
             [
              0.2222222222222222,
              "#7201a8"
             ],
             [
              0.3333333333333333,
              "#9c179e"
             ],
             [
              0.4444444444444444,
              "#bd3786"
             ],
             [
              0.5555555555555556,
              "#d8576b"
             ],
             [
              0.6666666666666666,
              "#ed7953"
             ],
             [
              0.7777777777777778,
              "#fb9f3a"
             ],
             [
              0.8888888888888888,
              "#fdca26"
             ],
             [
              1,
              "#f0f921"
             ]
            ],
            "type": "heatmapgl"
           }
          ],
          "histogram": [
           {
            "marker": {
             "pattern": {
              "fillmode": "overlay",
              "size": 10,
              "solidity": 0.2
             }
            },
            "type": "histogram"
           }
          ],
          "histogram2d": [
           {
            "colorbar": {
             "outlinewidth": 0,
             "ticks": ""
            },
            "colorscale": [
             [
              0,
              "#0d0887"
             ],
             [
              0.1111111111111111,
              "#46039f"
             ],
             [
              0.2222222222222222,
              "#7201a8"
             ],
             [
              0.3333333333333333,
              "#9c179e"
             ],
             [
              0.4444444444444444,
              "#bd3786"
             ],
             [
              0.5555555555555556,
              "#d8576b"
             ],
             [
              0.6666666666666666,
              "#ed7953"
             ],
             [
              0.7777777777777778,
              "#fb9f3a"
             ],
             [
              0.8888888888888888,
              "#fdca26"
             ],
             [
              1,
              "#f0f921"
             ]
            ],
            "type": "histogram2d"
           }
          ],
          "histogram2dcontour": [
           {
            "colorbar": {
             "outlinewidth": 0,
             "ticks": ""
            },
            "colorscale": [
             [
              0,
              "#0d0887"
             ],
             [
              0.1111111111111111,
              "#46039f"
             ],
             [
              0.2222222222222222,
              "#7201a8"
             ],
             [
              0.3333333333333333,
              "#9c179e"
             ],
             [
              0.4444444444444444,
              "#bd3786"
             ],
             [
              0.5555555555555556,
              "#d8576b"
             ],
             [
              0.6666666666666666,
              "#ed7953"
             ],
             [
              0.7777777777777778,
              "#fb9f3a"
             ],
             [
              0.8888888888888888,
              "#fdca26"
             ],
             [
              1,
              "#f0f921"
             ]
            ],
            "type": "histogram2dcontour"
           }
          ],
          "mesh3d": [
           {
            "colorbar": {
             "outlinewidth": 0,
             "ticks": ""
            },
            "type": "mesh3d"
           }
          ],
          "parcoords": [
           {
            "line": {
             "colorbar": {
              "outlinewidth": 0,
              "ticks": ""
             }
            },
            "type": "parcoords"
           }
          ],
          "pie": [
           {
            "automargin": true,
            "type": "pie"
           }
          ],
          "scatter": [
           {
            "fillpattern": {
             "fillmode": "overlay",
             "size": 10,
             "solidity": 0.2
            },
            "type": "scatter"
           }
          ],
          "scatter3d": [
           {
            "line": {
             "colorbar": {
              "outlinewidth": 0,
              "ticks": ""
             }
            },
            "marker": {
             "colorbar": {
              "outlinewidth": 0,
              "ticks": ""
             }
            },
            "type": "scatter3d"
           }
          ],
          "scattercarpet": [
           {
            "marker": {
             "colorbar": {
              "outlinewidth": 0,
              "ticks": ""
             }
            },
            "type": "scattercarpet"
           }
          ],
          "scattergeo": [
           {
            "marker": {
             "colorbar": {
              "outlinewidth": 0,
              "ticks": ""
             }
            },
            "type": "scattergeo"
           }
          ],
          "scattergl": [
           {
            "marker": {
             "colorbar": {
              "outlinewidth": 0,
              "ticks": ""
             }
            },
            "type": "scattergl"
           }
          ],
          "scattermapbox": [
           {
            "marker": {
             "colorbar": {
              "outlinewidth": 0,
              "ticks": ""
             }
            },
            "type": "scattermapbox"
           }
          ],
          "scatterpolar": [
           {
            "marker": {
             "colorbar": {
              "outlinewidth": 0,
              "ticks": ""
             }
            },
            "type": "scatterpolar"
           }
          ],
          "scatterpolargl": [
           {
            "marker": {
             "colorbar": {
              "outlinewidth": 0,
              "ticks": ""
             }
            },
            "type": "scatterpolargl"
           }
          ],
          "scatterternary": [
           {
            "marker": {
             "colorbar": {
              "outlinewidth": 0,
              "ticks": ""
             }
            },
            "type": "scatterternary"
           }
          ],
          "surface": [
           {
            "colorbar": {
             "outlinewidth": 0,
             "ticks": ""
            },
            "colorscale": [
             [
              0,
              "#0d0887"
             ],
             [
              0.1111111111111111,
              "#46039f"
             ],
             [
              0.2222222222222222,
              "#7201a8"
             ],
             [
              0.3333333333333333,
              "#9c179e"
             ],
             [
              0.4444444444444444,
              "#bd3786"
             ],
             [
              0.5555555555555556,
              "#d8576b"
             ],
             [
              0.6666666666666666,
              "#ed7953"
             ],
             [
              0.7777777777777778,
              "#fb9f3a"
             ],
             [
              0.8888888888888888,
              "#fdca26"
             ],
             [
              1,
              "#f0f921"
             ]
            ],
            "type": "surface"
           }
          ],
          "table": [
           {
            "cells": {
             "fill": {
              "color": "#EBF0F8"
             },
             "line": {
              "color": "white"
             }
            },
            "header": {
             "fill": {
              "color": "#C8D4E3"
             },
             "line": {
              "color": "white"
             }
            },
            "type": "table"
           }
          ]
         },
         "layout": {
          "annotationdefaults": {
           "arrowcolor": "#2a3f5f",
           "arrowhead": 0,
           "arrowwidth": 1
          },
          "autotypenumbers": "strict",
          "coloraxis": {
           "colorbar": {
            "outlinewidth": 0,
            "ticks": ""
           }
          },
          "colorscale": {
           "diverging": [
            [
             0,
             "#8e0152"
            ],
            [
             0.1,
             "#c51b7d"
            ],
            [
             0.2,
             "#de77ae"
            ],
            [
             0.3,
             "#f1b6da"
            ],
            [
             0.4,
             "#fde0ef"
            ],
            [
             0.5,
             "#f7f7f7"
            ],
            [
             0.6,
             "#e6f5d0"
            ],
            [
             0.7,
             "#b8e186"
            ],
            [
             0.8,
             "#7fbc41"
            ],
            [
             0.9,
             "#4d9221"
            ],
            [
             1,
             "#276419"
            ]
           ],
           "sequential": [
            [
             0,
             "#0d0887"
            ],
            [
             0.1111111111111111,
             "#46039f"
            ],
            [
             0.2222222222222222,
             "#7201a8"
            ],
            [
             0.3333333333333333,
             "#9c179e"
            ],
            [
             0.4444444444444444,
             "#bd3786"
            ],
            [
             0.5555555555555556,
             "#d8576b"
            ],
            [
             0.6666666666666666,
             "#ed7953"
            ],
            [
             0.7777777777777778,
             "#fb9f3a"
            ],
            [
             0.8888888888888888,
             "#fdca26"
            ],
            [
             1,
             "#f0f921"
            ]
           ],
           "sequentialminus": [
            [
             0,
             "#0d0887"
            ],
            [
             0.1111111111111111,
             "#46039f"
            ],
            [
             0.2222222222222222,
             "#7201a8"
            ],
            [
             0.3333333333333333,
             "#9c179e"
            ],
            [
             0.4444444444444444,
             "#bd3786"
            ],
            [
             0.5555555555555556,
             "#d8576b"
            ],
            [
             0.6666666666666666,
             "#ed7953"
            ],
            [
             0.7777777777777778,
             "#fb9f3a"
            ],
            [
             0.8888888888888888,
             "#fdca26"
            ],
            [
             1,
             "#f0f921"
            ]
           ]
          },
          "colorway": [
           "#636efa",
           "#EF553B",
           "#00cc96",
           "#ab63fa",
           "#FFA15A",
           "#19d3f3",
           "#FF6692",
           "#B6E880",
           "#FF97FF",
           "#FECB52"
          ],
          "font": {
           "color": "#2a3f5f"
          },
          "geo": {
           "bgcolor": "white",
           "lakecolor": "white",
           "landcolor": "#E5ECF6",
           "showlakes": true,
           "showland": true,
           "subunitcolor": "white"
          },
          "hoverlabel": {
           "align": "left"
          },
          "hovermode": "closest",
          "mapbox": {
           "style": "light"
          },
          "paper_bgcolor": "white",
          "plot_bgcolor": "#E5ECF6",
          "polar": {
           "angularaxis": {
            "gridcolor": "white",
            "linecolor": "white",
            "ticks": ""
           },
           "bgcolor": "#E5ECF6",
           "radialaxis": {
            "gridcolor": "white",
            "linecolor": "white",
            "ticks": ""
           }
          },
          "scene": {
           "xaxis": {
            "backgroundcolor": "#E5ECF6",
            "gridcolor": "white",
            "gridwidth": 2,
            "linecolor": "white",
            "showbackground": true,
            "ticks": "",
            "zerolinecolor": "white"
           },
           "yaxis": {
            "backgroundcolor": "#E5ECF6",
            "gridcolor": "white",
            "gridwidth": 2,
            "linecolor": "white",
            "showbackground": true,
            "ticks": "",
            "zerolinecolor": "white"
           },
           "zaxis": {
            "backgroundcolor": "#E5ECF6",
            "gridcolor": "white",
            "gridwidth": 2,
            "linecolor": "white",
            "showbackground": true,
            "ticks": "",
            "zerolinecolor": "white"
           }
          },
          "shapedefaults": {
           "line": {
            "color": "#2a3f5f"
           }
          },
          "ternary": {
           "aaxis": {
            "gridcolor": "white",
            "linecolor": "white",
            "ticks": ""
           },
           "baxis": {
            "gridcolor": "white",
            "linecolor": "white",
            "ticks": ""
           },
           "bgcolor": "#E5ECF6",
           "caxis": {
            "gridcolor": "white",
            "linecolor": "white",
            "ticks": ""
           }
          },
          "title": {
           "x": 0.05
          },
          "xaxis": {
           "automargin": true,
           "gridcolor": "white",
           "linecolor": "white",
           "ticks": "",
           "title": {
            "standoff": 15
           },
           "zerolinecolor": "white",
           "zerolinewidth": 2
          },
          "yaxis": {
           "automargin": true,
           "gridcolor": "white",
           "linecolor": "white",
           "ticks": "",
           "title": {
            "standoff": 15
           },
           "zerolinecolor": "white",
           "zerolinewidth": 2
          }
         }
        },
        "title": {
         "text": "Updating Parameter ARIMA Predictions, 2024-10-19"
        },
        "xaxis": {
         "autorange": true,
         "range": [
          "2022-02-05",
          "2025-04-05"
         ],
         "title": {
          "text": "Date"
         },
         "type": "date"
        },
        "yaxis": {
         "autorange": true,
         "range": [
          -8043.533310272891,
          57659.13333211963
         ],
         "title": {
          "text": "Count"
         },
         "type": "linear"
        }
       }
      },
      "image/png": "[encoded data removed]",
      "text/html": [
       "<div>                            <div id=\"ddf1b81c-79f5-4b6b-a696-3dae5841e7b4\" class=\"plotly-graph-div\" style=\"height:525px; width:100%;\"></div>            <script type=\"text/javascript\">                require([\"plotly\"], function(Plotly) {                    window.PLOTLYENV=window.PLOTLYENV || {};                                    if (document.getElementById(\"ddf1b81c-79f5-4b6b-a696-3dae5841e7b4\")) {                    Plotly.newPlot(                        \"ddf1b81c-79f5-4b6b-a696-3dae5841e7b4\",                        [{\"mode\":\"lines\",\"name\":\"Real Data\",\"x\":[\"2022-02-05T00:00:00\",\"2022-02-12T00:00:00\",\"2022-02-19T00:00:00\",\"2022-02-26T00:00:00\",\"2022-03-05T00:00:00\",\"2022-03-12T00:00:00\",\"2022-03-19T00:00:00\",\"2022-03-26T00:00:00\",\"2022-04-02T00:00:00\",\"2022-04-09T00:00:00\",\"2022-04-16T00:00:00\",\"2022-04-23T00:00:00\",\"2022-04-30T00:00:00\",\"2022-05-07T00:00:00\",\"2022-05-14T00:00:00\",\"2022-05-21T00:00:00\",\"2022-05-28T00:00:00\",\"2022-06-04T00:00:00\",\"2022-06-11T00:00:00\",\"2022-06-18T00:00:00\",\"2022-06-25T00:00:00\",\"2022-07-02T00:00:00\",\"2022-07-09T00:00:00\",\"2022-07-16T00:00:00\",\"2022-07-23T00:00:00\",\"2022-07-30T00:00:00\",\"2022-08-06T00:00:00\",\"2022-08-13T00:00:00\",\"2022-08-20T00:00:00\",\"2022-08-27T00:00:00\",\"2022-09-03T00:00:00\",\"2022-09-10T00:00:00\",\"2022-09-17T00:00:00\",\"2022-09-24T00:00:00\",\"2022-10-01T00:00:00\",\"2022-10-08T00:00:00\",\"2022-10-15T00:00:00\",\"2022-10-22T00:00:00\",\"2022-10-29T00:00:00\",\"2022-11-05T00:00:00\",\"2022-11-12T00:00:00\",\"2022-11-19T00:00:00\",\"2022-11-26T00:00:00\",\"2022-12-03T00:00:00\",\"2022-12-10T00:00:00\",\"2022-12-17T00:00:00\",\"2022-12-24T00:00:00\",\"2022-12-31T00:00:00\",\"2023-01-07T00:00:00\",\"2023-01-14T00:00:00\",\"2023-01-21T00:00:00\",\"2023-01-28T00:00:00\",\"2023-02-04T00:00:00\",\"2023-02-11T00:00:00\",\"2023-02-18T00:00:00\",\"2023-02-25T00:00:00\",\"2023-03-04T00:00:00\",\"2023-03-11T00:00:00\",\"2023-03-18T00:00:00\",\"2023-03-25T00:00:00\",\"2023-04-01T00:00:00\",\"2023-04-08T00:00:00\",\"2023-04-15T00:00:00\",\"2023-04-22T00:00:00\",\"2023-04-29T00:00:00\",\"2023-05-06T00:00:00\",\"2023-05-13T00:00:00\",\"2023-05-20T00:00:00\",\"2023-05-27T00:00:00\",\"2023-06-03T00:00:00\",\"2023-06-10T00:00:00\",\"2023-06-17T00:00:00\",\"2023-06-24T00:00:00\",\"2023-07-01T00:00:00\",\"2023-07-08T00:00:00\",\"2023-07-15T00:00:00\",\"2023-07-22T00:00:00\",\"2023-07-29T00:00:00\",\"2023-08-05T00:00:00\",\"2023-08-12T00:00:00\",\"2023-08-19T00:00:00\",\"2023-08-26T00:00:00\",\"2023-09-02T00:00:00\",\"2023-09-09T00:00:00\",\"2023-09-16T00:00:00\",\"2023-09-23T00:00:00\",\"2023-09-30T00:00:00\",\"2023-10-07T00:00:00\",\"2023-10-14T00:00:00\",\"2023-10-21T00:00:00\",\"2023-10-28T00:00:00\",\"2023-11-04T00:00:00\",\"2023-11-11T00:00:00\",\"2023-11-18T00:00:00\",\"2023-11-25T00:00:00\",\"2023-12-02T00:00:00\",\"2023-12-09T00:00:00\",\"2023-12-16T00:00:00\",\"2023-12-23T00:00:00\",\"2023-12-30T00:00:00\",\"2024-01-06T00:00:00\",\"2024-01-13T00:00:00\",\"2024-01-20T00:00:00\",\"2024-01-27T00:00:00\",\"2024-02-03T00:00:00\",\"2024-02-10T00:00:00\",\"2024-02-17T00:00:00\",\"2024-02-24T00:00:00\",\"2024-03-02T00:00:00\",\"2024-03-09T00:00:00\",\"2024-03-16T00:00:00\",\"2024-03-23T00:00:00\",\"2024-03-30T00:00:00\",\"2024-04-06T00:00:00\",\"2024-04-13T00:00:00\",\"2024-04-20T00:00:00\",\"2024-04-27T00:00:00\",\"2024-05-04T00:00:00\",\"2024-05-11T00:00:00\",\"2024-05-18T00:00:00\",\"2024-05-25T00:00:00\",\"2024-06-01T00:00:00\",\"2024-06-08T00:00:00\",\"2024-06-15T00:00:00\",\"2024-06-22T00:00:00\",\"2024-06-29T00:00:00\",\"2024-07-06T00:00:00\",\"2024-07-13T00:00:00\",\"2024-07-20T00:00:00\",\"2024-07-27T00:00:00\",\"2024-08-03T00:00:00\",\"2024-08-10T00:00:00\",\"2024-08-17T00:00:00\",\"2024-08-24T00:00:00\",\"2024-08-31T00:00:00\",\"2024-09-07T00:00:00\",\"2024-09-14T00:00:00\",\"2024-09-21T00:00:00\",\"2024-09-28T00:00:00\",\"2024-10-05T00:00:00\",\"2024-10-12T00:00:00\",\"2024-10-19T00:00:00\",\"2024-10-26T00:00:00\",\"2024-11-02T00:00:00\",\"2024-11-09T00:00:00\",\"2024-11-16T00:00:00\",\"2024-11-23T00:00:00\",\"2024-11-30T00:00:00\",\"2024-12-07T00:00:00\",\"2024-12-14T00:00:00\",\"2024-12-21T00:00:00\",\"2024-12-28T00:00:00\",\"2025-01-04T00:00:00\",\"2025-01-11T00:00:00\",\"2025-01-18T00:00:00\",\"2025-01-25T00:00:00\",\"2025-02-01T00:00:00\",\"2025-02-08T00:00:00\",\"2025-02-15T00:00:00\",\"2025-02-22T00:00:00\",\"2025-03-01T00:00:00\",\"2025-03-08T00:00:00\",\"2025-03-15T00:00:00\",\"2025-03-22T00:00:00\",\"2025-03-29T00:00:00\",\"2025-04-05T00:00:00\"],\"y\":[1091.0,1164.0,1493.0,1603.0,1791.0,2097.0,2625.0,2918.0,3008.0,3149.0,3308.0,3474.0,3182.0,3175.0,3119.0,3133.0,2738.0,2678.0,2210.0,1776.0,1366.0,1073.0,776.0,766.0,628.0,522.0,486.0,490.0,483.0,483.0,545.0,576.0,665.0,796.0,921.0,1316.0,1674.0,2292.0,4184.0,6408.0,8594.0,10971.0,18177.0,26834.0,24036.0,21612.0,19631.0,19479.0,14074.0,7185.0,4489.0,3091.0,2596.0,2177.0,1908.0,1647.0,1503.0,1372.0,1415.0,1331.0,1295.0,1198.0,1077.0,982.0,903.0,994.0,980.0,1116.0,974.0,939.0,935.0,873.0,813.0,836.0,699.0,736.0,645.0,771.0,690.0,706.0,738.0,793.0,875.0,804.0,821.0,881.0,1026.0,1110.0,1215.0,1470.0,1614.0,2014.0,2775.0,3491.0,4386.0,5955.0,7497.0,10273.0,15722.0,21682.0,19548.0,15905.0,13303.0,13025.0,11964.0,11629.0,11126.0,10870.0,10814.0,9416.0,7324.0,6049.0,5574.0,5071.0,4073.0,2943.0,2420.0,1485.0,852.0,682.0,611.0,591.0,511.0,518.0,441.0,356.0,342.0,367.0,325.0,273.0,275.0,275.0,275.0,274.0,262.0,223.0,319.0,293.0,223.0,287.0,295.0,553.0,1084.0,977.0,2081.0,2535.0,3099.0,4297.0,6307.0,9192.0,15467.0,27748.0,38767.0,30796.0,33020.0,40682.0,51337.0,54374.0,46244.0,37881.0,30807.0,23956.0,18384.0,13600.0,9597.0,6273.0],\"type\":\"scatter\"},{\"line\":{\"color\":\"#414487\"},\"mode\":\"lines\",\"name\":\"AutoARIMA-hi-80\",\"x\":[\"2024-10-26T00:00:00\",\"2024-11-02T00:00:00\",\"2024-11-09T00:00:00\",\"2024-11-16T00:00:00\"],\"y\":[2278.442756487523,4413.700575741356,6516.573602747219,8348.458547983577],\"type\":\"scatter\"},{\"line\":{\"color\":\"#1e9c89\"},\"mode\":\"lines\",\"name\":\"AutoARIMA-hi-95\",\"x\":[\"2024-10-26T00:00:00\",\"2024-11-02T00:00:00\",\"2024-11-09T00:00:00\",\"2024-11-16T00:00:00\"],\"y\":[3088.2055326937693,6048.624271001305,8773.608399247734,11091.575297158346],\"type\":\"scatter\"},{\"fill\":\"tonexty\",\"fillcolor\":\"#1e9c89\",\"line\":{\"color\":\"#1e9c89\"},\"mode\":\"lines\",\"name\":\"AutoARIMA-lo-95\",\"x\":[\"2024-10-26T00:00:00\",\"2024-11-02T00:00:00\",\"2024-11-09T00:00:00\",\"2024-11-16T00:00:00\"],\"y\":[-1590.6766131710906,-3398.111874912652,-4267.74163837398,-4758.399978153266],\"type\":\"scatter\"},{\"fill\":\"tonexty\",\"fillcolor\":\"#414487\",\"line\":{\"color\":\"#414487\"},\"mode\":\"lines\",\"name\":\"AutoARIMA-lo-80\",\"x\":[\"2024-10-26T00:00:00\",\"2024-11-02T00:00:00\",\"2024-11-09T00:00:00\",\"2024-11-16T00:00:00\"],\"y\":[-780.9138369648447,-1763.1881796527032,-2010.7068418734648,-2015.2832289784965],\"type\":\"scatter\"},{\"line\":{\"color\":\"#2c728e\"},\"mode\":\"lines\",\"name\":\"AutoARIMA\",\"x\":[\"2024-10-26T00:00:00\",\"2024-11-02T00:00:00\",\"2024-11-09T00:00:00\",\"2024-11-16T00:00:00\"],\"y\":[748.7644597613394,1325.2561980443265,2252.9333804368775,3166.58765950254],\"type\":\"scatter\"}],                        {\"template\":{\"data\":{\"histogram2dcontour\":[{\"type\":\"histogram2dcontour\",\"colorbar\":{\"outlinewidth\":0,\"ticks\":\"\"},\"colorscale\":[[0.0,\"#0d0887\"],[0.1111111111111111,\"#46039f\"],[0.2222222222222222,\"#7201a8\"],[0.3333333333333333,\"#9c179e\"],[0.4444444444444444,\"#bd3786\"],[0.5555555555555556,\"#d8576b\"],[0.6666666666666666,\"#ed7953\"],[0.7777777777777778,\"#fb9f3a\"],[0.8888888888888888,\"#fdca26\"],[1.0,\"#f0f921\"]]}],\"choropleth\":[{\"type\":\"choropleth\",\"colorbar\":{\"outlinewidth\":0,\"ticks\":\"\"}}],\"histogram2d\":[{\"type\":\"histogram2d\",\"colorbar\":{\"outlinewidth\":0,\"ticks\":\"\"},\"colorscale\":[[0.0,\"#0d0887\"],[0.1111111111111111,\"#46039f\"],[0.2222222222222222,\"#7201a8\"],[0.3333333333333333,\"#9c179e\"],[0.4444444444444444,\"#bd3786\"],[0.5555555555555556,\"#d8576b\"],[0.6666666666666666,\"#ed7953\"],[0.7777777777777778,\"#fb9f3a\"],[0.8888888888888888,\"#fdca26\"],[1.0,\"#f0f921\"]]}],\"heatmap\":[{\"type\":\"heatmap\",\"colorbar\":{\"outlinewidth\":0,\"ticks\":\"\"},\"colorscale\":[[0.0,\"#0d0887\"],[0.1111111111111111,\"#46039f\"],[0.2222222222222222,\"#7201a8\"],[0.3333333333333333,\"#9c179e\"],[0.4444444444444444,\"#bd3786\"],[0.5555555555555556,\"#d8576b\"],[0.6666666666666666,\"#ed7953\"],[0.7777777777777778,\"#fb9f3a\"],[0.8888888888888888,\"#fdca26\"],[1.0,\"#f0f921\"]]}],\"heatmapgl\":[{\"type\":\"heatmapgl\",\"colorbar\":{\"outlinewidth\":0,\"ticks\":\"\"},\"colorscale\":[[0.0,\"#0d0887\"],[0.1111111111111111,\"#46039f\"],[0.2222222222222222,\"#7201a8\"],[0.3333333333333333,\"#9c179e\"],[0.4444444444444444,\"#bd3786\"],[0.5555555555555556,\"#d8576b\"],[0.6666666666666666,\"#ed7953\"],[0.7777777777777778,\"#fb9f3a\"],[0.8888888888888888,\"#fdca26\"],[1.0,\"#f0f921\"]]}],\"contourcarpet\":[{\"type\":\"contourcarpet\",\"colorbar\":{\"outlinewidth\":0,\"ticks\":\"\"}}],\"contour\":[{\"type\":\"contour\",\"colorbar\":{\"outlinewidth\":0,\"ticks\":\"\"},\"colorscale\":[[0.0,\"#0d0887\"],[0.1111111111111111,\"#46039f\"],[0.2222222222222222,\"#7201a8\"],[0.3333333333333333,\"#9c179e\"],[0.4444444444444444,\"#bd3786\"],[0.5555555555555556,\"#d8576b\"],[0.6666666666666666,\"#ed7953\"],[0.7777777777777778,\"#fb9f3a\"],[0.8888888888888888,\"#fdca26\"],[1.0,\"#f0f921\"]]}],\"surface\":[{\"type\":\"surface\",\"colorbar\":{\"outlinewidth\":0,\"ticks\":\"\"},\"colorscale\":[[0.0,\"#0d0887\"],[0.1111111111111111,\"#46039f\"],[0.2222222222222222,\"#7201a8\"],[0.3333333333333333,\"#9c179e\"],[0.4444444444444444,\"#bd3786\"],[0.5555555555555556,\"#d8576b\"],[0.6666666666666666,\"#ed7953\"],[0.7777777777777778,\"#fb9f3a\"],[0.8888888888888888,\"#fdca26\"],[1.0,\"#f0f921\"]]}],\"mesh3d\":[{\"type\":\"mesh3d\",\"colorbar\":{\"outlinewidth\":0,\"ticks\":\"\"}}],\"scatter\":[{\"fillpattern\":{\"fillmode\":\"overlay\",\"size\":10,\"solidity\":0.2},\"type\":\"scatter\"}],\"parcoords\":[{\"type\":\"parcoords\",\"line\":{\"colorbar\":{\"outlinewidth\":0,\"ticks\":\"\"}}}],\"scatterpolargl\":[{\"type\":\"scatterpolargl\",\"marker\":{\"colorbar\":{\"outlinewidth\":0,\"ticks\":\"\"}}}],\"bar\":[{\"error_x\":{\"color\":\"#2a3f5f\"},\"error_y\":{\"color\":\"#2a3f5f\"},\"marker\":{\"line\":{\"color\":\"#E5ECF6\",\"width\":0.5},\"pattern\":{\"fillmode\":\"overlay\",\"size\":10,\"solidity\":0.2}},\"type\":\"bar\"}],\"scattergeo\":[{\"type\":\"scattergeo\",\"marker\":{\"colorbar\":{\"outlinewidth\":0,\"ticks\":\"\"}}}],\"scatterpolar\":[{\"type\":\"scatterpolar\",\"marker\":{\"colorbar\":{\"outlinewidth\":0,\"ticks\":\"\"}}}],\"histogram\":[{\"marker\":{\"pattern\":{\"fillmode\":\"overlay\",\"size\":10,\"solidity\":0.2}},\"type\":\"histogram\"}],\"scattergl\":[{\"type\":\"scattergl\",\"marker\":{\"colorbar\":{\"outlinewidth\":0,\"ticks\":\"\"}}}],\"scatter3d\":[{\"type\":\"scatter3d\",\"line\":{\"colorbar\":{\"outlinewidth\":0,\"ticks\":\"\"}},\"marker\":{\"colorbar\":{\"outlinewidth\":0,\"ticks\":\"\"}}}],\"scattermapbox\":[{\"type\":\"scattermapbox\",\"marker\":{\"colorbar\":{\"outlinewidth\":0,\"ticks\":\"\"}}}],\"scatterternary\":[{\"type\":\"scatterternary\",\"marker\":{\"colorbar\":{\"outlinewidth\":0,\"ticks\":\"\"}}}],\"scattercarpet\":[{\"type\":\"scattercarpet\",\"marker\":{\"colorbar\":{\"outlinewidth\":0,\"ticks\":\"\"}}}],\"carpet\":[{\"aaxis\":{\"endlinecolor\":\"#2a3f5f\",\"gridcolor\":\"white\",\"linecolor\":\"white\",\"minorgridcolor\":\"white\",\"startlinecolor\":\"#2a3f5f\"},\"baxis\":{\"endlinecolor\":\"#2a3f5f\",\"gridcolor\":\"white\",\"linecolor\":\"white\",\"minorgridcolor\":\"white\",\"startlinecolor\":\"#2a3f5f\"},\"type\":\"carpet\"}],\"table\":[{\"cells\":{\"fill\":{\"color\":\"#EBF0F8\"},\"line\":{\"color\":\"white\"}},\"header\":{\"fill\":{\"color\":\"#C8D4E3\"},\"line\":{\"color\":\"white\"}},\"type\":\"table\"}],\"barpolar\":[{\"marker\":{\"line\":{\"color\":\"#E5ECF6\",\"width\":0.5},\"pattern\":{\"fillmode\":\"overlay\",\"size\":10,\"solidity\":0.2}},\"type\":\"barpolar\"}],\"pie\":[{\"automargin\":true,\"type\":\"pie\"}]},\"layout\":{\"autotypenumbers\":\"strict\",\"colorway\":[\"#636efa\",\"#EF553B\",\"#00cc96\",\"#ab63fa\",\"#FFA15A\",\"#19d3f3\",\"#FF6692\",\"#B6E880\",\"#FF97FF\",\"#FECB52\"],\"font\":{\"color\":\"#2a3f5f\"},\"hovermode\":\"closest\",\"hoverlabel\":{\"align\":\"left\"},\"paper_bgcolor\":\"white\",\"plot_bgcolor\":\"#E5ECF6\",\"polar\":{\"bgcolor\":\"#E5ECF6\",\"angularaxis\":{\"gridcolor\":\"white\",\"linecolor\":\"white\",\"ticks\":\"\"},\"radialaxis\":{\"gridcolor\":\"white\",\"linecolor\":\"white\",\"ticks\":\"\"}},\"ternary\":{\"bgcolor\":\"#E5ECF6\",\"aaxis\":{\"gridcolor\":\"white\",\"linecolor\":\"white\",\"ticks\":\"\"},\"baxis\":{\"gridcolor\":\"white\",\"linecolor\":\"white\",\"ticks\":\"\"},\"caxis\":{\"gridcolor\":\"white\",\"linecolor\":\"white\",\"ticks\":\"\"}},\"coloraxis\":{\"colorbar\":{\"outlinewidth\":0,\"ticks\":\"\"}},\"colorscale\":{\"sequential\":[[0.0,\"#0d0887\"],[0.1111111111111111,\"#46039f\"],[0.2222222222222222,\"#7201a8\"],[0.3333333333333333,\"#9c179e\"],[0.4444444444444444,\"#bd3786\"],[0.5555555555555556,\"#d8576b\"],[0.6666666666666666,\"#ed7953\"],[0.7777777777777778,\"#fb9f3a\"],[0.8888888888888888,\"#fdca26\"],[1.0,\"#f0f921\"]],\"sequentialminus\":[[0.0,\"#0d0887\"],[0.1111111111111111,\"#46039f\"],[0.2222222222222222,\"#7201a8\"],[0.3333333333333333,\"#9c179e\"],[0.4444444444444444,\"#bd3786\"],[0.5555555555555556,\"#d8576b\"],[0.6666666666666666,\"#ed7953\"],[0.7777777777777778,\"#fb9f3a\"],[0.8888888888888888,\"#fdca26\"],[1.0,\"#f0f921\"]],\"diverging\":[[0,\"#8e0152\"],[0.1,\"#c51b7d\"],[0.2,\"#de77ae\"],[0.3,\"#f1b6da\"],[0.4,\"#fde0ef\"],[0.5,\"#f7f7f7\"],[0.6,\"#e6f5d0\"],[0.7,\"#b8e186\"],[0.8,\"#7fbc41\"],[0.9,\"#4d9221\"],[1,\"#276419\"]]},\"xaxis\":{\"gridcolor\":\"white\",\"linecolor\":\"white\",\"ticks\":\"\",\"title\":{\"standoff\":15},\"zerolinecolor\":\"white\",\"automargin\":true,\"zerolinewidth\":2},\"yaxis\":{\"gridcolor\":\"white\",\"linecolor\":\"white\",\"ticks\":\"\",\"title\":{\"standoff\":15},\"zerolinecolor\":\"white\",\"automargin\":true,\"zerolinewidth\":2},\"scene\":{\"xaxis\":{\"backgroundcolor\":\"#E5ECF6\",\"gridcolor\":\"white\",\"linecolor\":\"white\",\"showbackground\":true,\"ticks\":\"\",\"zerolinecolor\":\"white\",\"gridwidth\":2},\"yaxis\":{\"backgroundcolor\":\"#E5ECF6\",\"gridcolor\":\"white\",\"linecolor\":\"white\",\"showbackground\":true,\"ticks\":\"\",\"zerolinecolor\":\"white\",\"gridwidth\":2},\"zaxis\":{\"backgroundcolor\":\"#E5ECF6\",\"gridcolor\":\"white\",\"linecolor\":\"white\",\"showbackground\":true,\"ticks\":\"\",\"zerolinecolor\":\"white\",\"gridwidth\":2}},\"shapedefaults\":{\"line\":{\"color\":\"#2a3f5f\"}},\"annotationdefaults\":{\"arrowcolor\":\"#2a3f5f\",\"arrowhead\":0,\"arrowwidth\":1},\"geo\":{\"bgcolor\":\"white\",\"landcolor\":\"#E5ECF6\",\"subunitcolor\":\"white\",\"showland\":true,\"showlakes\":true,\"lakecolor\":\"white\"},\"title\":{\"x\":0.05},\"mapbox\":{\"style\":\"light\"}}},\"title\":{\"text\":\"Updating Parameter ARIMA Predictions, 2024-10-19\"},\"xaxis\":{\"title\":{\"text\":\"Date\"}},\"yaxis\":{\"title\":{\"text\":\"Count\"}},\"hovermode\":\"x\"},                        {\"responsive\": true}                    ).then(function(){\n",
       "                            \n",
       "var gd = document.getElementById('ddf1b81c-79f5-4b6b-a696-3dae5841e7b4');\n",
       "var x = new MutationObserver(function (mutations, observer) {{\n",
       "        var display = window.getComputedStyle(gd).display;\n",
       "        if (!display || display === 'none') {{\n",
       "            console.log([gd, 'removed!']);\n",
       "            Plotly.purge(gd);\n",
       "            observer.disconnect();\n",
       "        }}\n",
       "}});\n",
       "\n",
       "// Listen for the removal of the full notebook cells\n",
       "var notebookContainer = gd.closest('#notebook-container');\n",
       "if (notebookContainer) {{\n",
       "    x.observe(notebookContainer, {childList: true});\n",
       "}}\n",
       "\n",
       "// Listen for the clearing of the current output cell\n",
       "var outputEl = gd.closest('.output');\n",
       "if (outputEl) {{\n",
       "    x.observe(outputEl, {childList: true});\n",
       "}}\n",
       "\n",
       "                        })                };                });            </script>        </div>"
      ]
     },
     "metadata": {},
     "output_type": "display_data"
    },
    {
     "data": {
      "application/vnd.plotly.v1+json": {
       "config": {
        "plotlyServerURL": "https://plot.ly"
       },
       "data": [
        {
         "mode": "lines",
         "name": "Real Data",
         "type": "scatter",
         "x": [
          "2022-02-05T00:00:00",
          "2022-02-12T00:00:00",
          "2022-02-19T00:00:00",
          "2022-02-26T00:00:00",
          "2022-03-05T00:00:00",
          "2022-03-12T00:00:00",
          "2022-03-19T00:00:00",
          "2022-03-26T00:00:00",
          "2022-04-02T00:00:00",
          "2022-04-09T00:00:00",
          "2022-04-16T00:00:00",
          "2022-04-23T00:00:00",
          "2022-04-30T00:00:00",
          "2022-05-07T00:00:00",
          "2022-05-14T00:00:00",
          "2022-05-21T00:00:00",
          "2022-05-28T00:00:00",
          "2022-06-04T00:00:00",
          "2022-06-11T00:00:00",
          "2022-06-18T00:00:00",
          "2022-06-25T00:00:00",
          "2022-07-02T00:00:00",
          "2022-07-09T00:00:00",
          "2022-07-16T00:00:00",
          "2022-07-23T00:00:00",
          "2022-07-30T00:00:00",
          "2022-08-06T00:00:00",
          "2022-08-13T00:00:00",
          "2022-08-20T00:00:00",
          "2022-08-27T00:00:00",
          "2022-09-03T00:00:00",
          "2022-09-10T00:00:00",
          "2022-09-17T00:00:00",
          "2022-09-24T00:00:00",
          "2022-10-01T00:00:00",
          "2022-10-08T00:00:00",
          "2022-10-15T00:00:00",
          "2022-10-22T00:00:00",
          "2022-10-29T00:00:00",
          "2022-11-05T00:00:00",
          "2022-11-12T00:00:00",
          "2022-11-19T00:00:00",
          "2022-11-26T00:00:00",
          "2022-12-03T00:00:00",
          "2022-12-10T00:00:00",
          "2022-12-17T00:00:00",
          "2022-12-24T00:00:00",
          "2022-12-31T00:00:00",
          "2023-01-07T00:00:00",
          "2023-01-14T00:00:00",
          "2023-01-21T00:00:00",
          "2023-01-28T00:00:00",
          "2023-02-04T00:00:00",
          "2023-02-11T00:00:00",
          "2023-02-18T00:00:00",
          "2023-02-25T00:00:00",
          "2023-03-04T00:00:00",
          "2023-03-11T00:00:00",
          "2023-03-18T00:00:00",
          "2023-03-25T00:00:00",
          "2023-04-01T00:00:00",
          "2023-04-08T00:00:00",
          "2023-04-15T00:00:00",
          "2023-04-22T00:00:00",
          "2023-04-29T00:00:00",
          "2023-05-06T00:00:00",
          "2023-05-13T00:00:00",
          "2023-05-20T00:00:00",
          "2023-05-27T00:00:00",
          "2023-06-03T00:00:00",
          "2023-06-10T00:00:00",
          "2023-06-17T00:00:00",
          "2023-06-24T00:00:00",
          "2023-07-01T00:00:00",
          "2023-07-08T00:00:00",
          "2023-07-15T00:00:00",
          "2023-07-22T00:00:00",
          "2023-07-29T00:00:00",
          "2023-08-05T00:00:00",
          "2023-08-12T00:00:00",
          "2023-08-19T00:00:00",
          "2023-08-26T00:00:00",
          "2023-09-02T00:00:00",
          "2023-09-09T00:00:00",
          "2023-09-16T00:00:00",
          "2023-09-23T00:00:00",
          "2023-09-30T00:00:00",
          "2023-10-07T00:00:00",
          "2023-10-14T00:00:00",
          "2023-10-21T00:00:00",
          "2023-10-28T00:00:00",
          "2023-11-04T00:00:00",
          "2023-11-11T00:00:00",
          "2023-11-18T00:00:00",
          "2023-11-25T00:00:00",
          "2023-12-02T00:00:00",
          "2023-12-09T00:00:00",
          "2023-12-16T00:00:00",
          "2023-12-23T00:00:00",
          "2023-12-30T00:00:00",
          "2024-01-06T00:00:00",
          "2024-01-13T00:00:00",
          "2024-01-20T00:00:00",
          "2024-01-27T00:00:00",
          "2024-02-03T00:00:00",
          "2024-02-10T00:00:00",
          "2024-02-17T00:00:00",
          "2024-02-24T00:00:00",
          "2024-03-02T00:00:00",
          "2024-03-09T00:00:00",
          "2024-03-16T00:00:00",
          "2024-03-23T00:00:00",
          "2024-03-30T00:00:00",
          "2024-04-06T00:00:00",
          "2024-04-13T00:00:00",
          "2024-04-20T00:00:00",
          "2024-04-27T00:00:00",
          "2024-05-04T00:00:00",
          "2024-05-11T00:00:00",
          "2024-05-18T00:00:00",
          "2024-05-25T00:00:00",
          "2024-06-01T00:00:00",
          "2024-06-08T00:00:00",
          "2024-06-15T00:00:00",
          "2024-06-22T00:00:00",
          "2024-06-29T00:00:00",
          "2024-07-06T00:00:00",
          "2024-07-13T00:00:00",
          "2024-07-20T00:00:00",
          "2024-07-27T00:00:00",
          "2024-08-03T00:00:00",
          "2024-08-10T00:00:00",
          "2024-08-17T00:00:00",
          "2024-08-24T00:00:00",
          "2024-08-31T00:00:00",
          "2024-09-07T00:00:00",
          "2024-09-14T00:00:00",
          "2024-09-21T00:00:00",
          "2024-09-28T00:00:00",
          "2024-10-05T00:00:00",
          "2024-10-12T00:00:00",
          "2024-10-19T00:00:00",
          "2024-10-26T00:00:00",
          "2024-11-02T00:00:00",
          "2024-11-09T00:00:00",
          "2024-11-16T00:00:00",
          "2024-11-23T00:00:00",
          "2024-11-30T00:00:00",
          "2024-12-07T00:00:00",
          "2024-12-14T00:00:00",
          "2024-12-21T00:00:00",
          "2024-12-28T00:00:00",
          "2025-01-04T00:00:00",
          "2025-01-11T00:00:00",
          "2025-01-18T00:00:00",
          "2025-01-25T00:00:00",
          "2025-02-01T00:00:00",
          "2025-02-08T00:00:00",
          "2025-02-15T00:00:00",
          "2025-02-22T00:00:00",
          "2025-03-01T00:00:00",
          "2025-03-08T00:00:00",
          "2025-03-15T00:00:00",
          "2025-03-22T00:00:00",
          "2025-03-29T00:00:00",
          "2025-04-05T00:00:00"
         ],
         "y": [
          1091,
          1164,
          1493,
          1603,
          1791,
          2097,
          2625,
          2918,
          3008,
          3149,
          3308,
          3474,
          3182,
          3175,
          3119,
          3133,
          2738,
          2678,
          2210,
          1776,
          1366,
          1073,
          776,
          766,
          628,
          522,
          486,
          490,
          483,
          483,
          545,
          576,
          665,
          796,
          921,
          1316,
          1674,
          2292,
          4184,
          6408,
          8594,
          10971,
          18177,
          26834,
          24036,
          21612,
          19631,
          19479,
          14074,
          7185,
          4489,
          3091,
          2596,
          2177,
          1908,
          1647,
          1503,
          1372,
          1415,
          1331,
          1295,
          1198,
          1077,
          982,
          903,
          994,
          980,
          1116,
          974,
          939,
          935,
          873,
          813,
          836,
          699,
          736,
          645,
          771,
          690,
          706,
          738,
          793,
          875,
          804,
          821,
          881,
          1026,
          1110,
          1215,
          1470,
          1614,
          2014,
          2775,
          3491,
          4386,
          5955,
          7497,
          10273,
          15722,
          21682,
          19548,
          15905,
          13303,
          13025,
          11964,
          11629,
          11126,
          10870,
          10814,
          9416,
          7324,
          6049,
          5574,
          5071,
          4073,
          2943,
          2420,
          1485,
          852,
          682,
          611,
          591,
          511,
          518,
          441,
          356,
          342,
          367,
          325,
          273,
          275,
          275,
          275,
          274,
          262,
          223,
          319,
          293,
          223,
          287,
          295,
          553,
          1084,
          977,
          2081,
          2535,
          3099,
          4297,
          6307,
          9192,
          15467,
          27748,
          38767,
          30796,
          33020,
          40682,
          51337,
          54374,
          46244,
          37881,
          30807,
          23956,
          18384,
          13600,
          9597,
          6273
         ]
        },
        {
         "line": {
          "color": "#414487"
         },
         "mode": "lines",
         "name": "AutoARIMA-hi-80",
         "type": "scatter",
         "x": [
          "2024-11-09T00:00:00",
          "2024-11-16T00:00:00",
          "2024-11-23T00:00:00",
          "2024-11-30T00:00:00"
         ],
         "y": [
          2779.8436892924947,
          5081.2048743448595,
          7189.710819439115,
          9974.733746271886
         ]
        },
        {
         "line": {
          "color": "#1e9c89"
         },
         "mode": "lines",
         "name": "AutoARIMA-hi-95",
         "type": "scatter",
         "x": [
          "2024-11-09T00:00:00",
          "2024-11-16T00:00:00",
          "2024-11-23T00:00:00",
          "2024-11-30T00:00:00"
         ],
         "y": [
          3583.7791365700323,
          6702.421765187821,
          9426.739712521101,
          12692.545759299472
         ]
        },
        {
         "fill": "tonexty",
         "fillcolor": "#1e9c89",
         "line": {
          "color": "#1e9c89"
         },
         "mode": "lines",
         "name": "AutoARIMA-lo-95",
         "type": "scatter",
         "x": [
          "2024-11-09T00:00:00",
          "2024-11-16T00:00:00",
          "2024-11-23T00:00:00",
          "2024-11-30T00:00:00"
         ],
         "y": [
          -1061.4321786716266,
          -2665.1152321014397,
          -3499.014415943869,
          -3011.2164748057103
         ]
        },
        {
         "fill": "tonexty",
         "fillcolor": "#414487",
         "line": {
          "color": "#414487"
         },
         "mode": "lines",
         "name": "AutoARIMA-lo-80",
         "type": "scatter",
         "x": [
          "2024-11-09T00:00:00",
          "2024-11-16T00:00:00",
          "2024-11-23T00:00:00",
          "2024-11-30T00:00:00"
         ],
         "y": [
          -257.496731394089,
          -1043.8983412584782,
          -1261.985522861883,
          -293.40446177812373
         ]
        },
        {
         "line": {
          "color": "#2c728e"
         },
         "mode": "lines",
         "name": "AutoARIMA",
         "type": "scatter",
         "x": [
          "2024-11-09T00:00:00",
          "2024-11-16T00:00:00",
          "2024-11-23T00:00:00",
          "2024-11-30T00:00:00"
         ],
         "y": [
          1261.1734789492027,
          2018.6532665431907,
          2963.862648288616,
          4840.664642246881
         ]
        }
       ],
       "layout": {
        "autosize": true,
        "hovermode": "x",
        "template": {
         "data": {
          "bar": [
           {
            "error_x": {
             "color": "#2a3f5f"
            },
            "error_y": {
             "color": "#2a3f5f"
            },
            "marker": {
             "line": {
              "color": "#E5ECF6",
              "width": 0.5
             },
             "pattern": {
              "fillmode": "overlay",
              "size": 10,
              "solidity": 0.2
             }
            },
            "type": "bar"
           }
          ],
          "barpolar": [
           {
            "marker": {
             "line": {
              "color": "#E5ECF6",
              "width": 0.5
             },
             "pattern": {
              "fillmode": "overlay",
              "size": 10,
              "solidity": 0.2
             }
            },
            "type": "barpolar"
           }
          ],
          "carpet": [
           {
            "aaxis": {
             "endlinecolor": "#2a3f5f",
             "gridcolor": "white",
             "linecolor": "white",
             "minorgridcolor": "white",
             "startlinecolor": "#2a3f5f"
            },
            "baxis": {
             "endlinecolor": "#2a3f5f",
             "gridcolor": "white",
             "linecolor": "white",
             "minorgridcolor": "white",
             "startlinecolor": "#2a3f5f"
            },
            "type": "carpet"
           }
          ],
          "choropleth": [
           {
            "colorbar": {
             "outlinewidth": 0,
             "ticks": ""
            },
            "type": "choropleth"
           }
          ],
          "contour": [
           {
            "colorbar": {
             "outlinewidth": 0,
             "ticks": ""
            },
            "colorscale": [
             [
              0,
              "#0d0887"
             ],
             [
              0.1111111111111111,
              "#46039f"
             ],
             [
              0.2222222222222222,
              "#7201a8"
             ],
             [
              0.3333333333333333,
              "#9c179e"
             ],
             [
              0.4444444444444444,
              "#bd3786"
             ],
             [
              0.5555555555555556,
              "#d8576b"
             ],
             [
              0.6666666666666666,
              "#ed7953"
             ],
             [
              0.7777777777777778,
              "#fb9f3a"
             ],
             [
              0.8888888888888888,
              "#fdca26"
             ],
             [
              1,
              "#f0f921"
             ]
            ],
            "type": "contour"
           }
          ],
          "contourcarpet": [
           {
            "colorbar": {
             "outlinewidth": 0,
             "ticks": ""
            },
            "type": "contourcarpet"
           }
          ],
          "heatmap": [
           {
            "colorbar": {
             "outlinewidth": 0,
             "ticks": ""
            },
            "colorscale": [
             [
              0,
              "#0d0887"
             ],
             [
              0.1111111111111111,
              "#46039f"
             ],
             [
              0.2222222222222222,
              "#7201a8"
             ],
             [
              0.3333333333333333,
              "#9c179e"
             ],
             [
              0.4444444444444444,
              "#bd3786"
             ],
             [
              0.5555555555555556,
              "#d8576b"
             ],
             [
              0.6666666666666666,
              "#ed7953"
             ],
             [
              0.7777777777777778,
              "#fb9f3a"
             ],
             [
              0.8888888888888888,
              "#fdca26"
             ],
             [
              1,
              "#f0f921"
             ]
            ],
            "type": "heatmap"
           }
          ],
          "heatmapgl": [
           {
            "colorbar": {
             "outlinewidth": 0,
             "ticks": ""
            },
            "colorscale": [
             [
              0,
              "#0d0887"
             ],
             [
              0.1111111111111111,
              "#46039f"
             ],
             [
              0.2222222222222222,
              "#7201a8"
             ],
             [
              0.3333333333333333,
              "#9c179e"
             ],
             [
              0.4444444444444444,
              "#bd3786"
             ],
             [
              0.5555555555555556,
              "#d8576b"
             ],
             [
              0.6666666666666666,
              "#ed7953"
             ],
             [
              0.7777777777777778,
              "#fb9f3a"
             ],
             [
              0.8888888888888888,
              "#fdca26"
             ],
             [
              1,
              "#f0f921"
             ]
            ],
            "type": "heatmapgl"
           }
          ],
          "histogram": [
           {
            "marker": {
             "pattern": {
              "fillmode": "overlay",
              "size": 10,
              "solidity": 0.2
             }
            },
            "type": "histogram"
           }
          ],
          "histogram2d": [
           {
            "colorbar": {
             "outlinewidth": 0,
             "ticks": ""
            },
            "colorscale": [
             [
              0,
              "#0d0887"
             ],
             [
              0.1111111111111111,
              "#46039f"
             ],
             [
              0.2222222222222222,
              "#7201a8"
             ],
             [
              0.3333333333333333,
              "#9c179e"
             ],
             [
              0.4444444444444444,
              "#bd3786"
             ],
             [
              0.5555555555555556,
              "#d8576b"
             ],
             [
              0.6666666666666666,
              "#ed7953"
             ],
             [
              0.7777777777777778,
              "#fb9f3a"
             ],
             [
              0.8888888888888888,
              "#fdca26"
             ],
             [
              1,
              "#f0f921"
             ]
            ],
            "type": "histogram2d"
           }
          ],
          "histogram2dcontour": [
           {
            "colorbar": {
             "outlinewidth": 0,
             "ticks": ""
            },
            "colorscale": [
             [
              0,
              "#0d0887"
             ],
             [
              0.1111111111111111,
              "#46039f"
             ],
             [
              0.2222222222222222,
              "#7201a8"
             ],
             [
              0.3333333333333333,
              "#9c179e"
             ],
             [
              0.4444444444444444,
              "#bd3786"
             ],
             [
              0.5555555555555556,
              "#d8576b"
             ],
             [
              0.6666666666666666,
              "#ed7953"
             ],
             [
              0.7777777777777778,
              "#fb9f3a"
             ],
             [
              0.8888888888888888,
              "#fdca26"
             ],
             [
              1,
              "#f0f921"
             ]
            ],
            "type": "histogram2dcontour"
           }
          ],
          "mesh3d": [
           {
            "colorbar": {
             "outlinewidth": 0,
             "ticks": ""
            },
            "type": "mesh3d"
           }
          ],
          "parcoords": [
           {
            "line": {
             "colorbar": {
              "outlinewidth": 0,
              "ticks": ""
             }
            },
            "type": "parcoords"
           }
          ],
          "pie": [
           {
            "automargin": true,
            "type": "pie"
           }
          ],
          "scatter": [
           {
            "fillpattern": {
             "fillmode": "overlay",
             "size": 10,
             "solidity": 0.2
            },
            "type": "scatter"
           }
          ],
          "scatter3d": [
           {
            "line": {
             "colorbar": {
              "outlinewidth": 0,
              "ticks": ""
             }
            },
            "marker": {
             "colorbar": {
              "outlinewidth": 0,
              "ticks": ""
             }
            },
            "type": "scatter3d"
           }
          ],
          "scattercarpet": [
           {
            "marker": {
             "colorbar": {
              "outlinewidth": 0,
              "ticks": ""
             }
            },
            "type": "scattercarpet"
           }
          ],
          "scattergeo": [
           {
            "marker": {
             "colorbar": {
              "outlinewidth": 0,
              "ticks": ""
             }
            },
            "type": "scattergeo"
           }
          ],
          "scattergl": [
           {
            "marker": {
             "colorbar": {
              "outlinewidth": 0,
              "ticks": ""
             }
            },
            "type": "scattergl"
           }
          ],
          "scattermapbox": [
           {
            "marker": {
             "colorbar": {
              "outlinewidth": 0,
              "ticks": ""
             }
            },
            "type": "scattermapbox"
           }
          ],
          "scatterpolar": [
           {
            "marker": {
             "colorbar": {
              "outlinewidth": 0,
              "ticks": ""
             }
            },
            "type": "scatterpolar"
           }
          ],
          "scatterpolargl": [
           {
            "marker": {
             "colorbar": {
              "outlinewidth": 0,
              "ticks": ""
             }
            },
            "type": "scatterpolargl"
           }
          ],
          "scatterternary": [
           {
            "marker": {
             "colorbar": {
              "outlinewidth": 0,
              "ticks": ""
             }
            },
            "type": "scatterternary"
           }
          ],
          "surface": [
           {
            "colorbar": {
             "outlinewidth": 0,
             "ticks": ""
            },
            "colorscale": [
             [
              0,
              "#0d0887"
             ],
             [
              0.1111111111111111,
              "#46039f"
             ],
             [
              0.2222222222222222,
              "#7201a8"
             ],
             [
              0.3333333333333333,
              "#9c179e"
             ],
             [
              0.4444444444444444,
              "#bd3786"
             ],
             [
              0.5555555555555556,
              "#d8576b"
             ],
             [
              0.6666666666666666,
              "#ed7953"
             ],
             [
              0.7777777777777778,
              "#fb9f3a"
             ],
             [
              0.8888888888888888,
              "#fdca26"
             ],
             [
              1,
              "#f0f921"
             ]
            ],
            "type": "surface"
           }
          ],
          "table": [
           {
            "cells": {
             "fill": {
              "color": "#EBF0F8"
             },
             "line": {
              "color": "white"
             }
            },
            "header": {
             "fill": {
              "color": "#C8D4E3"
             },
             "line": {
              "color": "white"
             }
            },
            "type": "table"
           }
          ]
         },
         "layout": {
          "annotationdefaults": {
           "arrowcolor": "#2a3f5f",
           "arrowhead": 0,
           "arrowwidth": 1
          },
          "autotypenumbers": "strict",
          "coloraxis": {
           "colorbar": {
            "outlinewidth": 0,
            "ticks": ""
           }
          },
          "colorscale": {
           "diverging": [
            [
             0,
             "#8e0152"
            ],
            [
             0.1,
             "#c51b7d"
            ],
            [
             0.2,
             "#de77ae"
            ],
            [
             0.3,
             "#f1b6da"
            ],
            [
             0.4,
             "#fde0ef"
            ],
            [
             0.5,
             "#f7f7f7"
            ],
            [
             0.6,
             "#e6f5d0"
            ],
            [
             0.7,
             "#b8e186"
            ],
            [
             0.8,
             "#7fbc41"
            ],
            [
             0.9,
             "#4d9221"
            ],
            [
             1,
             "#276419"
            ]
           ],
           "sequential": [
            [
             0,
             "#0d0887"
            ],
            [
             0.1111111111111111,
             "#46039f"
            ],
            [
             0.2222222222222222,
             "#7201a8"
            ],
            [
             0.3333333333333333,
             "#9c179e"
            ],
            [
             0.4444444444444444,
             "#bd3786"
            ],
            [
             0.5555555555555556,
             "#d8576b"
            ],
            [
             0.6666666666666666,
             "#ed7953"
            ],
            [
             0.7777777777777778,
             "#fb9f3a"
            ],
            [
             0.8888888888888888,
             "#fdca26"
            ],
            [
             1,
             "#f0f921"
            ]
           ],
           "sequentialminus": [
            [
             0,
             "#0d0887"
            ],
            [
             0.1111111111111111,
             "#46039f"
            ],
            [
             0.2222222222222222,
             "#7201a8"
            ],
            [
             0.3333333333333333,
             "#9c179e"
            ],
            [
             0.4444444444444444,
             "#bd3786"
            ],
            [
             0.5555555555555556,
             "#d8576b"
            ],
            [
             0.6666666666666666,
             "#ed7953"
            ],
            [
             0.7777777777777778,
             "#fb9f3a"
            ],
            [
             0.8888888888888888,
             "#fdca26"
            ],
            [
             1,
             "#f0f921"
            ]
           ]
          },
          "colorway": [
           "#636efa",
           "#EF553B",
           "#00cc96",
           "#ab63fa",
           "#FFA15A",
           "#19d3f3",
           "#FF6692",
           "#B6E880",
           "#FF97FF",
           "#FECB52"
          ],
          "font": {
           "color": "#2a3f5f"
          },
          "geo": {
           "bgcolor": "white",
           "lakecolor": "white",
           "landcolor": "#E5ECF6",
           "showlakes": true,
           "showland": true,
           "subunitcolor": "white"
          },
          "hoverlabel": {
           "align": "left"
          },
          "hovermode": "closest",
          "mapbox": {
           "style": "light"
          },
          "paper_bgcolor": "white",
          "plot_bgcolor": "#E5ECF6",
          "polar": {
           "angularaxis": {
            "gridcolor": "white",
            "linecolor": "white",
            "ticks": ""
           },
           "bgcolor": "#E5ECF6",
           "radialaxis": {
            "gridcolor": "white",
            "linecolor": "white",
            "ticks": ""
           }
          },
          "scene": {
           "xaxis": {
            "backgroundcolor": "#E5ECF6",
            "gridcolor": "white",
            "gridwidth": 2,
            "linecolor": "white",
            "showbackground": true,
            "ticks": "",
            "zerolinecolor": "white"
           },
           "yaxis": {
            "backgroundcolor": "#E5ECF6",
            "gridcolor": "white",
            "gridwidth": 2,
            "linecolor": "white",
            "showbackground": true,
            "ticks": "",
            "zerolinecolor": "white"
           },
           "zaxis": {
            "backgroundcolor": "#E5ECF6",
            "gridcolor": "white",
            "gridwidth": 2,
            "linecolor": "white",
            "showbackground": true,
            "ticks": "",
            "zerolinecolor": "white"
           }
          },
          "shapedefaults": {
           "line": {
            "color": "#2a3f5f"
           }
          },
          "ternary": {
           "aaxis": {
            "gridcolor": "white",
            "linecolor": "white",
            "ticks": ""
           },
           "baxis": {
            "gridcolor": "white",
            "linecolor": "white",
            "ticks": ""
           },
           "bgcolor": "#E5ECF6",
           "caxis": {
            "gridcolor": "white",
            "linecolor": "white",
            "ticks": ""
           }
          },
          "title": {
           "x": 0.05
          },
          "xaxis": {
           "automargin": true,
           "gridcolor": "white",
           "linecolor": "white",
           "ticks": "",
           "title": {
            "standoff": 15
           },
           "zerolinecolor": "white",
           "zerolinewidth": 2
          },
          "yaxis": {
           "automargin": true,
           "gridcolor": "white",
           "linecolor": "white",
           "ticks": "",
           "title": {
            "standoff": 15
           },
           "zerolinecolor": "white",
           "zerolinewidth": 2
          }
         }
        },
        "title": {
         "text": "Updating Parameter ARIMA Predictions, 2024-11-02"
        },
        "xaxis": {
         "autorange": true,
         "range": [
          "2022-02-05",
          "2025-04-05"
         ],
         "title": {
          "text": "Date"
         },
         "type": "date"
        },
        "yaxis": {
         "autorange": true,
         "range": [
          -6714.181883496307,
          57589.16746755244
         ],
         "title": {
          "text": "Count"
         },
         "type": "linear"
        }
       }
      },
      "image/png": "[encoded data removed]",
      "text/html": [
       "<div>                            <div id=\"93fe3a9b-19b5-40cd-ae47-0c6299c3ed98\" class=\"plotly-graph-div\" style=\"height:525px; width:100%;\"></div>            <script type=\"text/javascript\">                require([\"plotly\"], function(Plotly) {                    window.PLOTLYENV=window.PLOTLYENV || {};                                    if (document.getElementById(\"93fe3a9b-19b5-40cd-ae47-0c6299c3ed98\")) {                    Plotly.newPlot(                        \"93fe3a9b-19b5-40cd-ae47-0c6299c3ed98\",                        [{\"mode\":\"lines\",\"name\":\"Real Data\",\"x\":[\"2022-02-05T00:00:00\",\"2022-02-12T00:00:00\",\"2022-02-19T00:00:00\",\"2022-02-26T00:00:00\",\"2022-03-05T00:00:00\",\"2022-03-12T00:00:00\",\"2022-03-19T00:00:00\",\"2022-03-26T00:00:00\",\"2022-04-02T00:00:00\",\"2022-04-09T00:00:00\",\"2022-04-16T00:00:00\",\"2022-04-23T00:00:00\",\"2022-04-30T00:00:00\",\"2022-05-07T00:00:00\",\"2022-05-14T00:00:00\",\"2022-05-21T00:00:00\",\"2022-05-28T00:00:00\",\"2022-06-04T00:00:00\",\"2022-06-11T00:00:00\",\"2022-06-18T00:00:00\",\"2022-06-25T00:00:00\",\"2022-07-02T00:00:00\",\"2022-07-09T00:00:00\",\"2022-07-16T00:00:00\",\"2022-07-23T00:00:00\",\"2022-07-30T00:00:00\",\"2022-08-06T00:00:00\",\"2022-08-13T00:00:00\",\"2022-08-20T00:00:00\",\"2022-08-27T00:00:00\",\"2022-09-03T00:00:00\",\"2022-09-10T00:00:00\",\"2022-09-17T00:00:00\",\"2022-09-24T00:00:00\",\"2022-10-01T00:00:00\",\"2022-10-08T00:00:00\",\"2022-10-15T00:00:00\",\"2022-10-22T00:00:00\",\"2022-10-29T00:00:00\",\"2022-11-05T00:00:00\",\"2022-11-12T00:00:00\",\"2022-11-19T00:00:00\",\"2022-11-26T00:00:00\",\"2022-12-03T00:00:00\",\"2022-12-10T00:00:00\",\"2022-12-17T00:00:00\",\"2022-12-24T00:00:00\",\"2022-12-31T00:00:00\",\"2023-01-07T00:00:00\",\"2023-01-14T00:00:00\",\"2023-01-21T00:00:00\",\"2023-01-28T00:00:00\",\"2023-02-04T00:00:00\",\"2023-02-11T00:00:00\",\"2023-02-18T00:00:00\",\"2023-02-25T00:00:00\",\"2023-03-04T00:00:00\",\"2023-03-11T00:00:00\",\"2023-03-18T00:00:00\",\"2023-03-25T00:00:00\",\"2023-04-01T00:00:00\",\"2023-04-08T00:00:00\",\"2023-04-15T00:00:00\",\"2023-04-22T00:00:00\",\"2023-04-29T00:00:00\",\"2023-05-06T00:00:00\",\"2023-05-13T00:00:00\",\"2023-05-20T00:00:00\",\"2023-05-27T00:00:00\",\"2023-06-03T00:00:00\",\"2023-06-10T00:00:00\",\"2023-06-17T00:00:00\",\"2023-06-24T00:00:00\",\"2023-07-01T00:00:00\",\"2023-07-08T00:00:00\",\"2023-07-15T00:00:00\",\"2023-07-22T00:00:00\",\"2023-07-29T00:00:00\",\"2023-08-05T00:00:00\",\"2023-08-12T00:00:00\",\"2023-08-19T00:00:00\",\"2023-08-26T00:00:00\",\"2023-09-02T00:00:00\",\"2023-09-09T00:00:00\",\"2023-09-16T00:00:00\",\"2023-09-23T00:00:00\",\"2023-09-30T00:00:00\",\"2023-10-07T00:00:00\",\"2023-10-14T00:00:00\",\"2023-10-21T00:00:00\",\"2023-10-28T00:00:00\",\"2023-11-04T00:00:00\",\"2023-11-11T00:00:00\",\"2023-11-18T00:00:00\",\"2023-11-25T00:00:00\",\"2023-12-02T00:00:00\",\"2023-12-09T00:00:00\",\"2023-12-16T00:00:00\",\"2023-12-23T00:00:00\",\"2023-12-30T00:00:00\",\"2024-01-06T00:00:00\",\"2024-01-13T00:00:00\",\"2024-01-20T00:00:00\",\"2024-01-27T00:00:00\",\"2024-02-03T00:00:00\",\"2024-02-10T00:00:00\",\"2024-02-17T00:00:00\",\"2024-02-24T00:00:00\",\"2024-03-02T00:00:00\",\"2024-03-09T00:00:00\",\"2024-03-16T00:00:00\",\"2024-03-23T00:00:00\",\"2024-03-30T00:00:00\",\"2024-04-06T00:00:00\",\"2024-04-13T00:00:00\",\"2024-04-20T00:00:00\",\"2024-04-27T00:00:00\",\"2024-05-04T00:00:00\",\"2024-05-11T00:00:00\",\"2024-05-18T00:00:00\",\"2024-05-25T00:00:00\",\"2024-06-01T00:00:00\",\"2024-06-08T00:00:00\",\"2024-06-15T00:00:00\",\"2024-06-22T00:00:00\",\"2024-06-29T00:00:00\",\"2024-07-06T00:00:00\",\"2024-07-13T00:00:00\",\"2024-07-20T00:00:00\",\"2024-07-27T00:00:00\",\"2024-08-03T00:00:00\",\"2024-08-10T00:00:00\",\"2024-08-17T00:00:00\",\"2024-08-24T00:00:00\",\"2024-08-31T00:00:00\",\"2024-09-07T00:00:00\",\"2024-09-14T00:00:00\",\"2024-09-21T00:00:00\",\"2024-09-28T00:00:00\",\"2024-10-05T00:00:00\",\"2024-10-12T00:00:00\",\"2024-10-19T00:00:00\",\"2024-10-26T00:00:00\",\"2024-11-02T00:00:00\",\"2024-11-09T00:00:00\",\"2024-11-16T00:00:00\",\"2024-11-23T00:00:00\",\"2024-11-30T00:00:00\",\"2024-12-07T00:00:00\",\"2024-12-14T00:00:00\",\"2024-12-21T00:00:00\",\"2024-12-28T00:00:00\",\"2025-01-04T00:00:00\",\"2025-01-11T00:00:00\",\"2025-01-18T00:00:00\",\"2025-01-25T00:00:00\",\"2025-02-01T00:00:00\",\"2025-02-08T00:00:00\",\"2025-02-15T00:00:00\",\"2025-02-22T00:00:00\",\"2025-03-01T00:00:00\",\"2025-03-08T00:00:00\",\"2025-03-15T00:00:00\",\"2025-03-22T00:00:00\",\"2025-03-29T00:00:00\",\"2025-04-05T00:00:00\"],\"y\":[1091.0,1164.0,1493.0,1603.0,1791.0,2097.0,2625.0,2918.0,3008.0,3149.0,3308.0,3474.0,3182.0,3175.0,3119.0,3133.0,2738.0,2678.0,2210.0,1776.0,1366.0,1073.0,776.0,766.0,628.0,522.0,486.0,490.0,483.0,483.0,545.0,576.0,665.0,796.0,921.0,1316.0,1674.0,2292.0,4184.0,6408.0,8594.0,10971.0,18177.0,26834.0,24036.0,21612.0,19631.0,19479.0,14074.0,7185.0,4489.0,3091.0,2596.0,2177.0,1908.0,1647.0,1503.0,1372.0,1415.0,1331.0,1295.0,1198.0,1077.0,982.0,903.0,994.0,980.0,1116.0,974.0,939.0,935.0,873.0,813.0,836.0,699.0,736.0,645.0,771.0,690.0,706.0,738.0,793.0,875.0,804.0,821.0,881.0,1026.0,1110.0,1215.0,1470.0,1614.0,2014.0,2775.0,3491.0,4386.0,5955.0,7497.0,10273.0,15722.0,21682.0,19548.0,15905.0,13303.0,13025.0,11964.0,11629.0,11126.0,10870.0,10814.0,9416.0,7324.0,6049.0,5574.0,5071.0,4073.0,2943.0,2420.0,1485.0,852.0,682.0,611.0,591.0,511.0,518.0,441.0,356.0,342.0,367.0,325.0,273.0,275.0,275.0,275.0,274.0,262.0,223.0,319.0,293.0,223.0,287.0,295.0,553.0,1084.0,977.0,2081.0,2535.0,3099.0,4297.0,6307.0,9192.0,15467.0,27748.0,38767.0,30796.0,33020.0,40682.0,51337.0,54374.0,46244.0,37881.0,30807.0,23956.0,18384.0,13600.0,9597.0,6273.0],\"type\":\"scatter\"},{\"line\":{\"color\":\"#414487\"},\"mode\":\"lines\",\"name\":\"AutoARIMA-hi-80\",\"x\":[\"2024-11-09T00:00:00\",\"2024-11-16T00:00:00\",\"2024-11-23T00:00:00\",\"2024-11-30T00:00:00\"],\"y\":[2779.8436892924947,5081.2048743448595,7189.710819439115,9974.733746271886],\"type\":\"scatter\"},{\"line\":{\"color\":\"#1e9c89\"},\"mode\":\"lines\",\"name\":\"AutoARIMA-hi-95\",\"x\":[\"2024-11-09T00:00:00\",\"2024-11-16T00:00:00\",\"2024-11-23T00:00:00\",\"2024-11-30T00:00:00\"],\"y\":[3583.7791365700323,6702.421765187821,9426.739712521101,12692.545759299472],\"type\":\"scatter\"},{\"fill\":\"tonexty\",\"fillcolor\":\"#1e9c89\",\"line\":{\"color\":\"#1e9c89\"},\"mode\":\"lines\",\"name\":\"AutoARIMA-lo-95\",\"x\":[\"2024-11-09T00:00:00\",\"2024-11-16T00:00:00\",\"2024-11-23T00:00:00\",\"2024-11-30T00:00:00\"],\"y\":[-1061.4321786716266,-2665.1152321014397,-3499.014415943869,-3011.2164748057103],\"type\":\"scatter\"},{\"fill\":\"tonexty\",\"fillcolor\":\"#414487\",\"line\":{\"color\":\"#414487\"},\"mode\":\"lines\",\"name\":\"AutoARIMA-lo-80\",\"x\":[\"2024-11-09T00:00:00\",\"2024-11-16T00:00:00\",\"2024-11-23T00:00:00\",\"2024-11-30T00:00:00\"],\"y\":[-257.496731394089,-1043.8983412584782,-1261.985522861883,-293.40446177812373],\"type\":\"scatter\"},{\"line\":{\"color\":\"#2c728e\"},\"mode\":\"lines\",\"name\":\"AutoARIMA\",\"x\":[\"2024-11-09T00:00:00\",\"2024-11-16T00:00:00\",\"2024-11-23T00:00:00\",\"2024-11-30T00:00:00\"],\"y\":[1261.1734789492027,2018.6532665431907,2963.862648288616,4840.664642246881],\"type\":\"scatter\"}],                        {\"template\":{\"data\":{\"histogram2dcontour\":[{\"type\":\"histogram2dcontour\",\"colorbar\":{\"outlinewidth\":0,\"ticks\":\"\"},\"colorscale\":[[0.0,\"#0d0887\"],[0.1111111111111111,\"#46039f\"],[0.2222222222222222,\"#7201a8\"],[0.3333333333333333,\"#9c179e\"],[0.4444444444444444,\"#bd3786\"],[0.5555555555555556,\"#d8576b\"],[0.6666666666666666,\"#ed7953\"],[0.7777777777777778,\"#fb9f3a\"],[0.8888888888888888,\"#fdca26\"],[1.0,\"#f0f921\"]]}],\"choropleth\":[{\"type\":\"choropleth\",\"colorbar\":{\"outlinewidth\":0,\"ticks\":\"\"}}],\"histogram2d\":[{\"type\":\"histogram2d\",\"colorbar\":{\"outlinewidth\":0,\"ticks\":\"\"},\"colorscale\":[[0.0,\"#0d0887\"],[0.1111111111111111,\"#46039f\"],[0.2222222222222222,\"#7201a8\"],[0.3333333333333333,\"#9c179e\"],[0.4444444444444444,\"#bd3786\"],[0.5555555555555556,\"#d8576b\"],[0.6666666666666666,\"#ed7953\"],[0.7777777777777778,\"#fb9f3a\"],[0.8888888888888888,\"#fdca26\"],[1.0,\"#f0f921\"]]}],\"heatmap\":[{\"type\":\"heatmap\",\"colorbar\":{\"outlinewidth\":0,\"ticks\":\"\"},\"colorscale\":[[0.0,\"#0d0887\"],[0.1111111111111111,\"#46039f\"],[0.2222222222222222,\"#7201a8\"],[0.3333333333333333,\"#9c179e\"],[0.4444444444444444,\"#bd3786\"],[0.5555555555555556,\"#d8576b\"],[0.6666666666666666,\"#ed7953\"],[0.7777777777777778,\"#fb9f3a\"],[0.8888888888888888,\"#fdca26\"],[1.0,\"#f0f921\"]]}],\"heatmapgl\":[{\"type\":\"heatmapgl\",\"colorbar\":{\"outlinewidth\":0,\"ticks\":\"\"},\"colorscale\":[[0.0,\"#0d0887\"],[0.1111111111111111,\"#46039f\"],[0.2222222222222222,\"#7201a8\"],[0.3333333333333333,\"#9c179e\"],[0.4444444444444444,\"#bd3786\"],[0.5555555555555556,\"#d8576b\"],[0.6666666666666666,\"#ed7953\"],[0.7777777777777778,\"#fb9f3a\"],[0.8888888888888888,\"#fdca26\"],[1.0,\"#f0f921\"]]}],\"contourcarpet\":[{\"type\":\"contourcarpet\",\"colorbar\":{\"outlinewidth\":0,\"ticks\":\"\"}}],\"contour\":[{\"type\":\"contour\",\"colorbar\":{\"outlinewidth\":0,\"ticks\":\"\"},\"colorscale\":[[0.0,\"#0d0887\"],[0.1111111111111111,\"#46039f\"],[0.2222222222222222,\"#7201a8\"],[0.3333333333333333,\"#9c179e\"],[0.4444444444444444,\"#bd3786\"],[0.5555555555555556,\"#d8576b\"],[0.6666666666666666,\"#ed7953\"],[0.7777777777777778,\"#fb9f3a\"],[0.8888888888888888,\"#fdca26\"],[1.0,\"#f0f921\"]]}],\"surface\":[{\"type\":\"surface\",\"colorbar\":{\"outlinewidth\":0,\"ticks\":\"\"},\"colorscale\":[[0.0,\"#0d0887\"],[0.1111111111111111,\"#46039f\"],[0.2222222222222222,\"#7201a8\"],[0.3333333333333333,\"#9c179e\"],[0.4444444444444444,\"#bd3786\"],[0.5555555555555556,\"#d8576b\"],[0.6666666666666666,\"#ed7953\"],[0.7777777777777778,\"#fb9f3a\"],[0.8888888888888888,\"#fdca26\"],[1.0,\"#f0f921\"]]}],\"mesh3d\":[{\"type\":\"mesh3d\",\"colorbar\":{\"outlinewidth\":0,\"ticks\":\"\"}}],\"scatter\":[{\"fillpattern\":{\"fillmode\":\"overlay\",\"size\":10,\"solidity\":0.2},\"type\":\"scatter\"}],\"parcoords\":[{\"type\":\"parcoords\",\"line\":{\"colorbar\":{\"outlinewidth\":0,\"ticks\":\"\"}}}],\"scatterpolargl\":[{\"type\":\"scatterpolargl\",\"marker\":{\"colorbar\":{\"outlinewidth\":0,\"ticks\":\"\"}}}],\"bar\":[{\"error_x\":{\"color\":\"#2a3f5f\"},\"error_y\":{\"color\":\"#2a3f5f\"},\"marker\":{\"line\":{\"color\":\"#E5ECF6\",\"width\":0.5},\"pattern\":{\"fillmode\":\"overlay\",\"size\":10,\"solidity\":0.2}},\"type\":\"bar\"}],\"scattergeo\":[{\"type\":\"scattergeo\",\"marker\":{\"colorbar\":{\"outlinewidth\":0,\"ticks\":\"\"}}}],\"scatterpolar\":[{\"type\":\"scatterpolar\",\"marker\":{\"colorbar\":{\"outlinewidth\":0,\"ticks\":\"\"}}}],\"histogram\":[{\"marker\":{\"pattern\":{\"fillmode\":\"overlay\",\"size\":10,\"solidity\":0.2}},\"type\":\"histogram\"}],\"scattergl\":[{\"type\":\"scattergl\",\"marker\":{\"colorbar\":{\"outlinewidth\":0,\"ticks\":\"\"}}}],\"scatter3d\":[{\"type\":\"scatter3d\",\"line\":{\"colorbar\":{\"outlinewidth\":0,\"ticks\":\"\"}},\"marker\":{\"colorbar\":{\"outlinewidth\":0,\"ticks\":\"\"}}}],\"scattermapbox\":[{\"type\":\"scattermapbox\",\"marker\":{\"colorbar\":{\"outlinewidth\":0,\"ticks\":\"\"}}}],\"scatterternary\":[{\"type\":\"scatterternary\",\"marker\":{\"colorbar\":{\"outlinewidth\":0,\"ticks\":\"\"}}}],\"scattercarpet\":[{\"type\":\"scattercarpet\",\"marker\":{\"colorbar\":{\"outlinewidth\":0,\"ticks\":\"\"}}}],\"carpet\":[{\"aaxis\":{\"endlinecolor\":\"#2a3f5f\",\"gridcolor\":\"white\",\"linecolor\":\"white\",\"minorgridcolor\":\"white\",\"startlinecolor\":\"#2a3f5f\"},\"baxis\":{\"endlinecolor\":\"#2a3f5f\",\"gridcolor\":\"white\",\"linecolor\":\"white\",\"minorgridcolor\":\"white\",\"startlinecolor\":\"#2a3f5f\"},\"type\":\"carpet\"}],\"table\":[{\"cells\":{\"fill\":{\"color\":\"#EBF0F8\"},\"line\":{\"color\":\"white\"}},\"header\":{\"fill\":{\"color\":\"#C8D4E3\"},\"line\":{\"color\":\"white\"}},\"type\":\"table\"}],\"barpolar\":[{\"marker\":{\"line\":{\"color\":\"#E5ECF6\",\"width\":0.5},\"pattern\":{\"fillmode\":\"overlay\",\"size\":10,\"solidity\":0.2}},\"type\":\"barpolar\"}],\"pie\":[{\"automargin\":true,\"type\":\"pie\"}]},\"layout\":{\"autotypenumbers\":\"strict\",\"colorway\":[\"#636efa\",\"#EF553B\",\"#00cc96\",\"#ab63fa\",\"#FFA15A\",\"#19d3f3\",\"#FF6692\",\"#B6E880\",\"#FF97FF\",\"#FECB52\"],\"font\":{\"color\":\"#2a3f5f\"},\"hovermode\":\"closest\",\"hoverlabel\":{\"align\":\"left\"},\"paper_bgcolor\":\"white\",\"plot_bgcolor\":\"#E5ECF6\",\"polar\":{\"bgcolor\":\"#E5ECF6\",\"angularaxis\":{\"gridcolor\":\"white\",\"linecolor\":\"white\",\"ticks\":\"\"},\"radialaxis\":{\"gridcolor\":\"white\",\"linecolor\":\"white\",\"ticks\":\"\"}},\"ternary\":{\"bgcolor\":\"#E5ECF6\",\"aaxis\":{\"gridcolor\":\"white\",\"linecolor\":\"white\",\"ticks\":\"\"},\"baxis\":{\"gridcolor\":\"white\",\"linecolor\":\"white\",\"ticks\":\"\"},\"caxis\":{\"gridcolor\":\"white\",\"linecolor\":\"white\",\"ticks\":\"\"}},\"coloraxis\":{\"colorbar\":{\"outlinewidth\":0,\"ticks\":\"\"}},\"colorscale\":{\"sequential\":[[0.0,\"#0d0887\"],[0.1111111111111111,\"#46039f\"],[0.2222222222222222,\"#7201a8\"],[0.3333333333333333,\"#9c179e\"],[0.4444444444444444,\"#bd3786\"],[0.5555555555555556,\"#d8576b\"],[0.6666666666666666,\"#ed7953\"],[0.7777777777777778,\"#fb9f3a\"],[0.8888888888888888,\"#fdca26\"],[1.0,\"#f0f921\"]],\"sequentialminus\":[[0.0,\"#0d0887\"],[0.1111111111111111,\"#46039f\"],[0.2222222222222222,\"#7201a8\"],[0.3333333333333333,\"#9c179e\"],[0.4444444444444444,\"#bd3786\"],[0.5555555555555556,\"#d8576b\"],[0.6666666666666666,\"#ed7953\"],[0.7777777777777778,\"#fb9f3a\"],[0.8888888888888888,\"#fdca26\"],[1.0,\"#f0f921\"]],\"diverging\":[[0,\"#8e0152\"],[0.1,\"#c51b7d\"],[0.2,\"#de77ae\"],[0.3,\"#f1b6da\"],[0.4,\"#fde0ef\"],[0.5,\"#f7f7f7\"],[0.6,\"#e6f5d0\"],[0.7,\"#b8e186\"],[0.8,\"#7fbc41\"],[0.9,\"#4d9221\"],[1,\"#276419\"]]},\"xaxis\":{\"gridcolor\":\"white\",\"linecolor\":\"white\",\"ticks\":\"\",\"title\":{\"standoff\":15},\"zerolinecolor\":\"white\",\"automargin\":true,\"zerolinewidth\":2},\"yaxis\":{\"gridcolor\":\"white\",\"linecolor\":\"white\",\"ticks\":\"\",\"title\":{\"standoff\":15},\"zerolinecolor\":\"white\",\"automargin\":true,\"zerolinewidth\":2},\"scene\":{\"xaxis\":{\"backgroundcolor\":\"#E5ECF6\",\"gridcolor\":\"white\",\"linecolor\":\"white\",\"showbackground\":true,\"ticks\":\"\",\"zerolinecolor\":\"white\",\"gridwidth\":2},\"yaxis\":{\"backgroundcolor\":\"#E5ECF6\",\"gridcolor\":\"white\",\"linecolor\":\"white\",\"showbackground\":true,\"ticks\":\"\",\"zerolinecolor\":\"white\",\"gridwidth\":2},\"zaxis\":{\"backgroundcolor\":\"#E5ECF6\",\"gridcolor\":\"white\",\"linecolor\":\"white\",\"showbackground\":true,\"ticks\":\"\",\"zerolinecolor\":\"white\",\"gridwidth\":2}},\"shapedefaults\":{\"line\":{\"color\":\"#2a3f5f\"}},\"annotationdefaults\":{\"arrowcolor\":\"#2a3f5f\",\"arrowhead\":0,\"arrowwidth\":1},\"geo\":{\"bgcolor\":\"white\",\"landcolor\":\"#E5ECF6\",\"subunitcolor\":\"white\",\"showland\":true,\"showlakes\":true,\"lakecolor\":\"white\"},\"title\":{\"x\":0.05},\"mapbox\":{\"style\":\"light\"}}},\"title\":{\"text\":\"Updating Parameter ARIMA Predictions, 2024-11-02\"},\"xaxis\":{\"title\":{\"text\":\"Date\"}},\"yaxis\":{\"title\":{\"text\":\"Count\"}},\"hovermode\":\"x\"},                        {\"responsive\": true}                    ).then(function(){\n",
       "                            \n",
       "var gd = document.getElementById('93fe3a9b-19b5-40cd-ae47-0c6299c3ed98');\n",
       "var x = new MutationObserver(function (mutations, observer) {{\n",
       "        var display = window.getComputedStyle(gd).display;\n",
       "        if (!display || display === 'none') {{\n",
       "            console.log([gd, 'removed!']);\n",
       "            Plotly.purge(gd);\n",
       "            observer.disconnect();\n",
       "        }}\n",
       "}});\n",
       "\n",
       "// Listen for the removal of the full notebook cells\n",
       "var notebookContainer = gd.closest('#notebook-container');\n",
       "if (notebookContainer) {{\n",
       "    x.observe(notebookContainer, {childList: true});\n",
       "}}\n",
       "\n",
       "// Listen for the clearing of the current output cell\n",
       "var outputEl = gd.closest('.output');\n",
       "if (outputEl) {{\n",
       "    x.observe(outputEl, {childList: true});\n",
       "}}\n",
       "\n",
       "                        })                };                });            </script>        </div>"
      ]
     },
     "metadata": {},
     "output_type": "display_data"
    },
    {
     "data": {
      "application/vnd.plotly.v1+json": {
       "config": {
        "plotlyServerURL": "https://plot.ly"
       },
       "data": [
        {
         "mode": "lines",
         "name": "Real Data",
         "type": "scatter",
         "x": [
          "2022-02-05T00:00:00",
          "2022-02-12T00:00:00",
          "2022-02-19T00:00:00",
          "2022-02-26T00:00:00",
          "2022-03-05T00:00:00",
          "2022-03-12T00:00:00",
          "2022-03-19T00:00:00",
          "2022-03-26T00:00:00",
          "2022-04-02T00:00:00",
          "2022-04-09T00:00:00",
          "2022-04-16T00:00:00",
          "2022-04-23T00:00:00",
          "2022-04-30T00:00:00",
          "2022-05-07T00:00:00",
          "2022-05-14T00:00:00",
          "2022-05-21T00:00:00",
          "2022-05-28T00:00:00",
          "2022-06-04T00:00:00",
          "2022-06-11T00:00:00",
          "2022-06-18T00:00:00",
          "2022-06-25T00:00:00",
          "2022-07-02T00:00:00",
          "2022-07-09T00:00:00",
          "2022-07-16T00:00:00",
          "2022-07-23T00:00:00",
          "2022-07-30T00:00:00",
          "2022-08-06T00:00:00",
          "2022-08-13T00:00:00",
          "2022-08-20T00:00:00",
          "2022-08-27T00:00:00",
          "2022-09-03T00:00:00",
          "2022-09-10T00:00:00",
          "2022-09-17T00:00:00",
          "2022-09-24T00:00:00",
          "2022-10-01T00:00:00",
          "2022-10-08T00:00:00",
          "2022-10-15T00:00:00",
          "2022-10-22T00:00:00",
          "2022-10-29T00:00:00",
          "2022-11-05T00:00:00",
          "2022-11-12T00:00:00",
          "2022-11-19T00:00:00",
          "2022-11-26T00:00:00",
          "2022-12-03T00:00:00",
          "2022-12-10T00:00:00",
          "2022-12-17T00:00:00",
          "2022-12-24T00:00:00",
          "2022-12-31T00:00:00",
          "2023-01-07T00:00:00",
          "2023-01-14T00:00:00",
          "2023-01-21T00:00:00",
          "2023-01-28T00:00:00",
          "2023-02-04T00:00:00",
          "2023-02-11T00:00:00",
          "2023-02-18T00:00:00",
          "2023-02-25T00:00:00",
          "2023-03-04T00:00:00",
          "2023-03-11T00:00:00",
          "2023-03-18T00:00:00",
          "2023-03-25T00:00:00",
          "2023-04-01T00:00:00",
          "2023-04-08T00:00:00",
          "2023-04-15T00:00:00",
          "2023-04-22T00:00:00",
          "2023-04-29T00:00:00",
          "2023-05-06T00:00:00",
          "2023-05-13T00:00:00",
          "2023-05-20T00:00:00",
          "2023-05-27T00:00:00",
          "2023-06-03T00:00:00",
          "2023-06-10T00:00:00",
          "2023-06-17T00:00:00",
          "2023-06-24T00:00:00",
          "2023-07-01T00:00:00",
          "2023-07-08T00:00:00",
          "2023-07-15T00:00:00",
          "2023-07-22T00:00:00",
          "2023-07-29T00:00:00",
          "2023-08-05T00:00:00",
          "2023-08-12T00:00:00",
          "2023-08-19T00:00:00",
          "2023-08-26T00:00:00",
          "2023-09-02T00:00:00",
          "2023-09-09T00:00:00",
          "2023-09-16T00:00:00",
          "2023-09-23T00:00:00",
          "2023-09-30T00:00:00",
          "2023-10-07T00:00:00",
          "2023-10-14T00:00:00",
          "2023-10-21T00:00:00",
          "2023-10-28T00:00:00",
          "2023-11-04T00:00:00",
          "2023-11-11T00:00:00",
          "2023-11-18T00:00:00",
          "2023-11-25T00:00:00",
          "2023-12-02T00:00:00",
          "2023-12-09T00:00:00",
          "2023-12-16T00:00:00",
          "2023-12-23T00:00:00",
          "2023-12-30T00:00:00",
          "2024-01-06T00:00:00",
          "2024-01-13T00:00:00",
          "2024-01-20T00:00:00",
          "2024-01-27T00:00:00",
          "2024-02-03T00:00:00",
          "2024-02-10T00:00:00",
          "2024-02-17T00:00:00",
          "2024-02-24T00:00:00",
          "2024-03-02T00:00:00",
          "2024-03-09T00:00:00",
          "2024-03-16T00:00:00",
          "2024-03-23T00:00:00",
          "2024-03-30T00:00:00",
          "2024-04-06T00:00:00",
          "2024-04-13T00:00:00",
          "2024-04-20T00:00:00",
          "2024-04-27T00:00:00",
          "2024-05-04T00:00:00",
          "2024-05-11T00:00:00",
          "2024-05-18T00:00:00",
          "2024-05-25T00:00:00",
          "2024-06-01T00:00:00",
          "2024-06-08T00:00:00",
          "2024-06-15T00:00:00",
          "2024-06-22T00:00:00",
          "2024-06-29T00:00:00",
          "2024-07-06T00:00:00",
          "2024-07-13T00:00:00",
          "2024-07-20T00:00:00",
          "2024-07-27T00:00:00",
          "2024-08-03T00:00:00",
          "2024-08-10T00:00:00",
          "2024-08-17T00:00:00",
          "2024-08-24T00:00:00",
          "2024-08-31T00:00:00",
          "2024-09-07T00:00:00",
          "2024-09-14T00:00:00",
          "2024-09-21T00:00:00",
          "2024-09-28T00:00:00",
          "2024-10-05T00:00:00",
          "2024-10-12T00:00:00",
          "2024-10-19T00:00:00",
          "2024-10-26T00:00:00",
          "2024-11-02T00:00:00",
          "2024-11-09T00:00:00",
          "2024-11-16T00:00:00",
          "2024-11-23T00:00:00",
          "2024-11-30T00:00:00",
          "2024-12-07T00:00:00",
          "2024-12-14T00:00:00",
          "2024-12-21T00:00:00",
          "2024-12-28T00:00:00",
          "2025-01-04T00:00:00",
          "2025-01-11T00:00:00",
          "2025-01-18T00:00:00",
          "2025-01-25T00:00:00",
          "2025-02-01T00:00:00",
          "2025-02-08T00:00:00",
          "2025-02-15T00:00:00",
          "2025-02-22T00:00:00",
          "2025-03-01T00:00:00",
          "2025-03-08T00:00:00",
          "2025-03-15T00:00:00",
          "2025-03-22T00:00:00",
          "2025-03-29T00:00:00",
          "2025-04-05T00:00:00"
         ],
         "y": [
          1091,
          1164,
          1493,
          1603,
          1791,
          2097,
          2625,
          2918,
          3008,
          3149,
          3308,
          3474,
          3182,
          3175,
          3119,
          3133,
          2738,
          2678,
          2210,
          1776,
          1366,
          1073,
          776,
          766,
          628,
          522,
          486,
          490,
          483,
          483,
          545,
          576,
          665,
          796,
          921,
          1316,
          1674,
          2292,
          4184,
          6408,
          8594,
          10971,
          18177,
          26834,
          24036,
          21612,
          19631,
          19479,
          14074,
          7185,
          4489,
          3091,
          2596,
          2177,
          1908,
          1647,
          1503,
          1372,
          1415,
          1331,
          1295,
          1198,
          1077,
          982,
          903,
          994,
          980,
          1116,
          974,
          939,
          935,
          873,
          813,
          836,
          699,
          736,
          645,
          771,
          690,
          706,
          738,
          793,
          875,
          804,
          821,
          881,
          1026,
          1110,
          1215,
          1470,
          1614,
          2014,
          2775,
          3491,
          4386,
          5955,
          7497,
          10273,
          15722,
          21682,
          19548,
          15905,
          13303,
          13025,
          11964,
          11629,
          11126,
          10870,
          10814,
          9416,
          7324,
          6049,
          5574,
          5071,
          4073,
          2943,
          2420,
          1485,
          852,
          682,
          611,
          591,
          511,
          518,
          441,
          356,
          342,
          367,
          325,
          273,
          275,
          275,
          275,
          274,
          262,
          223,
          319,
          293,
          223,
          287,
          295,
          553,
          1084,
          977,
          2081,
          2535,
          3099,
          4297,
          6307,
          9192,
          15467,
          27748,
          38767,
          30796,
          33020,
          40682,
          51337,
          54374,
          46244,
          37881,
          30807,
          23956,
          18384,
          13600,
          9597,
          6273
         ]
        },
        {
         "line": {
          "color": "#414487"
         },
         "mode": "lines",
         "name": "AutoARIMA-hi-80",
         "type": "scatter",
         "x": [
          "2024-11-23T00:00:00",
          "2024-11-30T00:00:00",
          "2024-12-07T00:00:00",
          "2024-12-14T00:00:00"
         ],
         "y": [
          4462.248489113533,
          7709.718830629059,
          10409.564009745114,
          14418.020145158025
         ]
        },
        {
         "line": {
          "color": "#1e9c89"
         },
         "mode": "lines",
         "name": "AutoARIMA-hi-95",
         "type": "scatter",
         "x": [
          "2024-11-23T00:00:00",
          "2024-11-30T00:00:00",
          "2024-12-07T00:00:00",
          "2024-12-14T00:00:00"
         ],
         "y": [
          5262.255891626516,
          9315.975114074115,
          12624.287592780904,
          17106.831436316497
         ]
        },
        {
         "fill": "tonexty",
         "fillcolor": "#1e9c89",
         "line": {
          "color": "#1e9c89"
         },
         "mode": "lines",
         "name": "AutoARIMA-lo-95",
         "type": "scatter",
         "x": [
          "2024-11-23T00:00:00",
          "2024-11-30T00:00:00",
          "2024-12-07T00:00:00",
          "2024-12-14T00:00:00"
         ],
         "y": [
          639.7411722979678,
          34.88185179240281,
          -172.58444823857008,
          1570.637981312655
         ]
        },
        {
         "fill": "tonexty",
         "fillcolor": "#414487",
         "line": {
          "color": "#414487"
         },
         "mode": "lines",
         "name": "AutoARIMA-lo-80",
         "type": "scatter",
         "x": [
          "2024-11-23T00:00:00",
          "2024-11-30T00:00:00",
          "2024-12-07T00:00:00",
          "2024-12-14T00:00:00"
         ],
         "y": [
          1439.7485748109511,
          1641.1381352374592,
          2042.1391347972212,
          4259.449272471127
         ]
        },
        {
         "line": {
          "color": "#2c728e"
         },
         "mode": "lines",
         "name": "AutoARIMA",
         "type": "scatter",
         "x": [
          "2024-11-23T00:00:00",
          "2024-11-30T00:00:00",
          "2024-12-07T00:00:00",
          "2024-12-14T00:00:00"
         ],
         "y": [
          2950.998531962242,
          4675.428482933259,
          6225.851572271167,
          9338.734708814576
         ]
        }
       ],
       "layout": {
        "autosize": true,
        "hovermode": "x",
        "template": {
         "data": {
          "bar": [
           {
            "error_x": {
             "color": "#2a3f5f"
            },
            "error_y": {
             "color": "#2a3f5f"
            },
            "marker": {
             "line": {
              "color": "#E5ECF6",
              "width": 0.5
             },
             "pattern": {
              "fillmode": "overlay",
              "size": 10,
              "solidity": 0.2
             }
            },
            "type": "bar"
           }
          ],
          "barpolar": [
           {
            "marker": {
             "line": {
              "color": "#E5ECF6",
              "width": 0.5
             },
             "pattern": {
              "fillmode": "overlay",
              "size": 10,
              "solidity": 0.2
             }
            },
            "type": "barpolar"
           }
          ],
          "carpet": [
           {
            "aaxis": {
             "endlinecolor": "#2a3f5f",
             "gridcolor": "white",
             "linecolor": "white",
             "minorgridcolor": "white",
             "startlinecolor": "#2a3f5f"
            },
            "baxis": {
             "endlinecolor": "#2a3f5f",
             "gridcolor": "white",
             "linecolor": "white",
             "minorgridcolor": "white",
             "startlinecolor": "#2a3f5f"
            },
            "type": "carpet"
           }
          ],
          "choropleth": [
           {
            "colorbar": {
             "outlinewidth": 0,
             "ticks": ""
            },
            "type": "choropleth"
           }
          ],
          "contour": [
           {
            "colorbar": {
             "outlinewidth": 0,
             "ticks": ""
            },
            "colorscale": [
             [
              0,
              "#0d0887"
             ],
             [
              0.1111111111111111,
              "#46039f"
             ],
             [
              0.2222222222222222,
              "#7201a8"
             ],
             [
              0.3333333333333333,
              "#9c179e"
             ],
             [
              0.4444444444444444,
              "#bd3786"
             ],
             [
              0.5555555555555556,
              "#d8576b"
             ],
             [
              0.6666666666666666,
              "#ed7953"
             ],
             [
              0.7777777777777778,
              "#fb9f3a"
             ],
             [
              0.8888888888888888,
              "#fdca26"
             ],
             [
              1,
              "#f0f921"
             ]
            ],
            "type": "contour"
           }
          ],
          "contourcarpet": [
           {
            "colorbar": {
             "outlinewidth": 0,
             "ticks": ""
            },
            "type": "contourcarpet"
           }
          ],
          "heatmap": [
           {
            "colorbar": {
             "outlinewidth": 0,
             "ticks": ""
            },
            "colorscale": [
             [
              0,
              "#0d0887"
             ],
             [
              0.1111111111111111,
              "#46039f"
             ],
             [
              0.2222222222222222,
              "#7201a8"
             ],
             [
              0.3333333333333333,
              "#9c179e"
             ],
             [
              0.4444444444444444,
              "#bd3786"
             ],
             [
              0.5555555555555556,
              "#d8576b"
             ],
             [
              0.6666666666666666,
              "#ed7953"
             ],
             [
              0.7777777777777778,
              "#fb9f3a"
             ],
             [
              0.8888888888888888,
              "#fdca26"
             ],
             [
              1,
              "#f0f921"
             ]
            ],
            "type": "heatmap"
           }
          ],
          "heatmapgl": [
           {
            "colorbar": {
             "outlinewidth": 0,
             "ticks": ""
            },
            "colorscale": [
             [
              0,
              "#0d0887"
             ],
             [
              0.1111111111111111,
              "#46039f"
             ],
             [
              0.2222222222222222,
              "#7201a8"
             ],
             [
              0.3333333333333333,
              "#9c179e"
             ],
             [
              0.4444444444444444,
              "#bd3786"
             ],
             [
              0.5555555555555556,
              "#d8576b"
             ],
             [
              0.6666666666666666,
              "#ed7953"
             ],
             [
              0.7777777777777778,
              "#fb9f3a"
             ],
             [
              0.8888888888888888,
              "#fdca26"
             ],
             [
              1,
              "#f0f921"
             ]
            ],
            "type": "heatmapgl"
           }
          ],
          "histogram": [
           {
            "marker": {
             "pattern": {
              "fillmode": "overlay",
              "size": 10,
              "solidity": 0.2
             }
            },
            "type": "histogram"
           }
          ],
          "histogram2d": [
           {
            "colorbar": {
             "outlinewidth": 0,
             "ticks": ""
            },
            "colorscale": [
             [
              0,
              "#0d0887"
             ],
             [
              0.1111111111111111,
              "#46039f"
             ],
             [
              0.2222222222222222,
              "#7201a8"
             ],
             [
              0.3333333333333333,
              "#9c179e"
             ],
             [
              0.4444444444444444,
              "#bd3786"
             ],
             [
              0.5555555555555556,
              "#d8576b"
             ],
             [
              0.6666666666666666,
              "#ed7953"
             ],
             [
              0.7777777777777778,
              "#fb9f3a"
             ],
             [
              0.8888888888888888,
              "#fdca26"
             ],
             [
              1,
              "#f0f921"
             ]
            ],
            "type": "histogram2d"
           }
          ],
          "histogram2dcontour": [
           {
            "colorbar": {
             "outlinewidth": 0,
             "ticks": ""
            },
            "colorscale": [
             [
              0,
              "#0d0887"
             ],
             [
              0.1111111111111111,
              "#46039f"
             ],
             [
              0.2222222222222222,
              "#7201a8"
             ],
             [
              0.3333333333333333,
              "#9c179e"
             ],
             [
              0.4444444444444444,
              "#bd3786"
             ],
             [
              0.5555555555555556,
              "#d8576b"
             ],
             [
              0.6666666666666666,
              "#ed7953"
             ],
             [
              0.7777777777777778,
              "#fb9f3a"
             ],
             [
              0.8888888888888888,
              "#fdca26"
             ],
             [
              1,
              "#f0f921"
             ]
            ],
            "type": "histogram2dcontour"
           }
          ],
          "mesh3d": [
           {
            "colorbar": {
             "outlinewidth": 0,
             "ticks": ""
            },
            "type": "mesh3d"
           }
          ],
          "parcoords": [
           {
            "line": {
             "colorbar": {
              "outlinewidth": 0,
              "ticks": ""
             }
            },
            "type": "parcoords"
           }
          ],
          "pie": [
           {
            "automargin": true,
            "type": "pie"
           }
          ],
          "scatter": [
           {
            "fillpattern": {
             "fillmode": "overlay",
             "size": 10,
             "solidity": 0.2
            },
            "type": "scatter"
           }
          ],
          "scatter3d": [
           {
            "line": {
             "colorbar": {
              "outlinewidth": 0,
              "ticks": ""
             }
            },
            "marker": {
             "colorbar": {
              "outlinewidth": 0,
              "ticks": ""
             }
            },
            "type": "scatter3d"
           }
          ],
          "scattercarpet": [
           {
            "marker": {
             "colorbar": {
              "outlinewidth": 0,
              "ticks": ""
             }
            },
            "type": "scattercarpet"
           }
          ],
          "scattergeo": [
           {
            "marker": {
             "colorbar": {
              "outlinewidth": 0,
              "ticks": ""
             }
            },
            "type": "scattergeo"
           }
          ],
          "scattergl": [
           {
            "marker": {
             "colorbar": {
              "outlinewidth": 0,
              "ticks": ""
             }
            },
            "type": "scattergl"
           }
          ],
          "scattermapbox": [
           {
            "marker": {
             "colorbar": {
              "outlinewidth": 0,
              "ticks": ""
             }
            },
            "type": "scattermapbox"
           }
          ],
          "scatterpolar": [
           {
            "marker": {
             "colorbar": {
              "outlinewidth": 0,
              "ticks": ""
             }
            },
            "type": "scatterpolar"
           }
          ],
          "scatterpolargl": [
           {
            "marker": {
             "colorbar": {
              "outlinewidth": 0,
              "ticks": ""
             }
            },
            "type": "scatterpolargl"
           }
          ],
          "scatterternary": [
           {
            "marker": {
             "colorbar": {
              "outlinewidth": 0,
              "ticks": ""
             }
            },
            "type": "scatterternary"
           }
          ],
          "surface": [
           {
            "colorbar": {
             "outlinewidth": 0,
             "ticks": ""
            },
            "colorscale": [
             [
              0,
              "#0d0887"
             ],
             [
              0.1111111111111111,
              "#46039f"
             ],
             [
              0.2222222222222222,
              "#7201a8"
             ],
             [
              0.3333333333333333,
              "#9c179e"
             ],
             [
              0.4444444444444444,
              "#bd3786"
             ],
             [
              0.5555555555555556,
              "#d8576b"
             ],
             [
              0.6666666666666666,
              "#ed7953"
             ],
             [
              0.7777777777777778,
              "#fb9f3a"
             ],
             [
              0.8888888888888888,
              "#fdca26"
             ],
             [
              1,
              "#f0f921"
             ]
            ],
            "type": "surface"
           }
          ],
          "table": [
           {
            "cells": {
             "fill": {
              "color": "#EBF0F8"
             },
             "line": {
              "color": "white"
             }
            },
            "header": {
             "fill": {
              "color": "#C8D4E3"
             },
             "line": {
              "color": "white"
             }
            },
            "type": "table"
           }
          ]
         },
         "layout": {
          "annotationdefaults": {
           "arrowcolor": "#2a3f5f",
           "arrowhead": 0,
           "arrowwidth": 1
          },
          "autotypenumbers": "strict",
          "coloraxis": {
           "colorbar": {
            "outlinewidth": 0,
            "ticks": ""
           }
          },
          "colorscale": {
           "diverging": [
            [
             0,
             "#8e0152"
            ],
            [
             0.1,
             "#c51b7d"
            ],
            [
             0.2,
             "#de77ae"
            ],
            [
             0.3,
             "#f1b6da"
            ],
            [
             0.4,
             "#fde0ef"
            ],
            [
             0.5,
             "#f7f7f7"
            ],
            [
             0.6,
             "#e6f5d0"
            ],
            [
             0.7,
             "#b8e186"
            ],
            [
             0.8,
             "#7fbc41"
            ],
            [
             0.9,
             "#4d9221"
            ],
            [
             1,
             "#276419"
            ]
           ],
           "sequential": [
            [
             0,
             "#0d0887"
            ],
            [
             0.1111111111111111,
             "#46039f"
            ],
            [
             0.2222222222222222,
             "#7201a8"
            ],
            [
             0.3333333333333333,
             "#9c179e"
            ],
            [
             0.4444444444444444,
             "#bd3786"
            ],
            [
             0.5555555555555556,
             "#d8576b"
            ],
            [
             0.6666666666666666,
             "#ed7953"
            ],
            [
             0.7777777777777778,
             "#fb9f3a"
            ],
            [
             0.8888888888888888,
             "#fdca26"
            ],
            [
             1,
             "#f0f921"
            ]
           ],
           "sequentialminus": [
            [
             0,
             "#0d0887"
            ],
            [
             0.1111111111111111,
             "#46039f"
            ],
            [
             0.2222222222222222,
             "#7201a8"
            ],
            [
             0.3333333333333333,
             "#9c179e"
            ],
            [
             0.4444444444444444,
             "#bd3786"
            ],
            [
             0.5555555555555556,
             "#d8576b"
            ],
            [
             0.6666666666666666,
             "#ed7953"
            ],
            [
             0.7777777777777778,
             "#fb9f3a"
            ],
            [
             0.8888888888888888,
             "#fdca26"
            ],
            [
             1,
             "#f0f921"
            ]
           ]
          },
          "colorway": [
           "#636efa",
           "#EF553B",
           "#00cc96",
           "#ab63fa",
           "#FFA15A",
           "#19d3f3",
           "#FF6692",
           "#B6E880",
           "#FF97FF",
           "#FECB52"
          ],
          "font": {
           "color": "#2a3f5f"
          },
          "geo": {
           "bgcolor": "white",
           "lakecolor": "white",
           "landcolor": "#E5ECF6",
           "showlakes": true,
           "showland": true,
           "subunitcolor": "white"
          },
          "hoverlabel": {
           "align": "left"
          },
          "hovermode": "closest",
          "mapbox": {
           "style": "light"
          },
          "paper_bgcolor": "white",
          "plot_bgcolor": "#E5ECF6",
          "polar": {
           "angularaxis": {
            "gridcolor": "white",
            "linecolor": "white",
            "ticks": ""
           },
           "bgcolor": "#E5ECF6",
           "radialaxis": {
            "gridcolor": "white",
            "linecolor": "white",
            "ticks": ""
           }
          },
          "scene": {
           "xaxis": {
            "backgroundcolor": "#E5ECF6",
            "gridcolor": "white",
            "gridwidth": 2,
            "linecolor": "white",
            "showbackground": true,
            "ticks": "",
            "zerolinecolor": "white"
           },
           "yaxis": {
            "backgroundcolor": "#E5ECF6",
            "gridcolor": "white",
            "gridwidth": 2,
            "linecolor": "white",
            "showbackground": true,
            "ticks": "",
            "zerolinecolor": "white"
           },
           "zaxis": {
            "backgroundcolor": "#E5ECF6",
            "gridcolor": "white",
            "gridwidth": 2,
            "linecolor": "white",
            "showbackground": true,
            "ticks": "",
            "zerolinecolor": "white"
           }
          },
          "shapedefaults": {
           "line": {
            "color": "#2a3f5f"
           }
          },
          "ternary": {
           "aaxis": {
            "gridcolor": "white",
            "linecolor": "white",
            "ticks": ""
           },
           "baxis": {
            "gridcolor": "white",
            "linecolor": "white",
            "ticks": ""
           },
           "bgcolor": "#E5ECF6",
           "caxis": {
            "gridcolor": "white",
            "linecolor": "white",
            "ticks": ""
           }
          },
          "title": {
           "x": 0.05
          },
          "xaxis": {
           "automargin": true,
           "gridcolor": "white",
           "linecolor": "white",
           "ticks": "",
           "title": {
            "standoff": 15
           },
           "zerolinecolor": "white",
           "zerolinewidth": 2
          },
          "yaxis": {
           "automargin": true,
           "gridcolor": "white",
           "linecolor": "white",
           "ticks": "",
           "title": {
            "standoff": 15
           },
           "zerolinecolor": "white",
           "zerolinewidth": 2
          }
         }
        },
        "title": {
         "text": "Updating Parameter ARIMA Predictions, 2024-11-16"
        },
        "xaxis": {
         "autorange": true,
         "range": [
          "2022-02-05",
          "2025-04-05"
         ],
         "title": {
          "text": "Date"
         },
         "type": "date"
        },
        "yaxis": {
         "autorange": true,
         "range": [
          -3202.9502509184904,
          57404.365802679924
         ],
         "title": {
          "text": "Count"
         },
         "type": "linear"
        }
       }
      },
      "image/png": "[encoded data removed]",
      "text/html": [
       "<div>                            <div id=\"05d9ac21-40b3-40f3-b0e3-36ad93508df9\" class=\"plotly-graph-div\" style=\"height:525px; width:100%;\"></div>            <script type=\"text/javascript\">                require([\"plotly\"], function(Plotly) {                    window.PLOTLYENV=window.PLOTLYENV || {};                                    if (document.getElementById(\"05d9ac21-40b3-40f3-b0e3-36ad93508df9\")) {                    Plotly.newPlot(                        \"05d9ac21-40b3-40f3-b0e3-36ad93508df9\",                        [{\"mode\":\"lines\",\"name\":\"Real Data\",\"x\":[\"2022-02-05T00:00:00\",\"2022-02-12T00:00:00\",\"2022-02-19T00:00:00\",\"2022-02-26T00:00:00\",\"2022-03-05T00:00:00\",\"2022-03-12T00:00:00\",\"2022-03-19T00:00:00\",\"2022-03-26T00:00:00\",\"2022-04-02T00:00:00\",\"2022-04-09T00:00:00\",\"2022-04-16T00:00:00\",\"2022-04-23T00:00:00\",\"2022-04-30T00:00:00\",\"2022-05-07T00:00:00\",\"2022-05-14T00:00:00\",\"2022-05-21T00:00:00\",\"2022-05-28T00:00:00\",\"2022-06-04T00:00:00\",\"2022-06-11T00:00:00\",\"2022-06-18T00:00:00\",\"2022-06-25T00:00:00\",\"2022-07-02T00:00:00\",\"2022-07-09T00:00:00\",\"2022-07-16T00:00:00\",\"2022-07-23T00:00:00\",\"2022-07-30T00:00:00\",\"2022-08-06T00:00:00\",\"2022-08-13T00:00:00\",\"2022-08-20T00:00:00\",\"2022-08-27T00:00:00\",\"2022-09-03T00:00:00\",\"2022-09-10T00:00:00\",\"2022-09-17T00:00:00\",\"2022-09-24T00:00:00\",\"2022-10-01T00:00:00\",\"2022-10-08T00:00:00\",\"2022-10-15T00:00:00\",\"2022-10-22T00:00:00\",\"2022-10-29T00:00:00\",\"2022-11-05T00:00:00\",\"2022-11-12T00:00:00\",\"2022-11-19T00:00:00\",\"2022-11-26T00:00:00\",\"2022-12-03T00:00:00\",\"2022-12-10T00:00:00\",\"2022-12-17T00:00:00\",\"2022-12-24T00:00:00\",\"2022-12-31T00:00:00\",\"2023-01-07T00:00:00\",\"2023-01-14T00:00:00\",\"2023-01-21T00:00:00\",\"2023-01-28T00:00:00\",\"2023-02-04T00:00:00\",\"2023-02-11T00:00:00\",\"2023-02-18T00:00:00\",\"2023-02-25T00:00:00\",\"2023-03-04T00:00:00\",\"2023-03-11T00:00:00\",\"2023-03-18T00:00:00\",\"2023-03-25T00:00:00\",\"2023-04-01T00:00:00\",\"2023-04-08T00:00:00\",\"2023-04-15T00:00:00\",\"2023-04-22T00:00:00\",\"2023-04-29T00:00:00\",\"2023-05-06T00:00:00\",\"2023-05-13T00:00:00\",\"2023-05-20T00:00:00\",\"2023-05-27T00:00:00\",\"2023-06-03T00:00:00\",\"2023-06-10T00:00:00\",\"2023-06-17T00:00:00\",\"2023-06-24T00:00:00\",\"2023-07-01T00:00:00\",\"2023-07-08T00:00:00\",\"2023-07-15T00:00:00\",\"2023-07-22T00:00:00\",\"2023-07-29T00:00:00\",\"2023-08-05T00:00:00\",\"2023-08-12T00:00:00\",\"2023-08-19T00:00:00\",\"2023-08-26T00:00:00\",\"2023-09-02T00:00:00\",\"2023-09-09T00:00:00\",\"2023-09-16T00:00:00\",\"2023-09-23T00:00:00\",\"2023-09-30T00:00:00\",\"2023-10-07T00:00:00\",\"2023-10-14T00:00:00\",\"2023-10-21T00:00:00\",\"2023-10-28T00:00:00\",\"2023-11-04T00:00:00\",\"2023-11-11T00:00:00\",\"2023-11-18T00:00:00\",\"2023-11-25T00:00:00\",\"2023-12-02T00:00:00\",\"2023-12-09T00:00:00\",\"2023-12-16T00:00:00\",\"2023-12-23T00:00:00\",\"2023-12-30T00:00:00\",\"2024-01-06T00:00:00\",\"2024-01-13T00:00:00\",\"2024-01-20T00:00:00\",\"2024-01-27T00:00:00\",\"2024-02-03T00:00:00\",\"2024-02-10T00:00:00\",\"2024-02-17T00:00:00\",\"2024-02-24T00:00:00\",\"2024-03-02T00:00:00\",\"2024-03-09T00:00:00\",\"2024-03-16T00:00:00\",\"2024-03-23T00:00:00\",\"2024-03-30T00:00:00\",\"2024-04-06T00:00:00\",\"2024-04-13T00:00:00\",\"2024-04-20T00:00:00\",\"2024-04-27T00:00:00\",\"2024-05-04T00:00:00\",\"2024-05-11T00:00:00\",\"2024-05-18T00:00:00\",\"2024-05-25T00:00:00\",\"2024-06-01T00:00:00\",\"2024-06-08T00:00:00\",\"2024-06-15T00:00:00\",\"2024-06-22T00:00:00\",\"2024-06-29T00:00:00\",\"2024-07-06T00:00:00\",\"2024-07-13T00:00:00\",\"2024-07-20T00:00:00\",\"2024-07-27T00:00:00\",\"2024-08-03T00:00:00\",\"2024-08-10T00:00:00\",\"2024-08-17T00:00:00\",\"2024-08-24T00:00:00\",\"2024-08-31T00:00:00\",\"2024-09-07T00:00:00\",\"2024-09-14T00:00:00\",\"2024-09-21T00:00:00\",\"2024-09-28T00:00:00\",\"2024-10-05T00:00:00\",\"2024-10-12T00:00:00\",\"2024-10-19T00:00:00\",\"2024-10-26T00:00:00\",\"2024-11-02T00:00:00\",\"2024-11-09T00:00:00\",\"2024-11-16T00:00:00\",\"2024-11-23T00:00:00\",\"2024-11-30T00:00:00\",\"2024-12-07T00:00:00\",\"2024-12-14T00:00:00\",\"2024-12-21T00:00:00\",\"2024-12-28T00:00:00\",\"2025-01-04T00:00:00\",\"2025-01-11T00:00:00\",\"2025-01-18T00:00:00\",\"2025-01-25T00:00:00\",\"2025-02-01T00:00:00\",\"2025-02-08T00:00:00\",\"2025-02-15T00:00:00\",\"2025-02-22T00:00:00\",\"2025-03-01T00:00:00\",\"2025-03-08T00:00:00\",\"2025-03-15T00:00:00\",\"2025-03-22T00:00:00\",\"2025-03-29T00:00:00\",\"2025-04-05T00:00:00\"],\"y\":[1091.0,1164.0,1493.0,1603.0,1791.0,2097.0,2625.0,2918.0,3008.0,3149.0,3308.0,3474.0,3182.0,3175.0,3119.0,3133.0,2738.0,2678.0,2210.0,1776.0,1366.0,1073.0,776.0,766.0,628.0,522.0,486.0,490.0,483.0,483.0,545.0,576.0,665.0,796.0,921.0,1316.0,1674.0,2292.0,4184.0,6408.0,8594.0,10971.0,18177.0,26834.0,24036.0,21612.0,19631.0,19479.0,14074.0,7185.0,4489.0,3091.0,2596.0,2177.0,1908.0,1647.0,1503.0,1372.0,1415.0,1331.0,1295.0,1198.0,1077.0,982.0,903.0,994.0,980.0,1116.0,974.0,939.0,935.0,873.0,813.0,836.0,699.0,736.0,645.0,771.0,690.0,706.0,738.0,793.0,875.0,804.0,821.0,881.0,1026.0,1110.0,1215.0,1470.0,1614.0,2014.0,2775.0,3491.0,4386.0,5955.0,7497.0,10273.0,15722.0,21682.0,19548.0,15905.0,13303.0,13025.0,11964.0,11629.0,11126.0,10870.0,10814.0,9416.0,7324.0,6049.0,5574.0,5071.0,4073.0,2943.0,2420.0,1485.0,852.0,682.0,611.0,591.0,511.0,518.0,441.0,356.0,342.0,367.0,325.0,273.0,275.0,275.0,275.0,274.0,262.0,223.0,319.0,293.0,223.0,287.0,295.0,553.0,1084.0,977.0,2081.0,2535.0,3099.0,4297.0,6307.0,9192.0,15467.0,27748.0,38767.0,30796.0,33020.0,40682.0,51337.0,54374.0,46244.0,37881.0,30807.0,23956.0,18384.0,13600.0,9597.0,6273.0],\"type\":\"scatter\"},{\"line\":{\"color\":\"#414487\"},\"mode\":\"lines\",\"name\":\"AutoARIMA-hi-80\",\"x\":[\"2024-11-23T00:00:00\",\"2024-11-30T00:00:00\",\"2024-12-07T00:00:00\",\"2024-12-14T00:00:00\"],\"y\":[4462.248489113533,7709.718830629059,10409.564009745114,14418.020145158025],\"type\":\"scatter\"},{\"line\":{\"color\":\"#1e9c89\"},\"mode\":\"lines\",\"name\":\"AutoARIMA-hi-95\",\"x\":[\"2024-11-23T00:00:00\",\"2024-11-30T00:00:00\",\"2024-12-07T00:00:00\",\"2024-12-14T00:00:00\"],\"y\":[5262.255891626516,9315.975114074115,12624.287592780904,17106.831436316497],\"type\":\"scatter\"},{\"fill\":\"tonexty\",\"fillcolor\":\"#1e9c89\",\"line\":{\"color\":\"#1e9c89\"},\"mode\":\"lines\",\"name\":\"AutoARIMA-lo-95\",\"x\":[\"2024-11-23T00:00:00\",\"2024-11-30T00:00:00\",\"2024-12-07T00:00:00\",\"2024-12-14T00:00:00\"],\"y\":[639.7411722979678,34.88185179240281,-172.58444823857008,1570.637981312655],\"type\":\"scatter\"},{\"fill\":\"tonexty\",\"fillcolor\":\"#414487\",\"line\":{\"color\":\"#414487\"},\"mode\":\"lines\",\"name\":\"AutoARIMA-lo-80\",\"x\":[\"2024-11-23T00:00:00\",\"2024-11-30T00:00:00\",\"2024-12-07T00:00:00\",\"2024-12-14T00:00:00\"],\"y\":[1439.7485748109511,1641.1381352374592,2042.1391347972212,4259.449272471127],\"type\":\"scatter\"},{\"line\":{\"color\":\"#2c728e\"},\"mode\":\"lines\",\"name\":\"AutoARIMA\",\"x\":[\"2024-11-23T00:00:00\",\"2024-11-30T00:00:00\",\"2024-12-07T00:00:00\",\"2024-12-14T00:00:00\"],\"y\":[2950.998531962242,4675.428482933259,6225.851572271167,9338.734708814576],\"type\":\"scatter\"}],                        {\"template\":{\"data\":{\"histogram2dcontour\":[{\"type\":\"histogram2dcontour\",\"colorbar\":{\"outlinewidth\":0,\"ticks\":\"\"},\"colorscale\":[[0.0,\"#0d0887\"],[0.1111111111111111,\"#46039f\"],[0.2222222222222222,\"#7201a8\"],[0.3333333333333333,\"#9c179e\"],[0.4444444444444444,\"#bd3786\"],[0.5555555555555556,\"#d8576b\"],[0.6666666666666666,\"#ed7953\"],[0.7777777777777778,\"#fb9f3a\"],[0.8888888888888888,\"#fdca26\"],[1.0,\"#f0f921\"]]}],\"choropleth\":[{\"type\":\"choropleth\",\"colorbar\":{\"outlinewidth\":0,\"ticks\":\"\"}}],\"histogram2d\":[{\"type\":\"histogram2d\",\"colorbar\":{\"outlinewidth\":0,\"ticks\":\"\"},\"colorscale\":[[0.0,\"#0d0887\"],[0.1111111111111111,\"#46039f\"],[0.2222222222222222,\"#7201a8\"],[0.3333333333333333,\"#9c179e\"],[0.4444444444444444,\"#bd3786\"],[0.5555555555555556,\"#d8576b\"],[0.6666666666666666,\"#ed7953\"],[0.7777777777777778,\"#fb9f3a\"],[0.8888888888888888,\"#fdca26\"],[1.0,\"#f0f921\"]]}],\"heatmap\":[{\"type\":\"heatmap\",\"colorbar\":{\"outlinewidth\":0,\"ticks\":\"\"},\"colorscale\":[[0.0,\"#0d0887\"],[0.1111111111111111,\"#46039f\"],[0.2222222222222222,\"#7201a8\"],[0.3333333333333333,\"#9c179e\"],[0.4444444444444444,\"#bd3786\"],[0.5555555555555556,\"#d8576b\"],[0.6666666666666666,\"#ed7953\"],[0.7777777777777778,\"#fb9f3a\"],[0.8888888888888888,\"#fdca26\"],[1.0,\"#f0f921\"]]}],\"heatmapgl\":[{\"type\":\"heatmapgl\",\"colorbar\":{\"outlinewidth\":0,\"ticks\":\"\"},\"colorscale\":[[0.0,\"#0d0887\"],[0.1111111111111111,\"#46039f\"],[0.2222222222222222,\"#7201a8\"],[0.3333333333333333,\"#9c179e\"],[0.4444444444444444,\"#bd3786\"],[0.5555555555555556,\"#d8576b\"],[0.6666666666666666,\"#ed7953\"],[0.7777777777777778,\"#fb9f3a\"],[0.8888888888888888,\"#fdca26\"],[1.0,\"#f0f921\"]]}],\"contourcarpet\":[{\"type\":\"contourcarpet\",\"colorbar\":{\"outlinewidth\":0,\"ticks\":\"\"}}],\"contour\":[{\"type\":\"contour\",\"colorbar\":{\"outlinewidth\":0,\"ticks\":\"\"},\"colorscale\":[[0.0,\"#0d0887\"],[0.1111111111111111,\"#46039f\"],[0.2222222222222222,\"#7201a8\"],[0.3333333333333333,\"#9c179e\"],[0.4444444444444444,\"#bd3786\"],[0.5555555555555556,\"#d8576b\"],[0.6666666666666666,\"#ed7953\"],[0.7777777777777778,\"#fb9f3a\"],[0.8888888888888888,\"#fdca26\"],[1.0,\"#f0f921\"]]}],\"surface\":[{\"type\":\"surface\",\"colorbar\":{\"outlinewidth\":0,\"ticks\":\"\"},\"colorscale\":[[0.0,\"#0d0887\"],[0.1111111111111111,\"#46039f\"],[0.2222222222222222,\"#7201a8\"],[0.3333333333333333,\"#9c179e\"],[0.4444444444444444,\"#bd3786\"],[0.5555555555555556,\"#d8576b\"],[0.6666666666666666,\"#ed7953\"],[0.7777777777777778,\"#fb9f3a\"],[0.8888888888888888,\"#fdca26\"],[1.0,\"#f0f921\"]]}],\"mesh3d\":[{\"type\":\"mesh3d\",\"colorbar\":{\"outlinewidth\":0,\"ticks\":\"\"}}],\"scatter\":[{\"fillpattern\":{\"fillmode\":\"overlay\",\"size\":10,\"solidity\":0.2},\"type\":\"scatter\"}],\"parcoords\":[{\"type\":\"parcoords\",\"line\":{\"colorbar\":{\"outlinewidth\":0,\"ticks\":\"\"}}}],\"scatterpolargl\":[{\"type\":\"scatterpolargl\",\"marker\":{\"colorbar\":{\"outlinewidth\":0,\"ticks\":\"\"}}}],\"bar\":[{\"error_x\":{\"color\":\"#2a3f5f\"},\"error_y\":{\"color\":\"#2a3f5f\"},\"marker\":{\"line\":{\"color\":\"#E5ECF6\",\"width\":0.5},\"pattern\":{\"fillmode\":\"overlay\",\"size\":10,\"solidity\":0.2}},\"type\":\"bar\"}],\"scattergeo\":[{\"type\":\"scattergeo\",\"marker\":{\"colorbar\":{\"outlinewidth\":0,\"ticks\":\"\"}}}],\"scatterpolar\":[{\"type\":\"scatterpolar\",\"marker\":{\"colorbar\":{\"outlinewidth\":0,\"ticks\":\"\"}}}],\"histogram\":[{\"marker\":{\"pattern\":{\"fillmode\":\"overlay\",\"size\":10,\"solidity\":0.2}},\"type\":\"histogram\"}],\"scattergl\":[{\"type\":\"scattergl\",\"marker\":{\"colorbar\":{\"outlinewidth\":0,\"ticks\":\"\"}}}],\"scatter3d\":[{\"type\":\"scatter3d\",\"line\":{\"colorbar\":{\"outlinewidth\":0,\"ticks\":\"\"}},\"marker\":{\"colorbar\":{\"outlinewidth\":0,\"ticks\":\"\"}}}],\"scattermapbox\":[{\"type\":\"scattermapbox\",\"marker\":{\"colorbar\":{\"outlinewidth\":0,\"ticks\":\"\"}}}],\"scatterternary\":[{\"type\":\"scatterternary\",\"marker\":{\"colorbar\":{\"outlinewidth\":0,\"ticks\":\"\"}}}],\"scattercarpet\":[{\"type\":\"scattercarpet\",\"marker\":{\"colorbar\":{\"outlinewidth\":0,\"ticks\":\"\"}}}],\"carpet\":[{\"aaxis\":{\"endlinecolor\":\"#2a3f5f\",\"gridcolor\":\"white\",\"linecolor\":\"white\",\"minorgridcolor\":\"white\",\"startlinecolor\":\"#2a3f5f\"},\"baxis\":{\"endlinecolor\":\"#2a3f5f\",\"gridcolor\":\"white\",\"linecolor\":\"white\",\"minorgridcolor\":\"white\",\"startlinecolor\":\"#2a3f5f\"},\"type\":\"carpet\"}],\"table\":[{\"cells\":{\"fill\":{\"color\":\"#EBF0F8\"},\"line\":{\"color\":\"white\"}},\"header\":{\"fill\":{\"color\":\"#C8D4E3\"},\"line\":{\"color\":\"white\"}},\"type\":\"table\"}],\"barpolar\":[{\"marker\":{\"line\":{\"color\":\"#E5ECF6\",\"width\":0.5},\"pattern\":{\"fillmode\":\"overlay\",\"size\":10,\"solidity\":0.2}},\"type\":\"barpolar\"}],\"pie\":[{\"automargin\":true,\"type\":\"pie\"}]},\"layout\":{\"autotypenumbers\":\"strict\",\"colorway\":[\"#636efa\",\"#EF553B\",\"#00cc96\",\"#ab63fa\",\"#FFA15A\",\"#19d3f3\",\"#FF6692\",\"#B6E880\",\"#FF97FF\",\"#FECB52\"],\"font\":{\"color\":\"#2a3f5f\"},\"hovermode\":\"closest\",\"hoverlabel\":{\"align\":\"left\"},\"paper_bgcolor\":\"white\",\"plot_bgcolor\":\"#E5ECF6\",\"polar\":{\"bgcolor\":\"#E5ECF6\",\"angularaxis\":{\"gridcolor\":\"white\",\"linecolor\":\"white\",\"ticks\":\"\"},\"radialaxis\":{\"gridcolor\":\"white\",\"linecolor\":\"white\",\"ticks\":\"\"}},\"ternary\":{\"bgcolor\":\"#E5ECF6\",\"aaxis\":{\"gridcolor\":\"white\",\"linecolor\":\"white\",\"ticks\":\"\"},\"baxis\":{\"gridcolor\":\"white\",\"linecolor\":\"white\",\"ticks\":\"\"},\"caxis\":{\"gridcolor\":\"white\",\"linecolor\":\"white\",\"ticks\":\"\"}},\"coloraxis\":{\"colorbar\":{\"outlinewidth\":0,\"ticks\":\"\"}},\"colorscale\":{\"sequential\":[[0.0,\"#0d0887\"],[0.1111111111111111,\"#46039f\"],[0.2222222222222222,\"#7201a8\"],[0.3333333333333333,\"#9c179e\"],[0.4444444444444444,\"#bd3786\"],[0.5555555555555556,\"#d8576b\"],[0.6666666666666666,\"#ed7953\"],[0.7777777777777778,\"#fb9f3a\"],[0.8888888888888888,\"#fdca26\"],[1.0,\"#f0f921\"]],\"sequentialminus\":[[0.0,\"#0d0887\"],[0.1111111111111111,\"#46039f\"],[0.2222222222222222,\"#7201a8\"],[0.3333333333333333,\"#9c179e\"],[0.4444444444444444,\"#bd3786\"],[0.5555555555555556,\"#d8576b\"],[0.6666666666666666,\"#ed7953\"],[0.7777777777777778,\"#fb9f3a\"],[0.8888888888888888,\"#fdca26\"],[1.0,\"#f0f921\"]],\"diverging\":[[0,\"#8e0152\"],[0.1,\"#c51b7d\"],[0.2,\"#de77ae\"],[0.3,\"#f1b6da\"],[0.4,\"#fde0ef\"],[0.5,\"#f7f7f7\"],[0.6,\"#e6f5d0\"],[0.7,\"#b8e186\"],[0.8,\"#7fbc41\"],[0.9,\"#4d9221\"],[1,\"#276419\"]]},\"xaxis\":{\"gridcolor\":\"white\",\"linecolor\":\"white\",\"ticks\":\"\",\"title\":{\"standoff\":15},\"zerolinecolor\":\"white\",\"automargin\":true,\"zerolinewidth\":2},\"yaxis\":{\"gridcolor\":\"white\",\"linecolor\":\"white\",\"ticks\":\"\",\"title\":{\"standoff\":15},\"zerolinecolor\":\"white\",\"automargin\":true,\"zerolinewidth\":2},\"scene\":{\"xaxis\":{\"backgroundcolor\":\"#E5ECF6\",\"gridcolor\":\"white\",\"linecolor\":\"white\",\"showbackground\":true,\"ticks\":\"\",\"zerolinecolor\":\"white\",\"gridwidth\":2},\"yaxis\":{\"backgroundcolor\":\"#E5ECF6\",\"gridcolor\":\"white\",\"linecolor\":\"white\",\"showbackground\":true,\"ticks\":\"\",\"zerolinecolor\":\"white\",\"gridwidth\":2},\"zaxis\":{\"backgroundcolor\":\"#E5ECF6\",\"gridcolor\":\"white\",\"linecolor\":\"white\",\"showbackground\":true,\"ticks\":\"\",\"zerolinecolor\":\"white\",\"gridwidth\":2}},\"shapedefaults\":{\"line\":{\"color\":\"#2a3f5f\"}},\"annotationdefaults\":{\"arrowcolor\":\"#2a3f5f\",\"arrowhead\":0,\"arrowwidth\":1},\"geo\":{\"bgcolor\":\"white\",\"landcolor\":\"#E5ECF6\",\"subunitcolor\":\"white\",\"showland\":true,\"showlakes\":true,\"lakecolor\":\"white\"},\"title\":{\"x\":0.05},\"mapbox\":{\"style\":\"light\"}}},\"title\":{\"text\":\"Updating Parameter ARIMA Predictions, 2024-11-16\"},\"xaxis\":{\"title\":{\"text\":\"Date\"}},\"yaxis\":{\"title\":{\"text\":\"Count\"}},\"hovermode\":\"x\"},                        {\"responsive\": true}                    ).then(function(){\n",
       "                            \n",
       "var gd = document.getElementById('05d9ac21-40b3-40f3-b0e3-36ad93508df9');\n",
       "var x = new MutationObserver(function (mutations, observer) {{\n",
       "        var display = window.getComputedStyle(gd).display;\n",
       "        if (!display || display === 'none') {{\n",
       "            console.log([gd, 'removed!']);\n",
       "            Plotly.purge(gd);\n",
       "            observer.disconnect();\n",
       "        }}\n",
       "}});\n",
       "\n",
       "// Listen for the removal of the full notebook cells\n",
       "var notebookContainer = gd.closest('#notebook-container');\n",
       "if (notebookContainer) {{\n",
       "    x.observe(notebookContainer, {childList: true});\n",
       "}}\n",
       "\n",
       "// Listen for the clearing of the current output cell\n",
       "var outputEl = gd.closest('.output');\n",
       "if (outputEl) {{\n",
       "    x.observe(outputEl, {childList: true});\n",
       "}}\n",
       "\n",
       "                        })                };                });            </script>        </div>"
      ]
     },
     "metadata": {},
     "output_type": "display_data"
    },
    {
     "data": {
      "application/vnd.plotly.v1+json": {
       "config": {
        "plotlyServerURL": "https://plot.ly"
       },
       "data": [
        {
         "mode": "lines",
         "name": "Real Data",
         "type": "scatter",
         "x": [
          "2022-02-05T00:00:00",
          "2022-02-12T00:00:00",
          "2022-02-19T00:00:00",
          "2022-02-26T00:00:00",
          "2022-03-05T00:00:00",
          "2022-03-12T00:00:00",
          "2022-03-19T00:00:00",
          "2022-03-26T00:00:00",
          "2022-04-02T00:00:00",
          "2022-04-09T00:00:00",
          "2022-04-16T00:00:00",
          "2022-04-23T00:00:00",
          "2022-04-30T00:00:00",
          "2022-05-07T00:00:00",
          "2022-05-14T00:00:00",
          "2022-05-21T00:00:00",
          "2022-05-28T00:00:00",
          "2022-06-04T00:00:00",
          "2022-06-11T00:00:00",
          "2022-06-18T00:00:00",
          "2022-06-25T00:00:00",
          "2022-07-02T00:00:00",
          "2022-07-09T00:00:00",
          "2022-07-16T00:00:00",
          "2022-07-23T00:00:00",
          "2022-07-30T00:00:00",
          "2022-08-06T00:00:00",
          "2022-08-13T00:00:00",
          "2022-08-20T00:00:00",
          "2022-08-27T00:00:00",
          "2022-09-03T00:00:00",
          "2022-09-10T00:00:00",
          "2022-09-17T00:00:00",
          "2022-09-24T00:00:00",
          "2022-10-01T00:00:00",
          "2022-10-08T00:00:00",
          "2022-10-15T00:00:00",
          "2022-10-22T00:00:00",
          "2022-10-29T00:00:00",
          "2022-11-05T00:00:00",
          "2022-11-12T00:00:00",
          "2022-11-19T00:00:00",
          "2022-11-26T00:00:00",
          "2022-12-03T00:00:00",
          "2022-12-10T00:00:00",
          "2022-12-17T00:00:00",
          "2022-12-24T00:00:00",
          "2022-12-31T00:00:00",
          "2023-01-07T00:00:00",
          "2023-01-14T00:00:00",
          "2023-01-21T00:00:00",
          "2023-01-28T00:00:00",
          "2023-02-04T00:00:00",
          "2023-02-11T00:00:00",
          "2023-02-18T00:00:00",
          "2023-02-25T00:00:00",
          "2023-03-04T00:00:00",
          "2023-03-11T00:00:00",
          "2023-03-18T00:00:00",
          "2023-03-25T00:00:00",
          "2023-04-01T00:00:00",
          "2023-04-08T00:00:00",
          "2023-04-15T00:00:00",
          "2023-04-22T00:00:00",
          "2023-04-29T00:00:00",
          "2023-05-06T00:00:00",
          "2023-05-13T00:00:00",
          "2023-05-20T00:00:00",
          "2023-05-27T00:00:00",
          "2023-06-03T00:00:00",
          "2023-06-10T00:00:00",
          "2023-06-17T00:00:00",
          "2023-06-24T00:00:00",
          "2023-07-01T00:00:00",
          "2023-07-08T00:00:00",
          "2023-07-15T00:00:00",
          "2023-07-22T00:00:00",
          "2023-07-29T00:00:00",
          "2023-08-05T00:00:00",
          "2023-08-12T00:00:00",
          "2023-08-19T00:00:00",
          "2023-08-26T00:00:00",
          "2023-09-02T00:00:00",
          "2023-09-09T00:00:00",
          "2023-09-16T00:00:00",
          "2023-09-23T00:00:00",
          "2023-09-30T00:00:00",
          "2023-10-07T00:00:00",
          "2023-10-14T00:00:00",
          "2023-10-21T00:00:00",
          "2023-10-28T00:00:00",
          "2023-11-04T00:00:00",
          "2023-11-11T00:00:00",
          "2023-11-18T00:00:00",
          "2023-11-25T00:00:00",
          "2023-12-02T00:00:00",
          "2023-12-09T00:00:00",
          "2023-12-16T00:00:00",
          "2023-12-23T00:00:00",
          "2023-12-30T00:00:00",
          "2024-01-06T00:00:00",
          "2024-01-13T00:00:00",
          "2024-01-20T00:00:00",
          "2024-01-27T00:00:00",
          "2024-02-03T00:00:00",
          "2024-02-10T00:00:00",
          "2024-02-17T00:00:00",
          "2024-02-24T00:00:00",
          "2024-03-02T00:00:00",
          "2024-03-09T00:00:00",
          "2024-03-16T00:00:00",
          "2024-03-23T00:00:00",
          "2024-03-30T00:00:00",
          "2024-04-06T00:00:00",
          "2024-04-13T00:00:00",
          "2024-04-20T00:00:00",
          "2024-04-27T00:00:00",
          "2024-05-04T00:00:00",
          "2024-05-11T00:00:00",
          "2024-05-18T00:00:00",
          "2024-05-25T00:00:00",
          "2024-06-01T00:00:00",
          "2024-06-08T00:00:00",
          "2024-06-15T00:00:00",
          "2024-06-22T00:00:00",
          "2024-06-29T00:00:00",
          "2024-07-06T00:00:00",
          "2024-07-13T00:00:00",
          "2024-07-20T00:00:00",
          "2024-07-27T00:00:00",
          "2024-08-03T00:00:00",
          "2024-08-10T00:00:00",
          "2024-08-17T00:00:00",
          "2024-08-24T00:00:00",
          "2024-08-31T00:00:00",
          "2024-09-07T00:00:00",
          "2024-09-14T00:00:00",
          "2024-09-21T00:00:00",
          "2024-09-28T00:00:00",
          "2024-10-05T00:00:00",
          "2024-10-12T00:00:00",
          "2024-10-19T00:00:00",
          "2024-10-26T00:00:00",
          "2024-11-02T00:00:00",
          "2024-11-09T00:00:00",
          "2024-11-16T00:00:00",
          "2024-11-23T00:00:00",
          "2024-11-30T00:00:00",
          "2024-12-07T00:00:00",
          "2024-12-14T00:00:00",
          "2024-12-21T00:00:00",
          "2024-12-28T00:00:00",
          "2025-01-04T00:00:00",
          "2025-01-11T00:00:00",
          "2025-01-18T00:00:00",
          "2025-01-25T00:00:00",
          "2025-02-01T00:00:00",
          "2025-02-08T00:00:00",
          "2025-02-15T00:00:00",
          "2025-02-22T00:00:00",
          "2025-03-01T00:00:00",
          "2025-03-08T00:00:00",
          "2025-03-15T00:00:00",
          "2025-03-22T00:00:00",
          "2025-03-29T00:00:00",
          "2025-04-05T00:00:00"
         ],
         "y": [
          1091,
          1164,
          1493,
          1603,
          1791,
          2097,
          2625,
          2918,
          3008,
          3149,
          3308,
          3474,
          3182,
          3175,
          3119,
          3133,
          2738,
          2678,
          2210,
          1776,
          1366,
          1073,
          776,
          766,
          628,
          522,
          486,
          490,
          483,
          483,
          545,
          576,
          665,
          796,
          921,
          1316,
          1674,
          2292,
          4184,
          6408,
          8594,
          10971,
          18177,
          26834,
          24036,
          21612,
          19631,
          19479,
          14074,
          7185,
          4489,
          3091,
          2596,
          2177,
          1908,
          1647,
          1503,
          1372,
          1415,
          1331,
          1295,
          1198,
          1077,
          982,
          903,
          994,
          980,
          1116,
          974,
          939,
          935,
          873,
          813,
          836,
          699,
          736,
          645,
          771,
          690,
          706,
          738,
          793,
          875,
          804,
          821,
          881,
          1026,
          1110,
          1215,
          1470,
          1614,
          2014,
          2775,
          3491,
          4386,
          5955,
          7497,
          10273,
          15722,
          21682,
          19548,
          15905,
          13303,
          13025,
          11964,
          11629,
          11126,
          10870,
          10814,
          9416,
          7324,
          6049,
          5574,
          5071,
          4073,
          2943,
          2420,
          1485,
          852,
          682,
          611,
          591,
          511,
          518,
          441,
          356,
          342,
          367,
          325,
          273,
          275,
          275,
          275,
          274,
          262,
          223,
          319,
          293,
          223,
          287,
          295,
          553,
          1084,
          977,
          2081,
          2535,
          3099,
          4297,
          6307,
          9192,
          15467,
          27748,
          38767,
          30796,
          33020,
          40682,
          51337,
          54374,
          46244,
          37881,
          30807,
          23956,
          18384,
          13600,
          9597,
          6273
         ]
        },
        {
         "line": {
          "color": "#414487"
         },
         "mode": "lines",
         "name": "AutoARIMA-hi-80",
         "type": "scatter",
         "x": [
          "2024-12-14T00:00:00",
          "2024-12-21T00:00:00",
          "2024-12-28T00:00:00",
          "2025-01-04T00:00:00"
         ],
         "y": [
          11447.460465517244,
          18691.003448059506,
          26240.89727597652,
          25051.34016084858
         ]
        },
        {
         "line": {
          "color": "#1e9c89"
         },
         "mode": "lines",
         "name": "AutoARIMA-hi-95",
         "type": "scatter",
         "x": [
          "2024-12-14T00:00:00",
          "2024-12-21T00:00:00",
          "2024-12-28T00:00:00",
          "2025-01-04T00:00:00"
         ],
         "y": [
          12238.544783419185,
          20272.42916799159,
          28421.499107925054,
          27697.78491593921
         ]
        },
        {
         "fill": "tonexty",
         "fillcolor": "#1e9c89",
         "line": {
          "color": "#1e9c89"
         },
         "mode": "lines",
         "name": "AutoARIMA-lo-95",
         "type": "scatter",
         "x": [
          "2024-12-14T00:00:00",
          "2024-12-21T00:00:00",
          "2024-12-28T00:00:00",
          "2025-01-04T00:00:00"
         ],
         "y": [
          7667.588449459059,
          11134.80913479175,
          15821.785613382335,
          12406.389116513787
         ]
        },
        {
         "fill": "tonexty",
         "fillcolor": "#414487",
         "line": {
          "color": "#414487"
         },
         "mode": "lines",
         "name": "AutoARIMA-lo-80",
         "type": "scatter",
         "x": [
          "2024-12-14T00:00:00",
          "2024-12-21T00:00:00",
          "2024-12-28T00:00:00",
          "2025-01-04T00:00:00"
         ],
         "y": [
          8458.672767361,
          12716.234854723834,
          18002.38744533087,
          15052.833871604416
         ]
        },
        {
         "line": {
          "color": "#2c728e"
         },
         "mode": "lines",
         "name": "AutoARIMA",
         "type": "scatter",
         "x": [
          "2024-12-14T00:00:00",
          "2024-12-21T00:00:00",
          "2024-12-28T00:00:00",
          "2025-01-04T00:00:00"
         ],
         "y": [
          9953.066616439122,
          15703.619151391671,
          22121.642360653696,
          20052.0870162265
         ]
        }
       ],
       "layout": {
        "autosize": true,
        "hovermode": "x",
        "template": {
         "data": {
          "bar": [
           {
            "error_x": {
             "color": "#2a3f5f"
            },
            "error_y": {
             "color": "#2a3f5f"
            },
            "marker": {
             "line": {
              "color": "#E5ECF6",
              "width": 0.5
             },
             "pattern": {
              "fillmode": "overlay",
              "size": 10,
              "solidity": 0.2
             }
            },
            "type": "bar"
           }
          ],
          "barpolar": [
           {
            "marker": {
             "line": {
              "color": "#E5ECF6",
              "width": 0.5
             },
             "pattern": {
              "fillmode": "overlay",
              "size": 10,
              "solidity": 0.2
             }
            },
            "type": "barpolar"
           }
          ],
          "carpet": [
           {
            "aaxis": {
             "endlinecolor": "#2a3f5f",
             "gridcolor": "white",
             "linecolor": "white",
             "minorgridcolor": "white",
             "startlinecolor": "#2a3f5f"
            },
            "baxis": {
             "endlinecolor": "#2a3f5f",
             "gridcolor": "white",
             "linecolor": "white",
             "minorgridcolor": "white",
             "startlinecolor": "#2a3f5f"
            },
            "type": "carpet"
           }
          ],
          "choropleth": [
           {
            "colorbar": {
             "outlinewidth": 0,
             "ticks": ""
            },
            "type": "choropleth"
           }
          ],
          "contour": [
           {
            "colorbar": {
             "outlinewidth": 0,
             "ticks": ""
            },
            "colorscale": [
             [
              0,
              "#0d0887"
             ],
             [
              0.1111111111111111,
              "#46039f"
             ],
             [
              0.2222222222222222,
              "#7201a8"
             ],
             [
              0.3333333333333333,
              "#9c179e"
             ],
             [
              0.4444444444444444,
              "#bd3786"
             ],
             [
              0.5555555555555556,
              "#d8576b"
             ],
             [
              0.6666666666666666,
              "#ed7953"
             ],
             [
              0.7777777777777778,
              "#fb9f3a"
             ],
             [
              0.8888888888888888,
              "#fdca26"
             ],
             [
              1,
              "#f0f921"
             ]
            ],
            "type": "contour"
           }
          ],
          "contourcarpet": [
           {
            "colorbar": {
             "outlinewidth": 0,
             "ticks": ""
            },
            "type": "contourcarpet"
           }
          ],
          "heatmap": [
           {
            "colorbar": {
             "outlinewidth": 0,
             "ticks": ""
            },
            "colorscale": [
             [
              0,
              "#0d0887"
             ],
             [
              0.1111111111111111,
              "#46039f"
             ],
             [
              0.2222222222222222,
              "#7201a8"
             ],
             [
              0.3333333333333333,
              "#9c179e"
             ],
             [
              0.4444444444444444,
              "#bd3786"
             ],
             [
              0.5555555555555556,
              "#d8576b"
             ],
             [
              0.6666666666666666,
              "#ed7953"
             ],
             [
              0.7777777777777778,
              "#fb9f3a"
             ],
             [
              0.8888888888888888,
              "#fdca26"
             ],
             [
              1,
              "#f0f921"
             ]
            ],
            "type": "heatmap"
           }
          ],
          "heatmapgl": [
           {
            "colorbar": {
             "outlinewidth": 0,
             "ticks": ""
            },
            "colorscale": [
             [
              0,
              "#0d0887"
             ],
             [
              0.1111111111111111,
              "#46039f"
             ],
             [
              0.2222222222222222,
              "#7201a8"
             ],
             [
              0.3333333333333333,
              "#9c179e"
             ],
             [
              0.4444444444444444,
              "#bd3786"
             ],
             [
              0.5555555555555556,
              "#d8576b"
             ],
             [
              0.6666666666666666,
              "#ed7953"
             ],
             [
              0.7777777777777778,
              "#fb9f3a"
             ],
             [
              0.8888888888888888,
              "#fdca26"
             ],
             [
              1,
              "#f0f921"
             ]
            ],
            "type": "heatmapgl"
           }
          ],
          "histogram": [
           {
            "marker": {
             "pattern": {
              "fillmode": "overlay",
              "size": 10,
              "solidity": 0.2
             }
            },
            "type": "histogram"
           }
          ],
          "histogram2d": [
           {
            "colorbar": {
             "outlinewidth": 0,
             "ticks": ""
            },
            "colorscale": [
             [
              0,
              "#0d0887"
             ],
             [
              0.1111111111111111,
              "#46039f"
             ],
             [
              0.2222222222222222,
              "#7201a8"
             ],
             [
              0.3333333333333333,
              "#9c179e"
             ],
             [
              0.4444444444444444,
              "#bd3786"
             ],
             [
              0.5555555555555556,
              "#d8576b"
             ],
             [
              0.6666666666666666,
              "#ed7953"
             ],
             [
              0.7777777777777778,
              "#fb9f3a"
             ],
             [
              0.8888888888888888,
              "#fdca26"
             ],
             [
              1,
              "#f0f921"
             ]
            ],
            "type": "histogram2d"
           }
          ],
          "histogram2dcontour": [
           {
            "colorbar": {
             "outlinewidth": 0,
             "ticks": ""
            },
            "colorscale": [
             [
              0,
              "#0d0887"
             ],
             [
              0.1111111111111111,
              "#46039f"
             ],
             [
              0.2222222222222222,
              "#7201a8"
             ],
             [
              0.3333333333333333,
              "#9c179e"
             ],
             [
              0.4444444444444444,
              "#bd3786"
             ],
             [
              0.5555555555555556,
              "#d8576b"
             ],
             [
              0.6666666666666666,
              "#ed7953"
             ],
             [
              0.7777777777777778,
              "#fb9f3a"
             ],
             [
              0.8888888888888888,
              "#fdca26"
             ],
             [
              1,
              "#f0f921"
             ]
            ],
            "type": "histogram2dcontour"
           }
          ],
          "mesh3d": [
           {
            "colorbar": {
             "outlinewidth": 0,
             "ticks": ""
            },
            "type": "mesh3d"
           }
          ],
          "parcoords": [
           {
            "line": {
             "colorbar": {
              "outlinewidth": 0,
              "ticks": ""
             }
            },
            "type": "parcoords"
           }
          ],
          "pie": [
           {
            "automargin": true,
            "type": "pie"
           }
          ],
          "scatter": [
           {
            "fillpattern": {
             "fillmode": "overlay",
             "size": 10,
             "solidity": 0.2
            },
            "type": "scatter"
           }
          ],
          "scatter3d": [
           {
            "line": {
             "colorbar": {
              "outlinewidth": 0,
              "ticks": ""
             }
            },
            "marker": {
             "colorbar": {
              "outlinewidth": 0,
              "ticks": ""
             }
            },
            "type": "scatter3d"
           }
          ],
          "scattercarpet": [
           {
            "marker": {
             "colorbar": {
              "outlinewidth": 0,
              "ticks": ""
             }
            },
            "type": "scattercarpet"
           }
          ],
          "scattergeo": [
           {
            "marker": {
             "colorbar": {
              "outlinewidth": 0,
              "ticks": ""
             }
            },
            "type": "scattergeo"
           }
          ],
          "scattergl": [
           {
            "marker": {
             "colorbar": {
              "outlinewidth": 0,
              "ticks": ""
             }
            },
            "type": "scattergl"
           }
          ],
          "scattermapbox": [
           {
            "marker": {
             "colorbar": {
              "outlinewidth": 0,
              "ticks": ""
             }
            },
            "type": "scattermapbox"
           }
          ],
          "scatterpolar": [
           {
            "marker": {
             "colorbar": {
              "outlinewidth": 0,
              "ticks": ""
             }
            },
            "type": "scatterpolar"
           }
          ],
          "scatterpolargl": [
           {
            "marker": {
             "colorbar": {
              "outlinewidth": 0,
              "ticks": ""
             }
            },
            "type": "scatterpolargl"
           }
          ],
          "scatterternary": [
           {
            "marker": {
             "colorbar": {
              "outlinewidth": 0,
              "ticks": ""
             }
            },
            "type": "scatterternary"
           }
          ],
          "surface": [
           {
            "colorbar": {
             "outlinewidth": 0,
             "ticks": ""
            },
            "colorscale": [
             [
              0,
              "#0d0887"
             ],
             [
              0.1111111111111111,
              "#46039f"
             ],
             [
              0.2222222222222222,
              "#7201a8"
             ],
             [
              0.3333333333333333,
              "#9c179e"
             ],
             [
              0.4444444444444444,
              "#bd3786"
             ],
             [
              0.5555555555555556,
              "#d8576b"
             ],
             [
              0.6666666666666666,
              "#ed7953"
             ],
             [
              0.7777777777777778,
              "#fb9f3a"
             ],
             [
              0.8888888888888888,
              "#fdca26"
             ],
             [
              1,
              "#f0f921"
             ]
            ],
            "type": "surface"
           }
          ],
          "table": [
           {
            "cells": {
             "fill": {
              "color": "#EBF0F8"
             },
             "line": {
              "color": "white"
             }
            },
            "header": {
             "fill": {
              "color": "#C8D4E3"
             },
             "line": {
              "color": "white"
             }
            },
            "type": "table"
           }
          ]
         },
         "layout": {
          "annotationdefaults": {
           "arrowcolor": "#2a3f5f",
           "arrowhead": 0,
           "arrowwidth": 1
          },
          "autotypenumbers": "strict",
          "coloraxis": {
           "colorbar": {
            "outlinewidth": 0,
            "ticks": ""
           }
          },
          "colorscale": {
           "diverging": [
            [
             0,
             "#8e0152"
            ],
            [
             0.1,
             "#c51b7d"
            ],
            [
             0.2,
             "#de77ae"
            ],
            [
             0.3,
             "#f1b6da"
            ],
            [
             0.4,
             "#fde0ef"
            ],
            [
             0.5,
             "#f7f7f7"
            ],
            [
             0.6,
             "#e6f5d0"
            ],
            [
             0.7,
             "#b8e186"
            ],
            [
             0.8,
             "#7fbc41"
            ],
            [
             0.9,
             "#4d9221"
            ],
            [
             1,
             "#276419"
            ]
           ],
           "sequential": [
            [
             0,
             "#0d0887"
            ],
            [
             0.1111111111111111,
             "#46039f"
            ],
            [
             0.2222222222222222,
             "#7201a8"
            ],
            [
             0.3333333333333333,
             "#9c179e"
            ],
            [
             0.4444444444444444,
             "#bd3786"
            ],
            [
             0.5555555555555556,
             "#d8576b"
            ],
            [
             0.6666666666666666,
             "#ed7953"
            ],
            [
             0.7777777777777778,
             "#fb9f3a"
            ],
            [
             0.8888888888888888,
             "#fdca26"
            ],
            [
             1,
             "#f0f921"
            ]
           ],
           "sequentialminus": [
            [
             0,
             "#0d0887"
            ],
            [
             0.1111111111111111,
             "#46039f"
            ],
            [
             0.2222222222222222,
             "#7201a8"
            ],
            [
             0.3333333333333333,
             "#9c179e"
            ],
            [
             0.4444444444444444,
             "#bd3786"
            ],
            [
             0.5555555555555556,
             "#d8576b"
            ],
            [
             0.6666666666666666,
             "#ed7953"
            ],
            [
             0.7777777777777778,
             "#fb9f3a"
            ],
            [
             0.8888888888888888,
             "#fdca26"
            ],
            [
             1,
             "#f0f921"
            ]
           ]
          },
          "colorway": [
           "#636efa",
           "#EF553B",
           "#00cc96",
           "#ab63fa",
           "#FFA15A",
           "#19d3f3",
           "#FF6692",
           "#B6E880",
           "#FF97FF",
           "#FECB52"
          ],
          "font": {
           "color": "#2a3f5f"
          },
          "geo": {
           "bgcolor": "white",
           "lakecolor": "white",
           "landcolor": "#E5ECF6",
           "showlakes": true,
           "showland": true,
           "subunitcolor": "white"
          },
          "hoverlabel": {
           "align": "left"
          },
          "hovermode": "closest",
          "mapbox": {
           "style": "light"
          },
          "paper_bgcolor": "white",
          "plot_bgcolor": "#E5ECF6",
          "polar": {
           "angularaxis": {
            "gridcolor": "white",
            "linecolor": "white",
            "ticks": ""
           },
           "bgcolor": "#E5ECF6",
           "radialaxis": {
            "gridcolor": "white",
            "linecolor": "white",
            "ticks": ""
           }
          },
          "scene": {
           "xaxis": {
            "backgroundcolor": "#E5ECF6",
            "gridcolor": "white",
            "gridwidth": 2,
            "linecolor": "white",
            "showbackground": true,
            "ticks": "",
            "zerolinecolor": "white"
           },
           "yaxis": {
            "backgroundcolor": "#E5ECF6",
            "gridcolor": "white",
            "gridwidth": 2,
            "linecolor": "white",
            "showbackground": true,
            "ticks": "",
            "zerolinecolor": "white"
           },
           "zaxis": {
            "backgroundcolor": "#E5ECF6",
            "gridcolor": "white",
            "gridwidth": 2,
            "linecolor": "white",
            "showbackground": true,
            "ticks": "",
            "zerolinecolor": "white"
           }
          },
          "shapedefaults": {
           "line": {
            "color": "#2a3f5f"
           }
          },
          "ternary": {
           "aaxis": {
            "gridcolor": "white",
            "linecolor": "white",
            "ticks": ""
           },
           "baxis": {
            "gridcolor": "white",
            "linecolor": "white",
            "ticks": ""
           },
           "bgcolor": "#E5ECF6",
           "caxis": {
            "gridcolor": "white",
            "linecolor": "white",
            "ticks": ""
           }
          },
          "title": {
           "x": 0.05
          },
          "xaxis": {
           "automargin": true,
           "gridcolor": "white",
           "linecolor": "white",
           "ticks": "",
           "title": {
            "standoff": 15
           },
           "zerolinecolor": "white",
           "zerolinewidth": 2
          },
          "yaxis": {
           "automargin": true,
           "gridcolor": "white",
           "linecolor": "white",
           "ticks": "",
           "title": {
            "standoff": 15
           },
           "zerolinecolor": "white",
           "zerolinewidth": 2
          }
         }
        },
        "title": {
         "text": "Updating Parameter ARIMA Predictions, 2024-12-07"
        },
        "xaxis": {
         "autorange": true,
         "range": [
          "2022-02-05",
          "2025-04-05"
         ],
         "title": {
          "text": "Date"
         },
         "type": "date"
        },
        "yaxis": {
         "autorange": true,
         "range": [
          -2785.3888888888887,
          57382.38888888889
         ],
         "title": {
          "text": "Count"
         },
         "type": "linear"
        }
       }
      },
      "image/png": "[encoded data removed]",
      "text/html": [
       "<div>                            <div id=\"ea550a54-289f-4710-be94-e88668227aa8\" class=\"plotly-graph-div\" style=\"height:525px; width:100%;\"></div>            <script type=\"text/javascript\">                require([\"plotly\"], function(Plotly) {                    window.PLOTLYENV=window.PLOTLYENV || {};                                    if (document.getElementById(\"ea550a54-289f-4710-be94-e88668227aa8\")) {                    Plotly.newPlot(                        \"ea550a54-289f-4710-be94-e88668227aa8\",                        [{\"mode\":\"lines\",\"name\":\"Real Data\",\"x\":[\"2022-02-05T00:00:00\",\"2022-02-12T00:00:00\",\"2022-02-19T00:00:00\",\"2022-02-26T00:00:00\",\"2022-03-05T00:00:00\",\"2022-03-12T00:00:00\",\"2022-03-19T00:00:00\",\"2022-03-26T00:00:00\",\"2022-04-02T00:00:00\",\"2022-04-09T00:00:00\",\"2022-04-16T00:00:00\",\"2022-04-23T00:00:00\",\"2022-04-30T00:00:00\",\"2022-05-07T00:00:00\",\"2022-05-14T00:00:00\",\"2022-05-21T00:00:00\",\"2022-05-28T00:00:00\",\"2022-06-04T00:00:00\",\"2022-06-11T00:00:00\",\"2022-06-18T00:00:00\",\"2022-06-25T00:00:00\",\"2022-07-02T00:00:00\",\"2022-07-09T00:00:00\",\"2022-07-16T00:00:00\",\"2022-07-23T00:00:00\",\"2022-07-30T00:00:00\",\"2022-08-06T00:00:00\",\"2022-08-13T00:00:00\",\"2022-08-20T00:00:00\",\"2022-08-27T00:00:00\",\"2022-09-03T00:00:00\",\"2022-09-10T00:00:00\",\"2022-09-17T00:00:00\",\"2022-09-24T00:00:00\",\"2022-10-01T00:00:00\",\"2022-10-08T00:00:00\",\"2022-10-15T00:00:00\",\"2022-10-22T00:00:00\",\"2022-10-29T00:00:00\",\"2022-11-05T00:00:00\",\"2022-11-12T00:00:00\",\"2022-11-19T00:00:00\",\"2022-11-26T00:00:00\",\"2022-12-03T00:00:00\",\"2022-12-10T00:00:00\",\"2022-12-17T00:00:00\",\"2022-12-24T00:00:00\",\"2022-12-31T00:00:00\",\"2023-01-07T00:00:00\",\"2023-01-14T00:00:00\",\"2023-01-21T00:00:00\",\"2023-01-28T00:00:00\",\"2023-02-04T00:00:00\",\"2023-02-11T00:00:00\",\"2023-02-18T00:00:00\",\"2023-02-25T00:00:00\",\"2023-03-04T00:00:00\",\"2023-03-11T00:00:00\",\"2023-03-18T00:00:00\",\"2023-03-25T00:00:00\",\"2023-04-01T00:00:00\",\"2023-04-08T00:00:00\",\"2023-04-15T00:00:00\",\"2023-04-22T00:00:00\",\"2023-04-29T00:00:00\",\"2023-05-06T00:00:00\",\"2023-05-13T00:00:00\",\"2023-05-20T00:00:00\",\"2023-05-27T00:00:00\",\"2023-06-03T00:00:00\",\"2023-06-10T00:00:00\",\"2023-06-17T00:00:00\",\"2023-06-24T00:00:00\",\"2023-07-01T00:00:00\",\"2023-07-08T00:00:00\",\"2023-07-15T00:00:00\",\"2023-07-22T00:00:00\",\"2023-07-29T00:00:00\",\"2023-08-05T00:00:00\",\"2023-08-12T00:00:00\",\"2023-08-19T00:00:00\",\"2023-08-26T00:00:00\",\"2023-09-02T00:00:00\",\"2023-09-09T00:00:00\",\"2023-09-16T00:00:00\",\"2023-09-23T00:00:00\",\"2023-09-30T00:00:00\",\"2023-10-07T00:00:00\",\"2023-10-14T00:00:00\",\"2023-10-21T00:00:00\",\"2023-10-28T00:00:00\",\"2023-11-04T00:00:00\",\"2023-11-11T00:00:00\",\"2023-11-18T00:00:00\",\"2023-11-25T00:00:00\",\"2023-12-02T00:00:00\",\"2023-12-09T00:00:00\",\"2023-12-16T00:00:00\",\"2023-12-23T00:00:00\",\"2023-12-30T00:00:00\",\"2024-01-06T00:00:00\",\"2024-01-13T00:00:00\",\"2024-01-20T00:00:00\",\"2024-01-27T00:00:00\",\"2024-02-03T00:00:00\",\"2024-02-10T00:00:00\",\"2024-02-17T00:00:00\",\"2024-02-24T00:00:00\",\"2024-03-02T00:00:00\",\"2024-03-09T00:00:00\",\"2024-03-16T00:00:00\",\"2024-03-23T00:00:00\",\"2024-03-30T00:00:00\",\"2024-04-06T00:00:00\",\"2024-04-13T00:00:00\",\"2024-04-20T00:00:00\",\"2024-04-27T00:00:00\",\"2024-05-04T00:00:00\",\"2024-05-11T00:00:00\",\"2024-05-18T00:00:00\",\"2024-05-25T00:00:00\",\"2024-06-01T00:00:00\",\"2024-06-08T00:00:00\",\"2024-06-15T00:00:00\",\"2024-06-22T00:00:00\",\"2024-06-29T00:00:00\",\"2024-07-06T00:00:00\",\"2024-07-13T00:00:00\",\"2024-07-20T00:00:00\",\"2024-07-27T00:00:00\",\"2024-08-03T00:00:00\",\"2024-08-10T00:00:00\",\"2024-08-17T00:00:00\",\"2024-08-24T00:00:00\",\"2024-08-31T00:00:00\",\"2024-09-07T00:00:00\",\"2024-09-14T00:00:00\",\"2024-09-21T00:00:00\",\"2024-09-28T00:00:00\",\"2024-10-05T00:00:00\",\"2024-10-12T00:00:00\",\"2024-10-19T00:00:00\",\"2024-10-26T00:00:00\",\"2024-11-02T00:00:00\",\"2024-11-09T00:00:00\",\"2024-11-16T00:00:00\",\"2024-11-23T00:00:00\",\"2024-11-30T00:00:00\",\"2024-12-07T00:00:00\",\"2024-12-14T00:00:00\",\"2024-12-21T00:00:00\",\"2024-12-28T00:00:00\",\"2025-01-04T00:00:00\",\"2025-01-11T00:00:00\",\"2025-01-18T00:00:00\",\"2025-01-25T00:00:00\",\"2025-02-01T00:00:00\",\"2025-02-08T00:00:00\",\"2025-02-15T00:00:00\",\"2025-02-22T00:00:00\",\"2025-03-01T00:00:00\",\"2025-03-08T00:00:00\",\"2025-03-15T00:00:00\",\"2025-03-22T00:00:00\",\"2025-03-29T00:00:00\",\"2025-04-05T00:00:00\"],\"y\":[1091.0,1164.0,1493.0,1603.0,1791.0,2097.0,2625.0,2918.0,3008.0,3149.0,3308.0,3474.0,3182.0,3175.0,3119.0,3133.0,2738.0,2678.0,2210.0,1776.0,1366.0,1073.0,776.0,766.0,628.0,522.0,486.0,490.0,483.0,483.0,545.0,576.0,665.0,796.0,921.0,1316.0,1674.0,2292.0,4184.0,6408.0,8594.0,10971.0,18177.0,26834.0,24036.0,21612.0,19631.0,19479.0,14074.0,7185.0,4489.0,3091.0,2596.0,2177.0,1908.0,1647.0,1503.0,1372.0,1415.0,1331.0,1295.0,1198.0,1077.0,982.0,903.0,994.0,980.0,1116.0,974.0,939.0,935.0,873.0,813.0,836.0,699.0,736.0,645.0,771.0,690.0,706.0,738.0,793.0,875.0,804.0,821.0,881.0,1026.0,1110.0,1215.0,1470.0,1614.0,2014.0,2775.0,3491.0,4386.0,5955.0,7497.0,10273.0,15722.0,21682.0,19548.0,15905.0,13303.0,13025.0,11964.0,11629.0,11126.0,10870.0,10814.0,9416.0,7324.0,6049.0,5574.0,5071.0,4073.0,2943.0,2420.0,1485.0,852.0,682.0,611.0,591.0,511.0,518.0,441.0,356.0,342.0,367.0,325.0,273.0,275.0,275.0,275.0,274.0,262.0,223.0,319.0,293.0,223.0,287.0,295.0,553.0,1084.0,977.0,2081.0,2535.0,3099.0,4297.0,6307.0,9192.0,15467.0,27748.0,38767.0,30796.0,33020.0,40682.0,51337.0,54374.0,46244.0,37881.0,30807.0,23956.0,18384.0,13600.0,9597.0,6273.0],\"type\":\"scatter\"},{\"line\":{\"color\":\"#414487\"},\"mode\":\"lines\",\"name\":\"AutoARIMA-hi-80\",\"x\":[\"2024-12-14T00:00:00\",\"2024-12-21T00:00:00\",\"2024-12-28T00:00:00\",\"2025-01-04T00:00:00\"],\"y\":[11447.460465517244,18691.003448059506,26240.89727597652,25051.34016084858],\"type\":\"scatter\"},{\"line\":{\"color\":\"#1e9c89\"},\"mode\":\"lines\",\"name\":\"AutoARIMA-hi-95\",\"x\":[\"2024-12-14T00:00:00\",\"2024-12-21T00:00:00\",\"2024-12-28T00:00:00\",\"2025-01-04T00:00:00\"],\"y\":[12238.544783419185,20272.42916799159,28421.499107925054,27697.78491593921],\"type\":\"scatter\"},{\"fill\":\"tonexty\",\"fillcolor\":\"#1e9c89\",\"line\":{\"color\":\"#1e9c89\"},\"mode\":\"lines\",\"name\":\"AutoARIMA-lo-95\",\"x\":[\"2024-12-14T00:00:00\",\"2024-12-21T00:00:00\",\"2024-12-28T00:00:00\",\"2025-01-04T00:00:00\"],\"y\":[7667.588449459059,11134.80913479175,15821.785613382335,12406.389116513787],\"type\":\"scatter\"},{\"fill\":\"tonexty\",\"fillcolor\":\"#414487\",\"line\":{\"color\":\"#414487\"},\"mode\":\"lines\",\"name\":\"AutoARIMA-lo-80\",\"x\":[\"2024-12-14T00:00:00\",\"2024-12-21T00:00:00\",\"2024-12-28T00:00:00\",\"2025-01-04T00:00:00\"],\"y\":[8458.672767361,12716.234854723834,18002.38744533087,15052.833871604416],\"type\":\"scatter\"},{\"line\":{\"color\":\"#2c728e\"},\"mode\":\"lines\",\"name\":\"AutoARIMA\",\"x\":[\"2024-12-14T00:00:00\",\"2024-12-21T00:00:00\",\"2024-12-28T00:00:00\",\"2025-01-04T00:00:00\"],\"y\":[9953.066616439122,15703.619151391671,22121.642360653696,20052.0870162265],\"type\":\"scatter\"}],                        {\"template\":{\"data\":{\"histogram2dcontour\":[{\"type\":\"histogram2dcontour\",\"colorbar\":{\"outlinewidth\":0,\"ticks\":\"\"},\"colorscale\":[[0.0,\"#0d0887\"],[0.1111111111111111,\"#46039f\"],[0.2222222222222222,\"#7201a8\"],[0.3333333333333333,\"#9c179e\"],[0.4444444444444444,\"#bd3786\"],[0.5555555555555556,\"#d8576b\"],[0.6666666666666666,\"#ed7953\"],[0.7777777777777778,\"#fb9f3a\"],[0.8888888888888888,\"#fdca26\"],[1.0,\"#f0f921\"]]}],\"choropleth\":[{\"type\":\"choropleth\",\"colorbar\":{\"outlinewidth\":0,\"ticks\":\"\"}}],\"histogram2d\":[{\"type\":\"histogram2d\",\"colorbar\":{\"outlinewidth\":0,\"ticks\":\"\"},\"colorscale\":[[0.0,\"#0d0887\"],[0.1111111111111111,\"#46039f\"],[0.2222222222222222,\"#7201a8\"],[0.3333333333333333,\"#9c179e\"],[0.4444444444444444,\"#bd3786\"],[0.5555555555555556,\"#d8576b\"],[0.6666666666666666,\"#ed7953\"],[0.7777777777777778,\"#fb9f3a\"],[0.8888888888888888,\"#fdca26\"],[1.0,\"#f0f921\"]]}],\"heatmap\":[{\"type\":\"heatmap\",\"colorbar\":{\"outlinewidth\":0,\"ticks\":\"\"},\"colorscale\":[[0.0,\"#0d0887\"],[0.1111111111111111,\"#46039f\"],[0.2222222222222222,\"#7201a8\"],[0.3333333333333333,\"#9c179e\"],[0.4444444444444444,\"#bd3786\"],[0.5555555555555556,\"#d8576b\"],[0.6666666666666666,\"#ed7953\"],[0.7777777777777778,\"#fb9f3a\"],[0.8888888888888888,\"#fdca26\"],[1.0,\"#f0f921\"]]}],\"heatmapgl\":[{\"type\":\"heatmapgl\",\"colorbar\":{\"outlinewidth\":0,\"ticks\":\"\"},\"colorscale\":[[0.0,\"#0d0887\"],[0.1111111111111111,\"#46039f\"],[0.2222222222222222,\"#7201a8\"],[0.3333333333333333,\"#9c179e\"],[0.4444444444444444,\"#bd3786\"],[0.5555555555555556,\"#d8576b\"],[0.6666666666666666,\"#ed7953\"],[0.7777777777777778,\"#fb9f3a\"],[0.8888888888888888,\"#fdca26\"],[1.0,\"#f0f921\"]]}],\"contourcarpet\":[{\"type\":\"contourcarpet\",\"colorbar\":{\"outlinewidth\":0,\"ticks\":\"\"}}],\"contour\":[{\"type\":\"contour\",\"colorbar\":{\"outlinewidth\":0,\"ticks\":\"\"},\"colorscale\":[[0.0,\"#0d0887\"],[0.1111111111111111,\"#46039f\"],[0.2222222222222222,\"#7201a8\"],[0.3333333333333333,\"#9c179e\"],[0.4444444444444444,\"#bd3786\"],[0.5555555555555556,\"#d8576b\"],[0.6666666666666666,\"#ed7953\"],[0.7777777777777778,\"#fb9f3a\"],[0.8888888888888888,\"#fdca26\"],[1.0,\"#f0f921\"]]}],\"surface\":[{\"type\":\"surface\",\"colorbar\":{\"outlinewidth\":0,\"ticks\":\"\"},\"colorscale\":[[0.0,\"#0d0887\"],[0.1111111111111111,\"#46039f\"],[0.2222222222222222,\"#7201a8\"],[0.3333333333333333,\"#9c179e\"],[0.4444444444444444,\"#bd3786\"],[0.5555555555555556,\"#d8576b\"],[0.6666666666666666,\"#ed7953\"],[0.7777777777777778,\"#fb9f3a\"],[0.8888888888888888,\"#fdca26\"],[1.0,\"#f0f921\"]]}],\"mesh3d\":[{\"type\":\"mesh3d\",\"colorbar\":{\"outlinewidth\":0,\"ticks\":\"\"}}],\"scatter\":[{\"fillpattern\":{\"fillmode\":\"overlay\",\"size\":10,\"solidity\":0.2},\"type\":\"scatter\"}],\"parcoords\":[{\"type\":\"parcoords\",\"line\":{\"colorbar\":{\"outlinewidth\":0,\"ticks\":\"\"}}}],\"scatterpolargl\":[{\"type\":\"scatterpolargl\",\"marker\":{\"colorbar\":{\"outlinewidth\":0,\"ticks\":\"\"}}}],\"bar\":[{\"error_x\":{\"color\":\"#2a3f5f\"},\"error_y\":{\"color\":\"#2a3f5f\"},\"marker\":{\"line\":{\"color\":\"#E5ECF6\",\"width\":0.5},\"pattern\":{\"fillmode\":\"overlay\",\"size\":10,\"solidity\":0.2}},\"type\":\"bar\"}],\"scattergeo\":[{\"type\":\"scattergeo\",\"marker\":{\"colorbar\":{\"outlinewidth\":0,\"ticks\":\"\"}}}],\"scatterpolar\":[{\"type\":\"scatterpolar\",\"marker\":{\"colorbar\":{\"outlinewidth\":0,\"ticks\":\"\"}}}],\"histogram\":[{\"marker\":{\"pattern\":{\"fillmode\":\"overlay\",\"size\":10,\"solidity\":0.2}},\"type\":\"histogram\"}],\"scattergl\":[{\"type\":\"scattergl\",\"marker\":{\"colorbar\":{\"outlinewidth\":0,\"ticks\":\"\"}}}],\"scatter3d\":[{\"type\":\"scatter3d\",\"line\":{\"colorbar\":{\"outlinewidth\":0,\"ticks\":\"\"}},\"marker\":{\"colorbar\":{\"outlinewidth\":0,\"ticks\":\"\"}}}],\"scattermapbox\":[{\"type\":\"scattermapbox\",\"marker\":{\"colorbar\":{\"outlinewidth\":0,\"ticks\":\"\"}}}],\"scatterternary\":[{\"type\":\"scatterternary\",\"marker\":{\"colorbar\":{\"outlinewidth\":0,\"ticks\":\"\"}}}],\"scattercarpet\":[{\"type\":\"scattercarpet\",\"marker\":{\"colorbar\":{\"outlinewidth\":0,\"ticks\":\"\"}}}],\"carpet\":[{\"aaxis\":{\"endlinecolor\":\"#2a3f5f\",\"gridcolor\":\"white\",\"linecolor\":\"white\",\"minorgridcolor\":\"white\",\"startlinecolor\":\"#2a3f5f\"},\"baxis\":{\"endlinecolor\":\"#2a3f5f\",\"gridcolor\":\"white\",\"linecolor\":\"white\",\"minorgridcolor\":\"white\",\"startlinecolor\":\"#2a3f5f\"},\"type\":\"carpet\"}],\"table\":[{\"cells\":{\"fill\":{\"color\":\"#EBF0F8\"},\"line\":{\"color\":\"white\"}},\"header\":{\"fill\":{\"color\":\"#C8D4E3\"},\"line\":{\"color\":\"white\"}},\"type\":\"table\"}],\"barpolar\":[{\"marker\":{\"line\":{\"color\":\"#E5ECF6\",\"width\":0.5},\"pattern\":{\"fillmode\":\"overlay\",\"size\":10,\"solidity\":0.2}},\"type\":\"barpolar\"}],\"pie\":[{\"automargin\":true,\"type\":\"pie\"}]},\"layout\":{\"autotypenumbers\":\"strict\",\"colorway\":[\"#636efa\",\"#EF553B\",\"#00cc96\",\"#ab63fa\",\"#FFA15A\",\"#19d3f3\",\"#FF6692\",\"#B6E880\",\"#FF97FF\",\"#FECB52\"],\"font\":{\"color\":\"#2a3f5f\"},\"hovermode\":\"closest\",\"hoverlabel\":{\"align\":\"left\"},\"paper_bgcolor\":\"white\",\"plot_bgcolor\":\"#E5ECF6\",\"polar\":{\"bgcolor\":\"#E5ECF6\",\"angularaxis\":{\"gridcolor\":\"white\",\"linecolor\":\"white\",\"ticks\":\"\"},\"radialaxis\":{\"gridcolor\":\"white\",\"linecolor\":\"white\",\"ticks\":\"\"}},\"ternary\":{\"bgcolor\":\"#E5ECF6\",\"aaxis\":{\"gridcolor\":\"white\",\"linecolor\":\"white\",\"ticks\":\"\"},\"baxis\":{\"gridcolor\":\"white\",\"linecolor\":\"white\",\"ticks\":\"\"},\"caxis\":{\"gridcolor\":\"white\",\"linecolor\":\"white\",\"ticks\":\"\"}},\"coloraxis\":{\"colorbar\":{\"outlinewidth\":0,\"ticks\":\"\"}},\"colorscale\":{\"sequential\":[[0.0,\"#0d0887\"],[0.1111111111111111,\"#46039f\"],[0.2222222222222222,\"#7201a8\"],[0.3333333333333333,\"#9c179e\"],[0.4444444444444444,\"#bd3786\"],[0.5555555555555556,\"#d8576b\"],[0.6666666666666666,\"#ed7953\"],[0.7777777777777778,\"#fb9f3a\"],[0.8888888888888888,\"#fdca26\"],[1.0,\"#f0f921\"]],\"sequentialminus\":[[0.0,\"#0d0887\"],[0.1111111111111111,\"#46039f\"],[0.2222222222222222,\"#7201a8\"],[0.3333333333333333,\"#9c179e\"],[0.4444444444444444,\"#bd3786\"],[0.5555555555555556,\"#d8576b\"],[0.6666666666666666,\"#ed7953\"],[0.7777777777777778,\"#fb9f3a\"],[0.8888888888888888,\"#fdca26\"],[1.0,\"#f0f921\"]],\"diverging\":[[0,\"#8e0152\"],[0.1,\"#c51b7d\"],[0.2,\"#de77ae\"],[0.3,\"#f1b6da\"],[0.4,\"#fde0ef\"],[0.5,\"#f7f7f7\"],[0.6,\"#e6f5d0\"],[0.7,\"#b8e186\"],[0.8,\"#7fbc41\"],[0.9,\"#4d9221\"],[1,\"#276419\"]]},\"xaxis\":{\"gridcolor\":\"white\",\"linecolor\":\"white\",\"ticks\":\"\",\"title\":{\"standoff\":15},\"zerolinecolor\":\"white\",\"automargin\":true,\"zerolinewidth\":2},\"yaxis\":{\"gridcolor\":\"white\",\"linecolor\":\"white\",\"ticks\":\"\",\"title\":{\"standoff\":15},\"zerolinecolor\":\"white\",\"automargin\":true,\"zerolinewidth\":2},\"scene\":{\"xaxis\":{\"backgroundcolor\":\"#E5ECF6\",\"gridcolor\":\"white\",\"linecolor\":\"white\",\"showbackground\":true,\"ticks\":\"\",\"zerolinecolor\":\"white\",\"gridwidth\":2},\"yaxis\":{\"backgroundcolor\":\"#E5ECF6\",\"gridcolor\":\"white\",\"linecolor\":\"white\",\"showbackground\":true,\"ticks\":\"\",\"zerolinecolor\":\"white\",\"gridwidth\":2},\"zaxis\":{\"backgroundcolor\":\"#E5ECF6\",\"gridcolor\":\"white\",\"linecolor\":\"white\",\"showbackground\":true,\"ticks\":\"\",\"zerolinecolor\":\"white\",\"gridwidth\":2}},\"shapedefaults\":{\"line\":{\"color\":\"#2a3f5f\"}},\"annotationdefaults\":{\"arrowcolor\":\"#2a3f5f\",\"arrowhead\":0,\"arrowwidth\":1},\"geo\":{\"bgcolor\":\"white\",\"landcolor\":\"#E5ECF6\",\"subunitcolor\":\"white\",\"showland\":true,\"showlakes\":true,\"lakecolor\":\"white\"},\"title\":{\"x\":0.05},\"mapbox\":{\"style\":\"light\"}}},\"title\":{\"text\":\"Updating Parameter ARIMA Predictions, 2024-12-07\"},\"xaxis\":{\"title\":{\"text\":\"Date\"}},\"yaxis\":{\"title\":{\"text\":\"Count\"}},\"hovermode\":\"x\"},                        {\"responsive\": true}                    ).then(function(){\n",
       "                            \n",
       "var gd = document.getElementById('ea550a54-289f-4710-be94-e88668227aa8');\n",
       "var x = new MutationObserver(function (mutations, observer) {{\n",
       "        var display = window.getComputedStyle(gd).display;\n",
       "        if (!display || display === 'none') {{\n",
       "            console.log([gd, 'removed!']);\n",
       "            Plotly.purge(gd);\n",
       "            observer.disconnect();\n",
       "        }}\n",
       "}});\n",
       "\n",
       "// Listen for the removal of the full notebook cells\n",
       "var notebookContainer = gd.closest('#notebook-container');\n",
       "if (notebookContainer) {{\n",
       "    x.observe(notebookContainer, {childList: true});\n",
       "}}\n",
       "\n",
       "// Listen for the clearing of the current output cell\n",
       "var outputEl = gd.closest('.output');\n",
       "if (outputEl) {{\n",
       "    x.observe(outputEl, {childList: true});\n",
       "}}\n",
       "\n",
       "                        })                };                });            </script>        </div>"
      ]
     },
     "metadata": {},
     "output_type": "display_data"
    }
   ],
   "source": [
    "UProcessor.create_graph()"
   ]
  },
  {
   "cell_type": "code",
   "execution_count": 114,
   "id": "9ec96acf-ba03-4328-b604-700e099acbd2",
   "metadata": {},
   "outputs": [
    {
     "data": {
      "text/plain": [
       "{'AutoARIMA': '#2c728e', '80': '#414487', '95': '#1e9c89'}"
      ]
     },
     "execution_count": 114,
     "metadata": {},
     "output_type": "execute_result"
    }
   ],
   "source": [
    "UProcessor.color_mapping"
   ]
  },
  {
   "cell_type": "code",
   "execution_count": 115,
   "id": "dc4487e3-5ef8-40bc-a673-354a2f41774c",
   "metadata": {
    "tags": []
   },
   "outputs": [],
   "source": [
    "UProcessor.calculate_metrics()"
   ]
  },
  {
   "cell_type": "code",
   "execution_count": 116,
   "id": "9b615ea9-42bf-4a7b-a857-418d22e4cfe9",
   "metadata": {
    "tags": []
   },
   "outputs": [],
   "source": [
    "UProcessor.create_metrics_df()"
   ]
  },
  {
   "cell_type": "code",
   "execution_count": 117,
   "id": "38c8a9c8-0da9-4170-9fde-0ecffe707fc4",
   "metadata": {
    "tags": []
   },
   "outputs": [],
   "source": [
    "UProcessor.create_display_df()"
   ]
  },
  {
   "cell_type": "code",
   "execution_count": 118,
   "id": "0b7f26cc-9b10-4256-97bc-d1b97f1af758",
   "metadata": {
    "tags": []
   },
   "outputs": [
    {
     "data": {
      "text/html": [
       "<div>\n",
       "<style scoped>\n",
       "    .dataframe tbody tr th:only-of-type {\n",
       "        vertical-align: middle;\n",
       "    }\n",
       "\n",
       "    .dataframe tbody tr th {\n",
       "        vertical-align: top;\n",
       "    }\n",
       "\n",
       "    .dataframe thead th {\n",
       "        text-align: right;\n",
       "    }\n",
       "</style>\n",
       "<table border=\"1\" class=\"dataframe\">\n",
       "  <thead>\n",
       "    <tr style=\"text-align: right;\">\n",
       "      <th></th>\n",
       "      <th>Reference Date</th>\n",
       "      <th>MAE</th>\n",
       "      <th>MSE</th>\n",
       "      <th>MAPE</th>\n",
       "      <th>NMSE</th>\n",
       "    </tr>\n",
       "  </thead>\n",
       "  <tbody>\n",
       "    <tr>\n",
       "      <th>0</th>\n",
       "      <td>2024-10-05</td>\n",
       "      <td>257.767916</td>\n",
       "      <td>1.350676e+05</td>\n",
       "      <td>0.363988</td>\n",
       "      <td>1.327939</td>\n",
       "    </tr>\n",
       "    <tr>\n",
       "      <th>1</th>\n",
       "      <td>2024-10-19</td>\n",
       "      <td>371.753195</td>\n",
       "      <td>1.655323e+05</td>\n",
       "      <td>0.249370</td>\n",
       "      <td>0.380362</td>\n",
       "    </tr>\n",
       "    <tr>\n",
       "      <th>2</th>\n",
       "      <td>2024-11-02</td>\n",
       "      <td>503.743812</td>\n",
       "      <td>3.131407e+05</td>\n",
       "      <td>0.191943</td>\n",
       "      <td>0.455021</td>\n",
       "    </tr>\n",
       "    <tr>\n",
       "      <th>3</th>\n",
       "      <td>2024-11-16</td>\n",
       "      <td>188.578272</td>\n",
       "      <td>4.830717e+04</td>\n",
       "      <td>0.041164</td>\n",
       "      <td>0.009074</td>\n",
       "    </tr>\n",
       "    <tr>\n",
       "      <th>4</th>\n",
       "      <td>2024-12-07</td>\n",
       "      <td>6334.739098</td>\n",
       "      <td>9.563477e+07</td>\n",
       "      <td>0.195904</td>\n",
       "      <td>0.737954</td>\n",
       "    </tr>\n",
       "  </tbody>\n",
       "</table>\n",
       "</div>"
      ],
      "text/plain": [
       "  Reference Date          MAE           MSE      MAPE      NMSE\n",
       "0     2024-10-05   257.767916  1.350676e+05  0.363988  1.327939\n",
       "1     2024-10-19   371.753195  1.655323e+05  0.249370  0.380362\n",
       "2     2024-11-02   503.743812  3.131407e+05  0.191943  0.455021\n",
       "3     2024-11-16   188.578272  4.830717e+04  0.041164  0.009074\n",
       "4     2024-12-07  6334.739098  9.563477e+07  0.195904  0.737954"
      ]
     },
     "execution_count": 118,
     "metadata": {},
     "output_type": "execute_result"
    }
   ],
   "source": [
    "UProcessor.metrics_df"
   ]
  },
  {
   "cell_type": "code",
   "execution_count": 124,
   "id": "aeb8c52e-1439-43a5-ac1e-9b6c155b05e9",
   "metadata": {
    "tags": []
   },
   "outputs": [
    {
     "data": {
      "text/html": [
       "<div>\n",
       "<style scoped>\n",
       "    .dataframe tbody tr th:only-of-type {\n",
       "        vertical-align: middle;\n",
       "    }\n",
       "\n",
       "    .dataframe tbody tr th {\n",
       "        vertical-align: top;\n",
       "    }\n",
       "\n",
       "    .dataframe thead th {\n",
       "        text-align: right;\n",
       "    }\n",
       "</style>\n",
       "<table border=\"1\" class=\"dataframe\">\n",
       "  <thead>\n",
       "    <tr style=\"text-align: right;\">\n",
       "      <th></th>\n",
       "      <th>Reference Date</th>\n",
       "      <th>Target End Date</th>\n",
       "      <th>Quantile</th>\n",
       "      <th>Prediction</th>\n",
       "    </tr>\n",
       "  </thead>\n",
       "  <tbody>\n",
       "    <tr>\n",
       "      <th>1</th>\n",
       "      <td>2024-10-05</td>\n",
       "      <td>2024-10-12</td>\n",
       "      <td>0.025</td>\n",
       "      <td>-1982.982987</td>\n",
       "    </tr>\n",
       "    <tr>\n",
       "      <th>2</th>\n",
       "      <td>2024-10-05</td>\n",
       "      <td>2024-10-12</td>\n",
       "      <td>0.100</td>\n",
       "      <td>-1163.687339</td>\n",
       "    </tr>\n",
       "    <tr>\n",
       "      <th>0</th>\n",
       "      <td>2024-10-05</td>\n",
       "      <td>2024-10-12</td>\n",
       "      <td>0.500</td>\n",
       "      <td>383.998980</td>\n",
       "    </tr>\n",
       "    <tr>\n",
       "      <th>3</th>\n",
       "      <td>2024-10-05</td>\n",
       "      <td>2024-10-12</td>\n",
       "      <td>0.900</td>\n",
       "      <td>1931.685299</td>\n",
       "    </tr>\n",
       "    <tr>\n",
       "      <th>4</th>\n",
       "      <td>2024-10-05</td>\n",
       "      <td>2024-10-12</td>\n",
       "      <td>0.975</td>\n",
       "      <td>2750.980947</td>\n",
       "    </tr>\n",
       "    <tr>\n",
       "      <th>...</th>\n",
       "      <td>...</td>\n",
       "      <td>...</td>\n",
       "      <td>...</td>\n",
       "      <td>...</td>\n",
       "    </tr>\n",
       "    <tr>\n",
       "      <th>96</th>\n",
       "      <td>2024-12-07</td>\n",
       "      <td>2025-01-04</td>\n",
       "      <td>0.025</td>\n",
       "      <td>12406.389117</td>\n",
       "    </tr>\n",
       "    <tr>\n",
       "      <th>97</th>\n",
       "      <td>2024-12-07</td>\n",
       "      <td>2025-01-04</td>\n",
       "      <td>0.100</td>\n",
       "      <td>15052.833872</td>\n",
       "    </tr>\n",
       "    <tr>\n",
       "      <th>95</th>\n",
       "      <td>2024-12-07</td>\n",
       "      <td>2025-01-04</td>\n",
       "      <td>0.500</td>\n",
       "      <td>20052.087016</td>\n",
       "    </tr>\n",
       "    <tr>\n",
       "      <th>98</th>\n",
       "      <td>2024-12-07</td>\n",
       "      <td>2025-01-04</td>\n",
       "      <td>0.900</td>\n",
       "      <td>25051.340161</td>\n",
       "    </tr>\n",
       "    <tr>\n",
       "      <th>99</th>\n",
       "      <td>2024-12-07</td>\n",
       "      <td>2025-01-04</td>\n",
       "      <td>0.975</td>\n",
       "      <td>27697.784916</td>\n",
       "    </tr>\n",
       "  </tbody>\n",
       "</table>\n",
       "<p>100 rows × 4 columns</p>\n",
       "</div>"
      ],
      "text/plain": [
       "   Reference Date Target End Date  Quantile    Prediction\n",
       "1      2024-10-05      2024-10-12     0.025  -1982.982987\n",
       "2      2024-10-05      2024-10-12     0.100  -1163.687339\n",
       "0      2024-10-05      2024-10-12     0.500    383.998980\n",
       "3      2024-10-05      2024-10-12     0.900   1931.685299\n",
       "4      2024-10-05      2024-10-12     0.975   2750.980947\n",
       "..            ...             ...       ...           ...\n",
       "96     2024-12-07      2025-01-04     0.025  12406.389117\n",
       "97     2024-12-07      2025-01-04     0.100  15052.833872\n",
       "95     2024-12-07      2025-01-04     0.500  20052.087016\n",
       "98     2024-12-07      2025-01-04     0.900  25051.340161\n",
       "99     2024-12-07      2025-01-04     0.975  27697.784916\n",
       "\n",
       "[100 rows x 4 columns]"
      ]
     },
     "execution_count": 124,
     "metadata": {},
     "output_type": "execute_result"
    }
   ],
   "source": [
    "UProcessor.display_df"
   ]
  },
  {
   "cell_type": "code",
   "execution_count": null,
   "id": "f11389a4-f189-45a4-8aee-51cf96249341",
   "metadata": {
    "tags": []
   },
   "outputs": [],
   "source": []
  },
  {
   "cell_type": "code",
   "execution_count": null,
   "id": "6b1963b9-bf6e-444c-9447-b2f21a0bf6c4",
   "metadata": {},
   "outputs": [],
   "source": []
  },
  {
   "cell_type": "code",
   "execution_count": null,
   "id": "a09fcd69-bd37-4a43-abe4-bb14df194de1",
   "metadata": {
    "tags": []
   },
   "outputs": [],
   "source": []
  },
  {
   "cell_type": "code",
   "execution_count": null,
   "id": "1f1ab4a7-5266-4a5c-a021-c8dcc9bc4081",
   "metadata": {
    "tags": []
   },
   "outputs": [],
   "source": []
  },
  {
   "cell_type": "code",
   "execution_count": null,
   "id": "4818c537-adf6-498c-b404-4405b7fe8dcb",
   "metadata": {
    "tags": []
   },
   "outputs": [],
   "source": []
  },
  {
   "cell_type": "code",
   "execution_count": null,
   "id": "82e99659-95e2-4a55-b375-e598600446b1",
   "metadata": {
    "tags": []
   },
   "outputs": [],
   "source": []
  },
  {
   "cell_type": "code",
   "execution_count": null,
   "id": "295767e1-5345-4ae9-8164-8beb1ba55387",
   "metadata": {},
   "outputs": [],
   "source": []
  }
 ],
 "metadata": {
  "kernelspec": {
   "display_name": "Python 3 (ipykernel)",
   "language": "python",
   "name": "python3"
  },
  "language_info": {
   "codemirror_mode": {
    "name": "ipython",
    "version": 3
   },
   "file_extension": ".py",
   "mimetype": "text/x-python",
   "name": "python",
   "nbconvert_exporter": "python",
   "pygments_lexer": "ipython3",
   "version": "3.11.4"
  }
 },
 "nbformat": 4,
 "nbformat_minor": 5
}
