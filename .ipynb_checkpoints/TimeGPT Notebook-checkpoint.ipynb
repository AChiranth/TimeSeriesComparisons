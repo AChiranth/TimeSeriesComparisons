{
 "cells": [
  {
   "cell_type": "code",
   "execution_count": null,
   "id": "c76b9aed",
   "metadata": {},
   "outputs": [],
   "source": [
    "from nixtla import NixtlaClient"
   ]
  },
  {
   "cell_type": "code",
   "execution_count": null,
   "id": "d7ec1dbf",
   "metadata": {},
   "outputs": [],
   "source": [
    "nixtla_client = NixtlaClient(api_key=\"nixak-sVs734PNn3JEOMYhbwrfTAW5C9Y1Jqu3jDBlBW38DgOxX8tLmcZSmX4InxwXiiEFXllPOCcGmdKEYSZW\")"
   ]
  },
  {
   "cell_type": "code",
   "execution_count": null,
   "id": "bd4f968f",
   "metadata": {},
   "outputs": [],
   "source": [
    "#Verifying API key, was able to access this after creating account and following manual at\n",
    "#https://nixtlaverse.nixtla.io/nixtla/docs/getting-started/quickstart.html#step-1-create-a-timegpt-account-and-generate-your-api-key\n",
    "nixtla_client.validate_api_key()"
   ]
  },
  {
   "cell_type": "code",
   "execution_count": null,
   "id": "1d5661f0",
   "metadata": {},
   "outputs": [],
   "source": [
    "import pandas as pd \n",
    "import numpy as np\n",
    "import matplotlib.pyplot as plt\n",
    "\n",
    "import cufflinks as cf\n",
    "from plotly import __version__\n",
    "from plotly.offline import download_plotlyjs, init_notebook_mode, plot, iplot\n",
    "\n",
    "cf.go_offline()\n",
    "\n",
    "%matplotlib inline"
   ]
  },
  {
   "cell_type": "code",
   "execution_count": null,
   "id": "9883a94d",
   "metadata": {},
   "outputs": [],
   "source": [
    "df = pd.read_csv(\"flu-hospital-admissions.csv\", parse_dates = [\"date\"])\n",
    "df = df[df[\"location_name\"] == \"US\"]\n",
    "df"
   ]
  },
  {
   "cell_type": "code",
   "execution_count": null,
   "id": "eaa574b3",
   "metadata": {},
   "outputs": [],
   "source": [
    "df[\"date\"]"
   ]
  },
  {
   "cell_type": "code",
   "execution_count": null,
   "id": "9da74d84",
   "metadata": {},
   "outputs": [],
   "source": [
    "#Traditional plot, works easily with pandas data frame\n",
    "#Problem can potentially arise when time/date column is the index, which is the standard practice for a normal matplotlib/plotly/pandas plotting flow\n",
    "nixtla_client.plot(df, time_col=\"date\", target_col=\"value\")"
   ]
  },
  {
   "cell_type": "code",
   "execution_count": null,
   "id": "d2c3e2b9",
   "metadata": {},
   "outputs": [],
   "source": [
    "#No need to sort or set index, but heavy limitations on setting axis title, date ranges, etc."
   ]
  },
  {
   "cell_type": "code",
   "execution_count": null,
   "id": "2faa86dc",
   "metadata": {},
   "outputs": [],
   "source": [
    "#A lot of reformatting of dataset to fit plotly or matplotlib plotting specifications\n",
    "plotly_df = df[['date','value']]\n",
    "plotly_df['date'] = pd.to_datetime(plotly_df['date'])\n",
    "plotly_df.set_index('date', inplace=True)\n",
    "plotly_df.sort_values(by=\"date\", inplace=True)\n",
    "plotly_df"
   ]
  },
  {
   "cell_type": "code",
   "execution_count": null,
   "id": "dfd31cf0",
   "metadata": {},
   "outputs": [],
   "source": [
    "#Reference point to compare visual plots\n",
    "plotly_df[\"value\"].iplot(yTitle = \"Count\", xTitle = \"Date\", title = \"US Flu Hospital Admissions\")"
   ]
  },
  {
   "cell_type": "code",
   "execution_count": null,
   "id": "fdf9e199",
   "metadata": {},
   "outputs": [],
   "source": [
    "#Forecasting which returns data frame. frequency (freq) is a parameter, I've left it blank as the library is supposed to automatically detect frequency\n",
    "#model is also a parameter, I've left it at default\n",
    "timegpt_fcst_df = nixtla_client.forecast(df=df, time_col='date', target_col='value', h=12)\n",
    "timegpt_fcst_df"
   ]
  },
  {
   "cell_type": "code",
   "execution_count": null,
   "id": "b675cdf5",
   "metadata": {},
   "outputs": [],
   "source": [
    "#Easy to plot the training df and the forecasted df\n",
    "nixtla_client.plot(df, timegpt_fcst_df, time_col='date', target_col='value')"
   ]
  },
  {
   "cell_type": "code",
   "execution_count": null,
   "id": "83e12332",
   "metadata": {},
   "outputs": [],
   "source": [
    "#Little case study. Wanted to see what the prediction would look like in a big spike in December"
   ]
  },
  {
   "cell_type": "code",
   "execution_count": null,
   "id": "711d5011",
   "metadata": {},
   "outputs": [],
   "source": [
    "#Setting up training data frame to be only US data and exclude last 4 weeks (December)\n",
    "training_df = df.copy()\n",
    "training_df = training_df.sort_values(by=\"date\")\n",
    "training_df = training_df.iloc[:-4]\n",
    "training_df"
   ]
  },
  {
   "cell_type": "code",
   "execution_count": null,
   "id": "907c0843",
   "metadata": {},
   "outputs": [],
   "source": [
    "#Forecast next 4 weeks based on this dataframe\n",
    "forecast_df = nixtla_client.forecast(df=training_df, time_col='date', target_col='value', h=4)\n",
    "forecast_df = forecast_df.set_index(\"date\")\n",
    "forecast_df"
   ]
  },
  {
   "cell_type": "code",
   "execution_count": null,
   "id": "a51599ca",
   "metadata": {},
   "outputs": [],
   "source": [
    "#Creating data frame that has one column as training data, one column as real data, and one column as TimeGPT prediction\n",
    "plotting_df = pd.DataFrame()\n",
    "plotting_df.index = plotly_df.index\n",
    "plotting_df[\"Training Data\"] = plotly_df[\"value\"].iloc[:-4]\n",
    "plotting_df[\"Real Data\"] = plotly_df[\"value\"].iloc[-4:]\n",
    "plotting_df[\"TimeGPT Prediction\"] = forecast_df[\"TimeGPT\"]\n",
    "plotting_df"
   ]
  },
  {
   "cell_type": "code",
   "execution_count": null,
   "id": "f4fd28d7",
   "metadata": {},
   "outputs": [],
   "source": [
    "plotting_df.iplot(xTitle = \"Date\", yTitle = \"Count\", title = \"TimeGPT vs Real Data\")"
   ]
  },
  {
   "cell_type": "code",
   "execution_count": null,
   "id": "cc38a048",
   "metadata": {},
   "outputs": [],
   "source": [
    "timegpt_fcst_df"
   ]
  },
  {
   "cell_type": "code",
   "execution_count": null,
   "id": "8e89332b",
   "metadata": {},
   "outputs": [],
   "source": []
  }
 ],
 "metadata": {
  "kernelspec": {
   "display_name": "Python 3 (ipykernel)",
   "language": "python",
   "name": "python3"
  },
  "language_info": {
   "codemirror_mode": {
    "name": "ipython",
    "version": 3
   },
   "file_extension": ".py",
   "mimetype": "text/x-python",
   "name": "python",
   "nbconvert_exporter": "python",
   "pygments_lexer": "ipython3",
   "version": "3.11.6"
  }
 },
 "nbformat": 4,
 "nbformat_minor": 5
}
