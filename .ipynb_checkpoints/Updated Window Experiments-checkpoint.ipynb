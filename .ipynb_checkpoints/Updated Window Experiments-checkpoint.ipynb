{
 "cells": [
  {
   "cell_type": "code",
   "execution_count": null,
   "id": "14bb4cd5",
   "metadata": {},
   "outputs": [],
   "source": [
    "import pandas as pd \n",
    "import numpy as np\n",
    "import matplotlib.pyplot as plt\n",
    "\n",
    "import cufflinks as cf\n",
    "from plotly import __version__\n",
    "from plotly.offline import download_plotlyjs, init_notebook_mode, plot, iplot\n",
    "\n",
    "cf.go_offline()\n",
    "\n",
    "%matplotlib inline"
   ]
  },
  {
   "cell_type": "code",
   "execution_count": null,
   "id": "79ee7112",
   "metadata": {},
   "outputs": [],
   "source": [
    "from sklearn.metrics import mean_absolute_error, mean_absolute_percentage_error, mean_squared_error"
   ]
  },
  {
   "cell_type": "code",
   "execution_count": null,
   "id": "d6e23c8a",
   "metadata": {},
   "outputs": [],
   "source": [
    "from nixtla import NixtlaClient"
   ]
  },
  {
   "cell_type": "code",
   "execution_count": null,
   "id": "9af0279f",
   "metadata": {},
   "outputs": [],
   "source": [
    "nixtla_client = NixtlaClient(api_key=\"nixak-sVs734PNn3JEOMYhbwrfTAW5C9Y1Jqu3jDBlBW38DgOxX8tLmcZSmX4InxwXiiEFXllPOCcGmdKEYSZW\")"
   ]
  },
  {
   "cell_type": "code",
   "execution_count": null,
   "id": "d0c69baf",
   "metadata": {},
   "outputs": [],
   "source": [
    "updated_df = pd.read_csv(\"https://raw.githubusercontent.com/cdcepi/FluSight-forecast-hub/refs/heads/main/target-data/target-hospital-admissions.csv\")"
   ]
  },
  {
   "cell_type": "code",
   "execution_count": null,
   "id": "dbfa8eca",
   "metadata": {},
   "outputs": [],
   "source": [
    "updated_df = updated_df[updated_df[\"location_name\"] == \"US\"]\n",
    "updated_df = updated_df[[\"date\", \"value\"]]\n",
    "updated_df[\"date\"] = pd.to_datetime(updated_df[\"date\"])\n",
    "updated_df.set_index(\"date\", inplace = True)\n",
    "updated_df.sort_values(by = \"date\", inplace = True)\n",
    "updated_df"
   ]
  },
  {
   "cell_type": "code",
   "execution_count": null,
   "id": "dfd1dde1",
   "metadata": {},
   "outputs": [],
   "source": [
    "updated_df.iplot(xTitle = \"Date\", yTitle = \"Count\", title = \"US Flu Cases 2022-2025\")"
   ]
  },
  {
   "cell_type": "code",
   "execution_count": null,
   "id": "4b2aa243",
   "metadata": {},
   "outputs": [],
   "source": [
    "oct1stweekdf = updated_df.loc[:\"2024-10-05\"]\n",
    "oct3rdweekdf = updated_df.loc[:\"2024-10-19\"]\n",
    "nov1stweekdf = updated_df.loc[:\"2024-11-02\"]\n",
    "nov3rdweekdf = updated_df.loc[:\"2024-11-16\"]\n",
    "dec1stweekdf = updated_df.loc[:\"2024-12-07\"]"
   ]
  },
  {
   "cell_type": "code",
   "execution_count": null,
   "id": "5a6ba7c9",
   "metadata": {},
   "outputs": [],
   "source": [
    "oct1stweekfc = nixtla_client.forecast(df = oct1stweekdf, time_col=\"date\", target_col=\"value\", h=14)\n",
    "oct1stweekfc.set_index(\"date\", inplace=True)\n",
    "\n",
    "oct3rdweekfc = nixtla_client.forecast(df = oct3rdweekdf, time_col=\"date\", target_col=\"value\", h=12)\n",
    "oct3rdweekfc.set_index(\"date\", inplace=True)\n",
    "\n",
    "nov1stweekfc = nixtla_client.forecast(df = nov1stweekdf, time_col=\"date\", target_col=\"value\", h=10)\n",
    "nov1stweekfc.set_index(\"date\", inplace=True)\n",
    "\n",
    "nov3rdweekfc = nixtla_client.forecast(df = nov3rdweekdf, time_col=\"date\", target_col=\"value\", h=8)\n",
    "nov3rdweekfc.set_index(\"date\", inplace=True)\n",
    "\n",
    "dec1stweekfc = nixtla_client.forecast(df = dec1stweekdf, time_col=\"date\", target_col=\"value\", h=6)\n",
    "dec1stweekfc.set_index(\"date\", inplace=True)"
   ]
  },
  {
   "cell_type": "code",
   "execution_count": null,
   "id": "62960c66",
   "metadata": {},
   "outputs": [],
   "source": [
    "plottingdf = pd.DataFrame()\n",
    "plottingdf.index = updated_df.index\n",
    "plottingdf[\"Real Data\"] = updated_df[\"value\"]\n",
    "plottingdf[\"Oct 1st Week Model\"] = oct1stweekfc[\"TimeGPT\"]\n",
    "plottingdf[\"Oct 3rd Week Model\"] = oct3rdweekfc[\"TimeGPT\"]\n",
    "plottingdf[\"Nov 1st Week Model\"] = nov1stweekfc[\"TimeGPT\"]\n",
    "plottingdf[\"Nov 3rd Week Model\"] = nov3rdweekfc[\"TimeGPT\"]\n",
    "plottingdf[\"Dec 1st Week Model\"] = dec1stweekfc[\"TimeGPT\"]\n",
    "plottingdf"
   ]
  },
  {
   "cell_type": "code",
   "execution_count": null,
   "id": "05448dca",
   "metadata": {},
   "outputs": [],
   "source": [
    "plottingdf.iplot(xTitle = \"Date\", yTitle = \"Count\", title = \"TimeGPT Models vs. Real Data\")"
   ]
  },
  {
   "cell_type": "code",
   "execution_count": null,
   "id": "2f66ddeb",
   "metadata": {},
   "outputs": [],
   "source": [
    "dec1stweekfc.loc[\"2025-01-11\"]"
   ]
  },
  {
   "cell_type": "code",
   "execution_count": null,
   "id": "2472be3a",
   "metadata": {},
   "outputs": [],
   "source": []
  }
 ],
 "metadata": {
  "kernelspec": {
   "display_name": "Python 3 (ipykernel)",
   "language": "python",
   "name": "python3"
  },
  "language_info": {
   "codemirror_mode": {
    "name": "ipython",
    "version": 3
   },
   "file_extension": ".py",
   "mimetype": "text/x-python",
   "name": "python",
   "nbconvert_exporter": "python",
   "pygments_lexer": "ipython3",
   "version": "3.11.6"
  }
 },
 "nbformat": 4,
 "nbformat_minor": 5
}
