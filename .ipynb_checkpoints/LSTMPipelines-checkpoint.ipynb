{
 "cells": [
  {
   "cell_type": "code",
   "execution_count": null,
   "id": "7ac7fdec-a1bd-4e31-9f74-6feacf65a01f",
   "metadata": {
    "tags": []
   },
   "outputs": [],
   "source": [
    "import pandas as pd \n",
    "import numpy as np\n",
    "import matplotlib.pyplot as plt\n",
    "\n",
    "import cufflinks as cf\n",
    "from plotly import __version__\n",
    "from plotly.offline import download_plotlyjs, init_notebook_mode, plot, iplot\n",
    "\n",
    "cf.go_offline()\n",
    "\n",
    "%matplotlib inline\n",
    "from sklearn.metrics import mean_absolute_error, mean_absolute_percentage_error, mean_squared_error\n",
    "\n",
    "from neuralforecast.auto import AutoLSTM\n",
    "from neuralforecast.tsdataset import TimeSeriesDataset\n",
    "\n",
    "from datetime import datetime, timedelta"
   ]
  },
  {
   "cell_type": "code",
   "execution_count": null,
   "id": "b5218041-870a-476d-a48a-424b1bcaf871",
   "metadata": {
    "tags": []
   },
   "outputs": [],
   "source": [
    "class FixedModelLSTMProcessor:\n",
    "    def __init__(self, overall_df, dates):\n",
    "        self.overall_df = overall_df\n",
    "        self.overall_df_value_col = \"value\"\n",
    "        self.dates = dates\n",
    "        self.dfs = []\n",
    "        self.forecasts = []\n",
    "        self.plotting_df = pd.DataFrame()\n",
    "        \n",
    "        self.maes = []\n",
    "        self.mses = []\n",
    "        self.mapes = []\n",
    "        self.nmses = []\n",
    "        \n",
    "        self.metrics_df = pd.DataFrame(columns = [\"Reference Date\", \"MAE\", \"MSE\", \"MAPE\", \"NMSE\"])\n",
    "        self.display_df = pd.DataFrame(columns = [\"Reference Date\", \"Target End Date\", \"Prediction\"])\n",
    "    \n",
    "    def create_training_dfs(self, value_col):\n",
    "        self.overall_df_value_col = value_col\n",
    "        for date in self.dates:\n",
    "            df = self.overall_df.loc[:date]\n",
    "            df['ds'] = df.index\n",
    "            df[\"unique_id\"] = \"series_1\"\n",
    "            df = df.rename(columns = {value_col: \"y\"})\n",
    "            self.dfs.append(df)\n",
    "        \n",
    "    \n",
    "    def create_fixed_model(self, h, model_name):\n",
    "        #Creating AutoLSTM model and predicting with hyperparameter tuning by optuna backend. This is based upon the first training dataframe\n",
    "        initial_dataset, *_ = TimeSeriesDataset.from_df(self.dfs[0])\n",
    "        LSTMmodel = AutoLSTM(h = h, backend = \"optuna\")\n",
    "        LSTMmodel.fit(dataset = initial_dataset)\n",
    "        \n",
    "        for i in range(len(self.dfs)):\n",
    "            dataset, *_ = TimeSeriesDataset.from_df(self.dfs[i])\n",
    "            y_hat = LSTMmodel.predict(dataset = dataset)\n",
    "            start_date = datetime.strptime(self.dates[i], \"%Y-%m-%d\")\n",
    "            horizon_dates = [start_date + timedelta(weeks=j) for j in range(1, h+1)]\n",
    "        \n",
    "            fc = pd.DataFrame(y_hat.ravel(), index = pd.to_datetime(horizon_dates))\n",
    "            self.forecasts.append(fc)\n",
    "        \n",
    "        LSTMmodel.save(path=f'./AutoLSTM/fixed_models/{model_name}.ckpt')\n",
    "    \n",
    "    def create_graph(self):\n",
    "        self.plotting_df.index = self.overall_df.index\n",
    "        self.plotting_df[\"Real Data\"] = self.overall_df[self.overall_df_value_col]\n",
    "        \n",
    "        for i in range(len(self.forecasts)):\n",
    "            date_obj = datetime.strptime(self.dates[i], \"%Y-%m-%d\")\n",
    "            english_date = date_obj.strftime(\"%B %d, %Y\")\n",
    "            \n",
    "            self.plotting_df[f\"{english_date} Model\"] = self.forecasts[i][0]\n",
    "        \n",
    "        self.plotting_df.iplot(xTitle = \"Date\", yTitle = \"Count\", title = \"Fixed Parameter LSTM Predictions\")\n",
    "    \n",
    "    def calculate_metrics(self):\n",
    "        for i in range(len(self.forecasts)):\n",
    "            mae = mean_absolute_error(self.overall_df[self.overall_df_value_col].loc[self.forecasts[i].index], self.forecasts[i][0])\n",
    "            mse = mean_squared_error(self.overall_df[self.overall_df_value_col].loc[self.forecasts[i].index], self.forecasts[i][0])\n",
    "            mape = mean_absolute_percentage_error(self.overall_df[self.overall_df_value_col].loc[self.forecasts[i].index], self.forecasts[i][0])\n",
    "            nmse = mse/np.var(self.overall_df[self.overall_df_value_col].loc[self.forecasts[i].index])\n",
    "            \n",
    "            self.maes.append(mae)\n",
    "            self.mses.append(mse)\n",
    "            self.mapes.append(mape)\n",
    "            self.nmses.append(nmse)\n",
    "    \n",
    "    def display_maes(self):\n",
    "        for i in range(len(self.maes)):\n",
    "            date_obj = datetime.strptime(self.dates[i], \"%Y-%m-%d\")\n",
    "            english_date = date_obj.strftime(\"%B %d, %Y\")\n",
    "            print(f\"Mean Absolute Error for {english_date} model: {self.maes[i]}\")\n",
    "        \n",
    "    def display_mses(self):\n",
    "        for i in range(len(self.mses)):\n",
    "            date_obj = datetime.strptime(self.dates[i], \"%Y-%m-%d\")\n",
    "            english_date = date_obj.strftime(\"%B %d, %Y\")\n",
    "            print(f\"Mean Squared Error for {english_date} model: {self.mses[i]}\")\n",
    "    \n",
    "    def display_mapes(self):\n",
    "        for i in range(len(self.mapes)):\n",
    "            date_obj = datetime.strptime(self.dates[i], \"%Y-%m-%d\")\n",
    "            english_date = date_obj.strftime(\"%B %d, %Y\")\n",
    "            print(f\"Mean Absolute Percentage Error for {english_date} model: {self.mapes[i]}\")\n",
    "    \n",
    "    def display_nmses(self):\n",
    "        for i in range(len(self.nmses)):\n",
    "            date_obj = datetime.strptime(self.dates[i], \"%Y-%m-%d\")\n",
    "            english_date = date_obj.strftime(\"%B %d, %Y\")\n",
    "            print(f\"Normalized Mean Square Error for {english_date} model: {self.nmses[i]}\")\n",
    "    \n",
    "    def create_metrics_df(self):\n",
    "        for i in range(len(self.dates)):\n",
    "            self.metrics_df.loc[len(self.metrics_df)] = [self.dates[i], self.maes[i], self.mses[i], self.mapes[i], self.nmses[i]]\n",
    "        \n",
    "            \n",
    "    def create_display_df(self):\n",
    "        for i in range(len(self.forecasts)):\n",
    "            for index, row in self.forecasts[i].iterrows():\n",
    "                reference_date = self.dates[i]\n",
    "                target_end_date = index\n",
    "                value = row[0]\n",
    "                self.display_df.loc[len(self.display_df)] = [reference_date, target_end_date, value]\n",
    "                \n",
    "            "
   ]
  },
  {
   "cell_type": "code",
   "execution_count": null,
   "id": "25af5694-c6c4-4a04-9c64-4e4590e0681f",
   "metadata": {
    "tags": []
   },
   "outputs": [],
   "source": [
    "updated_df = pd.read_csv(\"https://raw.githubusercontent.com/cdcepi/FluSight-forecast-hub/refs/heads/main/target-data/target-hospital-admissions.csv\")"
   ]
  },
  {
   "cell_type": "code",
   "execution_count": null,
   "id": "c72ba56f-2195-457c-a505-1cdb8a1b99f8",
   "metadata": {
    "tags": []
   },
   "outputs": [],
   "source": [
    "updated_df = updated_df[updated_df[\"location_name\"] == \"US\"]\n",
    "updated_df = updated_df[[\"date\", \"value\"]]\n",
    "updated_df[\"date\"] = pd.to_datetime(updated_df[\"date\"])\n",
    "updated_df.set_index(\"date\", inplace = True)\n",
    "updated_df.sort_values(by = \"date\", inplace = True)"
   ]
  },
  {
   "cell_type": "code",
   "execution_count": null,
   "id": "ea917224-1cd1-419c-8a60-4c773a5abcdf",
   "metadata": {
    "tags": []
   },
   "outputs": [],
   "source": [
    "updated_df.iplot()"
   ]
  },
  {
   "cell_type": "code",
   "execution_count": null,
   "id": "a7c1aab4-a5b1-4276-8b0d-bddfb2e31399",
   "metadata": {},
   "outputs": [],
   "source": [
    "Processor = FixedModelLSTMProcessor(overall_df = updated_df, dates = [\"2024-10-05\", \"2024-10-19\", \"2024-11-02\", \"2024-11-16\", \"2024-12-07\"])"
   ]
  },
  {
   "cell_type": "code",
   "execution_count": null,
   "id": "a21b7451-690c-4124-94cf-8f8323531aa4",
   "metadata": {
    "tags": []
   },
   "outputs": [],
   "source": []
  },
  {
   "cell_type": "code",
   "execution_count": null,
   "id": "6ddd78df-4bed-4e32-b0ab-d4a5fdbb6ab8",
   "metadata": {
    "tags": []
   },
   "outputs": [],
   "source": [
    "Processor.dates"
   ]
  },
  {
   "cell_type": "code",
   "execution_count": null,
   "id": "248814a9-3e4f-4ef5-beff-07176c1396a8",
   "metadata": {
    "tags": []
   },
   "outputs": [],
   "source": [
    "Processor.dfs"
   ]
  },
  {
   "cell_type": "code",
   "execution_count": null,
   "id": "0bddc3d7-658b-49e9-885a-e15a02977b02",
   "metadata": {
    "tags": []
   },
   "outputs": [],
   "source": [
    "Processor.create_training_dfs(value_col = \"value\")"
   ]
  },
  {
   "cell_type": "code",
   "execution_count": null,
   "id": "52a69382-7231-4ff3-aa29-072cfa37b6c2",
   "metadata": {
    "tags": []
   },
   "outputs": [],
   "source": [
    "Processor.dfs[0]"
   ]
  },
  {
   "cell_type": "code",
   "execution_count": null,
   "id": "aeb46fa9-763b-44ac-a535-c98b7ebc5535",
   "metadata": {
    "tags": []
   },
   "outputs": [],
   "source": [
    "Processor.create_fixed_model(h = 4, model_name = \"test_model\")"
   ]
  },
  {
   "cell_type": "code",
   "execution_count": null,
   "id": "e846a64c-4fcf-4473-a2aa-9bae7a224652",
   "metadata": {
    "tags": []
   },
   "outputs": [],
   "source": [
    "Processor.forecasts[2]"
   ]
  },
  {
   "cell_type": "code",
   "execution_count": null,
   "id": "90aa42b8-67e0-4800-9e36-fe5c37484705",
   "metadata": {
    "tags": []
   },
   "outputs": [],
   "source": [
    "Processor.create_graph()"
   ]
  },
  {
   "cell_type": "code",
   "execution_count": null,
   "id": "c600ccd3-0aec-4907-a43c-f7e663898941",
   "metadata": {
    "tags": []
   },
   "outputs": [],
   "source": [
    "Processor.plotting_df.iloc[-16:]"
   ]
  },
  {
   "cell_type": "code",
   "execution_count": null,
   "id": "770589c4-ba33-44fc-92b3-1fd18b6ed5e2",
   "metadata": {
    "tags": []
   },
   "outputs": [],
   "source": [
    "Processor.forecasts[1]"
   ]
  },
  {
   "cell_type": "code",
   "execution_count": null,
   "id": "57296ec2-66d4-4f08-a254-e4c3da164688",
   "metadata": {
    "tags": []
   },
   "outputs": [],
   "source": [
    "Processor.overall_df"
   ]
  },
  {
   "cell_type": "code",
   "execution_count": null,
   "id": "260c00a3-28e6-4f35-98fb-4d988b65a22d",
   "metadata": {
    "tags": []
   },
   "outputs": [],
   "source": [
    "Processor.overall_df[\"value\"].loc[Processor.forecasts[1].index]"
   ]
  },
  {
   "cell_type": "code",
   "execution_count": null,
   "id": "e6257d1e-4ecd-4600-9d26-2c5c265e8663",
   "metadata": {},
   "outputs": [],
   "source": [
    "Processor.calculate_metrics()"
   ]
  },
  {
   "cell_type": "code",
   "execution_count": null,
   "id": "bdbd11a4-68cd-42f5-a817-85182eca7b15",
   "metadata": {
    "tags": []
   },
   "outputs": [],
   "source": [
    "Processor.maes"
   ]
  },
  {
   "cell_type": "code",
   "execution_count": null,
   "id": "f4f83c6f-7c92-4e47-8695-83f3a9804cc1",
   "metadata": {
    "tags": []
   },
   "outputs": [],
   "source": [
    "Processor.mses"
   ]
  },
  {
   "cell_type": "code",
   "execution_count": null,
   "id": "18f2bfed-182e-4e27-91e9-4d6a8b4f8226",
   "metadata": {
    "tags": []
   },
   "outputs": [],
   "source": [
    "Processor.mapes"
   ]
  },
  {
   "cell_type": "code",
   "execution_count": null,
   "id": "49c64886-a4b5-4bbe-80fe-60ba5f79caa3",
   "metadata": {
    "tags": []
   },
   "outputs": [],
   "source": [
    "Processor.create_display_df()"
   ]
  },
  {
   "cell_type": "code",
   "execution_count": null,
   "id": "680da260-4656-47e6-b153-bd335be097ae",
   "metadata": {
    "tags": []
   },
   "outputs": [],
   "source": [
    "Processor.display_df"
   ]
  },
  {
   "cell_type": "code",
   "execution_count": null,
   "id": "11aa4533-8feb-4065-84d1-84abebc9ae93",
   "metadata": {
    "tags": []
   },
   "outputs": [],
   "source": [
    "Processor.create_metrics_df()"
   ]
  },
  {
   "cell_type": "code",
   "execution_count": null,
   "id": "28bdb5ad-2bf1-4c53-b9ab-687d506e95f9",
   "metadata": {
    "tags": []
   },
   "outputs": [],
   "source": [
    "Processor.metrics_df"
   ]
  },
  {
   "cell_type": "code",
   "execution_count": null,
   "id": "1afa836c-4f69-4929-b34d-ed24b4087651",
   "metadata": {
    "tags": []
   },
   "outputs": [],
   "source": []
  },
  {
   "cell_type": "code",
   "execution_count": null,
   "id": "b0803a22-783e-4bde-9f5f-2f3f2aa28754",
   "metadata": {},
   "outputs": [],
   "source": [
    "class UpdatingModelLSTMProcessor:\n",
    "    def __init__(self, overall_df, dates):\n",
    "        self.overall_df = overall_df\n",
    "        self.overall_df_value_col = \"value\"\n",
    "        self.dates = dates\n",
    "        self.dfs = []\n",
    "        self.forecasts = []\n",
    "        self.plotting_df = pd.DataFrame()\n",
    "        \n",
    "        self.maes = []\n",
    "        self.mses = []\n",
    "        self.mapes = []\n",
    "        self.nmses = []\n",
    "        \n",
    "        self.metrics_df = pd.DataFrame(columns = [\"Reference Date\", \"MAE\", \"MSE\", \"MAPE\", \"NMSE\"])\n",
    "        self.display_df = pd.DataFrame(columns = [\"Reference Date\", \"Target End Date\", \"Prediction\"])\n",
    "    \n",
    "    def create_training_dfs(self, value_col):\n",
    "        self.overall_df_value_col = value_col\n",
    "        for date in self.dates:\n",
    "            df = self.overall_df.loc[:date]\n",
    "            df['ds'] = df.index\n",
    "            df[\"unique_id\"] = \"series_1\"\n",
    "            df = df.rename(columns = {value_col: \"y\"})\n",
    "            self.dfs.append(df)\n",
    "    \n",
    "    def create_models(self, h, model_names):\n",
    "        for i in range(len(self.dfs)):\n",
    "            dataset, *_ = TimeSeriesDataset.from_df(self.dfs[i])\n",
    "            LSTMmodel = AutoLSTM(h = h, backend = \"optuna\")\n",
    "            LSTMmodel.fit(dataset = dataset)\n",
    "            y_hat = LSTMmodel.predict(dataset = dataset)\n",
    "            start_date = datetime.strptime(self.dates[i], \"%Y-%m-%d\")\n",
    "            horizon_dates = [start_date + timedelta(weeks=j) for j in range(1, h+1)]\n",
    "            \n",
    "            fc = pd.DataFrame(y_hat.ravel(), index = pd.to_datetime(horizon_dates))\n",
    "            self.forecasts.append(fc)\n",
    "            LSTMmodel.save(path=f'./AutoLSTM/fixed_models/{model_names[i]}.ckpt')\n",
    "    \n",
    "    def create_graph(self):\n",
    "        self.plotting_df.index = self.overall_df.index\n",
    "        self.plotting_df[\"Real Data\"] = self.overall_df[self.overall_df_value_col]\n",
    "        \n",
    "        for i in range(len(self.forecasts)):\n",
    "            date_obj = datetime.strptime(self.dates[i], \"%Y-%m-%d\")\n",
    "            english_date = date_obj.strftime(\"%B %d, %Y\")\n",
    "            \n",
    "            self.plotting_df[f\"{english_date} Model\"] = self.forecasts[i][0]\n",
    "        \n",
    "        self.plotting_df.iplot(xTitle = \"Date\", yTitle = \"Count\", title = \"Updating Parameter LSTM Predictions\")\n",
    "    \n",
    "    def calculate_metrics(self):\n",
    "        for i in range(len(self.forecasts)):\n",
    "            mae = mean_absolute_error(self.overall_df[self.overall_df_value_col].loc[self.forecasts[i].index], self.forecasts[i][0])\n",
    "            mse = mean_squared_error(self.overall_df[self.overall_df_value_col].loc[self.forecasts[i].index], self.forecasts[i][0])\n",
    "            mape = mean_absolute_percentage_error(self.overall_df[self.overall_df_value_col].loc[self.forecasts[i].index], self.forecasts[i][0])\n",
    "            nmse = mse/np.var(self.overall_df[self.overall_df_value_col].loc[self.forecasts[i].index])\n",
    "            \n",
    "            self.maes.append(mae)\n",
    "            self.mses.append(mse)\n",
    "            self.mapes.append(mape)\n",
    "            self.nmses.append(nmse)\n",
    "    \n",
    "    def display_maes(self):\n",
    "        for i in range(len(self.maes)):\n",
    "            date_obj = datetime.strptime(self.dates[i], \"%Y-%m-%d\")\n",
    "            english_date = date_obj.strftime(\"%B %d, %Y\")\n",
    "            print(f\"Mean Absolute Error for {english_date} model: {self.maes[i]}\")\n",
    "        \n",
    "    def display_mses(self):\n",
    "        for i in range(len(self.mses)):\n",
    "            date_obj = datetime.strptime(self.dates[i], \"%Y-%m-%d\")\n",
    "            english_date = date_obj.strftime(\"%B %d, %Y\")\n",
    "            print(f\"Mean Squared Error for {english_date} model: {self.mses[i]}\")\n",
    "    \n",
    "    def display_mapes(self):\n",
    "        for i in range(len(self.mapes)):\n",
    "            date_obj = datetime.strptime(self.dates[i], \"%Y-%m-%d\")\n",
    "            english_date = date_obj.strftime(\"%B %d, %Y\")\n",
    "            print(f\"Mean Absolute Percentage Error for {english_date} model: {self.mapes[i]}\")\n",
    "    \n",
    "    def display_nmses(self):\n",
    "        for i in range(len(self.nmses)):\n",
    "            date_obj = datetime.strptime(self.dates[i], \"%Y-%m-%d\")\n",
    "            english_date = date_obj.strftime(\"%B %d, %Y\")\n",
    "            print(f\"Normalized Mean Square Error for {english_date} model: {self.nmses[i]}\")\n",
    "        \n",
    "    def create_metrics_df(self):\n",
    "        for i in range(len(self.dates)):\n",
    "            self.metrics_df.loc[len(self.metrics_df)] = [self.dates[i], self.maes[i], self.mses[i], self.mapes[i], self.nmses[i]]\n",
    "    \n",
    "    def create_display_df(self):\n",
    "        for i in range(len(self.forecasts)):\n",
    "            for index, row in self.forecasts[i].iterrows():\n",
    "                reference_date = self.dates[i]\n",
    "                target_end_date = index\n",
    "                value = row[0]\n",
    "                self.display_df.loc[len(self.display_df)] = [reference_date, target_end_date, value]\n",
    "            \n",
    "            "
   ]
  },
  {
   "cell_type": "code",
   "execution_count": null,
   "id": "95af61d5-cbaa-45f8-b355-bb5a3f0cc971",
   "metadata": {
    "tags": []
   },
   "outputs": [],
   "source": [
    "UpdatingProcessor = UpdatingModelLSTMProcessor(overall_df = updated_df, dates = [\"2024-10-05\", \"2024-10-19\", \"2024-11-02\", \"2024-11-16\", \"2024-12-07\"])"
   ]
  },
  {
   "cell_type": "code",
   "execution_count": null,
   "id": "c973a910-9431-4300-a528-c1d22b477b17",
   "metadata": {
    "tags": []
   },
   "outputs": [],
   "source": [
    "UpdatingProcessor.dates"
   ]
  },
  {
   "cell_type": "code",
   "execution_count": null,
   "id": "a4547824-a6bc-4ba5-8de1-54da4d7a7e96",
   "metadata": {
    "tags": []
   },
   "outputs": [],
   "source": [
    "UpdatingProcessor.dfs"
   ]
  },
  {
   "cell_type": "code",
   "execution_count": null,
   "id": "e5d4ee1f-d04d-40de-b6d0-e52c1d2d642c",
   "metadata": {
    "tags": []
   },
   "outputs": [],
   "source": [
    "UpdatingProcessor.create_training_dfs(value_col = \"value\")"
   ]
  },
  {
   "cell_type": "code",
   "execution_count": null,
   "id": "d73f4a20-34c0-4fe6-ba4d-2d50c2e20b52",
   "metadata": {
    "tags": []
   },
   "outputs": [],
   "source": [
    "UpdatingProcessor.dfs[2]"
   ]
  },
  {
   "cell_type": "code",
   "execution_count": null,
   "id": "913a053f-13c5-46d3-b499-3e398fea01cc",
   "metadata": {
    "tags": []
   },
   "outputs": [],
   "source": [
    "UpdatingProcessor.create_models(h = 4, model_names = [\"test_1\", \"test_2\", \"test_3\", \"test_4\", \"test_5\"])"
   ]
  },
  {
   "cell_type": "code",
   "execution_count": null,
   "id": "bb2cb6c5-7d55-499e-b952-b6f9af9b3fe0",
   "metadata": {
    "tags": []
   },
   "outputs": [],
   "source": [
    "UpdatingProcessor.forecasts[1]"
   ]
  },
  {
   "cell_type": "code",
   "execution_count": null,
   "id": "4380a8ef-a9ad-4ce8-ae3c-2834ad2249b8",
   "metadata": {},
   "outputs": [],
   "source": [
    "UpdatingProcessor.create_graph()"
   ]
  },
  {
   "cell_type": "code",
   "execution_count": null,
   "id": "efebc6fa-22d5-4765-bedb-888011c666e0",
   "metadata": {
    "tags": []
   },
   "outputs": [],
   "source": [
    "UpdatingProcessor.calculate_metrics()"
   ]
  },
  {
   "cell_type": "code",
   "execution_count": null,
   "id": "96c75be2-2ee0-45e1-9f99-6051a4cafbd7",
   "metadata": {
    "tags": []
   },
   "outputs": [],
   "source": [
    "UpdatingProcessor.maes"
   ]
  },
  {
   "cell_type": "code",
   "execution_count": null,
   "id": "6a635971-ac5e-41f3-9440-1feef96d8c25",
   "metadata": {
    "tags": []
   },
   "outputs": [],
   "source": [
    "UpdatingProcessor.create_display_df()"
   ]
  },
  {
   "cell_type": "code",
   "execution_count": null,
   "id": "78f9ec98-eb85-43ac-baf6-1dd2ccf6475e",
   "metadata": {
    "tags": []
   },
   "outputs": [],
   "source": [
    "UpdatingProcessor.display_df"
   ]
  },
  {
   "cell_type": "code",
   "execution_count": null,
   "id": "568a389e-b541-4bcc-a4d6-22de1c51ca8e",
   "metadata": {},
   "outputs": [],
   "source": [
    "UpdatingProcessor.create_metrics_df()"
   ]
  },
  {
   "cell_type": "code",
   "execution_count": null,
   "id": "36b2c5c9-bc2f-4581-b6c7-223d310766b7",
   "metadata": {
    "tags": []
   },
   "outputs": [],
   "source": [
    "UpdatingProcessor.metrics_df"
   ]
  },
  {
   "cell_type": "code",
   "execution_count": null,
   "id": "753e2ba3-151b-4699-aaf7-96b9a09110ae",
   "metadata": {
    "tags": []
   },
   "outputs": [],
   "source": [
    "Processor.metrics_df"
   ]
  },
  {
   "cell_type": "code",
   "execution_count": null,
   "id": "2e12d200-1536-4e97-a78a-4b7936b735f6",
   "metadata": {},
   "outputs": [],
   "source": []
  }
 ],
 "metadata": {
  "kernelspec": {
   "display_name": "Python 3 (ipykernel)",
   "language": "python",
   "name": "python3"
  },
  "language_info": {
   "codemirror_mode": {
    "name": "ipython",
    "version": 3
   },
   "file_extension": ".py",
   "mimetype": "text/x-python",
   "name": "python",
   "nbconvert_exporter": "python",
   "pygments_lexer": "ipython3",
   "version": "3.11.4"
  }
 },
 "nbformat": 4,
 "nbformat_minor": 5
}
