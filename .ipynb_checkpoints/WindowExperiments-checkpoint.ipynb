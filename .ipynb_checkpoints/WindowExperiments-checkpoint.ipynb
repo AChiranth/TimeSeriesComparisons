{
 "cells": [
  {
   "cell_type": "code",
   "execution_count": null,
   "id": "25a0ad59",
   "metadata": {},
   "outputs": [],
   "source": [
    "import pandas as pd \n",
    "import numpy as np\n",
    "import matplotlib.pyplot as plt\n",
    "\n",
    "import cufflinks as cf\n",
    "from plotly import __version__\n",
    "from plotly.offline import download_plotlyjs, init_notebook_mode, plot, iplot\n",
    "\n",
    "cf.go_offline()\n",
    "\n",
    "%matplotlib inline"
   ]
  },
  {
   "cell_type": "code",
   "execution_count": null,
   "id": "fa1b675c",
   "metadata": {},
   "outputs": [],
   "source": [
    "from sklearn.metrics import mean_absolute_error, mean_absolute_percentage_error, mean_squared_error"
   ]
  },
  {
   "cell_type": "code",
   "execution_count": null,
   "id": "f2f9f240",
   "metadata": {},
   "outputs": [],
   "source": [
    "from nixtla import NixtlaClient"
   ]
  },
  {
   "cell_type": "code",
   "execution_count": null,
   "id": "3e66bf1a",
   "metadata": {},
   "outputs": [],
   "source": [
    "nixtla_client = NixtlaClient(api_key=\"nixak-sVs734PNn3JEOMYhbwrfTAW5C9Y1Jqu3jDBlBW38DgOxX8tLmcZSmX4InxwXiiEFXllPOCcGmdKEYSZW\")"
   ]
  },
  {
   "cell_type": "code",
   "execution_count": null,
   "id": "7d9d8c80",
   "metadata": {},
   "outputs": [],
   "source": [
    "nixtla_client.validate_api_key()"
   ]
  },
  {
   "cell_type": "code",
   "execution_count": null,
   "id": "d73c0dab",
   "metadata": {},
   "outputs": [],
   "source": [
    "entire_df = pd.read_csv(\"flu-hospital-admissions.csv\")\n",
    "entire_df = entire_df[entire_df[\"location_name\"] == \"US\"]\n",
    "entire_df = entire_df[[\"date\", \"value\"]]\n",
    "entire_df[\"date\"] = pd.to_datetime(entire_df[\"date\"])\n",
    "entire_df.set_index(\"date\", inplace=True)\n",
    "entire_df.sort_values(by = \"date\", inplace = True)\n",
    "entire_df"
   ]
  },
  {
   "cell_type": "code",
   "execution_count": null,
   "id": "c3829eac",
   "metadata": {},
   "outputs": [],
   "source": []
  },
  {
   "cell_type": "code",
   "execution_count": null,
   "id": "e009993b",
   "metadata": {},
   "outputs": [],
   "source": [
    "#5 different weeks, with the final week being 10/7/23, 10/14/23, 10/21/23, 10/28/28, 11/4/23"
   ]
  },
  {
   "cell_type": "code",
   "execution_count": null,
   "id": "f004e07a",
   "metadata": {},
   "outputs": [],
   "source": [
    "oct7df = entire_df.loc[:\"2023-10-07\"]\n",
    "oct14df = entire_df.loc[:\"2023-10-14\"]\n",
    "oct21df = entire_df.loc[:\"2023-10-21\"]\n",
    "oct28df = entire_df.loc[:\"2023-10-28\"]\n",
    "nov4df = entire_df.loc[:\"2023-11-04\"]"
   ]
  },
  {
   "cell_type": "code",
   "execution_count": null,
   "id": "9f8fc40a",
   "metadata": {},
   "outputs": [],
   "source": [
    "oct7df"
   ]
  },
  {
   "cell_type": "code",
   "execution_count": null,
   "id": "d2def77a",
   "metadata": {},
   "outputs": [],
   "source": [
    "#Training, forecasting, and plotting for Oct 7 df\n",
    "\n",
    "oct7forecast = nixtla_client.forecast(df = oct7df, time_col=\"date\", target_col=\"value\", h=13)\n",
    "oct7forecast = oct7forecast.set_index(\"date\")"
   ]
  },
  {
   "cell_type": "code",
   "execution_count": null,
   "id": "a817a7ee",
   "metadata": {},
   "outputs": [],
   "source": [
    "oct7plottingdf = pd.DataFrame()\n",
    "oct7plottingdf.index = entire_df.index\n",
    "oct7plottingdf = oct7plottingdf.loc[: \"2024-01-06\"]\n",
    "\n",
    "oct7plottingdf[\"TimeGPT Forecast\"] = oct7forecast[\"TimeGPT\"]\n",
    "oct7plottingdf[\"Training Data\"] = oct7df[\"value\"]\n",
    "oct7plottingdf[\"Real Data\"] = entire_df[\"2023-10-14\" : \"2024-01-06\"]\n",
    "\n",
    "oct7plottingdf"
   ]
  },
  {
   "cell_type": "code",
   "execution_count": null,
   "id": "6be564c7",
   "metadata": {},
   "outputs": [],
   "source": [
    "oct7plottingdf.iplot(xTitle = \"Date\", yTitle = \"Count\", title = \"TimeGPT Prediction Given Oct. 7 As Final Point\")"
   ]
  },
  {
   "cell_type": "code",
   "execution_count": null,
   "id": "1871df5d",
   "metadata": {},
   "outputs": [],
   "source": [
    "#Metrics\n",
    "print(\"MAE:\",mean_absolute_error(entire_df[\"2023-10-14\" : \"2024-01-06\"], oct7forecast[\"TimeGPT\"]))\n",
    "print(\"MAPE:\",mean_absolute_percentage_error(entire_df[\"2023-10-14\" : \"2024-01-06\"], oct7forecast[\"TimeGPT\"]))\n",
    "print(\"MSE:\",mean_squared_error(entire_df[\"2023-10-14\" : \"2024-01-06\"], oct7forecast[\"TimeGPT\"]))"
   ]
  },
  {
   "cell_type": "code",
   "execution_count": null,
   "id": "c6717d91",
   "metadata": {},
   "outputs": [],
   "source": [
    "#Training, forecasting, and plotting for Oct 14 df\n",
    "\n",
    "oct14forecast = nixtla_client.forecast(df = oct14df, time_col=\"date\", target_col=\"value\", h=12)\n",
    "oct14forecast = oct14forecast.set_index(\"date\")"
   ]
  },
  {
   "cell_type": "code",
   "execution_count": null,
   "id": "7689c828",
   "metadata": {},
   "outputs": [],
   "source": [
    "oct14plottingdf = pd.DataFrame()\n",
    "oct14plottingdf.index = entire_df.index\n",
    "oct14plottingdf = oct14plottingdf.loc[: \"2024-01-06\"]\n",
    "\n",
    "oct14plottingdf[\"TimeGPT Forecast\"] = oct14forecast[\"TimeGPT\"]\n",
    "oct14plottingdf[\"Training Data\"] = oct14df[\"value\"]\n",
    "oct14plottingdf[\"Real Data\"] = entire_df[\"2023-10-21\" : \"2024-01-06\"]\n",
    "\n",
    "oct14plottingdf"
   ]
  },
  {
   "cell_type": "code",
   "execution_count": null,
   "id": "b6c08a7b",
   "metadata": {},
   "outputs": [],
   "source": [
    "oct14plottingdf.iplot(xTitle = \"Date\", yTitle = \"Count\", title = \"TimeGPT Prediction Given Oct. 14 As Final Point\")"
   ]
  },
  {
   "cell_type": "code",
   "execution_count": null,
   "id": "2ffada53",
   "metadata": {},
   "outputs": [],
   "source": [
    "#Metrics\n",
    "print(\"MAE:\",mean_absolute_error(entire_df[\"2023-10-21\" : \"2024-01-06\"], oct14forecast[\"TimeGPT\"]))\n",
    "print(\"MAPE:\",mean_absolute_percentage_error(entire_df[\"2023-10-21\" : \"2024-01-06\"], oct14forecast[\"TimeGPT\"]))\n",
    "print(\"MSE:\",mean_squared_error(entire_df[\"2023-10-21\" : \"2024-01-06\"], oct14forecast[\"TimeGPT\"]))"
   ]
  },
  {
   "cell_type": "code",
   "execution_count": null,
   "id": "18114675",
   "metadata": {},
   "outputs": [],
   "source": [
    "#Training, forecasting, and plotting for Oct 21 df\n",
    "\n",
    "oct21forecast = nixtla_client.forecast(df = oct21df, time_col=\"date\", target_col=\"value\", h=11)\n",
    "oct21forecast = oct21forecast.set_index(\"date\")"
   ]
  },
  {
   "cell_type": "code",
   "execution_count": null,
   "id": "ba4a8cc4",
   "metadata": {},
   "outputs": [],
   "source": [
    "oct21plottingdf = pd.DataFrame()\n",
    "oct21plottingdf.index = entire_df.index\n",
    "oct21plottingdf = oct21plottingdf.loc[: \"2024-01-06\"]\n",
    "\n",
    "oct21plottingdf[\"TimeGPT Forecast\"] = oct21forecast[\"TimeGPT\"]\n",
    "oct21plottingdf[\"Training Data\"] = oct21df[\"value\"]\n",
    "oct21plottingdf[\"Real Data\"] = entire_df[\"2023-10-28\" : \"2024-01-06\"]\n",
    "\n",
    "oct21plottingdf"
   ]
  },
  {
   "cell_type": "code",
   "execution_count": null,
   "id": "68266665",
   "metadata": {},
   "outputs": [],
   "source": [
    "oct21plottingdf.iplot(xTitle = \"Date\", yTitle = \"Count\", title = \"TimeGPT Prediction Given Oct. 21 As Final Point\")"
   ]
  },
  {
   "cell_type": "code",
   "execution_count": null,
   "id": "1632a2f4",
   "metadata": {},
   "outputs": [],
   "source": [
    "#Metrics\n",
    "print(\"MAE:\",mean_absolute_error(entire_df[\"2023-10-28\" : \"2024-01-06\"], oct21forecast[\"TimeGPT\"]))\n",
    "print(\"MAPE:\",mean_absolute_percentage_error(entire_df[\"2023-10-28\" : \"2024-01-06\"], oct21forecast[\"TimeGPT\"]))\n",
    "print(\"MSE:\",mean_squared_error(entire_df[\"2023-10-28\" : \"2024-01-06\"], oct21forecast[\"TimeGPT\"]))"
   ]
  },
  {
   "cell_type": "code",
   "execution_count": null,
   "id": "9f000b30",
   "metadata": {},
   "outputs": [],
   "source": [
    "oct28df"
   ]
  },
  {
   "cell_type": "code",
   "execution_count": null,
   "id": "72b23b48",
   "metadata": {},
   "outputs": [],
   "source": [
    "#Training, forecasting, and plotting for Oct 28 df\n",
    "\n",
    "oct28forecast = nixtla_client.forecast(df = oct28df, time_col=\"date\", target_col=\"value\", h=10)\n",
    "oct28forecast = oct28forecast.set_index(\"date\")"
   ]
  },
  {
   "cell_type": "code",
   "execution_count": null,
   "id": "fe200f1b",
   "metadata": {},
   "outputs": [],
   "source": [
    "oct28plottingdf = pd.DataFrame()\n",
    "oct28plottingdf.index = entire_df.index\n",
    "oct28plottingdf = oct28plottingdf.loc[: \"2024-01-06\"]\n",
    "\n",
    "oct28plottingdf[\"TimeGPT Forecast\"] = oct28forecast[\"TimeGPT\"]\n",
    "oct28plottingdf[\"Training Data\"] = oct28df[\"value\"]\n",
    "oct28plottingdf[\"Real Data\"] = entire_df[\"2023-11-04\" : \"2024-01-06\"]\n",
    "\n",
    "oct28plottingdf"
   ]
  },
  {
   "cell_type": "code",
   "execution_count": null,
   "id": "61ae8931",
   "metadata": {},
   "outputs": [],
   "source": [
    "oct28plottingdf.iplot(xTitle = \"Date\", yTitle = \"Count\", title = \"TimeGPT Prediction Given Oct. 28 As Final Point\")"
   ]
  },
  {
   "cell_type": "code",
   "execution_count": null,
   "id": "dae59a70",
   "metadata": {},
   "outputs": [],
   "source": [
    "#Metrics\n",
    "print(\"MAE:\",mean_absolute_error(entire_df[\"2023-11-04\" : \"2024-01-06\"], oct28forecast[\"TimeGPT\"]))\n",
    "print(\"MAPE:\",mean_absolute_percentage_error(entire_df[\"2023-11-04\" : \"2024-01-06\"], oct28forecast[\"TimeGPT\"]))\n",
    "print(\"MSE:\",mean_squared_error(entire_df[\"2023-11-04\" : \"2024-01-06\"], oct28forecast[\"TimeGPT\"]))"
   ]
  },
  {
   "cell_type": "code",
   "execution_count": null,
   "id": "01aae29b",
   "metadata": {},
   "outputs": [],
   "source": []
  },
  {
   "cell_type": "code",
   "execution_count": null,
   "id": "4b88405e",
   "metadata": {},
   "outputs": [],
   "source": [
    "#Training, forecasting, and plotting for Nov 4 df\n",
    "\n",
    "nov4forecast = nixtla_client.forecast(df = nov4df, time_col=\"date\", target_col=\"value\", h=9)\n",
    "nov4forecast = nov4forecast.set_index(\"date\")"
   ]
  },
  {
   "cell_type": "code",
   "execution_count": null,
   "id": "a5c07211",
   "metadata": {},
   "outputs": [],
   "source": [
    "nov4plottingdf = pd.DataFrame()\n",
    "nov4plottingdf.index = entire_df.index\n",
    "nov4plottingdf = nov4plottingdf.loc[: \"2024-01-06\"]\n",
    "\n",
    "nov4plottingdf[\"TimeGPT Forecast\"] = nov4forecast[\"TimeGPT\"]\n",
    "nov4plottingdf[\"Training Data\"] = nov4df[\"value\"]\n",
    "nov4plottingdf[\"Real Data\"] = entire_df[\"2023-11-11\" : \"2024-01-06\"]\n",
    "\n",
    "nov4plottingdf"
   ]
  },
  {
   "cell_type": "code",
   "execution_count": null,
   "id": "a797195f",
   "metadata": {},
   "outputs": [],
   "source": [
    "nov4plottingdf.iplot(xTitle = \"Date\", yTitle = \"Count\", title = \"TimeGPT Prediction Given Nov. 4 As Final Point\")"
   ]
  },
  {
   "cell_type": "code",
   "execution_count": null,
   "id": "08991e64",
   "metadata": {},
   "outputs": [],
   "source": [
    "#Metrics\n",
    "print(\"MAE:\",mean_absolute_error(entire_df[\"2023-11-11\" : \"2024-01-06\"], nov4forecast[\"TimeGPT\"]))\n",
    "print(\"MAPE:\",mean_absolute_percentage_error(entire_df[\"2023-11-11\" : \"2024-01-06\"], nov4forecast[\"TimeGPT\"]))\n",
    "print(\"MSE:\",mean_squared_error(entire_df[\"2023-11-11\" : \"2024-01-06\"], nov4forecast[\"TimeGPT\"]))"
   ]
  },
  {
   "cell_type": "code",
   "execution_count": null,
   "id": "d1d01500",
   "metadata": {},
   "outputs": [],
   "source": [
    "#Visually, the graphs look worse but MAE, MAPE, MSE go down as training window expands. Could this potentially be because of fewer data points to account for in the MSE, MAPE, and MSE in the newer windows?"
   ]
  },
  {
   "cell_type": "code",
   "execution_count": null,
   "id": "d0e7f76b",
   "metadata": {},
   "outputs": [],
   "source": []
  },
  {
   "cell_type": "code",
   "execution_count": null,
   "id": "b058d679",
   "metadata": {},
   "outputs": [],
   "source": []
  },
  {
   "cell_type": "code",
   "execution_count": null,
   "id": "9cfc3e0a",
   "metadata": {},
   "outputs": [],
   "source": []
  },
  {
   "cell_type": "code",
   "execution_count": null,
   "id": "3ca9b4e5",
   "metadata": {},
   "outputs": [],
   "source": []
  },
  {
   "cell_type": "code",
   "execution_count": null,
   "id": "1eb5b219",
   "metadata": {},
   "outputs": [],
   "source": []
  },
  {
   "cell_type": "code",
   "execution_count": null,
   "id": "c21df8d6",
   "metadata": {},
   "outputs": [],
   "source": []
  },
  {
   "cell_type": "code",
   "execution_count": null,
   "id": "0f92075e",
   "metadata": {},
   "outputs": [],
   "source": []
  }
 ],
 "metadata": {
  "kernelspec": {
   "display_name": "Python 3 (ipykernel)",
   "language": "python",
   "name": "python3"
  },
  "language_info": {
   "codemirror_mode": {
    "name": "ipython",
    "version": 3
   },
   "file_extension": ".py",
   "mimetype": "text/x-python",
   "name": "python",
   "nbconvert_exporter": "python",
   "pygments_lexer": "ipython3",
   "version": "3.11.6"
  }
 },
 "nbformat": 4,
 "nbformat_minor": 5
}
