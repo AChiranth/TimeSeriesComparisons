{
 "cells": [
  {
   "cell_type": "code",
   "execution_count": null,
   "id": "33bbe947-109d-4a0a-b70a-2b7c339064fe",
   "metadata": {
    "tags": []
   },
   "outputs": [],
   "source": [
    "import pandas as pd \n",
    "import numpy as np\n",
    "import matplotlib.pyplot as plt\n",
    "\n",
    "import cufflinks as cf\n",
    "from plotly import __version__\n",
    "from plotly.offline import download_plotlyjs, init_notebook_mode, plot, iplot\n",
    "\n",
    "cf.go_offline()\n",
    "\n",
    "%matplotlib inline\n",
    "from sklearn.metrics import mean_absolute_error, mean_absolute_percentage_error, mean_squared_error\n",
    "\n",
    "from neuralforecast.auto import AutoLSTM\n",
    "from neuralforecast.tsdataset import TimeSeriesDataset\n",
    "\n",
    "from datetime import datetime, timedelta"
   ]
  },
  {
   "cell_type": "code",
   "execution_count": null,
   "id": "75fcc5b4-36a5-44fb-b906-3b02d9c8103a",
   "metadata": {
    "tags": []
   },
   "outputs": [],
   "source": [
    "from statsforecast import StatsForecast\n",
    "from statsforecast.models import AutoARIMA, AutoCES, AutoETS\n",
    "from statsforecast.arima import arima_string\n",
    "import plotly.graph_objects as go\n",
    "import matplotlib.colors as mcolors"
   ]
  },
  {
   "cell_type": "code",
   "execution_count": null,
   "id": "8252aee1-6fa8-438b-9300-17ea2f93425b",
   "metadata": {
    "tags": []
   },
   "outputs": [],
   "source": [
    "class FixedETSProcessor:\n",
    "    def __init__(self, overall_df, dates):\n",
    "        self.overall_df = overall_df\n",
    "        self.overall_df_value_col = \"value\"\n",
    "        self.dates = dates\n",
    "        \n",
    "        self.dfs = []\n",
    "        self.sf = None\n",
    "        self.forecast = None\n",
    "        self.plotting_df = pd.DataFrame()\n",
    "        \n",
    "        self.mae = None\n",
    "        self.mse = None\n",
    "        self.mape = None\n",
    "        self.nmse = None\n",
    "        \n",
    "        self.metrics_df = pd.DataFrame(columns = [\"Reference Date\", \"MAE\", \"MSE\", \"MAPE\", \"NMSE\"])\n",
    "        self.display_df = pd.DataFrame(columns = [\"Reference Date\", \"Target End Date\", \"Quantile\", \"Prediction\"])\n",
    "    \n",
    "    def create_training_dfs(self, value_col):\n",
    "        self.overall_df_value_col = value_col\n",
    "        for date in self.dates:\n",
    "            df = self.overall_df.loc[:date]\n",
    "            df['ds'] = df.index\n",
    "            df[\"unique_id\"] = \"series_1\"\n",
    "            df = df.rename(columns = {value_col: \"y\"})\n",
    "            self.dfs.append(df)\n",
    "    \n",
    "    def create_fixed_model(self, h, freq, season_length, model_name, level = []):\n",
    "        \n",
    "        if not self.sf:\n",
    "            self.sf = StatsForecast(models=[AutoETS(model = \"AZN\")], freq = freq)\n",
    "            self.sf.fit(self.dfs[0])\n",
    "            self.sf.save(path = f\"AutoETS/fixed_models/{model_name}.pkl\")\n",
    "        \n",
    "        start_date = datetime.strptime(self.dates[0], \"%Y-%m-%d\")\n",
    "        ending_date = datetime.strptime(self.dates[-1], \"%Y-%m-%d\") + timedelta(weeks = h)\n",
    "\n",
    "        prediction_horizon = abs((ending_date - start_date).days) // 7\n",
    "        \n",
    "        if not level:\n",
    "            self.forecast = self.sf.predict(h = prediction_horizon)\n",
    "        else:\n",
    "            self.forecast = self.sf.predict(h = prediction_horizon, level = level)\n",
    "        self.forecast.set_index(\"ds\", inplace = True)\n",
    "        self.forecast.drop(columns = \"unique_id\", inplace = True)\n",
    "\n",
    "    def load_model(self, path):\n",
    "        self.sf = StatsForecast.load(path = path)\n",
    "    \n",
    "    def generate_color_map(self, columns, cmap_name = \"viridis\"):\n",
    "        intervals = set()\n",
    "        for col in columns:\n",
    "            if col == \"AutoETS\":\n",
    "                continue\n",
    "            parts = col.split('-')\n",
    "            number = parts[-1]\n",
    "            intervals.add(number)\n",
    "        \n",
    "        intervals = sorted(intervals, key=int)\n",
    "        cmap = plt.cm.get_cmap(cmap_name)\n",
    "        \n",
    "        n = len(intervals)\n",
    "        if n > 0:\n",
    "            half = np.linspace(0.2, 0.45, n // 2, endpoint=True)[::-1]  # lower intervals\n",
    "            upper = np.linspace(0.55, 0.8, n - n // 2, endpoint=True)  # higher intervals\n",
    "            sample_points = np.concatenate([half, upper])\n",
    "        else:\n",
    "            sample_points = np.array([])  # just median\n",
    "        \n",
    "        median_value = np.median(sample_points)\n",
    "        \n",
    "        color_mapping = {}\n",
    "        color_mapping['AutoETS'] = mcolors.to_hex(cmap(median_value))  # center of the colormap\n",
    "        for interval, point in zip(intervals, sample_points):\n",
    "            color_mapping[interval] = mcolors.to_hex(cmap(point))\n",
    "    \n",
    "        return color_mapping\n",
    "    \n",
    "    \n",
    "    def create_graph(self):\n",
    "        if len(self.forecast.columns) != 1:\n",
    "            self.color_mapping = self.generate_color_map(columns = self.forecast.columns)\n",
    "    \n",
    "    \n",
    "        fig = go.Figure()\n",
    "        fig.add_trace(go.Scatter(x = self.overall_df.index, y = self.overall_df[self.overall_df_value_col], mode = \"lines\", name = \"Real Data\"))\n",
    "        \n",
    "        for col in self.forecast.columns:\n",
    "            if \"hi\" in col:\n",
    "                number = col[-2:]\n",
    "                fig.add_trace(go.Scatter(x = self.forecast.index, y = self.forecast[col], mode = \"lines\", name = col,\n",
    "                                         line = dict(color = self.color_mapping[number])))\n",
    "                                         \n",
    "        for col in self.forecast.columns:\n",
    "            if \"lo\" in col:\n",
    "                number = col[-2:]\n",
    "                fig.add_trace(go.Scatter(x = self.forecast.index, y = self.forecast[col], mode = \"lines\", name = col,\n",
    "                                         fill = \"tonexty\", fillcolor = self.color_mapping[number], line = dict(color = self.color_mapping[number])))\n",
    "            \n",
    "        for col in self.forecast.columns:\n",
    "            if col == \"AutoETS\":\n",
    "                fig.add_trace(go.Scatter(x = self.forecast.index, y = self.forecast[col], mode = \"lines\", name = col, \n",
    "                                             line = dict(color = self.color_mapping[\"AutoETS\"])))\n",
    "        \n",
    "        fig.update_layout(title = f\"Fixed Parameter ETS Predictions, {self.dates[0]}\", xaxis_title = \"Date\", yaxis_title = \"Count\", hovermode = \"x\")\n",
    "        fig.show()\n",
    "    \n",
    "    def create_metrics(self):\n",
    "        col_string = \"AutoETS\"\n",
    "        \n",
    "        self.mae = mean_absolute_error(self.overall_df[self.overall_df_value_col].loc[self.forecast.index], self.forecast[col_string])\n",
    "        self.mse = mean_squared_error(self.overall_df[self.overall_df_value_col].loc[self.forecast.index], self.forecast[col_string])\n",
    "        self.mape = mean_absolute_percentage_error(self.overall_df[self.overall_df_value_col].loc[self.forecast.index], self.forecast[col_string])\n",
    "        self.nmse = self.mse/np.var(self.overall_df[self.overall_df_value_col].loc[self.forecast.index])\n",
    "\n",
    "    def create_metrics_df(self):\n",
    "        self.metrics_df.loc[len(self.metrics_df)] = [self.dates[0], self.mae, self.mse, self.mape, self.nmse]\n",
    "    \n",
    "    def create_display_df(self):\n",
    "        for index, row in self.forecast.iterrows():\n",
    "            reference_date = self.dates[0]\n",
    "            target_end_date = index\n",
    "            \n",
    "            for col in self.forecast.columns:\n",
    "                value = self.forecast.loc[target_end_date, col]\n",
    "                if \"lo\" in col:\n",
    "                    number = int (col[-2:])\n",
    "                    alpha = 1 - (number / 100)\n",
    "                    quantile = alpha / 2\n",
    "                    self.display_df.loc[len(self.display_df)] = [reference_date, target_end_date, quantile, value]\n",
    "                \n",
    "                if col == \"AutoETS\":\n",
    "                    quantile = 0.5\n",
    "                    self.display_df.loc[len(self.display_df)] = [reference_date, target_end_date, quantile, value]\n",
    "                \n",
    "                elif \"hi\" in col:\n",
    "                    number = int (col[-2:])\n",
    "                    alpha = 1 - (number / 100)\n",
    "                    quantile = 1 - (alpha / 2)\n",
    "                    self.display_df.loc[len(self.display_df)] = [reference_date, target_end_date, quantile, value]\n",
    "        \n",
    "        self.display_df.sort_values(by = [\"Reference Date\", \"Target End Date\", \"Quantile\"], inplace = True)"
   ]
  },
  {
   "cell_type": "code",
   "execution_count": null,
   "id": "089fb110-80a0-4f0a-88ec-11168327fa55",
   "metadata": {
    "tags": []
   },
   "outputs": [],
   "source": [
    "class UpdatingETSProcessor:\n",
    "    def __init__(self, overall_df, dates):\n",
    "        self.overall_df = overall_df\n",
    "        self.overall_df_value_col = \"value\"\n",
    "        self.dates = dates\n",
    "        \n",
    "        self.dfs = []\n",
    "        self.sfs = []\n",
    "        self.forecasts = []\n",
    "        self.plotting_df = pd.DataFrame()\n",
    "        \n",
    "        self.maes = []\n",
    "        self.mses = []\n",
    "        self.mapes = []\n",
    "        self.nmses = []\n",
    "        \n",
    "        self.metrics_df = pd.DataFrame(columns = [\"Reference Date\", \"MAE\", \"MSE\", \"MAPE\", \"NMSE\"])\n",
    "        self.display_df = pd.DataFrame(columns = [\"Reference Date\", \"Target End Date\", \"Quantile\",\"Prediction\"])\n",
    "    \n",
    "    def create_training_dfs(self, value_col):\n",
    "        self.overall_df_value_col = value_col\n",
    "        for date in self.dates:\n",
    "            df = self.overall_df.loc[:date]\n",
    "            df['ds'] = df.index\n",
    "            df[\"unique_id\"] = \"series_1\"\n",
    "            df = df.rename(columns = {value_col: \"y\"})\n",
    "            self.dfs.append(df)\n",
    "            \n",
    "    def create_models(self, h, freq, season_length, model_names, level = []):\n",
    "        \n",
    "        if not self.sfs:\n",
    "            for i in range(len(self.dfs)):\n",
    "                sf = StatsForecast(models=[AutoETS(model = \"AZN\")], freq = freq)\n",
    "                sf.fit(self.dfs[i])\n",
    "                self.sfs.append(sf)\n",
    "                sf.save(f\"AutoETS/updating_models/{model_names[i]}.pkl\")\n",
    "\n",
    "        for i in range(len(self.dfs)):\n",
    "            fc = pd.DataFrame()\n",
    "            if not level:\n",
    "                fc = self.sfs[i].predict(h = h)\n",
    "            else:\n",
    "                fc = self.sfs[i].predict(h = h, level = level)\n",
    "            \n",
    "            fc.set_index(\"ds\", inplace = True)\n",
    "            fc.drop(columns = \"unique_id\", inplace = True)\n",
    "            self.forecasts.append(fc)\n",
    "\n",
    "    def load_models(self, paths):\n",
    "        for i in range(len(paths)):\n",
    "            sf = StatsForecast.load(path = paths[i])\n",
    "            self.sfs.append(sf)\n",
    "    \n",
    "    def generate_color_map(self, columns, cmap_name = \"viridis\"):\n",
    "        intervals = set()\n",
    "        for col in columns:\n",
    "            if col == \"AutoETS\":\n",
    "                continue\n",
    "            parts = col.split('-')\n",
    "            number = parts[-1]\n",
    "            intervals.add(number)\n",
    "        \n",
    "        intervals = sorted(intervals, key=int)\n",
    "        cmap = plt.cm.get_cmap(cmap_name)\n",
    "        \n",
    "        n = len(intervals)\n",
    "        if n > 0:\n",
    "            half = np.linspace(0.2, 0.45, n // 2, endpoint=True)[::-1]  # lower intervals\n",
    "            upper = np.linspace(0.55, 0.8, n - n // 2, endpoint=True)  # higher intervals\n",
    "            sample_points = np.concatenate([half, upper])\n",
    "        else:\n",
    "            sample_points = np.array([])  # just median\n",
    "        \n",
    "        median_value = np.median(sample_points)\n",
    "        \n",
    "        color_mapping = {}\n",
    "        color_mapping['AutoETS'] = mcolors.to_hex(cmap(median_value))  # center of the colormap\n",
    "        for interval, point in zip(intervals, sample_points):\n",
    "            color_mapping[interval] = mcolors.to_hex(cmap(point))\n",
    "    \n",
    "        return color_mapping\n",
    "    \n",
    "    def create_graph(self):\n",
    "        if len(self.forecasts[0].columns) != 1:\n",
    "            self.color_mapping = self.generate_color_map(columns = self.forecasts[0].columns)\n",
    "                \n",
    "        \n",
    "        for i in range(len(self.forecasts)):\n",
    "            #Plot the overall Real Data\n",
    "            fig = go.Figure()\n",
    "            fig.add_trace(go.Scatter(x = self.overall_df.index, y = self.overall_df[self.overall_df_value_col], mode = \"lines\", name = \"Real Data\"))\n",
    "\n",
    "            \n",
    "            for col in self.forecasts[i].columns:\n",
    "                #Plot his first\n",
    "                if \"hi\" in col:\n",
    "                    number = col[-2:]\n",
    "                    fig.add_trace(go.Scatter(x = self.forecasts[i].index, y = self.forecasts[i][col], mode = \"lines\", name = col, \n",
    "                                             line = dict(color = self.color_mapping[number])))\n",
    "            \n",
    "            for col in self.forecasts[i].columns:\n",
    "                #Lows will go to corresponding his\n",
    "                if \"lo\" in col:\n",
    "                    number = col[-2:]\n",
    "                    fig.add_trace(go.Scatter(x = self.forecasts[i].index, y = self.forecasts[i][col], mode = \"lines\", name = col, \n",
    "                                             fill = \"tonexty\", fillcolor = self.color_mapping[number], line = dict(color = self.color_mapping[number])))\n",
    "            for col in self.forecasts[i].columns:\n",
    "                if col == \"AutoETS\":\n",
    "                    fig.add_trace(go.Scatter(x = self.forecasts[i].index, y = self.forecasts[i][col], mode = \"lines\", name = col, \n",
    "                                             line = dict(color = self.color_mapping[\"AutoETS\"])))\n",
    "                    \n",
    "            fig.update_layout(title = f\"Updating Parameter ETS Predictions, {self.dates[i]}\", xaxis_title = \"Date\", yaxis_title = \"Count\", hovermode = \"x\")\n",
    "            fig.show()\n",
    "        \n",
    "    def calculate_metrics(self):\n",
    "        col_string = \"AutoETS\"\n",
    "        \n",
    "        for i in range(len(self.forecasts)):\n",
    "            mae = mean_absolute_error(self.overall_df[self.overall_df_value_col].loc[self.forecasts[i].index], self.forecasts[i][col_string])\n",
    "            mse = mean_squared_error(self.overall_df[self.overall_df_value_col].loc[self.forecasts[i].index], self.forecasts[i][col_string])\n",
    "            mape = mean_absolute_percentage_error(self.overall_df[self.overall_df_value_col].loc[self.forecasts[i].index], self.forecasts[i][col_string])\n",
    "            nmse = mse/np.var(self.overall_df[self.overall_df_value_col].loc[self.forecasts[i].index])\n",
    "            \n",
    "            self.maes.append(mae)\n",
    "            self.mses.append(mse)\n",
    "            self.mapes.append(mape)\n",
    "            self.nmses.append(nmse)\n",
    "    \n",
    "    def create_metrics_df(self):\n",
    "        for i in range(len(self.dates)):\n",
    "            self.metrics_df.loc[len(self.metrics_df)] = [self.dates[i], self.maes[i], self.mses[i], self.mapes[i], self.nmses[i]]\n",
    "    \n",
    "    def create_display_df(self):\n",
    "        for i in range(len(self.forecasts)):\n",
    "            for index, row in self.forecasts[i].iterrows():\n",
    "                reference_date = self.dates[i]\n",
    "                target_end_date = index\n",
    "                \n",
    "                for col in self.forecasts[i].columns:\n",
    "                    value = self.forecasts[i].loc[target_end_date, col]\n",
    "                    if \"lo\" in col:\n",
    "                        number = int (col[-2:])\n",
    "                        alpha = 1 - (number / 100)\n",
    "                        quantile = alpha / 2\n",
    "                        self.display_df.loc[len(self.display_df)] = [reference_date, target_end_date, quantile, value]\n",
    "\n",
    "                    if col == \"AutoETS\":\n",
    "                        quantile = 0.5\n",
    "                        self.display_df.loc[len(self.display_df)] = [reference_date, target_end_date, quantile, value]\n",
    "\n",
    "                    elif \"hi\" in col:\n",
    "                        number = int (col[-2:])\n",
    "                        alpha = 1 - (number / 100)\n",
    "                        quantile = 1 - (alpha / 2)\n",
    "                        self.display_df.loc[len(self.display_df)] = [reference_date, target_end_date, quantile, value]\n",
    "                \n",
    "        self.display_df.sort_values(by = [\"Reference Date\", \"Target End Date\", \"Quantile\"], inplace = True)"
   ]
  },
  {
   "cell_type": "code",
   "execution_count": null,
   "id": "582e3491-c428-4747-b14e-27f7799e725d",
   "metadata": {},
   "outputs": [],
   "source": [
    "updated_df = pd.read_csv(\"https://raw.githubusercontent.com/cdcepi/FluSight-forecast-hub/refs/heads/main/target-data/target-hospital-admissions.csv\")"
   ]
  },
  {
   "cell_type": "code",
   "execution_count": null,
   "id": "47718df0-4743-4b0d-b526-d57e7f9b0c92",
   "metadata": {
    "tags": []
   },
   "outputs": [],
   "source": [
    "updated_df = updated_df[updated_df[\"location_name\"] == \"US\"]\n",
    "updated_df = updated_df[[\"date\", \"value\"]]\n",
    "updated_df[\"date\"] = pd.to_datetime(updated_df[\"date\"])\n",
    "updated_df.set_index(\"date\", inplace = True)\n",
    "updated_df.sort_values(by = \"date\", inplace = True)"
   ]
  },
  {
   "cell_type": "code",
   "execution_count": null,
   "id": "5daf6f20-b7f4-475d-b0bd-a965767906a7",
   "metadata": {
    "tags": []
   },
   "outputs": [],
   "source": [
    "Processor = FixedETSProcessor(overall_df = updated_df, dates = [\"2024-10-05\", \"2024-10-19\", \"2024-11-02\", \"2024-11-16\", \"2024-12-07\"])"
   ]
  },
  {
   "cell_type": "code",
   "execution_count": null,
   "id": "76e5d2af-40f1-4bdb-afeb-daa0a1a1496e",
   "metadata": {
    "tags": []
   },
   "outputs": [],
   "source": [
    "Processor.create_training_dfs(value_col = \"value\")"
   ]
  },
  {
   "cell_type": "code",
   "execution_count": null,
   "id": "f89b0d5b-fa97-4299-810a-6518f3cd9194",
   "metadata": {
    "tags": []
   },
   "outputs": [],
   "source": [
    "Processor.create_fixed_model(h = 4, freq = \"W-SAT\", season_length = 52, model_name = \"testing\", level = [80, 95])"
   ]
  },
  {
   "cell_type": "code",
   "execution_count": null,
   "id": "5ea87bef-051b-4f2e-81c1-0d66fc632d5c",
   "metadata": {
    "tags": []
   },
   "outputs": [],
   "source": [
    "Processor.forecast"
   ]
  },
  {
   "cell_type": "code",
   "execution_count": null,
   "id": "0821018d-b709-4a55-9792-7a5ab8080cb1",
   "metadata": {
    "tags": []
   },
   "outputs": [],
   "source": [
    "Processor.create_graph()"
   ]
  },
  {
   "cell_type": "code",
   "execution_count": null,
   "id": "58143b27-4042-4f04-b0c0-c16de4d5c796",
   "metadata": {
    "tags": []
   },
   "outputs": [],
   "source": [
    "Processor.create_metrics()"
   ]
  },
  {
   "cell_type": "code",
   "execution_count": null,
   "id": "a3312de5-9b47-447e-9219-23718f77c0e2",
   "metadata": {
    "tags": []
   },
   "outputs": [],
   "source": [
    "Processor.create_metrics_df()"
   ]
  },
  {
   "cell_type": "code",
   "execution_count": null,
   "id": "c7e39fa3-a020-46a8-8eab-1f23fb4f765d",
   "metadata": {
    "tags": []
   },
   "outputs": [],
   "source": [
    "Processor.metrics_df"
   ]
  },
  {
   "cell_type": "code",
   "execution_count": null,
   "id": "667df1f5-5c5c-4041-a716-7526568af291",
   "metadata": {
    "tags": []
   },
   "outputs": [],
   "source": [
    "Processor.create_display_df()"
   ]
  },
  {
   "cell_type": "code",
   "execution_count": null,
   "id": "cd9449f6-8888-4072-916a-fab453517118",
   "metadata": {
    "tags": []
   },
   "outputs": [],
   "source": [
    "Processor.display_df"
   ]
  },
  {
   "cell_type": "code",
   "execution_count": null,
   "id": "19976cdc-7a3d-40af-960d-73d1b0f1ea80",
   "metadata": {
    "tags": []
   },
   "outputs": [],
   "source": []
  },
  {
   "cell_type": "code",
   "execution_count": null,
   "id": "52967389-386a-42c6-91c7-349971d73cf1",
   "metadata": {
    "tags": []
   },
   "outputs": [],
   "source": [
    "Processor2 = FixedETSProcessor(overall_df = updated_df, dates = [\"2024-10-05\", \"2024-10-19\", \"2024-11-02\", \"2024-11-16\", \"2024-12-07\"])"
   ]
  },
  {
   "cell_type": "code",
   "execution_count": null,
   "id": "a71a7764-d28d-4cf5-b7b9-77d566ce65c8",
   "metadata": {
    "tags": []
   },
   "outputs": [],
   "source": [
    "Processor2.create_training_dfs(value_col=\"value\")"
   ]
  },
  {
   "cell_type": "code",
   "execution_count": null,
   "id": "eb6890b6-d821-4154-9d9e-24bad0748d00",
   "metadata": {
    "tags": []
   },
   "outputs": [],
   "source": [
    "Processor2.load_model(\"AutoETS/fixed_models/testing.pkl\")"
   ]
  },
  {
   "cell_type": "code",
   "execution_count": null,
   "id": "06b66a01-2a91-454f-8585-81190d456e76",
   "metadata": {},
   "outputs": [],
   "source": [
    "Processor2.create_fixed_model(h = 4, freq = \"W-SAT\", season_length = 52, model_name = \"testing\", level = [80, 95])"
   ]
  },
  {
   "cell_type": "code",
   "execution_count": null,
   "id": "c10a862c-2b4f-436c-9c4f-78b0cf8a2744",
   "metadata": {},
   "outputs": [],
   "source": [
    "Processor2.forecast"
   ]
  },
  {
   "cell_type": "code",
   "execution_count": null,
   "id": "653f5b68-70af-4f72-a755-b0a555e930a2",
   "metadata": {
    "tags": []
   },
   "outputs": [],
   "source": [
    "Processor.forecast"
   ]
  },
  {
   "cell_type": "code",
   "execution_count": null,
   "id": "011aff56-cbcf-476f-8a0a-066c514744ba",
   "metadata": {
    "tags": []
   },
   "outputs": [],
   "source": [
    "Processor.forecast.equals(Processor2.forecast)"
   ]
  },
  {
   "cell_type": "code",
   "execution_count": null,
   "id": "31ee925f-0543-4c8b-bb93-42d1e00d646c",
   "metadata": {},
   "outputs": [],
   "source": []
  },
  {
   "cell_type": "code",
   "execution_count": null,
   "id": "f270e6a4-5438-426d-a656-ecb3bf2b0010",
   "metadata": {},
   "outputs": [],
   "source": []
  },
  {
   "cell_type": "code",
   "execution_count": null,
   "id": "7d28d9f3-5872-4da7-8b2c-07f96815b4af",
   "metadata": {},
   "outputs": [],
   "source": []
  },
  {
   "cell_type": "code",
   "execution_count": null,
   "id": "1d080cd8-d465-4d77-bf74-5e330f169afd",
   "metadata": {
    "tags": []
   },
   "outputs": [],
   "source": [
    "updated_df = pd.read_csv(\"https://raw.githubusercontent.com/cdcepi/FluSight-forecast-hub/refs/heads/main/target-data/target-hospital-admissions.csv\")"
   ]
  },
  {
   "cell_type": "code",
   "execution_count": null,
   "id": "ba26a5d5-3ef1-4590-bb98-12a4ed74259f",
   "metadata": {
    "tags": []
   },
   "outputs": [],
   "source": [
    "updated_df = updated_df[updated_df[\"location_name\"] == \"US\"]\n",
    "updated_df = updated_df[[\"date\", \"value\"]]\n",
    "updated_df[\"date\"] = pd.to_datetime(updated_df[\"date\"])\n",
    "updated_df.set_index(\"date\", inplace = True)\n",
    "updated_df.sort_values(by = \"date\", inplace = True)"
   ]
  },
  {
   "cell_type": "code",
   "execution_count": null,
   "id": "870159ca-cc0d-4fac-b564-a257baa83ea1",
   "metadata": {
    "tags": []
   },
   "outputs": [],
   "source": [
    "UProcessor = UpdatingETSProcessor(overall_df = updated_df, dates = [\"2024-10-05\", \"2024-10-19\", \"2024-11-02\", \"2024-11-16\", \"2024-12-07\"])"
   ]
  },
  {
   "cell_type": "code",
   "execution_count": null,
   "id": "2bf60381-0ca1-4ef9-b6c3-c5733bd2c0d5",
   "metadata": {
    "tags": []
   },
   "outputs": [],
   "source": [
    "UProcessor.create_training_dfs(value_col = \"value\")"
   ]
  },
  {
   "cell_type": "code",
   "execution_count": null,
   "id": "729aab23-10f5-481f-a697-5fb0ef655c86",
   "metadata": {
    "tags": []
   },
   "outputs": [],
   "source": [
    "UProcessor.create_models(h = 4, freq = \"W-SAT\", season_length = 52, model_names = [\"test1\", \"test2\", \"test3\", \"test4\", \"test5\"], level = [80, 95])"
   ]
  },
  {
   "cell_type": "code",
   "execution_count": null,
   "id": "b46c9b27-0cd2-4d96-9eb7-b1ad063e1569",
   "metadata": {
    "tags": []
   },
   "outputs": [],
   "source": [
    "UProcessor.create_graph()"
   ]
  },
  {
   "cell_type": "code",
   "execution_count": null,
   "id": "61d1e6a5-3b07-4d0e-bc4d-db5e3f9b3796",
   "metadata": {
    "tags": []
   },
   "outputs": [],
   "source": [
    "UProcessor.calculate_metrics()"
   ]
  },
  {
   "cell_type": "code",
   "execution_count": null,
   "id": "9dada2b9-2c94-4b80-b112-2a7f569bf591",
   "metadata": {
    "tags": []
   },
   "outputs": [],
   "source": [
    "UProcessor.create_metrics_df()"
   ]
  },
  {
   "cell_type": "code",
   "execution_count": null,
   "id": "0ad52469-4d6f-462b-b9b2-89424a4db870",
   "metadata": {
    "tags": []
   },
   "outputs": [],
   "source": [
    "UProcessor.metrics_df"
   ]
  },
  {
   "cell_type": "code",
   "execution_count": null,
   "id": "56552483-b9af-4092-8a7e-3ec251e79c7a",
   "metadata": {
    "tags": []
   },
   "outputs": [],
   "source": [
    "UProcessor.create_display_df()"
   ]
  },
  {
   "cell_type": "code",
   "execution_count": null,
   "id": "73e1e68a-6beb-485a-8775-30611308f0bb",
   "metadata": {
    "tags": []
   },
   "outputs": [],
   "source": [
    "UProcessor.display_df"
   ]
  },
  {
   "cell_type": "code",
   "execution_count": null,
   "id": "5d71b609-ee1a-4f13-b872-4fec7336e593",
   "metadata": {},
   "outputs": [],
   "source": []
  },
  {
   "cell_type": "code",
   "execution_count": null,
   "id": "8b0b1fb9-f4fa-4856-85a3-753f2b23824f",
   "metadata": {
    "tags": []
   },
   "outputs": [],
   "source": [
    "UProcessor2 = UpdatingETSProcessor(overall_df = updated_df, dates = [\"2024-10-05\", \"2024-10-19\", \"2024-11-02\", \"2024-11-16\", \"2024-12-07\"])"
   ]
  },
  {
   "cell_type": "code",
   "execution_count": null,
   "id": "8085782f-a2d7-4cf6-bc8d-e87a5a3805e5",
   "metadata": {
    "tags": []
   },
   "outputs": [],
   "source": [
    "UProcessor2.create_training_dfs(value_col=\"value\")"
   ]
  },
  {
   "cell_type": "code",
   "execution_count": null,
   "id": "db1e41a2-e8a6-4ba4-b49a-be73275f24eb",
   "metadata": {
    "tags": []
   },
   "outputs": [],
   "source": [
    "model_paths = [\"AutoETS/updating_models/test1.pkl\", \"AutoETS/updating_models/test2.pkl\", \"AutoETS/updating_models/test3.pkl\", \n",
    "               \"AutoETS/updating_models/test4.pkl\", \"AutoETS/updating_models/test5.pkl\"]\n",
    "UProcessor2.load_models(paths = model_paths)"
   ]
  },
  {
   "cell_type": "code",
   "execution_count": null,
   "id": "a11e6853-7f7e-4730-8541-0729a1f8ad24",
   "metadata": {
    "tags": []
   },
   "outputs": [],
   "source": [
    "UProcessor2.create_models(h = 4, freq = \"W-SAT\", season_length = 52, model_names = [\"test1\", \"test2\", \"test3\", \"test4\", \"test5\"], level = [80, 95])"
   ]
  },
  {
   "cell_type": "code",
   "execution_count": null,
   "id": "3c29c174-9b72-47ce-b5af-0537da4a6596",
   "metadata": {
    "tags": []
   },
   "outputs": [],
   "source": [
    "UProcessor2.create_display_df()"
   ]
  },
  {
   "cell_type": "code",
   "execution_count": null,
   "id": "6f8fd196-c51e-4829-bf08-88ab5a5fb0d4",
   "metadata": {
    "tags": []
   },
   "outputs": [],
   "source": [
    "UProcessor2.display_df"
   ]
  },
  {
   "cell_type": "code",
   "execution_count": null,
   "id": "a0220f82-6dd1-4528-890f-aea38b463cf8",
   "metadata": {
    "tags": []
   },
   "outputs": [],
   "source": [
    "UProcessor.display_df.equals(UProcessor2.display_df)"
   ]
  },
  {
   "cell_type": "code",
   "execution_count": null,
   "id": "ecb47820-6cc7-4b33-acd9-c9561dc25e31",
   "metadata": {},
   "outputs": [],
   "source": []
  }
 ],
 "metadata": {
  "kernelspec": {
   "display_name": "Python 3 (ipykernel)",
   "language": "python",
   "name": "python3"
  },
  "language_info": {
   "codemirror_mode": {
    "name": "ipython",
    "version": 3
   },
   "file_extension": ".py",
   "mimetype": "text/x-python",
   "name": "python",
   "nbconvert_exporter": "python",
   "pygments_lexer": "ipython3",
   "version": "3.11.6"
  }
 },
 "nbformat": 4,
 "nbformat_minor": 5
}
