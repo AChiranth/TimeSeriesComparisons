{
 "cells": [
  {
   "cell_type": "code",
   "execution_count": 5,
   "id": "33bbe947-109d-4a0a-b70a-2b7c339064fe",
   "metadata": {
    "tags": []
   },
   "outputs": [
    {
     "data": {
      "text/html": [
       "        <script type=\"text/javascript\">\n",
       "        window.PlotlyConfig = {MathJaxConfig: 'local'};\n",
       "        if (window.MathJax && window.MathJax.Hub && window.MathJax.Hub.Config) {window.MathJax.Hub.Config({SVG: {font: \"STIX-Web\"}});}\n",
       "        if (typeof require !== 'undefined') {\n",
       "        require.undef(\"plotly\");\n",
       "        requirejs.config({\n",
       "            paths: {\n",
       "                'plotly': ['https://cdn.plot.ly/plotly-2.25.2.min']\n",
       "            }\n",
       "        });\n",
       "        require(['plotly'], function(Plotly) {\n",
       "            window._Plotly = Plotly;\n",
       "        });\n",
       "        }\n",
       "        </script>\n",
       "        "
      ]
     },
     "metadata": {},
     "output_type": "display_data"
    }
   ],
   "source": [
    "import pandas as pd \n",
    "import numpy as np\n",
    "import matplotlib.pyplot as plt\n",
    "\n",
    "import cufflinks as cf\n",
    "from plotly import __version__\n",
    "from plotly.offline import download_plotlyjs, init_notebook_mode, plot, iplot\n",
    "\n",
    "cf.go_offline()\n",
    "\n",
    "%matplotlib inline\n",
    "from sklearn.metrics import mean_absolute_error, mean_absolute_percentage_error, mean_squared_error\n",
    "\n",
    "from neuralforecast.auto import AutoLSTM\n",
    "from neuralforecast.tsdataset import TimeSeriesDataset\n",
    "\n",
    "from datetime import datetime, timedelta"
   ]
  },
  {
   "cell_type": "code",
   "execution_count": 6,
   "id": "75fcc5b4-36a5-44fb-b906-3b02d9c8103a",
   "metadata": {
    "tags": []
   },
   "outputs": [],
   "source": [
    "from statsforecast import StatsForecast\n",
    "from statsforecast.models import AutoARIMA, AutoCES, AutoETS\n",
    "from statsforecast.arima import arima_string\n",
    "import plotly.graph_objects as go\n",
    "import matplotlib.colors as mcolors"
   ]
  },
  {
   "cell_type": "code",
   "execution_count": 7,
   "id": "8252aee1-6fa8-438b-9300-17ea2f93425b",
   "metadata": {
    "tags": []
   },
   "outputs": [],
   "source": [
    "class FixedETSProcessor:\n",
    "    def __init__(self, overall_df, dates):\n",
    "        self.overall_df = overall_df\n",
    "        self.overall_df_value_col = \"value\"\n",
    "        self.dates = dates\n",
    "        \n",
    "        self.dfs = []\n",
    "        self.sf = None\n",
    "        self.forecast = None\n",
    "        self.plotting_df = pd.DataFrame()\n",
    "        \n",
    "        self.mae = None\n",
    "        self.mse = None\n",
    "        self.mape = None\n",
    "        self.nmse = None\n",
    "        \n",
    "        self.metrics_df = pd.DataFrame(columns = [\"Reference Date\", \"MAE\", \"MSE\", \"MAPE\", \"NMSE\"])\n",
    "        self.display_df = pd.DataFrame(columns = [\"Reference Date\", \"Target End Date\", \"Quantile\", \"Prediction\"])\n",
    "    \n",
    "    def create_training_dfs(self, value_col):\n",
    "        self.overall_df_value_col = value_col\n",
    "        for date in self.dates:\n",
    "            df = self.overall_df.loc[:date]\n",
    "            df['ds'] = df.index\n",
    "            df[\"unique_id\"] = \"series_1\"\n",
    "            df = df.rename(columns = {value_col: \"y\"})\n",
    "            self.dfs.append(df)\n",
    "    \n",
    "    def create_fixed_model(self, h, freq, season_length, model_name, level = []):\n",
    "        \n",
    "        if not self.sf:\n",
    "            self.sf = StatsForecast(models=[AutoETS(model = \"AZN\")], freq = freq)\n",
    "            self.sf.fit(self.dfs[0])\n",
    "            self.sf.save(path = f\"AutoETS/fixed_models/{model_name}.pkl\")\n",
    "        \n",
    "        start_date = datetime.strptime(self.dates[0], \"%Y-%m-%d\")\n",
    "        ending_date = datetime.strptime(self.dates[-1], \"%Y-%m-%d\") + timedelta(weeks = h)\n",
    "\n",
    "        prediction_horizon = abs((ending_date - start_date).days) // 7\n",
    "        \n",
    "        if not level:\n",
    "            self.forecast = self.sf.predict(h = prediction_horizon)\n",
    "        else:\n",
    "            self.forecast = self.sf.predict(h = prediction_horizon, level = level)\n",
    "        self.forecast.set_index(\"ds\", inplace = True)\n",
    "        self.forecast.drop(columns = \"unique_id\", inplace = True)\n",
    "\n",
    "    def load_model(self, path):\n",
    "        self.sf = StatsForecast.load(path = path)\n",
    "    \n",
    "    def generate_color_map(self, columns, cmap_name = \"viridis\"):\n",
    "        intervals = set()\n",
    "        for col in columns:\n",
    "            if col == \"AutoETS\":\n",
    "                continue\n",
    "            parts = col.split('-')\n",
    "            number = parts[-1]\n",
    "            intervals.add(number)\n",
    "        \n",
    "        intervals = sorted(intervals, key=int)\n",
    "        cmap = plt.cm.get_cmap(cmap_name)\n",
    "        \n",
    "        n = len(intervals)\n",
    "        if n > 0:\n",
    "            half = np.linspace(0.2, 0.45, n // 2, endpoint=True)[::-1]  # lower intervals\n",
    "            upper = np.linspace(0.55, 0.8, n - n // 2, endpoint=True)  # higher intervals\n",
    "            sample_points = np.concatenate([half, upper])\n",
    "        else:\n",
    "            sample_points = np.array([])  # just median\n",
    "        \n",
    "        median_value = np.median(sample_points)\n",
    "        \n",
    "        color_mapping = {}\n",
    "        color_mapping['AutoETS'] = mcolors.to_hex(cmap(median_value))  # center of the colormap\n",
    "        for interval, point in zip(intervals, sample_points):\n",
    "            color_mapping[interval] = mcolors.to_hex(cmap(point))\n",
    "    \n",
    "        return color_mapping\n",
    "    \n",
    "    \n",
    "    def create_graph(self):\n",
    "        if len(self.forecast.columns) != 1:\n",
    "            self.color_mapping = self.generate_color_map(columns = self.forecast.columns)\n",
    "    \n",
    "    \n",
    "        fig = go.Figure()\n",
    "        fig.add_trace(go.Scatter(x = self.overall_df.index, y = self.overall_df[self.overall_df_value_col], mode = \"lines\", name = \"Real Data\"))\n",
    "        \n",
    "        for col in self.forecast.columns:\n",
    "            if \"hi\" in col:\n",
    "                number = col[-2:]\n",
    "                fig.add_trace(go.Scatter(x = self.forecast.index, y = self.forecast[col], mode = \"lines\", name = col,\n",
    "                                         line = dict(color = self.color_mapping[number])))\n",
    "                                         \n",
    "        for col in self.forecast.columns:\n",
    "            if \"lo\" in col:\n",
    "                number = col[-2:]\n",
    "                fig.add_trace(go.Scatter(x = self.forecast.index, y = self.forecast[col], mode = \"lines\", name = col,\n",
    "                                         fill = \"tonexty\", fillcolor = self.color_mapping[number], line = dict(color = self.color_mapping[number])))\n",
    "            \n",
    "        for col in self.forecast.columns:\n",
    "            if col == \"AutoETS\":\n",
    "                fig.add_trace(go.Scatter(x = self.forecast.index, y = self.forecast[col], mode = \"lines\", name = col, \n",
    "                                             line = dict(color = self.color_mapping[\"AutoETS\"])))\n",
    "        \n",
    "        fig.update_layout(title = f\"Fixed Parameter ETS Predictions, {self.dates[0]}\", xaxis_title = \"Date\", yaxis_title = \"Count\", hovermode = \"x\")\n",
    "        fig.show()\n",
    "    \n",
    "    def create_metrics(self):\n",
    "        col_string = \"AutoETS\"\n",
    "        \n",
    "        self.mae = mean_absolute_error(self.overall_df[self.overall_df_value_col].loc[self.forecast.index], self.forecast[col_string])\n",
    "        self.mse = mean_squared_error(self.overall_df[self.overall_df_value_col].loc[self.forecast.index], self.forecast[col_string])\n",
    "        self.mape = mean_absolute_percentage_error(self.overall_df[self.overall_df_value_col].loc[self.forecast.index], self.forecast[col_string])\n",
    "        self.nmse = self.mse/np.var(self.overall_df[self.overall_df_value_col].loc[self.forecast.index])\n",
    "\n",
    "    def create_metrics_df(self):\n",
    "        self.metrics_df.loc[len(self.metrics_df)] = [self.dates[0], self.mae, self.mse, self.mape, self.nmse]\n",
    "    \n",
    "    def create_display_df(self):\n",
    "        for index, row in self.forecast.iterrows():\n",
    "            reference_date = self.dates[0]\n",
    "            target_end_date = index\n",
    "            \n",
    "            for col in self.forecast.columns:\n",
    "                value = self.forecast.loc[target_end_date, col]\n",
    "                if \"lo\" in col:\n",
    "                    number = int (col[-2:])\n",
    "                    alpha = 1 - (number / 100)\n",
    "                    quantile = alpha / 2\n",
    "                    self.display_df.loc[len(self.display_df)] = [reference_date, target_end_date, quantile, value]\n",
    "                \n",
    "                if col == \"AutoETS\":\n",
    "                    quantile = 0.5\n",
    "                    self.display_df.loc[len(self.display_df)] = [reference_date, target_end_date, quantile, value]\n",
    "                \n",
    "                elif \"hi\" in col:\n",
    "                    number = int (col[-2:])\n",
    "                    alpha = 1 - (number / 100)\n",
    "                    quantile = 1 - (alpha / 2)\n",
    "                    self.display_df.loc[len(self.display_df)] = [reference_date, target_end_date, quantile, value]\n",
    "        \n",
    "        self.display_df.sort_values(by = [\"Reference Date\", \"Target End Date\", \"Quantile\"], inplace = True)"
   ]
  },
  {
   "cell_type": "code",
   "execution_count": 8,
   "id": "089fb110-80a0-4f0a-88ec-11168327fa55",
   "metadata": {
    "tags": []
   },
   "outputs": [],
   "source": [
    "class UpdatingETSProcessor:\n",
    "    def __init__(self, overall_df, dates):\n",
    "        self.overall_df = overall_df\n",
    "        self.overall_df_value_col = \"value\"\n",
    "        self.dates = dates\n",
    "        \n",
    "        self.dfs = []\n",
    "        self.sfs = []\n",
    "        self.forecasts = []\n",
    "        self.plotting_df = pd.DataFrame()\n",
    "        \n",
    "        self.maes = []\n",
    "        self.mses = []\n",
    "        self.mapes = []\n",
    "        self.nmses = []\n",
    "        \n",
    "        self.metrics_df = pd.DataFrame(columns = [\"Reference Date\", \"MAE\", \"MSE\", \"MAPE\", \"NMSE\"])\n",
    "        self.display_df = pd.DataFrame(columns = [\"Reference Date\", \"Target End Date\", \"Quantile\",\"Prediction\"])\n",
    "    \n",
    "    def create_training_dfs(self, value_col):\n",
    "        self.overall_df_value_col = value_col\n",
    "        for date in self.dates:\n",
    "            df = self.overall_df.loc[:date]\n",
    "            df['ds'] = df.index\n",
    "            df[\"unique_id\"] = \"series_1\"\n",
    "            df = df.rename(columns = {value_col: \"y\"})\n",
    "            self.dfs.append(df)\n",
    "            \n",
    "    def create_models(self, h, freq, season_length, model_names, level = []):\n",
    "        \n",
    "        if not self.sfs:\n",
    "            for i in range(len(self.dfs)):\n",
    "                sf = StatsForecast(models=[AutoETS(model = \"AZN\")], freq = freq)\n",
    "                sf.fit(self.dfs[i])\n",
    "                self.sfs.append(sf)\n",
    "                sf.save(f\"AutoETS/updating_models/{model_names[i]}.pkl\")\n",
    "\n",
    "        for i in range(len(self.dfs)):\n",
    "            fc = pd.DataFrame()\n",
    "            if not level:\n",
    "                fc = self.sfs[i].predict(h = h)\n",
    "            else:\n",
    "                fc = self.sfs[i].predict(h = h, level = level)\n",
    "            \n",
    "            fc.set_index(\"ds\", inplace = True)\n",
    "            fc.drop(columns = \"unique_id\", inplace = True)\n",
    "            self.forecasts.append(fc)\n",
    "\n",
    "    def load_models(self, paths):\n",
    "        for i in range(len(paths)):\n",
    "            sf = StatsForecast.load(path = paths[i])\n",
    "            self.sfs.append(sf)\n",
    "    \n",
    "    def generate_color_map(self, columns, cmap_name = \"viridis\"):\n",
    "        intervals = set()\n",
    "        for col in columns:\n",
    "            if col == \"AutoETS\":\n",
    "                continue\n",
    "            parts = col.split('-')\n",
    "            number = parts[-1]\n",
    "            intervals.add(number)\n",
    "        \n",
    "        intervals = sorted(intervals, key=int)\n",
    "        cmap = plt.cm.get_cmap(cmap_name)\n",
    "        \n",
    "        n = len(intervals)\n",
    "        if n > 0:\n",
    "            half = np.linspace(0.2, 0.45, n // 2, endpoint=True)[::-1]  # lower intervals\n",
    "            upper = np.linspace(0.55, 0.8, n - n // 2, endpoint=True)  # higher intervals\n",
    "            sample_points = np.concatenate([half, upper])\n",
    "        else:\n",
    "            sample_points = np.array([])  # just median\n",
    "        \n",
    "        median_value = np.median(sample_points)\n",
    "        \n",
    "        color_mapping = {}\n",
    "        color_mapping['AutoETS'] = mcolors.to_hex(cmap(median_value))  # center of the colormap\n",
    "        for interval, point in zip(intervals, sample_points):\n",
    "            color_mapping[interval] = mcolors.to_hex(cmap(point))\n",
    "    \n",
    "        return color_mapping\n",
    "    \n",
    "    def create_graph(self):\n",
    "        if len(self.forecasts[0].columns) != 1:\n",
    "            self.color_mapping = self.generate_color_map(columns = self.forecasts[0].columns)\n",
    "                \n",
    "        \n",
    "        for i in range(len(self.forecasts)):\n",
    "            #Plot the overall Real Data\n",
    "            fig = go.Figure()\n",
    "            fig.add_trace(go.Scatter(x = self.overall_df.index, y = self.overall_df[self.overall_df_value_col], mode = \"lines\", name = \"Real Data\"))\n",
    "\n",
    "            \n",
    "            for col in self.forecasts[i].columns:\n",
    "                #Plot his first\n",
    "                if \"hi\" in col:\n",
    "                    number = col[-2:]\n",
    "                    fig.add_trace(go.Scatter(x = self.forecasts[i].index, y = self.forecasts[i][col], mode = \"lines\", name = col, \n",
    "                                             line = dict(color = self.color_mapping[number])))\n",
    "            \n",
    "            for col in self.forecasts[i].columns:\n",
    "                #Lows will go to corresponding his\n",
    "                if \"lo\" in col:\n",
    "                    number = col[-2:]\n",
    "                    fig.add_trace(go.Scatter(x = self.forecasts[i].index, y = self.forecasts[i][col], mode = \"lines\", name = col, \n",
    "                                             fill = \"tonexty\", fillcolor = self.color_mapping[number], line = dict(color = self.color_mapping[number])))\n",
    "            for col in self.forecasts[i].columns:\n",
    "                if col == \"AutoETS\":\n",
    "                    fig.add_trace(go.Scatter(x = self.forecasts[i].index, y = self.forecasts[i][col], mode = \"lines\", name = col, \n",
    "                                             line = dict(color = self.color_mapping[\"AutoETS\"])))\n",
    "                    \n",
    "            fig.update_layout(title = f\"Updating Parameter ETS Predictions, {self.dates[i]}\", xaxis_title = \"Date\", yaxis_title = \"Count\", hovermode = \"x\")\n",
    "            fig.show()\n",
    "        \n",
    "    def calculate_metrics(self):\n",
    "        col_string = \"AutoETS\"\n",
    "        \n",
    "        for i in range(len(self.forecasts)):\n",
    "            mae = mean_absolute_error(self.overall_df[self.overall_df_value_col].loc[self.forecasts[i].index], self.forecasts[i][col_string])\n",
    "            mse = mean_squared_error(self.overall_df[self.overall_df_value_col].loc[self.forecasts[i].index], self.forecasts[i][col_string])\n",
    "            mape = mean_absolute_percentage_error(self.overall_df[self.overall_df_value_col].loc[self.forecasts[i].index], self.forecasts[i][col_string])\n",
    "            nmse = mse/np.var(self.overall_df[self.overall_df_value_col].loc[self.forecasts[i].index])\n",
    "            \n",
    "            self.maes.append(mae)\n",
    "            self.mses.append(mse)\n",
    "            self.mapes.append(mape)\n",
    "            self.nmses.append(nmse)\n",
    "    \n",
    "    def create_metrics_df(self):\n",
    "        for i in range(len(self.dates)):\n",
    "            self.metrics_df.loc[len(self.metrics_df)] = [self.dates[i], self.maes[i], self.mses[i], self.mapes[i], self.nmses[i]]\n",
    "    \n",
    "    def create_display_df(self):\n",
    "        for i in range(len(self.forecasts)):\n",
    "            for index, row in self.forecasts[i].iterrows():\n",
    "                reference_date = self.dates[i]\n",
    "                target_end_date = index\n",
    "                \n",
    "                for col in self.forecasts[i].columns:\n",
    "                    value = self.forecasts[i].loc[target_end_date, col]\n",
    "                    if \"lo\" in col:\n",
    "                        number = int (col[-2:])\n",
    "                        alpha = 1 - (number / 100)\n",
    "                        quantile = alpha / 2\n",
    "                        self.display_df.loc[len(self.display_df)] = [reference_date, target_end_date, quantile, value]\n",
    "\n",
    "                    if col == \"AutoETS\":\n",
    "                        quantile = 0.5\n",
    "                        self.display_df.loc[len(self.display_df)] = [reference_date, target_end_date, quantile, value]\n",
    "\n",
    "                    elif \"hi\" in col:\n",
    "                        number = int (col[-2:])\n",
    "                        alpha = 1 - (number / 100)\n",
    "                        quantile = 1 - (alpha / 2)\n",
    "                        self.display_df.loc[len(self.display_df)] = [reference_date, target_end_date, quantile, value]\n",
    "                \n",
    "        self.display_df.sort_values(by = [\"Reference Date\", \"Target End Date\", \"Quantile\"], inplace = True)"
   ]
  },
  {
   "cell_type": "code",
   "execution_count": 9,
   "id": "582e3491-c428-4747-b14e-27f7799e725d",
   "metadata": {},
   "outputs": [],
   "source": [
    "updated_df = pd.read_csv(\"https://raw.githubusercontent.com/cdcepi/FluSight-forecast-hub/refs/heads/main/target-data/target-hospital-admissions.csv\")"
   ]
  },
  {
   "cell_type": "code",
   "execution_count": 10,
   "id": "47718df0-4743-4b0d-b526-d57e7f9b0c92",
   "metadata": {
    "tags": []
   },
   "outputs": [],
   "source": [
    "updated_df = updated_df[updated_df[\"location_name\"] == \"US\"]\n",
    "updated_df = updated_df[[\"date\", \"value\"]]\n",
    "updated_df[\"date\"] = pd.to_datetime(updated_df[\"date\"])\n",
    "updated_df.set_index(\"date\", inplace = True)\n",
    "updated_df.sort_values(by = \"date\", inplace = True)"
   ]
  },
  {
   "cell_type": "code",
   "execution_count": 11,
   "id": "5daf6f20-b7f4-475d-b0bd-a965767906a7",
   "metadata": {
    "tags": []
   },
   "outputs": [],
   "source": [
    "Processor = FixedETSProcessor(overall_df = updated_df, dates = [\"2024-10-05\", \"2024-10-19\", \"2024-11-02\", \"2024-11-16\", \"2024-12-07\"])"
   ]
  },
  {
   "cell_type": "code",
   "execution_count": 12,
   "id": "76e5d2af-40f1-4bdb-afeb-daa0a1a1496e",
   "metadata": {
    "tags": []
   },
   "outputs": [],
   "source": [
    "Processor.create_training_dfs(value_col = \"value\")"
   ]
  },
  {
   "cell_type": "code",
   "execution_count": 13,
   "id": "f89b0d5b-fa97-4299-810a-6518f3cd9194",
   "metadata": {
    "tags": []
   },
   "outputs": [
    {
     "name": "stdout",
     "output_type": "stream",
     "text": [
      "Saving StatsForecast object of size 10.20KB.\n",
      "StatsForecast object saved\n"
     ]
    }
   ],
   "source": [
    "Processor.create_fixed_model(h = 4, freq = \"W-SAT\", season_length = 52, model_name = \"testing\", level = [80, 95])"
   ]
  },
  {
   "cell_type": "code",
   "execution_count": 14,
   "id": "5ea87bef-051b-4f2e-81c1-0d66fc632d5c",
   "metadata": {
    "tags": []
   },
   "outputs": [
    {
     "data": {
      "text/html": [
       "<div>\n",
       "<style scoped>\n",
       "    .dataframe tbody tr th:only-of-type {\n",
       "        vertical-align: middle;\n",
       "    }\n",
       "\n",
       "    .dataframe tbody tr th {\n",
       "        vertical-align: top;\n",
       "    }\n",
       "\n",
       "    .dataframe thead th {\n",
       "        text-align: right;\n",
       "    }\n",
       "</style>\n",
       "<table border=\"1\" class=\"dataframe\">\n",
       "  <thead>\n",
       "    <tr style=\"text-align: right;\">\n",
       "      <th></th>\n",
       "      <th>AutoETS</th>\n",
       "      <th>AutoETS-lo-95</th>\n",
       "      <th>AutoETS-lo-80</th>\n",
       "      <th>AutoETS-hi-80</th>\n",
       "      <th>AutoETS-hi-95</th>\n",
       "    </tr>\n",
       "    <tr>\n",
       "      <th>ds</th>\n",
       "      <th></th>\n",
       "      <th></th>\n",
       "      <th></th>\n",
       "      <th></th>\n",
       "      <th></th>\n",
       "    </tr>\n",
       "  </thead>\n",
       "  <tbody>\n",
       "    <tr>\n",
       "      <th>2024-10-12</th>\n",
       "      <td>289.790821</td>\n",
       "      <td>-2726.973026</td>\n",
       "      <td>-1682.765033</td>\n",
       "      <td>2262.346675</td>\n",
       "      <td>3306.554669</td>\n",
       "    </tr>\n",
       "    <tr>\n",
       "      <th>2024-10-19</th>\n",
       "      <td>293.588924</td>\n",
       "      <td>-4326.579327</td>\n",
       "      <td>-2727.376717</td>\n",
       "      <td>3314.554564</td>\n",
       "      <td>4913.757174</td>\n",
       "    </tr>\n",
       "    <tr>\n",
       "      <th>2024-10-26</th>\n",
       "      <td>296.627465</td>\n",
       "      <td>-5740.230114</td>\n",
       "      <td>-3650.661538</td>\n",
       "      <td>4243.916467</td>\n",
       "      <td>6333.485044</td>\n",
       "    </tr>\n",
       "    <tr>\n",
       "      <th>2024-11-02</th>\n",
       "      <td>299.058345</td>\n",
       "      <td>-7052.019118</td>\n",
       "      <td>-4507.552851</td>\n",
       "      <td>5105.669540</td>\n",
       "      <td>7650.135807</td>\n",
       "    </tr>\n",
       "    <tr>\n",
       "      <th>2024-11-09</th>\n",
       "      <td>301.003087</td>\n",
       "      <td>-8287.837725</td>\n",
       "      <td>-5314.938061</td>\n",
       "      <td>5916.944234</td>\n",
       "      <td>8889.843898</td>\n",
       "    </tr>\n",
       "    <tr>\n",
       "      <th>2024-11-16</th>\n",
       "      <td>302.558910</td>\n",
       "      <td>-9459.316320</td>\n",
       "      <td>-6080.388217</td>\n",
       "      <td>6685.506037</td>\n",
       "      <td>10064.434141</td>\n",
       "    </tr>\n",
       "    <tr>\n",
       "      <th>2024-11-23</th>\n",
       "      <td>303.803594</td>\n",
       "      <td>-10573.398727</td>\n",
       "      <td>-6808.416719</td>\n",
       "      <td>7416.023906</td>\n",
       "      <td>11181.005914</td>\n",
       "    </tr>\n",
       "    <tr>\n",
       "      <th>2024-11-30</th>\n",
       "      <td>304.799359</td>\n",
       "      <td>-11635.199423</td>\n",
       "      <td>-7502.346207</td>\n",
       "      <td>8111.944926</td>\n",
       "      <td>12244.798142</td>\n",
       "    </tr>\n",
       "    <tr>\n",
       "      <th>2024-12-07</th>\n",
       "      <td>305.595988</td>\n",
       "      <td>-12648.989343</td>\n",
       "      <td>-8164.952064</td>\n",
       "      <td>8776.144040</td>\n",
       "      <td>13260.181318</td>\n",
       "    </tr>\n",
       "    <tr>\n",
       "      <th>2024-12-14</th>\n",
       "      <td>306.233303</td>\n",
       "      <td>-13618.561547</td>\n",
       "      <td>-8798.700656</td>\n",
       "      <td>9411.167261</td>\n",
       "      <td>14231.028153</td>\n",
       "    </tr>\n",
       "    <tr>\n",
       "      <th>2024-12-21</th>\n",
       "      <td>306.743165</td>\n",
       "      <td>-14547.372217</td>\n",
       "      <td>-9405.840828</td>\n",
       "      <td>10019.327157</td>\n",
       "      <td>15160.858546</td>\n",
       "    </tr>\n",
       "    <tr>\n",
       "      <th>2024-12-28</th>\n",
       "      <td>307.151062</td>\n",
       "      <td>-15438.597490</td>\n",
       "      <td>-9988.440524</td>\n",
       "      <td>10602.742648</td>\n",
       "      <td>16052.899614</td>\n",
       "    </tr>\n",
       "    <tr>\n",
       "      <th>2025-01-04</th>\n",
       "      <td>307.477386</td>\n",
       "      <td>-16295.159418</td>\n",
       "      <td>-10548.403311</td>\n",
       "      <td>11163.358084</td>\n",
       "      <td>16910.114190</td>\n",
       "    </tr>\n",
       "  </tbody>\n",
       "</table>\n",
       "</div>"
      ],
      "text/plain": [
       "               AutoETS  AutoETS-lo-95  AutoETS-lo-80  AutoETS-hi-80  \\\n",
       "ds                                                                    \n",
       "2024-10-12  289.790821   -2726.973026   -1682.765033    2262.346675   \n",
       "2024-10-19  293.588924   -4326.579327   -2727.376717    3314.554564   \n",
       "2024-10-26  296.627465   -5740.230114   -3650.661538    4243.916467   \n",
       "2024-11-02  299.058345   -7052.019118   -4507.552851    5105.669540   \n",
       "2024-11-09  301.003087   -8287.837725   -5314.938061    5916.944234   \n",
       "2024-11-16  302.558910   -9459.316320   -6080.388217    6685.506037   \n",
       "2024-11-23  303.803594  -10573.398727   -6808.416719    7416.023906   \n",
       "2024-11-30  304.799359  -11635.199423   -7502.346207    8111.944926   \n",
       "2024-12-07  305.595988  -12648.989343   -8164.952064    8776.144040   \n",
       "2024-12-14  306.233303  -13618.561547   -8798.700656    9411.167261   \n",
       "2024-12-21  306.743165  -14547.372217   -9405.840828   10019.327157   \n",
       "2024-12-28  307.151062  -15438.597490   -9988.440524   10602.742648   \n",
       "2025-01-04  307.477386  -16295.159418  -10548.403311   11163.358084   \n",
       "\n",
       "            AutoETS-hi-95  \n",
       "ds                         \n",
       "2024-10-12    3306.554669  \n",
       "2024-10-19    4913.757174  \n",
       "2024-10-26    6333.485044  \n",
       "2024-11-02    7650.135807  \n",
       "2024-11-09    8889.843898  \n",
       "2024-11-16   10064.434141  \n",
       "2024-11-23   11181.005914  \n",
       "2024-11-30   12244.798142  \n",
       "2024-12-07   13260.181318  \n",
       "2024-12-14   14231.028153  \n",
       "2024-12-21   15160.858546  \n",
       "2024-12-28   16052.899614  \n",
       "2025-01-04   16910.114190  "
      ]
     },
     "execution_count": 14,
     "metadata": {},
     "output_type": "execute_result"
    }
   ],
   "source": [
    "Processor.forecast"
   ]
  },
  {
   "cell_type": "code",
   "execution_count": 15,
   "id": "0821018d-b709-4a55-9792-7a5ab8080cb1",
   "metadata": {
    "tags": []
   },
   "outputs": [
    {
     "name": "stderr",
     "output_type": "stream",
     "text": [
      "/tmp/ipykernel_24552/1911311476.py:61: MatplotlibDeprecationWarning:\n",
      "\n",
      "The get_cmap function was deprecated in Matplotlib 3.7 and will be removed two minor releases later. Use ``matplotlib.colormaps[name]`` or ``matplotlib.colormaps.get_cmap(obj)`` instead.\n",
      "\n"
     ]
    },
    {
     "data": {
      "application/vnd.plotly.v1+json": {
       "config": {
        "plotlyServerURL": "https://plot.ly"
       },
       "data": [
        {
         "mode": "lines",
         "name": "Real Data",
         "type": "scatter",
         "x": [
          "2022-02-05T00:00:00",
          "2022-02-12T00:00:00",
          "2022-02-19T00:00:00",
          "2022-02-26T00:00:00",
          "2022-03-05T00:00:00",
          "2022-03-12T00:00:00",
          "2022-03-19T00:00:00",
          "2022-03-26T00:00:00",
          "2022-04-02T00:00:00",
          "2022-04-09T00:00:00",
          "2022-04-16T00:00:00",
          "2022-04-23T00:00:00",
          "2022-04-30T00:00:00",
          "2022-05-07T00:00:00",
          "2022-05-14T00:00:00",
          "2022-05-21T00:00:00",
          "2022-05-28T00:00:00",
          "2022-06-04T00:00:00",
          "2022-06-11T00:00:00",
          "2022-06-18T00:00:00",
          "2022-06-25T00:00:00",
          "2022-07-02T00:00:00",
          "2022-07-09T00:00:00",
          "2022-07-16T00:00:00",
          "2022-07-23T00:00:00",
          "2022-07-30T00:00:00",
          "2022-08-06T00:00:00",
          "2022-08-13T00:00:00",
          "2022-08-20T00:00:00",
          "2022-08-27T00:00:00",
          "2022-09-03T00:00:00",
          "2022-09-10T00:00:00",
          "2022-09-17T00:00:00",
          "2022-09-24T00:00:00",
          "2022-10-01T00:00:00",
          "2022-10-08T00:00:00",
          "2022-10-15T00:00:00",
          "2022-10-22T00:00:00",
          "2022-10-29T00:00:00",
          "2022-11-05T00:00:00",
          "2022-11-12T00:00:00",
          "2022-11-19T00:00:00",
          "2022-11-26T00:00:00",
          "2022-12-03T00:00:00",
          "2022-12-10T00:00:00",
          "2022-12-17T00:00:00",
          "2022-12-24T00:00:00",
          "2022-12-31T00:00:00",
          "2023-01-07T00:00:00",
          "2023-01-14T00:00:00",
          "2023-01-21T00:00:00",
          "2023-01-28T00:00:00",
          "2023-02-04T00:00:00",
          "2023-02-11T00:00:00",
          "2023-02-18T00:00:00",
          "2023-02-25T00:00:00",
          "2023-03-04T00:00:00",
          "2023-03-11T00:00:00",
          "2023-03-18T00:00:00",
          "2023-03-25T00:00:00",
          "2023-04-01T00:00:00",
          "2023-04-08T00:00:00",
          "2023-04-15T00:00:00",
          "2023-04-22T00:00:00",
          "2023-04-29T00:00:00",
          "2023-05-06T00:00:00",
          "2023-05-13T00:00:00",
          "2023-05-20T00:00:00",
          "2023-05-27T00:00:00",
          "2023-06-03T00:00:00",
          "2023-06-10T00:00:00",
          "2023-06-17T00:00:00",
          "2023-06-24T00:00:00",
          "2023-07-01T00:00:00",
          "2023-07-08T00:00:00",
          "2023-07-15T00:00:00",
          "2023-07-22T00:00:00",
          "2023-07-29T00:00:00",
          "2023-08-05T00:00:00",
          "2023-08-12T00:00:00",
          "2023-08-19T00:00:00",
          "2023-08-26T00:00:00",
          "2023-09-02T00:00:00",
          "2023-09-09T00:00:00",
          "2023-09-16T00:00:00",
          "2023-09-23T00:00:00",
          "2023-09-30T00:00:00",
          "2023-10-07T00:00:00",
          "2023-10-14T00:00:00",
          "2023-10-21T00:00:00",
          "2023-10-28T00:00:00",
          "2023-11-04T00:00:00",
          "2023-11-11T00:00:00",
          "2023-11-18T00:00:00",
          "2023-11-25T00:00:00",
          "2023-12-02T00:00:00",
          "2023-12-09T00:00:00",
          "2023-12-16T00:00:00",
          "2023-12-23T00:00:00",
          "2023-12-30T00:00:00",
          "2024-01-06T00:00:00",
          "2024-01-13T00:00:00",
          "2024-01-20T00:00:00",
          "2024-01-27T00:00:00",
          "2024-02-03T00:00:00",
          "2024-02-10T00:00:00",
          "2024-02-17T00:00:00",
          "2024-02-24T00:00:00",
          "2024-03-02T00:00:00",
          "2024-03-09T00:00:00",
          "2024-03-16T00:00:00",
          "2024-03-23T00:00:00",
          "2024-03-30T00:00:00",
          "2024-04-06T00:00:00",
          "2024-04-13T00:00:00",
          "2024-04-20T00:00:00",
          "2024-04-27T00:00:00",
          "2024-05-04T00:00:00",
          "2024-05-11T00:00:00",
          "2024-05-18T00:00:00",
          "2024-05-25T00:00:00",
          "2024-06-01T00:00:00",
          "2024-06-08T00:00:00",
          "2024-06-15T00:00:00",
          "2024-06-22T00:00:00",
          "2024-06-29T00:00:00",
          "2024-07-06T00:00:00",
          "2024-07-13T00:00:00",
          "2024-07-20T00:00:00",
          "2024-07-27T00:00:00",
          "2024-08-03T00:00:00",
          "2024-08-10T00:00:00",
          "2024-08-17T00:00:00",
          "2024-08-24T00:00:00",
          "2024-08-31T00:00:00",
          "2024-09-07T00:00:00",
          "2024-09-14T00:00:00",
          "2024-09-21T00:00:00",
          "2024-09-28T00:00:00",
          "2024-10-05T00:00:00",
          "2024-10-12T00:00:00",
          "2024-10-19T00:00:00",
          "2024-10-26T00:00:00",
          "2024-11-02T00:00:00",
          "2024-11-09T00:00:00",
          "2024-11-16T00:00:00",
          "2024-11-23T00:00:00",
          "2024-11-30T00:00:00",
          "2024-12-07T00:00:00",
          "2024-12-14T00:00:00",
          "2024-12-21T00:00:00",
          "2024-12-28T00:00:00",
          "2025-01-04T00:00:00",
          "2025-01-11T00:00:00",
          "2025-01-18T00:00:00",
          "2025-01-25T00:00:00",
          "2025-02-01T00:00:00",
          "2025-02-08T00:00:00",
          "2025-02-15T00:00:00",
          "2025-02-22T00:00:00",
          "2025-03-01T00:00:00",
          "2025-03-08T00:00:00",
          "2025-03-15T00:00:00",
          "2025-03-22T00:00:00",
          "2025-03-29T00:00:00",
          "2025-04-05T00:00:00",
          "2025-04-12T00:00:00",
          "2025-04-19T00:00:00",
          "2025-04-26T00:00:00",
          "2025-05-03T00:00:00",
          "2025-05-10T00:00:00",
          "2025-05-17T00:00:00"
         ],
         "y": [
          1091,
          1162,
          1491,
          1603,
          1791,
          2094,
          2622,
          2917,
          3000,
          3135,
          3297,
          3468,
          3179,
          3172,
          3117,
          3130,
          2737,
          2676,
          2202,
          1775,
          1366,
          1073,
          776,
          766,
          627,
          522,
          486,
          490,
          483,
          483,
          545,
          576,
          665,
          796,
          921,
          1306,
          1670,
          2273,
          4181,
          6401,
          8589,
          10969,
          18173,
          26829,
          24035,
          21607,
          19624,
          19474,
          14074,
          7183,
          4488,
          3091,
          2594,
          2176,
          1908,
          1647,
          1501,
          1372,
          1415,
          1330,
          1295,
          1198,
          1077,
          980,
          903,
          994,
          978,
          1116,
          974,
          939,
          935,
          873,
          813,
          836,
          699,
          736,
          645,
          769,
          690,
          705,
          738,
          792,
          875,
          803,
          821,
          881,
          1026,
          1108,
          1214,
          1469,
          1614,
          2012,
          2775,
          3491,
          4386,
          5954,
          7495,
          10269,
          15717,
          21682,
          19548,
          15902,
          13302,
          13025,
          11963,
          11629,
          11126,
          10869,
          10814,
          9416,
          7324,
          6049,
          5574,
          5071,
          4073,
          2943,
          2420,
          1485,
          852,
          681,
          610,
          590,
          511,
          517,
          441,
          356,
          341,
          367,
          324,
          273,
          275,
          275,
          273,
          274,
          259,
          223,
          319,
          293,
          223,
          286,
          288,
          552,
          1079,
          975,
          2076,
          2529,
          3089,
          4278,
          6286,
          9152,
          15399,
          27651,
          38672,
          30698,
          32963,
          40566,
          51141,
          54115,
          46036,
          37647,
          30753,
          23970,
          18369,
          13620,
          9664,
          6683,
          4863,
          3818,
          3213,
          2434,
          2078,
          1636
         ]
        },
        {
         "line": {
          "color": "#414487"
         },
         "mode": "lines",
         "name": "AutoETS-hi-80",
         "type": "scatter",
         "x": [
          "2024-10-12T00:00:00",
          "2024-10-19T00:00:00",
          "2024-10-26T00:00:00",
          "2024-11-02T00:00:00",
          "2024-11-09T00:00:00",
          "2024-11-16T00:00:00",
          "2024-11-23T00:00:00",
          "2024-11-30T00:00:00",
          "2024-12-07T00:00:00",
          "2024-12-14T00:00:00",
          "2024-12-21T00:00:00",
          "2024-12-28T00:00:00",
          "2025-01-04T00:00:00"
         ],
         "y": [
          2262.3466753958683,
          3314.554564299661,
          4243.916467038663,
          5105.669540089057,
          5916.944233854202,
          6685.506037250519,
          7416.023905790958,
          8111.944925913792,
          8776.144039690766,
          9411.167260873353,
          10019.327156897787,
          10602.742647603538,
          11163.358084127063
         ]
        },
        {
         "line": {
          "color": "#1e9c89"
         },
         "mode": "lines",
         "name": "AutoETS-hi-95",
         "type": "scatter",
         "x": [
          "2024-10-12T00:00:00",
          "2024-10-19T00:00:00",
          "2024-10-26T00:00:00",
          "2024-11-02T00:00:00",
          "2024-11-09T00:00:00",
          "2024-11-16T00:00:00",
          "2024-11-23T00:00:00",
          "2024-11-30T00:00:00",
          "2024-12-07T00:00:00",
          "2024-12-14T00:00:00",
          "2024-12-21T00:00:00",
          "2024-12-28T00:00:00",
          "2025-01-04T00:00:00"
         ],
         "y": [
          3306.5546687512287,
          4913.757173924716,
          6333.485043586563,
          7650.135807299832,
          8889.843897885912,
          10064.434140578067,
          11181.005913678831,
          12244.79814195104,
          13260.18131814816,
          14231.028152502737,
          15160.858545946872,
          16052.899613859341,
          16910.114190190314
         ]
        },
        {
         "fill": "tonexty",
         "fillcolor": "#1e9c89",
         "line": {
          "color": "#1e9c89"
         },
         "mode": "lines",
         "name": "AutoETS-lo-95",
         "type": "scatter",
         "x": [
          "2024-10-12T00:00:00",
          "2024-10-19T00:00:00",
          "2024-10-26T00:00:00",
          "2024-11-02T00:00:00",
          "2024-11-09T00:00:00",
          "2024-11-16T00:00:00",
          "2024-11-23T00:00:00",
          "2024-11-30T00:00:00",
          "2024-12-07T00:00:00",
          "2024-12-14T00:00:00",
          "2024-12-21T00:00:00",
          "2024-12-28T00:00:00",
          "2025-01-04T00:00:00"
         ],
         "y": [
          -2726.973026322,
          -4326.579326662197,
          -5740.2301142957585,
          -7052.019117855243,
          -8287.837724691897,
          -9459.316319882217,
          -10573.398726578735,
          -11635.199423004571,
          -12648.989342745615,
          -13618.561547151663,
          -14547.372216809656,
          -15438.597489831043,
          -16295.159417559178
         ]
        },
        {
         "fill": "tonexty",
         "fillcolor": "#414487",
         "line": {
          "color": "#414487"
         },
         "mode": "lines",
         "name": "AutoETS-lo-80",
         "type": "scatter",
         "x": [
          "2024-10-12T00:00:00",
          "2024-10-19T00:00:00",
          "2024-10-26T00:00:00",
          "2024-11-02T00:00:00",
          "2024-11-09T00:00:00",
          "2024-11-16T00:00:00",
          "2024-11-23T00:00:00",
          "2024-11-30T00:00:00",
          "2024-12-07T00:00:00",
          "2024-12-14T00:00:00",
          "2024-12-21T00:00:00",
          "2024-12-28T00:00:00",
          "2025-01-04T00:00:00"
         ],
         "y": [
          -1682.7650329666394,
          -2727.3767170371407,
          -3650.661537747859,
          -4507.552850644468,
          -5314.938060660185,
          -6080.3882165546665,
          -6808.416718690862,
          -7502.346206967325,
          -8164.952064288221,
          -8798.70065552228,
          -9405.84082776057,
          -9988.44052357524,
          -10548.403311495927
         ]
        },
        {
         "line": {
          "color": "#2c728e"
         },
         "mode": "lines",
         "name": "AutoETS",
         "type": "scatter",
         "x": [
          "2024-10-12T00:00:00",
          "2024-10-19T00:00:00",
          "2024-10-26T00:00:00",
          "2024-11-02T00:00:00",
          "2024-11-09T00:00:00",
          "2024-11-16T00:00:00",
          "2024-11-23T00:00:00",
          "2024-11-30T00:00:00",
          "2024-12-07T00:00:00",
          "2024-12-14T00:00:00",
          "2024-12-21T00:00:00",
          "2024-12-28T00:00:00",
          "2025-01-04T00:00:00"
         ],
         "y": [
          289.79082121461437,
          293.5889236312599,
          296.6274646454018,
          299.0583447222948,
          301.003086597008,
          302.55891034792575,
          303.80359355004833,
          304.79935947323355,
          305.59598770127263,
          306.2333026755375,
          306.74316456860913,
          307.15106201414835,
          307.4773863155687
         ]
        }
       ],
       "layout": {
        "autosize": true,
        "hovermode": "x",
        "template": {
         "data": {
          "bar": [
           {
            "error_x": {
             "color": "#2a3f5f"
            },
            "error_y": {
             "color": "#2a3f5f"
            },
            "marker": {
             "line": {
              "color": "#E5ECF6",
              "width": 0.5
             },
             "pattern": {
              "fillmode": "overlay",
              "size": 10,
              "solidity": 0.2
             }
            },
            "type": "bar"
           }
          ],
          "barpolar": [
           {
            "marker": {
             "line": {
              "color": "#E5ECF6",
              "width": 0.5
             },
             "pattern": {
              "fillmode": "overlay",
              "size": 10,
              "solidity": 0.2
             }
            },
            "type": "barpolar"
           }
          ],
          "carpet": [
           {
            "aaxis": {
             "endlinecolor": "#2a3f5f",
             "gridcolor": "white",
             "linecolor": "white",
             "minorgridcolor": "white",
             "startlinecolor": "#2a3f5f"
            },
            "baxis": {
             "endlinecolor": "#2a3f5f",
             "gridcolor": "white",
             "linecolor": "white",
             "minorgridcolor": "white",
             "startlinecolor": "#2a3f5f"
            },
            "type": "carpet"
           }
          ],
          "choropleth": [
           {
            "colorbar": {
             "outlinewidth": 0,
             "ticks": ""
            },
            "type": "choropleth"
           }
          ],
          "contour": [
           {
            "colorbar": {
             "outlinewidth": 0,
             "ticks": ""
            },
            "colorscale": [
             [
              0,
              "#0d0887"
             ],
             [
              0.1111111111111111,
              "#46039f"
             ],
             [
              0.2222222222222222,
              "#7201a8"
             ],
             [
              0.3333333333333333,
              "#9c179e"
             ],
             [
              0.4444444444444444,
              "#bd3786"
             ],
             [
              0.5555555555555556,
              "#d8576b"
             ],
             [
              0.6666666666666666,
              "#ed7953"
             ],
             [
              0.7777777777777778,
              "#fb9f3a"
             ],
             [
              0.8888888888888888,
              "#fdca26"
             ],
             [
              1,
              "#f0f921"
             ]
            ],
            "type": "contour"
           }
          ],
          "contourcarpet": [
           {
            "colorbar": {
             "outlinewidth": 0,
             "ticks": ""
            },
            "type": "contourcarpet"
           }
          ],
          "heatmap": [
           {
            "colorbar": {
             "outlinewidth": 0,
             "ticks": ""
            },
            "colorscale": [
             [
              0,
              "#0d0887"
             ],
             [
              0.1111111111111111,
              "#46039f"
             ],
             [
              0.2222222222222222,
              "#7201a8"
             ],
             [
              0.3333333333333333,
              "#9c179e"
             ],
             [
              0.4444444444444444,
              "#bd3786"
             ],
             [
              0.5555555555555556,
              "#d8576b"
             ],
             [
              0.6666666666666666,
              "#ed7953"
             ],
             [
              0.7777777777777778,
              "#fb9f3a"
             ],
             [
              0.8888888888888888,
              "#fdca26"
             ],
             [
              1,
              "#f0f921"
             ]
            ],
            "type": "heatmap"
           }
          ],
          "heatmapgl": [
           {
            "colorbar": {
             "outlinewidth": 0,
             "ticks": ""
            },
            "colorscale": [
             [
              0,
              "#0d0887"
             ],
             [
              0.1111111111111111,
              "#46039f"
             ],
             [
              0.2222222222222222,
              "#7201a8"
             ],
             [
              0.3333333333333333,
              "#9c179e"
             ],
             [
              0.4444444444444444,
              "#bd3786"
             ],
             [
              0.5555555555555556,
              "#d8576b"
             ],
             [
              0.6666666666666666,
              "#ed7953"
             ],
             [
              0.7777777777777778,
              "#fb9f3a"
             ],
             [
              0.8888888888888888,
              "#fdca26"
             ],
             [
              1,
              "#f0f921"
             ]
            ],
            "type": "heatmapgl"
           }
          ],
          "histogram": [
           {
            "marker": {
             "pattern": {
              "fillmode": "overlay",
              "size": 10,
              "solidity": 0.2
             }
            },
            "type": "histogram"
           }
          ],
          "histogram2d": [
           {
            "colorbar": {
             "outlinewidth": 0,
             "ticks": ""
            },
            "colorscale": [
             [
              0,
              "#0d0887"
             ],
             [
              0.1111111111111111,
              "#46039f"
             ],
             [
              0.2222222222222222,
              "#7201a8"
             ],
             [
              0.3333333333333333,
              "#9c179e"
             ],
             [
              0.4444444444444444,
              "#bd3786"
             ],
             [
              0.5555555555555556,
              "#d8576b"
             ],
             [
              0.6666666666666666,
              "#ed7953"
             ],
             [
              0.7777777777777778,
              "#fb9f3a"
             ],
             [
              0.8888888888888888,
              "#fdca26"
             ],
             [
              1,
              "#f0f921"
             ]
            ],
            "type": "histogram2d"
           }
          ],
          "histogram2dcontour": [
           {
            "colorbar": {
             "outlinewidth": 0,
             "ticks": ""
            },
            "colorscale": [
             [
              0,
              "#0d0887"
             ],
             [
              0.1111111111111111,
              "#46039f"
             ],
             [
              0.2222222222222222,
              "#7201a8"
             ],
             [
              0.3333333333333333,
              "#9c179e"
             ],
             [
              0.4444444444444444,
              "#bd3786"
             ],
             [
              0.5555555555555556,
              "#d8576b"
             ],
             [
              0.6666666666666666,
              "#ed7953"
             ],
             [
              0.7777777777777778,
              "#fb9f3a"
             ],
             [
              0.8888888888888888,
              "#fdca26"
             ],
             [
              1,
              "#f0f921"
             ]
            ],
            "type": "histogram2dcontour"
           }
          ],
          "mesh3d": [
           {
            "colorbar": {
             "outlinewidth": 0,
             "ticks": ""
            },
            "type": "mesh3d"
           }
          ],
          "parcoords": [
           {
            "line": {
             "colorbar": {
              "outlinewidth": 0,
              "ticks": ""
             }
            },
            "type": "parcoords"
           }
          ],
          "pie": [
           {
            "automargin": true,
            "type": "pie"
           }
          ],
          "scatter": [
           {
            "fillpattern": {
             "fillmode": "overlay",
             "size": 10,
             "solidity": 0.2
            },
            "type": "scatter"
           }
          ],
          "scatter3d": [
           {
            "line": {
             "colorbar": {
              "outlinewidth": 0,
              "ticks": ""
             }
            },
            "marker": {
             "colorbar": {
              "outlinewidth": 0,
              "ticks": ""
             }
            },
            "type": "scatter3d"
           }
          ],
          "scattercarpet": [
           {
            "marker": {
             "colorbar": {
              "outlinewidth": 0,
              "ticks": ""
             }
            },
            "type": "scattercarpet"
           }
          ],
          "scattergeo": [
           {
            "marker": {
             "colorbar": {
              "outlinewidth": 0,
              "ticks": ""
             }
            },
            "type": "scattergeo"
           }
          ],
          "scattergl": [
           {
            "marker": {
             "colorbar": {
              "outlinewidth": 0,
              "ticks": ""
             }
            },
            "type": "scattergl"
           }
          ],
          "scattermapbox": [
           {
            "marker": {
             "colorbar": {
              "outlinewidth": 0,
              "ticks": ""
             }
            },
            "type": "scattermapbox"
           }
          ],
          "scatterpolar": [
           {
            "marker": {
             "colorbar": {
              "outlinewidth": 0,
              "ticks": ""
             }
            },
            "type": "scatterpolar"
           }
          ],
          "scatterpolargl": [
           {
            "marker": {
             "colorbar": {
              "outlinewidth": 0,
              "ticks": ""
             }
            },
            "type": "scatterpolargl"
           }
          ],
          "scatterternary": [
           {
            "marker": {
             "colorbar": {
              "outlinewidth": 0,
              "ticks": ""
             }
            },
            "type": "scatterternary"
           }
          ],
          "surface": [
           {
            "colorbar": {
             "outlinewidth": 0,
             "ticks": ""
            },
            "colorscale": [
             [
              0,
              "#0d0887"
             ],
             [
              0.1111111111111111,
              "#46039f"
             ],
             [
              0.2222222222222222,
              "#7201a8"
             ],
             [
              0.3333333333333333,
              "#9c179e"
             ],
             [
              0.4444444444444444,
              "#bd3786"
             ],
             [
              0.5555555555555556,
              "#d8576b"
             ],
             [
              0.6666666666666666,
              "#ed7953"
             ],
             [
              0.7777777777777778,
              "#fb9f3a"
             ],
             [
              0.8888888888888888,
              "#fdca26"
             ],
             [
              1,
              "#f0f921"
             ]
            ],
            "type": "surface"
           }
          ],
          "table": [
           {
            "cells": {
             "fill": {
              "color": "#EBF0F8"
             },
             "line": {
              "color": "white"
             }
            },
            "header": {
             "fill": {
              "color": "#C8D4E3"
             },
             "line": {
              "color": "white"
             }
            },
            "type": "table"
           }
          ]
         },
         "layout": {
          "annotationdefaults": {
           "arrowcolor": "#2a3f5f",
           "arrowhead": 0,
           "arrowwidth": 1
          },
          "autotypenumbers": "strict",
          "coloraxis": {
           "colorbar": {
            "outlinewidth": 0,
            "ticks": ""
           }
          },
          "colorscale": {
           "diverging": [
            [
             0,
             "#8e0152"
            ],
            [
             0.1,
             "#c51b7d"
            ],
            [
             0.2,
             "#de77ae"
            ],
            [
             0.3,
             "#f1b6da"
            ],
            [
             0.4,
             "#fde0ef"
            ],
            [
             0.5,
             "#f7f7f7"
            ],
            [
             0.6,
             "#e6f5d0"
            ],
            [
             0.7,
             "#b8e186"
            ],
            [
             0.8,
             "#7fbc41"
            ],
            [
             0.9,
             "#4d9221"
            ],
            [
             1,
             "#276419"
            ]
           ],
           "sequential": [
            [
             0,
             "#0d0887"
            ],
            [
             0.1111111111111111,
             "#46039f"
            ],
            [
             0.2222222222222222,
             "#7201a8"
            ],
            [
             0.3333333333333333,
             "#9c179e"
            ],
            [
             0.4444444444444444,
             "#bd3786"
            ],
            [
             0.5555555555555556,
             "#d8576b"
            ],
            [
             0.6666666666666666,
             "#ed7953"
            ],
            [
             0.7777777777777778,
             "#fb9f3a"
            ],
            [
             0.8888888888888888,
             "#fdca26"
            ],
            [
             1,
             "#f0f921"
            ]
           ],
           "sequentialminus": [
            [
             0,
             "#0d0887"
            ],
            [
             0.1111111111111111,
             "#46039f"
            ],
            [
             0.2222222222222222,
             "#7201a8"
            ],
            [
             0.3333333333333333,
             "#9c179e"
            ],
            [
             0.4444444444444444,
             "#bd3786"
            ],
            [
             0.5555555555555556,
             "#d8576b"
            ],
            [
             0.6666666666666666,
             "#ed7953"
            ],
            [
             0.7777777777777778,
             "#fb9f3a"
            ],
            [
             0.8888888888888888,
             "#fdca26"
            ],
            [
             1,
             "#f0f921"
            ]
           ]
          },
          "colorway": [
           "#636efa",
           "#EF553B",
           "#00cc96",
           "#ab63fa",
           "#FFA15A",
           "#19d3f3",
           "#FF6692",
           "#B6E880",
           "#FF97FF",
           "#FECB52"
          ],
          "font": {
           "color": "#2a3f5f"
          },
          "geo": {
           "bgcolor": "white",
           "lakecolor": "white",
           "landcolor": "#E5ECF6",
           "showlakes": true,
           "showland": true,
           "subunitcolor": "white"
          },
          "hoverlabel": {
           "align": "left"
          },
          "hovermode": "closest",
          "mapbox": {
           "style": "light"
          },
          "paper_bgcolor": "white",
          "plot_bgcolor": "#E5ECF6",
          "polar": {
           "angularaxis": {
            "gridcolor": "white",
            "linecolor": "white",
            "ticks": ""
           },
           "bgcolor": "#E5ECF6",
           "radialaxis": {
            "gridcolor": "white",
            "linecolor": "white",
            "ticks": ""
           }
          },
          "scene": {
           "xaxis": {
            "backgroundcolor": "#E5ECF6",
            "gridcolor": "white",
            "gridwidth": 2,
            "linecolor": "white",
            "showbackground": true,
            "ticks": "",
            "zerolinecolor": "white"
           },
           "yaxis": {
            "backgroundcolor": "#E5ECF6",
            "gridcolor": "white",
            "gridwidth": 2,
            "linecolor": "white",
            "showbackground": true,
            "ticks": "",
            "zerolinecolor": "white"
           },
           "zaxis": {
            "backgroundcolor": "#E5ECF6",
            "gridcolor": "white",
            "gridwidth": 2,
            "linecolor": "white",
            "showbackground": true,
            "ticks": "",
            "zerolinecolor": "white"
           }
          },
          "shapedefaults": {
           "line": {
            "color": "#2a3f5f"
           }
          },
          "ternary": {
           "aaxis": {
            "gridcolor": "white",
            "linecolor": "white",
            "ticks": ""
           },
           "baxis": {
            "gridcolor": "white",
            "linecolor": "white",
            "ticks": ""
           },
           "bgcolor": "#E5ECF6",
           "caxis": {
            "gridcolor": "white",
            "linecolor": "white",
            "ticks": ""
           }
          },
          "title": {
           "x": 0.05
          },
          "xaxis": {
           "automargin": true,
           "gridcolor": "white",
           "linecolor": "white",
           "ticks": "",
           "title": {
            "standoff": 15
           },
           "zerolinecolor": "white",
           "zerolinewidth": 2
          },
          "yaxis": {
           "automargin": true,
           "gridcolor": "white",
           "linecolor": "white",
           "ticks": "",
           "title": {
            "standoff": 15
           },
           "zerolinecolor": "white",
           "zerolinewidth": 2
          }
         }
        },
        "title": {
         "text": "Fixed Parameter ETS Predictions, 2024-10-05"
        },
        "xaxis": {
         "autorange": true,
         "range": [
          "2022-02-05",
          "2025-05-17"
         ],
         "title": {
          "text": "Date"
         },
         "type": "date"
        },
        "yaxis": {
         "autorange": true,
         "range": [
          -20206.83494075691,
          58026.67552319773
         ],
         "title": {
          "text": "Count"
         },
         "type": "linear"
        }
       }
      },
      "image/png": "[encoded data removed]",
      "text/html": [
       "<div>                            <div id=\"2a81119b-d73d-49f1-985c-405d2db866fe\" class=\"plotly-graph-div\" style=\"height:525px; width:100%;\"></div>            <script type=\"text/javascript\">                require([\"plotly\"], function(Plotly) {                    window.PLOTLYENV=window.PLOTLYENV || {};                                    if (document.getElementById(\"2a81119b-d73d-49f1-985c-405d2db866fe\")) {                    Plotly.newPlot(                        \"2a81119b-d73d-49f1-985c-405d2db866fe\",                        [{\"mode\":\"lines\",\"name\":\"Real Data\",\"x\":[\"2022-02-05T00:00:00\",\"2022-02-12T00:00:00\",\"2022-02-19T00:00:00\",\"2022-02-26T00:00:00\",\"2022-03-05T00:00:00\",\"2022-03-12T00:00:00\",\"2022-03-19T00:00:00\",\"2022-03-26T00:00:00\",\"2022-04-02T00:00:00\",\"2022-04-09T00:00:00\",\"2022-04-16T00:00:00\",\"2022-04-23T00:00:00\",\"2022-04-30T00:00:00\",\"2022-05-07T00:00:00\",\"2022-05-14T00:00:00\",\"2022-05-21T00:00:00\",\"2022-05-28T00:00:00\",\"2022-06-04T00:00:00\",\"2022-06-11T00:00:00\",\"2022-06-18T00:00:00\",\"2022-06-25T00:00:00\",\"2022-07-02T00:00:00\",\"2022-07-09T00:00:00\",\"2022-07-16T00:00:00\",\"2022-07-23T00:00:00\",\"2022-07-30T00:00:00\",\"2022-08-06T00:00:00\",\"2022-08-13T00:00:00\",\"2022-08-20T00:00:00\",\"2022-08-27T00:00:00\",\"2022-09-03T00:00:00\",\"2022-09-10T00:00:00\",\"2022-09-17T00:00:00\",\"2022-09-24T00:00:00\",\"2022-10-01T00:00:00\",\"2022-10-08T00:00:00\",\"2022-10-15T00:00:00\",\"2022-10-22T00:00:00\",\"2022-10-29T00:00:00\",\"2022-11-05T00:00:00\",\"2022-11-12T00:00:00\",\"2022-11-19T00:00:00\",\"2022-11-26T00:00:00\",\"2022-12-03T00:00:00\",\"2022-12-10T00:00:00\",\"2022-12-17T00:00:00\",\"2022-12-24T00:00:00\",\"2022-12-31T00:00:00\",\"2023-01-07T00:00:00\",\"2023-01-14T00:00:00\",\"2023-01-21T00:00:00\",\"2023-01-28T00:00:00\",\"2023-02-04T00:00:00\",\"2023-02-11T00:00:00\",\"2023-02-18T00:00:00\",\"2023-02-25T00:00:00\",\"2023-03-04T00:00:00\",\"2023-03-11T00:00:00\",\"2023-03-18T00:00:00\",\"2023-03-25T00:00:00\",\"2023-04-01T00:00:00\",\"2023-04-08T00:00:00\",\"2023-04-15T00:00:00\",\"2023-04-22T00:00:00\",\"2023-04-29T00:00:00\",\"2023-05-06T00:00:00\",\"2023-05-13T00:00:00\",\"2023-05-20T00:00:00\",\"2023-05-27T00:00:00\",\"2023-06-03T00:00:00\",\"2023-06-10T00:00:00\",\"2023-06-17T00:00:00\",\"2023-06-24T00:00:00\",\"2023-07-01T00:00:00\",\"2023-07-08T00:00:00\",\"2023-07-15T00:00:00\",\"2023-07-22T00:00:00\",\"2023-07-29T00:00:00\",\"2023-08-05T00:00:00\",\"2023-08-12T00:00:00\",\"2023-08-19T00:00:00\",\"2023-08-26T00:00:00\",\"2023-09-02T00:00:00\",\"2023-09-09T00:00:00\",\"2023-09-16T00:00:00\",\"2023-09-23T00:00:00\",\"2023-09-30T00:00:00\",\"2023-10-07T00:00:00\",\"2023-10-14T00:00:00\",\"2023-10-21T00:00:00\",\"2023-10-28T00:00:00\",\"2023-11-04T00:00:00\",\"2023-11-11T00:00:00\",\"2023-11-18T00:00:00\",\"2023-11-25T00:00:00\",\"2023-12-02T00:00:00\",\"2023-12-09T00:00:00\",\"2023-12-16T00:00:00\",\"2023-12-23T00:00:00\",\"2023-12-30T00:00:00\",\"2024-01-06T00:00:00\",\"2024-01-13T00:00:00\",\"2024-01-20T00:00:00\",\"2024-01-27T00:00:00\",\"2024-02-03T00:00:00\",\"2024-02-10T00:00:00\",\"2024-02-17T00:00:00\",\"2024-02-24T00:00:00\",\"2024-03-02T00:00:00\",\"2024-03-09T00:00:00\",\"2024-03-16T00:00:00\",\"2024-03-23T00:00:00\",\"2024-03-30T00:00:00\",\"2024-04-06T00:00:00\",\"2024-04-13T00:00:00\",\"2024-04-20T00:00:00\",\"2024-04-27T00:00:00\",\"2024-05-04T00:00:00\",\"2024-05-11T00:00:00\",\"2024-05-18T00:00:00\",\"2024-05-25T00:00:00\",\"2024-06-01T00:00:00\",\"2024-06-08T00:00:00\",\"2024-06-15T00:00:00\",\"2024-06-22T00:00:00\",\"2024-06-29T00:00:00\",\"2024-07-06T00:00:00\",\"2024-07-13T00:00:00\",\"2024-07-20T00:00:00\",\"2024-07-27T00:00:00\",\"2024-08-03T00:00:00\",\"2024-08-10T00:00:00\",\"2024-08-17T00:00:00\",\"2024-08-24T00:00:00\",\"2024-08-31T00:00:00\",\"2024-09-07T00:00:00\",\"2024-09-14T00:00:00\",\"2024-09-21T00:00:00\",\"2024-09-28T00:00:00\",\"2024-10-05T00:00:00\",\"2024-10-12T00:00:00\",\"2024-10-19T00:00:00\",\"2024-10-26T00:00:00\",\"2024-11-02T00:00:00\",\"2024-11-09T00:00:00\",\"2024-11-16T00:00:00\",\"2024-11-23T00:00:00\",\"2024-11-30T00:00:00\",\"2024-12-07T00:00:00\",\"2024-12-14T00:00:00\",\"2024-12-21T00:00:00\",\"2024-12-28T00:00:00\",\"2025-01-04T00:00:00\",\"2025-01-11T00:00:00\",\"2025-01-18T00:00:00\",\"2025-01-25T00:00:00\",\"2025-02-01T00:00:00\",\"2025-02-08T00:00:00\",\"2025-02-15T00:00:00\",\"2025-02-22T00:00:00\",\"2025-03-01T00:00:00\",\"2025-03-08T00:00:00\",\"2025-03-15T00:00:00\",\"2025-03-22T00:00:00\",\"2025-03-29T00:00:00\",\"2025-04-05T00:00:00\",\"2025-04-12T00:00:00\",\"2025-04-19T00:00:00\",\"2025-04-26T00:00:00\",\"2025-05-03T00:00:00\",\"2025-05-10T00:00:00\",\"2025-05-17T00:00:00\"],\"y\":[1091.0,1162.0,1491.0,1603.0,1791.0,2094.0,2622.0,2917.0,3000.0,3135.0,3297.0,3468.0,3179.0,3172.0,3117.0,3130.0,2737.0,2676.0,2202.0,1775.0,1366.0,1073.0,776.0,766.0,627.0,522.0,486.0,490.0,483.0,483.0,545.0,576.0,665.0,796.0,921.0,1306.0,1670.0,2273.0,4181.0,6401.0,8589.0,10969.0,18173.0,26829.0,24035.0,21607.0,19624.0,19474.0,14074.0,7183.0,4488.0,3091.0,2594.0,2176.0,1908.0,1647.0,1501.0,1372.0,1415.0,1330.0,1295.0,1198.0,1077.0,980.0,903.0,994.0,978.0,1116.0,974.0,939.0,935.0,873.0,813.0,836.0,699.0,736.0,645.0,769.0,690.0,705.0,738.0,792.0,875.0,803.0,821.0,881.0,1026.0,1108.0,1214.0,1469.0,1614.0,2012.0,2775.0,3491.0,4386.0,5954.0,7495.0,10269.0,15717.0,21682.0,19548.0,15902.0,13302.0,13025.0,11963.0,11629.0,11126.0,10869.0,10814.0,9416.0,7324.0,6049.0,5574.0,5071.0,4073.0,2943.0,2420.0,1485.0,852.0,681.0,610.0,590.0,511.0,517.0,441.0,356.0,341.0,367.0,324.0,273.0,275.0,275.0,273.0,274.0,259.0,223.0,319.0,293.0,223.0,286.0,288.0,552.0,1079.0,975.0,2076.0,2529.0,3089.0,4278.0,6286.0,9152.0,15399.0,27651.0,38672.0,30698.0,32963.0,40566.0,51141.0,54115.0,46036.0,37647.0,30753.0,23970.0,18369.0,13620.0,9664.0,6683.0,4863.0,3818.0,3213.0,2434.0,2078.0,1636.0],\"type\":\"scatter\"},{\"line\":{\"color\":\"#414487\"},\"mode\":\"lines\",\"name\":\"AutoETS-hi-80\",\"x\":[\"2024-10-12T00:00:00\",\"2024-10-19T00:00:00\",\"2024-10-26T00:00:00\",\"2024-11-02T00:00:00\",\"2024-11-09T00:00:00\",\"2024-11-16T00:00:00\",\"2024-11-23T00:00:00\",\"2024-11-30T00:00:00\",\"2024-12-07T00:00:00\",\"2024-12-14T00:00:00\",\"2024-12-21T00:00:00\",\"2024-12-28T00:00:00\",\"2025-01-04T00:00:00\"],\"y\":[2262.3466753958683,3314.554564299661,4243.916467038663,5105.669540089057,5916.944233854202,6685.506037250519,7416.023905790958,8111.944925913792,8776.144039690766,9411.167260873353,10019.327156897787,10602.742647603538,11163.358084127063],\"type\":\"scatter\"},{\"line\":{\"color\":\"#1e9c89\"},\"mode\":\"lines\",\"name\":\"AutoETS-hi-95\",\"x\":[\"2024-10-12T00:00:00\",\"2024-10-19T00:00:00\",\"2024-10-26T00:00:00\",\"2024-11-02T00:00:00\",\"2024-11-09T00:00:00\",\"2024-11-16T00:00:00\",\"2024-11-23T00:00:00\",\"2024-11-30T00:00:00\",\"2024-12-07T00:00:00\",\"2024-12-14T00:00:00\",\"2024-12-21T00:00:00\",\"2024-12-28T00:00:00\",\"2025-01-04T00:00:00\"],\"y\":[3306.5546687512287,4913.757173924716,6333.485043586563,7650.135807299832,8889.843897885912,10064.434140578067,11181.005913678831,12244.79814195104,13260.18131814816,14231.028152502737,15160.858545946872,16052.899613859341,16910.114190190314],\"type\":\"scatter\"},{\"fill\":\"tonexty\",\"fillcolor\":\"#1e9c89\",\"line\":{\"color\":\"#1e9c89\"},\"mode\":\"lines\",\"name\":\"AutoETS-lo-95\",\"x\":[\"2024-10-12T00:00:00\",\"2024-10-19T00:00:00\",\"2024-10-26T00:00:00\",\"2024-11-02T00:00:00\",\"2024-11-09T00:00:00\",\"2024-11-16T00:00:00\",\"2024-11-23T00:00:00\",\"2024-11-30T00:00:00\",\"2024-12-07T00:00:00\",\"2024-12-14T00:00:00\",\"2024-12-21T00:00:00\",\"2024-12-28T00:00:00\",\"2025-01-04T00:00:00\"],\"y\":[-2726.973026322,-4326.579326662197,-5740.2301142957585,-7052.019117855243,-8287.837724691897,-9459.316319882217,-10573.398726578735,-11635.199423004571,-12648.989342745615,-13618.561547151663,-14547.372216809656,-15438.597489831043,-16295.159417559178],\"type\":\"scatter\"},{\"fill\":\"tonexty\",\"fillcolor\":\"#414487\",\"line\":{\"color\":\"#414487\"},\"mode\":\"lines\",\"name\":\"AutoETS-lo-80\",\"x\":[\"2024-10-12T00:00:00\",\"2024-10-19T00:00:00\",\"2024-10-26T00:00:00\",\"2024-11-02T00:00:00\",\"2024-11-09T00:00:00\",\"2024-11-16T00:00:00\",\"2024-11-23T00:00:00\",\"2024-11-30T00:00:00\",\"2024-12-07T00:00:00\",\"2024-12-14T00:00:00\",\"2024-12-21T00:00:00\",\"2024-12-28T00:00:00\",\"2025-01-04T00:00:00\"],\"y\":[-1682.7650329666394,-2727.3767170371407,-3650.661537747859,-4507.552850644468,-5314.938060660185,-6080.3882165546665,-6808.416718690862,-7502.346206967325,-8164.952064288221,-8798.70065552228,-9405.84082776057,-9988.44052357524,-10548.403311495927],\"type\":\"scatter\"},{\"line\":{\"color\":\"#2c728e\"},\"mode\":\"lines\",\"name\":\"AutoETS\",\"x\":[\"2024-10-12T00:00:00\",\"2024-10-19T00:00:00\",\"2024-10-26T00:00:00\",\"2024-11-02T00:00:00\",\"2024-11-09T00:00:00\",\"2024-11-16T00:00:00\",\"2024-11-23T00:00:00\",\"2024-11-30T00:00:00\",\"2024-12-07T00:00:00\",\"2024-12-14T00:00:00\",\"2024-12-21T00:00:00\",\"2024-12-28T00:00:00\",\"2025-01-04T00:00:00\"],\"y\":[289.79082121461437,293.5889236312599,296.6274646454018,299.0583447222948,301.003086597008,302.55891034792575,303.80359355004833,304.79935947323355,305.59598770127263,306.2333026755375,306.74316456860913,307.15106201414835,307.4773863155687],\"type\":\"scatter\"}],                        {\"template\":{\"data\":{\"histogram2dcontour\":[{\"type\":\"histogram2dcontour\",\"colorbar\":{\"outlinewidth\":0,\"ticks\":\"\"},\"colorscale\":[[0.0,\"#0d0887\"],[0.1111111111111111,\"#46039f\"],[0.2222222222222222,\"#7201a8\"],[0.3333333333333333,\"#9c179e\"],[0.4444444444444444,\"#bd3786\"],[0.5555555555555556,\"#d8576b\"],[0.6666666666666666,\"#ed7953\"],[0.7777777777777778,\"#fb9f3a\"],[0.8888888888888888,\"#fdca26\"],[1.0,\"#f0f921\"]]}],\"choropleth\":[{\"type\":\"choropleth\",\"colorbar\":{\"outlinewidth\":0,\"ticks\":\"\"}}],\"histogram2d\":[{\"type\":\"histogram2d\",\"colorbar\":{\"outlinewidth\":0,\"ticks\":\"\"},\"colorscale\":[[0.0,\"#0d0887\"],[0.1111111111111111,\"#46039f\"],[0.2222222222222222,\"#7201a8\"],[0.3333333333333333,\"#9c179e\"],[0.4444444444444444,\"#bd3786\"],[0.5555555555555556,\"#d8576b\"],[0.6666666666666666,\"#ed7953\"],[0.7777777777777778,\"#fb9f3a\"],[0.8888888888888888,\"#fdca26\"],[1.0,\"#f0f921\"]]}],\"heatmap\":[{\"type\":\"heatmap\",\"colorbar\":{\"outlinewidth\":0,\"ticks\":\"\"},\"colorscale\":[[0.0,\"#0d0887\"],[0.1111111111111111,\"#46039f\"],[0.2222222222222222,\"#7201a8\"],[0.3333333333333333,\"#9c179e\"],[0.4444444444444444,\"#bd3786\"],[0.5555555555555556,\"#d8576b\"],[0.6666666666666666,\"#ed7953\"],[0.7777777777777778,\"#fb9f3a\"],[0.8888888888888888,\"#fdca26\"],[1.0,\"#f0f921\"]]}],\"heatmapgl\":[{\"type\":\"heatmapgl\",\"colorbar\":{\"outlinewidth\":0,\"ticks\":\"\"},\"colorscale\":[[0.0,\"#0d0887\"],[0.1111111111111111,\"#46039f\"],[0.2222222222222222,\"#7201a8\"],[0.3333333333333333,\"#9c179e\"],[0.4444444444444444,\"#bd3786\"],[0.5555555555555556,\"#d8576b\"],[0.6666666666666666,\"#ed7953\"],[0.7777777777777778,\"#fb9f3a\"],[0.8888888888888888,\"#fdca26\"],[1.0,\"#f0f921\"]]}],\"contourcarpet\":[{\"type\":\"contourcarpet\",\"colorbar\":{\"outlinewidth\":0,\"ticks\":\"\"}}],\"contour\":[{\"type\":\"contour\",\"colorbar\":{\"outlinewidth\":0,\"ticks\":\"\"},\"colorscale\":[[0.0,\"#0d0887\"],[0.1111111111111111,\"#46039f\"],[0.2222222222222222,\"#7201a8\"],[0.3333333333333333,\"#9c179e\"],[0.4444444444444444,\"#bd3786\"],[0.5555555555555556,\"#d8576b\"],[0.6666666666666666,\"#ed7953\"],[0.7777777777777778,\"#fb9f3a\"],[0.8888888888888888,\"#fdca26\"],[1.0,\"#f0f921\"]]}],\"surface\":[{\"type\":\"surface\",\"colorbar\":{\"outlinewidth\":0,\"ticks\":\"\"},\"colorscale\":[[0.0,\"#0d0887\"],[0.1111111111111111,\"#46039f\"],[0.2222222222222222,\"#7201a8\"],[0.3333333333333333,\"#9c179e\"],[0.4444444444444444,\"#bd3786\"],[0.5555555555555556,\"#d8576b\"],[0.6666666666666666,\"#ed7953\"],[0.7777777777777778,\"#fb9f3a\"],[0.8888888888888888,\"#fdca26\"],[1.0,\"#f0f921\"]]}],\"mesh3d\":[{\"type\":\"mesh3d\",\"colorbar\":{\"outlinewidth\":0,\"ticks\":\"\"}}],\"scatter\":[{\"fillpattern\":{\"fillmode\":\"overlay\",\"size\":10,\"solidity\":0.2},\"type\":\"scatter\"}],\"parcoords\":[{\"type\":\"parcoords\",\"line\":{\"colorbar\":{\"outlinewidth\":0,\"ticks\":\"\"}}}],\"scatterpolargl\":[{\"type\":\"scatterpolargl\",\"marker\":{\"colorbar\":{\"outlinewidth\":0,\"ticks\":\"\"}}}],\"bar\":[{\"error_x\":{\"color\":\"#2a3f5f\"},\"error_y\":{\"color\":\"#2a3f5f\"},\"marker\":{\"line\":{\"color\":\"#E5ECF6\",\"width\":0.5},\"pattern\":{\"fillmode\":\"overlay\",\"size\":10,\"solidity\":0.2}},\"type\":\"bar\"}],\"scattergeo\":[{\"type\":\"scattergeo\",\"marker\":{\"colorbar\":{\"outlinewidth\":0,\"ticks\":\"\"}}}],\"scatterpolar\":[{\"type\":\"scatterpolar\",\"marker\":{\"colorbar\":{\"outlinewidth\":0,\"ticks\":\"\"}}}],\"histogram\":[{\"marker\":{\"pattern\":{\"fillmode\":\"overlay\",\"size\":10,\"solidity\":0.2}},\"type\":\"histogram\"}],\"scattergl\":[{\"type\":\"scattergl\",\"marker\":{\"colorbar\":{\"outlinewidth\":0,\"ticks\":\"\"}}}],\"scatter3d\":[{\"type\":\"scatter3d\",\"line\":{\"colorbar\":{\"outlinewidth\":0,\"ticks\":\"\"}},\"marker\":{\"colorbar\":{\"outlinewidth\":0,\"ticks\":\"\"}}}],\"scattermapbox\":[{\"type\":\"scattermapbox\",\"marker\":{\"colorbar\":{\"outlinewidth\":0,\"ticks\":\"\"}}}],\"scatterternary\":[{\"type\":\"scatterternary\",\"marker\":{\"colorbar\":{\"outlinewidth\":0,\"ticks\":\"\"}}}],\"scattercarpet\":[{\"type\":\"scattercarpet\",\"marker\":{\"colorbar\":{\"outlinewidth\":0,\"ticks\":\"\"}}}],\"carpet\":[{\"aaxis\":{\"endlinecolor\":\"#2a3f5f\",\"gridcolor\":\"white\",\"linecolor\":\"white\",\"minorgridcolor\":\"white\",\"startlinecolor\":\"#2a3f5f\"},\"baxis\":{\"endlinecolor\":\"#2a3f5f\",\"gridcolor\":\"white\",\"linecolor\":\"white\",\"minorgridcolor\":\"white\",\"startlinecolor\":\"#2a3f5f\"},\"type\":\"carpet\"}],\"table\":[{\"cells\":{\"fill\":{\"color\":\"#EBF0F8\"},\"line\":{\"color\":\"white\"}},\"header\":{\"fill\":{\"color\":\"#C8D4E3\"},\"line\":{\"color\":\"white\"}},\"type\":\"table\"}],\"barpolar\":[{\"marker\":{\"line\":{\"color\":\"#E5ECF6\",\"width\":0.5},\"pattern\":{\"fillmode\":\"overlay\",\"size\":10,\"solidity\":0.2}},\"type\":\"barpolar\"}],\"pie\":[{\"automargin\":true,\"type\":\"pie\"}]},\"layout\":{\"autotypenumbers\":\"strict\",\"colorway\":[\"#636efa\",\"#EF553B\",\"#00cc96\",\"#ab63fa\",\"#FFA15A\",\"#19d3f3\",\"#FF6692\",\"#B6E880\",\"#FF97FF\",\"#FECB52\"],\"font\":{\"color\":\"#2a3f5f\"},\"hovermode\":\"closest\",\"hoverlabel\":{\"align\":\"left\"},\"paper_bgcolor\":\"white\",\"plot_bgcolor\":\"#E5ECF6\",\"polar\":{\"bgcolor\":\"#E5ECF6\",\"angularaxis\":{\"gridcolor\":\"white\",\"linecolor\":\"white\",\"ticks\":\"\"},\"radialaxis\":{\"gridcolor\":\"white\",\"linecolor\":\"white\",\"ticks\":\"\"}},\"ternary\":{\"bgcolor\":\"#E5ECF6\",\"aaxis\":{\"gridcolor\":\"white\",\"linecolor\":\"white\",\"ticks\":\"\"},\"baxis\":{\"gridcolor\":\"white\",\"linecolor\":\"white\",\"ticks\":\"\"},\"caxis\":{\"gridcolor\":\"white\",\"linecolor\":\"white\",\"ticks\":\"\"}},\"coloraxis\":{\"colorbar\":{\"outlinewidth\":0,\"ticks\":\"\"}},\"colorscale\":{\"sequential\":[[0.0,\"#0d0887\"],[0.1111111111111111,\"#46039f\"],[0.2222222222222222,\"#7201a8\"],[0.3333333333333333,\"#9c179e\"],[0.4444444444444444,\"#bd3786\"],[0.5555555555555556,\"#d8576b\"],[0.6666666666666666,\"#ed7953\"],[0.7777777777777778,\"#fb9f3a\"],[0.8888888888888888,\"#fdca26\"],[1.0,\"#f0f921\"]],\"sequentialminus\":[[0.0,\"#0d0887\"],[0.1111111111111111,\"#46039f\"],[0.2222222222222222,\"#7201a8\"],[0.3333333333333333,\"#9c179e\"],[0.4444444444444444,\"#bd3786\"],[0.5555555555555556,\"#d8576b\"],[0.6666666666666666,\"#ed7953\"],[0.7777777777777778,\"#fb9f3a\"],[0.8888888888888888,\"#fdca26\"],[1.0,\"#f0f921\"]],\"diverging\":[[0,\"#8e0152\"],[0.1,\"#c51b7d\"],[0.2,\"#de77ae\"],[0.3,\"#f1b6da\"],[0.4,\"#fde0ef\"],[0.5,\"#f7f7f7\"],[0.6,\"#e6f5d0\"],[0.7,\"#b8e186\"],[0.8,\"#7fbc41\"],[0.9,\"#4d9221\"],[1,\"#276419\"]]},\"xaxis\":{\"gridcolor\":\"white\",\"linecolor\":\"white\",\"ticks\":\"\",\"title\":{\"standoff\":15},\"zerolinecolor\":\"white\",\"automargin\":true,\"zerolinewidth\":2},\"yaxis\":{\"gridcolor\":\"white\",\"linecolor\":\"white\",\"ticks\":\"\",\"title\":{\"standoff\":15},\"zerolinecolor\":\"white\",\"automargin\":true,\"zerolinewidth\":2},\"scene\":{\"xaxis\":{\"backgroundcolor\":\"#E5ECF6\",\"gridcolor\":\"white\",\"linecolor\":\"white\",\"showbackground\":true,\"ticks\":\"\",\"zerolinecolor\":\"white\",\"gridwidth\":2},\"yaxis\":{\"backgroundcolor\":\"#E5ECF6\",\"gridcolor\":\"white\",\"linecolor\":\"white\",\"showbackground\":true,\"ticks\":\"\",\"zerolinecolor\":\"white\",\"gridwidth\":2},\"zaxis\":{\"backgroundcolor\":\"#E5ECF6\",\"gridcolor\":\"white\",\"linecolor\":\"white\",\"showbackground\":true,\"ticks\":\"\",\"zerolinecolor\":\"white\",\"gridwidth\":2}},\"shapedefaults\":{\"line\":{\"color\":\"#2a3f5f\"}},\"annotationdefaults\":{\"arrowcolor\":\"#2a3f5f\",\"arrowhead\":0,\"arrowwidth\":1},\"geo\":{\"bgcolor\":\"white\",\"landcolor\":\"#E5ECF6\",\"subunitcolor\":\"white\",\"showland\":true,\"showlakes\":true,\"lakecolor\":\"white\"},\"title\":{\"x\":0.05},\"mapbox\":{\"style\":\"light\"}}},\"title\":{\"text\":\"Fixed Parameter ETS Predictions, 2024-10-05\"},\"xaxis\":{\"title\":{\"text\":\"Date\"}},\"yaxis\":{\"title\":{\"text\":\"Count\"}},\"hovermode\":\"x\"},                        {\"responsive\": true}                    ).then(function(){\n",
       "                            \n",
       "var gd = document.getElementById('2a81119b-d73d-49f1-985c-405d2db866fe');\n",
       "var x = new MutationObserver(function (mutations, observer) {{\n",
       "        var display = window.getComputedStyle(gd).display;\n",
       "        if (!display || display === 'none') {{\n",
       "            console.log([gd, 'removed!']);\n",
       "            Plotly.purge(gd);\n",
       "            observer.disconnect();\n",
       "        }}\n",
       "}});\n",
       "\n",
       "// Listen for the removal of the full notebook cells\n",
       "var notebookContainer = gd.closest('#notebook-container');\n",
       "if (notebookContainer) {{\n",
       "    x.observe(notebookContainer, {childList: true});\n",
       "}}\n",
       "\n",
       "// Listen for the clearing of the current output cell\n",
       "var outputEl = gd.closest('.output');\n",
       "if (outputEl) {{\n",
       "    x.observe(outputEl, {childList: true});\n",
       "}}\n",
       "\n",
       "                        })                };                });            </script>        </div>"
      ]
     },
     "metadata": {},
     "output_type": "display_data"
    }
   ],
   "source": [
    "Processor.create_graph()"
   ]
  },
  {
   "cell_type": "code",
   "execution_count": 16,
   "id": "58143b27-4042-4f04-b0c0-c16de4d5c796",
   "metadata": {
    "tags": []
   },
   "outputs": [],
   "source": [
    "Processor.create_metrics()"
   ]
  },
  {
   "cell_type": "code",
   "execution_count": 17,
   "id": "a3312de5-9b47-447e-9219-23718f77c0e2",
   "metadata": {
    "tags": []
   },
   "outputs": [],
   "source": [
    "Processor.create_metrics_df()"
   ]
  },
  {
   "cell_type": "code",
   "execution_count": 18,
   "id": "c7e39fa3-a020-46a8-8eab-1f23fb4f765d",
   "metadata": {
    "tags": []
   },
   "outputs": [
    {
     "data": {
      "text/html": [
       "<div>\n",
       "<style scoped>\n",
       "    .dataframe tbody tr th:only-of-type {\n",
       "        vertical-align: middle;\n",
       "    }\n",
       "\n",
       "    .dataframe tbody tr th {\n",
       "        vertical-align: top;\n",
       "    }\n",
       "\n",
       "    .dataframe thead th {\n",
       "        text-align: right;\n",
       "    }\n",
       "</style>\n",
       "<table border=\"1\" class=\"dataframe\">\n",
       "  <thead>\n",
       "    <tr style=\"text-align: right;\">\n",
       "      <th></th>\n",
       "      <th>Reference Date</th>\n",
       "      <th>MAE</th>\n",
       "      <th>MSE</th>\n",
       "      <th>MAPE</th>\n",
       "      <th>NMSE</th>\n",
       "    </tr>\n",
       "  </thead>\n",
       "  <tbody>\n",
       "    <tr>\n",
       "      <th>0</th>\n",
       "      <td>2024-10-05</td>\n",
       "      <td>8315.780787</td>\n",
       "      <td>1.995461e+08</td>\n",
       "      <td>0.795187</td>\n",
       "      <td>1.529374</td>\n",
       "    </tr>\n",
       "  </tbody>\n",
       "</table>\n",
       "</div>"
      ],
      "text/plain": [
       "  Reference Date          MAE           MSE      MAPE      NMSE\n",
       "0     2024-10-05  8315.780787  1.995461e+08  0.795187  1.529374"
      ]
     },
     "execution_count": 18,
     "metadata": {},
     "output_type": "execute_result"
    }
   ],
   "source": [
    "Processor.metrics_df"
   ]
  },
  {
   "cell_type": "code",
   "execution_count": 19,
   "id": "667df1f5-5c5c-4041-a716-7526568af291",
   "metadata": {
    "tags": []
   },
   "outputs": [],
   "source": [
    "Processor.create_display_df()"
   ]
  },
  {
   "cell_type": "code",
   "execution_count": 20,
   "id": "cd9449f6-8888-4072-916a-fab453517118",
   "metadata": {
    "tags": []
   },
   "outputs": [
    {
     "data": {
      "text/html": [
       "<div>\n",
       "<style scoped>\n",
       "    .dataframe tbody tr th:only-of-type {\n",
       "        vertical-align: middle;\n",
       "    }\n",
       "\n",
       "    .dataframe tbody tr th {\n",
       "        vertical-align: top;\n",
       "    }\n",
       "\n",
       "    .dataframe thead th {\n",
       "        text-align: right;\n",
       "    }\n",
       "</style>\n",
       "<table border=\"1\" class=\"dataframe\">\n",
       "  <thead>\n",
       "    <tr style=\"text-align: right;\">\n",
       "      <th></th>\n",
       "      <th>Reference Date</th>\n",
       "      <th>Target End Date</th>\n",
       "      <th>Quantile</th>\n",
       "      <th>Prediction</th>\n",
       "    </tr>\n",
       "  </thead>\n",
       "  <tbody>\n",
       "    <tr>\n",
       "      <th>1</th>\n",
       "      <td>2024-10-05</td>\n",
       "      <td>2024-10-12</td>\n",
       "      <td>0.025</td>\n",
       "      <td>-2726.973026</td>\n",
       "    </tr>\n",
       "    <tr>\n",
       "      <th>2</th>\n",
       "      <td>2024-10-05</td>\n",
       "      <td>2024-10-12</td>\n",
       "      <td>0.100</td>\n",
       "      <td>-1682.765033</td>\n",
       "    </tr>\n",
       "    <tr>\n",
       "      <th>0</th>\n",
       "      <td>2024-10-05</td>\n",
       "      <td>2024-10-12</td>\n",
       "      <td>0.500</td>\n",
       "      <td>289.790821</td>\n",
       "    </tr>\n",
       "    <tr>\n",
       "      <th>3</th>\n",
       "      <td>2024-10-05</td>\n",
       "      <td>2024-10-12</td>\n",
       "      <td>0.900</td>\n",
       "      <td>2262.346675</td>\n",
       "    </tr>\n",
       "    <tr>\n",
       "      <th>4</th>\n",
       "      <td>2024-10-05</td>\n",
       "      <td>2024-10-12</td>\n",
       "      <td>0.975</td>\n",
       "      <td>3306.554669</td>\n",
       "    </tr>\n",
       "    <tr>\n",
       "      <th>...</th>\n",
       "      <td>...</td>\n",
       "      <td>...</td>\n",
       "      <td>...</td>\n",
       "      <td>...</td>\n",
       "    </tr>\n",
       "    <tr>\n",
       "      <th>61</th>\n",
       "      <td>2024-10-05</td>\n",
       "      <td>2025-01-04</td>\n",
       "      <td>0.025</td>\n",
       "      <td>-16295.159418</td>\n",
       "    </tr>\n",
       "    <tr>\n",
       "      <th>62</th>\n",
       "      <td>2024-10-05</td>\n",
       "      <td>2025-01-04</td>\n",
       "      <td>0.100</td>\n",
       "      <td>-10548.403311</td>\n",
       "    </tr>\n",
       "    <tr>\n",
       "      <th>60</th>\n",
       "      <td>2024-10-05</td>\n",
       "      <td>2025-01-04</td>\n",
       "      <td>0.500</td>\n",
       "      <td>307.477386</td>\n",
       "    </tr>\n",
       "    <tr>\n",
       "      <th>63</th>\n",
       "      <td>2024-10-05</td>\n",
       "      <td>2025-01-04</td>\n",
       "      <td>0.900</td>\n",
       "      <td>11163.358084</td>\n",
       "    </tr>\n",
       "    <tr>\n",
       "      <th>64</th>\n",
       "      <td>2024-10-05</td>\n",
       "      <td>2025-01-04</td>\n",
       "      <td>0.975</td>\n",
       "      <td>16910.114190</td>\n",
       "    </tr>\n",
       "  </tbody>\n",
       "</table>\n",
       "<p>65 rows × 4 columns</p>\n",
       "</div>"
      ],
      "text/plain": [
       "   Reference Date Target End Date  Quantile    Prediction\n",
       "1      2024-10-05      2024-10-12     0.025  -2726.973026\n",
       "2      2024-10-05      2024-10-12     0.100  -1682.765033\n",
       "0      2024-10-05      2024-10-12     0.500    289.790821\n",
       "3      2024-10-05      2024-10-12     0.900   2262.346675\n",
       "4      2024-10-05      2024-10-12     0.975   3306.554669\n",
       "..            ...             ...       ...           ...\n",
       "61     2024-10-05      2025-01-04     0.025 -16295.159418\n",
       "62     2024-10-05      2025-01-04     0.100 -10548.403311\n",
       "60     2024-10-05      2025-01-04     0.500    307.477386\n",
       "63     2024-10-05      2025-01-04     0.900  11163.358084\n",
       "64     2024-10-05      2025-01-04     0.975  16910.114190\n",
       "\n",
       "[65 rows x 4 columns]"
      ]
     },
     "execution_count": 20,
     "metadata": {},
     "output_type": "execute_result"
    }
   ],
   "source": [
    "Processor.display_df"
   ]
  },
  {
   "cell_type": "code",
   "execution_count": null,
   "id": "19976cdc-7a3d-40af-960d-73d1b0f1ea80",
   "metadata": {
    "tags": []
   },
   "outputs": [],
   "source": []
  },
  {
   "cell_type": "code",
   "execution_count": 21,
   "id": "52967389-386a-42c6-91c7-349971d73cf1",
   "metadata": {
    "tags": []
   },
   "outputs": [],
   "source": [
    "Processor2 = FixedETSProcessor(overall_df = updated_df, dates = [\"2024-10-05\", \"2024-10-19\", \"2024-11-02\", \"2024-11-16\", \"2024-12-07\"])"
   ]
  },
  {
   "cell_type": "code",
   "execution_count": 22,
   "id": "a71a7764-d28d-4cf5-b7b9-77d566ce65c8",
   "metadata": {
    "tags": []
   },
   "outputs": [],
   "source": [
    "Processor2.create_training_dfs(value_col=\"value\")"
   ]
  },
  {
   "cell_type": "code",
   "execution_count": 23,
   "id": "eb6890b6-d821-4154-9d9e-24bad0748d00",
   "metadata": {
    "tags": []
   },
   "outputs": [],
   "source": [
    "Processor2.load_model(\"AutoETS/fixed_models/testing.pkl\")"
   ]
  },
  {
   "cell_type": "code",
   "execution_count": 24,
   "id": "06b66a01-2a91-454f-8585-81190d456e76",
   "metadata": {},
   "outputs": [],
   "source": [
    "Processor2.create_fixed_model(h = 4, freq = \"W-SAT\", season_length = 52, model_name = \"testing\", level = [80, 95])"
   ]
  },
  {
   "cell_type": "code",
   "execution_count": 25,
   "id": "c10a862c-2b4f-436c-9c4f-78b0cf8a2744",
   "metadata": {},
   "outputs": [
    {
     "data": {
      "text/html": [
       "<div>\n",
       "<style scoped>\n",
       "    .dataframe tbody tr th:only-of-type {\n",
       "        vertical-align: middle;\n",
       "    }\n",
       "\n",
       "    .dataframe tbody tr th {\n",
       "        vertical-align: top;\n",
       "    }\n",
       "\n",
       "    .dataframe thead th {\n",
       "        text-align: right;\n",
       "    }\n",
       "</style>\n",
       "<table border=\"1\" class=\"dataframe\">\n",
       "  <thead>\n",
       "    <tr style=\"text-align: right;\">\n",
       "      <th></th>\n",
       "      <th>AutoETS</th>\n",
       "      <th>AutoETS-lo-95</th>\n",
       "      <th>AutoETS-lo-80</th>\n",
       "      <th>AutoETS-hi-80</th>\n",
       "      <th>AutoETS-hi-95</th>\n",
       "    </tr>\n",
       "    <tr>\n",
       "      <th>ds</th>\n",
       "      <th></th>\n",
       "      <th></th>\n",
       "      <th></th>\n",
       "      <th></th>\n",
       "      <th></th>\n",
       "    </tr>\n",
       "  </thead>\n",
       "  <tbody>\n",
       "    <tr>\n",
       "      <th>2024-10-12</th>\n",
       "      <td>289.790821</td>\n",
       "      <td>-2726.973026</td>\n",
       "      <td>-1682.765033</td>\n",
       "      <td>2262.346675</td>\n",
       "      <td>3306.554669</td>\n",
       "    </tr>\n",
       "    <tr>\n",
       "      <th>2024-10-19</th>\n",
       "      <td>293.588924</td>\n",
       "      <td>-4326.579327</td>\n",
       "      <td>-2727.376717</td>\n",
       "      <td>3314.554564</td>\n",
       "      <td>4913.757174</td>\n",
       "    </tr>\n",
       "    <tr>\n",
       "      <th>2024-10-26</th>\n",
       "      <td>296.627465</td>\n",
       "      <td>-5740.230114</td>\n",
       "      <td>-3650.661538</td>\n",
       "      <td>4243.916467</td>\n",
       "      <td>6333.485044</td>\n",
       "    </tr>\n",
       "    <tr>\n",
       "      <th>2024-11-02</th>\n",
       "      <td>299.058345</td>\n",
       "      <td>-7052.019118</td>\n",
       "      <td>-4507.552851</td>\n",
       "      <td>5105.669540</td>\n",
       "      <td>7650.135807</td>\n",
       "    </tr>\n",
       "    <tr>\n",
       "      <th>2024-11-09</th>\n",
       "      <td>301.003087</td>\n",
       "      <td>-8287.837725</td>\n",
       "      <td>-5314.938061</td>\n",
       "      <td>5916.944234</td>\n",
       "      <td>8889.843898</td>\n",
       "    </tr>\n",
       "    <tr>\n",
       "      <th>2024-11-16</th>\n",
       "      <td>302.558910</td>\n",
       "      <td>-9459.316320</td>\n",
       "      <td>-6080.388217</td>\n",
       "      <td>6685.506037</td>\n",
       "      <td>10064.434141</td>\n",
       "    </tr>\n",
       "    <tr>\n",
       "      <th>2024-11-23</th>\n",
       "      <td>303.803594</td>\n",
       "      <td>-10573.398727</td>\n",
       "      <td>-6808.416719</td>\n",
       "      <td>7416.023906</td>\n",
       "      <td>11181.005914</td>\n",
       "    </tr>\n",
       "    <tr>\n",
       "      <th>2024-11-30</th>\n",
       "      <td>304.799359</td>\n",
       "      <td>-11635.199423</td>\n",
       "      <td>-7502.346207</td>\n",
       "      <td>8111.944926</td>\n",
       "      <td>12244.798142</td>\n",
       "    </tr>\n",
       "    <tr>\n",
       "      <th>2024-12-07</th>\n",
       "      <td>305.595988</td>\n",
       "      <td>-12648.989343</td>\n",
       "      <td>-8164.952064</td>\n",
       "      <td>8776.144040</td>\n",
       "      <td>13260.181318</td>\n",
       "    </tr>\n",
       "    <tr>\n",
       "      <th>2024-12-14</th>\n",
       "      <td>306.233303</td>\n",
       "      <td>-13618.561547</td>\n",
       "      <td>-8798.700656</td>\n",
       "      <td>9411.167261</td>\n",
       "      <td>14231.028153</td>\n",
       "    </tr>\n",
       "    <tr>\n",
       "      <th>2024-12-21</th>\n",
       "      <td>306.743165</td>\n",
       "      <td>-14547.372217</td>\n",
       "      <td>-9405.840828</td>\n",
       "      <td>10019.327157</td>\n",
       "      <td>15160.858546</td>\n",
       "    </tr>\n",
       "    <tr>\n",
       "      <th>2024-12-28</th>\n",
       "      <td>307.151062</td>\n",
       "      <td>-15438.597490</td>\n",
       "      <td>-9988.440524</td>\n",
       "      <td>10602.742648</td>\n",
       "      <td>16052.899614</td>\n",
       "    </tr>\n",
       "    <tr>\n",
       "      <th>2025-01-04</th>\n",
       "      <td>307.477386</td>\n",
       "      <td>-16295.159418</td>\n",
       "      <td>-10548.403311</td>\n",
       "      <td>11163.358084</td>\n",
       "      <td>16910.114190</td>\n",
       "    </tr>\n",
       "  </tbody>\n",
       "</table>\n",
       "</div>"
      ],
      "text/plain": [
       "               AutoETS  AutoETS-lo-95  AutoETS-lo-80  AutoETS-hi-80  \\\n",
       "ds                                                                    \n",
       "2024-10-12  289.790821   -2726.973026   -1682.765033    2262.346675   \n",
       "2024-10-19  293.588924   -4326.579327   -2727.376717    3314.554564   \n",
       "2024-10-26  296.627465   -5740.230114   -3650.661538    4243.916467   \n",
       "2024-11-02  299.058345   -7052.019118   -4507.552851    5105.669540   \n",
       "2024-11-09  301.003087   -8287.837725   -5314.938061    5916.944234   \n",
       "2024-11-16  302.558910   -9459.316320   -6080.388217    6685.506037   \n",
       "2024-11-23  303.803594  -10573.398727   -6808.416719    7416.023906   \n",
       "2024-11-30  304.799359  -11635.199423   -7502.346207    8111.944926   \n",
       "2024-12-07  305.595988  -12648.989343   -8164.952064    8776.144040   \n",
       "2024-12-14  306.233303  -13618.561547   -8798.700656    9411.167261   \n",
       "2024-12-21  306.743165  -14547.372217   -9405.840828   10019.327157   \n",
       "2024-12-28  307.151062  -15438.597490   -9988.440524   10602.742648   \n",
       "2025-01-04  307.477386  -16295.159418  -10548.403311   11163.358084   \n",
       "\n",
       "            AutoETS-hi-95  \n",
       "ds                         \n",
       "2024-10-12    3306.554669  \n",
       "2024-10-19    4913.757174  \n",
       "2024-10-26    6333.485044  \n",
       "2024-11-02    7650.135807  \n",
       "2024-11-09    8889.843898  \n",
       "2024-11-16   10064.434141  \n",
       "2024-11-23   11181.005914  \n",
       "2024-11-30   12244.798142  \n",
       "2024-12-07   13260.181318  \n",
       "2024-12-14   14231.028153  \n",
       "2024-12-21   15160.858546  \n",
       "2024-12-28   16052.899614  \n",
       "2025-01-04   16910.114190  "
      ]
     },
     "execution_count": 25,
     "metadata": {},
     "output_type": "execute_result"
    }
   ],
   "source": [
    "Processor2.forecast"
   ]
  },
  {
   "cell_type": "code",
   "execution_count": 26,
   "id": "653f5b68-70af-4f72-a755-b0a555e930a2",
   "metadata": {
    "tags": []
   },
   "outputs": [
    {
     "data": {
      "text/html": [
       "<div>\n",
       "<style scoped>\n",
       "    .dataframe tbody tr th:only-of-type {\n",
       "        vertical-align: middle;\n",
       "    }\n",
       "\n",
       "    .dataframe tbody tr th {\n",
       "        vertical-align: top;\n",
       "    }\n",
       "\n",
       "    .dataframe thead th {\n",
       "        text-align: right;\n",
       "    }\n",
       "</style>\n",
       "<table border=\"1\" class=\"dataframe\">\n",
       "  <thead>\n",
       "    <tr style=\"text-align: right;\">\n",
       "      <th></th>\n",
       "      <th>AutoETS</th>\n",
       "      <th>AutoETS-lo-95</th>\n",
       "      <th>AutoETS-lo-80</th>\n",
       "      <th>AutoETS-hi-80</th>\n",
       "      <th>AutoETS-hi-95</th>\n",
       "    </tr>\n",
       "    <tr>\n",
       "      <th>ds</th>\n",
       "      <th></th>\n",
       "      <th></th>\n",
       "      <th></th>\n",
       "      <th></th>\n",
       "      <th></th>\n",
       "    </tr>\n",
       "  </thead>\n",
       "  <tbody>\n",
       "    <tr>\n",
       "      <th>2024-10-12</th>\n",
       "      <td>289.790821</td>\n",
       "      <td>-2726.973026</td>\n",
       "      <td>-1682.765033</td>\n",
       "      <td>2262.346675</td>\n",
       "      <td>3306.554669</td>\n",
       "    </tr>\n",
       "    <tr>\n",
       "      <th>2024-10-19</th>\n",
       "      <td>293.588924</td>\n",
       "      <td>-4326.579327</td>\n",
       "      <td>-2727.376717</td>\n",
       "      <td>3314.554564</td>\n",
       "      <td>4913.757174</td>\n",
       "    </tr>\n",
       "    <tr>\n",
       "      <th>2024-10-26</th>\n",
       "      <td>296.627465</td>\n",
       "      <td>-5740.230114</td>\n",
       "      <td>-3650.661538</td>\n",
       "      <td>4243.916467</td>\n",
       "      <td>6333.485044</td>\n",
       "    </tr>\n",
       "    <tr>\n",
       "      <th>2024-11-02</th>\n",
       "      <td>299.058345</td>\n",
       "      <td>-7052.019118</td>\n",
       "      <td>-4507.552851</td>\n",
       "      <td>5105.669540</td>\n",
       "      <td>7650.135807</td>\n",
       "    </tr>\n",
       "    <tr>\n",
       "      <th>2024-11-09</th>\n",
       "      <td>301.003087</td>\n",
       "      <td>-8287.837725</td>\n",
       "      <td>-5314.938061</td>\n",
       "      <td>5916.944234</td>\n",
       "      <td>8889.843898</td>\n",
       "    </tr>\n",
       "    <tr>\n",
       "      <th>2024-11-16</th>\n",
       "      <td>302.558910</td>\n",
       "      <td>-9459.316320</td>\n",
       "      <td>-6080.388217</td>\n",
       "      <td>6685.506037</td>\n",
       "      <td>10064.434141</td>\n",
       "    </tr>\n",
       "    <tr>\n",
       "      <th>2024-11-23</th>\n",
       "      <td>303.803594</td>\n",
       "      <td>-10573.398727</td>\n",
       "      <td>-6808.416719</td>\n",
       "      <td>7416.023906</td>\n",
       "      <td>11181.005914</td>\n",
       "    </tr>\n",
       "    <tr>\n",
       "      <th>2024-11-30</th>\n",
       "      <td>304.799359</td>\n",
       "      <td>-11635.199423</td>\n",
       "      <td>-7502.346207</td>\n",
       "      <td>8111.944926</td>\n",
       "      <td>12244.798142</td>\n",
       "    </tr>\n",
       "    <tr>\n",
       "      <th>2024-12-07</th>\n",
       "      <td>305.595988</td>\n",
       "      <td>-12648.989343</td>\n",
       "      <td>-8164.952064</td>\n",
       "      <td>8776.144040</td>\n",
       "      <td>13260.181318</td>\n",
       "    </tr>\n",
       "    <tr>\n",
       "      <th>2024-12-14</th>\n",
       "      <td>306.233303</td>\n",
       "      <td>-13618.561547</td>\n",
       "      <td>-8798.700656</td>\n",
       "      <td>9411.167261</td>\n",
       "      <td>14231.028153</td>\n",
       "    </tr>\n",
       "    <tr>\n",
       "      <th>2024-12-21</th>\n",
       "      <td>306.743165</td>\n",
       "      <td>-14547.372217</td>\n",
       "      <td>-9405.840828</td>\n",
       "      <td>10019.327157</td>\n",
       "      <td>15160.858546</td>\n",
       "    </tr>\n",
       "    <tr>\n",
       "      <th>2024-12-28</th>\n",
       "      <td>307.151062</td>\n",
       "      <td>-15438.597490</td>\n",
       "      <td>-9988.440524</td>\n",
       "      <td>10602.742648</td>\n",
       "      <td>16052.899614</td>\n",
       "    </tr>\n",
       "    <tr>\n",
       "      <th>2025-01-04</th>\n",
       "      <td>307.477386</td>\n",
       "      <td>-16295.159418</td>\n",
       "      <td>-10548.403311</td>\n",
       "      <td>11163.358084</td>\n",
       "      <td>16910.114190</td>\n",
       "    </tr>\n",
       "  </tbody>\n",
       "</table>\n",
       "</div>"
      ],
      "text/plain": [
       "               AutoETS  AutoETS-lo-95  AutoETS-lo-80  AutoETS-hi-80  \\\n",
       "ds                                                                    \n",
       "2024-10-12  289.790821   -2726.973026   -1682.765033    2262.346675   \n",
       "2024-10-19  293.588924   -4326.579327   -2727.376717    3314.554564   \n",
       "2024-10-26  296.627465   -5740.230114   -3650.661538    4243.916467   \n",
       "2024-11-02  299.058345   -7052.019118   -4507.552851    5105.669540   \n",
       "2024-11-09  301.003087   -8287.837725   -5314.938061    5916.944234   \n",
       "2024-11-16  302.558910   -9459.316320   -6080.388217    6685.506037   \n",
       "2024-11-23  303.803594  -10573.398727   -6808.416719    7416.023906   \n",
       "2024-11-30  304.799359  -11635.199423   -7502.346207    8111.944926   \n",
       "2024-12-07  305.595988  -12648.989343   -8164.952064    8776.144040   \n",
       "2024-12-14  306.233303  -13618.561547   -8798.700656    9411.167261   \n",
       "2024-12-21  306.743165  -14547.372217   -9405.840828   10019.327157   \n",
       "2024-12-28  307.151062  -15438.597490   -9988.440524   10602.742648   \n",
       "2025-01-04  307.477386  -16295.159418  -10548.403311   11163.358084   \n",
       "\n",
       "            AutoETS-hi-95  \n",
       "ds                         \n",
       "2024-10-12    3306.554669  \n",
       "2024-10-19    4913.757174  \n",
       "2024-10-26    6333.485044  \n",
       "2024-11-02    7650.135807  \n",
       "2024-11-09    8889.843898  \n",
       "2024-11-16   10064.434141  \n",
       "2024-11-23   11181.005914  \n",
       "2024-11-30   12244.798142  \n",
       "2024-12-07   13260.181318  \n",
       "2024-12-14   14231.028153  \n",
       "2024-12-21   15160.858546  \n",
       "2024-12-28   16052.899614  \n",
       "2025-01-04   16910.114190  "
      ]
     },
     "execution_count": 26,
     "metadata": {},
     "output_type": "execute_result"
    }
   ],
   "source": [
    "Processor.forecast"
   ]
  },
  {
   "cell_type": "code",
   "execution_count": 27,
   "id": "011aff56-cbcf-476f-8a0a-066c514744ba",
   "metadata": {
    "tags": []
   },
   "outputs": [
    {
     "data": {
      "text/plain": [
       "True"
      ]
     },
     "execution_count": 27,
     "metadata": {},
     "output_type": "execute_result"
    }
   ],
   "source": [
    "Processor.forecast.equals(Processor2.forecast)"
   ]
  },
  {
   "cell_type": "code",
   "execution_count": null,
   "id": "31ee925f-0543-4c8b-bb93-42d1e00d646c",
   "metadata": {},
   "outputs": [],
   "source": []
  },
  {
   "cell_type": "code",
   "execution_count": null,
   "id": "f270e6a4-5438-426d-a656-ecb3bf2b0010",
   "metadata": {},
   "outputs": [],
   "source": []
  },
  {
   "cell_type": "code",
   "execution_count": null,
   "id": "7d28d9f3-5872-4da7-8b2c-07f96815b4af",
   "metadata": {},
   "outputs": [],
   "source": []
  },
  {
   "cell_type": "code",
   "execution_count": 28,
   "id": "1d080cd8-d465-4d77-bf74-5e330f169afd",
   "metadata": {
    "tags": []
   },
   "outputs": [],
   "source": [
    "updated_df = pd.read_csv(\"https://raw.githubusercontent.com/cdcepi/FluSight-forecast-hub/refs/heads/main/target-data/target-hospital-admissions.csv\")"
   ]
  },
  {
   "cell_type": "code",
   "execution_count": 29,
   "id": "ba26a5d5-3ef1-4590-bb98-12a4ed74259f",
   "metadata": {
    "tags": []
   },
   "outputs": [],
   "source": [
    "updated_df = updated_df[updated_df[\"location_name\"] == \"US\"]\n",
    "updated_df = updated_df[[\"date\", \"value\"]]\n",
    "updated_df[\"date\"] = pd.to_datetime(updated_df[\"date\"])\n",
    "updated_df.set_index(\"date\", inplace = True)\n",
    "updated_df.sort_values(by = \"date\", inplace = True)"
   ]
  },
  {
   "cell_type": "code",
   "execution_count": 30,
   "id": "870159ca-cc0d-4fac-b564-a257baa83ea1",
   "metadata": {
    "tags": []
   },
   "outputs": [],
   "source": [
    "UProcessor = UpdatingETSProcessor(overall_df = updated_df, dates = [\"2024-10-05\", \"2024-10-19\", \"2024-11-02\", \"2024-11-16\", \"2024-12-07\"])"
   ]
  },
  {
   "cell_type": "code",
   "execution_count": 31,
   "id": "2bf60381-0ca1-4ef9-b6c3-c5733bd2c0d5",
   "metadata": {
    "tags": []
   },
   "outputs": [],
   "source": [
    "UProcessor.create_training_dfs(value_col = \"value\")"
   ]
  },
  {
   "cell_type": "code",
   "execution_count": 32,
   "id": "729aab23-10f5-481f-a697-5fb0ef655c86",
   "metadata": {
    "tags": []
   },
   "outputs": [
    {
     "name": "stdout",
     "output_type": "stream",
     "text": [
      "Saving StatsForecast object of size 10.20KB.\n",
      "StatsForecast object saved\n",
      "Saving StatsForecast object of size 10.31KB.\n",
      "StatsForecast object saved\n",
      "Saving StatsForecast object of size 10.42KB.\n",
      "StatsForecast object saved\n",
      "Saving StatsForecast object of size 10.53KB.\n",
      "StatsForecast object saved\n",
      "Saving StatsForecast object of size 10.69KB.\n",
      "StatsForecast object saved\n"
     ]
    }
   ],
   "source": [
    "UProcessor.create_models(h = 4, freq = \"W-SAT\", season_length = 52, model_names = [\"test1\", \"test2\", \"test3\", \"test4\", \"test5\"], level = [80, 95])"
   ]
  },
  {
   "cell_type": "code",
   "execution_count": 33,
   "id": "b46c9b27-0cd2-4d96-9eb7-b1ad063e1569",
   "metadata": {
    "tags": []
   },
   "outputs": [
    {
     "name": "stderr",
     "output_type": "stream",
     "text": [
      "/tmp/ipykernel_24552/4108472039.py:64: MatplotlibDeprecationWarning:\n",
      "\n",
      "The get_cmap function was deprecated in Matplotlib 3.7 and will be removed two minor releases later. Use ``matplotlib.colormaps[name]`` or ``matplotlib.colormaps.get_cmap(obj)`` instead.\n",
      "\n"
     ]
    },
    {
     "data": {
      "application/vnd.plotly.v1+json": {
       "config": {
        "plotlyServerURL": "https://plot.ly"
       },
       "data": [
        {
         "mode": "lines",
         "name": "Real Data",
         "type": "scatter",
         "x": [
          "2022-02-05T00:00:00",
          "2022-02-12T00:00:00",
          "2022-02-19T00:00:00",
          "2022-02-26T00:00:00",
          "2022-03-05T00:00:00",
          "2022-03-12T00:00:00",
          "2022-03-19T00:00:00",
          "2022-03-26T00:00:00",
          "2022-04-02T00:00:00",
          "2022-04-09T00:00:00",
          "2022-04-16T00:00:00",
          "2022-04-23T00:00:00",
          "2022-04-30T00:00:00",
          "2022-05-07T00:00:00",
          "2022-05-14T00:00:00",
          "2022-05-21T00:00:00",
          "2022-05-28T00:00:00",
          "2022-06-04T00:00:00",
          "2022-06-11T00:00:00",
          "2022-06-18T00:00:00",
          "2022-06-25T00:00:00",
          "2022-07-02T00:00:00",
          "2022-07-09T00:00:00",
          "2022-07-16T00:00:00",
          "2022-07-23T00:00:00",
          "2022-07-30T00:00:00",
          "2022-08-06T00:00:00",
          "2022-08-13T00:00:00",
          "2022-08-20T00:00:00",
          "2022-08-27T00:00:00",
          "2022-09-03T00:00:00",
          "2022-09-10T00:00:00",
          "2022-09-17T00:00:00",
          "2022-09-24T00:00:00",
          "2022-10-01T00:00:00",
          "2022-10-08T00:00:00",
          "2022-10-15T00:00:00",
          "2022-10-22T00:00:00",
          "2022-10-29T00:00:00",
          "2022-11-05T00:00:00",
          "2022-11-12T00:00:00",
          "2022-11-19T00:00:00",
          "2022-11-26T00:00:00",
          "2022-12-03T00:00:00",
          "2022-12-10T00:00:00",
          "2022-12-17T00:00:00",
          "2022-12-24T00:00:00",
          "2022-12-31T00:00:00",
          "2023-01-07T00:00:00",
          "2023-01-14T00:00:00",
          "2023-01-21T00:00:00",
          "2023-01-28T00:00:00",
          "2023-02-04T00:00:00",
          "2023-02-11T00:00:00",
          "2023-02-18T00:00:00",
          "2023-02-25T00:00:00",
          "2023-03-04T00:00:00",
          "2023-03-11T00:00:00",
          "2023-03-18T00:00:00",
          "2023-03-25T00:00:00",
          "2023-04-01T00:00:00",
          "2023-04-08T00:00:00",
          "2023-04-15T00:00:00",
          "2023-04-22T00:00:00",
          "2023-04-29T00:00:00",
          "2023-05-06T00:00:00",
          "2023-05-13T00:00:00",
          "2023-05-20T00:00:00",
          "2023-05-27T00:00:00",
          "2023-06-03T00:00:00",
          "2023-06-10T00:00:00",
          "2023-06-17T00:00:00",
          "2023-06-24T00:00:00",
          "2023-07-01T00:00:00",
          "2023-07-08T00:00:00",
          "2023-07-15T00:00:00",
          "2023-07-22T00:00:00",
          "2023-07-29T00:00:00",
          "2023-08-05T00:00:00",
          "2023-08-12T00:00:00",
          "2023-08-19T00:00:00",
          "2023-08-26T00:00:00",
          "2023-09-02T00:00:00",
          "2023-09-09T00:00:00",
          "2023-09-16T00:00:00",
          "2023-09-23T00:00:00",
          "2023-09-30T00:00:00",
          "2023-10-07T00:00:00",
          "2023-10-14T00:00:00",
          "2023-10-21T00:00:00",
          "2023-10-28T00:00:00",
          "2023-11-04T00:00:00",
          "2023-11-11T00:00:00",
          "2023-11-18T00:00:00",
          "2023-11-25T00:00:00",
          "2023-12-02T00:00:00",
          "2023-12-09T00:00:00",
          "2023-12-16T00:00:00",
          "2023-12-23T00:00:00",
          "2023-12-30T00:00:00",
          "2024-01-06T00:00:00",
          "2024-01-13T00:00:00",
          "2024-01-20T00:00:00",
          "2024-01-27T00:00:00",
          "2024-02-03T00:00:00",
          "2024-02-10T00:00:00",
          "2024-02-17T00:00:00",
          "2024-02-24T00:00:00",
          "2024-03-02T00:00:00",
          "2024-03-09T00:00:00",
          "2024-03-16T00:00:00",
          "2024-03-23T00:00:00",
          "2024-03-30T00:00:00",
          "2024-04-06T00:00:00",
          "2024-04-13T00:00:00",
          "2024-04-20T00:00:00",
          "2024-04-27T00:00:00",
          "2024-05-04T00:00:00",
          "2024-05-11T00:00:00",
          "2024-05-18T00:00:00",
          "2024-05-25T00:00:00",
          "2024-06-01T00:00:00",
          "2024-06-08T00:00:00",
          "2024-06-15T00:00:00",
          "2024-06-22T00:00:00",
          "2024-06-29T00:00:00",
          "2024-07-06T00:00:00",
          "2024-07-13T00:00:00",
          "2024-07-20T00:00:00",
          "2024-07-27T00:00:00",
          "2024-08-03T00:00:00",
          "2024-08-10T00:00:00",
          "2024-08-17T00:00:00",
          "2024-08-24T00:00:00",
          "2024-08-31T00:00:00",
          "2024-09-07T00:00:00",
          "2024-09-14T00:00:00",
          "2024-09-21T00:00:00",
          "2024-09-28T00:00:00",
          "2024-10-05T00:00:00",
          "2024-10-12T00:00:00",
          "2024-10-19T00:00:00",
          "2024-10-26T00:00:00",
          "2024-11-02T00:00:00",
          "2024-11-09T00:00:00",
          "2024-11-16T00:00:00",
          "2024-11-23T00:00:00",
          "2024-11-30T00:00:00",
          "2024-12-07T00:00:00",
          "2024-12-14T00:00:00",
          "2024-12-21T00:00:00",
          "2024-12-28T00:00:00",
          "2025-01-04T00:00:00",
          "2025-01-11T00:00:00",
          "2025-01-18T00:00:00",
          "2025-01-25T00:00:00",
          "2025-02-01T00:00:00",
          "2025-02-08T00:00:00",
          "2025-02-15T00:00:00",
          "2025-02-22T00:00:00",
          "2025-03-01T00:00:00",
          "2025-03-08T00:00:00",
          "2025-03-15T00:00:00",
          "2025-03-22T00:00:00",
          "2025-03-29T00:00:00",
          "2025-04-05T00:00:00",
          "2025-04-12T00:00:00",
          "2025-04-19T00:00:00",
          "2025-04-26T00:00:00",
          "2025-05-03T00:00:00",
          "2025-05-10T00:00:00",
          "2025-05-17T00:00:00"
         ],
         "y": [
          1091,
          1162,
          1491,
          1603,
          1791,
          2094,
          2622,
          2917,
          3000,
          3135,
          3297,
          3468,
          3179,
          3172,
          3117,
          3130,
          2737,
          2676,
          2202,
          1775,
          1366,
          1073,
          776,
          766,
          627,
          522,
          486,
          490,
          483,
          483,
          545,
          576,
          665,
          796,
          921,
          1306,
          1670,
          2273,
          4181,
          6401,
          8589,
          10969,
          18173,
          26829,
          24035,
          21607,
          19624,
          19474,
          14074,
          7183,
          4488,
          3091,
          2594,
          2176,
          1908,
          1647,
          1501,
          1372,
          1415,
          1330,
          1295,
          1198,
          1077,
          980,
          903,
          994,
          978,
          1116,
          974,
          939,
          935,
          873,
          813,
          836,
          699,
          736,
          645,
          769,
          690,
          705,
          738,
          792,
          875,
          803,
          821,
          881,
          1026,
          1108,
          1214,
          1469,
          1614,
          2012,
          2775,
          3491,
          4386,
          5954,
          7495,
          10269,
          15717,
          21682,
          19548,
          15902,
          13302,
          13025,
          11963,
          11629,
          11126,
          10869,
          10814,
          9416,
          7324,
          6049,
          5574,
          5071,
          4073,
          2943,
          2420,
          1485,
          852,
          681,
          610,
          590,
          511,
          517,
          441,
          356,
          341,
          367,
          324,
          273,
          275,
          275,
          273,
          274,
          259,
          223,
          319,
          293,
          223,
          286,
          288,
          552,
          1079,
          975,
          2076,
          2529,
          3089,
          4278,
          6286,
          9152,
          15399,
          27651,
          38672,
          30698,
          32963,
          40566,
          51141,
          54115,
          46036,
          37647,
          30753,
          23970,
          18369,
          13620,
          9664,
          6683,
          4863,
          3818,
          3213,
          2434,
          2078,
          1636
         ]
        },
        {
         "line": {
          "color": "#414487"
         },
         "mode": "lines",
         "name": "AutoETS-hi-80",
         "type": "scatter",
         "x": [
          "2024-10-12T00:00:00",
          "2024-10-19T00:00:00",
          "2024-10-26T00:00:00",
          "2024-11-02T00:00:00"
         ],
         "y": [
          2262.3466753958683,
          3314.554564299661,
          4243.916467038663,
          5105.669540089057
         ]
        },
        {
         "line": {
          "color": "#1e9c89"
         },
         "mode": "lines",
         "name": "AutoETS-hi-95",
         "type": "scatter",
         "x": [
          "2024-10-12T00:00:00",
          "2024-10-19T00:00:00",
          "2024-10-26T00:00:00",
          "2024-11-02T00:00:00"
         ],
         "y": [
          3306.5546687512287,
          4913.757173924716,
          6333.485043586563,
          7650.135807299832
         ]
        },
        {
         "fill": "tonexty",
         "fillcolor": "#1e9c89",
         "line": {
          "color": "#1e9c89"
         },
         "mode": "lines",
         "name": "AutoETS-lo-95",
         "type": "scatter",
         "x": [
          "2024-10-12T00:00:00",
          "2024-10-19T00:00:00",
          "2024-10-26T00:00:00",
          "2024-11-02T00:00:00"
         ],
         "y": [
          -2726.973026322,
          -4326.579326662197,
          -5740.2301142957585,
          -7052.019117855243
         ]
        },
        {
         "fill": "tonexty",
         "fillcolor": "#414487",
         "line": {
          "color": "#414487"
         },
         "mode": "lines",
         "name": "AutoETS-lo-80",
         "type": "scatter",
         "x": [
          "2024-10-12T00:00:00",
          "2024-10-19T00:00:00",
          "2024-10-26T00:00:00",
          "2024-11-02T00:00:00"
         ],
         "y": [
          -1682.7650329666394,
          -2727.3767170371407,
          -3650.661537747859,
          -4507.552850644468
         ]
        },
        {
         "line": {
          "color": "#2c728e"
         },
         "mode": "lines",
         "name": "AutoETS",
         "type": "scatter",
         "x": [
          "2024-10-12T00:00:00",
          "2024-10-19T00:00:00",
          "2024-10-26T00:00:00",
          "2024-11-02T00:00:00"
         ],
         "y": [
          289.79082121461437,
          293.5889236312599,
          296.6274646454018,
          299.0583447222948
         ]
        }
       ],
       "layout": {
        "autosize": true,
        "hovermode": "x",
        "template": {
         "data": {
          "bar": [
           {
            "error_x": {
             "color": "#2a3f5f"
            },
            "error_y": {
             "color": "#2a3f5f"
            },
            "marker": {
             "line": {
              "color": "#E5ECF6",
              "width": 0.5
             },
             "pattern": {
              "fillmode": "overlay",
              "size": 10,
              "solidity": 0.2
             }
            },
            "type": "bar"
           }
          ],
          "barpolar": [
           {
            "marker": {
             "line": {
              "color": "#E5ECF6",
              "width": 0.5
             },
             "pattern": {
              "fillmode": "overlay",
              "size": 10,
              "solidity": 0.2
             }
            },
            "type": "barpolar"
           }
          ],
          "carpet": [
           {
            "aaxis": {
             "endlinecolor": "#2a3f5f",
             "gridcolor": "white",
             "linecolor": "white",
             "minorgridcolor": "white",
             "startlinecolor": "#2a3f5f"
            },
            "baxis": {
             "endlinecolor": "#2a3f5f",
             "gridcolor": "white",
             "linecolor": "white",
             "minorgridcolor": "white",
             "startlinecolor": "#2a3f5f"
            },
            "type": "carpet"
           }
          ],
          "choropleth": [
           {
            "colorbar": {
             "outlinewidth": 0,
             "ticks": ""
            },
            "type": "choropleth"
           }
          ],
          "contour": [
           {
            "colorbar": {
             "outlinewidth": 0,
             "ticks": ""
            },
            "colorscale": [
             [
              0,
              "#0d0887"
             ],
             [
              0.1111111111111111,
              "#46039f"
             ],
             [
              0.2222222222222222,
              "#7201a8"
             ],
             [
              0.3333333333333333,
              "#9c179e"
             ],
             [
              0.4444444444444444,
              "#bd3786"
             ],
             [
              0.5555555555555556,
              "#d8576b"
             ],
             [
              0.6666666666666666,
              "#ed7953"
             ],
             [
              0.7777777777777778,
              "#fb9f3a"
             ],
             [
              0.8888888888888888,
              "#fdca26"
             ],
             [
              1,
              "#f0f921"
             ]
            ],
            "type": "contour"
           }
          ],
          "contourcarpet": [
           {
            "colorbar": {
             "outlinewidth": 0,
             "ticks": ""
            },
            "type": "contourcarpet"
           }
          ],
          "heatmap": [
           {
            "colorbar": {
             "outlinewidth": 0,
             "ticks": ""
            },
            "colorscale": [
             [
              0,
              "#0d0887"
             ],
             [
              0.1111111111111111,
              "#46039f"
             ],
             [
              0.2222222222222222,
              "#7201a8"
             ],
             [
              0.3333333333333333,
              "#9c179e"
             ],
             [
              0.4444444444444444,
              "#bd3786"
             ],
             [
              0.5555555555555556,
              "#d8576b"
             ],
             [
              0.6666666666666666,
              "#ed7953"
             ],
             [
              0.7777777777777778,
              "#fb9f3a"
             ],
             [
              0.8888888888888888,
              "#fdca26"
             ],
             [
              1,
              "#f0f921"
             ]
            ],
            "type": "heatmap"
           }
          ],
          "heatmapgl": [
           {
            "colorbar": {
             "outlinewidth": 0,
             "ticks": ""
            },
            "colorscale": [
             [
              0,
              "#0d0887"
             ],
             [
              0.1111111111111111,
              "#46039f"
             ],
             [
              0.2222222222222222,
              "#7201a8"
             ],
             [
              0.3333333333333333,
              "#9c179e"
             ],
             [
              0.4444444444444444,
              "#bd3786"
             ],
             [
              0.5555555555555556,
              "#d8576b"
             ],
             [
              0.6666666666666666,
              "#ed7953"
             ],
             [
              0.7777777777777778,
              "#fb9f3a"
             ],
             [
              0.8888888888888888,
              "#fdca26"
             ],
             [
              1,
              "#f0f921"
             ]
            ],
            "type": "heatmapgl"
           }
          ],
          "histogram": [
           {
            "marker": {
             "pattern": {
              "fillmode": "overlay",
              "size": 10,
              "solidity": 0.2
             }
            },
            "type": "histogram"
           }
          ],
          "histogram2d": [
           {
            "colorbar": {
             "outlinewidth": 0,
             "ticks": ""
            },
            "colorscale": [
             [
              0,
              "#0d0887"
             ],
             [
              0.1111111111111111,
              "#46039f"
             ],
             [
              0.2222222222222222,
              "#7201a8"
             ],
             [
              0.3333333333333333,
              "#9c179e"
             ],
             [
              0.4444444444444444,
              "#bd3786"
             ],
             [
              0.5555555555555556,
              "#d8576b"
             ],
             [
              0.6666666666666666,
              "#ed7953"
             ],
             [
              0.7777777777777778,
              "#fb9f3a"
             ],
             [
              0.8888888888888888,
              "#fdca26"
             ],
             [
              1,
              "#f0f921"
             ]
            ],
            "type": "histogram2d"
           }
          ],
          "histogram2dcontour": [
           {
            "colorbar": {
             "outlinewidth": 0,
             "ticks": ""
            },
            "colorscale": [
             [
              0,
              "#0d0887"
             ],
             [
              0.1111111111111111,
              "#46039f"
             ],
             [
              0.2222222222222222,
              "#7201a8"
             ],
             [
              0.3333333333333333,
              "#9c179e"
             ],
             [
              0.4444444444444444,
              "#bd3786"
             ],
             [
              0.5555555555555556,
              "#d8576b"
             ],
             [
              0.6666666666666666,
              "#ed7953"
             ],
             [
              0.7777777777777778,
              "#fb9f3a"
             ],
             [
              0.8888888888888888,
              "#fdca26"
             ],
             [
              1,
              "#f0f921"
             ]
            ],
            "type": "histogram2dcontour"
           }
          ],
          "mesh3d": [
           {
            "colorbar": {
             "outlinewidth": 0,
             "ticks": ""
            },
            "type": "mesh3d"
           }
          ],
          "parcoords": [
           {
            "line": {
             "colorbar": {
              "outlinewidth": 0,
              "ticks": ""
             }
            },
            "type": "parcoords"
           }
          ],
          "pie": [
           {
            "automargin": true,
            "type": "pie"
           }
          ],
          "scatter": [
           {
            "fillpattern": {
             "fillmode": "overlay",
             "size": 10,
             "solidity": 0.2
            },
            "type": "scatter"
           }
          ],
          "scatter3d": [
           {
            "line": {
             "colorbar": {
              "outlinewidth": 0,
              "ticks": ""
             }
            },
            "marker": {
             "colorbar": {
              "outlinewidth": 0,
              "ticks": ""
             }
            },
            "type": "scatter3d"
           }
          ],
          "scattercarpet": [
           {
            "marker": {
             "colorbar": {
              "outlinewidth": 0,
              "ticks": ""
             }
            },
            "type": "scattercarpet"
           }
          ],
          "scattergeo": [
           {
            "marker": {
             "colorbar": {
              "outlinewidth": 0,
              "ticks": ""
             }
            },
            "type": "scattergeo"
           }
          ],
          "scattergl": [
           {
            "marker": {
             "colorbar": {
              "outlinewidth": 0,
              "ticks": ""
             }
            },
            "type": "scattergl"
           }
          ],
          "scattermapbox": [
           {
            "marker": {
             "colorbar": {
              "outlinewidth": 0,
              "ticks": ""
             }
            },
            "type": "scattermapbox"
           }
          ],
          "scatterpolar": [
           {
            "marker": {
             "colorbar": {
              "outlinewidth": 0,
              "ticks": ""
             }
            },
            "type": "scatterpolar"
           }
          ],
          "scatterpolargl": [
           {
            "marker": {
             "colorbar": {
              "outlinewidth": 0,
              "ticks": ""
             }
            },
            "type": "scatterpolargl"
           }
          ],
          "scatterternary": [
           {
            "marker": {
             "colorbar": {
              "outlinewidth": 0,
              "ticks": ""
             }
            },
            "type": "scatterternary"
           }
          ],
          "surface": [
           {
            "colorbar": {
             "outlinewidth": 0,
             "ticks": ""
            },
            "colorscale": [
             [
              0,
              "#0d0887"
             ],
             [
              0.1111111111111111,
              "#46039f"
             ],
             [
              0.2222222222222222,
              "#7201a8"
             ],
             [
              0.3333333333333333,
              "#9c179e"
             ],
             [
              0.4444444444444444,
              "#bd3786"
             ],
             [
              0.5555555555555556,
              "#d8576b"
             ],
             [
              0.6666666666666666,
              "#ed7953"
             ],
             [
              0.7777777777777778,
              "#fb9f3a"
             ],
             [
              0.8888888888888888,
              "#fdca26"
             ],
             [
              1,
              "#f0f921"
             ]
            ],
            "type": "surface"
           }
          ],
          "table": [
           {
            "cells": {
             "fill": {
              "color": "#EBF0F8"
             },
             "line": {
              "color": "white"
             }
            },
            "header": {
             "fill": {
              "color": "#C8D4E3"
             },
             "line": {
              "color": "white"
             }
            },
            "type": "table"
           }
          ]
         },
         "layout": {
          "annotationdefaults": {
           "arrowcolor": "#2a3f5f",
           "arrowhead": 0,
           "arrowwidth": 1
          },
          "autotypenumbers": "strict",
          "coloraxis": {
           "colorbar": {
            "outlinewidth": 0,
            "ticks": ""
           }
          },
          "colorscale": {
           "diverging": [
            [
             0,
             "#8e0152"
            ],
            [
             0.1,
             "#c51b7d"
            ],
            [
             0.2,
             "#de77ae"
            ],
            [
             0.3,
             "#f1b6da"
            ],
            [
             0.4,
             "#fde0ef"
            ],
            [
             0.5,
             "#f7f7f7"
            ],
            [
             0.6,
             "#e6f5d0"
            ],
            [
             0.7,
             "#b8e186"
            ],
            [
             0.8,
             "#7fbc41"
            ],
            [
             0.9,
             "#4d9221"
            ],
            [
             1,
             "#276419"
            ]
           ],
           "sequential": [
            [
             0,
             "#0d0887"
            ],
            [
             0.1111111111111111,
             "#46039f"
            ],
            [
             0.2222222222222222,
             "#7201a8"
            ],
            [
             0.3333333333333333,
             "#9c179e"
            ],
            [
             0.4444444444444444,
             "#bd3786"
            ],
            [
             0.5555555555555556,
             "#d8576b"
            ],
            [
             0.6666666666666666,
             "#ed7953"
            ],
            [
             0.7777777777777778,
             "#fb9f3a"
            ],
            [
             0.8888888888888888,
             "#fdca26"
            ],
            [
             1,
             "#f0f921"
            ]
           ],
           "sequentialminus": [
            [
             0,
             "#0d0887"
            ],
            [
             0.1111111111111111,
             "#46039f"
            ],
            [
             0.2222222222222222,
             "#7201a8"
            ],
            [
             0.3333333333333333,
             "#9c179e"
            ],
            [
             0.4444444444444444,
             "#bd3786"
            ],
            [
             0.5555555555555556,
             "#d8576b"
            ],
            [
             0.6666666666666666,
             "#ed7953"
            ],
            [
             0.7777777777777778,
             "#fb9f3a"
            ],
            [
             0.8888888888888888,
             "#fdca26"
            ],
            [
             1,
             "#f0f921"
            ]
           ]
          },
          "colorway": [
           "#636efa",
           "#EF553B",
           "#00cc96",
           "#ab63fa",
           "#FFA15A",
           "#19d3f3",
           "#FF6692",
           "#B6E880",
           "#FF97FF",
           "#FECB52"
          ],
          "font": {
           "color": "#2a3f5f"
          },
          "geo": {
           "bgcolor": "white",
           "lakecolor": "white",
           "landcolor": "#E5ECF6",
           "showlakes": true,
           "showland": true,
           "subunitcolor": "white"
          },
          "hoverlabel": {
           "align": "left"
          },
          "hovermode": "closest",
          "mapbox": {
           "style": "light"
          },
          "paper_bgcolor": "white",
          "plot_bgcolor": "#E5ECF6",
          "polar": {
           "angularaxis": {
            "gridcolor": "white",
            "linecolor": "white",
            "ticks": ""
           },
           "bgcolor": "#E5ECF6",
           "radialaxis": {
            "gridcolor": "white",
            "linecolor": "white",
            "ticks": ""
           }
          },
          "scene": {
           "xaxis": {
            "backgroundcolor": "#E5ECF6",
            "gridcolor": "white",
            "gridwidth": 2,
            "linecolor": "white",
            "showbackground": true,
            "ticks": "",
            "zerolinecolor": "white"
           },
           "yaxis": {
            "backgroundcolor": "#E5ECF6",
            "gridcolor": "white",
            "gridwidth": 2,
            "linecolor": "white",
            "showbackground": true,
            "ticks": "",
            "zerolinecolor": "white"
           },
           "zaxis": {
            "backgroundcolor": "#E5ECF6",
            "gridcolor": "white",
            "gridwidth": 2,
            "linecolor": "white",
            "showbackground": true,
            "ticks": "",
            "zerolinecolor": "white"
           }
          },
          "shapedefaults": {
           "line": {
            "color": "#2a3f5f"
           }
          },
          "ternary": {
           "aaxis": {
            "gridcolor": "white",
            "linecolor": "white",
            "ticks": ""
           },
           "baxis": {
            "gridcolor": "white",
            "linecolor": "white",
            "ticks": ""
           },
           "bgcolor": "#E5ECF6",
           "caxis": {
            "gridcolor": "white",
            "linecolor": "white",
            "ticks": ""
           }
          },
          "title": {
           "x": 0.05
          },
          "xaxis": {
           "automargin": true,
           "gridcolor": "white",
           "linecolor": "white",
           "ticks": "",
           "title": {
            "standoff": 15
           },
           "zerolinecolor": "white",
           "zerolinewidth": 2
          },
          "yaxis": {
           "automargin": true,
           "gridcolor": "white",
           "linecolor": "white",
           "ticks": "",
           "title": {
            "standoff": 15
           },
           "zerolinecolor": "white",
           "zerolinewidth": 2
          }
         }
        },
        "title": {
         "text": "Updating Parameter ETS Predictions, 2024-10-05"
        },
        "xaxis": {
         "autorange": true,
         "range": [
          "2022-02-05",
          "2025-05-17"
         ],
         "title": {
          "text": "Date"
         },
         "type": "date"
        },
        "yaxis": {
         "autorange": true,
         "range": [
          -10450.18684662498,
          57513.16772876974
         ],
         "title": {
          "text": "Count"
         },
         "type": "linear"
        }
       }
      },
      "image/png": "[encoded data removed]",
      "text/html": [
       "<div>                            <div id=\"878c7717-c66a-44ba-b8b8-3f2b7aa149db\" class=\"plotly-graph-div\" style=\"height:525px; width:100%;\"></div>            <script type=\"text/javascript\">                require([\"plotly\"], function(Plotly) {                    window.PLOTLYENV=window.PLOTLYENV || {};                                    if (document.getElementById(\"878c7717-c66a-44ba-b8b8-3f2b7aa149db\")) {                    Plotly.newPlot(                        \"878c7717-c66a-44ba-b8b8-3f2b7aa149db\",                        [{\"mode\":\"lines\",\"name\":\"Real Data\",\"x\":[\"2022-02-05T00:00:00\",\"2022-02-12T00:00:00\",\"2022-02-19T00:00:00\",\"2022-02-26T00:00:00\",\"2022-03-05T00:00:00\",\"2022-03-12T00:00:00\",\"2022-03-19T00:00:00\",\"2022-03-26T00:00:00\",\"2022-04-02T00:00:00\",\"2022-04-09T00:00:00\",\"2022-04-16T00:00:00\",\"2022-04-23T00:00:00\",\"2022-04-30T00:00:00\",\"2022-05-07T00:00:00\",\"2022-05-14T00:00:00\",\"2022-05-21T00:00:00\",\"2022-05-28T00:00:00\",\"2022-06-04T00:00:00\",\"2022-06-11T00:00:00\",\"2022-06-18T00:00:00\",\"2022-06-25T00:00:00\",\"2022-07-02T00:00:00\",\"2022-07-09T00:00:00\",\"2022-07-16T00:00:00\",\"2022-07-23T00:00:00\",\"2022-07-30T00:00:00\",\"2022-08-06T00:00:00\",\"2022-08-13T00:00:00\",\"2022-08-20T00:00:00\",\"2022-08-27T00:00:00\",\"2022-09-03T00:00:00\",\"2022-09-10T00:00:00\",\"2022-09-17T00:00:00\",\"2022-09-24T00:00:00\",\"2022-10-01T00:00:00\",\"2022-10-08T00:00:00\",\"2022-10-15T00:00:00\",\"2022-10-22T00:00:00\",\"2022-10-29T00:00:00\",\"2022-11-05T00:00:00\",\"2022-11-12T00:00:00\",\"2022-11-19T00:00:00\",\"2022-11-26T00:00:00\",\"2022-12-03T00:00:00\",\"2022-12-10T00:00:00\",\"2022-12-17T00:00:00\",\"2022-12-24T00:00:00\",\"2022-12-31T00:00:00\",\"2023-01-07T00:00:00\",\"2023-01-14T00:00:00\",\"2023-01-21T00:00:00\",\"2023-01-28T00:00:00\",\"2023-02-04T00:00:00\",\"2023-02-11T00:00:00\",\"2023-02-18T00:00:00\",\"2023-02-25T00:00:00\",\"2023-03-04T00:00:00\",\"2023-03-11T00:00:00\",\"2023-03-18T00:00:00\",\"2023-03-25T00:00:00\",\"2023-04-01T00:00:00\",\"2023-04-08T00:00:00\",\"2023-04-15T00:00:00\",\"2023-04-22T00:00:00\",\"2023-04-29T00:00:00\",\"2023-05-06T00:00:00\",\"2023-05-13T00:00:00\",\"2023-05-20T00:00:00\",\"2023-05-27T00:00:00\",\"2023-06-03T00:00:00\",\"2023-06-10T00:00:00\",\"2023-06-17T00:00:00\",\"2023-06-24T00:00:00\",\"2023-07-01T00:00:00\",\"2023-07-08T00:00:00\",\"2023-07-15T00:00:00\",\"2023-07-22T00:00:00\",\"2023-07-29T00:00:00\",\"2023-08-05T00:00:00\",\"2023-08-12T00:00:00\",\"2023-08-19T00:00:00\",\"2023-08-26T00:00:00\",\"2023-09-02T00:00:00\",\"2023-09-09T00:00:00\",\"2023-09-16T00:00:00\",\"2023-09-23T00:00:00\",\"2023-09-30T00:00:00\",\"2023-10-07T00:00:00\",\"2023-10-14T00:00:00\",\"2023-10-21T00:00:00\",\"2023-10-28T00:00:00\",\"2023-11-04T00:00:00\",\"2023-11-11T00:00:00\",\"2023-11-18T00:00:00\",\"2023-11-25T00:00:00\",\"2023-12-02T00:00:00\",\"2023-12-09T00:00:00\",\"2023-12-16T00:00:00\",\"2023-12-23T00:00:00\",\"2023-12-30T00:00:00\",\"2024-01-06T00:00:00\",\"2024-01-13T00:00:00\",\"2024-01-20T00:00:00\",\"2024-01-27T00:00:00\",\"2024-02-03T00:00:00\",\"2024-02-10T00:00:00\",\"2024-02-17T00:00:00\",\"2024-02-24T00:00:00\",\"2024-03-02T00:00:00\",\"2024-03-09T00:00:00\",\"2024-03-16T00:00:00\",\"2024-03-23T00:00:00\",\"2024-03-30T00:00:00\",\"2024-04-06T00:00:00\",\"2024-04-13T00:00:00\",\"2024-04-20T00:00:00\",\"2024-04-27T00:00:00\",\"2024-05-04T00:00:00\",\"2024-05-11T00:00:00\",\"2024-05-18T00:00:00\",\"2024-05-25T00:00:00\",\"2024-06-01T00:00:00\",\"2024-06-08T00:00:00\",\"2024-06-15T00:00:00\",\"2024-06-22T00:00:00\",\"2024-06-29T00:00:00\",\"2024-07-06T00:00:00\",\"2024-07-13T00:00:00\",\"2024-07-20T00:00:00\",\"2024-07-27T00:00:00\",\"2024-08-03T00:00:00\",\"2024-08-10T00:00:00\",\"2024-08-17T00:00:00\",\"2024-08-24T00:00:00\",\"2024-08-31T00:00:00\",\"2024-09-07T00:00:00\",\"2024-09-14T00:00:00\",\"2024-09-21T00:00:00\",\"2024-09-28T00:00:00\",\"2024-10-05T00:00:00\",\"2024-10-12T00:00:00\",\"2024-10-19T00:00:00\",\"2024-10-26T00:00:00\",\"2024-11-02T00:00:00\",\"2024-11-09T00:00:00\",\"2024-11-16T00:00:00\",\"2024-11-23T00:00:00\",\"2024-11-30T00:00:00\",\"2024-12-07T00:00:00\",\"2024-12-14T00:00:00\",\"2024-12-21T00:00:00\",\"2024-12-28T00:00:00\",\"2025-01-04T00:00:00\",\"2025-01-11T00:00:00\",\"2025-01-18T00:00:00\",\"2025-01-25T00:00:00\",\"2025-02-01T00:00:00\",\"2025-02-08T00:00:00\",\"2025-02-15T00:00:00\",\"2025-02-22T00:00:00\",\"2025-03-01T00:00:00\",\"2025-03-08T00:00:00\",\"2025-03-15T00:00:00\",\"2025-03-22T00:00:00\",\"2025-03-29T00:00:00\",\"2025-04-05T00:00:00\",\"2025-04-12T00:00:00\",\"2025-04-19T00:00:00\",\"2025-04-26T00:00:00\",\"2025-05-03T00:00:00\",\"2025-05-10T00:00:00\",\"2025-05-17T00:00:00\"],\"y\":[1091.0,1162.0,1491.0,1603.0,1791.0,2094.0,2622.0,2917.0,3000.0,3135.0,3297.0,3468.0,3179.0,3172.0,3117.0,3130.0,2737.0,2676.0,2202.0,1775.0,1366.0,1073.0,776.0,766.0,627.0,522.0,486.0,490.0,483.0,483.0,545.0,576.0,665.0,796.0,921.0,1306.0,1670.0,2273.0,4181.0,6401.0,8589.0,10969.0,18173.0,26829.0,24035.0,21607.0,19624.0,19474.0,14074.0,7183.0,4488.0,3091.0,2594.0,2176.0,1908.0,1647.0,1501.0,1372.0,1415.0,1330.0,1295.0,1198.0,1077.0,980.0,903.0,994.0,978.0,1116.0,974.0,939.0,935.0,873.0,813.0,836.0,699.0,736.0,645.0,769.0,690.0,705.0,738.0,792.0,875.0,803.0,821.0,881.0,1026.0,1108.0,1214.0,1469.0,1614.0,2012.0,2775.0,3491.0,4386.0,5954.0,7495.0,10269.0,15717.0,21682.0,19548.0,15902.0,13302.0,13025.0,11963.0,11629.0,11126.0,10869.0,10814.0,9416.0,7324.0,6049.0,5574.0,5071.0,4073.0,2943.0,2420.0,1485.0,852.0,681.0,610.0,590.0,511.0,517.0,441.0,356.0,341.0,367.0,324.0,273.0,275.0,275.0,273.0,274.0,259.0,223.0,319.0,293.0,223.0,286.0,288.0,552.0,1079.0,975.0,2076.0,2529.0,3089.0,4278.0,6286.0,9152.0,15399.0,27651.0,38672.0,30698.0,32963.0,40566.0,51141.0,54115.0,46036.0,37647.0,30753.0,23970.0,18369.0,13620.0,9664.0,6683.0,4863.0,3818.0,3213.0,2434.0,2078.0,1636.0],\"type\":\"scatter\"},{\"line\":{\"color\":\"#414487\"},\"mode\":\"lines\",\"name\":\"AutoETS-hi-80\",\"x\":[\"2024-10-12T00:00:00\",\"2024-10-19T00:00:00\",\"2024-10-26T00:00:00\",\"2024-11-02T00:00:00\"],\"y\":[2262.3466753958683,3314.554564299661,4243.916467038663,5105.669540089057],\"type\":\"scatter\"},{\"line\":{\"color\":\"#1e9c89\"},\"mode\":\"lines\",\"name\":\"AutoETS-hi-95\",\"x\":[\"2024-10-12T00:00:00\",\"2024-10-19T00:00:00\",\"2024-10-26T00:00:00\",\"2024-11-02T00:00:00\"],\"y\":[3306.5546687512287,4913.757173924716,6333.485043586563,7650.135807299832],\"type\":\"scatter\"},{\"fill\":\"tonexty\",\"fillcolor\":\"#1e9c89\",\"line\":{\"color\":\"#1e9c89\"},\"mode\":\"lines\",\"name\":\"AutoETS-lo-95\",\"x\":[\"2024-10-12T00:00:00\",\"2024-10-19T00:00:00\",\"2024-10-26T00:00:00\",\"2024-11-02T00:00:00\"],\"y\":[-2726.973026322,-4326.579326662197,-5740.2301142957585,-7052.019117855243],\"type\":\"scatter\"},{\"fill\":\"tonexty\",\"fillcolor\":\"#414487\",\"line\":{\"color\":\"#414487\"},\"mode\":\"lines\",\"name\":\"AutoETS-lo-80\",\"x\":[\"2024-10-12T00:00:00\",\"2024-10-19T00:00:00\",\"2024-10-26T00:00:00\",\"2024-11-02T00:00:00\"],\"y\":[-1682.7650329666394,-2727.3767170371407,-3650.661537747859,-4507.552850644468],\"type\":\"scatter\"},{\"line\":{\"color\":\"#2c728e\"},\"mode\":\"lines\",\"name\":\"AutoETS\",\"x\":[\"2024-10-12T00:00:00\",\"2024-10-19T00:00:00\",\"2024-10-26T00:00:00\",\"2024-11-02T00:00:00\"],\"y\":[289.79082121461437,293.5889236312599,296.6274646454018,299.0583447222948],\"type\":\"scatter\"}],                        {\"template\":{\"data\":{\"histogram2dcontour\":[{\"type\":\"histogram2dcontour\",\"colorbar\":{\"outlinewidth\":0,\"ticks\":\"\"},\"colorscale\":[[0.0,\"#0d0887\"],[0.1111111111111111,\"#46039f\"],[0.2222222222222222,\"#7201a8\"],[0.3333333333333333,\"#9c179e\"],[0.4444444444444444,\"#bd3786\"],[0.5555555555555556,\"#d8576b\"],[0.6666666666666666,\"#ed7953\"],[0.7777777777777778,\"#fb9f3a\"],[0.8888888888888888,\"#fdca26\"],[1.0,\"#f0f921\"]]}],\"choropleth\":[{\"type\":\"choropleth\",\"colorbar\":{\"outlinewidth\":0,\"ticks\":\"\"}}],\"histogram2d\":[{\"type\":\"histogram2d\",\"colorbar\":{\"outlinewidth\":0,\"ticks\":\"\"},\"colorscale\":[[0.0,\"#0d0887\"],[0.1111111111111111,\"#46039f\"],[0.2222222222222222,\"#7201a8\"],[0.3333333333333333,\"#9c179e\"],[0.4444444444444444,\"#bd3786\"],[0.5555555555555556,\"#d8576b\"],[0.6666666666666666,\"#ed7953\"],[0.7777777777777778,\"#fb9f3a\"],[0.8888888888888888,\"#fdca26\"],[1.0,\"#f0f921\"]]}],\"heatmap\":[{\"type\":\"heatmap\",\"colorbar\":{\"outlinewidth\":0,\"ticks\":\"\"},\"colorscale\":[[0.0,\"#0d0887\"],[0.1111111111111111,\"#46039f\"],[0.2222222222222222,\"#7201a8\"],[0.3333333333333333,\"#9c179e\"],[0.4444444444444444,\"#bd3786\"],[0.5555555555555556,\"#d8576b\"],[0.6666666666666666,\"#ed7953\"],[0.7777777777777778,\"#fb9f3a\"],[0.8888888888888888,\"#fdca26\"],[1.0,\"#f0f921\"]]}],\"heatmapgl\":[{\"type\":\"heatmapgl\",\"colorbar\":{\"outlinewidth\":0,\"ticks\":\"\"},\"colorscale\":[[0.0,\"#0d0887\"],[0.1111111111111111,\"#46039f\"],[0.2222222222222222,\"#7201a8\"],[0.3333333333333333,\"#9c179e\"],[0.4444444444444444,\"#bd3786\"],[0.5555555555555556,\"#d8576b\"],[0.6666666666666666,\"#ed7953\"],[0.7777777777777778,\"#fb9f3a\"],[0.8888888888888888,\"#fdca26\"],[1.0,\"#f0f921\"]]}],\"contourcarpet\":[{\"type\":\"contourcarpet\",\"colorbar\":{\"outlinewidth\":0,\"ticks\":\"\"}}],\"contour\":[{\"type\":\"contour\",\"colorbar\":{\"outlinewidth\":0,\"ticks\":\"\"},\"colorscale\":[[0.0,\"#0d0887\"],[0.1111111111111111,\"#46039f\"],[0.2222222222222222,\"#7201a8\"],[0.3333333333333333,\"#9c179e\"],[0.4444444444444444,\"#bd3786\"],[0.5555555555555556,\"#d8576b\"],[0.6666666666666666,\"#ed7953\"],[0.7777777777777778,\"#fb9f3a\"],[0.8888888888888888,\"#fdca26\"],[1.0,\"#f0f921\"]]}],\"surface\":[{\"type\":\"surface\",\"colorbar\":{\"outlinewidth\":0,\"ticks\":\"\"},\"colorscale\":[[0.0,\"#0d0887\"],[0.1111111111111111,\"#46039f\"],[0.2222222222222222,\"#7201a8\"],[0.3333333333333333,\"#9c179e\"],[0.4444444444444444,\"#bd3786\"],[0.5555555555555556,\"#d8576b\"],[0.6666666666666666,\"#ed7953\"],[0.7777777777777778,\"#fb9f3a\"],[0.8888888888888888,\"#fdca26\"],[1.0,\"#f0f921\"]]}],\"mesh3d\":[{\"type\":\"mesh3d\",\"colorbar\":{\"outlinewidth\":0,\"ticks\":\"\"}}],\"scatter\":[{\"fillpattern\":{\"fillmode\":\"overlay\",\"size\":10,\"solidity\":0.2},\"type\":\"scatter\"}],\"parcoords\":[{\"type\":\"parcoords\",\"line\":{\"colorbar\":{\"outlinewidth\":0,\"ticks\":\"\"}}}],\"scatterpolargl\":[{\"type\":\"scatterpolargl\",\"marker\":{\"colorbar\":{\"outlinewidth\":0,\"ticks\":\"\"}}}],\"bar\":[{\"error_x\":{\"color\":\"#2a3f5f\"},\"error_y\":{\"color\":\"#2a3f5f\"},\"marker\":{\"line\":{\"color\":\"#E5ECF6\",\"width\":0.5},\"pattern\":{\"fillmode\":\"overlay\",\"size\":10,\"solidity\":0.2}},\"type\":\"bar\"}],\"scattergeo\":[{\"type\":\"scattergeo\",\"marker\":{\"colorbar\":{\"outlinewidth\":0,\"ticks\":\"\"}}}],\"scatterpolar\":[{\"type\":\"scatterpolar\",\"marker\":{\"colorbar\":{\"outlinewidth\":0,\"ticks\":\"\"}}}],\"histogram\":[{\"marker\":{\"pattern\":{\"fillmode\":\"overlay\",\"size\":10,\"solidity\":0.2}},\"type\":\"histogram\"}],\"scattergl\":[{\"type\":\"scattergl\",\"marker\":{\"colorbar\":{\"outlinewidth\":0,\"ticks\":\"\"}}}],\"scatter3d\":[{\"type\":\"scatter3d\",\"line\":{\"colorbar\":{\"outlinewidth\":0,\"ticks\":\"\"}},\"marker\":{\"colorbar\":{\"outlinewidth\":0,\"ticks\":\"\"}}}],\"scattermapbox\":[{\"type\":\"scattermapbox\",\"marker\":{\"colorbar\":{\"outlinewidth\":0,\"ticks\":\"\"}}}],\"scatterternary\":[{\"type\":\"scatterternary\",\"marker\":{\"colorbar\":{\"outlinewidth\":0,\"ticks\":\"\"}}}],\"scattercarpet\":[{\"type\":\"scattercarpet\",\"marker\":{\"colorbar\":{\"outlinewidth\":0,\"ticks\":\"\"}}}],\"carpet\":[{\"aaxis\":{\"endlinecolor\":\"#2a3f5f\",\"gridcolor\":\"white\",\"linecolor\":\"white\",\"minorgridcolor\":\"white\",\"startlinecolor\":\"#2a3f5f\"},\"baxis\":{\"endlinecolor\":\"#2a3f5f\",\"gridcolor\":\"white\",\"linecolor\":\"white\",\"minorgridcolor\":\"white\",\"startlinecolor\":\"#2a3f5f\"},\"type\":\"carpet\"}],\"table\":[{\"cells\":{\"fill\":{\"color\":\"#EBF0F8\"},\"line\":{\"color\":\"white\"}},\"header\":{\"fill\":{\"color\":\"#C8D4E3\"},\"line\":{\"color\":\"white\"}},\"type\":\"table\"}],\"barpolar\":[{\"marker\":{\"line\":{\"color\":\"#E5ECF6\",\"width\":0.5},\"pattern\":{\"fillmode\":\"overlay\",\"size\":10,\"solidity\":0.2}},\"type\":\"barpolar\"}],\"pie\":[{\"automargin\":true,\"type\":\"pie\"}]},\"layout\":{\"autotypenumbers\":\"strict\",\"colorway\":[\"#636efa\",\"#EF553B\",\"#00cc96\",\"#ab63fa\",\"#FFA15A\",\"#19d3f3\",\"#FF6692\",\"#B6E880\",\"#FF97FF\",\"#FECB52\"],\"font\":{\"color\":\"#2a3f5f\"},\"hovermode\":\"closest\",\"hoverlabel\":{\"align\":\"left\"},\"paper_bgcolor\":\"white\",\"plot_bgcolor\":\"#E5ECF6\",\"polar\":{\"bgcolor\":\"#E5ECF6\",\"angularaxis\":{\"gridcolor\":\"white\",\"linecolor\":\"white\",\"ticks\":\"\"},\"radialaxis\":{\"gridcolor\":\"white\",\"linecolor\":\"white\",\"ticks\":\"\"}},\"ternary\":{\"bgcolor\":\"#E5ECF6\",\"aaxis\":{\"gridcolor\":\"white\",\"linecolor\":\"white\",\"ticks\":\"\"},\"baxis\":{\"gridcolor\":\"white\",\"linecolor\":\"white\",\"ticks\":\"\"},\"caxis\":{\"gridcolor\":\"white\",\"linecolor\":\"white\",\"ticks\":\"\"}},\"coloraxis\":{\"colorbar\":{\"outlinewidth\":0,\"ticks\":\"\"}},\"colorscale\":{\"sequential\":[[0.0,\"#0d0887\"],[0.1111111111111111,\"#46039f\"],[0.2222222222222222,\"#7201a8\"],[0.3333333333333333,\"#9c179e\"],[0.4444444444444444,\"#bd3786\"],[0.5555555555555556,\"#d8576b\"],[0.6666666666666666,\"#ed7953\"],[0.7777777777777778,\"#fb9f3a\"],[0.8888888888888888,\"#fdca26\"],[1.0,\"#f0f921\"]],\"sequentialminus\":[[0.0,\"#0d0887\"],[0.1111111111111111,\"#46039f\"],[0.2222222222222222,\"#7201a8\"],[0.3333333333333333,\"#9c179e\"],[0.4444444444444444,\"#bd3786\"],[0.5555555555555556,\"#d8576b\"],[0.6666666666666666,\"#ed7953\"],[0.7777777777777778,\"#fb9f3a\"],[0.8888888888888888,\"#fdca26\"],[1.0,\"#f0f921\"]],\"diverging\":[[0,\"#8e0152\"],[0.1,\"#c51b7d\"],[0.2,\"#de77ae\"],[0.3,\"#f1b6da\"],[0.4,\"#fde0ef\"],[0.5,\"#f7f7f7\"],[0.6,\"#e6f5d0\"],[0.7,\"#b8e186\"],[0.8,\"#7fbc41\"],[0.9,\"#4d9221\"],[1,\"#276419\"]]},\"xaxis\":{\"gridcolor\":\"white\",\"linecolor\":\"white\",\"ticks\":\"\",\"title\":{\"standoff\":15},\"zerolinecolor\":\"white\",\"automargin\":true,\"zerolinewidth\":2},\"yaxis\":{\"gridcolor\":\"white\",\"linecolor\":\"white\",\"ticks\":\"\",\"title\":{\"standoff\":15},\"zerolinecolor\":\"white\",\"automargin\":true,\"zerolinewidth\":2},\"scene\":{\"xaxis\":{\"backgroundcolor\":\"#E5ECF6\",\"gridcolor\":\"white\",\"linecolor\":\"white\",\"showbackground\":true,\"ticks\":\"\",\"zerolinecolor\":\"white\",\"gridwidth\":2},\"yaxis\":{\"backgroundcolor\":\"#E5ECF6\",\"gridcolor\":\"white\",\"linecolor\":\"white\",\"showbackground\":true,\"ticks\":\"\",\"zerolinecolor\":\"white\",\"gridwidth\":2},\"zaxis\":{\"backgroundcolor\":\"#E5ECF6\",\"gridcolor\":\"white\",\"linecolor\":\"white\",\"showbackground\":true,\"ticks\":\"\",\"zerolinecolor\":\"white\",\"gridwidth\":2}},\"shapedefaults\":{\"line\":{\"color\":\"#2a3f5f\"}},\"annotationdefaults\":{\"arrowcolor\":\"#2a3f5f\",\"arrowhead\":0,\"arrowwidth\":1},\"geo\":{\"bgcolor\":\"white\",\"landcolor\":\"#E5ECF6\",\"subunitcolor\":\"white\",\"showland\":true,\"showlakes\":true,\"lakecolor\":\"white\"},\"title\":{\"x\":0.05},\"mapbox\":{\"style\":\"light\"}}},\"title\":{\"text\":\"Updating Parameter ETS Predictions, 2024-10-05\"},\"xaxis\":{\"title\":{\"text\":\"Date\"}},\"yaxis\":{\"title\":{\"text\":\"Count\"}},\"hovermode\":\"x\"},                        {\"responsive\": true}                    ).then(function(){\n",
       "                            \n",
       "var gd = document.getElementById('878c7717-c66a-44ba-b8b8-3f2b7aa149db');\n",
       "var x = new MutationObserver(function (mutations, observer) {{\n",
       "        var display = window.getComputedStyle(gd).display;\n",
       "        if (!display || display === 'none') {{\n",
       "            console.log([gd, 'removed!']);\n",
       "            Plotly.purge(gd);\n",
       "            observer.disconnect();\n",
       "        }}\n",
       "}});\n",
       "\n",
       "// Listen for the removal of the full notebook cells\n",
       "var notebookContainer = gd.closest('#notebook-container');\n",
       "if (notebookContainer) {{\n",
       "    x.observe(notebookContainer, {childList: true});\n",
       "}}\n",
       "\n",
       "// Listen for the clearing of the current output cell\n",
       "var outputEl = gd.closest('.output');\n",
       "if (outputEl) {{\n",
       "    x.observe(outputEl, {childList: true});\n",
       "}}\n",
       "\n",
       "                        })                };                });            </script>        </div>"
      ]
     },
     "metadata": {},
     "output_type": "display_data"
    },
    {
     "data": {
      "application/vnd.plotly.v1+json": {
       "config": {
        "plotlyServerURL": "https://plot.ly"
       },
       "data": [
        {
         "mode": "lines",
         "name": "Real Data",
         "type": "scatter",
         "x": [
          "2022-02-05T00:00:00",
          "2022-02-12T00:00:00",
          "2022-02-19T00:00:00",
          "2022-02-26T00:00:00",
          "2022-03-05T00:00:00",
          "2022-03-12T00:00:00",
          "2022-03-19T00:00:00",
          "2022-03-26T00:00:00",
          "2022-04-02T00:00:00",
          "2022-04-09T00:00:00",
          "2022-04-16T00:00:00",
          "2022-04-23T00:00:00",
          "2022-04-30T00:00:00",
          "2022-05-07T00:00:00",
          "2022-05-14T00:00:00",
          "2022-05-21T00:00:00",
          "2022-05-28T00:00:00",
          "2022-06-04T00:00:00",
          "2022-06-11T00:00:00",
          "2022-06-18T00:00:00",
          "2022-06-25T00:00:00",
          "2022-07-02T00:00:00",
          "2022-07-09T00:00:00",
          "2022-07-16T00:00:00",
          "2022-07-23T00:00:00",
          "2022-07-30T00:00:00",
          "2022-08-06T00:00:00",
          "2022-08-13T00:00:00",
          "2022-08-20T00:00:00",
          "2022-08-27T00:00:00",
          "2022-09-03T00:00:00",
          "2022-09-10T00:00:00",
          "2022-09-17T00:00:00",
          "2022-09-24T00:00:00",
          "2022-10-01T00:00:00",
          "2022-10-08T00:00:00",
          "2022-10-15T00:00:00",
          "2022-10-22T00:00:00",
          "2022-10-29T00:00:00",
          "2022-11-05T00:00:00",
          "2022-11-12T00:00:00",
          "2022-11-19T00:00:00",
          "2022-11-26T00:00:00",
          "2022-12-03T00:00:00",
          "2022-12-10T00:00:00",
          "2022-12-17T00:00:00",
          "2022-12-24T00:00:00",
          "2022-12-31T00:00:00",
          "2023-01-07T00:00:00",
          "2023-01-14T00:00:00",
          "2023-01-21T00:00:00",
          "2023-01-28T00:00:00",
          "2023-02-04T00:00:00",
          "2023-02-11T00:00:00",
          "2023-02-18T00:00:00",
          "2023-02-25T00:00:00",
          "2023-03-04T00:00:00",
          "2023-03-11T00:00:00",
          "2023-03-18T00:00:00",
          "2023-03-25T00:00:00",
          "2023-04-01T00:00:00",
          "2023-04-08T00:00:00",
          "2023-04-15T00:00:00",
          "2023-04-22T00:00:00",
          "2023-04-29T00:00:00",
          "2023-05-06T00:00:00",
          "2023-05-13T00:00:00",
          "2023-05-20T00:00:00",
          "2023-05-27T00:00:00",
          "2023-06-03T00:00:00",
          "2023-06-10T00:00:00",
          "2023-06-17T00:00:00",
          "2023-06-24T00:00:00",
          "2023-07-01T00:00:00",
          "2023-07-08T00:00:00",
          "2023-07-15T00:00:00",
          "2023-07-22T00:00:00",
          "2023-07-29T00:00:00",
          "2023-08-05T00:00:00",
          "2023-08-12T00:00:00",
          "2023-08-19T00:00:00",
          "2023-08-26T00:00:00",
          "2023-09-02T00:00:00",
          "2023-09-09T00:00:00",
          "2023-09-16T00:00:00",
          "2023-09-23T00:00:00",
          "2023-09-30T00:00:00",
          "2023-10-07T00:00:00",
          "2023-10-14T00:00:00",
          "2023-10-21T00:00:00",
          "2023-10-28T00:00:00",
          "2023-11-04T00:00:00",
          "2023-11-11T00:00:00",
          "2023-11-18T00:00:00",
          "2023-11-25T00:00:00",
          "2023-12-02T00:00:00",
          "2023-12-09T00:00:00",
          "2023-12-16T00:00:00",
          "2023-12-23T00:00:00",
          "2023-12-30T00:00:00",
          "2024-01-06T00:00:00",
          "2024-01-13T00:00:00",
          "2024-01-20T00:00:00",
          "2024-01-27T00:00:00",
          "2024-02-03T00:00:00",
          "2024-02-10T00:00:00",
          "2024-02-17T00:00:00",
          "2024-02-24T00:00:00",
          "2024-03-02T00:00:00",
          "2024-03-09T00:00:00",
          "2024-03-16T00:00:00",
          "2024-03-23T00:00:00",
          "2024-03-30T00:00:00",
          "2024-04-06T00:00:00",
          "2024-04-13T00:00:00",
          "2024-04-20T00:00:00",
          "2024-04-27T00:00:00",
          "2024-05-04T00:00:00",
          "2024-05-11T00:00:00",
          "2024-05-18T00:00:00",
          "2024-05-25T00:00:00",
          "2024-06-01T00:00:00",
          "2024-06-08T00:00:00",
          "2024-06-15T00:00:00",
          "2024-06-22T00:00:00",
          "2024-06-29T00:00:00",
          "2024-07-06T00:00:00",
          "2024-07-13T00:00:00",
          "2024-07-20T00:00:00",
          "2024-07-27T00:00:00",
          "2024-08-03T00:00:00",
          "2024-08-10T00:00:00",
          "2024-08-17T00:00:00",
          "2024-08-24T00:00:00",
          "2024-08-31T00:00:00",
          "2024-09-07T00:00:00",
          "2024-09-14T00:00:00",
          "2024-09-21T00:00:00",
          "2024-09-28T00:00:00",
          "2024-10-05T00:00:00",
          "2024-10-12T00:00:00",
          "2024-10-19T00:00:00",
          "2024-10-26T00:00:00",
          "2024-11-02T00:00:00",
          "2024-11-09T00:00:00",
          "2024-11-16T00:00:00",
          "2024-11-23T00:00:00",
          "2024-11-30T00:00:00",
          "2024-12-07T00:00:00",
          "2024-12-14T00:00:00",
          "2024-12-21T00:00:00",
          "2024-12-28T00:00:00",
          "2025-01-04T00:00:00",
          "2025-01-11T00:00:00",
          "2025-01-18T00:00:00",
          "2025-01-25T00:00:00",
          "2025-02-01T00:00:00",
          "2025-02-08T00:00:00",
          "2025-02-15T00:00:00",
          "2025-02-22T00:00:00",
          "2025-03-01T00:00:00",
          "2025-03-08T00:00:00",
          "2025-03-15T00:00:00",
          "2025-03-22T00:00:00",
          "2025-03-29T00:00:00",
          "2025-04-05T00:00:00",
          "2025-04-12T00:00:00",
          "2025-04-19T00:00:00",
          "2025-04-26T00:00:00",
          "2025-05-03T00:00:00",
          "2025-05-10T00:00:00",
          "2025-05-17T00:00:00"
         ],
         "y": [
          1091,
          1162,
          1491,
          1603,
          1791,
          2094,
          2622,
          2917,
          3000,
          3135,
          3297,
          3468,
          3179,
          3172,
          3117,
          3130,
          2737,
          2676,
          2202,
          1775,
          1366,
          1073,
          776,
          766,
          627,
          522,
          486,
          490,
          483,
          483,
          545,
          576,
          665,
          796,
          921,
          1306,
          1670,
          2273,
          4181,
          6401,
          8589,
          10969,
          18173,
          26829,
          24035,
          21607,
          19624,
          19474,
          14074,
          7183,
          4488,
          3091,
          2594,
          2176,
          1908,
          1647,
          1501,
          1372,
          1415,
          1330,
          1295,
          1198,
          1077,
          980,
          903,
          994,
          978,
          1116,
          974,
          939,
          935,
          873,
          813,
          836,
          699,
          736,
          645,
          769,
          690,
          705,
          738,
          792,
          875,
          803,
          821,
          881,
          1026,
          1108,
          1214,
          1469,
          1614,
          2012,
          2775,
          3491,
          4386,
          5954,
          7495,
          10269,
          15717,
          21682,
          19548,
          15902,
          13302,
          13025,
          11963,
          11629,
          11126,
          10869,
          10814,
          9416,
          7324,
          6049,
          5574,
          5071,
          4073,
          2943,
          2420,
          1485,
          852,
          681,
          610,
          590,
          511,
          517,
          441,
          356,
          341,
          367,
          324,
          273,
          275,
          275,
          273,
          274,
          259,
          223,
          319,
          293,
          223,
          286,
          288,
          552,
          1079,
          975,
          2076,
          2529,
          3089,
          4278,
          6286,
          9152,
          15399,
          27651,
          38672,
          30698,
          32963,
          40566,
          51141,
          54115,
          46036,
          37647,
          30753,
          23970,
          18369,
          13620,
          9664,
          6683,
          4863,
          3818,
          3213,
          2434,
          2078,
          1636
         ]
        },
        {
         "line": {
          "color": "#414487"
         },
         "mode": "lines",
         "name": "AutoETS-hi-80",
         "type": "scatter",
         "x": [
          "2024-10-26T00:00:00",
          "2024-11-02T00:00:00",
          "2024-11-09T00:00:00",
          "2024-11-16T00:00:00"
         ],
         "y": [
          2554.090320187914,
          3638.83242501515,
          4593.5804653330915,
          5474.7763670548675
         ]
        },
        {
         "line": {
          "color": "#1e9c89"
         },
         "mode": "lines",
         "name": "AutoETS-hi-95",
         "type": "scatter",
         "x": [
          "2024-10-26T00:00:00",
          "2024-11-02T00:00:00",
          "2024-11-09T00:00:00",
          "2024-11-16T00:00:00"
         ],
         "y": [
          3590.64682610361,
          5226.316795784644,
          6667.837621340723,
          8000.597927647707
         ]
        },
        {
         "fill": "tonexty",
         "fillcolor": "#1e9c89",
         "line": {
          "color": "#1e9c89"
         },
         "mode": "lines",
         "name": "AutoETS-lo-95",
         "type": "scatter",
         "x": [
          "2024-10-26T00:00:00",
          "2024-11-02T00:00:00",
          "2024-11-09T00:00:00",
          "2024-11-16T00:00:00"
         ],
         "y": [
          -2398.6698864168247,
          -3946.3106668305063,
          -5317.406771647551,
          -6593.826205881886
         ]
        },
        {
         "fill": "tonexty",
         "fillcolor": "#414487",
         "line": {
          "color": "#414487"
         },
         "mode": "lines",
         "name": "AutoETS-lo-80",
         "type": "scatter",
         "x": [
          "2024-10-26T00:00:00",
          "2024-11-02T00:00:00",
          "2024-11-09T00:00:00",
          "2024-11-16T00:00:00"
         ],
         "y": [
          -1362.113380501129,
          -2358.8262960610127,
          -3243.1496156399207,
          -4068.0046452890465
         ]
        },
        {
         "line": {
          "color": "#2c728e"
         },
         "mode": "lines",
         "name": "AutoETS",
         "type": "scatter",
         "x": [
          "2024-10-26T00:00:00",
          "2024-11-02T00:00:00",
          "2024-11-09T00:00:00",
          "2024-11-16T00:00:00"
         ],
         "y": [
          595.9884698433926,
          640.0030644770684,
          675.2154248465855,
          703.3858608829107
         ]
        }
       ],
       "layout": {
        "autosize": true,
        "hovermode": "x",
        "template": {
         "data": {
          "bar": [
           {
            "error_x": {
             "color": "#2a3f5f"
            },
            "error_y": {
             "color": "#2a3f5f"
            },
            "marker": {
             "line": {
              "color": "#E5ECF6",
              "width": 0.5
             },
             "pattern": {
              "fillmode": "overlay",
              "size": 10,
              "solidity": 0.2
             }
            },
            "type": "bar"
           }
          ],
          "barpolar": [
           {
            "marker": {
             "line": {
              "color": "#E5ECF6",
              "width": 0.5
             },
             "pattern": {
              "fillmode": "overlay",
              "size": 10,
              "solidity": 0.2
             }
            },
            "type": "barpolar"
           }
          ],
          "carpet": [
           {
            "aaxis": {
             "endlinecolor": "#2a3f5f",
             "gridcolor": "white",
             "linecolor": "white",
             "minorgridcolor": "white",
             "startlinecolor": "#2a3f5f"
            },
            "baxis": {
             "endlinecolor": "#2a3f5f",
             "gridcolor": "white",
             "linecolor": "white",
             "minorgridcolor": "white",
             "startlinecolor": "#2a3f5f"
            },
            "type": "carpet"
           }
          ],
          "choropleth": [
           {
            "colorbar": {
             "outlinewidth": 0,
             "ticks": ""
            },
            "type": "choropleth"
           }
          ],
          "contour": [
           {
            "colorbar": {
             "outlinewidth": 0,
             "ticks": ""
            },
            "colorscale": [
             [
              0,
              "#0d0887"
             ],
             [
              0.1111111111111111,
              "#46039f"
             ],
             [
              0.2222222222222222,
              "#7201a8"
             ],
             [
              0.3333333333333333,
              "#9c179e"
             ],
             [
              0.4444444444444444,
              "#bd3786"
             ],
             [
              0.5555555555555556,
              "#d8576b"
             ],
             [
              0.6666666666666666,
              "#ed7953"
             ],
             [
              0.7777777777777778,
              "#fb9f3a"
             ],
             [
              0.8888888888888888,
              "#fdca26"
             ],
             [
              1,
              "#f0f921"
             ]
            ],
            "type": "contour"
           }
          ],
          "contourcarpet": [
           {
            "colorbar": {
             "outlinewidth": 0,
             "ticks": ""
            },
            "type": "contourcarpet"
           }
          ],
          "heatmap": [
           {
            "colorbar": {
             "outlinewidth": 0,
             "ticks": ""
            },
            "colorscale": [
             [
              0,
              "#0d0887"
             ],
             [
              0.1111111111111111,
              "#46039f"
             ],
             [
              0.2222222222222222,
              "#7201a8"
             ],
             [
              0.3333333333333333,
              "#9c179e"
             ],
             [
              0.4444444444444444,
              "#bd3786"
             ],
             [
              0.5555555555555556,
              "#d8576b"
             ],
             [
              0.6666666666666666,
              "#ed7953"
             ],
             [
              0.7777777777777778,
              "#fb9f3a"
             ],
             [
              0.8888888888888888,
              "#fdca26"
             ],
             [
              1,
              "#f0f921"
             ]
            ],
            "type": "heatmap"
           }
          ],
          "heatmapgl": [
           {
            "colorbar": {
             "outlinewidth": 0,
             "ticks": ""
            },
            "colorscale": [
             [
              0,
              "#0d0887"
             ],
             [
              0.1111111111111111,
              "#46039f"
             ],
             [
              0.2222222222222222,
              "#7201a8"
             ],
             [
              0.3333333333333333,
              "#9c179e"
             ],
             [
              0.4444444444444444,
              "#bd3786"
             ],
             [
              0.5555555555555556,
              "#d8576b"
             ],
             [
              0.6666666666666666,
              "#ed7953"
             ],
             [
              0.7777777777777778,
              "#fb9f3a"
             ],
             [
              0.8888888888888888,
              "#fdca26"
             ],
             [
              1,
              "#f0f921"
             ]
            ],
            "type": "heatmapgl"
           }
          ],
          "histogram": [
           {
            "marker": {
             "pattern": {
              "fillmode": "overlay",
              "size": 10,
              "solidity": 0.2
             }
            },
            "type": "histogram"
           }
          ],
          "histogram2d": [
           {
            "colorbar": {
             "outlinewidth": 0,
             "ticks": ""
            },
            "colorscale": [
             [
              0,
              "#0d0887"
             ],
             [
              0.1111111111111111,
              "#46039f"
             ],
             [
              0.2222222222222222,
              "#7201a8"
             ],
             [
              0.3333333333333333,
              "#9c179e"
             ],
             [
              0.4444444444444444,
              "#bd3786"
             ],
             [
              0.5555555555555556,
              "#d8576b"
             ],
             [
              0.6666666666666666,
              "#ed7953"
             ],
             [
              0.7777777777777778,
              "#fb9f3a"
             ],
             [
              0.8888888888888888,
              "#fdca26"
             ],
             [
              1,
              "#f0f921"
             ]
            ],
            "type": "histogram2d"
           }
          ],
          "histogram2dcontour": [
           {
            "colorbar": {
             "outlinewidth": 0,
             "ticks": ""
            },
            "colorscale": [
             [
              0,
              "#0d0887"
             ],
             [
              0.1111111111111111,
              "#46039f"
             ],
             [
              0.2222222222222222,
              "#7201a8"
             ],
             [
              0.3333333333333333,
              "#9c179e"
             ],
             [
              0.4444444444444444,
              "#bd3786"
             ],
             [
              0.5555555555555556,
              "#d8576b"
             ],
             [
              0.6666666666666666,
              "#ed7953"
             ],
             [
              0.7777777777777778,
              "#fb9f3a"
             ],
             [
              0.8888888888888888,
              "#fdca26"
             ],
             [
              1,
              "#f0f921"
             ]
            ],
            "type": "histogram2dcontour"
           }
          ],
          "mesh3d": [
           {
            "colorbar": {
             "outlinewidth": 0,
             "ticks": ""
            },
            "type": "mesh3d"
           }
          ],
          "parcoords": [
           {
            "line": {
             "colorbar": {
              "outlinewidth": 0,
              "ticks": ""
             }
            },
            "type": "parcoords"
           }
          ],
          "pie": [
           {
            "automargin": true,
            "type": "pie"
           }
          ],
          "scatter": [
           {
            "fillpattern": {
             "fillmode": "overlay",
             "size": 10,
             "solidity": 0.2
            },
            "type": "scatter"
           }
          ],
          "scatter3d": [
           {
            "line": {
             "colorbar": {
              "outlinewidth": 0,
              "ticks": ""
             }
            },
            "marker": {
             "colorbar": {
              "outlinewidth": 0,
              "ticks": ""
             }
            },
            "type": "scatter3d"
           }
          ],
          "scattercarpet": [
           {
            "marker": {
             "colorbar": {
              "outlinewidth": 0,
              "ticks": ""
             }
            },
            "type": "scattercarpet"
           }
          ],
          "scattergeo": [
           {
            "marker": {
             "colorbar": {
              "outlinewidth": 0,
              "ticks": ""
             }
            },
            "type": "scattergeo"
           }
          ],
          "scattergl": [
           {
            "marker": {
             "colorbar": {
              "outlinewidth": 0,
              "ticks": ""
             }
            },
            "type": "scattergl"
           }
          ],
          "scattermapbox": [
           {
            "marker": {
             "colorbar": {
              "outlinewidth": 0,
              "ticks": ""
             }
            },
            "type": "scattermapbox"
           }
          ],
          "scatterpolar": [
           {
            "marker": {
             "colorbar": {
              "outlinewidth": 0,
              "ticks": ""
             }
            },
            "type": "scatterpolar"
           }
          ],
          "scatterpolargl": [
           {
            "marker": {
             "colorbar": {
              "outlinewidth": 0,
              "ticks": ""
             }
            },
            "type": "scatterpolargl"
           }
          ],
          "scatterternary": [
           {
            "marker": {
             "colorbar": {
              "outlinewidth": 0,
              "ticks": ""
             }
            },
            "type": "scatterternary"
           }
          ],
          "surface": [
           {
            "colorbar": {
             "outlinewidth": 0,
             "ticks": ""
            },
            "colorscale": [
             [
              0,
              "#0d0887"
             ],
             [
              0.1111111111111111,
              "#46039f"
             ],
             [
              0.2222222222222222,
              "#7201a8"
             ],
             [
              0.3333333333333333,
              "#9c179e"
             ],
             [
              0.4444444444444444,
              "#bd3786"
             ],
             [
              0.5555555555555556,
              "#d8576b"
             ],
             [
              0.6666666666666666,
              "#ed7953"
             ],
             [
              0.7777777777777778,
              "#fb9f3a"
             ],
             [
              0.8888888888888888,
              "#fdca26"
             ],
             [
              1,
              "#f0f921"
             ]
            ],
            "type": "surface"
           }
          ],
          "table": [
           {
            "cells": {
             "fill": {
              "color": "#EBF0F8"
             },
             "line": {
              "color": "white"
             }
            },
            "header": {
             "fill": {
              "color": "#C8D4E3"
             },
             "line": {
              "color": "white"
             }
            },
            "type": "table"
           }
          ]
         },
         "layout": {
          "annotationdefaults": {
           "arrowcolor": "#2a3f5f",
           "arrowhead": 0,
           "arrowwidth": 1
          },
          "autotypenumbers": "strict",
          "coloraxis": {
           "colorbar": {
            "outlinewidth": 0,
            "ticks": ""
           }
          },
          "colorscale": {
           "diverging": [
            [
             0,
             "#8e0152"
            ],
            [
             0.1,
             "#c51b7d"
            ],
            [
             0.2,
             "#de77ae"
            ],
            [
             0.3,
             "#f1b6da"
            ],
            [
             0.4,
             "#fde0ef"
            ],
            [
             0.5,
             "#f7f7f7"
            ],
            [
             0.6,
             "#e6f5d0"
            ],
            [
             0.7,
             "#b8e186"
            ],
            [
             0.8,
             "#7fbc41"
            ],
            [
             0.9,
             "#4d9221"
            ],
            [
             1,
             "#276419"
            ]
           ],
           "sequential": [
            [
             0,
             "#0d0887"
            ],
            [
             0.1111111111111111,
             "#46039f"
            ],
            [
             0.2222222222222222,
             "#7201a8"
            ],
            [
             0.3333333333333333,
             "#9c179e"
            ],
            [
             0.4444444444444444,
             "#bd3786"
            ],
            [
             0.5555555555555556,
             "#d8576b"
            ],
            [
             0.6666666666666666,
             "#ed7953"
            ],
            [
             0.7777777777777778,
             "#fb9f3a"
            ],
            [
             0.8888888888888888,
             "#fdca26"
            ],
            [
             1,
             "#f0f921"
            ]
           ],
           "sequentialminus": [
            [
             0,
             "#0d0887"
            ],
            [
             0.1111111111111111,
             "#46039f"
            ],
            [
             0.2222222222222222,
             "#7201a8"
            ],
            [
             0.3333333333333333,
             "#9c179e"
            ],
            [
             0.4444444444444444,
             "#bd3786"
            ],
            [
             0.5555555555555556,
             "#d8576b"
            ],
            [
             0.6666666666666666,
             "#ed7953"
            ],
            [
             0.7777777777777778,
             "#fb9f3a"
            ],
            [
             0.8888888888888888,
             "#fdca26"
            ],
            [
             1,
             "#f0f921"
            ]
           ]
          },
          "colorway": [
           "#636efa",
           "#EF553B",
           "#00cc96",
           "#ab63fa",
           "#FFA15A",
           "#19d3f3",
           "#FF6692",
           "#B6E880",
           "#FF97FF",
           "#FECB52"
          ],
          "font": {
           "color": "#2a3f5f"
          },
          "geo": {
           "bgcolor": "white",
           "lakecolor": "white",
           "landcolor": "#E5ECF6",
           "showlakes": true,
           "showland": true,
           "subunitcolor": "white"
          },
          "hoverlabel": {
           "align": "left"
          },
          "hovermode": "closest",
          "mapbox": {
           "style": "light"
          },
          "paper_bgcolor": "white",
          "plot_bgcolor": "#E5ECF6",
          "polar": {
           "angularaxis": {
            "gridcolor": "white",
            "linecolor": "white",
            "ticks": ""
           },
           "bgcolor": "#E5ECF6",
           "radialaxis": {
            "gridcolor": "white",
            "linecolor": "white",
            "ticks": ""
           }
          },
          "scene": {
           "xaxis": {
            "backgroundcolor": "#E5ECF6",
            "gridcolor": "white",
            "gridwidth": 2,
            "linecolor": "white",
            "showbackground": true,
            "ticks": "",
            "zerolinecolor": "white"
           },
           "yaxis": {
            "backgroundcolor": "#E5ECF6",
            "gridcolor": "white",
            "gridwidth": 2,
            "linecolor": "white",
            "showbackground": true,
            "ticks": "",
            "zerolinecolor": "white"
           },
           "zaxis": {
            "backgroundcolor": "#E5ECF6",
            "gridcolor": "white",
            "gridwidth": 2,
            "linecolor": "white",
            "showbackground": true,
            "ticks": "",
            "zerolinecolor": "white"
           }
          },
          "shapedefaults": {
           "line": {
            "color": "#2a3f5f"
           }
          },
          "ternary": {
           "aaxis": {
            "gridcolor": "white",
            "linecolor": "white",
            "ticks": ""
           },
           "baxis": {
            "gridcolor": "white",
            "linecolor": "white",
            "ticks": ""
           },
           "bgcolor": "#E5ECF6",
           "caxis": {
            "gridcolor": "white",
            "linecolor": "white",
            "ticks": ""
           }
          },
          "title": {
           "x": 0.05
          },
          "xaxis": {
           "automargin": true,
           "gridcolor": "white",
           "linecolor": "white",
           "ticks": "",
           "title": {
            "standoff": 15
           },
           "zerolinecolor": "white",
           "zerolinewidth": 2
          },
          "yaxis": {
           "automargin": true,
           "gridcolor": "white",
           "linecolor": "white",
           "ticks": "",
           "title": {
            "standoff": 15
           },
           "zerolinecolor": "white",
           "zerolinewidth": 2
          }
         }
        },
        "title": {
         "text": "Updating Parameter ETS Predictions, 2024-10-19"
        },
        "xaxis": {
         "autorange": true,
         "range": [
          "2022-02-05",
          "2025-05-17"
         ],
         "title": {
          "text": "Date"
         },
         "type": "date"
        },
        "yaxis": {
         "autorange": true,
         "range": [
          -9966.538772875325,
          57487.71256699344
         ],
         "title": {
          "text": "Count"
         },
         "type": "linear"
        }
       }
      },
      "image/png": "[encoded data removed]",
      "text/html": [
       "<div>                            <div id=\"d285cab8-1b90-40c8-816b-a91ea000912d\" class=\"plotly-graph-div\" style=\"height:525px; width:100%;\"></div>            <script type=\"text/javascript\">                require([\"plotly\"], function(Plotly) {                    window.PLOTLYENV=window.PLOTLYENV || {};                                    if (document.getElementById(\"d285cab8-1b90-40c8-816b-a91ea000912d\")) {                    Plotly.newPlot(                        \"d285cab8-1b90-40c8-816b-a91ea000912d\",                        [{\"mode\":\"lines\",\"name\":\"Real Data\",\"x\":[\"2022-02-05T00:00:00\",\"2022-02-12T00:00:00\",\"2022-02-19T00:00:00\",\"2022-02-26T00:00:00\",\"2022-03-05T00:00:00\",\"2022-03-12T00:00:00\",\"2022-03-19T00:00:00\",\"2022-03-26T00:00:00\",\"2022-04-02T00:00:00\",\"2022-04-09T00:00:00\",\"2022-04-16T00:00:00\",\"2022-04-23T00:00:00\",\"2022-04-30T00:00:00\",\"2022-05-07T00:00:00\",\"2022-05-14T00:00:00\",\"2022-05-21T00:00:00\",\"2022-05-28T00:00:00\",\"2022-06-04T00:00:00\",\"2022-06-11T00:00:00\",\"2022-06-18T00:00:00\",\"2022-06-25T00:00:00\",\"2022-07-02T00:00:00\",\"2022-07-09T00:00:00\",\"2022-07-16T00:00:00\",\"2022-07-23T00:00:00\",\"2022-07-30T00:00:00\",\"2022-08-06T00:00:00\",\"2022-08-13T00:00:00\",\"2022-08-20T00:00:00\",\"2022-08-27T00:00:00\",\"2022-09-03T00:00:00\",\"2022-09-10T00:00:00\",\"2022-09-17T00:00:00\",\"2022-09-24T00:00:00\",\"2022-10-01T00:00:00\",\"2022-10-08T00:00:00\",\"2022-10-15T00:00:00\",\"2022-10-22T00:00:00\",\"2022-10-29T00:00:00\",\"2022-11-05T00:00:00\",\"2022-11-12T00:00:00\",\"2022-11-19T00:00:00\",\"2022-11-26T00:00:00\",\"2022-12-03T00:00:00\",\"2022-12-10T00:00:00\",\"2022-12-17T00:00:00\",\"2022-12-24T00:00:00\",\"2022-12-31T00:00:00\",\"2023-01-07T00:00:00\",\"2023-01-14T00:00:00\",\"2023-01-21T00:00:00\",\"2023-01-28T00:00:00\",\"2023-02-04T00:00:00\",\"2023-02-11T00:00:00\",\"2023-02-18T00:00:00\",\"2023-02-25T00:00:00\",\"2023-03-04T00:00:00\",\"2023-03-11T00:00:00\",\"2023-03-18T00:00:00\",\"2023-03-25T00:00:00\",\"2023-04-01T00:00:00\",\"2023-04-08T00:00:00\",\"2023-04-15T00:00:00\",\"2023-04-22T00:00:00\",\"2023-04-29T00:00:00\",\"2023-05-06T00:00:00\",\"2023-05-13T00:00:00\",\"2023-05-20T00:00:00\",\"2023-05-27T00:00:00\",\"2023-06-03T00:00:00\",\"2023-06-10T00:00:00\",\"2023-06-17T00:00:00\",\"2023-06-24T00:00:00\",\"2023-07-01T00:00:00\",\"2023-07-08T00:00:00\",\"2023-07-15T00:00:00\",\"2023-07-22T00:00:00\",\"2023-07-29T00:00:00\",\"2023-08-05T00:00:00\",\"2023-08-12T00:00:00\",\"2023-08-19T00:00:00\",\"2023-08-26T00:00:00\",\"2023-09-02T00:00:00\",\"2023-09-09T00:00:00\",\"2023-09-16T00:00:00\",\"2023-09-23T00:00:00\",\"2023-09-30T00:00:00\",\"2023-10-07T00:00:00\",\"2023-10-14T00:00:00\",\"2023-10-21T00:00:00\",\"2023-10-28T00:00:00\",\"2023-11-04T00:00:00\",\"2023-11-11T00:00:00\",\"2023-11-18T00:00:00\",\"2023-11-25T00:00:00\",\"2023-12-02T00:00:00\",\"2023-12-09T00:00:00\",\"2023-12-16T00:00:00\",\"2023-12-23T00:00:00\",\"2023-12-30T00:00:00\",\"2024-01-06T00:00:00\",\"2024-01-13T00:00:00\",\"2024-01-20T00:00:00\",\"2024-01-27T00:00:00\",\"2024-02-03T00:00:00\",\"2024-02-10T00:00:00\",\"2024-02-17T00:00:00\",\"2024-02-24T00:00:00\",\"2024-03-02T00:00:00\",\"2024-03-09T00:00:00\",\"2024-03-16T00:00:00\",\"2024-03-23T00:00:00\",\"2024-03-30T00:00:00\",\"2024-04-06T00:00:00\",\"2024-04-13T00:00:00\",\"2024-04-20T00:00:00\",\"2024-04-27T00:00:00\",\"2024-05-04T00:00:00\",\"2024-05-11T00:00:00\",\"2024-05-18T00:00:00\",\"2024-05-25T00:00:00\",\"2024-06-01T00:00:00\",\"2024-06-08T00:00:00\",\"2024-06-15T00:00:00\",\"2024-06-22T00:00:00\",\"2024-06-29T00:00:00\",\"2024-07-06T00:00:00\",\"2024-07-13T00:00:00\",\"2024-07-20T00:00:00\",\"2024-07-27T00:00:00\",\"2024-08-03T00:00:00\",\"2024-08-10T00:00:00\",\"2024-08-17T00:00:00\",\"2024-08-24T00:00:00\",\"2024-08-31T00:00:00\",\"2024-09-07T00:00:00\",\"2024-09-14T00:00:00\",\"2024-09-21T00:00:00\",\"2024-09-28T00:00:00\",\"2024-10-05T00:00:00\",\"2024-10-12T00:00:00\",\"2024-10-19T00:00:00\",\"2024-10-26T00:00:00\",\"2024-11-02T00:00:00\",\"2024-11-09T00:00:00\",\"2024-11-16T00:00:00\",\"2024-11-23T00:00:00\",\"2024-11-30T00:00:00\",\"2024-12-07T00:00:00\",\"2024-12-14T00:00:00\",\"2024-12-21T00:00:00\",\"2024-12-28T00:00:00\",\"2025-01-04T00:00:00\",\"2025-01-11T00:00:00\",\"2025-01-18T00:00:00\",\"2025-01-25T00:00:00\",\"2025-02-01T00:00:00\",\"2025-02-08T00:00:00\",\"2025-02-15T00:00:00\",\"2025-02-22T00:00:00\",\"2025-03-01T00:00:00\",\"2025-03-08T00:00:00\",\"2025-03-15T00:00:00\",\"2025-03-22T00:00:00\",\"2025-03-29T00:00:00\",\"2025-04-05T00:00:00\",\"2025-04-12T00:00:00\",\"2025-04-19T00:00:00\",\"2025-04-26T00:00:00\",\"2025-05-03T00:00:00\",\"2025-05-10T00:00:00\",\"2025-05-17T00:00:00\"],\"y\":[1091.0,1162.0,1491.0,1603.0,1791.0,2094.0,2622.0,2917.0,3000.0,3135.0,3297.0,3468.0,3179.0,3172.0,3117.0,3130.0,2737.0,2676.0,2202.0,1775.0,1366.0,1073.0,776.0,766.0,627.0,522.0,486.0,490.0,483.0,483.0,545.0,576.0,665.0,796.0,921.0,1306.0,1670.0,2273.0,4181.0,6401.0,8589.0,10969.0,18173.0,26829.0,24035.0,21607.0,19624.0,19474.0,14074.0,7183.0,4488.0,3091.0,2594.0,2176.0,1908.0,1647.0,1501.0,1372.0,1415.0,1330.0,1295.0,1198.0,1077.0,980.0,903.0,994.0,978.0,1116.0,974.0,939.0,935.0,873.0,813.0,836.0,699.0,736.0,645.0,769.0,690.0,705.0,738.0,792.0,875.0,803.0,821.0,881.0,1026.0,1108.0,1214.0,1469.0,1614.0,2012.0,2775.0,3491.0,4386.0,5954.0,7495.0,10269.0,15717.0,21682.0,19548.0,15902.0,13302.0,13025.0,11963.0,11629.0,11126.0,10869.0,10814.0,9416.0,7324.0,6049.0,5574.0,5071.0,4073.0,2943.0,2420.0,1485.0,852.0,681.0,610.0,590.0,511.0,517.0,441.0,356.0,341.0,367.0,324.0,273.0,275.0,275.0,273.0,274.0,259.0,223.0,319.0,293.0,223.0,286.0,288.0,552.0,1079.0,975.0,2076.0,2529.0,3089.0,4278.0,6286.0,9152.0,15399.0,27651.0,38672.0,30698.0,32963.0,40566.0,51141.0,54115.0,46036.0,37647.0,30753.0,23970.0,18369.0,13620.0,9664.0,6683.0,4863.0,3818.0,3213.0,2434.0,2078.0,1636.0],\"type\":\"scatter\"},{\"line\":{\"color\":\"#414487\"},\"mode\":\"lines\",\"name\":\"AutoETS-hi-80\",\"x\":[\"2024-10-26T00:00:00\",\"2024-11-02T00:00:00\",\"2024-11-09T00:00:00\",\"2024-11-16T00:00:00\"],\"y\":[2554.090320187914,3638.83242501515,4593.5804653330915,5474.7763670548675],\"type\":\"scatter\"},{\"line\":{\"color\":\"#1e9c89\"},\"mode\":\"lines\",\"name\":\"AutoETS-hi-95\",\"x\":[\"2024-10-26T00:00:00\",\"2024-11-02T00:00:00\",\"2024-11-09T00:00:00\",\"2024-11-16T00:00:00\"],\"y\":[3590.64682610361,5226.316795784644,6667.837621340723,8000.597927647707],\"type\":\"scatter\"},{\"fill\":\"tonexty\",\"fillcolor\":\"#1e9c89\",\"line\":{\"color\":\"#1e9c89\"},\"mode\":\"lines\",\"name\":\"AutoETS-lo-95\",\"x\":[\"2024-10-26T00:00:00\",\"2024-11-02T00:00:00\",\"2024-11-09T00:00:00\",\"2024-11-16T00:00:00\"],\"y\":[-2398.6698864168247,-3946.3106668305063,-5317.406771647551,-6593.826205881886],\"type\":\"scatter\"},{\"fill\":\"tonexty\",\"fillcolor\":\"#414487\",\"line\":{\"color\":\"#414487\"},\"mode\":\"lines\",\"name\":\"AutoETS-lo-80\",\"x\":[\"2024-10-26T00:00:00\",\"2024-11-02T00:00:00\",\"2024-11-09T00:00:00\",\"2024-11-16T00:00:00\"],\"y\":[-1362.113380501129,-2358.8262960610127,-3243.1496156399207,-4068.0046452890465],\"type\":\"scatter\"},{\"line\":{\"color\":\"#2c728e\"},\"mode\":\"lines\",\"name\":\"AutoETS\",\"x\":[\"2024-10-26T00:00:00\",\"2024-11-02T00:00:00\",\"2024-11-09T00:00:00\",\"2024-11-16T00:00:00\"],\"y\":[595.9884698433926,640.0030644770684,675.2154248465855,703.3858608829107],\"type\":\"scatter\"}],                        {\"template\":{\"data\":{\"histogram2dcontour\":[{\"type\":\"histogram2dcontour\",\"colorbar\":{\"outlinewidth\":0,\"ticks\":\"\"},\"colorscale\":[[0.0,\"#0d0887\"],[0.1111111111111111,\"#46039f\"],[0.2222222222222222,\"#7201a8\"],[0.3333333333333333,\"#9c179e\"],[0.4444444444444444,\"#bd3786\"],[0.5555555555555556,\"#d8576b\"],[0.6666666666666666,\"#ed7953\"],[0.7777777777777778,\"#fb9f3a\"],[0.8888888888888888,\"#fdca26\"],[1.0,\"#f0f921\"]]}],\"choropleth\":[{\"type\":\"choropleth\",\"colorbar\":{\"outlinewidth\":0,\"ticks\":\"\"}}],\"histogram2d\":[{\"type\":\"histogram2d\",\"colorbar\":{\"outlinewidth\":0,\"ticks\":\"\"},\"colorscale\":[[0.0,\"#0d0887\"],[0.1111111111111111,\"#46039f\"],[0.2222222222222222,\"#7201a8\"],[0.3333333333333333,\"#9c179e\"],[0.4444444444444444,\"#bd3786\"],[0.5555555555555556,\"#d8576b\"],[0.6666666666666666,\"#ed7953\"],[0.7777777777777778,\"#fb9f3a\"],[0.8888888888888888,\"#fdca26\"],[1.0,\"#f0f921\"]]}],\"heatmap\":[{\"type\":\"heatmap\",\"colorbar\":{\"outlinewidth\":0,\"ticks\":\"\"},\"colorscale\":[[0.0,\"#0d0887\"],[0.1111111111111111,\"#46039f\"],[0.2222222222222222,\"#7201a8\"],[0.3333333333333333,\"#9c179e\"],[0.4444444444444444,\"#bd3786\"],[0.5555555555555556,\"#d8576b\"],[0.6666666666666666,\"#ed7953\"],[0.7777777777777778,\"#fb9f3a\"],[0.8888888888888888,\"#fdca26\"],[1.0,\"#f0f921\"]]}],\"heatmapgl\":[{\"type\":\"heatmapgl\",\"colorbar\":{\"outlinewidth\":0,\"ticks\":\"\"},\"colorscale\":[[0.0,\"#0d0887\"],[0.1111111111111111,\"#46039f\"],[0.2222222222222222,\"#7201a8\"],[0.3333333333333333,\"#9c179e\"],[0.4444444444444444,\"#bd3786\"],[0.5555555555555556,\"#d8576b\"],[0.6666666666666666,\"#ed7953\"],[0.7777777777777778,\"#fb9f3a\"],[0.8888888888888888,\"#fdca26\"],[1.0,\"#f0f921\"]]}],\"contourcarpet\":[{\"type\":\"contourcarpet\",\"colorbar\":{\"outlinewidth\":0,\"ticks\":\"\"}}],\"contour\":[{\"type\":\"contour\",\"colorbar\":{\"outlinewidth\":0,\"ticks\":\"\"},\"colorscale\":[[0.0,\"#0d0887\"],[0.1111111111111111,\"#46039f\"],[0.2222222222222222,\"#7201a8\"],[0.3333333333333333,\"#9c179e\"],[0.4444444444444444,\"#bd3786\"],[0.5555555555555556,\"#d8576b\"],[0.6666666666666666,\"#ed7953\"],[0.7777777777777778,\"#fb9f3a\"],[0.8888888888888888,\"#fdca26\"],[1.0,\"#f0f921\"]]}],\"surface\":[{\"type\":\"surface\",\"colorbar\":{\"outlinewidth\":0,\"ticks\":\"\"},\"colorscale\":[[0.0,\"#0d0887\"],[0.1111111111111111,\"#46039f\"],[0.2222222222222222,\"#7201a8\"],[0.3333333333333333,\"#9c179e\"],[0.4444444444444444,\"#bd3786\"],[0.5555555555555556,\"#d8576b\"],[0.6666666666666666,\"#ed7953\"],[0.7777777777777778,\"#fb9f3a\"],[0.8888888888888888,\"#fdca26\"],[1.0,\"#f0f921\"]]}],\"mesh3d\":[{\"type\":\"mesh3d\",\"colorbar\":{\"outlinewidth\":0,\"ticks\":\"\"}}],\"scatter\":[{\"fillpattern\":{\"fillmode\":\"overlay\",\"size\":10,\"solidity\":0.2},\"type\":\"scatter\"}],\"parcoords\":[{\"type\":\"parcoords\",\"line\":{\"colorbar\":{\"outlinewidth\":0,\"ticks\":\"\"}}}],\"scatterpolargl\":[{\"type\":\"scatterpolargl\",\"marker\":{\"colorbar\":{\"outlinewidth\":0,\"ticks\":\"\"}}}],\"bar\":[{\"error_x\":{\"color\":\"#2a3f5f\"},\"error_y\":{\"color\":\"#2a3f5f\"},\"marker\":{\"line\":{\"color\":\"#E5ECF6\",\"width\":0.5},\"pattern\":{\"fillmode\":\"overlay\",\"size\":10,\"solidity\":0.2}},\"type\":\"bar\"}],\"scattergeo\":[{\"type\":\"scattergeo\",\"marker\":{\"colorbar\":{\"outlinewidth\":0,\"ticks\":\"\"}}}],\"scatterpolar\":[{\"type\":\"scatterpolar\",\"marker\":{\"colorbar\":{\"outlinewidth\":0,\"ticks\":\"\"}}}],\"histogram\":[{\"marker\":{\"pattern\":{\"fillmode\":\"overlay\",\"size\":10,\"solidity\":0.2}},\"type\":\"histogram\"}],\"scattergl\":[{\"type\":\"scattergl\",\"marker\":{\"colorbar\":{\"outlinewidth\":0,\"ticks\":\"\"}}}],\"scatter3d\":[{\"type\":\"scatter3d\",\"line\":{\"colorbar\":{\"outlinewidth\":0,\"ticks\":\"\"}},\"marker\":{\"colorbar\":{\"outlinewidth\":0,\"ticks\":\"\"}}}],\"scattermapbox\":[{\"type\":\"scattermapbox\",\"marker\":{\"colorbar\":{\"outlinewidth\":0,\"ticks\":\"\"}}}],\"scatterternary\":[{\"type\":\"scatterternary\",\"marker\":{\"colorbar\":{\"outlinewidth\":0,\"ticks\":\"\"}}}],\"scattercarpet\":[{\"type\":\"scattercarpet\",\"marker\":{\"colorbar\":{\"outlinewidth\":0,\"ticks\":\"\"}}}],\"carpet\":[{\"aaxis\":{\"endlinecolor\":\"#2a3f5f\",\"gridcolor\":\"white\",\"linecolor\":\"white\",\"minorgridcolor\":\"white\",\"startlinecolor\":\"#2a3f5f\"},\"baxis\":{\"endlinecolor\":\"#2a3f5f\",\"gridcolor\":\"white\",\"linecolor\":\"white\",\"minorgridcolor\":\"white\",\"startlinecolor\":\"#2a3f5f\"},\"type\":\"carpet\"}],\"table\":[{\"cells\":{\"fill\":{\"color\":\"#EBF0F8\"},\"line\":{\"color\":\"white\"}},\"header\":{\"fill\":{\"color\":\"#C8D4E3\"},\"line\":{\"color\":\"white\"}},\"type\":\"table\"}],\"barpolar\":[{\"marker\":{\"line\":{\"color\":\"#E5ECF6\",\"width\":0.5},\"pattern\":{\"fillmode\":\"overlay\",\"size\":10,\"solidity\":0.2}},\"type\":\"barpolar\"}],\"pie\":[{\"automargin\":true,\"type\":\"pie\"}]},\"layout\":{\"autotypenumbers\":\"strict\",\"colorway\":[\"#636efa\",\"#EF553B\",\"#00cc96\",\"#ab63fa\",\"#FFA15A\",\"#19d3f3\",\"#FF6692\",\"#B6E880\",\"#FF97FF\",\"#FECB52\"],\"font\":{\"color\":\"#2a3f5f\"},\"hovermode\":\"closest\",\"hoverlabel\":{\"align\":\"left\"},\"paper_bgcolor\":\"white\",\"plot_bgcolor\":\"#E5ECF6\",\"polar\":{\"bgcolor\":\"#E5ECF6\",\"angularaxis\":{\"gridcolor\":\"white\",\"linecolor\":\"white\",\"ticks\":\"\"},\"radialaxis\":{\"gridcolor\":\"white\",\"linecolor\":\"white\",\"ticks\":\"\"}},\"ternary\":{\"bgcolor\":\"#E5ECF6\",\"aaxis\":{\"gridcolor\":\"white\",\"linecolor\":\"white\",\"ticks\":\"\"},\"baxis\":{\"gridcolor\":\"white\",\"linecolor\":\"white\",\"ticks\":\"\"},\"caxis\":{\"gridcolor\":\"white\",\"linecolor\":\"white\",\"ticks\":\"\"}},\"coloraxis\":{\"colorbar\":{\"outlinewidth\":0,\"ticks\":\"\"}},\"colorscale\":{\"sequential\":[[0.0,\"#0d0887\"],[0.1111111111111111,\"#46039f\"],[0.2222222222222222,\"#7201a8\"],[0.3333333333333333,\"#9c179e\"],[0.4444444444444444,\"#bd3786\"],[0.5555555555555556,\"#d8576b\"],[0.6666666666666666,\"#ed7953\"],[0.7777777777777778,\"#fb9f3a\"],[0.8888888888888888,\"#fdca26\"],[1.0,\"#f0f921\"]],\"sequentialminus\":[[0.0,\"#0d0887\"],[0.1111111111111111,\"#46039f\"],[0.2222222222222222,\"#7201a8\"],[0.3333333333333333,\"#9c179e\"],[0.4444444444444444,\"#bd3786\"],[0.5555555555555556,\"#d8576b\"],[0.6666666666666666,\"#ed7953\"],[0.7777777777777778,\"#fb9f3a\"],[0.8888888888888888,\"#fdca26\"],[1.0,\"#f0f921\"]],\"diverging\":[[0,\"#8e0152\"],[0.1,\"#c51b7d\"],[0.2,\"#de77ae\"],[0.3,\"#f1b6da\"],[0.4,\"#fde0ef\"],[0.5,\"#f7f7f7\"],[0.6,\"#e6f5d0\"],[0.7,\"#b8e186\"],[0.8,\"#7fbc41\"],[0.9,\"#4d9221\"],[1,\"#276419\"]]},\"xaxis\":{\"gridcolor\":\"white\",\"linecolor\":\"white\",\"ticks\":\"\",\"title\":{\"standoff\":15},\"zerolinecolor\":\"white\",\"automargin\":true,\"zerolinewidth\":2},\"yaxis\":{\"gridcolor\":\"white\",\"linecolor\":\"white\",\"ticks\":\"\",\"title\":{\"standoff\":15},\"zerolinecolor\":\"white\",\"automargin\":true,\"zerolinewidth\":2},\"scene\":{\"xaxis\":{\"backgroundcolor\":\"#E5ECF6\",\"gridcolor\":\"white\",\"linecolor\":\"white\",\"showbackground\":true,\"ticks\":\"\",\"zerolinecolor\":\"white\",\"gridwidth\":2},\"yaxis\":{\"backgroundcolor\":\"#E5ECF6\",\"gridcolor\":\"white\",\"linecolor\":\"white\",\"showbackground\":true,\"ticks\":\"\",\"zerolinecolor\":\"white\",\"gridwidth\":2},\"zaxis\":{\"backgroundcolor\":\"#E5ECF6\",\"gridcolor\":\"white\",\"linecolor\":\"white\",\"showbackground\":true,\"ticks\":\"\",\"zerolinecolor\":\"white\",\"gridwidth\":2}},\"shapedefaults\":{\"line\":{\"color\":\"#2a3f5f\"}},\"annotationdefaults\":{\"arrowcolor\":\"#2a3f5f\",\"arrowhead\":0,\"arrowwidth\":1},\"geo\":{\"bgcolor\":\"white\",\"landcolor\":\"#E5ECF6\",\"subunitcolor\":\"white\",\"showland\":true,\"showlakes\":true,\"lakecolor\":\"white\"},\"title\":{\"x\":0.05},\"mapbox\":{\"style\":\"light\"}}},\"title\":{\"text\":\"Updating Parameter ETS Predictions, 2024-10-19\"},\"xaxis\":{\"title\":{\"text\":\"Date\"}},\"yaxis\":{\"title\":{\"text\":\"Count\"}},\"hovermode\":\"x\"},                        {\"responsive\": true}                    ).then(function(){\n",
       "                            \n",
       "var gd = document.getElementById('d285cab8-1b90-40c8-816b-a91ea000912d');\n",
       "var x = new MutationObserver(function (mutations, observer) {{\n",
       "        var display = window.getComputedStyle(gd).display;\n",
       "        if (!display || display === 'none') {{\n",
       "            console.log([gd, 'removed!']);\n",
       "            Plotly.purge(gd);\n",
       "            observer.disconnect();\n",
       "        }}\n",
       "}});\n",
       "\n",
       "// Listen for the removal of the full notebook cells\n",
       "var notebookContainer = gd.closest('#notebook-container');\n",
       "if (notebookContainer) {{\n",
       "    x.observe(notebookContainer, {childList: true});\n",
       "}}\n",
       "\n",
       "// Listen for the clearing of the current output cell\n",
       "var outputEl = gd.closest('.output');\n",
       "if (outputEl) {{\n",
       "    x.observe(outputEl, {childList: true});\n",
       "}}\n",
       "\n",
       "                        })                };                });            </script>        </div>"
      ]
     },
     "metadata": {},
     "output_type": "display_data"
    },
    {
     "data": {
      "application/vnd.plotly.v1+json": {
       "config": {
        "plotlyServerURL": "https://plot.ly"
       },
       "data": [
        {
         "mode": "lines",
         "name": "Real Data",
         "type": "scatter",
         "x": [
          "2022-02-05T00:00:00",
          "2022-02-12T00:00:00",
          "2022-02-19T00:00:00",
          "2022-02-26T00:00:00",
          "2022-03-05T00:00:00",
          "2022-03-12T00:00:00",
          "2022-03-19T00:00:00",
          "2022-03-26T00:00:00",
          "2022-04-02T00:00:00",
          "2022-04-09T00:00:00",
          "2022-04-16T00:00:00",
          "2022-04-23T00:00:00",
          "2022-04-30T00:00:00",
          "2022-05-07T00:00:00",
          "2022-05-14T00:00:00",
          "2022-05-21T00:00:00",
          "2022-05-28T00:00:00",
          "2022-06-04T00:00:00",
          "2022-06-11T00:00:00",
          "2022-06-18T00:00:00",
          "2022-06-25T00:00:00",
          "2022-07-02T00:00:00",
          "2022-07-09T00:00:00",
          "2022-07-16T00:00:00",
          "2022-07-23T00:00:00",
          "2022-07-30T00:00:00",
          "2022-08-06T00:00:00",
          "2022-08-13T00:00:00",
          "2022-08-20T00:00:00",
          "2022-08-27T00:00:00",
          "2022-09-03T00:00:00",
          "2022-09-10T00:00:00",
          "2022-09-17T00:00:00",
          "2022-09-24T00:00:00",
          "2022-10-01T00:00:00",
          "2022-10-08T00:00:00",
          "2022-10-15T00:00:00",
          "2022-10-22T00:00:00",
          "2022-10-29T00:00:00",
          "2022-11-05T00:00:00",
          "2022-11-12T00:00:00",
          "2022-11-19T00:00:00",
          "2022-11-26T00:00:00",
          "2022-12-03T00:00:00",
          "2022-12-10T00:00:00",
          "2022-12-17T00:00:00",
          "2022-12-24T00:00:00",
          "2022-12-31T00:00:00",
          "2023-01-07T00:00:00",
          "2023-01-14T00:00:00",
          "2023-01-21T00:00:00",
          "2023-01-28T00:00:00",
          "2023-02-04T00:00:00",
          "2023-02-11T00:00:00",
          "2023-02-18T00:00:00",
          "2023-02-25T00:00:00",
          "2023-03-04T00:00:00",
          "2023-03-11T00:00:00",
          "2023-03-18T00:00:00",
          "2023-03-25T00:00:00",
          "2023-04-01T00:00:00",
          "2023-04-08T00:00:00",
          "2023-04-15T00:00:00",
          "2023-04-22T00:00:00",
          "2023-04-29T00:00:00",
          "2023-05-06T00:00:00",
          "2023-05-13T00:00:00",
          "2023-05-20T00:00:00",
          "2023-05-27T00:00:00",
          "2023-06-03T00:00:00",
          "2023-06-10T00:00:00",
          "2023-06-17T00:00:00",
          "2023-06-24T00:00:00",
          "2023-07-01T00:00:00",
          "2023-07-08T00:00:00",
          "2023-07-15T00:00:00",
          "2023-07-22T00:00:00",
          "2023-07-29T00:00:00",
          "2023-08-05T00:00:00",
          "2023-08-12T00:00:00",
          "2023-08-19T00:00:00",
          "2023-08-26T00:00:00",
          "2023-09-02T00:00:00",
          "2023-09-09T00:00:00",
          "2023-09-16T00:00:00",
          "2023-09-23T00:00:00",
          "2023-09-30T00:00:00",
          "2023-10-07T00:00:00",
          "2023-10-14T00:00:00",
          "2023-10-21T00:00:00",
          "2023-10-28T00:00:00",
          "2023-11-04T00:00:00",
          "2023-11-11T00:00:00",
          "2023-11-18T00:00:00",
          "2023-11-25T00:00:00",
          "2023-12-02T00:00:00",
          "2023-12-09T00:00:00",
          "2023-12-16T00:00:00",
          "2023-12-23T00:00:00",
          "2023-12-30T00:00:00",
          "2024-01-06T00:00:00",
          "2024-01-13T00:00:00",
          "2024-01-20T00:00:00",
          "2024-01-27T00:00:00",
          "2024-02-03T00:00:00",
          "2024-02-10T00:00:00",
          "2024-02-17T00:00:00",
          "2024-02-24T00:00:00",
          "2024-03-02T00:00:00",
          "2024-03-09T00:00:00",
          "2024-03-16T00:00:00",
          "2024-03-23T00:00:00",
          "2024-03-30T00:00:00",
          "2024-04-06T00:00:00",
          "2024-04-13T00:00:00",
          "2024-04-20T00:00:00",
          "2024-04-27T00:00:00",
          "2024-05-04T00:00:00",
          "2024-05-11T00:00:00",
          "2024-05-18T00:00:00",
          "2024-05-25T00:00:00",
          "2024-06-01T00:00:00",
          "2024-06-08T00:00:00",
          "2024-06-15T00:00:00",
          "2024-06-22T00:00:00",
          "2024-06-29T00:00:00",
          "2024-07-06T00:00:00",
          "2024-07-13T00:00:00",
          "2024-07-20T00:00:00",
          "2024-07-27T00:00:00",
          "2024-08-03T00:00:00",
          "2024-08-10T00:00:00",
          "2024-08-17T00:00:00",
          "2024-08-24T00:00:00",
          "2024-08-31T00:00:00",
          "2024-09-07T00:00:00",
          "2024-09-14T00:00:00",
          "2024-09-21T00:00:00",
          "2024-09-28T00:00:00",
          "2024-10-05T00:00:00",
          "2024-10-12T00:00:00",
          "2024-10-19T00:00:00",
          "2024-10-26T00:00:00",
          "2024-11-02T00:00:00",
          "2024-11-09T00:00:00",
          "2024-11-16T00:00:00",
          "2024-11-23T00:00:00",
          "2024-11-30T00:00:00",
          "2024-12-07T00:00:00",
          "2024-12-14T00:00:00",
          "2024-12-21T00:00:00",
          "2024-12-28T00:00:00",
          "2025-01-04T00:00:00",
          "2025-01-11T00:00:00",
          "2025-01-18T00:00:00",
          "2025-01-25T00:00:00",
          "2025-02-01T00:00:00",
          "2025-02-08T00:00:00",
          "2025-02-15T00:00:00",
          "2025-02-22T00:00:00",
          "2025-03-01T00:00:00",
          "2025-03-08T00:00:00",
          "2025-03-15T00:00:00",
          "2025-03-22T00:00:00",
          "2025-03-29T00:00:00",
          "2025-04-05T00:00:00",
          "2025-04-12T00:00:00",
          "2025-04-19T00:00:00",
          "2025-04-26T00:00:00",
          "2025-05-03T00:00:00",
          "2025-05-10T00:00:00",
          "2025-05-17T00:00:00"
         ],
         "y": [
          1091,
          1162,
          1491,
          1603,
          1791,
          2094,
          2622,
          2917,
          3000,
          3135,
          3297,
          3468,
          3179,
          3172,
          3117,
          3130,
          2737,
          2676,
          2202,
          1775,
          1366,
          1073,
          776,
          766,
          627,
          522,
          486,
          490,
          483,
          483,
          545,
          576,
          665,
          796,
          921,
          1306,
          1670,
          2273,
          4181,
          6401,
          8589,
          10969,
          18173,
          26829,
          24035,
          21607,
          19624,
          19474,
          14074,
          7183,
          4488,
          3091,
          2594,
          2176,
          1908,
          1647,
          1501,
          1372,
          1415,
          1330,
          1295,
          1198,
          1077,
          980,
          903,
          994,
          978,
          1116,
          974,
          939,
          935,
          873,
          813,
          836,
          699,
          736,
          645,
          769,
          690,
          705,
          738,
          792,
          875,
          803,
          821,
          881,
          1026,
          1108,
          1214,
          1469,
          1614,
          2012,
          2775,
          3491,
          4386,
          5954,
          7495,
          10269,
          15717,
          21682,
          19548,
          15902,
          13302,
          13025,
          11963,
          11629,
          11126,
          10869,
          10814,
          9416,
          7324,
          6049,
          5574,
          5071,
          4073,
          2943,
          2420,
          1485,
          852,
          681,
          610,
          590,
          511,
          517,
          441,
          356,
          341,
          367,
          324,
          273,
          275,
          275,
          273,
          274,
          259,
          223,
          319,
          293,
          223,
          286,
          288,
          552,
          1079,
          975,
          2076,
          2529,
          3089,
          4278,
          6286,
          9152,
          15399,
          27651,
          38672,
          30698,
          32963,
          40566,
          51141,
          54115,
          46036,
          37647,
          30753,
          23970,
          18369,
          13620,
          9664,
          6683,
          4863,
          3818,
          3213,
          2434,
          2078,
          1636
         ]
        },
        {
         "line": {
          "color": "#414487"
         },
         "mode": "lines",
         "name": "AutoETS-hi-80",
         "type": "scatter",
         "x": [
          "2024-11-09T00:00:00",
          "2024-11-16T00:00:00",
          "2024-11-23T00:00:00",
          "2024-11-30T00:00:00"
         ],
         "y": [
          2975.0124929199537,
          4063.945111075562,
          5021.447063608176,
          5904.037959879653
         ]
        },
        {
         "line": {
          "color": "#1e9c89"
         },
         "mode": "lines",
         "name": "AutoETS-hi-95",
         "type": "scatter",
         "x": [
          "2024-11-09T00:00:00",
          "2024-11-16T00:00:00",
          "2024-11-23T00:00:00",
          "2024-11-30T00:00:00"
         ],
         "y": [
          4004.432318462945,
          5640.499669059946,
          7081.422981450074,
          8412.469266247506
         ]
        },
        {
         "fill": "tonexty",
         "fillcolor": "#1e9c89",
         "line": {
          "color": "#1e9c89"
         },
         "mode": "lines",
         "name": "AutoETS-lo-95",
         "type": "scatter",
         "x": [
          "2024-11-09T00:00:00",
          "2024-11-16T00:00:00",
          "2024-11-23T00:00:00",
          "2024-11-30T00:00:00"
         ],
         "y": [
          -1943.6480130360856,
          -3468.9743523245734,
          -4821.303133052317,
          -6081.4724144005895
         ]
        },
        {
         "fill": "tonexty",
         "fillcolor": "#414487",
         "line": {
          "color": "#414487"
         },
         "mode": "lines",
         "name": "AutoETS-lo-80",
         "type": "scatter",
         "x": [
          "2024-11-09T00:00:00",
          "2024-11-16T00:00:00",
          "2024-11-23T00:00:00",
          "2024-11-30T00:00:00"
         ],
         "y": [
          -914.2281874930943,
          -1892.4197943401891,
          -2761.327215210419,
          -3573.041108032735
         ]
        },
        {
         "line": {
          "color": "#2c728e"
         },
         "mode": "lines",
         "name": "AutoETS",
         "type": "scatter",
         "x": [
          "2024-11-09T00:00:00",
          "2024-11-16T00:00:00",
          "2024-11-23T00:00:00",
          "2024-11-30T00:00:00"
         ],
         "y": [
          1030.3921527134298,
          1085.7626583676865,
          1130.0599241988784,
          1165.4984259234586
         ]
        }
       ],
       "layout": {
        "autosize": true,
        "hovermode": "x",
        "template": {
         "data": {
          "bar": [
           {
            "error_x": {
             "color": "#2a3f5f"
            },
            "error_y": {
             "color": "#2a3f5f"
            },
            "marker": {
             "line": {
              "color": "#E5ECF6",
              "width": 0.5
             },
             "pattern": {
              "fillmode": "overlay",
              "size": 10,
              "solidity": 0.2
             }
            },
            "type": "bar"
           }
          ],
          "barpolar": [
           {
            "marker": {
             "line": {
              "color": "#E5ECF6",
              "width": 0.5
             },
             "pattern": {
              "fillmode": "overlay",
              "size": 10,
              "solidity": 0.2
             }
            },
            "type": "barpolar"
           }
          ],
          "carpet": [
           {
            "aaxis": {
             "endlinecolor": "#2a3f5f",
             "gridcolor": "white",
             "linecolor": "white",
             "minorgridcolor": "white",
             "startlinecolor": "#2a3f5f"
            },
            "baxis": {
             "endlinecolor": "#2a3f5f",
             "gridcolor": "white",
             "linecolor": "white",
             "minorgridcolor": "white",
             "startlinecolor": "#2a3f5f"
            },
            "type": "carpet"
           }
          ],
          "choropleth": [
           {
            "colorbar": {
             "outlinewidth": 0,
             "ticks": ""
            },
            "type": "choropleth"
           }
          ],
          "contour": [
           {
            "colorbar": {
             "outlinewidth": 0,
             "ticks": ""
            },
            "colorscale": [
             [
              0,
              "#0d0887"
             ],
             [
              0.1111111111111111,
              "#46039f"
             ],
             [
              0.2222222222222222,
              "#7201a8"
             ],
             [
              0.3333333333333333,
              "#9c179e"
             ],
             [
              0.4444444444444444,
              "#bd3786"
             ],
             [
              0.5555555555555556,
              "#d8576b"
             ],
             [
              0.6666666666666666,
              "#ed7953"
             ],
             [
              0.7777777777777778,
              "#fb9f3a"
             ],
             [
              0.8888888888888888,
              "#fdca26"
             ],
             [
              1,
              "#f0f921"
             ]
            ],
            "type": "contour"
           }
          ],
          "contourcarpet": [
           {
            "colorbar": {
             "outlinewidth": 0,
             "ticks": ""
            },
            "type": "contourcarpet"
           }
          ],
          "heatmap": [
           {
            "colorbar": {
             "outlinewidth": 0,
             "ticks": ""
            },
            "colorscale": [
             [
              0,
              "#0d0887"
             ],
             [
              0.1111111111111111,
              "#46039f"
             ],
             [
              0.2222222222222222,
              "#7201a8"
             ],
             [
              0.3333333333333333,
              "#9c179e"
             ],
             [
              0.4444444444444444,
              "#bd3786"
             ],
             [
              0.5555555555555556,
              "#d8576b"
             ],
             [
              0.6666666666666666,
              "#ed7953"
             ],
             [
              0.7777777777777778,
              "#fb9f3a"
             ],
             [
              0.8888888888888888,
              "#fdca26"
             ],
             [
              1,
              "#f0f921"
             ]
            ],
            "type": "heatmap"
           }
          ],
          "heatmapgl": [
           {
            "colorbar": {
             "outlinewidth": 0,
             "ticks": ""
            },
            "colorscale": [
             [
              0,
              "#0d0887"
             ],
             [
              0.1111111111111111,
              "#46039f"
             ],
             [
              0.2222222222222222,
              "#7201a8"
             ],
             [
              0.3333333333333333,
              "#9c179e"
             ],
             [
              0.4444444444444444,
              "#bd3786"
             ],
             [
              0.5555555555555556,
              "#d8576b"
             ],
             [
              0.6666666666666666,
              "#ed7953"
             ],
             [
              0.7777777777777778,
              "#fb9f3a"
             ],
             [
              0.8888888888888888,
              "#fdca26"
             ],
             [
              1,
              "#f0f921"
             ]
            ],
            "type": "heatmapgl"
           }
          ],
          "histogram": [
           {
            "marker": {
             "pattern": {
              "fillmode": "overlay",
              "size": 10,
              "solidity": 0.2
             }
            },
            "type": "histogram"
           }
          ],
          "histogram2d": [
           {
            "colorbar": {
             "outlinewidth": 0,
             "ticks": ""
            },
            "colorscale": [
             [
              0,
              "#0d0887"
             ],
             [
              0.1111111111111111,
              "#46039f"
             ],
             [
              0.2222222222222222,
              "#7201a8"
             ],
             [
              0.3333333333333333,
              "#9c179e"
             ],
             [
              0.4444444444444444,
              "#bd3786"
             ],
             [
              0.5555555555555556,
              "#d8576b"
             ],
             [
              0.6666666666666666,
              "#ed7953"
             ],
             [
              0.7777777777777778,
              "#fb9f3a"
             ],
             [
              0.8888888888888888,
              "#fdca26"
             ],
             [
              1,
              "#f0f921"
             ]
            ],
            "type": "histogram2d"
           }
          ],
          "histogram2dcontour": [
           {
            "colorbar": {
             "outlinewidth": 0,
             "ticks": ""
            },
            "colorscale": [
             [
              0,
              "#0d0887"
             ],
             [
              0.1111111111111111,
              "#46039f"
             ],
             [
              0.2222222222222222,
              "#7201a8"
             ],
             [
              0.3333333333333333,
              "#9c179e"
             ],
             [
              0.4444444444444444,
              "#bd3786"
             ],
             [
              0.5555555555555556,
              "#d8576b"
             ],
             [
              0.6666666666666666,
              "#ed7953"
             ],
             [
              0.7777777777777778,
              "#fb9f3a"
             ],
             [
              0.8888888888888888,
              "#fdca26"
             ],
             [
              1,
              "#f0f921"
             ]
            ],
            "type": "histogram2dcontour"
           }
          ],
          "mesh3d": [
           {
            "colorbar": {
             "outlinewidth": 0,
             "ticks": ""
            },
            "type": "mesh3d"
           }
          ],
          "parcoords": [
           {
            "line": {
             "colorbar": {
              "outlinewidth": 0,
              "ticks": ""
             }
            },
            "type": "parcoords"
           }
          ],
          "pie": [
           {
            "automargin": true,
            "type": "pie"
           }
          ],
          "scatter": [
           {
            "fillpattern": {
             "fillmode": "overlay",
             "size": 10,
             "solidity": 0.2
            },
            "type": "scatter"
           }
          ],
          "scatter3d": [
           {
            "line": {
             "colorbar": {
              "outlinewidth": 0,
              "ticks": ""
             }
            },
            "marker": {
             "colorbar": {
              "outlinewidth": 0,
              "ticks": ""
             }
            },
            "type": "scatter3d"
           }
          ],
          "scattercarpet": [
           {
            "marker": {
             "colorbar": {
              "outlinewidth": 0,
              "ticks": ""
             }
            },
            "type": "scattercarpet"
           }
          ],
          "scattergeo": [
           {
            "marker": {
             "colorbar": {
              "outlinewidth": 0,
              "ticks": ""
             }
            },
            "type": "scattergeo"
           }
          ],
          "scattergl": [
           {
            "marker": {
             "colorbar": {
              "outlinewidth": 0,
              "ticks": ""
             }
            },
            "type": "scattergl"
           }
          ],
          "scattermapbox": [
           {
            "marker": {
             "colorbar": {
              "outlinewidth": 0,
              "ticks": ""
             }
            },
            "type": "scattermapbox"
           }
          ],
          "scatterpolar": [
           {
            "marker": {
             "colorbar": {
              "outlinewidth": 0,
              "ticks": ""
             }
            },
            "type": "scatterpolar"
           }
          ],
          "scatterpolargl": [
           {
            "marker": {
             "colorbar": {
              "outlinewidth": 0,
              "ticks": ""
             }
            },
            "type": "scatterpolargl"
           }
          ],
          "scatterternary": [
           {
            "marker": {
             "colorbar": {
              "outlinewidth": 0,
              "ticks": ""
             }
            },
            "type": "scatterternary"
           }
          ],
          "surface": [
           {
            "colorbar": {
             "outlinewidth": 0,
             "ticks": ""
            },
            "colorscale": [
             [
              0,
              "#0d0887"
             ],
             [
              0.1111111111111111,
              "#46039f"
             ],
             [
              0.2222222222222222,
              "#7201a8"
             ],
             [
              0.3333333333333333,
              "#9c179e"
             ],
             [
              0.4444444444444444,
              "#bd3786"
             ],
             [
              0.5555555555555556,
              "#d8576b"
             ],
             [
              0.6666666666666666,
              "#ed7953"
             ],
             [
              0.7777777777777778,
              "#fb9f3a"
             ],
             [
              0.8888888888888888,
              "#fdca26"
             ],
             [
              1,
              "#f0f921"
             ]
            ],
            "type": "surface"
           }
          ],
          "table": [
           {
            "cells": {
             "fill": {
              "color": "#EBF0F8"
             },
             "line": {
              "color": "white"
             }
            },
            "header": {
             "fill": {
              "color": "#C8D4E3"
             },
             "line": {
              "color": "white"
             }
            },
            "type": "table"
           }
          ]
         },
         "layout": {
          "annotationdefaults": {
           "arrowcolor": "#2a3f5f",
           "arrowhead": 0,
           "arrowwidth": 1
          },
          "autotypenumbers": "strict",
          "coloraxis": {
           "colorbar": {
            "outlinewidth": 0,
            "ticks": ""
           }
          },
          "colorscale": {
           "diverging": [
            [
             0,
             "#8e0152"
            ],
            [
             0.1,
             "#c51b7d"
            ],
            [
             0.2,
             "#de77ae"
            ],
            [
             0.3,
             "#f1b6da"
            ],
            [
             0.4,
             "#fde0ef"
            ],
            [
             0.5,
             "#f7f7f7"
            ],
            [
             0.6,
             "#e6f5d0"
            ],
            [
             0.7,
             "#b8e186"
            ],
            [
             0.8,
             "#7fbc41"
            ],
            [
             0.9,
             "#4d9221"
            ],
            [
             1,
             "#276419"
            ]
           ],
           "sequential": [
            [
             0,
             "#0d0887"
            ],
            [
             0.1111111111111111,
             "#46039f"
            ],
            [
             0.2222222222222222,
             "#7201a8"
            ],
            [
             0.3333333333333333,
             "#9c179e"
            ],
            [
             0.4444444444444444,
             "#bd3786"
            ],
            [
             0.5555555555555556,
             "#d8576b"
            ],
            [
             0.6666666666666666,
             "#ed7953"
            ],
            [
             0.7777777777777778,
             "#fb9f3a"
            ],
            [
             0.8888888888888888,
             "#fdca26"
            ],
            [
             1,
             "#f0f921"
            ]
           ],
           "sequentialminus": [
            [
             0,
             "#0d0887"
            ],
            [
             0.1111111111111111,
             "#46039f"
            ],
            [
             0.2222222222222222,
             "#7201a8"
            ],
            [
             0.3333333333333333,
             "#9c179e"
            ],
            [
             0.4444444444444444,
             "#bd3786"
            ],
            [
             0.5555555555555556,
             "#d8576b"
            ],
            [
             0.6666666666666666,
             "#ed7953"
            ],
            [
             0.7777777777777778,
             "#fb9f3a"
            ],
            [
             0.8888888888888888,
             "#fdca26"
            ],
            [
             1,
             "#f0f921"
            ]
           ]
          },
          "colorway": [
           "#636efa",
           "#EF553B",
           "#00cc96",
           "#ab63fa",
           "#FFA15A",
           "#19d3f3",
           "#FF6692",
           "#B6E880",
           "#FF97FF",
           "#FECB52"
          ],
          "font": {
           "color": "#2a3f5f"
          },
          "geo": {
           "bgcolor": "white",
           "lakecolor": "white",
           "landcolor": "#E5ECF6",
           "showlakes": true,
           "showland": true,
           "subunitcolor": "white"
          },
          "hoverlabel": {
           "align": "left"
          },
          "hovermode": "closest",
          "mapbox": {
           "style": "light"
          },
          "paper_bgcolor": "white",
          "plot_bgcolor": "#E5ECF6",
          "polar": {
           "angularaxis": {
            "gridcolor": "white",
            "linecolor": "white",
            "ticks": ""
           },
           "bgcolor": "#E5ECF6",
           "radialaxis": {
            "gridcolor": "white",
            "linecolor": "white",
            "ticks": ""
           }
          },
          "scene": {
           "xaxis": {
            "backgroundcolor": "#E5ECF6",
            "gridcolor": "white",
            "gridwidth": 2,
            "linecolor": "white",
            "showbackground": true,
            "ticks": "",
            "zerolinecolor": "white"
           },
           "yaxis": {
            "backgroundcolor": "#E5ECF6",
            "gridcolor": "white",
            "gridwidth": 2,
            "linecolor": "white",
            "showbackground": true,
            "ticks": "",
            "zerolinecolor": "white"
           },
           "zaxis": {
            "backgroundcolor": "#E5ECF6",
            "gridcolor": "white",
            "gridwidth": 2,
            "linecolor": "white",
            "showbackground": true,
            "ticks": "",
            "zerolinecolor": "white"
           }
          },
          "shapedefaults": {
           "line": {
            "color": "#2a3f5f"
           }
          },
          "ternary": {
           "aaxis": {
            "gridcolor": "white",
            "linecolor": "white",
            "ticks": ""
           },
           "baxis": {
            "gridcolor": "white",
            "linecolor": "white",
            "ticks": ""
           },
           "bgcolor": "#E5ECF6",
           "caxis": {
            "gridcolor": "white",
            "linecolor": "white",
            "ticks": ""
           }
          },
          "title": {
           "x": 0.05
          },
          "xaxis": {
           "automargin": true,
           "gridcolor": "white",
           "linecolor": "white",
           "ticks": "",
           "title": {
            "standoff": 15
           },
           "zerolinecolor": "white",
           "zerolinewidth": 2
          },
          "yaxis": {
           "automargin": true,
           "gridcolor": "white",
           "linecolor": "white",
           "ticks": "",
           "title": {
            "standoff": 15
           },
           "zerolinecolor": "white",
           "zerolinewidth": 2
          }
         }
        },
        "title": {
         "text": "Updating Parameter ETS Predictions, 2024-11-02"
        },
        "xaxis": {
         "autorange": true,
         "range": [
          "2022-02-05",
          "2025-05-17"
         ],
         "title": {
          "text": "Date"
         },
         "type": "date"
        },
        "yaxis": {
         "autorange": true,
         "range": [
          -9425.720881867288,
          57459.2484674667
         ],
         "title": {
          "text": "Count"
         },
         "type": "linear"
        }
       }
      },
      "image/png": "[encoded data removed]",
      "text/html": [
       "<div>                            <div id=\"268c6d03-cc5d-44f2-b98e-e0e608d10a37\" class=\"plotly-graph-div\" style=\"height:525px; width:100%;\"></div>            <script type=\"text/javascript\">                require([\"plotly\"], function(Plotly) {                    window.PLOTLYENV=window.PLOTLYENV || {};                                    if (document.getElementById(\"268c6d03-cc5d-44f2-b98e-e0e608d10a37\")) {                    Plotly.newPlot(                        \"268c6d03-cc5d-44f2-b98e-e0e608d10a37\",                        [{\"mode\":\"lines\",\"name\":\"Real Data\",\"x\":[\"2022-02-05T00:00:00\",\"2022-02-12T00:00:00\",\"2022-02-19T00:00:00\",\"2022-02-26T00:00:00\",\"2022-03-05T00:00:00\",\"2022-03-12T00:00:00\",\"2022-03-19T00:00:00\",\"2022-03-26T00:00:00\",\"2022-04-02T00:00:00\",\"2022-04-09T00:00:00\",\"2022-04-16T00:00:00\",\"2022-04-23T00:00:00\",\"2022-04-30T00:00:00\",\"2022-05-07T00:00:00\",\"2022-05-14T00:00:00\",\"2022-05-21T00:00:00\",\"2022-05-28T00:00:00\",\"2022-06-04T00:00:00\",\"2022-06-11T00:00:00\",\"2022-06-18T00:00:00\",\"2022-06-25T00:00:00\",\"2022-07-02T00:00:00\",\"2022-07-09T00:00:00\",\"2022-07-16T00:00:00\",\"2022-07-23T00:00:00\",\"2022-07-30T00:00:00\",\"2022-08-06T00:00:00\",\"2022-08-13T00:00:00\",\"2022-08-20T00:00:00\",\"2022-08-27T00:00:00\",\"2022-09-03T00:00:00\",\"2022-09-10T00:00:00\",\"2022-09-17T00:00:00\",\"2022-09-24T00:00:00\",\"2022-10-01T00:00:00\",\"2022-10-08T00:00:00\",\"2022-10-15T00:00:00\",\"2022-10-22T00:00:00\",\"2022-10-29T00:00:00\",\"2022-11-05T00:00:00\",\"2022-11-12T00:00:00\",\"2022-11-19T00:00:00\",\"2022-11-26T00:00:00\",\"2022-12-03T00:00:00\",\"2022-12-10T00:00:00\",\"2022-12-17T00:00:00\",\"2022-12-24T00:00:00\",\"2022-12-31T00:00:00\",\"2023-01-07T00:00:00\",\"2023-01-14T00:00:00\",\"2023-01-21T00:00:00\",\"2023-01-28T00:00:00\",\"2023-02-04T00:00:00\",\"2023-02-11T00:00:00\",\"2023-02-18T00:00:00\",\"2023-02-25T00:00:00\",\"2023-03-04T00:00:00\",\"2023-03-11T00:00:00\",\"2023-03-18T00:00:00\",\"2023-03-25T00:00:00\",\"2023-04-01T00:00:00\",\"2023-04-08T00:00:00\",\"2023-04-15T00:00:00\",\"2023-04-22T00:00:00\",\"2023-04-29T00:00:00\",\"2023-05-06T00:00:00\",\"2023-05-13T00:00:00\",\"2023-05-20T00:00:00\",\"2023-05-27T00:00:00\",\"2023-06-03T00:00:00\",\"2023-06-10T00:00:00\",\"2023-06-17T00:00:00\",\"2023-06-24T00:00:00\",\"2023-07-01T00:00:00\",\"2023-07-08T00:00:00\",\"2023-07-15T00:00:00\",\"2023-07-22T00:00:00\",\"2023-07-29T00:00:00\",\"2023-08-05T00:00:00\",\"2023-08-12T00:00:00\",\"2023-08-19T00:00:00\",\"2023-08-26T00:00:00\",\"2023-09-02T00:00:00\",\"2023-09-09T00:00:00\",\"2023-09-16T00:00:00\",\"2023-09-23T00:00:00\",\"2023-09-30T00:00:00\",\"2023-10-07T00:00:00\",\"2023-10-14T00:00:00\",\"2023-10-21T00:00:00\",\"2023-10-28T00:00:00\",\"2023-11-04T00:00:00\",\"2023-11-11T00:00:00\",\"2023-11-18T00:00:00\",\"2023-11-25T00:00:00\",\"2023-12-02T00:00:00\",\"2023-12-09T00:00:00\",\"2023-12-16T00:00:00\",\"2023-12-23T00:00:00\",\"2023-12-30T00:00:00\",\"2024-01-06T00:00:00\",\"2024-01-13T00:00:00\",\"2024-01-20T00:00:00\",\"2024-01-27T00:00:00\",\"2024-02-03T00:00:00\",\"2024-02-10T00:00:00\",\"2024-02-17T00:00:00\",\"2024-02-24T00:00:00\",\"2024-03-02T00:00:00\",\"2024-03-09T00:00:00\",\"2024-03-16T00:00:00\",\"2024-03-23T00:00:00\",\"2024-03-30T00:00:00\",\"2024-04-06T00:00:00\",\"2024-04-13T00:00:00\",\"2024-04-20T00:00:00\",\"2024-04-27T00:00:00\",\"2024-05-04T00:00:00\",\"2024-05-11T00:00:00\",\"2024-05-18T00:00:00\",\"2024-05-25T00:00:00\",\"2024-06-01T00:00:00\",\"2024-06-08T00:00:00\",\"2024-06-15T00:00:00\",\"2024-06-22T00:00:00\",\"2024-06-29T00:00:00\",\"2024-07-06T00:00:00\",\"2024-07-13T00:00:00\",\"2024-07-20T00:00:00\",\"2024-07-27T00:00:00\",\"2024-08-03T00:00:00\",\"2024-08-10T00:00:00\",\"2024-08-17T00:00:00\",\"2024-08-24T00:00:00\",\"2024-08-31T00:00:00\",\"2024-09-07T00:00:00\",\"2024-09-14T00:00:00\",\"2024-09-21T00:00:00\",\"2024-09-28T00:00:00\",\"2024-10-05T00:00:00\",\"2024-10-12T00:00:00\",\"2024-10-19T00:00:00\",\"2024-10-26T00:00:00\",\"2024-11-02T00:00:00\",\"2024-11-09T00:00:00\",\"2024-11-16T00:00:00\",\"2024-11-23T00:00:00\",\"2024-11-30T00:00:00\",\"2024-12-07T00:00:00\",\"2024-12-14T00:00:00\",\"2024-12-21T00:00:00\",\"2024-12-28T00:00:00\",\"2025-01-04T00:00:00\",\"2025-01-11T00:00:00\",\"2025-01-18T00:00:00\",\"2025-01-25T00:00:00\",\"2025-02-01T00:00:00\",\"2025-02-08T00:00:00\",\"2025-02-15T00:00:00\",\"2025-02-22T00:00:00\",\"2025-03-01T00:00:00\",\"2025-03-08T00:00:00\",\"2025-03-15T00:00:00\",\"2025-03-22T00:00:00\",\"2025-03-29T00:00:00\",\"2025-04-05T00:00:00\",\"2025-04-12T00:00:00\",\"2025-04-19T00:00:00\",\"2025-04-26T00:00:00\",\"2025-05-03T00:00:00\",\"2025-05-10T00:00:00\",\"2025-05-17T00:00:00\"],\"y\":[1091.0,1162.0,1491.0,1603.0,1791.0,2094.0,2622.0,2917.0,3000.0,3135.0,3297.0,3468.0,3179.0,3172.0,3117.0,3130.0,2737.0,2676.0,2202.0,1775.0,1366.0,1073.0,776.0,766.0,627.0,522.0,486.0,490.0,483.0,483.0,545.0,576.0,665.0,796.0,921.0,1306.0,1670.0,2273.0,4181.0,6401.0,8589.0,10969.0,18173.0,26829.0,24035.0,21607.0,19624.0,19474.0,14074.0,7183.0,4488.0,3091.0,2594.0,2176.0,1908.0,1647.0,1501.0,1372.0,1415.0,1330.0,1295.0,1198.0,1077.0,980.0,903.0,994.0,978.0,1116.0,974.0,939.0,935.0,873.0,813.0,836.0,699.0,736.0,645.0,769.0,690.0,705.0,738.0,792.0,875.0,803.0,821.0,881.0,1026.0,1108.0,1214.0,1469.0,1614.0,2012.0,2775.0,3491.0,4386.0,5954.0,7495.0,10269.0,15717.0,21682.0,19548.0,15902.0,13302.0,13025.0,11963.0,11629.0,11126.0,10869.0,10814.0,9416.0,7324.0,6049.0,5574.0,5071.0,4073.0,2943.0,2420.0,1485.0,852.0,681.0,610.0,590.0,511.0,517.0,441.0,356.0,341.0,367.0,324.0,273.0,275.0,275.0,273.0,274.0,259.0,223.0,319.0,293.0,223.0,286.0,288.0,552.0,1079.0,975.0,2076.0,2529.0,3089.0,4278.0,6286.0,9152.0,15399.0,27651.0,38672.0,30698.0,32963.0,40566.0,51141.0,54115.0,46036.0,37647.0,30753.0,23970.0,18369.0,13620.0,9664.0,6683.0,4863.0,3818.0,3213.0,2434.0,2078.0,1636.0],\"type\":\"scatter\"},{\"line\":{\"color\":\"#414487\"},\"mode\":\"lines\",\"name\":\"AutoETS-hi-80\",\"x\":[\"2024-11-09T00:00:00\",\"2024-11-16T00:00:00\",\"2024-11-23T00:00:00\",\"2024-11-30T00:00:00\"],\"y\":[2975.0124929199537,4063.945111075562,5021.447063608176,5904.037959879653],\"type\":\"scatter\"},{\"line\":{\"color\":\"#1e9c89\"},\"mode\":\"lines\",\"name\":\"AutoETS-hi-95\",\"x\":[\"2024-11-09T00:00:00\",\"2024-11-16T00:00:00\",\"2024-11-23T00:00:00\",\"2024-11-30T00:00:00\"],\"y\":[4004.432318462945,5640.499669059946,7081.422981450074,8412.469266247506],\"type\":\"scatter\"},{\"fill\":\"tonexty\",\"fillcolor\":\"#1e9c89\",\"line\":{\"color\":\"#1e9c89\"},\"mode\":\"lines\",\"name\":\"AutoETS-lo-95\",\"x\":[\"2024-11-09T00:00:00\",\"2024-11-16T00:00:00\",\"2024-11-23T00:00:00\",\"2024-11-30T00:00:00\"],\"y\":[-1943.6480130360856,-3468.9743523245734,-4821.303133052317,-6081.4724144005895],\"type\":\"scatter\"},{\"fill\":\"tonexty\",\"fillcolor\":\"#414487\",\"line\":{\"color\":\"#414487\"},\"mode\":\"lines\",\"name\":\"AutoETS-lo-80\",\"x\":[\"2024-11-09T00:00:00\",\"2024-11-16T00:00:00\",\"2024-11-23T00:00:00\",\"2024-11-30T00:00:00\"],\"y\":[-914.2281874930943,-1892.4197943401891,-2761.327215210419,-3573.041108032735],\"type\":\"scatter\"},{\"line\":{\"color\":\"#2c728e\"},\"mode\":\"lines\",\"name\":\"AutoETS\",\"x\":[\"2024-11-09T00:00:00\",\"2024-11-16T00:00:00\",\"2024-11-23T00:00:00\",\"2024-11-30T00:00:00\"],\"y\":[1030.3921527134298,1085.7626583676865,1130.0599241988784,1165.4984259234586],\"type\":\"scatter\"}],                        {\"template\":{\"data\":{\"histogram2dcontour\":[{\"type\":\"histogram2dcontour\",\"colorbar\":{\"outlinewidth\":0,\"ticks\":\"\"},\"colorscale\":[[0.0,\"#0d0887\"],[0.1111111111111111,\"#46039f\"],[0.2222222222222222,\"#7201a8\"],[0.3333333333333333,\"#9c179e\"],[0.4444444444444444,\"#bd3786\"],[0.5555555555555556,\"#d8576b\"],[0.6666666666666666,\"#ed7953\"],[0.7777777777777778,\"#fb9f3a\"],[0.8888888888888888,\"#fdca26\"],[1.0,\"#f0f921\"]]}],\"choropleth\":[{\"type\":\"choropleth\",\"colorbar\":{\"outlinewidth\":0,\"ticks\":\"\"}}],\"histogram2d\":[{\"type\":\"histogram2d\",\"colorbar\":{\"outlinewidth\":0,\"ticks\":\"\"},\"colorscale\":[[0.0,\"#0d0887\"],[0.1111111111111111,\"#46039f\"],[0.2222222222222222,\"#7201a8\"],[0.3333333333333333,\"#9c179e\"],[0.4444444444444444,\"#bd3786\"],[0.5555555555555556,\"#d8576b\"],[0.6666666666666666,\"#ed7953\"],[0.7777777777777778,\"#fb9f3a\"],[0.8888888888888888,\"#fdca26\"],[1.0,\"#f0f921\"]]}],\"heatmap\":[{\"type\":\"heatmap\",\"colorbar\":{\"outlinewidth\":0,\"ticks\":\"\"},\"colorscale\":[[0.0,\"#0d0887\"],[0.1111111111111111,\"#46039f\"],[0.2222222222222222,\"#7201a8\"],[0.3333333333333333,\"#9c179e\"],[0.4444444444444444,\"#bd3786\"],[0.5555555555555556,\"#d8576b\"],[0.6666666666666666,\"#ed7953\"],[0.7777777777777778,\"#fb9f3a\"],[0.8888888888888888,\"#fdca26\"],[1.0,\"#f0f921\"]]}],\"heatmapgl\":[{\"type\":\"heatmapgl\",\"colorbar\":{\"outlinewidth\":0,\"ticks\":\"\"},\"colorscale\":[[0.0,\"#0d0887\"],[0.1111111111111111,\"#46039f\"],[0.2222222222222222,\"#7201a8\"],[0.3333333333333333,\"#9c179e\"],[0.4444444444444444,\"#bd3786\"],[0.5555555555555556,\"#d8576b\"],[0.6666666666666666,\"#ed7953\"],[0.7777777777777778,\"#fb9f3a\"],[0.8888888888888888,\"#fdca26\"],[1.0,\"#f0f921\"]]}],\"contourcarpet\":[{\"type\":\"contourcarpet\",\"colorbar\":{\"outlinewidth\":0,\"ticks\":\"\"}}],\"contour\":[{\"type\":\"contour\",\"colorbar\":{\"outlinewidth\":0,\"ticks\":\"\"},\"colorscale\":[[0.0,\"#0d0887\"],[0.1111111111111111,\"#46039f\"],[0.2222222222222222,\"#7201a8\"],[0.3333333333333333,\"#9c179e\"],[0.4444444444444444,\"#bd3786\"],[0.5555555555555556,\"#d8576b\"],[0.6666666666666666,\"#ed7953\"],[0.7777777777777778,\"#fb9f3a\"],[0.8888888888888888,\"#fdca26\"],[1.0,\"#f0f921\"]]}],\"surface\":[{\"type\":\"surface\",\"colorbar\":{\"outlinewidth\":0,\"ticks\":\"\"},\"colorscale\":[[0.0,\"#0d0887\"],[0.1111111111111111,\"#46039f\"],[0.2222222222222222,\"#7201a8\"],[0.3333333333333333,\"#9c179e\"],[0.4444444444444444,\"#bd3786\"],[0.5555555555555556,\"#d8576b\"],[0.6666666666666666,\"#ed7953\"],[0.7777777777777778,\"#fb9f3a\"],[0.8888888888888888,\"#fdca26\"],[1.0,\"#f0f921\"]]}],\"mesh3d\":[{\"type\":\"mesh3d\",\"colorbar\":{\"outlinewidth\":0,\"ticks\":\"\"}}],\"scatter\":[{\"fillpattern\":{\"fillmode\":\"overlay\",\"size\":10,\"solidity\":0.2},\"type\":\"scatter\"}],\"parcoords\":[{\"type\":\"parcoords\",\"line\":{\"colorbar\":{\"outlinewidth\":0,\"ticks\":\"\"}}}],\"scatterpolargl\":[{\"type\":\"scatterpolargl\",\"marker\":{\"colorbar\":{\"outlinewidth\":0,\"ticks\":\"\"}}}],\"bar\":[{\"error_x\":{\"color\":\"#2a3f5f\"},\"error_y\":{\"color\":\"#2a3f5f\"},\"marker\":{\"line\":{\"color\":\"#E5ECF6\",\"width\":0.5},\"pattern\":{\"fillmode\":\"overlay\",\"size\":10,\"solidity\":0.2}},\"type\":\"bar\"}],\"scattergeo\":[{\"type\":\"scattergeo\",\"marker\":{\"colorbar\":{\"outlinewidth\":0,\"ticks\":\"\"}}}],\"scatterpolar\":[{\"type\":\"scatterpolar\",\"marker\":{\"colorbar\":{\"outlinewidth\":0,\"ticks\":\"\"}}}],\"histogram\":[{\"marker\":{\"pattern\":{\"fillmode\":\"overlay\",\"size\":10,\"solidity\":0.2}},\"type\":\"histogram\"}],\"scattergl\":[{\"type\":\"scattergl\",\"marker\":{\"colorbar\":{\"outlinewidth\":0,\"ticks\":\"\"}}}],\"scatter3d\":[{\"type\":\"scatter3d\",\"line\":{\"colorbar\":{\"outlinewidth\":0,\"ticks\":\"\"}},\"marker\":{\"colorbar\":{\"outlinewidth\":0,\"ticks\":\"\"}}}],\"scattermapbox\":[{\"type\":\"scattermapbox\",\"marker\":{\"colorbar\":{\"outlinewidth\":0,\"ticks\":\"\"}}}],\"scatterternary\":[{\"type\":\"scatterternary\",\"marker\":{\"colorbar\":{\"outlinewidth\":0,\"ticks\":\"\"}}}],\"scattercarpet\":[{\"type\":\"scattercarpet\",\"marker\":{\"colorbar\":{\"outlinewidth\":0,\"ticks\":\"\"}}}],\"carpet\":[{\"aaxis\":{\"endlinecolor\":\"#2a3f5f\",\"gridcolor\":\"white\",\"linecolor\":\"white\",\"minorgridcolor\":\"white\",\"startlinecolor\":\"#2a3f5f\"},\"baxis\":{\"endlinecolor\":\"#2a3f5f\",\"gridcolor\":\"white\",\"linecolor\":\"white\",\"minorgridcolor\":\"white\",\"startlinecolor\":\"#2a3f5f\"},\"type\":\"carpet\"}],\"table\":[{\"cells\":{\"fill\":{\"color\":\"#EBF0F8\"},\"line\":{\"color\":\"white\"}},\"header\":{\"fill\":{\"color\":\"#C8D4E3\"},\"line\":{\"color\":\"white\"}},\"type\":\"table\"}],\"barpolar\":[{\"marker\":{\"line\":{\"color\":\"#E5ECF6\",\"width\":0.5},\"pattern\":{\"fillmode\":\"overlay\",\"size\":10,\"solidity\":0.2}},\"type\":\"barpolar\"}],\"pie\":[{\"automargin\":true,\"type\":\"pie\"}]},\"layout\":{\"autotypenumbers\":\"strict\",\"colorway\":[\"#636efa\",\"#EF553B\",\"#00cc96\",\"#ab63fa\",\"#FFA15A\",\"#19d3f3\",\"#FF6692\",\"#B6E880\",\"#FF97FF\",\"#FECB52\"],\"font\":{\"color\":\"#2a3f5f\"},\"hovermode\":\"closest\",\"hoverlabel\":{\"align\":\"left\"},\"paper_bgcolor\":\"white\",\"plot_bgcolor\":\"#E5ECF6\",\"polar\":{\"bgcolor\":\"#E5ECF6\",\"angularaxis\":{\"gridcolor\":\"white\",\"linecolor\":\"white\",\"ticks\":\"\"},\"radialaxis\":{\"gridcolor\":\"white\",\"linecolor\":\"white\",\"ticks\":\"\"}},\"ternary\":{\"bgcolor\":\"#E5ECF6\",\"aaxis\":{\"gridcolor\":\"white\",\"linecolor\":\"white\",\"ticks\":\"\"},\"baxis\":{\"gridcolor\":\"white\",\"linecolor\":\"white\",\"ticks\":\"\"},\"caxis\":{\"gridcolor\":\"white\",\"linecolor\":\"white\",\"ticks\":\"\"}},\"coloraxis\":{\"colorbar\":{\"outlinewidth\":0,\"ticks\":\"\"}},\"colorscale\":{\"sequential\":[[0.0,\"#0d0887\"],[0.1111111111111111,\"#46039f\"],[0.2222222222222222,\"#7201a8\"],[0.3333333333333333,\"#9c179e\"],[0.4444444444444444,\"#bd3786\"],[0.5555555555555556,\"#d8576b\"],[0.6666666666666666,\"#ed7953\"],[0.7777777777777778,\"#fb9f3a\"],[0.8888888888888888,\"#fdca26\"],[1.0,\"#f0f921\"]],\"sequentialminus\":[[0.0,\"#0d0887\"],[0.1111111111111111,\"#46039f\"],[0.2222222222222222,\"#7201a8\"],[0.3333333333333333,\"#9c179e\"],[0.4444444444444444,\"#bd3786\"],[0.5555555555555556,\"#d8576b\"],[0.6666666666666666,\"#ed7953\"],[0.7777777777777778,\"#fb9f3a\"],[0.8888888888888888,\"#fdca26\"],[1.0,\"#f0f921\"]],\"diverging\":[[0,\"#8e0152\"],[0.1,\"#c51b7d\"],[0.2,\"#de77ae\"],[0.3,\"#f1b6da\"],[0.4,\"#fde0ef\"],[0.5,\"#f7f7f7\"],[0.6,\"#e6f5d0\"],[0.7,\"#b8e186\"],[0.8,\"#7fbc41\"],[0.9,\"#4d9221\"],[1,\"#276419\"]]},\"xaxis\":{\"gridcolor\":\"white\",\"linecolor\":\"white\",\"ticks\":\"\",\"title\":{\"standoff\":15},\"zerolinecolor\":\"white\",\"automargin\":true,\"zerolinewidth\":2},\"yaxis\":{\"gridcolor\":\"white\",\"linecolor\":\"white\",\"ticks\":\"\",\"title\":{\"standoff\":15},\"zerolinecolor\":\"white\",\"automargin\":true,\"zerolinewidth\":2},\"scene\":{\"xaxis\":{\"backgroundcolor\":\"#E5ECF6\",\"gridcolor\":\"white\",\"linecolor\":\"white\",\"showbackground\":true,\"ticks\":\"\",\"zerolinecolor\":\"white\",\"gridwidth\":2},\"yaxis\":{\"backgroundcolor\":\"#E5ECF6\",\"gridcolor\":\"white\",\"linecolor\":\"white\",\"showbackground\":true,\"ticks\":\"\",\"zerolinecolor\":\"white\",\"gridwidth\":2},\"zaxis\":{\"backgroundcolor\":\"#E5ECF6\",\"gridcolor\":\"white\",\"linecolor\":\"white\",\"showbackground\":true,\"ticks\":\"\",\"zerolinecolor\":\"white\",\"gridwidth\":2}},\"shapedefaults\":{\"line\":{\"color\":\"#2a3f5f\"}},\"annotationdefaults\":{\"arrowcolor\":\"#2a3f5f\",\"arrowhead\":0,\"arrowwidth\":1},\"geo\":{\"bgcolor\":\"white\",\"landcolor\":\"#E5ECF6\",\"subunitcolor\":\"white\",\"showland\":true,\"showlakes\":true,\"lakecolor\":\"white\"},\"title\":{\"x\":0.05},\"mapbox\":{\"style\":\"light\"}}},\"title\":{\"text\":\"Updating Parameter ETS Predictions, 2024-11-02\"},\"xaxis\":{\"title\":{\"text\":\"Date\"}},\"yaxis\":{\"title\":{\"text\":\"Count\"}},\"hovermode\":\"x\"},                        {\"responsive\": true}                    ).then(function(){\n",
       "                            \n",
       "var gd = document.getElementById('268c6d03-cc5d-44f2-b98e-e0e608d10a37');\n",
       "var x = new MutationObserver(function (mutations, observer) {{\n",
       "        var display = window.getComputedStyle(gd).display;\n",
       "        if (!display || display === 'none') {{\n",
       "            console.log([gd, 'removed!']);\n",
       "            Plotly.purge(gd);\n",
       "            observer.disconnect();\n",
       "        }}\n",
       "}});\n",
       "\n",
       "// Listen for the removal of the full notebook cells\n",
       "var notebookContainer = gd.closest('#notebook-container');\n",
       "if (notebookContainer) {{\n",
       "    x.observe(notebookContainer, {childList: true});\n",
       "}}\n",
       "\n",
       "// Listen for the clearing of the current output cell\n",
       "var outputEl = gd.closest('.output');\n",
       "if (outputEl) {{\n",
       "    x.observe(outputEl, {childList: true});\n",
       "}}\n",
       "\n",
       "                        })                };                });            </script>        </div>"
      ]
     },
     "metadata": {},
     "output_type": "display_data"
    },
    {
     "data": {
      "application/vnd.plotly.v1+json": {
       "config": {
        "plotlyServerURL": "https://plot.ly"
       },
       "data": [
        {
         "mode": "lines",
         "name": "Real Data",
         "type": "scatter",
         "x": [
          "2022-02-05T00:00:00",
          "2022-02-12T00:00:00",
          "2022-02-19T00:00:00",
          "2022-02-26T00:00:00",
          "2022-03-05T00:00:00",
          "2022-03-12T00:00:00",
          "2022-03-19T00:00:00",
          "2022-03-26T00:00:00",
          "2022-04-02T00:00:00",
          "2022-04-09T00:00:00",
          "2022-04-16T00:00:00",
          "2022-04-23T00:00:00",
          "2022-04-30T00:00:00",
          "2022-05-07T00:00:00",
          "2022-05-14T00:00:00",
          "2022-05-21T00:00:00",
          "2022-05-28T00:00:00",
          "2022-06-04T00:00:00",
          "2022-06-11T00:00:00",
          "2022-06-18T00:00:00",
          "2022-06-25T00:00:00",
          "2022-07-02T00:00:00",
          "2022-07-09T00:00:00",
          "2022-07-16T00:00:00",
          "2022-07-23T00:00:00",
          "2022-07-30T00:00:00",
          "2022-08-06T00:00:00",
          "2022-08-13T00:00:00",
          "2022-08-20T00:00:00",
          "2022-08-27T00:00:00",
          "2022-09-03T00:00:00",
          "2022-09-10T00:00:00",
          "2022-09-17T00:00:00",
          "2022-09-24T00:00:00",
          "2022-10-01T00:00:00",
          "2022-10-08T00:00:00",
          "2022-10-15T00:00:00",
          "2022-10-22T00:00:00",
          "2022-10-29T00:00:00",
          "2022-11-05T00:00:00",
          "2022-11-12T00:00:00",
          "2022-11-19T00:00:00",
          "2022-11-26T00:00:00",
          "2022-12-03T00:00:00",
          "2022-12-10T00:00:00",
          "2022-12-17T00:00:00",
          "2022-12-24T00:00:00",
          "2022-12-31T00:00:00",
          "2023-01-07T00:00:00",
          "2023-01-14T00:00:00",
          "2023-01-21T00:00:00",
          "2023-01-28T00:00:00",
          "2023-02-04T00:00:00",
          "2023-02-11T00:00:00",
          "2023-02-18T00:00:00",
          "2023-02-25T00:00:00",
          "2023-03-04T00:00:00",
          "2023-03-11T00:00:00",
          "2023-03-18T00:00:00",
          "2023-03-25T00:00:00",
          "2023-04-01T00:00:00",
          "2023-04-08T00:00:00",
          "2023-04-15T00:00:00",
          "2023-04-22T00:00:00",
          "2023-04-29T00:00:00",
          "2023-05-06T00:00:00",
          "2023-05-13T00:00:00",
          "2023-05-20T00:00:00",
          "2023-05-27T00:00:00",
          "2023-06-03T00:00:00",
          "2023-06-10T00:00:00",
          "2023-06-17T00:00:00",
          "2023-06-24T00:00:00",
          "2023-07-01T00:00:00",
          "2023-07-08T00:00:00",
          "2023-07-15T00:00:00",
          "2023-07-22T00:00:00",
          "2023-07-29T00:00:00",
          "2023-08-05T00:00:00",
          "2023-08-12T00:00:00",
          "2023-08-19T00:00:00",
          "2023-08-26T00:00:00",
          "2023-09-02T00:00:00",
          "2023-09-09T00:00:00",
          "2023-09-16T00:00:00",
          "2023-09-23T00:00:00",
          "2023-09-30T00:00:00",
          "2023-10-07T00:00:00",
          "2023-10-14T00:00:00",
          "2023-10-21T00:00:00",
          "2023-10-28T00:00:00",
          "2023-11-04T00:00:00",
          "2023-11-11T00:00:00",
          "2023-11-18T00:00:00",
          "2023-11-25T00:00:00",
          "2023-12-02T00:00:00",
          "2023-12-09T00:00:00",
          "2023-12-16T00:00:00",
          "2023-12-23T00:00:00",
          "2023-12-30T00:00:00",
          "2024-01-06T00:00:00",
          "2024-01-13T00:00:00",
          "2024-01-20T00:00:00",
          "2024-01-27T00:00:00",
          "2024-02-03T00:00:00",
          "2024-02-10T00:00:00",
          "2024-02-17T00:00:00",
          "2024-02-24T00:00:00",
          "2024-03-02T00:00:00",
          "2024-03-09T00:00:00",
          "2024-03-16T00:00:00",
          "2024-03-23T00:00:00",
          "2024-03-30T00:00:00",
          "2024-04-06T00:00:00",
          "2024-04-13T00:00:00",
          "2024-04-20T00:00:00",
          "2024-04-27T00:00:00",
          "2024-05-04T00:00:00",
          "2024-05-11T00:00:00",
          "2024-05-18T00:00:00",
          "2024-05-25T00:00:00",
          "2024-06-01T00:00:00",
          "2024-06-08T00:00:00",
          "2024-06-15T00:00:00",
          "2024-06-22T00:00:00",
          "2024-06-29T00:00:00",
          "2024-07-06T00:00:00",
          "2024-07-13T00:00:00",
          "2024-07-20T00:00:00",
          "2024-07-27T00:00:00",
          "2024-08-03T00:00:00",
          "2024-08-10T00:00:00",
          "2024-08-17T00:00:00",
          "2024-08-24T00:00:00",
          "2024-08-31T00:00:00",
          "2024-09-07T00:00:00",
          "2024-09-14T00:00:00",
          "2024-09-21T00:00:00",
          "2024-09-28T00:00:00",
          "2024-10-05T00:00:00",
          "2024-10-12T00:00:00",
          "2024-10-19T00:00:00",
          "2024-10-26T00:00:00",
          "2024-11-02T00:00:00",
          "2024-11-09T00:00:00",
          "2024-11-16T00:00:00",
          "2024-11-23T00:00:00",
          "2024-11-30T00:00:00",
          "2024-12-07T00:00:00",
          "2024-12-14T00:00:00",
          "2024-12-21T00:00:00",
          "2024-12-28T00:00:00",
          "2025-01-04T00:00:00",
          "2025-01-11T00:00:00",
          "2025-01-18T00:00:00",
          "2025-01-25T00:00:00",
          "2025-02-01T00:00:00",
          "2025-02-08T00:00:00",
          "2025-02-15T00:00:00",
          "2025-02-22T00:00:00",
          "2025-03-01T00:00:00",
          "2025-03-08T00:00:00",
          "2025-03-15T00:00:00",
          "2025-03-22T00:00:00",
          "2025-03-29T00:00:00",
          "2025-04-05T00:00:00",
          "2025-04-12T00:00:00",
          "2025-04-19T00:00:00",
          "2025-04-26T00:00:00",
          "2025-05-03T00:00:00",
          "2025-05-10T00:00:00",
          "2025-05-17T00:00:00"
         ],
         "y": [
          1091,
          1162,
          1491,
          1603,
          1791,
          2094,
          2622,
          2917,
          3000,
          3135,
          3297,
          3468,
          3179,
          3172,
          3117,
          3130,
          2737,
          2676,
          2202,
          1775,
          1366,
          1073,
          776,
          766,
          627,
          522,
          486,
          490,
          483,
          483,
          545,
          576,
          665,
          796,
          921,
          1306,
          1670,
          2273,
          4181,
          6401,
          8589,
          10969,
          18173,
          26829,
          24035,
          21607,
          19624,
          19474,
          14074,
          7183,
          4488,
          3091,
          2594,
          2176,
          1908,
          1647,
          1501,
          1372,
          1415,
          1330,
          1295,
          1198,
          1077,
          980,
          903,
          994,
          978,
          1116,
          974,
          939,
          935,
          873,
          813,
          836,
          699,
          736,
          645,
          769,
          690,
          705,
          738,
          792,
          875,
          803,
          821,
          881,
          1026,
          1108,
          1214,
          1469,
          1614,
          2012,
          2775,
          3491,
          4386,
          5954,
          7495,
          10269,
          15717,
          21682,
          19548,
          15902,
          13302,
          13025,
          11963,
          11629,
          11126,
          10869,
          10814,
          9416,
          7324,
          6049,
          5574,
          5071,
          4073,
          2943,
          2420,
          1485,
          852,
          681,
          610,
          590,
          511,
          517,
          441,
          356,
          341,
          367,
          324,
          273,
          275,
          275,
          273,
          274,
          259,
          223,
          319,
          293,
          223,
          286,
          288,
          552,
          1079,
          975,
          2076,
          2529,
          3089,
          4278,
          6286,
          9152,
          15399,
          27651,
          38672,
          30698,
          32963,
          40566,
          51141,
          54115,
          46036,
          37647,
          30753,
          23970,
          18369,
          13620,
          9664,
          6683,
          4863,
          3818,
          3213,
          2434,
          2078,
          1636
         ]
        },
        {
         "line": {
          "color": "#414487"
         },
         "mode": "lines",
         "name": "AutoETS-hi-80",
         "type": "scatter",
         "x": [
          "2024-11-23T00:00:00",
          "2024-11-30T00:00:00",
          "2024-12-07T00:00:00",
          "2024-12-14T00:00:00"
         ],
         "y": [
          4671.034706667345,
          5906.95949637843,
          6981.581838996113,
          7957.231797226736
         ]
        },
        {
         "line": {
          "color": "#1e9c89"
         },
         "mode": "lines",
         "name": "AutoETS-hi-95",
         "type": "scatter",
         "x": [
          "2024-11-23T00:00:00",
          "2024-11-30T00:00:00",
          "2024-12-07T00:00:00",
          "2024-12-14T00:00:00"
         ],
         "y": [
          5694.885218001893,
          7474.982121165114,
          9030.405560701696,
          10452.077682966239
         ]
        },
        {
         "fill": "tonexty",
         "fillcolor": "#1e9c89",
         "line": {
          "color": "#1e9c89"
         },
         "mode": "lines",
         "name": "AutoETS-lo-95",
         "type": "scatter",
         "x": [
          "2024-11-23T00:00:00",
          "2024-11-30T00:00:00",
          "2024-12-07T00:00:00",
          "2024-12-14T00:00:00"
         ],
         "y": [
          -221.0151151318405,
          -1585.1936228949562,
          -2807.8821615670468,
          -3963.366215504388
         ]
        },
        {
         "fill": "tonexty",
         "fillcolor": "#414487",
         "line": {
          "color": "#414487"
         },
         "mode": "lines",
         "name": "AutoETS-lo-80",
         "type": "scatter",
         "x": [
          "2024-11-23T00:00:00",
          "2024-11-30T00:00:00",
          "2024-12-07T00:00:00",
          "2024-12-14T00:00:00"
         ],
         "y": [
          802.8353962027079,
          -17.170998108272215,
          -759.0584398614628,
          -1468.5203297648854
         ]
        },
        {
         "line": {
          "color": "#2c728e"
         },
         "mode": "lines",
         "name": "AutoETS",
         "type": "scatter",
         "x": [
          "2024-11-23T00:00:00",
          "2024-11-30T00:00:00",
          "2024-12-07T00:00:00",
          "2024-12-14T00:00:00"
         ],
         "y": [
          2736.9350514350263,
          2944.894249135079,
          3111.261699567325,
          3244.3557337309253
         ]
        }
       ],
       "layout": {
        "autosize": true,
        "hovermode": "x",
        "template": {
         "data": {
          "bar": [
           {
            "error_x": {
             "color": "#2a3f5f"
            },
            "error_y": {
             "color": "#2a3f5f"
            },
            "marker": {
             "line": {
              "color": "#E5ECF6",
              "width": 0.5
             },
             "pattern": {
              "fillmode": "overlay",
              "size": 10,
              "solidity": 0.2
             }
            },
            "type": "bar"
           }
          ],
          "barpolar": [
           {
            "marker": {
             "line": {
              "color": "#E5ECF6",
              "width": 0.5
             },
             "pattern": {
              "fillmode": "overlay",
              "size": 10,
              "solidity": 0.2
             }
            },
            "type": "barpolar"
           }
          ],
          "carpet": [
           {
            "aaxis": {
             "endlinecolor": "#2a3f5f",
             "gridcolor": "white",
             "linecolor": "white",
             "minorgridcolor": "white",
             "startlinecolor": "#2a3f5f"
            },
            "baxis": {
             "endlinecolor": "#2a3f5f",
             "gridcolor": "white",
             "linecolor": "white",
             "minorgridcolor": "white",
             "startlinecolor": "#2a3f5f"
            },
            "type": "carpet"
           }
          ],
          "choropleth": [
           {
            "colorbar": {
             "outlinewidth": 0,
             "ticks": ""
            },
            "type": "choropleth"
           }
          ],
          "contour": [
           {
            "colorbar": {
             "outlinewidth": 0,
             "ticks": ""
            },
            "colorscale": [
             [
              0,
              "#0d0887"
             ],
             [
              0.1111111111111111,
              "#46039f"
             ],
             [
              0.2222222222222222,
              "#7201a8"
             ],
             [
              0.3333333333333333,
              "#9c179e"
             ],
             [
              0.4444444444444444,
              "#bd3786"
             ],
             [
              0.5555555555555556,
              "#d8576b"
             ],
             [
              0.6666666666666666,
              "#ed7953"
             ],
             [
              0.7777777777777778,
              "#fb9f3a"
             ],
             [
              0.8888888888888888,
              "#fdca26"
             ],
             [
              1,
              "#f0f921"
             ]
            ],
            "type": "contour"
           }
          ],
          "contourcarpet": [
           {
            "colorbar": {
             "outlinewidth": 0,
             "ticks": ""
            },
            "type": "contourcarpet"
           }
          ],
          "heatmap": [
           {
            "colorbar": {
             "outlinewidth": 0,
             "ticks": ""
            },
            "colorscale": [
             [
              0,
              "#0d0887"
             ],
             [
              0.1111111111111111,
              "#46039f"
             ],
             [
              0.2222222222222222,
              "#7201a8"
             ],
             [
              0.3333333333333333,
              "#9c179e"
             ],
             [
              0.4444444444444444,
              "#bd3786"
             ],
             [
              0.5555555555555556,
              "#d8576b"
             ],
             [
              0.6666666666666666,
              "#ed7953"
             ],
             [
              0.7777777777777778,
              "#fb9f3a"
             ],
             [
              0.8888888888888888,
              "#fdca26"
             ],
             [
              1,
              "#f0f921"
             ]
            ],
            "type": "heatmap"
           }
          ],
          "heatmapgl": [
           {
            "colorbar": {
             "outlinewidth": 0,
             "ticks": ""
            },
            "colorscale": [
             [
              0,
              "#0d0887"
             ],
             [
              0.1111111111111111,
              "#46039f"
             ],
             [
              0.2222222222222222,
              "#7201a8"
             ],
             [
              0.3333333333333333,
              "#9c179e"
             ],
             [
              0.4444444444444444,
              "#bd3786"
             ],
             [
              0.5555555555555556,
              "#d8576b"
             ],
             [
              0.6666666666666666,
              "#ed7953"
             ],
             [
              0.7777777777777778,
              "#fb9f3a"
             ],
             [
              0.8888888888888888,
              "#fdca26"
             ],
             [
              1,
              "#f0f921"
             ]
            ],
            "type": "heatmapgl"
           }
          ],
          "histogram": [
           {
            "marker": {
             "pattern": {
              "fillmode": "overlay",
              "size": 10,
              "solidity": 0.2
             }
            },
            "type": "histogram"
           }
          ],
          "histogram2d": [
           {
            "colorbar": {
             "outlinewidth": 0,
             "ticks": ""
            },
            "colorscale": [
             [
              0,
              "#0d0887"
             ],
             [
              0.1111111111111111,
              "#46039f"
             ],
             [
              0.2222222222222222,
              "#7201a8"
             ],
             [
              0.3333333333333333,
              "#9c179e"
             ],
             [
              0.4444444444444444,
              "#bd3786"
             ],
             [
              0.5555555555555556,
              "#d8576b"
             ],
             [
              0.6666666666666666,
              "#ed7953"
             ],
             [
              0.7777777777777778,
              "#fb9f3a"
             ],
             [
              0.8888888888888888,
              "#fdca26"
             ],
             [
              1,
              "#f0f921"
             ]
            ],
            "type": "histogram2d"
           }
          ],
          "histogram2dcontour": [
           {
            "colorbar": {
             "outlinewidth": 0,
             "ticks": ""
            },
            "colorscale": [
             [
              0,
              "#0d0887"
             ],
             [
              0.1111111111111111,
              "#46039f"
             ],
             [
              0.2222222222222222,
              "#7201a8"
             ],
             [
              0.3333333333333333,
              "#9c179e"
             ],
             [
              0.4444444444444444,
              "#bd3786"
             ],
             [
              0.5555555555555556,
              "#d8576b"
             ],
             [
              0.6666666666666666,
              "#ed7953"
             ],
             [
              0.7777777777777778,
              "#fb9f3a"
             ],
             [
              0.8888888888888888,
              "#fdca26"
             ],
             [
              1,
              "#f0f921"
             ]
            ],
            "type": "histogram2dcontour"
           }
          ],
          "mesh3d": [
           {
            "colorbar": {
             "outlinewidth": 0,
             "ticks": ""
            },
            "type": "mesh3d"
           }
          ],
          "parcoords": [
           {
            "line": {
             "colorbar": {
              "outlinewidth": 0,
              "ticks": ""
             }
            },
            "type": "parcoords"
           }
          ],
          "pie": [
           {
            "automargin": true,
            "type": "pie"
           }
          ],
          "scatter": [
           {
            "fillpattern": {
             "fillmode": "overlay",
             "size": 10,
             "solidity": 0.2
            },
            "type": "scatter"
           }
          ],
          "scatter3d": [
           {
            "line": {
             "colorbar": {
              "outlinewidth": 0,
              "ticks": ""
             }
            },
            "marker": {
             "colorbar": {
              "outlinewidth": 0,
              "ticks": ""
             }
            },
            "type": "scatter3d"
           }
          ],
          "scattercarpet": [
           {
            "marker": {
             "colorbar": {
              "outlinewidth": 0,
              "ticks": ""
             }
            },
            "type": "scattercarpet"
           }
          ],
          "scattergeo": [
           {
            "marker": {
             "colorbar": {
              "outlinewidth": 0,
              "ticks": ""
             }
            },
            "type": "scattergeo"
           }
          ],
          "scattergl": [
           {
            "marker": {
             "colorbar": {
              "outlinewidth": 0,
              "ticks": ""
             }
            },
            "type": "scattergl"
           }
          ],
          "scattermapbox": [
           {
            "marker": {
             "colorbar": {
              "outlinewidth": 0,
              "ticks": ""
             }
            },
            "type": "scattermapbox"
           }
          ],
          "scatterpolar": [
           {
            "marker": {
             "colorbar": {
              "outlinewidth": 0,
              "ticks": ""
             }
            },
            "type": "scatterpolar"
           }
          ],
          "scatterpolargl": [
           {
            "marker": {
             "colorbar": {
              "outlinewidth": 0,
              "ticks": ""
             }
            },
            "type": "scatterpolargl"
           }
          ],
          "scatterternary": [
           {
            "marker": {
             "colorbar": {
              "outlinewidth": 0,
              "ticks": ""
             }
            },
            "type": "scatterternary"
           }
          ],
          "surface": [
           {
            "colorbar": {
             "outlinewidth": 0,
             "ticks": ""
            },
            "colorscale": [
             [
              0,
              "#0d0887"
             ],
             [
              0.1111111111111111,
              "#46039f"
             ],
             [
              0.2222222222222222,
              "#7201a8"
             ],
             [
              0.3333333333333333,
              "#9c179e"
             ],
             [
              0.4444444444444444,
              "#bd3786"
             ],
             [
              0.5555555555555556,
              "#d8576b"
             ],
             [
              0.6666666666666666,
              "#ed7953"
             ],
             [
              0.7777777777777778,
              "#fb9f3a"
             ],
             [
              0.8888888888888888,
              "#fdca26"
             ],
             [
              1,
              "#f0f921"
             ]
            ],
            "type": "surface"
           }
          ],
          "table": [
           {
            "cells": {
             "fill": {
              "color": "#EBF0F8"
             },
             "line": {
              "color": "white"
             }
            },
            "header": {
             "fill": {
              "color": "#C8D4E3"
             },
             "line": {
              "color": "white"
             }
            },
            "type": "table"
           }
          ]
         },
         "layout": {
          "annotationdefaults": {
           "arrowcolor": "#2a3f5f",
           "arrowhead": 0,
           "arrowwidth": 1
          },
          "autotypenumbers": "strict",
          "coloraxis": {
           "colorbar": {
            "outlinewidth": 0,
            "ticks": ""
           }
          },
          "colorscale": {
           "diverging": [
            [
             0,
             "#8e0152"
            ],
            [
             0.1,
             "#c51b7d"
            ],
            [
             0.2,
             "#de77ae"
            ],
            [
             0.3,
             "#f1b6da"
            ],
            [
             0.4,
             "#fde0ef"
            ],
            [
             0.5,
             "#f7f7f7"
            ],
            [
             0.6,
             "#e6f5d0"
            ],
            [
             0.7,
             "#b8e186"
            ],
            [
             0.8,
             "#7fbc41"
            ],
            [
             0.9,
             "#4d9221"
            ],
            [
             1,
             "#276419"
            ]
           ],
           "sequential": [
            [
             0,
             "#0d0887"
            ],
            [
             0.1111111111111111,
             "#46039f"
            ],
            [
             0.2222222222222222,
             "#7201a8"
            ],
            [
             0.3333333333333333,
             "#9c179e"
            ],
            [
             0.4444444444444444,
             "#bd3786"
            ],
            [
             0.5555555555555556,
             "#d8576b"
            ],
            [
             0.6666666666666666,
             "#ed7953"
            ],
            [
             0.7777777777777778,
             "#fb9f3a"
            ],
            [
             0.8888888888888888,
             "#fdca26"
            ],
            [
             1,
             "#f0f921"
            ]
           ],
           "sequentialminus": [
            [
             0,
             "#0d0887"
            ],
            [
             0.1111111111111111,
             "#46039f"
            ],
            [
             0.2222222222222222,
             "#7201a8"
            ],
            [
             0.3333333333333333,
             "#9c179e"
            ],
            [
             0.4444444444444444,
             "#bd3786"
            ],
            [
             0.5555555555555556,
             "#d8576b"
            ],
            [
             0.6666666666666666,
             "#ed7953"
            ],
            [
             0.7777777777777778,
             "#fb9f3a"
            ],
            [
             0.8888888888888888,
             "#fdca26"
            ],
            [
             1,
             "#f0f921"
            ]
           ]
          },
          "colorway": [
           "#636efa",
           "#EF553B",
           "#00cc96",
           "#ab63fa",
           "#FFA15A",
           "#19d3f3",
           "#FF6692",
           "#B6E880",
           "#FF97FF",
           "#FECB52"
          ],
          "font": {
           "color": "#2a3f5f"
          },
          "geo": {
           "bgcolor": "white",
           "lakecolor": "white",
           "landcolor": "#E5ECF6",
           "showlakes": true,
           "showland": true,
           "subunitcolor": "white"
          },
          "hoverlabel": {
           "align": "left"
          },
          "hovermode": "closest",
          "mapbox": {
           "style": "light"
          },
          "paper_bgcolor": "white",
          "plot_bgcolor": "#E5ECF6",
          "polar": {
           "angularaxis": {
            "gridcolor": "white",
            "linecolor": "white",
            "ticks": ""
           },
           "bgcolor": "#E5ECF6",
           "radialaxis": {
            "gridcolor": "white",
            "linecolor": "white",
            "ticks": ""
           }
          },
          "scene": {
           "xaxis": {
            "backgroundcolor": "#E5ECF6",
            "gridcolor": "white",
            "gridwidth": 2,
            "linecolor": "white",
            "showbackground": true,
            "ticks": "",
            "zerolinecolor": "white"
           },
           "yaxis": {
            "backgroundcolor": "#E5ECF6",
            "gridcolor": "white",
            "gridwidth": 2,
            "linecolor": "white",
            "showbackground": true,
            "ticks": "",
            "zerolinecolor": "white"
           },
           "zaxis": {
            "backgroundcolor": "#E5ECF6",
            "gridcolor": "white",
            "gridwidth": 2,
            "linecolor": "white",
            "showbackground": true,
            "ticks": "",
            "zerolinecolor": "white"
           }
          },
          "shapedefaults": {
           "line": {
            "color": "#2a3f5f"
           }
          },
          "ternary": {
           "aaxis": {
            "gridcolor": "white",
            "linecolor": "white",
            "ticks": ""
           },
           "baxis": {
            "gridcolor": "white",
            "linecolor": "white",
            "ticks": ""
           },
           "bgcolor": "#E5ECF6",
           "caxis": {
            "gridcolor": "white",
            "linecolor": "white",
            "ticks": ""
           }
          },
          "title": {
           "x": 0.05
          },
          "xaxis": {
           "automargin": true,
           "gridcolor": "white",
           "linecolor": "white",
           "ticks": "",
           "title": {
            "standoff": 15
           },
           "zerolinecolor": "white",
           "zerolinewidth": 2
          },
          "yaxis": {
           "automargin": true,
           "gridcolor": "white",
           "linecolor": "white",
           "ticks": "",
           "title": {
            "standoff": 15
           },
           "zerolinecolor": "white",
           "zerolinewidth": 2
          }
         }
        },
        "title": {
         "text": "Updating Parameter ETS Predictions, 2024-11-16"
        },
        "xaxis": {
         "autorange": true,
         "range": [
          "2022-02-05",
          "2025-05-17"
         ],
         "title": {
          "text": "Date"
         },
         "type": "date"
        },
        "yaxis": {
         "autorange": true,
         "range": [
          -7189.942116365743,
          57341.57590086135
         ],
         "title": {
          "text": "Count"
         },
         "type": "linear"
        }
       }
      },
      "image/png": "[encoded data removed]",
      "text/html": [
       "<div>                            <div id=\"911f023e-1698-4fda-8fcc-86df44be8e9b\" class=\"plotly-graph-div\" style=\"height:525px; width:100%;\"></div>            <script type=\"text/javascript\">                require([\"plotly\"], function(Plotly) {                    window.PLOTLYENV=window.PLOTLYENV || {};                                    if (document.getElementById(\"911f023e-1698-4fda-8fcc-86df44be8e9b\")) {                    Plotly.newPlot(                        \"911f023e-1698-4fda-8fcc-86df44be8e9b\",                        [{\"mode\":\"lines\",\"name\":\"Real Data\",\"x\":[\"2022-02-05T00:00:00\",\"2022-02-12T00:00:00\",\"2022-02-19T00:00:00\",\"2022-02-26T00:00:00\",\"2022-03-05T00:00:00\",\"2022-03-12T00:00:00\",\"2022-03-19T00:00:00\",\"2022-03-26T00:00:00\",\"2022-04-02T00:00:00\",\"2022-04-09T00:00:00\",\"2022-04-16T00:00:00\",\"2022-04-23T00:00:00\",\"2022-04-30T00:00:00\",\"2022-05-07T00:00:00\",\"2022-05-14T00:00:00\",\"2022-05-21T00:00:00\",\"2022-05-28T00:00:00\",\"2022-06-04T00:00:00\",\"2022-06-11T00:00:00\",\"2022-06-18T00:00:00\",\"2022-06-25T00:00:00\",\"2022-07-02T00:00:00\",\"2022-07-09T00:00:00\",\"2022-07-16T00:00:00\",\"2022-07-23T00:00:00\",\"2022-07-30T00:00:00\",\"2022-08-06T00:00:00\",\"2022-08-13T00:00:00\",\"2022-08-20T00:00:00\",\"2022-08-27T00:00:00\",\"2022-09-03T00:00:00\",\"2022-09-10T00:00:00\",\"2022-09-17T00:00:00\",\"2022-09-24T00:00:00\",\"2022-10-01T00:00:00\",\"2022-10-08T00:00:00\",\"2022-10-15T00:00:00\",\"2022-10-22T00:00:00\",\"2022-10-29T00:00:00\",\"2022-11-05T00:00:00\",\"2022-11-12T00:00:00\",\"2022-11-19T00:00:00\",\"2022-11-26T00:00:00\",\"2022-12-03T00:00:00\",\"2022-12-10T00:00:00\",\"2022-12-17T00:00:00\",\"2022-12-24T00:00:00\",\"2022-12-31T00:00:00\",\"2023-01-07T00:00:00\",\"2023-01-14T00:00:00\",\"2023-01-21T00:00:00\",\"2023-01-28T00:00:00\",\"2023-02-04T00:00:00\",\"2023-02-11T00:00:00\",\"2023-02-18T00:00:00\",\"2023-02-25T00:00:00\",\"2023-03-04T00:00:00\",\"2023-03-11T00:00:00\",\"2023-03-18T00:00:00\",\"2023-03-25T00:00:00\",\"2023-04-01T00:00:00\",\"2023-04-08T00:00:00\",\"2023-04-15T00:00:00\",\"2023-04-22T00:00:00\",\"2023-04-29T00:00:00\",\"2023-05-06T00:00:00\",\"2023-05-13T00:00:00\",\"2023-05-20T00:00:00\",\"2023-05-27T00:00:00\",\"2023-06-03T00:00:00\",\"2023-06-10T00:00:00\",\"2023-06-17T00:00:00\",\"2023-06-24T00:00:00\",\"2023-07-01T00:00:00\",\"2023-07-08T00:00:00\",\"2023-07-15T00:00:00\",\"2023-07-22T00:00:00\",\"2023-07-29T00:00:00\",\"2023-08-05T00:00:00\",\"2023-08-12T00:00:00\",\"2023-08-19T00:00:00\",\"2023-08-26T00:00:00\",\"2023-09-02T00:00:00\",\"2023-09-09T00:00:00\",\"2023-09-16T00:00:00\",\"2023-09-23T00:00:00\",\"2023-09-30T00:00:00\",\"2023-10-07T00:00:00\",\"2023-10-14T00:00:00\",\"2023-10-21T00:00:00\",\"2023-10-28T00:00:00\",\"2023-11-04T00:00:00\",\"2023-11-11T00:00:00\",\"2023-11-18T00:00:00\",\"2023-11-25T00:00:00\",\"2023-12-02T00:00:00\",\"2023-12-09T00:00:00\",\"2023-12-16T00:00:00\",\"2023-12-23T00:00:00\",\"2023-12-30T00:00:00\",\"2024-01-06T00:00:00\",\"2024-01-13T00:00:00\",\"2024-01-20T00:00:00\",\"2024-01-27T00:00:00\",\"2024-02-03T00:00:00\",\"2024-02-10T00:00:00\",\"2024-02-17T00:00:00\",\"2024-02-24T00:00:00\",\"2024-03-02T00:00:00\",\"2024-03-09T00:00:00\",\"2024-03-16T00:00:00\",\"2024-03-23T00:00:00\",\"2024-03-30T00:00:00\",\"2024-04-06T00:00:00\",\"2024-04-13T00:00:00\",\"2024-04-20T00:00:00\",\"2024-04-27T00:00:00\",\"2024-05-04T00:00:00\",\"2024-05-11T00:00:00\",\"2024-05-18T00:00:00\",\"2024-05-25T00:00:00\",\"2024-06-01T00:00:00\",\"2024-06-08T00:00:00\",\"2024-06-15T00:00:00\",\"2024-06-22T00:00:00\",\"2024-06-29T00:00:00\",\"2024-07-06T00:00:00\",\"2024-07-13T00:00:00\",\"2024-07-20T00:00:00\",\"2024-07-27T00:00:00\",\"2024-08-03T00:00:00\",\"2024-08-10T00:00:00\",\"2024-08-17T00:00:00\",\"2024-08-24T00:00:00\",\"2024-08-31T00:00:00\",\"2024-09-07T00:00:00\",\"2024-09-14T00:00:00\",\"2024-09-21T00:00:00\",\"2024-09-28T00:00:00\",\"2024-10-05T00:00:00\",\"2024-10-12T00:00:00\",\"2024-10-19T00:00:00\",\"2024-10-26T00:00:00\",\"2024-11-02T00:00:00\",\"2024-11-09T00:00:00\",\"2024-11-16T00:00:00\",\"2024-11-23T00:00:00\",\"2024-11-30T00:00:00\",\"2024-12-07T00:00:00\",\"2024-12-14T00:00:00\",\"2024-12-21T00:00:00\",\"2024-12-28T00:00:00\",\"2025-01-04T00:00:00\",\"2025-01-11T00:00:00\",\"2025-01-18T00:00:00\",\"2025-01-25T00:00:00\",\"2025-02-01T00:00:00\",\"2025-02-08T00:00:00\",\"2025-02-15T00:00:00\",\"2025-02-22T00:00:00\",\"2025-03-01T00:00:00\",\"2025-03-08T00:00:00\",\"2025-03-15T00:00:00\",\"2025-03-22T00:00:00\",\"2025-03-29T00:00:00\",\"2025-04-05T00:00:00\",\"2025-04-12T00:00:00\",\"2025-04-19T00:00:00\",\"2025-04-26T00:00:00\",\"2025-05-03T00:00:00\",\"2025-05-10T00:00:00\",\"2025-05-17T00:00:00\"],\"y\":[1091.0,1162.0,1491.0,1603.0,1791.0,2094.0,2622.0,2917.0,3000.0,3135.0,3297.0,3468.0,3179.0,3172.0,3117.0,3130.0,2737.0,2676.0,2202.0,1775.0,1366.0,1073.0,776.0,766.0,627.0,522.0,486.0,490.0,483.0,483.0,545.0,576.0,665.0,796.0,921.0,1306.0,1670.0,2273.0,4181.0,6401.0,8589.0,10969.0,18173.0,26829.0,24035.0,21607.0,19624.0,19474.0,14074.0,7183.0,4488.0,3091.0,2594.0,2176.0,1908.0,1647.0,1501.0,1372.0,1415.0,1330.0,1295.0,1198.0,1077.0,980.0,903.0,994.0,978.0,1116.0,974.0,939.0,935.0,873.0,813.0,836.0,699.0,736.0,645.0,769.0,690.0,705.0,738.0,792.0,875.0,803.0,821.0,881.0,1026.0,1108.0,1214.0,1469.0,1614.0,2012.0,2775.0,3491.0,4386.0,5954.0,7495.0,10269.0,15717.0,21682.0,19548.0,15902.0,13302.0,13025.0,11963.0,11629.0,11126.0,10869.0,10814.0,9416.0,7324.0,6049.0,5574.0,5071.0,4073.0,2943.0,2420.0,1485.0,852.0,681.0,610.0,590.0,511.0,517.0,441.0,356.0,341.0,367.0,324.0,273.0,275.0,275.0,273.0,274.0,259.0,223.0,319.0,293.0,223.0,286.0,288.0,552.0,1079.0,975.0,2076.0,2529.0,3089.0,4278.0,6286.0,9152.0,15399.0,27651.0,38672.0,30698.0,32963.0,40566.0,51141.0,54115.0,46036.0,37647.0,30753.0,23970.0,18369.0,13620.0,9664.0,6683.0,4863.0,3818.0,3213.0,2434.0,2078.0,1636.0],\"type\":\"scatter\"},{\"line\":{\"color\":\"#414487\"},\"mode\":\"lines\",\"name\":\"AutoETS-hi-80\",\"x\":[\"2024-11-23T00:00:00\",\"2024-11-30T00:00:00\",\"2024-12-07T00:00:00\",\"2024-12-14T00:00:00\"],\"y\":[4671.034706667345,5906.95949637843,6981.581838996113,7957.231797226736],\"type\":\"scatter\"},{\"line\":{\"color\":\"#1e9c89\"},\"mode\":\"lines\",\"name\":\"AutoETS-hi-95\",\"x\":[\"2024-11-23T00:00:00\",\"2024-11-30T00:00:00\",\"2024-12-07T00:00:00\",\"2024-12-14T00:00:00\"],\"y\":[5694.885218001893,7474.982121165114,9030.405560701696,10452.077682966239],\"type\":\"scatter\"},{\"fill\":\"tonexty\",\"fillcolor\":\"#1e9c89\",\"line\":{\"color\":\"#1e9c89\"},\"mode\":\"lines\",\"name\":\"AutoETS-lo-95\",\"x\":[\"2024-11-23T00:00:00\",\"2024-11-30T00:00:00\",\"2024-12-07T00:00:00\",\"2024-12-14T00:00:00\"],\"y\":[-221.0151151318405,-1585.1936228949562,-2807.8821615670468,-3963.366215504388],\"type\":\"scatter\"},{\"fill\":\"tonexty\",\"fillcolor\":\"#414487\",\"line\":{\"color\":\"#414487\"},\"mode\":\"lines\",\"name\":\"AutoETS-lo-80\",\"x\":[\"2024-11-23T00:00:00\",\"2024-11-30T00:00:00\",\"2024-12-07T00:00:00\",\"2024-12-14T00:00:00\"],\"y\":[802.8353962027079,-17.170998108272215,-759.0584398614628,-1468.5203297648854],\"type\":\"scatter\"},{\"line\":{\"color\":\"#2c728e\"},\"mode\":\"lines\",\"name\":\"AutoETS\",\"x\":[\"2024-11-23T00:00:00\",\"2024-11-30T00:00:00\",\"2024-12-07T00:00:00\",\"2024-12-14T00:00:00\"],\"y\":[2736.9350514350263,2944.894249135079,3111.261699567325,3244.3557337309253],\"type\":\"scatter\"}],                        {\"template\":{\"data\":{\"histogram2dcontour\":[{\"type\":\"histogram2dcontour\",\"colorbar\":{\"outlinewidth\":0,\"ticks\":\"\"},\"colorscale\":[[0.0,\"#0d0887\"],[0.1111111111111111,\"#46039f\"],[0.2222222222222222,\"#7201a8\"],[0.3333333333333333,\"#9c179e\"],[0.4444444444444444,\"#bd3786\"],[0.5555555555555556,\"#d8576b\"],[0.6666666666666666,\"#ed7953\"],[0.7777777777777778,\"#fb9f3a\"],[0.8888888888888888,\"#fdca26\"],[1.0,\"#f0f921\"]]}],\"choropleth\":[{\"type\":\"choropleth\",\"colorbar\":{\"outlinewidth\":0,\"ticks\":\"\"}}],\"histogram2d\":[{\"type\":\"histogram2d\",\"colorbar\":{\"outlinewidth\":0,\"ticks\":\"\"},\"colorscale\":[[0.0,\"#0d0887\"],[0.1111111111111111,\"#46039f\"],[0.2222222222222222,\"#7201a8\"],[0.3333333333333333,\"#9c179e\"],[0.4444444444444444,\"#bd3786\"],[0.5555555555555556,\"#d8576b\"],[0.6666666666666666,\"#ed7953\"],[0.7777777777777778,\"#fb9f3a\"],[0.8888888888888888,\"#fdca26\"],[1.0,\"#f0f921\"]]}],\"heatmap\":[{\"type\":\"heatmap\",\"colorbar\":{\"outlinewidth\":0,\"ticks\":\"\"},\"colorscale\":[[0.0,\"#0d0887\"],[0.1111111111111111,\"#46039f\"],[0.2222222222222222,\"#7201a8\"],[0.3333333333333333,\"#9c179e\"],[0.4444444444444444,\"#bd3786\"],[0.5555555555555556,\"#d8576b\"],[0.6666666666666666,\"#ed7953\"],[0.7777777777777778,\"#fb9f3a\"],[0.8888888888888888,\"#fdca26\"],[1.0,\"#f0f921\"]]}],\"heatmapgl\":[{\"type\":\"heatmapgl\",\"colorbar\":{\"outlinewidth\":0,\"ticks\":\"\"},\"colorscale\":[[0.0,\"#0d0887\"],[0.1111111111111111,\"#46039f\"],[0.2222222222222222,\"#7201a8\"],[0.3333333333333333,\"#9c179e\"],[0.4444444444444444,\"#bd3786\"],[0.5555555555555556,\"#d8576b\"],[0.6666666666666666,\"#ed7953\"],[0.7777777777777778,\"#fb9f3a\"],[0.8888888888888888,\"#fdca26\"],[1.0,\"#f0f921\"]]}],\"contourcarpet\":[{\"type\":\"contourcarpet\",\"colorbar\":{\"outlinewidth\":0,\"ticks\":\"\"}}],\"contour\":[{\"type\":\"contour\",\"colorbar\":{\"outlinewidth\":0,\"ticks\":\"\"},\"colorscale\":[[0.0,\"#0d0887\"],[0.1111111111111111,\"#46039f\"],[0.2222222222222222,\"#7201a8\"],[0.3333333333333333,\"#9c179e\"],[0.4444444444444444,\"#bd3786\"],[0.5555555555555556,\"#d8576b\"],[0.6666666666666666,\"#ed7953\"],[0.7777777777777778,\"#fb9f3a\"],[0.8888888888888888,\"#fdca26\"],[1.0,\"#f0f921\"]]}],\"surface\":[{\"type\":\"surface\",\"colorbar\":{\"outlinewidth\":0,\"ticks\":\"\"},\"colorscale\":[[0.0,\"#0d0887\"],[0.1111111111111111,\"#46039f\"],[0.2222222222222222,\"#7201a8\"],[0.3333333333333333,\"#9c179e\"],[0.4444444444444444,\"#bd3786\"],[0.5555555555555556,\"#d8576b\"],[0.6666666666666666,\"#ed7953\"],[0.7777777777777778,\"#fb9f3a\"],[0.8888888888888888,\"#fdca26\"],[1.0,\"#f0f921\"]]}],\"mesh3d\":[{\"type\":\"mesh3d\",\"colorbar\":{\"outlinewidth\":0,\"ticks\":\"\"}}],\"scatter\":[{\"fillpattern\":{\"fillmode\":\"overlay\",\"size\":10,\"solidity\":0.2},\"type\":\"scatter\"}],\"parcoords\":[{\"type\":\"parcoords\",\"line\":{\"colorbar\":{\"outlinewidth\":0,\"ticks\":\"\"}}}],\"scatterpolargl\":[{\"type\":\"scatterpolargl\",\"marker\":{\"colorbar\":{\"outlinewidth\":0,\"ticks\":\"\"}}}],\"bar\":[{\"error_x\":{\"color\":\"#2a3f5f\"},\"error_y\":{\"color\":\"#2a3f5f\"},\"marker\":{\"line\":{\"color\":\"#E5ECF6\",\"width\":0.5},\"pattern\":{\"fillmode\":\"overlay\",\"size\":10,\"solidity\":0.2}},\"type\":\"bar\"}],\"scattergeo\":[{\"type\":\"scattergeo\",\"marker\":{\"colorbar\":{\"outlinewidth\":0,\"ticks\":\"\"}}}],\"scatterpolar\":[{\"type\":\"scatterpolar\",\"marker\":{\"colorbar\":{\"outlinewidth\":0,\"ticks\":\"\"}}}],\"histogram\":[{\"marker\":{\"pattern\":{\"fillmode\":\"overlay\",\"size\":10,\"solidity\":0.2}},\"type\":\"histogram\"}],\"scattergl\":[{\"type\":\"scattergl\",\"marker\":{\"colorbar\":{\"outlinewidth\":0,\"ticks\":\"\"}}}],\"scatter3d\":[{\"type\":\"scatter3d\",\"line\":{\"colorbar\":{\"outlinewidth\":0,\"ticks\":\"\"}},\"marker\":{\"colorbar\":{\"outlinewidth\":0,\"ticks\":\"\"}}}],\"scattermapbox\":[{\"type\":\"scattermapbox\",\"marker\":{\"colorbar\":{\"outlinewidth\":0,\"ticks\":\"\"}}}],\"scatterternary\":[{\"type\":\"scatterternary\",\"marker\":{\"colorbar\":{\"outlinewidth\":0,\"ticks\":\"\"}}}],\"scattercarpet\":[{\"type\":\"scattercarpet\",\"marker\":{\"colorbar\":{\"outlinewidth\":0,\"ticks\":\"\"}}}],\"carpet\":[{\"aaxis\":{\"endlinecolor\":\"#2a3f5f\",\"gridcolor\":\"white\",\"linecolor\":\"white\",\"minorgridcolor\":\"white\",\"startlinecolor\":\"#2a3f5f\"},\"baxis\":{\"endlinecolor\":\"#2a3f5f\",\"gridcolor\":\"white\",\"linecolor\":\"white\",\"minorgridcolor\":\"white\",\"startlinecolor\":\"#2a3f5f\"},\"type\":\"carpet\"}],\"table\":[{\"cells\":{\"fill\":{\"color\":\"#EBF0F8\"},\"line\":{\"color\":\"white\"}},\"header\":{\"fill\":{\"color\":\"#C8D4E3\"},\"line\":{\"color\":\"white\"}},\"type\":\"table\"}],\"barpolar\":[{\"marker\":{\"line\":{\"color\":\"#E5ECF6\",\"width\":0.5},\"pattern\":{\"fillmode\":\"overlay\",\"size\":10,\"solidity\":0.2}},\"type\":\"barpolar\"}],\"pie\":[{\"automargin\":true,\"type\":\"pie\"}]},\"layout\":{\"autotypenumbers\":\"strict\",\"colorway\":[\"#636efa\",\"#EF553B\",\"#00cc96\",\"#ab63fa\",\"#FFA15A\",\"#19d3f3\",\"#FF6692\",\"#B6E880\",\"#FF97FF\",\"#FECB52\"],\"font\":{\"color\":\"#2a3f5f\"},\"hovermode\":\"closest\",\"hoverlabel\":{\"align\":\"left\"},\"paper_bgcolor\":\"white\",\"plot_bgcolor\":\"#E5ECF6\",\"polar\":{\"bgcolor\":\"#E5ECF6\",\"angularaxis\":{\"gridcolor\":\"white\",\"linecolor\":\"white\",\"ticks\":\"\"},\"radialaxis\":{\"gridcolor\":\"white\",\"linecolor\":\"white\",\"ticks\":\"\"}},\"ternary\":{\"bgcolor\":\"#E5ECF6\",\"aaxis\":{\"gridcolor\":\"white\",\"linecolor\":\"white\",\"ticks\":\"\"},\"baxis\":{\"gridcolor\":\"white\",\"linecolor\":\"white\",\"ticks\":\"\"},\"caxis\":{\"gridcolor\":\"white\",\"linecolor\":\"white\",\"ticks\":\"\"}},\"coloraxis\":{\"colorbar\":{\"outlinewidth\":0,\"ticks\":\"\"}},\"colorscale\":{\"sequential\":[[0.0,\"#0d0887\"],[0.1111111111111111,\"#46039f\"],[0.2222222222222222,\"#7201a8\"],[0.3333333333333333,\"#9c179e\"],[0.4444444444444444,\"#bd3786\"],[0.5555555555555556,\"#d8576b\"],[0.6666666666666666,\"#ed7953\"],[0.7777777777777778,\"#fb9f3a\"],[0.8888888888888888,\"#fdca26\"],[1.0,\"#f0f921\"]],\"sequentialminus\":[[0.0,\"#0d0887\"],[0.1111111111111111,\"#46039f\"],[0.2222222222222222,\"#7201a8\"],[0.3333333333333333,\"#9c179e\"],[0.4444444444444444,\"#bd3786\"],[0.5555555555555556,\"#d8576b\"],[0.6666666666666666,\"#ed7953\"],[0.7777777777777778,\"#fb9f3a\"],[0.8888888888888888,\"#fdca26\"],[1.0,\"#f0f921\"]],\"diverging\":[[0,\"#8e0152\"],[0.1,\"#c51b7d\"],[0.2,\"#de77ae\"],[0.3,\"#f1b6da\"],[0.4,\"#fde0ef\"],[0.5,\"#f7f7f7\"],[0.6,\"#e6f5d0\"],[0.7,\"#b8e186\"],[0.8,\"#7fbc41\"],[0.9,\"#4d9221\"],[1,\"#276419\"]]},\"xaxis\":{\"gridcolor\":\"white\",\"linecolor\":\"white\",\"ticks\":\"\",\"title\":{\"standoff\":15},\"zerolinecolor\":\"white\",\"automargin\":true,\"zerolinewidth\":2},\"yaxis\":{\"gridcolor\":\"white\",\"linecolor\":\"white\",\"ticks\":\"\",\"title\":{\"standoff\":15},\"zerolinecolor\":\"white\",\"automargin\":true,\"zerolinewidth\":2},\"scene\":{\"xaxis\":{\"backgroundcolor\":\"#E5ECF6\",\"gridcolor\":\"white\",\"linecolor\":\"white\",\"showbackground\":true,\"ticks\":\"\",\"zerolinecolor\":\"white\",\"gridwidth\":2},\"yaxis\":{\"backgroundcolor\":\"#E5ECF6\",\"gridcolor\":\"white\",\"linecolor\":\"white\",\"showbackground\":true,\"ticks\":\"\",\"zerolinecolor\":\"white\",\"gridwidth\":2},\"zaxis\":{\"backgroundcolor\":\"#E5ECF6\",\"gridcolor\":\"white\",\"linecolor\":\"white\",\"showbackground\":true,\"ticks\":\"\",\"zerolinecolor\":\"white\",\"gridwidth\":2}},\"shapedefaults\":{\"line\":{\"color\":\"#2a3f5f\"}},\"annotationdefaults\":{\"arrowcolor\":\"#2a3f5f\",\"arrowhead\":0,\"arrowwidth\":1},\"geo\":{\"bgcolor\":\"white\",\"landcolor\":\"#E5ECF6\",\"subunitcolor\":\"white\",\"showland\":true,\"showlakes\":true,\"lakecolor\":\"white\"},\"title\":{\"x\":0.05},\"mapbox\":{\"style\":\"light\"}}},\"title\":{\"text\":\"Updating Parameter ETS Predictions, 2024-11-16\"},\"xaxis\":{\"title\":{\"text\":\"Date\"}},\"yaxis\":{\"title\":{\"text\":\"Count\"}},\"hovermode\":\"x\"},                        {\"responsive\": true}                    ).then(function(){\n",
       "                            \n",
       "var gd = document.getElementById('911f023e-1698-4fda-8fcc-86df44be8e9b');\n",
       "var x = new MutationObserver(function (mutations, observer) {{\n",
       "        var display = window.getComputedStyle(gd).display;\n",
       "        if (!display || display === 'none') {{\n",
       "            console.log([gd, 'removed!']);\n",
       "            Plotly.purge(gd);\n",
       "            observer.disconnect();\n",
       "        }}\n",
       "}});\n",
       "\n",
       "// Listen for the removal of the full notebook cells\n",
       "var notebookContainer = gd.closest('#notebook-container');\n",
       "if (notebookContainer) {{\n",
       "    x.observe(notebookContainer, {childList: true});\n",
       "}}\n",
       "\n",
       "// Listen for the clearing of the current output cell\n",
       "var outputEl = gd.closest('.output');\n",
       "if (outputEl) {{\n",
       "    x.observe(outputEl, {childList: true});\n",
       "}}\n",
       "\n",
       "                        })                };                });            </script>        </div>"
      ]
     },
     "metadata": {},
     "output_type": "display_data"
    },
    {
     "data": {
      "application/vnd.plotly.v1+json": {
       "config": {
        "plotlyServerURL": "https://plot.ly"
       },
       "data": [
        {
         "mode": "lines",
         "name": "Real Data",
         "type": "scatter",
         "x": [
          "2022-02-05T00:00:00",
          "2022-02-12T00:00:00",
          "2022-02-19T00:00:00",
          "2022-02-26T00:00:00",
          "2022-03-05T00:00:00",
          "2022-03-12T00:00:00",
          "2022-03-19T00:00:00",
          "2022-03-26T00:00:00",
          "2022-04-02T00:00:00",
          "2022-04-09T00:00:00",
          "2022-04-16T00:00:00",
          "2022-04-23T00:00:00",
          "2022-04-30T00:00:00",
          "2022-05-07T00:00:00",
          "2022-05-14T00:00:00",
          "2022-05-21T00:00:00",
          "2022-05-28T00:00:00",
          "2022-06-04T00:00:00",
          "2022-06-11T00:00:00",
          "2022-06-18T00:00:00",
          "2022-06-25T00:00:00",
          "2022-07-02T00:00:00",
          "2022-07-09T00:00:00",
          "2022-07-16T00:00:00",
          "2022-07-23T00:00:00",
          "2022-07-30T00:00:00",
          "2022-08-06T00:00:00",
          "2022-08-13T00:00:00",
          "2022-08-20T00:00:00",
          "2022-08-27T00:00:00",
          "2022-09-03T00:00:00",
          "2022-09-10T00:00:00",
          "2022-09-17T00:00:00",
          "2022-09-24T00:00:00",
          "2022-10-01T00:00:00",
          "2022-10-08T00:00:00",
          "2022-10-15T00:00:00",
          "2022-10-22T00:00:00",
          "2022-10-29T00:00:00",
          "2022-11-05T00:00:00",
          "2022-11-12T00:00:00",
          "2022-11-19T00:00:00",
          "2022-11-26T00:00:00",
          "2022-12-03T00:00:00",
          "2022-12-10T00:00:00",
          "2022-12-17T00:00:00",
          "2022-12-24T00:00:00",
          "2022-12-31T00:00:00",
          "2023-01-07T00:00:00",
          "2023-01-14T00:00:00",
          "2023-01-21T00:00:00",
          "2023-01-28T00:00:00",
          "2023-02-04T00:00:00",
          "2023-02-11T00:00:00",
          "2023-02-18T00:00:00",
          "2023-02-25T00:00:00",
          "2023-03-04T00:00:00",
          "2023-03-11T00:00:00",
          "2023-03-18T00:00:00",
          "2023-03-25T00:00:00",
          "2023-04-01T00:00:00",
          "2023-04-08T00:00:00",
          "2023-04-15T00:00:00",
          "2023-04-22T00:00:00",
          "2023-04-29T00:00:00",
          "2023-05-06T00:00:00",
          "2023-05-13T00:00:00",
          "2023-05-20T00:00:00",
          "2023-05-27T00:00:00",
          "2023-06-03T00:00:00",
          "2023-06-10T00:00:00",
          "2023-06-17T00:00:00",
          "2023-06-24T00:00:00",
          "2023-07-01T00:00:00",
          "2023-07-08T00:00:00",
          "2023-07-15T00:00:00",
          "2023-07-22T00:00:00",
          "2023-07-29T00:00:00",
          "2023-08-05T00:00:00",
          "2023-08-12T00:00:00",
          "2023-08-19T00:00:00",
          "2023-08-26T00:00:00",
          "2023-09-02T00:00:00",
          "2023-09-09T00:00:00",
          "2023-09-16T00:00:00",
          "2023-09-23T00:00:00",
          "2023-09-30T00:00:00",
          "2023-10-07T00:00:00",
          "2023-10-14T00:00:00",
          "2023-10-21T00:00:00",
          "2023-10-28T00:00:00",
          "2023-11-04T00:00:00",
          "2023-11-11T00:00:00",
          "2023-11-18T00:00:00",
          "2023-11-25T00:00:00",
          "2023-12-02T00:00:00",
          "2023-12-09T00:00:00",
          "2023-12-16T00:00:00",
          "2023-12-23T00:00:00",
          "2023-12-30T00:00:00",
          "2024-01-06T00:00:00",
          "2024-01-13T00:00:00",
          "2024-01-20T00:00:00",
          "2024-01-27T00:00:00",
          "2024-02-03T00:00:00",
          "2024-02-10T00:00:00",
          "2024-02-17T00:00:00",
          "2024-02-24T00:00:00",
          "2024-03-02T00:00:00",
          "2024-03-09T00:00:00",
          "2024-03-16T00:00:00",
          "2024-03-23T00:00:00",
          "2024-03-30T00:00:00",
          "2024-04-06T00:00:00",
          "2024-04-13T00:00:00",
          "2024-04-20T00:00:00",
          "2024-04-27T00:00:00",
          "2024-05-04T00:00:00",
          "2024-05-11T00:00:00",
          "2024-05-18T00:00:00",
          "2024-05-25T00:00:00",
          "2024-06-01T00:00:00",
          "2024-06-08T00:00:00",
          "2024-06-15T00:00:00",
          "2024-06-22T00:00:00",
          "2024-06-29T00:00:00",
          "2024-07-06T00:00:00",
          "2024-07-13T00:00:00",
          "2024-07-20T00:00:00",
          "2024-07-27T00:00:00",
          "2024-08-03T00:00:00",
          "2024-08-10T00:00:00",
          "2024-08-17T00:00:00",
          "2024-08-24T00:00:00",
          "2024-08-31T00:00:00",
          "2024-09-07T00:00:00",
          "2024-09-14T00:00:00",
          "2024-09-21T00:00:00",
          "2024-09-28T00:00:00",
          "2024-10-05T00:00:00",
          "2024-10-12T00:00:00",
          "2024-10-19T00:00:00",
          "2024-10-26T00:00:00",
          "2024-11-02T00:00:00",
          "2024-11-09T00:00:00",
          "2024-11-16T00:00:00",
          "2024-11-23T00:00:00",
          "2024-11-30T00:00:00",
          "2024-12-07T00:00:00",
          "2024-12-14T00:00:00",
          "2024-12-21T00:00:00",
          "2024-12-28T00:00:00",
          "2025-01-04T00:00:00",
          "2025-01-11T00:00:00",
          "2025-01-18T00:00:00",
          "2025-01-25T00:00:00",
          "2025-02-01T00:00:00",
          "2025-02-08T00:00:00",
          "2025-02-15T00:00:00",
          "2025-02-22T00:00:00",
          "2025-03-01T00:00:00",
          "2025-03-08T00:00:00",
          "2025-03-15T00:00:00",
          "2025-03-22T00:00:00",
          "2025-03-29T00:00:00",
          "2025-04-05T00:00:00",
          "2025-04-12T00:00:00",
          "2025-04-19T00:00:00",
          "2025-04-26T00:00:00",
          "2025-05-03T00:00:00",
          "2025-05-10T00:00:00",
          "2025-05-17T00:00:00"
         ],
         "y": [
          1091,
          1162,
          1491,
          1603,
          1791,
          2094,
          2622,
          2917,
          3000,
          3135,
          3297,
          3468,
          3179,
          3172,
          3117,
          3130,
          2737,
          2676,
          2202,
          1775,
          1366,
          1073,
          776,
          766,
          627,
          522,
          486,
          490,
          483,
          483,
          545,
          576,
          665,
          796,
          921,
          1306,
          1670,
          2273,
          4181,
          6401,
          8589,
          10969,
          18173,
          26829,
          24035,
          21607,
          19624,
          19474,
          14074,
          7183,
          4488,
          3091,
          2594,
          2176,
          1908,
          1647,
          1501,
          1372,
          1415,
          1330,
          1295,
          1198,
          1077,
          980,
          903,
          994,
          978,
          1116,
          974,
          939,
          935,
          873,
          813,
          836,
          699,
          736,
          645,
          769,
          690,
          705,
          738,
          792,
          875,
          803,
          821,
          881,
          1026,
          1108,
          1214,
          1469,
          1614,
          2012,
          2775,
          3491,
          4386,
          5954,
          7495,
          10269,
          15717,
          21682,
          19548,
          15902,
          13302,
          13025,
          11963,
          11629,
          11126,
          10869,
          10814,
          9416,
          7324,
          6049,
          5574,
          5071,
          4073,
          2943,
          2420,
          1485,
          852,
          681,
          610,
          590,
          511,
          517,
          441,
          356,
          341,
          367,
          324,
          273,
          275,
          275,
          273,
          274,
          259,
          223,
          319,
          293,
          223,
          286,
          288,
          552,
          1079,
          975,
          2076,
          2529,
          3089,
          4278,
          6286,
          9152,
          15399,
          27651,
          38672,
          30698,
          32963,
          40566,
          51141,
          54115,
          46036,
          37647,
          30753,
          23970,
          18369,
          13620,
          9664,
          6683,
          4863,
          3818,
          3213,
          2434,
          2078,
          1636
         ]
        },
        {
         "line": {
          "color": "#414487"
         },
         "mode": "lines",
         "name": "AutoETS-hi-80",
         "type": "scatter",
         "x": [
          "2024-12-14T00:00:00",
          "2024-12-21T00:00:00",
          "2024-12-28T00:00:00",
          "2025-01-04T00:00:00"
         ],
         "y": [
          8745.454401349423,
          10303.116930185997,
          11634.757245064493,
          12815.509188979131
         ]
        },
        {
         "line": {
          "color": "#1e9c89"
         },
         "mode": "lines",
         "name": "AutoETS-hi-95",
         "type": "scatter",
         "x": [
          "2024-12-14T00:00:00",
          "2024-12-21T00:00:00",
          "2024-12-28T00:00:00",
          "2025-01-04T00:00:00"
         ],
         "y": [
          9764.596375651963,
          11863.932415618901,
          13674.170535054684,
          15298.904869195685
         ]
        },
        {
         "fill": "tonexty",
         "fillcolor": "#1e9c89",
         "line": {
          "color": "#1e9c89"
         },
         "mode": "lines",
         "name": "AutoETS-lo-95",
         "type": "scatter",
         "x": [
          "2024-12-14T00:00:00",
          "2024-12-21T00:00:00",
          "2024-12-28T00:00:00",
          "2025-01-04T00:00:00"
         ],
         "y": [
          3875.9023929452314,
          2845.4001709095264,
          1890.2571335522216,
          949.6212879957611
         ]
        },
        {
         "fill": "tonexty",
         "fillcolor": "#414487",
         "line": {
          "color": "#414487"
         },
         "mode": "lines",
         "name": "AutoETS-lo-80",
         "type": "scatter",
         "x": [
          "2024-12-14T00:00:00",
          "2024-12-21T00:00:00",
          "2024-12-28T00:00:00",
          "2025-01-04T00:00:00"
         ],
         "y": [
          4895.04436724777,
          4406.2156563424305,
          3929.6704235424127,
          3433.016968212314
         ]
        },
        {
         "line": {
          "color": "#2c728e"
         },
         "mode": "lines",
         "name": "AutoETS",
         "type": "scatter",
         "x": [
          "2024-12-14T00:00:00",
          "2024-12-21T00:00:00",
          "2024-12-28T00:00:00",
          "2025-01-04T00:00:00"
         ],
         "y": [
          6820.249384298597,
          7354.666293264214,
          7782.213834303453,
          8124.263078595723
         ]
        }
       ],
       "layout": {
        "autosize": true,
        "hovermode": "x",
        "template": {
         "data": {
          "bar": [
           {
            "error_x": {
             "color": "#2a3f5f"
            },
            "error_y": {
             "color": "#2a3f5f"
            },
            "marker": {
             "line": {
              "color": "#E5ECF6",
              "width": 0.5
             },
             "pattern": {
              "fillmode": "overlay",
              "size": 10,
              "solidity": 0.2
             }
            },
            "type": "bar"
           }
          ],
          "barpolar": [
           {
            "marker": {
             "line": {
              "color": "#E5ECF6",
              "width": 0.5
             },
             "pattern": {
              "fillmode": "overlay",
              "size": 10,
              "solidity": 0.2
             }
            },
            "type": "barpolar"
           }
          ],
          "carpet": [
           {
            "aaxis": {
             "endlinecolor": "#2a3f5f",
             "gridcolor": "white",
             "linecolor": "white",
             "minorgridcolor": "white",
             "startlinecolor": "#2a3f5f"
            },
            "baxis": {
             "endlinecolor": "#2a3f5f",
             "gridcolor": "white",
             "linecolor": "white",
             "minorgridcolor": "white",
             "startlinecolor": "#2a3f5f"
            },
            "type": "carpet"
           }
          ],
          "choropleth": [
           {
            "colorbar": {
             "outlinewidth": 0,
             "ticks": ""
            },
            "type": "choropleth"
           }
          ],
          "contour": [
           {
            "colorbar": {
             "outlinewidth": 0,
             "ticks": ""
            },
            "colorscale": [
             [
              0,
              "#0d0887"
             ],
             [
              0.1111111111111111,
              "#46039f"
             ],
             [
              0.2222222222222222,
              "#7201a8"
             ],
             [
              0.3333333333333333,
              "#9c179e"
             ],
             [
              0.4444444444444444,
              "#bd3786"
             ],
             [
              0.5555555555555556,
              "#d8576b"
             ],
             [
              0.6666666666666666,
              "#ed7953"
             ],
             [
              0.7777777777777778,
              "#fb9f3a"
             ],
             [
              0.8888888888888888,
              "#fdca26"
             ],
             [
              1,
              "#f0f921"
             ]
            ],
            "type": "contour"
           }
          ],
          "contourcarpet": [
           {
            "colorbar": {
             "outlinewidth": 0,
             "ticks": ""
            },
            "type": "contourcarpet"
           }
          ],
          "heatmap": [
           {
            "colorbar": {
             "outlinewidth": 0,
             "ticks": ""
            },
            "colorscale": [
             [
              0,
              "#0d0887"
             ],
             [
              0.1111111111111111,
              "#46039f"
             ],
             [
              0.2222222222222222,
              "#7201a8"
             ],
             [
              0.3333333333333333,
              "#9c179e"
             ],
             [
              0.4444444444444444,
              "#bd3786"
             ],
             [
              0.5555555555555556,
              "#d8576b"
             ],
             [
              0.6666666666666666,
              "#ed7953"
             ],
             [
              0.7777777777777778,
              "#fb9f3a"
             ],
             [
              0.8888888888888888,
              "#fdca26"
             ],
             [
              1,
              "#f0f921"
             ]
            ],
            "type": "heatmap"
           }
          ],
          "heatmapgl": [
           {
            "colorbar": {
             "outlinewidth": 0,
             "ticks": ""
            },
            "colorscale": [
             [
              0,
              "#0d0887"
             ],
             [
              0.1111111111111111,
              "#46039f"
             ],
             [
              0.2222222222222222,
              "#7201a8"
             ],
             [
              0.3333333333333333,
              "#9c179e"
             ],
             [
              0.4444444444444444,
              "#bd3786"
             ],
             [
              0.5555555555555556,
              "#d8576b"
             ],
             [
              0.6666666666666666,
              "#ed7953"
             ],
             [
              0.7777777777777778,
              "#fb9f3a"
             ],
             [
              0.8888888888888888,
              "#fdca26"
             ],
             [
              1,
              "#f0f921"
             ]
            ],
            "type": "heatmapgl"
           }
          ],
          "histogram": [
           {
            "marker": {
             "pattern": {
              "fillmode": "overlay",
              "size": 10,
              "solidity": 0.2
             }
            },
            "type": "histogram"
           }
          ],
          "histogram2d": [
           {
            "colorbar": {
             "outlinewidth": 0,
             "ticks": ""
            },
            "colorscale": [
             [
              0,
              "#0d0887"
             ],
             [
              0.1111111111111111,
              "#46039f"
             ],
             [
              0.2222222222222222,
              "#7201a8"
             ],
             [
              0.3333333333333333,
              "#9c179e"
             ],
             [
              0.4444444444444444,
              "#bd3786"
             ],
             [
              0.5555555555555556,
              "#d8576b"
             ],
             [
              0.6666666666666666,
              "#ed7953"
             ],
             [
              0.7777777777777778,
              "#fb9f3a"
             ],
             [
              0.8888888888888888,
              "#fdca26"
             ],
             [
              1,
              "#f0f921"
             ]
            ],
            "type": "histogram2d"
           }
          ],
          "histogram2dcontour": [
           {
            "colorbar": {
             "outlinewidth": 0,
             "ticks": ""
            },
            "colorscale": [
             [
              0,
              "#0d0887"
             ],
             [
              0.1111111111111111,
              "#46039f"
             ],
             [
              0.2222222222222222,
              "#7201a8"
             ],
             [
              0.3333333333333333,
              "#9c179e"
             ],
             [
              0.4444444444444444,
              "#bd3786"
             ],
             [
              0.5555555555555556,
              "#d8576b"
             ],
             [
              0.6666666666666666,
              "#ed7953"
             ],
             [
              0.7777777777777778,
              "#fb9f3a"
             ],
             [
              0.8888888888888888,
              "#fdca26"
             ],
             [
              1,
              "#f0f921"
             ]
            ],
            "type": "histogram2dcontour"
           }
          ],
          "mesh3d": [
           {
            "colorbar": {
             "outlinewidth": 0,
             "ticks": ""
            },
            "type": "mesh3d"
           }
          ],
          "parcoords": [
           {
            "line": {
             "colorbar": {
              "outlinewidth": 0,
              "ticks": ""
             }
            },
            "type": "parcoords"
           }
          ],
          "pie": [
           {
            "automargin": true,
            "type": "pie"
           }
          ],
          "scatter": [
           {
            "fillpattern": {
             "fillmode": "overlay",
             "size": 10,
             "solidity": 0.2
            },
            "type": "scatter"
           }
          ],
          "scatter3d": [
           {
            "line": {
             "colorbar": {
              "outlinewidth": 0,
              "ticks": ""
             }
            },
            "marker": {
             "colorbar": {
              "outlinewidth": 0,
              "ticks": ""
             }
            },
            "type": "scatter3d"
           }
          ],
          "scattercarpet": [
           {
            "marker": {
             "colorbar": {
              "outlinewidth": 0,
              "ticks": ""
             }
            },
            "type": "scattercarpet"
           }
          ],
          "scattergeo": [
           {
            "marker": {
             "colorbar": {
              "outlinewidth": 0,
              "ticks": ""
             }
            },
            "type": "scattergeo"
           }
          ],
          "scattergl": [
           {
            "marker": {
             "colorbar": {
              "outlinewidth": 0,
              "ticks": ""
             }
            },
            "type": "scattergl"
           }
          ],
          "scattermapbox": [
           {
            "marker": {
             "colorbar": {
              "outlinewidth": 0,
              "ticks": ""
             }
            },
            "type": "scattermapbox"
           }
          ],
          "scatterpolar": [
           {
            "marker": {
             "colorbar": {
              "outlinewidth": 0,
              "ticks": ""
             }
            },
            "type": "scatterpolar"
           }
          ],
          "scatterpolargl": [
           {
            "marker": {
             "colorbar": {
              "outlinewidth": 0,
              "ticks": ""
             }
            },
            "type": "scatterpolargl"
           }
          ],
          "scatterternary": [
           {
            "marker": {
             "colorbar": {
              "outlinewidth": 0,
              "ticks": ""
             }
            },
            "type": "scatterternary"
           }
          ],
          "surface": [
           {
            "colorbar": {
             "outlinewidth": 0,
             "ticks": ""
            },
            "colorscale": [
             [
              0,
              "#0d0887"
             ],
             [
              0.1111111111111111,
              "#46039f"
             ],
             [
              0.2222222222222222,
              "#7201a8"
             ],
             [
              0.3333333333333333,
              "#9c179e"
             ],
             [
              0.4444444444444444,
              "#bd3786"
             ],
             [
              0.5555555555555556,
              "#d8576b"
             ],
             [
              0.6666666666666666,
              "#ed7953"
             ],
             [
              0.7777777777777778,
              "#fb9f3a"
             ],
             [
              0.8888888888888888,
              "#fdca26"
             ],
             [
              1,
              "#f0f921"
             ]
            ],
            "type": "surface"
           }
          ],
          "table": [
           {
            "cells": {
             "fill": {
              "color": "#EBF0F8"
             },
             "line": {
              "color": "white"
             }
            },
            "header": {
             "fill": {
              "color": "#C8D4E3"
             },
             "line": {
              "color": "white"
             }
            },
            "type": "table"
           }
          ]
         },
         "layout": {
          "annotationdefaults": {
           "arrowcolor": "#2a3f5f",
           "arrowhead": 0,
           "arrowwidth": 1
          },
          "autotypenumbers": "strict",
          "coloraxis": {
           "colorbar": {
            "outlinewidth": 0,
            "ticks": ""
           }
          },
          "colorscale": {
           "diverging": [
            [
             0,
             "#8e0152"
            ],
            [
             0.1,
             "#c51b7d"
            ],
            [
             0.2,
             "#de77ae"
            ],
            [
             0.3,
             "#f1b6da"
            ],
            [
             0.4,
             "#fde0ef"
            ],
            [
             0.5,
             "#f7f7f7"
            ],
            [
             0.6,
             "#e6f5d0"
            ],
            [
             0.7,
             "#b8e186"
            ],
            [
             0.8,
             "#7fbc41"
            ],
            [
             0.9,
             "#4d9221"
            ],
            [
             1,
             "#276419"
            ]
           ],
           "sequential": [
            [
             0,
             "#0d0887"
            ],
            [
             0.1111111111111111,
             "#46039f"
            ],
            [
             0.2222222222222222,
             "#7201a8"
            ],
            [
             0.3333333333333333,
             "#9c179e"
            ],
            [
             0.4444444444444444,
             "#bd3786"
            ],
            [
             0.5555555555555556,
             "#d8576b"
            ],
            [
             0.6666666666666666,
             "#ed7953"
            ],
            [
             0.7777777777777778,
             "#fb9f3a"
            ],
            [
             0.8888888888888888,
             "#fdca26"
            ],
            [
             1,
             "#f0f921"
            ]
           ],
           "sequentialminus": [
            [
             0,
             "#0d0887"
            ],
            [
             0.1111111111111111,
             "#46039f"
            ],
            [
             0.2222222222222222,
             "#7201a8"
            ],
            [
             0.3333333333333333,
             "#9c179e"
            ],
            [
             0.4444444444444444,
             "#bd3786"
            ],
            [
             0.5555555555555556,
             "#d8576b"
            ],
            [
             0.6666666666666666,
             "#ed7953"
            ],
            [
             0.7777777777777778,
             "#fb9f3a"
            ],
            [
             0.8888888888888888,
             "#fdca26"
            ],
            [
             1,
             "#f0f921"
            ]
           ]
          },
          "colorway": [
           "#636efa",
           "#EF553B",
           "#00cc96",
           "#ab63fa",
           "#FFA15A",
           "#19d3f3",
           "#FF6692",
           "#B6E880",
           "#FF97FF",
           "#FECB52"
          ],
          "font": {
           "color": "#2a3f5f"
          },
          "geo": {
           "bgcolor": "white",
           "lakecolor": "white",
           "landcolor": "#E5ECF6",
           "showlakes": true,
           "showland": true,
           "subunitcolor": "white"
          },
          "hoverlabel": {
           "align": "left"
          },
          "hovermode": "closest",
          "mapbox": {
           "style": "light"
          },
          "paper_bgcolor": "white",
          "plot_bgcolor": "#E5ECF6",
          "polar": {
           "angularaxis": {
            "gridcolor": "white",
            "linecolor": "white",
            "ticks": ""
           },
           "bgcolor": "#E5ECF6",
           "radialaxis": {
            "gridcolor": "white",
            "linecolor": "white",
            "ticks": ""
           }
          },
          "scene": {
           "xaxis": {
            "backgroundcolor": "#E5ECF6",
            "gridcolor": "white",
            "gridwidth": 2,
            "linecolor": "white",
            "showbackground": true,
            "ticks": "",
            "zerolinecolor": "white"
           },
           "yaxis": {
            "backgroundcolor": "#E5ECF6",
            "gridcolor": "white",
            "gridwidth": 2,
            "linecolor": "white",
            "showbackground": true,
            "ticks": "",
            "zerolinecolor": "white"
           },
           "zaxis": {
            "backgroundcolor": "#E5ECF6",
            "gridcolor": "white",
            "gridwidth": 2,
            "linecolor": "white",
            "showbackground": true,
            "ticks": "",
            "zerolinecolor": "white"
           }
          },
          "shapedefaults": {
           "line": {
            "color": "#2a3f5f"
           }
          },
          "ternary": {
           "aaxis": {
            "gridcolor": "white",
            "linecolor": "white",
            "ticks": ""
           },
           "baxis": {
            "gridcolor": "white",
            "linecolor": "white",
            "ticks": ""
           },
           "bgcolor": "#E5ECF6",
           "caxis": {
            "gridcolor": "white",
            "linecolor": "white",
            "ticks": ""
           }
          },
          "title": {
           "x": 0.05
          },
          "xaxis": {
           "automargin": true,
           "gridcolor": "white",
           "linecolor": "white",
           "ticks": "",
           "title": {
            "standoff": 15
           },
           "zerolinecolor": "white",
           "zerolinewidth": 2
          },
          "yaxis": {
           "automargin": true,
           "gridcolor": "white",
           "linecolor": "white",
           "ticks": "",
           "title": {
            "standoff": 15
           },
           "zerolinecolor": "white",
           "zerolinewidth": 2
          }
         }
        },
        "title": {
         "text": "Updating Parameter ETS Predictions, 2024-12-07"
        },
        "xaxis": {
         "autorange": true,
         "range": [
          "2022-02-05",
          "2025-05-17"
         ],
         "title": {
          "text": "Date"
         },
         "type": "date"
        },
        "yaxis": {
         "autorange": true,
         "range": [
          -2771,
          57109
         ],
         "title": {
          "text": "Count"
         },
         "type": "linear"
        }
       }
      },
      "image/png": "[encoded data removed]",
      "text/html": [
       "<div>                            <div id=\"5d0a5962-8ae0-4024-9abe-f8d88d1fc5a3\" class=\"plotly-graph-div\" style=\"height:525px; width:100%;\"></div>            <script type=\"text/javascript\">                require([\"plotly\"], function(Plotly) {                    window.PLOTLYENV=window.PLOTLYENV || {};                                    if (document.getElementById(\"5d0a5962-8ae0-4024-9abe-f8d88d1fc5a3\")) {                    Plotly.newPlot(                        \"5d0a5962-8ae0-4024-9abe-f8d88d1fc5a3\",                        [{\"mode\":\"lines\",\"name\":\"Real Data\",\"x\":[\"2022-02-05T00:00:00\",\"2022-02-12T00:00:00\",\"2022-02-19T00:00:00\",\"2022-02-26T00:00:00\",\"2022-03-05T00:00:00\",\"2022-03-12T00:00:00\",\"2022-03-19T00:00:00\",\"2022-03-26T00:00:00\",\"2022-04-02T00:00:00\",\"2022-04-09T00:00:00\",\"2022-04-16T00:00:00\",\"2022-04-23T00:00:00\",\"2022-04-30T00:00:00\",\"2022-05-07T00:00:00\",\"2022-05-14T00:00:00\",\"2022-05-21T00:00:00\",\"2022-05-28T00:00:00\",\"2022-06-04T00:00:00\",\"2022-06-11T00:00:00\",\"2022-06-18T00:00:00\",\"2022-06-25T00:00:00\",\"2022-07-02T00:00:00\",\"2022-07-09T00:00:00\",\"2022-07-16T00:00:00\",\"2022-07-23T00:00:00\",\"2022-07-30T00:00:00\",\"2022-08-06T00:00:00\",\"2022-08-13T00:00:00\",\"2022-08-20T00:00:00\",\"2022-08-27T00:00:00\",\"2022-09-03T00:00:00\",\"2022-09-10T00:00:00\",\"2022-09-17T00:00:00\",\"2022-09-24T00:00:00\",\"2022-10-01T00:00:00\",\"2022-10-08T00:00:00\",\"2022-10-15T00:00:00\",\"2022-10-22T00:00:00\",\"2022-10-29T00:00:00\",\"2022-11-05T00:00:00\",\"2022-11-12T00:00:00\",\"2022-11-19T00:00:00\",\"2022-11-26T00:00:00\",\"2022-12-03T00:00:00\",\"2022-12-10T00:00:00\",\"2022-12-17T00:00:00\",\"2022-12-24T00:00:00\",\"2022-12-31T00:00:00\",\"2023-01-07T00:00:00\",\"2023-01-14T00:00:00\",\"2023-01-21T00:00:00\",\"2023-01-28T00:00:00\",\"2023-02-04T00:00:00\",\"2023-02-11T00:00:00\",\"2023-02-18T00:00:00\",\"2023-02-25T00:00:00\",\"2023-03-04T00:00:00\",\"2023-03-11T00:00:00\",\"2023-03-18T00:00:00\",\"2023-03-25T00:00:00\",\"2023-04-01T00:00:00\",\"2023-04-08T00:00:00\",\"2023-04-15T00:00:00\",\"2023-04-22T00:00:00\",\"2023-04-29T00:00:00\",\"2023-05-06T00:00:00\",\"2023-05-13T00:00:00\",\"2023-05-20T00:00:00\",\"2023-05-27T00:00:00\",\"2023-06-03T00:00:00\",\"2023-06-10T00:00:00\",\"2023-06-17T00:00:00\",\"2023-06-24T00:00:00\",\"2023-07-01T00:00:00\",\"2023-07-08T00:00:00\",\"2023-07-15T00:00:00\",\"2023-07-22T00:00:00\",\"2023-07-29T00:00:00\",\"2023-08-05T00:00:00\",\"2023-08-12T00:00:00\",\"2023-08-19T00:00:00\",\"2023-08-26T00:00:00\",\"2023-09-02T00:00:00\",\"2023-09-09T00:00:00\",\"2023-09-16T00:00:00\",\"2023-09-23T00:00:00\",\"2023-09-30T00:00:00\",\"2023-10-07T00:00:00\",\"2023-10-14T00:00:00\",\"2023-10-21T00:00:00\",\"2023-10-28T00:00:00\",\"2023-11-04T00:00:00\",\"2023-11-11T00:00:00\",\"2023-11-18T00:00:00\",\"2023-11-25T00:00:00\",\"2023-12-02T00:00:00\",\"2023-12-09T00:00:00\",\"2023-12-16T00:00:00\",\"2023-12-23T00:00:00\",\"2023-12-30T00:00:00\",\"2024-01-06T00:00:00\",\"2024-01-13T00:00:00\",\"2024-01-20T00:00:00\",\"2024-01-27T00:00:00\",\"2024-02-03T00:00:00\",\"2024-02-10T00:00:00\",\"2024-02-17T00:00:00\",\"2024-02-24T00:00:00\",\"2024-03-02T00:00:00\",\"2024-03-09T00:00:00\",\"2024-03-16T00:00:00\",\"2024-03-23T00:00:00\",\"2024-03-30T00:00:00\",\"2024-04-06T00:00:00\",\"2024-04-13T00:00:00\",\"2024-04-20T00:00:00\",\"2024-04-27T00:00:00\",\"2024-05-04T00:00:00\",\"2024-05-11T00:00:00\",\"2024-05-18T00:00:00\",\"2024-05-25T00:00:00\",\"2024-06-01T00:00:00\",\"2024-06-08T00:00:00\",\"2024-06-15T00:00:00\",\"2024-06-22T00:00:00\",\"2024-06-29T00:00:00\",\"2024-07-06T00:00:00\",\"2024-07-13T00:00:00\",\"2024-07-20T00:00:00\",\"2024-07-27T00:00:00\",\"2024-08-03T00:00:00\",\"2024-08-10T00:00:00\",\"2024-08-17T00:00:00\",\"2024-08-24T00:00:00\",\"2024-08-31T00:00:00\",\"2024-09-07T00:00:00\",\"2024-09-14T00:00:00\",\"2024-09-21T00:00:00\",\"2024-09-28T00:00:00\",\"2024-10-05T00:00:00\",\"2024-10-12T00:00:00\",\"2024-10-19T00:00:00\",\"2024-10-26T00:00:00\",\"2024-11-02T00:00:00\",\"2024-11-09T00:00:00\",\"2024-11-16T00:00:00\",\"2024-11-23T00:00:00\",\"2024-11-30T00:00:00\",\"2024-12-07T00:00:00\",\"2024-12-14T00:00:00\",\"2024-12-21T00:00:00\",\"2024-12-28T00:00:00\",\"2025-01-04T00:00:00\",\"2025-01-11T00:00:00\",\"2025-01-18T00:00:00\",\"2025-01-25T00:00:00\",\"2025-02-01T00:00:00\",\"2025-02-08T00:00:00\",\"2025-02-15T00:00:00\",\"2025-02-22T00:00:00\",\"2025-03-01T00:00:00\",\"2025-03-08T00:00:00\",\"2025-03-15T00:00:00\",\"2025-03-22T00:00:00\",\"2025-03-29T00:00:00\",\"2025-04-05T00:00:00\",\"2025-04-12T00:00:00\",\"2025-04-19T00:00:00\",\"2025-04-26T00:00:00\",\"2025-05-03T00:00:00\",\"2025-05-10T00:00:00\",\"2025-05-17T00:00:00\"],\"y\":[1091.0,1162.0,1491.0,1603.0,1791.0,2094.0,2622.0,2917.0,3000.0,3135.0,3297.0,3468.0,3179.0,3172.0,3117.0,3130.0,2737.0,2676.0,2202.0,1775.0,1366.0,1073.0,776.0,766.0,627.0,522.0,486.0,490.0,483.0,483.0,545.0,576.0,665.0,796.0,921.0,1306.0,1670.0,2273.0,4181.0,6401.0,8589.0,10969.0,18173.0,26829.0,24035.0,21607.0,19624.0,19474.0,14074.0,7183.0,4488.0,3091.0,2594.0,2176.0,1908.0,1647.0,1501.0,1372.0,1415.0,1330.0,1295.0,1198.0,1077.0,980.0,903.0,994.0,978.0,1116.0,974.0,939.0,935.0,873.0,813.0,836.0,699.0,736.0,645.0,769.0,690.0,705.0,738.0,792.0,875.0,803.0,821.0,881.0,1026.0,1108.0,1214.0,1469.0,1614.0,2012.0,2775.0,3491.0,4386.0,5954.0,7495.0,10269.0,15717.0,21682.0,19548.0,15902.0,13302.0,13025.0,11963.0,11629.0,11126.0,10869.0,10814.0,9416.0,7324.0,6049.0,5574.0,5071.0,4073.0,2943.0,2420.0,1485.0,852.0,681.0,610.0,590.0,511.0,517.0,441.0,356.0,341.0,367.0,324.0,273.0,275.0,275.0,273.0,274.0,259.0,223.0,319.0,293.0,223.0,286.0,288.0,552.0,1079.0,975.0,2076.0,2529.0,3089.0,4278.0,6286.0,9152.0,15399.0,27651.0,38672.0,30698.0,32963.0,40566.0,51141.0,54115.0,46036.0,37647.0,30753.0,23970.0,18369.0,13620.0,9664.0,6683.0,4863.0,3818.0,3213.0,2434.0,2078.0,1636.0],\"type\":\"scatter\"},{\"line\":{\"color\":\"#414487\"},\"mode\":\"lines\",\"name\":\"AutoETS-hi-80\",\"x\":[\"2024-12-14T00:00:00\",\"2024-12-21T00:00:00\",\"2024-12-28T00:00:00\",\"2025-01-04T00:00:00\"],\"y\":[8745.454401349423,10303.116930185997,11634.757245064493,12815.509188979131],\"type\":\"scatter\"},{\"line\":{\"color\":\"#1e9c89\"},\"mode\":\"lines\",\"name\":\"AutoETS-hi-95\",\"x\":[\"2024-12-14T00:00:00\",\"2024-12-21T00:00:00\",\"2024-12-28T00:00:00\",\"2025-01-04T00:00:00\"],\"y\":[9764.596375651963,11863.932415618901,13674.170535054684,15298.904869195685],\"type\":\"scatter\"},{\"fill\":\"tonexty\",\"fillcolor\":\"#1e9c89\",\"line\":{\"color\":\"#1e9c89\"},\"mode\":\"lines\",\"name\":\"AutoETS-lo-95\",\"x\":[\"2024-12-14T00:00:00\",\"2024-12-21T00:00:00\",\"2024-12-28T00:00:00\",\"2025-01-04T00:00:00\"],\"y\":[3875.9023929452314,2845.4001709095264,1890.2571335522216,949.6212879957611],\"type\":\"scatter\"},{\"fill\":\"tonexty\",\"fillcolor\":\"#414487\",\"line\":{\"color\":\"#414487\"},\"mode\":\"lines\",\"name\":\"AutoETS-lo-80\",\"x\":[\"2024-12-14T00:00:00\",\"2024-12-21T00:00:00\",\"2024-12-28T00:00:00\",\"2025-01-04T00:00:00\"],\"y\":[4895.04436724777,4406.2156563424305,3929.6704235424127,3433.016968212314],\"type\":\"scatter\"},{\"line\":{\"color\":\"#2c728e\"},\"mode\":\"lines\",\"name\":\"AutoETS\",\"x\":[\"2024-12-14T00:00:00\",\"2024-12-21T00:00:00\",\"2024-12-28T00:00:00\",\"2025-01-04T00:00:00\"],\"y\":[6820.249384298597,7354.666293264214,7782.213834303453,8124.263078595723],\"type\":\"scatter\"}],                        {\"template\":{\"data\":{\"histogram2dcontour\":[{\"type\":\"histogram2dcontour\",\"colorbar\":{\"outlinewidth\":0,\"ticks\":\"\"},\"colorscale\":[[0.0,\"#0d0887\"],[0.1111111111111111,\"#46039f\"],[0.2222222222222222,\"#7201a8\"],[0.3333333333333333,\"#9c179e\"],[0.4444444444444444,\"#bd3786\"],[0.5555555555555556,\"#d8576b\"],[0.6666666666666666,\"#ed7953\"],[0.7777777777777778,\"#fb9f3a\"],[0.8888888888888888,\"#fdca26\"],[1.0,\"#f0f921\"]]}],\"choropleth\":[{\"type\":\"choropleth\",\"colorbar\":{\"outlinewidth\":0,\"ticks\":\"\"}}],\"histogram2d\":[{\"type\":\"histogram2d\",\"colorbar\":{\"outlinewidth\":0,\"ticks\":\"\"},\"colorscale\":[[0.0,\"#0d0887\"],[0.1111111111111111,\"#46039f\"],[0.2222222222222222,\"#7201a8\"],[0.3333333333333333,\"#9c179e\"],[0.4444444444444444,\"#bd3786\"],[0.5555555555555556,\"#d8576b\"],[0.6666666666666666,\"#ed7953\"],[0.7777777777777778,\"#fb9f3a\"],[0.8888888888888888,\"#fdca26\"],[1.0,\"#f0f921\"]]}],\"heatmap\":[{\"type\":\"heatmap\",\"colorbar\":{\"outlinewidth\":0,\"ticks\":\"\"},\"colorscale\":[[0.0,\"#0d0887\"],[0.1111111111111111,\"#46039f\"],[0.2222222222222222,\"#7201a8\"],[0.3333333333333333,\"#9c179e\"],[0.4444444444444444,\"#bd3786\"],[0.5555555555555556,\"#d8576b\"],[0.6666666666666666,\"#ed7953\"],[0.7777777777777778,\"#fb9f3a\"],[0.8888888888888888,\"#fdca26\"],[1.0,\"#f0f921\"]]}],\"heatmapgl\":[{\"type\":\"heatmapgl\",\"colorbar\":{\"outlinewidth\":0,\"ticks\":\"\"},\"colorscale\":[[0.0,\"#0d0887\"],[0.1111111111111111,\"#46039f\"],[0.2222222222222222,\"#7201a8\"],[0.3333333333333333,\"#9c179e\"],[0.4444444444444444,\"#bd3786\"],[0.5555555555555556,\"#d8576b\"],[0.6666666666666666,\"#ed7953\"],[0.7777777777777778,\"#fb9f3a\"],[0.8888888888888888,\"#fdca26\"],[1.0,\"#f0f921\"]]}],\"contourcarpet\":[{\"type\":\"contourcarpet\",\"colorbar\":{\"outlinewidth\":0,\"ticks\":\"\"}}],\"contour\":[{\"type\":\"contour\",\"colorbar\":{\"outlinewidth\":0,\"ticks\":\"\"},\"colorscale\":[[0.0,\"#0d0887\"],[0.1111111111111111,\"#46039f\"],[0.2222222222222222,\"#7201a8\"],[0.3333333333333333,\"#9c179e\"],[0.4444444444444444,\"#bd3786\"],[0.5555555555555556,\"#d8576b\"],[0.6666666666666666,\"#ed7953\"],[0.7777777777777778,\"#fb9f3a\"],[0.8888888888888888,\"#fdca26\"],[1.0,\"#f0f921\"]]}],\"surface\":[{\"type\":\"surface\",\"colorbar\":{\"outlinewidth\":0,\"ticks\":\"\"},\"colorscale\":[[0.0,\"#0d0887\"],[0.1111111111111111,\"#46039f\"],[0.2222222222222222,\"#7201a8\"],[0.3333333333333333,\"#9c179e\"],[0.4444444444444444,\"#bd3786\"],[0.5555555555555556,\"#d8576b\"],[0.6666666666666666,\"#ed7953\"],[0.7777777777777778,\"#fb9f3a\"],[0.8888888888888888,\"#fdca26\"],[1.0,\"#f0f921\"]]}],\"mesh3d\":[{\"type\":\"mesh3d\",\"colorbar\":{\"outlinewidth\":0,\"ticks\":\"\"}}],\"scatter\":[{\"fillpattern\":{\"fillmode\":\"overlay\",\"size\":10,\"solidity\":0.2},\"type\":\"scatter\"}],\"parcoords\":[{\"type\":\"parcoords\",\"line\":{\"colorbar\":{\"outlinewidth\":0,\"ticks\":\"\"}}}],\"scatterpolargl\":[{\"type\":\"scatterpolargl\",\"marker\":{\"colorbar\":{\"outlinewidth\":0,\"ticks\":\"\"}}}],\"bar\":[{\"error_x\":{\"color\":\"#2a3f5f\"},\"error_y\":{\"color\":\"#2a3f5f\"},\"marker\":{\"line\":{\"color\":\"#E5ECF6\",\"width\":0.5},\"pattern\":{\"fillmode\":\"overlay\",\"size\":10,\"solidity\":0.2}},\"type\":\"bar\"}],\"scattergeo\":[{\"type\":\"scattergeo\",\"marker\":{\"colorbar\":{\"outlinewidth\":0,\"ticks\":\"\"}}}],\"scatterpolar\":[{\"type\":\"scatterpolar\",\"marker\":{\"colorbar\":{\"outlinewidth\":0,\"ticks\":\"\"}}}],\"histogram\":[{\"marker\":{\"pattern\":{\"fillmode\":\"overlay\",\"size\":10,\"solidity\":0.2}},\"type\":\"histogram\"}],\"scattergl\":[{\"type\":\"scattergl\",\"marker\":{\"colorbar\":{\"outlinewidth\":0,\"ticks\":\"\"}}}],\"scatter3d\":[{\"type\":\"scatter3d\",\"line\":{\"colorbar\":{\"outlinewidth\":0,\"ticks\":\"\"}},\"marker\":{\"colorbar\":{\"outlinewidth\":0,\"ticks\":\"\"}}}],\"scattermapbox\":[{\"type\":\"scattermapbox\",\"marker\":{\"colorbar\":{\"outlinewidth\":0,\"ticks\":\"\"}}}],\"scatterternary\":[{\"type\":\"scatterternary\",\"marker\":{\"colorbar\":{\"outlinewidth\":0,\"ticks\":\"\"}}}],\"scattercarpet\":[{\"type\":\"scattercarpet\",\"marker\":{\"colorbar\":{\"outlinewidth\":0,\"ticks\":\"\"}}}],\"carpet\":[{\"aaxis\":{\"endlinecolor\":\"#2a3f5f\",\"gridcolor\":\"white\",\"linecolor\":\"white\",\"minorgridcolor\":\"white\",\"startlinecolor\":\"#2a3f5f\"},\"baxis\":{\"endlinecolor\":\"#2a3f5f\",\"gridcolor\":\"white\",\"linecolor\":\"white\",\"minorgridcolor\":\"white\",\"startlinecolor\":\"#2a3f5f\"},\"type\":\"carpet\"}],\"table\":[{\"cells\":{\"fill\":{\"color\":\"#EBF0F8\"},\"line\":{\"color\":\"white\"}},\"header\":{\"fill\":{\"color\":\"#C8D4E3\"},\"line\":{\"color\":\"white\"}},\"type\":\"table\"}],\"barpolar\":[{\"marker\":{\"line\":{\"color\":\"#E5ECF6\",\"width\":0.5},\"pattern\":{\"fillmode\":\"overlay\",\"size\":10,\"solidity\":0.2}},\"type\":\"barpolar\"}],\"pie\":[{\"automargin\":true,\"type\":\"pie\"}]},\"layout\":{\"autotypenumbers\":\"strict\",\"colorway\":[\"#636efa\",\"#EF553B\",\"#00cc96\",\"#ab63fa\",\"#FFA15A\",\"#19d3f3\",\"#FF6692\",\"#B6E880\",\"#FF97FF\",\"#FECB52\"],\"font\":{\"color\":\"#2a3f5f\"},\"hovermode\":\"closest\",\"hoverlabel\":{\"align\":\"left\"},\"paper_bgcolor\":\"white\",\"plot_bgcolor\":\"#E5ECF6\",\"polar\":{\"bgcolor\":\"#E5ECF6\",\"angularaxis\":{\"gridcolor\":\"white\",\"linecolor\":\"white\",\"ticks\":\"\"},\"radialaxis\":{\"gridcolor\":\"white\",\"linecolor\":\"white\",\"ticks\":\"\"}},\"ternary\":{\"bgcolor\":\"#E5ECF6\",\"aaxis\":{\"gridcolor\":\"white\",\"linecolor\":\"white\",\"ticks\":\"\"},\"baxis\":{\"gridcolor\":\"white\",\"linecolor\":\"white\",\"ticks\":\"\"},\"caxis\":{\"gridcolor\":\"white\",\"linecolor\":\"white\",\"ticks\":\"\"}},\"coloraxis\":{\"colorbar\":{\"outlinewidth\":0,\"ticks\":\"\"}},\"colorscale\":{\"sequential\":[[0.0,\"#0d0887\"],[0.1111111111111111,\"#46039f\"],[0.2222222222222222,\"#7201a8\"],[0.3333333333333333,\"#9c179e\"],[0.4444444444444444,\"#bd3786\"],[0.5555555555555556,\"#d8576b\"],[0.6666666666666666,\"#ed7953\"],[0.7777777777777778,\"#fb9f3a\"],[0.8888888888888888,\"#fdca26\"],[1.0,\"#f0f921\"]],\"sequentialminus\":[[0.0,\"#0d0887\"],[0.1111111111111111,\"#46039f\"],[0.2222222222222222,\"#7201a8\"],[0.3333333333333333,\"#9c179e\"],[0.4444444444444444,\"#bd3786\"],[0.5555555555555556,\"#d8576b\"],[0.6666666666666666,\"#ed7953\"],[0.7777777777777778,\"#fb9f3a\"],[0.8888888888888888,\"#fdca26\"],[1.0,\"#f0f921\"]],\"diverging\":[[0,\"#8e0152\"],[0.1,\"#c51b7d\"],[0.2,\"#de77ae\"],[0.3,\"#f1b6da\"],[0.4,\"#fde0ef\"],[0.5,\"#f7f7f7\"],[0.6,\"#e6f5d0\"],[0.7,\"#b8e186\"],[0.8,\"#7fbc41\"],[0.9,\"#4d9221\"],[1,\"#276419\"]]},\"xaxis\":{\"gridcolor\":\"white\",\"linecolor\":\"white\",\"ticks\":\"\",\"title\":{\"standoff\":15},\"zerolinecolor\":\"white\",\"automargin\":true,\"zerolinewidth\":2},\"yaxis\":{\"gridcolor\":\"white\",\"linecolor\":\"white\",\"ticks\":\"\",\"title\":{\"standoff\":15},\"zerolinecolor\":\"white\",\"automargin\":true,\"zerolinewidth\":2},\"scene\":{\"xaxis\":{\"backgroundcolor\":\"#E5ECF6\",\"gridcolor\":\"white\",\"linecolor\":\"white\",\"showbackground\":true,\"ticks\":\"\",\"zerolinecolor\":\"white\",\"gridwidth\":2},\"yaxis\":{\"backgroundcolor\":\"#E5ECF6\",\"gridcolor\":\"white\",\"linecolor\":\"white\",\"showbackground\":true,\"ticks\":\"\",\"zerolinecolor\":\"white\",\"gridwidth\":2},\"zaxis\":{\"backgroundcolor\":\"#E5ECF6\",\"gridcolor\":\"white\",\"linecolor\":\"white\",\"showbackground\":true,\"ticks\":\"\",\"zerolinecolor\":\"white\",\"gridwidth\":2}},\"shapedefaults\":{\"line\":{\"color\":\"#2a3f5f\"}},\"annotationdefaults\":{\"arrowcolor\":\"#2a3f5f\",\"arrowhead\":0,\"arrowwidth\":1},\"geo\":{\"bgcolor\":\"white\",\"landcolor\":\"#E5ECF6\",\"subunitcolor\":\"white\",\"showland\":true,\"showlakes\":true,\"lakecolor\":\"white\"},\"title\":{\"x\":0.05},\"mapbox\":{\"style\":\"light\"}}},\"title\":{\"text\":\"Updating Parameter ETS Predictions, 2024-12-07\"},\"xaxis\":{\"title\":{\"text\":\"Date\"}},\"yaxis\":{\"title\":{\"text\":\"Count\"}},\"hovermode\":\"x\"},                        {\"responsive\": true}                    ).then(function(){\n",
       "                            \n",
       "var gd = document.getElementById('5d0a5962-8ae0-4024-9abe-f8d88d1fc5a3');\n",
       "var x = new MutationObserver(function (mutations, observer) {{\n",
       "        var display = window.getComputedStyle(gd).display;\n",
       "        if (!display || display === 'none') {{\n",
       "            console.log([gd, 'removed!']);\n",
       "            Plotly.purge(gd);\n",
       "            observer.disconnect();\n",
       "        }}\n",
       "}});\n",
       "\n",
       "// Listen for the removal of the full notebook cells\n",
       "var notebookContainer = gd.closest('#notebook-container');\n",
       "if (notebookContainer) {{\n",
       "    x.observe(notebookContainer, {childList: true});\n",
       "}}\n",
       "\n",
       "// Listen for the clearing of the current output cell\n",
       "var outputEl = gd.closest('.output');\n",
       "if (outputEl) {{\n",
       "    x.observe(outputEl, {childList: true});\n",
       "}}\n",
       "\n",
       "                        })                };                });            </script>        </div>"
      ]
     },
     "metadata": {},
     "output_type": "display_data"
    }
   ],
   "source": [
    "UProcessor.create_graph()"
   ]
  },
  {
   "cell_type": "code",
   "execution_count": 34,
   "id": "61d1e6a5-3b07-4d0e-bc4d-db5e3f9b3796",
   "metadata": {
    "tags": []
   },
   "outputs": [],
   "source": [
    "UProcessor.calculate_metrics()"
   ]
  },
  {
   "cell_type": "code",
   "execution_count": 35,
   "id": "9dada2b9-2c94-4b80-b112-2a7f569bf591",
   "metadata": {
    "tags": []
   },
   "outputs": [],
   "source": [
    "UProcessor.create_metrics_df()"
   ]
  },
  {
   "cell_type": "code",
   "execution_count": 36,
   "id": "0ad52469-4d6f-462b-b9b2-89424a4db870",
   "metadata": {
    "tags": []
   },
   "outputs": [
    {
     "data": {
      "text/html": [
       "<div>\n",
       "<style scoped>\n",
       "    .dataframe tbody tr th:only-of-type {\n",
       "        vertical-align: middle;\n",
       "    }\n",
       "\n",
       "    .dataframe tbody tr th {\n",
       "        vertical-align: top;\n",
       "    }\n",
       "\n",
       "    .dataframe thead th {\n",
       "        text-align: right;\n",
       "    }\n",
       "</style>\n",
       "<table border=\"1\" class=\"dataframe\">\n",
       "  <thead>\n",
       "    <tr style=\"text-align: right;\">\n",
       "      <th></th>\n",
       "      <th>Reference Date</th>\n",
       "      <th>MAE</th>\n",
       "      <th>MSE</th>\n",
       "      <th>MAPE</th>\n",
       "      <th>NMSE</th>\n",
       "    </tr>\n",
       "  </thead>\n",
       "  <tbody>\n",
       "    <tr>\n",
       "      <th>0</th>\n",
       "      <td>2024-10-05</td>\n",
       "      <td>429.629022</td>\n",
       "      <td>2.839458e+05</td>\n",
       "      <td>0.473180</td>\n",
       "      <td>2.778981</td>\n",
       "    </tr>\n",
       "    <tr>\n",
       "      <th>1</th>\n",
       "      <td>2024-10-19</td>\n",
       "      <td>1011.101795</td>\n",
       "      <td>1.410147e+06</td>\n",
       "      <td>0.546964</td>\n",
       "      <td>3.251223</td>\n",
       "    </tr>\n",
       "    <tr>\n",
       "      <th>2</th>\n",
       "      <td>2024-11-02</td>\n",
       "      <td>1890.071710</td>\n",
       "      <td>4.175336e+06</td>\n",
       "      <td>0.609017</td>\n",
       "      <td>6.147825</td>\n",
       "    </tr>\n",
       "    <tr>\n",
       "      <th>3</th>\n",
       "      <td>2024-11-16</td>\n",
       "      <td>2691.888317</td>\n",
       "      <td>1.172009e+07</td>\n",
       "      <td>0.394036</td>\n",
       "      <td>2.221912</td>\n",
       "    </tr>\n",
       "    <tr>\n",
       "      <th>4</th>\n",
       "      <td>2024-12-07</td>\n",
       "      <td>15198.151852</td>\n",
       "      <td>3.495203e+08</td>\n",
       "      <td>0.571412</td>\n",
       "      <td>2.707001</td>\n",
       "    </tr>\n",
       "  </tbody>\n",
       "</table>\n",
       "</div>"
      ],
      "text/plain": [
       "  Reference Date           MAE           MSE      MAPE      NMSE\n",
       "0     2024-10-05    429.629022  2.839458e+05  0.473180  2.778981\n",
       "1     2024-10-19   1011.101795  1.410147e+06  0.546964  3.251223\n",
       "2     2024-11-02   1890.071710  4.175336e+06  0.609017  6.147825\n",
       "3     2024-11-16   2691.888317  1.172009e+07  0.394036  2.221912\n",
       "4     2024-12-07  15198.151852  3.495203e+08  0.571412  2.707001"
      ]
     },
     "execution_count": 36,
     "metadata": {},
     "output_type": "execute_result"
    }
   ],
   "source": [
    "UProcessor.metrics_df"
   ]
  },
  {
   "cell_type": "code",
   "execution_count": 37,
   "id": "56552483-b9af-4092-8a7e-3ec251e79c7a",
   "metadata": {
    "tags": []
   },
   "outputs": [],
   "source": [
    "UProcessor.create_display_df()"
   ]
  },
  {
   "cell_type": "code",
   "execution_count": 38,
   "id": "73e1e68a-6beb-485a-8775-30611308f0bb",
   "metadata": {
    "tags": []
   },
   "outputs": [
    {
     "data": {
      "text/html": [
       "<div>\n",
       "<style scoped>\n",
       "    .dataframe tbody tr th:only-of-type {\n",
       "        vertical-align: middle;\n",
       "    }\n",
       "\n",
       "    .dataframe tbody tr th {\n",
       "        vertical-align: top;\n",
       "    }\n",
       "\n",
       "    .dataframe thead th {\n",
       "        text-align: right;\n",
       "    }\n",
       "</style>\n",
       "<table border=\"1\" class=\"dataframe\">\n",
       "  <thead>\n",
       "    <tr style=\"text-align: right;\">\n",
       "      <th></th>\n",
       "      <th>Reference Date</th>\n",
       "      <th>Target End Date</th>\n",
       "      <th>Quantile</th>\n",
       "      <th>Prediction</th>\n",
       "    </tr>\n",
       "  </thead>\n",
       "  <tbody>\n",
       "    <tr>\n",
       "      <th>1</th>\n",
       "      <td>2024-10-05</td>\n",
       "      <td>2024-10-12</td>\n",
       "      <td>0.025</td>\n",
       "      <td>-2726.973026</td>\n",
       "    </tr>\n",
       "    <tr>\n",
       "      <th>2</th>\n",
       "      <td>2024-10-05</td>\n",
       "      <td>2024-10-12</td>\n",
       "      <td>0.100</td>\n",
       "      <td>-1682.765033</td>\n",
       "    </tr>\n",
       "    <tr>\n",
       "      <th>0</th>\n",
       "      <td>2024-10-05</td>\n",
       "      <td>2024-10-12</td>\n",
       "      <td>0.500</td>\n",
       "      <td>289.790821</td>\n",
       "    </tr>\n",
       "    <tr>\n",
       "      <th>3</th>\n",
       "      <td>2024-10-05</td>\n",
       "      <td>2024-10-12</td>\n",
       "      <td>0.900</td>\n",
       "      <td>2262.346675</td>\n",
       "    </tr>\n",
       "    <tr>\n",
       "      <th>4</th>\n",
       "      <td>2024-10-05</td>\n",
       "      <td>2024-10-12</td>\n",
       "      <td>0.975</td>\n",
       "      <td>3306.554669</td>\n",
       "    </tr>\n",
       "    <tr>\n",
       "      <th>...</th>\n",
       "      <td>...</td>\n",
       "      <td>...</td>\n",
       "      <td>...</td>\n",
       "      <td>...</td>\n",
       "    </tr>\n",
       "    <tr>\n",
       "      <th>96</th>\n",
       "      <td>2024-12-07</td>\n",
       "      <td>2025-01-04</td>\n",
       "      <td>0.025</td>\n",
       "      <td>949.621288</td>\n",
       "    </tr>\n",
       "    <tr>\n",
       "      <th>97</th>\n",
       "      <td>2024-12-07</td>\n",
       "      <td>2025-01-04</td>\n",
       "      <td>0.100</td>\n",
       "      <td>3433.016968</td>\n",
       "    </tr>\n",
       "    <tr>\n",
       "      <th>95</th>\n",
       "      <td>2024-12-07</td>\n",
       "      <td>2025-01-04</td>\n",
       "      <td>0.500</td>\n",
       "      <td>8124.263079</td>\n",
       "    </tr>\n",
       "    <tr>\n",
       "      <th>98</th>\n",
       "      <td>2024-12-07</td>\n",
       "      <td>2025-01-04</td>\n",
       "      <td>0.900</td>\n",
       "      <td>12815.509189</td>\n",
       "    </tr>\n",
       "    <tr>\n",
       "      <th>99</th>\n",
       "      <td>2024-12-07</td>\n",
       "      <td>2025-01-04</td>\n",
       "      <td>0.975</td>\n",
       "      <td>15298.904869</td>\n",
       "    </tr>\n",
       "  </tbody>\n",
       "</table>\n",
       "<p>100 rows × 4 columns</p>\n",
       "</div>"
      ],
      "text/plain": [
       "   Reference Date Target End Date  Quantile    Prediction\n",
       "1      2024-10-05      2024-10-12     0.025  -2726.973026\n",
       "2      2024-10-05      2024-10-12     0.100  -1682.765033\n",
       "0      2024-10-05      2024-10-12     0.500    289.790821\n",
       "3      2024-10-05      2024-10-12     0.900   2262.346675\n",
       "4      2024-10-05      2024-10-12     0.975   3306.554669\n",
       "..            ...             ...       ...           ...\n",
       "96     2024-12-07      2025-01-04     0.025    949.621288\n",
       "97     2024-12-07      2025-01-04     0.100   3433.016968\n",
       "95     2024-12-07      2025-01-04     0.500   8124.263079\n",
       "98     2024-12-07      2025-01-04     0.900  12815.509189\n",
       "99     2024-12-07      2025-01-04     0.975  15298.904869\n",
       "\n",
       "[100 rows x 4 columns]"
      ]
     },
     "execution_count": 38,
     "metadata": {},
     "output_type": "execute_result"
    }
   ],
   "source": [
    "UProcessor.display_df"
   ]
  },
  {
   "cell_type": "code",
   "execution_count": null,
   "id": "5d71b609-ee1a-4f13-b872-4fec7336e593",
   "metadata": {},
   "outputs": [],
   "source": []
  },
  {
   "cell_type": "code",
   "execution_count": 39,
   "id": "8b0b1fb9-f4fa-4856-85a3-753f2b23824f",
   "metadata": {
    "tags": []
   },
   "outputs": [],
   "source": [
    "UProcessor2 = UpdatingETSProcessor(overall_df = updated_df, dates = [\"2024-10-05\", \"2024-10-19\", \"2024-11-02\", \"2024-11-16\", \"2024-12-07\"])"
   ]
  },
  {
   "cell_type": "code",
   "execution_count": 40,
   "id": "8085782f-a2d7-4cf6-bc8d-e87a5a3805e5",
   "metadata": {
    "tags": []
   },
   "outputs": [],
   "source": [
    "UProcessor2.create_training_dfs(value_col=\"value\")"
   ]
  },
  {
   "cell_type": "code",
   "execution_count": 41,
   "id": "db1e41a2-e8a6-4ba4-b49a-be73275f24eb",
   "metadata": {
    "tags": []
   },
   "outputs": [],
   "source": [
    "model_paths = [\"AutoETS/updating_models/test1.pkl\", \"AutoETS/updating_models/test2.pkl\", \"AutoETS/updating_models/test3.pkl\", \n",
    "               \"AutoETS/updating_models/test4.pkl\", \"AutoETS/updating_models/test5.pkl\"]\n",
    "UProcessor2.load_models(paths = model_paths)"
   ]
  },
  {
   "cell_type": "code",
   "execution_count": 42,
   "id": "a11e6853-7f7e-4730-8541-0729a1f8ad24",
   "metadata": {
    "tags": []
   },
   "outputs": [],
   "source": [
    "UProcessor2.create_models(h = 4, freq = \"W-SAT\", season_length = 52, model_names = [\"test1\", \"test2\", \"test3\", \"test4\", \"test5\"], level = [80, 95])"
   ]
  },
  {
   "cell_type": "code",
   "execution_count": 43,
   "id": "3c29c174-9b72-47ce-b5af-0537da4a6596",
   "metadata": {
    "tags": []
   },
   "outputs": [],
   "source": [
    "UProcessor2.create_display_df()"
   ]
  },
  {
   "cell_type": "code",
   "execution_count": 44,
   "id": "6f8fd196-c51e-4829-bf08-88ab5a5fb0d4",
   "metadata": {
    "tags": []
   },
   "outputs": [
    {
     "data": {
      "text/html": [
       "<div>\n",
       "<style scoped>\n",
       "    .dataframe tbody tr th:only-of-type {\n",
       "        vertical-align: middle;\n",
       "    }\n",
       "\n",
       "    .dataframe tbody tr th {\n",
       "        vertical-align: top;\n",
       "    }\n",
       "\n",
       "    .dataframe thead th {\n",
       "        text-align: right;\n",
       "    }\n",
       "</style>\n",
       "<table border=\"1\" class=\"dataframe\">\n",
       "  <thead>\n",
       "    <tr style=\"text-align: right;\">\n",
       "      <th></th>\n",
       "      <th>Reference Date</th>\n",
       "      <th>Target End Date</th>\n",
       "      <th>Quantile</th>\n",
       "      <th>Prediction</th>\n",
       "    </tr>\n",
       "  </thead>\n",
       "  <tbody>\n",
       "    <tr>\n",
       "      <th>1</th>\n",
       "      <td>2024-10-05</td>\n",
       "      <td>2024-10-12</td>\n",
       "      <td>0.025</td>\n",
       "      <td>-2726.973026</td>\n",
       "    </tr>\n",
       "    <tr>\n",
       "      <th>2</th>\n",
       "      <td>2024-10-05</td>\n",
       "      <td>2024-10-12</td>\n",
       "      <td>0.100</td>\n",
       "      <td>-1682.765033</td>\n",
       "    </tr>\n",
       "    <tr>\n",
       "      <th>0</th>\n",
       "      <td>2024-10-05</td>\n",
       "      <td>2024-10-12</td>\n",
       "      <td>0.500</td>\n",
       "      <td>289.790821</td>\n",
       "    </tr>\n",
       "    <tr>\n",
       "      <th>3</th>\n",
       "      <td>2024-10-05</td>\n",
       "      <td>2024-10-12</td>\n",
       "      <td>0.900</td>\n",
       "      <td>2262.346675</td>\n",
       "    </tr>\n",
       "    <tr>\n",
       "      <th>4</th>\n",
       "      <td>2024-10-05</td>\n",
       "      <td>2024-10-12</td>\n",
       "      <td>0.975</td>\n",
       "      <td>3306.554669</td>\n",
       "    </tr>\n",
       "    <tr>\n",
       "      <th>...</th>\n",
       "      <td>...</td>\n",
       "      <td>...</td>\n",
       "      <td>...</td>\n",
       "      <td>...</td>\n",
       "    </tr>\n",
       "    <tr>\n",
       "      <th>96</th>\n",
       "      <td>2024-12-07</td>\n",
       "      <td>2025-01-04</td>\n",
       "      <td>0.025</td>\n",
       "      <td>949.621288</td>\n",
       "    </tr>\n",
       "    <tr>\n",
       "      <th>97</th>\n",
       "      <td>2024-12-07</td>\n",
       "      <td>2025-01-04</td>\n",
       "      <td>0.100</td>\n",
       "      <td>3433.016968</td>\n",
       "    </tr>\n",
       "    <tr>\n",
       "      <th>95</th>\n",
       "      <td>2024-12-07</td>\n",
       "      <td>2025-01-04</td>\n",
       "      <td>0.500</td>\n",
       "      <td>8124.263079</td>\n",
       "    </tr>\n",
       "    <tr>\n",
       "      <th>98</th>\n",
       "      <td>2024-12-07</td>\n",
       "      <td>2025-01-04</td>\n",
       "      <td>0.900</td>\n",
       "      <td>12815.509189</td>\n",
       "    </tr>\n",
       "    <tr>\n",
       "      <th>99</th>\n",
       "      <td>2024-12-07</td>\n",
       "      <td>2025-01-04</td>\n",
       "      <td>0.975</td>\n",
       "      <td>15298.904869</td>\n",
       "    </tr>\n",
       "  </tbody>\n",
       "</table>\n",
       "<p>100 rows × 4 columns</p>\n",
       "</div>"
      ],
      "text/plain": [
       "   Reference Date Target End Date  Quantile    Prediction\n",
       "1      2024-10-05      2024-10-12     0.025  -2726.973026\n",
       "2      2024-10-05      2024-10-12     0.100  -1682.765033\n",
       "0      2024-10-05      2024-10-12     0.500    289.790821\n",
       "3      2024-10-05      2024-10-12     0.900   2262.346675\n",
       "4      2024-10-05      2024-10-12     0.975   3306.554669\n",
       "..            ...             ...       ...           ...\n",
       "96     2024-12-07      2025-01-04     0.025    949.621288\n",
       "97     2024-12-07      2025-01-04     0.100   3433.016968\n",
       "95     2024-12-07      2025-01-04     0.500   8124.263079\n",
       "98     2024-12-07      2025-01-04     0.900  12815.509189\n",
       "99     2024-12-07      2025-01-04     0.975  15298.904869\n",
       "\n",
       "[100 rows x 4 columns]"
      ]
     },
     "execution_count": 44,
     "metadata": {},
     "output_type": "execute_result"
    }
   ],
   "source": [
    "UProcessor2.display_df"
   ]
  },
  {
   "cell_type": "code",
   "execution_count": 45,
   "id": "a0220f82-6dd1-4528-890f-aea38b463cf8",
   "metadata": {
    "tags": []
   },
   "outputs": [
    {
     "data": {
      "text/plain": [
       "True"
      ]
     },
     "execution_count": 45,
     "metadata": {},
     "output_type": "execute_result"
    }
   ],
   "source": [
    "UProcessor.display_df.equals(UProcessor2.display_df)"
   ]
  },
  {
   "cell_type": "code",
   "execution_count": null,
   "id": "ecb47820-6cc7-4b33-acd9-c9561dc25e31",
   "metadata": {},
   "outputs": [],
   "source": []
  }
 ],
 "metadata": {
  "kernelspec": {
   "display_name": "Python 3 (ipykernel)",
   "language": "python",
   "name": "python3"
  },
  "language_info": {
   "codemirror_mode": {
    "name": "ipython",
    "version": 3
   },
   "file_extension": ".py",
   "mimetype": "text/x-python",
   "name": "python",
   "nbconvert_exporter": "python",
   "pygments_lexer": "ipython3",
   "version": "3.11.4"
  }
 },
 "nbformat": 4,
 "nbformat_minor": 5
}
