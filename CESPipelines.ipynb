{
 "cells": [
  {
   "cell_type": "code",
   "execution_count": 1,
   "id": "31265322-a796-4be7-b3c1-a3bf959b59a0",
   "metadata": {
    "tags": []
   },
   "outputs": [
    {
     "data": {
      "text/html": [
       "        <script type=\"text/javascript\">\n",
       "        window.PlotlyConfig = {MathJaxConfig: 'local'};\n",
       "        if (window.MathJax && window.MathJax.Hub && window.MathJax.Hub.Config) {window.MathJax.Hub.Config({SVG: {font: \"STIX-Web\"}});}\n",
       "        if (typeof require !== 'undefined') {\n",
       "        require.undef(\"plotly\");\n",
       "        requirejs.config({\n",
       "            paths: {\n",
       "                'plotly': ['https://cdn.plot.ly/plotly-2.25.2.min']\n",
       "            }\n",
       "        });\n",
       "        require(['plotly'], function(Plotly) {\n",
       "            window._Plotly = Plotly;\n",
       "        });\n",
       "        }\n",
       "        </script>\n",
       "        "
      ]
     },
     "metadata": {},
     "output_type": "display_data"
    }
   ],
   "source": [
    "import pandas as pd \n",
    "import numpy as np\n",
    "import matplotlib.pyplot as plt\n",
    "\n",
    "import cufflinks as cf\n",
    "from plotly import __version__\n",
    "from plotly.offline import download_plotlyjs, init_notebook_mode, plot, iplot\n",
    "\n",
    "cf.go_offline()\n",
    "\n",
    "%matplotlib inline\n",
    "from sklearn.metrics import mean_absolute_error, mean_absolute_percentage_error, mean_squared_error\n",
    "\n",
    "from neuralforecast.auto import AutoLSTM\n",
    "from neuralforecast.tsdataset import TimeSeriesDataset\n",
    "\n",
    "from datetime import datetime, timedelta"
   ]
  },
  {
   "cell_type": "code",
   "execution_count": 2,
   "id": "76c3d259-b43c-43f2-a28c-adcf2e007464",
   "metadata": {
    "tags": []
   },
   "outputs": [],
   "source": [
    "from statsforecast import StatsForecast\n",
    "from statsforecast.models import AutoARIMA, AutoCES, AutoETS\n",
    "from statsforecast.arima import arima_string\n",
    "import plotly.graph_objects as go\n",
    "import matplotlib.colors as mcolors"
   ]
  },
  {
   "cell_type": "code",
   "execution_count": 3,
   "id": "d426127d-7a3b-4d18-bc75-eabed5900165",
   "metadata": {
    "tags": []
   },
   "outputs": [],
   "source": [
    "class FixedCESProcessor:\n",
    "    def __init__(self, overall_df, dates):\n",
    "        self.overall_df = overall_df\n",
    "        self.overall_df_value_col = \"value\"\n",
    "        self.dates = dates\n",
    "        \n",
    "        self.dfs = []\n",
    "        self.sf = None\n",
    "        self.forecast = None\n",
    "        self.plotting_df = pd.DataFrame()\n",
    "        \n",
    "        self.mae = None\n",
    "        self.mse = None\n",
    "        self.mape = None\n",
    "        self.nmse = None\n",
    "        \n",
    "        self.metrics_df = pd.DataFrame(columns = [\"Reference Date\", \"MAE\", \"MSE\", \"MAPE\", \"NMSE\"])\n",
    "        self.display_df = pd.DataFrame(columns = [\"Reference Date\", \"Target End Date\", \"Quantile\", \"Prediction\"])\n",
    "    \n",
    "    def create_training_dfs(self, value_col):\n",
    "        self.overall_df_value_col = value_col\n",
    "        for date in self.dates:\n",
    "            df = self.overall_df.loc[:date]\n",
    "            df['ds'] = df.index\n",
    "            df[\"unique_id\"] = \"series_1\"\n",
    "            df = df.rename(columns = {value_col: \"y\"})\n",
    "            self.dfs.append(df)\n",
    "    \n",
    "    def create_fixed_model(self, h, freq, season_length, model_name, level = []):\n",
    "        self.sf = StatsForecast(models=[AutoCES(season_length=season_length)], freq = freq)\n",
    "        self.sf.fit(self.dfs[0])\n",
    "        \n",
    "        start_date = datetime.strptime(self.dates[0], \"%Y-%m-%d\")\n",
    "        ending_date = datetime.strptime(self.dates[-1], \"%Y-%m-%d\") + timedelta(weeks = h)\n",
    "\n",
    "        prediction_horizon = abs((ending_date - start_date).days) // 7\n",
    "        \n",
    "        if not level:\n",
    "            self.forecast = self.sf.predict(h = prediction_horizon)\n",
    "        else:\n",
    "            self.forecast = self.sf.predict(h = prediction_horizon, level = level)\n",
    "\n",
    "        self.forecast.set_index(\"ds\", inplace = True)\n",
    "        self.forecast.drop(columns = \"unique_id\", inplace = True)\n",
    "        #self.sf.save(path = f\"AutoCES/fixed_models/{model_name}\")\n",
    "        \n",
    "    \n",
    "    \n",
    "    \n",
    "    def generate_color_map(self, columns, cmap_name = \"viridis\"):\n",
    "        intervals = set()\n",
    "        for col in columns:\n",
    "            if col == \"CES\":\n",
    "                continue\n",
    "            parts = col.split('-')\n",
    "            number = parts[-1]\n",
    "            intervals.add(number)\n",
    "        \n",
    "        intervals = sorted(intervals, key=int)\n",
    "        cmap = plt.cm.get_cmap(cmap_name)\n",
    "        \n",
    "        n = len(intervals)\n",
    "        if n > 0:\n",
    "            half = np.linspace(0.2, 0.45, n // 2, endpoint=True)[::-1]  # lower intervals\n",
    "            upper = np.linspace(0.55, 0.8, n - n // 2, endpoint=True)  # higher intervals\n",
    "            sample_points = np.concatenate([half, upper])\n",
    "        else:\n",
    "            sample_points = np.array([])  # just median\n",
    "        \n",
    "        median_value = np.median(sample_points)\n",
    "        \n",
    "        color_mapping = {}\n",
    "        color_mapping['CES'] = mcolors.to_hex(cmap(median_value))  # center of the colormap\n",
    "        for interval, point in zip(intervals, sample_points):\n",
    "            color_mapping[interval] = mcolors.to_hex(cmap(point))\n",
    "    \n",
    "        return color_mapping\n",
    "    \n",
    "    \n",
    "    def create_graph(self):\n",
    "        if len(self.forecast.columns) != 1:\n",
    "            self.color_mapping = self.generate_color_map(columns = self.forecast.columns)\n",
    "    \n",
    "    \n",
    "        fig = go.Figure()\n",
    "        fig.add_trace(go.Scatter(x = self.overall_df.index, y = self.overall_df[self.overall_df_value_col], mode = \"lines\", name = \"Real Data\"))\n",
    "        \n",
    "        for col in self.forecast.columns:\n",
    "            if \"hi\" in col:\n",
    "                number = col[-2:]\n",
    "                fig.add_trace(go.Scatter(x = self.forecast.index, y = self.forecast[col], mode = \"lines\", name = col,\n",
    "                                         line = dict(color = self.color_mapping[number])))\n",
    "                                         \n",
    "        for col in self.forecast.columns:\n",
    "            if \"lo\" in col:\n",
    "                number = col[-2:]\n",
    "                fig.add_trace(go.Scatter(x = self.forecast.index, y = self.forecast[col], mode = \"lines\", name = col,\n",
    "                                         fill = \"tonexty\", fillcolor = self.color_mapping[number], line = dict(color = self.color_mapping[number])))\n",
    "            \n",
    "        for col in self.forecast.columns:\n",
    "            if col == \"CES\":\n",
    "                fig.add_trace(go.Scatter(x = self.forecast.index, y = self.forecast[col], mode = \"lines\", name = col, \n",
    "                                             line = dict(color = self.color_mapping[\"CES\"])))\n",
    "        \n",
    "        fig.update_layout(title = f\"Fixed Parameter CES Predictions, {self.dates[0]}\", xaxis_title = \"Date\", yaxis_title = \"Count\", hovermode = \"x\")\n",
    "        fig.show()\n",
    "\n",
    "    \n",
    "    def create_metrics(self):\n",
    "        col_string = \"CES\"\n",
    "\n",
    "        \n",
    "        self.mae = mean_absolute_error(self.overall_df[self.overall_df_value_col].loc[self.forecast.index], self.forecast[col_string])\n",
    "        self.mse = mean_squared_error(self.overall_df[self.overall_df_value_col].loc[self.forecast.index], self.forecast[col_string])\n",
    "        self.mape = mean_absolute_percentage_error(self.overall_df[self.overall_df_value_col].loc[self.forecast.index], self.forecast[col_string])\n",
    "        self.nmse = self.mse/np.var(self.overall_df[self.overall_df_value_col].loc[self.forecast.index])\n",
    "\n",
    "    def create_metrics_df(self):\n",
    "        self.metrics_df.loc[len(self.metrics_df)] = [self.dates[0], self.mae, self.mse, self.mape, self.nmse]\n",
    "    \n",
    "    def create_display_df(self):\n",
    "        for index, row in self.forecast.iterrows():\n",
    "            reference_date = self.dates[0]\n",
    "            target_end_date = index\n",
    "            \n",
    "            for col in self.forecast.columns:\n",
    "                value = self.forecast.loc[target_end_date, col]\n",
    "                if \"lo\" in col:\n",
    "                    number = int (col[-2:])\n",
    "                    alpha = 1 - (number / 100)\n",
    "                    quantile = alpha / 2\n",
    "                    self.display_df.loc[len(self.display_df)] = [reference_date, target_end_date, quantile, value]\n",
    "                \n",
    "                if col == \"CES\":\n",
    "                    quantile = 0.5\n",
    "                    self.display_df.loc[len(self.display_df)] = [reference_date, target_end_date, quantile, value]\n",
    "                \n",
    "                elif \"hi\" in col:\n",
    "                    number = int (col[-2:])\n",
    "                    alpha = 1 - (number / 100)\n",
    "                    quantile = 1 - (alpha / 2)\n",
    "                    self.display_df.loc[len(self.display_df)] = [reference_date, target_end_date, quantile, value]\n",
    "        \n",
    "        self.display_df.sort_values(by = [\"Reference Date\", \"Target End Date\", \"Quantile\"], inplace = True)"
   ]
  },
  {
   "cell_type": "code",
   "execution_count": 4,
   "id": "7eb87596-8632-4c14-8d63-66d339f23788",
   "metadata": {
    "tags": []
   },
   "outputs": [],
   "source": [
    "class UpdatingCESProcessor:\n",
    "    def __init__(self, overall_df, dates):\n",
    "        self.overall_df = overall_df\n",
    "        self.overall_df_value_col = \"value\"\n",
    "        self.dates = dates\n",
    "        \n",
    "        self.dfs = []\n",
    "        self.sf = None\n",
    "        self.forecasts = []\n",
    "        self.plotting_df = pd.DataFrame()\n",
    "        \n",
    "        self.maes = []\n",
    "        self.mses = []\n",
    "        self.mapes = []\n",
    "        self.nmses = []\n",
    "        \n",
    "        self.metrics_df = pd.DataFrame(columns = [\"Reference Date\", \"MAE\", \"MSE\", \"MAPE\", \"NMSE\"])\n",
    "        self.display_df = pd.DataFrame(columns = [\"Reference Date\", \"Target End Date\", \"Quantile\", \"Prediction\"])\n",
    "    \n",
    "    def create_training_dfs(self, value_col):\n",
    "        self.overall_df_value_col = value_col\n",
    "        for date in self.dates:\n",
    "            df = self.overall_df.loc[:date]\n",
    "            df['ds'] = df.index\n",
    "            df[\"unique_id\"] = \"series_1\"\n",
    "            df = df.rename(columns = {value_col: \"y\"})\n",
    "            self.dfs.append(df)\n",
    "            \n",
    "    def create_models(self, h, freq, season_length, model_names, level = []):\n",
    "\n",
    "        self.sf = StatsForecast(models=[AutoCES(season_length=season_length)], freq = freq)\n",
    "        \n",
    "        \n",
    "        for i in range(len(self.dfs)):\n",
    "            self.sf.fit(self.dfs[i])\n",
    "            fc = pd.DataFrame()\n",
    "            if not level:\n",
    "                fc = self.sf.predict(h = h)\n",
    "            else:\n",
    "                fc = self.sf.predict(h = h, level = level)\n",
    "            \n",
    "            fc.set_index(\"ds\", inplace = True)\n",
    "            fc.drop(columns = \"unique_id\", inplace = True)\n",
    "            self.forecasts.append(fc)\n",
    "            #self.sf.save(path = f\"./{self.model_type}/updating_models/{model_names[i]}.ckpt\")\n",
    "    \n",
    "    def generate_color_map(self, columns, cmap_name = \"viridis\"):\n",
    "        intervals = set()\n",
    "        for col in columns:\n",
    "            if col == \"CES\":\n",
    "                continue\n",
    "            parts = col.split('-')\n",
    "            number = parts[-1]\n",
    "            intervals.add(number)\n",
    "        \n",
    "        intervals = sorted(intervals, key=int)\n",
    "        cmap = plt.cm.get_cmap(cmap_name)\n",
    "        \n",
    "        n = len(intervals)\n",
    "        if n > 0:\n",
    "            half = np.linspace(0.2, 0.45, n // 2, endpoint=True)[::-1]  # lower intervals\n",
    "            upper = np.linspace(0.55, 0.8, n - n // 2, endpoint=True)  # higher intervals\n",
    "            sample_points = np.concatenate([half, upper])\n",
    "        else:\n",
    "            sample_points = np.array([])  # just median\n",
    "        \n",
    "        median_value = np.median(sample_points)\n",
    "        \n",
    "        color_mapping = {}\n",
    "        color_mapping['CES'] = mcolors.to_hex(cmap(median_value))  # center of the colormap\n",
    "        for interval, point in zip(intervals, sample_points):\n",
    "            color_mapping[interval] = mcolors.to_hex(cmap(point))\n",
    "    \n",
    "        return color_mapping\n",
    "    \n",
    "    def create_graph(self):\n",
    "        if len(self.forecasts[0].columns) != 1:\n",
    "            self.color_mapping = self.generate_color_map(columns = self.forecasts[0].columns)\n",
    "                \n",
    "        \n",
    "        for i in range(len(self.forecasts)):\n",
    "            #Plot the overall Real Data\n",
    "            fig = go.Figure()\n",
    "            fig.add_trace(go.Scatter(x = self.overall_df.index, y = self.overall_df[self.overall_df_value_col], mode = \"lines\", name = \"Real Data\"))\n",
    "\n",
    "            \n",
    "            for col in self.forecasts[i].columns:\n",
    "                #Plot his first\n",
    "                if \"hi\" in col:\n",
    "                    number = col[-2:]\n",
    "                    fig.add_trace(go.Scatter(x = self.forecasts[i].index, y = self.forecasts[i][col], mode = \"lines\", name = col, \n",
    "                                             line = dict(color = self.color_mapping[number])))\n",
    "            \n",
    "            for col in self.forecasts[i].columns:\n",
    "                #Lows will go to corresponding his\n",
    "                if \"lo\" in col:\n",
    "                    number = col[-2:]\n",
    "                    fig.add_trace(go.Scatter(x = self.forecasts[i].index, y = self.forecasts[i][col], mode = \"lines\", name = col, \n",
    "                                             fill = \"tonexty\", fillcolor = self.color_mapping[number], line = dict(color = self.color_mapping[number])))\n",
    "            for col in self.forecasts[i].columns:\n",
    "                if col == \"CES\":\n",
    "                    fig.add_trace(go.Scatter(x = self.forecasts[i].index, y = self.forecasts[i][col], mode = \"lines\", name = col, \n",
    "                                             line = dict(color = self.color_mapping[\"CES\"])))\n",
    "                    \n",
    "            fig.update_layout(title = f\"Updating Parameter CES Predictions, {self.dates[i]}\", xaxis_title = \"Date\", yaxis_title = \"Count\", hovermode = \"x\")\n",
    "            fig.show()\n",
    "        \n",
    "    def calculate_metrics(self):\n",
    "        col_string = \"CES\"\n",
    "  \n",
    "        for i in range(len(self.forecasts)):\n",
    "            mae = mean_absolute_error(self.overall_df[self.overall_df_value_col].loc[self.forecasts[i].index], self.forecasts[i][col_string])\n",
    "            mse = mean_squared_error(self.overall_df[self.overall_df_value_col].loc[self.forecasts[i].index], self.forecasts[i][col_string])\n",
    "            mape = mean_absolute_percentage_error(self.overall_df[self.overall_df_value_col].loc[self.forecasts[i].index], self.forecasts[i][col_string])\n",
    "            nmse = mse/np.var(self.overall_df[self.overall_df_value_col].loc[self.forecasts[i].index])\n",
    "            \n",
    "            self.maes.append(mae)\n",
    "            self.mses.append(mse)\n",
    "            self.mapes.append(mape)\n",
    "            self.nmses.append(nmse)\n",
    "    \n",
    "    def create_metrics_df(self):\n",
    "        for i in range(len(self.dates)):\n",
    "            self.metrics_df.loc[len(self.metrics_df)] = [self.dates[i], self.maes[i], self.mses[i], self.mapes[i], self.nmses[i]]\n",
    "    \n",
    "    def create_display_df(self):\n",
    "        for i in range(len(self.forecasts)):\n",
    "            for index, row in self.forecasts[i].iterrows():\n",
    "                reference_date = self.dates[i]\n",
    "                target_end_date = index\n",
    "                \n",
    "                for col in self.forecasts[i].columns:\n",
    "                    value = self.forecasts[i].loc[target_end_date, col]\n",
    "                    if \"lo\" in col:\n",
    "                        number = int (col[-2:])\n",
    "                        alpha = 1 - (number / 100)\n",
    "                        quantile = alpha / 2\n",
    "                        self.display_df.loc[len(self.display_df)] = [reference_date, target_end_date, quantile, value]\n",
    "\n",
    "                    if col == \"CES\":\n",
    "                        quantile = 0.5\n",
    "                        self.display_df.loc[len(self.display_df)] = [reference_date, target_end_date, quantile, value]\n",
    "\n",
    "                    elif \"hi\" in col:\n",
    "                        number = int (col[-2:])\n",
    "                        alpha = 1 - (number / 100)\n",
    "                        quantile = 1 - (alpha / 2)\n",
    "                        self.display_df.loc[len(self.display_df)] = [reference_date, target_end_date, quantile, value]\n",
    "                \n",
    "        self.display_df.sort_values(by = [\"Reference Date\", \"Target End Date\", \"Quantile\"], inplace = True)"
   ]
  },
  {
   "cell_type": "code",
   "execution_count": 5,
   "id": "e8dccdca-0bb3-4023-a07a-72292e3e098f",
   "metadata": {},
   "outputs": [],
   "source": [
    "updated_df = pd.read_csv(\"https://raw.githubusercontent.com/cdcepi/FluSight-forecast-hub/refs/heads/main/target-data/target-hospital-admissions.csv\")"
   ]
  },
  {
   "cell_type": "code",
   "execution_count": 6,
   "id": "517807f9-b071-4e5a-b2a3-e1b2060d9551",
   "metadata": {
    "tags": []
   },
   "outputs": [],
   "source": [
    "updated_df = updated_df[updated_df[\"location_name\"] == \"US\"]\n",
    "updated_df = updated_df[[\"date\", \"value\"]]\n",
    "updated_df[\"date\"] = pd.to_datetime(updated_df[\"date\"])\n",
    "updated_df.set_index(\"date\", inplace = True)\n",
    "updated_df.sort_values(by = \"date\", inplace = True)"
   ]
  },
  {
   "cell_type": "code",
   "execution_count": 7,
   "id": "2047d8e9-a4ff-4a82-9b9b-4224dc9549ca",
   "metadata": {
    "tags": []
   },
   "outputs": [],
   "source": [
    "Processor = FixedCESProcessor(overall_df = updated_df, dates = [\"2024-10-05\", \"2024-10-19\", \"2024-11-02\", \"2024-11-16\", \"2024-12-07\"])"
   ]
  },
  {
   "cell_type": "code",
   "execution_count": 8,
   "id": "377c7808-a43a-4e67-9af3-5ea62dc00bb3",
   "metadata": {
    "tags": []
   },
   "outputs": [],
   "source": [
    "Processor.create_training_dfs(value_col = \"value\")"
   ]
  },
  {
   "cell_type": "code",
   "execution_count": 9,
   "id": "812f6636-772c-4275-9d21-3416c716cbbe",
   "metadata": {
    "tags": []
   },
   "outputs": [],
   "source": [
    "Processor.create_fixed_model(h = 4, freq = \"W-SAT\", season_length = 52, model_name = \"testing\", level = [80, 95])"
   ]
  },
  {
   "cell_type": "code",
   "execution_count": 10,
   "id": "d2b93863-c0b8-449c-a950-00aa48b07afc",
   "metadata": {
    "tags": []
   },
   "outputs": [
    {
     "data": {
      "text/html": [
       "<div>\n",
       "<style scoped>\n",
       "    .dataframe tbody tr th:only-of-type {\n",
       "        vertical-align: middle;\n",
       "    }\n",
       "\n",
       "    .dataframe tbody tr th {\n",
       "        vertical-align: top;\n",
       "    }\n",
       "\n",
       "    .dataframe thead th {\n",
       "        text-align: right;\n",
       "    }\n",
       "</style>\n",
       "<table border=\"1\" class=\"dataframe\">\n",
       "  <thead>\n",
       "    <tr style=\"text-align: right;\">\n",
       "      <th></th>\n",
       "      <th>CES</th>\n",
       "      <th>CES-lo-95</th>\n",
       "      <th>CES-lo-80</th>\n",
       "      <th>CES-hi-80</th>\n",
       "      <th>CES-hi-95</th>\n",
       "    </tr>\n",
       "    <tr>\n",
       "      <th>ds</th>\n",
       "      <th></th>\n",
       "      <th></th>\n",
       "      <th></th>\n",
       "      <th></th>\n",
       "      <th></th>\n",
       "    </tr>\n",
       "  </thead>\n",
       "  <tbody>\n",
       "    <tr>\n",
       "      <th>2024-10-12</th>\n",
       "      <td>262.955078</td>\n",
       "      <td>-3073.665442</td>\n",
       "      <td>-1839.320093</td>\n",
       "      <td>2409.959692</td>\n",
       "      <td>3553.986365</td>\n",
       "    </tr>\n",
       "    <tr>\n",
       "      <th>2024-10-19</th>\n",
       "      <td>513.695801</td>\n",
       "      <td>-2783.643335</td>\n",
       "      <td>-1641.464990</td>\n",
       "      <td>2628.435059</td>\n",
       "      <td>3719.264697</td>\n",
       "    </tr>\n",
       "    <tr>\n",
       "      <th>2024-10-26</th>\n",
       "      <td>1357.133789</td>\n",
       "      <td>-1792.346191</td>\n",
       "      <td>-737.601416</td>\n",
       "      <td>3424.649194</td>\n",
       "      <td>4533.579419</td>\n",
       "    </tr>\n",
       "    <tr>\n",
       "      <th>2024-11-02</th>\n",
       "      <td>2513.559021</td>\n",
       "      <td>-598.024442</td>\n",
       "      <td>487.466113</td>\n",
       "      <td>4552.821094</td>\n",
       "      <td>5754.107263</td>\n",
       "    </tr>\n",
       "    <tr>\n",
       "      <th>2024-11-09</th>\n",
       "      <td>3856.770386</td>\n",
       "      <td>774.057645</td>\n",
       "      <td>1837.840308</td>\n",
       "      <td>5876.759326</td>\n",
       "      <td>6960.132251</td>\n",
       "    </tr>\n",
       "    <tr>\n",
       "      <th>2024-11-16</th>\n",
       "      <td>5252.757812</td>\n",
       "      <td>2259.414874</td>\n",
       "      <td>3247.967017</td>\n",
       "      <td>7234.435254</td>\n",
       "      <td>8332.662134</td>\n",
       "    </tr>\n",
       "    <tr>\n",
       "      <th>2024-11-23</th>\n",
       "      <td>9164.607910</td>\n",
       "      <td>6186.247559</td>\n",
       "      <td>7188.917871</td>\n",
       "      <td>11077.254980</td>\n",
       "      <td>12080.552051</td>\n",
       "    </tr>\n",
       "    <tr>\n",
       "      <th>2024-11-30</th>\n",
       "      <td>14169.224365</td>\n",
       "      <td>11320.123779</td>\n",
       "      <td>12296.637402</td>\n",
       "      <td>16059.926953</td>\n",
       "      <td>17057.941699</td>\n",
       "    </tr>\n",
       "    <tr>\n",
       "      <th>2024-12-07</th>\n",
       "      <td>13495.920410</td>\n",
       "      <td>10704.292407</td>\n",
       "      <td>11644.453809</td>\n",
       "      <td>15353.423242</td>\n",
       "      <td>16350.878955</td>\n",
       "    </tr>\n",
       "    <tr>\n",
       "      <th>2024-12-14</th>\n",
       "      <td>13522.764893</td>\n",
       "      <td>10639.989355</td>\n",
       "      <td>11672.908398</td>\n",
       "      <td>15403.933301</td>\n",
       "      <td>16331.520923</td>\n",
       "    </tr>\n",
       "    <tr>\n",
       "      <th>2024-12-21</th>\n",
       "      <td>15188.913086</td>\n",
       "      <td>12407.240259</td>\n",
       "      <td>13376.982422</td>\n",
       "      <td>16960.988477</td>\n",
       "      <td>18048.427588</td>\n",
       "    </tr>\n",
       "    <tr>\n",
       "      <th>2024-12-28</th>\n",
       "      <td>17929.838623</td>\n",
       "      <td>15146.302197</td>\n",
       "      <td>16083.280273</td>\n",
       "      <td>19813.171680</td>\n",
       "      <td>20740.833545</td>\n",
       "    </tr>\n",
       "    <tr>\n",
       "      <th>2025-01-04</th>\n",
       "      <td>14094.621338</td>\n",
       "      <td>11472.943164</td>\n",
       "      <td>12363.104102</td>\n",
       "      <td>15890.219531</td>\n",
       "      <td>16751.863818</td>\n",
       "    </tr>\n",
       "  </tbody>\n",
       "</table>\n",
       "</div>"
      ],
      "text/plain": [
       "                     CES     CES-lo-95     CES-lo-80     CES-hi-80  \\\n",
       "ds                                                                   \n",
       "2024-10-12    262.955078  -3073.665442  -1839.320093   2409.959692   \n",
       "2024-10-19    513.695801  -2783.643335  -1641.464990   2628.435059   \n",
       "2024-10-26   1357.133789  -1792.346191   -737.601416   3424.649194   \n",
       "2024-11-02   2513.559021   -598.024442    487.466113   4552.821094   \n",
       "2024-11-09   3856.770386    774.057645   1837.840308   5876.759326   \n",
       "2024-11-16   5252.757812   2259.414874   3247.967017   7234.435254   \n",
       "2024-11-23   9164.607910   6186.247559   7188.917871  11077.254980   \n",
       "2024-11-30  14169.224365  11320.123779  12296.637402  16059.926953   \n",
       "2024-12-07  13495.920410  10704.292407  11644.453809  15353.423242   \n",
       "2024-12-14  13522.764893  10639.989355  11672.908398  15403.933301   \n",
       "2024-12-21  15188.913086  12407.240259  13376.982422  16960.988477   \n",
       "2024-12-28  17929.838623  15146.302197  16083.280273  19813.171680   \n",
       "2025-01-04  14094.621338  11472.943164  12363.104102  15890.219531   \n",
       "\n",
       "               CES-hi-95  \n",
       "ds                        \n",
       "2024-10-12   3553.986365  \n",
       "2024-10-19   3719.264697  \n",
       "2024-10-26   4533.579419  \n",
       "2024-11-02   5754.107263  \n",
       "2024-11-09   6960.132251  \n",
       "2024-11-16   8332.662134  \n",
       "2024-11-23  12080.552051  \n",
       "2024-11-30  17057.941699  \n",
       "2024-12-07  16350.878955  \n",
       "2024-12-14  16331.520923  \n",
       "2024-12-21  18048.427588  \n",
       "2024-12-28  20740.833545  \n",
       "2025-01-04  16751.863818  "
      ]
     },
     "execution_count": 10,
     "metadata": {},
     "output_type": "execute_result"
    }
   ],
   "source": [
    "Processor.forecast"
   ]
  },
  {
   "cell_type": "code",
   "execution_count": 11,
   "id": "44dc3b8c-7f98-49b6-b5b2-a0b3fe8e1ed4",
   "metadata": {
    "tags": []
   },
   "outputs": [
    {
     "name": "stderr",
     "output_type": "stream",
     "text": [
      "/tmp/ipykernel_126893/1272215894.py:60: MatplotlibDeprecationWarning:\n",
      "\n",
      "The get_cmap function was deprecated in Matplotlib 3.7 and will be removed two minor releases later. Use ``matplotlib.colormaps[name]`` or ``matplotlib.colormaps.get_cmap(obj)`` instead.\n",
      "\n"
     ]
    },
    {
     "data": {
      "application/vnd.plotly.v1+json": {
       "config": {
        "plotlyServerURL": "https://plot.ly"
       },
       "data": [
        {
         "mode": "lines",
         "name": "Real Data",
         "type": "scatter",
         "x": [
          "2022-02-05T00:00:00",
          "2022-02-12T00:00:00",
          "2022-02-19T00:00:00",
          "2022-02-26T00:00:00",
          "2022-03-05T00:00:00",
          "2022-03-12T00:00:00",
          "2022-03-19T00:00:00",
          "2022-03-26T00:00:00",
          "2022-04-02T00:00:00",
          "2022-04-09T00:00:00",
          "2022-04-16T00:00:00",
          "2022-04-23T00:00:00",
          "2022-04-30T00:00:00",
          "2022-05-07T00:00:00",
          "2022-05-14T00:00:00",
          "2022-05-21T00:00:00",
          "2022-05-28T00:00:00",
          "2022-06-04T00:00:00",
          "2022-06-11T00:00:00",
          "2022-06-18T00:00:00",
          "2022-06-25T00:00:00",
          "2022-07-02T00:00:00",
          "2022-07-09T00:00:00",
          "2022-07-16T00:00:00",
          "2022-07-23T00:00:00",
          "2022-07-30T00:00:00",
          "2022-08-06T00:00:00",
          "2022-08-13T00:00:00",
          "2022-08-20T00:00:00",
          "2022-08-27T00:00:00",
          "2022-09-03T00:00:00",
          "2022-09-10T00:00:00",
          "2022-09-17T00:00:00",
          "2022-09-24T00:00:00",
          "2022-10-01T00:00:00",
          "2022-10-08T00:00:00",
          "2022-10-15T00:00:00",
          "2022-10-22T00:00:00",
          "2022-10-29T00:00:00",
          "2022-11-05T00:00:00",
          "2022-11-12T00:00:00",
          "2022-11-19T00:00:00",
          "2022-11-26T00:00:00",
          "2022-12-03T00:00:00",
          "2022-12-10T00:00:00",
          "2022-12-17T00:00:00",
          "2022-12-24T00:00:00",
          "2022-12-31T00:00:00",
          "2023-01-07T00:00:00",
          "2023-01-14T00:00:00",
          "2023-01-21T00:00:00",
          "2023-01-28T00:00:00",
          "2023-02-04T00:00:00",
          "2023-02-11T00:00:00",
          "2023-02-18T00:00:00",
          "2023-02-25T00:00:00",
          "2023-03-04T00:00:00",
          "2023-03-11T00:00:00",
          "2023-03-18T00:00:00",
          "2023-03-25T00:00:00",
          "2023-04-01T00:00:00",
          "2023-04-08T00:00:00",
          "2023-04-15T00:00:00",
          "2023-04-22T00:00:00",
          "2023-04-29T00:00:00",
          "2023-05-06T00:00:00",
          "2023-05-13T00:00:00",
          "2023-05-20T00:00:00",
          "2023-05-27T00:00:00",
          "2023-06-03T00:00:00",
          "2023-06-10T00:00:00",
          "2023-06-17T00:00:00",
          "2023-06-24T00:00:00",
          "2023-07-01T00:00:00",
          "2023-07-08T00:00:00",
          "2023-07-15T00:00:00",
          "2023-07-22T00:00:00",
          "2023-07-29T00:00:00",
          "2023-08-05T00:00:00",
          "2023-08-12T00:00:00",
          "2023-08-19T00:00:00",
          "2023-08-26T00:00:00",
          "2023-09-02T00:00:00",
          "2023-09-09T00:00:00",
          "2023-09-16T00:00:00",
          "2023-09-23T00:00:00",
          "2023-09-30T00:00:00",
          "2023-10-07T00:00:00",
          "2023-10-14T00:00:00",
          "2023-10-21T00:00:00",
          "2023-10-28T00:00:00",
          "2023-11-04T00:00:00",
          "2023-11-11T00:00:00",
          "2023-11-18T00:00:00",
          "2023-11-25T00:00:00",
          "2023-12-02T00:00:00",
          "2023-12-09T00:00:00",
          "2023-12-16T00:00:00",
          "2023-12-23T00:00:00",
          "2023-12-30T00:00:00",
          "2024-01-06T00:00:00",
          "2024-01-13T00:00:00",
          "2024-01-20T00:00:00",
          "2024-01-27T00:00:00",
          "2024-02-03T00:00:00",
          "2024-02-10T00:00:00",
          "2024-02-17T00:00:00",
          "2024-02-24T00:00:00",
          "2024-03-02T00:00:00",
          "2024-03-09T00:00:00",
          "2024-03-16T00:00:00",
          "2024-03-23T00:00:00",
          "2024-03-30T00:00:00",
          "2024-04-06T00:00:00",
          "2024-04-13T00:00:00",
          "2024-04-20T00:00:00",
          "2024-04-27T00:00:00",
          "2024-05-04T00:00:00",
          "2024-05-11T00:00:00",
          "2024-05-18T00:00:00",
          "2024-05-25T00:00:00",
          "2024-06-01T00:00:00",
          "2024-06-08T00:00:00",
          "2024-06-15T00:00:00",
          "2024-06-22T00:00:00",
          "2024-06-29T00:00:00",
          "2024-07-06T00:00:00",
          "2024-07-13T00:00:00",
          "2024-07-20T00:00:00",
          "2024-07-27T00:00:00",
          "2024-08-03T00:00:00",
          "2024-08-10T00:00:00",
          "2024-08-17T00:00:00",
          "2024-08-24T00:00:00",
          "2024-08-31T00:00:00",
          "2024-09-07T00:00:00",
          "2024-09-14T00:00:00",
          "2024-09-21T00:00:00",
          "2024-09-28T00:00:00",
          "2024-10-05T00:00:00",
          "2024-10-12T00:00:00",
          "2024-10-19T00:00:00",
          "2024-10-26T00:00:00",
          "2024-11-02T00:00:00",
          "2024-11-09T00:00:00",
          "2024-11-16T00:00:00",
          "2024-11-23T00:00:00",
          "2024-11-30T00:00:00",
          "2024-12-07T00:00:00",
          "2024-12-14T00:00:00",
          "2024-12-21T00:00:00",
          "2024-12-28T00:00:00",
          "2025-01-04T00:00:00",
          "2025-01-11T00:00:00",
          "2025-01-18T00:00:00",
          "2025-01-25T00:00:00",
          "2025-02-01T00:00:00",
          "2025-02-08T00:00:00",
          "2025-02-15T00:00:00",
          "2025-02-22T00:00:00",
          "2025-03-01T00:00:00",
          "2025-03-08T00:00:00",
          "2025-03-15T00:00:00",
          "2025-03-22T00:00:00",
          "2025-03-29T00:00:00",
          "2025-04-05T00:00:00"
         ],
         "y": [
          1091,
          1164,
          1493,
          1603,
          1791,
          2097,
          2625,
          2918,
          3008,
          3149,
          3308,
          3474,
          3182,
          3175,
          3119,
          3133,
          2738,
          2678,
          2210,
          1776,
          1366,
          1073,
          776,
          766,
          628,
          522,
          486,
          490,
          483,
          483,
          545,
          576,
          665,
          796,
          921,
          1316,
          1674,
          2292,
          4184,
          6408,
          8594,
          10971,
          18177,
          26834,
          24036,
          21612,
          19631,
          19479,
          14074,
          7185,
          4489,
          3091,
          2596,
          2177,
          1908,
          1647,
          1503,
          1372,
          1415,
          1331,
          1295,
          1198,
          1077,
          982,
          903,
          994,
          980,
          1116,
          974,
          939,
          935,
          873,
          813,
          836,
          699,
          736,
          645,
          771,
          690,
          706,
          738,
          793,
          875,
          804,
          821,
          881,
          1026,
          1110,
          1215,
          1470,
          1614,
          2014,
          2775,
          3491,
          4386,
          5955,
          7497,
          10273,
          15722,
          21682,
          19548,
          15905,
          13303,
          13025,
          11964,
          11629,
          11126,
          10870,
          10814,
          9416,
          7324,
          6049,
          5574,
          5071,
          4073,
          2943,
          2420,
          1485,
          852,
          682,
          611,
          591,
          511,
          518,
          441,
          356,
          342,
          367,
          325,
          273,
          275,
          275,
          275,
          274,
          262,
          223,
          319,
          293,
          223,
          287,
          295,
          553,
          1084,
          977,
          2081,
          2535,
          3099,
          4297,
          6307,
          9192,
          15467,
          27748,
          38767,
          30796,
          33020,
          40682,
          51337,
          54374,
          46244,
          37881,
          30807,
          23956,
          18384,
          13600,
          9597,
          6273
         ]
        },
        {
         "line": {
          "color": "#414487"
         },
         "mode": "lines",
         "name": "CES-hi-80",
         "type": "scatter",
         "x": [
          "2024-10-12T00:00:00",
          "2024-10-19T00:00:00",
          "2024-10-26T00:00:00",
          "2024-11-02T00:00:00",
          "2024-11-09T00:00:00",
          "2024-11-16T00:00:00",
          "2024-11-23T00:00:00",
          "2024-11-30T00:00:00",
          "2024-12-07T00:00:00",
          "2024-12-14T00:00:00",
          "2024-12-21T00:00:00",
          "2024-12-28T00:00:00",
          "2025-01-04T00:00:00"
         ],
         "y": [
          2409.9596923828135,
          2628.43505859375,
          3424.649194335938,
          4552.821093750001,
          5876.759326171876,
          7234.43525390625,
          11077.25498046875,
          16059.926953125,
          15353.4232421875,
          15403.93330078125,
          16960.9884765625,
          19813.1716796875,
          15890.21953125
         ]
        },
        {
         "line": {
          "color": "#1e9c89"
         },
         "mode": "lines",
         "name": "CES-hi-95",
         "type": "scatter",
         "x": [
          "2024-10-12T00:00:00",
          "2024-10-19T00:00:00",
          "2024-10-26T00:00:00",
          "2024-11-02T00:00:00",
          "2024-11-09T00:00:00",
          "2024-11-16T00:00:00",
          "2024-11-23T00:00:00",
          "2024-11-30T00:00:00",
          "2024-12-07T00:00:00",
          "2024-12-14T00:00:00",
          "2024-12-21T00:00:00",
          "2024-12-28T00:00:00",
          "2025-01-04T00:00:00"
         ],
         "y": [
          3553.986364746092,
          3719.264697265623,
          4533.579418945312,
          5754.107263183593,
          6960.13225097656,
          8332.662133789061,
          12080.552050781249,
          17057.94169921875,
          16350.878955078122,
          16331.52092285156,
          18048.427587890623,
          20740.83354492187,
          16751.863818359372
         ]
        },
        {
         "fill": "tonexty",
         "fillcolor": "#1e9c89",
         "line": {
          "color": "#1e9c89"
         },
         "mode": "lines",
         "name": "CES-lo-95",
         "type": "scatter",
         "x": [
          "2024-10-12T00:00:00",
          "2024-10-19T00:00:00",
          "2024-10-26T00:00:00",
          "2024-11-02T00:00:00",
          "2024-11-09T00:00:00",
          "2024-11-16T00:00:00",
          "2024-11-23T00:00:00",
          "2024-11-30T00:00:00",
          "2024-12-07T00:00:00",
          "2024-12-14T00:00:00",
          "2024-12-21T00:00:00",
          "2024-12-28T00:00:00",
          "2025-01-04T00:00:00"
         ],
         "y": [
          -3073.6654418945304,
          -2783.6433349609374,
          -1792.3461914062495,
          -598.0244415283199,
          774.0576446533206,
          2259.4148742675807,
          6186.24755859375,
          11320.123779296877,
          10704.292407226563,
          10639.989355468751,
          12407.240258789063,
          15146.302197265624,
          11472.9431640625
         ]
        },
        {
         "fill": "tonexty",
         "fillcolor": "#414487",
         "line": {
          "color": "#414487"
         },
         "mode": "lines",
         "name": "CES-lo-80",
         "type": "scatter",
         "x": [
          "2024-10-12T00:00:00",
          "2024-10-19T00:00:00",
          "2024-10-26T00:00:00",
          "2024-11-02T00:00:00",
          "2024-11-09T00:00:00",
          "2024-11-16T00:00:00",
          "2024-11-23T00:00:00",
          "2024-11-30T00:00:00",
          "2024-12-07T00:00:00",
          "2024-12-14T00:00:00",
          "2024-12-21T00:00:00",
          "2024-12-28T00:00:00",
          "2025-01-04T00:00:00"
         ],
         "y": [
          -1839.320092773438,
          -1641.4649902343751,
          -737.6014160156253,
          487.46611328124993,
          1837.840307617187,
          3247.9670166015617,
          7188.917871093749,
          12296.63740234375,
          11644.45380859375,
          11672.9083984375,
          13376.982421875,
          16083.2802734375,
          12363.1041015625
         ]
        },
        {
         "line": {
          "color": "#2c728e"
         },
         "mode": "lines",
         "name": "CES",
         "type": "scatter",
         "x": [
          "2024-10-12T00:00:00",
          "2024-10-19T00:00:00",
          "2024-10-26T00:00:00",
          "2024-11-02T00:00:00",
          "2024-11-09T00:00:00",
          "2024-11-16T00:00:00",
          "2024-11-23T00:00:00",
          "2024-11-30T00:00:00",
          "2024-12-07T00:00:00",
          "2024-12-14T00:00:00",
          "2024-12-21T00:00:00",
          "2024-12-28T00:00:00",
          "2025-01-04T00:00:00"
         ],
         "y": [
          262.955078125,
          513.69580078125,
          1357.1337890625,
          2513.5590209960938,
          3856.7703857421875,
          5252.7578125,
          9164.60791015625,
          14169.224365234375,
          13495.92041015625,
          13522.764892578125,
          15188.9130859375,
          17929.838623046875,
          14094.621337890625
         ]
        }
       ],
       "layout": {
        "autosize": true,
        "hovermode": "x",
        "template": {
         "data": {
          "bar": [
           {
            "error_x": {
             "color": "#2a3f5f"
            },
            "error_y": {
             "color": "#2a3f5f"
            },
            "marker": {
             "line": {
              "color": "#E5ECF6",
              "width": 0.5
             },
             "pattern": {
              "fillmode": "overlay",
              "size": 10,
              "solidity": 0.2
             }
            },
            "type": "bar"
           }
          ],
          "barpolar": [
           {
            "marker": {
             "line": {
              "color": "#E5ECF6",
              "width": 0.5
             },
             "pattern": {
              "fillmode": "overlay",
              "size": 10,
              "solidity": 0.2
             }
            },
            "type": "barpolar"
           }
          ],
          "carpet": [
           {
            "aaxis": {
             "endlinecolor": "#2a3f5f",
             "gridcolor": "white",
             "linecolor": "white",
             "minorgridcolor": "white",
             "startlinecolor": "#2a3f5f"
            },
            "baxis": {
             "endlinecolor": "#2a3f5f",
             "gridcolor": "white",
             "linecolor": "white",
             "minorgridcolor": "white",
             "startlinecolor": "#2a3f5f"
            },
            "type": "carpet"
           }
          ],
          "choropleth": [
           {
            "colorbar": {
             "outlinewidth": 0,
             "ticks": ""
            },
            "type": "choropleth"
           }
          ],
          "contour": [
           {
            "colorbar": {
             "outlinewidth": 0,
             "ticks": ""
            },
            "colorscale": [
             [
              0,
              "#0d0887"
             ],
             [
              0.1111111111111111,
              "#46039f"
             ],
             [
              0.2222222222222222,
              "#7201a8"
             ],
             [
              0.3333333333333333,
              "#9c179e"
             ],
             [
              0.4444444444444444,
              "#bd3786"
             ],
             [
              0.5555555555555556,
              "#d8576b"
             ],
             [
              0.6666666666666666,
              "#ed7953"
             ],
             [
              0.7777777777777778,
              "#fb9f3a"
             ],
             [
              0.8888888888888888,
              "#fdca26"
             ],
             [
              1,
              "#f0f921"
             ]
            ],
            "type": "contour"
           }
          ],
          "contourcarpet": [
           {
            "colorbar": {
             "outlinewidth": 0,
             "ticks": ""
            },
            "type": "contourcarpet"
           }
          ],
          "heatmap": [
           {
            "colorbar": {
             "outlinewidth": 0,
             "ticks": ""
            },
            "colorscale": [
             [
              0,
              "#0d0887"
             ],
             [
              0.1111111111111111,
              "#46039f"
             ],
             [
              0.2222222222222222,
              "#7201a8"
             ],
             [
              0.3333333333333333,
              "#9c179e"
             ],
             [
              0.4444444444444444,
              "#bd3786"
             ],
             [
              0.5555555555555556,
              "#d8576b"
             ],
             [
              0.6666666666666666,
              "#ed7953"
             ],
             [
              0.7777777777777778,
              "#fb9f3a"
             ],
             [
              0.8888888888888888,
              "#fdca26"
             ],
             [
              1,
              "#f0f921"
             ]
            ],
            "type": "heatmap"
           }
          ],
          "heatmapgl": [
           {
            "colorbar": {
             "outlinewidth": 0,
             "ticks": ""
            },
            "colorscale": [
             [
              0,
              "#0d0887"
             ],
             [
              0.1111111111111111,
              "#46039f"
             ],
             [
              0.2222222222222222,
              "#7201a8"
             ],
             [
              0.3333333333333333,
              "#9c179e"
             ],
             [
              0.4444444444444444,
              "#bd3786"
             ],
             [
              0.5555555555555556,
              "#d8576b"
             ],
             [
              0.6666666666666666,
              "#ed7953"
             ],
             [
              0.7777777777777778,
              "#fb9f3a"
             ],
             [
              0.8888888888888888,
              "#fdca26"
             ],
             [
              1,
              "#f0f921"
             ]
            ],
            "type": "heatmapgl"
           }
          ],
          "histogram": [
           {
            "marker": {
             "pattern": {
              "fillmode": "overlay",
              "size": 10,
              "solidity": 0.2
             }
            },
            "type": "histogram"
           }
          ],
          "histogram2d": [
           {
            "colorbar": {
             "outlinewidth": 0,
             "ticks": ""
            },
            "colorscale": [
             [
              0,
              "#0d0887"
             ],
             [
              0.1111111111111111,
              "#46039f"
             ],
             [
              0.2222222222222222,
              "#7201a8"
             ],
             [
              0.3333333333333333,
              "#9c179e"
             ],
             [
              0.4444444444444444,
              "#bd3786"
             ],
             [
              0.5555555555555556,
              "#d8576b"
             ],
             [
              0.6666666666666666,
              "#ed7953"
             ],
             [
              0.7777777777777778,
              "#fb9f3a"
             ],
             [
              0.8888888888888888,
              "#fdca26"
             ],
             [
              1,
              "#f0f921"
             ]
            ],
            "type": "histogram2d"
           }
          ],
          "histogram2dcontour": [
           {
            "colorbar": {
             "outlinewidth": 0,
             "ticks": ""
            },
            "colorscale": [
             [
              0,
              "#0d0887"
             ],
             [
              0.1111111111111111,
              "#46039f"
             ],
             [
              0.2222222222222222,
              "#7201a8"
             ],
             [
              0.3333333333333333,
              "#9c179e"
             ],
             [
              0.4444444444444444,
              "#bd3786"
             ],
             [
              0.5555555555555556,
              "#d8576b"
             ],
             [
              0.6666666666666666,
              "#ed7953"
             ],
             [
              0.7777777777777778,
              "#fb9f3a"
             ],
             [
              0.8888888888888888,
              "#fdca26"
             ],
             [
              1,
              "#f0f921"
             ]
            ],
            "type": "histogram2dcontour"
           }
          ],
          "mesh3d": [
           {
            "colorbar": {
             "outlinewidth": 0,
             "ticks": ""
            },
            "type": "mesh3d"
           }
          ],
          "parcoords": [
           {
            "line": {
             "colorbar": {
              "outlinewidth": 0,
              "ticks": ""
             }
            },
            "type": "parcoords"
           }
          ],
          "pie": [
           {
            "automargin": true,
            "type": "pie"
           }
          ],
          "scatter": [
           {
            "fillpattern": {
             "fillmode": "overlay",
             "size": 10,
             "solidity": 0.2
            },
            "type": "scatter"
           }
          ],
          "scatter3d": [
           {
            "line": {
             "colorbar": {
              "outlinewidth": 0,
              "ticks": ""
             }
            },
            "marker": {
             "colorbar": {
              "outlinewidth": 0,
              "ticks": ""
             }
            },
            "type": "scatter3d"
           }
          ],
          "scattercarpet": [
           {
            "marker": {
             "colorbar": {
              "outlinewidth": 0,
              "ticks": ""
             }
            },
            "type": "scattercarpet"
           }
          ],
          "scattergeo": [
           {
            "marker": {
             "colorbar": {
              "outlinewidth": 0,
              "ticks": ""
             }
            },
            "type": "scattergeo"
           }
          ],
          "scattergl": [
           {
            "marker": {
             "colorbar": {
              "outlinewidth": 0,
              "ticks": ""
             }
            },
            "type": "scattergl"
           }
          ],
          "scattermapbox": [
           {
            "marker": {
             "colorbar": {
              "outlinewidth": 0,
              "ticks": ""
             }
            },
            "type": "scattermapbox"
           }
          ],
          "scatterpolar": [
           {
            "marker": {
             "colorbar": {
              "outlinewidth": 0,
              "ticks": ""
             }
            },
            "type": "scatterpolar"
           }
          ],
          "scatterpolargl": [
           {
            "marker": {
             "colorbar": {
              "outlinewidth": 0,
              "ticks": ""
             }
            },
            "type": "scatterpolargl"
           }
          ],
          "scatterternary": [
           {
            "marker": {
             "colorbar": {
              "outlinewidth": 0,
              "ticks": ""
             }
            },
            "type": "scatterternary"
           }
          ],
          "surface": [
           {
            "colorbar": {
             "outlinewidth": 0,
             "ticks": ""
            },
            "colorscale": [
             [
              0,
              "#0d0887"
             ],
             [
              0.1111111111111111,
              "#46039f"
             ],
             [
              0.2222222222222222,
              "#7201a8"
             ],
             [
              0.3333333333333333,
              "#9c179e"
             ],
             [
              0.4444444444444444,
              "#bd3786"
             ],
             [
              0.5555555555555556,
              "#d8576b"
             ],
             [
              0.6666666666666666,
              "#ed7953"
             ],
             [
              0.7777777777777778,
              "#fb9f3a"
             ],
             [
              0.8888888888888888,
              "#fdca26"
             ],
             [
              1,
              "#f0f921"
             ]
            ],
            "type": "surface"
           }
          ],
          "table": [
           {
            "cells": {
             "fill": {
              "color": "#EBF0F8"
             },
             "line": {
              "color": "white"
             }
            },
            "header": {
             "fill": {
              "color": "#C8D4E3"
             },
             "line": {
              "color": "white"
             }
            },
            "type": "table"
           }
          ]
         },
         "layout": {
          "annotationdefaults": {
           "arrowcolor": "#2a3f5f",
           "arrowhead": 0,
           "arrowwidth": 1
          },
          "autotypenumbers": "strict",
          "coloraxis": {
           "colorbar": {
            "outlinewidth": 0,
            "ticks": ""
           }
          },
          "colorscale": {
           "diverging": [
            [
             0,
             "#8e0152"
            ],
            [
             0.1,
             "#c51b7d"
            ],
            [
             0.2,
             "#de77ae"
            ],
            [
             0.3,
             "#f1b6da"
            ],
            [
             0.4,
             "#fde0ef"
            ],
            [
             0.5,
             "#f7f7f7"
            ],
            [
             0.6,
             "#e6f5d0"
            ],
            [
             0.7,
             "#b8e186"
            ],
            [
             0.8,
             "#7fbc41"
            ],
            [
             0.9,
             "#4d9221"
            ],
            [
             1,
             "#276419"
            ]
           ],
           "sequential": [
            [
             0,
             "#0d0887"
            ],
            [
             0.1111111111111111,
             "#46039f"
            ],
            [
             0.2222222222222222,
             "#7201a8"
            ],
            [
             0.3333333333333333,
             "#9c179e"
            ],
            [
             0.4444444444444444,
             "#bd3786"
            ],
            [
             0.5555555555555556,
             "#d8576b"
            ],
            [
             0.6666666666666666,
             "#ed7953"
            ],
            [
             0.7777777777777778,
             "#fb9f3a"
            ],
            [
             0.8888888888888888,
             "#fdca26"
            ],
            [
             1,
             "#f0f921"
            ]
           ],
           "sequentialminus": [
            [
             0,
             "#0d0887"
            ],
            [
             0.1111111111111111,
             "#46039f"
            ],
            [
             0.2222222222222222,
             "#7201a8"
            ],
            [
             0.3333333333333333,
             "#9c179e"
            ],
            [
             0.4444444444444444,
             "#bd3786"
            ],
            [
             0.5555555555555556,
             "#d8576b"
            ],
            [
             0.6666666666666666,
             "#ed7953"
            ],
            [
             0.7777777777777778,
             "#fb9f3a"
            ],
            [
             0.8888888888888888,
             "#fdca26"
            ],
            [
             1,
             "#f0f921"
            ]
           ]
          },
          "colorway": [
           "#636efa",
           "#EF553B",
           "#00cc96",
           "#ab63fa",
           "#FFA15A",
           "#19d3f3",
           "#FF6692",
           "#B6E880",
           "#FF97FF",
           "#FECB52"
          ],
          "font": {
           "color": "#2a3f5f"
          },
          "geo": {
           "bgcolor": "white",
           "lakecolor": "white",
           "landcolor": "#E5ECF6",
           "showlakes": true,
           "showland": true,
           "subunitcolor": "white"
          },
          "hoverlabel": {
           "align": "left"
          },
          "hovermode": "closest",
          "mapbox": {
           "style": "light"
          },
          "paper_bgcolor": "white",
          "plot_bgcolor": "#E5ECF6",
          "polar": {
           "angularaxis": {
            "gridcolor": "white",
            "linecolor": "white",
            "ticks": ""
           },
           "bgcolor": "#E5ECF6",
           "radialaxis": {
            "gridcolor": "white",
            "linecolor": "white",
            "ticks": ""
           }
          },
          "scene": {
           "xaxis": {
            "backgroundcolor": "#E5ECF6",
            "gridcolor": "white",
            "gridwidth": 2,
            "linecolor": "white",
            "showbackground": true,
            "ticks": "",
            "zerolinecolor": "white"
           },
           "yaxis": {
            "backgroundcolor": "#E5ECF6",
            "gridcolor": "white",
            "gridwidth": 2,
            "linecolor": "white",
            "showbackground": true,
            "ticks": "",
            "zerolinecolor": "white"
           },
           "zaxis": {
            "backgroundcolor": "#E5ECF6",
            "gridcolor": "white",
            "gridwidth": 2,
            "linecolor": "white",
            "showbackground": true,
            "ticks": "",
            "zerolinecolor": "white"
           }
          },
          "shapedefaults": {
           "line": {
            "color": "#2a3f5f"
           }
          },
          "ternary": {
           "aaxis": {
            "gridcolor": "white",
            "linecolor": "white",
            "ticks": ""
           },
           "baxis": {
            "gridcolor": "white",
            "linecolor": "white",
            "ticks": ""
           },
           "bgcolor": "#E5ECF6",
           "caxis": {
            "gridcolor": "white",
            "linecolor": "white",
            "ticks": ""
           }
          },
          "title": {
           "x": 0.05
          },
          "xaxis": {
           "automargin": true,
           "gridcolor": "white",
           "linecolor": "white",
           "ticks": "",
           "title": {
            "standoff": 15
           },
           "zerolinecolor": "white",
           "zerolinewidth": 2
          },
          "yaxis": {
           "automargin": true,
           "gridcolor": "white",
           "linecolor": "white",
           "ticks": "",
           "title": {
            "standoff": 15
           },
           "zerolinecolor": "white",
           "zerolinewidth": 2
          }
         }
        },
        "title": {
         "text": "Fixed Parameter CES Predictions, 2024-10-05"
        },
        "xaxis": {
         "autorange": true,
         "range": [
          "2022-02-05",
          "2025-04-05"
         ],
         "title": {
          "text": "Date"
         },
         "type": "date"
        },
        "yaxis": {
         "autorange": true,
         "range": [
          -6265.202410888671,
          57565.53696899414
         ],
         "title": {
          "text": "Count"
         },
         "type": "linear"
        }
       }
      },
      "image/png": "[encoded data removed]",
      "text/html": [
       "<div>                            <div id=\"c98a5aea-d748-43b2-9f41-6156986c8f82\" class=\"plotly-graph-div\" style=\"height:525px; width:100%;\"></div>            <script type=\"text/javascript\">                require([\"plotly\"], function(Plotly) {                    window.PLOTLYENV=window.PLOTLYENV || {};                                    if (document.getElementById(\"c98a5aea-d748-43b2-9f41-6156986c8f82\")) {                    Plotly.newPlot(                        \"c98a5aea-d748-43b2-9f41-6156986c8f82\",                        [{\"mode\":\"lines\",\"name\":\"Real Data\",\"x\":[\"2022-02-05T00:00:00\",\"2022-02-12T00:00:00\",\"2022-02-19T00:00:00\",\"2022-02-26T00:00:00\",\"2022-03-05T00:00:00\",\"2022-03-12T00:00:00\",\"2022-03-19T00:00:00\",\"2022-03-26T00:00:00\",\"2022-04-02T00:00:00\",\"2022-04-09T00:00:00\",\"2022-04-16T00:00:00\",\"2022-04-23T00:00:00\",\"2022-04-30T00:00:00\",\"2022-05-07T00:00:00\",\"2022-05-14T00:00:00\",\"2022-05-21T00:00:00\",\"2022-05-28T00:00:00\",\"2022-06-04T00:00:00\",\"2022-06-11T00:00:00\",\"2022-06-18T00:00:00\",\"2022-06-25T00:00:00\",\"2022-07-02T00:00:00\",\"2022-07-09T00:00:00\",\"2022-07-16T00:00:00\",\"2022-07-23T00:00:00\",\"2022-07-30T00:00:00\",\"2022-08-06T00:00:00\",\"2022-08-13T00:00:00\",\"2022-08-20T00:00:00\",\"2022-08-27T00:00:00\",\"2022-09-03T00:00:00\",\"2022-09-10T00:00:00\",\"2022-09-17T00:00:00\",\"2022-09-24T00:00:00\",\"2022-10-01T00:00:00\",\"2022-10-08T00:00:00\",\"2022-10-15T00:00:00\",\"2022-10-22T00:00:00\",\"2022-10-29T00:00:00\",\"2022-11-05T00:00:00\",\"2022-11-12T00:00:00\",\"2022-11-19T00:00:00\",\"2022-11-26T00:00:00\",\"2022-12-03T00:00:00\",\"2022-12-10T00:00:00\",\"2022-12-17T00:00:00\",\"2022-12-24T00:00:00\",\"2022-12-31T00:00:00\",\"2023-01-07T00:00:00\",\"2023-01-14T00:00:00\",\"2023-01-21T00:00:00\",\"2023-01-28T00:00:00\",\"2023-02-04T00:00:00\",\"2023-02-11T00:00:00\",\"2023-02-18T00:00:00\",\"2023-02-25T00:00:00\",\"2023-03-04T00:00:00\",\"2023-03-11T00:00:00\",\"2023-03-18T00:00:00\",\"2023-03-25T00:00:00\",\"2023-04-01T00:00:00\",\"2023-04-08T00:00:00\",\"2023-04-15T00:00:00\",\"2023-04-22T00:00:00\",\"2023-04-29T00:00:00\",\"2023-05-06T00:00:00\",\"2023-05-13T00:00:00\",\"2023-05-20T00:00:00\",\"2023-05-27T00:00:00\",\"2023-06-03T00:00:00\",\"2023-06-10T00:00:00\",\"2023-06-17T00:00:00\",\"2023-06-24T00:00:00\",\"2023-07-01T00:00:00\",\"2023-07-08T00:00:00\",\"2023-07-15T00:00:00\",\"2023-07-22T00:00:00\",\"2023-07-29T00:00:00\",\"2023-08-05T00:00:00\",\"2023-08-12T00:00:00\",\"2023-08-19T00:00:00\",\"2023-08-26T00:00:00\",\"2023-09-02T00:00:00\",\"2023-09-09T00:00:00\",\"2023-09-16T00:00:00\",\"2023-09-23T00:00:00\",\"2023-09-30T00:00:00\",\"2023-10-07T00:00:00\",\"2023-10-14T00:00:00\",\"2023-10-21T00:00:00\",\"2023-10-28T00:00:00\",\"2023-11-04T00:00:00\",\"2023-11-11T00:00:00\",\"2023-11-18T00:00:00\",\"2023-11-25T00:00:00\",\"2023-12-02T00:00:00\",\"2023-12-09T00:00:00\",\"2023-12-16T00:00:00\",\"2023-12-23T00:00:00\",\"2023-12-30T00:00:00\",\"2024-01-06T00:00:00\",\"2024-01-13T00:00:00\",\"2024-01-20T00:00:00\",\"2024-01-27T00:00:00\",\"2024-02-03T00:00:00\",\"2024-02-10T00:00:00\",\"2024-02-17T00:00:00\",\"2024-02-24T00:00:00\",\"2024-03-02T00:00:00\",\"2024-03-09T00:00:00\",\"2024-03-16T00:00:00\",\"2024-03-23T00:00:00\",\"2024-03-30T00:00:00\",\"2024-04-06T00:00:00\",\"2024-04-13T00:00:00\",\"2024-04-20T00:00:00\",\"2024-04-27T00:00:00\",\"2024-05-04T00:00:00\",\"2024-05-11T00:00:00\",\"2024-05-18T00:00:00\",\"2024-05-25T00:00:00\",\"2024-06-01T00:00:00\",\"2024-06-08T00:00:00\",\"2024-06-15T00:00:00\",\"2024-06-22T00:00:00\",\"2024-06-29T00:00:00\",\"2024-07-06T00:00:00\",\"2024-07-13T00:00:00\",\"2024-07-20T00:00:00\",\"2024-07-27T00:00:00\",\"2024-08-03T00:00:00\",\"2024-08-10T00:00:00\",\"2024-08-17T00:00:00\",\"2024-08-24T00:00:00\",\"2024-08-31T00:00:00\",\"2024-09-07T00:00:00\",\"2024-09-14T00:00:00\",\"2024-09-21T00:00:00\",\"2024-09-28T00:00:00\",\"2024-10-05T00:00:00\",\"2024-10-12T00:00:00\",\"2024-10-19T00:00:00\",\"2024-10-26T00:00:00\",\"2024-11-02T00:00:00\",\"2024-11-09T00:00:00\",\"2024-11-16T00:00:00\",\"2024-11-23T00:00:00\",\"2024-11-30T00:00:00\",\"2024-12-07T00:00:00\",\"2024-12-14T00:00:00\",\"2024-12-21T00:00:00\",\"2024-12-28T00:00:00\",\"2025-01-04T00:00:00\",\"2025-01-11T00:00:00\",\"2025-01-18T00:00:00\",\"2025-01-25T00:00:00\",\"2025-02-01T00:00:00\",\"2025-02-08T00:00:00\",\"2025-02-15T00:00:00\",\"2025-02-22T00:00:00\",\"2025-03-01T00:00:00\",\"2025-03-08T00:00:00\",\"2025-03-15T00:00:00\",\"2025-03-22T00:00:00\",\"2025-03-29T00:00:00\",\"2025-04-05T00:00:00\"],\"y\":[1091.0,1164.0,1493.0,1603.0,1791.0,2097.0,2625.0,2918.0,3008.0,3149.0,3308.0,3474.0,3182.0,3175.0,3119.0,3133.0,2738.0,2678.0,2210.0,1776.0,1366.0,1073.0,776.0,766.0,628.0,522.0,486.0,490.0,483.0,483.0,545.0,576.0,665.0,796.0,921.0,1316.0,1674.0,2292.0,4184.0,6408.0,8594.0,10971.0,18177.0,26834.0,24036.0,21612.0,19631.0,19479.0,14074.0,7185.0,4489.0,3091.0,2596.0,2177.0,1908.0,1647.0,1503.0,1372.0,1415.0,1331.0,1295.0,1198.0,1077.0,982.0,903.0,994.0,980.0,1116.0,974.0,939.0,935.0,873.0,813.0,836.0,699.0,736.0,645.0,771.0,690.0,706.0,738.0,793.0,875.0,804.0,821.0,881.0,1026.0,1110.0,1215.0,1470.0,1614.0,2014.0,2775.0,3491.0,4386.0,5955.0,7497.0,10273.0,15722.0,21682.0,19548.0,15905.0,13303.0,13025.0,11964.0,11629.0,11126.0,10870.0,10814.0,9416.0,7324.0,6049.0,5574.0,5071.0,4073.0,2943.0,2420.0,1485.0,852.0,682.0,611.0,591.0,511.0,518.0,441.0,356.0,342.0,367.0,325.0,273.0,275.0,275.0,275.0,274.0,262.0,223.0,319.0,293.0,223.0,287.0,295.0,553.0,1084.0,977.0,2081.0,2535.0,3099.0,4297.0,6307.0,9192.0,15467.0,27748.0,38767.0,30796.0,33020.0,40682.0,51337.0,54374.0,46244.0,37881.0,30807.0,23956.0,18384.0,13600.0,9597.0,6273.0],\"type\":\"scatter\"},{\"line\":{\"color\":\"#414487\"},\"mode\":\"lines\",\"name\":\"CES-hi-80\",\"x\":[\"2024-10-12T00:00:00\",\"2024-10-19T00:00:00\",\"2024-10-26T00:00:00\",\"2024-11-02T00:00:00\",\"2024-11-09T00:00:00\",\"2024-11-16T00:00:00\",\"2024-11-23T00:00:00\",\"2024-11-30T00:00:00\",\"2024-12-07T00:00:00\",\"2024-12-14T00:00:00\",\"2024-12-21T00:00:00\",\"2024-12-28T00:00:00\",\"2025-01-04T00:00:00\"],\"y\":[2409.9596923828135,2628.43505859375,3424.649194335938,4552.821093750001,5876.759326171876,7234.43525390625,11077.25498046875,16059.926953125,15353.4232421875,15403.93330078125,16960.9884765625,19813.1716796875,15890.21953125],\"type\":\"scatter\"},{\"line\":{\"color\":\"#1e9c89\"},\"mode\":\"lines\",\"name\":\"CES-hi-95\",\"x\":[\"2024-10-12T00:00:00\",\"2024-10-19T00:00:00\",\"2024-10-26T00:00:00\",\"2024-11-02T00:00:00\",\"2024-11-09T00:00:00\",\"2024-11-16T00:00:00\",\"2024-11-23T00:00:00\",\"2024-11-30T00:00:00\",\"2024-12-07T00:00:00\",\"2024-12-14T00:00:00\",\"2024-12-21T00:00:00\",\"2024-12-28T00:00:00\",\"2025-01-04T00:00:00\"],\"y\":[3553.986364746092,3719.264697265623,4533.579418945312,5754.107263183593,6960.13225097656,8332.662133789061,12080.552050781249,17057.94169921875,16350.878955078122,16331.52092285156,18048.427587890623,20740.83354492187,16751.863818359372],\"type\":\"scatter\"},{\"fill\":\"tonexty\",\"fillcolor\":\"#1e9c89\",\"line\":{\"color\":\"#1e9c89\"},\"mode\":\"lines\",\"name\":\"CES-lo-95\",\"x\":[\"2024-10-12T00:00:00\",\"2024-10-19T00:00:00\",\"2024-10-26T00:00:00\",\"2024-11-02T00:00:00\",\"2024-11-09T00:00:00\",\"2024-11-16T00:00:00\",\"2024-11-23T00:00:00\",\"2024-11-30T00:00:00\",\"2024-12-07T00:00:00\",\"2024-12-14T00:00:00\",\"2024-12-21T00:00:00\",\"2024-12-28T00:00:00\",\"2025-01-04T00:00:00\"],\"y\":[-3073.6654418945304,-2783.6433349609374,-1792.3461914062495,-598.0244415283199,774.0576446533206,2259.4148742675807,6186.24755859375,11320.123779296877,10704.292407226563,10639.989355468751,12407.240258789063,15146.302197265624,11472.9431640625],\"type\":\"scatter\"},{\"fill\":\"tonexty\",\"fillcolor\":\"#414487\",\"line\":{\"color\":\"#414487\"},\"mode\":\"lines\",\"name\":\"CES-lo-80\",\"x\":[\"2024-10-12T00:00:00\",\"2024-10-19T00:00:00\",\"2024-10-26T00:00:00\",\"2024-11-02T00:00:00\",\"2024-11-09T00:00:00\",\"2024-11-16T00:00:00\",\"2024-11-23T00:00:00\",\"2024-11-30T00:00:00\",\"2024-12-07T00:00:00\",\"2024-12-14T00:00:00\",\"2024-12-21T00:00:00\",\"2024-12-28T00:00:00\",\"2025-01-04T00:00:00\"],\"y\":[-1839.320092773438,-1641.4649902343751,-737.6014160156253,487.46611328124993,1837.840307617187,3247.9670166015617,7188.917871093749,12296.63740234375,11644.45380859375,11672.9083984375,13376.982421875,16083.2802734375,12363.1041015625],\"type\":\"scatter\"},{\"line\":{\"color\":\"#2c728e\"},\"mode\":\"lines\",\"name\":\"CES\",\"x\":[\"2024-10-12T00:00:00\",\"2024-10-19T00:00:00\",\"2024-10-26T00:00:00\",\"2024-11-02T00:00:00\",\"2024-11-09T00:00:00\",\"2024-11-16T00:00:00\",\"2024-11-23T00:00:00\",\"2024-11-30T00:00:00\",\"2024-12-07T00:00:00\",\"2024-12-14T00:00:00\",\"2024-12-21T00:00:00\",\"2024-12-28T00:00:00\",\"2025-01-04T00:00:00\"],\"y\":[262.955078125,513.69580078125,1357.1337890625,2513.5590209960938,3856.7703857421875,5252.7578125,9164.60791015625,14169.224365234375,13495.92041015625,13522.764892578125,15188.9130859375,17929.838623046875,14094.621337890625],\"type\":\"scatter\"}],                        {\"template\":{\"data\":{\"histogram2dcontour\":[{\"type\":\"histogram2dcontour\",\"colorbar\":{\"outlinewidth\":0,\"ticks\":\"\"},\"colorscale\":[[0.0,\"#0d0887\"],[0.1111111111111111,\"#46039f\"],[0.2222222222222222,\"#7201a8\"],[0.3333333333333333,\"#9c179e\"],[0.4444444444444444,\"#bd3786\"],[0.5555555555555556,\"#d8576b\"],[0.6666666666666666,\"#ed7953\"],[0.7777777777777778,\"#fb9f3a\"],[0.8888888888888888,\"#fdca26\"],[1.0,\"#f0f921\"]]}],\"choropleth\":[{\"type\":\"choropleth\",\"colorbar\":{\"outlinewidth\":0,\"ticks\":\"\"}}],\"histogram2d\":[{\"type\":\"histogram2d\",\"colorbar\":{\"outlinewidth\":0,\"ticks\":\"\"},\"colorscale\":[[0.0,\"#0d0887\"],[0.1111111111111111,\"#46039f\"],[0.2222222222222222,\"#7201a8\"],[0.3333333333333333,\"#9c179e\"],[0.4444444444444444,\"#bd3786\"],[0.5555555555555556,\"#d8576b\"],[0.6666666666666666,\"#ed7953\"],[0.7777777777777778,\"#fb9f3a\"],[0.8888888888888888,\"#fdca26\"],[1.0,\"#f0f921\"]]}],\"heatmap\":[{\"type\":\"heatmap\",\"colorbar\":{\"outlinewidth\":0,\"ticks\":\"\"},\"colorscale\":[[0.0,\"#0d0887\"],[0.1111111111111111,\"#46039f\"],[0.2222222222222222,\"#7201a8\"],[0.3333333333333333,\"#9c179e\"],[0.4444444444444444,\"#bd3786\"],[0.5555555555555556,\"#d8576b\"],[0.6666666666666666,\"#ed7953\"],[0.7777777777777778,\"#fb9f3a\"],[0.8888888888888888,\"#fdca26\"],[1.0,\"#f0f921\"]]}],\"heatmapgl\":[{\"type\":\"heatmapgl\",\"colorbar\":{\"outlinewidth\":0,\"ticks\":\"\"},\"colorscale\":[[0.0,\"#0d0887\"],[0.1111111111111111,\"#46039f\"],[0.2222222222222222,\"#7201a8\"],[0.3333333333333333,\"#9c179e\"],[0.4444444444444444,\"#bd3786\"],[0.5555555555555556,\"#d8576b\"],[0.6666666666666666,\"#ed7953\"],[0.7777777777777778,\"#fb9f3a\"],[0.8888888888888888,\"#fdca26\"],[1.0,\"#f0f921\"]]}],\"contourcarpet\":[{\"type\":\"contourcarpet\",\"colorbar\":{\"outlinewidth\":0,\"ticks\":\"\"}}],\"contour\":[{\"type\":\"contour\",\"colorbar\":{\"outlinewidth\":0,\"ticks\":\"\"},\"colorscale\":[[0.0,\"#0d0887\"],[0.1111111111111111,\"#46039f\"],[0.2222222222222222,\"#7201a8\"],[0.3333333333333333,\"#9c179e\"],[0.4444444444444444,\"#bd3786\"],[0.5555555555555556,\"#d8576b\"],[0.6666666666666666,\"#ed7953\"],[0.7777777777777778,\"#fb9f3a\"],[0.8888888888888888,\"#fdca26\"],[1.0,\"#f0f921\"]]}],\"surface\":[{\"type\":\"surface\",\"colorbar\":{\"outlinewidth\":0,\"ticks\":\"\"},\"colorscale\":[[0.0,\"#0d0887\"],[0.1111111111111111,\"#46039f\"],[0.2222222222222222,\"#7201a8\"],[0.3333333333333333,\"#9c179e\"],[0.4444444444444444,\"#bd3786\"],[0.5555555555555556,\"#d8576b\"],[0.6666666666666666,\"#ed7953\"],[0.7777777777777778,\"#fb9f3a\"],[0.8888888888888888,\"#fdca26\"],[1.0,\"#f0f921\"]]}],\"mesh3d\":[{\"type\":\"mesh3d\",\"colorbar\":{\"outlinewidth\":0,\"ticks\":\"\"}}],\"scatter\":[{\"fillpattern\":{\"fillmode\":\"overlay\",\"size\":10,\"solidity\":0.2},\"type\":\"scatter\"}],\"parcoords\":[{\"type\":\"parcoords\",\"line\":{\"colorbar\":{\"outlinewidth\":0,\"ticks\":\"\"}}}],\"scatterpolargl\":[{\"type\":\"scatterpolargl\",\"marker\":{\"colorbar\":{\"outlinewidth\":0,\"ticks\":\"\"}}}],\"bar\":[{\"error_x\":{\"color\":\"#2a3f5f\"},\"error_y\":{\"color\":\"#2a3f5f\"},\"marker\":{\"line\":{\"color\":\"#E5ECF6\",\"width\":0.5},\"pattern\":{\"fillmode\":\"overlay\",\"size\":10,\"solidity\":0.2}},\"type\":\"bar\"}],\"scattergeo\":[{\"type\":\"scattergeo\",\"marker\":{\"colorbar\":{\"outlinewidth\":0,\"ticks\":\"\"}}}],\"scatterpolar\":[{\"type\":\"scatterpolar\",\"marker\":{\"colorbar\":{\"outlinewidth\":0,\"ticks\":\"\"}}}],\"histogram\":[{\"marker\":{\"pattern\":{\"fillmode\":\"overlay\",\"size\":10,\"solidity\":0.2}},\"type\":\"histogram\"}],\"scattergl\":[{\"type\":\"scattergl\",\"marker\":{\"colorbar\":{\"outlinewidth\":0,\"ticks\":\"\"}}}],\"scatter3d\":[{\"type\":\"scatter3d\",\"line\":{\"colorbar\":{\"outlinewidth\":0,\"ticks\":\"\"}},\"marker\":{\"colorbar\":{\"outlinewidth\":0,\"ticks\":\"\"}}}],\"scattermapbox\":[{\"type\":\"scattermapbox\",\"marker\":{\"colorbar\":{\"outlinewidth\":0,\"ticks\":\"\"}}}],\"scatterternary\":[{\"type\":\"scatterternary\",\"marker\":{\"colorbar\":{\"outlinewidth\":0,\"ticks\":\"\"}}}],\"scattercarpet\":[{\"type\":\"scattercarpet\",\"marker\":{\"colorbar\":{\"outlinewidth\":0,\"ticks\":\"\"}}}],\"carpet\":[{\"aaxis\":{\"endlinecolor\":\"#2a3f5f\",\"gridcolor\":\"white\",\"linecolor\":\"white\",\"minorgridcolor\":\"white\",\"startlinecolor\":\"#2a3f5f\"},\"baxis\":{\"endlinecolor\":\"#2a3f5f\",\"gridcolor\":\"white\",\"linecolor\":\"white\",\"minorgridcolor\":\"white\",\"startlinecolor\":\"#2a3f5f\"},\"type\":\"carpet\"}],\"table\":[{\"cells\":{\"fill\":{\"color\":\"#EBF0F8\"},\"line\":{\"color\":\"white\"}},\"header\":{\"fill\":{\"color\":\"#C8D4E3\"},\"line\":{\"color\":\"white\"}},\"type\":\"table\"}],\"barpolar\":[{\"marker\":{\"line\":{\"color\":\"#E5ECF6\",\"width\":0.5},\"pattern\":{\"fillmode\":\"overlay\",\"size\":10,\"solidity\":0.2}},\"type\":\"barpolar\"}],\"pie\":[{\"automargin\":true,\"type\":\"pie\"}]},\"layout\":{\"autotypenumbers\":\"strict\",\"colorway\":[\"#636efa\",\"#EF553B\",\"#00cc96\",\"#ab63fa\",\"#FFA15A\",\"#19d3f3\",\"#FF6692\",\"#B6E880\",\"#FF97FF\",\"#FECB52\"],\"font\":{\"color\":\"#2a3f5f\"},\"hovermode\":\"closest\",\"hoverlabel\":{\"align\":\"left\"},\"paper_bgcolor\":\"white\",\"plot_bgcolor\":\"#E5ECF6\",\"polar\":{\"bgcolor\":\"#E5ECF6\",\"angularaxis\":{\"gridcolor\":\"white\",\"linecolor\":\"white\",\"ticks\":\"\"},\"radialaxis\":{\"gridcolor\":\"white\",\"linecolor\":\"white\",\"ticks\":\"\"}},\"ternary\":{\"bgcolor\":\"#E5ECF6\",\"aaxis\":{\"gridcolor\":\"white\",\"linecolor\":\"white\",\"ticks\":\"\"},\"baxis\":{\"gridcolor\":\"white\",\"linecolor\":\"white\",\"ticks\":\"\"},\"caxis\":{\"gridcolor\":\"white\",\"linecolor\":\"white\",\"ticks\":\"\"}},\"coloraxis\":{\"colorbar\":{\"outlinewidth\":0,\"ticks\":\"\"}},\"colorscale\":{\"sequential\":[[0.0,\"#0d0887\"],[0.1111111111111111,\"#46039f\"],[0.2222222222222222,\"#7201a8\"],[0.3333333333333333,\"#9c179e\"],[0.4444444444444444,\"#bd3786\"],[0.5555555555555556,\"#d8576b\"],[0.6666666666666666,\"#ed7953\"],[0.7777777777777778,\"#fb9f3a\"],[0.8888888888888888,\"#fdca26\"],[1.0,\"#f0f921\"]],\"sequentialminus\":[[0.0,\"#0d0887\"],[0.1111111111111111,\"#46039f\"],[0.2222222222222222,\"#7201a8\"],[0.3333333333333333,\"#9c179e\"],[0.4444444444444444,\"#bd3786\"],[0.5555555555555556,\"#d8576b\"],[0.6666666666666666,\"#ed7953\"],[0.7777777777777778,\"#fb9f3a\"],[0.8888888888888888,\"#fdca26\"],[1.0,\"#f0f921\"]],\"diverging\":[[0,\"#8e0152\"],[0.1,\"#c51b7d\"],[0.2,\"#de77ae\"],[0.3,\"#f1b6da\"],[0.4,\"#fde0ef\"],[0.5,\"#f7f7f7\"],[0.6,\"#e6f5d0\"],[0.7,\"#b8e186\"],[0.8,\"#7fbc41\"],[0.9,\"#4d9221\"],[1,\"#276419\"]]},\"xaxis\":{\"gridcolor\":\"white\",\"linecolor\":\"white\",\"ticks\":\"\",\"title\":{\"standoff\":15},\"zerolinecolor\":\"white\",\"automargin\":true,\"zerolinewidth\":2},\"yaxis\":{\"gridcolor\":\"white\",\"linecolor\":\"white\",\"ticks\":\"\",\"title\":{\"standoff\":15},\"zerolinecolor\":\"white\",\"automargin\":true,\"zerolinewidth\":2},\"scene\":{\"xaxis\":{\"backgroundcolor\":\"#E5ECF6\",\"gridcolor\":\"white\",\"linecolor\":\"white\",\"showbackground\":true,\"ticks\":\"\",\"zerolinecolor\":\"white\",\"gridwidth\":2},\"yaxis\":{\"backgroundcolor\":\"#E5ECF6\",\"gridcolor\":\"white\",\"linecolor\":\"white\",\"showbackground\":true,\"ticks\":\"\",\"zerolinecolor\":\"white\",\"gridwidth\":2},\"zaxis\":{\"backgroundcolor\":\"#E5ECF6\",\"gridcolor\":\"white\",\"linecolor\":\"white\",\"showbackground\":true,\"ticks\":\"\",\"zerolinecolor\":\"white\",\"gridwidth\":2}},\"shapedefaults\":{\"line\":{\"color\":\"#2a3f5f\"}},\"annotationdefaults\":{\"arrowcolor\":\"#2a3f5f\",\"arrowhead\":0,\"arrowwidth\":1},\"geo\":{\"bgcolor\":\"white\",\"landcolor\":\"#E5ECF6\",\"subunitcolor\":\"white\",\"showland\":true,\"showlakes\":true,\"lakecolor\":\"white\"},\"title\":{\"x\":0.05},\"mapbox\":{\"style\":\"light\"}}},\"title\":{\"text\":\"Fixed Parameter CES Predictions, 2024-10-05\"},\"xaxis\":{\"title\":{\"text\":\"Date\"}},\"yaxis\":{\"title\":{\"text\":\"Count\"}},\"hovermode\":\"x\"},                        {\"responsive\": true}                    ).then(function(){\n",
       "                            \n",
       "var gd = document.getElementById('c98a5aea-d748-43b2-9f41-6156986c8f82');\n",
       "var x = new MutationObserver(function (mutations, observer) {{\n",
       "        var display = window.getComputedStyle(gd).display;\n",
       "        if (!display || display === 'none') {{\n",
       "            console.log([gd, 'removed!']);\n",
       "            Plotly.purge(gd);\n",
       "            observer.disconnect();\n",
       "        }}\n",
       "}});\n",
       "\n",
       "// Listen for the removal of the full notebook cells\n",
       "var notebookContainer = gd.closest('#notebook-container');\n",
       "if (notebookContainer) {{\n",
       "    x.observe(notebookContainer, {childList: true});\n",
       "}}\n",
       "\n",
       "// Listen for the clearing of the current output cell\n",
       "var outputEl = gd.closest('.output');\n",
       "if (outputEl) {{\n",
       "    x.observe(outputEl, {childList: true});\n",
       "}}\n",
       "\n",
       "                        })                };                });            </script>        </div>"
      ]
     },
     "metadata": {},
     "output_type": "display_data"
    }
   ],
   "source": [
    "Processor.create_graph()"
   ]
  },
  {
   "cell_type": "code",
   "execution_count": 12,
   "id": "8d588ade-b0c1-413a-9d3e-a9e7ebcf3d17",
   "metadata": {
    "tags": []
   },
   "outputs": [],
   "source": [
    "Processor.create_metrics()"
   ]
  },
  {
   "cell_type": "code",
   "execution_count": 13,
   "id": "3c89f2f9-04e4-4742-a97d-6fb575e93ea4",
   "metadata": {
    "tags": []
   },
   "outputs": [],
   "source": [
    "Processor.create_metrics_df()"
   ]
  },
  {
   "cell_type": "code",
   "execution_count": 14,
   "id": "d866a186-cd7c-4c48-acda-3659bdeab379",
   "metadata": {
    "tags": []
   },
   "outputs": [
    {
     "data": {
      "text/html": [
       "<div>\n",
       "<style scoped>\n",
       "    .dataframe tbody tr th:only-of-type {\n",
       "        vertical-align: middle;\n",
       "    }\n",
       "\n",
       "    .dataframe tbody tr th {\n",
       "        vertical-align: top;\n",
       "    }\n",
       "\n",
       "    .dataframe thead th {\n",
       "        text-align: right;\n",
       "    }\n",
       "</style>\n",
       "<table border=\"1\" class=\"dataframe\">\n",
       "  <thead>\n",
       "    <tr style=\"text-align: right;\">\n",
       "      <th></th>\n",
       "      <th>Reference Date</th>\n",
       "      <th>MAE</th>\n",
       "      <th>MSE</th>\n",
       "      <th>MAPE</th>\n",
       "      <th>NMSE</th>\n",
       "    </tr>\n",
       "  </thead>\n",
       "  <tbody>\n",
       "    <tr>\n",
       "      <th>0</th>\n",
       "      <td>2024-10-05</td>\n",
       "      <td>5276.978051</td>\n",
       "      <td>7.098970e+07</td>\n",
       "      <td>0.83106</td>\n",
       "      <td>0.541012</td>\n",
       "    </tr>\n",
       "  </tbody>\n",
       "</table>\n",
       "</div>"
      ],
      "text/plain": [
       "  Reference Date          MAE           MSE     MAPE      NMSE\n",
       "0     2024-10-05  5276.978051  7.098970e+07  0.83106  0.541012"
      ]
     },
     "execution_count": 14,
     "metadata": {},
     "output_type": "execute_result"
    }
   ],
   "source": [
    "Processor.metrics_df"
   ]
  },
  {
   "cell_type": "code",
   "execution_count": 15,
   "id": "923c580c-c204-4fe9-b241-8aeba9fb864e",
   "metadata": {
    "tags": []
   },
   "outputs": [],
   "source": [
    "Processor.create_display_df()"
   ]
  },
  {
   "cell_type": "code",
   "execution_count": 16,
   "id": "29474af6-191d-4c00-84fd-df3c3bfe7c20",
   "metadata": {
    "tags": []
   },
   "outputs": [
    {
     "data": {
      "text/html": [
       "<div>\n",
       "<style scoped>\n",
       "    .dataframe tbody tr th:only-of-type {\n",
       "        vertical-align: middle;\n",
       "    }\n",
       "\n",
       "    .dataframe tbody tr th {\n",
       "        vertical-align: top;\n",
       "    }\n",
       "\n",
       "    .dataframe thead th {\n",
       "        text-align: right;\n",
       "    }\n",
       "</style>\n",
       "<table border=\"1\" class=\"dataframe\">\n",
       "  <thead>\n",
       "    <tr style=\"text-align: right;\">\n",
       "      <th></th>\n",
       "      <th>Reference Date</th>\n",
       "      <th>Target End Date</th>\n",
       "      <th>Quantile</th>\n",
       "      <th>Prediction</th>\n",
       "    </tr>\n",
       "  </thead>\n",
       "  <tbody>\n",
       "    <tr>\n",
       "      <th>1</th>\n",
       "      <td>2024-10-05</td>\n",
       "      <td>2024-10-12</td>\n",
       "      <td>0.025</td>\n",
       "      <td>-3073.665442</td>\n",
       "    </tr>\n",
       "    <tr>\n",
       "      <th>2</th>\n",
       "      <td>2024-10-05</td>\n",
       "      <td>2024-10-12</td>\n",
       "      <td>0.100</td>\n",
       "      <td>-1839.320093</td>\n",
       "    </tr>\n",
       "    <tr>\n",
       "      <th>0</th>\n",
       "      <td>2024-10-05</td>\n",
       "      <td>2024-10-12</td>\n",
       "      <td>0.500</td>\n",
       "      <td>262.955078</td>\n",
       "    </tr>\n",
       "    <tr>\n",
       "      <th>3</th>\n",
       "      <td>2024-10-05</td>\n",
       "      <td>2024-10-12</td>\n",
       "      <td>0.900</td>\n",
       "      <td>2409.959692</td>\n",
       "    </tr>\n",
       "    <tr>\n",
       "      <th>4</th>\n",
       "      <td>2024-10-05</td>\n",
       "      <td>2024-10-12</td>\n",
       "      <td>0.975</td>\n",
       "      <td>3553.986365</td>\n",
       "    </tr>\n",
       "    <tr>\n",
       "      <th>...</th>\n",
       "      <td>...</td>\n",
       "      <td>...</td>\n",
       "      <td>...</td>\n",
       "      <td>...</td>\n",
       "    </tr>\n",
       "    <tr>\n",
       "      <th>61</th>\n",
       "      <td>2024-10-05</td>\n",
       "      <td>2025-01-04</td>\n",
       "      <td>0.025</td>\n",
       "      <td>11472.943164</td>\n",
       "    </tr>\n",
       "    <tr>\n",
       "      <th>62</th>\n",
       "      <td>2024-10-05</td>\n",
       "      <td>2025-01-04</td>\n",
       "      <td>0.100</td>\n",
       "      <td>12363.104102</td>\n",
       "    </tr>\n",
       "    <tr>\n",
       "      <th>60</th>\n",
       "      <td>2024-10-05</td>\n",
       "      <td>2025-01-04</td>\n",
       "      <td>0.500</td>\n",
       "      <td>14094.621338</td>\n",
       "    </tr>\n",
       "    <tr>\n",
       "      <th>63</th>\n",
       "      <td>2024-10-05</td>\n",
       "      <td>2025-01-04</td>\n",
       "      <td>0.900</td>\n",
       "      <td>15890.219531</td>\n",
       "    </tr>\n",
       "    <tr>\n",
       "      <th>64</th>\n",
       "      <td>2024-10-05</td>\n",
       "      <td>2025-01-04</td>\n",
       "      <td>0.975</td>\n",
       "      <td>16751.863818</td>\n",
       "    </tr>\n",
       "  </tbody>\n",
       "</table>\n",
       "<p>65 rows × 4 columns</p>\n",
       "</div>"
      ],
      "text/plain": [
       "   Reference Date Target End Date  Quantile    Prediction\n",
       "1      2024-10-05      2024-10-12     0.025  -3073.665442\n",
       "2      2024-10-05      2024-10-12     0.100  -1839.320093\n",
       "0      2024-10-05      2024-10-12     0.500    262.955078\n",
       "3      2024-10-05      2024-10-12     0.900   2409.959692\n",
       "4      2024-10-05      2024-10-12     0.975   3553.986365\n",
       "..            ...             ...       ...           ...\n",
       "61     2024-10-05      2025-01-04     0.025  11472.943164\n",
       "62     2024-10-05      2025-01-04     0.100  12363.104102\n",
       "60     2024-10-05      2025-01-04     0.500  14094.621338\n",
       "63     2024-10-05      2025-01-04     0.900  15890.219531\n",
       "64     2024-10-05      2025-01-04     0.975  16751.863818\n",
       "\n",
       "[65 rows x 4 columns]"
      ]
     },
     "execution_count": 16,
     "metadata": {},
     "output_type": "execute_result"
    }
   ],
   "source": [
    "Processor.display_df"
   ]
  },
  {
   "cell_type": "code",
   "execution_count": null,
   "id": "36162bb5-6dfa-4993-b976-e4427b7333b5",
   "metadata": {},
   "outputs": [],
   "source": []
  },
  {
   "cell_type": "code",
   "execution_count": null,
   "id": "95a0b3f5-cbc6-4a5b-a7d1-c84b3063948c",
   "metadata": {},
   "outputs": [],
   "source": []
  },
  {
   "cell_type": "code",
   "execution_count": null,
   "id": "cdc31440-dfb9-453c-8df5-84f6f487a67b",
   "metadata": {},
   "outputs": [],
   "source": []
  },
  {
   "cell_type": "code",
   "execution_count": 17,
   "id": "c4e9e20c-0c79-4251-a55f-f35c78316184",
   "metadata": {
    "tags": []
   },
   "outputs": [],
   "source": [
    "updated_df = pd.read_csv(\"https://raw.githubusercontent.com/cdcepi/FluSight-forecast-hub/refs/heads/main/target-data/target-hospital-admissions.csv\")"
   ]
  },
  {
   "cell_type": "code",
   "execution_count": 18,
   "id": "4cf42032-e1da-4696-ab9f-1d4abc5b7b42",
   "metadata": {
    "tags": []
   },
   "outputs": [],
   "source": [
    "updated_df = updated_df[updated_df[\"location_name\"] == \"US\"]\n",
    "updated_df = updated_df[[\"date\", \"value\"]]\n",
    "updated_df[\"date\"] = pd.to_datetime(updated_df[\"date\"])\n",
    "updated_df.set_index(\"date\", inplace = True)\n",
    "updated_df.sort_values(by = \"date\", inplace = True)"
   ]
  },
  {
   "cell_type": "code",
   "execution_count": 19,
   "id": "5417b83f-916c-43d6-a811-1304e0462d86",
   "metadata": {
    "tags": []
   },
   "outputs": [],
   "source": [
    "UProcessor = UpdatingCESProcessor(overall_df = updated_df, dates = [\"2024-10-05\", \"2024-10-19\", \"2024-11-02\", \"2024-11-16\", \"2024-12-07\"])"
   ]
  },
  {
   "cell_type": "code",
   "execution_count": 20,
   "id": "ce0729ad-d1f4-4b2a-addc-dd6f1e8e1f23",
   "metadata": {
    "tags": []
   },
   "outputs": [],
   "source": [
    "UProcessor.create_training_dfs(value_col = \"value\")"
   ]
  },
  {
   "cell_type": "code",
   "execution_count": 21,
   "id": "c7dc724e-b920-42b6-87f8-6bc204ca6de2",
   "metadata": {
    "tags": []
   },
   "outputs": [],
   "source": [
    "UProcessor.create_models(h = 4, freq = \"W-SAT\", season_length = 52, model_names = [\"test1\", \"test2\", \"test3\", \"test4\", \"test5\"], level = [80, 95])"
   ]
  },
  {
   "cell_type": "code",
   "execution_count": 22,
   "id": "db38648f-777e-41f3-adfe-825218e8ce1a",
   "metadata": {
    "tags": []
   },
   "outputs": [
    {
     "name": "stderr",
     "output_type": "stream",
     "text": [
      "/tmp/ipykernel_126893/2295181086.py:57: MatplotlibDeprecationWarning:\n",
      "\n",
      "The get_cmap function was deprecated in Matplotlib 3.7 and will be removed two minor releases later. Use ``matplotlib.colormaps[name]`` or ``matplotlib.colormaps.get_cmap(obj)`` instead.\n",
      "\n"
     ]
    },
    {
     "data": {
      "application/vnd.plotly.v1+json": {
       "config": {
        "plotlyServerURL": "https://plot.ly"
       },
       "data": [
        {
         "mode": "lines",
         "name": "Real Data",
         "type": "scatter",
         "x": [
          "2022-02-05T00:00:00",
          "2022-02-12T00:00:00",
          "2022-02-19T00:00:00",
          "2022-02-26T00:00:00",
          "2022-03-05T00:00:00",
          "2022-03-12T00:00:00",
          "2022-03-19T00:00:00",
          "2022-03-26T00:00:00",
          "2022-04-02T00:00:00",
          "2022-04-09T00:00:00",
          "2022-04-16T00:00:00",
          "2022-04-23T00:00:00",
          "2022-04-30T00:00:00",
          "2022-05-07T00:00:00",
          "2022-05-14T00:00:00",
          "2022-05-21T00:00:00",
          "2022-05-28T00:00:00",
          "2022-06-04T00:00:00",
          "2022-06-11T00:00:00",
          "2022-06-18T00:00:00",
          "2022-06-25T00:00:00",
          "2022-07-02T00:00:00",
          "2022-07-09T00:00:00",
          "2022-07-16T00:00:00",
          "2022-07-23T00:00:00",
          "2022-07-30T00:00:00",
          "2022-08-06T00:00:00",
          "2022-08-13T00:00:00",
          "2022-08-20T00:00:00",
          "2022-08-27T00:00:00",
          "2022-09-03T00:00:00",
          "2022-09-10T00:00:00",
          "2022-09-17T00:00:00",
          "2022-09-24T00:00:00",
          "2022-10-01T00:00:00",
          "2022-10-08T00:00:00",
          "2022-10-15T00:00:00",
          "2022-10-22T00:00:00",
          "2022-10-29T00:00:00",
          "2022-11-05T00:00:00",
          "2022-11-12T00:00:00",
          "2022-11-19T00:00:00",
          "2022-11-26T00:00:00",
          "2022-12-03T00:00:00",
          "2022-12-10T00:00:00",
          "2022-12-17T00:00:00",
          "2022-12-24T00:00:00",
          "2022-12-31T00:00:00",
          "2023-01-07T00:00:00",
          "2023-01-14T00:00:00",
          "2023-01-21T00:00:00",
          "2023-01-28T00:00:00",
          "2023-02-04T00:00:00",
          "2023-02-11T00:00:00",
          "2023-02-18T00:00:00",
          "2023-02-25T00:00:00",
          "2023-03-04T00:00:00",
          "2023-03-11T00:00:00",
          "2023-03-18T00:00:00",
          "2023-03-25T00:00:00",
          "2023-04-01T00:00:00",
          "2023-04-08T00:00:00",
          "2023-04-15T00:00:00",
          "2023-04-22T00:00:00",
          "2023-04-29T00:00:00",
          "2023-05-06T00:00:00",
          "2023-05-13T00:00:00",
          "2023-05-20T00:00:00",
          "2023-05-27T00:00:00",
          "2023-06-03T00:00:00",
          "2023-06-10T00:00:00",
          "2023-06-17T00:00:00",
          "2023-06-24T00:00:00",
          "2023-07-01T00:00:00",
          "2023-07-08T00:00:00",
          "2023-07-15T00:00:00",
          "2023-07-22T00:00:00",
          "2023-07-29T00:00:00",
          "2023-08-05T00:00:00",
          "2023-08-12T00:00:00",
          "2023-08-19T00:00:00",
          "2023-08-26T00:00:00",
          "2023-09-02T00:00:00",
          "2023-09-09T00:00:00",
          "2023-09-16T00:00:00",
          "2023-09-23T00:00:00",
          "2023-09-30T00:00:00",
          "2023-10-07T00:00:00",
          "2023-10-14T00:00:00",
          "2023-10-21T00:00:00",
          "2023-10-28T00:00:00",
          "2023-11-04T00:00:00",
          "2023-11-11T00:00:00",
          "2023-11-18T00:00:00",
          "2023-11-25T00:00:00",
          "2023-12-02T00:00:00",
          "2023-12-09T00:00:00",
          "2023-12-16T00:00:00",
          "2023-12-23T00:00:00",
          "2023-12-30T00:00:00",
          "2024-01-06T00:00:00",
          "2024-01-13T00:00:00",
          "2024-01-20T00:00:00",
          "2024-01-27T00:00:00",
          "2024-02-03T00:00:00",
          "2024-02-10T00:00:00",
          "2024-02-17T00:00:00",
          "2024-02-24T00:00:00",
          "2024-03-02T00:00:00",
          "2024-03-09T00:00:00",
          "2024-03-16T00:00:00",
          "2024-03-23T00:00:00",
          "2024-03-30T00:00:00",
          "2024-04-06T00:00:00",
          "2024-04-13T00:00:00",
          "2024-04-20T00:00:00",
          "2024-04-27T00:00:00",
          "2024-05-04T00:00:00",
          "2024-05-11T00:00:00",
          "2024-05-18T00:00:00",
          "2024-05-25T00:00:00",
          "2024-06-01T00:00:00",
          "2024-06-08T00:00:00",
          "2024-06-15T00:00:00",
          "2024-06-22T00:00:00",
          "2024-06-29T00:00:00",
          "2024-07-06T00:00:00",
          "2024-07-13T00:00:00",
          "2024-07-20T00:00:00",
          "2024-07-27T00:00:00",
          "2024-08-03T00:00:00",
          "2024-08-10T00:00:00",
          "2024-08-17T00:00:00",
          "2024-08-24T00:00:00",
          "2024-08-31T00:00:00",
          "2024-09-07T00:00:00",
          "2024-09-14T00:00:00",
          "2024-09-21T00:00:00",
          "2024-09-28T00:00:00",
          "2024-10-05T00:00:00",
          "2024-10-12T00:00:00",
          "2024-10-19T00:00:00",
          "2024-10-26T00:00:00",
          "2024-11-02T00:00:00",
          "2024-11-09T00:00:00",
          "2024-11-16T00:00:00",
          "2024-11-23T00:00:00",
          "2024-11-30T00:00:00",
          "2024-12-07T00:00:00",
          "2024-12-14T00:00:00",
          "2024-12-21T00:00:00",
          "2024-12-28T00:00:00",
          "2025-01-04T00:00:00",
          "2025-01-11T00:00:00",
          "2025-01-18T00:00:00",
          "2025-01-25T00:00:00",
          "2025-02-01T00:00:00",
          "2025-02-08T00:00:00",
          "2025-02-15T00:00:00",
          "2025-02-22T00:00:00",
          "2025-03-01T00:00:00",
          "2025-03-08T00:00:00",
          "2025-03-15T00:00:00",
          "2025-03-22T00:00:00",
          "2025-03-29T00:00:00",
          "2025-04-05T00:00:00"
         ],
         "y": [
          1091,
          1164,
          1493,
          1603,
          1791,
          2097,
          2625,
          2918,
          3008,
          3149,
          3308,
          3474,
          3182,
          3175,
          3119,
          3133,
          2738,
          2678,
          2210,
          1776,
          1366,
          1073,
          776,
          766,
          628,
          522,
          486,
          490,
          483,
          483,
          545,
          576,
          665,
          796,
          921,
          1316,
          1674,
          2292,
          4184,
          6408,
          8594,
          10971,
          18177,
          26834,
          24036,
          21612,
          19631,
          19479,
          14074,
          7185,
          4489,
          3091,
          2596,
          2177,
          1908,
          1647,
          1503,
          1372,
          1415,
          1331,
          1295,
          1198,
          1077,
          982,
          903,
          994,
          980,
          1116,
          974,
          939,
          935,
          873,
          813,
          836,
          699,
          736,
          645,
          771,
          690,
          706,
          738,
          793,
          875,
          804,
          821,
          881,
          1026,
          1110,
          1215,
          1470,
          1614,
          2014,
          2775,
          3491,
          4386,
          5955,
          7497,
          10273,
          15722,
          21682,
          19548,
          15905,
          13303,
          13025,
          11964,
          11629,
          11126,
          10870,
          10814,
          9416,
          7324,
          6049,
          5574,
          5071,
          4073,
          2943,
          2420,
          1485,
          852,
          682,
          611,
          591,
          511,
          518,
          441,
          356,
          342,
          367,
          325,
          273,
          275,
          275,
          275,
          274,
          262,
          223,
          319,
          293,
          223,
          287,
          295,
          553,
          1084,
          977,
          2081,
          2535,
          3099,
          4297,
          6307,
          9192,
          15467,
          27748,
          38767,
          30796,
          33020,
          40682,
          51337,
          54374,
          46244,
          37881,
          30807,
          23956,
          18384,
          13600,
          9597,
          6273
         ]
        },
        {
         "line": {
          "color": "#414487"
         },
         "mode": "lines",
         "name": "CES-hi-80",
         "type": "scatter",
         "x": [
          "2024-10-12T00:00:00",
          "2024-10-19T00:00:00",
          "2024-10-26T00:00:00",
          "2024-11-02T00:00:00"
         ],
         "y": [
          2409.9596923828135,
          2628.43505859375,
          3424.649194335938,
          4552.821093750001
         ]
        },
        {
         "line": {
          "color": "#1e9c89"
         },
         "mode": "lines",
         "name": "CES-hi-95",
         "type": "scatter",
         "x": [
          "2024-10-12T00:00:00",
          "2024-10-19T00:00:00",
          "2024-10-26T00:00:00",
          "2024-11-02T00:00:00"
         ],
         "y": [
          3553.986364746092,
          3719.264697265623,
          4533.579418945312,
          5754.107263183593
         ]
        },
        {
         "fill": "tonexty",
         "fillcolor": "#1e9c89",
         "line": {
          "color": "#1e9c89"
         },
         "mode": "lines",
         "name": "CES-lo-95",
         "type": "scatter",
         "x": [
          "2024-10-12T00:00:00",
          "2024-10-19T00:00:00",
          "2024-10-26T00:00:00",
          "2024-11-02T00:00:00"
         ],
         "y": [
          -3073.6654418945304,
          -2783.6433349609374,
          -1792.3461914062495,
          -598.0244415283199
         ]
        },
        {
         "fill": "tonexty",
         "fillcolor": "#414487",
         "line": {
          "color": "#414487"
         },
         "mode": "lines",
         "name": "CES-lo-80",
         "type": "scatter",
         "x": [
          "2024-10-12T00:00:00",
          "2024-10-19T00:00:00",
          "2024-10-26T00:00:00",
          "2024-11-02T00:00:00"
         ],
         "y": [
          -1839.320092773438,
          -1641.4649902343751,
          -737.6014160156253,
          487.46611328124993
         ]
        },
        {
         "line": {
          "color": "#2c728e"
         },
         "mode": "lines",
         "name": "CES",
         "type": "scatter",
         "x": [
          "2024-10-12T00:00:00",
          "2024-10-19T00:00:00",
          "2024-10-26T00:00:00",
          "2024-11-02T00:00:00"
         ],
         "y": [
          262.955078125,
          513.69580078125,
          1357.1337890625,
          2513.5590209960938
         ]
        }
       ],
       "layout": {
        "autosize": true,
        "hovermode": "x",
        "template": {
         "data": {
          "bar": [
           {
            "error_x": {
             "color": "#2a3f5f"
            },
            "error_y": {
             "color": "#2a3f5f"
            },
            "marker": {
             "line": {
              "color": "#E5ECF6",
              "width": 0.5
             },
             "pattern": {
              "fillmode": "overlay",
              "size": 10,
              "solidity": 0.2
             }
            },
            "type": "bar"
           }
          ],
          "barpolar": [
           {
            "marker": {
             "line": {
              "color": "#E5ECF6",
              "width": 0.5
             },
             "pattern": {
              "fillmode": "overlay",
              "size": 10,
              "solidity": 0.2
             }
            },
            "type": "barpolar"
           }
          ],
          "carpet": [
           {
            "aaxis": {
             "endlinecolor": "#2a3f5f",
             "gridcolor": "white",
             "linecolor": "white",
             "minorgridcolor": "white",
             "startlinecolor": "#2a3f5f"
            },
            "baxis": {
             "endlinecolor": "#2a3f5f",
             "gridcolor": "white",
             "linecolor": "white",
             "minorgridcolor": "white",
             "startlinecolor": "#2a3f5f"
            },
            "type": "carpet"
           }
          ],
          "choropleth": [
           {
            "colorbar": {
             "outlinewidth": 0,
             "ticks": ""
            },
            "type": "choropleth"
           }
          ],
          "contour": [
           {
            "colorbar": {
             "outlinewidth": 0,
             "ticks": ""
            },
            "colorscale": [
             [
              0,
              "#0d0887"
             ],
             [
              0.1111111111111111,
              "#46039f"
             ],
             [
              0.2222222222222222,
              "#7201a8"
             ],
             [
              0.3333333333333333,
              "#9c179e"
             ],
             [
              0.4444444444444444,
              "#bd3786"
             ],
             [
              0.5555555555555556,
              "#d8576b"
             ],
             [
              0.6666666666666666,
              "#ed7953"
             ],
             [
              0.7777777777777778,
              "#fb9f3a"
             ],
             [
              0.8888888888888888,
              "#fdca26"
             ],
             [
              1,
              "#f0f921"
             ]
            ],
            "type": "contour"
           }
          ],
          "contourcarpet": [
           {
            "colorbar": {
             "outlinewidth": 0,
             "ticks": ""
            },
            "type": "contourcarpet"
           }
          ],
          "heatmap": [
           {
            "colorbar": {
             "outlinewidth": 0,
             "ticks": ""
            },
            "colorscale": [
             [
              0,
              "#0d0887"
             ],
             [
              0.1111111111111111,
              "#46039f"
             ],
             [
              0.2222222222222222,
              "#7201a8"
             ],
             [
              0.3333333333333333,
              "#9c179e"
             ],
             [
              0.4444444444444444,
              "#bd3786"
             ],
             [
              0.5555555555555556,
              "#d8576b"
             ],
             [
              0.6666666666666666,
              "#ed7953"
             ],
             [
              0.7777777777777778,
              "#fb9f3a"
             ],
             [
              0.8888888888888888,
              "#fdca26"
             ],
             [
              1,
              "#f0f921"
             ]
            ],
            "type": "heatmap"
           }
          ],
          "heatmapgl": [
           {
            "colorbar": {
             "outlinewidth": 0,
             "ticks": ""
            },
            "colorscale": [
             [
              0,
              "#0d0887"
             ],
             [
              0.1111111111111111,
              "#46039f"
             ],
             [
              0.2222222222222222,
              "#7201a8"
             ],
             [
              0.3333333333333333,
              "#9c179e"
             ],
             [
              0.4444444444444444,
              "#bd3786"
             ],
             [
              0.5555555555555556,
              "#d8576b"
             ],
             [
              0.6666666666666666,
              "#ed7953"
             ],
             [
              0.7777777777777778,
              "#fb9f3a"
             ],
             [
              0.8888888888888888,
              "#fdca26"
             ],
             [
              1,
              "#f0f921"
             ]
            ],
            "type": "heatmapgl"
           }
          ],
          "histogram": [
           {
            "marker": {
             "pattern": {
              "fillmode": "overlay",
              "size": 10,
              "solidity": 0.2
             }
            },
            "type": "histogram"
           }
          ],
          "histogram2d": [
           {
            "colorbar": {
             "outlinewidth": 0,
             "ticks": ""
            },
            "colorscale": [
             [
              0,
              "#0d0887"
             ],
             [
              0.1111111111111111,
              "#46039f"
             ],
             [
              0.2222222222222222,
              "#7201a8"
             ],
             [
              0.3333333333333333,
              "#9c179e"
             ],
             [
              0.4444444444444444,
              "#bd3786"
             ],
             [
              0.5555555555555556,
              "#d8576b"
             ],
             [
              0.6666666666666666,
              "#ed7953"
             ],
             [
              0.7777777777777778,
              "#fb9f3a"
             ],
             [
              0.8888888888888888,
              "#fdca26"
             ],
             [
              1,
              "#f0f921"
             ]
            ],
            "type": "histogram2d"
           }
          ],
          "histogram2dcontour": [
           {
            "colorbar": {
             "outlinewidth": 0,
             "ticks": ""
            },
            "colorscale": [
             [
              0,
              "#0d0887"
             ],
             [
              0.1111111111111111,
              "#46039f"
             ],
             [
              0.2222222222222222,
              "#7201a8"
             ],
             [
              0.3333333333333333,
              "#9c179e"
             ],
             [
              0.4444444444444444,
              "#bd3786"
             ],
             [
              0.5555555555555556,
              "#d8576b"
             ],
             [
              0.6666666666666666,
              "#ed7953"
             ],
             [
              0.7777777777777778,
              "#fb9f3a"
             ],
             [
              0.8888888888888888,
              "#fdca26"
             ],
             [
              1,
              "#f0f921"
             ]
            ],
            "type": "histogram2dcontour"
           }
          ],
          "mesh3d": [
           {
            "colorbar": {
             "outlinewidth": 0,
             "ticks": ""
            },
            "type": "mesh3d"
           }
          ],
          "parcoords": [
           {
            "line": {
             "colorbar": {
              "outlinewidth": 0,
              "ticks": ""
             }
            },
            "type": "parcoords"
           }
          ],
          "pie": [
           {
            "automargin": true,
            "type": "pie"
           }
          ],
          "scatter": [
           {
            "fillpattern": {
             "fillmode": "overlay",
             "size": 10,
             "solidity": 0.2
            },
            "type": "scatter"
           }
          ],
          "scatter3d": [
           {
            "line": {
             "colorbar": {
              "outlinewidth": 0,
              "ticks": ""
             }
            },
            "marker": {
             "colorbar": {
              "outlinewidth": 0,
              "ticks": ""
             }
            },
            "type": "scatter3d"
           }
          ],
          "scattercarpet": [
           {
            "marker": {
             "colorbar": {
              "outlinewidth": 0,
              "ticks": ""
             }
            },
            "type": "scattercarpet"
           }
          ],
          "scattergeo": [
           {
            "marker": {
             "colorbar": {
              "outlinewidth": 0,
              "ticks": ""
             }
            },
            "type": "scattergeo"
           }
          ],
          "scattergl": [
           {
            "marker": {
             "colorbar": {
              "outlinewidth": 0,
              "ticks": ""
             }
            },
            "type": "scattergl"
           }
          ],
          "scattermapbox": [
           {
            "marker": {
             "colorbar": {
              "outlinewidth": 0,
              "ticks": ""
             }
            },
            "type": "scattermapbox"
           }
          ],
          "scatterpolar": [
           {
            "marker": {
             "colorbar": {
              "outlinewidth": 0,
              "ticks": ""
             }
            },
            "type": "scatterpolar"
           }
          ],
          "scatterpolargl": [
           {
            "marker": {
             "colorbar": {
              "outlinewidth": 0,
              "ticks": ""
             }
            },
            "type": "scatterpolargl"
           }
          ],
          "scatterternary": [
           {
            "marker": {
             "colorbar": {
              "outlinewidth": 0,
              "ticks": ""
             }
            },
            "type": "scatterternary"
           }
          ],
          "surface": [
           {
            "colorbar": {
             "outlinewidth": 0,
             "ticks": ""
            },
            "colorscale": [
             [
              0,
              "#0d0887"
             ],
             [
              0.1111111111111111,
              "#46039f"
             ],
             [
              0.2222222222222222,
              "#7201a8"
             ],
             [
              0.3333333333333333,
              "#9c179e"
             ],
             [
              0.4444444444444444,
              "#bd3786"
             ],
             [
              0.5555555555555556,
              "#d8576b"
             ],
             [
              0.6666666666666666,
              "#ed7953"
             ],
             [
              0.7777777777777778,
              "#fb9f3a"
             ],
             [
              0.8888888888888888,
              "#fdca26"
             ],
             [
              1,
              "#f0f921"
             ]
            ],
            "type": "surface"
           }
          ],
          "table": [
           {
            "cells": {
             "fill": {
              "color": "#EBF0F8"
             },
             "line": {
              "color": "white"
             }
            },
            "header": {
             "fill": {
              "color": "#C8D4E3"
             },
             "line": {
              "color": "white"
             }
            },
            "type": "table"
           }
          ]
         },
         "layout": {
          "annotationdefaults": {
           "arrowcolor": "#2a3f5f",
           "arrowhead": 0,
           "arrowwidth": 1
          },
          "autotypenumbers": "strict",
          "coloraxis": {
           "colorbar": {
            "outlinewidth": 0,
            "ticks": ""
           }
          },
          "colorscale": {
           "diverging": [
            [
             0,
             "#8e0152"
            ],
            [
             0.1,
             "#c51b7d"
            ],
            [
             0.2,
             "#de77ae"
            ],
            [
             0.3,
             "#f1b6da"
            ],
            [
             0.4,
             "#fde0ef"
            ],
            [
             0.5,
             "#f7f7f7"
            ],
            [
             0.6,
             "#e6f5d0"
            ],
            [
             0.7,
             "#b8e186"
            ],
            [
             0.8,
             "#7fbc41"
            ],
            [
             0.9,
             "#4d9221"
            ],
            [
             1,
             "#276419"
            ]
           ],
           "sequential": [
            [
             0,
             "#0d0887"
            ],
            [
             0.1111111111111111,
             "#46039f"
            ],
            [
             0.2222222222222222,
             "#7201a8"
            ],
            [
             0.3333333333333333,
             "#9c179e"
            ],
            [
             0.4444444444444444,
             "#bd3786"
            ],
            [
             0.5555555555555556,
             "#d8576b"
            ],
            [
             0.6666666666666666,
             "#ed7953"
            ],
            [
             0.7777777777777778,
             "#fb9f3a"
            ],
            [
             0.8888888888888888,
             "#fdca26"
            ],
            [
             1,
             "#f0f921"
            ]
           ],
           "sequentialminus": [
            [
             0,
             "#0d0887"
            ],
            [
             0.1111111111111111,
             "#46039f"
            ],
            [
             0.2222222222222222,
             "#7201a8"
            ],
            [
             0.3333333333333333,
             "#9c179e"
            ],
            [
             0.4444444444444444,
             "#bd3786"
            ],
            [
             0.5555555555555556,
             "#d8576b"
            ],
            [
             0.6666666666666666,
             "#ed7953"
            ],
            [
             0.7777777777777778,
             "#fb9f3a"
            ],
            [
             0.8888888888888888,
             "#fdca26"
            ],
            [
             1,
             "#f0f921"
            ]
           ]
          },
          "colorway": [
           "#636efa",
           "#EF553B",
           "#00cc96",
           "#ab63fa",
           "#FFA15A",
           "#19d3f3",
           "#FF6692",
           "#B6E880",
           "#FF97FF",
           "#FECB52"
          ],
          "font": {
           "color": "#2a3f5f"
          },
          "geo": {
           "bgcolor": "white",
           "lakecolor": "white",
           "landcolor": "#E5ECF6",
           "showlakes": true,
           "showland": true,
           "subunitcolor": "white"
          },
          "hoverlabel": {
           "align": "left"
          },
          "hovermode": "closest",
          "mapbox": {
           "style": "light"
          },
          "paper_bgcolor": "white",
          "plot_bgcolor": "#E5ECF6",
          "polar": {
           "angularaxis": {
            "gridcolor": "white",
            "linecolor": "white",
            "ticks": ""
           },
           "bgcolor": "#E5ECF6",
           "radialaxis": {
            "gridcolor": "white",
            "linecolor": "white",
            "ticks": ""
           }
          },
          "scene": {
           "xaxis": {
            "backgroundcolor": "#E5ECF6",
            "gridcolor": "white",
            "gridwidth": 2,
            "linecolor": "white",
            "showbackground": true,
            "ticks": "",
            "zerolinecolor": "white"
           },
           "yaxis": {
            "backgroundcolor": "#E5ECF6",
            "gridcolor": "white",
            "gridwidth": 2,
            "linecolor": "white",
            "showbackground": true,
            "ticks": "",
            "zerolinecolor": "white"
           },
           "zaxis": {
            "backgroundcolor": "#E5ECF6",
            "gridcolor": "white",
            "gridwidth": 2,
            "linecolor": "white",
            "showbackground": true,
            "ticks": "",
            "zerolinecolor": "white"
           }
          },
          "shapedefaults": {
           "line": {
            "color": "#2a3f5f"
           }
          },
          "ternary": {
           "aaxis": {
            "gridcolor": "white",
            "linecolor": "white",
            "ticks": ""
           },
           "baxis": {
            "gridcolor": "white",
            "linecolor": "white",
            "ticks": ""
           },
           "bgcolor": "#E5ECF6",
           "caxis": {
            "gridcolor": "white",
            "linecolor": "white",
            "ticks": ""
           }
          },
          "title": {
           "x": 0.05
          },
          "xaxis": {
           "automargin": true,
           "gridcolor": "white",
           "linecolor": "white",
           "ticks": "",
           "title": {
            "standoff": 15
           },
           "zerolinecolor": "white",
           "zerolinewidth": 2
          },
          "yaxis": {
           "automargin": true,
           "gridcolor": "white",
           "linecolor": "white",
           "ticks": "",
           "title": {
            "standoff": 15
           },
           "zerolinecolor": "white",
           "zerolinewidth": 2
          }
         }
        },
        "title": {
         "text": "Updating Parameter CES Predictions, 2024-10-05"
        },
        "xaxis": {
         "autorange": true,
         "range": [
          "2022-02-05",
          "2025-04-05"
         ],
         "title": {
          "text": "Date"
         },
         "type": "date"
        },
        "yaxis": {
         "autorange": true,
         "range": [
          -6265.202410888671,
          57565.53696899414
         ],
         "title": {
          "text": "Count"
         },
         "type": "linear"
        }
       }
      },
      "image/png": "[encoded data removed]",
      "text/html": [
       "<div>                            <div id=\"34ea4999-97af-429d-862f-49902644741f\" class=\"plotly-graph-div\" style=\"height:525px; width:100%;\"></div>            <script type=\"text/javascript\">                require([\"plotly\"], function(Plotly) {                    window.PLOTLYENV=window.PLOTLYENV || {};                                    if (document.getElementById(\"34ea4999-97af-429d-862f-49902644741f\")) {                    Plotly.newPlot(                        \"34ea4999-97af-429d-862f-49902644741f\",                        [{\"mode\":\"lines\",\"name\":\"Real Data\",\"x\":[\"2022-02-05T00:00:00\",\"2022-02-12T00:00:00\",\"2022-02-19T00:00:00\",\"2022-02-26T00:00:00\",\"2022-03-05T00:00:00\",\"2022-03-12T00:00:00\",\"2022-03-19T00:00:00\",\"2022-03-26T00:00:00\",\"2022-04-02T00:00:00\",\"2022-04-09T00:00:00\",\"2022-04-16T00:00:00\",\"2022-04-23T00:00:00\",\"2022-04-30T00:00:00\",\"2022-05-07T00:00:00\",\"2022-05-14T00:00:00\",\"2022-05-21T00:00:00\",\"2022-05-28T00:00:00\",\"2022-06-04T00:00:00\",\"2022-06-11T00:00:00\",\"2022-06-18T00:00:00\",\"2022-06-25T00:00:00\",\"2022-07-02T00:00:00\",\"2022-07-09T00:00:00\",\"2022-07-16T00:00:00\",\"2022-07-23T00:00:00\",\"2022-07-30T00:00:00\",\"2022-08-06T00:00:00\",\"2022-08-13T00:00:00\",\"2022-08-20T00:00:00\",\"2022-08-27T00:00:00\",\"2022-09-03T00:00:00\",\"2022-09-10T00:00:00\",\"2022-09-17T00:00:00\",\"2022-09-24T00:00:00\",\"2022-10-01T00:00:00\",\"2022-10-08T00:00:00\",\"2022-10-15T00:00:00\",\"2022-10-22T00:00:00\",\"2022-10-29T00:00:00\",\"2022-11-05T00:00:00\",\"2022-11-12T00:00:00\",\"2022-11-19T00:00:00\",\"2022-11-26T00:00:00\",\"2022-12-03T00:00:00\",\"2022-12-10T00:00:00\",\"2022-12-17T00:00:00\",\"2022-12-24T00:00:00\",\"2022-12-31T00:00:00\",\"2023-01-07T00:00:00\",\"2023-01-14T00:00:00\",\"2023-01-21T00:00:00\",\"2023-01-28T00:00:00\",\"2023-02-04T00:00:00\",\"2023-02-11T00:00:00\",\"2023-02-18T00:00:00\",\"2023-02-25T00:00:00\",\"2023-03-04T00:00:00\",\"2023-03-11T00:00:00\",\"2023-03-18T00:00:00\",\"2023-03-25T00:00:00\",\"2023-04-01T00:00:00\",\"2023-04-08T00:00:00\",\"2023-04-15T00:00:00\",\"2023-04-22T00:00:00\",\"2023-04-29T00:00:00\",\"2023-05-06T00:00:00\",\"2023-05-13T00:00:00\",\"2023-05-20T00:00:00\",\"2023-05-27T00:00:00\",\"2023-06-03T00:00:00\",\"2023-06-10T00:00:00\",\"2023-06-17T00:00:00\",\"2023-06-24T00:00:00\",\"2023-07-01T00:00:00\",\"2023-07-08T00:00:00\",\"2023-07-15T00:00:00\",\"2023-07-22T00:00:00\",\"2023-07-29T00:00:00\",\"2023-08-05T00:00:00\",\"2023-08-12T00:00:00\",\"2023-08-19T00:00:00\",\"2023-08-26T00:00:00\",\"2023-09-02T00:00:00\",\"2023-09-09T00:00:00\",\"2023-09-16T00:00:00\",\"2023-09-23T00:00:00\",\"2023-09-30T00:00:00\",\"2023-10-07T00:00:00\",\"2023-10-14T00:00:00\",\"2023-10-21T00:00:00\",\"2023-10-28T00:00:00\",\"2023-11-04T00:00:00\",\"2023-11-11T00:00:00\",\"2023-11-18T00:00:00\",\"2023-11-25T00:00:00\",\"2023-12-02T00:00:00\",\"2023-12-09T00:00:00\",\"2023-12-16T00:00:00\",\"2023-12-23T00:00:00\",\"2023-12-30T00:00:00\",\"2024-01-06T00:00:00\",\"2024-01-13T00:00:00\",\"2024-01-20T00:00:00\",\"2024-01-27T00:00:00\",\"2024-02-03T00:00:00\",\"2024-02-10T00:00:00\",\"2024-02-17T00:00:00\",\"2024-02-24T00:00:00\",\"2024-03-02T00:00:00\",\"2024-03-09T00:00:00\",\"2024-03-16T00:00:00\",\"2024-03-23T00:00:00\",\"2024-03-30T00:00:00\",\"2024-04-06T00:00:00\",\"2024-04-13T00:00:00\",\"2024-04-20T00:00:00\",\"2024-04-27T00:00:00\",\"2024-05-04T00:00:00\",\"2024-05-11T00:00:00\",\"2024-05-18T00:00:00\",\"2024-05-25T00:00:00\",\"2024-06-01T00:00:00\",\"2024-06-08T00:00:00\",\"2024-06-15T00:00:00\",\"2024-06-22T00:00:00\",\"2024-06-29T00:00:00\",\"2024-07-06T00:00:00\",\"2024-07-13T00:00:00\",\"2024-07-20T00:00:00\",\"2024-07-27T00:00:00\",\"2024-08-03T00:00:00\",\"2024-08-10T00:00:00\",\"2024-08-17T00:00:00\",\"2024-08-24T00:00:00\",\"2024-08-31T00:00:00\",\"2024-09-07T00:00:00\",\"2024-09-14T00:00:00\",\"2024-09-21T00:00:00\",\"2024-09-28T00:00:00\",\"2024-10-05T00:00:00\",\"2024-10-12T00:00:00\",\"2024-10-19T00:00:00\",\"2024-10-26T00:00:00\",\"2024-11-02T00:00:00\",\"2024-11-09T00:00:00\",\"2024-11-16T00:00:00\",\"2024-11-23T00:00:00\",\"2024-11-30T00:00:00\",\"2024-12-07T00:00:00\",\"2024-12-14T00:00:00\",\"2024-12-21T00:00:00\",\"2024-12-28T00:00:00\",\"2025-01-04T00:00:00\",\"2025-01-11T00:00:00\",\"2025-01-18T00:00:00\",\"2025-01-25T00:00:00\",\"2025-02-01T00:00:00\",\"2025-02-08T00:00:00\",\"2025-02-15T00:00:00\",\"2025-02-22T00:00:00\",\"2025-03-01T00:00:00\",\"2025-03-08T00:00:00\",\"2025-03-15T00:00:00\",\"2025-03-22T00:00:00\",\"2025-03-29T00:00:00\",\"2025-04-05T00:00:00\"],\"y\":[1091.0,1164.0,1493.0,1603.0,1791.0,2097.0,2625.0,2918.0,3008.0,3149.0,3308.0,3474.0,3182.0,3175.0,3119.0,3133.0,2738.0,2678.0,2210.0,1776.0,1366.0,1073.0,776.0,766.0,628.0,522.0,486.0,490.0,483.0,483.0,545.0,576.0,665.0,796.0,921.0,1316.0,1674.0,2292.0,4184.0,6408.0,8594.0,10971.0,18177.0,26834.0,24036.0,21612.0,19631.0,19479.0,14074.0,7185.0,4489.0,3091.0,2596.0,2177.0,1908.0,1647.0,1503.0,1372.0,1415.0,1331.0,1295.0,1198.0,1077.0,982.0,903.0,994.0,980.0,1116.0,974.0,939.0,935.0,873.0,813.0,836.0,699.0,736.0,645.0,771.0,690.0,706.0,738.0,793.0,875.0,804.0,821.0,881.0,1026.0,1110.0,1215.0,1470.0,1614.0,2014.0,2775.0,3491.0,4386.0,5955.0,7497.0,10273.0,15722.0,21682.0,19548.0,15905.0,13303.0,13025.0,11964.0,11629.0,11126.0,10870.0,10814.0,9416.0,7324.0,6049.0,5574.0,5071.0,4073.0,2943.0,2420.0,1485.0,852.0,682.0,611.0,591.0,511.0,518.0,441.0,356.0,342.0,367.0,325.0,273.0,275.0,275.0,275.0,274.0,262.0,223.0,319.0,293.0,223.0,287.0,295.0,553.0,1084.0,977.0,2081.0,2535.0,3099.0,4297.0,6307.0,9192.0,15467.0,27748.0,38767.0,30796.0,33020.0,40682.0,51337.0,54374.0,46244.0,37881.0,30807.0,23956.0,18384.0,13600.0,9597.0,6273.0],\"type\":\"scatter\"},{\"line\":{\"color\":\"#414487\"},\"mode\":\"lines\",\"name\":\"CES-hi-80\",\"x\":[\"2024-10-12T00:00:00\",\"2024-10-19T00:00:00\",\"2024-10-26T00:00:00\",\"2024-11-02T00:00:00\"],\"y\":[2409.9596923828135,2628.43505859375,3424.649194335938,4552.821093750001],\"type\":\"scatter\"},{\"line\":{\"color\":\"#1e9c89\"},\"mode\":\"lines\",\"name\":\"CES-hi-95\",\"x\":[\"2024-10-12T00:00:00\",\"2024-10-19T00:00:00\",\"2024-10-26T00:00:00\",\"2024-11-02T00:00:00\"],\"y\":[3553.986364746092,3719.264697265623,4533.579418945312,5754.107263183593],\"type\":\"scatter\"},{\"fill\":\"tonexty\",\"fillcolor\":\"#1e9c89\",\"line\":{\"color\":\"#1e9c89\"},\"mode\":\"lines\",\"name\":\"CES-lo-95\",\"x\":[\"2024-10-12T00:00:00\",\"2024-10-19T00:00:00\",\"2024-10-26T00:00:00\",\"2024-11-02T00:00:00\"],\"y\":[-3073.6654418945304,-2783.6433349609374,-1792.3461914062495,-598.0244415283199],\"type\":\"scatter\"},{\"fill\":\"tonexty\",\"fillcolor\":\"#414487\",\"line\":{\"color\":\"#414487\"},\"mode\":\"lines\",\"name\":\"CES-lo-80\",\"x\":[\"2024-10-12T00:00:00\",\"2024-10-19T00:00:00\",\"2024-10-26T00:00:00\",\"2024-11-02T00:00:00\"],\"y\":[-1839.320092773438,-1641.4649902343751,-737.6014160156253,487.46611328124993],\"type\":\"scatter\"},{\"line\":{\"color\":\"#2c728e\"},\"mode\":\"lines\",\"name\":\"CES\",\"x\":[\"2024-10-12T00:00:00\",\"2024-10-19T00:00:00\",\"2024-10-26T00:00:00\",\"2024-11-02T00:00:00\"],\"y\":[262.955078125,513.69580078125,1357.1337890625,2513.5590209960938],\"type\":\"scatter\"}],                        {\"template\":{\"data\":{\"histogram2dcontour\":[{\"type\":\"histogram2dcontour\",\"colorbar\":{\"outlinewidth\":0,\"ticks\":\"\"},\"colorscale\":[[0.0,\"#0d0887\"],[0.1111111111111111,\"#46039f\"],[0.2222222222222222,\"#7201a8\"],[0.3333333333333333,\"#9c179e\"],[0.4444444444444444,\"#bd3786\"],[0.5555555555555556,\"#d8576b\"],[0.6666666666666666,\"#ed7953\"],[0.7777777777777778,\"#fb9f3a\"],[0.8888888888888888,\"#fdca26\"],[1.0,\"#f0f921\"]]}],\"choropleth\":[{\"type\":\"choropleth\",\"colorbar\":{\"outlinewidth\":0,\"ticks\":\"\"}}],\"histogram2d\":[{\"type\":\"histogram2d\",\"colorbar\":{\"outlinewidth\":0,\"ticks\":\"\"},\"colorscale\":[[0.0,\"#0d0887\"],[0.1111111111111111,\"#46039f\"],[0.2222222222222222,\"#7201a8\"],[0.3333333333333333,\"#9c179e\"],[0.4444444444444444,\"#bd3786\"],[0.5555555555555556,\"#d8576b\"],[0.6666666666666666,\"#ed7953\"],[0.7777777777777778,\"#fb9f3a\"],[0.8888888888888888,\"#fdca26\"],[1.0,\"#f0f921\"]]}],\"heatmap\":[{\"type\":\"heatmap\",\"colorbar\":{\"outlinewidth\":0,\"ticks\":\"\"},\"colorscale\":[[0.0,\"#0d0887\"],[0.1111111111111111,\"#46039f\"],[0.2222222222222222,\"#7201a8\"],[0.3333333333333333,\"#9c179e\"],[0.4444444444444444,\"#bd3786\"],[0.5555555555555556,\"#d8576b\"],[0.6666666666666666,\"#ed7953\"],[0.7777777777777778,\"#fb9f3a\"],[0.8888888888888888,\"#fdca26\"],[1.0,\"#f0f921\"]]}],\"heatmapgl\":[{\"type\":\"heatmapgl\",\"colorbar\":{\"outlinewidth\":0,\"ticks\":\"\"},\"colorscale\":[[0.0,\"#0d0887\"],[0.1111111111111111,\"#46039f\"],[0.2222222222222222,\"#7201a8\"],[0.3333333333333333,\"#9c179e\"],[0.4444444444444444,\"#bd3786\"],[0.5555555555555556,\"#d8576b\"],[0.6666666666666666,\"#ed7953\"],[0.7777777777777778,\"#fb9f3a\"],[0.8888888888888888,\"#fdca26\"],[1.0,\"#f0f921\"]]}],\"contourcarpet\":[{\"type\":\"contourcarpet\",\"colorbar\":{\"outlinewidth\":0,\"ticks\":\"\"}}],\"contour\":[{\"type\":\"contour\",\"colorbar\":{\"outlinewidth\":0,\"ticks\":\"\"},\"colorscale\":[[0.0,\"#0d0887\"],[0.1111111111111111,\"#46039f\"],[0.2222222222222222,\"#7201a8\"],[0.3333333333333333,\"#9c179e\"],[0.4444444444444444,\"#bd3786\"],[0.5555555555555556,\"#d8576b\"],[0.6666666666666666,\"#ed7953\"],[0.7777777777777778,\"#fb9f3a\"],[0.8888888888888888,\"#fdca26\"],[1.0,\"#f0f921\"]]}],\"surface\":[{\"type\":\"surface\",\"colorbar\":{\"outlinewidth\":0,\"ticks\":\"\"},\"colorscale\":[[0.0,\"#0d0887\"],[0.1111111111111111,\"#46039f\"],[0.2222222222222222,\"#7201a8\"],[0.3333333333333333,\"#9c179e\"],[0.4444444444444444,\"#bd3786\"],[0.5555555555555556,\"#d8576b\"],[0.6666666666666666,\"#ed7953\"],[0.7777777777777778,\"#fb9f3a\"],[0.8888888888888888,\"#fdca26\"],[1.0,\"#f0f921\"]]}],\"mesh3d\":[{\"type\":\"mesh3d\",\"colorbar\":{\"outlinewidth\":0,\"ticks\":\"\"}}],\"scatter\":[{\"fillpattern\":{\"fillmode\":\"overlay\",\"size\":10,\"solidity\":0.2},\"type\":\"scatter\"}],\"parcoords\":[{\"type\":\"parcoords\",\"line\":{\"colorbar\":{\"outlinewidth\":0,\"ticks\":\"\"}}}],\"scatterpolargl\":[{\"type\":\"scatterpolargl\",\"marker\":{\"colorbar\":{\"outlinewidth\":0,\"ticks\":\"\"}}}],\"bar\":[{\"error_x\":{\"color\":\"#2a3f5f\"},\"error_y\":{\"color\":\"#2a3f5f\"},\"marker\":{\"line\":{\"color\":\"#E5ECF6\",\"width\":0.5},\"pattern\":{\"fillmode\":\"overlay\",\"size\":10,\"solidity\":0.2}},\"type\":\"bar\"}],\"scattergeo\":[{\"type\":\"scattergeo\",\"marker\":{\"colorbar\":{\"outlinewidth\":0,\"ticks\":\"\"}}}],\"scatterpolar\":[{\"type\":\"scatterpolar\",\"marker\":{\"colorbar\":{\"outlinewidth\":0,\"ticks\":\"\"}}}],\"histogram\":[{\"marker\":{\"pattern\":{\"fillmode\":\"overlay\",\"size\":10,\"solidity\":0.2}},\"type\":\"histogram\"}],\"scattergl\":[{\"type\":\"scattergl\",\"marker\":{\"colorbar\":{\"outlinewidth\":0,\"ticks\":\"\"}}}],\"scatter3d\":[{\"type\":\"scatter3d\",\"line\":{\"colorbar\":{\"outlinewidth\":0,\"ticks\":\"\"}},\"marker\":{\"colorbar\":{\"outlinewidth\":0,\"ticks\":\"\"}}}],\"scattermapbox\":[{\"type\":\"scattermapbox\",\"marker\":{\"colorbar\":{\"outlinewidth\":0,\"ticks\":\"\"}}}],\"scatterternary\":[{\"type\":\"scatterternary\",\"marker\":{\"colorbar\":{\"outlinewidth\":0,\"ticks\":\"\"}}}],\"scattercarpet\":[{\"type\":\"scattercarpet\",\"marker\":{\"colorbar\":{\"outlinewidth\":0,\"ticks\":\"\"}}}],\"carpet\":[{\"aaxis\":{\"endlinecolor\":\"#2a3f5f\",\"gridcolor\":\"white\",\"linecolor\":\"white\",\"minorgridcolor\":\"white\",\"startlinecolor\":\"#2a3f5f\"},\"baxis\":{\"endlinecolor\":\"#2a3f5f\",\"gridcolor\":\"white\",\"linecolor\":\"white\",\"minorgridcolor\":\"white\",\"startlinecolor\":\"#2a3f5f\"},\"type\":\"carpet\"}],\"table\":[{\"cells\":{\"fill\":{\"color\":\"#EBF0F8\"},\"line\":{\"color\":\"white\"}},\"header\":{\"fill\":{\"color\":\"#C8D4E3\"},\"line\":{\"color\":\"white\"}},\"type\":\"table\"}],\"barpolar\":[{\"marker\":{\"line\":{\"color\":\"#E5ECF6\",\"width\":0.5},\"pattern\":{\"fillmode\":\"overlay\",\"size\":10,\"solidity\":0.2}},\"type\":\"barpolar\"}],\"pie\":[{\"automargin\":true,\"type\":\"pie\"}]},\"layout\":{\"autotypenumbers\":\"strict\",\"colorway\":[\"#636efa\",\"#EF553B\",\"#00cc96\",\"#ab63fa\",\"#FFA15A\",\"#19d3f3\",\"#FF6692\",\"#B6E880\",\"#FF97FF\",\"#FECB52\"],\"font\":{\"color\":\"#2a3f5f\"},\"hovermode\":\"closest\",\"hoverlabel\":{\"align\":\"left\"},\"paper_bgcolor\":\"white\",\"plot_bgcolor\":\"#E5ECF6\",\"polar\":{\"bgcolor\":\"#E5ECF6\",\"angularaxis\":{\"gridcolor\":\"white\",\"linecolor\":\"white\",\"ticks\":\"\"},\"radialaxis\":{\"gridcolor\":\"white\",\"linecolor\":\"white\",\"ticks\":\"\"}},\"ternary\":{\"bgcolor\":\"#E5ECF6\",\"aaxis\":{\"gridcolor\":\"white\",\"linecolor\":\"white\",\"ticks\":\"\"},\"baxis\":{\"gridcolor\":\"white\",\"linecolor\":\"white\",\"ticks\":\"\"},\"caxis\":{\"gridcolor\":\"white\",\"linecolor\":\"white\",\"ticks\":\"\"}},\"coloraxis\":{\"colorbar\":{\"outlinewidth\":0,\"ticks\":\"\"}},\"colorscale\":{\"sequential\":[[0.0,\"#0d0887\"],[0.1111111111111111,\"#46039f\"],[0.2222222222222222,\"#7201a8\"],[0.3333333333333333,\"#9c179e\"],[0.4444444444444444,\"#bd3786\"],[0.5555555555555556,\"#d8576b\"],[0.6666666666666666,\"#ed7953\"],[0.7777777777777778,\"#fb9f3a\"],[0.8888888888888888,\"#fdca26\"],[1.0,\"#f0f921\"]],\"sequentialminus\":[[0.0,\"#0d0887\"],[0.1111111111111111,\"#46039f\"],[0.2222222222222222,\"#7201a8\"],[0.3333333333333333,\"#9c179e\"],[0.4444444444444444,\"#bd3786\"],[0.5555555555555556,\"#d8576b\"],[0.6666666666666666,\"#ed7953\"],[0.7777777777777778,\"#fb9f3a\"],[0.8888888888888888,\"#fdca26\"],[1.0,\"#f0f921\"]],\"diverging\":[[0,\"#8e0152\"],[0.1,\"#c51b7d\"],[0.2,\"#de77ae\"],[0.3,\"#f1b6da\"],[0.4,\"#fde0ef\"],[0.5,\"#f7f7f7\"],[0.6,\"#e6f5d0\"],[0.7,\"#b8e186\"],[0.8,\"#7fbc41\"],[0.9,\"#4d9221\"],[1,\"#276419\"]]},\"xaxis\":{\"gridcolor\":\"white\",\"linecolor\":\"white\",\"ticks\":\"\",\"title\":{\"standoff\":15},\"zerolinecolor\":\"white\",\"automargin\":true,\"zerolinewidth\":2},\"yaxis\":{\"gridcolor\":\"white\",\"linecolor\":\"white\",\"ticks\":\"\",\"title\":{\"standoff\":15},\"zerolinecolor\":\"white\",\"automargin\":true,\"zerolinewidth\":2},\"scene\":{\"xaxis\":{\"backgroundcolor\":\"#E5ECF6\",\"gridcolor\":\"white\",\"linecolor\":\"white\",\"showbackground\":true,\"ticks\":\"\",\"zerolinecolor\":\"white\",\"gridwidth\":2},\"yaxis\":{\"backgroundcolor\":\"#E5ECF6\",\"gridcolor\":\"white\",\"linecolor\":\"white\",\"showbackground\":true,\"ticks\":\"\",\"zerolinecolor\":\"white\",\"gridwidth\":2},\"zaxis\":{\"backgroundcolor\":\"#E5ECF6\",\"gridcolor\":\"white\",\"linecolor\":\"white\",\"showbackground\":true,\"ticks\":\"\",\"zerolinecolor\":\"white\",\"gridwidth\":2}},\"shapedefaults\":{\"line\":{\"color\":\"#2a3f5f\"}},\"annotationdefaults\":{\"arrowcolor\":\"#2a3f5f\",\"arrowhead\":0,\"arrowwidth\":1},\"geo\":{\"bgcolor\":\"white\",\"landcolor\":\"#E5ECF6\",\"subunitcolor\":\"white\",\"showland\":true,\"showlakes\":true,\"lakecolor\":\"white\"},\"title\":{\"x\":0.05},\"mapbox\":{\"style\":\"light\"}}},\"title\":{\"text\":\"Updating Parameter CES Predictions, 2024-10-05\"},\"xaxis\":{\"title\":{\"text\":\"Date\"}},\"yaxis\":{\"title\":{\"text\":\"Count\"}},\"hovermode\":\"x\"},                        {\"responsive\": true}                    ).then(function(){\n",
       "                            \n",
       "var gd = document.getElementById('34ea4999-97af-429d-862f-49902644741f');\n",
       "var x = new MutationObserver(function (mutations, observer) {{\n",
       "        var display = window.getComputedStyle(gd).display;\n",
       "        if (!display || display === 'none') {{\n",
       "            console.log([gd, 'removed!']);\n",
       "            Plotly.purge(gd);\n",
       "            observer.disconnect();\n",
       "        }}\n",
       "}});\n",
       "\n",
       "// Listen for the removal of the full notebook cells\n",
       "var notebookContainer = gd.closest('#notebook-container');\n",
       "if (notebookContainer) {{\n",
       "    x.observe(notebookContainer, {childList: true});\n",
       "}}\n",
       "\n",
       "// Listen for the clearing of the current output cell\n",
       "var outputEl = gd.closest('.output');\n",
       "if (outputEl) {{\n",
       "    x.observe(outputEl, {childList: true});\n",
       "}}\n",
       "\n",
       "                        })                };                });            </script>        </div>"
      ]
     },
     "metadata": {},
     "output_type": "display_data"
    },
    {
     "data": {
      "application/vnd.plotly.v1+json": {
       "config": {
        "plotlyServerURL": "https://plot.ly"
       },
       "data": [
        {
         "mode": "lines",
         "name": "Real Data",
         "type": "scatter",
         "x": [
          "2022-02-05T00:00:00",
          "2022-02-12T00:00:00",
          "2022-02-19T00:00:00",
          "2022-02-26T00:00:00",
          "2022-03-05T00:00:00",
          "2022-03-12T00:00:00",
          "2022-03-19T00:00:00",
          "2022-03-26T00:00:00",
          "2022-04-02T00:00:00",
          "2022-04-09T00:00:00",
          "2022-04-16T00:00:00",
          "2022-04-23T00:00:00",
          "2022-04-30T00:00:00",
          "2022-05-07T00:00:00",
          "2022-05-14T00:00:00",
          "2022-05-21T00:00:00",
          "2022-05-28T00:00:00",
          "2022-06-04T00:00:00",
          "2022-06-11T00:00:00",
          "2022-06-18T00:00:00",
          "2022-06-25T00:00:00",
          "2022-07-02T00:00:00",
          "2022-07-09T00:00:00",
          "2022-07-16T00:00:00",
          "2022-07-23T00:00:00",
          "2022-07-30T00:00:00",
          "2022-08-06T00:00:00",
          "2022-08-13T00:00:00",
          "2022-08-20T00:00:00",
          "2022-08-27T00:00:00",
          "2022-09-03T00:00:00",
          "2022-09-10T00:00:00",
          "2022-09-17T00:00:00",
          "2022-09-24T00:00:00",
          "2022-10-01T00:00:00",
          "2022-10-08T00:00:00",
          "2022-10-15T00:00:00",
          "2022-10-22T00:00:00",
          "2022-10-29T00:00:00",
          "2022-11-05T00:00:00",
          "2022-11-12T00:00:00",
          "2022-11-19T00:00:00",
          "2022-11-26T00:00:00",
          "2022-12-03T00:00:00",
          "2022-12-10T00:00:00",
          "2022-12-17T00:00:00",
          "2022-12-24T00:00:00",
          "2022-12-31T00:00:00",
          "2023-01-07T00:00:00",
          "2023-01-14T00:00:00",
          "2023-01-21T00:00:00",
          "2023-01-28T00:00:00",
          "2023-02-04T00:00:00",
          "2023-02-11T00:00:00",
          "2023-02-18T00:00:00",
          "2023-02-25T00:00:00",
          "2023-03-04T00:00:00",
          "2023-03-11T00:00:00",
          "2023-03-18T00:00:00",
          "2023-03-25T00:00:00",
          "2023-04-01T00:00:00",
          "2023-04-08T00:00:00",
          "2023-04-15T00:00:00",
          "2023-04-22T00:00:00",
          "2023-04-29T00:00:00",
          "2023-05-06T00:00:00",
          "2023-05-13T00:00:00",
          "2023-05-20T00:00:00",
          "2023-05-27T00:00:00",
          "2023-06-03T00:00:00",
          "2023-06-10T00:00:00",
          "2023-06-17T00:00:00",
          "2023-06-24T00:00:00",
          "2023-07-01T00:00:00",
          "2023-07-08T00:00:00",
          "2023-07-15T00:00:00",
          "2023-07-22T00:00:00",
          "2023-07-29T00:00:00",
          "2023-08-05T00:00:00",
          "2023-08-12T00:00:00",
          "2023-08-19T00:00:00",
          "2023-08-26T00:00:00",
          "2023-09-02T00:00:00",
          "2023-09-09T00:00:00",
          "2023-09-16T00:00:00",
          "2023-09-23T00:00:00",
          "2023-09-30T00:00:00",
          "2023-10-07T00:00:00",
          "2023-10-14T00:00:00",
          "2023-10-21T00:00:00",
          "2023-10-28T00:00:00",
          "2023-11-04T00:00:00",
          "2023-11-11T00:00:00",
          "2023-11-18T00:00:00",
          "2023-11-25T00:00:00",
          "2023-12-02T00:00:00",
          "2023-12-09T00:00:00",
          "2023-12-16T00:00:00",
          "2023-12-23T00:00:00",
          "2023-12-30T00:00:00",
          "2024-01-06T00:00:00",
          "2024-01-13T00:00:00",
          "2024-01-20T00:00:00",
          "2024-01-27T00:00:00",
          "2024-02-03T00:00:00",
          "2024-02-10T00:00:00",
          "2024-02-17T00:00:00",
          "2024-02-24T00:00:00",
          "2024-03-02T00:00:00",
          "2024-03-09T00:00:00",
          "2024-03-16T00:00:00",
          "2024-03-23T00:00:00",
          "2024-03-30T00:00:00",
          "2024-04-06T00:00:00",
          "2024-04-13T00:00:00",
          "2024-04-20T00:00:00",
          "2024-04-27T00:00:00",
          "2024-05-04T00:00:00",
          "2024-05-11T00:00:00",
          "2024-05-18T00:00:00",
          "2024-05-25T00:00:00",
          "2024-06-01T00:00:00",
          "2024-06-08T00:00:00",
          "2024-06-15T00:00:00",
          "2024-06-22T00:00:00",
          "2024-06-29T00:00:00",
          "2024-07-06T00:00:00",
          "2024-07-13T00:00:00",
          "2024-07-20T00:00:00",
          "2024-07-27T00:00:00",
          "2024-08-03T00:00:00",
          "2024-08-10T00:00:00",
          "2024-08-17T00:00:00",
          "2024-08-24T00:00:00",
          "2024-08-31T00:00:00",
          "2024-09-07T00:00:00",
          "2024-09-14T00:00:00",
          "2024-09-21T00:00:00",
          "2024-09-28T00:00:00",
          "2024-10-05T00:00:00",
          "2024-10-12T00:00:00",
          "2024-10-19T00:00:00",
          "2024-10-26T00:00:00",
          "2024-11-02T00:00:00",
          "2024-11-09T00:00:00",
          "2024-11-16T00:00:00",
          "2024-11-23T00:00:00",
          "2024-11-30T00:00:00",
          "2024-12-07T00:00:00",
          "2024-12-14T00:00:00",
          "2024-12-21T00:00:00",
          "2024-12-28T00:00:00",
          "2025-01-04T00:00:00",
          "2025-01-11T00:00:00",
          "2025-01-18T00:00:00",
          "2025-01-25T00:00:00",
          "2025-02-01T00:00:00",
          "2025-02-08T00:00:00",
          "2025-02-15T00:00:00",
          "2025-02-22T00:00:00",
          "2025-03-01T00:00:00",
          "2025-03-08T00:00:00",
          "2025-03-15T00:00:00",
          "2025-03-22T00:00:00",
          "2025-03-29T00:00:00",
          "2025-04-05T00:00:00"
         ],
         "y": [
          1091,
          1164,
          1493,
          1603,
          1791,
          2097,
          2625,
          2918,
          3008,
          3149,
          3308,
          3474,
          3182,
          3175,
          3119,
          3133,
          2738,
          2678,
          2210,
          1776,
          1366,
          1073,
          776,
          766,
          628,
          522,
          486,
          490,
          483,
          483,
          545,
          576,
          665,
          796,
          921,
          1316,
          1674,
          2292,
          4184,
          6408,
          8594,
          10971,
          18177,
          26834,
          24036,
          21612,
          19631,
          19479,
          14074,
          7185,
          4489,
          3091,
          2596,
          2177,
          1908,
          1647,
          1503,
          1372,
          1415,
          1331,
          1295,
          1198,
          1077,
          982,
          903,
          994,
          980,
          1116,
          974,
          939,
          935,
          873,
          813,
          836,
          699,
          736,
          645,
          771,
          690,
          706,
          738,
          793,
          875,
          804,
          821,
          881,
          1026,
          1110,
          1215,
          1470,
          1614,
          2014,
          2775,
          3491,
          4386,
          5955,
          7497,
          10273,
          15722,
          21682,
          19548,
          15905,
          13303,
          13025,
          11964,
          11629,
          11126,
          10870,
          10814,
          9416,
          7324,
          6049,
          5574,
          5071,
          4073,
          2943,
          2420,
          1485,
          852,
          682,
          611,
          591,
          511,
          518,
          441,
          356,
          342,
          367,
          325,
          273,
          275,
          275,
          275,
          274,
          262,
          223,
          319,
          293,
          223,
          287,
          295,
          553,
          1084,
          977,
          2081,
          2535,
          3099,
          4297,
          6307,
          9192,
          15467,
          27748,
          38767,
          30796,
          33020,
          40682,
          51337,
          54374,
          46244,
          37881,
          30807,
          23956,
          18384,
          13600,
          9597,
          6273
         ]
        },
        {
         "line": {
          "color": "#414487"
         },
         "mode": "lines",
         "name": "CES-hi-80",
         "type": "scatter",
         "x": [
          "2024-10-26T00:00:00",
          "2024-11-02T00:00:00",
          "2024-11-09T00:00:00",
          "2024-11-16T00:00:00"
         ],
         "y": [
          3502.9944824218755,
          4652.947070312502,
          5880.837402343751,
          7285.238085937502
         ]
        },
        {
         "line": {
          "color": "#1e9c89"
         },
         "mode": "lines",
         "name": "CES-hi-95",
         "type": "scatter",
         "x": [
          "2024-10-26T00:00:00",
          "2024-11-02T00:00:00",
          "2024-11-09T00:00:00",
          "2024-11-16T00:00:00"
         ],
         "y": [
          4600.78684082031,
          5817.571704101557,
          6962.80607910156,
          8358.3146484375
         ]
        },
        {
         "fill": "tonexty",
         "fillcolor": "#1e9c89",
         "line": {
          "color": "#1e9c89"
         },
         "mode": "lines",
         "name": "CES-lo-95",
         "type": "scatter",
         "x": [
          "2024-10-26T00:00:00",
          "2024-11-02T00:00:00",
          "2024-11-09T00:00:00",
          "2024-11-16T00:00:00"
         ],
         "y": [
          -1906.1317016601552,
          -746.7639953613278,
          729.3840011596692,
          2187.6818359375
         ]
        },
        {
         "fill": "tonexty",
         "fillcolor": "#414487",
         "line": {
          "color": "#414487"
         },
         "mode": "lines",
         "name": "CES-lo-80",
         "type": "scatter",
         "x": [
          "2024-10-26T00:00:00",
          "2024-11-02T00:00:00",
          "2024-11-09T00:00:00",
          "2024-11-16T00:00:00"
         ],
         "y": [
          -780.9642333984381,
          406.84175109863276,
          1796.2744506835936,
          3244.09912109375
         ]
        },
        {
         "line": {
          "color": "#2c728e"
         },
         "mode": "lines",
         "name": "CES",
         "type": "scatter",
         "x": [
          "2024-10-26T00:00:00",
          "2024-11-02T00:00:00",
          "2024-11-09T00:00:00",
          "2024-11-16T00:00:00"
         ],
         "y": [
          1359.859619140625,
          2545.4993896484375,
          3862.4854125976562,
          5286.75146484375
         ]
        }
       ],
       "layout": {
        "autosize": true,
        "hovermode": "x",
        "template": {
         "data": {
          "bar": [
           {
            "error_x": {
             "color": "#2a3f5f"
            },
            "error_y": {
             "color": "#2a3f5f"
            },
            "marker": {
             "line": {
              "color": "#E5ECF6",
              "width": 0.5
             },
             "pattern": {
              "fillmode": "overlay",
              "size": 10,
              "solidity": 0.2
             }
            },
            "type": "bar"
           }
          ],
          "barpolar": [
           {
            "marker": {
             "line": {
              "color": "#E5ECF6",
              "width": 0.5
             },
             "pattern": {
              "fillmode": "overlay",
              "size": 10,
              "solidity": 0.2
             }
            },
            "type": "barpolar"
           }
          ],
          "carpet": [
           {
            "aaxis": {
             "endlinecolor": "#2a3f5f",
             "gridcolor": "white",
             "linecolor": "white",
             "minorgridcolor": "white",
             "startlinecolor": "#2a3f5f"
            },
            "baxis": {
             "endlinecolor": "#2a3f5f",
             "gridcolor": "white",
             "linecolor": "white",
             "minorgridcolor": "white",
             "startlinecolor": "#2a3f5f"
            },
            "type": "carpet"
           }
          ],
          "choropleth": [
           {
            "colorbar": {
             "outlinewidth": 0,
             "ticks": ""
            },
            "type": "choropleth"
           }
          ],
          "contour": [
           {
            "colorbar": {
             "outlinewidth": 0,
             "ticks": ""
            },
            "colorscale": [
             [
              0,
              "#0d0887"
             ],
             [
              0.1111111111111111,
              "#46039f"
             ],
             [
              0.2222222222222222,
              "#7201a8"
             ],
             [
              0.3333333333333333,
              "#9c179e"
             ],
             [
              0.4444444444444444,
              "#bd3786"
             ],
             [
              0.5555555555555556,
              "#d8576b"
             ],
             [
              0.6666666666666666,
              "#ed7953"
             ],
             [
              0.7777777777777778,
              "#fb9f3a"
             ],
             [
              0.8888888888888888,
              "#fdca26"
             ],
             [
              1,
              "#f0f921"
             ]
            ],
            "type": "contour"
           }
          ],
          "contourcarpet": [
           {
            "colorbar": {
             "outlinewidth": 0,
             "ticks": ""
            },
            "type": "contourcarpet"
           }
          ],
          "heatmap": [
           {
            "colorbar": {
             "outlinewidth": 0,
             "ticks": ""
            },
            "colorscale": [
             [
              0,
              "#0d0887"
             ],
             [
              0.1111111111111111,
              "#46039f"
             ],
             [
              0.2222222222222222,
              "#7201a8"
             ],
             [
              0.3333333333333333,
              "#9c179e"
             ],
             [
              0.4444444444444444,
              "#bd3786"
             ],
             [
              0.5555555555555556,
              "#d8576b"
             ],
             [
              0.6666666666666666,
              "#ed7953"
             ],
             [
              0.7777777777777778,
              "#fb9f3a"
             ],
             [
              0.8888888888888888,
              "#fdca26"
             ],
             [
              1,
              "#f0f921"
             ]
            ],
            "type": "heatmap"
           }
          ],
          "heatmapgl": [
           {
            "colorbar": {
             "outlinewidth": 0,
             "ticks": ""
            },
            "colorscale": [
             [
              0,
              "#0d0887"
             ],
             [
              0.1111111111111111,
              "#46039f"
             ],
             [
              0.2222222222222222,
              "#7201a8"
             ],
             [
              0.3333333333333333,
              "#9c179e"
             ],
             [
              0.4444444444444444,
              "#bd3786"
             ],
             [
              0.5555555555555556,
              "#d8576b"
             ],
             [
              0.6666666666666666,
              "#ed7953"
             ],
             [
              0.7777777777777778,
              "#fb9f3a"
             ],
             [
              0.8888888888888888,
              "#fdca26"
             ],
             [
              1,
              "#f0f921"
             ]
            ],
            "type": "heatmapgl"
           }
          ],
          "histogram": [
           {
            "marker": {
             "pattern": {
              "fillmode": "overlay",
              "size": 10,
              "solidity": 0.2
             }
            },
            "type": "histogram"
           }
          ],
          "histogram2d": [
           {
            "colorbar": {
             "outlinewidth": 0,
             "ticks": ""
            },
            "colorscale": [
             [
              0,
              "#0d0887"
             ],
             [
              0.1111111111111111,
              "#46039f"
             ],
             [
              0.2222222222222222,
              "#7201a8"
             ],
             [
              0.3333333333333333,
              "#9c179e"
             ],
             [
              0.4444444444444444,
              "#bd3786"
             ],
             [
              0.5555555555555556,
              "#d8576b"
             ],
             [
              0.6666666666666666,
              "#ed7953"
             ],
             [
              0.7777777777777778,
              "#fb9f3a"
             ],
             [
              0.8888888888888888,
              "#fdca26"
             ],
             [
              1,
              "#f0f921"
             ]
            ],
            "type": "histogram2d"
           }
          ],
          "histogram2dcontour": [
           {
            "colorbar": {
             "outlinewidth": 0,
             "ticks": ""
            },
            "colorscale": [
             [
              0,
              "#0d0887"
             ],
             [
              0.1111111111111111,
              "#46039f"
             ],
             [
              0.2222222222222222,
              "#7201a8"
             ],
             [
              0.3333333333333333,
              "#9c179e"
             ],
             [
              0.4444444444444444,
              "#bd3786"
             ],
             [
              0.5555555555555556,
              "#d8576b"
             ],
             [
              0.6666666666666666,
              "#ed7953"
             ],
             [
              0.7777777777777778,
              "#fb9f3a"
             ],
             [
              0.8888888888888888,
              "#fdca26"
             ],
             [
              1,
              "#f0f921"
             ]
            ],
            "type": "histogram2dcontour"
           }
          ],
          "mesh3d": [
           {
            "colorbar": {
             "outlinewidth": 0,
             "ticks": ""
            },
            "type": "mesh3d"
           }
          ],
          "parcoords": [
           {
            "line": {
             "colorbar": {
              "outlinewidth": 0,
              "ticks": ""
             }
            },
            "type": "parcoords"
           }
          ],
          "pie": [
           {
            "automargin": true,
            "type": "pie"
           }
          ],
          "scatter": [
           {
            "fillpattern": {
             "fillmode": "overlay",
             "size": 10,
             "solidity": 0.2
            },
            "type": "scatter"
           }
          ],
          "scatter3d": [
           {
            "line": {
             "colorbar": {
              "outlinewidth": 0,
              "ticks": ""
             }
            },
            "marker": {
             "colorbar": {
              "outlinewidth": 0,
              "ticks": ""
             }
            },
            "type": "scatter3d"
           }
          ],
          "scattercarpet": [
           {
            "marker": {
             "colorbar": {
              "outlinewidth": 0,
              "ticks": ""
             }
            },
            "type": "scattercarpet"
           }
          ],
          "scattergeo": [
           {
            "marker": {
             "colorbar": {
              "outlinewidth": 0,
              "ticks": ""
             }
            },
            "type": "scattergeo"
           }
          ],
          "scattergl": [
           {
            "marker": {
             "colorbar": {
              "outlinewidth": 0,
              "ticks": ""
             }
            },
            "type": "scattergl"
           }
          ],
          "scattermapbox": [
           {
            "marker": {
             "colorbar": {
              "outlinewidth": 0,
              "ticks": ""
             }
            },
            "type": "scattermapbox"
           }
          ],
          "scatterpolar": [
           {
            "marker": {
             "colorbar": {
              "outlinewidth": 0,
              "ticks": ""
             }
            },
            "type": "scatterpolar"
           }
          ],
          "scatterpolargl": [
           {
            "marker": {
             "colorbar": {
              "outlinewidth": 0,
              "ticks": ""
             }
            },
            "type": "scatterpolargl"
           }
          ],
          "scatterternary": [
           {
            "marker": {
             "colorbar": {
              "outlinewidth": 0,
              "ticks": ""
             }
            },
            "type": "scatterternary"
           }
          ],
          "surface": [
           {
            "colorbar": {
             "outlinewidth": 0,
             "ticks": ""
            },
            "colorscale": [
             [
              0,
              "#0d0887"
             ],
             [
              0.1111111111111111,
              "#46039f"
             ],
             [
              0.2222222222222222,
              "#7201a8"
             ],
             [
              0.3333333333333333,
              "#9c179e"
             ],
             [
              0.4444444444444444,
              "#bd3786"
             ],
             [
              0.5555555555555556,
              "#d8576b"
             ],
             [
              0.6666666666666666,
              "#ed7953"
             ],
             [
              0.7777777777777778,
              "#fb9f3a"
             ],
             [
              0.8888888888888888,
              "#fdca26"
             ],
             [
              1,
              "#f0f921"
             ]
            ],
            "type": "surface"
           }
          ],
          "table": [
           {
            "cells": {
             "fill": {
              "color": "#EBF0F8"
             },
             "line": {
              "color": "white"
             }
            },
            "header": {
             "fill": {
              "color": "#C8D4E3"
             },
             "line": {
              "color": "white"
             }
            },
            "type": "table"
           }
          ]
         },
         "layout": {
          "annotationdefaults": {
           "arrowcolor": "#2a3f5f",
           "arrowhead": 0,
           "arrowwidth": 1
          },
          "autotypenumbers": "strict",
          "coloraxis": {
           "colorbar": {
            "outlinewidth": 0,
            "ticks": ""
           }
          },
          "colorscale": {
           "diverging": [
            [
             0,
             "#8e0152"
            ],
            [
             0.1,
             "#c51b7d"
            ],
            [
             0.2,
             "#de77ae"
            ],
            [
             0.3,
             "#f1b6da"
            ],
            [
             0.4,
             "#fde0ef"
            ],
            [
             0.5,
             "#f7f7f7"
            ],
            [
             0.6,
             "#e6f5d0"
            ],
            [
             0.7,
             "#b8e186"
            ],
            [
             0.8,
             "#7fbc41"
            ],
            [
             0.9,
             "#4d9221"
            ],
            [
             1,
             "#276419"
            ]
           ],
           "sequential": [
            [
             0,
             "#0d0887"
            ],
            [
             0.1111111111111111,
             "#46039f"
            ],
            [
             0.2222222222222222,
             "#7201a8"
            ],
            [
             0.3333333333333333,
             "#9c179e"
            ],
            [
             0.4444444444444444,
             "#bd3786"
            ],
            [
             0.5555555555555556,
             "#d8576b"
            ],
            [
             0.6666666666666666,
             "#ed7953"
            ],
            [
             0.7777777777777778,
             "#fb9f3a"
            ],
            [
             0.8888888888888888,
             "#fdca26"
            ],
            [
             1,
             "#f0f921"
            ]
           ],
           "sequentialminus": [
            [
             0,
             "#0d0887"
            ],
            [
             0.1111111111111111,
             "#46039f"
            ],
            [
             0.2222222222222222,
             "#7201a8"
            ],
            [
             0.3333333333333333,
             "#9c179e"
            ],
            [
             0.4444444444444444,
             "#bd3786"
            ],
            [
             0.5555555555555556,
             "#d8576b"
            ],
            [
             0.6666666666666666,
             "#ed7953"
            ],
            [
             0.7777777777777778,
             "#fb9f3a"
            ],
            [
             0.8888888888888888,
             "#fdca26"
            ],
            [
             1,
             "#f0f921"
            ]
           ]
          },
          "colorway": [
           "#636efa",
           "#EF553B",
           "#00cc96",
           "#ab63fa",
           "#FFA15A",
           "#19d3f3",
           "#FF6692",
           "#B6E880",
           "#FF97FF",
           "#FECB52"
          ],
          "font": {
           "color": "#2a3f5f"
          },
          "geo": {
           "bgcolor": "white",
           "lakecolor": "white",
           "landcolor": "#E5ECF6",
           "showlakes": true,
           "showland": true,
           "subunitcolor": "white"
          },
          "hoverlabel": {
           "align": "left"
          },
          "hovermode": "closest",
          "mapbox": {
           "style": "light"
          },
          "paper_bgcolor": "white",
          "plot_bgcolor": "#E5ECF6",
          "polar": {
           "angularaxis": {
            "gridcolor": "white",
            "linecolor": "white",
            "ticks": ""
           },
           "bgcolor": "#E5ECF6",
           "radialaxis": {
            "gridcolor": "white",
            "linecolor": "white",
            "ticks": ""
           }
          },
          "scene": {
           "xaxis": {
            "backgroundcolor": "#E5ECF6",
            "gridcolor": "white",
            "gridwidth": 2,
            "linecolor": "white",
            "showbackground": true,
            "ticks": "",
            "zerolinecolor": "white"
           },
           "yaxis": {
            "backgroundcolor": "#E5ECF6",
            "gridcolor": "white",
            "gridwidth": 2,
            "linecolor": "white",
            "showbackground": true,
            "ticks": "",
            "zerolinecolor": "white"
           },
           "zaxis": {
            "backgroundcolor": "#E5ECF6",
            "gridcolor": "white",
            "gridwidth": 2,
            "linecolor": "white",
            "showbackground": true,
            "ticks": "",
            "zerolinecolor": "white"
           }
          },
          "shapedefaults": {
           "line": {
            "color": "#2a3f5f"
           }
          },
          "ternary": {
           "aaxis": {
            "gridcolor": "white",
            "linecolor": "white",
            "ticks": ""
           },
           "baxis": {
            "gridcolor": "white",
            "linecolor": "white",
            "ticks": ""
           },
           "bgcolor": "#E5ECF6",
           "caxis": {
            "gridcolor": "white",
            "linecolor": "white",
            "ticks": ""
           }
          },
          "title": {
           "x": 0.05
          },
          "xaxis": {
           "automargin": true,
           "gridcolor": "white",
           "linecolor": "white",
           "ticks": "",
           "title": {
            "standoff": 15
           },
           "zerolinecolor": "white",
           "zerolinewidth": 2
          },
          "yaxis": {
           "automargin": true,
           "gridcolor": "white",
           "linecolor": "white",
           "ticks": "",
           "title": {
            "standoff": 15
           },
           "zerolinecolor": "white",
           "zerolinewidth": 2
          }
         }
        },
        "title": {
         "text": "Updating Parameter CES Predictions, 2024-10-19"
        },
        "xaxis": {
         "autorange": true,
         "range": [
          "2022-02-05",
          "2025-04-05"
         ],
         "title": {
          "text": "Date"
         },
         "type": "date"
        },
        "yaxis": {
         "autorange": true,
         "range": [
          -5032.805685085719,
          57500.673983425564
         ],
         "title": {
          "text": "Count"
         },
         "type": "linear"
        }
       }
      },
      "image/png": "[encoded data removed]",
      "text/html": [
       "<div>                            <div id=\"28699b8c-94a8-482e-a555-21183fbcedc8\" class=\"plotly-graph-div\" style=\"height:525px; width:100%;\"></div>            <script type=\"text/javascript\">                require([\"plotly\"], function(Plotly) {                    window.PLOTLYENV=window.PLOTLYENV || {};                                    if (document.getElementById(\"28699b8c-94a8-482e-a555-21183fbcedc8\")) {                    Plotly.newPlot(                        \"28699b8c-94a8-482e-a555-21183fbcedc8\",                        [{\"mode\":\"lines\",\"name\":\"Real Data\",\"x\":[\"2022-02-05T00:00:00\",\"2022-02-12T00:00:00\",\"2022-02-19T00:00:00\",\"2022-02-26T00:00:00\",\"2022-03-05T00:00:00\",\"2022-03-12T00:00:00\",\"2022-03-19T00:00:00\",\"2022-03-26T00:00:00\",\"2022-04-02T00:00:00\",\"2022-04-09T00:00:00\",\"2022-04-16T00:00:00\",\"2022-04-23T00:00:00\",\"2022-04-30T00:00:00\",\"2022-05-07T00:00:00\",\"2022-05-14T00:00:00\",\"2022-05-21T00:00:00\",\"2022-05-28T00:00:00\",\"2022-06-04T00:00:00\",\"2022-06-11T00:00:00\",\"2022-06-18T00:00:00\",\"2022-06-25T00:00:00\",\"2022-07-02T00:00:00\",\"2022-07-09T00:00:00\",\"2022-07-16T00:00:00\",\"2022-07-23T00:00:00\",\"2022-07-30T00:00:00\",\"2022-08-06T00:00:00\",\"2022-08-13T00:00:00\",\"2022-08-20T00:00:00\",\"2022-08-27T00:00:00\",\"2022-09-03T00:00:00\",\"2022-09-10T00:00:00\",\"2022-09-17T00:00:00\",\"2022-09-24T00:00:00\",\"2022-10-01T00:00:00\",\"2022-10-08T00:00:00\",\"2022-10-15T00:00:00\",\"2022-10-22T00:00:00\",\"2022-10-29T00:00:00\",\"2022-11-05T00:00:00\",\"2022-11-12T00:00:00\",\"2022-11-19T00:00:00\",\"2022-11-26T00:00:00\",\"2022-12-03T00:00:00\",\"2022-12-10T00:00:00\",\"2022-12-17T00:00:00\",\"2022-12-24T00:00:00\",\"2022-12-31T00:00:00\",\"2023-01-07T00:00:00\",\"2023-01-14T00:00:00\",\"2023-01-21T00:00:00\",\"2023-01-28T00:00:00\",\"2023-02-04T00:00:00\",\"2023-02-11T00:00:00\",\"2023-02-18T00:00:00\",\"2023-02-25T00:00:00\",\"2023-03-04T00:00:00\",\"2023-03-11T00:00:00\",\"2023-03-18T00:00:00\",\"2023-03-25T00:00:00\",\"2023-04-01T00:00:00\",\"2023-04-08T00:00:00\",\"2023-04-15T00:00:00\",\"2023-04-22T00:00:00\",\"2023-04-29T00:00:00\",\"2023-05-06T00:00:00\",\"2023-05-13T00:00:00\",\"2023-05-20T00:00:00\",\"2023-05-27T00:00:00\",\"2023-06-03T00:00:00\",\"2023-06-10T00:00:00\",\"2023-06-17T00:00:00\",\"2023-06-24T00:00:00\",\"2023-07-01T00:00:00\",\"2023-07-08T00:00:00\",\"2023-07-15T00:00:00\",\"2023-07-22T00:00:00\",\"2023-07-29T00:00:00\",\"2023-08-05T00:00:00\",\"2023-08-12T00:00:00\",\"2023-08-19T00:00:00\",\"2023-08-26T00:00:00\",\"2023-09-02T00:00:00\",\"2023-09-09T00:00:00\",\"2023-09-16T00:00:00\",\"2023-09-23T00:00:00\",\"2023-09-30T00:00:00\",\"2023-10-07T00:00:00\",\"2023-10-14T00:00:00\",\"2023-10-21T00:00:00\",\"2023-10-28T00:00:00\",\"2023-11-04T00:00:00\",\"2023-11-11T00:00:00\",\"2023-11-18T00:00:00\",\"2023-11-25T00:00:00\",\"2023-12-02T00:00:00\",\"2023-12-09T00:00:00\",\"2023-12-16T00:00:00\",\"2023-12-23T00:00:00\",\"2023-12-30T00:00:00\",\"2024-01-06T00:00:00\",\"2024-01-13T00:00:00\",\"2024-01-20T00:00:00\",\"2024-01-27T00:00:00\",\"2024-02-03T00:00:00\",\"2024-02-10T00:00:00\",\"2024-02-17T00:00:00\",\"2024-02-24T00:00:00\",\"2024-03-02T00:00:00\",\"2024-03-09T00:00:00\",\"2024-03-16T00:00:00\",\"2024-03-23T00:00:00\",\"2024-03-30T00:00:00\",\"2024-04-06T00:00:00\",\"2024-04-13T00:00:00\",\"2024-04-20T00:00:00\",\"2024-04-27T00:00:00\",\"2024-05-04T00:00:00\",\"2024-05-11T00:00:00\",\"2024-05-18T00:00:00\",\"2024-05-25T00:00:00\",\"2024-06-01T00:00:00\",\"2024-06-08T00:00:00\",\"2024-06-15T00:00:00\",\"2024-06-22T00:00:00\",\"2024-06-29T00:00:00\",\"2024-07-06T00:00:00\",\"2024-07-13T00:00:00\",\"2024-07-20T00:00:00\",\"2024-07-27T00:00:00\",\"2024-08-03T00:00:00\",\"2024-08-10T00:00:00\",\"2024-08-17T00:00:00\",\"2024-08-24T00:00:00\",\"2024-08-31T00:00:00\",\"2024-09-07T00:00:00\",\"2024-09-14T00:00:00\",\"2024-09-21T00:00:00\",\"2024-09-28T00:00:00\",\"2024-10-05T00:00:00\",\"2024-10-12T00:00:00\",\"2024-10-19T00:00:00\",\"2024-10-26T00:00:00\",\"2024-11-02T00:00:00\",\"2024-11-09T00:00:00\",\"2024-11-16T00:00:00\",\"2024-11-23T00:00:00\",\"2024-11-30T00:00:00\",\"2024-12-07T00:00:00\",\"2024-12-14T00:00:00\",\"2024-12-21T00:00:00\",\"2024-12-28T00:00:00\",\"2025-01-04T00:00:00\",\"2025-01-11T00:00:00\",\"2025-01-18T00:00:00\",\"2025-01-25T00:00:00\",\"2025-02-01T00:00:00\",\"2025-02-08T00:00:00\",\"2025-02-15T00:00:00\",\"2025-02-22T00:00:00\",\"2025-03-01T00:00:00\",\"2025-03-08T00:00:00\",\"2025-03-15T00:00:00\",\"2025-03-22T00:00:00\",\"2025-03-29T00:00:00\",\"2025-04-05T00:00:00\"],\"y\":[1091.0,1164.0,1493.0,1603.0,1791.0,2097.0,2625.0,2918.0,3008.0,3149.0,3308.0,3474.0,3182.0,3175.0,3119.0,3133.0,2738.0,2678.0,2210.0,1776.0,1366.0,1073.0,776.0,766.0,628.0,522.0,486.0,490.0,483.0,483.0,545.0,576.0,665.0,796.0,921.0,1316.0,1674.0,2292.0,4184.0,6408.0,8594.0,10971.0,18177.0,26834.0,24036.0,21612.0,19631.0,19479.0,14074.0,7185.0,4489.0,3091.0,2596.0,2177.0,1908.0,1647.0,1503.0,1372.0,1415.0,1331.0,1295.0,1198.0,1077.0,982.0,903.0,994.0,980.0,1116.0,974.0,939.0,935.0,873.0,813.0,836.0,699.0,736.0,645.0,771.0,690.0,706.0,738.0,793.0,875.0,804.0,821.0,881.0,1026.0,1110.0,1215.0,1470.0,1614.0,2014.0,2775.0,3491.0,4386.0,5955.0,7497.0,10273.0,15722.0,21682.0,19548.0,15905.0,13303.0,13025.0,11964.0,11629.0,11126.0,10870.0,10814.0,9416.0,7324.0,6049.0,5574.0,5071.0,4073.0,2943.0,2420.0,1485.0,852.0,682.0,611.0,591.0,511.0,518.0,441.0,356.0,342.0,367.0,325.0,273.0,275.0,275.0,275.0,274.0,262.0,223.0,319.0,293.0,223.0,287.0,295.0,553.0,1084.0,977.0,2081.0,2535.0,3099.0,4297.0,6307.0,9192.0,15467.0,27748.0,38767.0,30796.0,33020.0,40682.0,51337.0,54374.0,46244.0,37881.0,30807.0,23956.0,18384.0,13600.0,9597.0,6273.0],\"type\":\"scatter\"},{\"line\":{\"color\":\"#414487\"},\"mode\":\"lines\",\"name\":\"CES-hi-80\",\"x\":[\"2024-10-26T00:00:00\",\"2024-11-02T00:00:00\",\"2024-11-09T00:00:00\",\"2024-11-16T00:00:00\"],\"y\":[3502.9944824218755,4652.947070312502,5880.837402343751,7285.238085937502],\"type\":\"scatter\"},{\"line\":{\"color\":\"#1e9c89\"},\"mode\":\"lines\",\"name\":\"CES-hi-95\",\"x\":[\"2024-10-26T00:00:00\",\"2024-11-02T00:00:00\",\"2024-11-09T00:00:00\",\"2024-11-16T00:00:00\"],\"y\":[4600.78684082031,5817.571704101557,6962.80607910156,8358.3146484375],\"type\":\"scatter\"},{\"fill\":\"tonexty\",\"fillcolor\":\"#1e9c89\",\"line\":{\"color\":\"#1e9c89\"},\"mode\":\"lines\",\"name\":\"CES-lo-95\",\"x\":[\"2024-10-26T00:00:00\",\"2024-11-02T00:00:00\",\"2024-11-09T00:00:00\",\"2024-11-16T00:00:00\"],\"y\":[-1906.1317016601552,-746.7639953613278,729.3840011596692,2187.6818359375],\"type\":\"scatter\"},{\"fill\":\"tonexty\",\"fillcolor\":\"#414487\",\"line\":{\"color\":\"#414487\"},\"mode\":\"lines\",\"name\":\"CES-lo-80\",\"x\":[\"2024-10-26T00:00:00\",\"2024-11-02T00:00:00\",\"2024-11-09T00:00:00\",\"2024-11-16T00:00:00\"],\"y\":[-780.9642333984381,406.84175109863276,1796.2744506835936,3244.09912109375],\"type\":\"scatter\"},{\"line\":{\"color\":\"#2c728e\"},\"mode\":\"lines\",\"name\":\"CES\",\"x\":[\"2024-10-26T00:00:00\",\"2024-11-02T00:00:00\",\"2024-11-09T00:00:00\",\"2024-11-16T00:00:00\"],\"y\":[1359.859619140625,2545.4993896484375,3862.4854125976562,5286.75146484375],\"type\":\"scatter\"}],                        {\"template\":{\"data\":{\"histogram2dcontour\":[{\"type\":\"histogram2dcontour\",\"colorbar\":{\"outlinewidth\":0,\"ticks\":\"\"},\"colorscale\":[[0.0,\"#0d0887\"],[0.1111111111111111,\"#46039f\"],[0.2222222222222222,\"#7201a8\"],[0.3333333333333333,\"#9c179e\"],[0.4444444444444444,\"#bd3786\"],[0.5555555555555556,\"#d8576b\"],[0.6666666666666666,\"#ed7953\"],[0.7777777777777778,\"#fb9f3a\"],[0.8888888888888888,\"#fdca26\"],[1.0,\"#f0f921\"]]}],\"choropleth\":[{\"type\":\"choropleth\",\"colorbar\":{\"outlinewidth\":0,\"ticks\":\"\"}}],\"histogram2d\":[{\"type\":\"histogram2d\",\"colorbar\":{\"outlinewidth\":0,\"ticks\":\"\"},\"colorscale\":[[0.0,\"#0d0887\"],[0.1111111111111111,\"#46039f\"],[0.2222222222222222,\"#7201a8\"],[0.3333333333333333,\"#9c179e\"],[0.4444444444444444,\"#bd3786\"],[0.5555555555555556,\"#d8576b\"],[0.6666666666666666,\"#ed7953\"],[0.7777777777777778,\"#fb9f3a\"],[0.8888888888888888,\"#fdca26\"],[1.0,\"#f0f921\"]]}],\"heatmap\":[{\"type\":\"heatmap\",\"colorbar\":{\"outlinewidth\":0,\"ticks\":\"\"},\"colorscale\":[[0.0,\"#0d0887\"],[0.1111111111111111,\"#46039f\"],[0.2222222222222222,\"#7201a8\"],[0.3333333333333333,\"#9c179e\"],[0.4444444444444444,\"#bd3786\"],[0.5555555555555556,\"#d8576b\"],[0.6666666666666666,\"#ed7953\"],[0.7777777777777778,\"#fb9f3a\"],[0.8888888888888888,\"#fdca26\"],[1.0,\"#f0f921\"]]}],\"heatmapgl\":[{\"type\":\"heatmapgl\",\"colorbar\":{\"outlinewidth\":0,\"ticks\":\"\"},\"colorscale\":[[0.0,\"#0d0887\"],[0.1111111111111111,\"#46039f\"],[0.2222222222222222,\"#7201a8\"],[0.3333333333333333,\"#9c179e\"],[0.4444444444444444,\"#bd3786\"],[0.5555555555555556,\"#d8576b\"],[0.6666666666666666,\"#ed7953\"],[0.7777777777777778,\"#fb9f3a\"],[0.8888888888888888,\"#fdca26\"],[1.0,\"#f0f921\"]]}],\"contourcarpet\":[{\"type\":\"contourcarpet\",\"colorbar\":{\"outlinewidth\":0,\"ticks\":\"\"}}],\"contour\":[{\"type\":\"contour\",\"colorbar\":{\"outlinewidth\":0,\"ticks\":\"\"},\"colorscale\":[[0.0,\"#0d0887\"],[0.1111111111111111,\"#46039f\"],[0.2222222222222222,\"#7201a8\"],[0.3333333333333333,\"#9c179e\"],[0.4444444444444444,\"#bd3786\"],[0.5555555555555556,\"#d8576b\"],[0.6666666666666666,\"#ed7953\"],[0.7777777777777778,\"#fb9f3a\"],[0.8888888888888888,\"#fdca26\"],[1.0,\"#f0f921\"]]}],\"surface\":[{\"type\":\"surface\",\"colorbar\":{\"outlinewidth\":0,\"ticks\":\"\"},\"colorscale\":[[0.0,\"#0d0887\"],[0.1111111111111111,\"#46039f\"],[0.2222222222222222,\"#7201a8\"],[0.3333333333333333,\"#9c179e\"],[0.4444444444444444,\"#bd3786\"],[0.5555555555555556,\"#d8576b\"],[0.6666666666666666,\"#ed7953\"],[0.7777777777777778,\"#fb9f3a\"],[0.8888888888888888,\"#fdca26\"],[1.0,\"#f0f921\"]]}],\"mesh3d\":[{\"type\":\"mesh3d\",\"colorbar\":{\"outlinewidth\":0,\"ticks\":\"\"}}],\"scatter\":[{\"fillpattern\":{\"fillmode\":\"overlay\",\"size\":10,\"solidity\":0.2},\"type\":\"scatter\"}],\"parcoords\":[{\"type\":\"parcoords\",\"line\":{\"colorbar\":{\"outlinewidth\":0,\"ticks\":\"\"}}}],\"scatterpolargl\":[{\"type\":\"scatterpolargl\",\"marker\":{\"colorbar\":{\"outlinewidth\":0,\"ticks\":\"\"}}}],\"bar\":[{\"error_x\":{\"color\":\"#2a3f5f\"},\"error_y\":{\"color\":\"#2a3f5f\"},\"marker\":{\"line\":{\"color\":\"#E5ECF6\",\"width\":0.5},\"pattern\":{\"fillmode\":\"overlay\",\"size\":10,\"solidity\":0.2}},\"type\":\"bar\"}],\"scattergeo\":[{\"type\":\"scattergeo\",\"marker\":{\"colorbar\":{\"outlinewidth\":0,\"ticks\":\"\"}}}],\"scatterpolar\":[{\"type\":\"scatterpolar\",\"marker\":{\"colorbar\":{\"outlinewidth\":0,\"ticks\":\"\"}}}],\"histogram\":[{\"marker\":{\"pattern\":{\"fillmode\":\"overlay\",\"size\":10,\"solidity\":0.2}},\"type\":\"histogram\"}],\"scattergl\":[{\"type\":\"scattergl\",\"marker\":{\"colorbar\":{\"outlinewidth\":0,\"ticks\":\"\"}}}],\"scatter3d\":[{\"type\":\"scatter3d\",\"line\":{\"colorbar\":{\"outlinewidth\":0,\"ticks\":\"\"}},\"marker\":{\"colorbar\":{\"outlinewidth\":0,\"ticks\":\"\"}}}],\"scattermapbox\":[{\"type\":\"scattermapbox\",\"marker\":{\"colorbar\":{\"outlinewidth\":0,\"ticks\":\"\"}}}],\"scatterternary\":[{\"type\":\"scatterternary\",\"marker\":{\"colorbar\":{\"outlinewidth\":0,\"ticks\":\"\"}}}],\"scattercarpet\":[{\"type\":\"scattercarpet\",\"marker\":{\"colorbar\":{\"outlinewidth\":0,\"ticks\":\"\"}}}],\"carpet\":[{\"aaxis\":{\"endlinecolor\":\"#2a3f5f\",\"gridcolor\":\"white\",\"linecolor\":\"white\",\"minorgridcolor\":\"white\",\"startlinecolor\":\"#2a3f5f\"},\"baxis\":{\"endlinecolor\":\"#2a3f5f\",\"gridcolor\":\"white\",\"linecolor\":\"white\",\"minorgridcolor\":\"white\",\"startlinecolor\":\"#2a3f5f\"},\"type\":\"carpet\"}],\"table\":[{\"cells\":{\"fill\":{\"color\":\"#EBF0F8\"},\"line\":{\"color\":\"white\"}},\"header\":{\"fill\":{\"color\":\"#C8D4E3\"},\"line\":{\"color\":\"white\"}},\"type\":\"table\"}],\"barpolar\":[{\"marker\":{\"line\":{\"color\":\"#E5ECF6\",\"width\":0.5},\"pattern\":{\"fillmode\":\"overlay\",\"size\":10,\"solidity\":0.2}},\"type\":\"barpolar\"}],\"pie\":[{\"automargin\":true,\"type\":\"pie\"}]},\"layout\":{\"autotypenumbers\":\"strict\",\"colorway\":[\"#636efa\",\"#EF553B\",\"#00cc96\",\"#ab63fa\",\"#FFA15A\",\"#19d3f3\",\"#FF6692\",\"#B6E880\",\"#FF97FF\",\"#FECB52\"],\"font\":{\"color\":\"#2a3f5f\"},\"hovermode\":\"closest\",\"hoverlabel\":{\"align\":\"left\"},\"paper_bgcolor\":\"white\",\"plot_bgcolor\":\"#E5ECF6\",\"polar\":{\"bgcolor\":\"#E5ECF6\",\"angularaxis\":{\"gridcolor\":\"white\",\"linecolor\":\"white\",\"ticks\":\"\"},\"radialaxis\":{\"gridcolor\":\"white\",\"linecolor\":\"white\",\"ticks\":\"\"}},\"ternary\":{\"bgcolor\":\"#E5ECF6\",\"aaxis\":{\"gridcolor\":\"white\",\"linecolor\":\"white\",\"ticks\":\"\"},\"baxis\":{\"gridcolor\":\"white\",\"linecolor\":\"white\",\"ticks\":\"\"},\"caxis\":{\"gridcolor\":\"white\",\"linecolor\":\"white\",\"ticks\":\"\"}},\"coloraxis\":{\"colorbar\":{\"outlinewidth\":0,\"ticks\":\"\"}},\"colorscale\":{\"sequential\":[[0.0,\"#0d0887\"],[0.1111111111111111,\"#46039f\"],[0.2222222222222222,\"#7201a8\"],[0.3333333333333333,\"#9c179e\"],[0.4444444444444444,\"#bd3786\"],[0.5555555555555556,\"#d8576b\"],[0.6666666666666666,\"#ed7953\"],[0.7777777777777778,\"#fb9f3a\"],[0.8888888888888888,\"#fdca26\"],[1.0,\"#f0f921\"]],\"sequentialminus\":[[0.0,\"#0d0887\"],[0.1111111111111111,\"#46039f\"],[0.2222222222222222,\"#7201a8\"],[0.3333333333333333,\"#9c179e\"],[0.4444444444444444,\"#bd3786\"],[0.5555555555555556,\"#d8576b\"],[0.6666666666666666,\"#ed7953\"],[0.7777777777777778,\"#fb9f3a\"],[0.8888888888888888,\"#fdca26\"],[1.0,\"#f0f921\"]],\"diverging\":[[0,\"#8e0152\"],[0.1,\"#c51b7d\"],[0.2,\"#de77ae\"],[0.3,\"#f1b6da\"],[0.4,\"#fde0ef\"],[0.5,\"#f7f7f7\"],[0.6,\"#e6f5d0\"],[0.7,\"#b8e186\"],[0.8,\"#7fbc41\"],[0.9,\"#4d9221\"],[1,\"#276419\"]]},\"xaxis\":{\"gridcolor\":\"white\",\"linecolor\":\"white\",\"ticks\":\"\",\"title\":{\"standoff\":15},\"zerolinecolor\":\"white\",\"automargin\":true,\"zerolinewidth\":2},\"yaxis\":{\"gridcolor\":\"white\",\"linecolor\":\"white\",\"ticks\":\"\",\"title\":{\"standoff\":15},\"zerolinecolor\":\"white\",\"automargin\":true,\"zerolinewidth\":2},\"scene\":{\"xaxis\":{\"backgroundcolor\":\"#E5ECF6\",\"gridcolor\":\"white\",\"linecolor\":\"white\",\"showbackground\":true,\"ticks\":\"\",\"zerolinecolor\":\"white\",\"gridwidth\":2},\"yaxis\":{\"backgroundcolor\":\"#E5ECF6\",\"gridcolor\":\"white\",\"linecolor\":\"white\",\"showbackground\":true,\"ticks\":\"\",\"zerolinecolor\":\"white\",\"gridwidth\":2},\"zaxis\":{\"backgroundcolor\":\"#E5ECF6\",\"gridcolor\":\"white\",\"linecolor\":\"white\",\"showbackground\":true,\"ticks\":\"\",\"zerolinecolor\":\"white\",\"gridwidth\":2}},\"shapedefaults\":{\"line\":{\"color\":\"#2a3f5f\"}},\"annotationdefaults\":{\"arrowcolor\":\"#2a3f5f\",\"arrowhead\":0,\"arrowwidth\":1},\"geo\":{\"bgcolor\":\"white\",\"landcolor\":\"#E5ECF6\",\"subunitcolor\":\"white\",\"showland\":true,\"showlakes\":true,\"lakecolor\":\"white\"},\"title\":{\"x\":0.05},\"mapbox\":{\"style\":\"light\"}}},\"title\":{\"text\":\"Updating Parameter CES Predictions, 2024-10-19\"},\"xaxis\":{\"title\":{\"text\":\"Date\"}},\"yaxis\":{\"title\":{\"text\":\"Count\"}},\"hovermode\":\"x\"},                        {\"responsive\": true}                    ).then(function(){\n",
       "                            \n",
       "var gd = document.getElementById('28699b8c-94a8-482e-a555-21183fbcedc8');\n",
       "var x = new MutationObserver(function (mutations, observer) {{\n",
       "        var display = window.getComputedStyle(gd).display;\n",
       "        if (!display || display === 'none') {{\n",
       "            console.log([gd, 'removed!']);\n",
       "            Plotly.purge(gd);\n",
       "            observer.disconnect();\n",
       "        }}\n",
       "}});\n",
       "\n",
       "// Listen for the removal of the full notebook cells\n",
       "var notebookContainer = gd.closest('#notebook-container');\n",
       "if (notebookContainer) {{\n",
       "    x.observe(notebookContainer, {childList: true});\n",
       "}}\n",
       "\n",
       "// Listen for the clearing of the current output cell\n",
       "var outputEl = gd.closest('.output');\n",
       "if (outputEl) {{\n",
       "    x.observe(outputEl, {childList: true});\n",
       "}}\n",
       "\n",
       "                        })                };                });            </script>        </div>"
      ]
     },
     "metadata": {},
     "output_type": "display_data"
    },
    {
     "data": {
      "application/vnd.plotly.v1+json": {
       "config": {
        "plotlyServerURL": "https://plot.ly"
       },
       "data": [
        {
         "mode": "lines",
         "name": "Real Data",
         "type": "scatter",
         "x": [
          "2022-02-05T00:00:00",
          "2022-02-12T00:00:00",
          "2022-02-19T00:00:00",
          "2022-02-26T00:00:00",
          "2022-03-05T00:00:00",
          "2022-03-12T00:00:00",
          "2022-03-19T00:00:00",
          "2022-03-26T00:00:00",
          "2022-04-02T00:00:00",
          "2022-04-09T00:00:00",
          "2022-04-16T00:00:00",
          "2022-04-23T00:00:00",
          "2022-04-30T00:00:00",
          "2022-05-07T00:00:00",
          "2022-05-14T00:00:00",
          "2022-05-21T00:00:00",
          "2022-05-28T00:00:00",
          "2022-06-04T00:00:00",
          "2022-06-11T00:00:00",
          "2022-06-18T00:00:00",
          "2022-06-25T00:00:00",
          "2022-07-02T00:00:00",
          "2022-07-09T00:00:00",
          "2022-07-16T00:00:00",
          "2022-07-23T00:00:00",
          "2022-07-30T00:00:00",
          "2022-08-06T00:00:00",
          "2022-08-13T00:00:00",
          "2022-08-20T00:00:00",
          "2022-08-27T00:00:00",
          "2022-09-03T00:00:00",
          "2022-09-10T00:00:00",
          "2022-09-17T00:00:00",
          "2022-09-24T00:00:00",
          "2022-10-01T00:00:00",
          "2022-10-08T00:00:00",
          "2022-10-15T00:00:00",
          "2022-10-22T00:00:00",
          "2022-10-29T00:00:00",
          "2022-11-05T00:00:00",
          "2022-11-12T00:00:00",
          "2022-11-19T00:00:00",
          "2022-11-26T00:00:00",
          "2022-12-03T00:00:00",
          "2022-12-10T00:00:00",
          "2022-12-17T00:00:00",
          "2022-12-24T00:00:00",
          "2022-12-31T00:00:00",
          "2023-01-07T00:00:00",
          "2023-01-14T00:00:00",
          "2023-01-21T00:00:00",
          "2023-01-28T00:00:00",
          "2023-02-04T00:00:00",
          "2023-02-11T00:00:00",
          "2023-02-18T00:00:00",
          "2023-02-25T00:00:00",
          "2023-03-04T00:00:00",
          "2023-03-11T00:00:00",
          "2023-03-18T00:00:00",
          "2023-03-25T00:00:00",
          "2023-04-01T00:00:00",
          "2023-04-08T00:00:00",
          "2023-04-15T00:00:00",
          "2023-04-22T00:00:00",
          "2023-04-29T00:00:00",
          "2023-05-06T00:00:00",
          "2023-05-13T00:00:00",
          "2023-05-20T00:00:00",
          "2023-05-27T00:00:00",
          "2023-06-03T00:00:00",
          "2023-06-10T00:00:00",
          "2023-06-17T00:00:00",
          "2023-06-24T00:00:00",
          "2023-07-01T00:00:00",
          "2023-07-08T00:00:00",
          "2023-07-15T00:00:00",
          "2023-07-22T00:00:00",
          "2023-07-29T00:00:00",
          "2023-08-05T00:00:00",
          "2023-08-12T00:00:00",
          "2023-08-19T00:00:00",
          "2023-08-26T00:00:00",
          "2023-09-02T00:00:00",
          "2023-09-09T00:00:00",
          "2023-09-16T00:00:00",
          "2023-09-23T00:00:00",
          "2023-09-30T00:00:00",
          "2023-10-07T00:00:00",
          "2023-10-14T00:00:00",
          "2023-10-21T00:00:00",
          "2023-10-28T00:00:00",
          "2023-11-04T00:00:00",
          "2023-11-11T00:00:00",
          "2023-11-18T00:00:00",
          "2023-11-25T00:00:00",
          "2023-12-02T00:00:00",
          "2023-12-09T00:00:00",
          "2023-12-16T00:00:00",
          "2023-12-23T00:00:00",
          "2023-12-30T00:00:00",
          "2024-01-06T00:00:00",
          "2024-01-13T00:00:00",
          "2024-01-20T00:00:00",
          "2024-01-27T00:00:00",
          "2024-02-03T00:00:00",
          "2024-02-10T00:00:00",
          "2024-02-17T00:00:00",
          "2024-02-24T00:00:00",
          "2024-03-02T00:00:00",
          "2024-03-09T00:00:00",
          "2024-03-16T00:00:00",
          "2024-03-23T00:00:00",
          "2024-03-30T00:00:00",
          "2024-04-06T00:00:00",
          "2024-04-13T00:00:00",
          "2024-04-20T00:00:00",
          "2024-04-27T00:00:00",
          "2024-05-04T00:00:00",
          "2024-05-11T00:00:00",
          "2024-05-18T00:00:00",
          "2024-05-25T00:00:00",
          "2024-06-01T00:00:00",
          "2024-06-08T00:00:00",
          "2024-06-15T00:00:00",
          "2024-06-22T00:00:00",
          "2024-06-29T00:00:00",
          "2024-07-06T00:00:00",
          "2024-07-13T00:00:00",
          "2024-07-20T00:00:00",
          "2024-07-27T00:00:00",
          "2024-08-03T00:00:00",
          "2024-08-10T00:00:00",
          "2024-08-17T00:00:00",
          "2024-08-24T00:00:00",
          "2024-08-31T00:00:00",
          "2024-09-07T00:00:00",
          "2024-09-14T00:00:00",
          "2024-09-21T00:00:00",
          "2024-09-28T00:00:00",
          "2024-10-05T00:00:00",
          "2024-10-12T00:00:00",
          "2024-10-19T00:00:00",
          "2024-10-26T00:00:00",
          "2024-11-02T00:00:00",
          "2024-11-09T00:00:00",
          "2024-11-16T00:00:00",
          "2024-11-23T00:00:00",
          "2024-11-30T00:00:00",
          "2024-12-07T00:00:00",
          "2024-12-14T00:00:00",
          "2024-12-21T00:00:00",
          "2024-12-28T00:00:00",
          "2025-01-04T00:00:00",
          "2025-01-11T00:00:00",
          "2025-01-18T00:00:00",
          "2025-01-25T00:00:00",
          "2025-02-01T00:00:00",
          "2025-02-08T00:00:00",
          "2025-02-15T00:00:00",
          "2025-02-22T00:00:00",
          "2025-03-01T00:00:00",
          "2025-03-08T00:00:00",
          "2025-03-15T00:00:00",
          "2025-03-22T00:00:00",
          "2025-03-29T00:00:00",
          "2025-04-05T00:00:00"
         ],
         "y": [
          1091,
          1164,
          1493,
          1603,
          1791,
          2097,
          2625,
          2918,
          3008,
          3149,
          3308,
          3474,
          3182,
          3175,
          3119,
          3133,
          2738,
          2678,
          2210,
          1776,
          1366,
          1073,
          776,
          766,
          628,
          522,
          486,
          490,
          483,
          483,
          545,
          576,
          665,
          796,
          921,
          1316,
          1674,
          2292,
          4184,
          6408,
          8594,
          10971,
          18177,
          26834,
          24036,
          21612,
          19631,
          19479,
          14074,
          7185,
          4489,
          3091,
          2596,
          2177,
          1908,
          1647,
          1503,
          1372,
          1415,
          1331,
          1295,
          1198,
          1077,
          982,
          903,
          994,
          980,
          1116,
          974,
          939,
          935,
          873,
          813,
          836,
          699,
          736,
          645,
          771,
          690,
          706,
          738,
          793,
          875,
          804,
          821,
          881,
          1026,
          1110,
          1215,
          1470,
          1614,
          2014,
          2775,
          3491,
          4386,
          5955,
          7497,
          10273,
          15722,
          21682,
          19548,
          15905,
          13303,
          13025,
          11964,
          11629,
          11126,
          10870,
          10814,
          9416,
          7324,
          6049,
          5574,
          5071,
          4073,
          2943,
          2420,
          1485,
          852,
          682,
          611,
          591,
          511,
          518,
          441,
          356,
          342,
          367,
          325,
          273,
          275,
          275,
          275,
          274,
          262,
          223,
          319,
          293,
          223,
          287,
          295,
          553,
          1084,
          977,
          2081,
          2535,
          3099,
          4297,
          6307,
          9192,
          15467,
          27748,
          38767,
          30796,
          33020,
          40682,
          51337,
          54374,
          46244,
          37881,
          30807,
          23956,
          18384,
          13600,
          9597,
          6273
         ]
        },
        {
         "line": {
          "color": "#414487"
         },
         "mode": "lines",
         "name": "CES-hi-80",
         "type": "scatter",
         "x": [
          "2024-11-09T00:00:00",
          "2024-11-16T00:00:00",
          "2024-11-23T00:00:00",
          "2024-11-30T00:00:00"
         ],
         "y": [
          4698.247363281251,
          6305.948242187501,
          10016.39833984375,
          15251.5291015625
         ]
        },
        {
         "line": {
          "color": "#1e9c89"
         },
         "mode": "lines",
         "name": "CES-hi-95",
         "type": "scatter",
         "x": [
          "2024-11-09T00:00:00",
          "2024-11-16T00:00:00",
          "2024-11-23T00:00:00",
          "2024-11-30T00:00:00"
         ],
         "y": [
          5884.069189453121,
          7531.411010742187,
          11037.317944335937,
          16332.480444335937
         ]
        },
        {
         "fill": "tonexty",
         "fillcolor": "#1e9c89",
         "line": {
          "color": "#1e9c89"
         },
         "mode": "lines",
         "name": "CES-lo-95",
         "type": "scatter",
         "x": [
          "2024-11-09T00:00:00",
          "2024-11-16T00:00:00",
          "2024-11-23T00:00:00",
          "2024-11-30T00:00:00"
         ],
         "y": [
          -722.7102600097644,
          1062.4223663330083,
          4874.122143554689,
          10047.608837890624
         ]
        },
        {
         "fill": "tonexty",
         "fillcolor": "#414487",
         "line": {
          "color": "#414487"
         },
         "mode": "lines",
         "name": "CES-lo-80",
         "type": "scatter",
         "x": [
          "2024-11-09T00:00:00",
          "2024-11-16T00:00:00",
          "2024-11-23T00:00:00",
          "2024-11-30T00:00:00"
         ],
         "y": [
          424.5253234863279,
          2118.3329589843747,
          5966.85556640625,
          11164.2296875
         ]
        },
        {
         "line": {
          "color": "#2c728e"
         },
         "mode": "lines",
         "name": "CES",
         "type": "scatter",
         "x": [
          "2024-11-09T00:00:00",
          "2024-11-16T00:00:00",
          "2024-11-23T00:00:00",
          "2024-11-30T00:00:00"
         ],
         "y": [
          2524.2750244140625,
          4216.376708984375,
          8029.7442626953125,
          13202.079956054688
         ]
        }
       ],
       "layout": {
        "autosize": true,
        "hovermode": "x",
        "template": {
         "data": {
          "bar": [
           {
            "error_x": {
             "color": "#2a3f5f"
            },
            "error_y": {
             "color": "#2a3f5f"
            },
            "marker": {
             "line": {
              "color": "#E5ECF6",
              "width": 0.5
             },
             "pattern": {
              "fillmode": "overlay",
              "size": 10,
              "solidity": 0.2
             }
            },
            "type": "bar"
           }
          ],
          "barpolar": [
           {
            "marker": {
             "line": {
              "color": "#E5ECF6",
              "width": 0.5
             },
             "pattern": {
              "fillmode": "overlay",
              "size": 10,
              "solidity": 0.2
             }
            },
            "type": "barpolar"
           }
          ],
          "carpet": [
           {
            "aaxis": {
             "endlinecolor": "#2a3f5f",
             "gridcolor": "white",
             "linecolor": "white",
             "minorgridcolor": "white",
             "startlinecolor": "#2a3f5f"
            },
            "baxis": {
             "endlinecolor": "#2a3f5f",
             "gridcolor": "white",
             "linecolor": "white",
             "minorgridcolor": "white",
             "startlinecolor": "#2a3f5f"
            },
            "type": "carpet"
           }
          ],
          "choropleth": [
           {
            "colorbar": {
             "outlinewidth": 0,
             "ticks": ""
            },
            "type": "choropleth"
           }
          ],
          "contour": [
           {
            "colorbar": {
             "outlinewidth": 0,
             "ticks": ""
            },
            "colorscale": [
             [
              0,
              "#0d0887"
             ],
             [
              0.1111111111111111,
              "#46039f"
             ],
             [
              0.2222222222222222,
              "#7201a8"
             ],
             [
              0.3333333333333333,
              "#9c179e"
             ],
             [
              0.4444444444444444,
              "#bd3786"
             ],
             [
              0.5555555555555556,
              "#d8576b"
             ],
             [
              0.6666666666666666,
              "#ed7953"
             ],
             [
              0.7777777777777778,
              "#fb9f3a"
             ],
             [
              0.8888888888888888,
              "#fdca26"
             ],
             [
              1,
              "#f0f921"
             ]
            ],
            "type": "contour"
           }
          ],
          "contourcarpet": [
           {
            "colorbar": {
             "outlinewidth": 0,
             "ticks": ""
            },
            "type": "contourcarpet"
           }
          ],
          "heatmap": [
           {
            "colorbar": {
             "outlinewidth": 0,
             "ticks": ""
            },
            "colorscale": [
             [
              0,
              "#0d0887"
             ],
             [
              0.1111111111111111,
              "#46039f"
             ],
             [
              0.2222222222222222,
              "#7201a8"
             ],
             [
              0.3333333333333333,
              "#9c179e"
             ],
             [
              0.4444444444444444,
              "#bd3786"
             ],
             [
              0.5555555555555556,
              "#d8576b"
             ],
             [
              0.6666666666666666,
              "#ed7953"
             ],
             [
              0.7777777777777778,
              "#fb9f3a"
             ],
             [
              0.8888888888888888,
              "#fdca26"
             ],
             [
              1,
              "#f0f921"
             ]
            ],
            "type": "heatmap"
           }
          ],
          "heatmapgl": [
           {
            "colorbar": {
             "outlinewidth": 0,
             "ticks": ""
            },
            "colorscale": [
             [
              0,
              "#0d0887"
             ],
             [
              0.1111111111111111,
              "#46039f"
             ],
             [
              0.2222222222222222,
              "#7201a8"
             ],
             [
              0.3333333333333333,
              "#9c179e"
             ],
             [
              0.4444444444444444,
              "#bd3786"
             ],
             [
              0.5555555555555556,
              "#d8576b"
             ],
             [
              0.6666666666666666,
              "#ed7953"
             ],
             [
              0.7777777777777778,
              "#fb9f3a"
             ],
             [
              0.8888888888888888,
              "#fdca26"
             ],
             [
              1,
              "#f0f921"
             ]
            ],
            "type": "heatmapgl"
           }
          ],
          "histogram": [
           {
            "marker": {
             "pattern": {
              "fillmode": "overlay",
              "size": 10,
              "solidity": 0.2
             }
            },
            "type": "histogram"
           }
          ],
          "histogram2d": [
           {
            "colorbar": {
             "outlinewidth": 0,
             "ticks": ""
            },
            "colorscale": [
             [
              0,
              "#0d0887"
             ],
             [
              0.1111111111111111,
              "#46039f"
             ],
             [
              0.2222222222222222,
              "#7201a8"
             ],
             [
              0.3333333333333333,
              "#9c179e"
             ],
             [
              0.4444444444444444,
              "#bd3786"
             ],
             [
              0.5555555555555556,
              "#d8576b"
             ],
             [
              0.6666666666666666,
              "#ed7953"
             ],
             [
              0.7777777777777778,
              "#fb9f3a"
             ],
             [
              0.8888888888888888,
              "#fdca26"
             ],
             [
              1,
              "#f0f921"
             ]
            ],
            "type": "histogram2d"
           }
          ],
          "histogram2dcontour": [
           {
            "colorbar": {
             "outlinewidth": 0,
             "ticks": ""
            },
            "colorscale": [
             [
              0,
              "#0d0887"
             ],
             [
              0.1111111111111111,
              "#46039f"
             ],
             [
              0.2222222222222222,
              "#7201a8"
             ],
             [
              0.3333333333333333,
              "#9c179e"
             ],
             [
              0.4444444444444444,
              "#bd3786"
             ],
             [
              0.5555555555555556,
              "#d8576b"
             ],
             [
              0.6666666666666666,
              "#ed7953"
             ],
             [
              0.7777777777777778,
              "#fb9f3a"
             ],
             [
              0.8888888888888888,
              "#fdca26"
             ],
             [
              1,
              "#f0f921"
             ]
            ],
            "type": "histogram2dcontour"
           }
          ],
          "mesh3d": [
           {
            "colorbar": {
             "outlinewidth": 0,
             "ticks": ""
            },
            "type": "mesh3d"
           }
          ],
          "parcoords": [
           {
            "line": {
             "colorbar": {
              "outlinewidth": 0,
              "ticks": ""
             }
            },
            "type": "parcoords"
           }
          ],
          "pie": [
           {
            "automargin": true,
            "type": "pie"
           }
          ],
          "scatter": [
           {
            "fillpattern": {
             "fillmode": "overlay",
             "size": 10,
             "solidity": 0.2
            },
            "type": "scatter"
           }
          ],
          "scatter3d": [
           {
            "line": {
             "colorbar": {
              "outlinewidth": 0,
              "ticks": ""
             }
            },
            "marker": {
             "colorbar": {
              "outlinewidth": 0,
              "ticks": ""
             }
            },
            "type": "scatter3d"
           }
          ],
          "scattercarpet": [
           {
            "marker": {
             "colorbar": {
              "outlinewidth": 0,
              "ticks": ""
             }
            },
            "type": "scattercarpet"
           }
          ],
          "scattergeo": [
           {
            "marker": {
             "colorbar": {
              "outlinewidth": 0,
              "ticks": ""
             }
            },
            "type": "scattergeo"
           }
          ],
          "scattergl": [
           {
            "marker": {
             "colorbar": {
              "outlinewidth": 0,
              "ticks": ""
             }
            },
            "type": "scattergl"
           }
          ],
          "scattermapbox": [
           {
            "marker": {
             "colorbar": {
              "outlinewidth": 0,
              "ticks": ""
             }
            },
            "type": "scattermapbox"
           }
          ],
          "scatterpolar": [
           {
            "marker": {
             "colorbar": {
              "outlinewidth": 0,
              "ticks": ""
             }
            },
            "type": "scatterpolar"
           }
          ],
          "scatterpolargl": [
           {
            "marker": {
             "colorbar": {
              "outlinewidth": 0,
              "ticks": ""
             }
            },
            "type": "scatterpolargl"
           }
          ],
          "scatterternary": [
           {
            "marker": {
             "colorbar": {
              "outlinewidth": 0,
              "ticks": ""
             }
            },
            "type": "scatterternary"
           }
          ],
          "surface": [
           {
            "colorbar": {
             "outlinewidth": 0,
             "ticks": ""
            },
            "colorscale": [
             [
              0,
              "#0d0887"
             ],
             [
              0.1111111111111111,
              "#46039f"
             ],
             [
              0.2222222222222222,
              "#7201a8"
             ],
             [
              0.3333333333333333,
              "#9c179e"
             ],
             [
              0.4444444444444444,
              "#bd3786"
             ],
             [
              0.5555555555555556,
              "#d8576b"
             ],
             [
              0.6666666666666666,
              "#ed7953"
             ],
             [
              0.7777777777777778,
              "#fb9f3a"
             ],
             [
              0.8888888888888888,
              "#fdca26"
             ],
             [
              1,
              "#f0f921"
             ]
            ],
            "type": "surface"
           }
          ],
          "table": [
           {
            "cells": {
             "fill": {
              "color": "#EBF0F8"
             },
             "line": {
              "color": "white"
             }
            },
            "header": {
             "fill": {
              "color": "#C8D4E3"
             },
             "line": {
              "color": "white"
             }
            },
            "type": "table"
           }
          ]
         },
         "layout": {
          "annotationdefaults": {
           "arrowcolor": "#2a3f5f",
           "arrowhead": 0,
           "arrowwidth": 1
          },
          "autotypenumbers": "strict",
          "coloraxis": {
           "colorbar": {
            "outlinewidth": 0,
            "ticks": ""
           }
          },
          "colorscale": {
           "diverging": [
            [
             0,
             "#8e0152"
            ],
            [
             0.1,
             "#c51b7d"
            ],
            [
             0.2,
             "#de77ae"
            ],
            [
             0.3,
             "#f1b6da"
            ],
            [
             0.4,
             "#fde0ef"
            ],
            [
             0.5,
             "#f7f7f7"
            ],
            [
             0.6,
             "#e6f5d0"
            ],
            [
             0.7,
             "#b8e186"
            ],
            [
             0.8,
             "#7fbc41"
            ],
            [
             0.9,
             "#4d9221"
            ],
            [
             1,
             "#276419"
            ]
           ],
           "sequential": [
            [
             0,
             "#0d0887"
            ],
            [
             0.1111111111111111,
             "#46039f"
            ],
            [
             0.2222222222222222,
             "#7201a8"
            ],
            [
             0.3333333333333333,
             "#9c179e"
            ],
            [
             0.4444444444444444,
             "#bd3786"
            ],
            [
             0.5555555555555556,
             "#d8576b"
            ],
            [
             0.6666666666666666,
             "#ed7953"
            ],
            [
             0.7777777777777778,
             "#fb9f3a"
            ],
            [
             0.8888888888888888,
             "#fdca26"
            ],
            [
             1,
             "#f0f921"
            ]
           ],
           "sequentialminus": [
            [
             0,
             "#0d0887"
            ],
            [
             0.1111111111111111,
             "#46039f"
            ],
            [
             0.2222222222222222,
             "#7201a8"
            ],
            [
             0.3333333333333333,
             "#9c179e"
            ],
            [
             0.4444444444444444,
             "#bd3786"
            ],
            [
             0.5555555555555556,
             "#d8576b"
            ],
            [
             0.6666666666666666,
             "#ed7953"
            ],
            [
             0.7777777777777778,
             "#fb9f3a"
            ],
            [
             0.8888888888888888,
             "#fdca26"
            ],
            [
             1,
             "#f0f921"
            ]
           ]
          },
          "colorway": [
           "#636efa",
           "#EF553B",
           "#00cc96",
           "#ab63fa",
           "#FFA15A",
           "#19d3f3",
           "#FF6692",
           "#B6E880",
           "#FF97FF",
           "#FECB52"
          ],
          "font": {
           "color": "#2a3f5f"
          },
          "geo": {
           "bgcolor": "white",
           "lakecolor": "white",
           "landcolor": "#E5ECF6",
           "showlakes": true,
           "showland": true,
           "subunitcolor": "white"
          },
          "hoverlabel": {
           "align": "left"
          },
          "hovermode": "closest",
          "mapbox": {
           "style": "light"
          },
          "paper_bgcolor": "white",
          "plot_bgcolor": "#E5ECF6",
          "polar": {
           "angularaxis": {
            "gridcolor": "white",
            "linecolor": "white",
            "ticks": ""
           },
           "bgcolor": "#E5ECF6",
           "radialaxis": {
            "gridcolor": "white",
            "linecolor": "white",
            "ticks": ""
           }
          },
          "scene": {
           "xaxis": {
            "backgroundcolor": "#E5ECF6",
            "gridcolor": "white",
            "gridwidth": 2,
            "linecolor": "white",
            "showbackground": true,
            "ticks": "",
            "zerolinecolor": "white"
           },
           "yaxis": {
            "backgroundcolor": "#E5ECF6",
            "gridcolor": "white",
            "gridwidth": 2,
            "linecolor": "white",
            "showbackground": true,
            "ticks": "",
            "zerolinecolor": "white"
           },
           "zaxis": {
            "backgroundcolor": "#E5ECF6",
            "gridcolor": "white",
            "gridwidth": 2,
            "linecolor": "white",
            "showbackground": true,
            "ticks": "",
            "zerolinecolor": "white"
           }
          },
          "shapedefaults": {
           "line": {
            "color": "#2a3f5f"
           }
          },
          "ternary": {
           "aaxis": {
            "gridcolor": "white",
            "linecolor": "white",
            "ticks": ""
           },
           "baxis": {
            "gridcolor": "white",
            "linecolor": "white",
            "ticks": ""
           },
           "bgcolor": "#E5ECF6",
           "caxis": {
            "gridcolor": "white",
            "linecolor": "white",
            "ticks": ""
           }
          },
          "title": {
           "x": 0.05
          },
          "xaxis": {
           "automargin": true,
           "gridcolor": "white",
           "linecolor": "white",
           "ticks": "",
           "title": {
            "standoff": 15
           },
           "zerolinecolor": "white",
           "zerolinewidth": 2
          },
          "yaxis": {
           "automargin": true,
           "gridcolor": "white",
           "linecolor": "white",
           "ticks": "",
           "title": {
            "standoff": 15
           },
           "zerolinecolor": "white",
           "zerolinewidth": 2
          }
         }
        },
        "title": {
         "text": "Updating Parameter CES Predictions, 2024-11-02"
        },
        "xaxis": {
         "autorange": true,
         "range": [
          "2022-02-05",
          "2025-04-05"
         ],
         "title": {
          "text": "Date"
         },
         "type": "date"
        },
        "yaxis": {
         "autorange": true,
         "range": [
          -3783.6386077880843,
          57434.92834777832
         ],
         "title": {
          "text": "Count"
         },
         "type": "linear"
        }
       }
      },
      "image/png": "[encoded data removed]",
      "text/html": [
       "<div>                            <div id=\"3848dc01-bddc-4722-b615-d9bf1f2ec369\" class=\"plotly-graph-div\" style=\"height:525px; width:100%;\"></div>            <script type=\"text/javascript\">                require([\"plotly\"], function(Plotly) {                    window.PLOTLYENV=window.PLOTLYENV || {};                                    if (document.getElementById(\"3848dc01-bddc-4722-b615-d9bf1f2ec369\")) {                    Plotly.newPlot(                        \"3848dc01-bddc-4722-b615-d9bf1f2ec369\",                        [{\"mode\":\"lines\",\"name\":\"Real Data\",\"x\":[\"2022-02-05T00:00:00\",\"2022-02-12T00:00:00\",\"2022-02-19T00:00:00\",\"2022-02-26T00:00:00\",\"2022-03-05T00:00:00\",\"2022-03-12T00:00:00\",\"2022-03-19T00:00:00\",\"2022-03-26T00:00:00\",\"2022-04-02T00:00:00\",\"2022-04-09T00:00:00\",\"2022-04-16T00:00:00\",\"2022-04-23T00:00:00\",\"2022-04-30T00:00:00\",\"2022-05-07T00:00:00\",\"2022-05-14T00:00:00\",\"2022-05-21T00:00:00\",\"2022-05-28T00:00:00\",\"2022-06-04T00:00:00\",\"2022-06-11T00:00:00\",\"2022-06-18T00:00:00\",\"2022-06-25T00:00:00\",\"2022-07-02T00:00:00\",\"2022-07-09T00:00:00\",\"2022-07-16T00:00:00\",\"2022-07-23T00:00:00\",\"2022-07-30T00:00:00\",\"2022-08-06T00:00:00\",\"2022-08-13T00:00:00\",\"2022-08-20T00:00:00\",\"2022-08-27T00:00:00\",\"2022-09-03T00:00:00\",\"2022-09-10T00:00:00\",\"2022-09-17T00:00:00\",\"2022-09-24T00:00:00\",\"2022-10-01T00:00:00\",\"2022-10-08T00:00:00\",\"2022-10-15T00:00:00\",\"2022-10-22T00:00:00\",\"2022-10-29T00:00:00\",\"2022-11-05T00:00:00\",\"2022-11-12T00:00:00\",\"2022-11-19T00:00:00\",\"2022-11-26T00:00:00\",\"2022-12-03T00:00:00\",\"2022-12-10T00:00:00\",\"2022-12-17T00:00:00\",\"2022-12-24T00:00:00\",\"2022-12-31T00:00:00\",\"2023-01-07T00:00:00\",\"2023-01-14T00:00:00\",\"2023-01-21T00:00:00\",\"2023-01-28T00:00:00\",\"2023-02-04T00:00:00\",\"2023-02-11T00:00:00\",\"2023-02-18T00:00:00\",\"2023-02-25T00:00:00\",\"2023-03-04T00:00:00\",\"2023-03-11T00:00:00\",\"2023-03-18T00:00:00\",\"2023-03-25T00:00:00\",\"2023-04-01T00:00:00\",\"2023-04-08T00:00:00\",\"2023-04-15T00:00:00\",\"2023-04-22T00:00:00\",\"2023-04-29T00:00:00\",\"2023-05-06T00:00:00\",\"2023-05-13T00:00:00\",\"2023-05-20T00:00:00\",\"2023-05-27T00:00:00\",\"2023-06-03T00:00:00\",\"2023-06-10T00:00:00\",\"2023-06-17T00:00:00\",\"2023-06-24T00:00:00\",\"2023-07-01T00:00:00\",\"2023-07-08T00:00:00\",\"2023-07-15T00:00:00\",\"2023-07-22T00:00:00\",\"2023-07-29T00:00:00\",\"2023-08-05T00:00:00\",\"2023-08-12T00:00:00\",\"2023-08-19T00:00:00\",\"2023-08-26T00:00:00\",\"2023-09-02T00:00:00\",\"2023-09-09T00:00:00\",\"2023-09-16T00:00:00\",\"2023-09-23T00:00:00\",\"2023-09-30T00:00:00\",\"2023-10-07T00:00:00\",\"2023-10-14T00:00:00\",\"2023-10-21T00:00:00\",\"2023-10-28T00:00:00\",\"2023-11-04T00:00:00\",\"2023-11-11T00:00:00\",\"2023-11-18T00:00:00\",\"2023-11-25T00:00:00\",\"2023-12-02T00:00:00\",\"2023-12-09T00:00:00\",\"2023-12-16T00:00:00\",\"2023-12-23T00:00:00\",\"2023-12-30T00:00:00\",\"2024-01-06T00:00:00\",\"2024-01-13T00:00:00\",\"2024-01-20T00:00:00\",\"2024-01-27T00:00:00\",\"2024-02-03T00:00:00\",\"2024-02-10T00:00:00\",\"2024-02-17T00:00:00\",\"2024-02-24T00:00:00\",\"2024-03-02T00:00:00\",\"2024-03-09T00:00:00\",\"2024-03-16T00:00:00\",\"2024-03-23T00:00:00\",\"2024-03-30T00:00:00\",\"2024-04-06T00:00:00\",\"2024-04-13T00:00:00\",\"2024-04-20T00:00:00\",\"2024-04-27T00:00:00\",\"2024-05-04T00:00:00\",\"2024-05-11T00:00:00\",\"2024-05-18T00:00:00\",\"2024-05-25T00:00:00\",\"2024-06-01T00:00:00\",\"2024-06-08T00:00:00\",\"2024-06-15T00:00:00\",\"2024-06-22T00:00:00\",\"2024-06-29T00:00:00\",\"2024-07-06T00:00:00\",\"2024-07-13T00:00:00\",\"2024-07-20T00:00:00\",\"2024-07-27T00:00:00\",\"2024-08-03T00:00:00\",\"2024-08-10T00:00:00\",\"2024-08-17T00:00:00\",\"2024-08-24T00:00:00\",\"2024-08-31T00:00:00\",\"2024-09-07T00:00:00\",\"2024-09-14T00:00:00\",\"2024-09-21T00:00:00\",\"2024-09-28T00:00:00\",\"2024-10-05T00:00:00\",\"2024-10-12T00:00:00\",\"2024-10-19T00:00:00\",\"2024-10-26T00:00:00\",\"2024-11-02T00:00:00\",\"2024-11-09T00:00:00\",\"2024-11-16T00:00:00\",\"2024-11-23T00:00:00\",\"2024-11-30T00:00:00\",\"2024-12-07T00:00:00\",\"2024-12-14T00:00:00\",\"2024-12-21T00:00:00\",\"2024-12-28T00:00:00\",\"2025-01-04T00:00:00\",\"2025-01-11T00:00:00\",\"2025-01-18T00:00:00\",\"2025-01-25T00:00:00\",\"2025-02-01T00:00:00\",\"2025-02-08T00:00:00\",\"2025-02-15T00:00:00\",\"2025-02-22T00:00:00\",\"2025-03-01T00:00:00\",\"2025-03-08T00:00:00\",\"2025-03-15T00:00:00\",\"2025-03-22T00:00:00\",\"2025-03-29T00:00:00\",\"2025-04-05T00:00:00\"],\"y\":[1091.0,1164.0,1493.0,1603.0,1791.0,2097.0,2625.0,2918.0,3008.0,3149.0,3308.0,3474.0,3182.0,3175.0,3119.0,3133.0,2738.0,2678.0,2210.0,1776.0,1366.0,1073.0,776.0,766.0,628.0,522.0,486.0,490.0,483.0,483.0,545.0,576.0,665.0,796.0,921.0,1316.0,1674.0,2292.0,4184.0,6408.0,8594.0,10971.0,18177.0,26834.0,24036.0,21612.0,19631.0,19479.0,14074.0,7185.0,4489.0,3091.0,2596.0,2177.0,1908.0,1647.0,1503.0,1372.0,1415.0,1331.0,1295.0,1198.0,1077.0,982.0,903.0,994.0,980.0,1116.0,974.0,939.0,935.0,873.0,813.0,836.0,699.0,736.0,645.0,771.0,690.0,706.0,738.0,793.0,875.0,804.0,821.0,881.0,1026.0,1110.0,1215.0,1470.0,1614.0,2014.0,2775.0,3491.0,4386.0,5955.0,7497.0,10273.0,15722.0,21682.0,19548.0,15905.0,13303.0,13025.0,11964.0,11629.0,11126.0,10870.0,10814.0,9416.0,7324.0,6049.0,5574.0,5071.0,4073.0,2943.0,2420.0,1485.0,852.0,682.0,611.0,591.0,511.0,518.0,441.0,356.0,342.0,367.0,325.0,273.0,275.0,275.0,275.0,274.0,262.0,223.0,319.0,293.0,223.0,287.0,295.0,553.0,1084.0,977.0,2081.0,2535.0,3099.0,4297.0,6307.0,9192.0,15467.0,27748.0,38767.0,30796.0,33020.0,40682.0,51337.0,54374.0,46244.0,37881.0,30807.0,23956.0,18384.0,13600.0,9597.0,6273.0],\"type\":\"scatter\"},{\"line\":{\"color\":\"#414487\"},\"mode\":\"lines\",\"name\":\"CES-hi-80\",\"x\":[\"2024-11-09T00:00:00\",\"2024-11-16T00:00:00\",\"2024-11-23T00:00:00\",\"2024-11-30T00:00:00\"],\"y\":[4698.247363281251,6305.948242187501,10016.39833984375,15251.5291015625],\"type\":\"scatter\"},{\"line\":{\"color\":\"#1e9c89\"},\"mode\":\"lines\",\"name\":\"CES-hi-95\",\"x\":[\"2024-11-09T00:00:00\",\"2024-11-16T00:00:00\",\"2024-11-23T00:00:00\",\"2024-11-30T00:00:00\"],\"y\":[5884.069189453121,7531.411010742187,11037.317944335937,16332.480444335937],\"type\":\"scatter\"},{\"fill\":\"tonexty\",\"fillcolor\":\"#1e9c89\",\"line\":{\"color\":\"#1e9c89\"},\"mode\":\"lines\",\"name\":\"CES-lo-95\",\"x\":[\"2024-11-09T00:00:00\",\"2024-11-16T00:00:00\",\"2024-11-23T00:00:00\",\"2024-11-30T00:00:00\"],\"y\":[-722.7102600097644,1062.4223663330083,4874.122143554689,10047.608837890624],\"type\":\"scatter\"},{\"fill\":\"tonexty\",\"fillcolor\":\"#414487\",\"line\":{\"color\":\"#414487\"},\"mode\":\"lines\",\"name\":\"CES-lo-80\",\"x\":[\"2024-11-09T00:00:00\",\"2024-11-16T00:00:00\",\"2024-11-23T00:00:00\",\"2024-11-30T00:00:00\"],\"y\":[424.5253234863279,2118.3329589843747,5966.85556640625,11164.2296875],\"type\":\"scatter\"},{\"line\":{\"color\":\"#2c728e\"},\"mode\":\"lines\",\"name\":\"CES\",\"x\":[\"2024-11-09T00:00:00\",\"2024-11-16T00:00:00\",\"2024-11-23T00:00:00\",\"2024-11-30T00:00:00\"],\"y\":[2524.2750244140625,4216.376708984375,8029.7442626953125,13202.079956054688],\"type\":\"scatter\"}],                        {\"template\":{\"data\":{\"histogram2dcontour\":[{\"type\":\"histogram2dcontour\",\"colorbar\":{\"outlinewidth\":0,\"ticks\":\"\"},\"colorscale\":[[0.0,\"#0d0887\"],[0.1111111111111111,\"#46039f\"],[0.2222222222222222,\"#7201a8\"],[0.3333333333333333,\"#9c179e\"],[0.4444444444444444,\"#bd3786\"],[0.5555555555555556,\"#d8576b\"],[0.6666666666666666,\"#ed7953\"],[0.7777777777777778,\"#fb9f3a\"],[0.8888888888888888,\"#fdca26\"],[1.0,\"#f0f921\"]]}],\"choropleth\":[{\"type\":\"choropleth\",\"colorbar\":{\"outlinewidth\":0,\"ticks\":\"\"}}],\"histogram2d\":[{\"type\":\"histogram2d\",\"colorbar\":{\"outlinewidth\":0,\"ticks\":\"\"},\"colorscale\":[[0.0,\"#0d0887\"],[0.1111111111111111,\"#46039f\"],[0.2222222222222222,\"#7201a8\"],[0.3333333333333333,\"#9c179e\"],[0.4444444444444444,\"#bd3786\"],[0.5555555555555556,\"#d8576b\"],[0.6666666666666666,\"#ed7953\"],[0.7777777777777778,\"#fb9f3a\"],[0.8888888888888888,\"#fdca26\"],[1.0,\"#f0f921\"]]}],\"heatmap\":[{\"type\":\"heatmap\",\"colorbar\":{\"outlinewidth\":0,\"ticks\":\"\"},\"colorscale\":[[0.0,\"#0d0887\"],[0.1111111111111111,\"#46039f\"],[0.2222222222222222,\"#7201a8\"],[0.3333333333333333,\"#9c179e\"],[0.4444444444444444,\"#bd3786\"],[0.5555555555555556,\"#d8576b\"],[0.6666666666666666,\"#ed7953\"],[0.7777777777777778,\"#fb9f3a\"],[0.8888888888888888,\"#fdca26\"],[1.0,\"#f0f921\"]]}],\"heatmapgl\":[{\"type\":\"heatmapgl\",\"colorbar\":{\"outlinewidth\":0,\"ticks\":\"\"},\"colorscale\":[[0.0,\"#0d0887\"],[0.1111111111111111,\"#46039f\"],[0.2222222222222222,\"#7201a8\"],[0.3333333333333333,\"#9c179e\"],[0.4444444444444444,\"#bd3786\"],[0.5555555555555556,\"#d8576b\"],[0.6666666666666666,\"#ed7953\"],[0.7777777777777778,\"#fb9f3a\"],[0.8888888888888888,\"#fdca26\"],[1.0,\"#f0f921\"]]}],\"contourcarpet\":[{\"type\":\"contourcarpet\",\"colorbar\":{\"outlinewidth\":0,\"ticks\":\"\"}}],\"contour\":[{\"type\":\"contour\",\"colorbar\":{\"outlinewidth\":0,\"ticks\":\"\"},\"colorscale\":[[0.0,\"#0d0887\"],[0.1111111111111111,\"#46039f\"],[0.2222222222222222,\"#7201a8\"],[0.3333333333333333,\"#9c179e\"],[0.4444444444444444,\"#bd3786\"],[0.5555555555555556,\"#d8576b\"],[0.6666666666666666,\"#ed7953\"],[0.7777777777777778,\"#fb9f3a\"],[0.8888888888888888,\"#fdca26\"],[1.0,\"#f0f921\"]]}],\"surface\":[{\"type\":\"surface\",\"colorbar\":{\"outlinewidth\":0,\"ticks\":\"\"},\"colorscale\":[[0.0,\"#0d0887\"],[0.1111111111111111,\"#46039f\"],[0.2222222222222222,\"#7201a8\"],[0.3333333333333333,\"#9c179e\"],[0.4444444444444444,\"#bd3786\"],[0.5555555555555556,\"#d8576b\"],[0.6666666666666666,\"#ed7953\"],[0.7777777777777778,\"#fb9f3a\"],[0.8888888888888888,\"#fdca26\"],[1.0,\"#f0f921\"]]}],\"mesh3d\":[{\"type\":\"mesh3d\",\"colorbar\":{\"outlinewidth\":0,\"ticks\":\"\"}}],\"scatter\":[{\"fillpattern\":{\"fillmode\":\"overlay\",\"size\":10,\"solidity\":0.2},\"type\":\"scatter\"}],\"parcoords\":[{\"type\":\"parcoords\",\"line\":{\"colorbar\":{\"outlinewidth\":0,\"ticks\":\"\"}}}],\"scatterpolargl\":[{\"type\":\"scatterpolargl\",\"marker\":{\"colorbar\":{\"outlinewidth\":0,\"ticks\":\"\"}}}],\"bar\":[{\"error_x\":{\"color\":\"#2a3f5f\"},\"error_y\":{\"color\":\"#2a3f5f\"},\"marker\":{\"line\":{\"color\":\"#E5ECF6\",\"width\":0.5},\"pattern\":{\"fillmode\":\"overlay\",\"size\":10,\"solidity\":0.2}},\"type\":\"bar\"}],\"scattergeo\":[{\"type\":\"scattergeo\",\"marker\":{\"colorbar\":{\"outlinewidth\":0,\"ticks\":\"\"}}}],\"scatterpolar\":[{\"type\":\"scatterpolar\",\"marker\":{\"colorbar\":{\"outlinewidth\":0,\"ticks\":\"\"}}}],\"histogram\":[{\"marker\":{\"pattern\":{\"fillmode\":\"overlay\",\"size\":10,\"solidity\":0.2}},\"type\":\"histogram\"}],\"scattergl\":[{\"type\":\"scattergl\",\"marker\":{\"colorbar\":{\"outlinewidth\":0,\"ticks\":\"\"}}}],\"scatter3d\":[{\"type\":\"scatter3d\",\"line\":{\"colorbar\":{\"outlinewidth\":0,\"ticks\":\"\"}},\"marker\":{\"colorbar\":{\"outlinewidth\":0,\"ticks\":\"\"}}}],\"scattermapbox\":[{\"type\":\"scattermapbox\",\"marker\":{\"colorbar\":{\"outlinewidth\":0,\"ticks\":\"\"}}}],\"scatterternary\":[{\"type\":\"scatterternary\",\"marker\":{\"colorbar\":{\"outlinewidth\":0,\"ticks\":\"\"}}}],\"scattercarpet\":[{\"type\":\"scattercarpet\",\"marker\":{\"colorbar\":{\"outlinewidth\":0,\"ticks\":\"\"}}}],\"carpet\":[{\"aaxis\":{\"endlinecolor\":\"#2a3f5f\",\"gridcolor\":\"white\",\"linecolor\":\"white\",\"minorgridcolor\":\"white\",\"startlinecolor\":\"#2a3f5f\"},\"baxis\":{\"endlinecolor\":\"#2a3f5f\",\"gridcolor\":\"white\",\"linecolor\":\"white\",\"minorgridcolor\":\"white\",\"startlinecolor\":\"#2a3f5f\"},\"type\":\"carpet\"}],\"table\":[{\"cells\":{\"fill\":{\"color\":\"#EBF0F8\"},\"line\":{\"color\":\"white\"}},\"header\":{\"fill\":{\"color\":\"#C8D4E3\"},\"line\":{\"color\":\"white\"}},\"type\":\"table\"}],\"barpolar\":[{\"marker\":{\"line\":{\"color\":\"#E5ECF6\",\"width\":0.5},\"pattern\":{\"fillmode\":\"overlay\",\"size\":10,\"solidity\":0.2}},\"type\":\"barpolar\"}],\"pie\":[{\"automargin\":true,\"type\":\"pie\"}]},\"layout\":{\"autotypenumbers\":\"strict\",\"colorway\":[\"#636efa\",\"#EF553B\",\"#00cc96\",\"#ab63fa\",\"#FFA15A\",\"#19d3f3\",\"#FF6692\",\"#B6E880\",\"#FF97FF\",\"#FECB52\"],\"font\":{\"color\":\"#2a3f5f\"},\"hovermode\":\"closest\",\"hoverlabel\":{\"align\":\"left\"},\"paper_bgcolor\":\"white\",\"plot_bgcolor\":\"#E5ECF6\",\"polar\":{\"bgcolor\":\"#E5ECF6\",\"angularaxis\":{\"gridcolor\":\"white\",\"linecolor\":\"white\",\"ticks\":\"\"},\"radialaxis\":{\"gridcolor\":\"white\",\"linecolor\":\"white\",\"ticks\":\"\"}},\"ternary\":{\"bgcolor\":\"#E5ECF6\",\"aaxis\":{\"gridcolor\":\"white\",\"linecolor\":\"white\",\"ticks\":\"\"},\"baxis\":{\"gridcolor\":\"white\",\"linecolor\":\"white\",\"ticks\":\"\"},\"caxis\":{\"gridcolor\":\"white\",\"linecolor\":\"white\",\"ticks\":\"\"}},\"coloraxis\":{\"colorbar\":{\"outlinewidth\":0,\"ticks\":\"\"}},\"colorscale\":{\"sequential\":[[0.0,\"#0d0887\"],[0.1111111111111111,\"#46039f\"],[0.2222222222222222,\"#7201a8\"],[0.3333333333333333,\"#9c179e\"],[0.4444444444444444,\"#bd3786\"],[0.5555555555555556,\"#d8576b\"],[0.6666666666666666,\"#ed7953\"],[0.7777777777777778,\"#fb9f3a\"],[0.8888888888888888,\"#fdca26\"],[1.0,\"#f0f921\"]],\"sequentialminus\":[[0.0,\"#0d0887\"],[0.1111111111111111,\"#46039f\"],[0.2222222222222222,\"#7201a8\"],[0.3333333333333333,\"#9c179e\"],[0.4444444444444444,\"#bd3786\"],[0.5555555555555556,\"#d8576b\"],[0.6666666666666666,\"#ed7953\"],[0.7777777777777778,\"#fb9f3a\"],[0.8888888888888888,\"#fdca26\"],[1.0,\"#f0f921\"]],\"diverging\":[[0,\"#8e0152\"],[0.1,\"#c51b7d\"],[0.2,\"#de77ae\"],[0.3,\"#f1b6da\"],[0.4,\"#fde0ef\"],[0.5,\"#f7f7f7\"],[0.6,\"#e6f5d0\"],[0.7,\"#b8e186\"],[0.8,\"#7fbc41\"],[0.9,\"#4d9221\"],[1,\"#276419\"]]},\"xaxis\":{\"gridcolor\":\"white\",\"linecolor\":\"white\",\"ticks\":\"\",\"title\":{\"standoff\":15},\"zerolinecolor\":\"white\",\"automargin\":true,\"zerolinewidth\":2},\"yaxis\":{\"gridcolor\":\"white\",\"linecolor\":\"white\",\"ticks\":\"\",\"title\":{\"standoff\":15},\"zerolinecolor\":\"white\",\"automargin\":true,\"zerolinewidth\":2},\"scene\":{\"xaxis\":{\"backgroundcolor\":\"#E5ECF6\",\"gridcolor\":\"white\",\"linecolor\":\"white\",\"showbackground\":true,\"ticks\":\"\",\"zerolinecolor\":\"white\",\"gridwidth\":2},\"yaxis\":{\"backgroundcolor\":\"#E5ECF6\",\"gridcolor\":\"white\",\"linecolor\":\"white\",\"showbackground\":true,\"ticks\":\"\",\"zerolinecolor\":\"white\",\"gridwidth\":2},\"zaxis\":{\"backgroundcolor\":\"#E5ECF6\",\"gridcolor\":\"white\",\"linecolor\":\"white\",\"showbackground\":true,\"ticks\":\"\",\"zerolinecolor\":\"white\",\"gridwidth\":2}},\"shapedefaults\":{\"line\":{\"color\":\"#2a3f5f\"}},\"annotationdefaults\":{\"arrowcolor\":\"#2a3f5f\",\"arrowhead\":0,\"arrowwidth\":1},\"geo\":{\"bgcolor\":\"white\",\"landcolor\":\"#E5ECF6\",\"subunitcolor\":\"white\",\"showland\":true,\"showlakes\":true,\"lakecolor\":\"white\"},\"title\":{\"x\":0.05},\"mapbox\":{\"style\":\"light\"}}},\"title\":{\"text\":\"Updating Parameter CES Predictions, 2024-11-02\"},\"xaxis\":{\"title\":{\"text\":\"Date\"}},\"yaxis\":{\"title\":{\"text\":\"Count\"}},\"hovermode\":\"x\"},                        {\"responsive\": true}                    ).then(function(){\n",
       "                            \n",
       "var gd = document.getElementById('3848dc01-bddc-4722-b615-d9bf1f2ec369');\n",
       "var x = new MutationObserver(function (mutations, observer) {{\n",
       "        var display = window.getComputedStyle(gd).display;\n",
       "        if (!display || display === 'none') {{\n",
       "            console.log([gd, 'removed!']);\n",
       "            Plotly.purge(gd);\n",
       "            observer.disconnect();\n",
       "        }}\n",
       "}});\n",
       "\n",
       "// Listen for the removal of the full notebook cells\n",
       "var notebookContainer = gd.closest('#notebook-container');\n",
       "if (notebookContainer) {{\n",
       "    x.observe(notebookContainer, {childList: true});\n",
       "}}\n",
       "\n",
       "// Listen for the clearing of the current output cell\n",
       "var outputEl = gd.closest('.output');\n",
       "if (outputEl) {{\n",
       "    x.observe(outputEl, {childList: true});\n",
       "}}\n",
       "\n",
       "                        })                };                });            </script>        </div>"
      ]
     },
     "metadata": {},
     "output_type": "display_data"
    },
    {
     "data": {
      "application/vnd.plotly.v1+json": {
       "config": {
        "plotlyServerURL": "https://plot.ly"
       },
       "data": [
        {
         "mode": "lines",
         "name": "Real Data",
         "type": "scatter",
         "x": [
          "2022-02-05T00:00:00",
          "2022-02-12T00:00:00",
          "2022-02-19T00:00:00",
          "2022-02-26T00:00:00",
          "2022-03-05T00:00:00",
          "2022-03-12T00:00:00",
          "2022-03-19T00:00:00",
          "2022-03-26T00:00:00",
          "2022-04-02T00:00:00",
          "2022-04-09T00:00:00",
          "2022-04-16T00:00:00",
          "2022-04-23T00:00:00",
          "2022-04-30T00:00:00",
          "2022-05-07T00:00:00",
          "2022-05-14T00:00:00",
          "2022-05-21T00:00:00",
          "2022-05-28T00:00:00",
          "2022-06-04T00:00:00",
          "2022-06-11T00:00:00",
          "2022-06-18T00:00:00",
          "2022-06-25T00:00:00",
          "2022-07-02T00:00:00",
          "2022-07-09T00:00:00",
          "2022-07-16T00:00:00",
          "2022-07-23T00:00:00",
          "2022-07-30T00:00:00",
          "2022-08-06T00:00:00",
          "2022-08-13T00:00:00",
          "2022-08-20T00:00:00",
          "2022-08-27T00:00:00",
          "2022-09-03T00:00:00",
          "2022-09-10T00:00:00",
          "2022-09-17T00:00:00",
          "2022-09-24T00:00:00",
          "2022-10-01T00:00:00",
          "2022-10-08T00:00:00",
          "2022-10-15T00:00:00",
          "2022-10-22T00:00:00",
          "2022-10-29T00:00:00",
          "2022-11-05T00:00:00",
          "2022-11-12T00:00:00",
          "2022-11-19T00:00:00",
          "2022-11-26T00:00:00",
          "2022-12-03T00:00:00",
          "2022-12-10T00:00:00",
          "2022-12-17T00:00:00",
          "2022-12-24T00:00:00",
          "2022-12-31T00:00:00",
          "2023-01-07T00:00:00",
          "2023-01-14T00:00:00",
          "2023-01-21T00:00:00",
          "2023-01-28T00:00:00",
          "2023-02-04T00:00:00",
          "2023-02-11T00:00:00",
          "2023-02-18T00:00:00",
          "2023-02-25T00:00:00",
          "2023-03-04T00:00:00",
          "2023-03-11T00:00:00",
          "2023-03-18T00:00:00",
          "2023-03-25T00:00:00",
          "2023-04-01T00:00:00",
          "2023-04-08T00:00:00",
          "2023-04-15T00:00:00",
          "2023-04-22T00:00:00",
          "2023-04-29T00:00:00",
          "2023-05-06T00:00:00",
          "2023-05-13T00:00:00",
          "2023-05-20T00:00:00",
          "2023-05-27T00:00:00",
          "2023-06-03T00:00:00",
          "2023-06-10T00:00:00",
          "2023-06-17T00:00:00",
          "2023-06-24T00:00:00",
          "2023-07-01T00:00:00",
          "2023-07-08T00:00:00",
          "2023-07-15T00:00:00",
          "2023-07-22T00:00:00",
          "2023-07-29T00:00:00",
          "2023-08-05T00:00:00",
          "2023-08-12T00:00:00",
          "2023-08-19T00:00:00",
          "2023-08-26T00:00:00",
          "2023-09-02T00:00:00",
          "2023-09-09T00:00:00",
          "2023-09-16T00:00:00",
          "2023-09-23T00:00:00",
          "2023-09-30T00:00:00",
          "2023-10-07T00:00:00",
          "2023-10-14T00:00:00",
          "2023-10-21T00:00:00",
          "2023-10-28T00:00:00",
          "2023-11-04T00:00:00",
          "2023-11-11T00:00:00",
          "2023-11-18T00:00:00",
          "2023-11-25T00:00:00",
          "2023-12-02T00:00:00",
          "2023-12-09T00:00:00",
          "2023-12-16T00:00:00",
          "2023-12-23T00:00:00",
          "2023-12-30T00:00:00",
          "2024-01-06T00:00:00",
          "2024-01-13T00:00:00",
          "2024-01-20T00:00:00",
          "2024-01-27T00:00:00",
          "2024-02-03T00:00:00",
          "2024-02-10T00:00:00",
          "2024-02-17T00:00:00",
          "2024-02-24T00:00:00",
          "2024-03-02T00:00:00",
          "2024-03-09T00:00:00",
          "2024-03-16T00:00:00",
          "2024-03-23T00:00:00",
          "2024-03-30T00:00:00",
          "2024-04-06T00:00:00",
          "2024-04-13T00:00:00",
          "2024-04-20T00:00:00",
          "2024-04-27T00:00:00",
          "2024-05-04T00:00:00",
          "2024-05-11T00:00:00",
          "2024-05-18T00:00:00",
          "2024-05-25T00:00:00",
          "2024-06-01T00:00:00",
          "2024-06-08T00:00:00",
          "2024-06-15T00:00:00",
          "2024-06-22T00:00:00",
          "2024-06-29T00:00:00",
          "2024-07-06T00:00:00",
          "2024-07-13T00:00:00",
          "2024-07-20T00:00:00",
          "2024-07-27T00:00:00",
          "2024-08-03T00:00:00",
          "2024-08-10T00:00:00",
          "2024-08-17T00:00:00",
          "2024-08-24T00:00:00",
          "2024-08-31T00:00:00",
          "2024-09-07T00:00:00",
          "2024-09-14T00:00:00",
          "2024-09-21T00:00:00",
          "2024-09-28T00:00:00",
          "2024-10-05T00:00:00",
          "2024-10-12T00:00:00",
          "2024-10-19T00:00:00",
          "2024-10-26T00:00:00",
          "2024-11-02T00:00:00",
          "2024-11-09T00:00:00",
          "2024-11-16T00:00:00",
          "2024-11-23T00:00:00",
          "2024-11-30T00:00:00",
          "2024-12-07T00:00:00",
          "2024-12-14T00:00:00",
          "2024-12-21T00:00:00",
          "2024-12-28T00:00:00",
          "2025-01-04T00:00:00",
          "2025-01-11T00:00:00",
          "2025-01-18T00:00:00",
          "2025-01-25T00:00:00",
          "2025-02-01T00:00:00",
          "2025-02-08T00:00:00",
          "2025-02-15T00:00:00",
          "2025-02-22T00:00:00",
          "2025-03-01T00:00:00",
          "2025-03-08T00:00:00",
          "2025-03-15T00:00:00",
          "2025-03-22T00:00:00",
          "2025-03-29T00:00:00",
          "2025-04-05T00:00:00"
         ],
         "y": [
          1091,
          1164,
          1493,
          1603,
          1791,
          2097,
          2625,
          2918,
          3008,
          3149,
          3308,
          3474,
          3182,
          3175,
          3119,
          3133,
          2738,
          2678,
          2210,
          1776,
          1366,
          1073,
          776,
          766,
          628,
          522,
          486,
          490,
          483,
          483,
          545,
          576,
          665,
          796,
          921,
          1316,
          1674,
          2292,
          4184,
          6408,
          8594,
          10971,
          18177,
          26834,
          24036,
          21612,
          19631,
          19479,
          14074,
          7185,
          4489,
          3091,
          2596,
          2177,
          1908,
          1647,
          1503,
          1372,
          1415,
          1331,
          1295,
          1198,
          1077,
          982,
          903,
          994,
          980,
          1116,
          974,
          939,
          935,
          873,
          813,
          836,
          699,
          736,
          645,
          771,
          690,
          706,
          738,
          793,
          875,
          804,
          821,
          881,
          1026,
          1110,
          1215,
          1470,
          1614,
          2014,
          2775,
          3491,
          4386,
          5955,
          7497,
          10273,
          15722,
          21682,
          19548,
          15905,
          13303,
          13025,
          11964,
          11629,
          11126,
          10870,
          10814,
          9416,
          7324,
          6049,
          5574,
          5071,
          4073,
          2943,
          2420,
          1485,
          852,
          682,
          611,
          591,
          511,
          518,
          441,
          356,
          342,
          367,
          325,
          273,
          275,
          275,
          275,
          274,
          262,
          223,
          319,
          293,
          223,
          287,
          295,
          553,
          1084,
          977,
          2081,
          2535,
          3099,
          4297,
          6307,
          9192,
          15467,
          27748,
          38767,
          30796,
          33020,
          40682,
          51337,
          54374,
          46244,
          37881,
          30807,
          23956,
          18384,
          13600,
          9597,
          6273
         ]
        },
        {
         "line": {
          "color": "#414487"
         },
         "mode": "lines",
         "name": "CES-hi-80",
         "type": "scatter",
         "x": [
          "2024-11-23T00:00:00",
          "2024-11-30T00:00:00",
          "2024-12-07T00:00:00",
          "2024-12-14T00:00:00"
         ],
         "y": [
          8768.55283203125,
          14182.0572265625,
          13211.61171875,
          13528.856640625001
         ]
        },
        {
         "line": {
          "color": "#1e9c89"
         },
         "mode": "lines",
         "name": "CES-hi-95",
         "type": "scatter",
         "x": [
          "2024-11-23T00:00:00",
          "2024-11-30T00:00:00",
          "2024-12-07T00:00:00",
          "2024-12-14T00:00:00"
         ],
         "y": [
          9889.88872070312,
          15244.45139160156,
          14341.292651367183,
          14604.561010742187
         ]
        },
        {
         "fill": "tonexty",
         "fillcolor": "#1e9c89",
         "line": {
          "color": "#1e9c89"
         },
         "mode": "lines",
         "name": "CES-lo-95",
         "type": "scatter",
         "x": [
          "2024-11-23T00:00:00",
          "2024-11-30T00:00:00",
          "2024-12-07T00:00:00",
          "2024-12-14T00:00:00"
         ],
         "y": [
          3339.568518066407,
          8894.647119140625,
          8067.463415527344,
          8515.108154296875
         ]
        },
        {
         "fill": "tonexty",
         "fillcolor": "#414487",
         "line": {
          "color": "#414487"
         },
         "mode": "lines",
         "name": "CES-lo-80",
         "type": "scatter",
         "x": [
          "2024-11-23T00:00:00",
          "2024-11-30T00:00:00",
          "2024-12-07T00:00:00",
          "2024-12-14T00:00:00"
         ],
         "y": [
          4439.483251953125,
          9947.69931640625,
          9198.8990234375,
          9509.6521484375
         ]
        },
        {
         "line": {
          "color": "#2c728e"
         },
         "mode": "lines",
         "name": "CES",
         "type": "scatter",
         "x": [
          "2024-11-23T00:00:00",
          "2024-11-30T00:00:00",
          "2024-12-07T00:00:00",
          "2024-12-14T00:00:00"
         ],
         "y": [
          6634.753082275391,
          12030.904907226562,
          11192.435607910156,
          11514.206115722656
         ]
        }
       ],
       "layout": {
        "autosize": true,
        "hovermode": "x",
        "template": {
         "data": {
          "bar": [
           {
            "error_x": {
             "color": "#2a3f5f"
            },
            "error_y": {
             "color": "#2a3f5f"
            },
            "marker": {
             "line": {
              "color": "#E5ECF6",
              "width": 0.5
             },
             "pattern": {
              "fillmode": "overlay",
              "size": 10,
              "solidity": 0.2
             }
            },
            "type": "bar"
           }
          ],
          "barpolar": [
           {
            "marker": {
             "line": {
              "color": "#E5ECF6",
              "width": 0.5
             },
             "pattern": {
              "fillmode": "overlay",
              "size": 10,
              "solidity": 0.2
             }
            },
            "type": "barpolar"
           }
          ],
          "carpet": [
           {
            "aaxis": {
             "endlinecolor": "#2a3f5f",
             "gridcolor": "white",
             "linecolor": "white",
             "minorgridcolor": "white",
             "startlinecolor": "#2a3f5f"
            },
            "baxis": {
             "endlinecolor": "#2a3f5f",
             "gridcolor": "white",
             "linecolor": "white",
             "minorgridcolor": "white",
             "startlinecolor": "#2a3f5f"
            },
            "type": "carpet"
           }
          ],
          "choropleth": [
           {
            "colorbar": {
             "outlinewidth": 0,
             "ticks": ""
            },
            "type": "choropleth"
           }
          ],
          "contour": [
           {
            "colorbar": {
             "outlinewidth": 0,
             "ticks": ""
            },
            "colorscale": [
             [
              0,
              "#0d0887"
             ],
             [
              0.1111111111111111,
              "#46039f"
             ],
             [
              0.2222222222222222,
              "#7201a8"
             ],
             [
              0.3333333333333333,
              "#9c179e"
             ],
             [
              0.4444444444444444,
              "#bd3786"
             ],
             [
              0.5555555555555556,
              "#d8576b"
             ],
             [
              0.6666666666666666,
              "#ed7953"
             ],
             [
              0.7777777777777778,
              "#fb9f3a"
             ],
             [
              0.8888888888888888,
              "#fdca26"
             ],
             [
              1,
              "#f0f921"
             ]
            ],
            "type": "contour"
           }
          ],
          "contourcarpet": [
           {
            "colorbar": {
             "outlinewidth": 0,
             "ticks": ""
            },
            "type": "contourcarpet"
           }
          ],
          "heatmap": [
           {
            "colorbar": {
             "outlinewidth": 0,
             "ticks": ""
            },
            "colorscale": [
             [
              0,
              "#0d0887"
             ],
             [
              0.1111111111111111,
              "#46039f"
             ],
             [
              0.2222222222222222,
              "#7201a8"
             ],
             [
              0.3333333333333333,
              "#9c179e"
             ],
             [
              0.4444444444444444,
              "#bd3786"
             ],
             [
              0.5555555555555556,
              "#d8576b"
             ],
             [
              0.6666666666666666,
              "#ed7953"
             ],
             [
              0.7777777777777778,
              "#fb9f3a"
             ],
             [
              0.8888888888888888,
              "#fdca26"
             ],
             [
              1,
              "#f0f921"
             ]
            ],
            "type": "heatmap"
           }
          ],
          "heatmapgl": [
           {
            "colorbar": {
             "outlinewidth": 0,
             "ticks": ""
            },
            "colorscale": [
             [
              0,
              "#0d0887"
             ],
             [
              0.1111111111111111,
              "#46039f"
             ],
             [
              0.2222222222222222,
              "#7201a8"
             ],
             [
              0.3333333333333333,
              "#9c179e"
             ],
             [
              0.4444444444444444,
              "#bd3786"
             ],
             [
              0.5555555555555556,
              "#d8576b"
             ],
             [
              0.6666666666666666,
              "#ed7953"
             ],
             [
              0.7777777777777778,
              "#fb9f3a"
             ],
             [
              0.8888888888888888,
              "#fdca26"
             ],
             [
              1,
              "#f0f921"
             ]
            ],
            "type": "heatmapgl"
           }
          ],
          "histogram": [
           {
            "marker": {
             "pattern": {
              "fillmode": "overlay",
              "size": 10,
              "solidity": 0.2
             }
            },
            "type": "histogram"
           }
          ],
          "histogram2d": [
           {
            "colorbar": {
             "outlinewidth": 0,
             "ticks": ""
            },
            "colorscale": [
             [
              0,
              "#0d0887"
             ],
             [
              0.1111111111111111,
              "#46039f"
             ],
             [
              0.2222222222222222,
              "#7201a8"
             ],
             [
              0.3333333333333333,
              "#9c179e"
             ],
             [
              0.4444444444444444,
              "#bd3786"
             ],
             [
              0.5555555555555556,
              "#d8576b"
             ],
             [
              0.6666666666666666,
              "#ed7953"
             ],
             [
              0.7777777777777778,
              "#fb9f3a"
             ],
             [
              0.8888888888888888,
              "#fdca26"
             ],
             [
              1,
              "#f0f921"
             ]
            ],
            "type": "histogram2d"
           }
          ],
          "histogram2dcontour": [
           {
            "colorbar": {
             "outlinewidth": 0,
             "ticks": ""
            },
            "colorscale": [
             [
              0,
              "#0d0887"
             ],
             [
              0.1111111111111111,
              "#46039f"
             ],
             [
              0.2222222222222222,
              "#7201a8"
             ],
             [
              0.3333333333333333,
              "#9c179e"
             ],
             [
              0.4444444444444444,
              "#bd3786"
             ],
             [
              0.5555555555555556,
              "#d8576b"
             ],
             [
              0.6666666666666666,
              "#ed7953"
             ],
             [
              0.7777777777777778,
              "#fb9f3a"
             ],
             [
              0.8888888888888888,
              "#fdca26"
             ],
             [
              1,
              "#f0f921"
             ]
            ],
            "type": "histogram2dcontour"
           }
          ],
          "mesh3d": [
           {
            "colorbar": {
             "outlinewidth": 0,
             "ticks": ""
            },
            "type": "mesh3d"
           }
          ],
          "parcoords": [
           {
            "line": {
             "colorbar": {
              "outlinewidth": 0,
              "ticks": ""
             }
            },
            "type": "parcoords"
           }
          ],
          "pie": [
           {
            "automargin": true,
            "type": "pie"
           }
          ],
          "scatter": [
           {
            "fillpattern": {
             "fillmode": "overlay",
             "size": 10,
             "solidity": 0.2
            },
            "type": "scatter"
           }
          ],
          "scatter3d": [
           {
            "line": {
             "colorbar": {
              "outlinewidth": 0,
              "ticks": ""
             }
            },
            "marker": {
             "colorbar": {
              "outlinewidth": 0,
              "ticks": ""
             }
            },
            "type": "scatter3d"
           }
          ],
          "scattercarpet": [
           {
            "marker": {
             "colorbar": {
              "outlinewidth": 0,
              "ticks": ""
             }
            },
            "type": "scattercarpet"
           }
          ],
          "scattergeo": [
           {
            "marker": {
             "colorbar": {
              "outlinewidth": 0,
              "ticks": ""
             }
            },
            "type": "scattergeo"
           }
          ],
          "scattergl": [
           {
            "marker": {
             "colorbar": {
              "outlinewidth": 0,
              "ticks": ""
             }
            },
            "type": "scattergl"
           }
          ],
          "scattermapbox": [
           {
            "marker": {
             "colorbar": {
              "outlinewidth": 0,
              "ticks": ""
             }
            },
            "type": "scattermapbox"
           }
          ],
          "scatterpolar": [
           {
            "marker": {
             "colorbar": {
              "outlinewidth": 0,
              "ticks": ""
             }
            },
            "type": "scatterpolar"
           }
          ],
          "scatterpolargl": [
           {
            "marker": {
             "colorbar": {
              "outlinewidth": 0,
              "ticks": ""
             }
            },
            "type": "scatterpolargl"
           }
          ],
          "scatterternary": [
           {
            "marker": {
             "colorbar": {
              "outlinewidth": 0,
              "ticks": ""
             }
            },
            "type": "scatterternary"
           }
          ],
          "surface": [
           {
            "colorbar": {
             "outlinewidth": 0,
             "ticks": ""
            },
            "colorscale": [
             [
              0,
              "#0d0887"
             ],
             [
              0.1111111111111111,
              "#46039f"
             ],
             [
              0.2222222222222222,
              "#7201a8"
             ],
             [
              0.3333333333333333,
              "#9c179e"
             ],
             [
              0.4444444444444444,
              "#bd3786"
             ],
             [
              0.5555555555555556,
              "#d8576b"
             ],
             [
              0.6666666666666666,
              "#ed7953"
             ],
             [
              0.7777777777777778,
              "#fb9f3a"
             ],
             [
              0.8888888888888888,
              "#fdca26"
             ],
             [
              1,
              "#f0f921"
             ]
            ],
            "type": "surface"
           }
          ],
          "table": [
           {
            "cells": {
             "fill": {
              "color": "#EBF0F8"
             },
             "line": {
              "color": "white"
             }
            },
            "header": {
             "fill": {
              "color": "#C8D4E3"
             },
             "line": {
              "color": "white"
             }
            },
            "type": "table"
           }
          ]
         },
         "layout": {
          "annotationdefaults": {
           "arrowcolor": "#2a3f5f",
           "arrowhead": 0,
           "arrowwidth": 1
          },
          "autotypenumbers": "strict",
          "coloraxis": {
           "colorbar": {
            "outlinewidth": 0,
            "ticks": ""
           }
          },
          "colorscale": {
           "diverging": [
            [
             0,
             "#8e0152"
            ],
            [
             0.1,
             "#c51b7d"
            ],
            [
             0.2,
             "#de77ae"
            ],
            [
             0.3,
             "#f1b6da"
            ],
            [
             0.4,
             "#fde0ef"
            ],
            [
             0.5,
             "#f7f7f7"
            ],
            [
             0.6,
             "#e6f5d0"
            ],
            [
             0.7,
             "#b8e186"
            ],
            [
             0.8,
             "#7fbc41"
            ],
            [
             0.9,
             "#4d9221"
            ],
            [
             1,
             "#276419"
            ]
           ],
           "sequential": [
            [
             0,
             "#0d0887"
            ],
            [
             0.1111111111111111,
             "#46039f"
            ],
            [
             0.2222222222222222,
             "#7201a8"
            ],
            [
             0.3333333333333333,
             "#9c179e"
            ],
            [
             0.4444444444444444,
             "#bd3786"
            ],
            [
             0.5555555555555556,
             "#d8576b"
            ],
            [
             0.6666666666666666,
             "#ed7953"
            ],
            [
             0.7777777777777778,
             "#fb9f3a"
            ],
            [
             0.8888888888888888,
             "#fdca26"
            ],
            [
             1,
             "#f0f921"
            ]
           ],
           "sequentialminus": [
            [
             0,
             "#0d0887"
            ],
            [
             0.1111111111111111,
             "#46039f"
            ],
            [
             0.2222222222222222,
             "#7201a8"
            ],
            [
             0.3333333333333333,
             "#9c179e"
            ],
            [
             0.4444444444444444,
             "#bd3786"
            ],
            [
             0.5555555555555556,
             "#d8576b"
            ],
            [
             0.6666666666666666,
             "#ed7953"
            ],
            [
             0.7777777777777778,
             "#fb9f3a"
            ],
            [
             0.8888888888888888,
             "#fdca26"
            ],
            [
             1,
             "#f0f921"
            ]
           ]
          },
          "colorway": [
           "#636efa",
           "#EF553B",
           "#00cc96",
           "#ab63fa",
           "#FFA15A",
           "#19d3f3",
           "#FF6692",
           "#B6E880",
           "#FF97FF",
           "#FECB52"
          ],
          "font": {
           "color": "#2a3f5f"
          },
          "geo": {
           "bgcolor": "white",
           "lakecolor": "white",
           "landcolor": "#E5ECF6",
           "showlakes": true,
           "showland": true,
           "subunitcolor": "white"
          },
          "hoverlabel": {
           "align": "left"
          },
          "hovermode": "closest",
          "mapbox": {
           "style": "light"
          },
          "paper_bgcolor": "white",
          "plot_bgcolor": "#E5ECF6",
          "polar": {
           "angularaxis": {
            "gridcolor": "white",
            "linecolor": "white",
            "ticks": ""
           },
           "bgcolor": "#E5ECF6",
           "radialaxis": {
            "gridcolor": "white",
            "linecolor": "white",
            "ticks": ""
           }
          },
          "scene": {
           "xaxis": {
            "backgroundcolor": "#E5ECF6",
            "gridcolor": "white",
            "gridwidth": 2,
            "linecolor": "white",
            "showbackground": true,
            "ticks": "",
            "zerolinecolor": "white"
           },
           "yaxis": {
            "backgroundcolor": "#E5ECF6",
            "gridcolor": "white",
            "gridwidth": 2,
            "linecolor": "white",
            "showbackground": true,
            "ticks": "",
            "zerolinecolor": "white"
           },
           "zaxis": {
            "backgroundcolor": "#E5ECF6",
            "gridcolor": "white",
            "gridwidth": 2,
            "linecolor": "white",
            "showbackground": true,
            "ticks": "",
            "zerolinecolor": "white"
           }
          },
          "shapedefaults": {
           "line": {
            "color": "#2a3f5f"
           }
          },
          "ternary": {
           "aaxis": {
            "gridcolor": "white",
            "linecolor": "white",
            "ticks": ""
           },
           "baxis": {
            "gridcolor": "white",
            "linecolor": "white",
            "ticks": ""
           },
           "bgcolor": "#E5ECF6",
           "caxis": {
            "gridcolor": "white",
            "linecolor": "white",
            "ticks": ""
           }
          },
          "title": {
           "x": 0.05
          },
          "xaxis": {
           "automargin": true,
           "gridcolor": "white",
           "linecolor": "white",
           "ticks": "",
           "title": {
            "standoff": 15
           },
           "zerolinecolor": "white",
           "zerolinewidth": 2
          },
          "yaxis": {
           "automargin": true,
           "gridcolor": "white",
           "linecolor": "white",
           "ticks": "",
           "title": {
            "standoff": 15
           },
           "zerolinecolor": "white",
           "zerolinewidth": 2
          }
         }
        },
        "title": {
         "text": "Updating Parameter CES Predictions, 2024-11-16"
        },
        "xaxis": {
         "autorange": true,
         "range": [
          "2022-02-05",
          "2025-04-05"
         ],
         "title": {
          "text": "Date"
         },
         "type": "date"
        },
        "yaxis": {
         "autorange": true,
         "range": [
          -2785.3888888888887,
          57382.38888888889
         ],
         "title": {
          "text": "Count"
         },
         "type": "linear"
        }
       }
      },
      "image/png": "[encoded data removed]",
      "text/html": [
       "<div>                            <div id=\"10426721-af37-46ea-9a73-0097364beb19\" class=\"plotly-graph-div\" style=\"height:525px; width:100%;\"></div>            <script type=\"text/javascript\">                require([\"plotly\"], function(Plotly) {                    window.PLOTLYENV=window.PLOTLYENV || {};                                    if (document.getElementById(\"10426721-af37-46ea-9a73-0097364beb19\")) {                    Plotly.newPlot(                        \"10426721-af37-46ea-9a73-0097364beb19\",                        [{\"mode\":\"lines\",\"name\":\"Real Data\",\"x\":[\"2022-02-05T00:00:00\",\"2022-02-12T00:00:00\",\"2022-02-19T00:00:00\",\"2022-02-26T00:00:00\",\"2022-03-05T00:00:00\",\"2022-03-12T00:00:00\",\"2022-03-19T00:00:00\",\"2022-03-26T00:00:00\",\"2022-04-02T00:00:00\",\"2022-04-09T00:00:00\",\"2022-04-16T00:00:00\",\"2022-04-23T00:00:00\",\"2022-04-30T00:00:00\",\"2022-05-07T00:00:00\",\"2022-05-14T00:00:00\",\"2022-05-21T00:00:00\",\"2022-05-28T00:00:00\",\"2022-06-04T00:00:00\",\"2022-06-11T00:00:00\",\"2022-06-18T00:00:00\",\"2022-06-25T00:00:00\",\"2022-07-02T00:00:00\",\"2022-07-09T00:00:00\",\"2022-07-16T00:00:00\",\"2022-07-23T00:00:00\",\"2022-07-30T00:00:00\",\"2022-08-06T00:00:00\",\"2022-08-13T00:00:00\",\"2022-08-20T00:00:00\",\"2022-08-27T00:00:00\",\"2022-09-03T00:00:00\",\"2022-09-10T00:00:00\",\"2022-09-17T00:00:00\",\"2022-09-24T00:00:00\",\"2022-10-01T00:00:00\",\"2022-10-08T00:00:00\",\"2022-10-15T00:00:00\",\"2022-10-22T00:00:00\",\"2022-10-29T00:00:00\",\"2022-11-05T00:00:00\",\"2022-11-12T00:00:00\",\"2022-11-19T00:00:00\",\"2022-11-26T00:00:00\",\"2022-12-03T00:00:00\",\"2022-12-10T00:00:00\",\"2022-12-17T00:00:00\",\"2022-12-24T00:00:00\",\"2022-12-31T00:00:00\",\"2023-01-07T00:00:00\",\"2023-01-14T00:00:00\",\"2023-01-21T00:00:00\",\"2023-01-28T00:00:00\",\"2023-02-04T00:00:00\",\"2023-02-11T00:00:00\",\"2023-02-18T00:00:00\",\"2023-02-25T00:00:00\",\"2023-03-04T00:00:00\",\"2023-03-11T00:00:00\",\"2023-03-18T00:00:00\",\"2023-03-25T00:00:00\",\"2023-04-01T00:00:00\",\"2023-04-08T00:00:00\",\"2023-04-15T00:00:00\",\"2023-04-22T00:00:00\",\"2023-04-29T00:00:00\",\"2023-05-06T00:00:00\",\"2023-05-13T00:00:00\",\"2023-05-20T00:00:00\",\"2023-05-27T00:00:00\",\"2023-06-03T00:00:00\",\"2023-06-10T00:00:00\",\"2023-06-17T00:00:00\",\"2023-06-24T00:00:00\",\"2023-07-01T00:00:00\",\"2023-07-08T00:00:00\",\"2023-07-15T00:00:00\",\"2023-07-22T00:00:00\",\"2023-07-29T00:00:00\",\"2023-08-05T00:00:00\",\"2023-08-12T00:00:00\",\"2023-08-19T00:00:00\",\"2023-08-26T00:00:00\",\"2023-09-02T00:00:00\",\"2023-09-09T00:00:00\",\"2023-09-16T00:00:00\",\"2023-09-23T00:00:00\",\"2023-09-30T00:00:00\",\"2023-10-07T00:00:00\",\"2023-10-14T00:00:00\",\"2023-10-21T00:00:00\",\"2023-10-28T00:00:00\",\"2023-11-04T00:00:00\",\"2023-11-11T00:00:00\",\"2023-11-18T00:00:00\",\"2023-11-25T00:00:00\",\"2023-12-02T00:00:00\",\"2023-12-09T00:00:00\",\"2023-12-16T00:00:00\",\"2023-12-23T00:00:00\",\"2023-12-30T00:00:00\",\"2024-01-06T00:00:00\",\"2024-01-13T00:00:00\",\"2024-01-20T00:00:00\",\"2024-01-27T00:00:00\",\"2024-02-03T00:00:00\",\"2024-02-10T00:00:00\",\"2024-02-17T00:00:00\",\"2024-02-24T00:00:00\",\"2024-03-02T00:00:00\",\"2024-03-09T00:00:00\",\"2024-03-16T00:00:00\",\"2024-03-23T00:00:00\",\"2024-03-30T00:00:00\",\"2024-04-06T00:00:00\",\"2024-04-13T00:00:00\",\"2024-04-20T00:00:00\",\"2024-04-27T00:00:00\",\"2024-05-04T00:00:00\",\"2024-05-11T00:00:00\",\"2024-05-18T00:00:00\",\"2024-05-25T00:00:00\",\"2024-06-01T00:00:00\",\"2024-06-08T00:00:00\",\"2024-06-15T00:00:00\",\"2024-06-22T00:00:00\",\"2024-06-29T00:00:00\",\"2024-07-06T00:00:00\",\"2024-07-13T00:00:00\",\"2024-07-20T00:00:00\",\"2024-07-27T00:00:00\",\"2024-08-03T00:00:00\",\"2024-08-10T00:00:00\",\"2024-08-17T00:00:00\",\"2024-08-24T00:00:00\",\"2024-08-31T00:00:00\",\"2024-09-07T00:00:00\",\"2024-09-14T00:00:00\",\"2024-09-21T00:00:00\",\"2024-09-28T00:00:00\",\"2024-10-05T00:00:00\",\"2024-10-12T00:00:00\",\"2024-10-19T00:00:00\",\"2024-10-26T00:00:00\",\"2024-11-02T00:00:00\",\"2024-11-09T00:00:00\",\"2024-11-16T00:00:00\",\"2024-11-23T00:00:00\",\"2024-11-30T00:00:00\",\"2024-12-07T00:00:00\",\"2024-12-14T00:00:00\",\"2024-12-21T00:00:00\",\"2024-12-28T00:00:00\",\"2025-01-04T00:00:00\",\"2025-01-11T00:00:00\",\"2025-01-18T00:00:00\",\"2025-01-25T00:00:00\",\"2025-02-01T00:00:00\",\"2025-02-08T00:00:00\",\"2025-02-15T00:00:00\",\"2025-02-22T00:00:00\",\"2025-03-01T00:00:00\",\"2025-03-08T00:00:00\",\"2025-03-15T00:00:00\",\"2025-03-22T00:00:00\",\"2025-03-29T00:00:00\",\"2025-04-05T00:00:00\"],\"y\":[1091.0,1164.0,1493.0,1603.0,1791.0,2097.0,2625.0,2918.0,3008.0,3149.0,3308.0,3474.0,3182.0,3175.0,3119.0,3133.0,2738.0,2678.0,2210.0,1776.0,1366.0,1073.0,776.0,766.0,628.0,522.0,486.0,490.0,483.0,483.0,545.0,576.0,665.0,796.0,921.0,1316.0,1674.0,2292.0,4184.0,6408.0,8594.0,10971.0,18177.0,26834.0,24036.0,21612.0,19631.0,19479.0,14074.0,7185.0,4489.0,3091.0,2596.0,2177.0,1908.0,1647.0,1503.0,1372.0,1415.0,1331.0,1295.0,1198.0,1077.0,982.0,903.0,994.0,980.0,1116.0,974.0,939.0,935.0,873.0,813.0,836.0,699.0,736.0,645.0,771.0,690.0,706.0,738.0,793.0,875.0,804.0,821.0,881.0,1026.0,1110.0,1215.0,1470.0,1614.0,2014.0,2775.0,3491.0,4386.0,5955.0,7497.0,10273.0,15722.0,21682.0,19548.0,15905.0,13303.0,13025.0,11964.0,11629.0,11126.0,10870.0,10814.0,9416.0,7324.0,6049.0,5574.0,5071.0,4073.0,2943.0,2420.0,1485.0,852.0,682.0,611.0,591.0,511.0,518.0,441.0,356.0,342.0,367.0,325.0,273.0,275.0,275.0,275.0,274.0,262.0,223.0,319.0,293.0,223.0,287.0,295.0,553.0,1084.0,977.0,2081.0,2535.0,3099.0,4297.0,6307.0,9192.0,15467.0,27748.0,38767.0,30796.0,33020.0,40682.0,51337.0,54374.0,46244.0,37881.0,30807.0,23956.0,18384.0,13600.0,9597.0,6273.0],\"type\":\"scatter\"},{\"line\":{\"color\":\"#414487\"},\"mode\":\"lines\",\"name\":\"CES-hi-80\",\"x\":[\"2024-11-23T00:00:00\",\"2024-11-30T00:00:00\",\"2024-12-07T00:00:00\",\"2024-12-14T00:00:00\"],\"y\":[8768.55283203125,14182.0572265625,13211.61171875,13528.856640625001],\"type\":\"scatter\"},{\"line\":{\"color\":\"#1e9c89\"},\"mode\":\"lines\",\"name\":\"CES-hi-95\",\"x\":[\"2024-11-23T00:00:00\",\"2024-11-30T00:00:00\",\"2024-12-07T00:00:00\",\"2024-12-14T00:00:00\"],\"y\":[9889.88872070312,15244.45139160156,14341.292651367183,14604.561010742187],\"type\":\"scatter\"},{\"fill\":\"tonexty\",\"fillcolor\":\"#1e9c89\",\"line\":{\"color\":\"#1e9c89\"},\"mode\":\"lines\",\"name\":\"CES-lo-95\",\"x\":[\"2024-11-23T00:00:00\",\"2024-11-30T00:00:00\",\"2024-12-07T00:00:00\",\"2024-12-14T00:00:00\"],\"y\":[3339.568518066407,8894.647119140625,8067.463415527344,8515.108154296875],\"type\":\"scatter\"},{\"fill\":\"tonexty\",\"fillcolor\":\"#414487\",\"line\":{\"color\":\"#414487\"},\"mode\":\"lines\",\"name\":\"CES-lo-80\",\"x\":[\"2024-11-23T00:00:00\",\"2024-11-30T00:00:00\",\"2024-12-07T00:00:00\",\"2024-12-14T00:00:00\"],\"y\":[4439.483251953125,9947.69931640625,9198.8990234375,9509.6521484375],\"type\":\"scatter\"},{\"line\":{\"color\":\"#2c728e\"},\"mode\":\"lines\",\"name\":\"CES\",\"x\":[\"2024-11-23T00:00:00\",\"2024-11-30T00:00:00\",\"2024-12-07T00:00:00\",\"2024-12-14T00:00:00\"],\"y\":[6634.753082275391,12030.904907226562,11192.435607910156,11514.206115722656],\"type\":\"scatter\"}],                        {\"template\":{\"data\":{\"histogram2dcontour\":[{\"type\":\"histogram2dcontour\",\"colorbar\":{\"outlinewidth\":0,\"ticks\":\"\"},\"colorscale\":[[0.0,\"#0d0887\"],[0.1111111111111111,\"#46039f\"],[0.2222222222222222,\"#7201a8\"],[0.3333333333333333,\"#9c179e\"],[0.4444444444444444,\"#bd3786\"],[0.5555555555555556,\"#d8576b\"],[0.6666666666666666,\"#ed7953\"],[0.7777777777777778,\"#fb9f3a\"],[0.8888888888888888,\"#fdca26\"],[1.0,\"#f0f921\"]]}],\"choropleth\":[{\"type\":\"choropleth\",\"colorbar\":{\"outlinewidth\":0,\"ticks\":\"\"}}],\"histogram2d\":[{\"type\":\"histogram2d\",\"colorbar\":{\"outlinewidth\":0,\"ticks\":\"\"},\"colorscale\":[[0.0,\"#0d0887\"],[0.1111111111111111,\"#46039f\"],[0.2222222222222222,\"#7201a8\"],[0.3333333333333333,\"#9c179e\"],[0.4444444444444444,\"#bd3786\"],[0.5555555555555556,\"#d8576b\"],[0.6666666666666666,\"#ed7953\"],[0.7777777777777778,\"#fb9f3a\"],[0.8888888888888888,\"#fdca26\"],[1.0,\"#f0f921\"]]}],\"heatmap\":[{\"type\":\"heatmap\",\"colorbar\":{\"outlinewidth\":0,\"ticks\":\"\"},\"colorscale\":[[0.0,\"#0d0887\"],[0.1111111111111111,\"#46039f\"],[0.2222222222222222,\"#7201a8\"],[0.3333333333333333,\"#9c179e\"],[0.4444444444444444,\"#bd3786\"],[0.5555555555555556,\"#d8576b\"],[0.6666666666666666,\"#ed7953\"],[0.7777777777777778,\"#fb9f3a\"],[0.8888888888888888,\"#fdca26\"],[1.0,\"#f0f921\"]]}],\"heatmapgl\":[{\"type\":\"heatmapgl\",\"colorbar\":{\"outlinewidth\":0,\"ticks\":\"\"},\"colorscale\":[[0.0,\"#0d0887\"],[0.1111111111111111,\"#46039f\"],[0.2222222222222222,\"#7201a8\"],[0.3333333333333333,\"#9c179e\"],[0.4444444444444444,\"#bd3786\"],[0.5555555555555556,\"#d8576b\"],[0.6666666666666666,\"#ed7953\"],[0.7777777777777778,\"#fb9f3a\"],[0.8888888888888888,\"#fdca26\"],[1.0,\"#f0f921\"]]}],\"contourcarpet\":[{\"type\":\"contourcarpet\",\"colorbar\":{\"outlinewidth\":0,\"ticks\":\"\"}}],\"contour\":[{\"type\":\"contour\",\"colorbar\":{\"outlinewidth\":0,\"ticks\":\"\"},\"colorscale\":[[0.0,\"#0d0887\"],[0.1111111111111111,\"#46039f\"],[0.2222222222222222,\"#7201a8\"],[0.3333333333333333,\"#9c179e\"],[0.4444444444444444,\"#bd3786\"],[0.5555555555555556,\"#d8576b\"],[0.6666666666666666,\"#ed7953\"],[0.7777777777777778,\"#fb9f3a\"],[0.8888888888888888,\"#fdca26\"],[1.0,\"#f0f921\"]]}],\"surface\":[{\"type\":\"surface\",\"colorbar\":{\"outlinewidth\":0,\"ticks\":\"\"},\"colorscale\":[[0.0,\"#0d0887\"],[0.1111111111111111,\"#46039f\"],[0.2222222222222222,\"#7201a8\"],[0.3333333333333333,\"#9c179e\"],[0.4444444444444444,\"#bd3786\"],[0.5555555555555556,\"#d8576b\"],[0.6666666666666666,\"#ed7953\"],[0.7777777777777778,\"#fb9f3a\"],[0.8888888888888888,\"#fdca26\"],[1.0,\"#f0f921\"]]}],\"mesh3d\":[{\"type\":\"mesh3d\",\"colorbar\":{\"outlinewidth\":0,\"ticks\":\"\"}}],\"scatter\":[{\"fillpattern\":{\"fillmode\":\"overlay\",\"size\":10,\"solidity\":0.2},\"type\":\"scatter\"}],\"parcoords\":[{\"type\":\"parcoords\",\"line\":{\"colorbar\":{\"outlinewidth\":0,\"ticks\":\"\"}}}],\"scatterpolargl\":[{\"type\":\"scatterpolargl\",\"marker\":{\"colorbar\":{\"outlinewidth\":0,\"ticks\":\"\"}}}],\"bar\":[{\"error_x\":{\"color\":\"#2a3f5f\"},\"error_y\":{\"color\":\"#2a3f5f\"},\"marker\":{\"line\":{\"color\":\"#E5ECF6\",\"width\":0.5},\"pattern\":{\"fillmode\":\"overlay\",\"size\":10,\"solidity\":0.2}},\"type\":\"bar\"}],\"scattergeo\":[{\"type\":\"scattergeo\",\"marker\":{\"colorbar\":{\"outlinewidth\":0,\"ticks\":\"\"}}}],\"scatterpolar\":[{\"type\":\"scatterpolar\",\"marker\":{\"colorbar\":{\"outlinewidth\":0,\"ticks\":\"\"}}}],\"histogram\":[{\"marker\":{\"pattern\":{\"fillmode\":\"overlay\",\"size\":10,\"solidity\":0.2}},\"type\":\"histogram\"}],\"scattergl\":[{\"type\":\"scattergl\",\"marker\":{\"colorbar\":{\"outlinewidth\":0,\"ticks\":\"\"}}}],\"scatter3d\":[{\"type\":\"scatter3d\",\"line\":{\"colorbar\":{\"outlinewidth\":0,\"ticks\":\"\"}},\"marker\":{\"colorbar\":{\"outlinewidth\":0,\"ticks\":\"\"}}}],\"scattermapbox\":[{\"type\":\"scattermapbox\",\"marker\":{\"colorbar\":{\"outlinewidth\":0,\"ticks\":\"\"}}}],\"scatterternary\":[{\"type\":\"scatterternary\",\"marker\":{\"colorbar\":{\"outlinewidth\":0,\"ticks\":\"\"}}}],\"scattercarpet\":[{\"type\":\"scattercarpet\",\"marker\":{\"colorbar\":{\"outlinewidth\":0,\"ticks\":\"\"}}}],\"carpet\":[{\"aaxis\":{\"endlinecolor\":\"#2a3f5f\",\"gridcolor\":\"white\",\"linecolor\":\"white\",\"minorgridcolor\":\"white\",\"startlinecolor\":\"#2a3f5f\"},\"baxis\":{\"endlinecolor\":\"#2a3f5f\",\"gridcolor\":\"white\",\"linecolor\":\"white\",\"minorgridcolor\":\"white\",\"startlinecolor\":\"#2a3f5f\"},\"type\":\"carpet\"}],\"table\":[{\"cells\":{\"fill\":{\"color\":\"#EBF0F8\"},\"line\":{\"color\":\"white\"}},\"header\":{\"fill\":{\"color\":\"#C8D4E3\"},\"line\":{\"color\":\"white\"}},\"type\":\"table\"}],\"barpolar\":[{\"marker\":{\"line\":{\"color\":\"#E5ECF6\",\"width\":0.5},\"pattern\":{\"fillmode\":\"overlay\",\"size\":10,\"solidity\":0.2}},\"type\":\"barpolar\"}],\"pie\":[{\"automargin\":true,\"type\":\"pie\"}]},\"layout\":{\"autotypenumbers\":\"strict\",\"colorway\":[\"#636efa\",\"#EF553B\",\"#00cc96\",\"#ab63fa\",\"#FFA15A\",\"#19d3f3\",\"#FF6692\",\"#B6E880\",\"#FF97FF\",\"#FECB52\"],\"font\":{\"color\":\"#2a3f5f\"},\"hovermode\":\"closest\",\"hoverlabel\":{\"align\":\"left\"},\"paper_bgcolor\":\"white\",\"plot_bgcolor\":\"#E5ECF6\",\"polar\":{\"bgcolor\":\"#E5ECF6\",\"angularaxis\":{\"gridcolor\":\"white\",\"linecolor\":\"white\",\"ticks\":\"\"},\"radialaxis\":{\"gridcolor\":\"white\",\"linecolor\":\"white\",\"ticks\":\"\"}},\"ternary\":{\"bgcolor\":\"#E5ECF6\",\"aaxis\":{\"gridcolor\":\"white\",\"linecolor\":\"white\",\"ticks\":\"\"},\"baxis\":{\"gridcolor\":\"white\",\"linecolor\":\"white\",\"ticks\":\"\"},\"caxis\":{\"gridcolor\":\"white\",\"linecolor\":\"white\",\"ticks\":\"\"}},\"coloraxis\":{\"colorbar\":{\"outlinewidth\":0,\"ticks\":\"\"}},\"colorscale\":{\"sequential\":[[0.0,\"#0d0887\"],[0.1111111111111111,\"#46039f\"],[0.2222222222222222,\"#7201a8\"],[0.3333333333333333,\"#9c179e\"],[0.4444444444444444,\"#bd3786\"],[0.5555555555555556,\"#d8576b\"],[0.6666666666666666,\"#ed7953\"],[0.7777777777777778,\"#fb9f3a\"],[0.8888888888888888,\"#fdca26\"],[1.0,\"#f0f921\"]],\"sequentialminus\":[[0.0,\"#0d0887\"],[0.1111111111111111,\"#46039f\"],[0.2222222222222222,\"#7201a8\"],[0.3333333333333333,\"#9c179e\"],[0.4444444444444444,\"#bd3786\"],[0.5555555555555556,\"#d8576b\"],[0.6666666666666666,\"#ed7953\"],[0.7777777777777778,\"#fb9f3a\"],[0.8888888888888888,\"#fdca26\"],[1.0,\"#f0f921\"]],\"diverging\":[[0,\"#8e0152\"],[0.1,\"#c51b7d\"],[0.2,\"#de77ae\"],[0.3,\"#f1b6da\"],[0.4,\"#fde0ef\"],[0.5,\"#f7f7f7\"],[0.6,\"#e6f5d0\"],[0.7,\"#b8e186\"],[0.8,\"#7fbc41\"],[0.9,\"#4d9221\"],[1,\"#276419\"]]},\"xaxis\":{\"gridcolor\":\"white\",\"linecolor\":\"white\",\"ticks\":\"\",\"title\":{\"standoff\":15},\"zerolinecolor\":\"white\",\"automargin\":true,\"zerolinewidth\":2},\"yaxis\":{\"gridcolor\":\"white\",\"linecolor\":\"white\",\"ticks\":\"\",\"title\":{\"standoff\":15},\"zerolinecolor\":\"white\",\"automargin\":true,\"zerolinewidth\":2},\"scene\":{\"xaxis\":{\"backgroundcolor\":\"#E5ECF6\",\"gridcolor\":\"white\",\"linecolor\":\"white\",\"showbackground\":true,\"ticks\":\"\",\"zerolinecolor\":\"white\",\"gridwidth\":2},\"yaxis\":{\"backgroundcolor\":\"#E5ECF6\",\"gridcolor\":\"white\",\"linecolor\":\"white\",\"showbackground\":true,\"ticks\":\"\",\"zerolinecolor\":\"white\",\"gridwidth\":2},\"zaxis\":{\"backgroundcolor\":\"#E5ECF6\",\"gridcolor\":\"white\",\"linecolor\":\"white\",\"showbackground\":true,\"ticks\":\"\",\"zerolinecolor\":\"white\",\"gridwidth\":2}},\"shapedefaults\":{\"line\":{\"color\":\"#2a3f5f\"}},\"annotationdefaults\":{\"arrowcolor\":\"#2a3f5f\",\"arrowhead\":0,\"arrowwidth\":1},\"geo\":{\"bgcolor\":\"white\",\"landcolor\":\"#E5ECF6\",\"subunitcolor\":\"white\",\"showland\":true,\"showlakes\":true,\"lakecolor\":\"white\"},\"title\":{\"x\":0.05},\"mapbox\":{\"style\":\"light\"}}},\"title\":{\"text\":\"Updating Parameter CES Predictions, 2024-11-16\"},\"xaxis\":{\"title\":{\"text\":\"Date\"}},\"yaxis\":{\"title\":{\"text\":\"Count\"}},\"hovermode\":\"x\"},                        {\"responsive\": true}                    ).then(function(){\n",
       "                            \n",
       "var gd = document.getElementById('10426721-af37-46ea-9a73-0097364beb19');\n",
       "var x = new MutationObserver(function (mutations, observer) {{\n",
       "        var display = window.getComputedStyle(gd).display;\n",
       "        if (!display || display === 'none') {{\n",
       "            console.log([gd, 'removed!']);\n",
       "            Plotly.purge(gd);\n",
       "            observer.disconnect();\n",
       "        }}\n",
       "}});\n",
       "\n",
       "// Listen for the removal of the full notebook cells\n",
       "var notebookContainer = gd.closest('#notebook-container');\n",
       "if (notebookContainer) {{\n",
       "    x.observe(notebookContainer, {childList: true});\n",
       "}}\n",
       "\n",
       "// Listen for the clearing of the current output cell\n",
       "var outputEl = gd.closest('.output');\n",
       "if (outputEl) {{\n",
       "    x.observe(outputEl, {childList: true});\n",
       "}}\n",
       "\n",
       "                        })                };                });            </script>        </div>"
      ]
     },
     "metadata": {},
     "output_type": "display_data"
    },
    {
     "data": {
      "application/vnd.plotly.v1+json": {
       "config": {
        "plotlyServerURL": "https://plot.ly"
       },
       "data": [
        {
         "mode": "lines",
         "name": "Real Data",
         "type": "scatter",
         "x": [
          "2022-02-05T00:00:00",
          "2022-02-12T00:00:00",
          "2022-02-19T00:00:00",
          "2022-02-26T00:00:00",
          "2022-03-05T00:00:00",
          "2022-03-12T00:00:00",
          "2022-03-19T00:00:00",
          "2022-03-26T00:00:00",
          "2022-04-02T00:00:00",
          "2022-04-09T00:00:00",
          "2022-04-16T00:00:00",
          "2022-04-23T00:00:00",
          "2022-04-30T00:00:00",
          "2022-05-07T00:00:00",
          "2022-05-14T00:00:00",
          "2022-05-21T00:00:00",
          "2022-05-28T00:00:00",
          "2022-06-04T00:00:00",
          "2022-06-11T00:00:00",
          "2022-06-18T00:00:00",
          "2022-06-25T00:00:00",
          "2022-07-02T00:00:00",
          "2022-07-09T00:00:00",
          "2022-07-16T00:00:00",
          "2022-07-23T00:00:00",
          "2022-07-30T00:00:00",
          "2022-08-06T00:00:00",
          "2022-08-13T00:00:00",
          "2022-08-20T00:00:00",
          "2022-08-27T00:00:00",
          "2022-09-03T00:00:00",
          "2022-09-10T00:00:00",
          "2022-09-17T00:00:00",
          "2022-09-24T00:00:00",
          "2022-10-01T00:00:00",
          "2022-10-08T00:00:00",
          "2022-10-15T00:00:00",
          "2022-10-22T00:00:00",
          "2022-10-29T00:00:00",
          "2022-11-05T00:00:00",
          "2022-11-12T00:00:00",
          "2022-11-19T00:00:00",
          "2022-11-26T00:00:00",
          "2022-12-03T00:00:00",
          "2022-12-10T00:00:00",
          "2022-12-17T00:00:00",
          "2022-12-24T00:00:00",
          "2022-12-31T00:00:00",
          "2023-01-07T00:00:00",
          "2023-01-14T00:00:00",
          "2023-01-21T00:00:00",
          "2023-01-28T00:00:00",
          "2023-02-04T00:00:00",
          "2023-02-11T00:00:00",
          "2023-02-18T00:00:00",
          "2023-02-25T00:00:00",
          "2023-03-04T00:00:00",
          "2023-03-11T00:00:00",
          "2023-03-18T00:00:00",
          "2023-03-25T00:00:00",
          "2023-04-01T00:00:00",
          "2023-04-08T00:00:00",
          "2023-04-15T00:00:00",
          "2023-04-22T00:00:00",
          "2023-04-29T00:00:00",
          "2023-05-06T00:00:00",
          "2023-05-13T00:00:00",
          "2023-05-20T00:00:00",
          "2023-05-27T00:00:00",
          "2023-06-03T00:00:00",
          "2023-06-10T00:00:00",
          "2023-06-17T00:00:00",
          "2023-06-24T00:00:00",
          "2023-07-01T00:00:00",
          "2023-07-08T00:00:00",
          "2023-07-15T00:00:00",
          "2023-07-22T00:00:00",
          "2023-07-29T00:00:00",
          "2023-08-05T00:00:00",
          "2023-08-12T00:00:00",
          "2023-08-19T00:00:00",
          "2023-08-26T00:00:00",
          "2023-09-02T00:00:00",
          "2023-09-09T00:00:00",
          "2023-09-16T00:00:00",
          "2023-09-23T00:00:00",
          "2023-09-30T00:00:00",
          "2023-10-07T00:00:00",
          "2023-10-14T00:00:00",
          "2023-10-21T00:00:00",
          "2023-10-28T00:00:00",
          "2023-11-04T00:00:00",
          "2023-11-11T00:00:00",
          "2023-11-18T00:00:00",
          "2023-11-25T00:00:00",
          "2023-12-02T00:00:00",
          "2023-12-09T00:00:00",
          "2023-12-16T00:00:00",
          "2023-12-23T00:00:00",
          "2023-12-30T00:00:00",
          "2024-01-06T00:00:00",
          "2024-01-13T00:00:00",
          "2024-01-20T00:00:00",
          "2024-01-27T00:00:00",
          "2024-02-03T00:00:00",
          "2024-02-10T00:00:00",
          "2024-02-17T00:00:00",
          "2024-02-24T00:00:00",
          "2024-03-02T00:00:00",
          "2024-03-09T00:00:00",
          "2024-03-16T00:00:00",
          "2024-03-23T00:00:00",
          "2024-03-30T00:00:00",
          "2024-04-06T00:00:00",
          "2024-04-13T00:00:00",
          "2024-04-20T00:00:00",
          "2024-04-27T00:00:00",
          "2024-05-04T00:00:00",
          "2024-05-11T00:00:00",
          "2024-05-18T00:00:00",
          "2024-05-25T00:00:00",
          "2024-06-01T00:00:00",
          "2024-06-08T00:00:00",
          "2024-06-15T00:00:00",
          "2024-06-22T00:00:00",
          "2024-06-29T00:00:00",
          "2024-07-06T00:00:00",
          "2024-07-13T00:00:00",
          "2024-07-20T00:00:00",
          "2024-07-27T00:00:00",
          "2024-08-03T00:00:00",
          "2024-08-10T00:00:00",
          "2024-08-17T00:00:00",
          "2024-08-24T00:00:00",
          "2024-08-31T00:00:00",
          "2024-09-07T00:00:00",
          "2024-09-14T00:00:00",
          "2024-09-21T00:00:00",
          "2024-09-28T00:00:00",
          "2024-10-05T00:00:00",
          "2024-10-12T00:00:00",
          "2024-10-19T00:00:00",
          "2024-10-26T00:00:00",
          "2024-11-02T00:00:00",
          "2024-11-09T00:00:00",
          "2024-11-16T00:00:00",
          "2024-11-23T00:00:00",
          "2024-11-30T00:00:00",
          "2024-12-07T00:00:00",
          "2024-12-14T00:00:00",
          "2024-12-21T00:00:00",
          "2024-12-28T00:00:00",
          "2025-01-04T00:00:00",
          "2025-01-11T00:00:00",
          "2025-01-18T00:00:00",
          "2025-01-25T00:00:00",
          "2025-02-01T00:00:00",
          "2025-02-08T00:00:00",
          "2025-02-15T00:00:00",
          "2025-02-22T00:00:00",
          "2025-03-01T00:00:00",
          "2025-03-08T00:00:00",
          "2025-03-15T00:00:00",
          "2025-03-22T00:00:00",
          "2025-03-29T00:00:00",
          "2025-04-05T00:00:00"
         ],
         "y": [
          1091,
          1164,
          1493,
          1603,
          1791,
          2097,
          2625,
          2918,
          3008,
          3149,
          3308,
          3474,
          3182,
          3175,
          3119,
          3133,
          2738,
          2678,
          2210,
          1776,
          1366,
          1073,
          776,
          766,
          628,
          522,
          486,
          490,
          483,
          483,
          545,
          576,
          665,
          796,
          921,
          1316,
          1674,
          2292,
          4184,
          6408,
          8594,
          10971,
          18177,
          26834,
          24036,
          21612,
          19631,
          19479,
          14074,
          7185,
          4489,
          3091,
          2596,
          2177,
          1908,
          1647,
          1503,
          1372,
          1415,
          1331,
          1295,
          1198,
          1077,
          982,
          903,
          994,
          980,
          1116,
          974,
          939,
          935,
          873,
          813,
          836,
          699,
          736,
          645,
          771,
          690,
          706,
          738,
          793,
          875,
          804,
          821,
          881,
          1026,
          1110,
          1215,
          1470,
          1614,
          2014,
          2775,
          3491,
          4386,
          5955,
          7497,
          10273,
          15722,
          21682,
          19548,
          15905,
          13303,
          13025,
          11964,
          11629,
          11126,
          10870,
          10814,
          9416,
          7324,
          6049,
          5574,
          5071,
          4073,
          2943,
          2420,
          1485,
          852,
          682,
          611,
          591,
          511,
          518,
          441,
          356,
          342,
          367,
          325,
          273,
          275,
          275,
          275,
          274,
          262,
          223,
          319,
          293,
          223,
          287,
          295,
          553,
          1084,
          977,
          2081,
          2535,
          3099,
          4297,
          6307,
          9192,
          15467,
          27748,
          38767,
          30796,
          33020,
          40682,
          51337,
          54374,
          46244,
          37881,
          30807,
          23956,
          18384,
          13600,
          9597,
          6273
         ]
        },
        {
         "line": {
          "color": "#414487"
         },
         "mode": "lines",
         "name": "CES-hi-80",
         "type": "scatter",
         "x": [
          "2024-12-14T00:00:00",
          "2024-12-21T00:00:00",
          "2024-12-28T00:00:00",
          "2025-01-04T00:00:00"
         ],
         "y": [
          9532.456152343751,
          10651.563671875001,
          13377.67080078125,
          10022.961328125
         ]
        },
        {
         "line": {
          "color": "#1e9c89"
         },
         "mode": "lines",
         "name": "CES-hi-95",
         "type": "scatter",
         "x": [
          "2024-12-14T00:00:00",
          "2024-12-21T00:00:00",
          "2024-12-28T00:00:00",
          "2025-01-04T00:00:00"
         ],
         "y": [
          10704.630712890625,
          11775.53745117187,
          14552.367431640621,
          11124.303833007805
         ]
        },
        {
         "fill": "tonexty",
         "fillcolor": "#1e9c89",
         "line": {
          "color": "#1e9c89"
         },
         "mode": "lines",
         "name": "CES-lo-95",
         "type": "scatter",
         "x": [
          "2024-12-14T00:00:00",
          "2024-12-21T00:00:00",
          "2024-12-28T00:00:00",
          "2025-01-04T00:00:00"
         ],
         "y": [
          3995.700634765625,
          4942.890319824219,
          8029.20986328125,
          4564.938061523438
         ]
        },
        {
         "fill": "tonexty",
         "fillcolor": "#414487",
         "line": {
          "color": "#414487"
         },
         "mode": "lines",
         "name": "CES-lo-80",
         "type": "scatter",
         "x": [
          "2024-12-14T00:00:00",
          "2024-12-21T00:00:00",
          "2024-12-28T00:00:00",
          "2025-01-04T00:00:00"
         ],
         "y": [
          5179.013818359374,
          6169.805322265624,
          9181.78017578125,
          5792.442041015625
         ]
        },
        {
         "line": {
          "color": "#2c728e"
         },
         "mode": "lines",
         "name": "CES",
         "type": "scatter",
         "x": [
          "2024-12-14T00:00:00",
          "2024-12-21T00:00:00",
          "2024-12-28T00:00:00",
          "2025-01-04T00:00:00"
         ],
         "y": [
          7324.7689208984375,
          8390.6689453125,
          11291.718383789062,
          7879.287353515625
         ]
        }
       ],
       "layout": {
        "autosize": true,
        "hovermode": "x",
        "template": {
         "data": {
          "bar": [
           {
            "error_x": {
             "color": "#2a3f5f"
            },
            "error_y": {
             "color": "#2a3f5f"
            },
            "marker": {
             "line": {
              "color": "#E5ECF6",
              "width": 0.5
             },
             "pattern": {
              "fillmode": "overlay",
              "size": 10,
              "solidity": 0.2
             }
            },
            "type": "bar"
           }
          ],
          "barpolar": [
           {
            "marker": {
             "line": {
              "color": "#E5ECF6",
              "width": 0.5
             },
             "pattern": {
              "fillmode": "overlay",
              "size": 10,
              "solidity": 0.2
             }
            },
            "type": "barpolar"
           }
          ],
          "carpet": [
           {
            "aaxis": {
             "endlinecolor": "#2a3f5f",
             "gridcolor": "white",
             "linecolor": "white",
             "minorgridcolor": "white",
             "startlinecolor": "#2a3f5f"
            },
            "baxis": {
             "endlinecolor": "#2a3f5f",
             "gridcolor": "white",
             "linecolor": "white",
             "minorgridcolor": "white",
             "startlinecolor": "#2a3f5f"
            },
            "type": "carpet"
           }
          ],
          "choropleth": [
           {
            "colorbar": {
             "outlinewidth": 0,
             "ticks": ""
            },
            "type": "choropleth"
           }
          ],
          "contour": [
           {
            "colorbar": {
             "outlinewidth": 0,
             "ticks": ""
            },
            "colorscale": [
             [
              0,
              "#0d0887"
             ],
             [
              0.1111111111111111,
              "#46039f"
             ],
             [
              0.2222222222222222,
              "#7201a8"
             ],
             [
              0.3333333333333333,
              "#9c179e"
             ],
             [
              0.4444444444444444,
              "#bd3786"
             ],
             [
              0.5555555555555556,
              "#d8576b"
             ],
             [
              0.6666666666666666,
              "#ed7953"
             ],
             [
              0.7777777777777778,
              "#fb9f3a"
             ],
             [
              0.8888888888888888,
              "#fdca26"
             ],
             [
              1,
              "#f0f921"
             ]
            ],
            "type": "contour"
           }
          ],
          "contourcarpet": [
           {
            "colorbar": {
             "outlinewidth": 0,
             "ticks": ""
            },
            "type": "contourcarpet"
           }
          ],
          "heatmap": [
           {
            "colorbar": {
             "outlinewidth": 0,
             "ticks": ""
            },
            "colorscale": [
             [
              0,
              "#0d0887"
             ],
             [
              0.1111111111111111,
              "#46039f"
             ],
             [
              0.2222222222222222,
              "#7201a8"
             ],
             [
              0.3333333333333333,
              "#9c179e"
             ],
             [
              0.4444444444444444,
              "#bd3786"
             ],
             [
              0.5555555555555556,
              "#d8576b"
             ],
             [
              0.6666666666666666,
              "#ed7953"
             ],
             [
              0.7777777777777778,
              "#fb9f3a"
             ],
             [
              0.8888888888888888,
              "#fdca26"
             ],
             [
              1,
              "#f0f921"
             ]
            ],
            "type": "heatmap"
           }
          ],
          "heatmapgl": [
           {
            "colorbar": {
             "outlinewidth": 0,
             "ticks": ""
            },
            "colorscale": [
             [
              0,
              "#0d0887"
             ],
             [
              0.1111111111111111,
              "#46039f"
             ],
             [
              0.2222222222222222,
              "#7201a8"
             ],
             [
              0.3333333333333333,
              "#9c179e"
             ],
             [
              0.4444444444444444,
              "#bd3786"
             ],
             [
              0.5555555555555556,
              "#d8576b"
             ],
             [
              0.6666666666666666,
              "#ed7953"
             ],
             [
              0.7777777777777778,
              "#fb9f3a"
             ],
             [
              0.8888888888888888,
              "#fdca26"
             ],
             [
              1,
              "#f0f921"
             ]
            ],
            "type": "heatmapgl"
           }
          ],
          "histogram": [
           {
            "marker": {
             "pattern": {
              "fillmode": "overlay",
              "size": 10,
              "solidity": 0.2
             }
            },
            "type": "histogram"
           }
          ],
          "histogram2d": [
           {
            "colorbar": {
             "outlinewidth": 0,
             "ticks": ""
            },
            "colorscale": [
             [
              0,
              "#0d0887"
             ],
             [
              0.1111111111111111,
              "#46039f"
             ],
             [
              0.2222222222222222,
              "#7201a8"
             ],
             [
              0.3333333333333333,
              "#9c179e"
             ],
             [
              0.4444444444444444,
              "#bd3786"
             ],
             [
              0.5555555555555556,
              "#d8576b"
             ],
             [
              0.6666666666666666,
              "#ed7953"
             ],
             [
              0.7777777777777778,
              "#fb9f3a"
             ],
             [
              0.8888888888888888,
              "#fdca26"
             ],
             [
              1,
              "#f0f921"
             ]
            ],
            "type": "histogram2d"
           }
          ],
          "histogram2dcontour": [
           {
            "colorbar": {
             "outlinewidth": 0,
             "ticks": ""
            },
            "colorscale": [
             [
              0,
              "#0d0887"
             ],
             [
              0.1111111111111111,
              "#46039f"
             ],
             [
              0.2222222222222222,
              "#7201a8"
             ],
             [
              0.3333333333333333,
              "#9c179e"
             ],
             [
              0.4444444444444444,
              "#bd3786"
             ],
             [
              0.5555555555555556,
              "#d8576b"
             ],
             [
              0.6666666666666666,
              "#ed7953"
             ],
             [
              0.7777777777777778,
              "#fb9f3a"
             ],
             [
              0.8888888888888888,
              "#fdca26"
             ],
             [
              1,
              "#f0f921"
             ]
            ],
            "type": "histogram2dcontour"
           }
          ],
          "mesh3d": [
           {
            "colorbar": {
             "outlinewidth": 0,
             "ticks": ""
            },
            "type": "mesh3d"
           }
          ],
          "parcoords": [
           {
            "line": {
             "colorbar": {
              "outlinewidth": 0,
              "ticks": ""
             }
            },
            "type": "parcoords"
           }
          ],
          "pie": [
           {
            "automargin": true,
            "type": "pie"
           }
          ],
          "scatter": [
           {
            "fillpattern": {
             "fillmode": "overlay",
             "size": 10,
             "solidity": 0.2
            },
            "type": "scatter"
           }
          ],
          "scatter3d": [
           {
            "line": {
             "colorbar": {
              "outlinewidth": 0,
              "ticks": ""
             }
            },
            "marker": {
             "colorbar": {
              "outlinewidth": 0,
              "ticks": ""
             }
            },
            "type": "scatter3d"
           }
          ],
          "scattercarpet": [
           {
            "marker": {
             "colorbar": {
              "outlinewidth": 0,
              "ticks": ""
             }
            },
            "type": "scattercarpet"
           }
          ],
          "scattergeo": [
           {
            "marker": {
             "colorbar": {
              "outlinewidth": 0,
              "ticks": ""
             }
            },
            "type": "scattergeo"
           }
          ],
          "scattergl": [
           {
            "marker": {
             "colorbar": {
              "outlinewidth": 0,
              "ticks": ""
             }
            },
            "type": "scattergl"
           }
          ],
          "scattermapbox": [
           {
            "marker": {
             "colorbar": {
              "outlinewidth": 0,
              "ticks": ""
             }
            },
            "type": "scattermapbox"
           }
          ],
          "scatterpolar": [
           {
            "marker": {
             "colorbar": {
              "outlinewidth": 0,
              "ticks": ""
             }
            },
            "type": "scatterpolar"
           }
          ],
          "scatterpolargl": [
           {
            "marker": {
             "colorbar": {
              "outlinewidth": 0,
              "ticks": ""
             }
            },
            "type": "scatterpolargl"
           }
          ],
          "scatterternary": [
           {
            "marker": {
             "colorbar": {
              "outlinewidth": 0,
              "ticks": ""
             }
            },
            "type": "scatterternary"
           }
          ],
          "surface": [
           {
            "colorbar": {
             "outlinewidth": 0,
             "ticks": ""
            },
            "colorscale": [
             [
              0,
              "#0d0887"
             ],
             [
              0.1111111111111111,
              "#46039f"
             ],
             [
              0.2222222222222222,
              "#7201a8"
             ],
             [
              0.3333333333333333,
              "#9c179e"
             ],
             [
              0.4444444444444444,
              "#bd3786"
             ],
             [
              0.5555555555555556,
              "#d8576b"
             ],
             [
              0.6666666666666666,
              "#ed7953"
             ],
             [
              0.7777777777777778,
              "#fb9f3a"
             ],
             [
              0.8888888888888888,
              "#fdca26"
             ],
             [
              1,
              "#f0f921"
             ]
            ],
            "type": "surface"
           }
          ],
          "table": [
           {
            "cells": {
             "fill": {
              "color": "#EBF0F8"
             },
             "line": {
              "color": "white"
             }
            },
            "header": {
             "fill": {
              "color": "#C8D4E3"
             },
             "line": {
              "color": "white"
             }
            },
            "type": "table"
           }
          ]
         },
         "layout": {
          "annotationdefaults": {
           "arrowcolor": "#2a3f5f",
           "arrowhead": 0,
           "arrowwidth": 1
          },
          "autotypenumbers": "strict",
          "coloraxis": {
           "colorbar": {
            "outlinewidth": 0,
            "ticks": ""
           }
          },
          "colorscale": {
           "diverging": [
            [
             0,
             "#8e0152"
            ],
            [
             0.1,
             "#c51b7d"
            ],
            [
             0.2,
             "#de77ae"
            ],
            [
             0.3,
             "#f1b6da"
            ],
            [
             0.4,
             "#fde0ef"
            ],
            [
             0.5,
             "#f7f7f7"
            ],
            [
             0.6,
             "#e6f5d0"
            ],
            [
             0.7,
             "#b8e186"
            ],
            [
             0.8,
             "#7fbc41"
            ],
            [
             0.9,
             "#4d9221"
            ],
            [
             1,
             "#276419"
            ]
           ],
           "sequential": [
            [
             0,
             "#0d0887"
            ],
            [
             0.1111111111111111,
             "#46039f"
            ],
            [
             0.2222222222222222,
             "#7201a8"
            ],
            [
             0.3333333333333333,
             "#9c179e"
            ],
            [
             0.4444444444444444,
             "#bd3786"
            ],
            [
             0.5555555555555556,
             "#d8576b"
            ],
            [
             0.6666666666666666,
             "#ed7953"
            ],
            [
             0.7777777777777778,
             "#fb9f3a"
            ],
            [
             0.8888888888888888,
             "#fdca26"
            ],
            [
             1,
             "#f0f921"
            ]
           ],
           "sequentialminus": [
            [
             0,
             "#0d0887"
            ],
            [
             0.1111111111111111,
             "#46039f"
            ],
            [
             0.2222222222222222,
             "#7201a8"
            ],
            [
             0.3333333333333333,
             "#9c179e"
            ],
            [
             0.4444444444444444,
             "#bd3786"
            ],
            [
             0.5555555555555556,
             "#d8576b"
            ],
            [
             0.6666666666666666,
             "#ed7953"
            ],
            [
             0.7777777777777778,
             "#fb9f3a"
            ],
            [
             0.8888888888888888,
             "#fdca26"
            ],
            [
             1,
             "#f0f921"
            ]
           ]
          },
          "colorway": [
           "#636efa",
           "#EF553B",
           "#00cc96",
           "#ab63fa",
           "#FFA15A",
           "#19d3f3",
           "#FF6692",
           "#B6E880",
           "#FF97FF",
           "#FECB52"
          ],
          "font": {
           "color": "#2a3f5f"
          },
          "geo": {
           "bgcolor": "white",
           "lakecolor": "white",
           "landcolor": "#E5ECF6",
           "showlakes": true,
           "showland": true,
           "subunitcolor": "white"
          },
          "hoverlabel": {
           "align": "left"
          },
          "hovermode": "closest",
          "mapbox": {
           "style": "light"
          },
          "paper_bgcolor": "white",
          "plot_bgcolor": "#E5ECF6",
          "polar": {
           "angularaxis": {
            "gridcolor": "white",
            "linecolor": "white",
            "ticks": ""
           },
           "bgcolor": "#E5ECF6",
           "radialaxis": {
            "gridcolor": "white",
            "linecolor": "white",
            "ticks": ""
           }
          },
          "scene": {
           "xaxis": {
            "backgroundcolor": "#E5ECF6",
            "gridcolor": "white",
            "gridwidth": 2,
            "linecolor": "white",
            "showbackground": true,
            "ticks": "",
            "zerolinecolor": "white"
           },
           "yaxis": {
            "backgroundcolor": "#E5ECF6",
            "gridcolor": "white",
            "gridwidth": 2,
            "linecolor": "white",
            "showbackground": true,
            "ticks": "",
            "zerolinecolor": "white"
           },
           "zaxis": {
            "backgroundcolor": "#E5ECF6",
            "gridcolor": "white",
            "gridwidth": 2,
            "linecolor": "white",
            "showbackground": true,
            "ticks": "",
            "zerolinecolor": "white"
           }
          },
          "shapedefaults": {
           "line": {
            "color": "#2a3f5f"
           }
          },
          "ternary": {
           "aaxis": {
            "gridcolor": "white",
            "linecolor": "white",
            "ticks": ""
           },
           "baxis": {
            "gridcolor": "white",
            "linecolor": "white",
            "ticks": ""
           },
           "bgcolor": "#E5ECF6",
           "caxis": {
            "gridcolor": "white",
            "linecolor": "white",
            "ticks": ""
           }
          },
          "title": {
           "x": 0.05
          },
          "xaxis": {
           "automargin": true,
           "gridcolor": "white",
           "linecolor": "white",
           "ticks": "",
           "title": {
            "standoff": 15
           },
           "zerolinecolor": "white",
           "zerolinewidth": 2
          },
          "yaxis": {
           "automargin": true,
           "gridcolor": "white",
           "linecolor": "white",
           "ticks": "",
           "title": {
            "standoff": 15
           },
           "zerolinecolor": "white",
           "zerolinewidth": 2
          }
         }
        },
        "title": {
         "text": "Updating Parameter CES Predictions, 2024-12-07"
        },
        "xaxis": {
         "autorange": true,
         "range": [
          "2022-02-05",
          "2025-04-05"
         ],
         "title": {
          "text": "Date"
         },
         "type": "date"
        },
        "yaxis": {
         "autorange": true,
         "range": [
          -2785.3888888888887,
          57382.38888888889
         ],
         "title": {
          "text": "Count"
         },
         "type": "linear"
        }
       }
      },
      "image/png": "[encoded data removed]",
      "text/html": [
       "<div>                            <div id=\"c4d7b777-bc08-42d6-9f35-46b0526e9060\" class=\"plotly-graph-div\" style=\"height:525px; width:100%;\"></div>            <script type=\"text/javascript\">                require([\"plotly\"], function(Plotly) {                    window.PLOTLYENV=window.PLOTLYENV || {};                                    if (document.getElementById(\"c4d7b777-bc08-42d6-9f35-46b0526e9060\")) {                    Plotly.newPlot(                        \"c4d7b777-bc08-42d6-9f35-46b0526e9060\",                        [{\"mode\":\"lines\",\"name\":\"Real Data\",\"x\":[\"2022-02-05T00:00:00\",\"2022-02-12T00:00:00\",\"2022-02-19T00:00:00\",\"2022-02-26T00:00:00\",\"2022-03-05T00:00:00\",\"2022-03-12T00:00:00\",\"2022-03-19T00:00:00\",\"2022-03-26T00:00:00\",\"2022-04-02T00:00:00\",\"2022-04-09T00:00:00\",\"2022-04-16T00:00:00\",\"2022-04-23T00:00:00\",\"2022-04-30T00:00:00\",\"2022-05-07T00:00:00\",\"2022-05-14T00:00:00\",\"2022-05-21T00:00:00\",\"2022-05-28T00:00:00\",\"2022-06-04T00:00:00\",\"2022-06-11T00:00:00\",\"2022-06-18T00:00:00\",\"2022-06-25T00:00:00\",\"2022-07-02T00:00:00\",\"2022-07-09T00:00:00\",\"2022-07-16T00:00:00\",\"2022-07-23T00:00:00\",\"2022-07-30T00:00:00\",\"2022-08-06T00:00:00\",\"2022-08-13T00:00:00\",\"2022-08-20T00:00:00\",\"2022-08-27T00:00:00\",\"2022-09-03T00:00:00\",\"2022-09-10T00:00:00\",\"2022-09-17T00:00:00\",\"2022-09-24T00:00:00\",\"2022-10-01T00:00:00\",\"2022-10-08T00:00:00\",\"2022-10-15T00:00:00\",\"2022-10-22T00:00:00\",\"2022-10-29T00:00:00\",\"2022-11-05T00:00:00\",\"2022-11-12T00:00:00\",\"2022-11-19T00:00:00\",\"2022-11-26T00:00:00\",\"2022-12-03T00:00:00\",\"2022-12-10T00:00:00\",\"2022-12-17T00:00:00\",\"2022-12-24T00:00:00\",\"2022-12-31T00:00:00\",\"2023-01-07T00:00:00\",\"2023-01-14T00:00:00\",\"2023-01-21T00:00:00\",\"2023-01-28T00:00:00\",\"2023-02-04T00:00:00\",\"2023-02-11T00:00:00\",\"2023-02-18T00:00:00\",\"2023-02-25T00:00:00\",\"2023-03-04T00:00:00\",\"2023-03-11T00:00:00\",\"2023-03-18T00:00:00\",\"2023-03-25T00:00:00\",\"2023-04-01T00:00:00\",\"2023-04-08T00:00:00\",\"2023-04-15T00:00:00\",\"2023-04-22T00:00:00\",\"2023-04-29T00:00:00\",\"2023-05-06T00:00:00\",\"2023-05-13T00:00:00\",\"2023-05-20T00:00:00\",\"2023-05-27T00:00:00\",\"2023-06-03T00:00:00\",\"2023-06-10T00:00:00\",\"2023-06-17T00:00:00\",\"2023-06-24T00:00:00\",\"2023-07-01T00:00:00\",\"2023-07-08T00:00:00\",\"2023-07-15T00:00:00\",\"2023-07-22T00:00:00\",\"2023-07-29T00:00:00\",\"2023-08-05T00:00:00\",\"2023-08-12T00:00:00\",\"2023-08-19T00:00:00\",\"2023-08-26T00:00:00\",\"2023-09-02T00:00:00\",\"2023-09-09T00:00:00\",\"2023-09-16T00:00:00\",\"2023-09-23T00:00:00\",\"2023-09-30T00:00:00\",\"2023-10-07T00:00:00\",\"2023-10-14T00:00:00\",\"2023-10-21T00:00:00\",\"2023-10-28T00:00:00\",\"2023-11-04T00:00:00\",\"2023-11-11T00:00:00\",\"2023-11-18T00:00:00\",\"2023-11-25T00:00:00\",\"2023-12-02T00:00:00\",\"2023-12-09T00:00:00\",\"2023-12-16T00:00:00\",\"2023-12-23T00:00:00\",\"2023-12-30T00:00:00\",\"2024-01-06T00:00:00\",\"2024-01-13T00:00:00\",\"2024-01-20T00:00:00\",\"2024-01-27T00:00:00\",\"2024-02-03T00:00:00\",\"2024-02-10T00:00:00\",\"2024-02-17T00:00:00\",\"2024-02-24T00:00:00\",\"2024-03-02T00:00:00\",\"2024-03-09T00:00:00\",\"2024-03-16T00:00:00\",\"2024-03-23T00:00:00\",\"2024-03-30T00:00:00\",\"2024-04-06T00:00:00\",\"2024-04-13T00:00:00\",\"2024-04-20T00:00:00\",\"2024-04-27T00:00:00\",\"2024-05-04T00:00:00\",\"2024-05-11T00:00:00\",\"2024-05-18T00:00:00\",\"2024-05-25T00:00:00\",\"2024-06-01T00:00:00\",\"2024-06-08T00:00:00\",\"2024-06-15T00:00:00\",\"2024-06-22T00:00:00\",\"2024-06-29T00:00:00\",\"2024-07-06T00:00:00\",\"2024-07-13T00:00:00\",\"2024-07-20T00:00:00\",\"2024-07-27T00:00:00\",\"2024-08-03T00:00:00\",\"2024-08-10T00:00:00\",\"2024-08-17T00:00:00\",\"2024-08-24T00:00:00\",\"2024-08-31T00:00:00\",\"2024-09-07T00:00:00\",\"2024-09-14T00:00:00\",\"2024-09-21T00:00:00\",\"2024-09-28T00:00:00\",\"2024-10-05T00:00:00\",\"2024-10-12T00:00:00\",\"2024-10-19T00:00:00\",\"2024-10-26T00:00:00\",\"2024-11-02T00:00:00\",\"2024-11-09T00:00:00\",\"2024-11-16T00:00:00\",\"2024-11-23T00:00:00\",\"2024-11-30T00:00:00\",\"2024-12-07T00:00:00\",\"2024-12-14T00:00:00\",\"2024-12-21T00:00:00\",\"2024-12-28T00:00:00\",\"2025-01-04T00:00:00\",\"2025-01-11T00:00:00\",\"2025-01-18T00:00:00\",\"2025-01-25T00:00:00\",\"2025-02-01T00:00:00\",\"2025-02-08T00:00:00\",\"2025-02-15T00:00:00\",\"2025-02-22T00:00:00\",\"2025-03-01T00:00:00\",\"2025-03-08T00:00:00\",\"2025-03-15T00:00:00\",\"2025-03-22T00:00:00\",\"2025-03-29T00:00:00\",\"2025-04-05T00:00:00\"],\"y\":[1091.0,1164.0,1493.0,1603.0,1791.0,2097.0,2625.0,2918.0,3008.0,3149.0,3308.0,3474.0,3182.0,3175.0,3119.0,3133.0,2738.0,2678.0,2210.0,1776.0,1366.0,1073.0,776.0,766.0,628.0,522.0,486.0,490.0,483.0,483.0,545.0,576.0,665.0,796.0,921.0,1316.0,1674.0,2292.0,4184.0,6408.0,8594.0,10971.0,18177.0,26834.0,24036.0,21612.0,19631.0,19479.0,14074.0,7185.0,4489.0,3091.0,2596.0,2177.0,1908.0,1647.0,1503.0,1372.0,1415.0,1331.0,1295.0,1198.0,1077.0,982.0,903.0,994.0,980.0,1116.0,974.0,939.0,935.0,873.0,813.0,836.0,699.0,736.0,645.0,771.0,690.0,706.0,738.0,793.0,875.0,804.0,821.0,881.0,1026.0,1110.0,1215.0,1470.0,1614.0,2014.0,2775.0,3491.0,4386.0,5955.0,7497.0,10273.0,15722.0,21682.0,19548.0,15905.0,13303.0,13025.0,11964.0,11629.0,11126.0,10870.0,10814.0,9416.0,7324.0,6049.0,5574.0,5071.0,4073.0,2943.0,2420.0,1485.0,852.0,682.0,611.0,591.0,511.0,518.0,441.0,356.0,342.0,367.0,325.0,273.0,275.0,275.0,275.0,274.0,262.0,223.0,319.0,293.0,223.0,287.0,295.0,553.0,1084.0,977.0,2081.0,2535.0,3099.0,4297.0,6307.0,9192.0,15467.0,27748.0,38767.0,30796.0,33020.0,40682.0,51337.0,54374.0,46244.0,37881.0,30807.0,23956.0,18384.0,13600.0,9597.0,6273.0],\"type\":\"scatter\"},{\"line\":{\"color\":\"#414487\"},\"mode\":\"lines\",\"name\":\"CES-hi-80\",\"x\":[\"2024-12-14T00:00:00\",\"2024-12-21T00:00:00\",\"2024-12-28T00:00:00\",\"2025-01-04T00:00:00\"],\"y\":[9532.456152343751,10651.563671875001,13377.67080078125,10022.961328125],\"type\":\"scatter\"},{\"line\":{\"color\":\"#1e9c89\"},\"mode\":\"lines\",\"name\":\"CES-hi-95\",\"x\":[\"2024-12-14T00:00:00\",\"2024-12-21T00:00:00\",\"2024-12-28T00:00:00\",\"2025-01-04T00:00:00\"],\"y\":[10704.630712890625,11775.53745117187,14552.367431640621,11124.303833007805],\"type\":\"scatter\"},{\"fill\":\"tonexty\",\"fillcolor\":\"#1e9c89\",\"line\":{\"color\":\"#1e9c89\"},\"mode\":\"lines\",\"name\":\"CES-lo-95\",\"x\":[\"2024-12-14T00:00:00\",\"2024-12-21T00:00:00\",\"2024-12-28T00:00:00\",\"2025-01-04T00:00:00\"],\"y\":[3995.700634765625,4942.890319824219,8029.20986328125,4564.938061523438],\"type\":\"scatter\"},{\"fill\":\"tonexty\",\"fillcolor\":\"#414487\",\"line\":{\"color\":\"#414487\"},\"mode\":\"lines\",\"name\":\"CES-lo-80\",\"x\":[\"2024-12-14T00:00:00\",\"2024-12-21T00:00:00\",\"2024-12-28T00:00:00\",\"2025-01-04T00:00:00\"],\"y\":[5179.013818359374,6169.805322265624,9181.78017578125,5792.442041015625],\"type\":\"scatter\"},{\"line\":{\"color\":\"#2c728e\"},\"mode\":\"lines\",\"name\":\"CES\",\"x\":[\"2024-12-14T00:00:00\",\"2024-12-21T00:00:00\",\"2024-12-28T00:00:00\",\"2025-01-04T00:00:00\"],\"y\":[7324.7689208984375,8390.6689453125,11291.718383789062,7879.287353515625],\"type\":\"scatter\"}],                        {\"template\":{\"data\":{\"histogram2dcontour\":[{\"type\":\"histogram2dcontour\",\"colorbar\":{\"outlinewidth\":0,\"ticks\":\"\"},\"colorscale\":[[0.0,\"#0d0887\"],[0.1111111111111111,\"#46039f\"],[0.2222222222222222,\"#7201a8\"],[0.3333333333333333,\"#9c179e\"],[0.4444444444444444,\"#bd3786\"],[0.5555555555555556,\"#d8576b\"],[0.6666666666666666,\"#ed7953\"],[0.7777777777777778,\"#fb9f3a\"],[0.8888888888888888,\"#fdca26\"],[1.0,\"#f0f921\"]]}],\"choropleth\":[{\"type\":\"choropleth\",\"colorbar\":{\"outlinewidth\":0,\"ticks\":\"\"}}],\"histogram2d\":[{\"type\":\"histogram2d\",\"colorbar\":{\"outlinewidth\":0,\"ticks\":\"\"},\"colorscale\":[[0.0,\"#0d0887\"],[0.1111111111111111,\"#46039f\"],[0.2222222222222222,\"#7201a8\"],[0.3333333333333333,\"#9c179e\"],[0.4444444444444444,\"#bd3786\"],[0.5555555555555556,\"#d8576b\"],[0.6666666666666666,\"#ed7953\"],[0.7777777777777778,\"#fb9f3a\"],[0.8888888888888888,\"#fdca26\"],[1.0,\"#f0f921\"]]}],\"heatmap\":[{\"type\":\"heatmap\",\"colorbar\":{\"outlinewidth\":0,\"ticks\":\"\"},\"colorscale\":[[0.0,\"#0d0887\"],[0.1111111111111111,\"#46039f\"],[0.2222222222222222,\"#7201a8\"],[0.3333333333333333,\"#9c179e\"],[0.4444444444444444,\"#bd3786\"],[0.5555555555555556,\"#d8576b\"],[0.6666666666666666,\"#ed7953\"],[0.7777777777777778,\"#fb9f3a\"],[0.8888888888888888,\"#fdca26\"],[1.0,\"#f0f921\"]]}],\"heatmapgl\":[{\"type\":\"heatmapgl\",\"colorbar\":{\"outlinewidth\":0,\"ticks\":\"\"},\"colorscale\":[[0.0,\"#0d0887\"],[0.1111111111111111,\"#46039f\"],[0.2222222222222222,\"#7201a8\"],[0.3333333333333333,\"#9c179e\"],[0.4444444444444444,\"#bd3786\"],[0.5555555555555556,\"#d8576b\"],[0.6666666666666666,\"#ed7953\"],[0.7777777777777778,\"#fb9f3a\"],[0.8888888888888888,\"#fdca26\"],[1.0,\"#f0f921\"]]}],\"contourcarpet\":[{\"type\":\"contourcarpet\",\"colorbar\":{\"outlinewidth\":0,\"ticks\":\"\"}}],\"contour\":[{\"type\":\"contour\",\"colorbar\":{\"outlinewidth\":0,\"ticks\":\"\"},\"colorscale\":[[0.0,\"#0d0887\"],[0.1111111111111111,\"#46039f\"],[0.2222222222222222,\"#7201a8\"],[0.3333333333333333,\"#9c179e\"],[0.4444444444444444,\"#bd3786\"],[0.5555555555555556,\"#d8576b\"],[0.6666666666666666,\"#ed7953\"],[0.7777777777777778,\"#fb9f3a\"],[0.8888888888888888,\"#fdca26\"],[1.0,\"#f0f921\"]]}],\"surface\":[{\"type\":\"surface\",\"colorbar\":{\"outlinewidth\":0,\"ticks\":\"\"},\"colorscale\":[[0.0,\"#0d0887\"],[0.1111111111111111,\"#46039f\"],[0.2222222222222222,\"#7201a8\"],[0.3333333333333333,\"#9c179e\"],[0.4444444444444444,\"#bd3786\"],[0.5555555555555556,\"#d8576b\"],[0.6666666666666666,\"#ed7953\"],[0.7777777777777778,\"#fb9f3a\"],[0.8888888888888888,\"#fdca26\"],[1.0,\"#f0f921\"]]}],\"mesh3d\":[{\"type\":\"mesh3d\",\"colorbar\":{\"outlinewidth\":0,\"ticks\":\"\"}}],\"scatter\":[{\"fillpattern\":{\"fillmode\":\"overlay\",\"size\":10,\"solidity\":0.2},\"type\":\"scatter\"}],\"parcoords\":[{\"type\":\"parcoords\",\"line\":{\"colorbar\":{\"outlinewidth\":0,\"ticks\":\"\"}}}],\"scatterpolargl\":[{\"type\":\"scatterpolargl\",\"marker\":{\"colorbar\":{\"outlinewidth\":0,\"ticks\":\"\"}}}],\"bar\":[{\"error_x\":{\"color\":\"#2a3f5f\"},\"error_y\":{\"color\":\"#2a3f5f\"},\"marker\":{\"line\":{\"color\":\"#E5ECF6\",\"width\":0.5},\"pattern\":{\"fillmode\":\"overlay\",\"size\":10,\"solidity\":0.2}},\"type\":\"bar\"}],\"scattergeo\":[{\"type\":\"scattergeo\",\"marker\":{\"colorbar\":{\"outlinewidth\":0,\"ticks\":\"\"}}}],\"scatterpolar\":[{\"type\":\"scatterpolar\",\"marker\":{\"colorbar\":{\"outlinewidth\":0,\"ticks\":\"\"}}}],\"histogram\":[{\"marker\":{\"pattern\":{\"fillmode\":\"overlay\",\"size\":10,\"solidity\":0.2}},\"type\":\"histogram\"}],\"scattergl\":[{\"type\":\"scattergl\",\"marker\":{\"colorbar\":{\"outlinewidth\":0,\"ticks\":\"\"}}}],\"scatter3d\":[{\"type\":\"scatter3d\",\"line\":{\"colorbar\":{\"outlinewidth\":0,\"ticks\":\"\"}},\"marker\":{\"colorbar\":{\"outlinewidth\":0,\"ticks\":\"\"}}}],\"scattermapbox\":[{\"type\":\"scattermapbox\",\"marker\":{\"colorbar\":{\"outlinewidth\":0,\"ticks\":\"\"}}}],\"scatterternary\":[{\"type\":\"scatterternary\",\"marker\":{\"colorbar\":{\"outlinewidth\":0,\"ticks\":\"\"}}}],\"scattercarpet\":[{\"type\":\"scattercarpet\",\"marker\":{\"colorbar\":{\"outlinewidth\":0,\"ticks\":\"\"}}}],\"carpet\":[{\"aaxis\":{\"endlinecolor\":\"#2a3f5f\",\"gridcolor\":\"white\",\"linecolor\":\"white\",\"minorgridcolor\":\"white\",\"startlinecolor\":\"#2a3f5f\"},\"baxis\":{\"endlinecolor\":\"#2a3f5f\",\"gridcolor\":\"white\",\"linecolor\":\"white\",\"minorgridcolor\":\"white\",\"startlinecolor\":\"#2a3f5f\"},\"type\":\"carpet\"}],\"table\":[{\"cells\":{\"fill\":{\"color\":\"#EBF0F8\"},\"line\":{\"color\":\"white\"}},\"header\":{\"fill\":{\"color\":\"#C8D4E3\"},\"line\":{\"color\":\"white\"}},\"type\":\"table\"}],\"barpolar\":[{\"marker\":{\"line\":{\"color\":\"#E5ECF6\",\"width\":0.5},\"pattern\":{\"fillmode\":\"overlay\",\"size\":10,\"solidity\":0.2}},\"type\":\"barpolar\"}],\"pie\":[{\"automargin\":true,\"type\":\"pie\"}]},\"layout\":{\"autotypenumbers\":\"strict\",\"colorway\":[\"#636efa\",\"#EF553B\",\"#00cc96\",\"#ab63fa\",\"#FFA15A\",\"#19d3f3\",\"#FF6692\",\"#B6E880\",\"#FF97FF\",\"#FECB52\"],\"font\":{\"color\":\"#2a3f5f\"},\"hovermode\":\"closest\",\"hoverlabel\":{\"align\":\"left\"},\"paper_bgcolor\":\"white\",\"plot_bgcolor\":\"#E5ECF6\",\"polar\":{\"bgcolor\":\"#E5ECF6\",\"angularaxis\":{\"gridcolor\":\"white\",\"linecolor\":\"white\",\"ticks\":\"\"},\"radialaxis\":{\"gridcolor\":\"white\",\"linecolor\":\"white\",\"ticks\":\"\"}},\"ternary\":{\"bgcolor\":\"#E5ECF6\",\"aaxis\":{\"gridcolor\":\"white\",\"linecolor\":\"white\",\"ticks\":\"\"},\"baxis\":{\"gridcolor\":\"white\",\"linecolor\":\"white\",\"ticks\":\"\"},\"caxis\":{\"gridcolor\":\"white\",\"linecolor\":\"white\",\"ticks\":\"\"}},\"coloraxis\":{\"colorbar\":{\"outlinewidth\":0,\"ticks\":\"\"}},\"colorscale\":{\"sequential\":[[0.0,\"#0d0887\"],[0.1111111111111111,\"#46039f\"],[0.2222222222222222,\"#7201a8\"],[0.3333333333333333,\"#9c179e\"],[0.4444444444444444,\"#bd3786\"],[0.5555555555555556,\"#d8576b\"],[0.6666666666666666,\"#ed7953\"],[0.7777777777777778,\"#fb9f3a\"],[0.8888888888888888,\"#fdca26\"],[1.0,\"#f0f921\"]],\"sequentialminus\":[[0.0,\"#0d0887\"],[0.1111111111111111,\"#46039f\"],[0.2222222222222222,\"#7201a8\"],[0.3333333333333333,\"#9c179e\"],[0.4444444444444444,\"#bd3786\"],[0.5555555555555556,\"#d8576b\"],[0.6666666666666666,\"#ed7953\"],[0.7777777777777778,\"#fb9f3a\"],[0.8888888888888888,\"#fdca26\"],[1.0,\"#f0f921\"]],\"diverging\":[[0,\"#8e0152\"],[0.1,\"#c51b7d\"],[0.2,\"#de77ae\"],[0.3,\"#f1b6da\"],[0.4,\"#fde0ef\"],[0.5,\"#f7f7f7\"],[0.6,\"#e6f5d0\"],[0.7,\"#b8e186\"],[0.8,\"#7fbc41\"],[0.9,\"#4d9221\"],[1,\"#276419\"]]},\"xaxis\":{\"gridcolor\":\"white\",\"linecolor\":\"white\",\"ticks\":\"\",\"title\":{\"standoff\":15},\"zerolinecolor\":\"white\",\"automargin\":true,\"zerolinewidth\":2},\"yaxis\":{\"gridcolor\":\"white\",\"linecolor\":\"white\",\"ticks\":\"\",\"title\":{\"standoff\":15},\"zerolinecolor\":\"white\",\"automargin\":true,\"zerolinewidth\":2},\"scene\":{\"xaxis\":{\"backgroundcolor\":\"#E5ECF6\",\"gridcolor\":\"white\",\"linecolor\":\"white\",\"showbackground\":true,\"ticks\":\"\",\"zerolinecolor\":\"white\",\"gridwidth\":2},\"yaxis\":{\"backgroundcolor\":\"#E5ECF6\",\"gridcolor\":\"white\",\"linecolor\":\"white\",\"showbackground\":true,\"ticks\":\"\",\"zerolinecolor\":\"white\",\"gridwidth\":2},\"zaxis\":{\"backgroundcolor\":\"#E5ECF6\",\"gridcolor\":\"white\",\"linecolor\":\"white\",\"showbackground\":true,\"ticks\":\"\",\"zerolinecolor\":\"white\",\"gridwidth\":2}},\"shapedefaults\":{\"line\":{\"color\":\"#2a3f5f\"}},\"annotationdefaults\":{\"arrowcolor\":\"#2a3f5f\",\"arrowhead\":0,\"arrowwidth\":1},\"geo\":{\"bgcolor\":\"white\",\"landcolor\":\"#E5ECF6\",\"subunitcolor\":\"white\",\"showland\":true,\"showlakes\":true,\"lakecolor\":\"white\"},\"title\":{\"x\":0.05},\"mapbox\":{\"style\":\"light\"}}},\"title\":{\"text\":\"Updating Parameter CES Predictions, 2024-12-07\"},\"xaxis\":{\"title\":{\"text\":\"Date\"}},\"yaxis\":{\"title\":{\"text\":\"Count\"}},\"hovermode\":\"x\"},                        {\"responsive\": true}                    ).then(function(){\n",
       "                            \n",
       "var gd = document.getElementById('c4d7b777-bc08-42d6-9f35-46b0526e9060');\n",
       "var x = new MutationObserver(function (mutations, observer) {{\n",
       "        var display = window.getComputedStyle(gd).display;\n",
       "        if (!display || display === 'none') {{\n",
       "            console.log([gd, 'removed!']);\n",
       "            Plotly.purge(gd);\n",
       "            observer.disconnect();\n",
       "        }}\n",
       "}});\n",
       "\n",
       "// Listen for the removal of the full notebook cells\n",
       "var notebookContainer = gd.closest('#notebook-container');\n",
       "if (notebookContainer) {{\n",
       "    x.observe(notebookContainer, {childList: true});\n",
       "}}\n",
       "\n",
       "// Listen for the clearing of the current output cell\n",
       "var outputEl = gd.closest('.output');\n",
       "if (outputEl) {{\n",
       "    x.observe(outputEl, {childList: true});\n",
       "}}\n",
       "\n",
       "                        })                };                });            </script>        </div>"
      ]
     },
     "metadata": {},
     "output_type": "display_data"
    }
   ],
   "source": [
    "UProcessor.create_graph()"
   ]
  },
  {
   "cell_type": "code",
   "execution_count": 23,
   "id": "fb69b851-660c-4c22-a3fb-4c2c3196e0d3",
   "metadata": {
    "tags": []
   },
   "outputs": [],
   "source": [
    "UProcessor.calculate_metrics()"
   ]
  },
  {
   "cell_type": "code",
   "execution_count": 24,
   "id": "073bd73d-dd7f-4b84-890c-c6b168cc3ea4",
   "metadata": {
    "tags": []
   },
   "outputs": [],
   "source": [
    "UProcessor.create_metrics_df()"
   ]
  },
  {
   "cell_type": "code",
   "execution_count": 25,
   "id": "9032ef98-8847-4921-acf5-7c15814100e4",
   "metadata": {
    "tags": []
   },
   "outputs": [
    {
     "data": {
      "text/html": [
       "<div>\n",
       "<style scoped>\n",
       "    .dataframe tbody tr th:only-of-type {\n",
       "        vertical-align: middle;\n",
       "    }\n",
       "\n",
       "    .dataframe tbody tr th {\n",
       "        vertical-align: top;\n",
       "    }\n",
       "\n",
       "    .dataframe thead th {\n",
       "        text-align: right;\n",
       "    }\n",
       "</style>\n",
       "<table border=\"1\" class=\"dataframe\">\n",
       "  <thead>\n",
       "    <tr style=\"text-align: right;\">\n",
       "      <th></th>\n",
       "      <th>Reference Date</th>\n",
       "      <th>MAE</th>\n",
       "      <th>MSE</th>\n",
       "      <th>MAPE</th>\n",
       "      <th>NMSE</th>\n",
       "    </tr>\n",
       "  </thead>\n",
       "  <tbody>\n",
       "    <tr>\n",
       "      <th>0</th>\n",
       "      <td>2024-10-05</td>\n",
       "      <td>470.260483</td>\n",
       "      <td>6.095468e+05</td>\n",
       "      <td>0.501100</td>\n",
       "      <td>5.992859</td>\n",
       "    </tr>\n",
       "    <tr>\n",
       "      <th>1</th>\n",
       "      <td>2024-10-19</td>\n",
       "      <td>1594.398972</td>\n",
       "      <td>3.320529e+06</td>\n",
       "      <td>0.950371</td>\n",
       "      <td>7.629941</td>\n",
       "    </tr>\n",
       "    <tr>\n",
       "      <th>2</th>\n",
       "      <td>2024-11-02</td>\n",
       "      <td>3990.118988</td>\n",
       "      <td>2.665905e+07</td>\n",
       "      <td>1.134937</td>\n",
       "      <td>38.737924</td>\n",
       "    </tr>\n",
       "    <tr>\n",
       "      <th>3</th>\n",
       "      <td>2024-11-16</td>\n",
       "      <td>4619.324928</td>\n",
       "      <td>2.539374e+07</td>\n",
       "      <td>0.992003</td>\n",
       "      <td>4.770151</td>\n",
       "    </tr>\n",
       "    <tr>\n",
       "      <th>4</th>\n",
       "      <td>2024-12-07</td>\n",
       "      <td>14071.889099</td>\n",
       "      <td>3.196053e+08</td>\n",
       "      <td>0.512616</td>\n",
       "      <td>2.466194</td>\n",
       "    </tr>\n",
       "  </tbody>\n",
       "</table>\n",
       "</div>"
      ],
      "text/plain": [
       "  Reference Date           MAE           MSE      MAPE       NMSE\n",
       "0     2024-10-05    470.260483  6.095468e+05  0.501100   5.992859\n",
       "1     2024-10-19   1594.398972  3.320529e+06  0.950371   7.629941\n",
       "2     2024-11-02   3990.118988  2.665905e+07  1.134937  38.737924\n",
       "3     2024-11-16   4619.324928  2.539374e+07  0.992003   4.770151\n",
       "4     2024-12-07  14071.889099  3.196053e+08  0.512616   2.466194"
      ]
     },
     "execution_count": 25,
     "metadata": {},
     "output_type": "execute_result"
    }
   ],
   "source": [
    "UProcessor.metrics_df"
   ]
  },
  {
   "cell_type": "code",
   "execution_count": 26,
   "id": "c829bc65-c4e8-4070-8066-81a4a2a76515",
   "metadata": {
    "tags": []
   },
   "outputs": [],
   "source": [
    "UProcessor.create_display_df()"
   ]
  },
  {
   "cell_type": "code",
   "execution_count": 27,
   "id": "7f154731-8bcf-4879-8e55-34f65cb27171",
   "metadata": {
    "tags": []
   },
   "outputs": [
    {
     "data": {
      "text/html": [
       "<div>\n",
       "<style scoped>\n",
       "    .dataframe tbody tr th:only-of-type {\n",
       "        vertical-align: middle;\n",
       "    }\n",
       "\n",
       "    .dataframe tbody tr th {\n",
       "        vertical-align: top;\n",
       "    }\n",
       "\n",
       "    .dataframe thead th {\n",
       "        text-align: right;\n",
       "    }\n",
       "</style>\n",
       "<table border=\"1\" class=\"dataframe\">\n",
       "  <thead>\n",
       "    <tr style=\"text-align: right;\">\n",
       "      <th></th>\n",
       "      <th>Reference Date</th>\n",
       "      <th>Target End Date</th>\n",
       "      <th>Quantile</th>\n",
       "      <th>Prediction</th>\n",
       "    </tr>\n",
       "  </thead>\n",
       "  <tbody>\n",
       "    <tr>\n",
       "      <th>1</th>\n",
       "      <td>2024-10-05</td>\n",
       "      <td>2024-10-12</td>\n",
       "      <td>0.025</td>\n",
       "      <td>-3073.665442</td>\n",
       "    </tr>\n",
       "    <tr>\n",
       "      <th>2</th>\n",
       "      <td>2024-10-05</td>\n",
       "      <td>2024-10-12</td>\n",
       "      <td>0.100</td>\n",
       "      <td>-1839.320093</td>\n",
       "    </tr>\n",
       "    <tr>\n",
       "      <th>0</th>\n",
       "      <td>2024-10-05</td>\n",
       "      <td>2024-10-12</td>\n",
       "      <td>0.500</td>\n",
       "      <td>262.955078</td>\n",
       "    </tr>\n",
       "    <tr>\n",
       "      <th>3</th>\n",
       "      <td>2024-10-05</td>\n",
       "      <td>2024-10-12</td>\n",
       "      <td>0.900</td>\n",
       "      <td>2409.959692</td>\n",
       "    </tr>\n",
       "    <tr>\n",
       "      <th>4</th>\n",
       "      <td>2024-10-05</td>\n",
       "      <td>2024-10-12</td>\n",
       "      <td>0.975</td>\n",
       "      <td>3553.986365</td>\n",
       "    </tr>\n",
       "    <tr>\n",
       "      <th>...</th>\n",
       "      <td>...</td>\n",
       "      <td>...</td>\n",
       "      <td>...</td>\n",
       "      <td>...</td>\n",
       "    </tr>\n",
       "    <tr>\n",
       "      <th>96</th>\n",
       "      <td>2024-12-07</td>\n",
       "      <td>2025-01-04</td>\n",
       "      <td>0.025</td>\n",
       "      <td>4564.938062</td>\n",
       "    </tr>\n",
       "    <tr>\n",
       "      <th>97</th>\n",
       "      <td>2024-12-07</td>\n",
       "      <td>2025-01-04</td>\n",
       "      <td>0.100</td>\n",
       "      <td>5792.442041</td>\n",
       "    </tr>\n",
       "    <tr>\n",
       "      <th>95</th>\n",
       "      <td>2024-12-07</td>\n",
       "      <td>2025-01-04</td>\n",
       "      <td>0.500</td>\n",
       "      <td>7879.287354</td>\n",
       "    </tr>\n",
       "    <tr>\n",
       "      <th>98</th>\n",
       "      <td>2024-12-07</td>\n",
       "      <td>2025-01-04</td>\n",
       "      <td>0.900</td>\n",
       "      <td>10022.961328</td>\n",
       "    </tr>\n",
       "    <tr>\n",
       "      <th>99</th>\n",
       "      <td>2024-12-07</td>\n",
       "      <td>2025-01-04</td>\n",
       "      <td>0.975</td>\n",
       "      <td>11124.303833</td>\n",
       "    </tr>\n",
       "  </tbody>\n",
       "</table>\n",
       "<p>100 rows × 4 columns</p>\n",
       "</div>"
      ],
      "text/plain": [
       "   Reference Date Target End Date  Quantile    Prediction\n",
       "1      2024-10-05      2024-10-12     0.025  -3073.665442\n",
       "2      2024-10-05      2024-10-12     0.100  -1839.320093\n",
       "0      2024-10-05      2024-10-12     0.500    262.955078\n",
       "3      2024-10-05      2024-10-12     0.900   2409.959692\n",
       "4      2024-10-05      2024-10-12     0.975   3553.986365\n",
       "..            ...             ...       ...           ...\n",
       "96     2024-12-07      2025-01-04     0.025   4564.938062\n",
       "97     2024-12-07      2025-01-04     0.100   5792.442041\n",
       "95     2024-12-07      2025-01-04     0.500   7879.287354\n",
       "98     2024-12-07      2025-01-04     0.900  10022.961328\n",
       "99     2024-12-07      2025-01-04     0.975  11124.303833\n",
       "\n",
       "[100 rows x 4 columns]"
      ]
     },
     "execution_count": 27,
     "metadata": {},
     "output_type": "execute_result"
    }
   ],
   "source": [
    "UProcessor.display_df"
   ]
  },
  {
   "cell_type": "code",
   "execution_count": null,
   "id": "36ec5e04-d34c-4a64-a415-ad6f121c5b35",
   "metadata": {},
   "outputs": [],
   "source": []
  }
 ],
 "metadata": {
  "kernelspec": {
   "display_name": "Python 3 (ipykernel)",
   "language": "python",
   "name": "python3"
  },
  "language_info": {
   "codemirror_mode": {
    "name": "ipython",
    "version": 3
   },
   "file_extension": ".py",
   "mimetype": "text/x-python",
   "name": "python",
   "nbconvert_exporter": "python",
   "pygments_lexer": "ipython3",
   "version": "3.11.4"
  }
 },
 "nbformat": 4,
 "nbformat_minor": 5
}
