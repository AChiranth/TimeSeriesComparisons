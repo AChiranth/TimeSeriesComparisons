{
 "cells": [
  {
   "cell_type": "code",
   "execution_count": 1,
   "id": "31265322-a796-4be7-b3c1-a3bf959b59a0",
   "metadata": {
    "tags": []
   },
   "outputs": [
    {
     "data": {
      "text/html": [
       "        <script type=\"text/javascript\">\n",
       "        window.PlotlyConfig = {MathJaxConfig: 'local'};\n",
       "        if (window.MathJax && window.MathJax.Hub && window.MathJax.Hub.Config) {window.MathJax.Hub.Config({SVG: {font: \"STIX-Web\"}});}\n",
       "        if (typeof require !== 'undefined') {\n",
       "        require.undef(\"plotly\");\n",
       "        requirejs.config({\n",
       "            paths: {\n",
       "                'plotly': ['https://cdn.plot.ly/plotly-2.25.2.min']\n",
       "            }\n",
       "        });\n",
       "        require(['plotly'], function(Plotly) {\n",
       "            window._Plotly = Plotly;\n",
       "        });\n",
       "        }\n",
       "        </script>\n",
       "        "
      ]
     },
     "metadata": {},
     "output_type": "display_data"
    }
   ],
   "source": [
    "import pandas as pd \n",
    "import numpy as np\n",
    "import matplotlib.pyplot as plt\n",
    "\n",
    "import cufflinks as cf\n",
    "from plotly import __version__\n",
    "from plotly.offline import download_plotlyjs, init_notebook_mode, plot, iplot\n",
    "\n",
    "cf.go_offline()\n",
    "\n",
    "%matplotlib inline\n",
    "from sklearn.metrics import mean_absolute_error, mean_absolute_percentage_error, mean_squared_error\n",
    "\n",
    "from neuralforecast.auto import AutoLSTM\n",
    "from neuralforecast.tsdataset import TimeSeriesDataset\n",
    "\n",
    "from datetime import datetime, timedelta"
   ]
  },
  {
   "cell_type": "code",
   "execution_count": 2,
   "id": "76c3d259-b43c-43f2-a28c-adcf2e007464",
   "metadata": {
    "tags": []
   },
   "outputs": [],
   "source": [
    "from statsforecast import StatsForecast\n",
    "from statsforecast.models import AutoARIMA, AutoCES, AutoETS\n",
    "from statsforecast.arima import arima_string\n",
    "import plotly.graph_objects as go\n",
    "import matplotlib.colors as mcolors"
   ]
  },
  {
   "cell_type": "code",
   "execution_count": 3,
   "id": "d426127d-7a3b-4d18-bc75-eabed5900165",
   "metadata": {
    "tags": []
   },
   "outputs": [],
   "source": [
    "class FixedCESProcessor:\n",
    "    def __init__(self, overall_df, dates):\n",
    "        self.overall_df = overall_df\n",
    "        self.overall_df_value_col = \"value\"\n",
    "        self.dates = dates\n",
    "        \n",
    "        self.dfs = []\n",
    "        self.sf = None\n",
    "        self.forecast = None\n",
    "        self.plotting_df = pd.DataFrame()\n",
    "        \n",
    "        self.mae = None\n",
    "        self.mse = None\n",
    "        self.mape = None\n",
    "        self.nmse = None\n",
    "        \n",
    "        self.metrics_df = pd.DataFrame(columns = [\"Reference Date\", \"MAE\", \"MSE\", \"MAPE\", \"NMSE\"])\n",
    "        self.display_df = pd.DataFrame(columns = [\"Reference Date\", \"Target End Date\", \"Quantile\", \"Prediction\"])\n",
    "    \n",
    "    def create_training_dfs(self, value_col):\n",
    "        self.overall_df_value_col = value_col\n",
    "        for date in self.dates:\n",
    "            df = self.overall_df.loc[:date]\n",
    "            df['ds'] = df.index\n",
    "            df[\"unique_id\"] = \"series_1\"\n",
    "            df = df.rename(columns = {value_col: \"y\"})\n",
    "            self.dfs.append(df)\n",
    "    \n",
    "    def create_fixed_model(self, h, freq, season_length, model_name, level = []):\n",
    "        \n",
    "        if not self.sf:\n",
    "            self.sf = StatsForecast(models=[AutoCES(season_length=season_length)], freq = freq)\n",
    "            self.sf.fit(self.dfs[0])\n",
    "            self.sf.save(f\"AutoCES/fixed_models/{model_name}.pkl\")\n",
    "        \n",
    "        start_date = datetime.strptime(self.dates[0], \"%Y-%m-%d\")\n",
    "        ending_date = datetime.strptime(self.dates[-1], \"%Y-%m-%d\") + timedelta(weeks = h)\n",
    "\n",
    "        prediction_horizon = abs((ending_date - start_date).days) // 7\n",
    "        \n",
    "        if not level:\n",
    "            self.forecast = self.sf.predict(h = prediction_horizon)\n",
    "        else:\n",
    "            self.forecast = self.sf.predict(h = prediction_horizon, level = level)\n",
    "\n",
    "        self.forecast.set_index(\"ds\", inplace = True)\n",
    "        self.forecast.drop(columns = \"unique_id\", inplace = True)\n",
    "        \n",
    "    def load_model(self, path):\n",
    "        self.sf = StatsForecast.load(path = path)\n",
    "        \n",
    "    def generate_color_map(self, columns, cmap_name = \"viridis\"):\n",
    "        intervals = set()\n",
    "        for col in columns:\n",
    "            if col == \"CES\":\n",
    "                continue\n",
    "            parts = col.split('-')\n",
    "            number = parts[-1]\n",
    "            intervals.add(number)\n",
    "        \n",
    "        intervals = sorted(intervals, key=int)\n",
    "        cmap = plt.cm.get_cmap(cmap_name)\n",
    "        \n",
    "        n = len(intervals)\n",
    "        if n > 0:\n",
    "            half = np.linspace(0.2, 0.45, n // 2, endpoint=True)[::-1]  # lower intervals\n",
    "            upper = np.linspace(0.55, 0.8, n - n // 2, endpoint=True)  # higher intervals\n",
    "            sample_points = np.concatenate([half, upper])\n",
    "        else:\n",
    "            sample_points = np.array([])  # just median\n",
    "        \n",
    "        median_value = np.median(sample_points)\n",
    "        \n",
    "        color_mapping = {}\n",
    "        color_mapping['CES'] = mcolors.to_hex(cmap(median_value))  # center of the colormap\n",
    "        for interval, point in zip(intervals, sample_points):\n",
    "            color_mapping[interval] = mcolors.to_hex(cmap(point))\n",
    "    \n",
    "        return color_mapping\n",
    "    \n",
    "    \n",
    "    def create_graph(self):\n",
    "        if len(self.forecast.columns) != 1:\n",
    "            self.color_mapping = self.generate_color_map(columns = self.forecast.columns)\n",
    "    \n",
    "    \n",
    "        fig = go.Figure()\n",
    "        fig.add_trace(go.Scatter(x = self.overall_df.index, y = self.overall_df[self.overall_df_value_col], mode = \"lines\", name = \"Real Data\"))\n",
    "        \n",
    "        for col in self.forecast.columns:\n",
    "            if \"hi\" in col:\n",
    "                number = col[-2:]\n",
    "                fig.add_trace(go.Scatter(x = self.forecast.index, y = self.forecast[col], mode = \"lines\", name = col,\n",
    "                                         line = dict(color = self.color_mapping[number])))\n",
    "                                         \n",
    "        for col in self.forecast.columns:\n",
    "            if \"lo\" in col:\n",
    "                number = col[-2:]\n",
    "                fig.add_trace(go.Scatter(x = self.forecast.index, y = self.forecast[col], mode = \"lines\", name = col,\n",
    "                                         fill = \"tonexty\", fillcolor = self.color_mapping[number], line = dict(color = self.color_mapping[number])))\n",
    "            \n",
    "        for col in self.forecast.columns:\n",
    "            if col == \"CES\":\n",
    "                fig.add_trace(go.Scatter(x = self.forecast.index, y = self.forecast[col], mode = \"lines\", name = col, \n",
    "                                             line = dict(color = self.color_mapping[\"CES\"])))\n",
    "        \n",
    "        fig.update_layout(title = f\"Fixed Parameter CES Predictions, {self.dates[0]}\", xaxis_title = \"Date\", yaxis_title = \"Count\", hovermode = \"x\")\n",
    "        fig.show()\n",
    "\n",
    "    \n",
    "    def create_metrics(self):\n",
    "        col_string = \"CES\"\n",
    "\n",
    "        \n",
    "        self.mae = mean_absolute_error(self.overall_df[self.overall_df_value_col].loc[self.forecast.index], self.forecast[col_string])\n",
    "        self.mse = mean_squared_error(self.overall_df[self.overall_df_value_col].loc[self.forecast.index], self.forecast[col_string])\n",
    "        self.mape = mean_absolute_percentage_error(self.overall_df[self.overall_df_value_col].loc[self.forecast.index], self.forecast[col_string])\n",
    "        self.nmse = self.mse/np.var(self.overall_df[self.overall_df_value_col].loc[self.forecast.index])\n",
    "\n",
    "    def create_metrics_df(self):\n",
    "        self.metrics_df.loc[len(self.metrics_df)] = [self.dates[0], self.mae, self.mse, self.mape, self.nmse]\n",
    "    \n",
    "    def create_display_df(self):\n",
    "        for index, row in self.forecast.iterrows():\n",
    "            reference_date = self.dates[0]\n",
    "            target_end_date = index\n",
    "            \n",
    "            for col in self.forecast.columns:\n",
    "                value = self.forecast.loc[target_end_date, col]\n",
    "                if \"lo\" in col:\n",
    "                    number = int (col[-2:])\n",
    "                    alpha = 1 - (number / 100)\n",
    "                    quantile = alpha / 2\n",
    "                    self.display_df.loc[len(self.display_df)] = [reference_date, target_end_date, quantile, value]\n",
    "                \n",
    "                if col == \"CES\":\n",
    "                    quantile = 0.5\n",
    "                    self.display_df.loc[len(self.display_df)] = [reference_date, target_end_date, quantile, value]\n",
    "                \n",
    "                elif \"hi\" in col:\n",
    "                    number = int (col[-2:])\n",
    "                    alpha = 1 - (number / 100)\n",
    "                    quantile = 1 - (alpha / 2)\n",
    "                    self.display_df.loc[len(self.display_df)] = [reference_date, target_end_date, quantile, value]\n",
    "        \n",
    "        self.display_df.sort_values(by = [\"Reference Date\", \"Target End Date\", \"Quantile\"], inplace = True)"
   ]
  },
  {
   "cell_type": "code",
   "execution_count": 4,
   "id": "7eb87596-8632-4c14-8d63-66d339f23788",
   "metadata": {
    "tags": []
   },
   "outputs": [],
   "source": [
    "class UpdatingCESProcessor:\n",
    "    def __init__(self, overall_df, dates):\n",
    "        self.overall_df = overall_df\n",
    "        self.overall_df_value_col = \"value\"\n",
    "        self.dates = dates\n",
    "        \n",
    "        self.dfs = []\n",
    "        self.sfs = []\n",
    "        self.forecasts = []\n",
    "        self.plotting_df = pd.DataFrame()\n",
    "        \n",
    "        self.maes = []\n",
    "        self.mses = []\n",
    "        self.mapes = []\n",
    "        self.nmses = []\n",
    "        \n",
    "        self.metrics_df = pd.DataFrame(columns = [\"Reference Date\", \"MAE\", \"MSE\", \"MAPE\", \"NMSE\"])\n",
    "        self.display_df = pd.DataFrame(columns = [\"Reference Date\", \"Target End Date\", \"Quantile\", \"Prediction\"])\n",
    "    \n",
    "    def create_training_dfs(self, value_col):\n",
    "        self.overall_df_value_col = value_col\n",
    "        for date in self.dates:\n",
    "            df = self.overall_df.loc[:date]\n",
    "            df['ds'] = df.index\n",
    "            df[\"unique_id\"] = \"series_1\"\n",
    "            df = df.rename(columns = {value_col: \"y\"})\n",
    "            self.dfs.append(df)\n",
    "            \n",
    "    def create_models(self, h, freq, season_length, model_names, level = []):\n",
    "        \n",
    "        if not self.sfs:\n",
    "            for i in range(len(self.dfs)):\n",
    "                sf = StatsForecast(models=[AutoCES(season_length=season_length)], freq = freq)\n",
    "                sf.fit(self.dfs[i])\n",
    "                self.sfs.append(sf)\n",
    "                sf.save(f\"AutoCES/updating_models/{model_names[i]}.pkl\")\n",
    "        \n",
    "\n",
    "        for i in range(len(self.dfs)):\n",
    "            fc = pd.DataFrame()\n",
    "            if not level:\n",
    "                fc = self.sfs[i].predict(h = h)\n",
    "            else:\n",
    "                fc = self.sfs[i].predict(h = h, level = level)\n",
    "            \n",
    "            fc.set_index(\"ds\", inplace = True)\n",
    "            fc.drop(columns = \"unique_id\", inplace = True)\n",
    "            self.forecasts.append(fc)\n",
    "    \n",
    "    \n",
    "    def load_models(self, paths):\n",
    "        for i in range(len(paths)):\n",
    "            sf = StatsForecast.load(path = paths[i])\n",
    "            self.sfs.append(sf)\n",
    "    \n",
    "    \n",
    "    def generate_color_map(self, columns, cmap_name = \"viridis\"):\n",
    "        intervals = set()\n",
    "        for col in columns:\n",
    "            if col == \"CES\":\n",
    "                continue\n",
    "            parts = col.split('-')\n",
    "            number = parts[-1]\n",
    "            intervals.add(number)\n",
    "        \n",
    "        intervals = sorted(intervals, key=int)\n",
    "        cmap = plt.cm.get_cmap(cmap_name)\n",
    "        \n",
    "        n = len(intervals)\n",
    "        if n > 0:\n",
    "            half = np.linspace(0.2, 0.45, n // 2, endpoint=True)[::-1]  # lower intervals\n",
    "            upper = np.linspace(0.55, 0.8, n - n // 2, endpoint=True)  # higher intervals\n",
    "            sample_points = np.concatenate([half, upper])\n",
    "        else:\n",
    "            sample_points = np.array([])  # just median\n",
    "        \n",
    "        median_value = np.median(sample_points)\n",
    "        \n",
    "        color_mapping = {}\n",
    "        color_mapping['CES'] = mcolors.to_hex(cmap(median_value))  # center of the colormap\n",
    "        for interval, point in zip(intervals, sample_points):\n",
    "            color_mapping[interval] = mcolors.to_hex(cmap(point))\n",
    "    \n",
    "        return color_mapping\n",
    "    \n",
    "    def create_graph(self):\n",
    "        if len(self.forecasts[0].columns) != 1:\n",
    "            self.color_mapping = self.generate_color_map(columns = self.forecasts[0].columns)\n",
    "                \n",
    "        \n",
    "        for i in range(len(self.forecasts)):\n",
    "            #Plot the overall Real Data\n",
    "            fig = go.Figure()\n",
    "            fig.add_trace(go.Scatter(x = self.overall_df.index, y = self.overall_df[self.overall_df_value_col], mode = \"lines\", name = \"Real Data\"))\n",
    "\n",
    "            \n",
    "            for col in self.forecasts[i].columns:\n",
    "                #Plot his first\n",
    "                if \"hi\" in col:\n",
    "                    number = col[-2:]\n",
    "                    fig.add_trace(go.Scatter(x = self.forecasts[i].index, y = self.forecasts[i][col], mode = \"lines\", name = col, \n",
    "                                             line = dict(color = self.color_mapping[number])))\n",
    "            \n",
    "            for col in self.forecasts[i].columns:\n",
    "                #Lows will go to corresponding his\n",
    "                if \"lo\" in col:\n",
    "                    number = col[-2:]\n",
    "                    fig.add_trace(go.Scatter(x = self.forecasts[i].index, y = self.forecasts[i][col], mode = \"lines\", name = col, \n",
    "                                             fill = \"tonexty\", fillcolor = self.color_mapping[number], line = dict(color = self.color_mapping[number])))\n",
    "            for col in self.forecasts[i].columns:\n",
    "                if col == \"CES\":\n",
    "                    fig.add_trace(go.Scatter(x = self.forecasts[i].index, y = self.forecasts[i][col], mode = \"lines\", name = col, \n",
    "                                             line = dict(color = self.color_mapping[\"CES\"])))\n",
    "                    \n",
    "            fig.update_layout(title = f\"Updating Parameter CES Predictions, {self.dates[i]}\", xaxis_title = \"Date\", yaxis_title = \"Count\", hovermode = \"x\")\n",
    "            fig.show()\n",
    "        \n",
    "    def calculate_metrics(self):\n",
    "        col_string = \"CES\"\n",
    "  \n",
    "        for i in range(len(self.forecasts)):\n",
    "            mae = mean_absolute_error(self.overall_df[self.overall_df_value_col].loc[self.forecasts[i].index], self.forecasts[i][col_string])\n",
    "            mse = mean_squared_error(self.overall_df[self.overall_df_value_col].loc[self.forecasts[i].index], self.forecasts[i][col_string])\n",
    "            mape = mean_absolute_percentage_error(self.overall_df[self.overall_df_value_col].loc[self.forecasts[i].index], self.forecasts[i][col_string])\n",
    "            nmse = mse/np.var(self.overall_df[self.overall_df_value_col].loc[self.forecasts[i].index])\n",
    "            \n",
    "            self.maes.append(mae)\n",
    "            self.mses.append(mse)\n",
    "            self.mapes.append(mape)\n",
    "            self.nmses.append(nmse)\n",
    "    \n",
    "    def create_metrics_df(self):\n",
    "        for i in range(len(self.dates)):\n",
    "            self.metrics_df.loc[len(self.metrics_df)] = [self.dates[i], self.maes[i], self.mses[i], self.mapes[i], self.nmses[i]]\n",
    "    \n",
    "    def create_display_df(self):\n",
    "        for i in range(len(self.forecasts)):\n",
    "            for index, row in self.forecasts[i].iterrows():\n",
    "                reference_date = self.dates[i]\n",
    "                target_end_date = index\n",
    "                \n",
    "                for col in self.forecasts[i].columns:\n",
    "                    value = self.forecasts[i].loc[target_end_date, col]\n",
    "                    if \"lo\" in col:\n",
    "                        number = int (col[-2:])\n",
    "                        alpha = 1 - (number / 100)\n",
    "                        quantile = alpha / 2\n",
    "                        self.display_df.loc[len(self.display_df)] = [reference_date, target_end_date, quantile, value]\n",
    "\n",
    "                    if col == \"CES\":\n",
    "                        quantile = 0.5\n",
    "                        self.display_df.loc[len(self.display_df)] = [reference_date, target_end_date, quantile, value]\n",
    "\n",
    "                    elif \"hi\" in col:\n",
    "                        number = int (col[-2:])\n",
    "                        alpha = 1 - (number / 100)\n",
    "                        quantile = 1 - (alpha / 2)\n",
    "                        self.display_df.loc[len(self.display_df)] = [reference_date, target_end_date, quantile, value]\n",
    "                \n",
    "        self.display_df.sort_values(by = [\"Reference Date\", \"Target End Date\", \"Quantile\"], inplace = True)"
   ]
  },
  {
   "cell_type": "code",
   "execution_count": 5,
   "id": "e8dccdca-0bb3-4023-a07a-72292e3e098f",
   "metadata": {},
   "outputs": [],
   "source": [
    "updated_df = pd.read_csv(\"https://raw.githubusercontent.com/cdcepi/FluSight-forecast-hub/refs/heads/main/target-data/target-hospital-admissions.csv\")"
   ]
  },
  {
   "cell_type": "code",
   "execution_count": 6,
   "id": "517807f9-b071-4e5a-b2a3-e1b2060d9551",
   "metadata": {
    "tags": []
   },
   "outputs": [],
   "source": [
    "updated_df = updated_df[updated_df[\"location_name\"] == \"US\"]\n",
    "updated_df = updated_df[[\"date\", \"value\"]]\n",
    "updated_df[\"date\"] = pd.to_datetime(updated_df[\"date\"])\n",
    "updated_df.set_index(\"date\", inplace = True)\n",
    "updated_df.sort_values(by = \"date\", inplace = True)"
   ]
  },
  {
   "cell_type": "code",
   "execution_count": 7,
   "id": "2047d8e9-a4ff-4a82-9b9b-4224dc9549ca",
   "metadata": {
    "tags": []
   },
   "outputs": [],
   "source": [
    "Processor = FixedCESProcessor(overall_df = updated_df, dates = [\"2024-10-05\", \"2024-10-19\", \"2024-11-02\", \"2024-11-16\", \"2024-12-07\"])"
   ]
  },
  {
   "cell_type": "code",
   "execution_count": 8,
   "id": "377c7808-a43a-4e67-9af3-5ea62dc00bb3",
   "metadata": {
    "tags": []
   },
   "outputs": [],
   "source": [
    "Processor.create_training_dfs(value_col = \"value\")"
   ]
  },
  {
   "cell_type": "code",
   "execution_count": 9,
   "id": "812f6636-772c-4275-9d21-3416c716cbbe",
   "metadata": {
    "tags": []
   },
   "outputs": [
    {
     "name": "stdout",
     "output_type": "stream",
     "text": [
      "Saving StatsForecast object of size 10.70KB.\n",
      "StatsForecast object saved\n"
     ]
    }
   ],
   "source": [
    "Processor.create_fixed_model(h = 4, freq = \"W-SAT\", season_length = 52, model_name = \"testing\", level = [80, 95])"
   ]
  },
  {
   "cell_type": "code",
   "execution_count": 10,
   "id": "d2b93863-c0b8-449c-a950-00aa48b07afc",
   "metadata": {
    "tags": []
   },
   "outputs": [
    {
     "data": {
      "text/html": [
       "<div>\n",
       "<style scoped>\n",
       "    .dataframe tbody tr th:only-of-type {\n",
       "        vertical-align: middle;\n",
       "    }\n",
       "\n",
       "    .dataframe tbody tr th {\n",
       "        vertical-align: top;\n",
       "    }\n",
       "\n",
       "    .dataframe thead th {\n",
       "        text-align: right;\n",
       "    }\n",
       "</style>\n",
       "<table border=\"1\" class=\"dataframe\">\n",
       "  <thead>\n",
       "    <tr style=\"text-align: right;\">\n",
       "      <th></th>\n",
       "      <th>CES</th>\n",
       "      <th>CES-lo-95</th>\n",
       "      <th>CES-lo-80</th>\n",
       "      <th>CES-hi-80</th>\n",
       "      <th>CES-hi-95</th>\n",
       "    </tr>\n",
       "    <tr>\n",
       "      <th>ds</th>\n",
       "      <th></th>\n",
       "      <th></th>\n",
       "      <th></th>\n",
       "      <th></th>\n",
       "      <th></th>\n",
       "    </tr>\n",
       "  </thead>\n",
       "  <tbody>\n",
       "    <tr>\n",
       "      <th>2024-10-12</th>\n",
       "      <td>265.220703</td>\n",
       "      <td>-3071.073621</td>\n",
       "      <td>-1836.849097</td>\n",
       "      <td>2412.015356</td>\n",
       "      <td>3555.930682</td>\n",
       "    </tr>\n",
       "    <tr>\n",
       "      <th>2024-10-19</th>\n",
       "      <td>505.310547</td>\n",
       "      <td>-2792.130212</td>\n",
       "      <td>-1649.338013</td>\n",
       "      <td>2619.863745</td>\n",
       "      <td>3710.798132</td>\n",
       "    </tr>\n",
       "    <tr>\n",
       "      <th>2024-10-26</th>\n",
       "      <td>1358.358398</td>\n",
       "      <td>-1790.233093</td>\n",
       "      <td>-736.262988</td>\n",
       "      <td>3425.373218</td>\n",
       "      <td>4534.298486</td>\n",
       "    </tr>\n",
       "    <tr>\n",
       "      <th>2024-11-02</th>\n",
       "      <td>2509.965942</td>\n",
       "      <td>-600.974445</td>\n",
       "      <td>484.014404</td>\n",
       "      <td>4548.643555</td>\n",
       "      <td>5749.773267</td>\n",
       "    </tr>\n",
       "    <tr>\n",
       "      <th>2024-11-09</th>\n",
       "      <td>3855.705811</td>\n",
       "      <td>773.592752</td>\n",
       "      <td>1837.633057</td>\n",
       "      <td>5875.318750</td>\n",
       "      <td>6958.187109</td>\n",
       "    </tr>\n",
       "    <tr>\n",
       "      <th>2024-11-16</th>\n",
       "      <td>5251.941162</td>\n",
       "      <td>2259.636230</td>\n",
       "      <td>3247.656616</td>\n",
       "      <td>7232.955469</td>\n",
       "      <td>8329.624512</td>\n",
       "    </tr>\n",
       "    <tr>\n",
       "      <th>2024-11-23</th>\n",
       "      <td>9162.954346</td>\n",
       "      <td>6186.325146</td>\n",
       "      <td>7188.100391</td>\n",
       "      <td>11073.880176</td>\n",
       "      <td>12078.498218</td>\n",
       "    </tr>\n",
       "    <tr>\n",
       "      <th>2024-11-30</th>\n",
       "      <td>14165.786865</td>\n",
       "      <td>11319.043872</td>\n",
       "      <td>12293.961816</td>\n",
       "      <td>16055.457520</td>\n",
       "      <td>17053.645801</td>\n",
       "    </tr>\n",
       "    <tr>\n",
       "      <th>2024-12-07</th>\n",
       "      <td>13494.167969</td>\n",
       "      <td>10703.777734</td>\n",
       "      <td>11643.491113</td>\n",
       "      <td>15349.601562</td>\n",
       "      <td>16348.080640</td>\n",
       "    </tr>\n",
       "    <tr>\n",
       "      <th>2024-12-14</th>\n",
       "      <td>13517.381348</td>\n",
       "      <td>10635.578833</td>\n",
       "      <td>11667.757031</td>\n",
       "      <td>15396.694824</td>\n",
       "      <td>16325.696924</td>\n",
       "    </tr>\n",
       "    <tr>\n",
       "      <th>2024-12-21</th>\n",
       "      <td>15182.100098</td>\n",
       "      <td>12401.983643</td>\n",
       "      <td>13371.363574</td>\n",
       "      <td>16953.157227</td>\n",
       "      <td>18043.240918</td>\n",
       "    </tr>\n",
       "    <tr>\n",
       "      <th>2024-12-28</th>\n",
       "      <td>17926.000000</td>\n",
       "      <td>15144.514404</td>\n",
       "      <td>16080.733594</td>\n",
       "      <td>19809.265625</td>\n",
       "      <td>20734.388330</td>\n",
       "    </tr>\n",
       "    <tr>\n",
       "      <th>2025-01-04</th>\n",
       "      <td>14093.265381</td>\n",
       "      <td>11471.782690</td>\n",
       "      <td>12362.820898</td>\n",
       "      <td>15888.246484</td>\n",
       "      <td>16750.251904</td>\n",
       "    </tr>\n",
       "  </tbody>\n",
       "</table>\n",
       "</div>"
      ],
      "text/plain": [
       "                     CES     CES-lo-95     CES-lo-80     CES-hi-80  \\\n",
       "ds                                                                   \n",
       "2024-10-12    265.220703  -3071.073621  -1836.849097   2412.015356   \n",
       "2024-10-19    505.310547  -2792.130212  -1649.338013   2619.863745   \n",
       "2024-10-26   1358.358398  -1790.233093   -736.262988   3425.373218   \n",
       "2024-11-02   2509.965942   -600.974445    484.014404   4548.643555   \n",
       "2024-11-09   3855.705811    773.592752   1837.633057   5875.318750   \n",
       "2024-11-16   5251.941162   2259.636230   3247.656616   7232.955469   \n",
       "2024-11-23   9162.954346   6186.325146   7188.100391  11073.880176   \n",
       "2024-11-30  14165.786865  11319.043872  12293.961816  16055.457520   \n",
       "2024-12-07  13494.167969  10703.777734  11643.491113  15349.601562   \n",
       "2024-12-14  13517.381348  10635.578833  11667.757031  15396.694824   \n",
       "2024-12-21  15182.100098  12401.983643  13371.363574  16953.157227   \n",
       "2024-12-28  17926.000000  15144.514404  16080.733594  19809.265625   \n",
       "2025-01-04  14093.265381  11471.782690  12362.820898  15888.246484   \n",
       "\n",
       "               CES-hi-95  \n",
       "ds                        \n",
       "2024-10-12   3555.930682  \n",
       "2024-10-19   3710.798132  \n",
       "2024-10-26   4534.298486  \n",
       "2024-11-02   5749.773267  \n",
       "2024-11-09   6958.187109  \n",
       "2024-11-16   8329.624512  \n",
       "2024-11-23  12078.498218  \n",
       "2024-11-30  17053.645801  \n",
       "2024-12-07  16348.080640  \n",
       "2024-12-14  16325.696924  \n",
       "2024-12-21  18043.240918  \n",
       "2024-12-28  20734.388330  \n",
       "2025-01-04  16750.251904  "
      ]
     },
     "execution_count": 10,
     "metadata": {},
     "output_type": "execute_result"
    }
   ],
   "source": [
    "Processor.forecast"
   ]
  },
  {
   "cell_type": "code",
   "execution_count": 11,
   "id": "44dc3b8c-7f98-49b6-b5b2-a0b3fe8e1ed4",
   "metadata": {
    "tags": []
   },
   "outputs": [
    {
     "name": "stderr",
     "output_type": "stream",
     "text": [
      "/tmp/ipykernel_24549/473455151.py:62: MatplotlibDeprecationWarning:\n",
      "\n",
      "The get_cmap function was deprecated in Matplotlib 3.7 and will be removed two minor releases later. Use ``matplotlib.colormaps[name]`` or ``matplotlib.colormaps.get_cmap(obj)`` instead.\n",
      "\n"
     ]
    },
    {
     "data": {
      "application/vnd.plotly.v1+json": {
       "config": {
        "plotlyServerURL": "https://plot.ly"
       },
       "data": [
        {
         "mode": "lines",
         "name": "Real Data",
         "type": "scatter",
         "x": [
          "2022-02-05T00:00:00",
          "2022-02-12T00:00:00",
          "2022-02-19T00:00:00",
          "2022-02-26T00:00:00",
          "2022-03-05T00:00:00",
          "2022-03-12T00:00:00",
          "2022-03-19T00:00:00",
          "2022-03-26T00:00:00",
          "2022-04-02T00:00:00",
          "2022-04-09T00:00:00",
          "2022-04-16T00:00:00",
          "2022-04-23T00:00:00",
          "2022-04-30T00:00:00",
          "2022-05-07T00:00:00",
          "2022-05-14T00:00:00",
          "2022-05-21T00:00:00",
          "2022-05-28T00:00:00",
          "2022-06-04T00:00:00",
          "2022-06-11T00:00:00",
          "2022-06-18T00:00:00",
          "2022-06-25T00:00:00",
          "2022-07-02T00:00:00",
          "2022-07-09T00:00:00",
          "2022-07-16T00:00:00",
          "2022-07-23T00:00:00",
          "2022-07-30T00:00:00",
          "2022-08-06T00:00:00",
          "2022-08-13T00:00:00",
          "2022-08-20T00:00:00",
          "2022-08-27T00:00:00",
          "2022-09-03T00:00:00",
          "2022-09-10T00:00:00",
          "2022-09-17T00:00:00",
          "2022-09-24T00:00:00",
          "2022-10-01T00:00:00",
          "2022-10-08T00:00:00",
          "2022-10-15T00:00:00",
          "2022-10-22T00:00:00",
          "2022-10-29T00:00:00",
          "2022-11-05T00:00:00",
          "2022-11-12T00:00:00",
          "2022-11-19T00:00:00",
          "2022-11-26T00:00:00",
          "2022-12-03T00:00:00",
          "2022-12-10T00:00:00",
          "2022-12-17T00:00:00",
          "2022-12-24T00:00:00",
          "2022-12-31T00:00:00",
          "2023-01-07T00:00:00",
          "2023-01-14T00:00:00",
          "2023-01-21T00:00:00",
          "2023-01-28T00:00:00",
          "2023-02-04T00:00:00",
          "2023-02-11T00:00:00",
          "2023-02-18T00:00:00",
          "2023-02-25T00:00:00",
          "2023-03-04T00:00:00",
          "2023-03-11T00:00:00",
          "2023-03-18T00:00:00",
          "2023-03-25T00:00:00",
          "2023-04-01T00:00:00",
          "2023-04-08T00:00:00",
          "2023-04-15T00:00:00",
          "2023-04-22T00:00:00",
          "2023-04-29T00:00:00",
          "2023-05-06T00:00:00",
          "2023-05-13T00:00:00",
          "2023-05-20T00:00:00",
          "2023-05-27T00:00:00",
          "2023-06-03T00:00:00",
          "2023-06-10T00:00:00",
          "2023-06-17T00:00:00",
          "2023-06-24T00:00:00",
          "2023-07-01T00:00:00",
          "2023-07-08T00:00:00",
          "2023-07-15T00:00:00",
          "2023-07-22T00:00:00",
          "2023-07-29T00:00:00",
          "2023-08-05T00:00:00",
          "2023-08-12T00:00:00",
          "2023-08-19T00:00:00",
          "2023-08-26T00:00:00",
          "2023-09-02T00:00:00",
          "2023-09-09T00:00:00",
          "2023-09-16T00:00:00",
          "2023-09-23T00:00:00",
          "2023-09-30T00:00:00",
          "2023-10-07T00:00:00",
          "2023-10-14T00:00:00",
          "2023-10-21T00:00:00",
          "2023-10-28T00:00:00",
          "2023-11-04T00:00:00",
          "2023-11-11T00:00:00",
          "2023-11-18T00:00:00",
          "2023-11-25T00:00:00",
          "2023-12-02T00:00:00",
          "2023-12-09T00:00:00",
          "2023-12-16T00:00:00",
          "2023-12-23T00:00:00",
          "2023-12-30T00:00:00",
          "2024-01-06T00:00:00",
          "2024-01-13T00:00:00",
          "2024-01-20T00:00:00",
          "2024-01-27T00:00:00",
          "2024-02-03T00:00:00",
          "2024-02-10T00:00:00",
          "2024-02-17T00:00:00",
          "2024-02-24T00:00:00",
          "2024-03-02T00:00:00",
          "2024-03-09T00:00:00",
          "2024-03-16T00:00:00",
          "2024-03-23T00:00:00",
          "2024-03-30T00:00:00",
          "2024-04-06T00:00:00",
          "2024-04-13T00:00:00",
          "2024-04-20T00:00:00",
          "2024-04-27T00:00:00",
          "2024-05-04T00:00:00",
          "2024-05-11T00:00:00",
          "2024-05-18T00:00:00",
          "2024-05-25T00:00:00",
          "2024-06-01T00:00:00",
          "2024-06-08T00:00:00",
          "2024-06-15T00:00:00",
          "2024-06-22T00:00:00",
          "2024-06-29T00:00:00",
          "2024-07-06T00:00:00",
          "2024-07-13T00:00:00",
          "2024-07-20T00:00:00",
          "2024-07-27T00:00:00",
          "2024-08-03T00:00:00",
          "2024-08-10T00:00:00",
          "2024-08-17T00:00:00",
          "2024-08-24T00:00:00",
          "2024-08-31T00:00:00",
          "2024-09-07T00:00:00",
          "2024-09-14T00:00:00",
          "2024-09-21T00:00:00",
          "2024-09-28T00:00:00",
          "2024-10-05T00:00:00",
          "2024-10-12T00:00:00",
          "2024-10-19T00:00:00",
          "2024-10-26T00:00:00",
          "2024-11-02T00:00:00",
          "2024-11-09T00:00:00",
          "2024-11-16T00:00:00",
          "2024-11-23T00:00:00",
          "2024-11-30T00:00:00",
          "2024-12-07T00:00:00",
          "2024-12-14T00:00:00",
          "2024-12-21T00:00:00",
          "2024-12-28T00:00:00",
          "2025-01-04T00:00:00",
          "2025-01-11T00:00:00",
          "2025-01-18T00:00:00",
          "2025-01-25T00:00:00",
          "2025-02-01T00:00:00",
          "2025-02-08T00:00:00",
          "2025-02-15T00:00:00",
          "2025-02-22T00:00:00",
          "2025-03-01T00:00:00",
          "2025-03-08T00:00:00",
          "2025-03-15T00:00:00",
          "2025-03-22T00:00:00",
          "2025-03-29T00:00:00",
          "2025-04-05T00:00:00",
          "2025-04-12T00:00:00",
          "2025-04-19T00:00:00",
          "2025-04-26T00:00:00",
          "2025-05-03T00:00:00",
          "2025-05-10T00:00:00",
          "2025-05-17T00:00:00"
         ],
         "y": [
          1091,
          1162,
          1491,
          1603,
          1791,
          2094,
          2622,
          2917,
          3000,
          3135,
          3297,
          3468,
          3179,
          3172,
          3117,
          3130,
          2737,
          2676,
          2202,
          1775,
          1366,
          1073,
          776,
          766,
          627,
          522,
          486,
          490,
          483,
          483,
          545,
          576,
          665,
          796,
          921,
          1306,
          1670,
          2273,
          4181,
          6401,
          8589,
          10969,
          18173,
          26829,
          24035,
          21607,
          19624,
          19474,
          14074,
          7183,
          4488,
          3091,
          2594,
          2176,
          1908,
          1647,
          1501,
          1372,
          1415,
          1330,
          1295,
          1198,
          1077,
          980,
          903,
          994,
          978,
          1116,
          974,
          939,
          935,
          873,
          813,
          836,
          699,
          736,
          645,
          769,
          690,
          705,
          738,
          792,
          875,
          803,
          821,
          881,
          1026,
          1108,
          1214,
          1469,
          1614,
          2012,
          2775,
          3491,
          4386,
          5954,
          7495,
          10269,
          15717,
          21682,
          19548,
          15902,
          13302,
          13025,
          11963,
          11629,
          11126,
          10869,
          10814,
          9416,
          7324,
          6049,
          5574,
          5071,
          4073,
          2943,
          2420,
          1485,
          852,
          681,
          610,
          590,
          511,
          517,
          441,
          356,
          341,
          367,
          324,
          273,
          275,
          275,
          273,
          274,
          259,
          223,
          319,
          293,
          223,
          286,
          288,
          552,
          1079,
          975,
          2076,
          2529,
          3089,
          4278,
          6286,
          9152,
          15399,
          27651,
          38672,
          30698,
          32963,
          40566,
          51141,
          54115,
          46036,
          37647,
          30753,
          23970,
          18369,
          13620,
          9664,
          6683,
          4863,
          3818,
          3213,
          2434,
          2078,
          1636
         ]
        },
        {
         "line": {
          "color": "#414487"
         },
         "mode": "lines",
         "name": "CES-hi-80",
         "type": "scatter",
         "x": [
          "2024-10-12T00:00:00",
          "2024-10-19T00:00:00",
          "2024-10-26T00:00:00",
          "2024-11-02T00:00:00",
          "2024-11-09T00:00:00",
          "2024-11-16T00:00:00",
          "2024-11-23T00:00:00",
          "2024-11-30T00:00:00",
          "2024-12-07T00:00:00",
          "2024-12-14T00:00:00",
          "2024-12-21T00:00:00",
          "2024-12-28T00:00:00",
          "2025-01-04T00:00:00"
         ],
         "y": [
          2412.0153564453135,
          2619.8637451171876,
          3425.373217773438,
          4548.643554687501,
          5875.318750000001,
          7232.95546875,
          11073.88017578125,
          16055.45751953125,
          15349.6015625,
          15396.69482421875,
          16953.1572265625,
          19809.265625,
          15888.246484375
         ]
        },
        {
         "line": {
          "color": "#1e9c89"
         },
         "mode": "lines",
         "name": "CES-hi-95",
         "type": "scatter",
         "x": [
          "2024-10-12T00:00:00",
          "2024-10-19T00:00:00",
          "2024-10-26T00:00:00",
          "2024-11-02T00:00:00",
          "2024-11-09T00:00:00",
          "2024-11-16T00:00:00",
          "2024-11-23T00:00:00",
          "2024-11-30T00:00:00",
          "2024-12-07T00:00:00",
          "2024-12-14T00:00:00",
          "2024-12-21T00:00:00",
          "2024-12-28T00:00:00",
          "2025-01-04T00:00:00"
         ],
         "y": [
          3555.930682373045,
          3710.7981323242166,
          4534.298486328124,
          5749.773266601563,
          6958.187109374997,
          8329.624511718748,
          12078.498217773436,
          17053.64580078125,
          16348.080639648435,
          16325.696923828124,
          18043.24091796875,
          20734.388330078116,
          16750.251904296874
         ]
        },
        {
         "fill": "tonexty",
         "fillcolor": "#1e9c89",
         "line": {
          "color": "#1e9c89"
         },
         "mode": "lines",
         "name": "CES-lo-95",
         "type": "scatter",
         "x": [
          "2024-10-12T00:00:00",
          "2024-10-19T00:00:00",
          "2024-10-26T00:00:00",
          "2024-11-02T00:00:00",
          "2024-11-09T00:00:00",
          "2024-11-16T00:00:00",
          "2024-11-23T00:00:00",
          "2024-11-30T00:00:00",
          "2024-12-07T00:00:00",
          "2024-12-14T00:00:00",
          "2024-12-21T00:00:00",
          "2024-12-28T00:00:00",
          "2025-01-04T00:00:00"
         ],
         "y": [
          -3071.0736206054676,
          -2792.1302124023437,
          -1790.2330932617183,
          -600.9744445800777,
          773.5927520751956,
          2259.6362304687527,
          6186.325146484375,
          11319.043872070313,
          10703.777734375,
          10635.578833007814,
          12401.983642578125,
          15144.514404296875,
          11471.782690429687
         ]
        },
        {
         "fill": "tonexty",
         "fillcolor": "#414487",
         "line": {
          "color": "#414487"
         },
         "mode": "lines",
         "name": "CES-lo-80",
         "type": "scatter",
         "x": [
          "2024-10-12T00:00:00",
          "2024-10-19T00:00:00",
          "2024-10-26T00:00:00",
          "2024-11-02T00:00:00",
          "2024-11-09T00:00:00",
          "2024-11-16T00:00:00",
          "2024-11-23T00:00:00",
          "2024-11-30T00:00:00",
          "2024-12-07T00:00:00",
          "2024-12-14T00:00:00",
          "2024-12-21T00:00:00",
          "2024-12-28T00:00:00",
          "2025-01-04T00:00:00"
         ],
         "y": [
          -1836.849096679688,
          -1649.3380126953125,
          -736.2629882812503,
          484.014404296875,
          1837.6330566406245,
          3247.656616210937,
          7188.100390625,
          12293.96181640625,
          11643.49111328125,
          11667.75703125,
          13371.363574218749,
          16080.73359375,
          12362.8208984375
         ]
        },
        {
         "line": {
          "color": "#2c728e"
         },
         "mode": "lines",
         "name": "CES",
         "type": "scatter",
         "x": [
          "2024-10-12T00:00:00",
          "2024-10-19T00:00:00",
          "2024-10-26T00:00:00",
          "2024-11-02T00:00:00",
          "2024-11-09T00:00:00",
          "2024-11-16T00:00:00",
          "2024-11-23T00:00:00",
          "2024-11-30T00:00:00",
          "2024-12-07T00:00:00",
          "2024-12-14T00:00:00",
          "2024-12-21T00:00:00",
          "2024-12-28T00:00:00",
          "2025-01-04T00:00:00"
         ],
         "y": [
          265.220703125,
          505.310546875,
          1358.3583984375,
          2509.9659423828125,
          3855.705810546875,
          5251.941162109375,
          9162.954345703125,
          14165.786865234375,
          13494.16796875,
          13517.38134765625,
          15182.10009765625,
          17926,
          14093.265380859375
         ]
        }
       ],
       "layout": {
        "autosize": true,
        "hovermode": "x",
        "template": {
         "data": {
          "bar": [
           {
            "error_x": {
             "color": "#2a3f5f"
            },
            "error_y": {
             "color": "#2a3f5f"
            },
            "marker": {
             "line": {
              "color": "#E5ECF6",
              "width": 0.5
             },
             "pattern": {
              "fillmode": "overlay",
              "size": 10,
              "solidity": 0.2
             }
            },
            "type": "bar"
           }
          ],
          "barpolar": [
           {
            "marker": {
             "line": {
              "color": "#E5ECF6",
              "width": 0.5
             },
             "pattern": {
              "fillmode": "overlay",
              "size": 10,
              "solidity": 0.2
             }
            },
            "type": "barpolar"
           }
          ],
          "carpet": [
           {
            "aaxis": {
             "endlinecolor": "#2a3f5f",
             "gridcolor": "white",
             "linecolor": "white",
             "minorgridcolor": "white",
             "startlinecolor": "#2a3f5f"
            },
            "baxis": {
             "endlinecolor": "#2a3f5f",
             "gridcolor": "white",
             "linecolor": "white",
             "minorgridcolor": "white",
             "startlinecolor": "#2a3f5f"
            },
            "type": "carpet"
           }
          ],
          "choropleth": [
           {
            "colorbar": {
             "outlinewidth": 0,
             "ticks": ""
            },
            "type": "choropleth"
           }
          ],
          "contour": [
           {
            "colorbar": {
             "outlinewidth": 0,
             "ticks": ""
            },
            "colorscale": [
             [
              0,
              "#0d0887"
             ],
             [
              0.1111111111111111,
              "#46039f"
             ],
             [
              0.2222222222222222,
              "#7201a8"
             ],
             [
              0.3333333333333333,
              "#9c179e"
             ],
             [
              0.4444444444444444,
              "#bd3786"
             ],
             [
              0.5555555555555556,
              "#d8576b"
             ],
             [
              0.6666666666666666,
              "#ed7953"
             ],
             [
              0.7777777777777778,
              "#fb9f3a"
             ],
             [
              0.8888888888888888,
              "#fdca26"
             ],
             [
              1,
              "#f0f921"
             ]
            ],
            "type": "contour"
           }
          ],
          "contourcarpet": [
           {
            "colorbar": {
             "outlinewidth": 0,
             "ticks": ""
            },
            "type": "contourcarpet"
           }
          ],
          "heatmap": [
           {
            "colorbar": {
             "outlinewidth": 0,
             "ticks": ""
            },
            "colorscale": [
             [
              0,
              "#0d0887"
             ],
             [
              0.1111111111111111,
              "#46039f"
             ],
             [
              0.2222222222222222,
              "#7201a8"
             ],
             [
              0.3333333333333333,
              "#9c179e"
             ],
             [
              0.4444444444444444,
              "#bd3786"
             ],
             [
              0.5555555555555556,
              "#d8576b"
             ],
             [
              0.6666666666666666,
              "#ed7953"
             ],
             [
              0.7777777777777778,
              "#fb9f3a"
             ],
             [
              0.8888888888888888,
              "#fdca26"
             ],
             [
              1,
              "#f0f921"
             ]
            ],
            "type": "heatmap"
           }
          ],
          "heatmapgl": [
           {
            "colorbar": {
             "outlinewidth": 0,
             "ticks": ""
            },
            "colorscale": [
             [
              0,
              "#0d0887"
             ],
             [
              0.1111111111111111,
              "#46039f"
             ],
             [
              0.2222222222222222,
              "#7201a8"
             ],
             [
              0.3333333333333333,
              "#9c179e"
             ],
             [
              0.4444444444444444,
              "#bd3786"
             ],
             [
              0.5555555555555556,
              "#d8576b"
             ],
             [
              0.6666666666666666,
              "#ed7953"
             ],
             [
              0.7777777777777778,
              "#fb9f3a"
             ],
             [
              0.8888888888888888,
              "#fdca26"
             ],
             [
              1,
              "#f0f921"
             ]
            ],
            "type": "heatmapgl"
           }
          ],
          "histogram": [
           {
            "marker": {
             "pattern": {
              "fillmode": "overlay",
              "size": 10,
              "solidity": 0.2
             }
            },
            "type": "histogram"
           }
          ],
          "histogram2d": [
           {
            "colorbar": {
             "outlinewidth": 0,
             "ticks": ""
            },
            "colorscale": [
             [
              0,
              "#0d0887"
             ],
             [
              0.1111111111111111,
              "#46039f"
             ],
             [
              0.2222222222222222,
              "#7201a8"
             ],
             [
              0.3333333333333333,
              "#9c179e"
             ],
             [
              0.4444444444444444,
              "#bd3786"
             ],
             [
              0.5555555555555556,
              "#d8576b"
             ],
             [
              0.6666666666666666,
              "#ed7953"
             ],
             [
              0.7777777777777778,
              "#fb9f3a"
             ],
             [
              0.8888888888888888,
              "#fdca26"
             ],
             [
              1,
              "#f0f921"
             ]
            ],
            "type": "histogram2d"
           }
          ],
          "histogram2dcontour": [
           {
            "colorbar": {
             "outlinewidth": 0,
             "ticks": ""
            },
            "colorscale": [
             [
              0,
              "#0d0887"
             ],
             [
              0.1111111111111111,
              "#46039f"
             ],
             [
              0.2222222222222222,
              "#7201a8"
             ],
             [
              0.3333333333333333,
              "#9c179e"
             ],
             [
              0.4444444444444444,
              "#bd3786"
             ],
             [
              0.5555555555555556,
              "#d8576b"
             ],
             [
              0.6666666666666666,
              "#ed7953"
             ],
             [
              0.7777777777777778,
              "#fb9f3a"
             ],
             [
              0.8888888888888888,
              "#fdca26"
             ],
             [
              1,
              "#f0f921"
             ]
            ],
            "type": "histogram2dcontour"
           }
          ],
          "mesh3d": [
           {
            "colorbar": {
             "outlinewidth": 0,
             "ticks": ""
            },
            "type": "mesh3d"
           }
          ],
          "parcoords": [
           {
            "line": {
             "colorbar": {
              "outlinewidth": 0,
              "ticks": ""
             }
            },
            "type": "parcoords"
           }
          ],
          "pie": [
           {
            "automargin": true,
            "type": "pie"
           }
          ],
          "scatter": [
           {
            "fillpattern": {
             "fillmode": "overlay",
             "size": 10,
             "solidity": 0.2
            },
            "type": "scatter"
           }
          ],
          "scatter3d": [
           {
            "line": {
             "colorbar": {
              "outlinewidth": 0,
              "ticks": ""
             }
            },
            "marker": {
             "colorbar": {
              "outlinewidth": 0,
              "ticks": ""
             }
            },
            "type": "scatter3d"
           }
          ],
          "scattercarpet": [
           {
            "marker": {
             "colorbar": {
              "outlinewidth": 0,
              "ticks": ""
             }
            },
            "type": "scattercarpet"
           }
          ],
          "scattergeo": [
           {
            "marker": {
             "colorbar": {
              "outlinewidth": 0,
              "ticks": ""
             }
            },
            "type": "scattergeo"
           }
          ],
          "scattergl": [
           {
            "marker": {
             "colorbar": {
              "outlinewidth": 0,
              "ticks": ""
             }
            },
            "type": "scattergl"
           }
          ],
          "scattermapbox": [
           {
            "marker": {
             "colorbar": {
              "outlinewidth": 0,
              "ticks": ""
             }
            },
            "type": "scattermapbox"
           }
          ],
          "scatterpolar": [
           {
            "marker": {
             "colorbar": {
              "outlinewidth": 0,
              "ticks": ""
             }
            },
            "type": "scatterpolar"
           }
          ],
          "scatterpolargl": [
           {
            "marker": {
             "colorbar": {
              "outlinewidth": 0,
              "ticks": ""
             }
            },
            "type": "scatterpolargl"
           }
          ],
          "scatterternary": [
           {
            "marker": {
             "colorbar": {
              "outlinewidth": 0,
              "ticks": ""
             }
            },
            "type": "scatterternary"
           }
          ],
          "surface": [
           {
            "colorbar": {
             "outlinewidth": 0,
             "ticks": ""
            },
            "colorscale": [
             [
              0,
              "#0d0887"
             ],
             [
              0.1111111111111111,
              "#46039f"
             ],
             [
              0.2222222222222222,
              "#7201a8"
             ],
             [
              0.3333333333333333,
              "#9c179e"
             ],
             [
              0.4444444444444444,
              "#bd3786"
             ],
             [
              0.5555555555555556,
              "#d8576b"
             ],
             [
              0.6666666666666666,
              "#ed7953"
             ],
             [
              0.7777777777777778,
              "#fb9f3a"
             ],
             [
              0.8888888888888888,
              "#fdca26"
             ],
             [
              1,
              "#f0f921"
             ]
            ],
            "type": "surface"
           }
          ],
          "table": [
           {
            "cells": {
             "fill": {
              "color": "#EBF0F8"
             },
             "line": {
              "color": "white"
             }
            },
            "header": {
             "fill": {
              "color": "#C8D4E3"
             },
             "line": {
              "color": "white"
             }
            },
            "type": "table"
           }
          ]
         },
         "layout": {
          "annotationdefaults": {
           "arrowcolor": "#2a3f5f",
           "arrowhead": 0,
           "arrowwidth": 1
          },
          "autotypenumbers": "strict",
          "coloraxis": {
           "colorbar": {
            "outlinewidth": 0,
            "ticks": ""
           }
          },
          "colorscale": {
           "diverging": [
            [
             0,
             "#8e0152"
            ],
            [
             0.1,
             "#c51b7d"
            ],
            [
             0.2,
             "#de77ae"
            ],
            [
             0.3,
             "#f1b6da"
            ],
            [
             0.4,
             "#fde0ef"
            ],
            [
             0.5,
             "#f7f7f7"
            ],
            [
             0.6,
             "#e6f5d0"
            ],
            [
             0.7,
             "#b8e186"
            ],
            [
             0.8,
             "#7fbc41"
            ],
            [
             0.9,
             "#4d9221"
            ],
            [
             1,
             "#276419"
            ]
           ],
           "sequential": [
            [
             0,
             "#0d0887"
            ],
            [
             0.1111111111111111,
             "#46039f"
            ],
            [
             0.2222222222222222,
             "#7201a8"
            ],
            [
             0.3333333333333333,
             "#9c179e"
            ],
            [
             0.4444444444444444,
             "#bd3786"
            ],
            [
             0.5555555555555556,
             "#d8576b"
            ],
            [
             0.6666666666666666,
             "#ed7953"
            ],
            [
             0.7777777777777778,
             "#fb9f3a"
            ],
            [
             0.8888888888888888,
             "#fdca26"
            ],
            [
             1,
             "#f0f921"
            ]
           ],
           "sequentialminus": [
            [
             0,
             "#0d0887"
            ],
            [
             0.1111111111111111,
             "#46039f"
            ],
            [
             0.2222222222222222,
             "#7201a8"
            ],
            [
             0.3333333333333333,
             "#9c179e"
            ],
            [
             0.4444444444444444,
             "#bd3786"
            ],
            [
             0.5555555555555556,
             "#d8576b"
            ],
            [
             0.6666666666666666,
             "#ed7953"
            ],
            [
             0.7777777777777778,
             "#fb9f3a"
            ],
            [
             0.8888888888888888,
             "#fdca26"
            ],
            [
             1,
             "#f0f921"
            ]
           ]
          },
          "colorway": [
           "#636efa",
           "#EF553B",
           "#00cc96",
           "#ab63fa",
           "#FFA15A",
           "#19d3f3",
           "#FF6692",
           "#B6E880",
           "#FF97FF",
           "#FECB52"
          ],
          "font": {
           "color": "#2a3f5f"
          },
          "geo": {
           "bgcolor": "white",
           "lakecolor": "white",
           "landcolor": "#E5ECF6",
           "showlakes": true,
           "showland": true,
           "subunitcolor": "white"
          },
          "hoverlabel": {
           "align": "left"
          },
          "hovermode": "closest",
          "mapbox": {
           "style": "light"
          },
          "paper_bgcolor": "white",
          "plot_bgcolor": "#E5ECF6",
          "polar": {
           "angularaxis": {
            "gridcolor": "white",
            "linecolor": "white",
            "ticks": ""
           },
           "bgcolor": "#E5ECF6",
           "radialaxis": {
            "gridcolor": "white",
            "linecolor": "white",
            "ticks": ""
           }
          },
          "scene": {
           "xaxis": {
            "backgroundcolor": "#E5ECF6",
            "gridcolor": "white",
            "gridwidth": 2,
            "linecolor": "white",
            "showbackground": true,
            "ticks": "",
            "zerolinecolor": "white"
           },
           "yaxis": {
            "backgroundcolor": "#E5ECF6",
            "gridcolor": "white",
            "gridwidth": 2,
            "linecolor": "white",
            "showbackground": true,
            "ticks": "",
            "zerolinecolor": "white"
           },
           "zaxis": {
            "backgroundcolor": "#E5ECF6",
            "gridcolor": "white",
            "gridwidth": 2,
            "linecolor": "white",
            "showbackground": true,
            "ticks": "",
            "zerolinecolor": "white"
           }
          },
          "shapedefaults": {
           "line": {
            "color": "#2a3f5f"
           }
          },
          "ternary": {
           "aaxis": {
            "gridcolor": "white",
            "linecolor": "white",
            "ticks": ""
           },
           "baxis": {
            "gridcolor": "white",
            "linecolor": "white",
            "ticks": ""
           },
           "bgcolor": "#E5ECF6",
           "caxis": {
            "gridcolor": "white",
            "linecolor": "white",
            "ticks": ""
           }
          },
          "title": {
           "x": 0.05
          },
          "xaxis": {
           "automargin": true,
           "gridcolor": "white",
           "linecolor": "white",
           "ticks": "",
           "title": {
            "standoff": 15
           },
           "zerolinecolor": "white",
           "zerolinewidth": 2
          },
          "yaxis": {
           "automargin": true,
           "gridcolor": "white",
           "linecolor": "white",
           "ticks": "",
           "title": {
            "standoff": 15
           },
           "zerolinecolor": "white",
           "zerolinewidth": 2
          }
         }
        },
        "title": {
         "text": "Fixed Parameter CES Predictions, 2024-10-05"
        },
        "xaxis": {
         "autorange": true,
         "range": [
          "2022-02-05",
          "2025-05-17"
         ],
         "title": {
          "text": "Date"
         },
         "type": "date"
        },
        "yaxis": {
         "autorange": true,
         "range": [
          -6248.077710639104,
          57292.00409003364
         ],
         "title": {
          "text": "Count"
         },
         "type": "linear"
        }
       }
      },
      "text/html": [
       "<div>                            <div id=\"45f50256-bc71-4ed1-80b2-aa6324ad4550\" class=\"plotly-graph-div\" style=\"height:525px; width:100%;\"></div>            <script type=\"text/javascript\">                require([\"plotly\"], function(Plotly) {                    window.PLOTLYENV=window.PLOTLYENV || {};                                    if (document.getElementById(\"45f50256-bc71-4ed1-80b2-aa6324ad4550\")) {                    Plotly.newPlot(                        \"45f50256-bc71-4ed1-80b2-aa6324ad4550\",                        [{\"mode\":\"lines\",\"name\":\"Real Data\",\"x\":[\"2022-02-05T00:00:00\",\"2022-02-12T00:00:00\",\"2022-02-19T00:00:00\",\"2022-02-26T00:00:00\",\"2022-03-05T00:00:00\",\"2022-03-12T00:00:00\",\"2022-03-19T00:00:00\",\"2022-03-26T00:00:00\",\"2022-04-02T00:00:00\",\"2022-04-09T00:00:00\",\"2022-04-16T00:00:00\",\"2022-04-23T00:00:00\",\"2022-04-30T00:00:00\",\"2022-05-07T00:00:00\",\"2022-05-14T00:00:00\",\"2022-05-21T00:00:00\",\"2022-05-28T00:00:00\",\"2022-06-04T00:00:00\",\"2022-06-11T00:00:00\",\"2022-06-18T00:00:00\",\"2022-06-25T00:00:00\",\"2022-07-02T00:00:00\",\"2022-07-09T00:00:00\",\"2022-07-16T00:00:00\",\"2022-07-23T00:00:00\",\"2022-07-30T00:00:00\",\"2022-08-06T00:00:00\",\"2022-08-13T00:00:00\",\"2022-08-20T00:00:00\",\"2022-08-27T00:00:00\",\"2022-09-03T00:00:00\",\"2022-09-10T00:00:00\",\"2022-09-17T00:00:00\",\"2022-09-24T00:00:00\",\"2022-10-01T00:00:00\",\"2022-10-08T00:00:00\",\"2022-10-15T00:00:00\",\"2022-10-22T00:00:00\",\"2022-10-29T00:00:00\",\"2022-11-05T00:00:00\",\"2022-11-12T00:00:00\",\"2022-11-19T00:00:00\",\"2022-11-26T00:00:00\",\"2022-12-03T00:00:00\",\"2022-12-10T00:00:00\",\"2022-12-17T00:00:00\",\"2022-12-24T00:00:00\",\"2022-12-31T00:00:00\",\"2023-01-07T00:00:00\",\"2023-01-14T00:00:00\",\"2023-01-21T00:00:00\",\"2023-01-28T00:00:00\",\"2023-02-04T00:00:00\",\"2023-02-11T00:00:00\",\"2023-02-18T00:00:00\",\"2023-02-25T00:00:00\",\"2023-03-04T00:00:00\",\"2023-03-11T00:00:00\",\"2023-03-18T00:00:00\",\"2023-03-25T00:00:00\",\"2023-04-01T00:00:00\",\"2023-04-08T00:00:00\",\"2023-04-15T00:00:00\",\"2023-04-22T00:00:00\",\"2023-04-29T00:00:00\",\"2023-05-06T00:00:00\",\"2023-05-13T00:00:00\",\"2023-05-20T00:00:00\",\"2023-05-27T00:00:00\",\"2023-06-03T00:00:00\",\"2023-06-10T00:00:00\",\"2023-06-17T00:00:00\",\"2023-06-24T00:00:00\",\"2023-07-01T00:00:00\",\"2023-07-08T00:00:00\",\"2023-07-15T00:00:00\",\"2023-07-22T00:00:00\",\"2023-07-29T00:00:00\",\"2023-08-05T00:00:00\",\"2023-08-12T00:00:00\",\"2023-08-19T00:00:00\",\"2023-08-26T00:00:00\",\"2023-09-02T00:00:00\",\"2023-09-09T00:00:00\",\"2023-09-16T00:00:00\",\"2023-09-23T00:00:00\",\"2023-09-30T00:00:00\",\"2023-10-07T00:00:00\",\"2023-10-14T00:00:00\",\"2023-10-21T00:00:00\",\"2023-10-28T00:00:00\",\"2023-11-04T00:00:00\",\"2023-11-11T00:00:00\",\"2023-11-18T00:00:00\",\"2023-11-25T00:00:00\",\"2023-12-02T00:00:00\",\"2023-12-09T00:00:00\",\"2023-12-16T00:00:00\",\"2023-12-23T00:00:00\",\"2023-12-30T00:00:00\",\"2024-01-06T00:00:00\",\"2024-01-13T00:00:00\",\"2024-01-20T00:00:00\",\"2024-01-27T00:00:00\",\"2024-02-03T00:00:00\",\"2024-02-10T00:00:00\",\"2024-02-17T00:00:00\",\"2024-02-24T00:00:00\",\"2024-03-02T00:00:00\",\"2024-03-09T00:00:00\",\"2024-03-16T00:00:00\",\"2024-03-23T00:00:00\",\"2024-03-30T00:00:00\",\"2024-04-06T00:00:00\",\"2024-04-13T00:00:00\",\"2024-04-20T00:00:00\",\"2024-04-27T00:00:00\",\"2024-05-04T00:00:00\",\"2024-05-11T00:00:00\",\"2024-05-18T00:00:00\",\"2024-05-25T00:00:00\",\"2024-06-01T00:00:00\",\"2024-06-08T00:00:00\",\"2024-06-15T00:00:00\",\"2024-06-22T00:00:00\",\"2024-06-29T00:00:00\",\"2024-07-06T00:00:00\",\"2024-07-13T00:00:00\",\"2024-07-20T00:00:00\",\"2024-07-27T00:00:00\",\"2024-08-03T00:00:00\",\"2024-08-10T00:00:00\",\"2024-08-17T00:00:00\",\"2024-08-24T00:00:00\",\"2024-08-31T00:00:00\",\"2024-09-07T00:00:00\",\"2024-09-14T00:00:00\",\"2024-09-21T00:00:00\",\"2024-09-28T00:00:00\",\"2024-10-05T00:00:00\",\"2024-10-12T00:00:00\",\"2024-10-19T00:00:00\",\"2024-10-26T00:00:00\",\"2024-11-02T00:00:00\",\"2024-11-09T00:00:00\",\"2024-11-16T00:00:00\",\"2024-11-23T00:00:00\",\"2024-11-30T00:00:00\",\"2024-12-07T00:00:00\",\"2024-12-14T00:00:00\",\"2024-12-21T00:00:00\",\"2024-12-28T00:00:00\",\"2025-01-04T00:00:00\",\"2025-01-11T00:00:00\",\"2025-01-18T00:00:00\",\"2025-01-25T00:00:00\",\"2025-02-01T00:00:00\",\"2025-02-08T00:00:00\",\"2025-02-15T00:00:00\",\"2025-02-22T00:00:00\",\"2025-03-01T00:00:00\",\"2025-03-08T00:00:00\",\"2025-03-15T00:00:00\",\"2025-03-22T00:00:00\",\"2025-03-29T00:00:00\",\"2025-04-05T00:00:00\",\"2025-04-12T00:00:00\",\"2025-04-19T00:00:00\",\"2025-04-26T00:00:00\",\"2025-05-03T00:00:00\",\"2025-05-10T00:00:00\",\"2025-05-17T00:00:00\"],\"y\":[1091.0,1162.0,1491.0,1603.0,1791.0,2094.0,2622.0,2917.0,3000.0,3135.0,3297.0,3468.0,3179.0,3172.0,3117.0,3130.0,2737.0,2676.0,2202.0,1775.0,1366.0,1073.0,776.0,766.0,627.0,522.0,486.0,490.0,483.0,483.0,545.0,576.0,665.0,796.0,921.0,1306.0,1670.0,2273.0,4181.0,6401.0,8589.0,10969.0,18173.0,26829.0,24035.0,21607.0,19624.0,19474.0,14074.0,7183.0,4488.0,3091.0,2594.0,2176.0,1908.0,1647.0,1501.0,1372.0,1415.0,1330.0,1295.0,1198.0,1077.0,980.0,903.0,994.0,978.0,1116.0,974.0,939.0,935.0,873.0,813.0,836.0,699.0,736.0,645.0,769.0,690.0,705.0,738.0,792.0,875.0,803.0,821.0,881.0,1026.0,1108.0,1214.0,1469.0,1614.0,2012.0,2775.0,3491.0,4386.0,5954.0,7495.0,10269.0,15717.0,21682.0,19548.0,15902.0,13302.0,13025.0,11963.0,11629.0,11126.0,10869.0,10814.0,9416.0,7324.0,6049.0,5574.0,5071.0,4073.0,2943.0,2420.0,1485.0,852.0,681.0,610.0,590.0,511.0,517.0,441.0,356.0,341.0,367.0,324.0,273.0,275.0,275.0,273.0,274.0,259.0,223.0,319.0,293.0,223.0,286.0,288.0,552.0,1079.0,975.0,2076.0,2529.0,3089.0,4278.0,6286.0,9152.0,15399.0,27651.0,38672.0,30698.0,32963.0,40566.0,51141.0,54115.0,46036.0,37647.0,30753.0,23970.0,18369.0,13620.0,9664.0,6683.0,4863.0,3818.0,3213.0,2434.0,2078.0,1636.0],\"type\":\"scatter\"},{\"line\":{\"color\":\"#414487\"},\"mode\":\"lines\",\"name\":\"CES-hi-80\",\"x\":[\"2024-10-12T00:00:00\",\"2024-10-19T00:00:00\",\"2024-10-26T00:00:00\",\"2024-11-02T00:00:00\",\"2024-11-09T00:00:00\",\"2024-11-16T00:00:00\",\"2024-11-23T00:00:00\",\"2024-11-30T00:00:00\",\"2024-12-07T00:00:00\",\"2024-12-14T00:00:00\",\"2024-12-21T00:00:00\",\"2024-12-28T00:00:00\",\"2025-01-04T00:00:00\"],\"y\":[2412.0153564453135,2619.8637451171876,3425.373217773438,4548.643554687501,5875.318750000001,7232.95546875,11073.88017578125,16055.45751953125,15349.6015625,15396.69482421875,16953.1572265625,19809.265625,15888.246484375],\"type\":\"scatter\"},{\"line\":{\"color\":\"#1e9c89\"},\"mode\":\"lines\",\"name\":\"CES-hi-95\",\"x\":[\"2024-10-12T00:00:00\",\"2024-10-19T00:00:00\",\"2024-10-26T00:00:00\",\"2024-11-02T00:00:00\",\"2024-11-09T00:00:00\",\"2024-11-16T00:00:00\",\"2024-11-23T00:00:00\",\"2024-11-30T00:00:00\",\"2024-12-07T00:00:00\",\"2024-12-14T00:00:00\",\"2024-12-21T00:00:00\",\"2024-12-28T00:00:00\",\"2025-01-04T00:00:00\"],\"y\":[3555.930682373045,3710.7981323242166,4534.298486328124,5749.773266601563,6958.187109374997,8329.624511718748,12078.498217773436,17053.64580078125,16348.080639648435,16325.696923828124,18043.24091796875,20734.388330078116,16750.251904296874],\"type\":\"scatter\"},{\"fill\":\"tonexty\",\"fillcolor\":\"#1e9c89\",\"line\":{\"color\":\"#1e9c89\"},\"mode\":\"lines\",\"name\":\"CES-lo-95\",\"x\":[\"2024-10-12T00:00:00\",\"2024-10-19T00:00:00\",\"2024-10-26T00:00:00\",\"2024-11-02T00:00:00\",\"2024-11-09T00:00:00\",\"2024-11-16T00:00:00\",\"2024-11-23T00:00:00\",\"2024-11-30T00:00:00\",\"2024-12-07T00:00:00\",\"2024-12-14T00:00:00\",\"2024-12-21T00:00:00\",\"2024-12-28T00:00:00\",\"2025-01-04T00:00:00\"],\"y\":[-3071.0736206054676,-2792.1302124023437,-1790.2330932617183,-600.9744445800777,773.5927520751956,2259.6362304687527,6186.325146484375,11319.043872070313,10703.777734375,10635.578833007814,12401.983642578125,15144.514404296875,11471.782690429687],\"type\":\"scatter\"},{\"fill\":\"tonexty\",\"fillcolor\":\"#414487\",\"line\":{\"color\":\"#414487\"},\"mode\":\"lines\",\"name\":\"CES-lo-80\",\"x\":[\"2024-10-12T00:00:00\",\"2024-10-19T00:00:00\",\"2024-10-26T00:00:00\",\"2024-11-02T00:00:00\",\"2024-11-09T00:00:00\",\"2024-11-16T00:00:00\",\"2024-11-23T00:00:00\",\"2024-11-30T00:00:00\",\"2024-12-07T00:00:00\",\"2024-12-14T00:00:00\",\"2024-12-21T00:00:00\",\"2024-12-28T00:00:00\",\"2025-01-04T00:00:00\"],\"y\":[-1836.849096679688,-1649.3380126953125,-736.2629882812503,484.014404296875,1837.6330566406245,3247.656616210937,7188.100390625,12293.96181640625,11643.49111328125,11667.75703125,13371.363574218749,16080.73359375,12362.8208984375],\"type\":\"scatter\"},{\"line\":{\"color\":\"#2c728e\"},\"mode\":\"lines\",\"name\":\"CES\",\"x\":[\"2024-10-12T00:00:00\",\"2024-10-19T00:00:00\",\"2024-10-26T00:00:00\",\"2024-11-02T00:00:00\",\"2024-11-09T00:00:00\",\"2024-11-16T00:00:00\",\"2024-11-23T00:00:00\",\"2024-11-30T00:00:00\",\"2024-12-07T00:00:00\",\"2024-12-14T00:00:00\",\"2024-12-21T00:00:00\",\"2024-12-28T00:00:00\",\"2025-01-04T00:00:00\"],\"y\":[265.220703125,505.310546875,1358.3583984375,2509.9659423828125,3855.705810546875,5251.941162109375,9162.954345703125,14165.786865234375,13494.16796875,13517.38134765625,15182.10009765625,17926.0,14093.265380859375],\"type\":\"scatter\"}],                        {\"template\":{\"data\":{\"histogram2dcontour\":[{\"type\":\"histogram2dcontour\",\"colorbar\":{\"outlinewidth\":0,\"ticks\":\"\"},\"colorscale\":[[0.0,\"#0d0887\"],[0.1111111111111111,\"#46039f\"],[0.2222222222222222,\"#7201a8\"],[0.3333333333333333,\"#9c179e\"],[0.4444444444444444,\"#bd3786\"],[0.5555555555555556,\"#d8576b\"],[0.6666666666666666,\"#ed7953\"],[0.7777777777777778,\"#fb9f3a\"],[0.8888888888888888,\"#fdca26\"],[1.0,\"#f0f921\"]]}],\"choropleth\":[{\"type\":\"choropleth\",\"colorbar\":{\"outlinewidth\":0,\"ticks\":\"\"}}],\"histogram2d\":[{\"type\":\"histogram2d\",\"colorbar\":{\"outlinewidth\":0,\"ticks\":\"\"},\"colorscale\":[[0.0,\"#0d0887\"],[0.1111111111111111,\"#46039f\"],[0.2222222222222222,\"#7201a8\"],[0.3333333333333333,\"#9c179e\"],[0.4444444444444444,\"#bd3786\"],[0.5555555555555556,\"#d8576b\"],[0.6666666666666666,\"#ed7953\"],[0.7777777777777778,\"#fb9f3a\"],[0.8888888888888888,\"#fdca26\"],[1.0,\"#f0f921\"]]}],\"heatmap\":[{\"type\":\"heatmap\",\"colorbar\":{\"outlinewidth\":0,\"ticks\":\"\"},\"colorscale\":[[0.0,\"#0d0887\"],[0.1111111111111111,\"#46039f\"],[0.2222222222222222,\"#7201a8\"],[0.3333333333333333,\"#9c179e\"],[0.4444444444444444,\"#bd3786\"],[0.5555555555555556,\"#d8576b\"],[0.6666666666666666,\"#ed7953\"],[0.7777777777777778,\"#fb9f3a\"],[0.8888888888888888,\"#fdca26\"],[1.0,\"#f0f921\"]]}],\"heatmapgl\":[{\"type\":\"heatmapgl\",\"colorbar\":{\"outlinewidth\":0,\"ticks\":\"\"},\"colorscale\":[[0.0,\"#0d0887\"],[0.1111111111111111,\"#46039f\"],[0.2222222222222222,\"#7201a8\"],[0.3333333333333333,\"#9c179e\"],[0.4444444444444444,\"#bd3786\"],[0.5555555555555556,\"#d8576b\"],[0.6666666666666666,\"#ed7953\"],[0.7777777777777778,\"#fb9f3a\"],[0.8888888888888888,\"#fdca26\"],[1.0,\"#f0f921\"]]}],\"contourcarpet\":[{\"type\":\"contourcarpet\",\"colorbar\":{\"outlinewidth\":0,\"ticks\":\"\"}}],\"contour\":[{\"type\":\"contour\",\"colorbar\":{\"outlinewidth\":0,\"ticks\":\"\"},\"colorscale\":[[0.0,\"#0d0887\"],[0.1111111111111111,\"#46039f\"],[0.2222222222222222,\"#7201a8\"],[0.3333333333333333,\"#9c179e\"],[0.4444444444444444,\"#bd3786\"],[0.5555555555555556,\"#d8576b\"],[0.6666666666666666,\"#ed7953\"],[0.7777777777777778,\"#fb9f3a\"],[0.8888888888888888,\"#fdca26\"],[1.0,\"#f0f921\"]]}],\"surface\":[{\"type\":\"surface\",\"colorbar\":{\"outlinewidth\":0,\"ticks\":\"\"},\"colorscale\":[[0.0,\"#0d0887\"],[0.1111111111111111,\"#46039f\"],[0.2222222222222222,\"#7201a8\"],[0.3333333333333333,\"#9c179e\"],[0.4444444444444444,\"#bd3786\"],[0.5555555555555556,\"#d8576b\"],[0.6666666666666666,\"#ed7953\"],[0.7777777777777778,\"#fb9f3a\"],[0.8888888888888888,\"#fdca26\"],[1.0,\"#f0f921\"]]}],\"mesh3d\":[{\"type\":\"mesh3d\",\"colorbar\":{\"outlinewidth\":0,\"ticks\":\"\"}}],\"scatter\":[{\"fillpattern\":{\"fillmode\":\"overlay\",\"size\":10,\"solidity\":0.2},\"type\":\"scatter\"}],\"parcoords\":[{\"type\":\"parcoords\",\"line\":{\"colorbar\":{\"outlinewidth\":0,\"ticks\":\"\"}}}],\"scatterpolargl\":[{\"type\":\"scatterpolargl\",\"marker\":{\"colorbar\":{\"outlinewidth\":0,\"ticks\":\"\"}}}],\"bar\":[{\"error_x\":{\"color\":\"#2a3f5f\"},\"error_y\":{\"color\":\"#2a3f5f\"},\"marker\":{\"line\":{\"color\":\"#E5ECF6\",\"width\":0.5},\"pattern\":{\"fillmode\":\"overlay\",\"size\":10,\"solidity\":0.2}},\"type\":\"bar\"}],\"scattergeo\":[{\"type\":\"scattergeo\",\"marker\":{\"colorbar\":{\"outlinewidth\":0,\"ticks\":\"\"}}}],\"scatterpolar\":[{\"type\":\"scatterpolar\",\"marker\":{\"colorbar\":{\"outlinewidth\":0,\"ticks\":\"\"}}}],\"histogram\":[{\"marker\":{\"pattern\":{\"fillmode\":\"overlay\",\"size\":10,\"solidity\":0.2}},\"type\":\"histogram\"}],\"scattergl\":[{\"type\":\"scattergl\",\"marker\":{\"colorbar\":{\"outlinewidth\":0,\"ticks\":\"\"}}}],\"scatter3d\":[{\"type\":\"scatter3d\",\"line\":{\"colorbar\":{\"outlinewidth\":0,\"ticks\":\"\"}},\"marker\":{\"colorbar\":{\"outlinewidth\":0,\"ticks\":\"\"}}}],\"scattermapbox\":[{\"type\":\"scattermapbox\",\"marker\":{\"colorbar\":{\"outlinewidth\":0,\"ticks\":\"\"}}}],\"scatterternary\":[{\"type\":\"scatterternary\",\"marker\":{\"colorbar\":{\"outlinewidth\":0,\"ticks\":\"\"}}}],\"scattercarpet\":[{\"type\":\"scattercarpet\",\"marker\":{\"colorbar\":{\"outlinewidth\":0,\"ticks\":\"\"}}}],\"carpet\":[{\"aaxis\":{\"endlinecolor\":\"#2a3f5f\",\"gridcolor\":\"white\",\"linecolor\":\"white\",\"minorgridcolor\":\"white\",\"startlinecolor\":\"#2a3f5f\"},\"baxis\":{\"endlinecolor\":\"#2a3f5f\",\"gridcolor\":\"white\",\"linecolor\":\"white\",\"minorgridcolor\":\"white\",\"startlinecolor\":\"#2a3f5f\"},\"type\":\"carpet\"}],\"table\":[{\"cells\":{\"fill\":{\"color\":\"#EBF0F8\"},\"line\":{\"color\":\"white\"}},\"header\":{\"fill\":{\"color\":\"#C8D4E3\"},\"line\":{\"color\":\"white\"}},\"type\":\"table\"}],\"barpolar\":[{\"marker\":{\"line\":{\"color\":\"#E5ECF6\",\"width\":0.5},\"pattern\":{\"fillmode\":\"overlay\",\"size\":10,\"solidity\":0.2}},\"type\":\"barpolar\"}],\"pie\":[{\"automargin\":true,\"type\":\"pie\"}]},\"layout\":{\"autotypenumbers\":\"strict\",\"colorway\":[\"#636efa\",\"#EF553B\",\"#00cc96\",\"#ab63fa\",\"#FFA15A\",\"#19d3f3\",\"#FF6692\",\"#B6E880\",\"#FF97FF\",\"#FECB52\"],\"font\":{\"color\":\"#2a3f5f\"},\"hovermode\":\"closest\",\"hoverlabel\":{\"align\":\"left\"},\"paper_bgcolor\":\"white\",\"plot_bgcolor\":\"#E5ECF6\",\"polar\":{\"bgcolor\":\"#E5ECF6\",\"angularaxis\":{\"gridcolor\":\"white\",\"linecolor\":\"white\",\"ticks\":\"\"},\"radialaxis\":{\"gridcolor\":\"white\",\"linecolor\":\"white\",\"ticks\":\"\"}},\"ternary\":{\"bgcolor\":\"#E5ECF6\",\"aaxis\":{\"gridcolor\":\"white\",\"linecolor\":\"white\",\"ticks\":\"\"},\"baxis\":{\"gridcolor\":\"white\",\"linecolor\":\"white\",\"ticks\":\"\"},\"caxis\":{\"gridcolor\":\"white\",\"linecolor\":\"white\",\"ticks\":\"\"}},\"coloraxis\":{\"colorbar\":{\"outlinewidth\":0,\"ticks\":\"\"}},\"colorscale\":{\"sequential\":[[0.0,\"#0d0887\"],[0.1111111111111111,\"#46039f\"],[0.2222222222222222,\"#7201a8\"],[0.3333333333333333,\"#9c179e\"],[0.4444444444444444,\"#bd3786\"],[0.5555555555555556,\"#d8576b\"],[0.6666666666666666,\"#ed7953\"],[0.7777777777777778,\"#fb9f3a\"],[0.8888888888888888,\"#fdca26\"],[1.0,\"#f0f921\"]],\"sequentialminus\":[[0.0,\"#0d0887\"],[0.1111111111111111,\"#46039f\"],[0.2222222222222222,\"#7201a8\"],[0.3333333333333333,\"#9c179e\"],[0.4444444444444444,\"#bd3786\"],[0.5555555555555556,\"#d8576b\"],[0.6666666666666666,\"#ed7953\"],[0.7777777777777778,\"#fb9f3a\"],[0.8888888888888888,\"#fdca26\"],[1.0,\"#f0f921\"]],\"diverging\":[[0,\"#8e0152\"],[0.1,\"#c51b7d\"],[0.2,\"#de77ae\"],[0.3,\"#f1b6da\"],[0.4,\"#fde0ef\"],[0.5,\"#f7f7f7\"],[0.6,\"#e6f5d0\"],[0.7,\"#b8e186\"],[0.8,\"#7fbc41\"],[0.9,\"#4d9221\"],[1,\"#276419\"]]},\"xaxis\":{\"gridcolor\":\"white\",\"linecolor\":\"white\",\"ticks\":\"\",\"title\":{\"standoff\":15},\"zerolinecolor\":\"white\",\"automargin\":true,\"zerolinewidth\":2},\"yaxis\":{\"gridcolor\":\"white\",\"linecolor\":\"white\",\"ticks\":\"\",\"title\":{\"standoff\":15},\"zerolinecolor\":\"white\",\"automargin\":true,\"zerolinewidth\":2},\"scene\":{\"xaxis\":{\"backgroundcolor\":\"#E5ECF6\",\"gridcolor\":\"white\",\"linecolor\":\"white\",\"showbackground\":true,\"ticks\":\"\",\"zerolinecolor\":\"white\",\"gridwidth\":2},\"yaxis\":{\"backgroundcolor\":\"#E5ECF6\",\"gridcolor\":\"white\",\"linecolor\":\"white\",\"showbackground\":true,\"ticks\":\"\",\"zerolinecolor\":\"white\",\"gridwidth\":2},\"zaxis\":{\"backgroundcolor\":\"#E5ECF6\",\"gridcolor\":\"white\",\"linecolor\":\"white\",\"showbackground\":true,\"ticks\":\"\",\"zerolinecolor\":\"white\",\"gridwidth\":2}},\"shapedefaults\":{\"line\":{\"color\":\"#2a3f5f\"}},\"annotationdefaults\":{\"arrowcolor\":\"#2a3f5f\",\"arrowhead\":0,\"arrowwidth\":1},\"geo\":{\"bgcolor\":\"white\",\"landcolor\":\"#E5ECF6\",\"subunitcolor\":\"white\",\"showland\":true,\"showlakes\":true,\"lakecolor\":\"white\"},\"title\":{\"x\":0.05},\"mapbox\":{\"style\":\"light\"}}},\"title\":{\"text\":\"Fixed Parameter CES Predictions, 2024-10-05\"},\"xaxis\":{\"title\":{\"text\":\"Date\"}},\"yaxis\":{\"title\":{\"text\":\"Count\"}},\"hovermode\":\"x\"},                        {\"responsive\": true}                    ).then(function(){\n",
       "                            \n",
       "var gd = document.getElementById('45f50256-bc71-4ed1-80b2-aa6324ad4550');\n",
       "var x = new MutationObserver(function (mutations, observer) {{\n",
       "        var display = window.getComputedStyle(gd).display;\n",
       "        if (!display || display === 'none') {{\n",
       "            console.log([gd, 'removed!']);\n",
       "            Plotly.purge(gd);\n",
       "            observer.disconnect();\n",
       "        }}\n",
       "}});\n",
       "\n",
       "// Listen for the removal of the full notebook cells\n",
       "var notebookContainer = gd.closest('#notebook-container');\n",
       "if (notebookContainer) {{\n",
       "    x.observe(notebookContainer, {childList: true});\n",
       "}}\n",
       "\n",
       "// Listen for the clearing of the current output cell\n",
       "var outputEl = gd.closest('.output');\n",
       "if (outputEl) {{\n",
       "    x.observe(outputEl, {childList: true});\n",
       "}}\n",
       "\n",
       "                        })                };                });            </script>        </div>"
      ]
     },
     "metadata": {},
     "output_type": "display_data"
    }
   ],
   "source": [
    "Processor.create_graph()"
   ]
  },
  {
   "cell_type": "code",
   "execution_count": 12,
   "id": "8d588ade-b0c1-413a-9d3e-a9e7ebcf3d17",
   "metadata": {
    "tags": []
   },
   "outputs": [],
   "source": [
    "Processor.create_metrics()"
   ]
  },
  {
   "cell_type": "code",
   "execution_count": 13,
   "id": "3c89f2f9-04e4-4742-a97d-6fb575e93ea4",
   "metadata": {
    "tags": []
   },
   "outputs": [],
   "source": [
    "Processor.create_metrics_df()"
   ]
  },
  {
   "cell_type": "code",
   "execution_count": 14,
   "id": "d866a186-cd7c-4c48-acda-3659bdeab379",
   "metadata": {
    "tags": []
   },
   "outputs": [
    {
     "data": {
      "text/html": [
       "<div>\n",
       "<style scoped>\n",
       "    .dataframe tbody tr th:only-of-type {\n",
       "        vertical-align: middle;\n",
       "    }\n",
       "\n",
       "    .dataframe tbody tr th {\n",
       "        vertical-align: top;\n",
       "    }\n",
       "\n",
       "    .dataframe thead th {\n",
       "        text-align: right;\n",
       "    }\n",
       "</style>\n",
       "<table border=\"1\" class=\"dataframe\">\n",
       "  <thead>\n",
       "    <tr style=\"text-align: right;\">\n",
       "      <th></th>\n",
       "      <th>Reference Date</th>\n",
       "      <th>MAE</th>\n",
       "      <th>MSE</th>\n",
       "      <th>MAPE</th>\n",
       "      <th>NMSE</th>\n",
       "    </tr>\n",
       "  </thead>\n",
       "  <tbody>\n",
       "    <tr>\n",
       "      <th>0</th>\n",
       "      <td>2024-10-05</td>\n",
       "      <td>5264.797316</td>\n",
       "      <td>7.057161e+07</td>\n",
       "      <td>0.83335</td>\n",
       "      <td>0.540879</td>\n",
       "    </tr>\n",
       "  </tbody>\n",
       "</table>\n",
       "</div>"
      ],
      "text/plain": [
       "  Reference Date          MAE           MSE     MAPE      NMSE\n",
       "0     2024-10-05  5264.797316  7.057161e+07  0.83335  0.540879"
      ]
     },
     "execution_count": 14,
     "metadata": {},
     "output_type": "execute_result"
    }
   ],
   "source": [
    "Processor.metrics_df"
   ]
  },
  {
   "cell_type": "code",
   "execution_count": 15,
   "id": "923c580c-c204-4fe9-b241-8aeba9fb864e",
   "metadata": {
    "tags": []
   },
   "outputs": [],
   "source": [
    "Processor.create_display_df()"
   ]
  },
  {
   "cell_type": "code",
   "execution_count": 16,
   "id": "29474af6-191d-4c00-84fd-df3c3bfe7c20",
   "metadata": {
    "tags": []
   },
   "outputs": [
    {
     "data": {
      "text/html": [
       "<div>\n",
       "<style scoped>\n",
       "    .dataframe tbody tr th:only-of-type {\n",
       "        vertical-align: middle;\n",
       "    }\n",
       "\n",
       "    .dataframe tbody tr th {\n",
       "        vertical-align: top;\n",
       "    }\n",
       "\n",
       "    .dataframe thead th {\n",
       "        text-align: right;\n",
       "    }\n",
       "</style>\n",
       "<table border=\"1\" class=\"dataframe\">\n",
       "  <thead>\n",
       "    <tr style=\"text-align: right;\">\n",
       "      <th></th>\n",
       "      <th>Reference Date</th>\n",
       "      <th>Target End Date</th>\n",
       "      <th>Quantile</th>\n",
       "      <th>Prediction</th>\n",
       "    </tr>\n",
       "  </thead>\n",
       "  <tbody>\n",
       "    <tr>\n",
       "      <th>1</th>\n",
       "      <td>2024-10-05</td>\n",
       "      <td>2024-10-12</td>\n",
       "      <td>0.025</td>\n",
       "      <td>-3071.073621</td>\n",
       "    </tr>\n",
       "    <tr>\n",
       "      <th>2</th>\n",
       "      <td>2024-10-05</td>\n",
       "      <td>2024-10-12</td>\n",
       "      <td>0.100</td>\n",
       "      <td>-1836.849097</td>\n",
       "    </tr>\n",
       "    <tr>\n",
       "      <th>0</th>\n",
       "      <td>2024-10-05</td>\n",
       "      <td>2024-10-12</td>\n",
       "      <td>0.500</td>\n",
       "      <td>265.220703</td>\n",
       "    </tr>\n",
       "    <tr>\n",
       "      <th>3</th>\n",
       "      <td>2024-10-05</td>\n",
       "      <td>2024-10-12</td>\n",
       "      <td>0.900</td>\n",
       "      <td>2412.015356</td>\n",
       "    </tr>\n",
       "    <tr>\n",
       "      <th>4</th>\n",
       "      <td>2024-10-05</td>\n",
       "      <td>2024-10-12</td>\n",
       "      <td>0.975</td>\n",
       "      <td>3555.930682</td>\n",
       "    </tr>\n",
       "    <tr>\n",
       "      <th>...</th>\n",
       "      <td>...</td>\n",
       "      <td>...</td>\n",
       "      <td>...</td>\n",
       "      <td>...</td>\n",
       "    </tr>\n",
       "    <tr>\n",
       "      <th>61</th>\n",
       "      <td>2024-10-05</td>\n",
       "      <td>2025-01-04</td>\n",
       "      <td>0.025</td>\n",
       "      <td>11471.782690</td>\n",
       "    </tr>\n",
       "    <tr>\n",
       "      <th>62</th>\n",
       "      <td>2024-10-05</td>\n",
       "      <td>2025-01-04</td>\n",
       "      <td>0.100</td>\n",
       "      <td>12362.820898</td>\n",
       "    </tr>\n",
       "    <tr>\n",
       "      <th>60</th>\n",
       "      <td>2024-10-05</td>\n",
       "      <td>2025-01-04</td>\n",
       "      <td>0.500</td>\n",
       "      <td>14093.265381</td>\n",
       "    </tr>\n",
       "    <tr>\n",
       "      <th>63</th>\n",
       "      <td>2024-10-05</td>\n",
       "      <td>2025-01-04</td>\n",
       "      <td>0.900</td>\n",
       "      <td>15888.246484</td>\n",
       "    </tr>\n",
       "    <tr>\n",
       "      <th>64</th>\n",
       "      <td>2024-10-05</td>\n",
       "      <td>2025-01-04</td>\n",
       "      <td>0.975</td>\n",
       "      <td>16750.251904</td>\n",
       "    </tr>\n",
       "  </tbody>\n",
       "</table>\n",
       "<p>65 rows × 4 columns</p>\n",
       "</div>"
      ],
      "text/plain": [
       "   Reference Date Target End Date  Quantile    Prediction\n",
       "1      2024-10-05      2024-10-12     0.025  -3071.073621\n",
       "2      2024-10-05      2024-10-12     0.100  -1836.849097\n",
       "0      2024-10-05      2024-10-12     0.500    265.220703\n",
       "3      2024-10-05      2024-10-12     0.900   2412.015356\n",
       "4      2024-10-05      2024-10-12     0.975   3555.930682\n",
       "..            ...             ...       ...           ...\n",
       "61     2024-10-05      2025-01-04     0.025  11471.782690\n",
       "62     2024-10-05      2025-01-04     0.100  12362.820898\n",
       "60     2024-10-05      2025-01-04     0.500  14093.265381\n",
       "63     2024-10-05      2025-01-04     0.900  15888.246484\n",
       "64     2024-10-05      2025-01-04     0.975  16750.251904\n",
       "\n",
       "[65 rows x 4 columns]"
      ]
     },
     "execution_count": 16,
     "metadata": {},
     "output_type": "execute_result"
    }
   ],
   "source": [
    "Processor.display_df"
   ]
  },
  {
   "cell_type": "code",
   "execution_count": null,
   "id": "36162bb5-6dfa-4993-b976-e4427b7333b5",
   "metadata": {},
   "outputs": [],
   "source": []
  },
  {
   "cell_type": "code",
   "execution_count": 17,
   "id": "348ef131-4338-445c-8128-762054da2cf7",
   "metadata": {
    "tags": []
   },
   "outputs": [],
   "source": [
    "Processor2 = FixedCESProcessor(overall_df = updated_df, dates = [\"2024-10-05\", \"2024-10-19\", \"2024-11-02\", \"2024-11-16\", \"2024-12-07\"])"
   ]
  },
  {
   "cell_type": "code",
   "execution_count": 18,
   "id": "cd5dcede-007b-4ec6-8ca0-4c317a0c24c7",
   "metadata": {
    "tags": []
   },
   "outputs": [],
   "source": [
    "Processor2.create_training_dfs(value_col=\"value\")"
   ]
  },
  {
   "cell_type": "code",
   "execution_count": 19,
   "id": "f6c8b70a-c7ea-4a33-a138-82d6f64fa855",
   "metadata": {
    "tags": []
   },
   "outputs": [],
   "source": [
    "Processor2.load_model(path = \"AutoCES/fixed_models/testing.pkl\")"
   ]
  },
  {
   "cell_type": "code",
   "execution_count": 20,
   "id": "12f6844c-d7ed-41b8-b526-c548356b4007",
   "metadata": {
    "tags": []
   },
   "outputs": [],
   "source": [
    "Processor2.create_fixed_model(h = 4, freq = \"W-SAT\", season_length = 52, model_name = \"testing\", level = [80, 95])"
   ]
  },
  {
   "cell_type": "code",
   "execution_count": 21,
   "id": "60ba9ae9-b2a7-4452-ab89-271181cfbb0f",
   "metadata": {
    "tags": []
   },
   "outputs": [],
   "source": [
    "Processor2.create_display_df()"
   ]
  },
  {
   "cell_type": "code",
   "execution_count": 22,
   "id": "4d21f966-ddea-485b-98af-be3ab6ba56d8",
   "metadata": {
    "tags": []
   },
   "outputs": [
    {
     "data": {
      "text/html": [
       "<div>\n",
       "<style scoped>\n",
       "    .dataframe tbody tr th:only-of-type {\n",
       "        vertical-align: middle;\n",
       "    }\n",
       "\n",
       "    .dataframe tbody tr th {\n",
       "        vertical-align: top;\n",
       "    }\n",
       "\n",
       "    .dataframe thead th {\n",
       "        text-align: right;\n",
       "    }\n",
       "</style>\n",
       "<table border=\"1\" class=\"dataframe\">\n",
       "  <thead>\n",
       "    <tr style=\"text-align: right;\">\n",
       "      <th></th>\n",
       "      <th>Reference Date</th>\n",
       "      <th>Target End Date</th>\n",
       "      <th>Quantile</th>\n",
       "      <th>Prediction</th>\n",
       "    </tr>\n",
       "  </thead>\n",
       "  <tbody>\n",
       "    <tr>\n",
       "      <th>1</th>\n",
       "      <td>2024-10-05</td>\n",
       "      <td>2024-10-12</td>\n",
       "      <td>0.025</td>\n",
       "      <td>-3071.073621</td>\n",
       "    </tr>\n",
       "    <tr>\n",
       "      <th>2</th>\n",
       "      <td>2024-10-05</td>\n",
       "      <td>2024-10-12</td>\n",
       "      <td>0.100</td>\n",
       "      <td>-1836.849097</td>\n",
       "    </tr>\n",
       "    <tr>\n",
       "      <th>0</th>\n",
       "      <td>2024-10-05</td>\n",
       "      <td>2024-10-12</td>\n",
       "      <td>0.500</td>\n",
       "      <td>265.220703</td>\n",
       "    </tr>\n",
       "    <tr>\n",
       "      <th>3</th>\n",
       "      <td>2024-10-05</td>\n",
       "      <td>2024-10-12</td>\n",
       "      <td>0.900</td>\n",
       "      <td>2412.015356</td>\n",
       "    </tr>\n",
       "    <tr>\n",
       "      <th>4</th>\n",
       "      <td>2024-10-05</td>\n",
       "      <td>2024-10-12</td>\n",
       "      <td>0.975</td>\n",
       "      <td>3555.930682</td>\n",
       "    </tr>\n",
       "    <tr>\n",
       "      <th>...</th>\n",
       "      <td>...</td>\n",
       "      <td>...</td>\n",
       "      <td>...</td>\n",
       "      <td>...</td>\n",
       "    </tr>\n",
       "    <tr>\n",
       "      <th>61</th>\n",
       "      <td>2024-10-05</td>\n",
       "      <td>2025-01-04</td>\n",
       "      <td>0.025</td>\n",
       "      <td>11471.782690</td>\n",
       "    </tr>\n",
       "    <tr>\n",
       "      <th>62</th>\n",
       "      <td>2024-10-05</td>\n",
       "      <td>2025-01-04</td>\n",
       "      <td>0.100</td>\n",
       "      <td>12362.820898</td>\n",
       "    </tr>\n",
       "    <tr>\n",
       "      <th>60</th>\n",
       "      <td>2024-10-05</td>\n",
       "      <td>2025-01-04</td>\n",
       "      <td>0.500</td>\n",
       "      <td>14093.265381</td>\n",
       "    </tr>\n",
       "    <tr>\n",
       "      <th>63</th>\n",
       "      <td>2024-10-05</td>\n",
       "      <td>2025-01-04</td>\n",
       "      <td>0.900</td>\n",
       "      <td>15888.246484</td>\n",
       "    </tr>\n",
       "    <tr>\n",
       "      <th>64</th>\n",
       "      <td>2024-10-05</td>\n",
       "      <td>2025-01-04</td>\n",
       "      <td>0.975</td>\n",
       "      <td>16750.251904</td>\n",
       "    </tr>\n",
       "  </tbody>\n",
       "</table>\n",
       "<p>65 rows × 4 columns</p>\n",
       "</div>"
      ],
      "text/plain": [
       "   Reference Date Target End Date  Quantile    Prediction\n",
       "1      2024-10-05      2024-10-12     0.025  -3071.073621\n",
       "2      2024-10-05      2024-10-12     0.100  -1836.849097\n",
       "0      2024-10-05      2024-10-12     0.500    265.220703\n",
       "3      2024-10-05      2024-10-12     0.900   2412.015356\n",
       "4      2024-10-05      2024-10-12     0.975   3555.930682\n",
       "..            ...             ...       ...           ...\n",
       "61     2024-10-05      2025-01-04     0.025  11471.782690\n",
       "62     2024-10-05      2025-01-04     0.100  12362.820898\n",
       "60     2024-10-05      2025-01-04     0.500  14093.265381\n",
       "63     2024-10-05      2025-01-04     0.900  15888.246484\n",
       "64     2024-10-05      2025-01-04     0.975  16750.251904\n",
       "\n",
       "[65 rows x 4 columns]"
      ]
     },
     "execution_count": 22,
     "metadata": {},
     "output_type": "execute_result"
    }
   ],
   "source": [
    "Processor2.display_df"
   ]
  },
  {
   "cell_type": "code",
   "execution_count": 23,
   "id": "88b32510-bef0-4869-92a1-2a6a90de3b3d",
   "metadata": {
    "tags": []
   },
   "outputs": [
    {
     "data": {
      "text/plain": [
       "True"
      ]
     },
     "execution_count": 23,
     "metadata": {},
     "output_type": "execute_result"
    }
   ],
   "source": [
    "Processor2.display_df.equals(Processor.display_df)"
   ]
  },
  {
   "cell_type": "code",
   "execution_count": null,
   "id": "fe251b35-17f3-48b2-b8f7-d9a697024181",
   "metadata": {},
   "outputs": [],
   "source": []
  },
  {
   "cell_type": "code",
   "execution_count": null,
   "id": "e5126a3c-b8b4-404a-bf47-f49df66c07fb",
   "metadata": {},
   "outputs": [],
   "source": []
  },
  {
   "cell_type": "code",
   "execution_count": null,
   "id": "973d2968-2787-4e30-ab50-75947c0d8f6a",
   "metadata": {},
   "outputs": [],
   "source": []
  },
  {
   "cell_type": "code",
   "execution_count": null,
   "id": "ce350454-4c87-4e0e-bf03-7b5dbc1b3a21",
   "metadata": {},
   "outputs": [],
   "source": []
  },
  {
   "cell_type": "code",
   "execution_count": null,
   "id": "95a0b3f5-cbc6-4a5b-a7d1-c84b3063948c",
   "metadata": {},
   "outputs": [],
   "source": []
  },
  {
   "cell_type": "code",
   "execution_count": null,
   "id": "cdc31440-dfb9-453c-8df5-84f6f487a67b",
   "metadata": {},
   "outputs": [],
   "source": []
  },
  {
   "cell_type": "code",
   "execution_count": 24,
   "id": "c4e9e20c-0c79-4251-a55f-f35c78316184",
   "metadata": {
    "tags": []
   },
   "outputs": [],
   "source": [
    "updated_df = pd.read_csv(\"https://raw.githubusercontent.com/cdcepi/FluSight-forecast-hub/refs/heads/main/target-data/target-hospital-admissions.csv\")"
   ]
  },
  {
   "cell_type": "code",
   "execution_count": 25,
   "id": "4cf42032-e1da-4696-ab9f-1d4abc5b7b42",
   "metadata": {
    "tags": []
   },
   "outputs": [],
   "source": [
    "updated_df = updated_df[updated_df[\"location_name\"] == \"US\"]\n",
    "updated_df = updated_df[[\"date\", \"value\"]]\n",
    "updated_df[\"date\"] = pd.to_datetime(updated_df[\"date\"])\n",
    "updated_df.set_index(\"date\", inplace = True)\n",
    "updated_df.sort_values(by = \"date\", inplace = True)"
   ]
  },
  {
   "cell_type": "code",
   "execution_count": 26,
   "id": "5417b83f-916c-43d6-a811-1304e0462d86",
   "metadata": {
    "tags": []
   },
   "outputs": [],
   "source": [
    "UProcessor = UpdatingCESProcessor(overall_df = updated_df, dates = [\"2024-10-05\", \"2024-10-19\", \"2024-11-02\", \"2024-11-16\", \"2024-12-07\"])"
   ]
  },
  {
   "cell_type": "code",
   "execution_count": 27,
   "id": "ce0729ad-d1f4-4b2a-addc-dd6f1e8e1f23",
   "metadata": {
    "tags": []
   },
   "outputs": [],
   "source": [
    "UProcessor.create_training_dfs(value_col = \"value\")"
   ]
  },
  {
   "cell_type": "code",
   "execution_count": 28,
   "id": "c7dc724e-b920-42b6-87f8-6bc204ca6de2",
   "metadata": {
    "tags": []
   },
   "outputs": [
    {
     "name": "stdout",
     "output_type": "stream",
     "text": [
      "Saving StatsForecast object of size 10.70KB.\n",
      "StatsForecast object saved\n",
      "Saving StatsForecast object of size 10.80KB.\n",
      "StatsForecast object saved\n",
      "Saving StatsForecast object of size 10.90KB.\n",
      "StatsForecast object saved\n",
      "Saving StatsForecast object of size 11.00KB.\n",
      "StatsForecast object saved\n",
      "Saving StatsForecast object of size 12.22KB.\n",
      "StatsForecast object saved\n"
     ]
    }
   ],
   "source": [
    "UProcessor.create_models(h = 4, freq = \"W-SAT\", season_length = 52, model_names = [\"test1\", \"test2\", \"test3\", \"test4\", \"test5\"], level = [80, 95])"
   ]
  },
  {
   "cell_type": "code",
   "execution_count": 29,
   "id": "db38648f-777e-41f3-adfe-825218e8ce1a",
   "metadata": {
    "tags": []
   },
   "outputs": [
    {
     "name": "stderr",
     "output_type": "stream",
     "text": [
      "/tmp/ipykernel_24549/2026481641.py:67: MatplotlibDeprecationWarning:\n",
      "\n",
      "The get_cmap function was deprecated in Matplotlib 3.7 and will be removed two minor releases later. Use ``matplotlib.colormaps[name]`` or ``matplotlib.colormaps.get_cmap(obj)`` instead.\n",
      "\n"
     ]
    },
    {
     "data": {
      "application/vnd.plotly.v1+json": {
       "config": {
        "plotlyServerURL": "https://plot.ly"
       },
       "data": [
        {
         "mode": "lines",
         "name": "Real Data",
         "type": "scatter",
         "x": [
          "2022-02-05T00:00:00",
          "2022-02-12T00:00:00",
          "2022-02-19T00:00:00",
          "2022-02-26T00:00:00",
          "2022-03-05T00:00:00",
          "2022-03-12T00:00:00",
          "2022-03-19T00:00:00",
          "2022-03-26T00:00:00",
          "2022-04-02T00:00:00",
          "2022-04-09T00:00:00",
          "2022-04-16T00:00:00",
          "2022-04-23T00:00:00",
          "2022-04-30T00:00:00",
          "2022-05-07T00:00:00",
          "2022-05-14T00:00:00",
          "2022-05-21T00:00:00",
          "2022-05-28T00:00:00",
          "2022-06-04T00:00:00",
          "2022-06-11T00:00:00",
          "2022-06-18T00:00:00",
          "2022-06-25T00:00:00",
          "2022-07-02T00:00:00",
          "2022-07-09T00:00:00",
          "2022-07-16T00:00:00",
          "2022-07-23T00:00:00",
          "2022-07-30T00:00:00",
          "2022-08-06T00:00:00",
          "2022-08-13T00:00:00",
          "2022-08-20T00:00:00",
          "2022-08-27T00:00:00",
          "2022-09-03T00:00:00",
          "2022-09-10T00:00:00",
          "2022-09-17T00:00:00",
          "2022-09-24T00:00:00",
          "2022-10-01T00:00:00",
          "2022-10-08T00:00:00",
          "2022-10-15T00:00:00",
          "2022-10-22T00:00:00",
          "2022-10-29T00:00:00",
          "2022-11-05T00:00:00",
          "2022-11-12T00:00:00",
          "2022-11-19T00:00:00",
          "2022-11-26T00:00:00",
          "2022-12-03T00:00:00",
          "2022-12-10T00:00:00",
          "2022-12-17T00:00:00",
          "2022-12-24T00:00:00",
          "2022-12-31T00:00:00",
          "2023-01-07T00:00:00",
          "2023-01-14T00:00:00",
          "2023-01-21T00:00:00",
          "2023-01-28T00:00:00",
          "2023-02-04T00:00:00",
          "2023-02-11T00:00:00",
          "2023-02-18T00:00:00",
          "2023-02-25T00:00:00",
          "2023-03-04T00:00:00",
          "2023-03-11T00:00:00",
          "2023-03-18T00:00:00",
          "2023-03-25T00:00:00",
          "2023-04-01T00:00:00",
          "2023-04-08T00:00:00",
          "2023-04-15T00:00:00",
          "2023-04-22T00:00:00",
          "2023-04-29T00:00:00",
          "2023-05-06T00:00:00",
          "2023-05-13T00:00:00",
          "2023-05-20T00:00:00",
          "2023-05-27T00:00:00",
          "2023-06-03T00:00:00",
          "2023-06-10T00:00:00",
          "2023-06-17T00:00:00",
          "2023-06-24T00:00:00",
          "2023-07-01T00:00:00",
          "2023-07-08T00:00:00",
          "2023-07-15T00:00:00",
          "2023-07-22T00:00:00",
          "2023-07-29T00:00:00",
          "2023-08-05T00:00:00",
          "2023-08-12T00:00:00",
          "2023-08-19T00:00:00",
          "2023-08-26T00:00:00",
          "2023-09-02T00:00:00",
          "2023-09-09T00:00:00",
          "2023-09-16T00:00:00",
          "2023-09-23T00:00:00",
          "2023-09-30T00:00:00",
          "2023-10-07T00:00:00",
          "2023-10-14T00:00:00",
          "2023-10-21T00:00:00",
          "2023-10-28T00:00:00",
          "2023-11-04T00:00:00",
          "2023-11-11T00:00:00",
          "2023-11-18T00:00:00",
          "2023-11-25T00:00:00",
          "2023-12-02T00:00:00",
          "2023-12-09T00:00:00",
          "2023-12-16T00:00:00",
          "2023-12-23T00:00:00",
          "2023-12-30T00:00:00",
          "2024-01-06T00:00:00",
          "2024-01-13T00:00:00",
          "2024-01-20T00:00:00",
          "2024-01-27T00:00:00",
          "2024-02-03T00:00:00",
          "2024-02-10T00:00:00",
          "2024-02-17T00:00:00",
          "2024-02-24T00:00:00",
          "2024-03-02T00:00:00",
          "2024-03-09T00:00:00",
          "2024-03-16T00:00:00",
          "2024-03-23T00:00:00",
          "2024-03-30T00:00:00",
          "2024-04-06T00:00:00",
          "2024-04-13T00:00:00",
          "2024-04-20T00:00:00",
          "2024-04-27T00:00:00",
          "2024-05-04T00:00:00",
          "2024-05-11T00:00:00",
          "2024-05-18T00:00:00",
          "2024-05-25T00:00:00",
          "2024-06-01T00:00:00",
          "2024-06-08T00:00:00",
          "2024-06-15T00:00:00",
          "2024-06-22T00:00:00",
          "2024-06-29T00:00:00",
          "2024-07-06T00:00:00",
          "2024-07-13T00:00:00",
          "2024-07-20T00:00:00",
          "2024-07-27T00:00:00",
          "2024-08-03T00:00:00",
          "2024-08-10T00:00:00",
          "2024-08-17T00:00:00",
          "2024-08-24T00:00:00",
          "2024-08-31T00:00:00",
          "2024-09-07T00:00:00",
          "2024-09-14T00:00:00",
          "2024-09-21T00:00:00",
          "2024-09-28T00:00:00",
          "2024-10-05T00:00:00",
          "2024-10-12T00:00:00",
          "2024-10-19T00:00:00",
          "2024-10-26T00:00:00",
          "2024-11-02T00:00:00",
          "2024-11-09T00:00:00",
          "2024-11-16T00:00:00",
          "2024-11-23T00:00:00",
          "2024-11-30T00:00:00",
          "2024-12-07T00:00:00",
          "2024-12-14T00:00:00",
          "2024-12-21T00:00:00",
          "2024-12-28T00:00:00",
          "2025-01-04T00:00:00",
          "2025-01-11T00:00:00",
          "2025-01-18T00:00:00",
          "2025-01-25T00:00:00",
          "2025-02-01T00:00:00",
          "2025-02-08T00:00:00",
          "2025-02-15T00:00:00",
          "2025-02-22T00:00:00",
          "2025-03-01T00:00:00",
          "2025-03-08T00:00:00",
          "2025-03-15T00:00:00",
          "2025-03-22T00:00:00",
          "2025-03-29T00:00:00",
          "2025-04-05T00:00:00",
          "2025-04-12T00:00:00",
          "2025-04-19T00:00:00",
          "2025-04-26T00:00:00",
          "2025-05-03T00:00:00",
          "2025-05-10T00:00:00",
          "2025-05-17T00:00:00"
         ],
         "y": [
          1091,
          1162,
          1491,
          1603,
          1791,
          2094,
          2622,
          2917,
          3000,
          3135,
          3297,
          3468,
          3179,
          3172,
          3117,
          3130,
          2737,
          2676,
          2202,
          1775,
          1366,
          1073,
          776,
          766,
          627,
          522,
          486,
          490,
          483,
          483,
          545,
          576,
          665,
          796,
          921,
          1306,
          1670,
          2273,
          4181,
          6401,
          8589,
          10969,
          18173,
          26829,
          24035,
          21607,
          19624,
          19474,
          14074,
          7183,
          4488,
          3091,
          2594,
          2176,
          1908,
          1647,
          1501,
          1372,
          1415,
          1330,
          1295,
          1198,
          1077,
          980,
          903,
          994,
          978,
          1116,
          974,
          939,
          935,
          873,
          813,
          836,
          699,
          736,
          645,
          769,
          690,
          705,
          738,
          792,
          875,
          803,
          821,
          881,
          1026,
          1108,
          1214,
          1469,
          1614,
          2012,
          2775,
          3491,
          4386,
          5954,
          7495,
          10269,
          15717,
          21682,
          19548,
          15902,
          13302,
          13025,
          11963,
          11629,
          11126,
          10869,
          10814,
          9416,
          7324,
          6049,
          5574,
          5071,
          4073,
          2943,
          2420,
          1485,
          852,
          681,
          610,
          590,
          511,
          517,
          441,
          356,
          341,
          367,
          324,
          273,
          275,
          275,
          273,
          274,
          259,
          223,
          319,
          293,
          223,
          286,
          288,
          552,
          1079,
          975,
          2076,
          2529,
          3089,
          4278,
          6286,
          9152,
          15399,
          27651,
          38672,
          30698,
          32963,
          40566,
          51141,
          54115,
          46036,
          37647,
          30753,
          23970,
          18369,
          13620,
          9664,
          6683,
          4863,
          3818,
          3213,
          2434,
          2078,
          1636
         ]
        },
        {
         "line": {
          "color": "#414487"
         },
         "mode": "lines",
         "name": "CES-hi-80",
         "type": "scatter",
         "x": [
          "2024-10-12T00:00:00",
          "2024-10-19T00:00:00",
          "2024-10-26T00:00:00",
          "2024-11-02T00:00:00"
         ],
         "y": [
          2412.0153564453135,
          2619.8637451171876,
          3425.373217773438,
          4548.643554687501
         ]
        },
        {
         "line": {
          "color": "#1e9c89"
         },
         "mode": "lines",
         "name": "CES-hi-95",
         "type": "scatter",
         "x": [
          "2024-10-12T00:00:00",
          "2024-10-19T00:00:00",
          "2024-10-26T00:00:00",
          "2024-11-02T00:00:00"
         ],
         "y": [
          3555.930682373045,
          3710.7981323242166,
          4534.298486328124,
          5749.773266601563
         ]
        },
        {
         "fill": "tonexty",
         "fillcolor": "#1e9c89",
         "line": {
          "color": "#1e9c89"
         },
         "mode": "lines",
         "name": "CES-lo-95",
         "type": "scatter",
         "x": [
          "2024-10-12T00:00:00",
          "2024-10-19T00:00:00",
          "2024-10-26T00:00:00",
          "2024-11-02T00:00:00"
         ],
         "y": [
          -3071.0736206054676,
          -2792.1302124023437,
          -1790.2330932617183,
          -600.9744445800777
         ]
        },
        {
         "fill": "tonexty",
         "fillcolor": "#414487",
         "line": {
          "color": "#414487"
         },
         "mode": "lines",
         "name": "CES-lo-80",
         "type": "scatter",
         "x": [
          "2024-10-12T00:00:00",
          "2024-10-19T00:00:00",
          "2024-10-26T00:00:00",
          "2024-11-02T00:00:00"
         ],
         "y": [
          -1836.849096679688,
          -1649.3380126953125,
          -736.2629882812503,
          484.014404296875
         ]
        },
        {
         "line": {
          "color": "#2c728e"
         },
         "mode": "lines",
         "name": "CES",
         "type": "scatter",
         "x": [
          "2024-10-12T00:00:00",
          "2024-10-19T00:00:00",
          "2024-10-26T00:00:00",
          "2024-11-02T00:00:00"
         ],
         "y": [
          265.220703125,
          505.310546875,
          1358.3583984375,
          2509.9659423828125
         ]
        }
       ],
       "layout": {
        "autosize": true,
        "hovermode": "x",
        "template": {
         "data": {
          "bar": [
           {
            "error_x": {
             "color": "#2a3f5f"
            },
            "error_y": {
             "color": "#2a3f5f"
            },
            "marker": {
             "line": {
              "color": "#E5ECF6",
              "width": 0.5
             },
             "pattern": {
              "fillmode": "overlay",
              "size": 10,
              "solidity": 0.2
             }
            },
            "type": "bar"
           }
          ],
          "barpolar": [
           {
            "marker": {
             "line": {
              "color": "#E5ECF6",
              "width": 0.5
             },
             "pattern": {
              "fillmode": "overlay",
              "size": 10,
              "solidity": 0.2
             }
            },
            "type": "barpolar"
           }
          ],
          "carpet": [
           {
            "aaxis": {
             "endlinecolor": "#2a3f5f",
             "gridcolor": "white",
             "linecolor": "white",
             "minorgridcolor": "white",
             "startlinecolor": "#2a3f5f"
            },
            "baxis": {
             "endlinecolor": "#2a3f5f",
             "gridcolor": "white",
             "linecolor": "white",
             "minorgridcolor": "white",
             "startlinecolor": "#2a3f5f"
            },
            "type": "carpet"
           }
          ],
          "choropleth": [
           {
            "colorbar": {
             "outlinewidth": 0,
             "ticks": ""
            },
            "type": "choropleth"
           }
          ],
          "contour": [
           {
            "colorbar": {
             "outlinewidth": 0,
             "ticks": ""
            },
            "colorscale": [
             [
              0,
              "#0d0887"
             ],
             [
              0.1111111111111111,
              "#46039f"
             ],
             [
              0.2222222222222222,
              "#7201a8"
             ],
             [
              0.3333333333333333,
              "#9c179e"
             ],
             [
              0.4444444444444444,
              "#bd3786"
             ],
             [
              0.5555555555555556,
              "#d8576b"
             ],
             [
              0.6666666666666666,
              "#ed7953"
             ],
             [
              0.7777777777777778,
              "#fb9f3a"
             ],
             [
              0.8888888888888888,
              "#fdca26"
             ],
             [
              1,
              "#f0f921"
             ]
            ],
            "type": "contour"
           }
          ],
          "contourcarpet": [
           {
            "colorbar": {
             "outlinewidth": 0,
             "ticks": ""
            },
            "type": "contourcarpet"
           }
          ],
          "heatmap": [
           {
            "colorbar": {
             "outlinewidth": 0,
             "ticks": ""
            },
            "colorscale": [
             [
              0,
              "#0d0887"
             ],
             [
              0.1111111111111111,
              "#46039f"
             ],
             [
              0.2222222222222222,
              "#7201a8"
             ],
             [
              0.3333333333333333,
              "#9c179e"
             ],
             [
              0.4444444444444444,
              "#bd3786"
             ],
             [
              0.5555555555555556,
              "#d8576b"
             ],
             [
              0.6666666666666666,
              "#ed7953"
             ],
             [
              0.7777777777777778,
              "#fb9f3a"
             ],
             [
              0.8888888888888888,
              "#fdca26"
             ],
             [
              1,
              "#f0f921"
             ]
            ],
            "type": "heatmap"
           }
          ],
          "heatmapgl": [
           {
            "colorbar": {
             "outlinewidth": 0,
             "ticks": ""
            },
            "colorscale": [
             [
              0,
              "#0d0887"
             ],
             [
              0.1111111111111111,
              "#46039f"
             ],
             [
              0.2222222222222222,
              "#7201a8"
             ],
             [
              0.3333333333333333,
              "#9c179e"
             ],
             [
              0.4444444444444444,
              "#bd3786"
             ],
             [
              0.5555555555555556,
              "#d8576b"
             ],
             [
              0.6666666666666666,
              "#ed7953"
             ],
             [
              0.7777777777777778,
              "#fb9f3a"
             ],
             [
              0.8888888888888888,
              "#fdca26"
             ],
             [
              1,
              "#f0f921"
             ]
            ],
            "type": "heatmapgl"
           }
          ],
          "histogram": [
           {
            "marker": {
             "pattern": {
              "fillmode": "overlay",
              "size": 10,
              "solidity": 0.2
             }
            },
            "type": "histogram"
           }
          ],
          "histogram2d": [
           {
            "colorbar": {
             "outlinewidth": 0,
             "ticks": ""
            },
            "colorscale": [
             [
              0,
              "#0d0887"
             ],
             [
              0.1111111111111111,
              "#46039f"
             ],
             [
              0.2222222222222222,
              "#7201a8"
             ],
             [
              0.3333333333333333,
              "#9c179e"
             ],
             [
              0.4444444444444444,
              "#bd3786"
             ],
             [
              0.5555555555555556,
              "#d8576b"
             ],
             [
              0.6666666666666666,
              "#ed7953"
             ],
             [
              0.7777777777777778,
              "#fb9f3a"
             ],
             [
              0.8888888888888888,
              "#fdca26"
             ],
             [
              1,
              "#f0f921"
             ]
            ],
            "type": "histogram2d"
           }
          ],
          "histogram2dcontour": [
           {
            "colorbar": {
             "outlinewidth": 0,
             "ticks": ""
            },
            "colorscale": [
             [
              0,
              "#0d0887"
             ],
             [
              0.1111111111111111,
              "#46039f"
             ],
             [
              0.2222222222222222,
              "#7201a8"
             ],
             [
              0.3333333333333333,
              "#9c179e"
             ],
             [
              0.4444444444444444,
              "#bd3786"
             ],
             [
              0.5555555555555556,
              "#d8576b"
             ],
             [
              0.6666666666666666,
              "#ed7953"
             ],
             [
              0.7777777777777778,
              "#fb9f3a"
             ],
             [
              0.8888888888888888,
              "#fdca26"
             ],
             [
              1,
              "#f0f921"
             ]
            ],
            "type": "histogram2dcontour"
           }
          ],
          "mesh3d": [
           {
            "colorbar": {
             "outlinewidth": 0,
             "ticks": ""
            },
            "type": "mesh3d"
           }
          ],
          "parcoords": [
           {
            "line": {
             "colorbar": {
              "outlinewidth": 0,
              "ticks": ""
             }
            },
            "type": "parcoords"
           }
          ],
          "pie": [
           {
            "automargin": true,
            "type": "pie"
           }
          ],
          "scatter": [
           {
            "fillpattern": {
             "fillmode": "overlay",
             "size": 10,
             "solidity": 0.2
            },
            "type": "scatter"
           }
          ],
          "scatter3d": [
           {
            "line": {
             "colorbar": {
              "outlinewidth": 0,
              "ticks": ""
             }
            },
            "marker": {
             "colorbar": {
              "outlinewidth": 0,
              "ticks": ""
             }
            },
            "type": "scatter3d"
           }
          ],
          "scattercarpet": [
           {
            "marker": {
             "colorbar": {
              "outlinewidth": 0,
              "ticks": ""
             }
            },
            "type": "scattercarpet"
           }
          ],
          "scattergeo": [
           {
            "marker": {
             "colorbar": {
              "outlinewidth": 0,
              "ticks": ""
             }
            },
            "type": "scattergeo"
           }
          ],
          "scattergl": [
           {
            "marker": {
             "colorbar": {
              "outlinewidth": 0,
              "ticks": ""
             }
            },
            "type": "scattergl"
           }
          ],
          "scattermapbox": [
           {
            "marker": {
             "colorbar": {
              "outlinewidth": 0,
              "ticks": ""
             }
            },
            "type": "scattermapbox"
           }
          ],
          "scatterpolar": [
           {
            "marker": {
             "colorbar": {
              "outlinewidth": 0,
              "ticks": ""
             }
            },
            "type": "scatterpolar"
           }
          ],
          "scatterpolargl": [
           {
            "marker": {
             "colorbar": {
              "outlinewidth": 0,
              "ticks": ""
             }
            },
            "type": "scatterpolargl"
           }
          ],
          "scatterternary": [
           {
            "marker": {
             "colorbar": {
              "outlinewidth": 0,
              "ticks": ""
             }
            },
            "type": "scatterternary"
           }
          ],
          "surface": [
           {
            "colorbar": {
             "outlinewidth": 0,
             "ticks": ""
            },
            "colorscale": [
             [
              0,
              "#0d0887"
             ],
             [
              0.1111111111111111,
              "#46039f"
             ],
             [
              0.2222222222222222,
              "#7201a8"
             ],
             [
              0.3333333333333333,
              "#9c179e"
             ],
             [
              0.4444444444444444,
              "#bd3786"
             ],
             [
              0.5555555555555556,
              "#d8576b"
             ],
             [
              0.6666666666666666,
              "#ed7953"
             ],
             [
              0.7777777777777778,
              "#fb9f3a"
             ],
             [
              0.8888888888888888,
              "#fdca26"
             ],
             [
              1,
              "#f0f921"
             ]
            ],
            "type": "surface"
           }
          ],
          "table": [
           {
            "cells": {
             "fill": {
              "color": "#EBF0F8"
             },
             "line": {
              "color": "white"
             }
            },
            "header": {
             "fill": {
              "color": "#C8D4E3"
             },
             "line": {
              "color": "white"
             }
            },
            "type": "table"
           }
          ]
         },
         "layout": {
          "annotationdefaults": {
           "arrowcolor": "#2a3f5f",
           "arrowhead": 0,
           "arrowwidth": 1
          },
          "autotypenumbers": "strict",
          "coloraxis": {
           "colorbar": {
            "outlinewidth": 0,
            "ticks": ""
           }
          },
          "colorscale": {
           "diverging": [
            [
             0,
             "#8e0152"
            ],
            [
             0.1,
             "#c51b7d"
            ],
            [
             0.2,
             "#de77ae"
            ],
            [
             0.3,
             "#f1b6da"
            ],
            [
             0.4,
             "#fde0ef"
            ],
            [
             0.5,
             "#f7f7f7"
            ],
            [
             0.6,
             "#e6f5d0"
            ],
            [
             0.7,
             "#b8e186"
            ],
            [
             0.8,
             "#7fbc41"
            ],
            [
             0.9,
             "#4d9221"
            ],
            [
             1,
             "#276419"
            ]
           ],
           "sequential": [
            [
             0,
             "#0d0887"
            ],
            [
             0.1111111111111111,
             "#46039f"
            ],
            [
             0.2222222222222222,
             "#7201a8"
            ],
            [
             0.3333333333333333,
             "#9c179e"
            ],
            [
             0.4444444444444444,
             "#bd3786"
            ],
            [
             0.5555555555555556,
             "#d8576b"
            ],
            [
             0.6666666666666666,
             "#ed7953"
            ],
            [
             0.7777777777777778,
             "#fb9f3a"
            ],
            [
             0.8888888888888888,
             "#fdca26"
            ],
            [
             1,
             "#f0f921"
            ]
           ],
           "sequentialminus": [
            [
             0,
             "#0d0887"
            ],
            [
             0.1111111111111111,
             "#46039f"
            ],
            [
             0.2222222222222222,
             "#7201a8"
            ],
            [
             0.3333333333333333,
             "#9c179e"
            ],
            [
             0.4444444444444444,
             "#bd3786"
            ],
            [
             0.5555555555555556,
             "#d8576b"
            ],
            [
             0.6666666666666666,
             "#ed7953"
            ],
            [
             0.7777777777777778,
             "#fb9f3a"
            ],
            [
             0.8888888888888888,
             "#fdca26"
            ],
            [
             1,
             "#f0f921"
            ]
           ]
          },
          "colorway": [
           "#636efa",
           "#EF553B",
           "#00cc96",
           "#ab63fa",
           "#FFA15A",
           "#19d3f3",
           "#FF6692",
           "#B6E880",
           "#FF97FF",
           "#FECB52"
          ],
          "font": {
           "color": "#2a3f5f"
          },
          "geo": {
           "bgcolor": "white",
           "lakecolor": "white",
           "landcolor": "#E5ECF6",
           "showlakes": true,
           "showland": true,
           "subunitcolor": "white"
          },
          "hoverlabel": {
           "align": "left"
          },
          "hovermode": "closest",
          "mapbox": {
           "style": "light"
          },
          "paper_bgcolor": "white",
          "plot_bgcolor": "#E5ECF6",
          "polar": {
           "angularaxis": {
            "gridcolor": "white",
            "linecolor": "white",
            "ticks": ""
           },
           "bgcolor": "#E5ECF6",
           "radialaxis": {
            "gridcolor": "white",
            "linecolor": "white",
            "ticks": ""
           }
          },
          "scene": {
           "xaxis": {
            "backgroundcolor": "#E5ECF6",
            "gridcolor": "white",
            "gridwidth": 2,
            "linecolor": "white",
            "showbackground": true,
            "ticks": "",
            "zerolinecolor": "white"
           },
           "yaxis": {
            "backgroundcolor": "#E5ECF6",
            "gridcolor": "white",
            "gridwidth": 2,
            "linecolor": "white",
            "showbackground": true,
            "ticks": "",
            "zerolinecolor": "white"
           },
           "zaxis": {
            "backgroundcolor": "#E5ECF6",
            "gridcolor": "white",
            "gridwidth": 2,
            "linecolor": "white",
            "showbackground": true,
            "ticks": "",
            "zerolinecolor": "white"
           }
          },
          "shapedefaults": {
           "line": {
            "color": "#2a3f5f"
           }
          },
          "ternary": {
           "aaxis": {
            "gridcolor": "white",
            "linecolor": "white",
            "ticks": ""
           },
           "baxis": {
            "gridcolor": "white",
            "linecolor": "white",
            "ticks": ""
           },
           "bgcolor": "#E5ECF6",
           "caxis": {
            "gridcolor": "white",
            "linecolor": "white",
            "ticks": ""
           }
          },
          "title": {
           "x": 0.05
          },
          "xaxis": {
           "automargin": true,
           "gridcolor": "white",
           "linecolor": "white",
           "ticks": "",
           "title": {
            "standoff": 15
           },
           "zerolinecolor": "white",
           "zerolinewidth": 2
          },
          "yaxis": {
           "automargin": true,
           "gridcolor": "white",
           "linecolor": "white",
           "ticks": "",
           "title": {
            "standoff": 15
           },
           "zerolinecolor": "white",
           "zerolinewidth": 2
          }
         }
        },
        "title": {
         "text": "Updating Parameter CES Predictions, 2024-10-05"
        },
        "xaxis": {
         "autorange": true,
         "range": [
          "2022-02-05",
          "2025-05-17"
         ],
         "title": {
          "text": "Date"
         },
         "type": "date"
        },
        "yaxis": {
         "autorange": true,
         "range": [
          -6248.077710639104,
          57292.00409003364
         ],
         "title": {
          "text": "Count"
         },
         "type": "linear"
        }
       }
      },
      "image/png": "[encoded data removed]",
      "text/html": [
       "<div>                            <div id=\"3676eed6-604d-4378-a0df-03c9da037872\" class=\"plotly-graph-div\" style=\"height:525px; width:100%;\"></div>            <script type=\"text/javascript\">                require([\"plotly\"], function(Plotly) {                    window.PLOTLYENV=window.PLOTLYENV || {};                                    if (document.getElementById(\"3676eed6-604d-4378-a0df-03c9da037872\")) {                    Plotly.newPlot(                        \"3676eed6-604d-4378-a0df-03c9da037872\",                        [{\"mode\":\"lines\",\"name\":\"Real Data\",\"x\":[\"2022-02-05T00:00:00\",\"2022-02-12T00:00:00\",\"2022-02-19T00:00:00\",\"2022-02-26T00:00:00\",\"2022-03-05T00:00:00\",\"2022-03-12T00:00:00\",\"2022-03-19T00:00:00\",\"2022-03-26T00:00:00\",\"2022-04-02T00:00:00\",\"2022-04-09T00:00:00\",\"2022-04-16T00:00:00\",\"2022-04-23T00:00:00\",\"2022-04-30T00:00:00\",\"2022-05-07T00:00:00\",\"2022-05-14T00:00:00\",\"2022-05-21T00:00:00\",\"2022-05-28T00:00:00\",\"2022-06-04T00:00:00\",\"2022-06-11T00:00:00\",\"2022-06-18T00:00:00\",\"2022-06-25T00:00:00\",\"2022-07-02T00:00:00\",\"2022-07-09T00:00:00\",\"2022-07-16T00:00:00\",\"2022-07-23T00:00:00\",\"2022-07-30T00:00:00\",\"2022-08-06T00:00:00\",\"2022-08-13T00:00:00\",\"2022-08-20T00:00:00\",\"2022-08-27T00:00:00\",\"2022-09-03T00:00:00\",\"2022-09-10T00:00:00\",\"2022-09-17T00:00:00\",\"2022-09-24T00:00:00\",\"2022-10-01T00:00:00\",\"2022-10-08T00:00:00\",\"2022-10-15T00:00:00\",\"2022-10-22T00:00:00\",\"2022-10-29T00:00:00\",\"2022-11-05T00:00:00\",\"2022-11-12T00:00:00\",\"2022-11-19T00:00:00\",\"2022-11-26T00:00:00\",\"2022-12-03T00:00:00\",\"2022-12-10T00:00:00\",\"2022-12-17T00:00:00\",\"2022-12-24T00:00:00\",\"2022-12-31T00:00:00\",\"2023-01-07T00:00:00\",\"2023-01-14T00:00:00\",\"2023-01-21T00:00:00\",\"2023-01-28T00:00:00\",\"2023-02-04T00:00:00\",\"2023-02-11T00:00:00\",\"2023-02-18T00:00:00\",\"2023-02-25T00:00:00\",\"2023-03-04T00:00:00\",\"2023-03-11T00:00:00\",\"2023-03-18T00:00:00\",\"2023-03-25T00:00:00\",\"2023-04-01T00:00:00\",\"2023-04-08T00:00:00\",\"2023-04-15T00:00:00\",\"2023-04-22T00:00:00\",\"2023-04-29T00:00:00\",\"2023-05-06T00:00:00\",\"2023-05-13T00:00:00\",\"2023-05-20T00:00:00\",\"2023-05-27T00:00:00\",\"2023-06-03T00:00:00\",\"2023-06-10T00:00:00\",\"2023-06-17T00:00:00\",\"2023-06-24T00:00:00\",\"2023-07-01T00:00:00\",\"2023-07-08T00:00:00\",\"2023-07-15T00:00:00\",\"2023-07-22T00:00:00\",\"2023-07-29T00:00:00\",\"2023-08-05T00:00:00\",\"2023-08-12T00:00:00\",\"2023-08-19T00:00:00\",\"2023-08-26T00:00:00\",\"2023-09-02T00:00:00\",\"2023-09-09T00:00:00\",\"2023-09-16T00:00:00\",\"2023-09-23T00:00:00\",\"2023-09-30T00:00:00\",\"2023-10-07T00:00:00\",\"2023-10-14T00:00:00\",\"2023-10-21T00:00:00\",\"2023-10-28T00:00:00\",\"2023-11-04T00:00:00\",\"2023-11-11T00:00:00\",\"2023-11-18T00:00:00\",\"2023-11-25T00:00:00\",\"2023-12-02T00:00:00\",\"2023-12-09T00:00:00\",\"2023-12-16T00:00:00\",\"2023-12-23T00:00:00\",\"2023-12-30T00:00:00\",\"2024-01-06T00:00:00\",\"2024-01-13T00:00:00\",\"2024-01-20T00:00:00\",\"2024-01-27T00:00:00\",\"2024-02-03T00:00:00\",\"2024-02-10T00:00:00\",\"2024-02-17T00:00:00\",\"2024-02-24T00:00:00\",\"2024-03-02T00:00:00\",\"2024-03-09T00:00:00\",\"2024-03-16T00:00:00\",\"2024-03-23T00:00:00\",\"2024-03-30T00:00:00\",\"2024-04-06T00:00:00\",\"2024-04-13T00:00:00\",\"2024-04-20T00:00:00\",\"2024-04-27T00:00:00\",\"2024-05-04T00:00:00\",\"2024-05-11T00:00:00\",\"2024-05-18T00:00:00\",\"2024-05-25T00:00:00\",\"2024-06-01T00:00:00\",\"2024-06-08T00:00:00\",\"2024-06-15T00:00:00\",\"2024-06-22T00:00:00\",\"2024-06-29T00:00:00\",\"2024-07-06T00:00:00\",\"2024-07-13T00:00:00\",\"2024-07-20T00:00:00\",\"2024-07-27T00:00:00\",\"2024-08-03T00:00:00\",\"2024-08-10T00:00:00\",\"2024-08-17T00:00:00\",\"2024-08-24T00:00:00\",\"2024-08-31T00:00:00\",\"2024-09-07T00:00:00\",\"2024-09-14T00:00:00\",\"2024-09-21T00:00:00\",\"2024-09-28T00:00:00\",\"2024-10-05T00:00:00\",\"2024-10-12T00:00:00\",\"2024-10-19T00:00:00\",\"2024-10-26T00:00:00\",\"2024-11-02T00:00:00\",\"2024-11-09T00:00:00\",\"2024-11-16T00:00:00\",\"2024-11-23T00:00:00\",\"2024-11-30T00:00:00\",\"2024-12-07T00:00:00\",\"2024-12-14T00:00:00\",\"2024-12-21T00:00:00\",\"2024-12-28T00:00:00\",\"2025-01-04T00:00:00\",\"2025-01-11T00:00:00\",\"2025-01-18T00:00:00\",\"2025-01-25T00:00:00\",\"2025-02-01T00:00:00\",\"2025-02-08T00:00:00\",\"2025-02-15T00:00:00\",\"2025-02-22T00:00:00\",\"2025-03-01T00:00:00\",\"2025-03-08T00:00:00\",\"2025-03-15T00:00:00\",\"2025-03-22T00:00:00\",\"2025-03-29T00:00:00\",\"2025-04-05T00:00:00\",\"2025-04-12T00:00:00\",\"2025-04-19T00:00:00\",\"2025-04-26T00:00:00\",\"2025-05-03T00:00:00\",\"2025-05-10T00:00:00\",\"2025-05-17T00:00:00\"],\"y\":[1091.0,1162.0,1491.0,1603.0,1791.0,2094.0,2622.0,2917.0,3000.0,3135.0,3297.0,3468.0,3179.0,3172.0,3117.0,3130.0,2737.0,2676.0,2202.0,1775.0,1366.0,1073.0,776.0,766.0,627.0,522.0,486.0,490.0,483.0,483.0,545.0,576.0,665.0,796.0,921.0,1306.0,1670.0,2273.0,4181.0,6401.0,8589.0,10969.0,18173.0,26829.0,24035.0,21607.0,19624.0,19474.0,14074.0,7183.0,4488.0,3091.0,2594.0,2176.0,1908.0,1647.0,1501.0,1372.0,1415.0,1330.0,1295.0,1198.0,1077.0,980.0,903.0,994.0,978.0,1116.0,974.0,939.0,935.0,873.0,813.0,836.0,699.0,736.0,645.0,769.0,690.0,705.0,738.0,792.0,875.0,803.0,821.0,881.0,1026.0,1108.0,1214.0,1469.0,1614.0,2012.0,2775.0,3491.0,4386.0,5954.0,7495.0,10269.0,15717.0,21682.0,19548.0,15902.0,13302.0,13025.0,11963.0,11629.0,11126.0,10869.0,10814.0,9416.0,7324.0,6049.0,5574.0,5071.0,4073.0,2943.0,2420.0,1485.0,852.0,681.0,610.0,590.0,511.0,517.0,441.0,356.0,341.0,367.0,324.0,273.0,275.0,275.0,273.0,274.0,259.0,223.0,319.0,293.0,223.0,286.0,288.0,552.0,1079.0,975.0,2076.0,2529.0,3089.0,4278.0,6286.0,9152.0,15399.0,27651.0,38672.0,30698.0,32963.0,40566.0,51141.0,54115.0,46036.0,37647.0,30753.0,23970.0,18369.0,13620.0,9664.0,6683.0,4863.0,3818.0,3213.0,2434.0,2078.0,1636.0],\"type\":\"scatter\"},{\"line\":{\"color\":\"#414487\"},\"mode\":\"lines\",\"name\":\"CES-hi-80\",\"x\":[\"2024-10-12T00:00:00\",\"2024-10-19T00:00:00\",\"2024-10-26T00:00:00\",\"2024-11-02T00:00:00\"],\"y\":[2412.0153564453135,2619.8637451171876,3425.373217773438,4548.643554687501],\"type\":\"scatter\"},{\"line\":{\"color\":\"#1e9c89\"},\"mode\":\"lines\",\"name\":\"CES-hi-95\",\"x\":[\"2024-10-12T00:00:00\",\"2024-10-19T00:00:00\",\"2024-10-26T00:00:00\",\"2024-11-02T00:00:00\"],\"y\":[3555.930682373045,3710.7981323242166,4534.298486328124,5749.773266601563],\"type\":\"scatter\"},{\"fill\":\"tonexty\",\"fillcolor\":\"#1e9c89\",\"line\":{\"color\":\"#1e9c89\"},\"mode\":\"lines\",\"name\":\"CES-lo-95\",\"x\":[\"2024-10-12T00:00:00\",\"2024-10-19T00:00:00\",\"2024-10-26T00:00:00\",\"2024-11-02T00:00:00\"],\"y\":[-3071.0736206054676,-2792.1302124023437,-1790.2330932617183,-600.9744445800777],\"type\":\"scatter\"},{\"fill\":\"tonexty\",\"fillcolor\":\"#414487\",\"line\":{\"color\":\"#414487\"},\"mode\":\"lines\",\"name\":\"CES-lo-80\",\"x\":[\"2024-10-12T00:00:00\",\"2024-10-19T00:00:00\",\"2024-10-26T00:00:00\",\"2024-11-02T00:00:00\"],\"y\":[-1836.849096679688,-1649.3380126953125,-736.2629882812503,484.014404296875],\"type\":\"scatter\"},{\"line\":{\"color\":\"#2c728e\"},\"mode\":\"lines\",\"name\":\"CES\",\"x\":[\"2024-10-12T00:00:00\",\"2024-10-19T00:00:00\",\"2024-10-26T00:00:00\",\"2024-11-02T00:00:00\"],\"y\":[265.220703125,505.310546875,1358.3583984375,2509.9659423828125],\"type\":\"scatter\"}],                        {\"template\":{\"data\":{\"histogram2dcontour\":[{\"type\":\"histogram2dcontour\",\"colorbar\":{\"outlinewidth\":0,\"ticks\":\"\"},\"colorscale\":[[0.0,\"#0d0887\"],[0.1111111111111111,\"#46039f\"],[0.2222222222222222,\"#7201a8\"],[0.3333333333333333,\"#9c179e\"],[0.4444444444444444,\"#bd3786\"],[0.5555555555555556,\"#d8576b\"],[0.6666666666666666,\"#ed7953\"],[0.7777777777777778,\"#fb9f3a\"],[0.8888888888888888,\"#fdca26\"],[1.0,\"#f0f921\"]]}],\"choropleth\":[{\"type\":\"choropleth\",\"colorbar\":{\"outlinewidth\":0,\"ticks\":\"\"}}],\"histogram2d\":[{\"type\":\"histogram2d\",\"colorbar\":{\"outlinewidth\":0,\"ticks\":\"\"},\"colorscale\":[[0.0,\"#0d0887\"],[0.1111111111111111,\"#46039f\"],[0.2222222222222222,\"#7201a8\"],[0.3333333333333333,\"#9c179e\"],[0.4444444444444444,\"#bd3786\"],[0.5555555555555556,\"#d8576b\"],[0.6666666666666666,\"#ed7953\"],[0.7777777777777778,\"#fb9f3a\"],[0.8888888888888888,\"#fdca26\"],[1.0,\"#f0f921\"]]}],\"heatmap\":[{\"type\":\"heatmap\",\"colorbar\":{\"outlinewidth\":0,\"ticks\":\"\"},\"colorscale\":[[0.0,\"#0d0887\"],[0.1111111111111111,\"#46039f\"],[0.2222222222222222,\"#7201a8\"],[0.3333333333333333,\"#9c179e\"],[0.4444444444444444,\"#bd3786\"],[0.5555555555555556,\"#d8576b\"],[0.6666666666666666,\"#ed7953\"],[0.7777777777777778,\"#fb9f3a\"],[0.8888888888888888,\"#fdca26\"],[1.0,\"#f0f921\"]]}],\"heatmapgl\":[{\"type\":\"heatmapgl\",\"colorbar\":{\"outlinewidth\":0,\"ticks\":\"\"},\"colorscale\":[[0.0,\"#0d0887\"],[0.1111111111111111,\"#46039f\"],[0.2222222222222222,\"#7201a8\"],[0.3333333333333333,\"#9c179e\"],[0.4444444444444444,\"#bd3786\"],[0.5555555555555556,\"#d8576b\"],[0.6666666666666666,\"#ed7953\"],[0.7777777777777778,\"#fb9f3a\"],[0.8888888888888888,\"#fdca26\"],[1.0,\"#f0f921\"]]}],\"contourcarpet\":[{\"type\":\"contourcarpet\",\"colorbar\":{\"outlinewidth\":0,\"ticks\":\"\"}}],\"contour\":[{\"type\":\"contour\",\"colorbar\":{\"outlinewidth\":0,\"ticks\":\"\"},\"colorscale\":[[0.0,\"#0d0887\"],[0.1111111111111111,\"#46039f\"],[0.2222222222222222,\"#7201a8\"],[0.3333333333333333,\"#9c179e\"],[0.4444444444444444,\"#bd3786\"],[0.5555555555555556,\"#d8576b\"],[0.6666666666666666,\"#ed7953\"],[0.7777777777777778,\"#fb9f3a\"],[0.8888888888888888,\"#fdca26\"],[1.0,\"#f0f921\"]]}],\"surface\":[{\"type\":\"surface\",\"colorbar\":{\"outlinewidth\":0,\"ticks\":\"\"},\"colorscale\":[[0.0,\"#0d0887\"],[0.1111111111111111,\"#46039f\"],[0.2222222222222222,\"#7201a8\"],[0.3333333333333333,\"#9c179e\"],[0.4444444444444444,\"#bd3786\"],[0.5555555555555556,\"#d8576b\"],[0.6666666666666666,\"#ed7953\"],[0.7777777777777778,\"#fb9f3a\"],[0.8888888888888888,\"#fdca26\"],[1.0,\"#f0f921\"]]}],\"mesh3d\":[{\"type\":\"mesh3d\",\"colorbar\":{\"outlinewidth\":0,\"ticks\":\"\"}}],\"scatter\":[{\"fillpattern\":{\"fillmode\":\"overlay\",\"size\":10,\"solidity\":0.2},\"type\":\"scatter\"}],\"parcoords\":[{\"type\":\"parcoords\",\"line\":{\"colorbar\":{\"outlinewidth\":0,\"ticks\":\"\"}}}],\"scatterpolargl\":[{\"type\":\"scatterpolargl\",\"marker\":{\"colorbar\":{\"outlinewidth\":0,\"ticks\":\"\"}}}],\"bar\":[{\"error_x\":{\"color\":\"#2a3f5f\"},\"error_y\":{\"color\":\"#2a3f5f\"},\"marker\":{\"line\":{\"color\":\"#E5ECF6\",\"width\":0.5},\"pattern\":{\"fillmode\":\"overlay\",\"size\":10,\"solidity\":0.2}},\"type\":\"bar\"}],\"scattergeo\":[{\"type\":\"scattergeo\",\"marker\":{\"colorbar\":{\"outlinewidth\":0,\"ticks\":\"\"}}}],\"scatterpolar\":[{\"type\":\"scatterpolar\",\"marker\":{\"colorbar\":{\"outlinewidth\":0,\"ticks\":\"\"}}}],\"histogram\":[{\"marker\":{\"pattern\":{\"fillmode\":\"overlay\",\"size\":10,\"solidity\":0.2}},\"type\":\"histogram\"}],\"scattergl\":[{\"type\":\"scattergl\",\"marker\":{\"colorbar\":{\"outlinewidth\":0,\"ticks\":\"\"}}}],\"scatter3d\":[{\"type\":\"scatter3d\",\"line\":{\"colorbar\":{\"outlinewidth\":0,\"ticks\":\"\"}},\"marker\":{\"colorbar\":{\"outlinewidth\":0,\"ticks\":\"\"}}}],\"scattermapbox\":[{\"type\":\"scattermapbox\",\"marker\":{\"colorbar\":{\"outlinewidth\":0,\"ticks\":\"\"}}}],\"scatterternary\":[{\"type\":\"scatterternary\",\"marker\":{\"colorbar\":{\"outlinewidth\":0,\"ticks\":\"\"}}}],\"scattercarpet\":[{\"type\":\"scattercarpet\",\"marker\":{\"colorbar\":{\"outlinewidth\":0,\"ticks\":\"\"}}}],\"carpet\":[{\"aaxis\":{\"endlinecolor\":\"#2a3f5f\",\"gridcolor\":\"white\",\"linecolor\":\"white\",\"minorgridcolor\":\"white\",\"startlinecolor\":\"#2a3f5f\"},\"baxis\":{\"endlinecolor\":\"#2a3f5f\",\"gridcolor\":\"white\",\"linecolor\":\"white\",\"minorgridcolor\":\"white\",\"startlinecolor\":\"#2a3f5f\"},\"type\":\"carpet\"}],\"table\":[{\"cells\":{\"fill\":{\"color\":\"#EBF0F8\"},\"line\":{\"color\":\"white\"}},\"header\":{\"fill\":{\"color\":\"#C8D4E3\"},\"line\":{\"color\":\"white\"}},\"type\":\"table\"}],\"barpolar\":[{\"marker\":{\"line\":{\"color\":\"#E5ECF6\",\"width\":0.5},\"pattern\":{\"fillmode\":\"overlay\",\"size\":10,\"solidity\":0.2}},\"type\":\"barpolar\"}],\"pie\":[{\"automargin\":true,\"type\":\"pie\"}]},\"layout\":{\"autotypenumbers\":\"strict\",\"colorway\":[\"#636efa\",\"#EF553B\",\"#00cc96\",\"#ab63fa\",\"#FFA15A\",\"#19d3f3\",\"#FF6692\",\"#B6E880\",\"#FF97FF\",\"#FECB52\"],\"font\":{\"color\":\"#2a3f5f\"},\"hovermode\":\"closest\",\"hoverlabel\":{\"align\":\"left\"},\"paper_bgcolor\":\"white\",\"plot_bgcolor\":\"#E5ECF6\",\"polar\":{\"bgcolor\":\"#E5ECF6\",\"angularaxis\":{\"gridcolor\":\"white\",\"linecolor\":\"white\",\"ticks\":\"\"},\"radialaxis\":{\"gridcolor\":\"white\",\"linecolor\":\"white\",\"ticks\":\"\"}},\"ternary\":{\"bgcolor\":\"#E5ECF6\",\"aaxis\":{\"gridcolor\":\"white\",\"linecolor\":\"white\",\"ticks\":\"\"},\"baxis\":{\"gridcolor\":\"white\",\"linecolor\":\"white\",\"ticks\":\"\"},\"caxis\":{\"gridcolor\":\"white\",\"linecolor\":\"white\",\"ticks\":\"\"}},\"coloraxis\":{\"colorbar\":{\"outlinewidth\":0,\"ticks\":\"\"}},\"colorscale\":{\"sequential\":[[0.0,\"#0d0887\"],[0.1111111111111111,\"#46039f\"],[0.2222222222222222,\"#7201a8\"],[0.3333333333333333,\"#9c179e\"],[0.4444444444444444,\"#bd3786\"],[0.5555555555555556,\"#d8576b\"],[0.6666666666666666,\"#ed7953\"],[0.7777777777777778,\"#fb9f3a\"],[0.8888888888888888,\"#fdca26\"],[1.0,\"#f0f921\"]],\"sequentialminus\":[[0.0,\"#0d0887\"],[0.1111111111111111,\"#46039f\"],[0.2222222222222222,\"#7201a8\"],[0.3333333333333333,\"#9c179e\"],[0.4444444444444444,\"#bd3786\"],[0.5555555555555556,\"#d8576b\"],[0.6666666666666666,\"#ed7953\"],[0.7777777777777778,\"#fb9f3a\"],[0.8888888888888888,\"#fdca26\"],[1.0,\"#f0f921\"]],\"diverging\":[[0,\"#8e0152\"],[0.1,\"#c51b7d\"],[0.2,\"#de77ae\"],[0.3,\"#f1b6da\"],[0.4,\"#fde0ef\"],[0.5,\"#f7f7f7\"],[0.6,\"#e6f5d0\"],[0.7,\"#b8e186\"],[0.8,\"#7fbc41\"],[0.9,\"#4d9221\"],[1,\"#276419\"]]},\"xaxis\":{\"gridcolor\":\"white\",\"linecolor\":\"white\",\"ticks\":\"\",\"title\":{\"standoff\":15},\"zerolinecolor\":\"white\",\"automargin\":true,\"zerolinewidth\":2},\"yaxis\":{\"gridcolor\":\"white\",\"linecolor\":\"white\",\"ticks\":\"\",\"title\":{\"standoff\":15},\"zerolinecolor\":\"white\",\"automargin\":true,\"zerolinewidth\":2},\"scene\":{\"xaxis\":{\"backgroundcolor\":\"#E5ECF6\",\"gridcolor\":\"white\",\"linecolor\":\"white\",\"showbackground\":true,\"ticks\":\"\",\"zerolinecolor\":\"white\",\"gridwidth\":2},\"yaxis\":{\"backgroundcolor\":\"#E5ECF6\",\"gridcolor\":\"white\",\"linecolor\":\"white\",\"showbackground\":true,\"ticks\":\"\",\"zerolinecolor\":\"white\",\"gridwidth\":2},\"zaxis\":{\"backgroundcolor\":\"#E5ECF6\",\"gridcolor\":\"white\",\"linecolor\":\"white\",\"showbackground\":true,\"ticks\":\"\",\"zerolinecolor\":\"white\",\"gridwidth\":2}},\"shapedefaults\":{\"line\":{\"color\":\"#2a3f5f\"}},\"annotationdefaults\":{\"arrowcolor\":\"#2a3f5f\",\"arrowhead\":0,\"arrowwidth\":1},\"geo\":{\"bgcolor\":\"white\",\"landcolor\":\"#E5ECF6\",\"subunitcolor\":\"white\",\"showland\":true,\"showlakes\":true,\"lakecolor\":\"white\"},\"title\":{\"x\":0.05},\"mapbox\":{\"style\":\"light\"}}},\"title\":{\"text\":\"Updating Parameter CES Predictions, 2024-10-05\"},\"xaxis\":{\"title\":{\"text\":\"Date\"}},\"yaxis\":{\"title\":{\"text\":\"Count\"}},\"hovermode\":\"x\"},                        {\"responsive\": true}                    ).then(function(){\n",
       "                            \n",
       "var gd = document.getElementById('3676eed6-604d-4378-a0df-03c9da037872');\n",
       "var x = new MutationObserver(function (mutations, observer) {{\n",
       "        var display = window.getComputedStyle(gd).display;\n",
       "        if (!display || display === 'none') {{\n",
       "            console.log([gd, 'removed!']);\n",
       "            Plotly.purge(gd);\n",
       "            observer.disconnect();\n",
       "        }}\n",
       "}});\n",
       "\n",
       "// Listen for the removal of the full notebook cells\n",
       "var notebookContainer = gd.closest('#notebook-container');\n",
       "if (notebookContainer) {{\n",
       "    x.observe(notebookContainer, {childList: true});\n",
       "}}\n",
       "\n",
       "// Listen for the clearing of the current output cell\n",
       "var outputEl = gd.closest('.output');\n",
       "if (outputEl) {{\n",
       "    x.observe(outputEl, {childList: true});\n",
       "}}\n",
       "\n",
       "                        })                };                });            </script>        </div>"
      ]
     },
     "metadata": {},
     "output_type": "display_data"
    },
    {
     "data": {
      "application/vnd.plotly.v1+json": {
       "config": {
        "plotlyServerURL": "https://plot.ly"
       },
       "data": [
        {
         "mode": "lines",
         "name": "Real Data",
         "type": "scatter",
         "x": [
          "2022-02-05T00:00:00",
          "2022-02-12T00:00:00",
          "2022-02-19T00:00:00",
          "2022-02-26T00:00:00",
          "2022-03-05T00:00:00",
          "2022-03-12T00:00:00",
          "2022-03-19T00:00:00",
          "2022-03-26T00:00:00",
          "2022-04-02T00:00:00",
          "2022-04-09T00:00:00",
          "2022-04-16T00:00:00",
          "2022-04-23T00:00:00",
          "2022-04-30T00:00:00",
          "2022-05-07T00:00:00",
          "2022-05-14T00:00:00",
          "2022-05-21T00:00:00",
          "2022-05-28T00:00:00",
          "2022-06-04T00:00:00",
          "2022-06-11T00:00:00",
          "2022-06-18T00:00:00",
          "2022-06-25T00:00:00",
          "2022-07-02T00:00:00",
          "2022-07-09T00:00:00",
          "2022-07-16T00:00:00",
          "2022-07-23T00:00:00",
          "2022-07-30T00:00:00",
          "2022-08-06T00:00:00",
          "2022-08-13T00:00:00",
          "2022-08-20T00:00:00",
          "2022-08-27T00:00:00",
          "2022-09-03T00:00:00",
          "2022-09-10T00:00:00",
          "2022-09-17T00:00:00",
          "2022-09-24T00:00:00",
          "2022-10-01T00:00:00",
          "2022-10-08T00:00:00",
          "2022-10-15T00:00:00",
          "2022-10-22T00:00:00",
          "2022-10-29T00:00:00",
          "2022-11-05T00:00:00",
          "2022-11-12T00:00:00",
          "2022-11-19T00:00:00",
          "2022-11-26T00:00:00",
          "2022-12-03T00:00:00",
          "2022-12-10T00:00:00",
          "2022-12-17T00:00:00",
          "2022-12-24T00:00:00",
          "2022-12-31T00:00:00",
          "2023-01-07T00:00:00",
          "2023-01-14T00:00:00",
          "2023-01-21T00:00:00",
          "2023-01-28T00:00:00",
          "2023-02-04T00:00:00",
          "2023-02-11T00:00:00",
          "2023-02-18T00:00:00",
          "2023-02-25T00:00:00",
          "2023-03-04T00:00:00",
          "2023-03-11T00:00:00",
          "2023-03-18T00:00:00",
          "2023-03-25T00:00:00",
          "2023-04-01T00:00:00",
          "2023-04-08T00:00:00",
          "2023-04-15T00:00:00",
          "2023-04-22T00:00:00",
          "2023-04-29T00:00:00",
          "2023-05-06T00:00:00",
          "2023-05-13T00:00:00",
          "2023-05-20T00:00:00",
          "2023-05-27T00:00:00",
          "2023-06-03T00:00:00",
          "2023-06-10T00:00:00",
          "2023-06-17T00:00:00",
          "2023-06-24T00:00:00",
          "2023-07-01T00:00:00",
          "2023-07-08T00:00:00",
          "2023-07-15T00:00:00",
          "2023-07-22T00:00:00",
          "2023-07-29T00:00:00",
          "2023-08-05T00:00:00",
          "2023-08-12T00:00:00",
          "2023-08-19T00:00:00",
          "2023-08-26T00:00:00",
          "2023-09-02T00:00:00",
          "2023-09-09T00:00:00",
          "2023-09-16T00:00:00",
          "2023-09-23T00:00:00",
          "2023-09-30T00:00:00",
          "2023-10-07T00:00:00",
          "2023-10-14T00:00:00",
          "2023-10-21T00:00:00",
          "2023-10-28T00:00:00",
          "2023-11-04T00:00:00",
          "2023-11-11T00:00:00",
          "2023-11-18T00:00:00",
          "2023-11-25T00:00:00",
          "2023-12-02T00:00:00",
          "2023-12-09T00:00:00",
          "2023-12-16T00:00:00",
          "2023-12-23T00:00:00",
          "2023-12-30T00:00:00",
          "2024-01-06T00:00:00",
          "2024-01-13T00:00:00",
          "2024-01-20T00:00:00",
          "2024-01-27T00:00:00",
          "2024-02-03T00:00:00",
          "2024-02-10T00:00:00",
          "2024-02-17T00:00:00",
          "2024-02-24T00:00:00",
          "2024-03-02T00:00:00",
          "2024-03-09T00:00:00",
          "2024-03-16T00:00:00",
          "2024-03-23T00:00:00",
          "2024-03-30T00:00:00",
          "2024-04-06T00:00:00",
          "2024-04-13T00:00:00",
          "2024-04-20T00:00:00",
          "2024-04-27T00:00:00",
          "2024-05-04T00:00:00",
          "2024-05-11T00:00:00",
          "2024-05-18T00:00:00",
          "2024-05-25T00:00:00",
          "2024-06-01T00:00:00",
          "2024-06-08T00:00:00",
          "2024-06-15T00:00:00",
          "2024-06-22T00:00:00",
          "2024-06-29T00:00:00",
          "2024-07-06T00:00:00",
          "2024-07-13T00:00:00",
          "2024-07-20T00:00:00",
          "2024-07-27T00:00:00",
          "2024-08-03T00:00:00",
          "2024-08-10T00:00:00",
          "2024-08-17T00:00:00",
          "2024-08-24T00:00:00",
          "2024-08-31T00:00:00",
          "2024-09-07T00:00:00",
          "2024-09-14T00:00:00",
          "2024-09-21T00:00:00",
          "2024-09-28T00:00:00",
          "2024-10-05T00:00:00",
          "2024-10-12T00:00:00",
          "2024-10-19T00:00:00",
          "2024-10-26T00:00:00",
          "2024-11-02T00:00:00",
          "2024-11-09T00:00:00",
          "2024-11-16T00:00:00",
          "2024-11-23T00:00:00",
          "2024-11-30T00:00:00",
          "2024-12-07T00:00:00",
          "2024-12-14T00:00:00",
          "2024-12-21T00:00:00",
          "2024-12-28T00:00:00",
          "2025-01-04T00:00:00",
          "2025-01-11T00:00:00",
          "2025-01-18T00:00:00",
          "2025-01-25T00:00:00",
          "2025-02-01T00:00:00",
          "2025-02-08T00:00:00",
          "2025-02-15T00:00:00",
          "2025-02-22T00:00:00",
          "2025-03-01T00:00:00",
          "2025-03-08T00:00:00",
          "2025-03-15T00:00:00",
          "2025-03-22T00:00:00",
          "2025-03-29T00:00:00",
          "2025-04-05T00:00:00",
          "2025-04-12T00:00:00",
          "2025-04-19T00:00:00",
          "2025-04-26T00:00:00",
          "2025-05-03T00:00:00",
          "2025-05-10T00:00:00",
          "2025-05-17T00:00:00"
         ],
         "y": [
          1091,
          1162,
          1491,
          1603,
          1791,
          2094,
          2622,
          2917,
          3000,
          3135,
          3297,
          3468,
          3179,
          3172,
          3117,
          3130,
          2737,
          2676,
          2202,
          1775,
          1366,
          1073,
          776,
          766,
          627,
          522,
          486,
          490,
          483,
          483,
          545,
          576,
          665,
          796,
          921,
          1306,
          1670,
          2273,
          4181,
          6401,
          8589,
          10969,
          18173,
          26829,
          24035,
          21607,
          19624,
          19474,
          14074,
          7183,
          4488,
          3091,
          2594,
          2176,
          1908,
          1647,
          1501,
          1372,
          1415,
          1330,
          1295,
          1198,
          1077,
          980,
          903,
          994,
          978,
          1116,
          974,
          939,
          935,
          873,
          813,
          836,
          699,
          736,
          645,
          769,
          690,
          705,
          738,
          792,
          875,
          803,
          821,
          881,
          1026,
          1108,
          1214,
          1469,
          1614,
          2012,
          2775,
          3491,
          4386,
          5954,
          7495,
          10269,
          15717,
          21682,
          19548,
          15902,
          13302,
          13025,
          11963,
          11629,
          11126,
          10869,
          10814,
          9416,
          7324,
          6049,
          5574,
          5071,
          4073,
          2943,
          2420,
          1485,
          852,
          681,
          610,
          590,
          511,
          517,
          441,
          356,
          341,
          367,
          324,
          273,
          275,
          275,
          273,
          274,
          259,
          223,
          319,
          293,
          223,
          286,
          288,
          552,
          1079,
          975,
          2076,
          2529,
          3089,
          4278,
          6286,
          9152,
          15399,
          27651,
          38672,
          30698,
          32963,
          40566,
          51141,
          54115,
          46036,
          37647,
          30753,
          23970,
          18369,
          13620,
          9664,
          6683,
          4863,
          3818,
          3213,
          2434,
          2078,
          1636
         ]
        },
        {
         "line": {
          "color": "#414487"
         },
         "mode": "lines",
         "name": "CES-hi-80",
         "type": "scatter",
         "x": [
          "2024-10-26T00:00:00",
          "2024-11-02T00:00:00",
          "2024-11-09T00:00:00",
          "2024-11-16T00:00:00"
         ],
         "y": [
          3509.1976074218755,
          4651.893505859376,
          5882.900488281251,
          7285.476464843751
         ]
        },
        {
         "line": {
          "color": "#1e9c89"
         },
         "mode": "lines",
         "name": "CES-hi-95",
         "type": "scatter",
         "x": [
          "2024-10-26T00:00:00",
          "2024-11-02T00:00:00",
          "2024-11-09T00:00:00",
          "2024-11-16T00:00:00"
         ],
         "y": [
          4606.908410644529,
          5815.742468261714,
          6963.5022583007785,
          8357.77197265625
         ]
        },
        {
         "fill": "tonexty",
         "fillcolor": "#1e9c89",
         "line": {
          "color": "#1e9c89"
         },
         "mode": "lines",
         "name": "CES-lo-95",
         "type": "scatter",
         "x": [
          "2024-10-26T00:00:00",
          "2024-11-02T00:00:00",
          "2024-11-09T00:00:00",
          "2024-11-16T00:00:00"
         ],
         "y": [
          -1899.5262084960925,
          -748.4673553466794,
          732.5204421997082,
          2188.733190917969
         ]
        },
        {
         "fill": "tonexty",
         "fillcolor": "#414487",
         "line": {
          "color": "#414487"
         },
         "mode": "lines",
         "name": "CES-lo-80",
         "type": "scatter",
         "x": [
          "2024-10-26T00:00:00",
          "2024-11-02T00:00:00",
          "2024-11-09T00:00:00",
          "2024-11-16T00:00:00"
         ],
         "y": [
          -774.4422363281255,
          405.2789611816405,
          1798.8863159179687,
          3244.9744873046875
         ]
        },
        {
         "line": {
          "color": "#2c728e"
         },
         "mode": "lines",
         "name": "CES",
         "type": "scatter",
         "x": [
          "2024-10-26T00:00:00",
          "2024-11-02T00:00:00",
          "2024-11-09T00:00:00",
          "2024-11-16T00:00:00"
         ],
         "y": [
          1366.222412109375,
          2543.9927368164062,
          3864.6504516601562,
          5287.44482421875
         ]
        }
       ],
       "layout": {
        "autosize": true,
        "hovermode": "x",
        "template": {
         "data": {
          "bar": [
           {
            "error_x": {
             "color": "#2a3f5f"
            },
            "error_y": {
             "color": "#2a3f5f"
            },
            "marker": {
             "line": {
              "color": "#E5ECF6",
              "width": 0.5
             },
             "pattern": {
              "fillmode": "overlay",
              "size": 10,
              "solidity": 0.2
             }
            },
            "type": "bar"
           }
          ],
          "barpolar": [
           {
            "marker": {
             "line": {
              "color": "#E5ECF6",
              "width": 0.5
             },
             "pattern": {
              "fillmode": "overlay",
              "size": 10,
              "solidity": 0.2
             }
            },
            "type": "barpolar"
           }
          ],
          "carpet": [
           {
            "aaxis": {
             "endlinecolor": "#2a3f5f",
             "gridcolor": "white",
             "linecolor": "white",
             "minorgridcolor": "white",
             "startlinecolor": "#2a3f5f"
            },
            "baxis": {
             "endlinecolor": "#2a3f5f",
             "gridcolor": "white",
             "linecolor": "white",
             "minorgridcolor": "white",
             "startlinecolor": "#2a3f5f"
            },
            "type": "carpet"
           }
          ],
          "choropleth": [
           {
            "colorbar": {
             "outlinewidth": 0,
             "ticks": ""
            },
            "type": "choropleth"
           }
          ],
          "contour": [
           {
            "colorbar": {
             "outlinewidth": 0,
             "ticks": ""
            },
            "colorscale": [
             [
              0,
              "#0d0887"
             ],
             [
              0.1111111111111111,
              "#46039f"
             ],
             [
              0.2222222222222222,
              "#7201a8"
             ],
             [
              0.3333333333333333,
              "#9c179e"
             ],
             [
              0.4444444444444444,
              "#bd3786"
             ],
             [
              0.5555555555555556,
              "#d8576b"
             ],
             [
              0.6666666666666666,
              "#ed7953"
             ],
             [
              0.7777777777777778,
              "#fb9f3a"
             ],
             [
              0.8888888888888888,
              "#fdca26"
             ],
             [
              1,
              "#f0f921"
             ]
            ],
            "type": "contour"
           }
          ],
          "contourcarpet": [
           {
            "colorbar": {
             "outlinewidth": 0,
             "ticks": ""
            },
            "type": "contourcarpet"
           }
          ],
          "heatmap": [
           {
            "colorbar": {
             "outlinewidth": 0,
             "ticks": ""
            },
            "colorscale": [
             [
              0,
              "#0d0887"
             ],
             [
              0.1111111111111111,
              "#46039f"
             ],
             [
              0.2222222222222222,
              "#7201a8"
             ],
             [
              0.3333333333333333,
              "#9c179e"
             ],
             [
              0.4444444444444444,
              "#bd3786"
             ],
             [
              0.5555555555555556,
              "#d8576b"
             ],
             [
              0.6666666666666666,
              "#ed7953"
             ],
             [
              0.7777777777777778,
              "#fb9f3a"
             ],
             [
              0.8888888888888888,
              "#fdca26"
             ],
             [
              1,
              "#f0f921"
             ]
            ],
            "type": "heatmap"
           }
          ],
          "heatmapgl": [
           {
            "colorbar": {
             "outlinewidth": 0,
             "ticks": ""
            },
            "colorscale": [
             [
              0,
              "#0d0887"
             ],
             [
              0.1111111111111111,
              "#46039f"
             ],
             [
              0.2222222222222222,
              "#7201a8"
             ],
             [
              0.3333333333333333,
              "#9c179e"
             ],
             [
              0.4444444444444444,
              "#bd3786"
             ],
             [
              0.5555555555555556,
              "#d8576b"
             ],
             [
              0.6666666666666666,
              "#ed7953"
             ],
             [
              0.7777777777777778,
              "#fb9f3a"
             ],
             [
              0.8888888888888888,
              "#fdca26"
             ],
             [
              1,
              "#f0f921"
             ]
            ],
            "type": "heatmapgl"
           }
          ],
          "histogram": [
           {
            "marker": {
             "pattern": {
              "fillmode": "overlay",
              "size": 10,
              "solidity": 0.2
             }
            },
            "type": "histogram"
           }
          ],
          "histogram2d": [
           {
            "colorbar": {
             "outlinewidth": 0,
             "ticks": ""
            },
            "colorscale": [
             [
              0,
              "#0d0887"
             ],
             [
              0.1111111111111111,
              "#46039f"
             ],
             [
              0.2222222222222222,
              "#7201a8"
             ],
             [
              0.3333333333333333,
              "#9c179e"
             ],
             [
              0.4444444444444444,
              "#bd3786"
             ],
             [
              0.5555555555555556,
              "#d8576b"
             ],
             [
              0.6666666666666666,
              "#ed7953"
             ],
             [
              0.7777777777777778,
              "#fb9f3a"
             ],
             [
              0.8888888888888888,
              "#fdca26"
             ],
             [
              1,
              "#f0f921"
             ]
            ],
            "type": "histogram2d"
           }
          ],
          "histogram2dcontour": [
           {
            "colorbar": {
             "outlinewidth": 0,
             "ticks": ""
            },
            "colorscale": [
             [
              0,
              "#0d0887"
             ],
             [
              0.1111111111111111,
              "#46039f"
             ],
             [
              0.2222222222222222,
              "#7201a8"
             ],
             [
              0.3333333333333333,
              "#9c179e"
             ],
             [
              0.4444444444444444,
              "#bd3786"
             ],
             [
              0.5555555555555556,
              "#d8576b"
             ],
             [
              0.6666666666666666,
              "#ed7953"
             ],
             [
              0.7777777777777778,
              "#fb9f3a"
             ],
             [
              0.8888888888888888,
              "#fdca26"
             ],
             [
              1,
              "#f0f921"
             ]
            ],
            "type": "histogram2dcontour"
           }
          ],
          "mesh3d": [
           {
            "colorbar": {
             "outlinewidth": 0,
             "ticks": ""
            },
            "type": "mesh3d"
           }
          ],
          "parcoords": [
           {
            "line": {
             "colorbar": {
              "outlinewidth": 0,
              "ticks": ""
             }
            },
            "type": "parcoords"
           }
          ],
          "pie": [
           {
            "automargin": true,
            "type": "pie"
           }
          ],
          "scatter": [
           {
            "fillpattern": {
             "fillmode": "overlay",
             "size": 10,
             "solidity": 0.2
            },
            "type": "scatter"
           }
          ],
          "scatter3d": [
           {
            "line": {
             "colorbar": {
              "outlinewidth": 0,
              "ticks": ""
             }
            },
            "marker": {
             "colorbar": {
              "outlinewidth": 0,
              "ticks": ""
             }
            },
            "type": "scatter3d"
           }
          ],
          "scattercarpet": [
           {
            "marker": {
             "colorbar": {
              "outlinewidth": 0,
              "ticks": ""
             }
            },
            "type": "scattercarpet"
           }
          ],
          "scattergeo": [
           {
            "marker": {
             "colorbar": {
              "outlinewidth": 0,
              "ticks": ""
             }
            },
            "type": "scattergeo"
           }
          ],
          "scattergl": [
           {
            "marker": {
             "colorbar": {
              "outlinewidth": 0,
              "ticks": ""
             }
            },
            "type": "scattergl"
           }
          ],
          "scattermapbox": [
           {
            "marker": {
             "colorbar": {
              "outlinewidth": 0,
              "ticks": ""
             }
            },
            "type": "scattermapbox"
           }
          ],
          "scatterpolar": [
           {
            "marker": {
             "colorbar": {
              "outlinewidth": 0,
              "ticks": ""
             }
            },
            "type": "scatterpolar"
           }
          ],
          "scatterpolargl": [
           {
            "marker": {
             "colorbar": {
              "outlinewidth": 0,
              "ticks": ""
             }
            },
            "type": "scatterpolargl"
           }
          ],
          "scatterternary": [
           {
            "marker": {
             "colorbar": {
              "outlinewidth": 0,
              "ticks": ""
             }
            },
            "type": "scatterternary"
           }
          ],
          "surface": [
           {
            "colorbar": {
             "outlinewidth": 0,
             "ticks": ""
            },
            "colorscale": [
             [
              0,
              "#0d0887"
             ],
             [
              0.1111111111111111,
              "#46039f"
             ],
             [
              0.2222222222222222,
              "#7201a8"
             ],
             [
              0.3333333333333333,
              "#9c179e"
             ],
             [
              0.4444444444444444,
              "#bd3786"
             ],
             [
              0.5555555555555556,
              "#d8576b"
             ],
             [
              0.6666666666666666,
              "#ed7953"
             ],
             [
              0.7777777777777778,
              "#fb9f3a"
             ],
             [
              0.8888888888888888,
              "#fdca26"
             ],
             [
              1,
              "#f0f921"
             ]
            ],
            "type": "surface"
           }
          ],
          "table": [
           {
            "cells": {
             "fill": {
              "color": "#EBF0F8"
             },
             "line": {
              "color": "white"
             }
            },
            "header": {
             "fill": {
              "color": "#C8D4E3"
             },
             "line": {
              "color": "white"
             }
            },
            "type": "table"
           }
          ]
         },
         "layout": {
          "annotationdefaults": {
           "arrowcolor": "#2a3f5f",
           "arrowhead": 0,
           "arrowwidth": 1
          },
          "autotypenumbers": "strict",
          "coloraxis": {
           "colorbar": {
            "outlinewidth": 0,
            "ticks": ""
           }
          },
          "colorscale": {
           "diverging": [
            [
             0,
             "#8e0152"
            ],
            [
             0.1,
             "#c51b7d"
            ],
            [
             0.2,
             "#de77ae"
            ],
            [
             0.3,
             "#f1b6da"
            ],
            [
             0.4,
             "#fde0ef"
            ],
            [
             0.5,
             "#f7f7f7"
            ],
            [
             0.6,
             "#e6f5d0"
            ],
            [
             0.7,
             "#b8e186"
            ],
            [
             0.8,
             "#7fbc41"
            ],
            [
             0.9,
             "#4d9221"
            ],
            [
             1,
             "#276419"
            ]
           ],
           "sequential": [
            [
             0,
             "#0d0887"
            ],
            [
             0.1111111111111111,
             "#46039f"
            ],
            [
             0.2222222222222222,
             "#7201a8"
            ],
            [
             0.3333333333333333,
             "#9c179e"
            ],
            [
             0.4444444444444444,
             "#bd3786"
            ],
            [
             0.5555555555555556,
             "#d8576b"
            ],
            [
             0.6666666666666666,
             "#ed7953"
            ],
            [
             0.7777777777777778,
             "#fb9f3a"
            ],
            [
             0.8888888888888888,
             "#fdca26"
            ],
            [
             1,
             "#f0f921"
            ]
           ],
           "sequentialminus": [
            [
             0,
             "#0d0887"
            ],
            [
             0.1111111111111111,
             "#46039f"
            ],
            [
             0.2222222222222222,
             "#7201a8"
            ],
            [
             0.3333333333333333,
             "#9c179e"
            ],
            [
             0.4444444444444444,
             "#bd3786"
            ],
            [
             0.5555555555555556,
             "#d8576b"
            ],
            [
             0.6666666666666666,
             "#ed7953"
            ],
            [
             0.7777777777777778,
             "#fb9f3a"
            ],
            [
             0.8888888888888888,
             "#fdca26"
            ],
            [
             1,
             "#f0f921"
            ]
           ]
          },
          "colorway": [
           "#636efa",
           "#EF553B",
           "#00cc96",
           "#ab63fa",
           "#FFA15A",
           "#19d3f3",
           "#FF6692",
           "#B6E880",
           "#FF97FF",
           "#FECB52"
          ],
          "font": {
           "color": "#2a3f5f"
          },
          "geo": {
           "bgcolor": "white",
           "lakecolor": "white",
           "landcolor": "#E5ECF6",
           "showlakes": true,
           "showland": true,
           "subunitcolor": "white"
          },
          "hoverlabel": {
           "align": "left"
          },
          "hovermode": "closest",
          "mapbox": {
           "style": "light"
          },
          "paper_bgcolor": "white",
          "plot_bgcolor": "#E5ECF6",
          "polar": {
           "angularaxis": {
            "gridcolor": "white",
            "linecolor": "white",
            "ticks": ""
           },
           "bgcolor": "#E5ECF6",
           "radialaxis": {
            "gridcolor": "white",
            "linecolor": "white",
            "ticks": ""
           }
          },
          "scene": {
           "xaxis": {
            "backgroundcolor": "#E5ECF6",
            "gridcolor": "white",
            "gridwidth": 2,
            "linecolor": "white",
            "showbackground": true,
            "ticks": "",
            "zerolinecolor": "white"
           },
           "yaxis": {
            "backgroundcolor": "#E5ECF6",
            "gridcolor": "white",
            "gridwidth": 2,
            "linecolor": "white",
            "showbackground": true,
            "ticks": "",
            "zerolinecolor": "white"
           },
           "zaxis": {
            "backgroundcolor": "#E5ECF6",
            "gridcolor": "white",
            "gridwidth": 2,
            "linecolor": "white",
            "showbackground": true,
            "ticks": "",
            "zerolinecolor": "white"
           }
          },
          "shapedefaults": {
           "line": {
            "color": "#2a3f5f"
           }
          },
          "ternary": {
           "aaxis": {
            "gridcolor": "white",
            "linecolor": "white",
            "ticks": ""
           },
           "baxis": {
            "gridcolor": "white",
            "linecolor": "white",
            "ticks": ""
           },
           "bgcolor": "#E5ECF6",
           "caxis": {
            "gridcolor": "white",
            "linecolor": "white",
            "ticks": ""
           }
          },
          "title": {
           "x": 0.05
          },
          "xaxis": {
           "automargin": true,
           "gridcolor": "white",
           "linecolor": "white",
           "ticks": "",
           "title": {
            "standoff": 15
           },
           "zerolinecolor": "white",
           "zerolinewidth": 2
          },
          "yaxis": {
           "automargin": true,
           "gridcolor": "white",
           "linecolor": "white",
           "ticks": "",
           "title": {
            "standoff": 15
           },
           "zerolinecolor": "white",
           "zerolinewidth": 2
          }
         }
        },
        "title": {
         "text": "Updating Parameter CES Predictions, 2024-10-19"
        },
        "xaxis": {
         "autorange": true,
         "range": [
          "2022-02-05",
          "2025-05-17"
         ],
         "title": {
          "text": "Date"
         },
         "type": "date"
        },
        "yaxis": {
         "autorange": true,
         "range": [
          -5011.44433119032,
          57226.91812269423
         ],
         "title": {
          "text": "Count"
         },
         "type": "linear"
        }
       }
      },
      "image/png": "[encoded data removed]",
      "text/html": [
       "<div>                            <div id=\"0edcd569-0474-4437-8f5d-d626ff4ac45f\" class=\"plotly-graph-div\" style=\"height:525px; width:100%;\"></div>            <script type=\"text/javascript\">                require([\"plotly\"], function(Plotly) {                    window.PLOTLYENV=window.PLOTLYENV || {};                                    if (document.getElementById(\"0edcd569-0474-4437-8f5d-d626ff4ac45f\")) {                    Plotly.newPlot(                        \"0edcd569-0474-4437-8f5d-d626ff4ac45f\",                        [{\"mode\":\"lines\",\"name\":\"Real Data\",\"x\":[\"2022-02-05T00:00:00\",\"2022-02-12T00:00:00\",\"2022-02-19T00:00:00\",\"2022-02-26T00:00:00\",\"2022-03-05T00:00:00\",\"2022-03-12T00:00:00\",\"2022-03-19T00:00:00\",\"2022-03-26T00:00:00\",\"2022-04-02T00:00:00\",\"2022-04-09T00:00:00\",\"2022-04-16T00:00:00\",\"2022-04-23T00:00:00\",\"2022-04-30T00:00:00\",\"2022-05-07T00:00:00\",\"2022-05-14T00:00:00\",\"2022-05-21T00:00:00\",\"2022-05-28T00:00:00\",\"2022-06-04T00:00:00\",\"2022-06-11T00:00:00\",\"2022-06-18T00:00:00\",\"2022-06-25T00:00:00\",\"2022-07-02T00:00:00\",\"2022-07-09T00:00:00\",\"2022-07-16T00:00:00\",\"2022-07-23T00:00:00\",\"2022-07-30T00:00:00\",\"2022-08-06T00:00:00\",\"2022-08-13T00:00:00\",\"2022-08-20T00:00:00\",\"2022-08-27T00:00:00\",\"2022-09-03T00:00:00\",\"2022-09-10T00:00:00\",\"2022-09-17T00:00:00\",\"2022-09-24T00:00:00\",\"2022-10-01T00:00:00\",\"2022-10-08T00:00:00\",\"2022-10-15T00:00:00\",\"2022-10-22T00:00:00\",\"2022-10-29T00:00:00\",\"2022-11-05T00:00:00\",\"2022-11-12T00:00:00\",\"2022-11-19T00:00:00\",\"2022-11-26T00:00:00\",\"2022-12-03T00:00:00\",\"2022-12-10T00:00:00\",\"2022-12-17T00:00:00\",\"2022-12-24T00:00:00\",\"2022-12-31T00:00:00\",\"2023-01-07T00:00:00\",\"2023-01-14T00:00:00\",\"2023-01-21T00:00:00\",\"2023-01-28T00:00:00\",\"2023-02-04T00:00:00\",\"2023-02-11T00:00:00\",\"2023-02-18T00:00:00\",\"2023-02-25T00:00:00\",\"2023-03-04T00:00:00\",\"2023-03-11T00:00:00\",\"2023-03-18T00:00:00\",\"2023-03-25T00:00:00\",\"2023-04-01T00:00:00\",\"2023-04-08T00:00:00\",\"2023-04-15T00:00:00\",\"2023-04-22T00:00:00\",\"2023-04-29T00:00:00\",\"2023-05-06T00:00:00\",\"2023-05-13T00:00:00\",\"2023-05-20T00:00:00\",\"2023-05-27T00:00:00\",\"2023-06-03T00:00:00\",\"2023-06-10T00:00:00\",\"2023-06-17T00:00:00\",\"2023-06-24T00:00:00\",\"2023-07-01T00:00:00\",\"2023-07-08T00:00:00\",\"2023-07-15T00:00:00\",\"2023-07-22T00:00:00\",\"2023-07-29T00:00:00\",\"2023-08-05T00:00:00\",\"2023-08-12T00:00:00\",\"2023-08-19T00:00:00\",\"2023-08-26T00:00:00\",\"2023-09-02T00:00:00\",\"2023-09-09T00:00:00\",\"2023-09-16T00:00:00\",\"2023-09-23T00:00:00\",\"2023-09-30T00:00:00\",\"2023-10-07T00:00:00\",\"2023-10-14T00:00:00\",\"2023-10-21T00:00:00\",\"2023-10-28T00:00:00\",\"2023-11-04T00:00:00\",\"2023-11-11T00:00:00\",\"2023-11-18T00:00:00\",\"2023-11-25T00:00:00\",\"2023-12-02T00:00:00\",\"2023-12-09T00:00:00\",\"2023-12-16T00:00:00\",\"2023-12-23T00:00:00\",\"2023-12-30T00:00:00\",\"2024-01-06T00:00:00\",\"2024-01-13T00:00:00\",\"2024-01-20T00:00:00\",\"2024-01-27T00:00:00\",\"2024-02-03T00:00:00\",\"2024-02-10T00:00:00\",\"2024-02-17T00:00:00\",\"2024-02-24T00:00:00\",\"2024-03-02T00:00:00\",\"2024-03-09T00:00:00\",\"2024-03-16T00:00:00\",\"2024-03-23T00:00:00\",\"2024-03-30T00:00:00\",\"2024-04-06T00:00:00\",\"2024-04-13T00:00:00\",\"2024-04-20T00:00:00\",\"2024-04-27T00:00:00\",\"2024-05-04T00:00:00\",\"2024-05-11T00:00:00\",\"2024-05-18T00:00:00\",\"2024-05-25T00:00:00\",\"2024-06-01T00:00:00\",\"2024-06-08T00:00:00\",\"2024-06-15T00:00:00\",\"2024-06-22T00:00:00\",\"2024-06-29T00:00:00\",\"2024-07-06T00:00:00\",\"2024-07-13T00:00:00\",\"2024-07-20T00:00:00\",\"2024-07-27T00:00:00\",\"2024-08-03T00:00:00\",\"2024-08-10T00:00:00\",\"2024-08-17T00:00:00\",\"2024-08-24T00:00:00\",\"2024-08-31T00:00:00\",\"2024-09-07T00:00:00\",\"2024-09-14T00:00:00\",\"2024-09-21T00:00:00\",\"2024-09-28T00:00:00\",\"2024-10-05T00:00:00\",\"2024-10-12T00:00:00\",\"2024-10-19T00:00:00\",\"2024-10-26T00:00:00\",\"2024-11-02T00:00:00\",\"2024-11-09T00:00:00\",\"2024-11-16T00:00:00\",\"2024-11-23T00:00:00\",\"2024-11-30T00:00:00\",\"2024-12-07T00:00:00\",\"2024-12-14T00:00:00\",\"2024-12-21T00:00:00\",\"2024-12-28T00:00:00\",\"2025-01-04T00:00:00\",\"2025-01-11T00:00:00\",\"2025-01-18T00:00:00\",\"2025-01-25T00:00:00\",\"2025-02-01T00:00:00\",\"2025-02-08T00:00:00\",\"2025-02-15T00:00:00\",\"2025-02-22T00:00:00\",\"2025-03-01T00:00:00\",\"2025-03-08T00:00:00\",\"2025-03-15T00:00:00\",\"2025-03-22T00:00:00\",\"2025-03-29T00:00:00\",\"2025-04-05T00:00:00\",\"2025-04-12T00:00:00\",\"2025-04-19T00:00:00\",\"2025-04-26T00:00:00\",\"2025-05-03T00:00:00\",\"2025-05-10T00:00:00\",\"2025-05-17T00:00:00\"],\"y\":[1091.0,1162.0,1491.0,1603.0,1791.0,2094.0,2622.0,2917.0,3000.0,3135.0,3297.0,3468.0,3179.0,3172.0,3117.0,3130.0,2737.0,2676.0,2202.0,1775.0,1366.0,1073.0,776.0,766.0,627.0,522.0,486.0,490.0,483.0,483.0,545.0,576.0,665.0,796.0,921.0,1306.0,1670.0,2273.0,4181.0,6401.0,8589.0,10969.0,18173.0,26829.0,24035.0,21607.0,19624.0,19474.0,14074.0,7183.0,4488.0,3091.0,2594.0,2176.0,1908.0,1647.0,1501.0,1372.0,1415.0,1330.0,1295.0,1198.0,1077.0,980.0,903.0,994.0,978.0,1116.0,974.0,939.0,935.0,873.0,813.0,836.0,699.0,736.0,645.0,769.0,690.0,705.0,738.0,792.0,875.0,803.0,821.0,881.0,1026.0,1108.0,1214.0,1469.0,1614.0,2012.0,2775.0,3491.0,4386.0,5954.0,7495.0,10269.0,15717.0,21682.0,19548.0,15902.0,13302.0,13025.0,11963.0,11629.0,11126.0,10869.0,10814.0,9416.0,7324.0,6049.0,5574.0,5071.0,4073.0,2943.0,2420.0,1485.0,852.0,681.0,610.0,590.0,511.0,517.0,441.0,356.0,341.0,367.0,324.0,273.0,275.0,275.0,273.0,274.0,259.0,223.0,319.0,293.0,223.0,286.0,288.0,552.0,1079.0,975.0,2076.0,2529.0,3089.0,4278.0,6286.0,9152.0,15399.0,27651.0,38672.0,30698.0,32963.0,40566.0,51141.0,54115.0,46036.0,37647.0,30753.0,23970.0,18369.0,13620.0,9664.0,6683.0,4863.0,3818.0,3213.0,2434.0,2078.0,1636.0],\"type\":\"scatter\"},{\"line\":{\"color\":\"#414487\"},\"mode\":\"lines\",\"name\":\"CES-hi-80\",\"x\":[\"2024-10-26T00:00:00\",\"2024-11-02T00:00:00\",\"2024-11-09T00:00:00\",\"2024-11-16T00:00:00\"],\"y\":[3509.1976074218755,4651.893505859376,5882.900488281251,7285.476464843751],\"type\":\"scatter\"},{\"line\":{\"color\":\"#1e9c89\"},\"mode\":\"lines\",\"name\":\"CES-hi-95\",\"x\":[\"2024-10-26T00:00:00\",\"2024-11-02T00:00:00\",\"2024-11-09T00:00:00\",\"2024-11-16T00:00:00\"],\"y\":[4606.908410644529,5815.742468261714,6963.5022583007785,8357.77197265625],\"type\":\"scatter\"},{\"fill\":\"tonexty\",\"fillcolor\":\"#1e9c89\",\"line\":{\"color\":\"#1e9c89\"},\"mode\":\"lines\",\"name\":\"CES-lo-95\",\"x\":[\"2024-10-26T00:00:00\",\"2024-11-02T00:00:00\",\"2024-11-09T00:00:00\",\"2024-11-16T00:00:00\"],\"y\":[-1899.5262084960925,-748.4673553466794,732.5204421997082,2188.733190917969],\"type\":\"scatter\"},{\"fill\":\"tonexty\",\"fillcolor\":\"#414487\",\"line\":{\"color\":\"#414487\"},\"mode\":\"lines\",\"name\":\"CES-lo-80\",\"x\":[\"2024-10-26T00:00:00\",\"2024-11-02T00:00:00\",\"2024-11-09T00:00:00\",\"2024-11-16T00:00:00\"],\"y\":[-774.4422363281255,405.2789611816405,1798.8863159179687,3244.9744873046875],\"type\":\"scatter\"},{\"line\":{\"color\":\"#2c728e\"},\"mode\":\"lines\",\"name\":\"CES\",\"x\":[\"2024-10-26T00:00:00\",\"2024-11-02T00:00:00\",\"2024-11-09T00:00:00\",\"2024-11-16T00:00:00\"],\"y\":[1366.222412109375,2543.9927368164062,3864.6504516601562,5287.44482421875],\"type\":\"scatter\"}],                        {\"template\":{\"data\":{\"histogram2dcontour\":[{\"type\":\"histogram2dcontour\",\"colorbar\":{\"outlinewidth\":0,\"ticks\":\"\"},\"colorscale\":[[0.0,\"#0d0887\"],[0.1111111111111111,\"#46039f\"],[0.2222222222222222,\"#7201a8\"],[0.3333333333333333,\"#9c179e\"],[0.4444444444444444,\"#bd3786\"],[0.5555555555555556,\"#d8576b\"],[0.6666666666666666,\"#ed7953\"],[0.7777777777777778,\"#fb9f3a\"],[0.8888888888888888,\"#fdca26\"],[1.0,\"#f0f921\"]]}],\"choropleth\":[{\"type\":\"choropleth\",\"colorbar\":{\"outlinewidth\":0,\"ticks\":\"\"}}],\"histogram2d\":[{\"type\":\"histogram2d\",\"colorbar\":{\"outlinewidth\":0,\"ticks\":\"\"},\"colorscale\":[[0.0,\"#0d0887\"],[0.1111111111111111,\"#46039f\"],[0.2222222222222222,\"#7201a8\"],[0.3333333333333333,\"#9c179e\"],[0.4444444444444444,\"#bd3786\"],[0.5555555555555556,\"#d8576b\"],[0.6666666666666666,\"#ed7953\"],[0.7777777777777778,\"#fb9f3a\"],[0.8888888888888888,\"#fdca26\"],[1.0,\"#f0f921\"]]}],\"heatmap\":[{\"type\":\"heatmap\",\"colorbar\":{\"outlinewidth\":0,\"ticks\":\"\"},\"colorscale\":[[0.0,\"#0d0887\"],[0.1111111111111111,\"#46039f\"],[0.2222222222222222,\"#7201a8\"],[0.3333333333333333,\"#9c179e\"],[0.4444444444444444,\"#bd3786\"],[0.5555555555555556,\"#d8576b\"],[0.6666666666666666,\"#ed7953\"],[0.7777777777777778,\"#fb9f3a\"],[0.8888888888888888,\"#fdca26\"],[1.0,\"#f0f921\"]]}],\"heatmapgl\":[{\"type\":\"heatmapgl\",\"colorbar\":{\"outlinewidth\":0,\"ticks\":\"\"},\"colorscale\":[[0.0,\"#0d0887\"],[0.1111111111111111,\"#46039f\"],[0.2222222222222222,\"#7201a8\"],[0.3333333333333333,\"#9c179e\"],[0.4444444444444444,\"#bd3786\"],[0.5555555555555556,\"#d8576b\"],[0.6666666666666666,\"#ed7953\"],[0.7777777777777778,\"#fb9f3a\"],[0.8888888888888888,\"#fdca26\"],[1.0,\"#f0f921\"]]}],\"contourcarpet\":[{\"type\":\"contourcarpet\",\"colorbar\":{\"outlinewidth\":0,\"ticks\":\"\"}}],\"contour\":[{\"type\":\"contour\",\"colorbar\":{\"outlinewidth\":0,\"ticks\":\"\"},\"colorscale\":[[0.0,\"#0d0887\"],[0.1111111111111111,\"#46039f\"],[0.2222222222222222,\"#7201a8\"],[0.3333333333333333,\"#9c179e\"],[0.4444444444444444,\"#bd3786\"],[0.5555555555555556,\"#d8576b\"],[0.6666666666666666,\"#ed7953\"],[0.7777777777777778,\"#fb9f3a\"],[0.8888888888888888,\"#fdca26\"],[1.0,\"#f0f921\"]]}],\"surface\":[{\"type\":\"surface\",\"colorbar\":{\"outlinewidth\":0,\"ticks\":\"\"},\"colorscale\":[[0.0,\"#0d0887\"],[0.1111111111111111,\"#46039f\"],[0.2222222222222222,\"#7201a8\"],[0.3333333333333333,\"#9c179e\"],[0.4444444444444444,\"#bd3786\"],[0.5555555555555556,\"#d8576b\"],[0.6666666666666666,\"#ed7953\"],[0.7777777777777778,\"#fb9f3a\"],[0.8888888888888888,\"#fdca26\"],[1.0,\"#f0f921\"]]}],\"mesh3d\":[{\"type\":\"mesh3d\",\"colorbar\":{\"outlinewidth\":0,\"ticks\":\"\"}}],\"scatter\":[{\"fillpattern\":{\"fillmode\":\"overlay\",\"size\":10,\"solidity\":0.2},\"type\":\"scatter\"}],\"parcoords\":[{\"type\":\"parcoords\",\"line\":{\"colorbar\":{\"outlinewidth\":0,\"ticks\":\"\"}}}],\"scatterpolargl\":[{\"type\":\"scatterpolargl\",\"marker\":{\"colorbar\":{\"outlinewidth\":0,\"ticks\":\"\"}}}],\"bar\":[{\"error_x\":{\"color\":\"#2a3f5f\"},\"error_y\":{\"color\":\"#2a3f5f\"},\"marker\":{\"line\":{\"color\":\"#E5ECF6\",\"width\":0.5},\"pattern\":{\"fillmode\":\"overlay\",\"size\":10,\"solidity\":0.2}},\"type\":\"bar\"}],\"scattergeo\":[{\"type\":\"scattergeo\",\"marker\":{\"colorbar\":{\"outlinewidth\":0,\"ticks\":\"\"}}}],\"scatterpolar\":[{\"type\":\"scatterpolar\",\"marker\":{\"colorbar\":{\"outlinewidth\":0,\"ticks\":\"\"}}}],\"histogram\":[{\"marker\":{\"pattern\":{\"fillmode\":\"overlay\",\"size\":10,\"solidity\":0.2}},\"type\":\"histogram\"}],\"scattergl\":[{\"type\":\"scattergl\",\"marker\":{\"colorbar\":{\"outlinewidth\":0,\"ticks\":\"\"}}}],\"scatter3d\":[{\"type\":\"scatter3d\",\"line\":{\"colorbar\":{\"outlinewidth\":0,\"ticks\":\"\"}},\"marker\":{\"colorbar\":{\"outlinewidth\":0,\"ticks\":\"\"}}}],\"scattermapbox\":[{\"type\":\"scattermapbox\",\"marker\":{\"colorbar\":{\"outlinewidth\":0,\"ticks\":\"\"}}}],\"scatterternary\":[{\"type\":\"scatterternary\",\"marker\":{\"colorbar\":{\"outlinewidth\":0,\"ticks\":\"\"}}}],\"scattercarpet\":[{\"type\":\"scattercarpet\",\"marker\":{\"colorbar\":{\"outlinewidth\":0,\"ticks\":\"\"}}}],\"carpet\":[{\"aaxis\":{\"endlinecolor\":\"#2a3f5f\",\"gridcolor\":\"white\",\"linecolor\":\"white\",\"minorgridcolor\":\"white\",\"startlinecolor\":\"#2a3f5f\"},\"baxis\":{\"endlinecolor\":\"#2a3f5f\",\"gridcolor\":\"white\",\"linecolor\":\"white\",\"minorgridcolor\":\"white\",\"startlinecolor\":\"#2a3f5f\"},\"type\":\"carpet\"}],\"table\":[{\"cells\":{\"fill\":{\"color\":\"#EBF0F8\"},\"line\":{\"color\":\"white\"}},\"header\":{\"fill\":{\"color\":\"#C8D4E3\"},\"line\":{\"color\":\"white\"}},\"type\":\"table\"}],\"barpolar\":[{\"marker\":{\"line\":{\"color\":\"#E5ECF6\",\"width\":0.5},\"pattern\":{\"fillmode\":\"overlay\",\"size\":10,\"solidity\":0.2}},\"type\":\"barpolar\"}],\"pie\":[{\"automargin\":true,\"type\":\"pie\"}]},\"layout\":{\"autotypenumbers\":\"strict\",\"colorway\":[\"#636efa\",\"#EF553B\",\"#00cc96\",\"#ab63fa\",\"#FFA15A\",\"#19d3f3\",\"#FF6692\",\"#B6E880\",\"#FF97FF\",\"#FECB52\"],\"font\":{\"color\":\"#2a3f5f\"},\"hovermode\":\"closest\",\"hoverlabel\":{\"align\":\"left\"},\"paper_bgcolor\":\"white\",\"plot_bgcolor\":\"#E5ECF6\",\"polar\":{\"bgcolor\":\"#E5ECF6\",\"angularaxis\":{\"gridcolor\":\"white\",\"linecolor\":\"white\",\"ticks\":\"\"},\"radialaxis\":{\"gridcolor\":\"white\",\"linecolor\":\"white\",\"ticks\":\"\"}},\"ternary\":{\"bgcolor\":\"#E5ECF6\",\"aaxis\":{\"gridcolor\":\"white\",\"linecolor\":\"white\",\"ticks\":\"\"},\"baxis\":{\"gridcolor\":\"white\",\"linecolor\":\"white\",\"ticks\":\"\"},\"caxis\":{\"gridcolor\":\"white\",\"linecolor\":\"white\",\"ticks\":\"\"}},\"coloraxis\":{\"colorbar\":{\"outlinewidth\":0,\"ticks\":\"\"}},\"colorscale\":{\"sequential\":[[0.0,\"#0d0887\"],[0.1111111111111111,\"#46039f\"],[0.2222222222222222,\"#7201a8\"],[0.3333333333333333,\"#9c179e\"],[0.4444444444444444,\"#bd3786\"],[0.5555555555555556,\"#d8576b\"],[0.6666666666666666,\"#ed7953\"],[0.7777777777777778,\"#fb9f3a\"],[0.8888888888888888,\"#fdca26\"],[1.0,\"#f0f921\"]],\"sequentialminus\":[[0.0,\"#0d0887\"],[0.1111111111111111,\"#46039f\"],[0.2222222222222222,\"#7201a8\"],[0.3333333333333333,\"#9c179e\"],[0.4444444444444444,\"#bd3786\"],[0.5555555555555556,\"#d8576b\"],[0.6666666666666666,\"#ed7953\"],[0.7777777777777778,\"#fb9f3a\"],[0.8888888888888888,\"#fdca26\"],[1.0,\"#f0f921\"]],\"diverging\":[[0,\"#8e0152\"],[0.1,\"#c51b7d\"],[0.2,\"#de77ae\"],[0.3,\"#f1b6da\"],[0.4,\"#fde0ef\"],[0.5,\"#f7f7f7\"],[0.6,\"#e6f5d0\"],[0.7,\"#b8e186\"],[0.8,\"#7fbc41\"],[0.9,\"#4d9221\"],[1,\"#276419\"]]},\"xaxis\":{\"gridcolor\":\"white\",\"linecolor\":\"white\",\"ticks\":\"\",\"title\":{\"standoff\":15},\"zerolinecolor\":\"white\",\"automargin\":true,\"zerolinewidth\":2},\"yaxis\":{\"gridcolor\":\"white\",\"linecolor\":\"white\",\"ticks\":\"\",\"title\":{\"standoff\":15},\"zerolinecolor\":\"white\",\"automargin\":true,\"zerolinewidth\":2},\"scene\":{\"xaxis\":{\"backgroundcolor\":\"#E5ECF6\",\"gridcolor\":\"white\",\"linecolor\":\"white\",\"showbackground\":true,\"ticks\":\"\",\"zerolinecolor\":\"white\",\"gridwidth\":2},\"yaxis\":{\"backgroundcolor\":\"#E5ECF6\",\"gridcolor\":\"white\",\"linecolor\":\"white\",\"showbackground\":true,\"ticks\":\"\",\"zerolinecolor\":\"white\",\"gridwidth\":2},\"zaxis\":{\"backgroundcolor\":\"#E5ECF6\",\"gridcolor\":\"white\",\"linecolor\":\"white\",\"showbackground\":true,\"ticks\":\"\",\"zerolinecolor\":\"white\",\"gridwidth\":2}},\"shapedefaults\":{\"line\":{\"color\":\"#2a3f5f\"}},\"annotationdefaults\":{\"arrowcolor\":\"#2a3f5f\",\"arrowhead\":0,\"arrowwidth\":1},\"geo\":{\"bgcolor\":\"white\",\"landcolor\":\"#E5ECF6\",\"subunitcolor\":\"white\",\"showland\":true,\"showlakes\":true,\"lakecolor\":\"white\"},\"title\":{\"x\":0.05},\"mapbox\":{\"style\":\"light\"}}},\"title\":{\"text\":\"Updating Parameter CES Predictions, 2024-10-19\"},\"xaxis\":{\"title\":{\"text\":\"Date\"}},\"yaxis\":{\"title\":{\"text\":\"Count\"}},\"hovermode\":\"x\"},                        {\"responsive\": true}                    ).then(function(){\n",
       "                            \n",
       "var gd = document.getElementById('0edcd569-0474-4437-8f5d-d626ff4ac45f');\n",
       "var x = new MutationObserver(function (mutations, observer) {{\n",
       "        var display = window.getComputedStyle(gd).display;\n",
       "        if (!display || display === 'none') {{\n",
       "            console.log([gd, 'removed!']);\n",
       "            Plotly.purge(gd);\n",
       "            observer.disconnect();\n",
       "        }}\n",
       "}});\n",
       "\n",
       "// Listen for the removal of the full notebook cells\n",
       "var notebookContainer = gd.closest('#notebook-container');\n",
       "if (notebookContainer) {{\n",
       "    x.observe(notebookContainer, {childList: true});\n",
       "}}\n",
       "\n",
       "// Listen for the clearing of the current output cell\n",
       "var outputEl = gd.closest('.output');\n",
       "if (outputEl) {{\n",
       "    x.observe(outputEl, {childList: true});\n",
       "}}\n",
       "\n",
       "                        })                };                });            </script>        </div>"
      ]
     },
     "metadata": {},
     "output_type": "display_data"
    },
    {
     "data": {
      "application/vnd.plotly.v1+json": {
       "config": {
        "plotlyServerURL": "https://plot.ly"
       },
       "data": [
        {
         "mode": "lines",
         "name": "Real Data",
         "type": "scatter",
         "x": [
          "2022-02-05T00:00:00",
          "2022-02-12T00:00:00",
          "2022-02-19T00:00:00",
          "2022-02-26T00:00:00",
          "2022-03-05T00:00:00",
          "2022-03-12T00:00:00",
          "2022-03-19T00:00:00",
          "2022-03-26T00:00:00",
          "2022-04-02T00:00:00",
          "2022-04-09T00:00:00",
          "2022-04-16T00:00:00",
          "2022-04-23T00:00:00",
          "2022-04-30T00:00:00",
          "2022-05-07T00:00:00",
          "2022-05-14T00:00:00",
          "2022-05-21T00:00:00",
          "2022-05-28T00:00:00",
          "2022-06-04T00:00:00",
          "2022-06-11T00:00:00",
          "2022-06-18T00:00:00",
          "2022-06-25T00:00:00",
          "2022-07-02T00:00:00",
          "2022-07-09T00:00:00",
          "2022-07-16T00:00:00",
          "2022-07-23T00:00:00",
          "2022-07-30T00:00:00",
          "2022-08-06T00:00:00",
          "2022-08-13T00:00:00",
          "2022-08-20T00:00:00",
          "2022-08-27T00:00:00",
          "2022-09-03T00:00:00",
          "2022-09-10T00:00:00",
          "2022-09-17T00:00:00",
          "2022-09-24T00:00:00",
          "2022-10-01T00:00:00",
          "2022-10-08T00:00:00",
          "2022-10-15T00:00:00",
          "2022-10-22T00:00:00",
          "2022-10-29T00:00:00",
          "2022-11-05T00:00:00",
          "2022-11-12T00:00:00",
          "2022-11-19T00:00:00",
          "2022-11-26T00:00:00",
          "2022-12-03T00:00:00",
          "2022-12-10T00:00:00",
          "2022-12-17T00:00:00",
          "2022-12-24T00:00:00",
          "2022-12-31T00:00:00",
          "2023-01-07T00:00:00",
          "2023-01-14T00:00:00",
          "2023-01-21T00:00:00",
          "2023-01-28T00:00:00",
          "2023-02-04T00:00:00",
          "2023-02-11T00:00:00",
          "2023-02-18T00:00:00",
          "2023-02-25T00:00:00",
          "2023-03-04T00:00:00",
          "2023-03-11T00:00:00",
          "2023-03-18T00:00:00",
          "2023-03-25T00:00:00",
          "2023-04-01T00:00:00",
          "2023-04-08T00:00:00",
          "2023-04-15T00:00:00",
          "2023-04-22T00:00:00",
          "2023-04-29T00:00:00",
          "2023-05-06T00:00:00",
          "2023-05-13T00:00:00",
          "2023-05-20T00:00:00",
          "2023-05-27T00:00:00",
          "2023-06-03T00:00:00",
          "2023-06-10T00:00:00",
          "2023-06-17T00:00:00",
          "2023-06-24T00:00:00",
          "2023-07-01T00:00:00",
          "2023-07-08T00:00:00",
          "2023-07-15T00:00:00",
          "2023-07-22T00:00:00",
          "2023-07-29T00:00:00",
          "2023-08-05T00:00:00",
          "2023-08-12T00:00:00",
          "2023-08-19T00:00:00",
          "2023-08-26T00:00:00",
          "2023-09-02T00:00:00",
          "2023-09-09T00:00:00",
          "2023-09-16T00:00:00",
          "2023-09-23T00:00:00",
          "2023-09-30T00:00:00",
          "2023-10-07T00:00:00",
          "2023-10-14T00:00:00",
          "2023-10-21T00:00:00",
          "2023-10-28T00:00:00",
          "2023-11-04T00:00:00",
          "2023-11-11T00:00:00",
          "2023-11-18T00:00:00",
          "2023-11-25T00:00:00",
          "2023-12-02T00:00:00",
          "2023-12-09T00:00:00",
          "2023-12-16T00:00:00",
          "2023-12-23T00:00:00",
          "2023-12-30T00:00:00",
          "2024-01-06T00:00:00",
          "2024-01-13T00:00:00",
          "2024-01-20T00:00:00",
          "2024-01-27T00:00:00",
          "2024-02-03T00:00:00",
          "2024-02-10T00:00:00",
          "2024-02-17T00:00:00",
          "2024-02-24T00:00:00",
          "2024-03-02T00:00:00",
          "2024-03-09T00:00:00",
          "2024-03-16T00:00:00",
          "2024-03-23T00:00:00",
          "2024-03-30T00:00:00",
          "2024-04-06T00:00:00",
          "2024-04-13T00:00:00",
          "2024-04-20T00:00:00",
          "2024-04-27T00:00:00",
          "2024-05-04T00:00:00",
          "2024-05-11T00:00:00",
          "2024-05-18T00:00:00",
          "2024-05-25T00:00:00",
          "2024-06-01T00:00:00",
          "2024-06-08T00:00:00",
          "2024-06-15T00:00:00",
          "2024-06-22T00:00:00",
          "2024-06-29T00:00:00",
          "2024-07-06T00:00:00",
          "2024-07-13T00:00:00",
          "2024-07-20T00:00:00",
          "2024-07-27T00:00:00",
          "2024-08-03T00:00:00",
          "2024-08-10T00:00:00",
          "2024-08-17T00:00:00",
          "2024-08-24T00:00:00",
          "2024-08-31T00:00:00",
          "2024-09-07T00:00:00",
          "2024-09-14T00:00:00",
          "2024-09-21T00:00:00",
          "2024-09-28T00:00:00",
          "2024-10-05T00:00:00",
          "2024-10-12T00:00:00",
          "2024-10-19T00:00:00",
          "2024-10-26T00:00:00",
          "2024-11-02T00:00:00",
          "2024-11-09T00:00:00",
          "2024-11-16T00:00:00",
          "2024-11-23T00:00:00",
          "2024-11-30T00:00:00",
          "2024-12-07T00:00:00",
          "2024-12-14T00:00:00",
          "2024-12-21T00:00:00",
          "2024-12-28T00:00:00",
          "2025-01-04T00:00:00",
          "2025-01-11T00:00:00",
          "2025-01-18T00:00:00",
          "2025-01-25T00:00:00",
          "2025-02-01T00:00:00",
          "2025-02-08T00:00:00",
          "2025-02-15T00:00:00",
          "2025-02-22T00:00:00",
          "2025-03-01T00:00:00",
          "2025-03-08T00:00:00",
          "2025-03-15T00:00:00",
          "2025-03-22T00:00:00",
          "2025-03-29T00:00:00",
          "2025-04-05T00:00:00",
          "2025-04-12T00:00:00",
          "2025-04-19T00:00:00",
          "2025-04-26T00:00:00",
          "2025-05-03T00:00:00",
          "2025-05-10T00:00:00",
          "2025-05-17T00:00:00"
         ],
         "y": [
          1091,
          1162,
          1491,
          1603,
          1791,
          2094,
          2622,
          2917,
          3000,
          3135,
          3297,
          3468,
          3179,
          3172,
          3117,
          3130,
          2737,
          2676,
          2202,
          1775,
          1366,
          1073,
          776,
          766,
          627,
          522,
          486,
          490,
          483,
          483,
          545,
          576,
          665,
          796,
          921,
          1306,
          1670,
          2273,
          4181,
          6401,
          8589,
          10969,
          18173,
          26829,
          24035,
          21607,
          19624,
          19474,
          14074,
          7183,
          4488,
          3091,
          2594,
          2176,
          1908,
          1647,
          1501,
          1372,
          1415,
          1330,
          1295,
          1198,
          1077,
          980,
          903,
          994,
          978,
          1116,
          974,
          939,
          935,
          873,
          813,
          836,
          699,
          736,
          645,
          769,
          690,
          705,
          738,
          792,
          875,
          803,
          821,
          881,
          1026,
          1108,
          1214,
          1469,
          1614,
          2012,
          2775,
          3491,
          4386,
          5954,
          7495,
          10269,
          15717,
          21682,
          19548,
          15902,
          13302,
          13025,
          11963,
          11629,
          11126,
          10869,
          10814,
          9416,
          7324,
          6049,
          5574,
          5071,
          4073,
          2943,
          2420,
          1485,
          852,
          681,
          610,
          590,
          511,
          517,
          441,
          356,
          341,
          367,
          324,
          273,
          275,
          275,
          273,
          274,
          259,
          223,
          319,
          293,
          223,
          286,
          288,
          552,
          1079,
          975,
          2076,
          2529,
          3089,
          4278,
          6286,
          9152,
          15399,
          27651,
          38672,
          30698,
          32963,
          40566,
          51141,
          54115,
          46036,
          37647,
          30753,
          23970,
          18369,
          13620,
          9664,
          6683,
          4863,
          3818,
          3213,
          2434,
          2078,
          1636
         ]
        },
        {
         "line": {
          "color": "#414487"
         },
         "mode": "lines",
         "name": "CES-hi-80",
         "type": "scatter",
         "x": [
          "2024-11-09T00:00:00",
          "2024-11-16T00:00:00",
          "2024-11-23T00:00:00",
          "2024-11-30T00:00:00"
         ],
         "y": [
          4700.739550781251,
          6305.025048828126,
          10017.201367187501,
          15248.50185546875
         ]
        },
        {
         "line": {
          "color": "#1e9c89"
         },
         "mode": "lines",
         "name": "CES-hi-95",
         "type": "scatter",
         "x": [
          "2024-11-09T00:00:00",
          "2024-11-16T00:00:00",
          "2024-11-23T00:00:00",
          "2024-11-30T00:00:00"
         ],
         "y": [
          5886.410937499996,
          7530.1759765625,
          11037.9126953125,
          16328.368872070312
         ]
        },
        {
         "fill": "tonexty",
         "fillcolor": "#1e9c89",
         "line": {
          "color": "#1e9c89"
         },
         "mode": "lines",
         "name": "CES-lo-95",
         "type": "scatter",
         "x": [
          "2024-11-09T00:00:00",
          "2024-11-16T00:00:00",
          "2024-11-23T00:00:00",
          "2024-11-30T00:00:00"
         ],
         "y": [
          -719.5309051513659,
          1062.0737792968755,
          4876.5014282226575,
          10045.616918945312
         ]
        },
        {
         "fill": "tonexty",
         "fillcolor": "#414487",
         "line": {
          "color": "#414487"
         },
         "mode": "lines",
         "name": "CES-lo-80",
         "type": "scatter",
         "x": [
          "2024-11-09T00:00:00",
          "2024-11-16T00:00:00",
          "2024-11-23T00:00:00",
          "2024-11-30T00:00:00"
         ],
         "y": [
          427.55920104980447,
          2117.855126953125,
          5968.686376953125,
          11162.89833984375
         ]
        },
        {
         "line": {
          "color": "#2c728e"
         },
         "mode": "lines",
         "name": "CES",
         "type": "scatter",
         "x": [
          "2024-11-09T00:00:00",
          "2024-11-16T00:00:00",
          "2024-11-23T00:00:00",
          "2024-11-30T00:00:00"
         ],
         "y": [
          2527.0426635742188,
          4215.611083984375,
          8031.135986328125,
          13199.297485351562
         ]
        }
       ],
       "layout": {
        "autosize": true,
        "hovermode": "x",
        "template": {
         "data": {
          "bar": [
           {
            "error_x": {
             "color": "#2a3f5f"
            },
            "error_y": {
             "color": "#2a3f5f"
            },
            "marker": {
             "line": {
              "color": "#E5ECF6",
              "width": 0.5
             },
             "pattern": {
              "fillmode": "overlay",
              "size": 10,
              "solidity": 0.2
             }
            },
            "type": "bar"
           }
          ],
          "barpolar": [
           {
            "marker": {
             "line": {
              "color": "#E5ECF6",
              "width": 0.5
             },
             "pattern": {
              "fillmode": "overlay",
              "size": 10,
              "solidity": 0.2
             }
            },
            "type": "barpolar"
           }
          ],
          "carpet": [
           {
            "aaxis": {
             "endlinecolor": "#2a3f5f",
             "gridcolor": "white",
             "linecolor": "white",
             "minorgridcolor": "white",
             "startlinecolor": "#2a3f5f"
            },
            "baxis": {
             "endlinecolor": "#2a3f5f",
             "gridcolor": "white",
             "linecolor": "white",
             "minorgridcolor": "white",
             "startlinecolor": "#2a3f5f"
            },
            "type": "carpet"
           }
          ],
          "choropleth": [
           {
            "colorbar": {
             "outlinewidth": 0,
             "ticks": ""
            },
            "type": "choropleth"
           }
          ],
          "contour": [
           {
            "colorbar": {
             "outlinewidth": 0,
             "ticks": ""
            },
            "colorscale": [
             [
              0,
              "#0d0887"
             ],
             [
              0.1111111111111111,
              "#46039f"
             ],
             [
              0.2222222222222222,
              "#7201a8"
             ],
             [
              0.3333333333333333,
              "#9c179e"
             ],
             [
              0.4444444444444444,
              "#bd3786"
             ],
             [
              0.5555555555555556,
              "#d8576b"
             ],
             [
              0.6666666666666666,
              "#ed7953"
             ],
             [
              0.7777777777777778,
              "#fb9f3a"
             ],
             [
              0.8888888888888888,
              "#fdca26"
             ],
             [
              1,
              "#f0f921"
             ]
            ],
            "type": "contour"
           }
          ],
          "contourcarpet": [
           {
            "colorbar": {
             "outlinewidth": 0,
             "ticks": ""
            },
            "type": "contourcarpet"
           }
          ],
          "heatmap": [
           {
            "colorbar": {
             "outlinewidth": 0,
             "ticks": ""
            },
            "colorscale": [
             [
              0,
              "#0d0887"
             ],
             [
              0.1111111111111111,
              "#46039f"
             ],
             [
              0.2222222222222222,
              "#7201a8"
             ],
             [
              0.3333333333333333,
              "#9c179e"
             ],
             [
              0.4444444444444444,
              "#bd3786"
             ],
             [
              0.5555555555555556,
              "#d8576b"
             ],
             [
              0.6666666666666666,
              "#ed7953"
             ],
             [
              0.7777777777777778,
              "#fb9f3a"
             ],
             [
              0.8888888888888888,
              "#fdca26"
             ],
             [
              1,
              "#f0f921"
             ]
            ],
            "type": "heatmap"
           }
          ],
          "heatmapgl": [
           {
            "colorbar": {
             "outlinewidth": 0,
             "ticks": ""
            },
            "colorscale": [
             [
              0,
              "#0d0887"
             ],
             [
              0.1111111111111111,
              "#46039f"
             ],
             [
              0.2222222222222222,
              "#7201a8"
             ],
             [
              0.3333333333333333,
              "#9c179e"
             ],
             [
              0.4444444444444444,
              "#bd3786"
             ],
             [
              0.5555555555555556,
              "#d8576b"
             ],
             [
              0.6666666666666666,
              "#ed7953"
             ],
             [
              0.7777777777777778,
              "#fb9f3a"
             ],
             [
              0.8888888888888888,
              "#fdca26"
             ],
             [
              1,
              "#f0f921"
             ]
            ],
            "type": "heatmapgl"
           }
          ],
          "histogram": [
           {
            "marker": {
             "pattern": {
              "fillmode": "overlay",
              "size": 10,
              "solidity": 0.2
             }
            },
            "type": "histogram"
           }
          ],
          "histogram2d": [
           {
            "colorbar": {
             "outlinewidth": 0,
             "ticks": ""
            },
            "colorscale": [
             [
              0,
              "#0d0887"
             ],
             [
              0.1111111111111111,
              "#46039f"
             ],
             [
              0.2222222222222222,
              "#7201a8"
             ],
             [
              0.3333333333333333,
              "#9c179e"
             ],
             [
              0.4444444444444444,
              "#bd3786"
             ],
             [
              0.5555555555555556,
              "#d8576b"
             ],
             [
              0.6666666666666666,
              "#ed7953"
             ],
             [
              0.7777777777777778,
              "#fb9f3a"
             ],
             [
              0.8888888888888888,
              "#fdca26"
             ],
             [
              1,
              "#f0f921"
             ]
            ],
            "type": "histogram2d"
           }
          ],
          "histogram2dcontour": [
           {
            "colorbar": {
             "outlinewidth": 0,
             "ticks": ""
            },
            "colorscale": [
             [
              0,
              "#0d0887"
             ],
             [
              0.1111111111111111,
              "#46039f"
             ],
             [
              0.2222222222222222,
              "#7201a8"
             ],
             [
              0.3333333333333333,
              "#9c179e"
             ],
             [
              0.4444444444444444,
              "#bd3786"
             ],
             [
              0.5555555555555556,
              "#d8576b"
             ],
             [
              0.6666666666666666,
              "#ed7953"
             ],
             [
              0.7777777777777778,
              "#fb9f3a"
             ],
             [
              0.8888888888888888,
              "#fdca26"
             ],
             [
              1,
              "#f0f921"
             ]
            ],
            "type": "histogram2dcontour"
           }
          ],
          "mesh3d": [
           {
            "colorbar": {
             "outlinewidth": 0,
             "ticks": ""
            },
            "type": "mesh3d"
           }
          ],
          "parcoords": [
           {
            "line": {
             "colorbar": {
              "outlinewidth": 0,
              "ticks": ""
             }
            },
            "type": "parcoords"
           }
          ],
          "pie": [
           {
            "automargin": true,
            "type": "pie"
           }
          ],
          "scatter": [
           {
            "fillpattern": {
             "fillmode": "overlay",
             "size": 10,
             "solidity": 0.2
            },
            "type": "scatter"
           }
          ],
          "scatter3d": [
           {
            "line": {
             "colorbar": {
              "outlinewidth": 0,
              "ticks": ""
             }
            },
            "marker": {
             "colorbar": {
              "outlinewidth": 0,
              "ticks": ""
             }
            },
            "type": "scatter3d"
           }
          ],
          "scattercarpet": [
           {
            "marker": {
             "colorbar": {
              "outlinewidth": 0,
              "ticks": ""
             }
            },
            "type": "scattercarpet"
           }
          ],
          "scattergeo": [
           {
            "marker": {
             "colorbar": {
              "outlinewidth": 0,
              "ticks": ""
             }
            },
            "type": "scattergeo"
           }
          ],
          "scattergl": [
           {
            "marker": {
             "colorbar": {
              "outlinewidth": 0,
              "ticks": ""
             }
            },
            "type": "scattergl"
           }
          ],
          "scattermapbox": [
           {
            "marker": {
             "colorbar": {
              "outlinewidth": 0,
              "ticks": ""
             }
            },
            "type": "scattermapbox"
           }
          ],
          "scatterpolar": [
           {
            "marker": {
             "colorbar": {
              "outlinewidth": 0,
              "ticks": ""
             }
            },
            "type": "scatterpolar"
           }
          ],
          "scatterpolargl": [
           {
            "marker": {
             "colorbar": {
              "outlinewidth": 0,
              "ticks": ""
             }
            },
            "type": "scatterpolargl"
           }
          ],
          "scatterternary": [
           {
            "marker": {
             "colorbar": {
              "outlinewidth": 0,
              "ticks": ""
             }
            },
            "type": "scatterternary"
           }
          ],
          "surface": [
           {
            "colorbar": {
             "outlinewidth": 0,
             "ticks": ""
            },
            "colorscale": [
             [
              0,
              "#0d0887"
             ],
             [
              0.1111111111111111,
              "#46039f"
             ],
             [
              0.2222222222222222,
              "#7201a8"
             ],
             [
              0.3333333333333333,
              "#9c179e"
             ],
             [
              0.4444444444444444,
              "#bd3786"
             ],
             [
              0.5555555555555556,
              "#d8576b"
             ],
             [
              0.6666666666666666,
              "#ed7953"
             ],
             [
              0.7777777777777778,
              "#fb9f3a"
             ],
             [
              0.8888888888888888,
              "#fdca26"
             ],
             [
              1,
              "#f0f921"
             ]
            ],
            "type": "surface"
           }
          ],
          "table": [
           {
            "cells": {
             "fill": {
              "color": "#EBF0F8"
             },
             "line": {
              "color": "white"
             }
            },
            "header": {
             "fill": {
              "color": "#C8D4E3"
             },
             "line": {
              "color": "white"
             }
            },
            "type": "table"
           }
          ]
         },
         "layout": {
          "annotationdefaults": {
           "arrowcolor": "#2a3f5f",
           "arrowhead": 0,
           "arrowwidth": 1
          },
          "autotypenumbers": "strict",
          "coloraxis": {
           "colorbar": {
            "outlinewidth": 0,
            "ticks": ""
           }
          },
          "colorscale": {
           "diverging": [
            [
             0,
             "#8e0152"
            ],
            [
             0.1,
             "#c51b7d"
            ],
            [
             0.2,
             "#de77ae"
            ],
            [
             0.3,
             "#f1b6da"
            ],
            [
             0.4,
             "#fde0ef"
            ],
            [
             0.5,
             "#f7f7f7"
            ],
            [
             0.6,
             "#e6f5d0"
            ],
            [
             0.7,
             "#b8e186"
            ],
            [
             0.8,
             "#7fbc41"
            ],
            [
             0.9,
             "#4d9221"
            ],
            [
             1,
             "#276419"
            ]
           ],
           "sequential": [
            [
             0,
             "#0d0887"
            ],
            [
             0.1111111111111111,
             "#46039f"
            ],
            [
             0.2222222222222222,
             "#7201a8"
            ],
            [
             0.3333333333333333,
             "#9c179e"
            ],
            [
             0.4444444444444444,
             "#bd3786"
            ],
            [
             0.5555555555555556,
             "#d8576b"
            ],
            [
             0.6666666666666666,
             "#ed7953"
            ],
            [
             0.7777777777777778,
             "#fb9f3a"
            ],
            [
             0.8888888888888888,
             "#fdca26"
            ],
            [
             1,
             "#f0f921"
            ]
           ],
           "sequentialminus": [
            [
             0,
             "#0d0887"
            ],
            [
             0.1111111111111111,
             "#46039f"
            ],
            [
             0.2222222222222222,
             "#7201a8"
            ],
            [
             0.3333333333333333,
             "#9c179e"
            ],
            [
             0.4444444444444444,
             "#bd3786"
            ],
            [
             0.5555555555555556,
             "#d8576b"
            ],
            [
             0.6666666666666666,
             "#ed7953"
            ],
            [
             0.7777777777777778,
             "#fb9f3a"
            ],
            [
             0.8888888888888888,
             "#fdca26"
            ],
            [
             1,
             "#f0f921"
            ]
           ]
          },
          "colorway": [
           "#636efa",
           "#EF553B",
           "#00cc96",
           "#ab63fa",
           "#FFA15A",
           "#19d3f3",
           "#FF6692",
           "#B6E880",
           "#FF97FF",
           "#FECB52"
          ],
          "font": {
           "color": "#2a3f5f"
          },
          "geo": {
           "bgcolor": "white",
           "lakecolor": "white",
           "landcolor": "#E5ECF6",
           "showlakes": true,
           "showland": true,
           "subunitcolor": "white"
          },
          "hoverlabel": {
           "align": "left"
          },
          "hovermode": "closest",
          "mapbox": {
           "style": "light"
          },
          "paper_bgcolor": "white",
          "plot_bgcolor": "#E5ECF6",
          "polar": {
           "angularaxis": {
            "gridcolor": "white",
            "linecolor": "white",
            "ticks": ""
           },
           "bgcolor": "#E5ECF6",
           "radialaxis": {
            "gridcolor": "white",
            "linecolor": "white",
            "ticks": ""
           }
          },
          "scene": {
           "xaxis": {
            "backgroundcolor": "#E5ECF6",
            "gridcolor": "white",
            "gridwidth": 2,
            "linecolor": "white",
            "showbackground": true,
            "ticks": "",
            "zerolinecolor": "white"
           },
           "yaxis": {
            "backgroundcolor": "#E5ECF6",
            "gridcolor": "white",
            "gridwidth": 2,
            "linecolor": "white",
            "showbackground": true,
            "ticks": "",
            "zerolinecolor": "white"
           },
           "zaxis": {
            "backgroundcolor": "#E5ECF6",
            "gridcolor": "white",
            "gridwidth": 2,
            "linecolor": "white",
            "showbackground": true,
            "ticks": "",
            "zerolinecolor": "white"
           }
          },
          "shapedefaults": {
           "line": {
            "color": "#2a3f5f"
           }
          },
          "ternary": {
           "aaxis": {
            "gridcolor": "white",
            "linecolor": "white",
            "ticks": ""
           },
           "baxis": {
            "gridcolor": "white",
            "linecolor": "white",
            "ticks": ""
           },
           "bgcolor": "#E5ECF6",
           "caxis": {
            "gridcolor": "white",
            "linecolor": "white",
            "ticks": ""
           }
          },
          "title": {
           "x": 0.05
          },
          "xaxis": {
           "automargin": true,
           "gridcolor": "white",
           "linecolor": "white",
           "ticks": "",
           "title": {
            "standoff": 15
           },
           "zerolinecolor": "white",
           "zerolinewidth": 2
          },
          "yaxis": {
           "automargin": true,
           "gridcolor": "white",
           "linecolor": "white",
           "ticks": "",
           "title": {
            "standoff": 15
           },
           "zerolinecolor": "white",
           "zerolinewidth": 2
          }
         }
        },
        "title": {
         "text": "Updating Parameter CES Predictions, 2024-11-02"
        },
        "xaxis": {
         "autorange": true,
         "range": [
          "2022-02-05",
          "2025-05-17"
         ],
         "title": {
          "text": "Date"
         },
         "type": "date"
        },
        "yaxis": {
         "autorange": true,
         "range": [
          -3765.8937332153305,
          57161.36282806397
         ],
         "title": {
          "text": "Count"
         },
         "type": "linear"
        }
       }
      },
      "image/png": "[encoded data removed]",
      "text/html": [
       "<div>                            <div id=\"d730ef53-0054-41a0-b460-0f91b7311706\" class=\"plotly-graph-div\" style=\"height:525px; width:100%;\"></div>            <script type=\"text/javascript\">                require([\"plotly\"], function(Plotly) {                    window.PLOTLYENV=window.PLOTLYENV || {};                                    if (document.getElementById(\"d730ef53-0054-41a0-b460-0f91b7311706\")) {                    Plotly.newPlot(                        \"d730ef53-0054-41a0-b460-0f91b7311706\",                        [{\"mode\":\"lines\",\"name\":\"Real Data\",\"x\":[\"2022-02-05T00:00:00\",\"2022-02-12T00:00:00\",\"2022-02-19T00:00:00\",\"2022-02-26T00:00:00\",\"2022-03-05T00:00:00\",\"2022-03-12T00:00:00\",\"2022-03-19T00:00:00\",\"2022-03-26T00:00:00\",\"2022-04-02T00:00:00\",\"2022-04-09T00:00:00\",\"2022-04-16T00:00:00\",\"2022-04-23T00:00:00\",\"2022-04-30T00:00:00\",\"2022-05-07T00:00:00\",\"2022-05-14T00:00:00\",\"2022-05-21T00:00:00\",\"2022-05-28T00:00:00\",\"2022-06-04T00:00:00\",\"2022-06-11T00:00:00\",\"2022-06-18T00:00:00\",\"2022-06-25T00:00:00\",\"2022-07-02T00:00:00\",\"2022-07-09T00:00:00\",\"2022-07-16T00:00:00\",\"2022-07-23T00:00:00\",\"2022-07-30T00:00:00\",\"2022-08-06T00:00:00\",\"2022-08-13T00:00:00\",\"2022-08-20T00:00:00\",\"2022-08-27T00:00:00\",\"2022-09-03T00:00:00\",\"2022-09-10T00:00:00\",\"2022-09-17T00:00:00\",\"2022-09-24T00:00:00\",\"2022-10-01T00:00:00\",\"2022-10-08T00:00:00\",\"2022-10-15T00:00:00\",\"2022-10-22T00:00:00\",\"2022-10-29T00:00:00\",\"2022-11-05T00:00:00\",\"2022-11-12T00:00:00\",\"2022-11-19T00:00:00\",\"2022-11-26T00:00:00\",\"2022-12-03T00:00:00\",\"2022-12-10T00:00:00\",\"2022-12-17T00:00:00\",\"2022-12-24T00:00:00\",\"2022-12-31T00:00:00\",\"2023-01-07T00:00:00\",\"2023-01-14T00:00:00\",\"2023-01-21T00:00:00\",\"2023-01-28T00:00:00\",\"2023-02-04T00:00:00\",\"2023-02-11T00:00:00\",\"2023-02-18T00:00:00\",\"2023-02-25T00:00:00\",\"2023-03-04T00:00:00\",\"2023-03-11T00:00:00\",\"2023-03-18T00:00:00\",\"2023-03-25T00:00:00\",\"2023-04-01T00:00:00\",\"2023-04-08T00:00:00\",\"2023-04-15T00:00:00\",\"2023-04-22T00:00:00\",\"2023-04-29T00:00:00\",\"2023-05-06T00:00:00\",\"2023-05-13T00:00:00\",\"2023-05-20T00:00:00\",\"2023-05-27T00:00:00\",\"2023-06-03T00:00:00\",\"2023-06-10T00:00:00\",\"2023-06-17T00:00:00\",\"2023-06-24T00:00:00\",\"2023-07-01T00:00:00\",\"2023-07-08T00:00:00\",\"2023-07-15T00:00:00\",\"2023-07-22T00:00:00\",\"2023-07-29T00:00:00\",\"2023-08-05T00:00:00\",\"2023-08-12T00:00:00\",\"2023-08-19T00:00:00\",\"2023-08-26T00:00:00\",\"2023-09-02T00:00:00\",\"2023-09-09T00:00:00\",\"2023-09-16T00:00:00\",\"2023-09-23T00:00:00\",\"2023-09-30T00:00:00\",\"2023-10-07T00:00:00\",\"2023-10-14T00:00:00\",\"2023-10-21T00:00:00\",\"2023-10-28T00:00:00\",\"2023-11-04T00:00:00\",\"2023-11-11T00:00:00\",\"2023-11-18T00:00:00\",\"2023-11-25T00:00:00\",\"2023-12-02T00:00:00\",\"2023-12-09T00:00:00\",\"2023-12-16T00:00:00\",\"2023-12-23T00:00:00\",\"2023-12-30T00:00:00\",\"2024-01-06T00:00:00\",\"2024-01-13T00:00:00\",\"2024-01-20T00:00:00\",\"2024-01-27T00:00:00\",\"2024-02-03T00:00:00\",\"2024-02-10T00:00:00\",\"2024-02-17T00:00:00\",\"2024-02-24T00:00:00\",\"2024-03-02T00:00:00\",\"2024-03-09T00:00:00\",\"2024-03-16T00:00:00\",\"2024-03-23T00:00:00\",\"2024-03-30T00:00:00\",\"2024-04-06T00:00:00\",\"2024-04-13T00:00:00\",\"2024-04-20T00:00:00\",\"2024-04-27T00:00:00\",\"2024-05-04T00:00:00\",\"2024-05-11T00:00:00\",\"2024-05-18T00:00:00\",\"2024-05-25T00:00:00\",\"2024-06-01T00:00:00\",\"2024-06-08T00:00:00\",\"2024-06-15T00:00:00\",\"2024-06-22T00:00:00\",\"2024-06-29T00:00:00\",\"2024-07-06T00:00:00\",\"2024-07-13T00:00:00\",\"2024-07-20T00:00:00\",\"2024-07-27T00:00:00\",\"2024-08-03T00:00:00\",\"2024-08-10T00:00:00\",\"2024-08-17T00:00:00\",\"2024-08-24T00:00:00\",\"2024-08-31T00:00:00\",\"2024-09-07T00:00:00\",\"2024-09-14T00:00:00\",\"2024-09-21T00:00:00\",\"2024-09-28T00:00:00\",\"2024-10-05T00:00:00\",\"2024-10-12T00:00:00\",\"2024-10-19T00:00:00\",\"2024-10-26T00:00:00\",\"2024-11-02T00:00:00\",\"2024-11-09T00:00:00\",\"2024-11-16T00:00:00\",\"2024-11-23T00:00:00\",\"2024-11-30T00:00:00\",\"2024-12-07T00:00:00\",\"2024-12-14T00:00:00\",\"2024-12-21T00:00:00\",\"2024-12-28T00:00:00\",\"2025-01-04T00:00:00\",\"2025-01-11T00:00:00\",\"2025-01-18T00:00:00\",\"2025-01-25T00:00:00\",\"2025-02-01T00:00:00\",\"2025-02-08T00:00:00\",\"2025-02-15T00:00:00\",\"2025-02-22T00:00:00\",\"2025-03-01T00:00:00\",\"2025-03-08T00:00:00\",\"2025-03-15T00:00:00\",\"2025-03-22T00:00:00\",\"2025-03-29T00:00:00\",\"2025-04-05T00:00:00\",\"2025-04-12T00:00:00\",\"2025-04-19T00:00:00\",\"2025-04-26T00:00:00\",\"2025-05-03T00:00:00\",\"2025-05-10T00:00:00\",\"2025-05-17T00:00:00\"],\"y\":[1091.0,1162.0,1491.0,1603.0,1791.0,2094.0,2622.0,2917.0,3000.0,3135.0,3297.0,3468.0,3179.0,3172.0,3117.0,3130.0,2737.0,2676.0,2202.0,1775.0,1366.0,1073.0,776.0,766.0,627.0,522.0,486.0,490.0,483.0,483.0,545.0,576.0,665.0,796.0,921.0,1306.0,1670.0,2273.0,4181.0,6401.0,8589.0,10969.0,18173.0,26829.0,24035.0,21607.0,19624.0,19474.0,14074.0,7183.0,4488.0,3091.0,2594.0,2176.0,1908.0,1647.0,1501.0,1372.0,1415.0,1330.0,1295.0,1198.0,1077.0,980.0,903.0,994.0,978.0,1116.0,974.0,939.0,935.0,873.0,813.0,836.0,699.0,736.0,645.0,769.0,690.0,705.0,738.0,792.0,875.0,803.0,821.0,881.0,1026.0,1108.0,1214.0,1469.0,1614.0,2012.0,2775.0,3491.0,4386.0,5954.0,7495.0,10269.0,15717.0,21682.0,19548.0,15902.0,13302.0,13025.0,11963.0,11629.0,11126.0,10869.0,10814.0,9416.0,7324.0,6049.0,5574.0,5071.0,4073.0,2943.0,2420.0,1485.0,852.0,681.0,610.0,590.0,511.0,517.0,441.0,356.0,341.0,367.0,324.0,273.0,275.0,275.0,273.0,274.0,259.0,223.0,319.0,293.0,223.0,286.0,288.0,552.0,1079.0,975.0,2076.0,2529.0,3089.0,4278.0,6286.0,9152.0,15399.0,27651.0,38672.0,30698.0,32963.0,40566.0,51141.0,54115.0,46036.0,37647.0,30753.0,23970.0,18369.0,13620.0,9664.0,6683.0,4863.0,3818.0,3213.0,2434.0,2078.0,1636.0],\"type\":\"scatter\"},{\"line\":{\"color\":\"#414487\"},\"mode\":\"lines\",\"name\":\"CES-hi-80\",\"x\":[\"2024-11-09T00:00:00\",\"2024-11-16T00:00:00\",\"2024-11-23T00:00:00\",\"2024-11-30T00:00:00\"],\"y\":[4700.739550781251,6305.025048828126,10017.201367187501,15248.50185546875],\"type\":\"scatter\"},{\"line\":{\"color\":\"#1e9c89\"},\"mode\":\"lines\",\"name\":\"CES-hi-95\",\"x\":[\"2024-11-09T00:00:00\",\"2024-11-16T00:00:00\",\"2024-11-23T00:00:00\",\"2024-11-30T00:00:00\"],\"y\":[5886.410937499996,7530.1759765625,11037.9126953125,16328.368872070312],\"type\":\"scatter\"},{\"fill\":\"tonexty\",\"fillcolor\":\"#1e9c89\",\"line\":{\"color\":\"#1e9c89\"},\"mode\":\"lines\",\"name\":\"CES-lo-95\",\"x\":[\"2024-11-09T00:00:00\",\"2024-11-16T00:00:00\",\"2024-11-23T00:00:00\",\"2024-11-30T00:00:00\"],\"y\":[-719.5309051513659,1062.0737792968755,4876.5014282226575,10045.616918945312],\"type\":\"scatter\"},{\"fill\":\"tonexty\",\"fillcolor\":\"#414487\",\"line\":{\"color\":\"#414487\"},\"mode\":\"lines\",\"name\":\"CES-lo-80\",\"x\":[\"2024-11-09T00:00:00\",\"2024-11-16T00:00:00\",\"2024-11-23T00:00:00\",\"2024-11-30T00:00:00\"],\"y\":[427.55920104980447,2117.855126953125,5968.686376953125,11162.89833984375],\"type\":\"scatter\"},{\"line\":{\"color\":\"#2c728e\"},\"mode\":\"lines\",\"name\":\"CES\",\"x\":[\"2024-11-09T00:00:00\",\"2024-11-16T00:00:00\",\"2024-11-23T00:00:00\",\"2024-11-30T00:00:00\"],\"y\":[2527.0426635742188,4215.611083984375,8031.135986328125,13199.297485351562],\"type\":\"scatter\"}],                        {\"template\":{\"data\":{\"histogram2dcontour\":[{\"type\":\"histogram2dcontour\",\"colorbar\":{\"outlinewidth\":0,\"ticks\":\"\"},\"colorscale\":[[0.0,\"#0d0887\"],[0.1111111111111111,\"#46039f\"],[0.2222222222222222,\"#7201a8\"],[0.3333333333333333,\"#9c179e\"],[0.4444444444444444,\"#bd3786\"],[0.5555555555555556,\"#d8576b\"],[0.6666666666666666,\"#ed7953\"],[0.7777777777777778,\"#fb9f3a\"],[0.8888888888888888,\"#fdca26\"],[1.0,\"#f0f921\"]]}],\"choropleth\":[{\"type\":\"choropleth\",\"colorbar\":{\"outlinewidth\":0,\"ticks\":\"\"}}],\"histogram2d\":[{\"type\":\"histogram2d\",\"colorbar\":{\"outlinewidth\":0,\"ticks\":\"\"},\"colorscale\":[[0.0,\"#0d0887\"],[0.1111111111111111,\"#46039f\"],[0.2222222222222222,\"#7201a8\"],[0.3333333333333333,\"#9c179e\"],[0.4444444444444444,\"#bd3786\"],[0.5555555555555556,\"#d8576b\"],[0.6666666666666666,\"#ed7953\"],[0.7777777777777778,\"#fb9f3a\"],[0.8888888888888888,\"#fdca26\"],[1.0,\"#f0f921\"]]}],\"heatmap\":[{\"type\":\"heatmap\",\"colorbar\":{\"outlinewidth\":0,\"ticks\":\"\"},\"colorscale\":[[0.0,\"#0d0887\"],[0.1111111111111111,\"#46039f\"],[0.2222222222222222,\"#7201a8\"],[0.3333333333333333,\"#9c179e\"],[0.4444444444444444,\"#bd3786\"],[0.5555555555555556,\"#d8576b\"],[0.6666666666666666,\"#ed7953\"],[0.7777777777777778,\"#fb9f3a\"],[0.8888888888888888,\"#fdca26\"],[1.0,\"#f0f921\"]]}],\"heatmapgl\":[{\"type\":\"heatmapgl\",\"colorbar\":{\"outlinewidth\":0,\"ticks\":\"\"},\"colorscale\":[[0.0,\"#0d0887\"],[0.1111111111111111,\"#46039f\"],[0.2222222222222222,\"#7201a8\"],[0.3333333333333333,\"#9c179e\"],[0.4444444444444444,\"#bd3786\"],[0.5555555555555556,\"#d8576b\"],[0.6666666666666666,\"#ed7953\"],[0.7777777777777778,\"#fb9f3a\"],[0.8888888888888888,\"#fdca26\"],[1.0,\"#f0f921\"]]}],\"contourcarpet\":[{\"type\":\"contourcarpet\",\"colorbar\":{\"outlinewidth\":0,\"ticks\":\"\"}}],\"contour\":[{\"type\":\"contour\",\"colorbar\":{\"outlinewidth\":0,\"ticks\":\"\"},\"colorscale\":[[0.0,\"#0d0887\"],[0.1111111111111111,\"#46039f\"],[0.2222222222222222,\"#7201a8\"],[0.3333333333333333,\"#9c179e\"],[0.4444444444444444,\"#bd3786\"],[0.5555555555555556,\"#d8576b\"],[0.6666666666666666,\"#ed7953\"],[0.7777777777777778,\"#fb9f3a\"],[0.8888888888888888,\"#fdca26\"],[1.0,\"#f0f921\"]]}],\"surface\":[{\"type\":\"surface\",\"colorbar\":{\"outlinewidth\":0,\"ticks\":\"\"},\"colorscale\":[[0.0,\"#0d0887\"],[0.1111111111111111,\"#46039f\"],[0.2222222222222222,\"#7201a8\"],[0.3333333333333333,\"#9c179e\"],[0.4444444444444444,\"#bd3786\"],[0.5555555555555556,\"#d8576b\"],[0.6666666666666666,\"#ed7953\"],[0.7777777777777778,\"#fb9f3a\"],[0.8888888888888888,\"#fdca26\"],[1.0,\"#f0f921\"]]}],\"mesh3d\":[{\"type\":\"mesh3d\",\"colorbar\":{\"outlinewidth\":0,\"ticks\":\"\"}}],\"scatter\":[{\"fillpattern\":{\"fillmode\":\"overlay\",\"size\":10,\"solidity\":0.2},\"type\":\"scatter\"}],\"parcoords\":[{\"type\":\"parcoords\",\"line\":{\"colorbar\":{\"outlinewidth\":0,\"ticks\":\"\"}}}],\"scatterpolargl\":[{\"type\":\"scatterpolargl\",\"marker\":{\"colorbar\":{\"outlinewidth\":0,\"ticks\":\"\"}}}],\"bar\":[{\"error_x\":{\"color\":\"#2a3f5f\"},\"error_y\":{\"color\":\"#2a3f5f\"},\"marker\":{\"line\":{\"color\":\"#E5ECF6\",\"width\":0.5},\"pattern\":{\"fillmode\":\"overlay\",\"size\":10,\"solidity\":0.2}},\"type\":\"bar\"}],\"scattergeo\":[{\"type\":\"scattergeo\",\"marker\":{\"colorbar\":{\"outlinewidth\":0,\"ticks\":\"\"}}}],\"scatterpolar\":[{\"type\":\"scatterpolar\",\"marker\":{\"colorbar\":{\"outlinewidth\":0,\"ticks\":\"\"}}}],\"histogram\":[{\"marker\":{\"pattern\":{\"fillmode\":\"overlay\",\"size\":10,\"solidity\":0.2}},\"type\":\"histogram\"}],\"scattergl\":[{\"type\":\"scattergl\",\"marker\":{\"colorbar\":{\"outlinewidth\":0,\"ticks\":\"\"}}}],\"scatter3d\":[{\"type\":\"scatter3d\",\"line\":{\"colorbar\":{\"outlinewidth\":0,\"ticks\":\"\"}},\"marker\":{\"colorbar\":{\"outlinewidth\":0,\"ticks\":\"\"}}}],\"scattermapbox\":[{\"type\":\"scattermapbox\",\"marker\":{\"colorbar\":{\"outlinewidth\":0,\"ticks\":\"\"}}}],\"scatterternary\":[{\"type\":\"scatterternary\",\"marker\":{\"colorbar\":{\"outlinewidth\":0,\"ticks\":\"\"}}}],\"scattercarpet\":[{\"type\":\"scattercarpet\",\"marker\":{\"colorbar\":{\"outlinewidth\":0,\"ticks\":\"\"}}}],\"carpet\":[{\"aaxis\":{\"endlinecolor\":\"#2a3f5f\",\"gridcolor\":\"white\",\"linecolor\":\"white\",\"minorgridcolor\":\"white\",\"startlinecolor\":\"#2a3f5f\"},\"baxis\":{\"endlinecolor\":\"#2a3f5f\",\"gridcolor\":\"white\",\"linecolor\":\"white\",\"minorgridcolor\":\"white\",\"startlinecolor\":\"#2a3f5f\"},\"type\":\"carpet\"}],\"table\":[{\"cells\":{\"fill\":{\"color\":\"#EBF0F8\"},\"line\":{\"color\":\"white\"}},\"header\":{\"fill\":{\"color\":\"#C8D4E3\"},\"line\":{\"color\":\"white\"}},\"type\":\"table\"}],\"barpolar\":[{\"marker\":{\"line\":{\"color\":\"#E5ECF6\",\"width\":0.5},\"pattern\":{\"fillmode\":\"overlay\",\"size\":10,\"solidity\":0.2}},\"type\":\"barpolar\"}],\"pie\":[{\"automargin\":true,\"type\":\"pie\"}]},\"layout\":{\"autotypenumbers\":\"strict\",\"colorway\":[\"#636efa\",\"#EF553B\",\"#00cc96\",\"#ab63fa\",\"#FFA15A\",\"#19d3f3\",\"#FF6692\",\"#B6E880\",\"#FF97FF\",\"#FECB52\"],\"font\":{\"color\":\"#2a3f5f\"},\"hovermode\":\"closest\",\"hoverlabel\":{\"align\":\"left\"},\"paper_bgcolor\":\"white\",\"plot_bgcolor\":\"#E5ECF6\",\"polar\":{\"bgcolor\":\"#E5ECF6\",\"angularaxis\":{\"gridcolor\":\"white\",\"linecolor\":\"white\",\"ticks\":\"\"},\"radialaxis\":{\"gridcolor\":\"white\",\"linecolor\":\"white\",\"ticks\":\"\"}},\"ternary\":{\"bgcolor\":\"#E5ECF6\",\"aaxis\":{\"gridcolor\":\"white\",\"linecolor\":\"white\",\"ticks\":\"\"},\"baxis\":{\"gridcolor\":\"white\",\"linecolor\":\"white\",\"ticks\":\"\"},\"caxis\":{\"gridcolor\":\"white\",\"linecolor\":\"white\",\"ticks\":\"\"}},\"coloraxis\":{\"colorbar\":{\"outlinewidth\":0,\"ticks\":\"\"}},\"colorscale\":{\"sequential\":[[0.0,\"#0d0887\"],[0.1111111111111111,\"#46039f\"],[0.2222222222222222,\"#7201a8\"],[0.3333333333333333,\"#9c179e\"],[0.4444444444444444,\"#bd3786\"],[0.5555555555555556,\"#d8576b\"],[0.6666666666666666,\"#ed7953\"],[0.7777777777777778,\"#fb9f3a\"],[0.8888888888888888,\"#fdca26\"],[1.0,\"#f0f921\"]],\"sequentialminus\":[[0.0,\"#0d0887\"],[0.1111111111111111,\"#46039f\"],[0.2222222222222222,\"#7201a8\"],[0.3333333333333333,\"#9c179e\"],[0.4444444444444444,\"#bd3786\"],[0.5555555555555556,\"#d8576b\"],[0.6666666666666666,\"#ed7953\"],[0.7777777777777778,\"#fb9f3a\"],[0.8888888888888888,\"#fdca26\"],[1.0,\"#f0f921\"]],\"diverging\":[[0,\"#8e0152\"],[0.1,\"#c51b7d\"],[0.2,\"#de77ae\"],[0.3,\"#f1b6da\"],[0.4,\"#fde0ef\"],[0.5,\"#f7f7f7\"],[0.6,\"#e6f5d0\"],[0.7,\"#b8e186\"],[0.8,\"#7fbc41\"],[0.9,\"#4d9221\"],[1,\"#276419\"]]},\"xaxis\":{\"gridcolor\":\"white\",\"linecolor\":\"white\",\"ticks\":\"\",\"title\":{\"standoff\":15},\"zerolinecolor\":\"white\",\"automargin\":true,\"zerolinewidth\":2},\"yaxis\":{\"gridcolor\":\"white\",\"linecolor\":\"white\",\"ticks\":\"\",\"title\":{\"standoff\":15},\"zerolinecolor\":\"white\",\"automargin\":true,\"zerolinewidth\":2},\"scene\":{\"xaxis\":{\"backgroundcolor\":\"#E5ECF6\",\"gridcolor\":\"white\",\"linecolor\":\"white\",\"showbackground\":true,\"ticks\":\"\",\"zerolinecolor\":\"white\",\"gridwidth\":2},\"yaxis\":{\"backgroundcolor\":\"#E5ECF6\",\"gridcolor\":\"white\",\"linecolor\":\"white\",\"showbackground\":true,\"ticks\":\"\",\"zerolinecolor\":\"white\",\"gridwidth\":2},\"zaxis\":{\"backgroundcolor\":\"#E5ECF6\",\"gridcolor\":\"white\",\"linecolor\":\"white\",\"showbackground\":true,\"ticks\":\"\",\"zerolinecolor\":\"white\",\"gridwidth\":2}},\"shapedefaults\":{\"line\":{\"color\":\"#2a3f5f\"}},\"annotationdefaults\":{\"arrowcolor\":\"#2a3f5f\",\"arrowhead\":0,\"arrowwidth\":1},\"geo\":{\"bgcolor\":\"white\",\"landcolor\":\"#E5ECF6\",\"subunitcolor\":\"white\",\"showland\":true,\"showlakes\":true,\"lakecolor\":\"white\"},\"title\":{\"x\":0.05},\"mapbox\":{\"style\":\"light\"}}},\"title\":{\"text\":\"Updating Parameter CES Predictions, 2024-11-02\"},\"xaxis\":{\"title\":{\"text\":\"Date\"}},\"yaxis\":{\"title\":{\"text\":\"Count\"}},\"hovermode\":\"x\"},                        {\"responsive\": true}                    ).then(function(){\n",
       "                            \n",
       "var gd = document.getElementById('d730ef53-0054-41a0-b460-0f91b7311706');\n",
       "var x = new MutationObserver(function (mutations, observer) {{\n",
       "        var display = window.getComputedStyle(gd).display;\n",
       "        if (!display || display === 'none') {{\n",
       "            console.log([gd, 'removed!']);\n",
       "            Plotly.purge(gd);\n",
       "            observer.disconnect();\n",
       "        }}\n",
       "}});\n",
       "\n",
       "// Listen for the removal of the full notebook cells\n",
       "var notebookContainer = gd.closest('#notebook-container');\n",
       "if (notebookContainer) {{\n",
       "    x.observe(notebookContainer, {childList: true});\n",
       "}}\n",
       "\n",
       "// Listen for the clearing of the current output cell\n",
       "var outputEl = gd.closest('.output');\n",
       "if (outputEl) {{\n",
       "    x.observe(outputEl, {childList: true});\n",
       "}}\n",
       "\n",
       "                        })                };                });            </script>        </div>"
      ]
     },
     "metadata": {},
     "output_type": "display_data"
    },
    {
     "data": {
      "application/vnd.plotly.v1+json": {
       "config": {
        "plotlyServerURL": "https://plot.ly"
       },
       "data": [
        {
         "mode": "lines",
         "name": "Real Data",
         "type": "scatter",
         "x": [
          "2022-02-05T00:00:00",
          "2022-02-12T00:00:00",
          "2022-02-19T00:00:00",
          "2022-02-26T00:00:00",
          "2022-03-05T00:00:00",
          "2022-03-12T00:00:00",
          "2022-03-19T00:00:00",
          "2022-03-26T00:00:00",
          "2022-04-02T00:00:00",
          "2022-04-09T00:00:00",
          "2022-04-16T00:00:00",
          "2022-04-23T00:00:00",
          "2022-04-30T00:00:00",
          "2022-05-07T00:00:00",
          "2022-05-14T00:00:00",
          "2022-05-21T00:00:00",
          "2022-05-28T00:00:00",
          "2022-06-04T00:00:00",
          "2022-06-11T00:00:00",
          "2022-06-18T00:00:00",
          "2022-06-25T00:00:00",
          "2022-07-02T00:00:00",
          "2022-07-09T00:00:00",
          "2022-07-16T00:00:00",
          "2022-07-23T00:00:00",
          "2022-07-30T00:00:00",
          "2022-08-06T00:00:00",
          "2022-08-13T00:00:00",
          "2022-08-20T00:00:00",
          "2022-08-27T00:00:00",
          "2022-09-03T00:00:00",
          "2022-09-10T00:00:00",
          "2022-09-17T00:00:00",
          "2022-09-24T00:00:00",
          "2022-10-01T00:00:00",
          "2022-10-08T00:00:00",
          "2022-10-15T00:00:00",
          "2022-10-22T00:00:00",
          "2022-10-29T00:00:00",
          "2022-11-05T00:00:00",
          "2022-11-12T00:00:00",
          "2022-11-19T00:00:00",
          "2022-11-26T00:00:00",
          "2022-12-03T00:00:00",
          "2022-12-10T00:00:00",
          "2022-12-17T00:00:00",
          "2022-12-24T00:00:00",
          "2022-12-31T00:00:00",
          "2023-01-07T00:00:00",
          "2023-01-14T00:00:00",
          "2023-01-21T00:00:00",
          "2023-01-28T00:00:00",
          "2023-02-04T00:00:00",
          "2023-02-11T00:00:00",
          "2023-02-18T00:00:00",
          "2023-02-25T00:00:00",
          "2023-03-04T00:00:00",
          "2023-03-11T00:00:00",
          "2023-03-18T00:00:00",
          "2023-03-25T00:00:00",
          "2023-04-01T00:00:00",
          "2023-04-08T00:00:00",
          "2023-04-15T00:00:00",
          "2023-04-22T00:00:00",
          "2023-04-29T00:00:00",
          "2023-05-06T00:00:00",
          "2023-05-13T00:00:00",
          "2023-05-20T00:00:00",
          "2023-05-27T00:00:00",
          "2023-06-03T00:00:00",
          "2023-06-10T00:00:00",
          "2023-06-17T00:00:00",
          "2023-06-24T00:00:00",
          "2023-07-01T00:00:00",
          "2023-07-08T00:00:00",
          "2023-07-15T00:00:00",
          "2023-07-22T00:00:00",
          "2023-07-29T00:00:00",
          "2023-08-05T00:00:00",
          "2023-08-12T00:00:00",
          "2023-08-19T00:00:00",
          "2023-08-26T00:00:00",
          "2023-09-02T00:00:00",
          "2023-09-09T00:00:00",
          "2023-09-16T00:00:00",
          "2023-09-23T00:00:00",
          "2023-09-30T00:00:00",
          "2023-10-07T00:00:00",
          "2023-10-14T00:00:00",
          "2023-10-21T00:00:00",
          "2023-10-28T00:00:00",
          "2023-11-04T00:00:00",
          "2023-11-11T00:00:00",
          "2023-11-18T00:00:00",
          "2023-11-25T00:00:00",
          "2023-12-02T00:00:00",
          "2023-12-09T00:00:00",
          "2023-12-16T00:00:00",
          "2023-12-23T00:00:00",
          "2023-12-30T00:00:00",
          "2024-01-06T00:00:00",
          "2024-01-13T00:00:00",
          "2024-01-20T00:00:00",
          "2024-01-27T00:00:00",
          "2024-02-03T00:00:00",
          "2024-02-10T00:00:00",
          "2024-02-17T00:00:00",
          "2024-02-24T00:00:00",
          "2024-03-02T00:00:00",
          "2024-03-09T00:00:00",
          "2024-03-16T00:00:00",
          "2024-03-23T00:00:00",
          "2024-03-30T00:00:00",
          "2024-04-06T00:00:00",
          "2024-04-13T00:00:00",
          "2024-04-20T00:00:00",
          "2024-04-27T00:00:00",
          "2024-05-04T00:00:00",
          "2024-05-11T00:00:00",
          "2024-05-18T00:00:00",
          "2024-05-25T00:00:00",
          "2024-06-01T00:00:00",
          "2024-06-08T00:00:00",
          "2024-06-15T00:00:00",
          "2024-06-22T00:00:00",
          "2024-06-29T00:00:00",
          "2024-07-06T00:00:00",
          "2024-07-13T00:00:00",
          "2024-07-20T00:00:00",
          "2024-07-27T00:00:00",
          "2024-08-03T00:00:00",
          "2024-08-10T00:00:00",
          "2024-08-17T00:00:00",
          "2024-08-24T00:00:00",
          "2024-08-31T00:00:00",
          "2024-09-07T00:00:00",
          "2024-09-14T00:00:00",
          "2024-09-21T00:00:00",
          "2024-09-28T00:00:00",
          "2024-10-05T00:00:00",
          "2024-10-12T00:00:00",
          "2024-10-19T00:00:00",
          "2024-10-26T00:00:00",
          "2024-11-02T00:00:00",
          "2024-11-09T00:00:00",
          "2024-11-16T00:00:00",
          "2024-11-23T00:00:00",
          "2024-11-30T00:00:00",
          "2024-12-07T00:00:00",
          "2024-12-14T00:00:00",
          "2024-12-21T00:00:00",
          "2024-12-28T00:00:00",
          "2025-01-04T00:00:00",
          "2025-01-11T00:00:00",
          "2025-01-18T00:00:00",
          "2025-01-25T00:00:00",
          "2025-02-01T00:00:00",
          "2025-02-08T00:00:00",
          "2025-02-15T00:00:00",
          "2025-02-22T00:00:00",
          "2025-03-01T00:00:00",
          "2025-03-08T00:00:00",
          "2025-03-15T00:00:00",
          "2025-03-22T00:00:00",
          "2025-03-29T00:00:00",
          "2025-04-05T00:00:00",
          "2025-04-12T00:00:00",
          "2025-04-19T00:00:00",
          "2025-04-26T00:00:00",
          "2025-05-03T00:00:00",
          "2025-05-10T00:00:00",
          "2025-05-17T00:00:00"
         ],
         "y": [
          1091,
          1162,
          1491,
          1603,
          1791,
          2094,
          2622,
          2917,
          3000,
          3135,
          3297,
          3468,
          3179,
          3172,
          3117,
          3130,
          2737,
          2676,
          2202,
          1775,
          1366,
          1073,
          776,
          766,
          627,
          522,
          486,
          490,
          483,
          483,
          545,
          576,
          665,
          796,
          921,
          1306,
          1670,
          2273,
          4181,
          6401,
          8589,
          10969,
          18173,
          26829,
          24035,
          21607,
          19624,
          19474,
          14074,
          7183,
          4488,
          3091,
          2594,
          2176,
          1908,
          1647,
          1501,
          1372,
          1415,
          1330,
          1295,
          1198,
          1077,
          980,
          903,
          994,
          978,
          1116,
          974,
          939,
          935,
          873,
          813,
          836,
          699,
          736,
          645,
          769,
          690,
          705,
          738,
          792,
          875,
          803,
          821,
          881,
          1026,
          1108,
          1214,
          1469,
          1614,
          2012,
          2775,
          3491,
          4386,
          5954,
          7495,
          10269,
          15717,
          21682,
          19548,
          15902,
          13302,
          13025,
          11963,
          11629,
          11126,
          10869,
          10814,
          9416,
          7324,
          6049,
          5574,
          5071,
          4073,
          2943,
          2420,
          1485,
          852,
          681,
          610,
          590,
          511,
          517,
          441,
          356,
          341,
          367,
          324,
          273,
          275,
          275,
          273,
          274,
          259,
          223,
          319,
          293,
          223,
          286,
          288,
          552,
          1079,
          975,
          2076,
          2529,
          3089,
          4278,
          6286,
          9152,
          15399,
          27651,
          38672,
          30698,
          32963,
          40566,
          51141,
          54115,
          46036,
          37647,
          30753,
          23970,
          18369,
          13620,
          9664,
          6683,
          4863,
          3818,
          3213,
          2434,
          2078,
          1636
         ]
        },
        {
         "line": {
          "color": "#414487"
         },
         "mode": "lines",
         "name": "CES-hi-80",
         "type": "scatter",
         "x": [
          "2024-11-23T00:00:00",
          "2024-11-30T00:00:00",
          "2024-12-07T00:00:00",
          "2024-12-14T00:00:00"
         ],
         "y": [
          8769.08603515625,
          14175.68447265625,
          13212.479003906252,
          13522.485058593751
         ]
        },
        {
         "line": {
          "color": "#1e9c89"
         },
         "mode": "lines",
         "name": "CES-hi-95",
         "type": "scatter",
         "x": [
          "2024-11-23T00:00:00",
          "2024-11-30T00:00:00",
          "2024-12-07T00:00:00",
          "2024-12-14T00:00:00"
         ],
         "y": [
          9890.292016601557,
          15238.245800781247,
          14342.027734374997,
          14598.148583984375
         ]
        },
        {
         "fill": "tonexty",
         "fillcolor": "#1e9c89",
         "line": {
          "color": "#1e9c89"
         },
         "mode": "lines",
         "name": "CES-lo-95",
         "type": "scatter",
         "x": [
          "2024-11-23T00:00:00",
          "2024-11-30T00:00:00",
          "2024-12-07T00:00:00",
          "2024-12-14T00:00:00"
         ],
         "y": [
          3340.729174804688,
          8888.653784179687,
          8069.254016113282,
          8509.9005859375
         ]
        },
        {
         "fill": "tonexty",
         "fillcolor": "#414487",
         "line": {
          "color": "#414487"
         },
         "mode": "lines",
         "name": "CES-lo-80",
         "type": "scatter",
         "x": [
          "2024-11-23T00:00:00",
          "2024-11-30T00:00:00",
          "2024-12-07T00:00:00",
          "2024-12-14T00:00:00"
         ],
         "y": [
          4440.516552734375,
          9941.5189453125,
          9200.5068359375,
          9503.90419921875
         ]
        },
        {
         "line": {
          "color": "#2c728e"
         },
         "mode": "lines",
         "name": "CES",
         "type": "scatter",
         "x": [
          "2024-11-23T00:00:00",
          "2024-11-30T00:00:00",
          "2024-12-07T00:00:00",
          "2024-12-14T00:00:00"
         ],
         "y": [
          6635.533050537109,
          12024.814575195312,
          11193.585266113281,
          11508.361267089844
         ]
        }
       ],
       "layout": {
        "autosize": true,
        "hovermode": "x",
        "template": {
         "data": {
          "bar": [
           {
            "error_x": {
             "color": "#2a3f5f"
            },
            "error_y": {
             "color": "#2a3f5f"
            },
            "marker": {
             "line": {
              "color": "#E5ECF6",
              "width": 0.5
             },
             "pattern": {
              "fillmode": "overlay",
              "size": 10,
              "solidity": 0.2
             }
            },
            "type": "bar"
           }
          ],
          "barpolar": [
           {
            "marker": {
             "line": {
              "color": "#E5ECF6",
              "width": 0.5
             },
             "pattern": {
              "fillmode": "overlay",
              "size": 10,
              "solidity": 0.2
             }
            },
            "type": "barpolar"
           }
          ],
          "carpet": [
           {
            "aaxis": {
             "endlinecolor": "#2a3f5f",
             "gridcolor": "white",
             "linecolor": "white",
             "minorgridcolor": "white",
             "startlinecolor": "#2a3f5f"
            },
            "baxis": {
             "endlinecolor": "#2a3f5f",
             "gridcolor": "white",
             "linecolor": "white",
             "minorgridcolor": "white",
             "startlinecolor": "#2a3f5f"
            },
            "type": "carpet"
           }
          ],
          "choropleth": [
           {
            "colorbar": {
             "outlinewidth": 0,
             "ticks": ""
            },
            "type": "choropleth"
           }
          ],
          "contour": [
           {
            "colorbar": {
             "outlinewidth": 0,
             "ticks": ""
            },
            "colorscale": [
             [
              0,
              "#0d0887"
             ],
             [
              0.1111111111111111,
              "#46039f"
             ],
             [
              0.2222222222222222,
              "#7201a8"
             ],
             [
              0.3333333333333333,
              "#9c179e"
             ],
             [
              0.4444444444444444,
              "#bd3786"
             ],
             [
              0.5555555555555556,
              "#d8576b"
             ],
             [
              0.6666666666666666,
              "#ed7953"
             ],
             [
              0.7777777777777778,
              "#fb9f3a"
             ],
             [
              0.8888888888888888,
              "#fdca26"
             ],
             [
              1,
              "#f0f921"
             ]
            ],
            "type": "contour"
           }
          ],
          "contourcarpet": [
           {
            "colorbar": {
             "outlinewidth": 0,
             "ticks": ""
            },
            "type": "contourcarpet"
           }
          ],
          "heatmap": [
           {
            "colorbar": {
             "outlinewidth": 0,
             "ticks": ""
            },
            "colorscale": [
             [
              0,
              "#0d0887"
             ],
             [
              0.1111111111111111,
              "#46039f"
             ],
             [
              0.2222222222222222,
              "#7201a8"
             ],
             [
              0.3333333333333333,
              "#9c179e"
             ],
             [
              0.4444444444444444,
              "#bd3786"
             ],
             [
              0.5555555555555556,
              "#d8576b"
             ],
             [
              0.6666666666666666,
              "#ed7953"
             ],
             [
              0.7777777777777778,
              "#fb9f3a"
             ],
             [
              0.8888888888888888,
              "#fdca26"
             ],
             [
              1,
              "#f0f921"
             ]
            ],
            "type": "heatmap"
           }
          ],
          "heatmapgl": [
           {
            "colorbar": {
             "outlinewidth": 0,
             "ticks": ""
            },
            "colorscale": [
             [
              0,
              "#0d0887"
             ],
             [
              0.1111111111111111,
              "#46039f"
             ],
             [
              0.2222222222222222,
              "#7201a8"
             ],
             [
              0.3333333333333333,
              "#9c179e"
             ],
             [
              0.4444444444444444,
              "#bd3786"
             ],
             [
              0.5555555555555556,
              "#d8576b"
             ],
             [
              0.6666666666666666,
              "#ed7953"
             ],
             [
              0.7777777777777778,
              "#fb9f3a"
             ],
             [
              0.8888888888888888,
              "#fdca26"
             ],
             [
              1,
              "#f0f921"
             ]
            ],
            "type": "heatmapgl"
           }
          ],
          "histogram": [
           {
            "marker": {
             "pattern": {
              "fillmode": "overlay",
              "size": 10,
              "solidity": 0.2
             }
            },
            "type": "histogram"
           }
          ],
          "histogram2d": [
           {
            "colorbar": {
             "outlinewidth": 0,
             "ticks": ""
            },
            "colorscale": [
             [
              0,
              "#0d0887"
             ],
             [
              0.1111111111111111,
              "#46039f"
             ],
             [
              0.2222222222222222,
              "#7201a8"
             ],
             [
              0.3333333333333333,
              "#9c179e"
             ],
             [
              0.4444444444444444,
              "#bd3786"
             ],
             [
              0.5555555555555556,
              "#d8576b"
             ],
             [
              0.6666666666666666,
              "#ed7953"
             ],
             [
              0.7777777777777778,
              "#fb9f3a"
             ],
             [
              0.8888888888888888,
              "#fdca26"
             ],
             [
              1,
              "#f0f921"
             ]
            ],
            "type": "histogram2d"
           }
          ],
          "histogram2dcontour": [
           {
            "colorbar": {
             "outlinewidth": 0,
             "ticks": ""
            },
            "colorscale": [
             [
              0,
              "#0d0887"
             ],
             [
              0.1111111111111111,
              "#46039f"
             ],
             [
              0.2222222222222222,
              "#7201a8"
             ],
             [
              0.3333333333333333,
              "#9c179e"
             ],
             [
              0.4444444444444444,
              "#bd3786"
             ],
             [
              0.5555555555555556,
              "#d8576b"
             ],
             [
              0.6666666666666666,
              "#ed7953"
             ],
             [
              0.7777777777777778,
              "#fb9f3a"
             ],
             [
              0.8888888888888888,
              "#fdca26"
             ],
             [
              1,
              "#f0f921"
             ]
            ],
            "type": "histogram2dcontour"
           }
          ],
          "mesh3d": [
           {
            "colorbar": {
             "outlinewidth": 0,
             "ticks": ""
            },
            "type": "mesh3d"
           }
          ],
          "parcoords": [
           {
            "line": {
             "colorbar": {
              "outlinewidth": 0,
              "ticks": ""
             }
            },
            "type": "parcoords"
           }
          ],
          "pie": [
           {
            "automargin": true,
            "type": "pie"
           }
          ],
          "scatter": [
           {
            "fillpattern": {
             "fillmode": "overlay",
             "size": 10,
             "solidity": 0.2
            },
            "type": "scatter"
           }
          ],
          "scatter3d": [
           {
            "line": {
             "colorbar": {
              "outlinewidth": 0,
              "ticks": ""
             }
            },
            "marker": {
             "colorbar": {
              "outlinewidth": 0,
              "ticks": ""
             }
            },
            "type": "scatter3d"
           }
          ],
          "scattercarpet": [
           {
            "marker": {
             "colorbar": {
              "outlinewidth": 0,
              "ticks": ""
             }
            },
            "type": "scattercarpet"
           }
          ],
          "scattergeo": [
           {
            "marker": {
             "colorbar": {
              "outlinewidth": 0,
              "ticks": ""
             }
            },
            "type": "scattergeo"
           }
          ],
          "scattergl": [
           {
            "marker": {
             "colorbar": {
              "outlinewidth": 0,
              "ticks": ""
             }
            },
            "type": "scattergl"
           }
          ],
          "scattermapbox": [
           {
            "marker": {
             "colorbar": {
              "outlinewidth": 0,
              "ticks": ""
             }
            },
            "type": "scattermapbox"
           }
          ],
          "scatterpolar": [
           {
            "marker": {
             "colorbar": {
              "outlinewidth": 0,
              "ticks": ""
             }
            },
            "type": "scatterpolar"
           }
          ],
          "scatterpolargl": [
           {
            "marker": {
             "colorbar": {
              "outlinewidth": 0,
              "ticks": ""
             }
            },
            "type": "scatterpolargl"
           }
          ],
          "scatterternary": [
           {
            "marker": {
             "colorbar": {
              "outlinewidth": 0,
              "ticks": ""
             }
            },
            "type": "scatterternary"
           }
          ],
          "surface": [
           {
            "colorbar": {
             "outlinewidth": 0,
             "ticks": ""
            },
            "colorscale": [
             [
              0,
              "#0d0887"
             ],
             [
              0.1111111111111111,
              "#46039f"
             ],
             [
              0.2222222222222222,
              "#7201a8"
             ],
             [
              0.3333333333333333,
              "#9c179e"
             ],
             [
              0.4444444444444444,
              "#bd3786"
             ],
             [
              0.5555555555555556,
              "#d8576b"
             ],
             [
              0.6666666666666666,
              "#ed7953"
             ],
             [
              0.7777777777777778,
              "#fb9f3a"
             ],
             [
              0.8888888888888888,
              "#fdca26"
             ],
             [
              1,
              "#f0f921"
             ]
            ],
            "type": "surface"
           }
          ],
          "table": [
           {
            "cells": {
             "fill": {
              "color": "#EBF0F8"
             },
             "line": {
              "color": "white"
             }
            },
            "header": {
             "fill": {
              "color": "#C8D4E3"
             },
             "line": {
              "color": "white"
             }
            },
            "type": "table"
           }
          ]
         },
         "layout": {
          "annotationdefaults": {
           "arrowcolor": "#2a3f5f",
           "arrowhead": 0,
           "arrowwidth": 1
          },
          "autotypenumbers": "strict",
          "coloraxis": {
           "colorbar": {
            "outlinewidth": 0,
            "ticks": ""
           }
          },
          "colorscale": {
           "diverging": [
            [
             0,
             "#8e0152"
            ],
            [
             0.1,
             "#c51b7d"
            ],
            [
             0.2,
             "#de77ae"
            ],
            [
             0.3,
             "#f1b6da"
            ],
            [
             0.4,
             "#fde0ef"
            ],
            [
             0.5,
             "#f7f7f7"
            ],
            [
             0.6,
             "#e6f5d0"
            ],
            [
             0.7,
             "#b8e186"
            ],
            [
             0.8,
             "#7fbc41"
            ],
            [
             0.9,
             "#4d9221"
            ],
            [
             1,
             "#276419"
            ]
           ],
           "sequential": [
            [
             0,
             "#0d0887"
            ],
            [
             0.1111111111111111,
             "#46039f"
            ],
            [
             0.2222222222222222,
             "#7201a8"
            ],
            [
             0.3333333333333333,
             "#9c179e"
            ],
            [
             0.4444444444444444,
             "#bd3786"
            ],
            [
             0.5555555555555556,
             "#d8576b"
            ],
            [
             0.6666666666666666,
             "#ed7953"
            ],
            [
             0.7777777777777778,
             "#fb9f3a"
            ],
            [
             0.8888888888888888,
             "#fdca26"
            ],
            [
             1,
             "#f0f921"
            ]
           ],
           "sequentialminus": [
            [
             0,
             "#0d0887"
            ],
            [
             0.1111111111111111,
             "#46039f"
            ],
            [
             0.2222222222222222,
             "#7201a8"
            ],
            [
             0.3333333333333333,
             "#9c179e"
            ],
            [
             0.4444444444444444,
             "#bd3786"
            ],
            [
             0.5555555555555556,
             "#d8576b"
            ],
            [
             0.6666666666666666,
             "#ed7953"
            ],
            [
             0.7777777777777778,
             "#fb9f3a"
            ],
            [
             0.8888888888888888,
             "#fdca26"
            ],
            [
             1,
             "#f0f921"
            ]
           ]
          },
          "colorway": [
           "#636efa",
           "#EF553B",
           "#00cc96",
           "#ab63fa",
           "#FFA15A",
           "#19d3f3",
           "#FF6692",
           "#B6E880",
           "#FF97FF",
           "#FECB52"
          ],
          "font": {
           "color": "#2a3f5f"
          },
          "geo": {
           "bgcolor": "white",
           "lakecolor": "white",
           "landcolor": "#E5ECF6",
           "showlakes": true,
           "showland": true,
           "subunitcolor": "white"
          },
          "hoverlabel": {
           "align": "left"
          },
          "hovermode": "closest",
          "mapbox": {
           "style": "light"
          },
          "paper_bgcolor": "white",
          "plot_bgcolor": "#E5ECF6",
          "polar": {
           "angularaxis": {
            "gridcolor": "white",
            "linecolor": "white",
            "ticks": ""
           },
           "bgcolor": "#E5ECF6",
           "radialaxis": {
            "gridcolor": "white",
            "linecolor": "white",
            "ticks": ""
           }
          },
          "scene": {
           "xaxis": {
            "backgroundcolor": "#E5ECF6",
            "gridcolor": "white",
            "gridwidth": 2,
            "linecolor": "white",
            "showbackground": true,
            "ticks": "",
            "zerolinecolor": "white"
           },
           "yaxis": {
            "backgroundcolor": "#E5ECF6",
            "gridcolor": "white",
            "gridwidth": 2,
            "linecolor": "white",
            "showbackground": true,
            "ticks": "",
            "zerolinecolor": "white"
           },
           "zaxis": {
            "backgroundcolor": "#E5ECF6",
            "gridcolor": "white",
            "gridwidth": 2,
            "linecolor": "white",
            "showbackground": true,
            "ticks": "",
            "zerolinecolor": "white"
           }
          },
          "shapedefaults": {
           "line": {
            "color": "#2a3f5f"
           }
          },
          "ternary": {
           "aaxis": {
            "gridcolor": "white",
            "linecolor": "white",
            "ticks": ""
           },
           "baxis": {
            "gridcolor": "white",
            "linecolor": "white",
            "ticks": ""
           },
           "bgcolor": "#E5ECF6",
           "caxis": {
            "gridcolor": "white",
            "linecolor": "white",
            "ticks": ""
           }
          },
          "title": {
           "x": 0.05
          },
          "xaxis": {
           "automargin": true,
           "gridcolor": "white",
           "linecolor": "white",
           "ticks": "",
           "title": {
            "standoff": 15
           },
           "zerolinecolor": "white",
           "zerolinewidth": 2
          },
          "yaxis": {
           "automargin": true,
           "gridcolor": "white",
           "linecolor": "white",
           "ticks": "",
           "title": {
            "standoff": 15
           },
           "zerolinecolor": "white",
           "zerolinewidth": 2
          }
         }
        },
        "title": {
         "text": "Updating Parameter CES Predictions, 2024-11-16"
        },
        "xaxis": {
         "autorange": true,
         "range": [
          "2022-02-05",
          "2025-05-17"
         ],
         "title": {
          "text": "Date"
         },
         "type": "date"
        },
        "yaxis": {
         "autorange": true,
         "range": [
          -2771,
          57109
         ],
         "title": {
          "text": "Count"
         },
         "type": "linear"
        }
       }
      },
      "image/png": "[encoded data removed]",
      "text/html": [
       "<div>                            <div id=\"0566981e-d9ef-4230-a387-ae9b0b621b65\" class=\"plotly-graph-div\" style=\"height:525px; width:100%;\"></div>            <script type=\"text/javascript\">                require([\"plotly\"], function(Plotly) {                    window.PLOTLYENV=window.PLOTLYENV || {};                                    if (document.getElementById(\"0566981e-d9ef-4230-a387-ae9b0b621b65\")) {                    Plotly.newPlot(                        \"0566981e-d9ef-4230-a387-ae9b0b621b65\",                        [{\"mode\":\"lines\",\"name\":\"Real Data\",\"x\":[\"2022-02-05T00:00:00\",\"2022-02-12T00:00:00\",\"2022-02-19T00:00:00\",\"2022-02-26T00:00:00\",\"2022-03-05T00:00:00\",\"2022-03-12T00:00:00\",\"2022-03-19T00:00:00\",\"2022-03-26T00:00:00\",\"2022-04-02T00:00:00\",\"2022-04-09T00:00:00\",\"2022-04-16T00:00:00\",\"2022-04-23T00:00:00\",\"2022-04-30T00:00:00\",\"2022-05-07T00:00:00\",\"2022-05-14T00:00:00\",\"2022-05-21T00:00:00\",\"2022-05-28T00:00:00\",\"2022-06-04T00:00:00\",\"2022-06-11T00:00:00\",\"2022-06-18T00:00:00\",\"2022-06-25T00:00:00\",\"2022-07-02T00:00:00\",\"2022-07-09T00:00:00\",\"2022-07-16T00:00:00\",\"2022-07-23T00:00:00\",\"2022-07-30T00:00:00\",\"2022-08-06T00:00:00\",\"2022-08-13T00:00:00\",\"2022-08-20T00:00:00\",\"2022-08-27T00:00:00\",\"2022-09-03T00:00:00\",\"2022-09-10T00:00:00\",\"2022-09-17T00:00:00\",\"2022-09-24T00:00:00\",\"2022-10-01T00:00:00\",\"2022-10-08T00:00:00\",\"2022-10-15T00:00:00\",\"2022-10-22T00:00:00\",\"2022-10-29T00:00:00\",\"2022-11-05T00:00:00\",\"2022-11-12T00:00:00\",\"2022-11-19T00:00:00\",\"2022-11-26T00:00:00\",\"2022-12-03T00:00:00\",\"2022-12-10T00:00:00\",\"2022-12-17T00:00:00\",\"2022-12-24T00:00:00\",\"2022-12-31T00:00:00\",\"2023-01-07T00:00:00\",\"2023-01-14T00:00:00\",\"2023-01-21T00:00:00\",\"2023-01-28T00:00:00\",\"2023-02-04T00:00:00\",\"2023-02-11T00:00:00\",\"2023-02-18T00:00:00\",\"2023-02-25T00:00:00\",\"2023-03-04T00:00:00\",\"2023-03-11T00:00:00\",\"2023-03-18T00:00:00\",\"2023-03-25T00:00:00\",\"2023-04-01T00:00:00\",\"2023-04-08T00:00:00\",\"2023-04-15T00:00:00\",\"2023-04-22T00:00:00\",\"2023-04-29T00:00:00\",\"2023-05-06T00:00:00\",\"2023-05-13T00:00:00\",\"2023-05-20T00:00:00\",\"2023-05-27T00:00:00\",\"2023-06-03T00:00:00\",\"2023-06-10T00:00:00\",\"2023-06-17T00:00:00\",\"2023-06-24T00:00:00\",\"2023-07-01T00:00:00\",\"2023-07-08T00:00:00\",\"2023-07-15T00:00:00\",\"2023-07-22T00:00:00\",\"2023-07-29T00:00:00\",\"2023-08-05T00:00:00\",\"2023-08-12T00:00:00\",\"2023-08-19T00:00:00\",\"2023-08-26T00:00:00\",\"2023-09-02T00:00:00\",\"2023-09-09T00:00:00\",\"2023-09-16T00:00:00\",\"2023-09-23T00:00:00\",\"2023-09-30T00:00:00\",\"2023-10-07T00:00:00\",\"2023-10-14T00:00:00\",\"2023-10-21T00:00:00\",\"2023-10-28T00:00:00\",\"2023-11-04T00:00:00\",\"2023-11-11T00:00:00\",\"2023-11-18T00:00:00\",\"2023-11-25T00:00:00\",\"2023-12-02T00:00:00\",\"2023-12-09T00:00:00\",\"2023-12-16T00:00:00\",\"2023-12-23T00:00:00\",\"2023-12-30T00:00:00\",\"2024-01-06T00:00:00\",\"2024-01-13T00:00:00\",\"2024-01-20T00:00:00\",\"2024-01-27T00:00:00\",\"2024-02-03T00:00:00\",\"2024-02-10T00:00:00\",\"2024-02-17T00:00:00\",\"2024-02-24T00:00:00\",\"2024-03-02T00:00:00\",\"2024-03-09T00:00:00\",\"2024-03-16T00:00:00\",\"2024-03-23T00:00:00\",\"2024-03-30T00:00:00\",\"2024-04-06T00:00:00\",\"2024-04-13T00:00:00\",\"2024-04-20T00:00:00\",\"2024-04-27T00:00:00\",\"2024-05-04T00:00:00\",\"2024-05-11T00:00:00\",\"2024-05-18T00:00:00\",\"2024-05-25T00:00:00\",\"2024-06-01T00:00:00\",\"2024-06-08T00:00:00\",\"2024-06-15T00:00:00\",\"2024-06-22T00:00:00\",\"2024-06-29T00:00:00\",\"2024-07-06T00:00:00\",\"2024-07-13T00:00:00\",\"2024-07-20T00:00:00\",\"2024-07-27T00:00:00\",\"2024-08-03T00:00:00\",\"2024-08-10T00:00:00\",\"2024-08-17T00:00:00\",\"2024-08-24T00:00:00\",\"2024-08-31T00:00:00\",\"2024-09-07T00:00:00\",\"2024-09-14T00:00:00\",\"2024-09-21T00:00:00\",\"2024-09-28T00:00:00\",\"2024-10-05T00:00:00\",\"2024-10-12T00:00:00\",\"2024-10-19T00:00:00\",\"2024-10-26T00:00:00\",\"2024-11-02T00:00:00\",\"2024-11-09T00:00:00\",\"2024-11-16T00:00:00\",\"2024-11-23T00:00:00\",\"2024-11-30T00:00:00\",\"2024-12-07T00:00:00\",\"2024-12-14T00:00:00\",\"2024-12-21T00:00:00\",\"2024-12-28T00:00:00\",\"2025-01-04T00:00:00\",\"2025-01-11T00:00:00\",\"2025-01-18T00:00:00\",\"2025-01-25T00:00:00\",\"2025-02-01T00:00:00\",\"2025-02-08T00:00:00\",\"2025-02-15T00:00:00\",\"2025-02-22T00:00:00\",\"2025-03-01T00:00:00\",\"2025-03-08T00:00:00\",\"2025-03-15T00:00:00\",\"2025-03-22T00:00:00\",\"2025-03-29T00:00:00\",\"2025-04-05T00:00:00\",\"2025-04-12T00:00:00\",\"2025-04-19T00:00:00\",\"2025-04-26T00:00:00\",\"2025-05-03T00:00:00\",\"2025-05-10T00:00:00\",\"2025-05-17T00:00:00\"],\"y\":[1091.0,1162.0,1491.0,1603.0,1791.0,2094.0,2622.0,2917.0,3000.0,3135.0,3297.0,3468.0,3179.0,3172.0,3117.0,3130.0,2737.0,2676.0,2202.0,1775.0,1366.0,1073.0,776.0,766.0,627.0,522.0,486.0,490.0,483.0,483.0,545.0,576.0,665.0,796.0,921.0,1306.0,1670.0,2273.0,4181.0,6401.0,8589.0,10969.0,18173.0,26829.0,24035.0,21607.0,19624.0,19474.0,14074.0,7183.0,4488.0,3091.0,2594.0,2176.0,1908.0,1647.0,1501.0,1372.0,1415.0,1330.0,1295.0,1198.0,1077.0,980.0,903.0,994.0,978.0,1116.0,974.0,939.0,935.0,873.0,813.0,836.0,699.0,736.0,645.0,769.0,690.0,705.0,738.0,792.0,875.0,803.0,821.0,881.0,1026.0,1108.0,1214.0,1469.0,1614.0,2012.0,2775.0,3491.0,4386.0,5954.0,7495.0,10269.0,15717.0,21682.0,19548.0,15902.0,13302.0,13025.0,11963.0,11629.0,11126.0,10869.0,10814.0,9416.0,7324.0,6049.0,5574.0,5071.0,4073.0,2943.0,2420.0,1485.0,852.0,681.0,610.0,590.0,511.0,517.0,441.0,356.0,341.0,367.0,324.0,273.0,275.0,275.0,273.0,274.0,259.0,223.0,319.0,293.0,223.0,286.0,288.0,552.0,1079.0,975.0,2076.0,2529.0,3089.0,4278.0,6286.0,9152.0,15399.0,27651.0,38672.0,30698.0,32963.0,40566.0,51141.0,54115.0,46036.0,37647.0,30753.0,23970.0,18369.0,13620.0,9664.0,6683.0,4863.0,3818.0,3213.0,2434.0,2078.0,1636.0],\"type\":\"scatter\"},{\"line\":{\"color\":\"#414487\"},\"mode\":\"lines\",\"name\":\"CES-hi-80\",\"x\":[\"2024-11-23T00:00:00\",\"2024-11-30T00:00:00\",\"2024-12-07T00:00:00\",\"2024-12-14T00:00:00\"],\"y\":[8769.08603515625,14175.68447265625,13212.479003906252,13522.485058593751],\"type\":\"scatter\"},{\"line\":{\"color\":\"#1e9c89\"},\"mode\":\"lines\",\"name\":\"CES-hi-95\",\"x\":[\"2024-11-23T00:00:00\",\"2024-11-30T00:00:00\",\"2024-12-07T00:00:00\",\"2024-12-14T00:00:00\"],\"y\":[9890.292016601557,15238.245800781247,14342.027734374997,14598.148583984375],\"type\":\"scatter\"},{\"fill\":\"tonexty\",\"fillcolor\":\"#1e9c89\",\"line\":{\"color\":\"#1e9c89\"},\"mode\":\"lines\",\"name\":\"CES-lo-95\",\"x\":[\"2024-11-23T00:00:00\",\"2024-11-30T00:00:00\",\"2024-12-07T00:00:00\",\"2024-12-14T00:00:00\"],\"y\":[3340.729174804688,8888.653784179687,8069.254016113282,8509.9005859375],\"type\":\"scatter\"},{\"fill\":\"tonexty\",\"fillcolor\":\"#414487\",\"line\":{\"color\":\"#414487\"},\"mode\":\"lines\",\"name\":\"CES-lo-80\",\"x\":[\"2024-11-23T00:00:00\",\"2024-11-30T00:00:00\",\"2024-12-07T00:00:00\",\"2024-12-14T00:00:00\"],\"y\":[4440.516552734375,9941.5189453125,9200.5068359375,9503.90419921875],\"type\":\"scatter\"},{\"line\":{\"color\":\"#2c728e\"},\"mode\":\"lines\",\"name\":\"CES\",\"x\":[\"2024-11-23T00:00:00\",\"2024-11-30T00:00:00\",\"2024-12-07T00:00:00\",\"2024-12-14T00:00:00\"],\"y\":[6635.533050537109,12024.814575195312,11193.585266113281,11508.361267089844],\"type\":\"scatter\"}],                        {\"template\":{\"data\":{\"histogram2dcontour\":[{\"type\":\"histogram2dcontour\",\"colorbar\":{\"outlinewidth\":0,\"ticks\":\"\"},\"colorscale\":[[0.0,\"#0d0887\"],[0.1111111111111111,\"#46039f\"],[0.2222222222222222,\"#7201a8\"],[0.3333333333333333,\"#9c179e\"],[0.4444444444444444,\"#bd3786\"],[0.5555555555555556,\"#d8576b\"],[0.6666666666666666,\"#ed7953\"],[0.7777777777777778,\"#fb9f3a\"],[0.8888888888888888,\"#fdca26\"],[1.0,\"#f0f921\"]]}],\"choropleth\":[{\"type\":\"choropleth\",\"colorbar\":{\"outlinewidth\":0,\"ticks\":\"\"}}],\"histogram2d\":[{\"type\":\"histogram2d\",\"colorbar\":{\"outlinewidth\":0,\"ticks\":\"\"},\"colorscale\":[[0.0,\"#0d0887\"],[0.1111111111111111,\"#46039f\"],[0.2222222222222222,\"#7201a8\"],[0.3333333333333333,\"#9c179e\"],[0.4444444444444444,\"#bd3786\"],[0.5555555555555556,\"#d8576b\"],[0.6666666666666666,\"#ed7953\"],[0.7777777777777778,\"#fb9f3a\"],[0.8888888888888888,\"#fdca26\"],[1.0,\"#f0f921\"]]}],\"heatmap\":[{\"type\":\"heatmap\",\"colorbar\":{\"outlinewidth\":0,\"ticks\":\"\"},\"colorscale\":[[0.0,\"#0d0887\"],[0.1111111111111111,\"#46039f\"],[0.2222222222222222,\"#7201a8\"],[0.3333333333333333,\"#9c179e\"],[0.4444444444444444,\"#bd3786\"],[0.5555555555555556,\"#d8576b\"],[0.6666666666666666,\"#ed7953\"],[0.7777777777777778,\"#fb9f3a\"],[0.8888888888888888,\"#fdca26\"],[1.0,\"#f0f921\"]]}],\"heatmapgl\":[{\"type\":\"heatmapgl\",\"colorbar\":{\"outlinewidth\":0,\"ticks\":\"\"},\"colorscale\":[[0.0,\"#0d0887\"],[0.1111111111111111,\"#46039f\"],[0.2222222222222222,\"#7201a8\"],[0.3333333333333333,\"#9c179e\"],[0.4444444444444444,\"#bd3786\"],[0.5555555555555556,\"#d8576b\"],[0.6666666666666666,\"#ed7953\"],[0.7777777777777778,\"#fb9f3a\"],[0.8888888888888888,\"#fdca26\"],[1.0,\"#f0f921\"]]}],\"contourcarpet\":[{\"type\":\"contourcarpet\",\"colorbar\":{\"outlinewidth\":0,\"ticks\":\"\"}}],\"contour\":[{\"type\":\"contour\",\"colorbar\":{\"outlinewidth\":0,\"ticks\":\"\"},\"colorscale\":[[0.0,\"#0d0887\"],[0.1111111111111111,\"#46039f\"],[0.2222222222222222,\"#7201a8\"],[0.3333333333333333,\"#9c179e\"],[0.4444444444444444,\"#bd3786\"],[0.5555555555555556,\"#d8576b\"],[0.6666666666666666,\"#ed7953\"],[0.7777777777777778,\"#fb9f3a\"],[0.8888888888888888,\"#fdca26\"],[1.0,\"#f0f921\"]]}],\"surface\":[{\"type\":\"surface\",\"colorbar\":{\"outlinewidth\":0,\"ticks\":\"\"},\"colorscale\":[[0.0,\"#0d0887\"],[0.1111111111111111,\"#46039f\"],[0.2222222222222222,\"#7201a8\"],[0.3333333333333333,\"#9c179e\"],[0.4444444444444444,\"#bd3786\"],[0.5555555555555556,\"#d8576b\"],[0.6666666666666666,\"#ed7953\"],[0.7777777777777778,\"#fb9f3a\"],[0.8888888888888888,\"#fdca26\"],[1.0,\"#f0f921\"]]}],\"mesh3d\":[{\"type\":\"mesh3d\",\"colorbar\":{\"outlinewidth\":0,\"ticks\":\"\"}}],\"scatter\":[{\"fillpattern\":{\"fillmode\":\"overlay\",\"size\":10,\"solidity\":0.2},\"type\":\"scatter\"}],\"parcoords\":[{\"type\":\"parcoords\",\"line\":{\"colorbar\":{\"outlinewidth\":0,\"ticks\":\"\"}}}],\"scatterpolargl\":[{\"type\":\"scatterpolargl\",\"marker\":{\"colorbar\":{\"outlinewidth\":0,\"ticks\":\"\"}}}],\"bar\":[{\"error_x\":{\"color\":\"#2a3f5f\"},\"error_y\":{\"color\":\"#2a3f5f\"},\"marker\":{\"line\":{\"color\":\"#E5ECF6\",\"width\":0.5},\"pattern\":{\"fillmode\":\"overlay\",\"size\":10,\"solidity\":0.2}},\"type\":\"bar\"}],\"scattergeo\":[{\"type\":\"scattergeo\",\"marker\":{\"colorbar\":{\"outlinewidth\":0,\"ticks\":\"\"}}}],\"scatterpolar\":[{\"type\":\"scatterpolar\",\"marker\":{\"colorbar\":{\"outlinewidth\":0,\"ticks\":\"\"}}}],\"histogram\":[{\"marker\":{\"pattern\":{\"fillmode\":\"overlay\",\"size\":10,\"solidity\":0.2}},\"type\":\"histogram\"}],\"scattergl\":[{\"type\":\"scattergl\",\"marker\":{\"colorbar\":{\"outlinewidth\":0,\"ticks\":\"\"}}}],\"scatter3d\":[{\"type\":\"scatter3d\",\"line\":{\"colorbar\":{\"outlinewidth\":0,\"ticks\":\"\"}},\"marker\":{\"colorbar\":{\"outlinewidth\":0,\"ticks\":\"\"}}}],\"scattermapbox\":[{\"type\":\"scattermapbox\",\"marker\":{\"colorbar\":{\"outlinewidth\":0,\"ticks\":\"\"}}}],\"scatterternary\":[{\"type\":\"scatterternary\",\"marker\":{\"colorbar\":{\"outlinewidth\":0,\"ticks\":\"\"}}}],\"scattercarpet\":[{\"type\":\"scattercarpet\",\"marker\":{\"colorbar\":{\"outlinewidth\":0,\"ticks\":\"\"}}}],\"carpet\":[{\"aaxis\":{\"endlinecolor\":\"#2a3f5f\",\"gridcolor\":\"white\",\"linecolor\":\"white\",\"minorgridcolor\":\"white\",\"startlinecolor\":\"#2a3f5f\"},\"baxis\":{\"endlinecolor\":\"#2a3f5f\",\"gridcolor\":\"white\",\"linecolor\":\"white\",\"minorgridcolor\":\"white\",\"startlinecolor\":\"#2a3f5f\"},\"type\":\"carpet\"}],\"table\":[{\"cells\":{\"fill\":{\"color\":\"#EBF0F8\"},\"line\":{\"color\":\"white\"}},\"header\":{\"fill\":{\"color\":\"#C8D4E3\"},\"line\":{\"color\":\"white\"}},\"type\":\"table\"}],\"barpolar\":[{\"marker\":{\"line\":{\"color\":\"#E5ECF6\",\"width\":0.5},\"pattern\":{\"fillmode\":\"overlay\",\"size\":10,\"solidity\":0.2}},\"type\":\"barpolar\"}],\"pie\":[{\"automargin\":true,\"type\":\"pie\"}]},\"layout\":{\"autotypenumbers\":\"strict\",\"colorway\":[\"#636efa\",\"#EF553B\",\"#00cc96\",\"#ab63fa\",\"#FFA15A\",\"#19d3f3\",\"#FF6692\",\"#B6E880\",\"#FF97FF\",\"#FECB52\"],\"font\":{\"color\":\"#2a3f5f\"},\"hovermode\":\"closest\",\"hoverlabel\":{\"align\":\"left\"},\"paper_bgcolor\":\"white\",\"plot_bgcolor\":\"#E5ECF6\",\"polar\":{\"bgcolor\":\"#E5ECF6\",\"angularaxis\":{\"gridcolor\":\"white\",\"linecolor\":\"white\",\"ticks\":\"\"},\"radialaxis\":{\"gridcolor\":\"white\",\"linecolor\":\"white\",\"ticks\":\"\"}},\"ternary\":{\"bgcolor\":\"#E5ECF6\",\"aaxis\":{\"gridcolor\":\"white\",\"linecolor\":\"white\",\"ticks\":\"\"},\"baxis\":{\"gridcolor\":\"white\",\"linecolor\":\"white\",\"ticks\":\"\"},\"caxis\":{\"gridcolor\":\"white\",\"linecolor\":\"white\",\"ticks\":\"\"}},\"coloraxis\":{\"colorbar\":{\"outlinewidth\":0,\"ticks\":\"\"}},\"colorscale\":{\"sequential\":[[0.0,\"#0d0887\"],[0.1111111111111111,\"#46039f\"],[0.2222222222222222,\"#7201a8\"],[0.3333333333333333,\"#9c179e\"],[0.4444444444444444,\"#bd3786\"],[0.5555555555555556,\"#d8576b\"],[0.6666666666666666,\"#ed7953\"],[0.7777777777777778,\"#fb9f3a\"],[0.8888888888888888,\"#fdca26\"],[1.0,\"#f0f921\"]],\"sequentialminus\":[[0.0,\"#0d0887\"],[0.1111111111111111,\"#46039f\"],[0.2222222222222222,\"#7201a8\"],[0.3333333333333333,\"#9c179e\"],[0.4444444444444444,\"#bd3786\"],[0.5555555555555556,\"#d8576b\"],[0.6666666666666666,\"#ed7953\"],[0.7777777777777778,\"#fb9f3a\"],[0.8888888888888888,\"#fdca26\"],[1.0,\"#f0f921\"]],\"diverging\":[[0,\"#8e0152\"],[0.1,\"#c51b7d\"],[0.2,\"#de77ae\"],[0.3,\"#f1b6da\"],[0.4,\"#fde0ef\"],[0.5,\"#f7f7f7\"],[0.6,\"#e6f5d0\"],[0.7,\"#b8e186\"],[0.8,\"#7fbc41\"],[0.9,\"#4d9221\"],[1,\"#276419\"]]},\"xaxis\":{\"gridcolor\":\"white\",\"linecolor\":\"white\",\"ticks\":\"\",\"title\":{\"standoff\":15},\"zerolinecolor\":\"white\",\"automargin\":true,\"zerolinewidth\":2},\"yaxis\":{\"gridcolor\":\"white\",\"linecolor\":\"white\",\"ticks\":\"\",\"title\":{\"standoff\":15},\"zerolinecolor\":\"white\",\"automargin\":true,\"zerolinewidth\":2},\"scene\":{\"xaxis\":{\"backgroundcolor\":\"#E5ECF6\",\"gridcolor\":\"white\",\"linecolor\":\"white\",\"showbackground\":true,\"ticks\":\"\",\"zerolinecolor\":\"white\",\"gridwidth\":2},\"yaxis\":{\"backgroundcolor\":\"#E5ECF6\",\"gridcolor\":\"white\",\"linecolor\":\"white\",\"showbackground\":true,\"ticks\":\"\",\"zerolinecolor\":\"white\",\"gridwidth\":2},\"zaxis\":{\"backgroundcolor\":\"#E5ECF6\",\"gridcolor\":\"white\",\"linecolor\":\"white\",\"showbackground\":true,\"ticks\":\"\",\"zerolinecolor\":\"white\",\"gridwidth\":2}},\"shapedefaults\":{\"line\":{\"color\":\"#2a3f5f\"}},\"annotationdefaults\":{\"arrowcolor\":\"#2a3f5f\",\"arrowhead\":0,\"arrowwidth\":1},\"geo\":{\"bgcolor\":\"white\",\"landcolor\":\"#E5ECF6\",\"subunitcolor\":\"white\",\"showland\":true,\"showlakes\":true,\"lakecolor\":\"white\"},\"title\":{\"x\":0.05},\"mapbox\":{\"style\":\"light\"}}},\"title\":{\"text\":\"Updating Parameter CES Predictions, 2024-11-16\"},\"xaxis\":{\"title\":{\"text\":\"Date\"}},\"yaxis\":{\"title\":{\"text\":\"Count\"}},\"hovermode\":\"x\"},                        {\"responsive\": true}                    ).then(function(){\n",
       "                            \n",
       "var gd = document.getElementById('0566981e-d9ef-4230-a387-ae9b0b621b65');\n",
       "var x = new MutationObserver(function (mutations, observer) {{\n",
       "        var display = window.getComputedStyle(gd).display;\n",
       "        if (!display || display === 'none') {{\n",
       "            console.log([gd, 'removed!']);\n",
       "            Plotly.purge(gd);\n",
       "            observer.disconnect();\n",
       "        }}\n",
       "}});\n",
       "\n",
       "// Listen for the removal of the full notebook cells\n",
       "var notebookContainer = gd.closest('#notebook-container');\n",
       "if (notebookContainer) {{\n",
       "    x.observe(notebookContainer, {childList: true});\n",
       "}}\n",
       "\n",
       "// Listen for the clearing of the current output cell\n",
       "var outputEl = gd.closest('.output');\n",
       "if (outputEl) {{\n",
       "    x.observe(outputEl, {childList: true});\n",
       "}}\n",
       "\n",
       "                        })                };                });            </script>        </div>"
      ]
     },
     "metadata": {},
     "output_type": "display_data"
    },
    {
     "data": {
      "application/vnd.plotly.v1+json": {
       "config": {
        "plotlyServerURL": "https://plot.ly"
       },
       "data": [
        {
         "mode": "lines",
         "name": "Real Data",
         "type": "scatter",
         "x": [
          "2022-02-05T00:00:00",
          "2022-02-12T00:00:00",
          "2022-02-19T00:00:00",
          "2022-02-26T00:00:00",
          "2022-03-05T00:00:00",
          "2022-03-12T00:00:00",
          "2022-03-19T00:00:00",
          "2022-03-26T00:00:00",
          "2022-04-02T00:00:00",
          "2022-04-09T00:00:00",
          "2022-04-16T00:00:00",
          "2022-04-23T00:00:00",
          "2022-04-30T00:00:00",
          "2022-05-07T00:00:00",
          "2022-05-14T00:00:00",
          "2022-05-21T00:00:00",
          "2022-05-28T00:00:00",
          "2022-06-04T00:00:00",
          "2022-06-11T00:00:00",
          "2022-06-18T00:00:00",
          "2022-06-25T00:00:00",
          "2022-07-02T00:00:00",
          "2022-07-09T00:00:00",
          "2022-07-16T00:00:00",
          "2022-07-23T00:00:00",
          "2022-07-30T00:00:00",
          "2022-08-06T00:00:00",
          "2022-08-13T00:00:00",
          "2022-08-20T00:00:00",
          "2022-08-27T00:00:00",
          "2022-09-03T00:00:00",
          "2022-09-10T00:00:00",
          "2022-09-17T00:00:00",
          "2022-09-24T00:00:00",
          "2022-10-01T00:00:00",
          "2022-10-08T00:00:00",
          "2022-10-15T00:00:00",
          "2022-10-22T00:00:00",
          "2022-10-29T00:00:00",
          "2022-11-05T00:00:00",
          "2022-11-12T00:00:00",
          "2022-11-19T00:00:00",
          "2022-11-26T00:00:00",
          "2022-12-03T00:00:00",
          "2022-12-10T00:00:00",
          "2022-12-17T00:00:00",
          "2022-12-24T00:00:00",
          "2022-12-31T00:00:00",
          "2023-01-07T00:00:00",
          "2023-01-14T00:00:00",
          "2023-01-21T00:00:00",
          "2023-01-28T00:00:00",
          "2023-02-04T00:00:00",
          "2023-02-11T00:00:00",
          "2023-02-18T00:00:00",
          "2023-02-25T00:00:00",
          "2023-03-04T00:00:00",
          "2023-03-11T00:00:00",
          "2023-03-18T00:00:00",
          "2023-03-25T00:00:00",
          "2023-04-01T00:00:00",
          "2023-04-08T00:00:00",
          "2023-04-15T00:00:00",
          "2023-04-22T00:00:00",
          "2023-04-29T00:00:00",
          "2023-05-06T00:00:00",
          "2023-05-13T00:00:00",
          "2023-05-20T00:00:00",
          "2023-05-27T00:00:00",
          "2023-06-03T00:00:00",
          "2023-06-10T00:00:00",
          "2023-06-17T00:00:00",
          "2023-06-24T00:00:00",
          "2023-07-01T00:00:00",
          "2023-07-08T00:00:00",
          "2023-07-15T00:00:00",
          "2023-07-22T00:00:00",
          "2023-07-29T00:00:00",
          "2023-08-05T00:00:00",
          "2023-08-12T00:00:00",
          "2023-08-19T00:00:00",
          "2023-08-26T00:00:00",
          "2023-09-02T00:00:00",
          "2023-09-09T00:00:00",
          "2023-09-16T00:00:00",
          "2023-09-23T00:00:00",
          "2023-09-30T00:00:00",
          "2023-10-07T00:00:00",
          "2023-10-14T00:00:00",
          "2023-10-21T00:00:00",
          "2023-10-28T00:00:00",
          "2023-11-04T00:00:00",
          "2023-11-11T00:00:00",
          "2023-11-18T00:00:00",
          "2023-11-25T00:00:00",
          "2023-12-02T00:00:00",
          "2023-12-09T00:00:00",
          "2023-12-16T00:00:00",
          "2023-12-23T00:00:00",
          "2023-12-30T00:00:00",
          "2024-01-06T00:00:00",
          "2024-01-13T00:00:00",
          "2024-01-20T00:00:00",
          "2024-01-27T00:00:00",
          "2024-02-03T00:00:00",
          "2024-02-10T00:00:00",
          "2024-02-17T00:00:00",
          "2024-02-24T00:00:00",
          "2024-03-02T00:00:00",
          "2024-03-09T00:00:00",
          "2024-03-16T00:00:00",
          "2024-03-23T00:00:00",
          "2024-03-30T00:00:00",
          "2024-04-06T00:00:00",
          "2024-04-13T00:00:00",
          "2024-04-20T00:00:00",
          "2024-04-27T00:00:00",
          "2024-05-04T00:00:00",
          "2024-05-11T00:00:00",
          "2024-05-18T00:00:00",
          "2024-05-25T00:00:00",
          "2024-06-01T00:00:00",
          "2024-06-08T00:00:00",
          "2024-06-15T00:00:00",
          "2024-06-22T00:00:00",
          "2024-06-29T00:00:00",
          "2024-07-06T00:00:00",
          "2024-07-13T00:00:00",
          "2024-07-20T00:00:00",
          "2024-07-27T00:00:00",
          "2024-08-03T00:00:00",
          "2024-08-10T00:00:00",
          "2024-08-17T00:00:00",
          "2024-08-24T00:00:00",
          "2024-08-31T00:00:00",
          "2024-09-07T00:00:00",
          "2024-09-14T00:00:00",
          "2024-09-21T00:00:00",
          "2024-09-28T00:00:00",
          "2024-10-05T00:00:00",
          "2024-10-12T00:00:00",
          "2024-10-19T00:00:00",
          "2024-10-26T00:00:00",
          "2024-11-02T00:00:00",
          "2024-11-09T00:00:00",
          "2024-11-16T00:00:00",
          "2024-11-23T00:00:00",
          "2024-11-30T00:00:00",
          "2024-12-07T00:00:00",
          "2024-12-14T00:00:00",
          "2024-12-21T00:00:00",
          "2024-12-28T00:00:00",
          "2025-01-04T00:00:00",
          "2025-01-11T00:00:00",
          "2025-01-18T00:00:00",
          "2025-01-25T00:00:00",
          "2025-02-01T00:00:00",
          "2025-02-08T00:00:00",
          "2025-02-15T00:00:00",
          "2025-02-22T00:00:00",
          "2025-03-01T00:00:00",
          "2025-03-08T00:00:00",
          "2025-03-15T00:00:00",
          "2025-03-22T00:00:00",
          "2025-03-29T00:00:00",
          "2025-04-05T00:00:00",
          "2025-04-12T00:00:00",
          "2025-04-19T00:00:00",
          "2025-04-26T00:00:00",
          "2025-05-03T00:00:00",
          "2025-05-10T00:00:00",
          "2025-05-17T00:00:00"
         ],
         "y": [
          1091,
          1162,
          1491,
          1603,
          1791,
          2094,
          2622,
          2917,
          3000,
          3135,
          3297,
          3468,
          3179,
          3172,
          3117,
          3130,
          2737,
          2676,
          2202,
          1775,
          1366,
          1073,
          776,
          766,
          627,
          522,
          486,
          490,
          483,
          483,
          545,
          576,
          665,
          796,
          921,
          1306,
          1670,
          2273,
          4181,
          6401,
          8589,
          10969,
          18173,
          26829,
          24035,
          21607,
          19624,
          19474,
          14074,
          7183,
          4488,
          3091,
          2594,
          2176,
          1908,
          1647,
          1501,
          1372,
          1415,
          1330,
          1295,
          1198,
          1077,
          980,
          903,
          994,
          978,
          1116,
          974,
          939,
          935,
          873,
          813,
          836,
          699,
          736,
          645,
          769,
          690,
          705,
          738,
          792,
          875,
          803,
          821,
          881,
          1026,
          1108,
          1214,
          1469,
          1614,
          2012,
          2775,
          3491,
          4386,
          5954,
          7495,
          10269,
          15717,
          21682,
          19548,
          15902,
          13302,
          13025,
          11963,
          11629,
          11126,
          10869,
          10814,
          9416,
          7324,
          6049,
          5574,
          5071,
          4073,
          2943,
          2420,
          1485,
          852,
          681,
          610,
          590,
          511,
          517,
          441,
          356,
          341,
          367,
          324,
          273,
          275,
          275,
          273,
          274,
          259,
          223,
          319,
          293,
          223,
          286,
          288,
          552,
          1079,
          975,
          2076,
          2529,
          3089,
          4278,
          6286,
          9152,
          15399,
          27651,
          38672,
          30698,
          32963,
          40566,
          51141,
          54115,
          46036,
          37647,
          30753,
          23970,
          18369,
          13620,
          9664,
          6683,
          4863,
          3818,
          3213,
          2434,
          2078,
          1636
         ]
        },
        {
         "line": {
          "color": "#414487"
         },
         "mode": "lines",
         "name": "CES-hi-80",
         "type": "scatter",
         "x": [
          "2024-12-14T00:00:00",
          "2024-12-21T00:00:00",
          "2024-12-28T00:00:00",
          "2025-01-04T00:00:00"
         ],
         "y": [
          9505.830175781251,
          10631.090429687501,
          13360.242578125,
          10008.98984375
         ]
        },
        {
         "line": {
          "color": "#1e9c89"
         },
         "mode": "lines",
         "name": "CES-hi-95",
         "type": "scatter",
         "x": [
          "2024-12-14T00:00:00",
          "2024-12-21T00:00:00",
          "2024-12-28T00:00:00",
          "2025-01-04T00:00:00"
         ],
         "y": [
          10677.933422851562,
          11755.050463867181,
          14534.933227539059,
          11110.327685546868
         ]
        },
        {
         "fill": "tonexty",
         "fillcolor": "#1e9c89",
         "line": {
          "color": "#1e9c89"
         },
         "mode": "lines",
         "name": "CES-lo-95",
         "type": "scatter",
         "x": [
          "2024-12-14T00:00:00",
          "2024-12-21T00:00:00",
          "2024-12-28T00:00:00",
          "2025-01-04T00:00:00"
         ],
         "y": [
          3969.4115661621095,
          4922.806188964844,
          8011.983886718751,
          4551.230505371094
         ]
        },
        {
         "fill": "tonexty",
         "fillcolor": "#414487",
         "line": {
          "color": "#414487"
         },
         "mode": "lines",
         "name": "CES-lo-80",
         "type": "scatter",
         "x": [
          "2024-12-14T00:00:00",
          "2024-12-21T00:00:00",
          "2024-12-28T00:00:00",
          "2025-01-04T00:00:00"
         ],
         "y": [
          5152.652978515624,
          6149.595654296875,
          9164.55185546875,
          5778.5875
         ]
        },
        {
         "line": {
          "color": "#2c728e"
         },
         "mode": "lines",
         "name": "CES",
         "type": "scatter",
         "x": [
          "2024-12-14T00:00:00",
          "2024-12-21T00:00:00",
          "2024-12-28T00:00:00",
          "2025-01-04T00:00:00"
         ],
         "y": [
          7298.2769775390625,
          8370.3818359375,
          11274.383422851562,
          7865.4063720703125
         ]
        }
       ],
       "layout": {
        "autosize": true,
        "hovermode": "x",
        "template": {
         "data": {
          "bar": [
           {
            "error_x": {
             "color": "#2a3f5f"
            },
            "error_y": {
             "color": "#2a3f5f"
            },
            "marker": {
             "line": {
              "color": "#E5ECF6",
              "width": 0.5
             },
             "pattern": {
              "fillmode": "overlay",
              "size": 10,
              "solidity": 0.2
             }
            },
            "type": "bar"
           }
          ],
          "barpolar": [
           {
            "marker": {
             "line": {
              "color": "#E5ECF6",
              "width": 0.5
             },
             "pattern": {
              "fillmode": "overlay",
              "size": 10,
              "solidity": 0.2
             }
            },
            "type": "barpolar"
           }
          ],
          "carpet": [
           {
            "aaxis": {
             "endlinecolor": "#2a3f5f",
             "gridcolor": "white",
             "linecolor": "white",
             "minorgridcolor": "white",
             "startlinecolor": "#2a3f5f"
            },
            "baxis": {
             "endlinecolor": "#2a3f5f",
             "gridcolor": "white",
             "linecolor": "white",
             "minorgridcolor": "white",
             "startlinecolor": "#2a3f5f"
            },
            "type": "carpet"
           }
          ],
          "choropleth": [
           {
            "colorbar": {
             "outlinewidth": 0,
             "ticks": ""
            },
            "type": "choropleth"
           }
          ],
          "contour": [
           {
            "colorbar": {
             "outlinewidth": 0,
             "ticks": ""
            },
            "colorscale": [
             [
              0,
              "#0d0887"
             ],
             [
              0.1111111111111111,
              "#46039f"
             ],
             [
              0.2222222222222222,
              "#7201a8"
             ],
             [
              0.3333333333333333,
              "#9c179e"
             ],
             [
              0.4444444444444444,
              "#bd3786"
             ],
             [
              0.5555555555555556,
              "#d8576b"
             ],
             [
              0.6666666666666666,
              "#ed7953"
             ],
             [
              0.7777777777777778,
              "#fb9f3a"
             ],
             [
              0.8888888888888888,
              "#fdca26"
             ],
             [
              1,
              "#f0f921"
             ]
            ],
            "type": "contour"
           }
          ],
          "contourcarpet": [
           {
            "colorbar": {
             "outlinewidth": 0,
             "ticks": ""
            },
            "type": "contourcarpet"
           }
          ],
          "heatmap": [
           {
            "colorbar": {
             "outlinewidth": 0,
             "ticks": ""
            },
            "colorscale": [
             [
              0,
              "#0d0887"
             ],
             [
              0.1111111111111111,
              "#46039f"
             ],
             [
              0.2222222222222222,
              "#7201a8"
             ],
             [
              0.3333333333333333,
              "#9c179e"
             ],
             [
              0.4444444444444444,
              "#bd3786"
             ],
             [
              0.5555555555555556,
              "#d8576b"
             ],
             [
              0.6666666666666666,
              "#ed7953"
             ],
             [
              0.7777777777777778,
              "#fb9f3a"
             ],
             [
              0.8888888888888888,
              "#fdca26"
             ],
             [
              1,
              "#f0f921"
             ]
            ],
            "type": "heatmap"
           }
          ],
          "heatmapgl": [
           {
            "colorbar": {
             "outlinewidth": 0,
             "ticks": ""
            },
            "colorscale": [
             [
              0,
              "#0d0887"
             ],
             [
              0.1111111111111111,
              "#46039f"
             ],
             [
              0.2222222222222222,
              "#7201a8"
             ],
             [
              0.3333333333333333,
              "#9c179e"
             ],
             [
              0.4444444444444444,
              "#bd3786"
             ],
             [
              0.5555555555555556,
              "#d8576b"
             ],
             [
              0.6666666666666666,
              "#ed7953"
             ],
             [
              0.7777777777777778,
              "#fb9f3a"
             ],
             [
              0.8888888888888888,
              "#fdca26"
             ],
             [
              1,
              "#f0f921"
             ]
            ],
            "type": "heatmapgl"
           }
          ],
          "histogram": [
           {
            "marker": {
             "pattern": {
              "fillmode": "overlay",
              "size": 10,
              "solidity": 0.2
             }
            },
            "type": "histogram"
           }
          ],
          "histogram2d": [
           {
            "colorbar": {
             "outlinewidth": 0,
             "ticks": ""
            },
            "colorscale": [
             [
              0,
              "#0d0887"
             ],
             [
              0.1111111111111111,
              "#46039f"
             ],
             [
              0.2222222222222222,
              "#7201a8"
             ],
             [
              0.3333333333333333,
              "#9c179e"
             ],
             [
              0.4444444444444444,
              "#bd3786"
             ],
             [
              0.5555555555555556,
              "#d8576b"
             ],
             [
              0.6666666666666666,
              "#ed7953"
             ],
             [
              0.7777777777777778,
              "#fb9f3a"
             ],
             [
              0.8888888888888888,
              "#fdca26"
             ],
             [
              1,
              "#f0f921"
             ]
            ],
            "type": "histogram2d"
           }
          ],
          "histogram2dcontour": [
           {
            "colorbar": {
             "outlinewidth": 0,
             "ticks": ""
            },
            "colorscale": [
             [
              0,
              "#0d0887"
             ],
             [
              0.1111111111111111,
              "#46039f"
             ],
             [
              0.2222222222222222,
              "#7201a8"
             ],
             [
              0.3333333333333333,
              "#9c179e"
             ],
             [
              0.4444444444444444,
              "#bd3786"
             ],
             [
              0.5555555555555556,
              "#d8576b"
             ],
             [
              0.6666666666666666,
              "#ed7953"
             ],
             [
              0.7777777777777778,
              "#fb9f3a"
             ],
             [
              0.8888888888888888,
              "#fdca26"
             ],
             [
              1,
              "#f0f921"
             ]
            ],
            "type": "histogram2dcontour"
           }
          ],
          "mesh3d": [
           {
            "colorbar": {
             "outlinewidth": 0,
             "ticks": ""
            },
            "type": "mesh3d"
           }
          ],
          "parcoords": [
           {
            "line": {
             "colorbar": {
              "outlinewidth": 0,
              "ticks": ""
             }
            },
            "type": "parcoords"
           }
          ],
          "pie": [
           {
            "automargin": true,
            "type": "pie"
           }
          ],
          "scatter": [
           {
            "fillpattern": {
             "fillmode": "overlay",
             "size": 10,
             "solidity": 0.2
            },
            "type": "scatter"
           }
          ],
          "scatter3d": [
           {
            "line": {
             "colorbar": {
              "outlinewidth": 0,
              "ticks": ""
             }
            },
            "marker": {
             "colorbar": {
              "outlinewidth": 0,
              "ticks": ""
             }
            },
            "type": "scatter3d"
           }
          ],
          "scattercarpet": [
           {
            "marker": {
             "colorbar": {
              "outlinewidth": 0,
              "ticks": ""
             }
            },
            "type": "scattercarpet"
           }
          ],
          "scattergeo": [
           {
            "marker": {
             "colorbar": {
              "outlinewidth": 0,
              "ticks": ""
             }
            },
            "type": "scattergeo"
           }
          ],
          "scattergl": [
           {
            "marker": {
             "colorbar": {
              "outlinewidth": 0,
              "ticks": ""
             }
            },
            "type": "scattergl"
           }
          ],
          "scattermapbox": [
           {
            "marker": {
             "colorbar": {
              "outlinewidth": 0,
              "ticks": ""
             }
            },
            "type": "scattermapbox"
           }
          ],
          "scatterpolar": [
           {
            "marker": {
             "colorbar": {
              "outlinewidth": 0,
              "ticks": ""
             }
            },
            "type": "scatterpolar"
           }
          ],
          "scatterpolargl": [
           {
            "marker": {
             "colorbar": {
              "outlinewidth": 0,
              "ticks": ""
             }
            },
            "type": "scatterpolargl"
           }
          ],
          "scatterternary": [
           {
            "marker": {
             "colorbar": {
              "outlinewidth": 0,
              "ticks": ""
             }
            },
            "type": "scatterternary"
           }
          ],
          "surface": [
           {
            "colorbar": {
             "outlinewidth": 0,
             "ticks": ""
            },
            "colorscale": [
             [
              0,
              "#0d0887"
             ],
             [
              0.1111111111111111,
              "#46039f"
             ],
             [
              0.2222222222222222,
              "#7201a8"
             ],
             [
              0.3333333333333333,
              "#9c179e"
             ],
             [
              0.4444444444444444,
              "#bd3786"
             ],
             [
              0.5555555555555556,
              "#d8576b"
             ],
             [
              0.6666666666666666,
              "#ed7953"
             ],
             [
              0.7777777777777778,
              "#fb9f3a"
             ],
             [
              0.8888888888888888,
              "#fdca26"
             ],
             [
              1,
              "#f0f921"
             ]
            ],
            "type": "surface"
           }
          ],
          "table": [
           {
            "cells": {
             "fill": {
              "color": "#EBF0F8"
             },
             "line": {
              "color": "white"
             }
            },
            "header": {
             "fill": {
              "color": "#C8D4E3"
             },
             "line": {
              "color": "white"
             }
            },
            "type": "table"
           }
          ]
         },
         "layout": {
          "annotationdefaults": {
           "arrowcolor": "#2a3f5f",
           "arrowhead": 0,
           "arrowwidth": 1
          },
          "autotypenumbers": "strict",
          "coloraxis": {
           "colorbar": {
            "outlinewidth": 0,
            "ticks": ""
           }
          },
          "colorscale": {
           "diverging": [
            [
             0,
             "#8e0152"
            ],
            [
             0.1,
             "#c51b7d"
            ],
            [
             0.2,
             "#de77ae"
            ],
            [
             0.3,
             "#f1b6da"
            ],
            [
             0.4,
             "#fde0ef"
            ],
            [
             0.5,
             "#f7f7f7"
            ],
            [
             0.6,
             "#e6f5d0"
            ],
            [
             0.7,
             "#b8e186"
            ],
            [
             0.8,
             "#7fbc41"
            ],
            [
             0.9,
             "#4d9221"
            ],
            [
             1,
             "#276419"
            ]
           ],
           "sequential": [
            [
             0,
             "#0d0887"
            ],
            [
             0.1111111111111111,
             "#46039f"
            ],
            [
             0.2222222222222222,
             "#7201a8"
            ],
            [
             0.3333333333333333,
             "#9c179e"
            ],
            [
             0.4444444444444444,
             "#bd3786"
            ],
            [
             0.5555555555555556,
             "#d8576b"
            ],
            [
             0.6666666666666666,
             "#ed7953"
            ],
            [
             0.7777777777777778,
             "#fb9f3a"
            ],
            [
             0.8888888888888888,
             "#fdca26"
            ],
            [
             1,
             "#f0f921"
            ]
           ],
           "sequentialminus": [
            [
             0,
             "#0d0887"
            ],
            [
             0.1111111111111111,
             "#46039f"
            ],
            [
             0.2222222222222222,
             "#7201a8"
            ],
            [
             0.3333333333333333,
             "#9c179e"
            ],
            [
             0.4444444444444444,
             "#bd3786"
            ],
            [
             0.5555555555555556,
             "#d8576b"
            ],
            [
             0.6666666666666666,
             "#ed7953"
            ],
            [
             0.7777777777777778,
             "#fb9f3a"
            ],
            [
             0.8888888888888888,
             "#fdca26"
            ],
            [
             1,
             "#f0f921"
            ]
           ]
          },
          "colorway": [
           "#636efa",
           "#EF553B",
           "#00cc96",
           "#ab63fa",
           "#FFA15A",
           "#19d3f3",
           "#FF6692",
           "#B6E880",
           "#FF97FF",
           "#FECB52"
          ],
          "font": {
           "color": "#2a3f5f"
          },
          "geo": {
           "bgcolor": "white",
           "lakecolor": "white",
           "landcolor": "#E5ECF6",
           "showlakes": true,
           "showland": true,
           "subunitcolor": "white"
          },
          "hoverlabel": {
           "align": "left"
          },
          "hovermode": "closest",
          "mapbox": {
           "style": "light"
          },
          "paper_bgcolor": "white",
          "plot_bgcolor": "#E5ECF6",
          "polar": {
           "angularaxis": {
            "gridcolor": "white",
            "linecolor": "white",
            "ticks": ""
           },
           "bgcolor": "#E5ECF6",
           "radialaxis": {
            "gridcolor": "white",
            "linecolor": "white",
            "ticks": ""
           }
          },
          "scene": {
           "xaxis": {
            "backgroundcolor": "#E5ECF6",
            "gridcolor": "white",
            "gridwidth": 2,
            "linecolor": "white",
            "showbackground": true,
            "ticks": "",
            "zerolinecolor": "white"
           },
           "yaxis": {
            "backgroundcolor": "#E5ECF6",
            "gridcolor": "white",
            "gridwidth": 2,
            "linecolor": "white",
            "showbackground": true,
            "ticks": "",
            "zerolinecolor": "white"
           },
           "zaxis": {
            "backgroundcolor": "#E5ECF6",
            "gridcolor": "white",
            "gridwidth": 2,
            "linecolor": "white",
            "showbackground": true,
            "ticks": "",
            "zerolinecolor": "white"
           }
          },
          "shapedefaults": {
           "line": {
            "color": "#2a3f5f"
           }
          },
          "ternary": {
           "aaxis": {
            "gridcolor": "white",
            "linecolor": "white",
            "ticks": ""
           },
           "baxis": {
            "gridcolor": "white",
            "linecolor": "white",
            "ticks": ""
           },
           "bgcolor": "#E5ECF6",
           "caxis": {
            "gridcolor": "white",
            "linecolor": "white",
            "ticks": ""
           }
          },
          "title": {
           "x": 0.05
          },
          "xaxis": {
           "automargin": true,
           "gridcolor": "white",
           "linecolor": "white",
           "ticks": "",
           "title": {
            "standoff": 15
           },
           "zerolinecolor": "white",
           "zerolinewidth": 2
          },
          "yaxis": {
           "automargin": true,
           "gridcolor": "white",
           "linecolor": "white",
           "ticks": "",
           "title": {
            "standoff": 15
           },
           "zerolinecolor": "white",
           "zerolinewidth": 2
          }
         }
        },
        "title": {
         "text": "Updating Parameter CES Predictions, 2024-12-07"
        },
        "xaxis": {
         "autorange": true,
         "range": [
          "2022-02-05",
          "2025-05-17"
         ],
         "title": {
          "text": "Date"
         },
         "type": "date"
        },
        "yaxis": {
         "autorange": true,
         "range": [
          -2771,
          57109
         ],
         "title": {
          "text": "Count"
         },
         "type": "linear"
        }
       }
      },
      "image/png": "[encoded data removed]",
      "text/html": [
       "<div>                            <div id=\"1d29b765-9523-419e-b2dd-b6279bbb393d\" class=\"plotly-graph-div\" style=\"height:525px; width:100%;\"></div>            <script type=\"text/javascript\">                require([\"plotly\"], function(Plotly) {                    window.PLOTLYENV=window.PLOTLYENV || {};                                    if (document.getElementById(\"1d29b765-9523-419e-b2dd-b6279bbb393d\")) {                    Plotly.newPlot(                        \"1d29b765-9523-419e-b2dd-b6279bbb393d\",                        [{\"mode\":\"lines\",\"name\":\"Real Data\",\"x\":[\"2022-02-05T00:00:00\",\"2022-02-12T00:00:00\",\"2022-02-19T00:00:00\",\"2022-02-26T00:00:00\",\"2022-03-05T00:00:00\",\"2022-03-12T00:00:00\",\"2022-03-19T00:00:00\",\"2022-03-26T00:00:00\",\"2022-04-02T00:00:00\",\"2022-04-09T00:00:00\",\"2022-04-16T00:00:00\",\"2022-04-23T00:00:00\",\"2022-04-30T00:00:00\",\"2022-05-07T00:00:00\",\"2022-05-14T00:00:00\",\"2022-05-21T00:00:00\",\"2022-05-28T00:00:00\",\"2022-06-04T00:00:00\",\"2022-06-11T00:00:00\",\"2022-06-18T00:00:00\",\"2022-06-25T00:00:00\",\"2022-07-02T00:00:00\",\"2022-07-09T00:00:00\",\"2022-07-16T00:00:00\",\"2022-07-23T00:00:00\",\"2022-07-30T00:00:00\",\"2022-08-06T00:00:00\",\"2022-08-13T00:00:00\",\"2022-08-20T00:00:00\",\"2022-08-27T00:00:00\",\"2022-09-03T00:00:00\",\"2022-09-10T00:00:00\",\"2022-09-17T00:00:00\",\"2022-09-24T00:00:00\",\"2022-10-01T00:00:00\",\"2022-10-08T00:00:00\",\"2022-10-15T00:00:00\",\"2022-10-22T00:00:00\",\"2022-10-29T00:00:00\",\"2022-11-05T00:00:00\",\"2022-11-12T00:00:00\",\"2022-11-19T00:00:00\",\"2022-11-26T00:00:00\",\"2022-12-03T00:00:00\",\"2022-12-10T00:00:00\",\"2022-12-17T00:00:00\",\"2022-12-24T00:00:00\",\"2022-12-31T00:00:00\",\"2023-01-07T00:00:00\",\"2023-01-14T00:00:00\",\"2023-01-21T00:00:00\",\"2023-01-28T00:00:00\",\"2023-02-04T00:00:00\",\"2023-02-11T00:00:00\",\"2023-02-18T00:00:00\",\"2023-02-25T00:00:00\",\"2023-03-04T00:00:00\",\"2023-03-11T00:00:00\",\"2023-03-18T00:00:00\",\"2023-03-25T00:00:00\",\"2023-04-01T00:00:00\",\"2023-04-08T00:00:00\",\"2023-04-15T00:00:00\",\"2023-04-22T00:00:00\",\"2023-04-29T00:00:00\",\"2023-05-06T00:00:00\",\"2023-05-13T00:00:00\",\"2023-05-20T00:00:00\",\"2023-05-27T00:00:00\",\"2023-06-03T00:00:00\",\"2023-06-10T00:00:00\",\"2023-06-17T00:00:00\",\"2023-06-24T00:00:00\",\"2023-07-01T00:00:00\",\"2023-07-08T00:00:00\",\"2023-07-15T00:00:00\",\"2023-07-22T00:00:00\",\"2023-07-29T00:00:00\",\"2023-08-05T00:00:00\",\"2023-08-12T00:00:00\",\"2023-08-19T00:00:00\",\"2023-08-26T00:00:00\",\"2023-09-02T00:00:00\",\"2023-09-09T00:00:00\",\"2023-09-16T00:00:00\",\"2023-09-23T00:00:00\",\"2023-09-30T00:00:00\",\"2023-10-07T00:00:00\",\"2023-10-14T00:00:00\",\"2023-10-21T00:00:00\",\"2023-10-28T00:00:00\",\"2023-11-04T00:00:00\",\"2023-11-11T00:00:00\",\"2023-11-18T00:00:00\",\"2023-11-25T00:00:00\",\"2023-12-02T00:00:00\",\"2023-12-09T00:00:00\",\"2023-12-16T00:00:00\",\"2023-12-23T00:00:00\",\"2023-12-30T00:00:00\",\"2024-01-06T00:00:00\",\"2024-01-13T00:00:00\",\"2024-01-20T00:00:00\",\"2024-01-27T00:00:00\",\"2024-02-03T00:00:00\",\"2024-02-10T00:00:00\",\"2024-02-17T00:00:00\",\"2024-02-24T00:00:00\",\"2024-03-02T00:00:00\",\"2024-03-09T00:00:00\",\"2024-03-16T00:00:00\",\"2024-03-23T00:00:00\",\"2024-03-30T00:00:00\",\"2024-04-06T00:00:00\",\"2024-04-13T00:00:00\",\"2024-04-20T00:00:00\",\"2024-04-27T00:00:00\",\"2024-05-04T00:00:00\",\"2024-05-11T00:00:00\",\"2024-05-18T00:00:00\",\"2024-05-25T00:00:00\",\"2024-06-01T00:00:00\",\"2024-06-08T00:00:00\",\"2024-06-15T00:00:00\",\"2024-06-22T00:00:00\",\"2024-06-29T00:00:00\",\"2024-07-06T00:00:00\",\"2024-07-13T00:00:00\",\"2024-07-20T00:00:00\",\"2024-07-27T00:00:00\",\"2024-08-03T00:00:00\",\"2024-08-10T00:00:00\",\"2024-08-17T00:00:00\",\"2024-08-24T00:00:00\",\"2024-08-31T00:00:00\",\"2024-09-07T00:00:00\",\"2024-09-14T00:00:00\",\"2024-09-21T00:00:00\",\"2024-09-28T00:00:00\",\"2024-10-05T00:00:00\",\"2024-10-12T00:00:00\",\"2024-10-19T00:00:00\",\"2024-10-26T00:00:00\",\"2024-11-02T00:00:00\",\"2024-11-09T00:00:00\",\"2024-11-16T00:00:00\",\"2024-11-23T00:00:00\",\"2024-11-30T00:00:00\",\"2024-12-07T00:00:00\",\"2024-12-14T00:00:00\",\"2024-12-21T00:00:00\",\"2024-12-28T00:00:00\",\"2025-01-04T00:00:00\",\"2025-01-11T00:00:00\",\"2025-01-18T00:00:00\",\"2025-01-25T00:00:00\",\"2025-02-01T00:00:00\",\"2025-02-08T00:00:00\",\"2025-02-15T00:00:00\",\"2025-02-22T00:00:00\",\"2025-03-01T00:00:00\",\"2025-03-08T00:00:00\",\"2025-03-15T00:00:00\",\"2025-03-22T00:00:00\",\"2025-03-29T00:00:00\",\"2025-04-05T00:00:00\",\"2025-04-12T00:00:00\",\"2025-04-19T00:00:00\",\"2025-04-26T00:00:00\",\"2025-05-03T00:00:00\",\"2025-05-10T00:00:00\",\"2025-05-17T00:00:00\"],\"y\":[1091.0,1162.0,1491.0,1603.0,1791.0,2094.0,2622.0,2917.0,3000.0,3135.0,3297.0,3468.0,3179.0,3172.0,3117.0,3130.0,2737.0,2676.0,2202.0,1775.0,1366.0,1073.0,776.0,766.0,627.0,522.0,486.0,490.0,483.0,483.0,545.0,576.0,665.0,796.0,921.0,1306.0,1670.0,2273.0,4181.0,6401.0,8589.0,10969.0,18173.0,26829.0,24035.0,21607.0,19624.0,19474.0,14074.0,7183.0,4488.0,3091.0,2594.0,2176.0,1908.0,1647.0,1501.0,1372.0,1415.0,1330.0,1295.0,1198.0,1077.0,980.0,903.0,994.0,978.0,1116.0,974.0,939.0,935.0,873.0,813.0,836.0,699.0,736.0,645.0,769.0,690.0,705.0,738.0,792.0,875.0,803.0,821.0,881.0,1026.0,1108.0,1214.0,1469.0,1614.0,2012.0,2775.0,3491.0,4386.0,5954.0,7495.0,10269.0,15717.0,21682.0,19548.0,15902.0,13302.0,13025.0,11963.0,11629.0,11126.0,10869.0,10814.0,9416.0,7324.0,6049.0,5574.0,5071.0,4073.0,2943.0,2420.0,1485.0,852.0,681.0,610.0,590.0,511.0,517.0,441.0,356.0,341.0,367.0,324.0,273.0,275.0,275.0,273.0,274.0,259.0,223.0,319.0,293.0,223.0,286.0,288.0,552.0,1079.0,975.0,2076.0,2529.0,3089.0,4278.0,6286.0,9152.0,15399.0,27651.0,38672.0,30698.0,32963.0,40566.0,51141.0,54115.0,46036.0,37647.0,30753.0,23970.0,18369.0,13620.0,9664.0,6683.0,4863.0,3818.0,3213.0,2434.0,2078.0,1636.0],\"type\":\"scatter\"},{\"line\":{\"color\":\"#414487\"},\"mode\":\"lines\",\"name\":\"CES-hi-80\",\"x\":[\"2024-12-14T00:00:00\",\"2024-12-21T00:00:00\",\"2024-12-28T00:00:00\",\"2025-01-04T00:00:00\"],\"y\":[9505.830175781251,10631.090429687501,13360.242578125,10008.98984375],\"type\":\"scatter\"},{\"line\":{\"color\":\"#1e9c89\"},\"mode\":\"lines\",\"name\":\"CES-hi-95\",\"x\":[\"2024-12-14T00:00:00\",\"2024-12-21T00:00:00\",\"2024-12-28T00:00:00\",\"2025-01-04T00:00:00\"],\"y\":[10677.933422851562,11755.050463867181,14534.933227539059,11110.327685546868],\"type\":\"scatter\"},{\"fill\":\"tonexty\",\"fillcolor\":\"#1e9c89\",\"line\":{\"color\":\"#1e9c89\"},\"mode\":\"lines\",\"name\":\"CES-lo-95\",\"x\":[\"2024-12-14T00:00:00\",\"2024-12-21T00:00:00\",\"2024-12-28T00:00:00\",\"2025-01-04T00:00:00\"],\"y\":[3969.4115661621095,4922.806188964844,8011.983886718751,4551.230505371094],\"type\":\"scatter\"},{\"fill\":\"tonexty\",\"fillcolor\":\"#414487\",\"line\":{\"color\":\"#414487\"},\"mode\":\"lines\",\"name\":\"CES-lo-80\",\"x\":[\"2024-12-14T00:00:00\",\"2024-12-21T00:00:00\",\"2024-12-28T00:00:00\",\"2025-01-04T00:00:00\"],\"y\":[5152.652978515624,6149.595654296875,9164.55185546875,5778.5875],\"type\":\"scatter\"},{\"line\":{\"color\":\"#2c728e\"},\"mode\":\"lines\",\"name\":\"CES\",\"x\":[\"2024-12-14T00:00:00\",\"2024-12-21T00:00:00\",\"2024-12-28T00:00:00\",\"2025-01-04T00:00:00\"],\"y\":[7298.2769775390625,8370.3818359375,11274.383422851562,7865.4063720703125],\"type\":\"scatter\"}],                        {\"template\":{\"data\":{\"histogram2dcontour\":[{\"type\":\"histogram2dcontour\",\"colorbar\":{\"outlinewidth\":0,\"ticks\":\"\"},\"colorscale\":[[0.0,\"#0d0887\"],[0.1111111111111111,\"#46039f\"],[0.2222222222222222,\"#7201a8\"],[0.3333333333333333,\"#9c179e\"],[0.4444444444444444,\"#bd3786\"],[0.5555555555555556,\"#d8576b\"],[0.6666666666666666,\"#ed7953\"],[0.7777777777777778,\"#fb9f3a\"],[0.8888888888888888,\"#fdca26\"],[1.0,\"#f0f921\"]]}],\"choropleth\":[{\"type\":\"choropleth\",\"colorbar\":{\"outlinewidth\":0,\"ticks\":\"\"}}],\"histogram2d\":[{\"type\":\"histogram2d\",\"colorbar\":{\"outlinewidth\":0,\"ticks\":\"\"},\"colorscale\":[[0.0,\"#0d0887\"],[0.1111111111111111,\"#46039f\"],[0.2222222222222222,\"#7201a8\"],[0.3333333333333333,\"#9c179e\"],[0.4444444444444444,\"#bd3786\"],[0.5555555555555556,\"#d8576b\"],[0.6666666666666666,\"#ed7953\"],[0.7777777777777778,\"#fb9f3a\"],[0.8888888888888888,\"#fdca26\"],[1.0,\"#f0f921\"]]}],\"heatmap\":[{\"type\":\"heatmap\",\"colorbar\":{\"outlinewidth\":0,\"ticks\":\"\"},\"colorscale\":[[0.0,\"#0d0887\"],[0.1111111111111111,\"#46039f\"],[0.2222222222222222,\"#7201a8\"],[0.3333333333333333,\"#9c179e\"],[0.4444444444444444,\"#bd3786\"],[0.5555555555555556,\"#d8576b\"],[0.6666666666666666,\"#ed7953\"],[0.7777777777777778,\"#fb9f3a\"],[0.8888888888888888,\"#fdca26\"],[1.0,\"#f0f921\"]]}],\"heatmapgl\":[{\"type\":\"heatmapgl\",\"colorbar\":{\"outlinewidth\":0,\"ticks\":\"\"},\"colorscale\":[[0.0,\"#0d0887\"],[0.1111111111111111,\"#46039f\"],[0.2222222222222222,\"#7201a8\"],[0.3333333333333333,\"#9c179e\"],[0.4444444444444444,\"#bd3786\"],[0.5555555555555556,\"#d8576b\"],[0.6666666666666666,\"#ed7953\"],[0.7777777777777778,\"#fb9f3a\"],[0.8888888888888888,\"#fdca26\"],[1.0,\"#f0f921\"]]}],\"contourcarpet\":[{\"type\":\"contourcarpet\",\"colorbar\":{\"outlinewidth\":0,\"ticks\":\"\"}}],\"contour\":[{\"type\":\"contour\",\"colorbar\":{\"outlinewidth\":0,\"ticks\":\"\"},\"colorscale\":[[0.0,\"#0d0887\"],[0.1111111111111111,\"#46039f\"],[0.2222222222222222,\"#7201a8\"],[0.3333333333333333,\"#9c179e\"],[0.4444444444444444,\"#bd3786\"],[0.5555555555555556,\"#d8576b\"],[0.6666666666666666,\"#ed7953\"],[0.7777777777777778,\"#fb9f3a\"],[0.8888888888888888,\"#fdca26\"],[1.0,\"#f0f921\"]]}],\"surface\":[{\"type\":\"surface\",\"colorbar\":{\"outlinewidth\":0,\"ticks\":\"\"},\"colorscale\":[[0.0,\"#0d0887\"],[0.1111111111111111,\"#46039f\"],[0.2222222222222222,\"#7201a8\"],[0.3333333333333333,\"#9c179e\"],[0.4444444444444444,\"#bd3786\"],[0.5555555555555556,\"#d8576b\"],[0.6666666666666666,\"#ed7953\"],[0.7777777777777778,\"#fb9f3a\"],[0.8888888888888888,\"#fdca26\"],[1.0,\"#f0f921\"]]}],\"mesh3d\":[{\"type\":\"mesh3d\",\"colorbar\":{\"outlinewidth\":0,\"ticks\":\"\"}}],\"scatter\":[{\"fillpattern\":{\"fillmode\":\"overlay\",\"size\":10,\"solidity\":0.2},\"type\":\"scatter\"}],\"parcoords\":[{\"type\":\"parcoords\",\"line\":{\"colorbar\":{\"outlinewidth\":0,\"ticks\":\"\"}}}],\"scatterpolargl\":[{\"type\":\"scatterpolargl\",\"marker\":{\"colorbar\":{\"outlinewidth\":0,\"ticks\":\"\"}}}],\"bar\":[{\"error_x\":{\"color\":\"#2a3f5f\"},\"error_y\":{\"color\":\"#2a3f5f\"},\"marker\":{\"line\":{\"color\":\"#E5ECF6\",\"width\":0.5},\"pattern\":{\"fillmode\":\"overlay\",\"size\":10,\"solidity\":0.2}},\"type\":\"bar\"}],\"scattergeo\":[{\"type\":\"scattergeo\",\"marker\":{\"colorbar\":{\"outlinewidth\":0,\"ticks\":\"\"}}}],\"scatterpolar\":[{\"type\":\"scatterpolar\",\"marker\":{\"colorbar\":{\"outlinewidth\":0,\"ticks\":\"\"}}}],\"histogram\":[{\"marker\":{\"pattern\":{\"fillmode\":\"overlay\",\"size\":10,\"solidity\":0.2}},\"type\":\"histogram\"}],\"scattergl\":[{\"type\":\"scattergl\",\"marker\":{\"colorbar\":{\"outlinewidth\":0,\"ticks\":\"\"}}}],\"scatter3d\":[{\"type\":\"scatter3d\",\"line\":{\"colorbar\":{\"outlinewidth\":0,\"ticks\":\"\"}},\"marker\":{\"colorbar\":{\"outlinewidth\":0,\"ticks\":\"\"}}}],\"scattermapbox\":[{\"type\":\"scattermapbox\",\"marker\":{\"colorbar\":{\"outlinewidth\":0,\"ticks\":\"\"}}}],\"scatterternary\":[{\"type\":\"scatterternary\",\"marker\":{\"colorbar\":{\"outlinewidth\":0,\"ticks\":\"\"}}}],\"scattercarpet\":[{\"type\":\"scattercarpet\",\"marker\":{\"colorbar\":{\"outlinewidth\":0,\"ticks\":\"\"}}}],\"carpet\":[{\"aaxis\":{\"endlinecolor\":\"#2a3f5f\",\"gridcolor\":\"white\",\"linecolor\":\"white\",\"minorgridcolor\":\"white\",\"startlinecolor\":\"#2a3f5f\"},\"baxis\":{\"endlinecolor\":\"#2a3f5f\",\"gridcolor\":\"white\",\"linecolor\":\"white\",\"minorgridcolor\":\"white\",\"startlinecolor\":\"#2a3f5f\"},\"type\":\"carpet\"}],\"table\":[{\"cells\":{\"fill\":{\"color\":\"#EBF0F8\"},\"line\":{\"color\":\"white\"}},\"header\":{\"fill\":{\"color\":\"#C8D4E3\"},\"line\":{\"color\":\"white\"}},\"type\":\"table\"}],\"barpolar\":[{\"marker\":{\"line\":{\"color\":\"#E5ECF6\",\"width\":0.5},\"pattern\":{\"fillmode\":\"overlay\",\"size\":10,\"solidity\":0.2}},\"type\":\"barpolar\"}],\"pie\":[{\"automargin\":true,\"type\":\"pie\"}]},\"layout\":{\"autotypenumbers\":\"strict\",\"colorway\":[\"#636efa\",\"#EF553B\",\"#00cc96\",\"#ab63fa\",\"#FFA15A\",\"#19d3f3\",\"#FF6692\",\"#B6E880\",\"#FF97FF\",\"#FECB52\"],\"font\":{\"color\":\"#2a3f5f\"},\"hovermode\":\"closest\",\"hoverlabel\":{\"align\":\"left\"},\"paper_bgcolor\":\"white\",\"plot_bgcolor\":\"#E5ECF6\",\"polar\":{\"bgcolor\":\"#E5ECF6\",\"angularaxis\":{\"gridcolor\":\"white\",\"linecolor\":\"white\",\"ticks\":\"\"},\"radialaxis\":{\"gridcolor\":\"white\",\"linecolor\":\"white\",\"ticks\":\"\"}},\"ternary\":{\"bgcolor\":\"#E5ECF6\",\"aaxis\":{\"gridcolor\":\"white\",\"linecolor\":\"white\",\"ticks\":\"\"},\"baxis\":{\"gridcolor\":\"white\",\"linecolor\":\"white\",\"ticks\":\"\"},\"caxis\":{\"gridcolor\":\"white\",\"linecolor\":\"white\",\"ticks\":\"\"}},\"coloraxis\":{\"colorbar\":{\"outlinewidth\":0,\"ticks\":\"\"}},\"colorscale\":{\"sequential\":[[0.0,\"#0d0887\"],[0.1111111111111111,\"#46039f\"],[0.2222222222222222,\"#7201a8\"],[0.3333333333333333,\"#9c179e\"],[0.4444444444444444,\"#bd3786\"],[0.5555555555555556,\"#d8576b\"],[0.6666666666666666,\"#ed7953\"],[0.7777777777777778,\"#fb9f3a\"],[0.8888888888888888,\"#fdca26\"],[1.0,\"#f0f921\"]],\"sequentialminus\":[[0.0,\"#0d0887\"],[0.1111111111111111,\"#46039f\"],[0.2222222222222222,\"#7201a8\"],[0.3333333333333333,\"#9c179e\"],[0.4444444444444444,\"#bd3786\"],[0.5555555555555556,\"#d8576b\"],[0.6666666666666666,\"#ed7953\"],[0.7777777777777778,\"#fb9f3a\"],[0.8888888888888888,\"#fdca26\"],[1.0,\"#f0f921\"]],\"diverging\":[[0,\"#8e0152\"],[0.1,\"#c51b7d\"],[0.2,\"#de77ae\"],[0.3,\"#f1b6da\"],[0.4,\"#fde0ef\"],[0.5,\"#f7f7f7\"],[0.6,\"#e6f5d0\"],[0.7,\"#b8e186\"],[0.8,\"#7fbc41\"],[0.9,\"#4d9221\"],[1,\"#276419\"]]},\"xaxis\":{\"gridcolor\":\"white\",\"linecolor\":\"white\",\"ticks\":\"\",\"title\":{\"standoff\":15},\"zerolinecolor\":\"white\",\"automargin\":true,\"zerolinewidth\":2},\"yaxis\":{\"gridcolor\":\"white\",\"linecolor\":\"white\",\"ticks\":\"\",\"title\":{\"standoff\":15},\"zerolinecolor\":\"white\",\"automargin\":true,\"zerolinewidth\":2},\"scene\":{\"xaxis\":{\"backgroundcolor\":\"#E5ECF6\",\"gridcolor\":\"white\",\"linecolor\":\"white\",\"showbackground\":true,\"ticks\":\"\",\"zerolinecolor\":\"white\",\"gridwidth\":2},\"yaxis\":{\"backgroundcolor\":\"#E5ECF6\",\"gridcolor\":\"white\",\"linecolor\":\"white\",\"showbackground\":true,\"ticks\":\"\",\"zerolinecolor\":\"white\",\"gridwidth\":2},\"zaxis\":{\"backgroundcolor\":\"#E5ECF6\",\"gridcolor\":\"white\",\"linecolor\":\"white\",\"showbackground\":true,\"ticks\":\"\",\"zerolinecolor\":\"white\",\"gridwidth\":2}},\"shapedefaults\":{\"line\":{\"color\":\"#2a3f5f\"}},\"annotationdefaults\":{\"arrowcolor\":\"#2a3f5f\",\"arrowhead\":0,\"arrowwidth\":1},\"geo\":{\"bgcolor\":\"white\",\"landcolor\":\"#E5ECF6\",\"subunitcolor\":\"white\",\"showland\":true,\"showlakes\":true,\"lakecolor\":\"white\"},\"title\":{\"x\":0.05},\"mapbox\":{\"style\":\"light\"}}},\"title\":{\"text\":\"Updating Parameter CES Predictions, 2024-12-07\"},\"xaxis\":{\"title\":{\"text\":\"Date\"}},\"yaxis\":{\"title\":{\"text\":\"Count\"}},\"hovermode\":\"x\"},                        {\"responsive\": true}                    ).then(function(){\n",
       "                            \n",
       "var gd = document.getElementById('1d29b765-9523-419e-b2dd-b6279bbb393d');\n",
       "var x = new MutationObserver(function (mutations, observer) {{\n",
       "        var display = window.getComputedStyle(gd).display;\n",
       "        if (!display || display === 'none') {{\n",
       "            console.log([gd, 'removed!']);\n",
       "            Plotly.purge(gd);\n",
       "            observer.disconnect();\n",
       "        }}\n",
       "}});\n",
       "\n",
       "// Listen for the removal of the full notebook cells\n",
       "var notebookContainer = gd.closest('#notebook-container');\n",
       "if (notebookContainer) {{\n",
       "    x.observe(notebookContainer, {childList: true});\n",
       "}}\n",
       "\n",
       "// Listen for the clearing of the current output cell\n",
       "var outputEl = gd.closest('.output');\n",
       "if (outputEl) {{\n",
       "    x.observe(outputEl, {childList: true});\n",
       "}}\n",
       "\n",
       "                        })                };                });            </script>        </div>"
      ]
     },
     "metadata": {},
     "output_type": "display_data"
    }
   ],
   "source": [
    "UProcessor.create_graph()"
   ]
  },
  {
   "cell_type": "code",
   "execution_count": 30,
   "id": "fb69b851-660c-4c22-a3fb-4c2c3196e0d3",
   "metadata": {
    "tags": []
   },
   "outputs": [],
   "source": [
    "UProcessor.calculate_metrics()"
   ]
  },
  {
   "cell_type": "code",
   "execution_count": 31,
   "id": "073bd73d-dd7f-4b84-890c-c6b168cc3ea4",
   "metadata": {
    "tags": []
   },
   "outputs": [],
   "source": [
    "UProcessor.create_metrics_df()"
   ]
  },
  {
   "cell_type": "code",
   "execution_count": 32,
   "id": "9032ef98-8847-4921-acf5-7c15814100e4",
   "metadata": {
    "tags": []
   },
   "outputs": [
    {
     "data": {
      "text/html": [
       "<div>\n",
       "<style scoped>\n",
       "    .dataframe tbody tr th:only-of-type {\n",
       "        vertical-align: middle;\n",
       "    }\n",
       "\n",
       "    .dataframe tbody tr th {\n",
       "        vertical-align: top;\n",
       "    }\n",
       "\n",
       "    .dataframe thead th {\n",
       "        text-align: right;\n",
       "    }\n",
       "</style>\n",
       "<table border=\"1\" class=\"dataframe\">\n",
       "  <thead>\n",
       "    <tr style=\"text-align: right;\">\n",
       "      <th></th>\n",
       "      <th>Reference Date</th>\n",
       "      <th>MAE</th>\n",
       "      <th>MSE</th>\n",
       "      <th>MAPE</th>\n",
       "      <th>NMSE</th>\n",
       "    </tr>\n",
       "  </thead>\n",
       "  <tbody>\n",
       "    <tr>\n",
       "      <th>0</th>\n",
       "      <td>2024-10-05</td>\n",
       "      <td>470.948273</td>\n",
       "      <td>6.092151e+05</td>\n",
       "      <td>0.499227</td>\n",
       "      <td>5.962394</td>\n",
       "    </tr>\n",
       "    <tr>\n",
       "      <th>1</th>\n",
       "      <td>2024-10-19</td>\n",
       "      <td>1600.827606</td>\n",
       "      <td>3.338131e+06</td>\n",
       "      <td>0.956932</td>\n",
       "      <td>7.696366</td>\n",
       "    </tr>\n",
       "    <tr>\n",
       "      <th>2</th>\n",
       "      <td>2024-11-02</td>\n",
       "      <td>4000.271805</td>\n",
       "      <td>2.676559e+07</td>\n",
       "      <td>1.142369</td>\n",
       "      <td>39.410045</td>\n",
       "    </tr>\n",
       "    <tr>\n",
       "      <th>3</th>\n",
       "      <td>2024-11-16</td>\n",
       "      <td>4639.323540</td>\n",
       "      <td>2.555697e+07</td>\n",
       "      <td>0.999288</td>\n",
       "      <td>4.845129</td>\n",
       "    </tr>\n",
       "    <tr>\n",
       "      <th>4</th>\n",
       "      <td>2024-12-07</td>\n",
       "      <td>14016.387848</td>\n",
       "      <td>3.175194e+08</td>\n",
       "      <td>0.511964</td>\n",
       "      <td>2.459157</td>\n",
       "    </tr>\n",
       "  </tbody>\n",
       "</table>\n",
       "</div>"
      ],
      "text/plain": [
       "  Reference Date           MAE           MSE      MAPE       NMSE\n",
       "0     2024-10-05    470.948273  6.092151e+05  0.499227   5.962394\n",
       "1     2024-10-19   1600.827606  3.338131e+06  0.956932   7.696366\n",
       "2     2024-11-02   4000.271805  2.676559e+07  1.142369  39.410045\n",
       "3     2024-11-16   4639.323540  2.555697e+07  0.999288   4.845129\n",
       "4     2024-12-07  14016.387848  3.175194e+08  0.511964   2.459157"
      ]
     },
     "execution_count": 32,
     "metadata": {},
     "output_type": "execute_result"
    }
   ],
   "source": [
    "UProcessor.metrics_df"
   ]
  },
  {
   "cell_type": "code",
   "execution_count": 33,
   "id": "c829bc65-c4e8-4070-8066-81a4a2a76515",
   "metadata": {
    "tags": []
   },
   "outputs": [],
   "source": [
    "UProcessor.create_display_df()"
   ]
  },
  {
   "cell_type": "code",
   "execution_count": 34,
   "id": "7f154731-8bcf-4879-8e55-34f65cb27171",
   "metadata": {
    "tags": []
   },
   "outputs": [
    {
     "data": {
      "text/html": [
       "<div>\n",
       "<style scoped>\n",
       "    .dataframe tbody tr th:only-of-type {\n",
       "        vertical-align: middle;\n",
       "    }\n",
       "\n",
       "    .dataframe tbody tr th {\n",
       "        vertical-align: top;\n",
       "    }\n",
       "\n",
       "    .dataframe thead th {\n",
       "        text-align: right;\n",
       "    }\n",
       "</style>\n",
       "<table border=\"1\" class=\"dataframe\">\n",
       "  <thead>\n",
       "    <tr style=\"text-align: right;\">\n",
       "      <th></th>\n",
       "      <th>Reference Date</th>\n",
       "      <th>Target End Date</th>\n",
       "      <th>Quantile</th>\n",
       "      <th>Prediction</th>\n",
       "    </tr>\n",
       "  </thead>\n",
       "  <tbody>\n",
       "    <tr>\n",
       "      <th>1</th>\n",
       "      <td>2024-10-05</td>\n",
       "      <td>2024-10-12</td>\n",
       "      <td>0.025</td>\n",
       "      <td>-3071.073621</td>\n",
       "    </tr>\n",
       "    <tr>\n",
       "      <th>2</th>\n",
       "      <td>2024-10-05</td>\n",
       "      <td>2024-10-12</td>\n",
       "      <td>0.100</td>\n",
       "      <td>-1836.849097</td>\n",
       "    </tr>\n",
       "    <tr>\n",
       "      <th>0</th>\n",
       "      <td>2024-10-05</td>\n",
       "      <td>2024-10-12</td>\n",
       "      <td>0.500</td>\n",
       "      <td>265.220703</td>\n",
       "    </tr>\n",
       "    <tr>\n",
       "      <th>3</th>\n",
       "      <td>2024-10-05</td>\n",
       "      <td>2024-10-12</td>\n",
       "      <td>0.900</td>\n",
       "      <td>2412.015356</td>\n",
       "    </tr>\n",
       "    <tr>\n",
       "      <th>4</th>\n",
       "      <td>2024-10-05</td>\n",
       "      <td>2024-10-12</td>\n",
       "      <td>0.975</td>\n",
       "      <td>3555.930682</td>\n",
       "    </tr>\n",
       "    <tr>\n",
       "      <th>...</th>\n",
       "      <td>...</td>\n",
       "      <td>...</td>\n",
       "      <td>...</td>\n",
       "      <td>...</td>\n",
       "    </tr>\n",
       "    <tr>\n",
       "      <th>96</th>\n",
       "      <td>2024-12-07</td>\n",
       "      <td>2025-01-04</td>\n",
       "      <td>0.025</td>\n",
       "      <td>4551.230505</td>\n",
       "    </tr>\n",
       "    <tr>\n",
       "      <th>97</th>\n",
       "      <td>2024-12-07</td>\n",
       "      <td>2025-01-04</td>\n",
       "      <td>0.100</td>\n",
       "      <td>5778.587500</td>\n",
       "    </tr>\n",
       "    <tr>\n",
       "      <th>95</th>\n",
       "      <td>2024-12-07</td>\n",
       "      <td>2025-01-04</td>\n",
       "      <td>0.500</td>\n",
       "      <td>7865.406372</td>\n",
       "    </tr>\n",
       "    <tr>\n",
       "      <th>98</th>\n",
       "      <td>2024-12-07</td>\n",
       "      <td>2025-01-04</td>\n",
       "      <td>0.900</td>\n",
       "      <td>10008.989844</td>\n",
       "    </tr>\n",
       "    <tr>\n",
       "      <th>99</th>\n",
       "      <td>2024-12-07</td>\n",
       "      <td>2025-01-04</td>\n",
       "      <td>0.975</td>\n",
       "      <td>11110.327686</td>\n",
       "    </tr>\n",
       "  </tbody>\n",
       "</table>\n",
       "<p>100 rows × 4 columns</p>\n",
       "</div>"
      ],
      "text/plain": [
       "   Reference Date Target End Date  Quantile    Prediction\n",
       "1      2024-10-05      2024-10-12     0.025  -3071.073621\n",
       "2      2024-10-05      2024-10-12     0.100  -1836.849097\n",
       "0      2024-10-05      2024-10-12     0.500    265.220703\n",
       "3      2024-10-05      2024-10-12     0.900   2412.015356\n",
       "4      2024-10-05      2024-10-12     0.975   3555.930682\n",
       "..            ...             ...       ...           ...\n",
       "96     2024-12-07      2025-01-04     0.025   4551.230505\n",
       "97     2024-12-07      2025-01-04     0.100   5778.587500\n",
       "95     2024-12-07      2025-01-04     0.500   7865.406372\n",
       "98     2024-12-07      2025-01-04     0.900  10008.989844\n",
       "99     2024-12-07      2025-01-04     0.975  11110.327686\n",
       "\n",
       "[100 rows x 4 columns]"
      ]
     },
     "execution_count": 34,
     "metadata": {},
     "output_type": "execute_result"
    }
   ],
   "source": [
    "UProcessor.display_df"
   ]
  },
  {
   "cell_type": "code",
   "execution_count": null,
   "id": "36ec5e04-d34c-4a64-a415-ad6f121c5b35",
   "metadata": {},
   "outputs": [],
   "source": []
  },
  {
   "cell_type": "code",
   "execution_count": 35,
   "id": "5a19569e-d627-47ec-bbce-9cf7d2630e1d",
   "metadata": {
    "tags": []
   },
   "outputs": [],
   "source": [
    "UProcessor2 = UpdatingCESProcessor(overall_df = updated_df, dates = [\"2024-10-05\", \"2024-10-19\", \"2024-11-02\", \"2024-11-16\", \"2024-12-07\"])"
   ]
  },
  {
   "cell_type": "code",
   "execution_count": 36,
   "id": "450f083b-cf33-4bd6-8163-6cc8eef40653",
   "metadata": {
    "tags": []
   },
   "outputs": [],
   "source": [
    "UProcessor2.create_training_dfs(value_col=\"value\")"
   ]
  },
  {
   "cell_type": "code",
   "execution_count": 37,
   "id": "b8fe5594-3638-4633-bc27-6517e100f1d9",
   "metadata": {
    "tags": []
   },
   "outputs": [],
   "source": [
    "model_paths = [\"AutoCES/updating_models/test1.pkl\", \"AutoCES/updating_models/test2.pkl\", \"AutoCES/updating_models/test3.pkl\", \n",
    "               \"AutoCES/updating_models/test4.pkl\", \"AutoCES/updating_models/test5.pkl\"]\n",
    "UProcessor2.load_models(paths = model_paths)"
   ]
  },
  {
   "cell_type": "code",
   "execution_count": 38,
   "id": "267d2bee-9bfb-4ed7-b8a9-59e08ea4ae88",
   "metadata": {
    "tags": []
   },
   "outputs": [],
   "source": [
    "UProcessor2.create_models(h = 4, freq = \"W-SAT\", season_length = 52, model_names = [\"test1\", \"test2\", \"test3\", \"test4\", \"test5\"], level = [80, 95])"
   ]
  },
  {
   "cell_type": "code",
   "execution_count": 39,
   "id": "d797e8ad-1cad-4b6c-b23b-ecbfcfe6039f",
   "metadata": {
    "tags": []
   },
   "outputs": [],
   "source": [
    "UProcessor2.create_display_df()"
   ]
  },
  {
   "cell_type": "code",
   "execution_count": 40,
   "id": "190d8f71-734b-493b-aff3-84ab08c097a2",
   "metadata": {
    "tags": []
   },
   "outputs": [
    {
     "data": {
      "text/html": [
       "<div>\n",
       "<style scoped>\n",
       "    .dataframe tbody tr th:only-of-type {\n",
       "        vertical-align: middle;\n",
       "    }\n",
       "\n",
       "    .dataframe tbody tr th {\n",
       "        vertical-align: top;\n",
       "    }\n",
       "\n",
       "    .dataframe thead th {\n",
       "        text-align: right;\n",
       "    }\n",
       "</style>\n",
       "<table border=\"1\" class=\"dataframe\">\n",
       "  <thead>\n",
       "    <tr style=\"text-align: right;\">\n",
       "      <th></th>\n",
       "      <th>Reference Date</th>\n",
       "      <th>Target End Date</th>\n",
       "      <th>Quantile</th>\n",
       "      <th>Prediction</th>\n",
       "    </tr>\n",
       "  </thead>\n",
       "  <tbody>\n",
       "    <tr>\n",
       "      <th>1</th>\n",
       "      <td>2024-10-05</td>\n",
       "      <td>2024-10-12</td>\n",
       "      <td>0.025</td>\n",
       "      <td>-3071.073621</td>\n",
       "    </tr>\n",
       "    <tr>\n",
       "      <th>2</th>\n",
       "      <td>2024-10-05</td>\n",
       "      <td>2024-10-12</td>\n",
       "      <td>0.100</td>\n",
       "      <td>-1836.849097</td>\n",
       "    </tr>\n",
       "    <tr>\n",
       "      <th>0</th>\n",
       "      <td>2024-10-05</td>\n",
       "      <td>2024-10-12</td>\n",
       "      <td>0.500</td>\n",
       "      <td>265.220703</td>\n",
       "    </tr>\n",
       "    <tr>\n",
       "      <th>3</th>\n",
       "      <td>2024-10-05</td>\n",
       "      <td>2024-10-12</td>\n",
       "      <td>0.900</td>\n",
       "      <td>2412.015356</td>\n",
       "    </tr>\n",
       "    <tr>\n",
       "      <th>4</th>\n",
       "      <td>2024-10-05</td>\n",
       "      <td>2024-10-12</td>\n",
       "      <td>0.975</td>\n",
       "      <td>3555.930682</td>\n",
       "    </tr>\n",
       "    <tr>\n",
       "      <th>...</th>\n",
       "      <td>...</td>\n",
       "      <td>...</td>\n",
       "      <td>...</td>\n",
       "      <td>...</td>\n",
       "    </tr>\n",
       "    <tr>\n",
       "      <th>96</th>\n",
       "      <td>2024-12-07</td>\n",
       "      <td>2025-01-04</td>\n",
       "      <td>0.025</td>\n",
       "      <td>4551.230505</td>\n",
       "    </tr>\n",
       "    <tr>\n",
       "      <th>97</th>\n",
       "      <td>2024-12-07</td>\n",
       "      <td>2025-01-04</td>\n",
       "      <td>0.100</td>\n",
       "      <td>5778.587500</td>\n",
       "    </tr>\n",
       "    <tr>\n",
       "      <th>95</th>\n",
       "      <td>2024-12-07</td>\n",
       "      <td>2025-01-04</td>\n",
       "      <td>0.500</td>\n",
       "      <td>7865.406372</td>\n",
       "    </tr>\n",
       "    <tr>\n",
       "      <th>98</th>\n",
       "      <td>2024-12-07</td>\n",
       "      <td>2025-01-04</td>\n",
       "      <td>0.900</td>\n",
       "      <td>10008.989844</td>\n",
       "    </tr>\n",
       "    <tr>\n",
       "      <th>99</th>\n",
       "      <td>2024-12-07</td>\n",
       "      <td>2025-01-04</td>\n",
       "      <td>0.975</td>\n",
       "      <td>11110.327686</td>\n",
       "    </tr>\n",
       "  </tbody>\n",
       "</table>\n",
       "<p>100 rows × 4 columns</p>\n",
       "</div>"
      ],
      "text/plain": [
       "   Reference Date Target End Date  Quantile    Prediction\n",
       "1      2024-10-05      2024-10-12     0.025  -3071.073621\n",
       "2      2024-10-05      2024-10-12     0.100  -1836.849097\n",
       "0      2024-10-05      2024-10-12     0.500    265.220703\n",
       "3      2024-10-05      2024-10-12     0.900   2412.015356\n",
       "4      2024-10-05      2024-10-12     0.975   3555.930682\n",
       "..            ...             ...       ...           ...\n",
       "96     2024-12-07      2025-01-04     0.025   4551.230505\n",
       "97     2024-12-07      2025-01-04     0.100   5778.587500\n",
       "95     2024-12-07      2025-01-04     0.500   7865.406372\n",
       "98     2024-12-07      2025-01-04     0.900  10008.989844\n",
       "99     2024-12-07      2025-01-04     0.975  11110.327686\n",
       "\n",
       "[100 rows x 4 columns]"
      ]
     },
     "execution_count": 40,
     "metadata": {},
     "output_type": "execute_result"
    }
   ],
   "source": [
    "UProcessor2.display_df"
   ]
  },
  {
   "cell_type": "code",
   "execution_count": 41,
   "id": "b235c9fa-865e-4f3b-856c-e5cac06f62ee",
   "metadata": {
    "tags": []
   },
   "outputs": [
    {
     "data": {
      "text/plain": [
       "True"
      ]
     },
     "execution_count": 41,
     "metadata": {},
     "output_type": "execute_result"
    }
   ],
   "source": [
    "UProcessor.display_df.equals(UProcessor2.display_df)"
   ]
  },
  {
   "cell_type": "code",
   "execution_count": null,
   "id": "719aafc5-36dd-4f9a-a581-19bc51a17878",
   "metadata": {},
   "outputs": [],
   "source": []
  }
 ],
 "metadata": {
  "kernelspec": {
   "display_name": "Python 3 (ipykernel)",
   "language": "python",
   "name": "python3"
  },
  "language_info": {
   "codemirror_mode": {
    "name": "ipython",
    "version": 3
   },
   "file_extension": ".py",
   "mimetype": "text/x-python",
   "name": "python",
   "nbconvert_exporter": "python",
   "pygments_lexer": "ipython3",
   "version": "3.11.4"
  }
 },
 "nbformat": 4,
 "nbformat_minor": 5
}
