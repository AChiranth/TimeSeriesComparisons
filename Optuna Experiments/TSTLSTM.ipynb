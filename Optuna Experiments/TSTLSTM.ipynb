{
 "cells": [
  {
   "cell_type": "code",
   "execution_count": null,
   "id": "d01880e9-6f94-4c1d-a8ae-62ba0674067e",
   "metadata": {
    "tags": []
   },
   "outputs": [],
   "source": [
    "import pandas as pd"
   ]
  },
  {
   "cell_type": "code",
   "execution_count": null,
   "id": "4db195c1-715e-4f0f-bd13-bd8eb96b87df",
   "metadata": {
    "tags": []
   },
   "outputs": [],
   "source": [
    "updated_df = pd.read_csv(\"https://raw.githubusercontent.com/cdcepi/FluSight-forecast-hub/refs/heads/main/target-data/target-hospital-admissions.csv\")\n",
    "updated_df = updated_df[updated_df[\"location_name\"] == \"US\"]\n",
    "updated_df = updated_df[[\"date\", \"value\"]]\n",
    "updated_df[\"date\"] = pd.to_datetime(updated_df[\"date\"])\n",
    "updated_df.set_index(\"date\", inplace = True)\n",
    "updated_df.sort_values(by = \"date\", inplace = True)"
   ]
  },
  {
   "cell_type": "code",
   "execution_count": null,
   "id": "00e8add9-54ef-4ce9-8678-b0e219d61706",
   "metadata": {
    "tags": []
   },
   "outputs": [],
   "source": [
    "import sys"
   ]
  },
  {
   "cell_type": "code",
   "execution_count": null,
   "id": "d5c74b6b-fd17-4457-a655-979938c6c0f3",
   "metadata": {
    "tags": []
   },
   "outputs": [],
   "source": [
    "sys.path.insert(1, \"/sfs/gpfs/tardis/home/hmf6av/TimeSeriesComparisons/Processors\")"
   ]
  },
  {
   "cell_type": "code",
   "execution_count": null,
   "id": "aada1ba3-314b-4295-8bb0-f4617ae2bb8e",
   "metadata": {
    "tags": []
   },
   "outputs": [],
   "source": [
    "from LSTMProcessors import FixedModelLSTMProcessor, UpdatingModelLSTMProcessor"
   ]
  },
  {
   "cell_type": "code",
   "execution_count": null,
   "id": "22169963-a5d4-4b8d-b531-992a035f526c",
   "metadata": {
    "tags": []
   },
   "outputs": [],
   "source": [
    "from PatchTSTProcessors import FixedModelPatchTSTProcessor, UpdatingModelPatchTSTProcessor"
   ]
  },
  {
   "cell_type": "code",
   "execution_count": null,
   "id": "f98efd16-1c4c-4314-af1e-cc0160be77f6",
   "metadata": {
    "tags": []
   },
   "outputs": [],
   "source": [
    "LSTMProcessor = FixedModelLSTMProcessor(overall_df = updated_df, dates = [\"2024-10-05\", \"2024-10-19\", \"2024-11-02\", \"2024-11-16\", \"2024-12-07\"])"
   ]
  },
  {
   "cell_type": "code",
   "execution_count": null,
   "id": "d974e010-909a-48bb-8fdd-685d4e6c4c4a",
   "metadata": {
    "tags": []
   },
   "outputs": [],
   "source": [
    "LSTMProcessor.create_training_dfs(value_col=\"value\")"
   ]
  },
  {
   "cell_type": "code",
   "execution_count": null,
   "id": "5751e783-8146-49f8-9b6c-910d4ff19539",
   "metadata": {
    "tags": []
   },
   "outputs": [],
   "source": [
    "LSTMProcessor.create_fixed_model(h = 4, freq = \"W-SAT\", model_name = \"config_test\")"
   ]
  },
  {
   "cell_type": "code",
   "execution_count": null,
   "id": "0752aa6e-f03f-4936-83fd-740db88308c3",
   "metadata": {
    "tags": []
   },
   "outputs": [],
   "source": [
    "LSTMProcessor.create_graph()"
   ]
  },
  {
   "cell_type": "code",
   "execution_count": null,
   "id": "dad54e88-ec13-4314-b8c2-3cb969dcfe23",
   "metadata": {},
   "outputs": [],
   "source": []
  },
  {
   "cell_type": "code",
   "execution_count": null,
   "id": "8ff69b77-f874-4f3c-a2dc-23fe6c5ce73d",
   "metadata": {
    "tags": []
   },
   "outputs": [],
   "source": [
    "ULSTMProcessor = UpdatingModelLSTMProcessor(overall_df = updated_df, dates = [\"2024-10-05\", \"2024-10-19\", \"2024-11-02\", \"2024-11-16\", \"2024-12-07\"])"
   ]
  },
  {
   "cell_type": "code",
   "execution_count": null,
   "id": "4aee7689-3e64-4501-bf43-90754b038e44",
   "metadata": {
    "tags": []
   },
   "outputs": [],
   "source": [
    "ULSTMProcessor.create_training_dfs(\"value\")"
   ]
  },
  {
   "cell_type": "code",
   "execution_count": null,
   "id": "34c91b82-51de-497b-b6c1-4c8bdc8defca",
   "metadata": {},
   "outputs": [],
   "source": [
    "ULSTMProcessor.create_models(h = 4, freq = \"W-SAT\", model_names = [\"config_test1\", \"config_test2\", \"config_test3\", \"config_test4\", \"config_test5\"])"
   ]
  },
  {
   "cell_type": "code",
   "execution_count": null,
   "id": "50635703-26bf-4d3b-b9a7-aeec84b2c532",
   "metadata": {},
   "outputs": [],
   "source": [
    "ULSTMProcessor.create_graph()"
   ]
  },
  {
   "cell_type": "code",
   "execution_count": null,
   "id": "7d89c554-19b9-48b1-a7d0-6bddcba64bc9",
   "metadata": {},
   "outputs": [],
   "source": []
  },
  {
   "cell_type": "code",
   "execution_count": null,
   "id": "b42192c5-ac5c-4fdf-9c98-89cec226879d",
   "metadata": {
    "tags": []
   },
   "outputs": [],
   "source": [
    "TSTProcessor = FixedModelPatchTSTProcessor(overall_df = updated_df, dates = [\"2024-10-05\", \"2024-10-19\", \"2024-11-02\", \"2024-11-16\", \"2024-12-07\"])"
   ]
  },
  {
   "cell_type": "code",
   "execution_count": null,
   "id": "7bc8a7eb-a26d-47e3-a1fc-174e538e423b",
   "metadata": {
    "tags": []
   },
   "outputs": [],
   "source": [
    "TSTProcessor.create_training_dfs(\"value\")"
   ]
  },
  {
   "cell_type": "code",
   "execution_count": null,
   "id": "5f5dddc6-61a1-4959-8a7a-ace990fec06c",
   "metadata": {},
   "outputs": [],
   "source": [
    "TSTProcessor.create_fixed_model(h = 4, freq = \"W-SAT\", model_name = \"config_test\")"
   ]
  },
  {
   "cell_type": "code",
   "execution_count": null,
   "id": "3bdcae62-3755-4598-8179-784a779e7ae8",
   "metadata": {},
   "outputs": [],
   "source": [
    "TSTProcessor.create_graph()"
   ]
  },
  {
   "cell_type": "code",
   "execution_count": null,
   "id": "dbef3df6-d307-4dc7-ada0-361dee113d08",
   "metadata": {},
   "outputs": [],
   "source": []
  },
  {
   "cell_type": "code",
   "execution_count": null,
   "id": "f021d0ec-659b-40fc-bad0-88dc1150a025",
   "metadata": {
    "tags": []
   },
   "outputs": [],
   "source": [
    "UTSTProcessor = UpdatingModelPatchTSTProcessor(overall_df = updated_df, dates = [\"2024-10-05\", \"2024-10-19\", \"2024-11-02\", \"2024-11-16\", \"2024-12-07\"])"
   ]
  },
  {
   "cell_type": "code",
   "execution_count": null,
   "id": "f8b66df8-2c1b-4a90-b6df-eeaa9276f886",
   "metadata": {
    "tags": []
   },
   "outputs": [],
   "source": [
    "UTSTProcessor.create_training_dfs(\"value\")"
   ]
  },
  {
   "cell_type": "code",
   "execution_count": null,
   "id": "62a92dc9-5f85-468e-912c-ec2af6c56035",
   "metadata": {},
   "outputs": [],
   "source": [
    "UTSTProcessor.create_models(h = 4, freq = \"W-SAT\", model_names = [\"config_test1\", \"config_test2\", \"config_test3\", \"config_test4\", \"config_test5\"])"
   ]
  },
  {
   "cell_type": "code",
   "execution_count": null,
   "id": "2646fc8f-1d34-420f-9ebc-73e01d73fd76",
   "metadata": {
    "tags": []
   },
   "outputs": [],
   "source": [
    "UTSTProcessor.create_graph()"
   ]
  }
 ],
 "metadata": {
  "kernelspec": {
   "display_name": "Python 3 (ipykernel)",
   "language": "python",
   "name": "python3"
  },
  "language_info": {
   "codemirror_mode": {
    "name": "ipython",
    "version": 3
   },
   "file_extension": ".py",
   "mimetype": "text/x-python",
   "name": "python",
   "nbconvert_exporter": "python",
   "pygments_lexer": "ipython3",
   "version": "3.11.6"
  }
 },
 "nbformat": 4,
 "nbformat_minor": 5
}
