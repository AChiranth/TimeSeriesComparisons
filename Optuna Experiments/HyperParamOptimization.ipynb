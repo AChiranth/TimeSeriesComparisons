{
 "cells": [
  {
   "cell_type": "code",
   "execution_count": null,
   "id": "c98bb674-8546-40d3-add1-93db68c83f61",
   "metadata": {
    "tags": []
   },
   "outputs": [],
   "source": [
    "import os\n",
    "import tempfile\n",
    "\n",
    "import lightgbm as lgb\n",
    "import optuna\n",
    "import pandas as pd\n",
    "from datasetsforecast.m4 import M4, M4Evaluation, M4Info\n",
    "from sklearn.linear_model import Ridge\n",
    "from sklearn.compose import ColumnTransformer\n",
    "from sklearn.pipeline import make_pipeline\n",
    "from sklearn.preprocessing import OneHotEncoder\n",
    "from utilsforecast.plotting import plot_series\n",
    "\n",
    "from mlforecast import MLForecast\n",
    "from mlforecast.auto import (\n",
    "    AutoLightGBM,\n",
    "    AutoMLForecast,\n",
    "    AutoModel,\n",
    "    AutoRidge,\n",
    "    ridge_space,\n",
    ")\n",
    "from mlforecast.lag_transforms import ExponentiallyWeightedMean, RollingMean"
   ]
  },
  {
   "cell_type": "code",
   "execution_count": null,
   "id": "d157d392-fc79-40e1-ab45-e5525023344c",
   "metadata": {
    "tags": []
   },
   "outputs": [],
   "source": [
    "def get_data(group, horizon):\n",
    "    df, *_ = M4.load(directory='data', group=group)\n",
    "    df['ds'] = df['ds'].astype('int')\n",
    "    df['unique_id'] = df['unique_id'].astype('category')\n",
    "    return df.groupby('unique_id').head(-horizon).copy()\n",
    "\n",
    "group = 'Hourly'\n",
    "horizon = M4Info[group].horizon\n",
    "train = get_data(group, horizon)"
   ]
  },
  {
   "cell_type": "code",
   "execution_count": null,
   "id": "55f1de1f-57e9-4a6b-83a3-73d6485cec4a",
   "metadata": {
    "tags": []
   },
   "outputs": [],
   "source": [
    "optuna.logging.set_verbosity(optuna.logging.ERROR)\n",
    "auto_mlf = AutoMLForecast(\n",
    "    models={'lgb': AutoLightGBM(), 'ridge': AutoRidge()},\n",
    "    freq=1,\n",
    "    season_length=24,\n",
    ")\n",
    "auto_mlf.fit(\n",
    "    train,\n",
    "    n_windows=2,\n",
    "    h=horizon,\n",
    "    num_samples=2,  # number of trials to run\n",
    ")"
   ]
  },
  {
   "cell_type": "code",
   "execution_count": null,
   "id": "dc3c9d04-b77b-4549-b1d9-c1e68cfe736a",
   "metadata": {
    "tags": []
   },
   "outputs": [],
   "source": [
    "preds = auto_mlf.predict(horizon)\n",
    "preds.head()"
   ]
  },
  {
   "cell_type": "code",
   "execution_count": null,
   "id": "9dae00cd-0a46-48a5-83e9-ec53bf59e66f",
   "metadata": {
    "tags": []
   },
   "outputs": [],
   "source": [
    "def evaluate(df, group):\n",
    "    results = []\n",
    "    for model in df.columns.drop(['unique_id', 'ds']):\n",
    "        model_res = M4Evaluation.evaluate(\n",
    "            'data', group, df[model].to_numpy().reshape(-1, horizon)\n",
    "        )\n",
    "        model_res.index = [model]\n",
    "        results.append(model_res)\n",
    "    return pd.concat(results).T.round(2)\n",
    "\n",
    "evaluate(preds, group)"
   ]
  },
  {
   "cell_type": "code",
   "execution_count": null,
   "id": "85c4a253-3fbf-494b-8aab-917b6d5a3648",
   "metadata": {
    "tags": []
   },
   "outputs": [],
   "source": [
    "def my_lgb_config(trial: optuna.Trial):\n",
    "    return {\n",
    "        'learning_rate': 0.05,\n",
    "        'verbosity': -1,\n",
    "        'num_leaves': trial.suggest_int('num_leaves', 2, 128, log=True),\n",
    "        'objective': trial.suggest_categorical('objective', ['l1', 'l2', 'mape']),\n",
    "    }\n",
    "\n",
    "my_lgb = AutoModel(\n",
    "    model=lgb.LGBMRegressor(),\n",
    "    config=my_lgb_config,\n",
    ")\n",
    "auto_mlf = AutoMLForecast(\n",
    "    models={'my_lgb': my_lgb},\n",
    "    freq=1,\n",
    "    season_length=24,\n",
    ").fit(\n",
    "    train,\n",
    "    n_windows=2,\n",
    "    h=horizon,\n",
    "    num_samples=2,\n",
    ")\n",
    "preds = auto_mlf.predict(horizon)\n",
    "evaluate(preds, group)"
   ]
  },
  {
   "cell_type": "code",
   "execution_count": null,
   "id": "d75622df-2fc5-4f80-b457-66c431b34634",
   "metadata": {},
   "outputs": [],
   "source": []
  }
 ],
 "metadata": {
  "kernelspec": {
   "display_name": "Python 3 (ipykernel)",
   "language": "python",
   "name": "python3"
  },
  "language_info": {
   "codemirror_mode": {
    "name": "ipython",
    "version": 3
   },
   "file_extension": ".py",
   "mimetype": "text/x-python",
   "name": "python",
   "nbconvert_exporter": "python",
   "pygments_lexer": "ipython3",
   "version": "3.11.6"
  }
 },
 "nbformat": 4,
 "nbformat_minor": 5
}
