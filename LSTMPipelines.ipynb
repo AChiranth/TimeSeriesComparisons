{
 "cells": [
  {
   "cell_type": "code",
   "execution_count": 3,
   "id": "7ac7fdec-a1bd-4e31-9f74-6feacf65a01f",
   "metadata": {
    "tags": []
   },
   "outputs": [
    {
     "data": {
      "text/html": [
       "        <script type=\"text/javascript\">\n",
       "        window.PlotlyConfig = {MathJaxConfig: 'local'};\n",
       "        if (window.MathJax && window.MathJax.Hub && window.MathJax.Hub.Config) {window.MathJax.Hub.Config({SVG: {font: \"STIX-Web\"}});}\n",
       "        if (typeof require !== 'undefined') {\n",
       "        require.undef(\"plotly\");\n",
       "        requirejs.config({\n",
       "            paths: {\n",
       "                'plotly': ['https://cdn.plot.ly/plotly-2.25.2.min']\n",
       "            }\n",
       "        });\n",
       "        require(['plotly'], function(Plotly) {\n",
       "            window._Plotly = Plotly;\n",
       "        });\n",
       "        }\n",
       "        </script>\n",
       "        "
      ]
     },
     "metadata": {},
     "output_type": "display_data"
    }
   ],
   "source": [
    "import pandas as pd \n",
    "import numpy as np\n",
    "import matplotlib.pyplot as plt\n",
    "\n",
    "import cufflinks as cf\n",
    "from plotly import __version__\n",
    "from plotly.offline import download_plotlyjs, init_notebook_mode, plot, iplot\n",
    "\n",
    "cf.go_offline()\n",
    "\n",
    "%matplotlib inline\n",
    "from sklearn.metrics import mean_absolute_error, mean_absolute_percentage_error, mean_squared_error\n",
    "\n",
    "from neuralforecast.auto import AutoLSTM\n",
    "from neuralforecast.tsdataset import TimeSeriesDataset\n",
    "\n",
    "from datetime import datetime, timedelta"
   ]
  },
  {
   "cell_type": "code",
   "execution_count": 4,
   "id": "b5218041-870a-476d-a48a-424b1bcaf871",
   "metadata": {
    "tags": []
   },
   "outputs": [],
   "source": [
    "class FixedModelLSTMProcessor:\n",
    "    def __init__(self, overall_df, dates):\n",
    "        self.overall_df = overall_df\n",
    "        self.overall_df_value_col = \"value\"\n",
    "        self.dates = dates\n",
    "        self.dfs = []\n",
    "        self.forecasts = []\n",
    "        self.plotting_df = pd.DataFrame()\n",
    "        \n",
    "        self.maes = []\n",
    "        self.mses = []\n",
    "        self.mapes = []\n",
    "        self.nmses = []\n",
    "    \n",
    "    def create_training_dfs(self, value_col):\n",
    "        self.overall_df_value_col = value_col\n",
    "        for date in self.dates:\n",
    "            df = self.overall_df.loc[:date]\n",
    "            df['ds'] = df.index\n",
    "            df[\"unique_id\"] = \"series_1\"\n",
    "            df = df.rename(columns = {value_col: \"y\"})\n",
    "            self.dfs.append(df)\n",
    "        \n",
    "    \n",
    "    def create_fixed_model(self, h):\n",
    "        #Creating AutoLSTM model and predicting with hyperparameter tuning by optuna backend. This is based upon the first training dataframe\n",
    "        initial_dataset, *_ = TimeSeriesDataset.from_df(self.dfs[0])\n",
    "        LSTMmodel = AutoLSTM(h = h, backend = \"optuna\")\n",
    "        LSTMmodel.fit(dataset = initial_dataset)\n",
    "        \n",
    "        for i in range(len(self.dfs)):\n",
    "            dataset, *_ = TimeSeriesDataset.from_df(self.dfs[i])\n",
    "            y_hat = LSTMmodel.predict(dataset = dataset)\n",
    "            start_date = datetime.strptime(self.dates[i], \"%Y-%m-%d\")\n",
    "            horizon_dates = [start_date + timedelta(weeks=j) for j in range(h)]\n",
    "        \n",
    "            fc = pd.DataFrame(y_hat.ravel(), index = pd.to_datetime(horizon_dates))\n",
    "            self.forecasts.append(fc)\n",
    "    \n",
    "    def create_graph(self):\n",
    "        self.plotting_df.index = self.overall_df.index\n",
    "        self.plotting_df[\"Real Data\"] = self.overall_df[self.overall_df_value_col]\n",
    "        \n",
    "        for i in range(len(self.forecasts)):\n",
    "            date_obj = datetime.strptime(self.dates[i], \"%Y-%m-%d\")\n",
    "            english_date = date_obj.strftime(\"%B %d, %Y\")\n",
    "            \n",
    "            self.plotting_df[f\"{english_date} Model\"] = self.forecasts[i][0]\n",
    "        \n",
    "        self.plotting_df.iplot(xTitle = \"Date\", yTitle = \"Count\", title = \"Fixed Parameter LSTM Predictions\")\n",
    "    \n",
    "    def calculate_metrics(self):\n",
    "        for i in range(len(self.forecasts)):\n",
    "            mae = mean_absolute_error(self.overall_df[self.overall_df_value_col].loc[self.forecasts[i].index], self.forecasts[i][0])\n",
    "            mse = mean_squared_error(self.overall_df[self.overall_df_value_col].loc[self.forecasts[i].index], self.forecasts[i][0])\n",
    "            mape = mean_absolute_percentage_error(self.overall_df[self.overall_df_value_col].loc[self.forecasts[i].index], self.forecasts[i][0])\n",
    "            nmse = mse/np.var(self.overall_df[self.overall_df_value_col].loc[self.forecasts[i].index])\n",
    "            \n",
    "            self.maes.append(mae)\n",
    "            self.mses.append(mse)\n",
    "            self.mapes.append(mape)\n",
    "            self.nmses.append(nmse)\n",
    "    \n",
    "    def display_maes(self):\n",
    "        for i in range(len(self.maes)):\n",
    "            date_obj = datetime.strptime(self.dates[i], \"%Y-%m-%d\")\n",
    "            english_date = date_obj.strftime(\"%B %d, %Y\")\n",
    "            print(f\"Mean Absolute Error for {english_date} model: {self.maes[i]}\")\n",
    "        \n",
    "    def display_mses(self):\n",
    "        for i in range(len(self.mses)):\n",
    "            date_obj = datetime.strptime(self.dates[i], \"%Y-%m-%d\")\n",
    "            english_date = date_obj.strftime(\"%B %d, %Y\")\n",
    "            print(f\"Mean Squared Error for {english_date} model: {self.mses[i]}\")\n",
    "    \n",
    "    def display_mapes(self):\n",
    "        for i in range(len(self.mapes)):\n",
    "            date_obj = datetime.strptime(self.dates[i], \"%Y-%m-%d\")\n",
    "            english_date = date_obj.strftime(\"%B %d, %Y\")\n",
    "            print(f\"Mean Absolute Percentage Error for {english_date} model: {self.mape[i]}\")\n",
    "    \n",
    "    def display_nmses(self):\n",
    "        for i in range(len(self.nmses)):\n",
    "            date_obj = datetime.strptime(self.dates[i], \"%Y-%m-%d\")\n",
    "            english_date = date_obj.strftime(\"%B %d, %Y\")\n",
    "            print(f\"Normalized Mean Square Error for {english_date} model: {self.nmse[i]}\")\n",
    "\n",
    "        "
   ]
  },
  {
   "cell_type": "code",
   "execution_count": 5,
   "id": "25af5694-c6c4-4a04-9c64-4e4590e0681f",
   "metadata": {
    "tags": []
   },
   "outputs": [],
   "source": [
    "updated_df = pd.read_csv(\"https://raw.githubusercontent.com/cdcepi/FluSight-forecast-hub/refs/heads/main/target-data/target-hospital-admissions.csv\")"
   ]
  },
  {
   "cell_type": "code",
   "execution_count": 6,
   "id": "c72ba56f-2195-457c-a505-1cdb8a1b99f8",
   "metadata": {
    "tags": []
   },
   "outputs": [],
   "source": [
    "updated_df = updated_df[updated_df[\"location_name\"] == \"US\"]\n",
    "updated_df = updated_df[[\"date\", \"value\"]]\n",
    "updated_df[\"date\"] = pd.to_datetime(updated_df[\"date\"])\n",
    "updated_df.set_index(\"date\", inplace = True)\n",
    "updated_df.sort_values(by = \"date\", inplace = True)"
   ]
  },
  {
   "cell_type": "code",
   "execution_count": 8,
   "id": "a7c1aab4-a5b1-4276-8b0d-bddfb2e31399",
   "metadata": {},
   "outputs": [],
   "source": [
    "Processor = FixedModelLSTMProcessor(overall_df = updated_df, dates = [\"2024-10-05\", \"2024-10-19\", \"2024-11-02\", \"2024-11-16\", \"2024-12-07\"])"
   ]
  },
  {
   "cell_type": "code",
   "execution_count": 9,
   "id": "6ddd78df-4bed-4e32-b0ab-d4a5fdbb6ab8",
   "metadata": {
    "tags": []
   },
   "outputs": [
    {
     "data": {
      "text/plain": [
       "['2024-10-05', '2024-10-19', '2024-11-02', '2024-11-16', '2024-12-07']"
      ]
     },
     "execution_count": 9,
     "metadata": {},
     "output_type": "execute_result"
    }
   ],
   "source": [
    "Processor.dates"
   ]
  },
  {
   "cell_type": "code",
   "execution_count": 7,
   "id": "248814a9-3e4f-4ef5-beff-07176c1396a8",
   "metadata": {
    "tags": []
   },
   "outputs": [
    {
     "data": {
      "text/plain": [
       "[]"
      ]
     },
     "execution_count": 7,
     "metadata": {},
     "output_type": "execute_result"
    }
   ],
   "source": [
    "Processor.dfs"
   ]
  },
  {
   "cell_type": "code",
   "execution_count": 10,
   "id": "0bddc3d7-658b-49e9-885a-e15a02977b02",
   "metadata": {
    "tags": []
   },
   "outputs": [],
   "source": [
    "Processor.create_training_dfs(value_col = \"value\")"
   ]
  },
  {
   "cell_type": "code",
   "execution_count": 12,
   "id": "52a69382-7231-4ff3-aa29-072cfa37b6c2",
   "metadata": {
    "tags": []
   },
   "outputs": [
    {
     "data": {
      "text/html": [
       "<div>\n",
       "<style scoped>\n",
       "    .dataframe tbody tr th:only-of-type {\n",
       "        vertical-align: middle;\n",
       "    }\n",
       "\n",
       "    .dataframe tbody tr th {\n",
       "        vertical-align: top;\n",
       "    }\n",
       "\n",
       "    .dataframe thead th {\n",
       "        text-align: right;\n",
       "    }\n",
       "</style>\n",
       "<table border=\"1\" class=\"dataframe\">\n",
       "  <thead>\n",
       "    <tr style=\"text-align: right;\">\n",
       "      <th></th>\n",
       "      <th>y</th>\n",
       "      <th>ds</th>\n",
       "      <th>unique_id</th>\n",
       "    </tr>\n",
       "    <tr>\n",
       "      <th>date</th>\n",
       "      <th></th>\n",
       "      <th></th>\n",
       "      <th></th>\n",
       "    </tr>\n",
       "  </thead>\n",
       "  <tbody>\n",
       "    <tr>\n",
       "      <th>2022-02-05</th>\n",
       "      <td>1092.0</td>\n",
       "      <td>2022-02-05</td>\n",
       "      <td>series_1</td>\n",
       "    </tr>\n",
       "    <tr>\n",
       "      <th>2022-02-12</th>\n",
       "      <td>1164.0</td>\n",
       "      <td>2022-02-12</td>\n",
       "      <td>series_1</td>\n",
       "    </tr>\n",
       "    <tr>\n",
       "      <th>2022-02-19</th>\n",
       "      <td>1493.0</td>\n",
       "      <td>2022-02-19</td>\n",
       "      <td>series_1</td>\n",
       "    </tr>\n",
       "    <tr>\n",
       "      <th>2022-02-26</th>\n",
       "      <td>1603.0</td>\n",
       "      <td>2022-02-26</td>\n",
       "      <td>series_1</td>\n",
       "    </tr>\n",
       "    <tr>\n",
       "      <th>2022-03-05</th>\n",
       "      <td>1791.0</td>\n",
       "      <td>2022-03-05</td>\n",
       "      <td>series_1</td>\n",
       "    </tr>\n",
       "    <tr>\n",
       "      <th>...</th>\n",
       "      <td>...</td>\n",
       "      <td>...</td>\n",
       "      <td>...</td>\n",
       "    </tr>\n",
       "    <tr>\n",
       "      <th>2024-09-07</th>\n",
       "      <td>223.0</td>\n",
       "      <td>2024-09-07</td>\n",
       "      <td>series_1</td>\n",
       "    </tr>\n",
       "    <tr>\n",
       "      <th>2024-09-14</th>\n",
       "      <td>319.0</td>\n",
       "      <td>2024-09-14</td>\n",
       "      <td>series_1</td>\n",
       "    </tr>\n",
       "    <tr>\n",
       "      <th>2024-09-21</th>\n",
       "      <td>293.0</td>\n",
       "      <td>2024-09-21</td>\n",
       "      <td>series_1</td>\n",
       "    </tr>\n",
       "    <tr>\n",
       "      <th>2024-09-28</th>\n",
       "      <td>223.0</td>\n",
       "      <td>2024-09-28</td>\n",
       "      <td>series_1</td>\n",
       "    </tr>\n",
       "    <tr>\n",
       "      <th>2024-10-05</th>\n",
       "      <td>287.0</td>\n",
       "      <td>2024-10-05</td>\n",
       "      <td>series_1</td>\n",
       "    </tr>\n",
       "  </tbody>\n",
       "</table>\n",
       "<p>140 rows × 3 columns</p>\n",
       "</div>"
      ],
      "text/plain": [
       "                 y         ds unique_id\n",
       "date                                   \n",
       "2022-02-05  1092.0 2022-02-05  series_1\n",
       "2022-02-12  1164.0 2022-02-12  series_1\n",
       "2022-02-19  1493.0 2022-02-19  series_1\n",
       "2022-02-26  1603.0 2022-02-26  series_1\n",
       "2022-03-05  1791.0 2022-03-05  series_1\n",
       "...            ...        ...       ...\n",
       "2024-09-07   223.0 2024-09-07  series_1\n",
       "2024-09-14   319.0 2024-09-14  series_1\n",
       "2024-09-21   293.0 2024-09-21  series_1\n",
       "2024-09-28   223.0 2024-09-28  series_1\n",
       "2024-10-05   287.0 2024-10-05  series_1\n",
       "\n",
       "[140 rows x 3 columns]"
      ]
     },
     "execution_count": 12,
     "metadata": {},
     "output_type": "execute_result"
    }
   ],
   "source": [
    "Processor.dfs[0]"
   ]
  },
  {
   "cell_type": "code",
   "execution_count": 13,
   "id": "aeb46fa9-763b-44ac-a535-c98b7ebc5535",
   "metadata": {
    "tags": []
   },
   "outputs": [
    {
     "name": "stderr",
     "output_type": "stream",
     "text": [
      "[I 2025-02-25 19:57:13,676] A new study created in memory with name: no-name-f43fa6e0-e9d6-4e7b-af10-95b178ae2186\n",
      "/home/hmf6av/.local/lib/python3.11/site-packages/neuralforecast/common/_base_auto.py:291: FutureWarning:\n",
      "\n",
      "suggest_loguniform has been deprecated in v3.0.0. This feature will be removed in v6.0.0. See https://github.com/optuna/optuna/releases/tag/v3.0.0. Use suggest_float(..., log=True) instead.\n",
      "\n",
      "[rank: 0] Seed set to 7\n",
      "GPU available: True (cuda), used: True\n",
      "TPU available: False, using: 0 TPU cores\n",
      "HPU available: False, using: 0 HPUs\n",
      "LOCAL_RANK: 0 - CUDA_VISIBLE_DEVICES: [0]\n",
      "\n",
      "  | Name            | Type          | Params | Mode \n",
      "----------------------------------------------------------\n",
      "0 | loss            | MAE           | 0      | train\n",
      "1 | padder          | ConstantPad1d | 0      | train\n",
      "2 | scaler          | TemporalNorm  | 0      | train\n",
      "3 | hist_encoder    | LSTM          | 805 K  | train\n",
      "4 | context_adapter | Linear        | 8.0 K  | train\n",
      "5 | mlp_decoder     | MLP           | 1.5 K  | train\n",
      "----------------------------------------------------------\n",
      "815 K     Trainable params\n",
      "0         Non-trainable params\n",
      "815 K     Total params\n",
      "3.261     Total estimated model params size (MB)\n",
      "11        Modules in train mode\n",
      "0         Modules in eval mode\n"
     ]
    },
    {
     "data": {
      "application/vnd.jupyter.widget-view+json": {
       "model_id": "",
       "version_major": 2,
       "version_minor": 0
      },
      "text/plain": [
       "Sanity Checking: |          | 0/? [00:00<?, ?it/s]"
      ]
     },
     "metadata": {},
     "output_type": "display_data"
    },
    {
     "data": {
      "application/vnd.jupyter.widget-view+json": {
       "model_id": "6bdf290c3cbb41ed837e5aa744a2eb4f",
       "version_major": 2,
       "version_minor": 0
      },
      "text/plain": [
       "Training: |          | 0/? [00:00<?, ?it/s]"
      ]
     },
     "metadata": {},
     "output_type": "display_data"
    },
    {
     "data": {
      "application/vnd.jupyter.widget-view+json": {
       "model_id": "",
       "version_major": 2,
       "version_minor": 0
      },
      "text/plain": [
       "Validation: |          | 0/? [00:00<?, ?it/s]"
      ]
     },
     "metadata": {},
     "output_type": "display_data"
    },
    {
     "data": {
      "application/vnd.jupyter.widget-view+json": {
       "model_id": "",
       "version_major": 2,
       "version_minor": 0
      },
      "text/plain": [
       "Validation: |          | 0/? [00:00<?, ?it/s]"
      ]
     },
     "metadata": {},
     "output_type": "display_data"
    },
    {
     "data": {
      "application/vnd.jupyter.widget-view+json": {
       "model_id": "",
       "version_major": 2,
       "version_minor": 0
      },
      "text/plain": [
       "Validation: |          | 0/? [00:00<?, ?it/s]"
      ]
     },
     "metadata": {},
     "output_type": "display_data"
    },
    {
     "data": {
      "application/vnd.jupyter.widget-view+json": {
       "model_id": "",
       "version_major": 2,
       "version_minor": 0
      },
      "text/plain": [
       "Validation: |          | 0/? [00:00<?, ?it/s]"
      ]
     },
     "metadata": {},
     "output_type": "display_data"
    },
    {
     "data": {
      "application/vnd.jupyter.widget-view+json": {
       "model_id": "",
       "version_major": 2,
       "version_minor": 0
      },
      "text/plain": [
       "Validation: |          | 0/? [00:00<?, ?it/s]"
      ]
     },
     "metadata": {},
     "output_type": "display_data"
    },
    {
     "data": {
      "application/vnd.jupyter.widget-view+json": {
       "model_id": "",
       "version_major": 2,
       "version_minor": 0
      },
      "text/plain": [
       "Validation: |          | 0/? [00:00<?, ?it/s]"
      ]
     },
     "metadata": {},
     "output_type": "display_data"
    },
    {
     "data": {
      "application/vnd.jupyter.widget-view+json": {
       "model_id": "",
       "version_major": 2,
       "version_minor": 0
      },
      "text/plain": [
       "Validation: |          | 0/? [00:00<?, ?it/s]"
      ]
     },
     "metadata": {},
     "output_type": "display_data"
    },
    {
     "data": {
      "application/vnd.jupyter.widget-view+json": {
       "model_id": "",
       "version_major": 2,
       "version_minor": 0
      },
      "text/plain": [
       "Validation: |          | 0/? [00:00<?, ?it/s]"
      ]
     },
     "metadata": {},
     "output_type": "display_data"
    },
    {
     "data": {
      "application/vnd.jupyter.widget-view+json": {
       "model_id": "",
       "version_major": 2,
       "version_minor": 0
      },
      "text/plain": [
       "Validation: |          | 0/? [00:00<?, ?it/s]"
      ]
     },
     "metadata": {},
     "output_type": "display_data"
    },
    {
     "data": {
      "application/vnd.jupyter.widget-view+json": {
       "model_id": "",
       "version_major": 2,
       "version_minor": 0
      },
      "text/plain": [
       "Validation: |          | 0/? [00:00<?, ?it/s]"
      ]
     },
     "metadata": {},
     "output_type": "display_data"
    },
    {
     "name": "stderr",
     "output_type": "stream",
     "text": [
      "`Trainer.fit` stopped: `max_steps=1000` reached.\n",
      "[I 2025-02-25 19:57:37,552] Trial 0 finished with value: 99.32469177246094 and parameters: {'encoder_hidden_size': 200, 'encoder_n_layers': 3, 'context_size': 10, 'decoder_hidden_size': 128, 'learning_rate': 0.010074738765384523, 'max_steps': 1000, 'batch_size': 32, 'random_seed': 7, 'input_size': -4, 'inference_input_size': -4}. Best is trial 0 with value: 99.32469177246094.\n",
      "/home/hmf6av/.local/lib/python3.11/site-packages/neuralforecast/common/_base_auto.py:291: FutureWarning:\n",
      "\n",
      "suggest_loguniform has been deprecated in v3.0.0. This feature will be removed in v6.0.0. See https://github.com/optuna/optuna/releases/tag/v3.0.0. Use suggest_float(..., log=True) instead.\n",
      "\n",
      "[rank: 0] Seed set to 1\n",
      "GPU available: True (cuda), used: True\n",
      "TPU available: False, using: 0 TPU cores\n",
      "HPU available: False, using: 0 HPUs\n",
      "LOCAL_RANK: 0 - CUDA_VISIBLE_DEVICES: [0]\n",
      "\n",
      "  | Name            | Type          | Params | Mode \n",
      "----------------------------------------------------------\n",
      "0 | loss            | MAE           | 0      | train\n",
      "1 | padder          | ConstantPad1d | 0      | train\n",
      "2 | scaler          | TemporalNorm  | 0      | train\n",
      "3 | hist_encoder    | LSTM          | 31.0 K | train\n",
      "4 | context_adapter | Linear        | 1.0 K  | train\n",
      "5 | mlp_decoder     | MLP           | 897    | train\n",
      "----------------------------------------------------------\n",
      "32.9 K    Trainable params\n",
      "0         Non-trainable params\n",
      "32.9 K    Total params\n",
      "0.132     Total estimated model params size (MB)\n",
      "11        Modules in train mode\n",
      "0         Modules in eval mode\n"
     ]
    },
    {
     "data": {
      "application/vnd.jupyter.widget-view+json": {
       "model_id": "",
       "version_major": 2,
       "version_minor": 0
      },
      "text/plain": [
       "Sanity Checking: |          | 0/? [00:00<?, ?it/s]"
      ]
     },
     "metadata": {},
     "output_type": "display_data"
    },
    {
     "data": {
      "application/vnd.jupyter.widget-view+json": {
       "model_id": "89b0607be71c4af19599a20893c45e97",
       "version_major": 2,
       "version_minor": 0
      },
      "text/plain": [
       "Training: |          | 0/? [00:00<?, ?it/s]"
      ]
     },
     "metadata": {},
     "output_type": "display_data"
    },
    {
     "data": {
      "application/vnd.jupyter.widget-view+json": {
       "model_id": "",
       "version_major": 2,
       "version_minor": 0
      },
      "text/plain": [
       "Validation: |          | 0/? [00:00<?, ?it/s]"
      ]
     },
     "metadata": {},
     "output_type": "display_data"
    },
    {
     "data": {
      "application/vnd.jupyter.widget-view+json": {
       "model_id": "",
       "version_major": 2,
       "version_minor": 0
      },
      "text/plain": [
       "Validation: |          | 0/? [00:00<?, ?it/s]"
      ]
     },
     "metadata": {},
     "output_type": "display_data"
    },
    {
     "data": {
      "application/vnd.jupyter.widget-view+json": {
       "model_id": "",
       "version_major": 2,
       "version_minor": 0
      },
      "text/plain": [
       "Validation: |          | 0/? [00:00<?, ?it/s]"
      ]
     },
     "metadata": {},
     "output_type": "display_data"
    },
    {
     "name": "stderr",
     "output_type": "stream",
     "text": [
      "IOPub message rate exceeded.\n",
      "The Jupyter server will temporarily stop sending output\n",
      "to the client in order to avoid crashing it.\n",
      "To change this limit, set the config variable\n",
      "`--ServerApp.iopub_msg_rate_limit`.\n",
      "\n",
      "Current values:\n",
      "ServerApp.iopub_msg_rate_limit=1000.0 (msgs/sec)\n",
      "ServerApp.rate_limit_window=3.0 (secs)\n",
      "\n"
     ]
    },
    {
     "data": {
      "application/vnd.jupyter.widget-view+json": {
       "model_id": "",
       "version_major": 2,
       "version_minor": 0
      },
      "text/plain": [
       "Validation: |          | 0/? [00:00<?, ?it/s]"
      ]
     },
     "metadata": {},
     "output_type": "display_data"
    },
    {
     "data": {
      "application/vnd.jupyter.widget-view+json": {
       "model_id": "",
       "version_major": 2,
       "version_minor": 0
      },
      "text/plain": [
       "Validation: |          | 0/? [00:00<?, ?it/s]"
      ]
     },
     "metadata": {},
     "output_type": "display_data"
    },
    {
     "data": {
      "application/vnd.jupyter.widget-view+json": {
       "model_id": "",
       "version_major": 2,
       "version_minor": 0
      },
      "text/plain": [
       "Validation: |          | 0/? [00:00<?, ?it/s]"
      ]
     },
     "metadata": {},
     "output_type": "display_data"
    },
    {
     "name": "stderr",
     "output_type": "stream",
     "text": [
      "IOPub message rate exceeded.\n",
      "The Jupyter server will temporarily stop sending output\n",
      "to the client in order to avoid crashing it.\n",
      "To change this limit, set the config variable\n",
      "`--ServerApp.iopub_msg_rate_limit`.\n",
      "\n",
      "Current values:\n",
      "ServerApp.iopub_msg_rate_limit=1000.0 (msgs/sec)\n",
      "ServerApp.rate_limit_window=3.0 (secs)\n",
      "\n"
     ]
    },
    {
     "data": {
      "application/vnd.jupyter.widget-view+json": {
       "model_id": "",
       "version_major": 2,
       "version_minor": 0
      },
      "text/plain": [
       "Validation: |          | 0/? [00:00<?, ?it/s]"
      ]
     },
     "metadata": {},
     "output_type": "display_data"
    },
    {
     "data": {
      "application/vnd.jupyter.widget-view+json": {
       "model_id": "",
       "version_major": 2,
       "version_minor": 0
      },
      "text/plain": [
       "Validation: |          | 0/? [00:00<?, ?it/s]"
      ]
     },
     "metadata": {},
     "output_type": "display_data"
    },
    {
     "name": "stderr",
     "output_type": "stream",
     "text": [
      "`Trainer.fit` stopped: `max_steps=1000` reached.\n",
      "[I 2025-02-25 19:57:45,889] Trial 1 finished with value: 487.11859130859375 and parameters: {'encoder_hidden_size': 50, 'encoder_n_layers': 2, 'context_size': 5, 'decoder_hidden_size': 128, 'learning_rate': 0.0016653562940362502, 'max_steps': 1000, 'batch_size': 32, 'random_seed': 1, 'input_size': 64, 'inference_input_size': -4}. Best is trial 0 with value: 99.32469177246094.\n",
      "/home/hmf6av/.local/lib/python3.11/site-packages/neuralforecast/common/_base_auto.py:291: FutureWarning:\n",
      "\n",
      "suggest_loguniform has been deprecated in v3.0.0. This feature will be removed in v6.0.0. See https://github.com/optuna/optuna/releases/tag/v3.0.0. Use suggest_float(..., log=True) instead.\n",
      "\n",
      "[rank: 0] Seed set to 20\n",
      "GPU available: True (cuda), used: True\n",
      "TPU available: False, using: 0 TPU cores\n",
      "HPU available: False, using: 0 HPUs\n",
      "LOCAL_RANK: 0 - CUDA_VISIBLE_DEVICES: [0]\n",
      "\n",
      "  | Name            | Type          | Params | Mode \n",
      "----------------------------------------------------------\n",
      "0 | loss            | MAE           | 0      | train\n",
      "1 | padder          | ConstantPad1d | 0      | train\n",
      "2 | scaler          | TemporalNorm  | 0      | train\n",
      "3 | hist_encoder    | LSTM          | 1.8 M  | train\n",
      "4 | context_adapter | Linear        | 6.0 K  | train\n",
      "5 | mlp_decoder     | MLP           | 449    | train\n",
      "----------------------------------------------------------\n",
      "1.8 M     Trainable params\n",
      "0         Non-trainable params\n",
      "1.8 M     Total params\n",
      "7.259     Total estimated model params size (MB)\n",
      "11        Modules in train mode\n",
      "0         Modules in eval mode\n"
     ]
    },
    {
     "data": {
      "application/vnd.jupyter.widget-view+json": {
       "model_id": "",
       "version_major": 2,
       "version_minor": 0
      },
      "text/plain": [
       "Sanity Checking: |          | 0/? [00:00<?, ?it/s]"
      ]
     },
     "metadata": {},
     "output_type": "display_data"
    },
    {
     "data": {
      "application/vnd.jupyter.widget-view+json": {
       "model_id": "66e249086a174ed2af99fdf036f77835",
       "version_major": 2,
       "version_minor": 0
      },
      "text/plain": [
       "Training: |          | 0/? [00:00<?, ?it/s]"
      ]
     },
     "metadata": {},
     "output_type": "display_data"
    },
    {
     "data": {
      "application/vnd.jupyter.widget-view+json": {
       "model_id": "",
       "version_major": 2,
       "version_minor": 0
      },
      "text/plain": [
       "Validation: |          | 0/? [00:00<?, ?it/s]"
      ]
     },
     "metadata": {},
     "output_type": "display_data"
    },
    {
     "data": {
      "application/vnd.jupyter.widget-view+json": {
       "model_id": "",
       "version_major": 2,
       "version_minor": 0
      },
      "text/plain": [
       "Validation: |          | 0/? [00:00<?, ?it/s]"
      ]
     },
     "metadata": {},
     "output_type": "display_data"
    },
    {
     "data": {
      "application/vnd.jupyter.widget-view+json": {
       "model_id": "",
       "version_major": 2,
       "version_minor": 0
      },
      "text/plain": [
       "Validation: |          | 0/? [00:00<?, ?it/s]"
      ]
     },
     "metadata": {},
     "output_type": "display_data"
    },
    {
     "data": {
      "application/vnd.jupyter.widget-view+json": {
       "model_id": "",
       "version_major": 2,
       "version_minor": 0
      },
      "text/plain": [
       "Validation: |          | 0/? [00:00<?, ?it/s]"
      ]
     },
     "metadata": {},
     "output_type": "display_data"
    },
    {
     "data": {
      "application/vnd.jupyter.widget-view+json": {
       "model_id": "",
       "version_major": 2,
       "version_minor": 0
      },
      "text/plain": [
       "Validation: |          | 0/? [00:00<?, ?it/s]"
      ]
     },
     "metadata": {},
     "output_type": "display_data"
    },
    {
     "name": "stderr",
     "output_type": "stream",
     "text": [
      "`Trainer.fit` stopped: `max_steps=500` reached.\n",
      "[I 2025-02-25 19:57:55,599] Trial 2 finished with value: 900.4074096679688 and parameters: {'encoder_hidden_size': 300, 'encoder_n_layers': 3, 'context_size': 5, 'decoder_hidden_size': 64, 'learning_rate': 0.08754665557282833, 'max_steps': 500, 'batch_size': 32, 'random_seed': 20, 'input_size': 256, 'inference_input_size': -4}. Best is trial 0 with value: 99.32469177246094.\n",
      "/home/hmf6av/.local/lib/python3.11/site-packages/neuralforecast/common/_base_auto.py:291: FutureWarning:\n",
      "\n",
      "suggest_loguniform has been deprecated in v3.0.0. This feature will be removed in v6.0.0. See https://github.com/optuna/optuna/releases/tag/v3.0.0. Use suggest_float(..., log=True) instead.\n",
      "\n",
      "[rank: 0] Seed set to 14\n",
      "GPU available: True (cuda), used: True\n",
      "TPU available: False, using: 0 TPU cores\n",
      "HPU available: False, using: 0 HPUs\n",
      "LOCAL_RANK: 0 - CUDA_VISIBLE_DEVICES: [0]\n",
      "\n",
      "  | Name            | Type          | Params | Mode \n",
      "----------------------------------------------------------\n",
      "0 | loss            | MAE           | 0      | train\n",
      "1 | padder          | ConstantPad1d | 0      | train\n",
      "2 | scaler          | TemporalNorm  | 0      | train\n",
      "3 | hist_encoder    | LSTM          | 10.6 K | train\n",
      "4 | context_adapter | Linear        | 1.0 K  | train\n",
      "5 | mlp_decoder     | MLP           | 449    | train\n",
      "----------------------------------------------------------\n",
      "12.1 K    Trainable params\n",
      "0         Non-trainable params\n",
      "12.1 K    Total params\n",
      "0.048     Total estimated model params size (MB)\n",
      "11        Modules in train mode\n",
      "0         Modules in eval mode\n"
     ]
    },
    {
     "data": {
      "application/vnd.jupyter.widget-view+json": {
       "model_id": "",
       "version_major": 2,
       "version_minor": 0
      },
      "text/plain": [
       "Sanity Checking: |          | 0/? [00:00<?, ?it/s]"
      ]
     },
     "metadata": {},
     "output_type": "display_data"
    },
    {
     "data": {
      "application/vnd.jupyter.widget-view+json": {
       "model_id": "75d524001b47482c80e2daddaafcae81",
       "version_major": 2,
       "version_minor": 0
      },
      "text/plain": [
       "Training: |          | 0/? [00:00<?, ?it/s]"
      ]
     },
     "metadata": {},
     "output_type": "display_data"
    },
    {
     "data": {
      "application/vnd.jupyter.widget-view+json": {
       "model_id": "",
       "version_major": 2,
       "version_minor": 0
      },
      "text/plain": [
       "Validation: |          | 0/? [00:00<?, ?it/s]"
      ]
     },
     "metadata": {},
     "output_type": "display_data"
    },
    {
     "data": {
      "application/vnd.jupyter.widget-view+json": {
       "model_id": "",
       "version_major": 2,
       "version_minor": 0
      },
      "text/plain": [
       "Validation: |          | 0/? [00:00<?, ?it/s]"
      ]
     },
     "metadata": {},
     "output_type": "display_data"
    },
    {
     "name": "stderr",
     "output_type": "stream",
     "text": [
      "IOPub message rate exceeded.\n",
      "The Jupyter server will temporarily stop sending output\n",
      "to the client in order to avoid crashing it.\n",
      "To change this limit, set the config variable\n",
      "`--ServerApp.iopub_msg_rate_limit`.\n",
      "\n",
      "Current values:\n",
      "ServerApp.iopub_msg_rate_limit=1000.0 (msgs/sec)\n",
      "ServerApp.rate_limit_window=3.0 (secs)\n",
      "\n"
     ]
    },
    {
     "data": {
      "application/vnd.jupyter.widget-view+json": {
       "model_id": "",
       "version_major": 2,
       "version_minor": 0
      },
      "text/plain": [
       "Validation: |          | 0/? [00:00<?, ?it/s]"
      ]
     },
     "metadata": {},
     "output_type": "display_data"
    },
    {
     "data": {
      "application/vnd.jupyter.widget-view+json": {
       "model_id": "",
       "version_major": 2,
       "version_minor": 0
      },
      "text/plain": [
       "Validation: |          | 0/? [00:00<?, ?it/s]"
      ]
     },
     "metadata": {},
     "output_type": "display_data"
    },
    {
     "data": {
      "application/vnd.jupyter.widget-view+json": {
       "model_id": "",
       "version_major": 2,
       "version_minor": 0
      },
      "text/plain": [
       "Validation: |          | 0/? [00:00<?, ?it/s]"
      ]
     },
     "metadata": {},
     "output_type": "display_data"
    },
    {
     "name": "stderr",
     "output_type": "stream",
     "text": [
      "IOPub message rate exceeded.\n",
      "The Jupyter server will temporarily stop sending output\n",
      "to the client in order to avoid crashing it.\n",
      "To change this limit, set the config variable\n",
      "`--ServerApp.iopub_msg_rate_limit`.\n",
      "\n",
      "Current values:\n",
      "ServerApp.iopub_msg_rate_limit=1000.0 (msgs/sec)\n",
      "ServerApp.rate_limit_window=3.0 (secs)\n",
      "\n"
     ]
    },
    {
     "data": {
      "application/vnd.jupyter.widget-view+json": {
       "model_id": "",
       "version_major": 2,
       "version_minor": 0
      },
      "text/plain": [
       "Validation: |          | 0/? [00:00<?, ?it/s]"
      ]
     },
     "metadata": {},
     "output_type": "display_data"
    },
    {
     "data": {
      "application/vnd.jupyter.widget-view+json": {
       "model_id": "",
       "version_major": 2,
       "version_minor": 0
      },
      "text/plain": [
       "Validation: |          | 0/? [00:00<?, ?it/s]"
      ]
     },
     "metadata": {},
     "output_type": "display_data"
    },
    {
     "name": "stderr",
     "output_type": "stream",
     "text": [
      "`Trainer.fit` stopped: `max_steps=1000` reached.\n",
      "[I 2025-02-25 19:58:03,422] Trial 3 finished with value: 400.709228515625 and parameters: {'encoder_hidden_size': 50, 'encoder_n_layers': 1, 'context_size': 5, 'decoder_hidden_size': 64, 'learning_rate': 0.0009280735462026618, 'max_steps': 1000, 'batch_size': 32, 'random_seed': 14, 'input_size': 64, 'inference_input_size': -4}. Best is trial 0 with value: 99.32469177246094.\n",
      "/home/hmf6av/.local/lib/python3.11/site-packages/neuralforecast/common/_base_auto.py:291: FutureWarning:\n",
      "\n",
      "suggest_loguniform has been deprecated in v3.0.0. This feature will be removed in v6.0.0. See https://github.com/optuna/optuna/releases/tag/v3.0.0. Use suggest_float(..., log=True) instead.\n",
      "\n",
      "[rank: 0] Seed set to 8\n",
      "GPU available: True (cuda), used: True\n",
      "TPU available: False, using: 0 TPU cores\n",
      "HPU available: False, using: 0 HPUs\n",
      "LOCAL_RANK: 0 - CUDA_VISIBLE_DEVICES: [0]\n",
      "\n",
      "  | Name            | Type          | Params | Mode \n",
      "----------------------------------------------------------\n",
      "0 | loss            | MAE           | 0      | train\n",
      "1 | padder          | ConstantPad1d | 0      | train\n",
      "2 | scaler          | TemporalNorm  | 0      | train\n",
      "3 | hist_encoder    | LSTM          | 31.0 K | train\n",
      "4 | context_adapter | Linear        | 10.2 K | train\n",
      "5 | mlp_decoder     | MLP           | 6.7 K  | train\n",
      "----------------------------------------------------------\n",
      "47.9 K    Trainable params\n",
      "0         Non-trainable params\n",
      "47.9 K    Total params\n",
      "0.191     Total estimated model params size (MB)\n",
      "11        Modules in train mode\n",
      "0         Modules in eval mode\n"
     ]
    },
    {
     "data": {
      "application/vnd.jupyter.widget-view+json": {
       "model_id": "",
       "version_major": 2,
       "version_minor": 0
      },
      "text/plain": [
       "Sanity Checking: |          | 0/? [00:00<?, ?it/s]"
      ]
     },
     "metadata": {},
     "output_type": "display_data"
    },
    {
     "data": {
      "application/vnd.jupyter.widget-view+json": {
       "model_id": "5557e3e158c84d91bdcaa49dd179d3ad",
       "version_major": 2,
       "version_minor": 0
      },
      "text/plain": [
       "Training: |          | 0/? [00:00<?, ?it/s]"
      ]
     },
     "metadata": {},
     "output_type": "display_data"
    },
    {
     "data": {
      "application/vnd.jupyter.widget-view+json": {
       "model_id": "",
       "version_major": 2,
       "version_minor": 0
      },
      "text/plain": [
       "Validation: |          | 0/? [00:00<?, ?it/s]"
      ]
     },
     "metadata": {},
     "output_type": "display_data"
    },
    {
     "name": "stderr",
     "output_type": "stream",
     "text": [
      "IOPub message rate exceeded.\n",
      "The Jupyter server will temporarily stop sending output\n",
      "to the client in order to avoid crashing it.\n",
      "To change this limit, set the config variable\n",
      "`--ServerApp.iopub_msg_rate_limit`.\n",
      "\n",
      "Current values:\n",
      "ServerApp.iopub_msg_rate_limit=1000.0 (msgs/sec)\n",
      "ServerApp.rate_limit_window=3.0 (secs)\n",
      "\n"
     ]
    },
    {
     "data": {
      "application/vnd.jupyter.widget-view+json": {
       "model_id": "78097e871da74f638726491f73c38e5e",
       "version_major": 2,
       "version_minor": 0
      },
      "text/plain": [
       "Validation: |          | 0/? [00:00<?, ?it/s]"
      ]
     },
     "metadata": {},
     "output_type": "display_data"
    },
    {
     "data": {
      "application/vnd.jupyter.widget-view+json": {
       "model_id": "5bf1883bb3db4144a22d9c7e100c543b",
       "version_major": 2,
       "version_minor": 0
      },
      "text/plain": [
       "Validation: |          | 0/? [00:00<?, ?it/s]"
      ]
     },
     "metadata": {},
     "output_type": "display_data"
    },
    {
     "data": {
      "application/vnd.jupyter.widget-view+json": {
       "model_id": "f111874c758042ddbc08b8a97f73625e",
       "version_major": 2,
       "version_minor": 0
      },
      "text/plain": [
       "Validation: |          | 0/? [00:00<?, ?it/s]"
      ]
     },
     "metadata": {},
     "output_type": "display_data"
    },
    {
     "name": "stderr",
     "output_type": "stream",
     "text": [
      "`Trainer.fit` stopped: `max_steps=500` reached.\n",
      "[I 2025-02-25 19:58:07,476] Trial 4 finished with value: 85.53596496582031 and parameters: {'encoder_hidden_size': 50, 'encoder_n_layers': 2, 'context_size': 50, 'decoder_hidden_size': 128, 'learning_rate': 0.003928734415671347, 'max_steps': 500, 'batch_size': 32, 'random_seed': 8, 'input_size': 64, 'inference_input_size': -4}. Best is trial 4 with value: 85.53596496582031.\n",
      "/home/hmf6av/.local/lib/python3.11/site-packages/neuralforecast/common/_base_auto.py:291: FutureWarning:\n",
      "\n",
      "suggest_loguniform has been deprecated in v3.0.0. This feature will be removed in v6.0.0. See https://github.com/optuna/optuna/releases/tag/v3.0.0. Use suggest_float(..., log=True) instead.\n",
      "\n",
      "[rank: 0] Seed set to 5\n",
      "GPU available: True (cuda), used: True\n",
      "TPU available: False, using: 0 TPU cores\n",
      "HPU available: False, using: 0 HPUs\n",
      "LOCAL_RANK: 0 - CUDA_VISIBLE_DEVICES: [0]\n",
      "\n",
      "  | Name            | Type          | Params | Mode \n",
      "----------------------------------------------------------\n",
      "0 | loss            | MAE           | 0      | train\n",
      "1 | padder          | ConstantPad1d | 0      | train\n",
      "2 | scaler          | TemporalNorm  | 0      | train\n",
      "3 | hist_encoder    | LSTM          | 1.1 M  | train\n",
      "4 | context_adapter | Linear        | 60.2 K | train\n",
      "5 | mlp_decoder     | MLP           | 3.3 K  | train\n",
      "----------------------------------------------------------\n",
      "1.1 M     Trainable params\n",
      "0         Non-trainable params\n",
      "1.1 M     Total params\n",
      "4.598     Total estimated model params size (MB)\n",
      "11        Modules in train mode\n",
      "0         Modules in eval mode\n"
     ]
    },
    {
     "data": {
      "application/vnd.jupyter.widget-view+json": {
       "model_id": "ab202c49652e442e9eb7a7b6e9143d20",
       "version_major": 2,
       "version_minor": 0
      },
      "text/plain": [
       "Sanity Checking: |          | 0/? [00:00<?, ?it/s]"
      ]
     },
     "metadata": {},
     "output_type": "display_data"
    },
    {
     "data": {
      "application/vnd.jupyter.widget-view+json": {
       "model_id": "79b855957d37480cad0a97a83cd91e7b",
       "version_major": 2,
       "version_minor": 0
      },
      "text/plain": [
       "Training: |          | 0/? [00:00<?, ?it/s]"
      ]
     },
     "metadata": {},
     "output_type": "display_data"
    },
    {
     "data": {
      "application/vnd.jupyter.widget-view+json": {
       "model_id": "b80996c0d499485a86b4e5d0586fbb56",
       "version_major": 2,
       "version_minor": 0
      },
      "text/plain": [
       "Validation: |          | 0/? [00:00<?, ?it/s]"
      ]
     },
     "metadata": {},
     "output_type": "display_data"
    },
    {
     "name": "stderr",
     "output_type": "stream",
     "text": [
      "IOPub message rate exceeded.\n",
      "The Jupyter server will temporarily stop sending output\n",
      "to the client in order to avoid crashing it.\n",
      "To change this limit, set the config variable\n",
      "`--ServerApp.iopub_msg_rate_limit`.\n",
      "\n",
      "Current values:\n",
      "ServerApp.iopub_msg_rate_limit=1000.0 (msgs/sec)\n",
      "ServerApp.rate_limit_window=3.0 (secs)\n",
      "\n"
     ]
    },
    {
     "data": {
      "application/vnd.jupyter.widget-view+json": {
       "model_id": "e900ee39992c41d0964dad2bf60c05c4",
       "version_major": 2,
       "version_minor": 0
      },
      "text/plain": [
       "Validation: |          | 0/? [00:00<?, ?it/s]"
      ]
     },
     "metadata": {},
     "output_type": "display_data"
    },
    {
     "data": {
      "application/vnd.jupyter.widget-view+json": {
       "model_id": "4cfc613260834f63a5007bfaa315c69d",
       "version_major": 2,
       "version_minor": 0
      },
      "text/plain": [
       "Validation: |          | 0/? [00:00<?, ?it/s]"
      ]
     },
     "metadata": {},
     "output_type": "display_data"
    },
    {
     "data": {
      "application/vnd.jupyter.widget-view+json": {
       "model_id": "4f89b361cff045978104aeb47f53417e",
       "version_major": 2,
       "version_minor": 0
      },
      "text/plain": [
       "Validation: |          | 0/? [00:00<?, ?it/s]"
      ]
     },
     "metadata": {},
     "output_type": "display_data"
    },
    {
     "name": "stderr",
     "output_type": "stream",
     "text": [
      "`Trainer.fit` stopped: `max_steps=500` reached.\n",
      "[I 2025-02-25 19:58:12,031] Trial 5 finished with value: 121.8807144165039 and parameters: {'encoder_hidden_size': 300, 'encoder_n_layers': 2, 'context_size': 50, 'decoder_hidden_size': 64, 'learning_rate': 0.007364257321093037, 'max_steps': 500, 'batch_size': 32, 'random_seed': 5, 'input_size': 16, 'inference_input_size': -4}. Best is trial 4 with value: 85.53596496582031.\n",
      "/home/hmf6av/.local/lib/python3.11/site-packages/neuralforecast/common/_base_auto.py:291: FutureWarning:\n",
      "\n",
      "suggest_loguniform has been deprecated in v3.0.0. This feature will be removed in v6.0.0. See https://github.com/optuna/optuna/releases/tag/v3.0.0. Use suggest_float(..., log=True) instead.\n",
      "\n",
      "[rank: 0] Seed set to 2\n",
      "GPU available: True (cuda), used: True\n",
      "TPU available: False, using: 0 TPU cores\n",
      "HPU available: False, using: 0 HPUs\n",
      "LOCAL_RANK: 0 - CUDA_VISIBLE_DEVICES: [0]\n",
      "\n",
      "  | Name            | Type          | Params | Mode \n",
      "----------------------------------------------------------\n",
      "0 | loss            | MAE           | 0      | train\n",
      "1 | padder          | ConstantPad1d | 0      | train\n",
      "2 | scaler          | TemporalNorm  | 0      | train\n",
      "3 | hist_encoder    | LSTM          | 122 K  | train\n",
      "4 | context_adapter | Linear        | 2.0 K  | train\n",
      "5 | mlp_decoder     | MLP           | 897    | train\n",
      "----------------------------------------------------------\n",
      "124 K     Trainable params\n",
      "0         Non-trainable params\n",
      "124 K     Total params\n",
      "0.500     Total estimated model params size (MB)\n",
      "11        Modules in train mode\n",
      "0         Modules in eval mode\n"
     ]
    },
    {
     "data": {
      "application/vnd.jupyter.widget-view+json": {
       "model_id": "17fa6303f10e4ac5988c18f30182674f",
       "version_major": 2,
       "version_minor": 0
      },
      "text/plain": [
       "Sanity Checking: |          | 0/? [00:00<?, ?it/s]"
      ]
     },
     "metadata": {},
     "output_type": "display_data"
    },
    {
     "data": {
      "application/vnd.jupyter.widget-view+json": {
       "model_id": "e944db707b3e4e438dfd4523b28fa6d7",
       "version_major": 2,
       "version_minor": 0
      },
      "text/plain": [
       "Training: |          | 0/? [00:00<?, ?it/s]"
      ]
     },
     "metadata": {},
     "output_type": "display_data"
    },
    {
     "name": "stderr",
     "output_type": "stream",
     "text": [
      "IOPub message rate exceeded.\n",
      "The Jupyter server will temporarily stop sending output\n",
      "to the client in order to avoid crashing it.\n",
      "To change this limit, set the config variable\n",
      "`--ServerApp.iopub_msg_rate_limit`.\n",
      "\n",
      "Current values:\n",
      "ServerApp.iopub_msg_rate_limit=1000.0 (msgs/sec)\n",
      "ServerApp.rate_limit_window=3.0 (secs)\n",
      "\n"
     ]
    },
    {
     "data": {
      "application/vnd.jupyter.widget-view+json": {
       "model_id": "ea563e355f6b470eb823ba6164160e29",
       "version_major": 2,
       "version_minor": 0
      },
      "text/plain": [
       "Validation: |          | 0/? [00:00<?, ?it/s]"
      ]
     },
     "metadata": {},
     "output_type": "display_data"
    },
    {
     "data": {
      "application/vnd.jupyter.widget-view+json": {
       "model_id": "def44a9001ba440da8b527a08c506b91",
       "version_major": 2,
       "version_minor": 0
      },
      "text/plain": [
       "Validation: |          | 0/? [00:00<?, ?it/s]"
      ]
     },
     "metadata": {},
     "output_type": "display_data"
    },
    {
     "data": {
      "application/vnd.jupyter.widget-view+json": {
       "model_id": "4a0f5f29ceeb4099b879f052377bf4b4",
       "version_major": 2,
       "version_minor": 0
      },
      "text/plain": [
       "Validation: |          | 0/? [00:00<?, ?it/s]"
      ]
     },
     "metadata": {},
     "output_type": "display_data"
    },
    {
     "name": "stderr",
     "output_type": "stream",
     "text": [
      "IOPub message rate exceeded.\n",
      "The Jupyter server will temporarily stop sending output\n",
      "to the client in order to avoid crashing it.\n",
      "To change this limit, set the config variable\n",
      "`--ServerApp.iopub_msg_rate_limit`.\n",
      "\n",
      "Current values:\n",
      "ServerApp.iopub_msg_rate_limit=1000.0 (msgs/sec)\n",
      "ServerApp.rate_limit_window=3.0 (secs)\n",
      "\n"
     ]
    },
    {
     "data": {
      "application/vnd.jupyter.widget-view+json": {
       "model_id": "ddbd409b73ec46209dd1dc19ce01a421",
       "version_major": 2,
       "version_minor": 0
      },
      "text/plain": [
       "Validation: |          | 0/? [00:00<?, ?it/s]"
      ]
     },
     "metadata": {},
     "output_type": "display_data"
    },
    {
     "data": {
      "application/vnd.jupyter.widget-view+json": {
       "model_id": "8544113ba38f41fa81ad153756252c98",
       "version_major": 2,
       "version_minor": 0
      },
      "text/plain": [
       "Validation: |          | 0/? [00:00<?, ?it/s]"
      ]
     },
     "metadata": {},
     "output_type": "display_data"
    },
    {
     "data": {
      "application/vnd.jupyter.widget-view+json": {
       "model_id": "26caf43bd91c4e2ca8a2819d8d1ce4bd",
       "version_major": 2,
       "version_minor": 0
      },
      "text/plain": [
       "Validation: |          | 0/? [00:00<?, ?it/s]"
      ]
     },
     "metadata": {},
     "output_type": "display_data"
    },
    {
     "name": "stderr",
     "output_type": "stream",
     "text": [
      "IOPub message rate exceeded.\n",
      "The Jupyter server will temporarily stop sending output\n",
      "to the client in order to avoid crashing it.\n",
      "To change this limit, set the config variable\n",
      "`--ServerApp.iopub_msg_rate_limit`.\n",
      "\n",
      "Current values:\n",
      "ServerApp.iopub_msg_rate_limit=1000.0 (msgs/sec)\n",
      "ServerApp.rate_limit_window=3.0 (secs)\n",
      "\n"
     ]
    },
    {
     "data": {
      "application/vnd.jupyter.widget-view+json": {
       "model_id": "d2d1b0e602ee45a699d07b72e32b09e4",
       "version_major": 2,
       "version_minor": 0
      },
      "text/plain": [
       "Validation: |          | 0/? [00:00<?, ?it/s]"
      ]
     },
     "metadata": {},
     "output_type": "display_data"
    },
    {
     "name": "stderr",
     "output_type": "stream",
     "text": [
      "`Trainer.fit` stopped: `max_steps=1000` reached.\n",
      "[I 2025-02-25 19:58:20,127] Trial 6 finished with value: 81.2992172241211 and parameters: {'encoder_hidden_size': 100, 'encoder_n_layers': 2, 'context_size': 5, 'decoder_hidden_size': 128, 'learning_rate': 0.008146096242860374, 'max_steps': 1000, 'batch_size': 16, 'random_seed': 2, 'input_size': 16, 'inference_input_size': -4}. Best is trial 6 with value: 81.2992172241211.\n",
      "/home/hmf6av/.local/lib/python3.11/site-packages/neuralforecast/common/_base_auto.py:291: FutureWarning:\n",
      "\n",
      "suggest_loguniform has been deprecated in v3.0.0. This feature will be removed in v6.0.0. See https://github.com/optuna/optuna/releases/tag/v3.0.0. Use suggest_float(..., log=True) instead.\n",
      "\n",
      "[rank: 0] Seed set to 10\n",
      "GPU available: True (cuda), used: True\n",
      "TPU available: False, using: 0 TPU cores\n",
      "HPU available: False, using: 0 HPUs\n",
      "LOCAL_RANK: 0 - CUDA_VISIBLE_DEVICES: [0]\n",
      "\n",
      "  | Name            | Type          | Params | Mode \n",
      "----------------------------------------------------------\n",
      "0 | loss            | MAE           | 0      | train\n",
      "1 | padder          | ConstantPad1d | 0      | train\n",
      "2 | scaler          | TemporalNorm  | 0      | train\n",
      "3 | hist_encoder    | LSTM          | 484 K  | train\n",
      "4 | context_adapter | Linear        | 4.0 K  | train\n",
      "5 | mlp_decoder     | MLP           | 449    | train\n",
      "----------------------------------------------------------\n",
      "488 K     Trainable params\n",
      "0         Non-trainable params\n",
      "488 K     Total params\n",
      "1.954     Total estimated model params size (MB)\n",
      "11        Modules in train mode\n",
      "0         Modules in eval mode\n"
     ]
    },
    {
     "data": {
      "application/vnd.jupyter.widget-view+json": {
       "model_id": "4d5a17c0a18549d2bf6e4cffbda71270",
       "version_major": 2,
       "version_minor": 0
      },
      "text/plain": [
       "Sanity Checking: |          | 0/? [00:00<?, ?it/s]"
      ]
     },
     "metadata": {},
     "output_type": "display_data"
    },
    {
     "data": {
      "application/vnd.jupyter.widget-view+json": {
       "model_id": "fec2ab2144934191b0226812cf816983",
       "version_major": 2,
       "version_minor": 0
      },
      "text/plain": [
       "Training: |          | 0/? [00:00<?, ?it/s]"
      ]
     },
     "metadata": {},
     "output_type": "display_data"
    },
    {
     "data": {
      "application/vnd.jupyter.widget-view+json": {
       "model_id": "b5f59504c83742fe8c4c6e04f2726cab",
       "version_major": 2,
       "version_minor": 0
      },
      "text/plain": [
       "Validation: |          | 0/? [00:00<?, ?it/s]"
      ]
     },
     "metadata": {},
     "output_type": "display_data"
    },
    {
     "data": {
      "application/vnd.jupyter.widget-view+json": {
       "model_id": "c02913181571426ea6d5410ad8e44c69",
       "version_major": 2,
       "version_minor": 0
      },
      "text/plain": [
       "Validation: |          | 0/? [00:00<?, ?it/s]"
      ]
     },
     "metadata": {},
     "output_type": "display_data"
    },
    {
     "data": {
      "application/vnd.jupyter.widget-view+json": {
       "model_id": "fa29e5b9b699420c812a413d37f65a7c",
       "version_major": 2,
       "version_minor": 0
      },
      "text/plain": [
       "Validation: |          | 0/? [00:00<?, ?it/s]"
      ]
     },
     "metadata": {},
     "output_type": "display_data"
    },
    {
     "data": {
      "application/vnd.jupyter.widget-view+json": {
       "model_id": "0185028cfbeb4de883771237bf198eef",
       "version_major": 2,
       "version_minor": 0
      },
      "text/plain": [
       "Validation: |          | 0/? [00:00<?, ?it/s]"
      ]
     },
     "metadata": {},
     "output_type": "display_data"
    },
    {
     "data": {
      "application/vnd.jupyter.widget-view+json": {
       "model_id": "18a66713a1ad45d68557ec4e3527cf15",
       "version_major": 2,
       "version_minor": 0
      },
      "text/plain": [
       "Validation: |          | 0/? [00:00<?, ?it/s]"
      ]
     },
     "metadata": {},
     "output_type": "display_data"
    },
    {
     "data": {
      "application/vnd.jupyter.widget-view+json": {
       "model_id": "b4b0c0b4599d4c129e85a3ac91fd1a9e",
       "version_major": 2,
       "version_minor": 0
      },
      "text/plain": [
       "Validation: |          | 0/? [00:00<?, ?it/s]"
      ]
     },
     "metadata": {},
     "output_type": "display_data"
    },
    {
     "data": {
      "application/vnd.jupyter.widget-view+json": {
       "model_id": "8fb1b538118c44d189494397b009ad69",
       "version_major": 2,
       "version_minor": 0
      },
      "text/plain": [
       "Validation: |          | 0/? [00:00<?, ?it/s]"
      ]
     },
     "metadata": {},
     "output_type": "display_data"
    },
    {
     "data": {
      "application/vnd.jupyter.widget-view+json": {
       "model_id": "e83fb79fb4624c52a2e209b767514bd1",
       "version_major": 2,
       "version_minor": 0
      },
      "text/plain": [
       "Validation: |          | 0/? [00:00<?, ?it/s]"
      ]
     },
     "metadata": {},
     "output_type": "display_data"
    },
    {
     "data": {
      "application/vnd.jupyter.widget-view+json": {
       "model_id": "f62ba4e7fd3d4282b1f6aeb4a480fad3",
       "version_major": 2,
       "version_minor": 0
      },
      "text/plain": [
       "Validation: |          | 0/? [00:00<?, ?it/s]"
      ]
     },
     "metadata": {},
     "output_type": "display_data"
    },
    {
     "data": {
      "application/vnd.jupyter.widget-view+json": {
       "model_id": "ac2666e298614bbbb55be0ebe7049b2d",
       "version_major": 2,
       "version_minor": 0
      },
      "text/plain": [
       "Validation: |          | 0/? [00:00<?, ?it/s]"
      ]
     },
     "metadata": {},
     "output_type": "display_data"
    },
    {
     "name": "stderr",
     "output_type": "stream",
     "text": [
      "`Trainer.fit` stopped: `max_steps=1000` reached.\n",
      "[I 2025-02-25 19:58:35,616] Trial 7 finished with value: 88.68843078613281 and parameters: {'encoder_hidden_size': 200, 'encoder_n_layers': 2, 'context_size': 5, 'decoder_hidden_size': 64, 'learning_rate': 0.0001849411074628946, 'max_steps': 1000, 'batch_size': 32, 'random_seed': 10, 'input_size': 256, 'inference_input_size': -4}. Best is trial 6 with value: 81.2992172241211.\n",
      "/home/hmf6av/.local/lib/python3.11/site-packages/neuralforecast/common/_base_auto.py:291: FutureWarning:\n",
      "\n",
      "suggest_loguniform has been deprecated in v3.0.0. This feature will be removed in v6.0.0. See https://github.com/optuna/optuna/releases/tag/v3.0.0. Use suggest_float(..., log=True) instead.\n",
      "\n",
      "[rank: 0] Seed set to 8\n",
      "GPU available: True (cuda), used: True\n",
      "TPU available: False, using: 0 TPU cores\n",
      "HPU available: False, using: 0 HPUs\n",
      "LOCAL_RANK: 0 - CUDA_VISIBLE_DEVICES: [0]\n",
      "\n",
      "  | Name            | Type          | Params | Mode \n",
      "----------------------------------------------------------\n",
      "0 | loss            | MAE           | 0      | train\n",
      "1 | padder          | ConstantPad1d | 0      | train\n",
      "2 | scaler          | TemporalNorm  | 0      | train\n",
      "3 | hist_encoder    | LSTM          | 202 K  | train\n",
      "4 | context_adapter | Linear        | 2.0 K  | train\n",
      "5 | mlp_decoder     | MLP           | 1.8 K  | train\n",
      "----------------------------------------------------------\n",
      "206 K     Trainable params\n",
      "0         Non-trainable params\n",
      "206 K     Total params\n",
      "0.826     Total estimated model params size (MB)\n",
      "11        Modules in train mode\n",
      "0         Modules in eval mode\n"
     ]
    },
    {
     "data": {
      "application/vnd.jupyter.widget-view+json": {
       "model_id": "130e81a452094c61a44e1b92dd40d97b",
       "version_major": 2,
       "version_minor": 0
      },
      "text/plain": [
       "Sanity Checking: |          | 0/? [00:00<?, ?it/s]"
      ]
     },
     "metadata": {},
     "output_type": "display_data"
    },
    {
     "data": {
      "application/vnd.jupyter.widget-view+json": {
       "model_id": "4beada494b424800947c87dc59d3b4d5",
       "version_major": 2,
       "version_minor": 0
      },
      "text/plain": [
       "Training: |          | 0/? [00:00<?, ?it/s]"
      ]
     },
     "metadata": {},
     "output_type": "display_data"
    },
    {
     "data": {
      "application/vnd.jupyter.widget-view+json": {
       "model_id": "ada299e6e16349b58274f1edfead7745",
       "version_major": 2,
       "version_minor": 0
      },
      "text/plain": [
       "Validation: |          | 0/? [00:00<?, ?it/s]"
      ]
     },
     "metadata": {},
     "output_type": "display_data"
    },
    {
     "data": {
      "application/vnd.jupyter.widget-view+json": {
       "model_id": "a52edc31c84544c5800024982744d86b",
       "version_major": 2,
       "version_minor": 0
      },
      "text/plain": [
       "Validation: |          | 0/? [00:00<?, ?it/s]"
      ]
     },
     "metadata": {},
     "output_type": "display_data"
    },
    {
     "data": {
      "application/vnd.jupyter.widget-view+json": {
       "model_id": "2f01b8396c4c4331a9ab06d30fcbb20a",
       "version_major": 2,
       "version_minor": 0
      },
      "text/plain": [
       "Validation: |          | 0/? [00:00<?, ?it/s]"
      ]
     },
     "metadata": {},
     "output_type": "display_data"
    },
    {
     "name": "stderr",
     "output_type": "stream",
     "text": [
      "IOPub message rate exceeded.\n",
      "The Jupyter server will temporarily stop sending output\n",
      "to the client in order to avoid crashing it.\n",
      "To change this limit, set the config variable\n",
      "`--ServerApp.iopub_msg_rate_limit`.\n",
      "\n",
      "Current values:\n",
      "ServerApp.iopub_msg_rate_limit=1000.0 (msgs/sec)\n",
      "ServerApp.rate_limit_window=3.0 (secs)\n",
      "\n"
     ]
    },
    {
     "data": {
      "application/vnd.jupyter.widget-view+json": {
       "model_id": "e5267980a5b94d048e3f03e66c25e353",
       "version_major": 2,
       "version_minor": 0
      },
      "text/plain": [
       "Validation: |          | 0/? [00:00<?, ?it/s]"
      ]
     },
     "metadata": {},
     "output_type": "display_data"
    },
    {
     "data": {
      "application/vnd.jupyter.widget-view+json": {
       "model_id": "adb662fff4124b40b788f34e732e7a23",
       "version_major": 2,
       "version_minor": 0
      },
      "text/plain": [
       "Validation: |          | 0/? [00:00<?, ?it/s]"
      ]
     },
     "metadata": {},
     "output_type": "display_data"
    },
    {
     "data": {
      "application/vnd.jupyter.widget-view+json": {
       "model_id": "d0bbeafcb493462d83a20f79df393ea7",
       "version_major": 2,
       "version_minor": 0
      },
      "text/plain": [
       "Validation: |          | 0/? [00:00<?, ?it/s]"
      ]
     },
     "metadata": {},
     "output_type": "display_data"
    },
    {
     "data": {
      "application/vnd.jupyter.widget-view+json": {
       "model_id": "f331181b3ce646699bdc584139b89711",
       "version_major": 2,
       "version_minor": 0
      },
      "text/plain": [
       "Validation: |          | 0/? [00:00<?, ?it/s]"
      ]
     },
     "metadata": {},
     "output_type": "display_data"
    },
    {
     "name": "stderr",
     "output_type": "stream",
     "text": [
      "IOPub message rate exceeded.\n",
      "The Jupyter server will temporarily stop sending output\n",
      "to the client in order to avoid crashing it.\n",
      "To change this limit, set the config variable\n",
      "`--ServerApp.iopub_msg_rate_limit`.\n",
      "\n",
      "Current values:\n",
      "ServerApp.iopub_msg_rate_limit=1000.0 (msgs/sec)\n",
      "ServerApp.rate_limit_window=3.0 (secs)\n",
      "\n"
     ]
    },
    {
     "data": {
      "application/vnd.jupyter.widget-view+json": {
       "model_id": "9e4298c4070b421995c0ddbbe36ce72a",
       "version_major": 2,
       "version_minor": 0
      },
      "text/plain": [
       "Validation: |          | 0/? [00:00<?, ?it/s]"
      ]
     },
     "metadata": {},
     "output_type": "display_data"
    },
    {
     "data": {
      "application/vnd.jupyter.widget-view+json": {
       "model_id": "7d1e194780544dba8c43c468e0c5c49e",
       "version_major": 2,
       "version_minor": 0
      },
      "text/plain": [
       "Validation: |          | 0/? [00:00<?, ?it/s]"
      ]
     },
     "metadata": {},
     "output_type": "display_data"
    },
    {
     "data": {
      "application/vnd.jupyter.widget-view+json": {
       "model_id": "e32690212d834d80b2c5605de78c1a3c",
       "version_major": 2,
       "version_minor": 0
      },
      "text/plain": [
       "Validation: |          | 0/? [00:00<?, ?it/s]"
      ]
     },
     "metadata": {},
     "output_type": "display_data"
    },
    {
     "name": "stderr",
     "output_type": "stream",
     "text": [
      "`Trainer.fit` stopped: `max_steps=1000` reached.\n",
      "[I 2025-02-25 19:58:44,874] Trial 8 finished with value: 49.795753479003906 and parameters: {'encoder_hidden_size': 100, 'encoder_n_layers': 3, 'context_size': 5, 'decoder_hidden_size': 256, 'learning_rate': 0.000295977995009147, 'max_steps': 1000, 'batch_size': 32, 'random_seed': 8, 'input_size': -4, 'inference_input_size': -4}. Best is trial 8 with value: 49.795753479003906.\n",
      "/home/hmf6av/.local/lib/python3.11/site-packages/neuralforecast/common/_base_auto.py:291: FutureWarning:\n",
      "\n",
      "suggest_loguniform has been deprecated in v3.0.0. This feature will be removed in v6.0.0. See https://github.com/optuna/optuna/releases/tag/v3.0.0. Use suggest_float(..., log=True) instead.\n",
      "\n",
      "[rank: 0] Seed set to 7\n",
      "GPU available: True (cuda), used: True\n",
      "TPU available: False, using: 0 TPU cores\n",
      "HPU available: False, using: 0 HPUs\n",
      "LOCAL_RANK: 0 - CUDA_VISIBLE_DEVICES: [0]\n",
      "\n",
      "  | Name            | Type          | Params | Mode \n",
      "----------------------------------------------------------\n",
      "0 | loss            | MAE           | 0      | train\n",
      "1 | padder          | ConstantPad1d | 0      | train\n",
      "2 | scaler          | TemporalNorm  | 0      | train\n",
      "3 | hist_encoder    | LSTM          | 1.8 M  | train\n",
      "4 | context_adapter | Linear        | 12.0 K | train\n",
      "5 | mlp_decoder     | MLP           | 3.1 K  | train\n",
      "----------------------------------------------------------\n",
      "1.8 M     Trainable params\n",
      "0         Non-trainable params\n",
      "1.8 M     Total params\n",
      "7.294     Total estimated model params size (MB)\n",
      "11        Modules in train mode\n",
      "0         Modules in eval mode\n"
     ]
    },
    {
     "data": {
      "application/vnd.jupyter.widget-view+json": {
       "model_id": "2aac7514bfdb4b0eb5e2fbd68d4a054d",
       "version_major": 2,
       "version_minor": 0
      },
      "text/plain": [
       "Sanity Checking: |          | 0/? [00:00<?, ?it/s]"
      ]
     },
     "metadata": {},
     "output_type": "display_data"
    },
    {
     "data": {
      "application/vnd.jupyter.widget-view+json": {
       "model_id": "59aa263cf87d4cfc87c31746e18b8a46",
       "version_major": 2,
       "version_minor": 0
      },
      "text/plain": [
       "Training: |          | 0/? [00:00<?, ?it/s]"
      ]
     },
     "metadata": {},
     "output_type": "display_data"
    },
    {
     "data": {
      "application/vnd.jupyter.widget-view+json": {
       "model_id": "4a379b2188774af8a32386d36d5c19af",
       "version_major": 2,
       "version_minor": 0
      },
      "text/plain": [
       "Validation: |          | 0/? [00:00<?, ?it/s]"
      ]
     },
     "metadata": {},
     "output_type": "display_data"
    },
    {
     "data": {
      "application/vnd.jupyter.widget-view+json": {
       "model_id": "4d039666df144597b41431d0a9b2fa50",
       "version_major": 2,
       "version_minor": 0
      },
      "text/plain": [
       "Validation: |          | 0/? [00:00<?, ?it/s]"
      ]
     },
     "metadata": {},
     "output_type": "display_data"
    },
    {
     "data": {
      "application/vnd.jupyter.widget-view+json": {
       "model_id": "6038dbd23ee84399a63233bc9529aa11",
       "version_major": 2,
       "version_minor": 0
      },
      "text/plain": [
       "Validation: |          | 0/? [00:00<?, ?it/s]"
      ]
     },
     "metadata": {},
     "output_type": "display_data"
    },
    {
     "data": {
      "application/vnd.jupyter.widget-view+json": {
       "model_id": "daa0787ea855467b821d6b760c485f0e",
       "version_major": 2,
       "version_minor": 0
      },
      "text/plain": [
       "Validation: |          | 0/? [00:00<?, ?it/s]"
      ]
     },
     "metadata": {},
     "output_type": "display_data"
    },
    {
     "data": {
      "application/vnd.jupyter.widget-view+json": {
       "model_id": "65d7b3127fb1407d8898c19b492ed03d",
       "version_major": 2,
       "version_minor": 0
      },
      "text/plain": [
       "Validation: |          | 0/? [00:00<?, ?it/s]"
      ]
     },
     "metadata": {},
     "output_type": "display_data"
    },
    {
     "name": "stderr",
     "output_type": "stream",
     "text": [
      "`Trainer.fit` stopped: `max_steps=500` reached.\n",
      "[I 2025-02-25 19:58:49,923] Trial 9 finished with value: 429.5313415527344 and parameters: {'encoder_hidden_size': 300, 'encoder_n_layers': 3, 'context_size': 10, 'decoder_hidden_size': 256, 'learning_rate': 0.0016620667848505255, 'max_steps': 500, 'batch_size': 16, 'random_seed': 7, 'input_size': 16, 'inference_input_size': -4}. Best is trial 8 with value: 49.795753479003906.\n",
      "[rank: 0] Seed set to 8\n",
      "GPU available: True (cuda), used: True\n",
      "TPU available: False, using: 0 TPU cores\n",
      "HPU available: False, using: 0 HPUs\n",
      "LOCAL_RANK: 0 - CUDA_VISIBLE_DEVICES: [0]\n",
      "\n",
      "  | Name            | Type          | Params | Mode \n",
      "----------------------------------------------------------\n",
      "0 | loss            | MAE           | 0      | train\n",
      "1 | padder          | ConstantPad1d | 0      | train\n",
      "2 | scaler          | TemporalNorm  | 0      | train\n",
      "3 | hist_encoder    | LSTM          | 202 K  | train\n",
      "4 | context_adapter | Linear        | 2.0 K  | train\n",
      "5 | mlp_decoder     | MLP           | 1.8 K  | train\n",
      "----------------------------------------------------------\n",
      "206 K     Trainable params\n",
      "0         Non-trainable params\n",
      "206 K     Total params\n",
      "0.826     Total estimated model params size (MB)\n",
      "11        Modules in train mode\n",
      "0         Modules in eval mode\n"
     ]
    },
    {
     "data": {
      "application/vnd.jupyter.widget-view+json": {
       "model_id": "626ae197bb6a4143b993206fee0b59ad",
       "version_major": 2,
       "version_minor": 0
      },
      "text/plain": [
       "Sanity Checking: |          | 0/? [00:00<?, ?it/s]"
      ]
     },
     "metadata": {},
     "output_type": "display_data"
    },
    {
     "data": {
      "application/vnd.jupyter.widget-view+json": {
       "model_id": "bbaeed32ead143d793a656f913c9dd3b",
       "version_major": 2,
       "version_minor": 0
      },
      "text/plain": [
       "Training: |          | 0/? [00:00<?, ?it/s]"
      ]
     },
     "metadata": {},
     "output_type": "display_data"
    },
    {
     "data": {
      "application/vnd.jupyter.widget-view+json": {
       "model_id": "1b0334ed76894c05a10a0e1102c204e1",
       "version_major": 2,
       "version_minor": 0
      },
      "text/plain": [
       "Validation: |          | 0/? [00:00<?, ?it/s]"
      ]
     },
     "metadata": {},
     "output_type": "display_data"
    },
    {
     "data": {
      "application/vnd.jupyter.widget-view+json": {
       "model_id": "9c338a531eb24205bd53687c8898199b",
       "version_major": 2,
       "version_minor": 0
      },
      "text/plain": [
       "Validation: |          | 0/? [00:00<?, ?it/s]"
      ]
     },
     "metadata": {},
     "output_type": "display_data"
    },
    {
     "data": {
      "application/vnd.jupyter.widget-view+json": {
       "model_id": "c23b2a8006e64d02a6358ea70c4373d7",
       "version_major": 2,
       "version_minor": 0
      },
      "text/plain": [
       "Validation: |          | 0/? [00:00<?, ?it/s]"
      ]
     },
     "metadata": {},
     "output_type": "display_data"
    },
    {
     "name": "stderr",
     "output_type": "stream",
     "text": [
      "IOPub message rate exceeded.\n",
      "The Jupyter server will temporarily stop sending output\n",
      "to the client in order to avoid crashing it.\n",
      "To change this limit, set the config variable\n",
      "`--ServerApp.iopub_msg_rate_limit`.\n",
      "\n",
      "Current values:\n",
      "ServerApp.iopub_msg_rate_limit=1000.0 (msgs/sec)\n",
      "ServerApp.rate_limit_window=3.0 (secs)\n",
      "\n"
     ]
    },
    {
     "data": {
      "application/vnd.jupyter.widget-view+json": {
       "model_id": "d25156c615a341788946ff3d9a84f9ab",
       "version_major": 2,
       "version_minor": 0
      },
      "text/plain": [
       "Validation: |          | 0/? [00:00<?, ?it/s]"
      ]
     },
     "metadata": {},
     "output_type": "display_data"
    },
    {
     "data": {
      "application/vnd.jupyter.widget-view+json": {
       "model_id": "191351757fb74165b8f89c06978a5ebe",
       "version_major": 2,
       "version_minor": 0
      },
      "text/plain": [
       "Validation: |          | 0/? [00:00<?, ?it/s]"
      ]
     },
     "metadata": {},
     "output_type": "display_data"
    },
    {
     "data": {
      "application/vnd.jupyter.widget-view+json": {
       "model_id": "64b62c1fe4e1477cbb219783f8a73f04",
       "version_major": 2,
       "version_minor": 0
      },
      "text/plain": [
       "Validation: |          | 0/? [00:00<?, ?it/s]"
      ]
     },
     "metadata": {},
     "output_type": "display_data"
    },
    {
     "data": {
      "application/vnd.jupyter.widget-view+json": {
       "model_id": "68f9bcb5ceeb40f19209d813157a07bb",
       "version_major": 2,
       "version_minor": 0
      },
      "text/plain": [
       "Validation: |          | 0/? [00:00<?, ?it/s]"
      ]
     },
     "metadata": {},
     "output_type": "display_data"
    },
    {
     "name": "stderr",
     "output_type": "stream",
     "text": [
      "IOPub message rate exceeded.\n",
      "The Jupyter server will temporarily stop sending output\n",
      "to the client in order to avoid crashing it.\n",
      "To change this limit, set the config variable\n",
      "`--ServerApp.iopub_msg_rate_limit`.\n",
      "\n",
      "Current values:\n",
      "ServerApp.iopub_msg_rate_limit=1000.0 (msgs/sec)\n",
      "ServerApp.rate_limit_window=3.0 (secs)\n",
      "\n"
     ]
    },
    {
     "data": {
      "application/vnd.jupyter.widget-view+json": {
       "model_id": "4f2fc7e4348b42d8816ba2b5f7aa9aea",
       "version_major": 2,
       "version_minor": 0
      },
      "text/plain": [
       "Validation: |          | 0/? [00:00<?, ?it/s]"
      ]
     },
     "metadata": {},
     "output_type": "display_data"
    },
    {
     "data": {
      "application/vnd.jupyter.widget-view+json": {
       "model_id": "6318aabb687749678c45f18c7c706e0f",
       "version_major": 2,
       "version_minor": 0
      },
      "text/plain": [
       "Validation: |          | 0/? [00:00<?, ?it/s]"
      ]
     },
     "metadata": {},
     "output_type": "display_data"
    },
    {
     "data": {
      "application/vnd.jupyter.widget-view+json": {
       "model_id": "024b20ec249b45d59d4f7946a96110ba",
       "version_major": 2,
       "version_minor": 0
      },
      "text/plain": [
       "Validation: |          | 0/? [00:00<?, ?it/s]"
      ]
     },
     "metadata": {},
     "output_type": "display_data"
    },
    {
     "name": "stderr",
     "output_type": "stream",
     "text": [
      "`Trainer.fit` stopped: `max_steps=1000` reached.\n",
      "GPU available: True (cuda), used: True\n",
      "TPU available: False, using: 0 TPU cores\n",
      "HPU available: False, using: 0 HPUs\n",
      "LOCAL_RANK: 0 - CUDA_VISIBLE_DEVICES: [0]\n"
     ]
    },
    {
     "data": {
      "application/vnd.jupyter.widget-view+json": {
       "model_id": "327a6ffae0a643a39f2266f82ac5997e",
       "version_major": 2,
       "version_minor": 0
      },
      "text/plain": [
       "Predicting: |          | 0/? [00:00<?, ?it/s]"
      ]
     },
     "metadata": {},
     "output_type": "display_data"
    },
    {
     "name": "stderr",
     "output_type": "stream",
     "text": [
      "GPU available: True (cuda), used: True\n",
      "TPU available: False, using: 0 TPU cores\n",
      "HPU available: False, using: 0 HPUs\n",
      "LOCAL_RANK: 0 - CUDA_VISIBLE_DEVICES: [0]\n"
     ]
    },
    {
     "data": {
      "application/vnd.jupyter.widget-view+json": {
       "model_id": "a5d8860036f242798ac0ce8206e6ef4d",
       "version_major": 2,
       "version_minor": 0
      },
      "text/plain": [
       "Predicting: |          | 0/? [00:00<?, ?it/s]"
      ]
     },
     "metadata": {},
     "output_type": "display_data"
    },
    {
     "name": "stderr",
     "output_type": "stream",
     "text": [
      "GPU available: True (cuda), used: True\n",
      "TPU available: False, using: 0 TPU cores\n",
      "HPU available: False, using: 0 HPUs\n",
      "LOCAL_RANK: 0 - CUDA_VISIBLE_DEVICES: [0]\n"
     ]
    },
    {
     "data": {
      "application/vnd.jupyter.widget-view+json": {
       "model_id": "eb233c454e4c444d81e6f31b77127c6f",
       "version_major": 2,
       "version_minor": 0
      },
      "text/plain": [
       "Predicting: |          | 0/? [00:00<?, ?it/s]"
      ]
     },
     "metadata": {},
     "output_type": "display_data"
    },
    {
     "name": "stderr",
     "output_type": "stream",
     "text": [
      "GPU available: True (cuda), used: True\n",
      "TPU available: False, using: 0 TPU cores\n",
      "HPU available: False, using: 0 HPUs\n",
      "LOCAL_RANK: 0 - CUDA_VISIBLE_DEVICES: [0]\n"
     ]
    },
    {
     "data": {
      "application/vnd.jupyter.widget-view+json": {
       "model_id": "3178ee0c59de4253a824456b4426dd63",
       "version_major": 2,
       "version_minor": 0
      },
      "text/plain": [
       "Predicting: |          | 0/? [00:00<?, ?it/s]"
      ]
     },
     "metadata": {},
     "output_type": "display_data"
    },
    {
     "name": "stderr",
     "output_type": "stream",
     "text": [
      "GPU available: True (cuda), used: True\n",
      "TPU available: False, using: 0 TPU cores\n",
      "HPU available: False, using: 0 HPUs\n",
      "LOCAL_RANK: 0 - CUDA_VISIBLE_DEVICES: [0]\n"
     ]
    },
    {
     "data": {
      "application/vnd.jupyter.widget-view+json": {
       "model_id": "92f190eaf7ae4d99b3672d4e2c10d9cf",
       "version_major": 2,
       "version_minor": 0
      },
      "text/plain": [
       "Predicting: |          | 0/? [00:00<?, ?it/s]"
      ]
     },
     "metadata": {},
     "output_type": "display_data"
    }
   ],
   "source": [
    "Processor.create_fixed_model(4)"
   ]
  },
  {
   "cell_type": "code",
   "execution_count": 17,
   "id": "e846a64c-4fcf-4473-a2aa-9bae7a224652",
   "metadata": {
    "tags": []
   },
   "outputs": [
    {
     "data": {
      "text/html": [
       "<div>\n",
       "<style scoped>\n",
       "    .dataframe tbody tr th:only-of-type {\n",
       "        vertical-align: middle;\n",
       "    }\n",
       "\n",
       "    .dataframe tbody tr th {\n",
       "        vertical-align: top;\n",
       "    }\n",
       "\n",
       "    .dataframe thead th {\n",
       "        text-align: right;\n",
       "    }\n",
       "</style>\n",
       "<table border=\"1\" class=\"dataframe\">\n",
       "  <thead>\n",
       "    <tr style=\"text-align: right;\">\n",
       "      <th></th>\n",
       "      <th>0</th>\n",
       "    </tr>\n",
       "  </thead>\n",
       "  <tbody>\n",
       "    <tr>\n",
       "      <th>2024-10-19</th>\n",
       "      <td>355.325317</td>\n",
       "    </tr>\n",
       "    <tr>\n",
       "      <th>2024-10-26</th>\n",
       "      <td>343.785461</td>\n",
       "    </tr>\n",
       "    <tr>\n",
       "      <th>2024-11-02</th>\n",
       "      <td>372.736938</td>\n",
       "    </tr>\n",
       "    <tr>\n",
       "      <th>2024-11-09</th>\n",
       "      <td>446.946411</td>\n",
       "    </tr>\n",
       "  </tbody>\n",
       "</table>\n",
       "</div>"
      ],
      "text/plain": [
       "                     0\n",
       "2024-10-19  355.325317\n",
       "2024-10-26  343.785461\n",
       "2024-11-02  372.736938\n",
       "2024-11-09  446.946411"
      ]
     },
     "execution_count": 17,
     "metadata": {},
     "output_type": "execute_result"
    }
   ],
   "source": [
    "Processor.forecasts[1]"
   ]
  },
  {
   "cell_type": "code",
   "execution_count": 18,
   "id": "90aa42b8-67e0-4800-9e36-fe5c37484705",
   "metadata": {
    "tags": []
   },
   "outputs": [
    {
     "data": {
      "application/vnd.plotly.v1+json": {
       "config": {
        "linkText": "Export to plot.ly",
        "plotlyServerURL": "https://plot.ly",
        "showLink": true
       },
       "data": [
        {
         "line": {
          "color": "rgba(255, 153, 51, 1.0)",
          "dash": "solid",
          "shape": "linear",
          "width": 1.3
         },
         "mode": "lines",
         "name": "Real Data",
         "text": "",
         "type": "scatter",
         "x": [
          "2022-02-05",
          "2022-02-12",
          "2022-02-19",
          "2022-02-26",
          "2022-03-05",
          "2022-03-12",
          "2022-03-19",
          "2022-03-26",
          "2022-04-02",
          "2022-04-09",
          "2022-04-16",
          "2022-04-23",
          "2022-04-30",
          "2022-05-07",
          "2022-05-14",
          "2022-05-21",
          "2022-05-28",
          "2022-06-04",
          "2022-06-11",
          "2022-06-18",
          "2022-06-25",
          "2022-07-02",
          "2022-07-09",
          "2022-07-16",
          "2022-07-23",
          "2022-07-30",
          "2022-08-06",
          "2022-08-13",
          "2022-08-20",
          "2022-08-27",
          "2022-09-03",
          "2022-09-10",
          "2022-09-17",
          "2022-09-24",
          "2022-10-01",
          "2022-10-08",
          "2022-10-15",
          "2022-10-22",
          "2022-10-29",
          "2022-11-05",
          "2022-11-12",
          "2022-11-19",
          "2022-11-26",
          "2022-12-03",
          "2022-12-10",
          "2022-12-17",
          "2022-12-24",
          "2022-12-31",
          "2023-01-07",
          "2023-01-14",
          "2023-01-21",
          "2023-01-28",
          "2023-02-04",
          "2023-02-11",
          "2023-02-18",
          "2023-02-25",
          "2023-03-04",
          "2023-03-11",
          "2023-03-18",
          "2023-03-25",
          "2023-04-01",
          "2023-04-08",
          "2023-04-15",
          "2023-04-22",
          "2023-04-29",
          "2023-05-06",
          "2023-05-13",
          "2023-05-20",
          "2023-05-27",
          "2023-06-03",
          "2023-06-10",
          "2023-06-17",
          "2023-06-24",
          "2023-07-01",
          "2023-07-08",
          "2023-07-15",
          "2023-07-22",
          "2023-07-29",
          "2023-08-05",
          "2023-08-12",
          "2023-08-19",
          "2023-08-26",
          "2023-09-02",
          "2023-09-09",
          "2023-09-16",
          "2023-09-23",
          "2023-09-30",
          "2023-10-07",
          "2023-10-14",
          "2023-10-21",
          "2023-10-28",
          "2023-11-04",
          "2023-11-11",
          "2023-11-18",
          "2023-11-25",
          "2023-12-02",
          "2023-12-09",
          "2023-12-16",
          "2023-12-23",
          "2023-12-30",
          "2024-01-06",
          "2024-01-13",
          "2024-01-20",
          "2024-01-27",
          "2024-02-03",
          "2024-02-10",
          "2024-02-17",
          "2024-02-24",
          "2024-03-02",
          "2024-03-09",
          "2024-03-16",
          "2024-03-23",
          "2024-03-30",
          "2024-04-06",
          "2024-04-13",
          "2024-04-20",
          "2024-04-27",
          "2024-05-04",
          "2024-05-11",
          "2024-05-18",
          "2024-05-25",
          "2024-06-01",
          "2024-06-08",
          "2024-06-15",
          "2024-06-22",
          "2024-06-29",
          "2024-07-06",
          "2024-07-13",
          "2024-07-20",
          "2024-07-27",
          "2024-08-03",
          "2024-08-10",
          "2024-08-17",
          "2024-08-24",
          "2024-08-31",
          "2024-09-07",
          "2024-09-14",
          "2024-09-21",
          "2024-09-28",
          "2024-10-05",
          "2024-10-12",
          "2024-10-19",
          "2024-10-26",
          "2024-11-02",
          "2024-11-09",
          "2024-11-16",
          "2024-11-23",
          "2024-11-30",
          "2024-12-07",
          "2024-12-14",
          "2024-12-21",
          "2024-12-28",
          "2025-01-04",
          "2025-01-11",
          "2025-01-18",
          "2025-01-25",
          "2025-02-01",
          "2025-02-08",
          "2025-02-15"
         ],
         "y": [
          1092,
          1164,
          1493,
          1603,
          1791,
          2097,
          2626,
          2919,
          3008,
          3149,
          3308,
          3474,
          3182,
          3175,
          3119,
          3133,
          2738,
          2678,
          2210,
          1776,
          1366,
          1073,
          776,
          766,
          628,
          522,
          486,
          490,
          483,
          483,
          545,
          576,
          665,
          796,
          921,
          1316,
          1674,
          2292,
          4184,
          6408,
          8595,
          10974,
          18177,
          26841,
          24037,
          21613,
          19632,
          19480,
          14076,
          7185,
          4491,
          3091,
          2597,
          2177,
          1908,
          1647,
          1503,
          1372,
          1415,
          1331,
          1295,
          1199,
          1077,
          982,
          903,
          994,
          980,
          1116,
          974,
          939,
          935,
          873,
          813,
          836,
          699,
          736,
          645,
          771,
          690,
          706,
          738,
          793,
          875,
          804,
          821,
          881,
          1026,
          1110,
          1215,
          1470,
          1614,
          2014,
          2775,
          3491,
          4386,
          5961,
          7509,
          10285,
          15725,
          21682,
          19548,
          15905,
          13303,
          13025,
          11965,
          11634,
          11127,
          10873,
          10814,
          9417,
          7324,
          6049,
          5576,
          5071,
          4073,
          2943,
          2420,
          1485,
          852,
          682,
          611,
          591,
          511,
          519,
          441,
          356,
          342,
          367,
          325,
          273,
          276,
          275,
          275,
          274,
          262,
          223,
          319,
          293,
          223,
          287,
          295,
          553,
          1082,
          976,
          2032,
          2439,
          3090,
          4347,
          6353,
          9140,
          15253,
          26988,
          38106,
          30636,
          32561,
          39927,
          50272,
          52211,
          41658
         ]
        },
        {
         "line": {
          "color": "rgba(55, 128, 191, 1.0)",
          "dash": "solid",
          "shape": "linear",
          "width": 1.3
         },
         "mode": "lines",
         "name": "October 05, 2024 Model",
         "text": "",
         "type": "scatter",
         "x": [
          "2022-02-05",
          "2022-02-12",
          "2022-02-19",
          "2022-02-26",
          "2022-03-05",
          "2022-03-12",
          "2022-03-19",
          "2022-03-26",
          "2022-04-02",
          "2022-04-09",
          "2022-04-16",
          "2022-04-23",
          "2022-04-30",
          "2022-05-07",
          "2022-05-14",
          "2022-05-21",
          "2022-05-28",
          "2022-06-04",
          "2022-06-11",
          "2022-06-18",
          "2022-06-25",
          "2022-07-02",
          "2022-07-09",
          "2022-07-16",
          "2022-07-23",
          "2022-07-30",
          "2022-08-06",
          "2022-08-13",
          "2022-08-20",
          "2022-08-27",
          "2022-09-03",
          "2022-09-10",
          "2022-09-17",
          "2022-09-24",
          "2022-10-01",
          "2022-10-08",
          "2022-10-15",
          "2022-10-22",
          "2022-10-29",
          "2022-11-05",
          "2022-11-12",
          "2022-11-19",
          "2022-11-26",
          "2022-12-03",
          "2022-12-10",
          "2022-12-17",
          "2022-12-24",
          "2022-12-31",
          "2023-01-07",
          "2023-01-14",
          "2023-01-21",
          "2023-01-28",
          "2023-02-04",
          "2023-02-11",
          "2023-02-18",
          "2023-02-25",
          "2023-03-04",
          "2023-03-11",
          "2023-03-18",
          "2023-03-25",
          "2023-04-01",
          "2023-04-08",
          "2023-04-15",
          "2023-04-22",
          "2023-04-29",
          "2023-05-06",
          "2023-05-13",
          "2023-05-20",
          "2023-05-27",
          "2023-06-03",
          "2023-06-10",
          "2023-06-17",
          "2023-06-24",
          "2023-07-01",
          "2023-07-08",
          "2023-07-15",
          "2023-07-22",
          "2023-07-29",
          "2023-08-05",
          "2023-08-12",
          "2023-08-19",
          "2023-08-26",
          "2023-09-02",
          "2023-09-09",
          "2023-09-16",
          "2023-09-23",
          "2023-09-30",
          "2023-10-07",
          "2023-10-14",
          "2023-10-21",
          "2023-10-28",
          "2023-11-04",
          "2023-11-11",
          "2023-11-18",
          "2023-11-25",
          "2023-12-02",
          "2023-12-09",
          "2023-12-16",
          "2023-12-23",
          "2023-12-30",
          "2024-01-06",
          "2024-01-13",
          "2024-01-20",
          "2024-01-27",
          "2024-02-03",
          "2024-02-10",
          "2024-02-17",
          "2024-02-24",
          "2024-03-02",
          "2024-03-09",
          "2024-03-16",
          "2024-03-23",
          "2024-03-30",
          "2024-04-06",
          "2024-04-13",
          "2024-04-20",
          "2024-04-27",
          "2024-05-04",
          "2024-05-11",
          "2024-05-18",
          "2024-05-25",
          "2024-06-01",
          "2024-06-08",
          "2024-06-15",
          "2024-06-22",
          "2024-06-29",
          "2024-07-06",
          "2024-07-13",
          "2024-07-20",
          "2024-07-27",
          "2024-08-03",
          "2024-08-10",
          "2024-08-17",
          "2024-08-24",
          "2024-08-31",
          "2024-09-07",
          "2024-09-14",
          "2024-09-21",
          "2024-09-28",
          "2024-10-05",
          "2024-10-12",
          "2024-10-19",
          "2024-10-26",
          "2024-11-02",
          "2024-11-09",
          "2024-11-16",
          "2024-11-23",
          "2024-11-30",
          "2024-12-07",
          "2024-12-14",
          "2024-12-21",
          "2024-12-28",
          "2025-01-04",
          "2025-01-11",
          "2025-01-18",
          "2025-01-25",
          "2025-02-01",
          "2025-02-08",
          "2025-02-15"
         ],
         "y": [
          "",
          "",
          "",
          "",
          "",
          "",
          "",
          "",
          "",
          "",
          "",
          "",
          "",
          "",
          "",
          "",
          "",
          "",
          "",
          "",
          "",
          "",
          "",
          "",
          "",
          "",
          "",
          "",
          "",
          "",
          "",
          "",
          "",
          "",
          "",
          "",
          "",
          "",
          "",
          "",
          "",
          "",
          "",
          "",
          "",
          "",
          "",
          "",
          "",
          "",
          "",
          "",
          "",
          "",
          "",
          "",
          "",
          "",
          "",
          "",
          "",
          "",
          "",
          "",
          "",
          "",
          "",
          "",
          "",
          "",
          "",
          "",
          "",
          "",
          "",
          "",
          "",
          "",
          "",
          "",
          "",
          "",
          "",
          "",
          "",
          "",
          "",
          "",
          "",
          "",
          "",
          "",
          "",
          "",
          "",
          "",
          "",
          "",
          "",
          "",
          "",
          "",
          "",
          "",
          "",
          "",
          "",
          "",
          "",
          "",
          "",
          "",
          "",
          "",
          "",
          "",
          "",
          "",
          "",
          "",
          "",
          "",
          "",
          "",
          "",
          "",
          "",
          "",
          "",
          "",
          "",
          "",
          "",
          "",
          "",
          "",
          "",
          "",
          "",
          316.833251953125,
          314.3602294921875,
          327.55078125,
          372.593017578125,
          "",
          "",
          "",
          "",
          "",
          "",
          "",
          "",
          "",
          "",
          "",
          "",
          "",
          "",
          "",
          ""
         ]
        },
        {
         "line": {
          "color": "rgba(50, 171, 96, 1.0)",
          "dash": "solid",
          "shape": "linear",
          "width": 1.3
         },
         "mode": "lines",
         "name": "October 19, 2024 Model",
         "text": "",
         "type": "scatter",
         "x": [
          "2022-02-05",
          "2022-02-12",
          "2022-02-19",
          "2022-02-26",
          "2022-03-05",
          "2022-03-12",
          "2022-03-19",
          "2022-03-26",
          "2022-04-02",
          "2022-04-09",
          "2022-04-16",
          "2022-04-23",
          "2022-04-30",
          "2022-05-07",
          "2022-05-14",
          "2022-05-21",
          "2022-05-28",
          "2022-06-04",
          "2022-06-11",
          "2022-06-18",
          "2022-06-25",
          "2022-07-02",
          "2022-07-09",
          "2022-07-16",
          "2022-07-23",
          "2022-07-30",
          "2022-08-06",
          "2022-08-13",
          "2022-08-20",
          "2022-08-27",
          "2022-09-03",
          "2022-09-10",
          "2022-09-17",
          "2022-09-24",
          "2022-10-01",
          "2022-10-08",
          "2022-10-15",
          "2022-10-22",
          "2022-10-29",
          "2022-11-05",
          "2022-11-12",
          "2022-11-19",
          "2022-11-26",
          "2022-12-03",
          "2022-12-10",
          "2022-12-17",
          "2022-12-24",
          "2022-12-31",
          "2023-01-07",
          "2023-01-14",
          "2023-01-21",
          "2023-01-28",
          "2023-02-04",
          "2023-02-11",
          "2023-02-18",
          "2023-02-25",
          "2023-03-04",
          "2023-03-11",
          "2023-03-18",
          "2023-03-25",
          "2023-04-01",
          "2023-04-08",
          "2023-04-15",
          "2023-04-22",
          "2023-04-29",
          "2023-05-06",
          "2023-05-13",
          "2023-05-20",
          "2023-05-27",
          "2023-06-03",
          "2023-06-10",
          "2023-06-17",
          "2023-06-24",
          "2023-07-01",
          "2023-07-08",
          "2023-07-15",
          "2023-07-22",
          "2023-07-29",
          "2023-08-05",
          "2023-08-12",
          "2023-08-19",
          "2023-08-26",
          "2023-09-02",
          "2023-09-09",
          "2023-09-16",
          "2023-09-23",
          "2023-09-30",
          "2023-10-07",
          "2023-10-14",
          "2023-10-21",
          "2023-10-28",
          "2023-11-04",
          "2023-11-11",
          "2023-11-18",
          "2023-11-25",
          "2023-12-02",
          "2023-12-09",
          "2023-12-16",
          "2023-12-23",
          "2023-12-30",
          "2024-01-06",
          "2024-01-13",
          "2024-01-20",
          "2024-01-27",
          "2024-02-03",
          "2024-02-10",
          "2024-02-17",
          "2024-02-24",
          "2024-03-02",
          "2024-03-09",
          "2024-03-16",
          "2024-03-23",
          "2024-03-30",
          "2024-04-06",
          "2024-04-13",
          "2024-04-20",
          "2024-04-27",
          "2024-05-04",
          "2024-05-11",
          "2024-05-18",
          "2024-05-25",
          "2024-06-01",
          "2024-06-08",
          "2024-06-15",
          "2024-06-22",
          "2024-06-29",
          "2024-07-06",
          "2024-07-13",
          "2024-07-20",
          "2024-07-27",
          "2024-08-03",
          "2024-08-10",
          "2024-08-17",
          "2024-08-24",
          "2024-08-31",
          "2024-09-07",
          "2024-09-14",
          "2024-09-21",
          "2024-09-28",
          "2024-10-05",
          "2024-10-12",
          "2024-10-19",
          "2024-10-26",
          "2024-11-02",
          "2024-11-09",
          "2024-11-16",
          "2024-11-23",
          "2024-11-30",
          "2024-12-07",
          "2024-12-14",
          "2024-12-21",
          "2024-12-28",
          "2025-01-04",
          "2025-01-11",
          "2025-01-18",
          "2025-01-25",
          "2025-02-01",
          "2025-02-08",
          "2025-02-15"
         ],
         "y": [
          "",
          "",
          "",
          "",
          "",
          "",
          "",
          "",
          "",
          "",
          "",
          "",
          "",
          "",
          "",
          "",
          "",
          "",
          "",
          "",
          "",
          "",
          "",
          "",
          "",
          "",
          "",
          "",
          "",
          "",
          "",
          "",
          "",
          "",
          "",
          "",
          "",
          "",
          "",
          "",
          "",
          "",
          "",
          "",
          "",
          "",
          "",
          "",
          "",
          "",
          "",
          "",
          "",
          "",
          "",
          "",
          "",
          "",
          "",
          "",
          "",
          "",
          "",
          "",
          "",
          "",
          "",
          "",
          "",
          "",
          "",
          "",
          "",
          "",
          "",
          "",
          "",
          "",
          "",
          "",
          "",
          "",
          "",
          "",
          "",
          "",
          "",
          "",
          "",
          "",
          "",
          "",
          "",
          "",
          "",
          "",
          "",
          "",
          "",
          "",
          "",
          "",
          "",
          "",
          "",
          "",
          "",
          "",
          "",
          "",
          "",
          "",
          "",
          "",
          "",
          "",
          "",
          "",
          "",
          "",
          "",
          "",
          "",
          "",
          "",
          "",
          "",
          "",
          "",
          "",
          "",
          "",
          "",
          "",
          "",
          "",
          "",
          "",
          "",
          "",
          "",
          355.3253173828125,
          343.78546142578125,
          372.7369384765625,
          446.9464111328125,
          "",
          "",
          "",
          "",
          "",
          "",
          "",
          "",
          "",
          "",
          "",
          "",
          "",
          ""
         ]
        },
        {
         "line": {
          "color": "rgba(128, 0, 128, 1.0)",
          "dash": "solid",
          "shape": "linear",
          "width": 1.3
         },
         "mode": "lines",
         "name": "November 02, 2024 Model",
         "text": "",
         "type": "scatter",
         "x": [
          "2022-02-05",
          "2022-02-12",
          "2022-02-19",
          "2022-02-26",
          "2022-03-05",
          "2022-03-12",
          "2022-03-19",
          "2022-03-26",
          "2022-04-02",
          "2022-04-09",
          "2022-04-16",
          "2022-04-23",
          "2022-04-30",
          "2022-05-07",
          "2022-05-14",
          "2022-05-21",
          "2022-05-28",
          "2022-06-04",
          "2022-06-11",
          "2022-06-18",
          "2022-06-25",
          "2022-07-02",
          "2022-07-09",
          "2022-07-16",
          "2022-07-23",
          "2022-07-30",
          "2022-08-06",
          "2022-08-13",
          "2022-08-20",
          "2022-08-27",
          "2022-09-03",
          "2022-09-10",
          "2022-09-17",
          "2022-09-24",
          "2022-10-01",
          "2022-10-08",
          "2022-10-15",
          "2022-10-22",
          "2022-10-29",
          "2022-11-05",
          "2022-11-12",
          "2022-11-19",
          "2022-11-26",
          "2022-12-03",
          "2022-12-10",
          "2022-12-17",
          "2022-12-24",
          "2022-12-31",
          "2023-01-07",
          "2023-01-14",
          "2023-01-21",
          "2023-01-28",
          "2023-02-04",
          "2023-02-11",
          "2023-02-18",
          "2023-02-25",
          "2023-03-04",
          "2023-03-11",
          "2023-03-18",
          "2023-03-25",
          "2023-04-01",
          "2023-04-08",
          "2023-04-15",
          "2023-04-22",
          "2023-04-29",
          "2023-05-06",
          "2023-05-13",
          "2023-05-20",
          "2023-05-27",
          "2023-06-03",
          "2023-06-10",
          "2023-06-17",
          "2023-06-24",
          "2023-07-01",
          "2023-07-08",
          "2023-07-15",
          "2023-07-22",
          "2023-07-29",
          "2023-08-05",
          "2023-08-12",
          "2023-08-19",
          "2023-08-26",
          "2023-09-02",
          "2023-09-09",
          "2023-09-16",
          "2023-09-23",
          "2023-09-30",
          "2023-10-07",
          "2023-10-14",
          "2023-10-21",
          "2023-10-28",
          "2023-11-04",
          "2023-11-11",
          "2023-11-18",
          "2023-11-25",
          "2023-12-02",
          "2023-12-09",
          "2023-12-16",
          "2023-12-23",
          "2023-12-30",
          "2024-01-06",
          "2024-01-13",
          "2024-01-20",
          "2024-01-27",
          "2024-02-03",
          "2024-02-10",
          "2024-02-17",
          "2024-02-24",
          "2024-03-02",
          "2024-03-09",
          "2024-03-16",
          "2024-03-23",
          "2024-03-30",
          "2024-04-06",
          "2024-04-13",
          "2024-04-20",
          "2024-04-27",
          "2024-05-04",
          "2024-05-11",
          "2024-05-18",
          "2024-05-25",
          "2024-06-01",
          "2024-06-08",
          "2024-06-15",
          "2024-06-22",
          "2024-06-29",
          "2024-07-06",
          "2024-07-13",
          "2024-07-20",
          "2024-07-27",
          "2024-08-03",
          "2024-08-10",
          "2024-08-17",
          "2024-08-24",
          "2024-08-31",
          "2024-09-07",
          "2024-09-14",
          "2024-09-21",
          "2024-09-28",
          "2024-10-05",
          "2024-10-12",
          "2024-10-19",
          "2024-10-26",
          "2024-11-02",
          "2024-11-09",
          "2024-11-16",
          "2024-11-23",
          "2024-11-30",
          "2024-12-07",
          "2024-12-14",
          "2024-12-21",
          "2024-12-28",
          "2025-01-04",
          "2025-01-11",
          "2025-01-18",
          "2025-01-25",
          "2025-02-01",
          "2025-02-08",
          "2025-02-15"
         ],
         "y": [
          "",
          "",
          "",
          "",
          "",
          "",
          "",
          "",
          "",
          "",
          "",
          "",
          "",
          "",
          "",
          "",
          "",
          "",
          "",
          "",
          "",
          "",
          "",
          "",
          "",
          "",
          "",
          "",
          "",
          "",
          "",
          "",
          "",
          "",
          "",
          "",
          "",
          "",
          "",
          "",
          "",
          "",
          "",
          "",
          "",
          "",
          "",
          "",
          "",
          "",
          "",
          "",
          "",
          "",
          "",
          "",
          "",
          "",
          "",
          "",
          "",
          "",
          "",
          "",
          "",
          "",
          "",
          "",
          "",
          "",
          "",
          "",
          "",
          "",
          "",
          "",
          "",
          "",
          "",
          "",
          "",
          "",
          "",
          "",
          "",
          "",
          "",
          "",
          "",
          "",
          "",
          "",
          "",
          "",
          "",
          "",
          "",
          "",
          "",
          "",
          "",
          "",
          "",
          "",
          "",
          "",
          "",
          "",
          "",
          "",
          "",
          "",
          "",
          "",
          "",
          "",
          "",
          "",
          "",
          "",
          "",
          "",
          "",
          "",
          "",
          "",
          "",
          "",
          "",
          "",
          "",
          "",
          "",
          "",
          "",
          "",
          "",
          "",
          "",
          "",
          "",
          "",
          "",
          513.9264526367188,
          503.37921142578125,
          606.986083984375,
          1139.595947265625,
          "",
          "",
          "",
          "",
          "",
          "",
          "",
          "",
          "",
          "",
          "",
          ""
         ]
        },
        {
         "line": {
          "color": "rgba(219, 64, 82, 1.0)",
          "dash": "solid",
          "shape": "linear",
          "width": 1.3
         },
         "mode": "lines",
         "name": "November 16, 2024 Model",
         "text": "",
         "type": "scatter",
         "x": [
          "2022-02-05",
          "2022-02-12",
          "2022-02-19",
          "2022-02-26",
          "2022-03-05",
          "2022-03-12",
          "2022-03-19",
          "2022-03-26",
          "2022-04-02",
          "2022-04-09",
          "2022-04-16",
          "2022-04-23",
          "2022-04-30",
          "2022-05-07",
          "2022-05-14",
          "2022-05-21",
          "2022-05-28",
          "2022-06-04",
          "2022-06-11",
          "2022-06-18",
          "2022-06-25",
          "2022-07-02",
          "2022-07-09",
          "2022-07-16",
          "2022-07-23",
          "2022-07-30",
          "2022-08-06",
          "2022-08-13",
          "2022-08-20",
          "2022-08-27",
          "2022-09-03",
          "2022-09-10",
          "2022-09-17",
          "2022-09-24",
          "2022-10-01",
          "2022-10-08",
          "2022-10-15",
          "2022-10-22",
          "2022-10-29",
          "2022-11-05",
          "2022-11-12",
          "2022-11-19",
          "2022-11-26",
          "2022-12-03",
          "2022-12-10",
          "2022-12-17",
          "2022-12-24",
          "2022-12-31",
          "2023-01-07",
          "2023-01-14",
          "2023-01-21",
          "2023-01-28",
          "2023-02-04",
          "2023-02-11",
          "2023-02-18",
          "2023-02-25",
          "2023-03-04",
          "2023-03-11",
          "2023-03-18",
          "2023-03-25",
          "2023-04-01",
          "2023-04-08",
          "2023-04-15",
          "2023-04-22",
          "2023-04-29",
          "2023-05-06",
          "2023-05-13",
          "2023-05-20",
          "2023-05-27",
          "2023-06-03",
          "2023-06-10",
          "2023-06-17",
          "2023-06-24",
          "2023-07-01",
          "2023-07-08",
          "2023-07-15",
          "2023-07-22",
          "2023-07-29",
          "2023-08-05",
          "2023-08-12",
          "2023-08-19",
          "2023-08-26",
          "2023-09-02",
          "2023-09-09",
          "2023-09-16",
          "2023-09-23",
          "2023-09-30",
          "2023-10-07",
          "2023-10-14",
          "2023-10-21",
          "2023-10-28",
          "2023-11-04",
          "2023-11-11",
          "2023-11-18",
          "2023-11-25",
          "2023-12-02",
          "2023-12-09",
          "2023-12-16",
          "2023-12-23",
          "2023-12-30",
          "2024-01-06",
          "2024-01-13",
          "2024-01-20",
          "2024-01-27",
          "2024-02-03",
          "2024-02-10",
          "2024-02-17",
          "2024-02-24",
          "2024-03-02",
          "2024-03-09",
          "2024-03-16",
          "2024-03-23",
          "2024-03-30",
          "2024-04-06",
          "2024-04-13",
          "2024-04-20",
          "2024-04-27",
          "2024-05-04",
          "2024-05-11",
          "2024-05-18",
          "2024-05-25",
          "2024-06-01",
          "2024-06-08",
          "2024-06-15",
          "2024-06-22",
          "2024-06-29",
          "2024-07-06",
          "2024-07-13",
          "2024-07-20",
          "2024-07-27",
          "2024-08-03",
          "2024-08-10",
          "2024-08-17",
          "2024-08-24",
          "2024-08-31",
          "2024-09-07",
          "2024-09-14",
          "2024-09-21",
          "2024-09-28",
          "2024-10-05",
          "2024-10-12",
          "2024-10-19",
          "2024-10-26",
          "2024-11-02",
          "2024-11-09",
          "2024-11-16",
          "2024-11-23",
          "2024-11-30",
          "2024-12-07",
          "2024-12-14",
          "2024-12-21",
          "2024-12-28",
          "2025-01-04",
          "2025-01-11",
          "2025-01-18",
          "2025-01-25",
          "2025-02-01",
          "2025-02-08",
          "2025-02-15"
         ],
         "y": [
          "",
          "",
          "",
          "",
          "",
          "",
          "",
          "",
          "",
          "",
          "",
          "",
          "",
          "",
          "",
          "",
          "",
          "",
          "",
          "",
          "",
          "",
          "",
          "",
          "",
          "",
          "",
          "",
          "",
          "",
          "",
          "",
          "",
          "",
          "",
          "",
          "",
          "",
          "",
          "",
          "",
          "",
          "",
          "",
          "",
          "",
          "",
          "",
          "",
          "",
          "",
          "",
          "",
          "",
          "",
          "",
          "",
          "",
          "",
          "",
          "",
          "",
          "",
          "",
          "",
          "",
          "",
          "",
          "",
          "",
          "",
          "",
          "",
          "",
          "",
          "",
          "",
          "",
          "",
          "",
          "",
          "",
          "",
          "",
          "",
          "",
          "",
          "",
          "",
          "",
          "",
          "",
          "",
          "",
          "",
          "",
          "",
          "",
          "",
          "",
          "",
          "",
          "",
          "",
          "",
          "",
          "",
          "",
          "",
          "",
          "",
          "",
          "",
          "",
          "",
          "",
          "",
          "",
          "",
          "",
          "",
          "",
          "",
          "",
          "",
          "",
          "",
          "",
          "",
          "",
          "",
          "",
          "",
          "",
          "",
          "",
          "",
          "",
          "",
          "",
          "",
          "",
          "",
          "",
          "",
          1918.572265625,
          2630.94873046875,
          5945.31787109375,
          10413.576171875,
          "",
          "",
          "",
          "",
          "",
          "",
          "",
          "",
          "",
          ""
         ]
        },
        {
         "line": {
          "color": "rgba(0, 128, 128, 1.0)",
          "dash": "solid",
          "shape": "linear",
          "width": 1.3
         },
         "mode": "lines",
         "name": "December 07, 2024 Model",
         "text": "",
         "type": "scatter",
         "x": [
          "2022-02-05",
          "2022-02-12",
          "2022-02-19",
          "2022-02-26",
          "2022-03-05",
          "2022-03-12",
          "2022-03-19",
          "2022-03-26",
          "2022-04-02",
          "2022-04-09",
          "2022-04-16",
          "2022-04-23",
          "2022-04-30",
          "2022-05-07",
          "2022-05-14",
          "2022-05-21",
          "2022-05-28",
          "2022-06-04",
          "2022-06-11",
          "2022-06-18",
          "2022-06-25",
          "2022-07-02",
          "2022-07-09",
          "2022-07-16",
          "2022-07-23",
          "2022-07-30",
          "2022-08-06",
          "2022-08-13",
          "2022-08-20",
          "2022-08-27",
          "2022-09-03",
          "2022-09-10",
          "2022-09-17",
          "2022-09-24",
          "2022-10-01",
          "2022-10-08",
          "2022-10-15",
          "2022-10-22",
          "2022-10-29",
          "2022-11-05",
          "2022-11-12",
          "2022-11-19",
          "2022-11-26",
          "2022-12-03",
          "2022-12-10",
          "2022-12-17",
          "2022-12-24",
          "2022-12-31",
          "2023-01-07",
          "2023-01-14",
          "2023-01-21",
          "2023-01-28",
          "2023-02-04",
          "2023-02-11",
          "2023-02-18",
          "2023-02-25",
          "2023-03-04",
          "2023-03-11",
          "2023-03-18",
          "2023-03-25",
          "2023-04-01",
          "2023-04-08",
          "2023-04-15",
          "2023-04-22",
          "2023-04-29",
          "2023-05-06",
          "2023-05-13",
          "2023-05-20",
          "2023-05-27",
          "2023-06-03",
          "2023-06-10",
          "2023-06-17",
          "2023-06-24",
          "2023-07-01",
          "2023-07-08",
          "2023-07-15",
          "2023-07-22",
          "2023-07-29",
          "2023-08-05",
          "2023-08-12",
          "2023-08-19",
          "2023-08-26",
          "2023-09-02",
          "2023-09-09",
          "2023-09-16",
          "2023-09-23",
          "2023-09-30",
          "2023-10-07",
          "2023-10-14",
          "2023-10-21",
          "2023-10-28",
          "2023-11-04",
          "2023-11-11",
          "2023-11-18",
          "2023-11-25",
          "2023-12-02",
          "2023-12-09",
          "2023-12-16",
          "2023-12-23",
          "2023-12-30",
          "2024-01-06",
          "2024-01-13",
          "2024-01-20",
          "2024-01-27",
          "2024-02-03",
          "2024-02-10",
          "2024-02-17",
          "2024-02-24",
          "2024-03-02",
          "2024-03-09",
          "2024-03-16",
          "2024-03-23",
          "2024-03-30",
          "2024-04-06",
          "2024-04-13",
          "2024-04-20",
          "2024-04-27",
          "2024-05-04",
          "2024-05-11",
          "2024-05-18",
          "2024-05-25",
          "2024-06-01",
          "2024-06-08",
          "2024-06-15",
          "2024-06-22",
          "2024-06-29",
          "2024-07-06",
          "2024-07-13",
          "2024-07-20",
          "2024-07-27",
          "2024-08-03",
          "2024-08-10",
          "2024-08-17",
          "2024-08-24",
          "2024-08-31",
          "2024-09-07",
          "2024-09-14",
          "2024-09-21",
          "2024-09-28",
          "2024-10-05",
          "2024-10-12",
          "2024-10-19",
          "2024-10-26",
          "2024-11-02",
          "2024-11-09",
          "2024-11-16",
          "2024-11-23",
          "2024-11-30",
          "2024-12-07",
          "2024-12-14",
          "2024-12-21",
          "2024-12-28",
          "2025-01-04",
          "2025-01-11",
          "2025-01-18",
          "2025-01-25",
          "2025-02-01",
          "2025-02-08",
          "2025-02-15"
         ],
         "y": [
          "",
          "",
          "",
          "",
          "",
          "",
          "",
          "",
          "",
          "",
          "",
          "",
          "",
          "",
          "",
          "",
          "",
          "",
          "",
          "",
          "",
          "",
          "",
          "",
          "",
          "",
          "",
          "",
          "",
          "",
          "",
          "",
          "",
          "",
          "",
          "",
          "",
          "",
          "",
          "",
          "",
          "",
          "",
          "",
          "",
          "",
          "",
          "",
          "",
          "",
          "",
          "",
          "",
          "",
          "",
          "",
          "",
          "",
          "",
          "",
          "",
          "",
          "",
          "",
          "",
          "",
          "",
          "",
          "",
          "",
          "",
          "",
          "",
          "",
          "",
          "",
          "",
          "",
          "",
          "",
          "",
          "",
          "",
          "",
          "",
          "",
          "",
          "",
          "",
          "",
          "",
          "",
          "",
          "",
          "",
          "",
          "",
          "",
          "",
          "",
          "",
          "",
          "",
          "",
          "",
          "",
          "",
          "",
          "",
          "",
          "",
          "",
          "",
          "",
          "",
          "",
          "",
          "",
          "",
          "",
          "",
          "",
          "",
          "",
          "",
          "",
          "",
          "",
          "",
          "",
          "",
          "",
          "",
          "",
          "",
          "",
          "",
          "",
          "",
          "",
          "",
          "",
          "",
          "",
          "",
          "",
          "",
          "",
          12142.966796875,
          20418.509765625,
          26864.626953125,
          27087.87109375,
          "",
          "",
          "",
          "",
          "",
          "",
          ""
         ]
        }
       ],
       "layout": {
        "autosize": true,
        "legend": {
         "bgcolor": "#F5F6F9",
         "font": {
          "color": "#4D5663"
         }
        },
        "paper_bgcolor": "#F5F6F9",
        "plot_bgcolor": "#F5F6F9",
        "template": {
         "data": {
          "bar": [
           {
            "error_x": {
             "color": "#2a3f5f"
            },
            "error_y": {
             "color": "#2a3f5f"
            },
            "marker": {
             "line": {
              "color": "#E5ECF6",
              "width": 0.5
             },
             "pattern": {
              "fillmode": "overlay",
              "size": 10,
              "solidity": 0.2
             }
            },
            "type": "bar"
           }
          ],
          "barpolar": [
           {
            "marker": {
             "line": {
              "color": "#E5ECF6",
              "width": 0.5
             },
             "pattern": {
              "fillmode": "overlay",
              "size": 10,
              "solidity": 0.2
             }
            },
            "type": "barpolar"
           }
          ],
          "carpet": [
           {
            "aaxis": {
             "endlinecolor": "#2a3f5f",
             "gridcolor": "white",
             "linecolor": "white",
             "minorgridcolor": "white",
             "startlinecolor": "#2a3f5f"
            },
            "baxis": {
             "endlinecolor": "#2a3f5f",
             "gridcolor": "white",
             "linecolor": "white",
             "minorgridcolor": "white",
             "startlinecolor": "#2a3f5f"
            },
            "type": "carpet"
           }
          ],
          "choropleth": [
           {
            "colorbar": {
             "outlinewidth": 0,
             "ticks": ""
            },
            "type": "choropleth"
           }
          ],
          "contour": [
           {
            "colorbar": {
             "outlinewidth": 0,
             "ticks": ""
            },
            "colorscale": [
             [
              0,
              "#0d0887"
             ],
             [
              0.1111111111111111,
              "#46039f"
             ],
             [
              0.2222222222222222,
              "#7201a8"
             ],
             [
              0.3333333333333333,
              "#9c179e"
             ],
             [
              0.4444444444444444,
              "#bd3786"
             ],
             [
              0.5555555555555556,
              "#d8576b"
             ],
             [
              0.6666666666666666,
              "#ed7953"
             ],
             [
              0.7777777777777778,
              "#fb9f3a"
             ],
             [
              0.8888888888888888,
              "#fdca26"
             ],
             [
              1,
              "#f0f921"
             ]
            ],
            "type": "contour"
           }
          ],
          "contourcarpet": [
           {
            "colorbar": {
             "outlinewidth": 0,
             "ticks": ""
            },
            "type": "contourcarpet"
           }
          ],
          "heatmap": [
           {
            "colorbar": {
             "outlinewidth": 0,
             "ticks": ""
            },
            "colorscale": [
             [
              0,
              "#0d0887"
             ],
             [
              0.1111111111111111,
              "#46039f"
             ],
             [
              0.2222222222222222,
              "#7201a8"
             ],
             [
              0.3333333333333333,
              "#9c179e"
             ],
             [
              0.4444444444444444,
              "#bd3786"
             ],
             [
              0.5555555555555556,
              "#d8576b"
             ],
             [
              0.6666666666666666,
              "#ed7953"
             ],
             [
              0.7777777777777778,
              "#fb9f3a"
             ],
             [
              0.8888888888888888,
              "#fdca26"
             ],
             [
              1,
              "#f0f921"
             ]
            ],
            "type": "heatmap"
           }
          ],
          "heatmapgl": [
           {
            "colorbar": {
             "outlinewidth": 0,
             "ticks": ""
            },
            "colorscale": [
             [
              0,
              "#0d0887"
             ],
             [
              0.1111111111111111,
              "#46039f"
             ],
             [
              0.2222222222222222,
              "#7201a8"
             ],
             [
              0.3333333333333333,
              "#9c179e"
             ],
             [
              0.4444444444444444,
              "#bd3786"
             ],
             [
              0.5555555555555556,
              "#d8576b"
             ],
             [
              0.6666666666666666,
              "#ed7953"
             ],
             [
              0.7777777777777778,
              "#fb9f3a"
             ],
             [
              0.8888888888888888,
              "#fdca26"
             ],
             [
              1,
              "#f0f921"
             ]
            ],
            "type": "heatmapgl"
           }
          ],
          "histogram": [
           {
            "marker": {
             "pattern": {
              "fillmode": "overlay",
              "size": 10,
              "solidity": 0.2
             }
            },
            "type": "histogram"
           }
          ],
          "histogram2d": [
           {
            "colorbar": {
             "outlinewidth": 0,
             "ticks": ""
            },
            "colorscale": [
             [
              0,
              "#0d0887"
             ],
             [
              0.1111111111111111,
              "#46039f"
             ],
             [
              0.2222222222222222,
              "#7201a8"
             ],
             [
              0.3333333333333333,
              "#9c179e"
             ],
             [
              0.4444444444444444,
              "#bd3786"
             ],
             [
              0.5555555555555556,
              "#d8576b"
             ],
             [
              0.6666666666666666,
              "#ed7953"
             ],
             [
              0.7777777777777778,
              "#fb9f3a"
             ],
             [
              0.8888888888888888,
              "#fdca26"
             ],
             [
              1,
              "#f0f921"
             ]
            ],
            "type": "histogram2d"
           }
          ],
          "histogram2dcontour": [
           {
            "colorbar": {
             "outlinewidth": 0,
             "ticks": ""
            },
            "colorscale": [
             [
              0,
              "#0d0887"
             ],
             [
              0.1111111111111111,
              "#46039f"
             ],
             [
              0.2222222222222222,
              "#7201a8"
             ],
             [
              0.3333333333333333,
              "#9c179e"
             ],
             [
              0.4444444444444444,
              "#bd3786"
             ],
             [
              0.5555555555555556,
              "#d8576b"
             ],
             [
              0.6666666666666666,
              "#ed7953"
             ],
             [
              0.7777777777777778,
              "#fb9f3a"
             ],
             [
              0.8888888888888888,
              "#fdca26"
             ],
             [
              1,
              "#f0f921"
             ]
            ],
            "type": "histogram2dcontour"
           }
          ],
          "mesh3d": [
           {
            "colorbar": {
             "outlinewidth": 0,
             "ticks": ""
            },
            "type": "mesh3d"
           }
          ],
          "parcoords": [
           {
            "line": {
             "colorbar": {
              "outlinewidth": 0,
              "ticks": ""
             }
            },
            "type": "parcoords"
           }
          ],
          "pie": [
           {
            "automargin": true,
            "type": "pie"
           }
          ],
          "scatter": [
           {
            "fillpattern": {
             "fillmode": "overlay",
             "size": 10,
             "solidity": 0.2
            },
            "type": "scatter"
           }
          ],
          "scatter3d": [
           {
            "line": {
             "colorbar": {
              "outlinewidth": 0,
              "ticks": ""
             }
            },
            "marker": {
             "colorbar": {
              "outlinewidth": 0,
              "ticks": ""
             }
            },
            "type": "scatter3d"
           }
          ],
          "scattercarpet": [
           {
            "marker": {
             "colorbar": {
              "outlinewidth": 0,
              "ticks": ""
             }
            },
            "type": "scattercarpet"
           }
          ],
          "scattergeo": [
           {
            "marker": {
             "colorbar": {
              "outlinewidth": 0,
              "ticks": ""
             }
            },
            "type": "scattergeo"
           }
          ],
          "scattergl": [
           {
            "marker": {
             "colorbar": {
              "outlinewidth": 0,
              "ticks": ""
             }
            },
            "type": "scattergl"
           }
          ],
          "scattermapbox": [
           {
            "marker": {
             "colorbar": {
              "outlinewidth": 0,
              "ticks": ""
             }
            },
            "type": "scattermapbox"
           }
          ],
          "scatterpolar": [
           {
            "marker": {
             "colorbar": {
              "outlinewidth": 0,
              "ticks": ""
             }
            },
            "type": "scatterpolar"
           }
          ],
          "scatterpolargl": [
           {
            "marker": {
             "colorbar": {
              "outlinewidth": 0,
              "ticks": ""
             }
            },
            "type": "scatterpolargl"
           }
          ],
          "scatterternary": [
           {
            "marker": {
             "colorbar": {
              "outlinewidth": 0,
              "ticks": ""
             }
            },
            "type": "scatterternary"
           }
          ],
          "surface": [
           {
            "colorbar": {
             "outlinewidth": 0,
             "ticks": ""
            },
            "colorscale": [
             [
              0,
              "#0d0887"
             ],
             [
              0.1111111111111111,
              "#46039f"
             ],
             [
              0.2222222222222222,
              "#7201a8"
             ],
             [
              0.3333333333333333,
              "#9c179e"
             ],
             [
              0.4444444444444444,
              "#bd3786"
             ],
             [
              0.5555555555555556,
              "#d8576b"
             ],
             [
              0.6666666666666666,
              "#ed7953"
             ],
             [
              0.7777777777777778,
              "#fb9f3a"
             ],
             [
              0.8888888888888888,
              "#fdca26"
             ],
             [
              1,
              "#f0f921"
             ]
            ],
            "type": "surface"
           }
          ],
          "table": [
           {
            "cells": {
             "fill": {
              "color": "#EBF0F8"
             },
             "line": {
              "color": "white"
             }
            },
            "header": {
             "fill": {
              "color": "#C8D4E3"
             },
             "line": {
              "color": "white"
             }
            },
            "type": "table"
           }
          ]
         },
         "layout": {
          "annotationdefaults": {
           "arrowcolor": "#2a3f5f",
           "arrowhead": 0,
           "arrowwidth": 1
          },
          "autotypenumbers": "strict",
          "coloraxis": {
           "colorbar": {
            "outlinewidth": 0,
            "ticks": ""
           }
          },
          "colorscale": {
           "diverging": [
            [
             0,
             "#8e0152"
            ],
            [
             0.1,
             "#c51b7d"
            ],
            [
             0.2,
             "#de77ae"
            ],
            [
             0.3,
             "#f1b6da"
            ],
            [
             0.4,
             "#fde0ef"
            ],
            [
             0.5,
             "#f7f7f7"
            ],
            [
             0.6,
             "#e6f5d0"
            ],
            [
             0.7,
             "#b8e186"
            ],
            [
             0.8,
             "#7fbc41"
            ],
            [
             0.9,
             "#4d9221"
            ],
            [
             1,
             "#276419"
            ]
           ],
           "sequential": [
            [
             0,
             "#0d0887"
            ],
            [
             0.1111111111111111,
             "#46039f"
            ],
            [
             0.2222222222222222,
             "#7201a8"
            ],
            [
             0.3333333333333333,
             "#9c179e"
            ],
            [
             0.4444444444444444,
             "#bd3786"
            ],
            [
             0.5555555555555556,
             "#d8576b"
            ],
            [
             0.6666666666666666,
             "#ed7953"
            ],
            [
             0.7777777777777778,
             "#fb9f3a"
            ],
            [
             0.8888888888888888,
             "#fdca26"
            ],
            [
             1,
             "#f0f921"
            ]
           ],
           "sequentialminus": [
            [
             0,
             "#0d0887"
            ],
            [
             0.1111111111111111,
             "#46039f"
            ],
            [
             0.2222222222222222,
             "#7201a8"
            ],
            [
             0.3333333333333333,
             "#9c179e"
            ],
            [
             0.4444444444444444,
             "#bd3786"
            ],
            [
             0.5555555555555556,
             "#d8576b"
            ],
            [
             0.6666666666666666,
             "#ed7953"
            ],
            [
             0.7777777777777778,
             "#fb9f3a"
            ],
            [
             0.8888888888888888,
             "#fdca26"
            ],
            [
             1,
             "#f0f921"
            ]
           ]
          },
          "colorway": [
           "#636efa",
           "#EF553B",
           "#00cc96",
           "#ab63fa",
           "#FFA15A",
           "#19d3f3",
           "#FF6692",
           "#B6E880",
           "#FF97FF",
           "#FECB52"
          ],
          "font": {
           "color": "#2a3f5f"
          },
          "geo": {
           "bgcolor": "white",
           "lakecolor": "white",
           "landcolor": "#E5ECF6",
           "showlakes": true,
           "showland": true,
           "subunitcolor": "white"
          },
          "hoverlabel": {
           "align": "left"
          },
          "hovermode": "closest",
          "mapbox": {
           "style": "light"
          },
          "paper_bgcolor": "white",
          "plot_bgcolor": "#E5ECF6",
          "polar": {
           "angularaxis": {
            "gridcolor": "white",
            "linecolor": "white",
            "ticks": ""
           },
           "bgcolor": "#E5ECF6",
           "radialaxis": {
            "gridcolor": "white",
            "linecolor": "white",
            "ticks": ""
           }
          },
          "scene": {
           "xaxis": {
            "backgroundcolor": "#E5ECF6",
            "gridcolor": "white",
            "gridwidth": 2,
            "linecolor": "white",
            "showbackground": true,
            "ticks": "",
            "zerolinecolor": "white"
           },
           "yaxis": {
            "backgroundcolor": "#E5ECF6",
            "gridcolor": "white",
            "gridwidth": 2,
            "linecolor": "white",
            "showbackground": true,
            "ticks": "",
            "zerolinecolor": "white"
           },
           "zaxis": {
            "backgroundcolor": "#E5ECF6",
            "gridcolor": "white",
            "gridwidth": 2,
            "linecolor": "white",
            "showbackground": true,
            "ticks": "",
            "zerolinecolor": "white"
           }
          },
          "shapedefaults": {
           "line": {
            "color": "#2a3f5f"
           }
          },
          "ternary": {
           "aaxis": {
            "gridcolor": "white",
            "linecolor": "white",
            "ticks": ""
           },
           "baxis": {
            "gridcolor": "white",
            "linecolor": "white",
            "ticks": ""
           },
           "bgcolor": "#E5ECF6",
           "caxis": {
            "gridcolor": "white",
            "linecolor": "white",
            "ticks": ""
           }
          },
          "title": {
           "x": 0.05
          },
          "xaxis": {
           "automargin": true,
           "gridcolor": "white",
           "linecolor": "white",
           "ticks": "",
           "title": {
            "standoff": 15
           },
           "zerolinecolor": "white",
           "zerolinewidth": 2
          },
          "yaxis": {
           "automargin": true,
           "gridcolor": "white",
           "linecolor": "white",
           "ticks": "",
           "title": {
            "standoff": 15
           },
           "zerolinecolor": "white",
           "zerolinewidth": 2
          }
         }
        },
        "title": {
         "font": {
          "color": "#4D5663"
         },
         "text": "Fixed Parameter LSTM Predictions"
        },
        "xaxis": {
         "autorange": true,
         "gridcolor": "#E1E5ED",
         "range": [
          "2022-02-05",
          "2025-02-15"
         ],
         "showgrid": true,
         "tickfont": {
          "color": "#4D5663"
         },
         "title": {
          "font": {
           "color": "#4D5663"
          },
          "text": "Date"
         },
         "type": "date",
         "zerolinecolor": "#E1E5ED"
        },
        "yaxis": {
         "autorange": true,
         "gridcolor": "#E1E5ED",
         "range": [
          -2665.222222222222,
          55099.22222222222
         ],
         "showgrid": true,
         "tickfont": {
          "color": "#4D5663"
         },
         "title": {
          "font": {
           "color": "#4D5663"
          },
          "text": "Count"
         },
         "type": "linear",
         "zerolinecolor": "#E1E5ED"
        }
       }
      },
      "image/png": "[encoded data removed]",
      "text/html": [
       "<div>                            <div id=\"90c8afe8-8920-4114-8f24-0e980acdd8d3\" class=\"plotly-graph-div\" style=\"height:525px; width:100%;\"></div>            <script type=\"text/javascript\">                require([\"plotly\"], function(Plotly) {                    window.PLOTLYENV=window.PLOTLYENV || {};\n",
       "                    window.PLOTLYENV.BASE_URL='https://plot.ly';                                    if (document.getElementById(\"90c8afe8-8920-4114-8f24-0e980acdd8d3\")) {                    Plotly.newPlot(                        \"90c8afe8-8920-4114-8f24-0e980acdd8d3\",                        [{\"line\":{\"color\":\"rgba(255, 153, 51, 1.0)\",\"dash\":\"solid\",\"shape\":\"linear\",\"width\":1.3},\"mode\":\"lines\",\"name\":\"Real Data\",\"text\":\"\",\"x\":[\"2022-02-05\",\"2022-02-12\",\"2022-02-19\",\"2022-02-26\",\"2022-03-05\",\"2022-03-12\",\"2022-03-19\",\"2022-03-26\",\"2022-04-02\",\"2022-04-09\",\"2022-04-16\",\"2022-04-23\",\"2022-04-30\",\"2022-05-07\",\"2022-05-14\",\"2022-05-21\",\"2022-05-28\",\"2022-06-04\",\"2022-06-11\",\"2022-06-18\",\"2022-06-25\",\"2022-07-02\",\"2022-07-09\",\"2022-07-16\",\"2022-07-23\",\"2022-07-30\",\"2022-08-06\",\"2022-08-13\",\"2022-08-20\",\"2022-08-27\",\"2022-09-03\",\"2022-09-10\",\"2022-09-17\",\"2022-09-24\",\"2022-10-01\",\"2022-10-08\",\"2022-10-15\",\"2022-10-22\",\"2022-10-29\",\"2022-11-05\",\"2022-11-12\",\"2022-11-19\",\"2022-11-26\",\"2022-12-03\",\"2022-12-10\",\"2022-12-17\",\"2022-12-24\",\"2022-12-31\",\"2023-01-07\",\"2023-01-14\",\"2023-01-21\",\"2023-01-28\",\"2023-02-04\",\"2023-02-11\",\"2023-02-18\",\"2023-02-25\",\"2023-03-04\",\"2023-03-11\",\"2023-03-18\",\"2023-03-25\",\"2023-04-01\",\"2023-04-08\",\"2023-04-15\",\"2023-04-22\",\"2023-04-29\",\"2023-05-06\",\"2023-05-13\",\"2023-05-20\",\"2023-05-27\",\"2023-06-03\",\"2023-06-10\",\"2023-06-17\",\"2023-06-24\",\"2023-07-01\",\"2023-07-08\",\"2023-07-15\",\"2023-07-22\",\"2023-07-29\",\"2023-08-05\",\"2023-08-12\",\"2023-08-19\",\"2023-08-26\",\"2023-09-02\",\"2023-09-09\",\"2023-09-16\",\"2023-09-23\",\"2023-09-30\",\"2023-10-07\",\"2023-10-14\",\"2023-10-21\",\"2023-10-28\",\"2023-11-04\",\"2023-11-11\",\"2023-11-18\",\"2023-11-25\",\"2023-12-02\",\"2023-12-09\",\"2023-12-16\",\"2023-12-23\",\"2023-12-30\",\"2024-01-06\",\"2024-01-13\",\"2024-01-20\",\"2024-01-27\",\"2024-02-03\",\"2024-02-10\",\"2024-02-17\",\"2024-02-24\",\"2024-03-02\",\"2024-03-09\",\"2024-03-16\",\"2024-03-23\",\"2024-03-30\",\"2024-04-06\",\"2024-04-13\",\"2024-04-20\",\"2024-04-27\",\"2024-05-04\",\"2024-05-11\",\"2024-05-18\",\"2024-05-25\",\"2024-06-01\",\"2024-06-08\",\"2024-06-15\",\"2024-06-22\",\"2024-06-29\",\"2024-07-06\",\"2024-07-13\",\"2024-07-20\",\"2024-07-27\",\"2024-08-03\",\"2024-08-10\",\"2024-08-17\",\"2024-08-24\",\"2024-08-31\",\"2024-09-07\",\"2024-09-14\",\"2024-09-21\",\"2024-09-28\",\"2024-10-05\",\"2024-10-12\",\"2024-10-19\",\"2024-10-26\",\"2024-11-02\",\"2024-11-09\",\"2024-11-16\",\"2024-11-23\",\"2024-11-30\",\"2024-12-07\",\"2024-12-14\",\"2024-12-21\",\"2024-12-28\",\"2025-01-04\",\"2025-01-11\",\"2025-01-18\",\"2025-01-25\",\"2025-02-01\",\"2025-02-08\",\"2025-02-15\"],\"y\":[1092.0,1164.0,1493.0,1603.0,1791.0,2097.0,2626.0,2919.0,3008.0,3149.0,3308.0,3474.0,3182.0,3175.0,3119.0,3133.0,2738.0,2678.0,2210.0,1776.0,1366.0,1073.0,776.0,766.0,628.0,522.0,486.0,490.0,483.0,483.0,545.0,576.0,665.0,796.0,921.0,1316.0,1674.0,2292.0,4184.0,6408.0,8595.0,10974.0,18177.0,26841.0,24037.0,21613.0,19632.0,19480.0,14076.0,7185.0,4491.0,3091.0,2597.0,2177.0,1908.0,1647.0,1503.0,1372.0,1415.0,1331.0,1295.0,1199.0,1077.0,982.0,903.0,994.0,980.0,1116.0,974.0,939.0,935.0,873.0,813.0,836.0,699.0,736.0,645.0,771.0,690.0,706.0,738.0,793.0,875.0,804.0,821.0,881.0,1026.0,1110.0,1215.0,1470.0,1614.0,2014.0,2775.0,3491.0,4386.0,5961.0,7509.0,10285.0,15725.0,21682.0,19548.0,15905.0,13303.0,13025.0,11965.0,11634.0,11127.0,10873.0,10814.0,9417.0,7324.0,6049.0,5576.0,5071.0,4073.0,2943.0,2420.0,1485.0,852.0,682.0,611.0,591.0,511.0,519.0,441.0,356.0,342.0,367.0,325.0,273.0,276.0,275.0,275.0,274.0,262.0,223.0,319.0,293.0,223.0,287.0,295.0,553.0,1082.0,976.0,2032.0,2439.0,3090.0,4347.0,6353.0,9140.0,15253.0,26988.0,38106.0,30636.0,32561.0,39927.0,50272.0,52211.0,41658.0],\"type\":\"scatter\"},{\"line\":{\"color\":\"rgba(55, 128, 191, 1.0)\",\"dash\":\"solid\",\"shape\":\"linear\",\"width\":1.3},\"mode\":\"lines\",\"name\":\"October 05, 2024 Model\",\"text\":\"\",\"x\":[\"2022-02-05\",\"2022-02-12\",\"2022-02-19\",\"2022-02-26\",\"2022-03-05\",\"2022-03-12\",\"2022-03-19\",\"2022-03-26\",\"2022-04-02\",\"2022-04-09\",\"2022-04-16\",\"2022-04-23\",\"2022-04-30\",\"2022-05-07\",\"2022-05-14\",\"2022-05-21\",\"2022-05-28\",\"2022-06-04\",\"2022-06-11\",\"2022-06-18\",\"2022-06-25\",\"2022-07-02\",\"2022-07-09\",\"2022-07-16\",\"2022-07-23\",\"2022-07-30\",\"2022-08-06\",\"2022-08-13\",\"2022-08-20\",\"2022-08-27\",\"2022-09-03\",\"2022-09-10\",\"2022-09-17\",\"2022-09-24\",\"2022-10-01\",\"2022-10-08\",\"2022-10-15\",\"2022-10-22\",\"2022-10-29\",\"2022-11-05\",\"2022-11-12\",\"2022-11-19\",\"2022-11-26\",\"2022-12-03\",\"2022-12-10\",\"2022-12-17\",\"2022-12-24\",\"2022-12-31\",\"2023-01-07\",\"2023-01-14\",\"2023-01-21\",\"2023-01-28\",\"2023-02-04\",\"2023-02-11\",\"2023-02-18\",\"2023-02-25\",\"2023-03-04\",\"2023-03-11\",\"2023-03-18\",\"2023-03-25\",\"2023-04-01\",\"2023-04-08\",\"2023-04-15\",\"2023-04-22\",\"2023-04-29\",\"2023-05-06\",\"2023-05-13\",\"2023-05-20\",\"2023-05-27\",\"2023-06-03\",\"2023-06-10\",\"2023-06-17\",\"2023-06-24\",\"2023-07-01\",\"2023-07-08\",\"2023-07-15\",\"2023-07-22\",\"2023-07-29\",\"2023-08-05\",\"2023-08-12\",\"2023-08-19\",\"2023-08-26\",\"2023-09-02\",\"2023-09-09\",\"2023-09-16\",\"2023-09-23\",\"2023-09-30\",\"2023-10-07\",\"2023-10-14\",\"2023-10-21\",\"2023-10-28\",\"2023-11-04\",\"2023-11-11\",\"2023-11-18\",\"2023-11-25\",\"2023-12-02\",\"2023-12-09\",\"2023-12-16\",\"2023-12-23\",\"2023-12-30\",\"2024-01-06\",\"2024-01-13\",\"2024-01-20\",\"2024-01-27\",\"2024-02-03\",\"2024-02-10\",\"2024-02-17\",\"2024-02-24\",\"2024-03-02\",\"2024-03-09\",\"2024-03-16\",\"2024-03-23\",\"2024-03-30\",\"2024-04-06\",\"2024-04-13\",\"2024-04-20\",\"2024-04-27\",\"2024-05-04\",\"2024-05-11\",\"2024-05-18\",\"2024-05-25\",\"2024-06-01\",\"2024-06-08\",\"2024-06-15\",\"2024-06-22\",\"2024-06-29\",\"2024-07-06\",\"2024-07-13\",\"2024-07-20\",\"2024-07-27\",\"2024-08-03\",\"2024-08-10\",\"2024-08-17\",\"2024-08-24\",\"2024-08-31\",\"2024-09-07\",\"2024-09-14\",\"2024-09-21\",\"2024-09-28\",\"2024-10-05\",\"2024-10-12\",\"2024-10-19\",\"2024-10-26\",\"2024-11-02\",\"2024-11-09\",\"2024-11-16\",\"2024-11-23\",\"2024-11-30\",\"2024-12-07\",\"2024-12-14\",\"2024-12-21\",\"2024-12-28\",\"2025-01-04\",\"2025-01-11\",\"2025-01-18\",\"2025-01-25\",\"2025-02-01\",\"2025-02-08\",\"2025-02-15\"],\"y\":[\"\",\"\",\"\",\"\",\"\",\"\",\"\",\"\",\"\",\"\",\"\",\"\",\"\",\"\",\"\",\"\",\"\",\"\",\"\",\"\",\"\",\"\",\"\",\"\",\"\",\"\",\"\",\"\",\"\",\"\",\"\",\"\",\"\",\"\",\"\",\"\",\"\",\"\",\"\",\"\",\"\",\"\",\"\",\"\",\"\",\"\",\"\",\"\",\"\",\"\",\"\",\"\",\"\",\"\",\"\",\"\",\"\",\"\",\"\",\"\",\"\",\"\",\"\",\"\",\"\",\"\",\"\",\"\",\"\",\"\",\"\",\"\",\"\",\"\",\"\",\"\",\"\",\"\",\"\",\"\",\"\",\"\",\"\",\"\",\"\",\"\",\"\",\"\",\"\",\"\",\"\",\"\",\"\",\"\",\"\",\"\",\"\",\"\",\"\",\"\",\"\",\"\",\"\",\"\",\"\",\"\",\"\",\"\",\"\",\"\",\"\",\"\",\"\",\"\",\"\",\"\",\"\",\"\",\"\",\"\",\"\",\"\",\"\",\"\",\"\",\"\",\"\",\"\",\"\",\"\",\"\",\"\",\"\",\"\",\"\",\"\",\"\",\"\",\"\",316.833251953125,314.3602294921875,327.55078125,372.593017578125,\"\",\"\",\"\",\"\",\"\",\"\",\"\",\"\",\"\",\"\",\"\",\"\",\"\",\"\",\"\",\"\"],\"type\":\"scatter\"},{\"line\":{\"color\":\"rgba(50, 171, 96, 1.0)\",\"dash\":\"solid\",\"shape\":\"linear\",\"width\":1.3},\"mode\":\"lines\",\"name\":\"October 19, 2024 Model\",\"text\":\"\",\"x\":[\"2022-02-05\",\"2022-02-12\",\"2022-02-19\",\"2022-02-26\",\"2022-03-05\",\"2022-03-12\",\"2022-03-19\",\"2022-03-26\",\"2022-04-02\",\"2022-04-09\",\"2022-04-16\",\"2022-04-23\",\"2022-04-30\",\"2022-05-07\",\"2022-05-14\",\"2022-05-21\",\"2022-05-28\",\"2022-06-04\",\"2022-06-11\",\"2022-06-18\",\"2022-06-25\",\"2022-07-02\",\"2022-07-09\",\"2022-07-16\",\"2022-07-23\",\"2022-07-30\",\"2022-08-06\",\"2022-08-13\",\"2022-08-20\",\"2022-08-27\",\"2022-09-03\",\"2022-09-10\",\"2022-09-17\",\"2022-09-24\",\"2022-10-01\",\"2022-10-08\",\"2022-10-15\",\"2022-10-22\",\"2022-10-29\",\"2022-11-05\",\"2022-11-12\",\"2022-11-19\",\"2022-11-26\",\"2022-12-03\",\"2022-12-10\",\"2022-12-17\",\"2022-12-24\",\"2022-12-31\",\"2023-01-07\",\"2023-01-14\",\"2023-01-21\",\"2023-01-28\",\"2023-02-04\",\"2023-02-11\",\"2023-02-18\",\"2023-02-25\",\"2023-03-04\",\"2023-03-11\",\"2023-03-18\",\"2023-03-25\",\"2023-04-01\",\"2023-04-08\",\"2023-04-15\",\"2023-04-22\",\"2023-04-29\",\"2023-05-06\",\"2023-05-13\",\"2023-05-20\",\"2023-05-27\",\"2023-06-03\",\"2023-06-10\",\"2023-06-17\",\"2023-06-24\",\"2023-07-01\",\"2023-07-08\",\"2023-07-15\",\"2023-07-22\",\"2023-07-29\",\"2023-08-05\",\"2023-08-12\",\"2023-08-19\",\"2023-08-26\",\"2023-09-02\",\"2023-09-09\",\"2023-09-16\",\"2023-09-23\",\"2023-09-30\",\"2023-10-07\",\"2023-10-14\",\"2023-10-21\",\"2023-10-28\",\"2023-11-04\",\"2023-11-11\",\"2023-11-18\",\"2023-11-25\",\"2023-12-02\",\"2023-12-09\",\"2023-12-16\",\"2023-12-23\",\"2023-12-30\",\"2024-01-06\",\"2024-01-13\",\"2024-01-20\",\"2024-01-27\",\"2024-02-03\",\"2024-02-10\",\"2024-02-17\",\"2024-02-24\",\"2024-03-02\",\"2024-03-09\",\"2024-03-16\",\"2024-03-23\",\"2024-03-30\",\"2024-04-06\",\"2024-04-13\",\"2024-04-20\",\"2024-04-27\",\"2024-05-04\",\"2024-05-11\",\"2024-05-18\",\"2024-05-25\",\"2024-06-01\",\"2024-06-08\",\"2024-06-15\",\"2024-06-22\",\"2024-06-29\",\"2024-07-06\",\"2024-07-13\",\"2024-07-20\",\"2024-07-27\",\"2024-08-03\",\"2024-08-10\",\"2024-08-17\",\"2024-08-24\",\"2024-08-31\",\"2024-09-07\",\"2024-09-14\",\"2024-09-21\",\"2024-09-28\",\"2024-10-05\",\"2024-10-12\",\"2024-10-19\",\"2024-10-26\",\"2024-11-02\",\"2024-11-09\",\"2024-11-16\",\"2024-11-23\",\"2024-11-30\",\"2024-12-07\",\"2024-12-14\",\"2024-12-21\",\"2024-12-28\",\"2025-01-04\",\"2025-01-11\",\"2025-01-18\",\"2025-01-25\",\"2025-02-01\",\"2025-02-08\",\"2025-02-15\"],\"y\":[\"\",\"\",\"\",\"\",\"\",\"\",\"\",\"\",\"\",\"\",\"\",\"\",\"\",\"\",\"\",\"\",\"\",\"\",\"\",\"\",\"\",\"\",\"\",\"\",\"\",\"\",\"\",\"\",\"\",\"\",\"\",\"\",\"\",\"\",\"\",\"\",\"\",\"\",\"\",\"\",\"\",\"\",\"\",\"\",\"\",\"\",\"\",\"\",\"\",\"\",\"\",\"\",\"\",\"\",\"\",\"\",\"\",\"\",\"\",\"\",\"\",\"\",\"\",\"\",\"\",\"\",\"\",\"\",\"\",\"\",\"\",\"\",\"\",\"\",\"\",\"\",\"\",\"\",\"\",\"\",\"\",\"\",\"\",\"\",\"\",\"\",\"\",\"\",\"\",\"\",\"\",\"\",\"\",\"\",\"\",\"\",\"\",\"\",\"\",\"\",\"\",\"\",\"\",\"\",\"\",\"\",\"\",\"\",\"\",\"\",\"\",\"\",\"\",\"\",\"\",\"\",\"\",\"\",\"\",\"\",\"\",\"\",\"\",\"\",\"\",\"\",\"\",\"\",\"\",\"\",\"\",\"\",\"\",\"\",\"\",\"\",\"\",\"\",\"\",\"\",\"\",355.3253173828125,343.78546142578125,372.7369384765625,446.9464111328125,\"\",\"\",\"\",\"\",\"\",\"\",\"\",\"\",\"\",\"\",\"\",\"\",\"\",\"\"],\"type\":\"scatter\"},{\"line\":{\"color\":\"rgba(128, 0, 128, 1.0)\",\"dash\":\"solid\",\"shape\":\"linear\",\"width\":1.3},\"mode\":\"lines\",\"name\":\"November 02, 2024 Model\",\"text\":\"\",\"x\":[\"2022-02-05\",\"2022-02-12\",\"2022-02-19\",\"2022-02-26\",\"2022-03-05\",\"2022-03-12\",\"2022-03-19\",\"2022-03-26\",\"2022-04-02\",\"2022-04-09\",\"2022-04-16\",\"2022-04-23\",\"2022-04-30\",\"2022-05-07\",\"2022-05-14\",\"2022-05-21\",\"2022-05-28\",\"2022-06-04\",\"2022-06-11\",\"2022-06-18\",\"2022-06-25\",\"2022-07-02\",\"2022-07-09\",\"2022-07-16\",\"2022-07-23\",\"2022-07-30\",\"2022-08-06\",\"2022-08-13\",\"2022-08-20\",\"2022-08-27\",\"2022-09-03\",\"2022-09-10\",\"2022-09-17\",\"2022-09-24\",\"2022-10-01\",\"2022-10-08\",\"2022-10-15\",\"2022-10-22\",\"2022-10-29\",\"2022-11-05\",\"2022-11-12\",\"2022-11-19\",\"2022-11-26\",\"2022-12-03\",\"2022-12-10\",\"2022-12-17\",\"2022-12-24\",\"2022-12-31\",\"2023-01-07\",\"2023-01-14\",\"2023-01-21\",\"2023-01-28\",\"2023-02-04\",\"2023-02-11\",\"2023-02-18\",\"2023-02-25\",\"2023-03-04\",\"2023-03-11\",\"2023-03-18\",\"2023-03-25\",\"2023-04-01\",\"2023-04-08\",\"2023-04-15\",\"2023-04-22\",\"2023-04-29\",\"2023-05-06\",\"2023-05-13\",\"2023-05-20\",\"2023-05-27\",\"2023-06-03\",\"2023-06-10\",\"2023-06-17\",\"2023-06-24\",\"2023-07-01\",\"2023-07-08\",\"2023-07-15\",\"2023-07-22\",\"2023-07-29\",\"2023-08-05\",\"2023-08-12\",\"2023-08-19\",\"2023-08-26\",\"2023-09-02\",\"2023-09-09\",\"2023-09-16\",\"2023-09-23\",\"2023-09-30\",\"2023-10-07\",\"2023-10-14\",\"2023-10-21\",\"2023-10-28\",\"2023-11-04\",\"2023-11-11\",\"2023-11-18\",\"2023-11-25\",\"2023-12-02\",\"2023-12-09\",\"2023-12-16\",\"2023-12-23\",\"2023-12-30\",\"2024-01-06\",\"2024-01-13\",\"2024-01-20\",\"2024-01-27\",\"2024-02-03\",\"2024-02-10\",\"2024-02-17\",\"2024-02-24\",\"2024-03-02\",\"2024-03-09\",\"2024-03-16\",\"2024-03-23\",\"2024-03-30\",\"2024-04-06\",\"2024-04-13\",\"2024-04-20\",\"2024-04-27\",\"2024-05-04\",\"2024-05-11\",\"2024-05-18\",\"2024-05-25\",\"2024-06-01\",\"2024-06-08\",\"2024-06-15\",\"2024-06-22\",\"2024-06-29\",\"2024-07-06\",\"2024-07-13\",\"2024-07-20\",\"2024-07-27\",\"2024-08-03\",\"2024-08-10\",\"2024-08-17\",\"2024-08-24\",\"2024-08-31\",\"2024-09-07\",\"2024-09-14\",\"2024-09-21\",\"2024-09-28\",\"2024-10-05\",\"2024-10-12\",\"2024-10-19\",\"2024-10-26\",\"2024-11-02\",\"2024-11-09\",\"2024-11-16\",\"2024-11-23\",\"2024-11-30\",\"2024-12-07\",\"2024-12-14\",\"2024-12-21\",\"2024-12-28\",\"2025-01-04\",\"2025-01-11\",\"2025-01-18\",\"2025-01-25\",\"2025-02-01\",\"2025-02-08\",\"2025-02-15\"],\"y\":[\"\",\"\",\"\",\"\",\"\",\"\",\"\",\"\",\"\",\"\",\"\",\"\",\"\",\"\",\"\",\"\",\"\",\"\",\"\",\"\",\"\",\"\",\"\",\"\",\"\",\"\",\"\",\"\",\"\",\"\",\"\",\"\",\"\",\"\",\"\",\"\",\"\",\"\",\"\",\"\",\"\",\"\",\"\",\"\",\"\",\"\",\"\",\"\",\"\",\"\",\"\",\"\",\"\",\"\",\"\",\"\",\"\",\"\",\"\",\"\",\"\",\"\",\"\",\"\",\"\",\"\",\"\",\"\",\"\",\"\",\"\",\"\",\"\",\"\",\"\",\"\",\"\",\"\",\"\",\"\",\"\",\"\",\"\",\"\",\"\",\"\",\"\",\"\",\"\",\"\",\"\",\"\",\"\",\"\",\"\",\"\",\"\",\"\",\"\",\"\",\"\",\"\",\"\",\"\",\"\",\"\",\"\",\"\",\"\",\"\",\"\",\"\",\"\",\"\",\"\",\"\",\"\",\"\",\"\",\"\",\"\",\"\",\"\",\"\",\"\",\"\",\"\",\"\",\"\",\"\",\"\",\"\",\"\",\"\",\"\",\"\",\"\",\"\",\"\",\"\",\"\",\"\",\"\",513.9264526367188,503.37921142578125,606.986083984375,1139.595947265625,\"\",\"\",\"\",\"\",\"\",\"\",\"\",\"\",\"\",\"\",\"\",\"\"],\"type\":\"scatter\"},{\"line\":{\"color\":\"rgba(219, 64, 82, 1.0)\",\"dash\":\"solid\",\"shape\":\"linear\",\"width\":1.3},\"mode\":\"lines\",\"name\":\"November 16, 2024 Model\",\"text\":\"\",\"x\":[\"2022-02-05\",\"2022-02-12\",\"2022-02-19\",\"2022-02-26\",\"2022-03-05\",\"2022-03-12\",\"2022-03-19\",\"2022-03-26\",\"2022-04-02\",\"2022-04-09\",\"2022-04-16\",\"2022-04-23\",\"2022-04-30\",\"2022-05-07\",\"2022-05-14\",\"2022-05-21\",\"2022-05-28\",\"2022-06-04\",\"2022-06-11\",\"2022-06-18\",\"2022-06-25\",\"2022-07-02\",\"2022-07-09\",\"2022-07-16\",\"2022-07-23\",\"2022-07-30\",\"2022-08-06\",\"2022-08-13\",\"2022-08-20\",\"2022-08-27\",\"2022-09-03\",\"2022-09-10\",\"2022-09-17\",\"2022-09-24\",\"2022-10-01\",\"2022-10-08\",\"2022-10-15\",\"2022-10-22\",\"2022-10-29\",\"2022-11-05\",\"2022-11-12\",\"2022-11-19\",\"2022-11-26\",\"2022-12-03\",\"2022-12-10\",\"2022-12-17\",\"2022-12-24\",\"2022-12-31\",\"2023-01-07\",\"2023-01-14\",\"2023-01-21\",\"2023-01-28\",\"2023-02-04\",\"2023-02-11\",\"2023-02-18\",\"2023-02-25\",\"2023-03-04\",\"2023-03-11\",\"2023-03-18\",\"2023-03-25\",\"2023-04-01\",\"2023-04-08\",\"2023-04-15\",\"2023-04-22\",\"2023-04-29\",\"2023-05-06\",\"2023-05-13\",\"2023-05-20\",\"2023-05-27\",\"2023-06-03\",\"2023-06-10\",\"2023-06-17\",\"2023-06-24\",\"2023-07-01\",\"2023-07-08\",\"2023-07-15\",\"2023-07-22\",\"2023-07-29\",\"2023-08-05\",\"2023-08-12\",\"2023-08-19\",\"2023-08-26\",\"2023-09-02\",\"2023-09-09\",\"2023-09-16\",\"2023-09-23\",\"2023-09-30\",\"2023-10-07\",\"2023-10-14\",\"2023-10-21\",\"2023-10-28\",\"2023-11-04\",\"2023-11-11\",\"2023-11-18\",\"2023-11-25\",\"2023-12-02\",\"2023-12-09\",\"2023-12-16\",\"2023-12-23\",\"2023-12-30\",\"2024-01-06\",\"2024-01-13\",\"2024-01-20\",\"2024-01-27\",\"2024-02-03\",\"2024-02-10\",\"2024-02-17\",\"2024-02-24\",\"2024-03-02\",\"2024-03-09\",\"2024-03-16\",\"2024-03-23\",\"2024-03-30\",\"2024-04-06\",\"2024-04-13\",\"2024-04-20\",\"2024-04-27\",\"2024-05-04\",\"2024-05-11\",\"2024-05-18\",\"2024-05-25\",\"2024-06-01\",\"2024-06-08\",\"2024-06-15\",\"2024-06-22\",\"2024-06-29\",\"2024-07-06\",\"2024-07-13\",\"2024-07-20\",\"2024-07-27\",\"2024-08-03\",\"2024-08-10\",\"2024-08-17\",\"2024-08-24\",\"2024-08-31\",\"2024-09-07\",\"2024-09-14\",\"2024-09-21\",\"2024-09-28\",\"2024-10-05\",\"2024-10-12\",\"2024-10-19\",\"2024-10-26\",\"2024-11-02\",\"2024-11-09\",\"2024-11-16\",\"2024-11-23\",\"2024-11-30\",\"2024-12-07\",\"2024-12-14\",\"2024-12-21\",\"2024-12-28\",\"2025-01-04\",\"2025-01-11\",\"2025-01-18\",\"2025-01-25\",\"2025-02-01\",\"2025-02-08\",\"2025-02-15\"],\"y\":[\"\",\"\",\"\",\"\",\"\",\"\",\"\",\"\",\"\",\"\",\"\",\"\",\"\",\"\",\"\",\"\",\"\",\"\",\"\",\"\",\"\",\"\",\"\",\"\",\"\",\"\",\"\",\"\",\"\",\"\",\"\",\"\",\"\",\"\",\"\",\"\",\"\",\"\",\"\",\"\",\"\",\"\",\"\",\"\",\"\",\"\",\"\",\"\",\"\",\"\",\"\",\"\",\"\",\"\",\"\",\"\",\"\",\"\",\"\",\"\",\"\",\"\",\"\",\"\",\"\",\"\",\"\",\"\",\"\",\"\",\"\",\"\",\"\",\"\",\"\",\"\",\"\",\"\",\"\",\"\",\"\",\"\",\"\",\"\",\"\",\"\",\"\",\"\",\"\",\"\",\"\",\"\",\"\",\"\",\"\",\"\",\"\",\"\",\"\",\"\",\"\",\"\",\"\",\"\",\"\",\"\",\"\",\"\",\"\",\"\",\"\",\"\",\"\",\"\",\"\",\"\",\"\",\"\",\"\",\"\",\"\",\"\",\"\",\"\",\"\",\"\",\"\",\"\",\"\",\"\",\"\",\"\",\"\",\"\",\"\",\"\",\"\",\"\",\"\",\"\",\"\",\"\",\"\",\"\",\"\",1918.572265625,2630.94873046875,5945.31787109375,10413.576171875,\"\",\"\",\"\",\"\",\"\",\"\",\"\",\"\",\"\",\"\"],\"type\":\"scatter\"},{\"line\":{\"color\":\"rgba(0, 128, 128, 1.0)\",\"dash\":\"solid\",\"shape\":\"linear\",\"width\":1.3},\"mode\":\"lines\",\"name\":\"December 07, 2024 Model\",\"text\":\"\",\"x\":[\"2022-02-05\",\"2022-02-12\",\"2022-02-19\",\"2022-02-26\",\"2022-03-05\",\"2022-03-12\",\"2022-03-19\",\"2022-03-26\",\"2022-04-02\",\"2022-04-09\",\"2022-04-16\",\"2022-04-23\",\"2022-04-30\",\"2022-05-07\",\"2022-05-14\",\"2022-05-21\",\"2022-05-28\",\"2022-06-04\",\"2022-06-11\",\"2022-06-18\",\"2022-06-25\",\"2022-07-02\",\"2022-07-09\",\"2022-07-16\",\"2022-07-23\",\"2022-07-30\",\"2022-08-06\",\"2022-08-13\",\"2022-08-20\",\"2022-08-27\",\"2022-09-03\",\"2022-09-10\",\"2022-09-17\",\"2022-09-24\",\"2022-10-01\",\"2022-10-08\",\"2022-10-15\",\"2022-10-22\",\"2022-10-29\",\"2022-11-05\",\"2022-11-12\",\"2022-11-19\",\"2022-11-26\",\"2022-12-03\",\"2022-12-10\",\"2022-12-17\",\"2022-12-24\",\"2022-12-31\",\"2023-01-07\",\"2023-01-14\",\"2023-01-21\",\"2023-01-28\",\"2023-02-04\",\"2023-02-11\",\"2023-02-18\",\"2023-02-25\",\"2023-03-04\",\"2023-03-11\",\"2023-03-18\",\"2023-03-25\",\"2023-04-01\",\"2023-04-08\",\"2023-04-15\",\"2023-04-22\",\"2023-04-29\",\"2023-05-06\",\"2023-05-13\",\"2023-05-20\",\"2023-05-27\",\"2023-06-03\",\"2023-06-10\",\"2023-06-17\",\"2023-06-24\",\"2023-07-01\",\"2023-07-08\",\"2023-07-15\",\"2023-07-22\",\"2023-07-29\",\"2023-08-05\",\"2023-08-12\",\"2023-08-19\",\"2023-08-26\",\"2023-09-02\",\"2023-09-09\",\"2023-09-16\",\"2023-09-23\",\"2023-09-30\",\"2023-10-07\",\"2023-10-14\",\"2023-10-21\",\"2023-10-28\",\"2023-11-04\",\"2023-11-11\",\"2023-11-18\",\"2023-11-25\",\"2023-12-02\",\"2023-12-09\",\"2023-12-16\",\"2023-12-23\",\"2023-12-30\",\"2024-01-06\",\"2024-01-13\",\"2024-01-20\",\"2024-01-27\",\"2024-02-03\",\"2024-02-10\",\"2024-02-17\",\"2024-02-24\",\"2024-03-02\",\"2024-03-09\",\"2024-03-16\",\"2024-03-23\",\"2024-03-30\",\"2024-04-06\",\"2024-04-13\",\"2024-04-20\",\"2024-04-27\",\"2024-05-04\",\"2024-05-11\",\"2024-05-18\",\"2024-05-25\",\"2024-06-01\",\"2024-06-08\",\"2024-06-15\",\"2024-06-22\",\"2024-06-29\",\"2024-07-06\",\"2024-07-13\",\"2024-07-20\",\"2024-07-27\",\"2024-08-03\",\"2024-08-10\",\"2024-08-17\",\"2024-08-24\",\"2024-08-31\",\"2024-09-07\",\"2024-09-14\",\"2024-09-21\",\"2024-09-28\",\"2024-10-05\",\"2024-10-12\",\"2024-10-19\",\"2024-10-26\",\"2024-11-02\",\"2024-11-09\",\"2024-11-16\",\"2024-11-23\",\"2024-11-30\",\"2024-12-07\",\"2024-12-14\",\"2024-12-21\",\"2024-12-28\",\"2025-01-04\",\"2025-01-11\",\"2025-01-18\",\"2025-01-25\",\"2025-02-01\",\"2025-02-08\",\"2025-02-15\"],\"y\":[\"\",\"\",\"\",\"\",\"\",\"\",\"\",\"\",\"\",\"\",\"\",\"\",\"\",\"\",\"\",\"\",\"\",\"\",\"\",\"\",\"\",\"\",\"\",\"\",\"\",\"\",\"\",\"\",\"\",\"\",\"\",\"\",\"\",\"\",\"\",\"\",\"\",\"\",\"\",\"\",\"\",\"\",\"\",\"\",\"\",\"\",\"\",\"\",\"\",\"\",\"\",\"\",\"\",\"\",\"\",\"\",\"\",\"\",\"\",\"\",\"\",\"\",\"\",\"\",\"\",\"\",\"\",\"\",\"\",\"\",\"\",\"\",\"\",\"\",\"\",\"\",\"\",\"\",\"\",\"\",\"\",\"\",\"\",\"\",\"\",\"\",\"\",\"\",\"\",\"\",\"\",\"\",\"\",\"\",\"\",\"\",\"\",\"\",\"\",\"\",\"\",\"\",\"\",\"\",\"\",\"\",\"\",\"\",\"\",\"\",\"\",\"\",\"\",\"\",\"\",\"\",\"\",\"\",\"\",\"\",\"\",\"\",\"\",\"\",\"\",\"\",\"\",\"\",\"\",\"\",\"\",\"\",\"\",\"\",\"\",\"\",\"\",\"\",\"\",\"\",\"\",\"\",\"\",\"\",\"\",\"\",\"\",\"\",12142.966796875,20418.509765625,26864.626953125,27087.87109375,\"\",\"\",\"\",\"\",\"\",\"\",\"\"],\"type\":\"scatter\"}],                        {\"legend\":{\"bgcolor\":\"#F5F6F9\",\"font\":{\"color\":\"#4D5663\"}},\"paper_bgcolor\":\"#F5F6F9\",\"plot_bgcolor\":\"#F5F6F9\",\"template\":{\"data\":{\"barpolar\":[{\"marker\":{\"line\":{\"color\":\"#E5ECF6\",\"width\":0.5},\"pattern\":{\"fillmode\":\"overlay\",\"size\":10,\"solidity\":0.2}},\"type\":\"barpolar\"}],\"bar\":[{\"error_x\":{\"color\":\"#2a3f5f\"},\"error_y\":{\"color\":\"#2a3f5f\"},\"marker\":{\"line\":{\"color\":\"#E5ECF6\",\"width\":0.5},\"pattern\":{\"fillmode\":\"overlay\",\"size\":10,\"solidity\":0.2}},\"type\":\"bar\"}],\"carpet\":[{\"aaxis\":{\"endlinecolor\":\"#2a3f5f\",\"gridcolor\":\"white\",\"linecolor\":\"white\",\"minorgridcolor\":\"white\",\"startlinecolor\":\"#2a3f5f\"},\"baxis\":{\"endlinecolor\":\"#2a3f5f\",\"gridcolor\":\"white\",\"linecolor\":\"white\",\"minorgridcolor\":\"white\",\"startlinecolor\":\"#2a3f5f\"},\"type\":\"carpet\"}],\"choropleth\":[{\"colorbar\":{\"outlinewidth\":0,\"ticks\":\"\"},\"type\":\"choropleth\"}],\"contourcarpet\":[{\"colorbar\":{\"outlinewidth\":0,\"ticks\":\"\"},\"type\":\"contourcarpet\"}],\"contour\":[{\"colorbar\":{\"outlinewidth\":0,\"ticks\":\"\"},\"colorscale\":[[0.0,\"#0d0887\"],[0.1111111111111111,\"#46039f\"],[0.2222222222222222,\"#7201a8\"],[0.3333333333333333,\"#9c179e\"],[0.4444444444444444,\"#bd3786\"],[0.5555555555555556,\"#d8576b\"],[0.6666666666666666,\"#ed7953\"],[0.7777777777777778,\"#fb9f3a\"],[0.8888888888888888,\"#fdca26\"],[1.0,\"#f0f921\"]],\"type\":\"contour\"}],\"heatmapgl\":[{\"colorbar\":{\"outlinewidth\":0,\"ticks\":\"\"},\"colorscale\":[[0.0,\"#0d0887\"],[0.1111111111111111,\"#46039f\"],[0.2222222222222222,\"#7201a8\"],[0.3333333333333333,\"#9c179e\"],[0.4444444444444444,\"#bd3786\"],[0.5555555555555556,\"#d8576b\"],[0.6666666666666666,\"#ed7953\"],[0.7777777777777778,\"#fb9f3a\"],[0.8888888888888888,\"#fdca26\"],[1.0,\"#f0f921\"]],\"type\":\"heatmapgl\"}],\"heatmap\":[{\"colorbar\":{\"outlinewidth\":0,\"ticks\":\"\"},\"colorscale\":[[0.0,\"#0d0887\"],[0.1111111111111111,\"#46039f\"],[0.2222222222222222,\"#7201a8\"],[0.3333333333333333,\"#9c179e\"],[0.4444444444444444,\"#bd3786\"],[0.5555555555555556,\"#d8576b\"],[0.6666666666666666,\"#ed7953\"],[0.7777777777777778,\"#fb9f3a\"],[0.8888888888888888,\"#fdca26\"],[1.0,\"#f0f921\"]],\"type\":\"heatmap\"}],\"histogram2dcontour\":[{\"colorbar\":{\"outlinewidth\":0,\"ticks\":\"\"},\"colorscale\":[[0.0,\"#0d0887\"],[0.1111111111111111,\"#46039f\"],[0.2222222222222222,\"#7201a8\"],[0.3333333333333333,\"#9c179e\"],[0.4444444444444444,\"#bd3786\"],[0.5555555555555556,\"#d8576b\"],[0.6666666666666666,\"#ed7953\"],[0.7777777777777778,\"#fb9f3a\"],[0.8888888888888888,\"#fdca26\"],[1.0,\"#f0f921\"]],\"type\":\"histogram2dcontour\"}],\"histogram2d\":[{\"colorbar\":{\"outlinewidth\":0,\"ticks\":\"\"},\"colorscale\":[[0.0,\"#0d0887\"],[0.1111111111111111,\"#46039f\"],[0.2222222222222222,\"#7201a8\"],[0.3333333333333333,\"#9c179e\"],[0.4444444444444444,\"#bd3786\"],[0.5555555555555556,\"#d8576b\"],[0.6666666666666666,\"#ed7953\"],[0.7777777777777778,\"#fb9f3a\"],[0.8888888888888888,\"#fdca26\"],[1.0,\"#f0f921\"]],\"type\":\"histogram2d\"}],\"histogram\":[{\"marker\":{\"pattern\":{\"fillmode\":\"overlay\",\"size\":10,\"solidity\":0.2}},\"type\":\"histogram\"}],\"mesh3d\":[{\"colorbar\":{\"outlinewidth\":0,\"ticks\":\"\"},\"type\":\"mesh3d\"}],\"parcoords\":[{\"line\":{\"colorbar\":{\"outlinewidth\":0,\"ticks\":\"\"}},\"type\":\"parcoords\"}],\"pie\":[{\"automargin\":true,\"type\":\"pie\"}],\"scatter3d\":[{\"line\":{\"colorbar\":{\"outlinewidth\":0,\"ticks\":\"\"}},\"marker\":{\"colorbar\":{\"outlinewidth\":0,\"ticks\":\"\"}},\"type\":\"scatter3d\"}],\"scattercarpet\":[{\"marker\":{\"colorbar\":{\"outlinewidth\":0,\"ticks\":\"\"}},\"type\":\"scattercarpet\"}],\"scattergeo\":[{\"marker\":{\"colorbar\":{\"outlinewidth\":0,\"ticks\":\"\"}},\"type\":\"scattergeo\"}],\"scattergl\":[{\"marker\":{\"colorbar\":{\"outlinewidth\":0,\"ticks\":\"\"}},\"type\":\"scattergl\"}],\"scattermapbox\":[{\"marker\":{\"colorbar\":{\"outlinewidth\":0,\"ticks\":\"\"}},\"type\":\"scattermapbox\"}],\"scatterpolargl\":[{\"marker\":{\"colorbar\":{\"outlinewidth\":0,\"ticks\":\"\"}},\"type\":\"scatterpolargl\"}],\"scatterpolar\":[{\"marker\":{\"colorbar\":{\"outlinewidth\":0,\"ticks\":\"\"}},\"type\":\"scatterpolar\"}],\"scatter\":[{\"fillpattern\":{\"fillmode\":\"overlay\",\"size\":10,\"solidity\":0.2},\"type\":\"scatter\"}],\"scatterternary\":[{\"marker\":{\"colorbar\":{\"outlinewidth\":0,\"ticks\":\"\"}},\"type\":\"scatterternary\"}],\"surface\":[{\"colorbar\":{\"outlinewidth\":0,\"ticks\":\"\"},\"colorscale\":[[0.0,\"#0d0887\"],[0.1111111111111111,\"#46039f\"],[0.2222222222222222,\"#7201a8\"],[0.3333333333333333,\"#9c179e\"],[0.4444444444444444,\"#bd3786\"],[0.5555555555555556,\"#d8576b\"],[0.6666666666666666,\"#ed7953\"],[0.7777777777777778,\"#fb9f3a\"],[0.8888888888888888,\"#fdca26\"],[1.0,\"#f0f921\"]],\"type\":\"surface\"}],\"table\":[{\"cells\":{\"fill\":{\"color\":\"#EBF0F8\"},\"line\":{\"color\":\"white\"}},\"header\":{\"fill\":{\"color\":\"#C8D4E3\"},\"line\":{\"color\":\"white\"}},\"type\":\"table\"}]},\"layout\":{\"annotationdefaults\":{\"arrowcolor\":\"#2a3f5f\",\"arrowhead\":0,\"arrowwidth\":1},\"autotypenumbers\":\"strict\",\"coloraxis\":{\"colorbar\":{\"outlinewidth\":0,\"ticks\":\"\"}},\"colorscale\":{\"diverging\":[[0,\"#8e0152\"],[0.1,\"#c51b7d\"],[0.2,\"#de77ae\"],[0.3,\"#f1b6da\"],[0.4,\"#fde0ef\"],[0.5,\"#f7f7f7\"],[0.6,\"#e6f5d0\"],[0.7,\"#b8e186\"],[0.8,\"#7fbc41\"],[0.9,\"#4d9221\"],[1,\"#276419\"]],\"sequential\":[[0.0,\"#0d0887\"],[0.1111111111111111,\"#46039f\"],[0.2222222222222222,\"#7201a8\"],[0.3333333333333333,\"#9c179e\"],[0.4444444444444444,\"#bd3786\"],[0.5555555555555556,\"#d8576b\"],[0.6666666666666666,\"#ed7953\"],[0.7777777777777778,\"#fb9f3a\"],[0.8888888888888888,\"#fdca26\"],[1.0,\"#f0f921\"]],\"sequentialminus\":[[0.0,\"#0d0887\"],[0.1111111111111111,\"#46039f\"],[0.2222222222222222,\"#7201a8\"],[0.3333333333333333,\"#9c179e\"],[0.4444444444444444,\"#bd3786\"],[0.5555555555555556,\"#d8576b\"],[0.6666666666666666,\"#ed7953\"],[0.7777777777777778,\"#fb9f3a\"],[0.8888888888888888,\"#fdca26\"],[1.0,\"#f0f921\"]]},\"colorway\":[\"#636efa\",\"#EF553B\",\"#00cc96\",\"#ab63fa\",\"#FFA15A\",\"#19d3f3\",\"#FF6692\",\"#B6E880\",\"#FF97FF\",\"#FECB52\"],\"font\":{\"color\":\"#2a3f5f\"},\"geo\":{\"bgcolor\":\"white\",\"lakecolor\":\"white\",\"landcolor\":\"#E5ECF6\",\"showlakes\":true,\"showland\":true,\"subunitcolor\":\"white\"},\"hoverlabel\":{\"align\":\"left\"},\"hovermode\":\"closest\",\"mapbox\":{\"style\":\"light\"},\"paper_bgcolor\":\"white\",\"plot_bgcolor\":\"#E5ECF6\",\"polar\":{\"angularaxis\":{\"gridcolor\":\"white\",\"linecolor\":\"white\",\"ticks\":\"\"},\"bgcolor\":\"#E5ECF6\",\"radialaxis\":{\"gridcolor\":\"white\",\"linecolor\":\"white\",\"ticks\":\"\"}},\"scene\":{\"xaxis\":{\"backgroundcolor\":\"#E5ECF6\",\"gridcolor\":\"white\",\"gridwidth\":2,\"linecolor\":\"white\",\"showbackground\":true,\"ticks\":\"\",\"zerolinecolor\":\"white\"},\"yaxis\":{\"backgroundcolor\":\"#E5ECF6\",\"gridcolor\":\"white\",\"gridwidth\":2,\"linecolor\":\"white\",\"showbackground\":true,\"ticks\":\"\",\"zerolinecolor\":\"white\"},\"zaxis\":{\"backgroundcolor\":\"#E5ECF6\",\"gridcolor\":\"white\",\"gridwidth\":2,\"linecolor\":\"white\",\"showbackground\":true,\"ticks\":\"\",\"zerolinecolor\":\"white\"}},\"shapedefaults\":{\"line\":{\"color\":\"#2a3f5f\"}},\"ternary\":{\"aaxis\":{\"gridcolor\":\"white\",\"linecolor\":\"white\",\"ticks\":\"\"},\"baxis\":{\"gridcolor\":\"white\",\"linecolor\":\"white\",\"ticks\":\"\"},\"bgcolor\":\"#E5ECF6\",\"caxis\":{\"gridcolor\":\"white\",\"linecolor\":\"white\",\"ticks\":\"\"}},\"title\":{\"x\":0.05},\"xaxis\":{\"automargin\":true,\"gridcolor\":\"white\",\"linecolor\":\"white\",\"ticks\":\"\",\"title\":{\"standoff\":15},\"zerolinecolor\":\"white\",\"zerolinewidth\":2},\"yaxis\":{\"automargin\":true,\"gridcolor\":\"white\",\"linecolor\":\"white\",\"ticks\":\"\",\"title\":{\"standoff\":15},\"zerolinecolor\":\"white\",\"zerolinewidth\":2}}},\"title\":{\"font\":{\"color\":\"#4D5663\"},\"text\":\"Fixed Parameter LSTM Predictions\"},\"xaxis\":{\"gridcolor\":\"#E1E5ED\",\"showgrid\":true,\"tickfont\":{\"color\":\"#4D5663\"},\"title\":{\"font\":{\"color\":\"#4D5663\"},\"text\":\"Date\"},\"zerolinecolor\":\"#E1E5ED\"},\"yaxis\":{\"gridcolor\":\"#E1E5ED\",\"showgrid\":true,\"tickfont\":{\"color\":\"#4D5663\"},\"title\":{\"font\":{\"color\":\"#4D5663\"},\"text\":\"Count\"},\"zerolinecolor\":\"#E1E5ED\"}},                        {\"showLink\": true, \"linkText\": \"Export to plot.ly\", \"plotlyServerURL\": \"https://plot.ly\", \"responsive\": true}                    ).then(function(){\n",
       "                            \n",
       "var gd = document.getElementById('90c8afe8-8920-4114-8f24-0e980acdd8d3');\n",
       "var x = new MutationObserver(function (mutations, observer) {{\n",
       "        var display = window.getComputedStyle(gd).display;\n",
       "        if (!display || display === 'none') {{\n",
       "            console.log([gd, 'removed!']);\n",
       "            Plotly.purge(gd);\n",
       "            observer.disconnect();\n",
       "        }}\n",
       "}});\n",
       "\n",
       "// Listen for the removal of the full notebook cells\n",
       "var notebookContainer = gd.closest('#notebook-container');\n",
       "if (notebookContainer) {{\n",
       "    x.observe(notebookContainer, {childList: true});\n",
       "}}\n",
       "\n",
       "// Listen for the clearing of the current output cell\n",
       "var outputEl = gd.closest('.output');\n",
       "if (outputEl) {{\n",
       "    x.observe(outputEl, {childList: true});\n",
       "}}\n",
       "\n",
       "                        })                };                });            </script>        </div>"
      ]
     },
     "metadata": {},
     "output_type": "display_data"
    }
   ],
   "source": [
    "Processor.create_graph()"
   ]
  },
  {
   "cell_type": "code",
   "execution_count": 21,
   "id": "c600ccd3-0aec-4907-a43c-f7e663898941",
   "metadata": {
    "tags": []
   },
   "outputs": [
    {
     "data": {
      "text/html": [
       "<div>\n",
       "<style scoped>\n",
       "    .dataframe tbody tr th:only-of-type {\n",
       "        vertical-align: middle;\n",
       "    }\n",
       "\n",
       "    .dataframe tbody tr th {\n",
       "        vertical-align: top;\n",
       "    }\n",
       "\n",
       "    .dataframe thead th {\n",
       "        text-align: right;\n",
       "    }\n",
       "</style>\n",
       "<table border=\"1\" class=\"dataframe\">\n",
       "  <thead>\n",
       "    <tr style=\"text-align: right;\">\n",
       "      <th></th>\n",
       "      <th>Real Data</th>\n",
       "      <th>October 05, 2024 Model</th>\n",
       "      <th>October 19, 2024 Model</th>\n",
       "      <th>November 02, 2024 Model</th>\n",
       "      <th>November 16, 2024 Model</th>\n",
       "      <th>December 07, 2024 Model</th>\n",
       "    </tr>\n",
       "    <tr>\n",
       "      <th>date</th>\n",
       "      <th></th>\n",
       "      <th></th>\n",
       "      <th></th>\n",
       "      <th></th>\n",
       "      <th></th>\n",
       "      <th></th>\n",
       "    </tr>\n",
       "  </thead>\n",
       "  <tbody>\n",
       "    <tr>\n",
       "      <th>2024-11-02</th>\n",
       "      <td>976.0</td>\n",
       "      <td>NaN</td>\n",
       "      <td>372.736938</td>\n",
       "      <td>513.926453</td>\n",
       "      <td>NaN</td>\n",
       "      <td>NaN</td>\n",
       "    </tr>\n",
       "    <tr>\n",
       "      <th>2024-11-09</th>\n",
       "      <td>2032.0</td>\n",
       "      <td>NaN</td>\n",
       "      <td>446.946411</td>\n",
       "      <td>503.379211</td>\n",
       "      <td>NaN</td>\n",
       "      <td>NaN</td>\n",
       "    </tr>\n",
       "    <tr>\n",
       "      <th>2024-11-16</th>\n",
       "      <td>2439.0</td>\n",
       "      <td>NaN</td>\n",
       "      <td>NaN</td>\n",
       "      <td>606.986084</td>\n",
       "      <td>1918.572266</td>\n",
       "      <td>NaN</td>\n",
       "    </tr>\n",
       "    <tr>\n",
       "      <th>2024-11-23</th>\n",
       "      <td>3090.0</td>\n",
       "      <td>NaN</td>\n",
       "      <td>NaN</td>\n",
       "      <td>1139.595947</td>\n",
       "      <td>2630.948730</td>\n",
       "      <td>NaN</td>\n",
       "    </tr>\n",
       "    <tr>\n",
       "      <th>2024-11-30</th>\n",
       "      <td>4347.0</td>\n",
       "      <td>NaN</td>\n",
       "      <td>NaN</td>\n",
       "      <td>NaN</td>\n",
       "      <td>5945.317871</td>\n",
       "      <td>NaN</td>\n",
       "    </tr>\n",
       "    <tr>\n",
       "      <th>2024-12-07</th>\n",
       "      <td>6353.0</td>\n",
       "      <td>NaN</td>\n",
       "      <td>NaN</td>\n",
       "      <td>NaN</td>\n",
       "      <td>10413.576172</td>\n",
       "      <td>12142.966797</td>\n",
       "    </tr>\n",
       "    <tr>\n",
       "      <th>2024-12-14</th>\n",
       "      <td>9140.0</td>\n",
       "      <td>NaN</td>\n",
       "      <td>NaN</td>\n",
       "      <td>NaN</td>\n",
       "      <td>NaN</td>\n",
       "      <td>20418.509766</td>\n",
       "    </tr>\n",
       "    <tr>\n",
       "      <th>2024-12-21</th>\n",
       "      <td>15253.0</td>\n",
       "      <td>NaN</td>\n",
       "      <td>NaN</td>\n",
       "      <td>NaN</td>\n",
       "      <td>NaN</td>\n",
       "      <td>26864.626953</td>\n",
       "    </tr>\n",
       "    <tr>\n",
       "      <th>2024-12-28</th>\n",
       "      <td>26988.0</td>\n",
       "      <td>NaN</td>\n",
       "      <td>NaN</td>\n",
       "      <td>NaN</td>\n",
       "      <td>NaN</td>\n",
       "      <td>27087.871094</td>\n",
       "    </tr>\n",
       "    <tr>\n",
       "      <th>2025-01-04</th>\n",
       "      <td>38106.0</td>\n",
       "      <td>NaN</td>\n",
       "      <td>NaN</td>\n",
       "      <td>NaN</td>\n",
       "      <td>NaN</td>\n",
       "      <td>NaN</td>\n",
       "    </tr>\n",
       "    <tr>\n",
       "      <th>2025-01-11</th>\n",
       "      <td>30636.0</td>\n",
       "      <td>NaN</td>\n",
       "      <td>NaN</td>\n",
       "      <td>NaN</td>\n",
       "      <td>NaN</td>\n",
       "      <td>NaN</td>\n",
       "    </tr>\n",
       "    <tr>\n",
       "      <th>2025-01-18</th>\n",
       "      <td>32561.0</td>\n",
       "      <td>NaN</td>\n",
       "      <td>NaN</td>\n",
       "      <td>NaN</td>\n",
       "      <td>NaN</td>\n",
       "      <td>NaN</td>\n",
       "    </tr>\n",
       "    <tr>\n",
       "      <th>2025-01-25</th>\n",
       "      <td>39927.0</td>\n",
       "      <td>NaN</td>\n",
       "      <td>NaN</td>\n",
       "      <td>NaN</td>\n",
       "      <td>NaN</td>\n",
       "      <td>NaN</td>\n",
       "    </tr>\n",
       "    <tr>\n",
       "      <th>2025-02-01</th>\n",
       "      <td>50272.0</td>\n",
       "      <td>NaN</td>\n",
       "      <td>NaN</td>\n",
       "      <td>NaN</td>\n",
       "      <td>NaN</td>\n",
       "      <td>NaN</td>\n",
       "    </tr>\n",
       "    <tr>\n",
       "      <th>2025-02-08</th>\n",
       "      <td>52211.0</td>\n",
       "      <td>NaN</td>\n",
       "      <td>NaN</td>\n",
       "      <td>NaN</td>\n",
       "      <td>NaN</td>\n",
       "      <td>NaN</td>\n",
       "    </tr>\n",
       "    <tr>\n",
       "      <th>2025-02-15</th>\n",
       "      <td>41658.0</td>\n",
       "      <td>NaN</td>\n",
       "      <td>NaN</td>\n",
       "      <td>NaN</td>\n",
       "      <td>NaN</td>\n",
       "      <td>NaN</td>\n",
       "    </tr>\n",
       "  </tbody>\n",
       "</table>\n",
       "</div>"
      ],
      "text/plain": [
       "            Real Data  October 05, 2024 Model  October 19, 2024 Model  \\\n",
       "date                                                                    \n",
       "2024-11-02      976.0                     NaN              372.736938   \n",
       "2024-11-09     2032.0                     NaN              446.946411   \n",
       "2024-11-16     2439.0                     NaN                     NaN   \n",
       "2024-11-23     3090.0                     NaN                     NaN   \n",
       "2024-11-30     4347.0                     NaN                     NaN   \n",
       "2024-12-07     6353.0                     NaN                     NaN   \n",
       "2024-12-14     9140.0                     NaN                     NaN   \n",
       "2024-12-21    15253.0                     NaN                     NaN   \n",
       "2024-12-28    26988.0                     NaN                     NaN   \n",
       "2025-01-04    38106.0                     NaN                     NaN   \n",
       "2025-01-11    30636.0                     NaN                     NaN   \n",
       "2025-01-18    32561.0                     NaN                     NaN   \n",
       "2025-01-25    39927.0                     NaN                     NaN   \n",
       "2025-02-01    50272.0                     NaN                     NaN   \n",
       "2025-02-08    52211.0                     NaN                     NaN   \n",
       "2025-02-15    41658.0                     NaN                     NaN   \n",
       "\n",
       "            November 02, 2024 Model  November 16, 2024 Model  \\\n",
       "date                                                           \n",
       "2024-11-02               513.926453                      NaN   \n",
       "2024-11-09               503.379211                      NaN   \n",
       "2024-11-16               606.986084              1918.572266   \n",
       "2024-11-23              1139.595947              2630.948730   \n",
       "2024-11-30                      NaN              5945.317871   \n",
       "2024-12-07                      NaN             10413.576172   \n",
       "2024-12-14                      NaN                      NaN   \n",
       "2024-12-21                      NaN                      NaN   \n",
       "2024-12-28                      NaN                      NaN   \n",
       "2025-01-04                      NaN                      NaN   \n",
       "2025-01-11                      NaN                      NaN   \n",
       "2025-01-18                      NaN                      NaN   \n",
       "2025-01-25                      NaN                      NaN   \n",
       "2025-02-01                      NaN                      NaN   \n",
       "2025-02-08                      NaN                      NaN   \n",
       "2025-02-15                      NaN                      NaN   \n",
       "\n",
       "            December 07, 2024 Model  \n",
       "date                                 \n",
       "2024-11-02                      NaN  \n",
       "2024-11-09                      NaN  \n",
       "2024-11-16                      NaN  \n",
       "2024-11-23                      NaN  \n",
       "2024-11-30                      NaN  \n",
       "2024-12-07             12142.966797  \n",
       "2024-12-14             20418.509766  \n",
       "2024-12-21             26864.626953  \n",
       "2024-12-28             27087.871094  \n",
       "2025-01-04                      NaN  \n",
       "2025-01-11                      NaN  \n",
       "2025-01-18                      NaN  \n",
       "2025-01-25                      NaN  \n",
       "2025-02-01                      NaN  \n",
       "2025-02-08                      NaN  \n",
       "2025-02-15                      NaN  "
      ]
     },
     "execution_count": 21,
     "metadata": {},
     "output_type": "execute_result"
    }
   ],
   "source": [
    "Processor.plotting_df.iloc[-16:]"
   ]
  },
  {
   "cell_type": "code",
   "execution_count": 13,
   "id": "770589c4-ba33-44fc-92b3-1fd18b6ed5e2",
   "metadata": {
    "tags": []
   },
   "outputs": [
    {
     "data": {
      "text/html": [
       "<div>\n",
       "<style scoped>\n",
       "    .dataframe tbody tr th:only-of-type {\n",
       "        vertical-align: middle;\n",
       "    }\n",
       "\n",
       "    .dataframe tbody tr th {\n",
       "        vertical-align: top;\n",
       "    }\n",
       "\n",
       "    .dataframe thead th {\n",
       "        text-align: right;\n",
       "    }\n",
       "</style>\n",
       "<table border=\"1\" class=\"dataframe\">\n",
       "  <thead>\n",
       "    <tr style=\"text-align: right;\">\n",
       "      <th></th>\n",
       "      <th>0</th>\n",
       "    </tr>\n",
       "  </thead>\n",
       "  <tbody>\n",
       "    <tr>\n",
       "      <th>2024-10-19</th>\n",
       "      <td>313.640442</td>\n",
       "    </tr>\n",
       "    <tr>\n",
       "      <th>2024-10-26</th>\n",
       "      <td>314.891418</td>\n",
       "    </tr>\n",
       "    <tr>\n",
       "      <th>2024-11-02</th>\n",
       "      <td>337.385864</td>\n",
       "    </tr>\n",
       "    <tr>\n",
       "      <th>2024-11-09</th>\n",
       "      <td>386.189758</td>\n",
       "    </tr>\n",
       "  </tbody>\n",
       "</table>\n",
       "</div>"
      ],
      "text/plain": [
       "                     0\n",
       "2024-10-19  313.640442\n",
       "2024-10-26  314.891418\n",
       "2024-11-02  337.385864\n",
       "2024-11-09  386.189758"
      ]
     },
     "execution_count": 13,
     "metadata": {},
     "output_type": "execute_result"
    }
   ],
   "source": [
    "Processor.forecasts[1]"
   ]
  },
  {
   "cell_type": "code",
   "execution_count": 14,
   "id": "57296ec2-66d4-4f08-a254-e4c3da164688",
   "metadata": {
    "tags": []
   },
   "outputs": [
    {
     "data": {
      "text/html": [
       "<div>\n",
       "<style scoped>\n",
       "    .dataframe tbody tr th:only-of-type {\n",
       "        vertical-align: middle;\n",
       "    }\n",
       "\n",
       "    .dataframe tbody tr th {\n",
       "        vertical-align: top;\n",
       "    }\n",
       "\n",
       "    .dataframe thead th {\n",
       "        text-align: right;\n",
       "    }\n",
       "</style>\n",
       "<table border=\"1\" class=\"dataframe\">\n",
       "  <thead>\n",
       "    <tr style=\"text-align: right;\">\n",
       "      <th></th>\n",
       "      <th>value</th>\n",
       "    </tr>\n",
       "    <tr>\n",
       "      <th>date</th>\n",
       "      <th></th>\n",
       "    </tr>\n",
       "  </thead>\n",
       "  <tbody>\n",
       "    <tr>\n",
       "      <th>2022-02-05</th>\n",
       "      <td>1092.0</td>\n",
       "    </tr>\n",
       "    <tr>\n",
       "      <th>2022-02-12</th>\n",
       "      <td>1164.0</td>\n",
       "    </tr>\n",
       "    <tr>\n",
       "      <th>2022-02-19</th>\n",
       "      <td>1493.0</td>\n",
       "    </tr>\n",
       "    <tr>\n",
       "      <th>2022-02-26</th>\n",
       "      <td>1603.0</td>\n",
       "    </tr>\n",
       "    <tr>\n",
       "      <th>2022-03-05</th>\n",
       "      <td>1791.0</td>\n",
       "    </tr>\n",
       "    <tr>\n",
       "      <th>...</th>\n",
       "      <td>...</td>\n",
       "    </tr>\n",
       "    <tr>\n",
       "      <th>2025-01-18</th>\n",
       "      <td>32561.0</td>\n",
       "    </tr>\n",
       "    <tr>\n",
       "      <th>2025-01-25</th>\n",
       "      <td>39927.0</td>\n",
       "    </tr>\n",
       "    <tr>\n",
       "      <th>2025-02-01</th>\n",
       "      <td>50272.0</td>\n",
       "    </tr>\n",
       "    <tr>\n",
       "      <th>2025-02-08</th>\n",
       "      <td>52211.0</td>\n",
       "    </tr>\n",
       "    <tr>\n",
       "      <th>2025-02-15</th>\n",
       "      <td>41658.0</td>\n",
       "    </tr>\n",
       "  </tbody>\n",
       "</table>\n",
       "<p>159 rows × 1 columns</p>\n",
       "</div>"
      ],
      "text/plain": [
       "              value\n",
       "date               \n",
       "2022-02-05   1092.0\n",
       "2022-02-12   1164.0\n",
       "2022-02-19   1493.0\n",
       "2022-02-26   1603.0\n",
       "2022-03-05   1791.0\n",
       "...             ...\n",
       "2025-01-18  32561.0\n",
       "2025-01-25  39927.0\n",
       "2025-02-01  50272.0\n",
       "2025-02-08  52211.0\n",
       "2025-02-15  41658.0\n",
       "\n",
       "[159 rows x 1 columns]"
      ]
     },
     "execution_count": 14,
     "metadata": {},
     "output_type": "execute_result"
    }
   ],
   "source": [
    "Processor.overall_df"
   ]
  },
  {
   "cell_type": "code",
   "execution_count": 15,
   "id": "260c00a3-28e6-4f35-98fb-4d988b65a22d",
   "metadata": {
    "tags": []
   },
   "outputs": [
    {
     "data": {
      "text/plain": [
       "2024-10-19     553.0\n",
       "2024-10-26    1082.0\n",
       "2024-11-02     976.0\n",
       "2024-11-09    2032.0\n",
       "Name: value, dtype: float64"
      ]
     },
     "execution_count": 15,
     "metadata": {},
     "output_type": "execute_result"
    }
   ],
   "source": [
    "Processor.overall_df[\"value\"].loc[Processor.forecasts[1].index]"
   ]
  },
  {
   "cell_type": "code",
   "execution_count": 16,
   "id": "e6257d1e-4ecd-4600-9d26-2c5c265e8663",
   "metadata": {},
   "outputs": [],
   "source": [
    "Processor.calculate_metrics()"
   ]
  },
  {
   "cell_type": "code",
   "execution_count": 17,
   "id": "bdbd11a4-68cd-42f5-a817-85182eca7b15",
   "metadata": {
    "tags": []
   },
   "outputs": [
    {
     "data": {
      "text/plain": [
       "[310.62237548828125,\n",
       " 822.7231292724609,\n",
       " 579.6495513916016,\n",
       " 3583.8917846679688,\n",
       " 4158.97509765625]"
      ]
     },
     "execution_count": 17,
     "metadata": {},
     "output_type": "execute_result"
    }
   ],
   "source": [
    "Processor.maes"
   ]
  },
  {
   "cell_type": "code",
   "execution_count": 18,
   "id": "f4f83c6f-7c92-4e47-8695-83f3a9804cc1",
   "metadata": {
    "tags": []
   },
   "outputs": [
    {
     "data": {
      "text/plain": [
       "[197492.42251734436,\n",
       " 940566.9849962732,\n",
       " 422049.5558118755,\n",
       " 15314768.177381173,\n",
       " 19204347.763413906]"
      ]
     },
     "execution_count": 18,
     "metadata": {},
     "output_type": "execute_result"
    }
   ],
   "source": [
    "Processor.mses"
   ]
  },
  {
   "cell_type": "code",
   "execution_count": 19,
   "id": "18f2bfed-182e-4e27-91e9-4d6a8b4f8226",
   "metadata": {
    "tags": []
   },
   "outputs": [
    {
     "data": {
      "text/plain": [
       "[0.419445588320959,\n",
       " 0.6515187046863857,\n",
       " 0.2791815771823297,\n",
       " 0.8549973928745299,\n",
       " 0.3773134659164475]"
      ]
     },
     "execution_count": 19,
     "metadata": {},
     "output_type": "execute_result"
    }
   ],
   "source": [
    "Processor.mapes"
   ]
  },
  {
   "cell_type": "code",
   "execution_count": null,
   "id": "b0803a22-783e-4bde-9f5f-2f3f2aa28754",
   "metadata": {},
   "outputs": [],
   "source": []
  }
 ],
 "metadata": {
  "kernelspec": {
   "display_name": "Python 3 (ipykernel)",
   "language": "python",
   "name": "python3"
  },
  "language_info": {
   "codemirror_mode": {
    "name": "ipython",
    "version": 3
   },
   "file_extension": ".py",
   "mimetype": "text/x-python",
   "name": "python",
   "nbconvert_exporter": "python",
   "pygments_lexer": "ipython3",
   "version": "3.11.4"
  }
 },
 "nbformat": 4,
 "nbformat_minor": 5
}
