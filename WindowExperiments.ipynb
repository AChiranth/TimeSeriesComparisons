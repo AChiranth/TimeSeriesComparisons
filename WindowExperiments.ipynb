{
 "cells": [
  {
   "cell_type": "code",
   "execution_count": 1,
   "id": "25a0ad59",
   "metadata": {},
   "outputs": [
    {
     "data": {
      "text/html": [
       "        <script type=\"text/javascript\">\n",
       "        window.PlotlyConfig = {MathJaxConfig: 'local'};\n",
       "        if (window.MathJax && window.MathJax.Hub && window.MathJax.Hub.Config) {window.MathJax.Hub.Config({SVG: {font: \"STIX-Web\"}});}\n",
       "        if (typeof require !== 'undefined') {\n",
       "        require.undef(\"plotly\");\n",
       "        requirejs.config({\n",
       "            paths: {\n",
       "                'plotly': ['https://cdn.plot.ly/plotly-2.12.1.min']\n",
       "            }\n",
       "        });\n",
       "        require(['plotly'], function(Plotly) {\n",
       "            window._Plotly = Plotly;\n",
       "        });\n",
       "        }\n",
       "        </script>\n",
       "        "
      ]
     },
     "metadata": {},
     "output_type": "display_data"
    }
   ],
   "source": [
    "import pandas as pd \n",
    "import numpy as np\n",
    "import matplotlib.pyplot as plt\n",
    "\n",
    "import cufflinks as cf\n",
    "from plotly import __version__\n",
    "from plotly.offline import download_plotlyjs, init_notebook_mode, plot, iplot\n",
    "\n",
    "cf.go_offline()\n",
    "\n",
    "%matplotlib inline"
   ]
  },
  {
   "cell_type": "code",
   "execution_count": 2,
   "id": "fa1b675c",
   "metadata": {},
   "outputs": [],
   "source": [
    "from sklearn.metrics import mean_absolute_error, mean_absolute_percentage_error, mean_squared_error"
   ]
  },
  {
   "cell_type": "code",
   "execution_count": 3,
   "id": "f2f9f240",
   "metadata": {},
   "outputs": [],
   "source": [
    "from nixtla import NixtlaClient"
   ]
  },
  {
   "cell_type": "code",
   "execution_count": 4,
   "id": "3e66bf1a",
   "metadata": {},
   "outputs": [],
   "source": [
    "nixtla_client = NixtlaClient(api_key=\"nixak-sVs734PNn3JEOMYhbwrfTAW5C9Y1Jqu3jDBlBW38DgOxX8tLmcZSmX4InxwXiiEFXllPOCcGmdKEYSZW\")"
   ]
  },
  {
   "cell_type": "code",
   "execution_count": 5,
   "id": "7d9d8c80",
   "metadata": {},
   "outputs": [
    {
     "name": "stderr",
     "output_type": "stream",
     "text": [
      "INFO:nixtla.nixtla_client:Happy Forecasting! :)\n"
     ]
    },
    {
     "data": {
      "text/plain": [
       "True"
      ]
     },
     "execution_count": 5,
     "metadata": {},
     "output_type": "execute_result"
    }
   ],
   "source": [
    "nixtla_client.validate_api_key()"
   ]
  },
  {
   "cell_type": "code",
   "execution_count": 6,
   "id": "d73c0dab",
   "metadata": {},
   "outputs": [
    {
     "data": {
      "text/html": [
       "<div>\n",
       "<style scoped>\n",
       "    .dataframe tbody tr th:only-of-type {\n",
       "        vertical-align: middle;\n",
       "    }\n",
       "\n",
       "    .dataframe tbody tr th {\n",
       "        vertical-align: top;\n",
       "    }\n",
       "\n",
       "    .dataframe thead th {\n",
       "        text-align: right;\n",
       "    }\n",
       "</style>\n",
       "<table border=\"1\" class=\"dataframe\">\n",
       "  <thead>\n",
       "    <tr style=\"text-align: right;\">\n",
       "      <th></th>\n",
       "      <th>value</th>\n",
       "    </tr>\n",
       "    <tr>\n",
       "      <th>date</th>\n",
       "      <th></th>\n",
       "    </tr>\n",
       "  </thead>\n",
       "  <tbody>\n",
       "    <tr>\n",
       "      <th>2022-02-05</th>\n",
       "      <td>1095.0</td>\n",
       "    </tr>\n",
       "    <tr>\n",
       "      <th>2022-02-12</th>\n",
       "      <td>1164.0</td>\n",
       "    </tr>\n",
       "    <tr>\n",
       "      <th>2022-02-19</th>\n",
       "      <td>1493.0</td>\n",
       "    </tr>\n",
       "    <tr>\n",
       "      <th>2022-02-26</th>\n",
       "      <td>1603.0</td>\n",
       "    </tr>\n",
       "    <tr>\n",
       "      <th>2022-03-05</th>\n",
       "      <td>1791.0</td>\n",
       "    </tr>\n",
       "    <tr>\n",
       "      <th>...</th>\n",
       "      <td>...</td>\n",
       "    </tr>\n",
       "    <tr>\n",
       "      <th>2024-11-30</th>\n",
       "      <td>4348.0</td>\n",
       "    </tr>\n",
       "    <tr>\n",
       "      <th>2024-12-07</th>\n",
       "      <td>6342.0</td>\n",
       "    </tr>\n",
       "    <tr>\n",
       "      <th>2024-12-14</th>\n",
       "      <td>9118.0</td>\n",
       "    </tr>\n",
       "    <tr>\n",
       "      <th>2024-12-21</th>\n",
       "      <td>14667.0</td>\n",
       "    </tr>\n",
       "    <tr>\n",
       "      <th>2024-12-28</th>\n",
       "      <td>25693.0</td>\n",
       "    </tr>\n",
       "  </tbody>\n",
       "</table>\n",
       "<p>152 rows × 1 columns</p>\n",
       "</div>"
      ],
      "text/plain": [
       "              value\n",
       "date               \n",
       "2022-02-05   1095.0\n",
       "2022-02-12   1164.0\n",
       "2022-02-19   1493.0\n",
       "2022-02-26   1603.0\n",
       "2022-03-05   1791.0\n",
       "...             ...\n",
       "2024-11-30   4348.0\n",
       "2024-12-07   6342.0\n",
       "2024-12-14   9118.0\n",
       "2024-12-21  14667.0\n",
       "2024-12-28  25693.0\n",
       "\n",
       "[152 rows x 1 columns]"
      ]
     },
     "execution_count": 6,
     "metadata": {},
     "output_type": "execute_result"
    }
   ],
   "source": [
    "entire_df = pd.read_csv(\"flu-hospital-admissions.csv\")\n",
    "entire_df = entire_df[entire_df[\"location_name\"] == \"US\"]\n",
    "entire_df = entire_df[[\"date\", \"value\"]]\n",
    "entire_df[\"date\"] = pd.to_datetime(entire_df[\"date\"])\n",
    "entire_df.set_index(\"date\", inplace=True)\n",
    "entire_df.sort_values(by = \"date\", inplace = True)\n",
    "entire_df"
   ]
  },
  {
   "cell_type": "code",
   "execution_count": null,
   "id": "c3829eac",
   "metadata": {},
   "outputs": [],
   "source": []
  },
  {
   "cell_type": "code",
   "execution_count": 7,
   "id": "e009993b",
   "metadata": {},
   "outputs": [],
   "source": [
    "#5 different weeks, with the final week being 10/7/23, 10/14/23, 10/21/23, 10/28/28, 11/4/23"
   ]
  },
  {
   "cell_type": "code",
   "execution_count": 8,
   "id": "f004e07a",
   "metadata": {},
   "outputs": [],
   "source": [
    "oct7df = entire_df.loc[:\"2023-10-07\"]\n",
    "oct14df = entire_df.loc[:\"2023-10-14\"]\n",
    "oct21df = entire_df.loc[:\"2023-10-21\"]\n",
    "oct28df = entire_df.loc[:\"2023-10-28\"]\n",
    "nov4df = entire_df.loc[:\"2023-11-04\"]"
   ]
  },
  {
   "cell_type": "code",
   "execution_count": 37,
   "id": "9f8fc40a",
   "metadata": {},
   "outputs": [
    {
     "data": {
      "text/html": [
       "<div>\n",
       "<style scoped>\n",
       "    .dataframe tbody tr th:only-of-type {\n",
       "        vertical-align: middle;\n",
       "    }\n",
       "\n",
       "    .dataframe tbody tr th {\n",
       "        vertical-align: top;\n",
       "    }\n",
       "\n",
       "    .dataframe thead th {\n",
       "        text-align: right;\n",
       "    }\n",
       "</style>\n",
       "<table border=\"1\" class=\"dataframe\">\n",
       "  <thead>\n",
       "    <tr style=\"text-align: right;\">\n",
       "      <th></th>\n",
       "      <th>value</th>\n",
       "    </tr>\n",
       "    <tr>\n",
       "      <th>date</th>\n",
       "      <th></th>\n",
       "    </tr>\n",
       "  </thead>\n",
       "  <tbody>\n",
       "    <tr>\n",
       "      <th>2022-02-05</th>\n",
       "      <td>1095.0</td>\n",
       "    </tr>\n",
       "    <tr>\n",
       "      <th>2022-02-12</th>\n",
       "      <td>1164.0</td>\n",
       "    </tr>\n",
       "    <tr>\n",
       "      <th>2022-02-19</th>\n",
       "      <td>1493.0</td>\n",
       "    </tr>\n",
       "    <tr>\n",
       "      <th>2022-02-26</th>\n",
       "      <td>1603.0</td>\n",
       "    </tr>\n",
       "    <tr>\n",
       "      <th>2022-03-05</th>\n",
       "      <td>1791.0</td>\n",
       "    </tr>\n",
       "    <tr>\n",
       "      <th>...</th>\n",
       "      <td>...</td>\n",
       "    </tr>\n",
       "    <tr>\n",
       "      <th>2023-09-09</th>\n",
       "      <td>804.0</td>\n",
       "    </tr>\n",
       "    <tr>\n",
       "      <th>2023-09-16</th>\n",
       "      <td>821.0</td>\n",
       "    </tr>\n",
       "    <tr>\n",
       "      <th>2023-09-23</th>\n",
       "      <td>884.0</td>\n",
       "    </tr>\n",
       "    <tr>\n",
       "      <th>2023-09-30</th>\n",
       "      <td>1026.0</td>\n",
       "    </tr>\n",
       "    <tr>\n",
       "      <th>2023-10-07</th>\n",
       "      <td>1110.0</td>\n",
       "    </tr>\n",
       "  </tbody>\n",
       "</table>\n",
       "<p>88 rows × 1 columns</p>\n",
       "</div>"
      ],
      "text/plain": [
       "             value\n",
       "date              \n",
       "2022-02-05  1095.0\n",
       "2022-02-12  1164.0\n",
       "2022-02-19  1493.0\n",
       "2022-02-26  1603.0\n",
       "2022-03-05  1791.0\n",
       "...            ...\n",
       "2023-09-09   804.0\n",
       "2023-09-16   821.0\n",
       "2023-09-23   884.0\n",
       "2023-09-30  1026.0\n",
       "2023-10-07  1110.0\n",
       "\n",
       "[88 rows x 1 columns]"
      ]
     },
     "execution_count": 37,
     "metadata": {},
     "output_type": "execute_result"
    }
   ],
   "source": [
    "oct7df"
   ]
  },
  {
   "cell_type": "code",
   "execution_count": 9,
   "id": "d2def77a",
   "metadata": {
    "scrolled": false
   },
   "outputs": [
    {
     "name": "stderr",
     "output_type": "stream",
     "text": [
      "INFO:nixtla.nixtla_client:Validating inputs...\n",
      "INFO:nixtla.nixtla_client:Inferred freq: W-SAT\n",
      "INFO:nixtla.nixtla_client:Preprocessing dataframes...\n",
      "INFO:nixtla.nixtla_client:Querying model metadata...\n",
      "WARNING:nixtla.nixtla_client:The specified horizon \"h\" exceeds the model horizon, this may lead to less accurate forecasts. Please consider using a smaller horizon.\n",
      "INFO:nixtla.nixtla_client:Restricting input...\n",
      "INFO:nixtla.nixtla_client:Calling Forecast Endpoint...\n"
     ]
    }
   ],
   "source": [
    "#Training, forecasting, and plotting for Oct 7 df\n",
    "\n",
    "oct7forecast = nixtla_client.forecast(df = oct7df, time_col=\"date\", target_col=\"value\", h=13)\n",
    "oct7forecast = oct7forecast.set_index(\"date\")"
   ]
  },
  {
   "cell_type": "code",
   "execution_count": 10,
   "id": "a817a7ee",
   "metadata": {},
   "outputs": [
    {
     "data": {
      "text/html": [
       "<div>\n",
       "<style scoped>\n",
       "    .dataframe tbody tr th:only-of-type {\n",
       "        vertical-align: middle;\n",
       "    }\n",
       "\n",
       "    .dataframe tbody tr th {\n",
       "        vertical-align: top;\n",
       "    }\n",
       "\n",
       "    .dataframe thead th {\n",
       "        text-align: right;\n",
       "    }\n",
       "</style>\n",
       "<table border=\"1\" class=\"dataframe\">\n",
       "  <thead>\n",
       "    <tr style=\"text-align: right;\">\n",
       "      <th></th>\n",
       "      <th>TimeGPT Forecast</th>\n",
       "      <th>Training Data</th>\n",
       "      <th>Real Data</th>\n",
       "    </tr>\n",
       "    <tr>\n",
       "      <th>date</th>\n",
       "      <th></th>\n",
       "      <th></th>\n",
       "      <th></th>\n",
       "    </tr>\n",
       "  </thead>\n",
       "  <tbody>\n",
       "    <tr>\n",
       "      <th>2022-02-05</th>\n",
       "      <td>NaN</td>\n",
       "      <td>1095.0</td>\n",
       "      <td>NaN</td>\n",
       "    </tr>\n",
       "    <tr>\n",
       "      <th>2022-02-12</th>\n",
       "      <td>NaN</td>\n",
       "      <td>1164.0</td>\n",
       "      <td>NaN</td>\n",
       "    </tr>\n",
       "    <tr>\n",
       "      <th>2022-02-19</th>\n",
       "      <td>NaN</td>\n",
       "      <td>1493.0</td>\n",
       "      <td>NaN</td>\n",
       "    </tr>\n",
       "    <tr>\n",
       "      <th>2022-02-26</th>\n",
       "      <td>NaN</td>\n",
       "      <td>1603.0</td>\n",
       "      <td>NaN</td>\n",
       "    </tr>\n",
       "    <tr>\n",
       "      <th>2022-03-05</th>\n",
       "      <td>NaN</td>\n",
       "      <td>1791.0</td>\n",
       "      <td>NaN</td>\n",
       "    </tr>\n",
       "    <tr>\n",
       "      <th>...</th>\n",
       "      <td>...</td>\n",
       "      <td>...</td>\n",
       "      <td>...</td>\n",
       "    </tr>\n",
       "    <tr>\n",
       "      <th>2023-12-09</th>\n",
       "      <td>21020.453</td>\n",
       "      <td>NaN</td>\n",
       "      <td>7510.0</td>\n",
       "    </tr>\n",
       "    <tr>\n",
       "      <th>2023-12-16</th>\n",
       "      <td>19229.861</td>\n",
       "      <td>NaN</td>\n",
       "      <td>10289.0</td>\n",
       "    </tr>\n",
       "    <tr>\n",
       "      <th>2023-12-23</th>\n",
       "      <td>16906.191</td>\n",
       "      <td>NaN</td>\n",
       "      <td>15727.0</td>\n",
       "    </tr>\n",
       "    <tr>\n",
       "      <th>2023-12-30</th>\n",
       "      <td>15053.542</td>\n",
       "      <td>NaN</td>\n",
       "      <td>21685.0</td>\n",
       "    </tr>\n",
       "    <tr>\n",
       "      <th>2024-01-06</th>\n",
       "      <td>11289.362</td>\n",
       "      <td>NaN</td>\n",
       "      <td>19550.0</td>\n",
       "    </tr>\n",
       "  </tbody>\n",
       "</table>\n",
       "<p>101 rows × 3 columns</p>\n",
       "</div>"
      ],
      "text/plain": [
       "            TimeGPT Forecast  Training Data  Real Data\n",
       "date                                                  \n",
       "2022-02-05               NaN         1095.0        NaN\n",
       "2022-02-12               NaN         1164.0        NaN\n",
       "2022-02-19               NaN         1493.0        NaN\n",
       "2022-02-26               NaN         1603.0        NaN\n",
       "2022-03-05               NaN         1791.0        NaN\n",
       "...                      ...            ...        ...\n",
       "2023-12-09         21020.453            NaN     7510.0\n",
       "2023-12-16         19229.861            NaN    10289.0\n",
       "2023-12-23         16906.191            NaN    15727.0\n",
       "2023-12-30         15053.542            NaN    21685.0\n",
       "2024-01-06         11289.362            NaN    19550.0\n",
       "\n",
       "[101 rows x 3 columns]"
      ]
     },
     "execution_count": 10,
     "metadata": {},
     "output_type": "execute_result"
    }
   ],
   "source": [
    "oct7plottingdf = pd.DataFrame()\n",
    "oct7plottingdf.index = entire_df.index\n",
    "oct7plottingdf = oct7plottingdf.loc[: \"2024-01-06\"]\n",
    "\n",
    "oct7plottingdf[\"TimeGPT Forecast\"] = oct7forecast[\"TimeGPT\"]\n",
    "oct7plottingdf[\"Training Data\"] = oct7df[\"value\"]\n",
    "oct7plottingdf[\"Real Data\"] = entire_df[\"2023-10-14\" : \"2024-01-06\"]\n",
    "\n",
    "oct7plottingdf"
   ]
  },
  {
   "cell_type": "code",
   "execution_count": 11,
   "id": "6be564c7",
   "metadata": {},
   "outputs": [
    {
     "name": "stderr",
     "output_type": "stream",
     "text": [
      "/Users/anshulchiranth/anaconda3/lib/python3.11/site-packages/cufflinks/plotlytools.py:117: FutureWarning:\n",
      "\n",
      "DatetimeIndex.format is deprecated and will be removed in a future version. Convert using index.astype(str) or index.map(formatter) instead.\n",
      "\n"
     ]
    },
    {
     "data": {
      "application/vnd.plotly.v1+json": {
       "config": {
        "linkText": "Export to plot.ly",
        "plotlyServerURL": "https://plot.ly",
        "showLink": true
       },
       "data": [
        {
         "line": {
          "color": "rgba(255, 153, 51, 1.0)",
          "dash": "solid",
          "shape": "linear",
          "width": 1.3
         },
         "mode": "lines",
         "name": "TimeGPT Forecast",
         "text": "",
         "type": "scatter",
         "x": [
          "2022-02-05",
          "2022-02-12",
          "2022-02-19",
          "2022-02-26",
          "2022-03-05",
          "2022-03-12",
          "2022-03-19",
          "2022-03-26",
          "2022-04-02",
          "2022-04-09",
          "2022-04-16",
          "2022-04-23",
          "2022-04-30",
          "2022-05-07",
          "2022-05-14",
          "2022-05-21",
          "2022-05-28",
          "2022-06-04",
          "2022-06-11",
          "2022-06-18",
          "2022-06-25",
          "2022-07-02",
          "2022-07-09",
          "2022-07-16",
          "2022-07-23",
          "2022-07-30",
          "2022-08-06",
          "2022-08-13",
          "2022-08-20",
          "2022-08-27",
          "2022-09-03",
          "2022-09-10",
          "2022-09-17",
          "2022-09-24",
          "2022-10-01",
          "2022-10-08",
          "2022-10-15",
          "2022-10-22",
          "2022-10-29",
          "2022-11-05",
          "2022-11-12",
          "2022-11-19",
          "2022-11-26",
          "2022-12-03",
          "2022-12-10",
          "2022-12-17",
          "2022-12-24",
          "2022-12-31",
          "2023-01-07",
          "2023-01-14",
          "2023-01-21",
          "2023-01-28",
          "2023-02-04",
          "2023-02-11",
          "2023-02-18",
          "2023-02-25",
          "2023-03-04",
          "2023-03-11",
          "2023-03-18",
          "2023-03-25",
          "2023-04-01",
          "2023-04-08",
          "2023-04-15",
          "2023-04-22",
          "2023-04-29",
          "2023-05-06",
          "2023-05-13",
          "2023-05-20",
          "2023-05-27",
          "2023-06-03",
          "2023-06-10",
          "2023-06-17",
          "2023-06-24",
          "2023-07-01",
          "2023-07-08",
          "2023-07-15",
          "2023-07-22",
          "2023-07-29",
          "2023-08-05",
          "2023-08-12",
          "2023-08-19",
          "2023-08-26",
          "2023-09-02",
          "2023-09-09",
          "2023-09-16",
          "2023-09-23",
          "2023-09-30",
          "2023-10-07",
          "2023-10-14",
          "2023-10-21",
          "2023-10-28",
          "2023-11-04",
          "2023-11-11",
          "2023-11-18",
          "2023-11-25",
          "2023-12-02",
          "2023-12-09",
          "2023-12-16",
          "2023-12-23",
          "2023-12-30",
          "2024-01-06"
         ],
         "y": [
          "",
          "",
          "",
          "",
          "",
          "",
          "",
          "",
          "",
          "",
          "",
          "",
          "",
          "",
          "",
          "",
          "",
          "",
          "",
          "",
          "",
          "",
          "",
          "",
          "",
          "",
          "",
          "",
          "",
          "",
          "",
          "",
          "",
          "",
          "",
          "",
          "",
          "",
          "",
          "",
          "",
          "",
          "",
          "",
          "",
          "",
          "",
          "",
          "",
          "",
          "",
          "",
          "",
          "",
          "",
          "",
          "",
          "",
          "",
          "",
          "",
          "",
          "",
          "",
          "",
          "",
          "",
          "",
          "",
          "",
          "",
          "",
          "",
          "",
          "",
          "",
          "",
          "",
          "",
          "",
          "",
          "",
          "",
          "",
          "",
          "",
          "",
          "",
          2023.2181,
          2931.3308,
          3928.8748,
          5790.498,
          7776.1807,
          10467.896,
          13415.233,
          16952.877,
          21020.453,
          19229.861,
          16906.191,
          15053.542,
          11289.362
         ]
        },
        {
         "line": {
          "color": "rgba(55, 128, 191, 1.0)",
          "dash": "solid",
          "shape": "linear",
          "width": 1.3
         },
         "mode": "lines",
         "name": "Training Data",
         "text": "",
         "type": "scatter",
         "x": [
          "2022-02-05",
          "2022-02-12",
          "2022-02-19",
          "2022-02-26",
          "2022-03-05",
          "2022-03-12",
          "2022-03-19",
          "2022-03-26",
          "2022-04-02",
          "2022-04-09",
          "2022-04-16",
          "2022-04-23",
          "2022-04-30",
          "2022-05-07",
          "2022-05-14",
          "2022-05-21",
          "2022-05-28",
          "2022-06-04",
          "2022-06-11",
          "2022-06-18",
          "2022-06-25",
          "2022-07-02",
          "2022-07-09",
          "2022-07-16",
          "2022-07-23",
          "2022-07-30",
          "2022-08-06",
          "2022-08-13",
          "2022-08-20",
          "2022-08-27",
          "2022-09-03",
          "2022-09-10",
          "2022-09-17",
          "2022-09-24",
          "2022-10-01",
          "2022-10-08",
          "2022-10-15",
          "2022-10-22",
          "2022-10-29",
          "2022-11-05",
          "2022-11-12",
          "2022-11-19",
          "2022-11-26",
          "2022-12-03",
          "2022-12-10",
          "2022-12-17",
          "2022-12-24",
          "2022-12-31",
          "2023-01-07",
          "2023-01-14",
          "2023-01-21",
          "2023-01-28",
          "2023-02-04",
          "2023-02-11",
          "2023-02-18",
          "2023-02-25",
          "2023-03-04",
          "2023-03-11",
          "2023-03-18",
          "2023-03-25",
          "2023-04-01",
          "2023-04-08",
          "2023-04-15",
          "2023-04-22",
          "2023-04-29",
          "2023-05-06",
          "2023-05-13",
          "2023-05-20",
          "2023-05-27",
          "2023-06-03",
          "2023-06-10",
          "2023-06-17",
          "2023-06-24",
          "2023-07-01",
          "2023-07-08",
          "2023-07-15",
          "2023-07-22",
          "2023-07-29",
          "2023-08-05",
          "2023-08-12",
          "2023-08-19",
          "2023-08-26",
          "2023-09-02",
          "2023-09-09",
          "2023-09-16",
          "2023-09-23",
          "2023-09-30",
          "2023-10-07",
          "2023-10-14",
          "2023-10-21",
          "2023-10-28",
          "2023-11-04",
          "2023-11-11",
          "2023-11-18",
          "2023-11-25",
          "2023-12-02",
          "2023-12-09",
          "2023-12-16",
          "2023-12-23",
          "2023-12-30",
          "2024-01-06"
         ],
         "y": [
          1095,
          1164,
          1493,
          1603,
          1791,
          2097,
          2626,
          2919,
          3008,
          3149,
          3308,
          3474,
          3182,
          3175,
          3119,
          3134,
          2738,
          2678,
          2210,
          1776,
          1366,
          1073,
          776,
          766,
          628,
          522,
          486,
          490,
          483,
          483,
          545,
          576,
          665,
          796,
          921,
          1316,
          1674,
          2292,
          4184,
          6409,
          8595,
          10974,
          18185,
          26853,
          24039,
          21615,
          19634,
          19482,
          14078,
          7191,
          4492,
          3092,
          2597,
          2177,
          1908,
          1649,
          1504,
          1372,
          1415,
          1331,
          1295,
          1199,
          1077,
          982,
          903,
          994,
          980,
          1116,
          974,
          939,
          935,
          873,
          813,
          836,
          699,
          736,
          645,
          772,
          690,
          706,
          738,
          793,
          875,
          804,
          821,
          884,
          1026,
          1110,
          "",
          "",
          "",
          "",
          "",
          "",
          "",
          "",
          "",
          "",
          "",
          "",
          ""
         ]
        },
        {
         "line": {
          "color": "rgba(50, 171, 96, 1.0)",
          "dash": "solid",
          "shape": "linear",
          "width": 1.3
         },
         "mode": "lines",
         "name": "Real Data",
         "text": "",
         "type": "scatter",
         "x": [
          "2022-02-05",
          "2022-02-12",
          "2022-02-19",
          "2022-02-26",
          "2022-03-05",
          "2022-03-12",
          "2022-03-19",
          "2022-03-26",
          "2022-04-02",
          "2022-04-09",
          "2022-04-16",
          "2022-04-23",
          "2022-04-30",
          "2022-05-07",
          "2022-05-14",
          "2022-05-21",
          "2022-05-28",
          "2022-06-04",
          "2022-06-11",
          "2022-06-18",
          "2022-06-25",
          "2022-07-02",
          "2022-07-09",
          "2022-07-16",
          "2022-07-23",
          "2022-07-30",
          "2022-08-06",
          "2022-08-13",
          "2022-08-20",
          "2022-08-27",
          "2022-09-03",
          "2022-09-10",
          "2022-09-17",
          "2022-09-24",
          "2022-10-01",
          "2022-10-08",
          "2022-10-15",
          "2022-10-22",
          "2022-10-29",
          "2022-11-05",
          "2022-11-12",
          "2022-11-19",
          "2022-11-26",
          "2022-12-03",
          "2022-12-10",
          "2022-12-17",
          "2022-12-24",
          "2022-12-31",
          "2023-01-07",
          "2023-01-14",
          "2023-01-21",
          "2023-01-28",
          "2023-02-04",
          "2023-02-11",
          "2023-02-18",
          "2023-02-25",
          "2023-03-04",
          "2023-03-11",
          "2023-03-18",
          "2023-03-25",
          "2023-04-01",
          "2023-04-08",
          "2023-04-15",
          "2023-04-22",
          "2023-04-29",
          "2023-05-06",
          "2023-05-13",
          "2023-05-20",
          "2023-05-27",
          "2023-06-03",
          "2023-06-10",
          "2023-06-17",
          "2023-06-24",
          "2023-07-01",
          "2023-07-08",
          "2023-07-15",
          "2023-07-22",
          "2023-07-29",
          "2023-08-05",
          "2023-08-12",
          "2023-08-19",
          "2023-08-26",
          "2023-09-02",
          "2023-09-09",
          "2023-09-16",
          "2023-09-23",
          "2023-09-30",
          "2023-10-07",
          "2023-10-14",
          "2023-10-21",
          "2023-10-28",
          "2023-11-04",
          "2023-11-11",
          "2023-11-18",
          "2023-11-25",
          "2023-12-02",
          "2023-12-09",
          "2023-12-16",
          "2023-12-23",
          "2023-12-30",
          "2024-01-06"
         ],
         "y": [
          "",
          "",
          "",
          "",
          "",
          "",
          "",
          "",
          "",
          "",
          "",
          "",
          "",
          "",
          "",
          "",
          "",
          "",
          "",
          "",
          "",
          "",
          "",
          "",
          "",
          "",
          "",
          "",
          "",
          "",
          "",
          "",
          "",
          "",
          "",
          "",
          "",
          "",
          "",
          "",
          "",
          "",
          "",
          "",
          "",
          "",
          "",
          "",
          "",
          "",
          "",
          "",
          "",
          "",
          "",
          "",
          "",
          "",
          "",
          "",
          "",
          "",
          "",
          "",
          "",
          "",
          "",
          "",
          "",
          "",
          "",
          "",
          "",
          "",
          "",
          "",
          "",
          "",
          "",
          "",
          "",
          "",
          "",
          "",
          "",
          "",
          "",
          "",
          1215,
          1470,
          1614,
          2014,
          2776,
          3492,
          4387,
          5962,
          7510,
          10289,
          15727,
          21685,
          19550
         ]
        }
       ],
       "layout": {
        "legend": {
         "bgcolor": "#F5F6F9",
         "font": {
          "color": "#4D5663"
         }
        },
        "paper_bgcolor": "#F5F6F9",
        "plot_bgcolor": "#F5F6F9",
        "template": {
         "data": {
          "bar": [
           {
            "error_x": {
             "color": "#2a3f5f"
            },
            "error_y": {
             "color": "#2a3f5f"
            },
            "marker": {
             "line": {
              "color": "#E5ECF6",
              "width": 0.5
             },
             "pattern": {
              "fillmode": "overlay",
              "size": 10,
              "solidity": 0.2
             }
            },
            "type": "bar"
           }
          ],
          "barpolar": [
           {
            "marker": {
             "line": {
              "color": "#E5ECF6",
              "width": 0.5
             },
             "pattern": {
              "fillmode": "overlay",
              "size": 10,
              "solidity": 0.2
             }
            },
            "type": "barpolar"
           }
          ],
          "carpet": [
           {
            "aaxis": {
             "endlinecolor": "#2a3f5f",
             "gridcolor": "white",
             "linecolor": "white",
             "minorgridcolor": "white",
             "startlinecolor": "#2a3f5f"
            },
            "baxis": {
             "endlinecolor": "#2a3f5f",
             "gridcolor": "white",
             "linecolor": "white",
             "minorgridcolor": "white",
             "startlinecolor": "#2a3f5f"
            },
            "type": "carpet"
           }
          ],
          "choropleth": [
           {
            "colorbar": {
             "outlinewidth": 0,
             "ticks": ""
            },
            "type": "choropleth"
           }
          ],
          "contour": [
           {
            "colorbar": {
             "outlinewidth": 0,
             "ticks": ""
            },
            "colorscale": [
             [
              0,
              "#0d0887"
             ],
             [
              0.1111111111111111,
              "#46039f"
             ],
             [
              0.2222222222222222,
              "#7201a8"
             ],
             [
              0.3333333333333333,
              "#9c179e"
             ],
             [
              0.4444444444444444,
              "#bd3786"
             ],
             [
              0.5555555555555556,
              "#d8576b"
             ],
             [
              0.6666666666666666,
              "#ed7953"
             ],
             [
              0.7777777777777778,
              "#fb9f3a"
             ],
             [
              0.8888888888888888,
              "#fdca26"
             ],
             [
              1,
              "#f0f921"
             ]
            ],
            "type": "contour"
           }
          ],
          "contourcarpet": [
           {
            "colorbar": {
             "outlinewidth": 0,
             "ticks": ""
            },
            "type": "contourcarpet"
           }
          ],
          "heatmap": [
           {
            "colorbar": {
             "outlinewidth": 0,
             "ticks": ""
            },
            "colorscale": [
             [
              0,
              "#0d0887"
             ],
             [
              0.1111111111111111,
              "#46039f"
             ],
             [
              0.2222222222222222,
              "#7201a8"
             ],
             [
              0.3333333333333333,
              "#9c179e"
             ],
             [
              0.4444444444444444,
              "#bd3786"
             ],
             [
              0.5555555555555556,
              "#d8576b"
             ],
             [
              0.6666666666666666,
              "#ed7953"
             ],
             [
              0.7777777777777778,
              "#fb9f3a"
             ],
             [
              0.8888888888888888,
              "#fdca26"
             ],
             [
              1,
              "#f0f921"
             ]
            ],
            "type": "heatmap"
           }
          ],
          "heatmapgl": [
           {
            "colorbar": {
             "outlinewidth": 0,
             "ticks": ""
            },
            "colorscale": [
             [
              0,
              "#0d0887"
             ],
             [
              0.1111111111111111,
              "#46039f"
             ],
             [
              0.2222222222222222,
              "#7201a8"
             ],
             [
              0.3333333333333333,
              "#9c179e"
             ],
             [
              0.4444444444444444,
              "#bd3786"
             ],
             [
              0.5555555555555556,
              "#d8576b"
             ],
             [
              0.6666666666666666,
              "#ed7953"
             ],
             [
              0.7777777777777778,
              "#fb9f3a"
             ],
             [
              0.8888888888888888,
              "#fdca26"
             ],
             [
              1,
              "#f0f921"
             ]
            ],
            "type": "heatmapgl"
           }
          ],
          "histogram": [
           {
            "marker": {
             "pattern": {
              "fillmode": "overlay",
              "size": 10,
              "solidity": 0.2
             }
            },
            "type": "histogram"
           }
          ],
          "histogram2d": [
           {
            "colorbar": {
             "outlinewidth": 0,
             "ticks": ""
            },
            "colorscale": [
             [
              0,
              "#0d0887"
             ],
             [
              0.1111111111111111,
              "#46039f"
             ],
             [
              0.2222222222222222,
              "#7201a8"
             ],
             [
              0.3333333333333333,
              "#9c179e"
             ],
             [
              0.4444444444444444,
              "#bd3786"
             ],
             [
              0.5555555555555556,
              "#d8576b"
             ],
             [
              0.6666666666666666,
              "#ed7953"
             ],
             [
              0.7777777777777778,
              "#fb9f3a"
             ],
             [
              0.8888888888888888,
              "#fdca26"
             ],
             [
              1,
              "#f0f921"
             ]
            ],
            "type": "histogram2d"
           }
          ],
          "histogram2dcontour": [
           {
            "colorbar": {
             "outlinewidth": 0,
             "ticks": ""
            },
            "colorscale": [
             [
              0,
              "#0d0887"
             ],
             [
              0.1111111111111111,
              "#46039f"
             ],
             [
              0.2222222222222222,
              "#7201a8"
             ],
             [
              0.3333333333333333,
              "#9c179e"
             ],
             [
              0.4444444444444444,
              "#bd3786"
             ],
             [
              0.5555555555555556,
              "#d8576b"
             ],
             [
              0.6666666666666666,
              "#ed7953"
             ],
             [
              0.7777777777777778,
              "#fb9f3a"
             ],
             [
              0.8888888888888888,
              "#fdca26"
             ],
             [
              1,
              "#f0f921"
             ]
            ],
            "type": "histogram2dcontour"
           }
          ],
          "mesh3d": [
           {
            "colorbar": {
             "outlinewidth": 0,
             "ticks": ""
            },
            "type": "mesh3d"
           }
          ],
          "parcoords": [
           {
            "line": {
             "colorbar": {
              "outlinewidth": 0,
              "ticks": ""
             }
            },
            "type": "parcoords"
           }
          ],
          "pie": [
           {
            "automargin": true,
            "type": "pie"
           }
          ],
          "scatter": [
           {
            "fillpattern": {
             "fillmode": "overlay",
             "size": 10,
             "solidity": 0.2
            },
            "type": "scatter"
           }
          ],
          "scatter3d": [
           {
            "line": {
             "colorbar": {
              "outlinewidth": 0,
              "ticks": ""
             }
            },
            "marker": {
             "colorbar": {
              "outlinewidth": 0,
              "ticks": ""
             }
            },
            "type": "scatter3d"
           }
          ],
          "scattercarpet": [
           {
            "marker": {
             "colorbar": {
              "outlinewidth": 0,
              "ticks": ""
             }
            },
            "type": "scattercarpet"
           }
          ],
          "scattergeo": [
           {
            "marker": {
             "colorbar": {
              "outlinewidth": 0,
              "ticks": ""
             }
            },
            "type": "scattergeo"
           }
          ],
          "scattergl": [
           {
            "marker": {
             "colorbar": {
              "outlinewidth": 0,
              "ticks": ""
             }
            },
            "type": "scattergl"
           }
          ],
          "scattermapbox": [
           {
            "marker": {
             "colorbar": {
              "outlinewidth": 0,
              "ticks": ""
             }
            },
            "type": "scattermapbox"
           }
          ],
          "scatterpolar": [
           {
            "marker": {
             "colorbar": {
              "outlinewidth": 0,
              "ticks": ""
             }
            },
            "type": "scatterpolar"
           }
          ],
          "scatterpolargl": [
           {
            "marker": {
             "colorbar": {
              "outlinewidth": 0,
              "ticks": ""
             }
            },
            "type": "scatterpolargl"
           }
          ],
          "scatterternary": [
           {
            "marker": {
             "colorbar": {
              "outlinewidth": 0,
              "ticks": ""
             }
            },
            "type": "scatterternary"
           }
          ],
          "surface": [
           {
            "colorbar": {
             "outlinewidth": 0,
             "ticks": ""
            },
            "colorscale": [
             [
              0,
              "#0d0887"
             ],
             [
              0.1111111111111111,
              "#46039f"
             ],
             [
              0.2222222222222222,
              "#7201a8"
             ],
             [
              0.3333333333333333,
              "#9c179e"
             ],
             [
              0.4444444444444444,
              "#bd3786"
             ],
             [
              0.5555555555555556,
              "#d8576b"
             ],
             [
              0.6666666666666666,
              "#ed7953"
             ],
             [
              0.7777777777777778,
              "#fb9f3a"
             ],
             [
              0.8888888888888888,
              "#fdca26"
             ],
             [
              1,
              "#f0f921"
             ]
            ],
            "type": "surface"
           }
          ],
          "table": [
           {
            "cells": {
             "fill": {
              "color": "#EBF0F8"
             },
             "line": {
              "color": "white"
             }
            },
            "header": {
             "fill": {
              "color": "#C8D4E3"
             },
             "line": {
              "color": "white"
             }
            },
            "type": "table"
           }
          ]
         },
         "layout": {
          "annotationdefaults": {
           "arrowcolor": "#2a3f5f",
           "arrowhead": 0,
           "arrowwidth": 1
          },
          "autotypenumbers": "strict",
          "coloraxis": {
           "colorbar": {
            "outlinewidth": 0,
            "ticks": ""
           }
          },
          "colorscale": {
           "diverging": [
            [
             0,
             "#8e0152"
            ],
            [
             0.1,
             "#c51b7d"
            ],
            [
             0.2,
             "#de77ae"
            ],
            [
             0.3,
             "#f1b6da"
            ],
            [
             0.4,
             "#fde0ef"
            ],
            [
             0.5,
             "#f7f7f7"
            ],
            [
             0.6,
             "#e6f5d0"
            ],
            [
             0.7,
             "#b8e186"
            ],
            [
             0.8,
             "#7fbc41"
            ],
            [
             0.9,
             "#4d9221"
            ],
            [
             1,
             "#276419"
            ]
           ],
           "sequential": [
            [
             0,
             "#0d0887"
            ],
            [
             0.1111111111111111,
             "#46039f"
            ],
            [
             0.2222222222222222,
             "#7201a8"
            ],
            [
             0.3333333333333333,
             "#9c179e"
            ],
            [
             0.4444444444444444,
             "#bd3786"
            ],
            [
             0.5555555555555556,
             "#d8576b"
            ],
            [
             0.6666666666666666,
             "#ed7953"
            ],
            [
             0.7777777777777778,
             "#fb9f3a"
            ],
            [
             0.8888888888888888,
             "#fdca26"
            ],
            [
             1,
             "#f0f921"
            ]
           ],
           "sequentialminus": [
            [
             0,
             "#0d0887"
            ],
            [
             0.1111111111111111,
             "#46039f"
            ],
            [
             0.2222222222222222,
             "#7201a8"
            ],
            [
             0.3333333333333333,
             "#9c179e"
            ],
            [
             0.4444444444444444,
             "#bd3786"
            ],
            [
             0.5555555555555556,
             "#d8576b"
            ],
            [
             0.6666666666666666,
             "#ed7953"
            ],
            [
             0.7777777777777778,
             "#fb9f3a"
            ],
            [
             0.8888888888888888,
             "#fdca26"
            ],
            [
             1,
             "#f0f921"
            ]
           ]
          },
          "colorway": [
           "#636efa",
           "#EF553B",
           "#00cc96",
           "#ab63fa",
           "#FFA15A",
           "#19d3f3",
           "#FF6692",
           "#B6E880",
           "#FF97FF",
           "#FECB52"
          ],
          "font": {
           "color": "#2a3f5f"
          },
          "geo": {
           "bgcolor": "white",
           "lakecolor": "white",
           "landcolor": "#E5ECF6",
           "showlakes": true,
           "showland": true,
           "subunitcolor": "white"
          },
          "hoverlabel": {
           "align": "left"
          },
          "hovermode": "closest",
          "mapbox": {
           "style": "light"
          },
          "paper_bgcolor": "white",
          "plot_bgcolor": "#E5ECF6",
          "polar": {
           "angularaxis": {
            "gridcolor": "white",
            "linecolor": "white",
            "ticks": ""
           },
           "bgcolor": "#E5ECF6",
           "radialaxis": {
            "gridcolor": "white",
            "linecolor": "white",
            "ticks": ""
           }
          },
          "scene": {
           "xaxis": {
            "backgroundcolor": "#E5ECF6",
            "gridcolor": "white",
            "gridwidth": 2,
            "linecolor": "white",
            "showbackground": true,
            "ticks": "",
            "zerolinecolor": "white"
           },
           "yaxis": {
            "backgroundcolor": "#E5ECF6",
            "gridcolor": "white",
            "gridwidth": 2,
            "linecolor": "white",
            "showbackground": true,
            "ticks": "",
            "zerolinecolor": "white"
           },
           "zaxis": {
            "backgroundcolor": "#E5ECF6",
            "gridcolor": "white",
            "gridwidth": 2,
            "linecolor": "white",
            "showbackground": true,
            "ticks": "",
            "zerolinecolor": "white"
           }
          },
          "shapedefaults": {
           "line": {
            "color": "#2a3f5f"
           }
          },
          "ternary": {
           "aaxis": {
            "gridcolor": "white",
            "linecolor": "white",
            "ticks": ""
           },
           "baxis": {
            "gridcolor": "white",
            "linecolor": "white",
            "ticks": ""
           },
           "bgcolor": "#E5ECF6",
           "caxis": {
            "gridcolor": "white",
            "linecolor": "white",
            "ticks": ""
           }
          },
          "title": {
           "x": 0.05
          },
          "xaxis": {
           "automargin": true,
           "gridcolor": "white",
           "linecolor": "white",
           "ticks": "",
           "title": {
            "standoff": 15
           },
           "zerolinecolor": "white",
           "zerolinewidth": 2
          },
          "yaxis": {
           "automargin": true,
           "gridcolor": "white",
           "linecolor": "white",
           "ticks": "",
           "title": {
            "standoff": 15
           },
           "zerolinecolor": "white",
           "zerolinewidth": 2
          }
         }
        },
        "title": {
         "font": {
          "color": "#4D5663"
         },
         "text": "TimeGPT Prediction Given Oct. 7 As Final Point"
        },
        "xaxis": {
         "gridcolor": "#E1E5ED",
         "showgrid": true,
         "tickfont": {
          "color": "#4D5663"
         },
         "title": {
          "font": {
           "color": "#4D5663"
          },
          "text": "Date"
         },
         "zerolinecolor": "#E1E5ED"
        },
        "yaxis": {
         "gridcolor": "#E1E5ED",
         "showgrid": true,
         "tickfont": {
          "color": "#4D5663"
         },
         "title": {
          "font": {
           "color": "#4D5663"
          },
          "text": "Count"
         },
         "zerolinecolor": "#E1E5ED"
        }
       }
      },
      "text/html": [
       "<div>                            <div id=\"3b4507bc-dd11-4a21-8ebb-e7bf93b593bb\" class=\"plotly-graph-div\" style=\"height:525px; width:100%;\"></div>            <script type=\"text/javascript\">                require([\"plotly\"], function(Plotly) {                    window.PLOTLYENV=window.PLOTLYENV || {};\n",
       "                    window.PLOTLYENV.BASE_URL='https://plot.ly';                                    if (document.getElementById(\"3b4507bc-dd11-4a21-8ebb-e7bf93b593bb\")) {                    Plotly.newPlot(                        \"3b4507bc-dd11-4a21-8ebb-e7bf93b593bb\",                        [{\"line\":{\"color\":\"rgba(255, 153, 51, 1.0)\",\"dash\":\"solid\",\"shape\":\"linear\",\"width\":1.3},\"mode\":\"lines\",\"name\":\"TimeGPT Forecast\",\"text\":\"\",\"x\":[\"2022-02-05\",\"2022-02-12\",\"2022-02-19\",\"2022-02-26\",\"2022-03-05\",\"2022-03-12\",\"2022-03-19\",\"2022-03-26\",\"2022-04-02\",\"2022-04-09\",\"2022-04-16\",\"2022-04-23\",\"2022-04-30\",\"2022-05-07\",\"2022-05-14\",\"2022-05-21\",\"2022-05-28\",\"2022-06-04\",\"2022-06-11\",\"2022-06-18\",\"2022-06-25\",\"2022-07-02\",\"2022-07-09\",\"2022-07-16\",\"2022-07-23\",\"2022-07-30\",\"2022-08-06\",\"2022-08-13\",\"2022-08-20\",\"2022-08-27\",\"2022-09-03\",\"2022-09-10\",\"2022-09-17\",\"2022-09-24\",\"2022-10-01\",\"2022-10-08\",\"2022-10-15\",\"2022-10-22\",\"2022-10-29\",\"2022-11-05\",\"2022-11-12\",\"2022-11-19\",\"2022-11-26\",\"2022-12-03\",\"2022-12-10\",\"2022-12-17\",\"2022-12-24\",\"2022-12-31\",\"2023-01-07\",\"2023-01-14\",\"2023-01-21\",\"2023-01-28\",\"2023-02-04\",\"2023-02-11\",\"2023-02-18\",\"2023-02-25\",\"2023-03-04\",\"2023-03-11\",\"2023-03-18\",\"2023-03-25\",\"2023-04-01\",\"2023-04-08\",\"2023-04-15\",\"2023-04-22\",\"2023-04-29\",\"2023-05-06\",\"2023-05-13\",\"2023-05-20\",\"2023-05-27\",\"2023-06-03\",\"2023-06-10\",\"2023-06-17\",\"2023-06-24\",\"2023-07-01\",\"2023-07-08\",\"2023-07-15\",\"2023-07-22\",\"2023-07-29\",\"2023-08-05\",\"2023-08-12\",\"2023-08-19\",\"2023-08-26\",\"2023-09-02\",\"2023-09-09\",\"2023-09-16\",\"2023-09-23\",\"2023-09-30\",\"2023-10-07\",\"2023-10-14\",\"2023-10-21\",\"2023-10-28\",\"2023-11-04\",\"2023-11-11\",\"2023-11-18\",\"2023-11-25\",\"2023-12-02\",\"2023-12-09\",\"2023-12-16\",\"2023-12-23\",\"2023-12-30\",\"2024-01-06\"],\"y\":[\"\",\"\",\"\",\"\",\"\",\"\",\"\",\"\",\"\",\"\",\"\",\"\",\"\",\"\",\"\",\"\",\"\",\"\",\"\",\"\",\"\",\"\",\"\",\"\",\"\",\"\",\"\",\"\",\"\",\"\",\"\",\"\",\"\",\"\",\"\",\"\",\"\",\"\",\"\",\"\",\"\",\"\",\"\",\"\",\"\",\"\",\"\",\"\",\"\",\"\",\"\",\"\",\"\",\"\",\"\",\"\",\"\",\"\",\"\",\"\",\"\",\"\",\"\",\"\",\"\",\"\",\"\",\"\",\"\",\"\",\"\",\"\",\"\",\"\",\"\",\"\",\"\",\"\",\"\",\"\",\"\",\"\",\"\",\"\",\"\",\"\",\"\",\"\",2023.2181,2931.3308,3928.8748,5790.498,7776.1807,10467.896,13415.233,16952.877,21020.453,19229.861,16906.191,15053.542,11289.362],\"type\":\"scatter\"},{\"line\":{\"color\":\"rgba(55, 128, 191, 1.0)\",\"dash\":\"solid\",\"shape\":\"linear\",\"width\":1.3},\"mode\":\"lines\",\"name\":\"Training Data\",\"text\":\"\",\"x\":[\"2022-02-05\",\"2022-02-12\",\"2022-02-19\",\"2022-02-26\",\"2022-03-05\",\"2022-03-12\",\"2022-03-19\",\"2022-03-26\",\"2022-04-02\",\"2022-04-09\",\"2022-04-16\",\"2022-04-23\",\"2022-04-30\",\"2022-05-07\",\"2022-05-14\",\"2022-05-21\",\"2022-05-28\",\"2022-06-04\",\"2022-06-11\",\"2022-06-18\",\"2022-06-25\",\"2022-07-02\",\"2022-07-09\",\"2022-07-16\",\"2022-07-23\",\"2022-07-30\",\"2022-08-06\",\"2022-08-13\",\"2022-08-20\",\"2022-08-27\",\"2022-09-03\",\"2022-09-10\",\"2022-09-17\",\"2022-09-24\",\"2022-10-01\",\"2022-10-08\",\"2022-10-15\",\"2022-10-22\",\"2022-10-29\",\"2022-11-05\",\"2022-11-12\",\"2022-11-19\",\"2022-11-26\",\"2022-12-03\",\"2022-12-10\",\"2022-12-17\",\"2022-12-24\",\"2022-12-31\",\"2023-01-07\",\"2023-01-14\",\"2023-01-21\",\"2023-01-28\",\"2023-02-04\",\"2023-02-11\",\"2023-02-18\",\"2023-02-25\",\"2023-03-04\",\"2023-03-11\",\"2023-03-18\",\"2023-03-25\",\"2023-04-01\",\"2023-04-08\",\"2023-04-15\",\"2023-04-22\",\"2023-04-29\",\"2023-05-06\",\"2023-05-13\",\"2023-05-20\",\"2023-05-27\",\"2023-06-03\",\"2023-06-10\",\"2023-06-17\",\"2023-06-24\",\"2023-07-01\",\"2023-07-08\",\"2023-07-15\",\"2023-07-22\",\"2023-07-29\",\"2023-08-05\",\"2023-08-12\",\"2023-08-19\",\"2023-08-26\",\"2023-09-02\",\"2023-09-09\",\"2023-09-16\",\"2023-09-23\",\"2023-09-30\",\"2023-10-07\",\"2023-10-14\",\"2023-10-21\",\"2023-10-28\",\"2023-11-04\",\"2023-11-11\",\"2023-11-18\",\"2023-11-25\",\"2023-12-02\",\"2023-12-09\",\"2023-12-16\",\"2023-12-23\",\"2023-12-30\",\"2024-01-06\"],\"y\":[1095.0,1164.0,1493.0,1603.0,1791.0,2097.0,2626.0,2919.0,3008.0,3149.0,3308.0,3474.0,3182.0,3175.0,3119.0,3134.0,2738.0,2678.0,2210.0,1776.0,1366.0,1073.0,776.0,766.0,628.0,522.0,486.0,490.0,483.0,483.0,545.0,576.0,665.0,796.0,921.0,1316.0,1674.0,2292.0,4184.0,6409.0,8595.0,10974.0,18185.0,26853.0,24039.0,21615.0,19634.0,19482.0,14078.0,7191.0,4492.0,3092.0,2597.0,2177.0,1908.0,1649.0,1504.0,1372.0,1415.0,1331.0,1295.0,1199.0,1077.0,982.0,903.0,994.0,980.0,1116.0,974.0,939.0,935.0,873.0,813.0,836.0,699.0,736.0,645.0,772.0,690.0,706.0,738.0,793.0,875.0,804.0,821.0,884.0,1026.0,1110.0,\"\",\"\",\"\",\"\",\"\",\"\",\"\",\"\",\"\",\"\",\"\",\"\",\"\"],\"type\":\"scatter\"},{\"line\":{\"color\":\"rgba(50, 171, 96, 1.0)\",\"dash\":\"solid\",\"shape\":\"linear\",\"width\":1.3},\"mode\":\"lines\",\"name\":\"Real Data\",\"text\":\"\",\"x\":[\"2022-02-05\",\"2022-02-12\",\"2022-02-19\",\"2022-02-26\",\"2022-03-05\",\"2022-03-12\",\"2022-03-19\",\"2022-03-26\",\"2022-04-02\",\"2022-04-09\",\"2022-04-16\",\"2022-04-23\",\"2022-04-30\",\"2022-05-07\",\"2022-05-14\",\"2022-05-21\",\"2022-05-28\",\"2022-06-04\",\"2022-06-11\",\"2022-06-18\",\"2022-06-25\",\"2022-07-02\",\"2022-07-09\",\"2022-07-16\",\"2022-07-23\",\"2022-07-30\",\"2022-08-06\",\"2022-08-13\",\"2022-08-20\",\"2022-08-27\",\"2022-09-03\",\"2022-09-10\",\"2022-09-17\",\"2022-09-24\",\"2022-10-01\",\"2022-10-08\",\"2022-10-15\",\"2022-10-22\",\"2022-10-29\",\"2022-11-05\",\"2022-11-12\",\"2022-11-19\",\"2022-11-26\",\"2022-12-03\",\"2022-12-10\",\"2022-12-17\",\"2022-12-24\",\"2022-12-31\",\"2023-01-07\",\"2023-01-14\",\"2023-01-21\",\"2023-01-28\",\"2023-02-04\",\"2023-02-11\",\"2023-02-18\",\"2023-02-25\",\"2023-03-04\",\"2023-03-11\",\"2023-03-18\",\"2023-03-25\",\"2023-04-01\",\"2023-04-08\",\"2023-04-15\",\"2023-04-22\",\"2023-04-29\",\"2023-05-06\",\"2023-05-13\",\"2023-05-20\",\"2023-05-27\",\"2023-06-03\",\"2023-06-10\",\"2023-06-17\",\"2023-06-24\",\"2023-07-01\",\"2023-07-08\",\"2023-07-15\",\"2023-07-22\",\"2023-07-29\",\"2023-08-05\",\"2023-08-12\",\"2023-08-19\",\"2023-08-26\",\"2023-09-02\",\"2023-09-09\",\"2023-09-16\",\"2023-09-23\",\"2023-09-30\",\"2023-10-07\",\"2023-10-14\",\"2023-10-21\",\"2023-10-28\",\"2023-11-04\",\"2023-11-11\",\"2023-11-18\",\"2023-11-25\",\"2023-12-02\",\"2023-12-09\",\"2023-12-16\",\"2023-12-23\",\"2023-12-30\",\"2024-01-06\"],\"y\":[\"\",\"\",\"\",\"\",\"\",\"\",\"\",\"\",\"\",\"\",\"\",\"\",\"\",\"\",\"\",\"\",\"\",\"\",\"\",\"\",\"\",\"\",\"\",\"\",\"\",\"\",\"\",\"\",\"\",\"\",\"\",\"\",\"\",\"\",\"\",\"\",\"\",\"\",\"\",\"\",\"\",\"\",\"\",\"\",\"\",\"\",\"\",\"\",\"\",\"\",\"\",\"\",\"\",\"\",\"\",\"\",\"\",\"\",\"\",\"\",\"\",\"\",\"\",\"\",\"\",\"\",\"\",\"\",\"\",\"\",\"\",\"\",\"\",\"\",\"\",\"\",\"\",\"\",\"\",\"\",\"\",\"\",\"\",\"\",\"\",\"\",\"\",\"\",1215.0,1470.0,1614.0,2014.0,2776.0,3492.0,4387.0,5962.0,7510.0,10289.0,15727.0,21685.0,19550.0],\"type\":\"scatter\"}],                        {\"legend\":{\"bgcolor\":\"#F5F6F9\",\"font\":{\"color\":\"#4D5663\"}},\"paper_bgcolor\":\"#F5F6F9\",\"plot_bgcolor\":\"#F5F6F9\",\"template\":{\"data\":{\"barpolar\":[{\"marker\":{\"line\":{\"color\":\"#E5ECF6\",\"width\":0.5},\"pattern\":{\"fillmode\":\"overlay\",\"size\":10,\"solidity\":0.2}},\"type\":\"barpolar\"}],\"bar\":[{\"error_x\":{\"color\":\"#2a3f5f\"},\"error_y\":{\"color\":\"#2a3f5f\"},\"marker\":{\"line\":{\"color\":\"#E5ECF6\",\"width\":0.5},\"pattern\":{\"fillmode\":\"overlay\",\"size\":10,\"solidity\":0.2}},\"type\":\"bar\"}],\"carpet\":[{\"aaxis\":{\"endlinecolor\":\"#2a3f5f\",\"gridcolor\":\"white\",\"linecolor\":\"white\",\"minorgridcolor\":\"white\",\"startlinecolor\":\"#2a3f5f\"},\"baxis\":{\"endlinecolor\":\"#2a3f5f\",\"gridcolor\":\"white\",\"linecolor\":\"white\",\"minorgridcolor\":\"white\",\"startlinecolor\":\"#2a3f5f\"},\"type\":\"carpet\"}],\"choropleth\":[{\"colorbar\":{\"outlinewidth\":0,\"ticks\":\"\"},\"type\":\"choropleth\"}],\"contourcarpet\":[{\"colorbar\":{\"outlinewidth\":0,\"ticks\":\"\"},\"type\":\"contourcarpet\"}],\"contour\":[{\"colorbar\":{\"outlinewidth\":0,\"ticks\":\"\"},\"colorscale\":[[0.0,\"#0d0887\"],[0.1111111111111111,\"#46039f\"],[0.2222222222222222,\"#7201a8\"],[0.3333333333333333,\"#9c179e\"],[0.4444444444444444,\"#bd3786\"],[0.5555555555555556,\"#d8576b\"],[0.6666666666666666,\"#ed7953\"],[0.7777777777777778,\"#fb9f3a\"],[0.8888888888888888,\"#fdca26\"],[1.0,\"#f0f921\"]],\"type\":\"contour\"}],\"heatmapgl\":[{\"colorbar\":{\"outlinewidth\":0,\"ticks\":\"\"},\"colorscale\":[[0.0,\"#0d0887\"],[0.1111111111111111,\"#46039f\"],[0.2222222222222222,\"#7201a8\"],[0.3333333333333333,\"#9c179e\"],[0.4444444444444444,\"#bd3786\"],[0.5555555555555556,\"#d8576b\"],[0.6666666666666666,\"#ed7953\"],[0.7777777777777778,\"#fb9f3a\"],[0.8888888888888888,\"#fdca26\"],[1.0,\"#f0f921\"]],\"type\":\"heatmapgl\"}],\"heatmap\":[{\"colorbar\":{\"outlinewidth\":0,\"ticks\":\"\"},\"colorscale\":[[0.0,\"#0d0887\"],[0.1111111111111111,\"#46039f\"],[0.2222222222222222,\"#7201a8\"],[0.3333333333333333,\"#9c179e\"],[0.4444444444444444,\"#bd3786\"],[0.5555555555555556,\"#d8576b\"],[0.6666666666666666,\"#ed7953\"],[0.7777777777777778,\"#fb9f3a\"],[0.8888888888888888,\"#fdca26\"],[1.0,\"#f0f921\"]],\"type\":\"heatmap\"}],\"histogram2dcontour\":[{\"colorbar\":{\"outlinewidth\":0,\"ticks\":\"\"},\"colorscale\":[[0.0,\"#0d0887\"],[0.1111111111111111,\"#46039f\"],[0.2222222222222222,\"#7201a8\"],[0.3333333333333333,\"#9c179e\"],[0.4444444444444444,\"#bd3786\"],[0.5555555555555556,\"#d8576b\"],[0.6666666666666666,\"#ed7953\"],[0.7777777777777778,\"#fb9f3a\"],[0.8888888888888888,\"#fdca26\"],[1.0,\"#f0f921\"]],\"type\":\"histogram2dcontour\"}],\"histogram2d\":[{\"colorbar\":{\"outlinewidth\":0,\"ticks\":\"\"},\"colorscale\":[[0.0,\"#0d0887\"],[0.1111111111111111,\"#46039f\"],[0.2222222222222222,\"#7201a8\"],[0.3333333333333333,\"#9c179e\"],[0.4444444444444444,\"#bd3786\"],[0.5555555555555556,\"#d8576b\"],[0.6666666666666666,\"#ed7953\"],[0.7777777777777778,\"#fb9f3a\"],[0.8888888888888888,\"#fdca26\"],[1.0,\"#f0f921\"]],\"type\":\"histogram2d\"}],\"histogram\":[{\"marker\":{\"pattern\":{\"fillmode\":\"overlay\",\"size\":10,\"solidity\":0.2}},\"type\":\"histogram\"}],\"mesh3d\":[{\"colorbar\":{\"outlinewidth\":0,\"ticks\":\"\"},\"type\":\"mesh3d\"}],\"parcoords\":[{\"line\":{\"colorbar\":{\"outlinewidth\":0,\"ticks\":\"\"}},\"type\":\"parcoords\"}],\"pie\":[{\"automargin\":true,\"type\":\"pie\"}],\"scatter3d\":[{\"line\":{\"colorbar\":{\"outlinewidth\":0,\"ticks\":\"\"}},\"marker\":{\"colorbar\":{\"outlinewidth\":0,\"ticks\":\"\"}},\"type\":\"scatter3d\"}],\"scattercarpet\":[{\"marker\":{\"colorbar\":{\"outlinewidth\":0,\"ticks\":\"\"}},\"type\":\"scattercarpet\"}],\"scattergeo\":[{\"marker\":{\"colorbar\":{\"outlinewidth\":0,\"ticks\":\"\"}},\"type\":\"scattergeo\"}],\"scattergl\":[{\"marker\":{\"colorbar\":{\"outlinewidth\":0,\"ticks\":\"\"}},\"type\":\"scattergl\"}],\"scattermapbox\":[{\"marker\":{\"colorbar\":{\"outlinewidth\":0,\"ticks\":\"\"}},\"type\":\"scattermapbox\"}],\"scatterpolargl\":[{\"marker\":{\"colorbar\":{\"outlinewidth\":0,\"ticks\":\"\"}},\"type\":\"scatterpolargl\"}],\"scatterpolar\":[{\"marker\":{\"colorbar\":{\"outlinewidth\":0,\"ticks\":\"\"}},\"type\":\"scatterpolar\"}],\"scatter\":[{\"fillpattern\":{\"fillmode\":\"overlay\",\"size\":10,\"solidity\":0.2},\"type\":\"scatter\"}],\"scatterternary\":[{\"marker\":{\"colorbar\":{\"outlinewidth\":0,\"ticks\":\"\"}},\"type\":\"scatterternary\"}],\"surface\":[{\"colorbar\":{\"outlinewidth\":0,\"ticks\":\"\"},\"colorscale\":[[0.0,\"#0d0887\"],[0.1111111111111111,\"#46039f\"],[0.2222222222222222,\"#7201a8\"],[0.3333333333333333,\"#9c179e\"],[0.4444444444444444,\"#bd3786\"],[0.5555555555555556,\"#d8576b\"],[0.6666666666666666,\"#ed7953\"],[0.7777777777777778,\"#fb9f3a\"],[0.8888888888888888,\"#fdca26\"],[1.0,\"#f0f921\"]],\"type\":\"surface\"}],\"table\":[{\"cells\":{\"fill\":{\"color\":\"#EBF0F8\"},\"line\":{\"color\":\"white\"}},\"header\":{\"fill\":{\"color\":\"#C8D4E3\"},\"line\":{\"color\":\"white\"}},\"type\":\"table\"}]},\"layout\":{\"annotationdefaults\":{\"arrowcolor\":\"#2a3f5f\",\"arrowhead\":0,\"arrowwidth\":1},\"autotypenumbers\":\"strict\",\"coloraxis\":{\"colorbar\":{\"outlinewidth\":0,\"ticks\":\"\"}},\"colorscale\":{\"diverging\":[[0,\"#8e0152\"],[0.1,\"#c51b7d\"],[0.2,\"#de77ae\"],[0.3,\"#f1b6da\"],[0.4,\"#fde0ef\"],[0.5,\"#f7f7f7\"],[0.6,\"#e6f5d0\"],[0.7,\"#b8e186\"],[0.8,\"#7fbc41\"],[0.9,\"#4d9221\"],[1,\"#276419\"]],\"sequential\":[[0.0,\"#0d0887\"],[0.1111111111111111,\"#46039f\"],[0.2222222222222222,\"#7201a8\"],[0.3333333333333333,\"#9c179e\"],[0.4444444444444444,\"#bd3786\"],[0.5555555555555556,\"#d8576b\"],[0.6666666666666666,\"#ed7953\"],[0.7777777777777778,\"#fb9f3a\"],[0.8888888888888888,\"#fdca26\"],[1.0,\"#f0f921\"]],\"sequentialminus\":[[0.0,\"#0d0887\"],[0.1111111111111111,\"#46039f\"],[0.2222222222222222,\"#7201a8\"],[0.3333333333333333,\"#9c179e\"],[0.4444444444444444,\"#bd3786\"],[0.5555555555555556,\"#d8576b\"],[0.6666666666666666,\"#ed7953\"],[0.7777777777777778,\"#fb9f3a\"],[0.8888888888888888,\"#fdca26\"],[1.0,\"#f0f921\"]]},\"colorway\":[\"#636efa\",\"#EF553B\",\"#00cc96\",\"#ab63fa\",\"#FFA15A\",\"#19d3f3\",\"#FF6692\",\"#B6E880\",\"#FF97FF\",\"#FECB52\"],\"font\":{\"color\":\"#2a3f5f\"},\"geo\":{\"bgcolor\":\"white\",\"lakecolor\":\"white\",\"landcolor\":\"#E5ECF6\",\"showlakes\":true,\"showland\":true,\"subunitcolor\":\"white\"},\"hoverlabel\":{\"align\":\"left\"},\"hovermode\":\"closest\",\"mapbox\":{\"style\":\"light\"},\"paper_bgcolor\":\"white\",\"plot_bgcolor\":\"#E5ECF6\",\"polar\":{\"angularaxis\":{\"gridcolor\":\"white\",\"linecolor\":\"white\",\"ticks\":\"\"},\"bgcolor\":\"#E5ECF6\",\"radialaxis\":{\"gridcolor\":\"white\",\"linecolor\":\"white\",\"ticks\":\"\"}},\"scene\":{\"xaxis\":{\"backgroundcolor\":\"#E5ECF6\",\"gridcolor\":\"white\",\"gridwidth\":2,\"linecolor\":\"white\",\"showbackground\":true,\"ticks\":\"\",\"zerolinecolor\":\"white\"},\"yaxis\":{\"backgroundcolor\":\"#E5ECF6\",\"gridcolor\":\"white\",\"gridwidth\":2,\"linecolor\":\"white\",\"showbackground\":true,\"ticks\":\"\",\"zerolinecolor\":\"white\"},\"zaxis\":{\"backgroundcolor\":\"#E5ECF6\",\"gridcolor\":\"white\",\"gridwidth\":2,\"linecolor\":\"white\",\"showbackground\":true,\"ticks\":\"\",\"zerolinecolor\":\"white\"}},\"shapedefaults\":{\"line\":{\"color\":\"#2a3f5f\"}},\"ternary\":{\"aaxis\":{\"gridcolor\":\"white\",\"linecolor\":\"white\",\"ticks\":\"\"},\"baxis\":{\"gridcolor\":\"white\",\"linecolor\":\"white\",\"ticks\":\"\"},\"bgcolor\":\"#E5ECF6\",\"caxis\":{\"gridcolor\":\"white\",\"linecolor\":\"white\",\"ticks\":\"\"}},\"title\":{\"x\":0.05},\"xaxis\":{\"automargin\":true,\"gridcolor\":\"white\",\"linecolor\":\"white\",\"ticks\":\"\",\"title\":{\"standoff\":15},\"zerolinecolor\":\"white\",\"zerolinewidth\":2},\"yaxis\":{\"automargin\":true,\"gridcolor\":\"white\",\"linecolor\":\"white\",\"ticks\":\"\",\"title\":{\"standoff\":15},\"zerolinecolor\":\"white\",\"zerolinewidth\":2}}},\"title\":{\"font\":{\"color\":\"#4D5663\"},\"text\":\"TimeGPT Prediction Given Oct. 7 As Final Point\"},\"xaxis\":{\"gridcolor\":\"#E1E5ED\",\"showgrid\":true,\"tickfont\":{\"color\":\"#4D5663\"},\"title\":{\"font\":{\"color\":\"#4D5663\"},\"text\":\"Date\"},\"zerolinecolor\":\"#E1E5ED\"},\"yaxis\":{\"gridcolor\":\"#E1E5ED\",\"showgrid\":true,\"tickfont\":{\"color\":\"#4D5663\"},\"title\":{\"font\":{\"color\":\"#4D5663\"},\"text\":\"Count\"},\"zerolinecolor\":\"#E1E5ED\"}},                        {\"showLink\": true, \"linkText\": \"Export to plot.ly\", \"plotlyServerURL\": \"https://plot.ly\", \"responsive\": true}                    ).then(function(){\n",
       "                            \n",
       "var gd = document.getElementById('3b4507bc-dd11-4a21-8ebb-e7bf93b593bb');\n",
       "var x = new MutationObserver(function (mutations, observer) {{\n",
       "        var display = window.getComputedStyle(gd).display;\n",
       "        if (!display || display === 'none') {{\n",
       "            console.log([gd, 'removed!']);\n",
       "            Plotly.purge(gd);\n",
       "            observer.disconnect();\n",
       "        }}\n",
       "}});\n",
       "\n",
       "// Listen for the removal of the full notebook cells\n",
       "var notebookContainer = gd.closest('#notebook-container');\n",
       "if (notebookContainer) {{\n",
       "    x.observe(notebookContainer, {childList: true});\n",
       "}}\n",
       "\n",
       "// Listen for the clearing of the current output cell\n",
       "var outputEl = gd.closest('.output');\n",
       "if (outputEl) {{\n",
       "    x.observe(outputEl, {childList: true});\n",
       "}}\n",
       "\n",
       "                        })                };                });            </script>        </div>"
      ]
     },
     "metadata": {},
     "output_type": "display_data"
    }
   ],
   "source": [
    "oct7plottingdf.iplot(xTitle = \"Date\", yTitle = \"Count\", title = \"TimeGPT Prediction Given Oct. 7 As Final Point\")"
   ]
  },
  {
   "cell_type": "code",
   "execution_count": 12,
   "id": "1871df5d",
   "metadata": {},
   "outputs": [
    {
     "name": "stdout",
     "output_type": "stream",
     "text": [
      "MAE: 6067.5930307692315\n",
      "MAPE: 1.2415618369086314\n",
      "MSE: 51881445.34835239\n"
     ]
    }
   ],
   "source": [
    "#Metrics\n",
    "print(\"MAE:\",mean_absolute_error(entire_df[\"2023-10-14\" : \"2024-01-06\"], oct7forecast[\"TimeGPT\"]))\n",
    "print(\"MAPE:\",mean_absolute_percentage_error(entire_df[\"2023-10-14\" : \"2024-01-06\"], oct7forecast[\"TimeGPT\"]))\n",
    "print(\"MSE:\",mean_squared_error(entire_df[\"2023-10-14\" : \"2024-01-06\"], oct7forecast[\"TimeGPT\"]))"
   ]
  },
  {
   "cell_type": "code",
   "execution_count": 13,
   "id": "c6717d91",
   "metadata": {},
   "outputs": [
    {
     "name": "stderr",
     "output_type": "stream",
     "text": [
      "INFO:nixtla.nixtla_client:Validating inputs...\n",
      "INFO:nixtla.nixtla_client:Inferred freq: W-SAT\n",
      "INFO:nixtla.nixtla_client:Preprocessing dataframes...\n",
      "WARNING:nixtla.nixtla_client:The specified horizon \"h\" exceeds the model horizon, this may lead to less accurate forecasts. Please consider using a smaller horizon.\n",
      "INFO:nixtla.nixtla_client:Restricting input...\n",
      "INFO:nixtla.nixtla_client:Calling Forecast Endpoint...\n"
     ]
    }
   ],
   "source": [
    "#Training, forecasting, and plotting for Oct 14 df\n",
    "\n",
    "oct14forecast = nixtla_client.forecast(df = oct14df, time_col=\"date\", target_col=\"value\", h=12)\n",
    "oct14forecast = oct14forecast.set_index(\"date\")"
   ]
  },
  {
   "cell_type": "code",
   "execution_count": 14,
   "id": "7689c828",
   "metadata": {},
   "outputs": [
    {
     "data": {
      "text/html": [
       "<div>\n",
       "<style scoped>\n",
       "    .dataframe tbody tr th:only-of-type {\n",
       "        vertical-align: middle;\n",
       "    }\n",
       "\n",
       "    .dataframe tbody tr th {\n",
       "        vertical-align: top;\n",
       "    }\n",
       "\n",
       "    .dataframe thead th {\n",
       "        text-align: right;\n",
       "    }\n",
       "</style>\n",
       "<table border=\"1\" class=\"dataframe\">\n",
       "  <thead>\n",
       "    <tr style=\"text-align: right;\">\n",
       "      <th></th>\n",
       "      <th>TimeGPT Forecast</th>\n",
       "      <th>Training Data</th>\n",
       "      <th>Real Data</th>\n",
       "    </tr>\n",
       "    <tr>\n",
       "      <th>date</th>\n",
       "      <th></th>\n",
       "      <th></th>\n",
       "      <th></th>\n",
       "    </tr>\n",
       "  </thead>\n",
       "  <tbody>\n",
       "    <tr>\n",
       "      <th>2022-02-05</th>\n",
       "      <td>NaN</td>\n",
       "      <td>1095.0</td>\n",
       "      <td>NaN</td>\n",
       "    </tr>\n",
       "    <tr>\n",
       "      <th>2022-02-12</th>\n",
       "      <td>NaN</td>\n",
       "      <td>1164.0</td>\n",
       "      <td>NaN</td>\n",
       "    </tr>\n",
       "    <tr>\n",
       "      <th>2022-02-19</th>\n",
       "      <td>NaN</td>\n",
       "      <td>1493.0</td>\n",
       "      <td>NaN</td>\n",
       "    </tr>\n",
       "    <tr>\n",
       "      <th>2022-02-26</th>\n",
       "      <td>NaN</td>\n",
       "      <td>1603.0</td>\n",
       "      <td>NaN</td>\n",
       "    </tr>\n",
       "    <tr>\n",
       "      <th>2022-03-05</th>\n",
       "      <td>NaN</td>\n",
       "      <td>1791.0</td>\n",
       "      <td>NaN</td>\n",
       "    </tr>\n",
       "    <tr>\n",
       "      <th>...</th>\n",
       "      <td>...</td>\n",
       "      <td>...</td>\n",
       "      <td>...</td>\n",
       "    </tr>\n",
       "    <tr>\n",
       "      <th>2023-12-09</th>\n",
       "      <td>19843.283</td>\n",
       "      <td>NaN</td>\n",
       "      <td>7510.0</td>\n",
       "    </tr>\n",
       "    <tr>\n",
       "      <th>2023-12-16</th>\n",
       "      <td>20061.887</td>\n",
       "      <td>NaN</td>\n",
       "      <td>10289.0</td>\n",
       "    </tr>\n",
       "    <tr>\n",
       "      <th>2023-12-23</th>\n",
       "      <td>18484.574</td>\n",
       "      <td>NaN</td>\n",
       "      <td>15727.0</td>\n",
       "    </tr>\n",
       "    <tr>\n",
       "      <th>2023-12-30</th>\n",
       "      <td>16346.734</td>\n",
       "      <td>NaN</td>\n",
       "      <td>21685.0</td>\n",
       "    </tr>\n",
       "    <tr>\n",
       "      <th>2024-01-06</th>\n",
       "      <td>11874.735</td>\n",
       "      <td>NaN</td>\n",
       "      <td>19550.0</td>\n",
       "    </tr>\n",
       "  </tbody>\n",
       "</table>\n",
       "<p>101 rows × 3 columns</p>\n",
       "</div>"
      ],
      "text/plain": [
       "            TimeGPT Forecast  Training Data  Real Data\n",
       "date                                                  \n",
       "2022-02-05               NaN         1095.0        NaN\n",
       "2022-02-12               NaN         1164.0        NaN\n",
       "2022-02-19               NaN         1493.0        NaN\n",
       "2022-02-26               NaN         1603.0        NaN\n",
       "2022-03-05               NaN         1791.0        NaN\n",
       "...                      ...            ...        ...\n",
       "2023-12-09         19843.283            NaN     7510.0\n",
       "2023-12-16         20061.887            NaN    10289.0\n",
       "2023-12-23         18484.574            NaN    15727.0\n",
       "2023-12-30         16346.734            NaN    21685.0\n",
       "2024-01-06         11874.735            NaN    19550.0\n",
       "\n",
       "[101 rows x 3 columns]"
      ]
     },
     "execution_count": 14,
     "metadata": {},
     "output_type": "execute_result"
    }
   ],
   "source": [
    "oct14plottingdf = pd.DataFrame()\n",
    "oct14plottingdf.index = entire_df.index\n",
    "oct14plottingdf = oct14plottingdf.loc[: \"2024-01-06\"]\n",
    "\n",
    "oct14plottingdf[\"TimeGPT Forecast\"] = oct14forecast[\"TimeGPT\"]\n",
    "oct14plottingdf[\"Training Data\"] = oct14df[\"value\"]\n",
    "oct14plottingdf[\"Real Data\"] = entire_df[\"2023-10-21\" : \"2024-01-06\"]\n",
    "\n",
    "oct14plottingdf"
   ]
  },
  {
   "cell_type": "code",
   "execution_count": 15,
   "id": "b6c08a7b",
   "metadata": {},
   "outputs": [
    {
     "name": "stderr",
     "output_type": "stream",
     "text": [
      "/Users/anshulchiranth/anaconda3/lib/python3.11/site-packages/cufflinks/plotlytools.py:117: FutureWarning:\n",
      "\n",
      "DatetimeIndex.format is deprecated and will be removed in a future version. Convert using index.astype(str) or index.map(formatter) instead.\n",
      "\n"
     ]
    },
    {
     "data": {
      "application/vnd.plotly.v1+json": {
       "config": {
        "linkText": "Export to plot.ly",
        "plotlyServerURL": "https://plot.ly",
        "showLink": true
       },
       "data": [
        {
         "line": {
          "color": "rgba(255, 153, 51, 1.0)",
          "dash": "solid",
          "shape": "linear",
          "width": 1.3
         },
         "mode": "lines",
         "name": "TimeGPT Forecast",
         "text": "",
         "type": "scatter",
         "x": [
          "2022-02-05",
          "2022-02-12",
          "2022-02-19",
          "2022-02-26",
          "2022-03-05",
          "2022-03-12",
          "2022-03-19",
          "2022-03-26",
          "2022-04-02",
          "2022-04-09",
          "2022-04-16",
          "2022-04-23",
          "2022-04-30",
          "2022-05-07",
          "2022-05-14",
          "2022-05-21",
          "2022-05-28",
          "2022-06-04",
          "2022-06-11",
          "2022-06-18",
          "2022-06-25",
          "2022-07-02",
          "2022-07-09",
          "2022-07-16",
          "2022-07-23",
          "2022-07-30",
          "2022-08-06",
          "2022-08-13",
          "2022-08-20",
          "2022-08-27",
          "2022-09-03",
          "2022-09-10",
          "2022-09-17",
          "2022-09-24",
          "2022-10-01",
          "2022-10-08",
          "2022-10-15",
          "2022-10-22",
          "2022-10-29",
          "2022-11-05",
          "2022-11-12",
          "2022-11-19",
          "2022-11-26",
          "2022-12-03",
          "2022-12-10",
          "2022-12-17",
          "2022-12-24",
          "2022-12-31",
          "2023-01-07",
          "2023-01-14",
          "2023-01-21",
          "2023-01-28",
          "2023-02-04",
          "2023-02-11",
          "2023-02-18",
          "2023-02-25",
          "2023-03-04",
          "2023-03-11",
          "2023-03-18",
          "2023-03-25",
          "2023-04-01",
          "2023-04-08",
          "2023-04-15",
          "2023-04-22",
          "2023-04-29",
          "2023-05-06",
          "2023-05-13",
          "2023-05-20",
          "2023-05-27",
          "2023-06-03",
          "2023-06-10",
          "2023-06-17",
          "2023-06-24",
          "2023-07-01",
          "2023-07-08",
          "2023-07-15",
          "2023-07-22",
          "2023-07-29",
          "2023-08-05",
          "2023-08-12",
          "2023-08-19",
          "2023-08-26",
          "2023-09-02",
          "2023-09-09",
          "2023-09-16",
          "2023-09-23",
          "2023-09-30",
          "2023-10-07",
          "2023-10-14",
          "2023-10-21",
          "2023-10-28",
          "2023-11-04",
          "2023-11-11",
          "2023-11-18",
          "2023-11-25",
          "2023-12-02",
          "2023-12-09",
          "2023-12-16",
          "2023-12-23",
          "2023-12-30",
          "2024-01-06"
         ],
         "y": [
          "",
          "",
          "",
          "",
          "",
          "",
          "",
          "",
          "",
          "",
          "",
          "",
          "",
          "",
          "",
          "",
          "",
          "",
          "",
          "",
          "",
          "",
          "",
          "",
          "",
          "",
          "",
          "",
          "",
          "",
          "",
          "",
          "",
          "",
          "",
          "",
          "",
          "",
          "",
          "",
          "",
          "",
          "",
          "",
          "",
          "",
          "",
          "",
          "",
          "",
          "",
          "",
          "",
          "",
          "",
          "",
          "",
          "",
          "",
          "",
          "",
          "",
          "",
          "",
          "",
          "",
          "",
          "",
          "",
          "",
          "",
          "",
          "",
          "",
          "",
          "",
          "",
          "",
          "",
          "",
          "",
          "",
          "",
          "",
          "",
          "",
          "",
          "",
          "",
          2742.9253,
          4006.4402,
          5492.9575,
          7428.4175,
          10553.95,
          14446.959,
          18140.188,
          19843.283,
          20061.887,
          18484.574,
          16346.734,
          11874.735
         ]
        },
        {
         "line": {
          "color": "rgba(55, 128, 191, 1.0)",
          "dash": "solid",
          "shape": "linear",
          "width": 1.3
         },
         "mode": "lines",
         "name": "Training Data",
         "text": "",
         "type": "scatter",
         "x": [
          "2022-02-05",
          "2022-02-12",
          "2022-02-19",
          "2022-02-26",
          "2022-03-05",
          "2022-03-12",
          "2022-03-19",
          "2022-03-26",
          "2022-04-02",
          "2022-04-09",
          "2022-04-16",
          "2022-04-23",
          "2022-04-30",
          "2022-05-07",
          "2022-05-14",
          "2022-05-21",
          "2022-05-28",
          "2022-06-04",
          "2022-06-11",
          "2022-06-18",
          "2022-06-25",
          "2022-07-02",
          "2022-07-09",
          "2022-07-16",
          "2022-07-23",
          "2022-07-30",
          "2022-08-06",
          "2022-08-13",
          "2022-08-20",
          "2022-08-27",
          "2022-09-03",
          "2022-09-10",
          "2022-09-17",
          "2022-09-24",
          "2022-10-01",
          "2022-10-08",
          "2022-10-15",
          "2022-10-22",
          "2022-10-29",
          "2022-11-05",
          "2022-11-12",
          "2022-11-19",
          "2022-11-26",
          "2022-12-03",
          "2022-12-10",
          "2022-12-17",
          "2022-12-24",
          "2022-12-31",
          "2023-01-07",
          "2023-01-14",
          "2023-01-21",
          "2023-01-28",
          "2023-02-04",
          "2023-02-11",
          "2023-02-18",
          "2023-02-25",
          "2023-03-04",
          "2023-03-11",
          "2023-03-18",
          "2023-03-25",
          "2023-04-01",
          "2023-04-08",
          "2023-04-15",
          "2023-04-22",
          "2023-04-29",
          "2023-05-06",
          "2023-05-13",
          "2023-05-20",
          "2023-05-27",
          "2023-06-03",
          "2023-06-10",
          "2023-06-17",
          "2023-06-24",
          "2023-07-01",
          "2023-07-08",
          "2023-07-15",
          "2023-07-22",
          "2023-07-29",
          "2023-08-05",
          "2023-08-12",
          "2023-08-19",
          "2023-08-26",
          "2023-09-02",
          "2023-09-09",
          "2023-09-16",
          "2023-09-23",
          "2023-09-30",
          "2023-10-07",
          "2023-10-14",
          "2023-10-21",
          "2023-10-28",
          "2023-11-04",
          "2023-11-11",
          "2023-11-18",
          "2023-11-25",
          "2023-12-02",
          "2023-12-09",
          "2023-12-16",
          "2023-12-23",
          "2023-12-30",
          "2024-01-06"
         ],
         "y": [
          1095,
          1164,
          1493,
          1603,
          1791,
          2097,
          2626,
          2919,
          3008,
          3149,
          3308,
          3474,
          3182,
          3175,
          3119,
          3134,
          2738,
          2678,
          2210,
          1776,
          1366,
          1073,
          776,
          766,
          628,
          522,
          486,
          490,
          483,
          483,
          545,
          576,
          665,
          796,
          921,
          1316,
          1674,
          2292,
          4184,
          6409,
          8595,
          10974,
          18185,
          26853,
          24039,
          21615,
          19634,
          19482,
          14078,
          7191,
          4492,
          3092,
          2597,
          2177,
          1908,
          1649,
          1504,
          1372,
          1415,
          1331,
          1295,
          1199,
          1077,
          982,
          903,
          994,
          980,
          1116,
          974,
          939,
          935,
          873,
          813,
          836,
          699,
          736,
          645,
          772,
          690,
          706,
          738,
          793,
          875,
          804,
          821,
          884,
          1026,
          1110,
          1215,
          "",
          "",
          "",
          "",
          "",
          "",
          "",
          "",
          "",
          "",
          "",
          ""
         ]
        },
        {
         "line": {
          "color": "rgba(50, 171, 96, 1.0)",
          "dash": "solid",
          "shape": "linear",
          "width": 1.3
         },
         "mode": "lines",
         "name": "Real Data",
         "text": "",
         "type": "scatter",
         "x": [
          "2022-02-05",
          "2022-02-12",
          "2022-02-19",
          "2022-02-26",
          "2022-03-05",
          "2022-03-12",
          "2022-03-19",
          "2022-03-26",
          "2022-04-02",
          "2022-04-09",
          "2022-04-16",
          "2022-04-23",
          "2022-04-30",
          "2022-05-07",
          "2022-05-14",
          "2022-05-21",
          "2022-05-28",
          "2022-06-04",
          "2022-06-11",
          "2022-06-18",
          "2022-06-25",
          "2022-07-02",
          "2022-07-09",
          "2022-07-16",
          "2022-07-23",
          "2022-07-30",
          "2022-08-06",
          "2022-08-13",
          "2022-08-20",
          "2022-08-27",
          "2022-09-03",
          "2022-09-10",
          "2022-09-17",
          "2022-09-24",
          "2022-10-01",
          "2022-10-08",
          "2022-10-15",
          "2022-10-22",
          "2022-10-29",
          "2022-11-05",
          "2022-11-12",
          "2022-11-19",
          "2022-11-26",
          "2022-12-03",
          "2022-12-10",
          "2022-12-17",
          "2022-12-24",
          "2022-12-31",
          "2023-01-07",
          "2023-01-14",
          "2023-01-21",
          "2023-01-28",
          "2023-02-04",
          "2023-02-11",
          "2023-02-18",
          "2023-02-25",
          "2023-03-04",
          "2023-03-11",
          "2023-03-18",
          "2023-03-25",
          "2023-04-01",
          "2023-04-08",
          "2023-04-15",
          "2023-04-22",
          "2023-04-29",
          "2023-05-06",
          "2023-05-13",
          "2023-05-20",
          "2023-05-27",
          "2023-06-03",
          "2023-06-10",
          "2023-06-17",
          "2023-06-24",
          "2023-07-01",
          "2023-07-08",
          "2023-07-15",
          "2023-07-22",
          "2023-07-29",
          "2023-08-05",
          "2023-08-12",
          "2023-08-19",
          "2023-08-26",
          "2023-09-02",
          "2023-09-09",
          "2023-09-16",
          "2023-09-23",
          "2023-09-30",
          "2023-10-07",
          "2023-10-14",
          "2023-10-21",
          "2023-10-28",
          "2023-11-04",
          "2023-11-11",
          "2023-11-18",
          "2023-11-25",
          "2023-12-02",
          "2023-12-09",
          "2023-12-16",
          "2023-12-23",
          "2023-12-30",
          "2024-01-06"
         ],
         "y": [
          "",
          "",
          "",
          "",
          "",
          "",
          "",
          "",
          "",
          "",
          "",
          "",
          "",
          "",
          "",
          "",
          "",
          "",
          "",
          "",
          "",
          "",
          "",
          "",
          "",
          "",
          "",
          "",
          "",
          "",
          "",
          "",
          "",
          "",
          "",
          "",
          "",
          "",
          "",
          "",
          "",
          "",
          "",
          "",
          "",
          "",
          "",
          "",
          "",
          "",
          "",
          "",
          "",
          "",
          "",
          "",
          "",
          "",
          "",
          "",
          "",
          "",
          "",
          "",
          "",
          "",
          "",
          "",
          "",
          "",
          "",
          "",
          "",
          "",
          "",
          "",
          "",
          "",
          "",
          "",
          "",
          "",
          "",
          "",
          "",
          "",
          "",
          "",
          "",
          1470,
          1614,
          2014,
          2776,
          3492,
          4387,
          5962,
          7510,
          10289,
          15727,
          21685,
          19550
         ]
        }
       ],
       "layout": {
        "legend": {
         "bgcolor": "#F5F6F9",
         "font": {
          "color": "#4D5663"
         }
        },
        "paper_bgcolor": "#F5F6F9",
        "plot_bgcolor": "#F5F6F9",
        "template": {
         "data": {
          "bar": [
           {
            "error_x": {
             "color": "#2a3f5f"
            },
            "error_y": {
             "color": "#2a3f5f"
            },
            "marker": {
             "line": {
              "color": "#E5ECF6",
              "width": 0.5
             },
             "pattern": {
              "fillmode": "overlay",
              "size": 10,
              "solidity": 0.2
             }
            },
            "type": "bar"
           }
          ],
          "barpolar": [
           {
            "marker": {
             "line": {
              "color": "#E5ECF6",
              "width": 0.5
             },
             "pattern": {
              "fillmode": "overlay",
              "size": 10,
              "solidity": 0.2
             }
            },
            "type": "barpolar"
           }
          ],
          "carpet": [
           {
            "aaxis": {
             "endlinecolor": "#2a3f5f",
             "gridcolor": "white",
             "linecolor": "white",
             "minorgridcolor": "white",
             "startlinecolor": "#2a3f5f"
            },
            "baxis": {
             "endlinecolor": "#2a3f5f",
             "gridcolor": "white",
             "linecolor": "white",
             "minorgridcolor": "white",
             "startlinecolor": "#2a3f5f"
            },
            "type": "carpet"
           }
          ],
          "choropleth": [
           {
            "colorbar": {
             "outlinewidth": 0,
             "ticks": ""
            },
            "type": "choropleth"
           }
          ],
          "contour": [
           {
            "colorbar": {
             "outlinewidth": 0,
             "ticks": ""
            },
            "colorscale": [
             [
              0,
              "#0d0887"
             ],
             [
              0.1111111111111111,
              "#46039f"
             ],
             [
              0.2222222222222222,
              "#7201a8"
             ],
             [
              0.3333333333333333,
              "#9c179e"
             ],
             [
              0.4444444444444444,
              "#bd3786"
             ],
             [
              0.5555555555555556,
              "#d8576b"
             ],
             [
              0.6666666666666666,
              "#ed7953"
             ],
             [
              0.7777777777777778,
              "#fb9f3a"
             ],
             [
              0.8888888888888888,
              "#fdca26"
             ],
             [
              1,
              "#f0f921"
             ]
            ],
            "type": "contour"
           }
          ],
          "contourcarpet": [
           {
            "colorbar": {
             "outlinewidth": 0,
             "ticks": ""
            },
            "type": "contourcarpet"
           }
          ],
          "heatmap": [
           {
            "colorbar": {
             "outlinewidth": 0,
             "ticks": ""
            },
            "colorscale": [
             [
              0,
              "#0d0887"
             ],
             [
              0.1111111111111111,
              "#46039f"
             ],
             [
              0.2222222222222222,
              "#7201a8"
             ],
             [
              0.3333333333333333,
              "#9c179e"
             ],
             [
              0.4444444444444444,
              "#bd3786"
             ],
             [
              0.5555555555555556,
              "#d8576b"
             ],
             [
              0.6666666666666666,
              "#ed7953"
             ],
             [
              0.7777777777777778,
              "#fb9f3a"
             ],
             [
              0.8888888888888888,
              "#fdca26"
             ],
             [
              1,
              "#f0f921"
             ]
            ],
            "type": "heatmap"
           }
          ],
          "heatmapgl": [
           {
            "colorbar": {
             "outlinewidth": 0,
             "ticks": ""
            },
            "colorscale": [
             [
              0,
              "#0d0887"
             ],
             [
              0.1111111111111111,
              "#46039f"
             ],
             [
              0.2222222222222222,
              "#7201a8"
             ],
             [
              0.3333333333333333,
              "#9c179e"
             ],
             [
              0.4444444444444444,
              "#bd3786"
             ],
             [
              0.5555555555555556,
              "#d8576b"
             ],
             [
              0.6666666666666666,
              "#ed7953"
             ],
             [
              0.7777777777777778,
              "#fb9f3a"
             ],
             [
              0.8888888888888888,
              "#fdca26"
             ],
             [
              1,
              "#f0f921"
             ]
            ],
            "type": "heatmapgl"
           }
          ],
          "histogram": [
           {
            "marker": {
             "pattern": {
              "fillmode": "overlay",
              "size": 10,
              "solidity": 0.2
             }
            },
            "type": "histogram"
           }
          ],
          "histogram2d": [
           {
            "colorbar": {
             "outlinewidth": 0,
             "ticks": ""
            },
            "colorscale": [
             [
              0,
              "#0d0887"
             ],
             [
              0.1111111111111111,
              "#46039f"
             ],
             [
              0.2222222222222222,
              "#7201a8"
             ],
             [
              0.3333333333333333,
              "#9c179e"
             ],
             [
              0.4444444444444444,
              "#bd3786"
             ],
             [
              0.5555555555555556,
              "#d8576b"
             ],
             [
              0.6666666666666666,
              "#ed7953"
             ],
             [
              0.7777777777777778,
              "#fb9f3a"
             ],
             [
              0.8888888888888888,
              "#fdca26"
             ],
             [
              1,
              "#f0f921"
             ]
            ],
            "type": "histogram2d"
           }
          ],
          "histogram2dcontour": [
           {
            "colorbar": {
             "outlinewidth": 0,
             "ticks": ""
            },
            "colorscale": [
             [
              0,
              "#0d0887"
             ],
             [
              0.1111111111111111,
              "#46039f"
             ],
             [
              0.2222222222222222,
              "#7201a8"
             ],
             [
              0.3333333333333333,
              "#9c179e"
             ],
             [
              0.4444444444444444,
              "#bd3786"
             ],
             [
              0.5555555555555556,
              "#d8576b"
             ],
             [
              0.6666666666666666,
              "#ed7953"
             ],
             [
              0.7777777777777778,
              "#fb9f3a"
             ],
             [
              0.8888888888888888,
              "#fdca26"
             ],
             [
              1,
              "#f0f921"
             ]
            ],
            "type": "histogram2dcontour"
           }
          ],
          "mesh3d": [
           {
            "colorbar": {
             "outlinewidth": 0,
             "ticks": ""
            },
            "type": "mesh3d"
           }
          ],
          "parcoords": [
           {
            "line": {
             "colorbar": {
              "outlinewidth": 0,
              "ticks": ""
             }
            },
            "type": "parcoords"
           }
          ],
          "pie": [
           {
            "automargin": true,
            "type": "pie"
           }
          ],
          "scatter": [
           {
            "fillpattern": {
             "fillmode": "overlay",
             "size": 10,
             "solidity": 0.2
            },
            "type": "scatter"
           }
          ],
          "scatter3d": [
           {
            "line": {
             "colorbar": {
              "outlinewidth": 0,
              "ticks": ""
             }
            },
            "marker": {
             "colorbar": {
              "outlinewidth": 0,
              "ticks": ""
             }
            },
            "type": "scatter3d"
           }
          ],
          "scattercarpet": [
           {
            "marker": {
             "colorbar": {
              "outlinewidth": 0,
              "ticks": ""
             }
            },
            "type": "scattercarpet"
           }
          ],
          "scattergeo": [
           {
            "marker": {
             "colorbar": {
              "outlinewidth": 0,
              "ticks": ""
             }
            },
            "type": "scattergeo"
           }
          ],
          "scattergl": [
           {
            "marker": {
             "colorbar": {
              "outlinewidth": 0,
              "ticks": ""
             }
            },
            "type": "scattergl"
           }
          ],
          "scattermapbox": [
           {
            "marker": {
             "colorbar": {
              "outlinewidth": 0,
              "ticks": ""
             }
            },
            "type": "scattermapbox"
           }
          ],
          "scatterpolar": [
           {
            "marker": {
             "colorbar": {
              "outlinewidth": 0,
              "ticks": ""
             }
            },
            "type": "scatterpolar"
           }
          ],
          "scatterpolargl": [
           {
            "marker": {
             "colorbar": {
              "outlinewidth": 0,
              "ticks": ""
             }
            },
            "type": "scatterpolargl"
           }
          ],
          "scatterternary": [
           {
            "marker": {
             "colorbar": {
              "outlinewidth": 0,
              "ticks": ""
             }
            },
            "type": "scatterternary"
           }
          ],
          "surface": [
           {
            "colorbar": {
             "outlinewidth": 0,
             "ticks": ""
            },
            "colorscale": [
             [
              0,
              "#0d0887"
             ],
             [
              0.1111111111111111,
              "#46039f"
             ],
             [
              0.2222222222222222,
              "#7201a8"
             ],
             [
              0.3333333333333333,
              "#9c179e"
             ],
             [
              0.4444444444444444,
              "#bd3786"
             ],
             [
              0.5555555555555556,
              "#d8576b"
             ],
             [
              0.6666666666666666,
              "#ed7953"
             ],
             [
              0.7777777777777778,
              "#fb9f3a"
             ],
             [
              0.8888888888888888,
              "#fdca26"
             ],
             [
              1,
              "#f0f921"
             ]
            ],
            "type": "surface"
           }
          ],
          "table": [
           {
            "cells": {
             "fill": {
              "color": "#EBF0F8"
             },
             "line": {
              "color": "white"
             }
            },
            "header": {
             "fill": {
              "color": "#C8D4E3"
             },
             "line": {
              "color": "white"
             }
            },
            "type": "table"
           }
          ]
         },
         "layout": {
          "annotationdefaults": {
           "arrowcolor": "#2a3f5f",
           "arrowhead": 0,
           "arrowwidth": 1
          },
          "autotypenumbers": "strict",
          "coloraxis": {
           "colorbar": {
            "outlinewidth": 0,
            "ticks": ""
           }
          },
          "colorscale": {
           "diverging": [
            [
             0,
             "#8e0152"
            ],
            [
             0.1,
             "#c51b7d"
            ],
            [
             0.2,
             "#de77ae"
            ],
            [
             0.3,
             "#f1b6da"
            ],
            [
             0.4,
             "#fde0ef"
            ],
            [
             0.5,
             "#f7f7f7"
            ],
            [
             0.6,
             "#e6f5d0"
            ],
            [
             0.7,
             "#b8e186"
            ],
            [
             0.8,
             "#7fbc41"
            ],
            [
             0.9,
             "#4d9221"
            ],
            [
             1,
             "#276419"
            ]
           ],
           "sequential": [
            [
             0,
             "#0d0887"
            ],
            [
             0.1111111111111111,
             "#46039f"
            ],
            [
             0.2222222222222222,
             "#7201a8"
            ],
            [
             0.3333333333333333,
             "#9c179e"
            ],
            [
             0.4444444444444444,
             "#bd3786"
            ],
            [
             0.5555555555555556,
             "#d8576b"
            ],
            [
             0.6666666666666666,
             "#ed7953"
            ],
            [
             0.7777777777777778,
             "#fb9f3a"
            ],
            [
             0.8888888888888888,
             "#fdca26"
            ],
            [
             1,
             "#f0f921"
            ]
           ],
           "sequentialminus": [
            [
             0,
             "#0d0887"
            ],
            [
             0.1111111111111111,
             "#46039f"
            ],
            [
             0.2222222222222222,
             "#7201a8"
            ],
            [
             0.3333333333333333,
             "#9c179e"
            ],
            [
             0.4444444444444444,
             "#bd3786"
            ],
            [
             0.5555555555555556,
             "#d8576b"
            ],
            [
             0.6666666666666666,
             "#ed7953"
            ],
            [
             0.7777777777777778,
             "#fb9f3a"
            ],
            [
             0.8888888888888888,
             "#fdca26"
            ],
            [
             1,
             "#f0f921"
            ]
           ]
          },
          "colorway": [
           "#636efa",
           "#EF553B",
           "#00cc96",
           "#ab63fa",
           "#FFA15A",
           "#19d3f3",
           "#FF6692",
           "#B6E880",
           "#FF97FF",
           "#FECB52"
          ],
          "font": {
           "color": "#2a3f5f"
          },
          "geo": {
           "bgcolor": "white",
           "lakecolor": "white",
           "landcolor": "#E5ECF6",
           "showlakes": true,
           "showland": true,
           "subunitcolor": "white"
          },
          "hoverlabel": {
           "align": "left"
          },
          "hovermode": "closest",
          "mapbox": {
           "style": "light"
          },
          "paper_bgcolor": "white",
          "plot_bgcolor": "#E5ECF6",
          "polar": {
           "angularaxis": {
            "gridcolor": "white",
            "linecolor": "white",
            "ticks": ""
           },
           "bgcolor": "#E5ECF6",
           "radialaxis": {
            "gridcolor": "white",
            "linecolor": "white",
            "ticks": ""
           }
          },
          "scene": {
           "xaxis": {
            "backgroundcolor": "#E5ECF6",
            "gridcolor": "white",
            "gridwidth": 2,
            "linecolor": "white",
            "showbackground": true,
            "ticks": "",
            "zerolinecolor": "white"
           },
           "yaxis": {
            "backgroundcolor": "#E5ECF6",
            "gridcolor": "white",
            "gridwidth": 2,
            "linecolor": "white",
            "showbackground": true,
            "ticks": "",
            "zerolinecolor": "white"
           },
           "zaxis": {
            "backgroundcolor": "#E5ECF6",
            "gridcolor": "white",
            "gridwidth": 2,
            "linecolor": "white",
            "showbackground": true,
            "ticks": "",
            "zerolinecolor": "white"
           }
          },
          "shapedefaults": {
           "line": {
            "color": "#2a3f5f"
           }
          },
          "ternary": {
           "aaxis": {
            "gridcolor": "white",
            "linecolor": "white",
            "ticks": ""
           },
           "baxis": {
            "gridcolor": "white",
            "linecolor": "white",
            "ticks": ""
           },
           "bgcolor": "#E5ECF6",
           "caxis": {
            "gridcolor": "white",
            "linecolor": "white",
            "ticks": ""
           }
          },
          "title": {
           "x": 0.05
          },
          "xaxis": {
           "automargin": true,
           "gridcolor": "white",
           "linecolor": "white",
           "ticks": "",
           "title": {
            "standoff": 15
           },
           "zerolinecolor": "white",
           "zerolinewidth": 2
          },
          "yaxis": {
           "automargin": true,
           "gridcolor": "white",
           "linecolor": "white",
           "ticks": "",
           "title": {
            "standoff": 15
           },
           "zerolinecolor": "white",
           "zerolinewidth": 2
          }
         }
        },
        "title": {
         "font": {
          "color": "#4D5663"
         },
         "text": "TimeGPT Prediction Given Oct. 14 As Final Point"
        },
        "xaxis": {
         "gridcolor": "#E1E5ED",
         "showgrid": true,
         "tickfont": {
          "color": "#4D5663"
         },
         "title": {
          "font": {
           "color": "#4D5663"
          },
          "text": "Date"
         },
         "zerolinecolor": "#E1E5ED"
        },
        "yaxis": {
         "gridcolor": "#E1E5ED",
         "showgrid": true,
         "tickfont": {
          "color": "#4D5663"
         },
         "title": {
          "font": {
           "color": "#4D5663"
          },
          "text": "Count"
         },
         "zerolinecolor": "#E1E5ED"
        }
       }
      },
      "text/html": [
       "<div>                            <div id=\"dd2446a5-f363-4bc7-b5bf-cf657be03fe9\" class=\"plotly-graph-div\" style=\"height:525px; width:100%;\"></div>            <script type=\"text/javascript\">                require([\"plotly\"], function(Plotly) {                    window.PLOTLYENV=window.PLOTLYENV || {};\n",
       "                    window.PLOTLYENV.BASE_URL='https://plot.ly';                                    if (document.getElementById(\"dd2446a5-f363-4bc7-b5bf-cf657be03fe9\")) {                    Plotly.newPlot(                        \"dd2446a5-f363-4bc7-b5bf-cf657be03fe9\",                        [{\"line\":{\"color\":\"rgba(255, 153, 51, 1.0)\",\"dash\":\"solid\",\"shape\":\"linear\",\"width\":1.3},\"mode\":\"lines\",\"name\":\"TimeGPT Forecast\",\"text\":\"\",\"x\":[\"2022-02-05\",\"2022-02-12\",\"2022-02-19\",\"2022-02-26\",\"2022-03-05\",\"2022-03-12\",\"2022-03-19\",\"2022-03-26\",\"2022-04-02\",\"2022-04-09\",\"2022-04-16\",\"2022-04-23\",\"2022-04-30\",\"2022-05-07\",\"2022-05-14\",\"2022-05-21\",\"2022-05-28\",\"2022-06-04\",\"2022-06-11\",\"2022-06-18\",\"2022-06-25\",\"2022-07-02\",\"2022-07-09\",\"2022-07-16\",\"2022-07-23\",\"2022-07-30\",\"2022-08-06\",\"2022-08-13\",\"2022-08-20\",\"2022-08-27\",\"2022-09-03\",\"2022-09-10\",\"2022-09-17\",\"2022-09-24\",\"2022-10-01\",\"2022-10-08\",\"2022-10-15\",\"2022-10-22\",\"2022-10-29\",\"2022-11-05\",\"2022-11-12\",\"2022-11-19\",\"2022-11-26\",\"2022-12-03\",\"2022-12-10\",\"2022-12-17\",\"2022-12-24\",\"2022-12-31\",\"2023-01-07\",\"2023-01-14\",\"2023-01-21\",\"2023-01-28\",\"2023-02-04\",\"2023-02-11\",\"2023-02-18\",\"2023-02-25\",\"2023-03-04\",\"2023-03-11\",\"2023-03-18\",\"2023-03-25\",\"2023-04-01\",\"2023-04-08\",\"2023-04-15\",\"2023-04-22\",\"2023-04-29\",\"2023-05-06\",\"2023-05-13\",\"2023-05-20\",\"2023-05-27\",\"2023-06-03\",\"2023-06-10\",\"2023-06-17\",\"2023-06-24\",\"2023-07-01\",\"2023-07-08\",\"2023-07-15\",\"2023-07-22\",\"2023-07-29\",\"2023-08-05\",\"2023-08-12\",\"2023-08-19\",\"2023-08-26\",\"2023-09-02\",\"2023-09-09\",\"2023-09-16\",\"2023-09-23\",\"2023-09-30\",\"2023-10-07\",\"2023-10-14\",\"2023-10-21\",\"2023-10-28\",\"2023-11-04\",\"2023-11-11\",\"2023-11-18\",\"2023-11-25\",\"2023-12-02\",\"2023-12-09\",\"2023-12-16\",\"2023-12-23\",\"2023-12-30\",\"2024-01-06\"],\"y\":[\"\",\"\",\"\",\"\",\"\",\"\",\"\",\"\",\"\",\"\",\"\",\"\",\"\",\"\",\"\",\"\",\"\",\"\",\"\",\"\",\"\",\"\",\"\",\"\",\"\",\"\",\"\",\"\",\"\",\"\",\"\",\"\",\"\",\"\",\"\",\"\",\"\",\"\",\"\",\"\",\"\",\"\",\"\",\"\",\"\",\"\",\"\",\"\",\"\",\"\",\"\",\"\",\"\",\"\",\"\",\"\",\"\",\"\",\"\",\"\",\"\",\"\",\"\",\"\",\"\",\"\",\"\",\"\",\"\",\"\",\"\",\"\",\"\",\"\",\"\",\"\",\"\",\"\",\"\",\"\",\"\",\"\",\"\",\"\",\"\",\"\",\"\",\"\",\"\",2742.9253,4006.4402,5492.9575,7428.4175,10553.95,14446.959,18140.188,19843.283,20061.887,18484.574,16346.734,11874.735],\"type\":\"scatter\"},{\"line\":{\"color\":\"rgba(55, 128, 191, 1.0)\",\"dash\":\"solid\",\"shape\":\"linear\",\"width\":1.3},\"mode\":\"lines\",\"name\":\"Training Data\",\"text\":\"\",\"x\":[\"2022-02-05\",\"2022-02-12\",\"2022-02-19\",\"2022-02-26\",\"2022-03-05\",\"2022-03-12\",\"2022-03-19\",\"2022-03-26\",\"2022-04-02\",\"2022-04-09\",\"2022-04-16\",\"2022-04-23\",\"2022-04-30\",\"2022-05-07\",\"2022-05-14\",\"2022-05-21\",\"2022-05-28\",\"2022-06-04\",\"2022-06-11\",\"2022-06-18\",\"2022-06-25\",\"2022-07-02\",\"2022-07-09\",\"2022-07-16\",\"2022-07-23\",\"2022-07-30\",\"2022-08-06\",\"2022-08-13\",\"2022-08-20\",\"2022-08-27\",\"2022-09-03\",\"2022-09-10\",\"2022-09-17\",\"2022-09-24\",\"2022-10-01\",\"2022-10-08\",\"2022-10-15\",\"2022-10-22\",\"2022-10-29\",\"2022-11-05\",\"2022-11-12\",\"2022-11-19\",\"2022-11-26\",\"2022-12-03\",\"2022-12-10\",\"2022-12-17\",\"2022-12-24\",\"2022-12-31\",\"2023-01-07\",\"2023-01-14\",\"2023-01-21\",\"2023-01-28\",\"2023-02-04\",\"2023-02-11\",\"2023-02-18\",\"2023-02-25\",\"2023-03-04\",\"2023-03-11\",\"2023-03-18\",\"2023-03-25\",\"2023-04-01\",\"2023-04-08\",\"2023-04-15\",\"2023-04-22\",\"2023-04-29\",\"2023-05-06\",\"2023-05-13\",\"2023-05-20\",\"2023-05-27\",\"2023-06-03\",\"2023-06-10\",\"2023-06-17\",\"2023-06-24\",\"2023-07-01\",\"2023-07-08\",\"2023-07-15\",\"2023-07-22\",\"2023-07-29\",\"2023-08-05\",\"2023-08-12\",\"2023-08-19\",\"2023-08-26\",\"2023-09-02\",\"2023-09-09\",\"2023-09-16\",\"2023-09-23\",\"2023-09-30\",\"2023-10-07\",\"2023-10-14\",\"2023-10-21\",\"2023-10-28\",\"2023-11-04\",\"2023-11-11\",\"2023-11-18\",\"2023-11-25\",\"2023-12-02\",\"2023-12-09\",\"2023-12-16\",\"2023-12-23\",\"2023-12-30\",\"2024-01-06\"],\"y\":[1095.0,1164.0,1493.0,1603.0,1791.0,2097.0,2626.0,2919.0,3008.0,3149.0,3308.0,3474.0,3182.0,3175.0,3119.0,3134.0,2738.0,2678.0,2210.0,1776.0,1366.0,1073.0,776.0,766.0,628.0,522.0,486.0,490.0,483.0,483.0,545.0,576.0,665.0,796.0,921.0,1316.0,1674.0,2292.0,4184.0,6409.0,8595.0,10974.0,18185.0,26853.0,24039.0,21615.0,19634.0,19482.0,14078.0,7191.0,4492.0,3092.0,2597.0,2177.0,1908.0,1649.0,1504.0,1372.0,1415.0,1331.0,1295.0,1199.0,1077.0,982.0,903.0,994.0,980.0,1116.0,974.0,939.0,935.0,873.0,813.0,836.0,699.0,736.0,645.0,772.0,690.0,706.0,738.0,793.0,875.0,804.0,821.0,884.0,1026.0,1110.0,1215.0,\"\",\"\",\"\",\"\",\"\",\"\",\"\",\"\",\"\",\"\",\"\",\"\"],\"type\":\"scatter\"},{\"line\":{\"color\":\"rgba(50, 171, 96, 1.0)\",\"dash\":\"solid\",\"shape\":\"linear\",\"width\":1.3},\"mode\":\"lines\",\"name\":\"Real Data\",\"text\":\"\",\"x\":[\"2022-02-05\",\"2022-02-12\",\"2022-02-19\",\"2022-02-26\",\"2022-03-05\",\"2022-03-12\",\"2022-03-19\",\"2022-03-26\",\"2022-04-02\",\"2022-04-09\",\"2022-04-16\",\"2022-04-23\",\"2022-04-30\",\"2022-05-07\",\"2022-05-14\",\"2022-05-21\",\"2022-05-28\",\"2022-06-04\",\"2022-06-11\",\"2022-06-18\",\"2022-06-25\",\"2022-07-02\",\"2022-07-09\",\"2022-07-16\",\"2022-07-23\",\"2022-07-30\",\"2022-08-06\",\"2022-08-13\",\"2022-08-20\",\"2022-08-27\",\"2022-09-03\",\"2022-09-10\",\"2022-09-17\",\"2022-09-24\",\"2022-10-01\",\"2022-10-08\",\"2022-10-15\",\"2022-10-22\",\"2022-10-29\",\"2022-11-05\",\"2022-11-12\",\"2022-11-19\",\"2022-11-26\",\"2022-12-03\",\"2022-12-10\",\"2022-12-17\",\"2022-12-24\",\"2022-12-31\",\"2023-01-07\",\"2023-01-14\",\"2023-01-21\",\"2023-01-28\",\"2023-02-04\",\"2023-02-11\",\"2023-02-18\",\"2023-02-25\",\"2023-03-04\",\"2023-03-11\",\"2023-03-18\",\"2023-03-25\",\"2023-04-01\",\"2023-04-08\",\"2023-04-15\",\"2023-04-22\",\"2023-04-29\",\"2023-05-06\",\"2023-05-13\",\"2023-05-20\",\"2023-05-27\",\"2023-06-03\",\"2023-06-10\",\"2023-06-17\",\"2023-06-24\",\"2023-07-01\",\"2023-07-08\",\"2023-07-15\",\"2023-07-22\",\"2023-07-29\",\"2023-08-05\",\"2023-08-12\",\"2023-08-19\",\"2023-08-26\",\"2023-09-02\",\"2023-09-09\",\"2023-09-16\",\"2023-09-23\",\"2023-09-30\",\"2023-10-07\",\"2023-10-14\",\"2023-10-21\",\"2023-10-28\",\"2023-11-04\",\"2023-11-11\",\"2023-11-18\",\"2023-11-25\",\"2023-12-02\",\"2023-12-09\",\"2023-12-16\",\"2023-12-23\",\"2023-12-30\",\"2024-01-06\"],\"y\":[\"\",\"\",\"\",\"\",\"\",\"\",\"\",\"\",\"\",\"\",\"\",\"\",\"\",\"\",\"\",\"\",\"\",\"\",\"\",\"\",\"\",\"\",\"\",\"\",\"\",\"\",\"\",\"\",\"\",\"\",\"\",\"\",\"\",\"\",\"\",\"\",\"\",\"\",\"\",\"\",\"\",\"\",\"\",\"\",\"\",\"\",\"\",\"\",\"\",\"\",\"\",\"\",\"\",\"\",\"\",\"\",\"\",\"\",\"\",\"\",\"\",\"\",\"\",\"\",\"\",\"\",\"\",\"\",\"\",\"\",\"\",\"\",\"\",\"\",\"\",\"\",\"\",\"\",\"\",\"\",\"\",\"\",\"\",\"\",\"\",\"\",\"\",\"\",\"\",1470.0,1614.0,2014.0,2776.0,3492.0,4387.0,5962.0,7510.0,10289.0,15727.0,21685.0,19550.0],\"type\":\"scatter\"}],                        {\"legend\":{\"bgcolor\":\"#F5F6F9\",\"font\":{\"color\":\"#4D5663\"}},\"paper_bgcolor\":\"#F5F6F9\",\"plot_bgcolor\":\"#F5F6F9\",\"template\":{\"data\":{\"barpolar\":[{\"marker\":{\"line\":{\"color\":\"#E5ECF6\",\"width\":0.5},\"pattern\":{\"fillmode\":\"overlay\",\"size\":10,\"solidity\":0.2}},\"type\":\"barpolar\"}],\"bar\":[{\"error_x\":{\"color\":\"#2a3f5f\"},\"error_y\":{\"color\":\"#2a3f5f\"},\"marker\":{\"line\":{\"color\":\"#E5ECF6\",\"width\":0.5},\"pattern\":{\"fillmode\":\"overlay\",\"size\":10,\"solidity\":0.2}},\"type\":\"bar\"}],\"carpet\":[{\"aaxis\":{\"endlinecolor\":\"#2a3f5f\",\"gridcolor\":\"white\",\"linecolor\":\"white\",\"minorgridcolor\":\"white\",\"startlinecolor\":\"#2a3f5f\"},\"baxis\":{\"endlinecolor\":\"#2a3f5f\",\"gridcolor\":\"white\",\"linecolor\":\"white\",\"minorgridcolor\":\"white\",\"startlinecolor\":\"#2a3f5f\"},\"type\":\"carpet\"}],\"choropleth\":[{\"colorbar\":{\"outlinewidth\":0,\"ticks\":\"\"},\"type\":\"choropleth\"}],\"contourcarpet\":[{\"colorbar\":{\"outlinewidth\":0,\"ticks\":\"\"},\"type\":\"contourcarpet\"}],\"contour\":[{\"colorbar\":{\"outlinewidth\":0,\"ticks\":\"\"},\"colorscale\":[[0.0,\"#0d0887\"],[0.1111111111111111,\"#46039f\"],[0.2222222222222222,\"#7201a8\"],[0.3333333333333333,\"#9c179e\"],[0.4444444444444444,\"#bd3786\"],[0.5555555555555556,\"#d8576b\"],[0.6666666666666666,\"#ed7953\"],[0.7777777777777778,\"#fb9f3a\"],[0.8888888888888888,\"#fdca26\"],[1.0,\"#f0f921\"]],\"type\":\"contour\"}],\"heatmapgl\":[{\"colorbar\":{\"outlinewidth\":0,\"ticks\":\"\"},\"colorscale\":[[0.0,\"#0d0887\"],[0.1111111111111111,\"#46039f\"],[0.2222222222222222,\"#7201a8\"],[0.3333333333333333,\"#9c179e\"],[0.4444444444444444,\"#bd3786\"],[0.5555555555555556,\"#d8576b\"],[0.6666666666666666,\"#ed7953\"],[0.7777777777777778,\"#fb9f3a\"],[0.8888888888888888,\"#fdca26\"],[1.0,\"#f0f921\"]],\"type\":\"heatmapgl\"}],\"heatmap\":[{\"colorbar\":{\"outlinewidth\":0,\"ticks\":\"\"},\"colorscale\":[[0.0,\"#0d0887\"],[0.1111111111111111,\"#46039f\"],[0.2222222222222222,\"#7201a8\"],[0.3333333333333333,\"#9c179e\"],[0.4444444444444444,\"#bd3786\"],[0.5555555555555556,\"#d8576b\"],[0.6666666666666666,\"#ed7953\"],[0.7777777777777778,\"#fb9f3a\"],[0.8888888888888888,\"#fdca26\"],[1.0,\"#f0f921\"]],\"type\":\"heatmap\"}],\"histogram2dcontour\":[{\"colorbar\":{\"outlinewidth\":0,\"ticks\":\"\"},\"colorscale\":[[0.0,\"#0d0887\"],[0.1111111111111111,\"#46039f\"],[0.2222222222222222,\"#7201a8\"],[0.3333333333333333,\"#9c179e\"],[0.4444444444444444,\"#bd3786\"],[0.5555555555555556,\"#d8576b\"],[0.6666666666666666,\"#ed7953\"],[0.7777777777777778,\"#fb9f3a\"],[0.8888888888888888,\"#fdca26\"],[1.0,\"#f0f921\"]],\"type\":\"histogram2dcontour\"}],\"histogram2d\":[{\"colorbar\":{\"outlinewidth\":0,\"ticks\":\"\"},\"colorscale\":[[0.0,\"#0d0887\"],[0.1111111111111111,\"#46039f\"],[0.2222222222222222,\"#7201a8\"],[0.3333333333333333,\"#9c179e\"],[0.4444444444444444,\"#bd3786\"],[0.5555555555555556,\"#d8576b\"],[0.6666666666666666,\"#ed7953\"],[0.7777777777777778,\"#fb9f3a\"],[0.8888888888888888,\"#fdca26\"],[1.0,\"#f0f921\"]],\"type\":\"histogram2d\"}],\"histogram\":[{\"marker\":{\"pattern\":{\"fillmode\":\"overlay\",\"size\":10,\"solidity\":0.2}},\"type\":\"histogram\"}],\"mesh3d\":[{\"colorbar\":{\"outlinewidth\":0,\"ticks\":\"\"},\"type\":\"mesh3d\"}],\"parcoords\":[{\"line\":{\"colorbar\":{\"outlinewidth\":0,\"ticks\":\"\"}},\"type\":\"parcoords\"}],\"pie\":[{\"automargin\":true,\"type\":\"pie\"}],\"scatter3d\":[{\"line\":{\"colorbar\":{\"outlinewidth\":0,\"ticks\":\"\"}},\"marker\":{\"colorbar\":{\"outlinewidth\":0,\"ticks\":\"\"}},\"type\":\"scatter3d\"}],\"scattercarpet\":[{\"marker\":{\"colorbar\":{\"outlinewidth\":0,\"ticks\":\"\"}},\"type\":\"scattercarpet\"}],\"scattergeo\":[{\"marker\":{\"colorbar\":{\"outlinewidth\":0,\"ticks\":\"\"}},\"type\":\"scattergeo\"}],\"scattergl\":[{\"marker\":{\"colorbar\":{\"outlinewidth\":0,\"ticks\":\"\"}},\"type\":\"scattergl\"}],\"scattermapbox\":[{\"marker\":{\"colorbar\":{\"outlinewidth\":0,\"ticks\":\"\"}},\"type\":\"scattermapbox\"}],\"scatterpolargl\":[{\"marker\":{\"colorbar\":{\"outlinewidth\":0,\"ticks\":\"\"}},\"type\":\"scatterpolargl\"}],\"scatterpolar\":[{\"marker\":{\"colorbar\":{\"outlinewidth\":0,\"ticks\":\"\"}},\"type\":\"scatterpolar\"}],\"scatter\":[{\"fillpattern\":{\"fillmode\":\"overlay\",\"size\":10,\"solidity\":0.2},\"type\":\"scatter\"}],\"scatterternary\":[{\"marker\":{\"colorbar\":{\"outlinewidth\":0,\"ticks\":\"\"}},\"type\":\"scatterternary\"}],\"surface\":[{\"colorbar\":{\"outlinewidth\":0,\"ticks\":\"\"},\"colorscale\":[[0.0,\"#0d0887\"],[0.1111111111111111,\"#46039f\"],[0.2222222222222222,\"#7201a8\"],[0.3333333333333333,\"#9c179e\"],[0.4444444444444444,\"#bd3786\"],[0.5555555555555556,\"#d8576b\"],[0.6666666666666666,\"#ed7953\"],[0.7777777777777778,\"#fb9f3a\"],[0.8888888888888888,\"#fdca26\"],[1.0,\"#f0f921\"]],\"type\":\"surface\"}],\"table\":[{\"cells\":{\"fill\":{\"color\":\"#EBF0F8\"},\"line\":{\"color\":\"white\"}},\"header\":{\"fill\":{\"color\":\"#C8D4E3\"},\"line\":{\"color\":\"white\"}},\"type\":\"table\"}]},\"layout\":{\"annotationdefaults\":{\"arrowcolor\":\"#2a3f5f\",\"arrowhead\":0,\"arrowwidth\":1},\"autotypenumbers\":\"strict\",\"coloraxis\":{\"colorbar\":{\"outlinewidth\":0,\"ticks\":\"\"}},\"colorscale\":{\"diverging\":[[0,\"#8e0152\"],[0.1,\"#c51b7d\"],[0.2,\"#de77ae\"],[0.3,\"#f1b6da\"],[0.4,\"#fde0ef\"],[0.5,\"#f7f7f7\"],[0.6,\"#e6f5d0\"],[0.7,\"#b8e186\"],[0.8,\"#7fbc41\"],[0.9,\"#4d9221\"],[1,\"#276419\"]],\"sequential\":[[0.0,\"#0d0887\"],[0.1111111111111111,\"#46039f\"],[0.2222222222222222,\"#7201a8\"],[0.3333333333333333,\"#9c179e\"],[0.4444444444444444,\"#bd3786\"],[0.5555555555555556,\"#d8576b\"],[0.6666666666666666,\"#ed7953\"],[0.7777777777777778,\"#fb9f3a\"],[0.8888888888888888,\"#fdca26\"],[1.0,\"#f0f921\"]],\"sequentialminus\":[[0.0,\"#0d0887\"],[0.1111111111111111,\"#46039f\"],[0.2222222222222222,\"#7201a8\"],[0.3333333333333333,\"#9c179e\"],[0.4444444444444444,\"#bd3786\"],[0.5555555555555556,\"#d8576b\"],[0.6666666666666666,\"#ed7953\"],[0.7777777777777778,\"#fb9f3a\"],[0.8888888888888888,\"#fdca26\"],[1.0,\"#f0f921\"]]},\"colorway\":[\"#636efa\",\"#EF553B\",\"#00cc96\",\"#ab63fa\",\"#FFA15A\",\"#19d3f3\",\"#FF6692\",\"#B6E880\",\"#FF97FF\",\"#FECB52\"],\"font\":{\"color\":\"#2a3f5f\"},\"geo\":{\"bgcolor\":\"white\",\"lakecolor\":\"white\",\"landcolor\":\"#E5ECF6\",\"showlakes\":true,\"showland\":true,\"subunitcolor\":\"white\"},\"hoverlabel\":{\"align\":\"left\"},\"hovermode\":\"closest\",\"mapbox\":{\"style\":\"light\"},\"paper_bgcolor\":\"white\",\"plot_bgcolor\":\"#E5ECF6\",\"polar\":{\"angularaxis\":{\"gridcolor\":\"white\",\"linecolor\":\"white\",\"ticks\":\"\"},\"bgcolor\":\"#E5ECF6\",\"radialaxis\":{\"gridcolor\":\"white\",\"linecolor\":\"white\",\"ticks\":\"\"}},\"scene\":{\"xaxis\":{\"backgroundcolor\":\"#E5ECF6\",\"gridcolor\":\"white\",\"gridwidth\":2,\"linecolor\":\"white\",\"showbackground\":true,\"ticks\":\"\",\"zerolinecolor\":\"white\"},\"yaxis\":{\"backgroundcolor\":\"#E5ECF6\",\"gridcolor\":\"white\",\"gridwidth\":2,\"linecolor\":\"white\",\"showbackground\":true,\"ticks\":\"\",\"zerolinecolor\":\"white\"},\"zaxis\":{\"backgroundcolor\":\"#E5ECF6\",\"gridcolor\":\"white\",\"gridwidth\":2,\"linecolor\":\"white\",\"showbackground\":true,\"ticks\":\"\",\"zerolinecolor\":\"white\"}},\"shapedefaults\":{\"line\":{\"color\":\"#2a3f5f\"}},\"ternary\":{\"aaxis\":{\"gridcolor\":\"white\",\"linecolor\":\"white\",\"ticks\":\"\"},\"baxis\":{\"gridcolor\":\"white\",\"linecolor\":\"white\",\"ticks\":\"\"},\"bgcolor\":\"#E5ECF6\",\"caxis\":{\"gridcolor\":\"white\",\"linecolor\":\"white\",\"ticks\":\"\"}},\"title\":{\"x\":0.05},\"xaxis\":{\"automargin\":true,\"gridcolor\":\"white\",\"linecolor\":\"white\",\"ticks\":\"\",\"title\":{\"standoff\":15},\"zerolinecolor\":\"white\",\"zerolinewidth\":2},\"yaxis\":{\"automargin\":true,\"gridcolor\":\"white\",\"linecolor\":\"white\",\"ticks\":\"\",\"title\":{\"standoff\":15},\"zerolinecolor\":\"white\",\"zerolinewidth\":2}}},\"title\":{\"font\":{\"color\":\"#4D5663\"},\"text\":\"TimeGPT Prediction Given Oct. 14 As Final Point\"},\"xaxis\":{\"gridcolor\":\"#E1E5ED\",\"showgrid\":true,\"tickfont\":{\"color\":\"#4D5663\"},\"title\":{\"font\":{\"color\":\"#4D5663\"},\"text\":\"Date\"},\"zerolinecolor\":\"#E1E5ED\"},\"yaxis\":{\"gridcolor\":\"#E1E5ED\",\"showgrid\":true,\"tickfont\":{\"color\":\"#4D5663\"},\"title\":{\"font\":{\"color\":\"#4D5663\"},\"text\":\"Count\"},\"zerolinecolor\":\"#E1E5ED\"}},                        {\"showLink\": true, \"linkText\": \"Export to plot.ly\", \"plotlyServerURL\": \"https://plot.ly\", \"responsive\": true}                    ).then(function(){\n",
       "                            \n",
       "var gd = document.getElementById('dd2446a5-f363-4bc7-b5bf-cf657be03fe9');\n",
       "var x = new MutationObserver(function (mutations, observer) {{\n",
       "        var display = window.getComputedStyle(gd).display;\n",
       "        if (!display || display === 'none') {{\n",
       "            console.log([gd, 'removed!']);\n",
       "            Plotly.purge(gd);\n",
       "            observer.disconnect();\n",
       "        }}\n",
       "}});\n",
       "\n",
       "// Listen for the removal of the full notebook cells\n",
       "var notebookContainer = gd.closest('#notebook-container');\n",
       "if (notebookContainer) {{\n",
       "    x.observe(notebookContainer, {childList: true});\n",
       "}}\n",
       "\n",
       "// Listen for the clearing of the current output cell\n",
       "var outputEl = gd.closest('.output');\n",
       "if (outputEl) {{\n",
       "    x.observe(outputEl, {childList: true});\n",
       "}}\n",
       "\n",
       "                        })                };                });            </script>        </div>"
      ]
     },
     "metadata": {},
     "output_type": "display_data"
    }
   ],
   "source": [
    "oct14plottingdf.iplot(xTitle = \"Date\", yTitle = \"Count\", title = \"TimeGPT Prediction Given Oct. 14 As Final Point\")"
   ]
  },
  {
   "cell_type": "code",
   "execution_count": 16,
   "id": "2ffada53",
   "metadata": {},
   "outputs": [
    {
     "name": "stdout",
     "output_type": "stream",
     "text": [
      "MAE: 6581.176041666667\n",
      "MAPE: 1.292987794055154\n",
      "MSE: 56925383.300325714\n"
     ]
    }
   ],
   "source": [
    "#Metrics\n",
    "print(\"MAE:\",mean_absolute_error(entire_df[\"2023-10-21\" : \"2024-01-06\"], oct14forecast[\"TimeGPT\"]))\n",
    "print(\"MAPE:\",mean_absolute_percentage_error(entire_df[\"2023-10-21\" : \"2024-01-06\"], oct14forecast[\"TimeGPT\"]))\n",
    "print(\"MSE:\",mean_squared_error(entire_df[\"2023-10-21\" : \"2024-01-06\"], oct14forecast[\"TimeGPT\"]))"
   ]
  },
  {
   "cell_type": "code",
   "execution_count": 17,
   "id": "18114675",
   "metadata": {},
   "outputs": [
    {
     "name": "stderr",
     "output_type": "stream",
     "text": [
      "INFO:nixtla.nixtla_client:Validating inputs...\n",
      "INFO:nixtla.nixtla_client:Inferred freq: W-SAT\n",
      "INFO:nixtla.nixtla_client:Preprocessing dataframes...\n",
      "WARNING:nixtla.nixtla_client:The specified horizon \"h\" exceeds the model horizon, this may lead to less accurate forecasts. Please consider using a smaller horizon.\n",
      "INFO:nixtla.nixtla_client:Restricting input...\n",
      "INFO:nixtla.nixtla_client:Calling Forecast Endpoint...\n"
     ]
    }
   ],
   "source": [
    "#Training, forecasting, and plotting for Oct 21 df\n",
    "\n",
    "oct21forecast = nixtla_client.forecast(df = oct21df, time_col=\"date\", target_col=\"value\", h=11)\n",
    "oct21forecast = oct21forecast.set_index(\"date\")"
   ]
  },
  {
   "cell_type": "code",
   "execution_count": 18,
   "id": "ba4a8cc4",
   "metadata": {
    "scrolled": false
   },
   "outputs": [
    {
     "data": {
      "text/html": [
       "<div>\n",
       "<style scoped>\n",
       "    .dataframe tbody tr th:only-of-type {\n",
       "        vertical-align: middle;\n",
       "    }\n",
       "\n",
       "    .dataframe tbody tr th {\n",
       "        vertical-align: top;\n",
       "    }\n",
       "\n",
       "    .dataframe thead th {\n",
       "        text-align: right;\n",
       "    }\n",
       "</style>\n",
       "<table border=\"1\" class=\"dataframe\">\n",
       "  <thead>\n",
       "    <tr style=\"text-align: right;\">\n",
       "      <th></th>\n",
       "      <th>TimeGPT Forecast</th>\n",
       "      <th>Training Data</th>\n",
       "      <th>Real Data</th>\n",
       "    </tr>\n",
       "    <tr>\n",
       "      <th>date</th>\n",
       "      <th></th>\n",
       "      <th></th>\n",
       "      <th></th>\n",
       "    </tr>\n",
       "  </thead>\n",
       "  <tbody>\n",
       "    <tr>\n",
       "      <th>2022-02-05</th>\n",
       "      <td>NaN</td>\n",
       "      <td>1095.0</td>\n",
       "      <td>NaN</td>\n",
       "    </tr>\n",
       "    <tr>\n",
       "      <th>2022-02-12</th>\n",
       "      <td>NaN</td>\n",
       "      <td>1164.0</td>\n",
       "      <td>NaN</td>\n",
       "    </tr>\n",
       "    <tr>\n",
       "      <th>2022-02-19</th>\n",
       "      <td>NaN</td>\n",
       "      <td>1493.0</td>\n",
       "      <td>NaN</td>\n",
       "    </tr>\n",
       "    <tr>\n",
       "      <th>2022-02-26</th>\n",
       "      <td>NaN</td>\n",
       "      <td>1603.0</td>\n",
       "      <td>NaN</td>\n",
       "    </tr>\n",
       "    <tr>\n",
       "      <th>2022-03-05</th>\n",
       "      <td>NaN</td>\n",
       "      <td>1791.0</td>\n",
       "      <td>NaN</td>\n",
       "    </tr>\n",
       "    <tr>\n",
       "      <th>...</th>\n",
       "      <td>...</td>\n",
       "      <td>...</td>\n",
       "      <td>...</td>\n",
       "    </tr>\n",
       "    <tr>\n",
       "      <th>2023-12-09</th>\n",
       "      <td>18295.277</td>\n",
       "      <td>NaN</td>\n",
       "      <td>7510.0</td>\n",
       "    </tr>\n",
       "    <tr>\n",
       "      <th>2023-12-16</th>\n",
       "      <td>17735.814</td>\n",
       "      <td>NaN</td>\n",
       "      <td>10289.0</td>\n",
       "    </tr>\n",
       "    <tr>\n",
       "      <th>2023-12-23</th>\n",
       "      <td>17067.623</td>\n",
       "      <td>NaN</td>\n",
       "      <td>15727.0</td>\n",
       "    </tr>\n",
       "    <tr>\n",
       "      <th>2023-12-30</th>\n",
       "      <td>15743.491</td>\n",
       "      <td>NaN</td>\n",
       "      <td>21685.0</td>\n",
       "    </tr>\n",
       "    <tr>\n",
       "      <th>2024-01-06</th>\n",
       "      <td>11254.477</td>\n",
       "      <td>NaN</td>\n",
       "      <td>19550.0</td>\n",
       "    </tr>\n",
       "  </tbody>\n",
       "</table>\n",
       "<p>101 rows × 3 columns</p>\n",
       "</div>"
      ],
      "text/plain": [
       "            TimeGPT Forecast  Training Data  Real Data\n",
       "date                                                  \n",
       "2022-02-05               NaN         1095.0        NaN\n",
       "2022-02-12               NaN         1164.0        NaN\n",
       "2022-02-19               NaN         1493.0        NaN\n",
       "2022-02-26               NaN         1603.0        NaN\n",
       "2022-03-05               NaN         1791.0        NaN\n",
       "...                      ...            ...        ...\n",
       "2023-12-09         18295.277            NaN     7510.0\n",
       "2023-12-16         17735.814            NaN    10289.0\n",
       "2023-12-23         17067.623            NaN    15727.0\n",
       "2023-12-30         15743.491            NaN    21685.0\n",
       "2024-01-06         11254.477            NaN    19550.0\n",
       "\n",
       "[101 rows x 3 columns]"
      ]
     },
     "execution_count": 18,
     "metadata": {},
     "output_type": "execute_result"
    }
   ],
   "source": [
    "oct21plottingdf = pd.DataFrame()\n",
    "oct21plottingdf.index = entire_df.index\n",
    "oct21plottingdf = oct21plottingdf.loc[: \"2024-01-06\"]\n",
    "\n",
    "oct21plottingdf[\"TimeGPT Forecast\"] = oct21forecast[\"TimeGPT\"]\n",
    "oct21plottingdf[\"Training Data\"] = oct21df[\"value\"]\n",
    "oct21plottingdf[\"Real Data\"] = entire_df[\"2023-10-28\" : \"2024-01-06\"]\n",
    "\n",
    "oct21plottingdf"
   ]
  },
  {
   "cell_type": "code",
   "execution_count": 19,
   "id": "68266665",
   "metadata": {},
   "outputs": [
    {
     "name": "stderr",
     "output_type": "stream",
     "text": [
      "/Users/anshulchiranth/anaconda3/lib/python3.11/site-packages/cufflinks/plotlytools.py:117: FutureWarning:\n",
      "\n",
      "DatetimeIndex.format is deprecated and will be removed in a future version. Convert using index.astype(str) or index.map(formatter) instead.\n",
      "\n"
     ]
    },
    {
     "data": {
      "application/vnd.plotly.v1+json": {
       "config": {
        "linkText": "Export to plot.ly",
        "plotlyServerURL": "https://plot.ly",
        "showLink": true
       },
       "data": [
        {
         "line": {
          "color": "rgba(255, 153, 51, 1.0)",
          "dash": "solid",
          "shape": "linear",
          "width": 1.3
         },
         "mode": "lines",
         "name": "TimeGPT Forecast",
         "text": "",
         "type": "scatter",
         "x": [
          "2022-02-05",
          "2022-02-12",
          "2022-02-19",
          "2022-02-26",
          "2022-03-05",
          "2022-03-12",
          "2022-03-19",
          "2022-03-26",
          "2022-04-02",
          "2022-04-09",
          "2022-04-16",
          "2022-04-23",
          "2022-04-30",
          "2022-05-07",
          "2022-05-14",
          "2022-05-21",
          "2022-05-28",
          "2022-06-04",
          "2022-06-11",
          "2022-06-18",
          "2022-06-25",
          "2022-07-02",
          "2022-07-09",
          "2022-07-16",
          "2022-07-23",
          "2022-07-30",
          "2022-08-06",
          "2022-08-13",
          "2022-08-20",
          "2022-08-27",
          "2022-09-03",
          "2022-09-10",
          "2022-09-17",
          "2022-09-24",
          "2022-10-01",
          "2022-10-08",
          "2022-10-15",
          "2022-10-22",
          "2022-10-29",
          "2022-11-05",
          "2022-11-12",
          "2022-11-19",
          "2022-11-26",
          "2022-12-03",
          "2022-12-10",
          "2022-12-17",
          "2022-12-24",
          "2022-12-31",
          "2023-01-07",
          "2023-01-14",
          "2023-01-21",
          "2023-01-28",
          "2023-02-04",
          "2023-02-11",
          "2023-02-18",
          "2023-02-25",
          "2023-03-04",
          "2023-03-11",
          "2023-03-18",
          "2023-03-25",
          "2023-04-01",
          "2023-04-08",
          "2023-04-15",
          "2023-04-22",
          "2023-04-29",
          "2023-05-06",
          "2023-05-13",
          "2023-05-20",
          "2023-05-27",
          "2023-06-03",
          "2023-06-10",
          "2023-06-17",
          "2023-06-24",
          "2023-07-01",
          "2023-07-08",
          "2023-07-15",
          "2023-07-22",
          "2023-07-29",
          "2023-08-05",
          "2023-08-12",
          "2023-08-19",
          "2023-08-26",
          "2023-09-02",
          "2023-09-09",
          "2023-09-16",
          "2023-09-23",
          "2023-09-30",
          "2023-10-07",
          "2023-10-14",
          "2023-10-21",
          "2023-10-28",
          "2023-11-04",
          "2023-11-11",
          "2023-11-18",
          "2023-11-25",
          "2023-12-02",
          "2023-12-09",
          "2023-12-16",
          "2023-12-23",
          "2023-12-30",
          "2024-01-06"
         ],
         "y": [
          "",
          "",
          "",
          "",
          "",
          "",
          "",
          "",
          "",
          "",
          "",
          "",
          "",
          "",
          "",
          "",
          "",
          "",
          "",
          "",
          "",
          "",
          "",
          "",
          "",
          "",
          "",
          "",
          "",
          "",
          "",
          "",
          "",
          "",
          "",
          "",
          "",
          "",
          "",
          "",
          "",
          "",
          "",
          "",
          "",
          "",
          "",
          "",
          "",
          "",
          "",
          "",
          "",
          "",
          "",
          "",
          "",
          "",
          "",
          "",
          "",
          "",
          "",
          "",
          "",
          "",
          "",
          "",
          "",
          "",
          "",
          "",
          "",
          "",
          "",
          "",
          "",
          "",
          "",
          "",
          "",
          "",
          "",
          "",
          "",
          "",
          "",
          "",
          "",
          "",
          3200.3018,
          4718.25,
          6104.5317,
          8564.551,
          13323.73,
          17145.393,
          18295.277,
          17735.814,
          17067.623,
          15743.491,
          11254.477
         ]
        },
        {
         "line": {
          "color": "rgba(55, 128, 191, 1.0)",
          "dash": "solid",
          "shape": "linear",
          "width": 1.3
         },
         "mode": "lines",
         "name": "Training Data",
         "text": "",
         "type": "scatter",
         "x": [
          "2022-02-05",
          "2022-02-12",
          "2022-02-19",
          "2022-02-26",
          "2022-03-05",
          "2022-03-12",
          "2022-03-19",
          "2022-03-26",
          "2022-04-02",
          "2022-04-09",
          "2022-04-16",
          "2022-04-23",
          "2022-04-30",
          "2022-05-07",
          "2022-05-14",
          "2022-05-21",
          "2022-05-28",
          "2022-06-04",
          "2022-06-11",
          "2022-06-18",
          "2022-06-25",
          "2022-07-02",
          "2022-07-09",
          "2022-07-16",
          "2022-07-23",
          "2022-07-30",
          "2022-08-06",
          "2022-08-13",
          "2022-08-20",
          "2022-08-27",
          "2022-09-03",
          "2022-09-10",
          "2022-09-17",
          "2022-09-24",
          "2022-10-01",
          "2022-10-08",
          "2022-10-15",
          "2022-10-22",
          "2022-10-29",
          "2022-11-05",
          "2022-11-12",
          "2022-11-19",
          "2022-11-26",
          "2022-12-03",
          "2022-12-10",
          "2022-12-17",
          "2022-12-24",
          "2022-12-31",
          "2023-01-07",
          "2023-01-14",
          "2023-01-21",
          "2023-01-28",
          "2023-02-04",
          "2023-02-11",
          "2023-02-18",
          "2023-02-25",
          "2023-03-04",
          "2023-03-11",
          "2023-03-18",
          "2023-03-25",
          "2023-04-01",
          "2023-04-08",
          "2023-04-15",
          "2023-04-22",
          "2023-04-29",
          "2023-05-06",
          "2023-05-13",
          "2023-05-20",
          "2023-05-27",
          "2023-06-03",
          "2023-06-10",
          "2023-06-17",
          "2023-06-24",
          "2023-07-01",
          "2023-07-08",
          "2023-07-15",
          "2023-07-22",
          "2023-07-29",
          "2023-08-05",
          "2023-08-12",
          "2023-08-19",
          "2023-08-26",
          "2023-09-02",
          "2023-09-09",
          "2023-09-16",
          "2023-09-23",
          "2023-09-30",
          "2023-10-07",
          "2023-10-14",
          "2023-10-21",
          "2023-10-28",
          "2023-11-04",
          "2023-11-11",
          "2023-11-18",
          "2023-11-25",
          "2023-12-02",
          "2023-12-09",
          "2023-12-16",
          "2023-12-23",
          "2023-12-30",
          "2024-01-06"
         ],
         "y": [
          1095,
          1164,
          1493,
          1603,
          1791,
          2097,
          2626,
          2919,
          3008,
          3149,
          3308,
          3474,
          3182,
          3175,
          3119,
          3134,
          2738,
          2678,
          2210,
          1776,
          1366,
          1073,
          776,
          766,
          628,
          522,
          486,
          490,
          483,
          483,
          545,
          576,
          665,
          796,
          921,
          1316,
          1674,
          2292,
          4184,
          6409,
          8595,
          10974,
          18185,
          26853,
          24039,
          21615,
          19634,
          19482,
          14078,
          7191,
          4492,
          3092,
          2597,
          2177,
          1908,
          1649,
          1504,
          1372,
          1415,
          1331,
          1295,
          1199,
          1077,
          982,
          903,
          994,
          980,
          1116,
          974,
          939,
          935,
          873,
          813,
          836,
          699,
          736,
          645,
          772,
          690,
          706,
          738,
          793,
          875,
          804,
          821,
          884,
          1026,
          1110,
          1215,
          1470,
          "",
          "",
          "",
          "",
          "",
          "",
          "",
          "",
          "",
          "",
          ""
         ]
        },
        {
         "line": {
          "color": "rgba(50, 171, 96, 1.0)",
          "dash": "solid",
          "shape": "linear",
          "width": 1.3
         },
         "mode": "lines",
         "name": "Real Data",
         "text": "",
         "type": "scatter",
         "x": [
          "2022-02-05",
          "2022-02-12",
          "2022-02-19",
          "2022-02-26",
          "2022-03-05",
          "2022-03-12",
          "2022-03-19",
          "2022-03-26",
          "2022-04-02",
          "2022-04-09",
          "2022-04-16",
          "2022-04-23",
          "2022-04-30",
          "2022-05-07",
          "2022-05-14",
          "2022-05-21",
          "2022-05-28",
          "2022-06-04",
          "2022-06-11",
          "2022-06-18",
          "2022-06-25",
          "2022-07-02",
          "2022-07-09",
          "2022-07-16",
          "2022-07-23",
          "2022-07-30",
          "2022-08-06",
          "2022-08-13",
          "2022-08-20",
          "2022-08-27",
          "2022-09-03",
          "2022-09-10",
          "2022-09-17",
          "2022-09-24",
          "2022-10-01",
          "2022-10-08",
          "2022-10-15",
          "2022-10-22",
          "2022-10-29",
          "2022-11-05",
          "2022-11-12",
          "2022-11-19",
          "2022-11-26",
          "2022-12-03",
          "2022-12-10",
          "2022-12-17",
          "2022-12-24",
          "2022-12-31",
          "2023-01-07",
          "2023-01-14",
          "2023-01-21",
          "2023-01-28",
          "2023-02-04",
          "2023-02-11",
          "2023-02-18",
          "2023-02-25",
          "2023-03-04",
          "2023-03-11",
          "2023-03-18",
          "2023-03-25",
          "2023-04-01",
          "2023-04-08",
          "2023-04-15",
          "2023-04-22",
          "2023-04-29",
          "2023-05-06",
          "2023-05-13",
          "2023-05-20",
          "2023-05-27",
          "2023-06-03",
          "2023-06-10",
          "2023-06-17",
          "2023-06-24",
          "2023-07-01",
          "2023-07-08",
          "2023-07-15",
          "2023-07-22",
          "2023-07-29",
          "2023-08-05",
          "2023-08-12",
          "2023-08-19",
          "2023-08-26",
          "2023-09-02",
          "2023-09-09",
          "2023-09-16",
          "2023-09-23",
          "2023-09-30",
          "2023-10-07",
          "2023-10-14",
          "2023-10-21",
          "2023-10-28",
          "2023-11-04",
          "2023-11-11",
          "2023-11-18",
          "2023-11-25",
          "2023-12-02",
          "2023-12-09",
          "2023-12-16",
          "2023-12-23",
          "2023-12-30",
          "2024-01-06"
         ],
         "y": [
          "",
          "",
          "",
          "",
          "",
          "",
          "",
          "",
          "",
          "",
          "",
          "",
          "",
          "",
          "",
          "",
          "",
          "",
          "",
          "",
          "",
          "",
          "",
          "",
          "",
          "",
          "",
          "",
          "",
          "",
          "",
          "",
          "",
          "",
          "",
          "",
          "",
          "",
          "",
          "",
          "",
          "",
          "",
          "",
          "",
          "",
          "",
          "",
          "",
          "",
          "",
          "",
          "",
          "",
          "",
          "",
          "",
          "",
          "",
          "",
          "",
          "",
          "",
          "",
          "",
          "",
          "",
          "",
          "",
          "",
          "",
          "",
          "",
          "",
          "",
          "",
          "",
          "",
          "",
          "",
          "",
          "",
          "",
          "",
          "",
          "",
          "",
          "",
          "",
          "",
          1614,
          2014,
          2776,
          3492,
          4387,
          5962,
          7510,
          10289,
          15727,
          21685,
          19550
         ]
        }
       ],
       "layout": {
        "legend": {
         "bgcolor": "#F5F6F9",
         "font": {
          "color": "#4D5663"
         }
        },
        "paper_bgcolor": "#F5F6F9",
        "plot_bgcolor": "#F5F6F9",
        "template": {
         "data": {
          "bar": [
           {
            "error_x": {
             "color": "#2a3f5f"
            },
            "error_y": {
             "color": "#2a3f5f"
            },
            "marker": {
             "line": {
              "color": "#E5ECF6",
              "width": 0.5
             },
             "pattern": {
              "fillmode": "overlay",
              "size": 10,
              "solidity": 0.2
             }
            },
            "type": "bar"
           }
          ],
          "barpolar": [
           {
            "marker": {
             "line": {
              "color": "#E5ECF6",
              "width": 0.5
             },
             "pattern": {
              "fillmode": "overlay",
              "size": 10,
              "solidity": 0.2
             }
            },
            "type": "barpolar"
           }
          ],
          "carpet": [
           {
            "aaxis": {
             "endlinecolor": "#2a3f5f",
             "gridcolor": "white",
             "linecolor": "white",
             "minorgridcolor": "white",
             "startlinecolor": "#2a3f5f"
            },
            "baxis": {
             "endlinecolor": "#2a3f5f",
             "gridcolor": "white",
             "linecolor": "white",
             "minorgridcolor": "white",
             "startlinecolor": "#2a3f5f"
            },
            "type": "carpet"
           }
          ],
          "choropleth": [
           {
            "colorbar": {
             "outlinewidth": 0,
             "ticks": ""
            },
            "type": "choropleth"
           }
          ],
          "contour": [
           {
            "colorbar": {
             "outlinewidth": 0,
             "ticks": ""
            },
            "colorscale": [
             [
              0,
              "#0d0887"
             ],
             [
              0.1111111111111111,
              "#46039f"
             ],
             [
              0.2222222222222222,
              "#7201a8"
             ],
             [
              0.3333333333333333,
              "#9c179e"
             ],
             [
              0.4444444444444444,
              "#bd3786"
             ],
             [
              0.5555555555555556,
              "#d8576b"
             ],
             [
              0.6666666666666666,
              "#ed7953"
             ],
             [
              0.7777777777777778,
              "#fb9f3a"
             ],
             [
              0.8888888888888888,
              "#fdca26"
             ],
             [
              1,
              "#f0f921"
             ]
            ],
            "type": "contour"
           }
          ],
          "contourcarpet": [
           {
            "colorbar": {
             "outlinewidth": 0,
             "ticks": ""
            },
            "type": "contourcarpet"
           }
          ],
          "heatmap": [
           {
            "colorbar": {
             "outlinewidth": 0,
             "ticks": ""
            },
            "colorscale": [
             [
              0,
              "#0d0887"
             ],
             [
              0.1111111111111111,
              "#46039f"
             ],
             [
              0.2222222222222222,
              "#7201a8"
             ],
             [
              0.3333333333333333,
              "#9c179e"
             ],
             [
              0.4444444444444444,
              "#bd3786"
             ],
             [
              0.5555555555555556,
              "#d8576b"
             ],
             [
              0.6666666666666666,
              "#ed7953"
             ],
             [
              0.7777777777777778,
              "#fb9f3a"
             ],
             [
              0.8888888888888888,
              "#fdca26"
             ],
             [
              1,
              "#f0f921"
             ]
            ],
            "type": "heatmap"
           }
          ],
          "heatmapgl": [
           {
            "colorbar": {
             "outlinewidth": 0,
             "ticks": ""
            },
            "colorscale": [
             [
              0,
              "#0d0887"
             ],
             [
              0.1111111111111111,
              "#46039f"
             ],
             [
              0.2222222222222222,
              "#7201a8"
             ],
             [
              0.3333333333333333,
              "#9c179e"
             ],
             [
              0.4444444444444444,
              "#bd3786"
             ],
             [
              0.5555555555555556,
              "#d8576b"
             ],
             [
              0.6666666666666666,
              "#ed7953"
             ],
             [
              0.7777777777777778,
              "#fb9f3a"
             ],
             [
              0.8888888888888888,
              "#fdca26"
             ],
             [
              1,
              "#f0f921"
             ]
            ],
            "type": "heatmapgl"
           }
          ],
          "histogram": [
           {
            "marker": {
             "pattern": {
              "fillmode": "overlay",
              "size": 10,
              "solidity": 0.2
             }
            },
            "type": "histogram"
           }
          ],
          "histogram2d": [
           {
            "colorbar": {
             "outlinewidth": 0,
             "ticks": ""
            },
            "colorscale": [
             [
              0,
              "#0d0887"
             ],
             [
              0.1111111111111111,
              "#46039f"
             ],
             [
              0.2222222222222222,
              "#7201a8"
             ],
             [
              0.3333333333333333,
              "#9c179e"
             ],
             [
              0.4444444444444444,
              "#bd3786"
             ],
             [
              0.5555555555555556,
              "#d8576b"
             ],
             [
              0.6666666666666666,
              "#ed7953"
             ],
             [
              0.7777777777777778,
              "#fb9f3a"
             ],
             [
              0.8888888888888888,
              "#fdca26"
             ],
             [
              1,
              "#f0f921"
             ]
            ],
            "type": "histogram2d"
           }
          ],
          "histogram2dcontour": [
           {
            "colorbar": {
             "outlinewidth": 0,
             "ticks": ""
            },
            "colorscale": [
             [
              0,
              "#0d0887"
             ],
             [
              0.1111111111111111,
              "#46039f"
             ],
             [
              0.2222222222222222,
              "#7201a8"
             ],
             [
              0.3333333333333333,
              "#9c179e"
             ],
             [
              0.4444444444444444,
              "#bd3786"
             ],
             [
              0.5555555555555556,
              "#d8576b"
             ],
             [
              0.6666666666666666,
              "#ed7953"
             ],
             [
              0.7777777777777778,
              "#fb9f3a"
             ],
             [
              0.8888888888888888,
              "#fdca26"
             ],
             [
              1,
              "#f0f921"
             ]
            ],
            "type": "histogram2dcontour"
           }
          ],
          "mesh3d": [
           {
            "colorbar": {
             "outlinewidth": 0,
             "ticks": ""
            },
            "type": "mesh3d"
           }
          ],
          "parcoords": [
           {
            "line": {
             "colorbar": {
              "outlinewidth": 0,
              "ticks": ""
             }
            },
            "type": "parcoords"
           }
          ],
          "pie": [
           {
            "automargin": true,
            "type": "pie"
           }
          ],
          "scatter": [
           {
            "fillpattern": {
             "fillmode": "overlay",
             "size": 10,
             "solidity": 0.2
            },
            "type": "scatter"
           }
          ],
          "scatter3d": [
           {
            "line": {
             "colorbar": {
              "outlinewidth": 0,
              "ticks": ""
             }
            },
            "marker": {
             "colorbar": {
              "outlinewidth": 0,
              "ticks": ""
             }
            },
            "type": "scatter3d"
           }
          ],
          "scattercarpet": [
           {
            "marker": {
             "colorbar": {
              "outlinewidth": 0,
              "ticks": ""
             }
            },
            "type": "scattercarpet"
           }
          ],
          "scattergeo": [
           {
            "marker": {
             "colorbar": {
              "outlinewidth": 0,
              "ticks": ""
             }
            },
            "type": "scattergeo"
           }
          ],
          "scattergl": [
           {
            "marker": {
             "colorbar": {
              "outlinewidth": 0,
              "ticks": ""
             }
            },
            "type": "scattergl"
           }
          ],
          "scattermapbox": [
           {
            "marker": {
             "colorbar": {
              "outlinewidth": 0,
              "ticks": ""
             }
            },
            "type": "scattermapbox"
           }
          ],
          "scatterpolar": [
           {
            "marker": {
             "colorbar": {
              "outlinewidth": 0,
              "ticks": ""
             }
            },
            "type": "scatterpolar"
           }
          ],
          "scatterpolargl": [
           {
            "marker": {
             "colorbar": {
              "outlinewidth": 0,
              "ticks": ""
             }
            },
            "type": "scatterpolargl"
           }
          ],
          "scatterternary": [
           {
            "marker": {
             "colorbar": {
              "outlinewidth": 0,
              "ticks": ""
             }
            },
            "type": "scatterternary"
           }
          ],
          "surface": [
           {
            "colorbar": {
             "outlinewidth": 0,
             "ticks": ""
            },
            "colorscale": [
             [
              0,
              "#0d0887"
             ],
             [
              0.1111111111111111,
              "#46039f"
             ],
             [
              0.2222222222222222,
              "#7201a8"
             ],
             [
              0.3333333333333333,
              "#9c179e"
             ],
             [
              0.4444444444444444,
              "#bd3786"
             ],
             [
              0.5555555555555556,
              "#d8576b"
             ],
             [
              0.6666666666666666,
              "#ed7953"
             ],
             [
              0.7777777777777778,
              "#fb9f3a"
             ],
             [
              0.8888888888888888,
              "#fdca26"
             ],
             [
              1,
              "#f0f921"
             ]
            ],
            "type": "surface"
           }
          ],
          "table": [
           {
            "cells": {
             "fill": {
              "color": "#EBF0F8"
             },
             "line": {
              "color": "white"
             }
            },
            "header": {
             "fill": {
              "color": "#C8D4E3"
             },
             "line": {
              "color": "white"
             }
            },
            "type": "table"
           }
          ]
         },
         "layout": {
          "annotationdefaults": {
           "arrowcolor": "#2a3f5f",
           "arrowhead": 0,
           "arrowwidth": 1
          },
          "autotypenumbers": "strict",
          "coloraxis": {
           "colorbar": {
            "outlinewidth": 0,
            "ticks": ""
           }
          },
          "colorscale": {
           "diverging": [
            [
             0,
             "#8e0152"
            ],
            [
             0.1,
             "#c51b7d"
            ],
            [
             0.2,
             "#de77ae"
            ],
            [
             0.3,
             "#f1b6da"
            ],
            [
             0.4,
             "#fde0ef"
            ],
            [
             0.5,
             "#f7f7f7"
            ],
            [
             0.6,
             "#e6f5d0"
            ],
            [
             0.7,
             "#b8e186"
            ],
            [
             0.8,
             "#7fbc41"
            ],
            [
             0.9,
             "#4d9221"
            ],
            [
             1,
             "#276419"
            ]
           ],
           "sequential": [
            [
             0,
             "#0d0887"
            ],
            [
             0.1111111111111111,
             "#46039f"
            ],
            [
             0.2222222222222222,
             "#7201a8"
            ],
            [
             0.3333333333333333,
             "#9c179e"
            ],
            [
             0.4444444444444444,
             "#bd3786"
            ],
            [
             0.5555555555555556,
             "#d8576b"
            ],
            [
             0.6666666666666666,
             "#ed7953"
            ],
            [
             0.7777777777777778,
             "#fb9f3a"
            ],
            [
             0.8888888888888888,
             "#fdca26"
            ],
            [
             1,
             "#f0f921"
            ]
           ],
           "sequentialminus": [
            [
             0,
             "#0d0887"
            ],
            [
             0.1111111111111111,
             "#46039f"
            ],
            [
             0.2222222222222222,
             "#7201a8"
            ],
            [
             0.3333333333333333,
             "#9c179e"
            ],
            [
             0.4444444444444444,
             "#bd3786"
            ],
            [
             0.5555555555555556,
             "#d8576b"
            ],
            [
             0.6666666666666666,
             "#ed7953"
            ],
            [
             0.7777777777777778,
             "#fb9f3a"
            ],
            [
             0.8888888888888888,
             "#fdca26"
            ],
            [
             1,
             "#f0f921"
            ]
           ]
          },
          "colorway": [
           "#636efa",
           "#EF553B",
           "#00cc96",
           "#ab63fa",
           "#FFA15A",
           "#19d3f3",
           "#FF6692",
           "#B6E880",
           "#FF97FF",
           "#FECB52"
          ],
          "font": {
           "color": "#2a3f5f"
          },
          "geo": {
           "bgcolor": "white",
           "lakecolor": "white",
           "landcolor": "#E5ECF6",
           "showlakes": true,
           "showland": true,
           "subunitcolor": "white"
          },
          "hoverlabel": {
           "align": "left"
          },
          "hovermode": "closest",
          "mapbox": {
           "style": "light"
          },
          "paper_bgcolor": "white",
          "plot_bgcolor": "#E5ECF6",
          "polar": {
           "angularaxis": {
            "gridcolor": "white",
            "linecolor": "white",
            "ticks": ""
           },
           "bgcolor": "#E5ECF6",
           "radialaxis": {
            "gridcolor": "white",
            "linecolor": "white",
            "ticks": ""
           }
          },
          "scene": {
           "xaxis": {
            "backgroundcolor": "#E5ECF6",
            "gridcolor": "white",
            "gridwidth": 2,
            "linecolor": "white",
            "showbackground": true,
            "ticks": "",
            "zerolinecolor": "white"
           },
           "yaxis": {
            "backgroundcolor": "#E5ECF6",
            "gridcolor": "white",
            "gridwidth": 2,
            "linecolor": "white",
            "showbackground": true,
            "ticks": "",
            "zerolinecolor": "white"
           },
           "zaxis": {
            "backgroundcolor": "#E5ECF6",
            "gridcolor": "white",
            "gridwidth": 2,
            "linecolor": "white",
            "showbackground": true,
            "ticks": "",
            "zerolinecolor": "white"
           }
          },
          "shapedefaults": {
           "line": {
            "color": "#2a3f5f"
           }
          },
          "ternary": {
           "aaxis": {
            "gridcolor": "white",
            "linecolor": "white",
            "ticks": ""
           },
           "baxis": {
            "gridcolor": "white",
            "linecolor": "white",
            "ticks": ""
           },
           "bgcolor": "#E5ECF6",
           "caxis": {
            "gridcolor": "white",
            "linecolor": "white",
            "ticks": ""
           }
          },
          "title": {
           "x": 0.05
          },
          "xaxis": {
           "automargin": true,
           "gridcolor": "white",
           "linecolor": "white",
           "ticks": "",
           "title": {
            "standoff": 15
           },
           "zerolinecolor": "white",
           "zerolinewidth": 2
          },
          "yaxis": {
           "automargin": true,
           "gridcolor": "white",
           "linecolor": "white",
           "ticks": "",
           "title": {
            "standoff": 15
           },
           "zerolinecolor": "white",
           "zerolinewidth": 2
          }
         }
        },
        "title": {
         "font": {
          "color": "#4D5663"
         },
         "text": "TimeGPT Prediction Given Oct. 21 As Final Point"
        },
        "xaxis": {
         "gridcolor": "#E1E5ED",
         "showgrid": true,
         "tickfont": {
          "color": "#4D5663"
         },
         "title": {
          "font": {
           "color": "#4D5663"
          },
          "text": "Date"
         },
         "zerolinecolor": "#E1E5ED"
        },
        "yaxis": {
         "gridcolor": "#E1E5ED",
         "showgrid": true,
         "tickfont": {
          "color": "#4D5663"
         },
         "title": {
          "font": {
           "color": "#4D5663"
          },
          "text": "Count"
         },
         "zerolinecolor": "#E1E5ED"
        }
       }
      },
      "text/html": [
       "<div>                            <div id=\"93af384d-a243-49dc-ac08-275dba715691\" class=\"plotly-graph-div\" style=\"height:525px; width:100%;\"></div>            <script type=\"text/javascript\">                require([\"plotly\"], function(Plotly) {                    window.PLOTLYENV=window.PLOTLYENV || {};\n",
       "                    window.PLOTLYENV.BASE_URL='https://plot.ly';                                    if (document.getElementById(\"93af384d-a243-49dc-ac08-275dba715691\")) {                    Plotly.newPlot(                        \"93af384d-a243-49dc-ac08-275dba715691\",                        [{\"line\":{\"color\":\"rgba(255, 153, 51, 1.0)\",\"dash\":\"solid\",\"shape\":\"linear\",\"width\":1.3},\"mode\":\"lines\",\"name\":\"TimeGPT Forecast\",\"text\":\"\",\"x\":[\"2022-02-05\",\"2022-02-12\",\"2022-02-19\",\"2022-02-26\",\"2022-03-05\",\"2022-03-12\",\"2022-03-19\",\"2022-03-26\",\"2022-04-02\",\"2022-04-09\",\"2022-04-16\",\"2022-04-23\",\"2022-04-30\",\"2022-05-07\",\"2022-05-14\",\"2022-05-21\",\"2022-05-28\",\"2022-06-04\",\"2022-06-11\",\"2022-06-18\",\"2022-06-25\",\"2022-07-02\",\"2022-07-09\",\"2022-07-16\",\"2022-07-23\",\"2022-07-30\",\"2022-08-06\",\"2022-08-13\",\"2022-08-20\",\"2022-08-27\",\"2022-09-03\",\"2022-09-10\",\"2022-09-17\",\"2022-09-24\",\"2022-10-01\",\"2022-10-08\",\"2022-10-15\",\"2022-10-22\",\"2022-10-29\",\"2022-11-05\",\"2022-11-12\",\"2022-11-19\",\"2022-11-26\",\"2022-12-03\",\"2022-12-10\",\"2022-12-17\",\"2022-12-24\",\"2022-12-31\",\"2023-01-07\",\"2023-01-14\",\"2023-01-21\",\"2023-01-28\",\"2023-02-04\",\"2023-02-11\",\"2023-02-18\",\"2023-02-25\",\"2023-03-04\",\"2023-03-11\",\"2023-03-18\",\"2023-03-25\",\"2023-04-01\",\"2023-04-08\",\"2023-04-15\",\"2023-04-22\",\"2023-04-29\",\"2023-05-06\",\"2023-05-13\",\"2023-05-20\",\"2023-05-27\",\"2023-06-03\",\"2023-06-10\",\"2023-06-17\",\"2023-06-24\",\"2023-07-01\",\"2023-07-08\",\"2023-07-15\",\"2023-07-22\",\"2023-07-29\",\"2023-08-05\",\"2023-08-12\",\"2023-08-19\",\"2023-08-26\",\"2023-09-02\",\"2023-09-09\",\"2023-09-16\",\"2023-09-23\",\"2023-09-30\",\"2023-10-07\",\"2023-10-14\",\"2023-10-21\",\"2023-10-28\",\"2023-11-04\",\"2023-11-11\",\"2023-11-18\",\"2023-11-25\",\"2023-12-02\",\"2023-12-09\",\"2023-12-16\",\"2023-12-23\",\"2023-12-30\",\"2024-01-06\"],\"y\":[\"\",\"\",\"\",\"\",\"\",\"\",\"\",\"\",\"\",\"\",\"\",\"\",\"\",\"\",\"\",\"\",\"\",\"\",\"\",\"\",\"\",\"\",\"\",\"\",\"\",\"\",\"\",\"\",\"\",\"\",\"\",\"\",\"\",\"\",\"\",\"\",\"\",\"\",\"\",\"\",\"\",\"\",\"\",\"\",\"\",\"\",\"\",\"\",\"\",\"\",\"\",\"\",\"\",\"\",\"\",\"\",\"\",\"\",\"\",\"\",\"\",\"\",\"\",\"\",\"\",\"\",\"\",\"\",\"\",\"\",\"\",\"\",\"\",\"\",\"\",\"\",\"\",\"\",\"\",\"\",\"\",\"\",\"\",\"\",\"\",\"\",\"\",\"\",\"\",\"\",3200.3018,4718.25,6104.5317,8564.551,13323.73,17145.393,18295.277,17735.814,17067.623,15743.491,11254.477],\"type\":\"scatter\"},{\"line\":{\"color\":\"rgba(55, 128, 191, 1.0)\",\"dash\":\"solid\",\"shape\":\"linear\",\"width\":1.3},\"mode\":\"lines\",\"name\":\"Training Data\",\"text\":\"\",\"x\":[\"2022-02-05\",\"2022-02-12\",\"2022-02-19\",\"2022-02-26\",\"2022-03-05\",\"2022-03-12\",\"2022-03-19\",\"2022-03-26\",\"2022-04-02\",\"2022-04-09\",\"2022-04-16\",\"2022-04-23\",\"2022-04-30\",\"2022-05-07\",\"2022-05-14\",\"2022-05-21\",\"2022-05-28\",\"2022-06-04\",\"2022-06-11\",\"2022-06-18\",\"2022-06-25\",\"2022-07-02\",\"2022-07-09\",\"2022-07-16\",\"2022-07-23\",\"2022-07-30\",\"2022-08-06\",\"2022-08-13\",\"2022-08-20\",\"2022-08-27\",\"2022-09-03\",\"2022-09-10\",\"2022-09-17\",\"2022-09-24\",\"2022-10-01\",\"2022-10-08\",\"2022-10-15\",\"2022-10-22\",\"2022-10-29\",\"2022-11-05\",\"2022-11-12\",\"2022-11-19\",\"2022-11-26\",\"2022-12-03\",\"2022-12-10\",\"2022-12-17\",\"2022-12-24\",\"2022-12-31\",\"2023-01-07\",\"2023-01-14\",\"2023-01-21\",\"2023-01-28\",\"2023-02-04\",\"2023-02-11\",\"2023-02-18\",\"2023-02-25\",\"2023-03-04\",\"2023-03-11\",\"2023-03-18\",\"2023-03-25\",\"2023-04-01\",\"2023-04-08\",\"2023-04-15\",\"2023-04-22\",\"2023-04-29\",\"2023-05-06\",\"2023-05-13\",\"2023-05-20\",\"2023-05-27\",\"2023-06-03\",\"2023-06-10\",\"2023-06-17\",\"2023-06-24\",\"2023-07-01\",\"2023-07-08\",\"2023-07-15\",\"2023-07-22\",\"2023-07-29\",\"2023-08-05\",\"2023-08-12\",\"2023-08-19\",\"2023-08-26\",\"2023-09-02\",\"2023-09-09\",\"2023-09-16\",\"2023-09-23\",\"2023-09-30\",\"2023-10-07\",\"2023-10-14\",\"2023-10-21\",\"2023-10-28\",\"2023-11-04\",\"2023-11-11\",\"2023-11-18\",\"2023-11-25\",\"2023-12-02\",\"2023-12-09\",\"2023-12-16\",\"2023-12-23\",\"2023-12-30\",\"2024-01-06\"],\"y\":[1095.0,1164.0,1493.0,1603.0,1791.0,2097.0,2626.0,2919.0,3008.0,3149.0,3308.0,3474.0,3182.0,3175.0,3119.0,3134.0,2738.0,2678.0,2210.0,1776.0,1366.0,1073.0,776.0,766.0,628.0,522.0,486.0,490.0,483.0,483.0,545.0,576.0,665.0,796.0,921.0,1316.0,1674.0,2292.0,4184.0,6409.0,8595.0,10974.0,18185.0,26853.0,24039.0,21615.0,19634.0,19482.0,14078.0,7191.0,4492.0,3092.0,2597.0,2177.0,1908.0,1649.0,1504.0,1372.0,1415.0,1331.0,1295.0,1199.0,1077.0,982.0,903.0,994.0,980.0,1116.0,974.0,939.0,935.0,873.0,813.0,836.0,699.0,736.0,645.0,772.0,690.0,706.0,738.0,793.0,875.0,804.0,821.0,884.0,1026.0,1110.0,1215.0,1470.0,\"\",\"\",\"\",\"\",\"\",\"\",\"\",\"\",\"\",\"\",\"\"],\"type\":\"scatter\"},{\"line\":{\"color\":\"rgba(50, 171, 96, 1.0)\",\"dash\":\"solid\",\"shape\":\"linear\",\"width\":1.3},\"mode\":\"lines\",\"name\":\"Real Data\",\"text\":\"\",\"x\":[\"2022-02-05\",\"2022-02-12\",\"2022-02-19\",\"2022-02-26\",\"2022-03-05\",\"2022-03-12\",\"2022-03-19\",\"2022-03-26\",\"2022-04-02\",\"2022-04-09\",\"2022-04-16\",\"2022-04-23\",\"2022-04-30\",\"2022-05-07\",\"2022-05-14\",\"2022-05-21\",\"2022-05-28\",\"2022-06-04\",\"2022-06-11\",\"2022-06-18\",\"2022-06-25\",\"2022-07-02\",\"2022-07-09\",\"2022-07-16\",\"2022-07-23\",\"2022-07-30\",\"2022-08-06\",\"2022-08-13\",\"2022-08-20\",\"2022-08-27\",\"2022-09-03\",\"2022-09-10\",\"2022-09-17\",\"2022-09-24\",\"2022-10-01\",\"2022-10-08\",\"2022-10-15\",\"2022-10-22\",\"2022-10-29\",\"2022-11-05\",\"2022-11-12\",\"2022-11-19\",\"2022-11-26\",\"2022-12-03\",\"2022-12-10\",\"2022-12-17\",\"2022-12-24\",\"2022-12-31\",\"2023-01-07\",\"2023-01-14\",\"2023-01-21\",\"2023-01-28\",\"2023-02-04\",\"2023-02-11\",\"2023-02-18\",\"2023-02-25\",\"2023-03-04\",\"2023-03-11\",\"2023-03-18\",\"2023-03-25\",\"2023-04-01\",\"2023-04-08\",\"2023-04-15\",\"2023-04-22\",\"2023-04-29\",\"2023-05-06\",\"2023-05-13\",\"2023-05-20\",\"2023-05-27\",\"2023-06-03\",\"2023-06-10\",\"2023-06-17\",\"2023-06-24\",\"2023-07-01\",\"2023-07-08\",\"2023-07-15\",\"2023-07-22\",\"2023-07-29\",\"2023-08-05\",\"2023-08-12\",\"2023-08-19\",\"2023-08-26\",\"2023-09-02\",\"2023-09-09\",\"2023-09-16\",\"2023-09-23\",\"2023-09-30\",\"2023-10-07\",\"2023-10-14\",\"2023-10-21\",\"2023-10-28\",\"2023-11-04\",\"2023-11-11\",\"2023-11-18\",\"2023-11-25\",\"2023-12-02\",\"2023-12-09\",\"2023-12-16\",\"2023-12-23\",\"2023-12-30\",\"2024-01-06\"],\"y\":[\"\",\"\",\"\",\"\",\"\",\"\",\"\",\"\",\"\",\"\",\"\",\"\",\"\",\"\",\"\",\"\",\"\",\"\",\"\",\"\",\"\",\"\",\"\",\"\",\"\",\"\",\"\",\"\",\"\",\"\",\"\",\"\",\"\",\"\",\"\",\"\",\"\",\"\",\"\",\"\",\"\",\"\",\"\",\"\",\"\",\"\",\"\",\"\",\"\",\"\",\"\",\"\",\"\",\"\",\"\",\"\",\"\",\"\",\"\",\"\",\"\",\"\",\"\",\"\",\"\",\"\",\"\",\"\",\"\",\"\",\"\",\"\",\"\",\"\",\"\",\"\",\"\",\"\",\"\",\"\",\"\",\"\",\"\",\"\",\"\",\"\",\"\",\"\",\"\",\"\",1614.0,2014.0,2776.0,3492.0,4387.0,5962.0,7510.0,10289.0,15727.0,21685.0,19550.0],\"type\":\"scatter\"}],                        {\"legend\":{\"bgcolor\":\"#F5F6F9\",\"font\":{\"color\":\"#4D5663\"}},\"paper_bgcolor\":\"#F5F6F9\",\"plot_bgcolor\":\"#F5F6F9\",\"template\":{\"data\":{\"barpolar\":[{\"marker\":{\"line\":{\"color\":\"#E5ECF6\",\"width\":0.5},\"pattern\":{\"fillmode\":\"overlay\",\"size\":10,\"solidity\":0.2}},\"type\":\"barpolar\"}],\"bar\":[{\"error_x\":{\"color\":\"#2a3f5f\"},\"error_y\":{\"color\":\"#2a3f5f\"},\"marker\":{\"line\":{\"color\":\"#E5ECF6\",\"width\":0.5},\"pattern\":{\"fillmode\":\"overlay\",\"size\":10,\"solidity\":0.2}},\"type\":\"bar\"}],\"carpet\":[{\"aaxis\":{\"endlinecolor\":\"#2a3f5f\",\"gridcolor\":\"white\",\"linecolor\":\"white\",\"minorgridcolor\":\"white\",\"startlinecolor\":\"#2a3f5f\"},\"baxis\":{\"endlinecolor\":\"#2a3f5f\",\"gridcolor\":\"white\",\"linecolor\":\"white\",\"minorgridcolor\":\"white\",\"startlinecolor\":\"#2a3f5f\"},\"type\":\"carpet\"}],\"choropleth\":[{\"colorbar\":{\"outlinewidth\":0,\"ticks\":\"\"},\"type\":\"choropleth\"}],\"contourcarpet\":[{\"colorbar\":{\"outlinewidth\":0,\"ticks\":\"\"},\"type\":\"contourcarpet\"}],\"contour\":[{\"colorbar\":{\"outlinewidth\":0,\"ticks\":\"\"},\"colorscale\":[[0.0,\"#0d0887\"],[0.1111111111111111,\"#46039f\"],[0.2222222222222222,\"#7201a8\"],[0.3333333333333333,\"#9c179e\"],[0.4444444444444444,\"#bd3786\"],[0.5555555555555556,\"#d8576b\"],[0.6666666666666666,\"#ed7953\"],[0.7777777777777778,\"#fb9f3a\"],[0.8888888888888888,\"#fdca26\"],[1.0,\"#f0f921\"]],\"type\":\"contour\"}],\"heatmapgl\":[{\"colorbar\":{\"outlinewidth\":0,\"ticks\":\"\"},\"colorscale\":[[0.0,\"#0d0887\"],[0.1111111111111111,\"#46039f\"],[0.2222222222222222,\"#7201a8\"],[0.3333333333333333,\"#9c179e\"],[0.4444444444444444,\"#bd3786\"],[0.5555555555555556,\"#d8576b\"],[0.6666666666666666,\"#ed7953\"],[0.7777777777777778,\"#fb9f3a\"],[0.8888888888888888,\"#fdca26\"],[1.0,\"#f0f921\"]],\"type\":\"heatmapgl\"}],\"heatmap\":[{\"colorbar\":{\"outlinewidth\":0,\"ticks\":\"\"},\"colorscale\":[[0.0,\"#0d0887\"],[0.1111111111111111,\"#46039f\"],[0.2222222222222222,\"#7201a8\"],[0.3333333333333333,\"#9c179e\"],[0.4444444444444444,\"#bd3786\"],[0.5555555555555556,\"#d8576b\"],[0.6666666666666666,\"#ed7953\"],[0.7777777777777778,\"#fb9f3a\"],[0.8888888888888888,\"#fdca26\"],[1.0,\"#f0f921\"]],\"type\":\"heatmap\"}],\"histogram2dcontour\":[{\"colorbar\":{\"outlinewidth\":0,\"ticks\":\"\"},\"colorscale\":[[0.0,\"#0d0887\"],[0.1111111111111111,\"#46039f\"],[0.2222222222222222,\"#7201a8\"],[0.3333333333333333,\"#9c179e\"],[0.4444444444444444,\"#bd3786\"],[0.5555555555555556,\"#d8576b\"],[0.6666666666666666,\"#ed7953\"],[0.7777777777777778,\"#fb9f3a\"],[0.8888888888888888,\"#fdca26\"],[1.0,\"#f0f921\"]],\"type\":\"histogram2dcontour\"}],\"histogram2d\":[{\"colorbar\":{\"outlinewidth\":0,\"ticks\":\"\"},\"colorscale\":[[0.0,\"#0d0887\"],[0.1111111111111111,\"#46039f\"],[0.2222222222222222,\"#7201a8\"],[0.3333333333333333,\"#9c179e\"],[0.4444444444444444,\"#bd3786\"],[0.5555555555555556,\"#d8576b\"],[0.6666666666666666,\"#ed7953\"],[0.7777777777777778,\"#fb9f3a\"],[0.8888888888888888,\"#fdca26\"],[1.0,\"#f0f921\"]],\"type\":\"histogram2d\"}],\"histogram\":[{\"marker\":{\"pattern\":{\"fillmode\":\"overlay\",\"size\":10,\"solidity\":0.2}},\"type\":\"histogram\"}],\"mesh3d\":[{\"colorbar\":{\"outlinewidth\":0,\"ticks\":\"\"},\"type\":\"mesh3d\"}],\"parcoords\":[{\"line\":{\"colorbar\":{\"outlinewidth\":0,\"ticks\":\"\"}},\"type\":\"parcoords\"}],\"pie\":[{\"automargin\":true,\"type\":\"pie\"}],\"scatter3d\":[{\"line\":{\"colorbar\":{\"outlinewidth\":0,\"ticks\":\"\"}},\"marker\":{\"colorbar\":{\"outlinewidth\":0,\"ticks\":\"\"}},\"type\":\"scatter3d\"}],\"scattercarpet\":[{\"marker\":{\"colorbar\":{\"outlinewidth\":0,\"ticks\":\"\"}},\"type\":\"scattercarpet\"}],\"scattergeo\":[{\"marker\":{\"colorbar\":{\"outlinewidth\":0,\"ticks\":\"\"}},\"type\":\"scattergeo\"}],\"scattergl\":[{\"marker\":{\"colorbar\":{\"outlinewidth\":0,\"ticks\":\"\"}},\"type\":\"scattergl\"}],\"scattermapbox\":[{\"marker\":{\"colorbar\":{\"outlinewidth\":0,\"ticks\":\"\"}},\"type\":\"scattermapbox\"}],\"scatterpolargl\":[{\"marker\":{\"colorbar\":{\"outlinewidth\":0,\"ticks\":\"\"}},\"type\":\"scatterpolargl\"}],\"scatterpolar\":[{\"marker\":{\"colorbar\":{\"outlinewidth\":0,\"ticks\":\"\"}},\"type\":\"scatterpolar\"}],\"scatter\":[{\"fillpattern\":{\"fillmode\":\"overlay\",\"size\":10,\"solidity\":0.2},\"type\":\"scatter\"}],\"scatterternary\":[{\"marker\":{\"colorbar\":{\"outlinewidth\":0,\"ticks\":\"\"}},\"type\":\"scatterternary\"}],\"surface\":[{\"colorbar\":{\"outlinewidth\":0,\"ticks\":\"\"},\"colorscale\":[[0.0,\"#0d0887\"],[0.1111111111111111,\"#46039f\"],[0.2222222222222222,\"#7201a8\"],[0.3333333333333333,\"#9c179e\"],[0.4444444444444444,\"#bd3786\"],[0.5555555555555556,\"#d8576b\"],[0.6666666666666666,\"#ed7953\"],[0.7777777777777778,\"#fb9f3a\"],[0.8888888888888888,\"#fdca26\"],[1.0,\"#f0f921\"]],\"type\":\"surface\"}],\"table\":[{\"cells\":{\"fill\":{\"color\":\"#EBF0F8\"},\"line\":{\"color\":\"white\"}},\"header\":{\"fill\":{\"color\":\"#C8D4E3\"},\"line\":{\"color\":\"white\"}},\"type\":\"table\"}]},\"layout\":{\"annotationdefaults\":{\"arrowcolor\":\"#2a3f5f\",\"arrowhead\":0,\"arrowwidth\":1},\"autotypenumbers\":\"strict\",\"coloraxis\":{\"colorbar\":{\"outlinewidth\":0,\"ticks\":\"\"}},\"colorscale\":{\"diverging\":[[0,\"#8e0152\"],[0.1,\"#c51b7d\"],[0.2,\"#de77ae\"],[0.3,\"#f1b6da\"],[0.4,\"#fde0ef\"],[0.5,\"#f7f7f7\"],[0.6,\"#e6f5d0\"],[0.7,\"#b8e186\"],[0.8,\"#7fbc41\"],[0.9,\"#4d9221\"],[1,\"#276419\"]],\"sequential\":[[0.0,\"#0d0887\"],[0.1111111111111111,\"#46039f\"],[0.2222222222222222,\"#7201a8\"],[0.3333333333333333,\"#9c179e\"],[0.4444444444444444,\"#bd3786\"],[0.5555555555555556,\"#d8576b\"],[0.6666666666666666,\"#ed7953\"],[0.7777777777777778,\"#fb9f3a\"],[0.8888888888888888,\"#fdca26\"],[1.0,\"#f0f921\"]],\"sequentialminus\":[[0.0,\"#0d0887\"],[0.1111111111111111,\"#46039f\"],[0.2222222222222222,\"#7201a8\"],[0.3333333333333333,\"#9c179e\"],[0.4444444444444444,\"#bd3786\"],[0.5555555555555556,\"#d8576b\"],[0.6666666666666666,\"#ed7953\"],[0.7777777777777778,\"#fb9f3a\"],[0.8888888888888888,\"#fdca26\"],[1.0,\"#f0f921\"]]},\"colorway\":[\"#636efa\",\"#EF553B\",\"#00cc96\",\"#ab63fa\",\"#FFA15A\",\"#19d3f3\",\"#FF6692\",\"#B6E880\",\"#FF97FF\",\"#FECB52\"],\"font\":{\"color\":\"#2a3f5f\"},\"geo\":{\"bgcolor\":\"white\",\"lakecolor\":\"white\",\"landcolor\":\"#E5ECF6\",\"showlakes\":true,\"showland\":true,\"subunitcolor\":\"white\"},\"hoverlabel\":{\"align\":\"left\"},\"hovermode\":\"closest\",\"mapbox\":{\"style\":\"light\"},\"paper_bgcolor\":\"white\",\"plot_bgcolor\":\"#E5ECF6\",\"polar\":{\"angularaxis\":{\"gridcolor\":\"white\",\"linecolor\":\"white\",\"ticks\":\"\"},\"bgcolor\":\"#E5ECF6\",\"radialaxis\":{\"gridcolor\":\"white\",\"linecolor\":\"white\",\"ticks\":\"\"}},\"scene\":{\"xaxis\":{\"backgroundcolor\":\"#E5ECF6\",\"gridcolor\":\"white\",\"gridwidth\":2,\"linecolor\":\"white\",\"showbackground\":true,\"ticks\":\"\",\"zerolinecolor\":\"white\"},\"yaxis\":{\"backgroundcolor\":\"#E5ECF6\",\"gridcolor\":\"white\",\"gridwidth\":2,\"linecolor\":\"white\",\"showbackground\":true,\"ticks\":\"\",\"zerolinecolor\":\"white\"},\"zaxis\":{\"backgroundcolor\":\"#E5ECF6\",\"gridcolor\":\"white\",\"gridwidth\":2,\"linecolor\":\"white\",\"showbackground\":true,\"ticks\":\"\",\"zerolinecolor\":\"white\"}},\"shapedefaults\":{\"line\":{\"color\":\"#2a3f5f\"}},\"ternary\":{\"aaxis\":{\"gridcolor\":\"white\",\"linecolor\":\"white\",\"ticks\":\"\"},\"baxis\":{\"gridcolor\":\"white\",\"linecolor\":\"white\",\"ticks\":\"\"},\"bgcolor\":\"#E5ECF6\",\"caxis\":{\"gridcolor\":\"white\",\"linecolor\":\"white\",\"ticks\":\"\"}},\"title\":{\"x\":0.05},\"xaxis\":{\"automargin\":true,\"gridcolor\":\"white\",\"linecolor\":\"white\",\"ticks\":\"\",\"title\":{\"standoff\":15},\"zerolinecolor\":\"white\",\"zerolinewidth\":2},\"yaxis\":{\"automargin\":true,\"gridcolor\":\"white\",\"linecolor\":\"white\",\"ticks\":\"\",\"title\":{\"standoff\":15},\"zerolinecolor\":\"white\",\"zerolinewidth\":2}}},\"title\":{\"font\":{\"color\":\"#4D5663\"},\"text\":\"TimeGPT Prediction Given Oct. 21 As Final Point\"},\"xaxis\":{\"gridcolor\":\"#E1E5ED\",\"showgrid\":true,\"tickfont\":{\"color\":\"#4D5663\"},\"title\":{\"font\":{\"color\":\"#4D5663\"},\"text\":\"Date\"},\"zerolinecolor\":\"#E1E5ED\"},\"yaxis\":{\"gridcolor\":\"#E1E5ED\",\"showgrid\":true,\"tickfont\":{\"color\":\"#4D5663\"},\"title\":{\"font\":{\"color\":\"#4D5663\"},\"text\":\"Count\"},\"zerolinecolor\":\"#E1E5ED\"}},                        {\"showLink\": true, \"linkText\": \"Export to plot.ly\", \"plotlyServerURL\": \"https://plot.ly\", \"responsive\": true}                    ).then(function(){\n",
       "                            \n",
       "var gd = document.getElementById('93af384d-a243-49dc-ac08-275dba715691');\n",
       "var x = new MutationObserver(function (mutations, observer) {{\n",
       "        var display = window.getComputedStyle(gd).display;\n",
       "        if (!display || display === 'none') {{\n",
       "            console.log([gd, 'removed!']);\n",
       "            Plotly.purge(gd);\n",
       "            observer.disconnect();\n",
       "        }}\n",
       "}});\n",
       "\n",
       "// Listen for the removal of the full notebook cells\n",
       "var notebookContainer = gd.closest('#notebook-container');\n",
       "if (notebookContainer) {{\n",
       "    x.observe(notebookContainer, {childList: true});\n",
       "}}\n",
       "\n",
       "// Listen for the clearing of the current output cell\n",
       "var outputEl = gd.closest('.output');\n",
       "if (outputEl) {{\n",
       "    x.observe(outputEl, {childList: true});\n",
       "}}\n",
       "\n",
       "                        })                };                });            </script>        </div>"
      ]
     },
     "metadata": {},
     "output_type": "display_data"
    }
   ],
   "source": [
    "oct21plottingdf.iplot(xTitle = \"Date\", yTitle = \"Count\", title = \"TimeGPT Prediction Given Oct. 21 As Final Point\")"
   ]
  },
  {
   "cell_type": "code",
   "execution_count": 20,
   "id": "1632a2f4",
   "metadata": {},
   "outputs": [
    {
     "name": "stdout",
     "output_type": "stream",
     "text": [
      "MAE: 6056.500318181817\n",
      "MAPE: 1.0757765185400536\n",
      "MSE: 48114943.66000927\n"
     ]
    }
   ],
   "source": [
    "#Metrics\n",
    "print(\"MAE:\",mean_absolute_error(entire_df[\"2023-10-28\" : \"2024-01-06\"], oct21forecast[\"TimeGPT\"]))\n",
    "print(\"MAPE:\",mean_absolute_percentage_error(entire_df[\"2023-10-28\" : \"2024-01-06\"], oct21forecast[\"TimeGPT\"]))\n",
    "print(\"MSE:\",mean_squared_error(entire_df[\"2023-10-28\" : \"2024-01-06\"], oct21forecast[\"TimeGPT\"]))"
   ]
  },
  {
   "cell_type": "code",
   "execution_count": 41,
   "id": "9f000b30",
   "metadata": {},
   "outputs": [
    {
     "data": {
      "text/html": [
       "<div>\n",
       "<style scoped>\n",
       "    .dataframe tbody tr th:only-of-type {\n",
       "        vertical-align: middle;\n",
       "    }\n",
       "\n",
       "    .dataframe tbody tr th {\n",
       "        vertical-align: top;\n",
       "    }\n",
       "\n",
       "    .dataframe thead th {\n",
       "        text-align: right;\n",
       "    }\n",
       "</style>\n",
       "<table border=\"1\" class=\"dataframe\">\n",
       "  <thead>\n",
       "    <tr style=\"text-align: right;\">\n",
       "      <th></th>\n",
       "      <th>value</th>\n",
       "    </tr>\n",
       "    <tr>\n",
       "      <th>date</th>\n",
       "      <th></th>\n",
       "    </tr>\n",
       "  </thead>\n",
       "  <tbody>\n",
       "    <tr>\n",
       "      <th>2022-02-05</th>\n",
       "      <td>1095.0</td>\n",
       "    </tr>\n",
       "    <tr>\n",
       "      <th>2022-02-12</th>\n",
       "      <td>1164.0</td>\n",
       "    </tr>\n",
       "    <tr>\n",
       "      <th>2022-02-19</th>\n",
       "      <td>1493.0</td>\n",
       "    </tr>\n",
       "    <tr>\n",
       "      <th>2022-02-26</th>\n",
       "      <td>1603.0</td>\n",
       "    </tr>\n",
       "    <tr>\n",
       "      <th>2022-03-05</th>\n",
       "      <td>1791.0</td>\n",
       "    </tr>\n",
       "    <tr>\n",
       "      <th>...</th>\n",
       "      <td>...</td>\n",
       "    </tr>\n",
       "    <tr>\n",
       "      <th>2023-09-30</th>\n",
       "      <td>1026.0</td>\n",
       "    </tr>\n",
       "    <tr>\n",
       "      <th>2023-10-07</th>\n",
       "      <td>1110.0</td>\n",
       "    </tr>\n",
       "    <tr>\n",
       "      <th>2023-10-14</th>\n",
       "      <td>1215.0</td>\n",
       "    </tr>\n",
       "    <tr>\n",
       "      <th>2023-10-21</th>\n",
       "      <td>1470.0</td>\n",
       "    </tr>\n",
       "    <tr>\n",
       "      <th>2023-10-28</th>\n",
       "      <td>1614.0</td>\n",
       "    </tr>\n",
       "  </tbody>\n",
       "</table>\n",
       "<p>91 rows × 1 columns</p>\n",
       "</div>"
      ],
      "text/plain": [
       "             value\n",
       "date              \n",
       "2022-02-05  1095.0\n",
       "2022-02-12  1164.0\n",
       "2022-02-19  1493.0\n",
       "2022-02-26  1603.0\n",
       "2022-03-05  1791.0\n",
       "...            ...\n",
       "2023-09-30  1026.0\n",
       "2023-10-07  1110.0\n",
       "2023-10-14  1215.0\n",
       "2023-10-21  1470.0\n",
       "2023-10-28  1614.0\n",
       "\n",
       "[91 rows x 1 columns]"
      ]
     },
     "execution_count": 41,
     "metadata": {},
     "output_type": "execute_result"
    }
   ],
   "source": [
    "oct28df"
   ]
  },
  {
   "cell_type": "code",
   "execution_count": 21,
   "id": "72b23b48",
   "metadata": {},
   "outputs": [
    {
     "name": "stderr",
     "output_type": "stream",
     "text": [
      "INFO:nixtla.nixtla_client:Validating inputs...\n",
      "INFO:nixtla.nixtla_client:Inferred freq: W-SAT\n",
      "INFO:nixtla.nixtla_client:Preprocessing dataframes...\n",
      "WARNING:nixtla.nixtla_client:The specified horizon \"h\" exceeds the model horizon, this may lead to less accurate forecasts. Please consider using a smaller horizon.\n",
      "INFO:nixtla.nixtla_client:Restricting input...\n",
      "INFO:nixtla.nixtla_client:Calling Forecast Endpoint...\n"
     ]
    }
   ],
   "source": [
    "#Training, forecasting, and plotting for Oct 28 df\n",
    "\n",
    "oct28forecast = nixtla_client.forecast(df = oct28df, time_col=\"date\", target_col=\"value\", h=10)\n",
    "oct28forecast = oct28forecast.set_index(\"date\")"
   ]
  },
  {
   "cell_type": "code",
   "execution_count": 22,
   "id": "fe200f1b",
   "metadata": {},
   "outputs": [
    {
     "data": {
      "text/html": [
       "<div>\n",
       "<style scoped>\n",
       "    .dataframe tbody tr th:only-of-type {\n",
       "        vertical-align: middle;\n",
       "    }\n",
       "\n",
       "    .dataframe tbody tr th {\n",
       "        vertical-align: top;\n",
       "    }\n",
       "\n",
       "    .dataframe thead th {\n",
       "        text-align: right;\n",
       "    }\n",
       "</style>\n",
       "<table border=\"1\" class=\"dataframe\">\n",
       "  <thead>\n",
       "    <tr style=\"text-align: right;\">\n",
       "      <th></th>\n",
       "      <th>TimeGPT Forecast</th>\n",
       "      <th>Training Data</th>\n",
       "      <th>Real Data</th>\n",
       "    </tr>\n",
       "    <tr>\n",
       "      <th>date</th>\n",
       "      <th></th>\n",
       "      <th></th>\n",
       "      <th></th>\n",
       "    </tr>\n",
       "  </thead>\n",
       "  <tbody>\n",
       "    <tr>\n",
       "      <th>2022-02-05</th>\n",
       "      <td>NaN</td>\n",
       "      <td>1095.0</td>\n",
       "      <td>NaN</td>\n",
       "    </tr>\n",
       "    <tr>\n",
       "      <th>2022-02-12</th>\n",
       "      <td>NaN</td>\n",
       "      <td>1164.0</td>\n",
       "      <td>NaN</td>\n",
       "    </tr>\n",
       "    <tr>\n",
       "      <th>2022-02-19</th>\n",
       "      <td>NaN</td>\n",
       "      <td>1493.0</td>\n",
       "      <td>NaN</td>\n",
       "    </tr>\n",
       "    <tr>\n",
       "      <th>2022-02-26</th>\n",
       "      <td>NaN</td>\n",
       "      <td>1603.0</td>\n",
       "      <td>NaN</td>\n",
       "    </tr>\n",
       "    <tr>\n",
       "      <th>2022-03-05</th>\n",
       "      <td>NaN</td>\n",
       "      <td>1791.0</td>\n",
       "      <td>NaN</td>\n",
       "    </tr>\n",
       "    <tr>\n",
       "      <th>...</th>\n",
       "      <td>...</td>\n",
       "      <td>...</td>\n",
       "      <td>...</td>\n",
       "    </tr>\n",
       "    <tr>\n",
       "      <th>2023-12-09</th>\n",
       "      <td>13883.653</td>\n",
       "      <td>NaN</td>\n",
       "      <td>7510.0</td>\n",
       "    </tr>\n",
       "    <tr>\n",
       "      <th>2023-12-16</th>\n",
       "      <td>12983.673</td>\n",
       "      <td>NaN</td>\n",
       "      <td>10289.0</td>\n",
       "    </tr>\n",
       "    <tr>\n",
       "      <th>2023-12-23</th>\n",
       "      <td>12255.561</td>\n",
       "      <td>NaN</td>\n",
       "      <td>15727.0</td>\n",
       "    </tr>\n",
       "    <tr>\n",
       "      <th>2023-12-30</th>\n",
       "      <td>12273.593</td>\n",
       "      <td>NaN</td>\n",
       "      <td>21685.0</td>\n",
       "    </tr>\n",
       "    <tr>\n",
       "      <th>2024-01-06</th>\n",
       "      <td>10079.804</td>\n",
       "      <td>NaN</td>\n",
       "      <td>19550.0</td>\n",
       "    </tr>\n",
       "  </tbody>\n",
       "</table>\n",
       "<p>101 rows × 3 columns</p>\n",
       "</div>"
      ],
      "text/plain": [
       "            TimeGPT Forecast  Training Data  Real Data\n",
       "date                                                  \n",
       "2022-02-05               NaN         1095.0        NaN\n",
       "2022-02-12               NaN         1164.0        NaN\n",
       "2022-02-19               NaN         1493.0        NaN\n",
       "2022-02-26               NaN         1603.0        NaN\n",
       "2022-03-05               NaN         1791.0        NaN\n",
       "...                      ...            ...        ...\n",
       "2023-12-09         13883.653            NaN     7510.0\n",
       "2023-12-16         12983.673            NaN    10289.0\n",
       "2023-12-23         12255.561            NaN    15727.0\n",
       "2023-12-30         12273.593            NaN    21685.0\n",
       "2024-01-06         10079.804            NaN    19550.0\n",
       "\n",
       "[101 rows x 3 columns]"
      ]
     },
     "execution_count": 22,
     "metadata": {},
     "output_type": "execute_result"
    }
   ],
   "source": [
    "oct28plottingdf = pd.DataFrame()\n",
    "oct28plottingdf.index = entire_df.index\n",
    "oct28plottingdf = oct28plottingdf.loc[: \"2024-01-06\"]\n",
    "\n",
    "oct28plottingdf[\"TimeGPT Forecast\"] = oct28forecast[\"TimeGPT\"]\n",
    "oct28plottingdf[\"Training Data\"] = oct28df[\"value\"]\n",
    "oct28plottingdf[\"Real Data\"] = entire_df[\"2023-11-04\" : \"2024-01-06\"]\n",
    "\n",
    "oct28plottingdf"
   ]
  },
  {
   "cell_type": "code",
   "execution_count": 23,
   "id": "61ae8931",
   "metadata": {},
   "outputs": [
    {
     "name": "stderr",
     "output_type": "stream",
     "text": [
      "/Users/anshulchiranth/anaconda3/lib/python3.11/site-packages/cufflinks/plotlytools.py:117: FutureWarning:\n",
      "\n",
      "DatetimeIndex.format is deprecated and will be removed in a future version. Convert using index.astype(str) or index.map(formatter) instead.\n",
      "\n"
     ]
    },
    {
     "data": {
      "application/vnd.plotly.v1+json": {
       "config": {
        "linkText": "Export to plot.ly",
        "plotlyServerURL": "https://plot.ly",
        "showLink": true
       },
       "data": [
        {
         "line": {
          "color": "rgba(255, 153, 51, 1.0)",
          "dash": "solid",
          "shape": "linear",
          "width": 1.3
         },
         "mode": "lines",
         "name": "TimeGPT Forecast",
         "text": "",
         "type": "scatter",
         "x": [
          "2022-02-05",
          "2022-02-12",
          "2022-02-19",
          "2022-02-26",
          "2022-03-05",
          "2022-03-12",
          "2022-03-19",
          "2022-03-26",
          "2022-04-02",
          "2022-04-09",
          "2022-04-16",
          "2022-04-23",
          "2022-04-30",
          "2022-05-07",
          "2022-05-14",
          "2022-05-21",
          "2022-05-28",
          "2022-06-04",
          "2022-06-11",
          "2022-06-18",
          "2022-06-25",
          "2022-07-02",
          "2022-07-09",
          "2022-07-16",
          "2022-07-23",
          "2022-07-30",
          "2022-08-06",
          "2022-08-13",
          "2022-08-20",
          "2022-08-27",
          "2022-09-03",
          "2022-09-10",
          "2022-09-17",
          "2022-09-24",
          "2022-10-01",
          "2022-10-08",
          "2022-10-15",
          "2022-10-22",
          "2022-10-29",
          "2022-11-05",
          "2022-11-12",
          "2022-11-19",
          "2022-11-26",
          "2022-12-03",
          "2022-12-10",
          "2022-12-17",
          "2022-12-24",
          "2022-12-31",
          "2023-01-07",
          "2023-01-14",
          "2023-01-21",
          "2023-01-28",
          "2023-02-04",
          "2023-02-11",
          "2023-02-18",
          "2023-02-25",
          "2023-03-04",
          "2023-03-11",
          "2023-03-18",
          "2023-03-25",
          "2023-04-01",
          "2023-04-08",
          "2023-04-15",
          "2023-04-22",
          "2023-04-29",
          "2023-05-06",
          "2023-05-13",
          "2023-05-20",
          "2023-05-27",
          "2023-06-03",
          "2023-06-10",
          "2023-06-17",
          "2023-06-24",
          "2023-07-01",
          "2023-07-08",
          "2023-07-15",
          "2023-07-22",
          "2023-07-29",
          "2023-08-05",
          "2023-08-12",
          "2023-08-19",
          "2023-08-26",
          "2023-09-02",
          "2023-09-09",
          "2023-09-16",
          "2023-09-23",
          "2023-09-30",
          "2023-10-07",
          "2023-10-14",
          "2023-10-21",
          "2023-10-28",
          "2023-11-04",
          "2023-11-11",
          "2023-11-18",
          "2023-11-25",
          "2023-12-02",
          "2023-12-09",
          "2023-12-16",
          "2023-12-23",
          "2023-12-30",
          "2024-01-06"
         ],
         "y": [
          "",
          "",
          "",
          "",
          "",
          "",
          "",
          "",
          "",
          "",
          "",
          "",
          "",
          "",
          "",
          "",
          "",
          "",
          "",
          "",
          "",
          "",
          "",
          "",
          "",
          "",
          "",
          "",
          "",
          "",
          "",
          "",
          "",
          "",
          "",
          "",
          "",
          "",
          "",
          "",
          "",
          "",
          "",
          "",
          "",
          "",
          "",
          "",
          "",
          "",
          "",
          "",
          "",
          "",
          "",
          "",
          "",
          "",
          "",
          "",
          "",
          "",
          "",
          "",
          "",
          "",
          "",
          "",
          "",
          "",
          "",
          "",
          "",
          "",
          "",
          "",
          "",
          "",
          "",
          "",
          "",
          "",
          "",
          "",
          "",
          "",
          "",
          "",
          "",
          "",
          "",
          2966.3816,
          4812.8477,
          6585.4663,
          9445.198,
          12872.635,
          13883.653,
          12983.673,
          12255.561,
          12273.593,
          10079.804
         ]
        },
        {
         "line": {
          "color": "rgba(55, 128, 191, 1.0)",
          "dash": "solid",
          "shape": "linear",
          "width": 1.3
         },
         "mode": "lines",
         "name": "Training Data",
         "text": "",
         "type": "scatter",
         "x": [
          "2022-02-05",
          "2022-02-12",
          "2022-02-19",
          "2022-02-26",
          "2022-03-05",
          "2022-03-12",
          "2022-03-19",
          "2022-03-26",
          "2022-04-02",
          "2022-04-09",
          "2022-04-16",
          "2022-04-23",
          "2022-04-30",
          "2022-05-07",
          "2022-05-14",
          "2022-05-21",
          "2022-05-28",
          "2022-06-04",
          "2022-06-11",
          "2022-06-18",
          "2022-06-25",
          "2022-07-02",
          "2022-07-09",
          "2022-07-16",
          "2022-07-23",
          "2022-07-30",
          "2022-08-06",
          "2022-08-13",
          "2022-08-20",
          "2022-08-27",
          "2022-09-03",
          "2022-09-10",
          "2022-09-17",
          "2022-09-24",
          "2022-10-01",
          "2022-10-08",
          "2022-10-15",
          "2022-10-22",
          "2022-10-29",
          "2022-11-05",
          "2022-11-12",
          "2022-11-19",
          "2022-11-26",
          "2022-12-03",
          "2022-12-10",
          "2022-12-17",
          "2022-12-24",
          "2022-12-31",
          "2023-01-07",
          "2023-01-14",
          "2023-01-21",
          "2023-01-28",
          "2023-02-04",
          "2023-02-11",
          "2023-02-18",
          "2023-02-25",
          "2023-03-04",
          "2023-03-11",
          "2023-03-18",
          "2023-03-25",
          "2023-04-01",
          "2023-04-08",
          "2023-04-15",
          "2023-04-22",
          "2023-04-29",
          "2023-05-06",
          "2023-05-13",
          "2023-05-20",
          "2023-05-27",
          "2023-06-03",
          "2023-06-10",
          "2023-06-17",
          "2023-06-24",
          "2023-07-01",
          "2023-07-08",
          "2023-07-15",
          "2023-07-22",
          "2023-07-29",
          "2023-08-05",
          "2023-08-12",
          "2023-08-19",
          "2023-08-26",
          "2023-09-02",
          "2023-09-09",
          "2023-09-16",
          "2023-09-23",
          "2023-09-30",
          "2023-10-07",
          "2023-10-14",
          "2023-10-21",
          "2023-10-28",
          "2023-11-04",
          "2023-11-11",
          "2023-11-18",
          "2023-11-25",
          "2023-12-02",
          "2023-12-09",
          "2023-12-16",
          "2023-12-23",
          "2023-12-30",
          "2024-01-06"
         ],
         "y": [
          1095,
          1164,
          1493,
          1603,
          1791,
          2097,
          2626,
          2919,
          3008,
          3149,
          3308,
          3474,
          3182,
          3175,
          3119,
          3134,
          2738,
          2678,
          2210,
          1776,
          1366,
          1073,
          776,
          766,
          628,
          522,
          486,
          490,
          483,
          483,
          545,
          576,
          665,
          796,
          921,
          1316,
          1674,
          2292,
          4184,
          6409,
          8595,
          10974,
          18185,
          26853,
          24039,
          21615,
          19634,
          19482,
          14078,
          7191,
          4492,
          3092,
          2597,
          2177,
          1908,
          1649,
          1504,
          1372,
          1415,
          1331,
          1295,
          1199,
          1077,
          982,
          903,
          994,
          980,
          1116,
          974,
          939,
          935,
          873,
          813,
          836,
          699,
          736,
          645,
          772,
          690,
          706,
          738,
          793,
          875,
          804,
          821,
          884,
          1026,
          1110,
          1215,
          1470,
          1614,
          "",
          "",
          "",
          "",
          "",
          "",
          "",
          "",
          "",
          ""
         ]
        },
        {
         "line": {
          "color": "rgba(50, 171, 96, 1.0)",
          "dash": "solid",
          "shape": "linear",
          "width": 1.3
         },
         "mode": "lines",
         "name": "Real Data",
         "text": "",
         "type": "scatter",
         "x": [
          "2022-02-05",
          "2022-02-12",
          "2022-02-19",
          "2022-02-26",
          "2022-03-05",
          "2022-03-12",
          "2022-03-19",
          "2022-03-26",
          "2022-04-02",
          "2022-04-09",
          "2022-04-16",
          "2022-04-23",
          "2022-04-30",
          "2022-05-07",
          "2022-05-14",
          "2022-05-21",
          "2022-05-28",
          "2022-06-04",
          "2022-06-11",
          "2022-06-18",
          "2022-06-25",
          "2022-07-02",
          "2022-07-09",
          "2022-07-16",
          "2022-07-23",
          "2022-07-30",
          "2022-08-06",
          "2022-08-13",
          "2022-08-20",
          "2022-08-27",
          "2022-09-03",
          "2022-09-10",
          "2022-09-17",
          "2022-09-24",
          "2022-10-01",
          "2022-10-08",
          "2022-10-15",
          "2022-10-22",
          "2022-10-29",
          "2022-11-05",
          "2022-11-12",
          "2022-11-19",
          "2022-11-26",
          "2022-12-03",
          "2022-12-10",
          "2022-12-17",
          "2022-12-24",
          "2022-12-31",
          "2023-01-07",
          "2023-01-14",
          "2023-01-21",
          "2023-01-28",
          "2023-02-04",
          "2023-02-11",
          "2023-02-18",
          "2023-02-25",
          "2023-03-04",
          "2023-03-11",
          "2023-03-18",
          "2023-03-25",
          "2023-04-01",
          "2023-04-08",
          "2023-04-15",
          "2023-04-22",
          "2023-04-29",
          "2023-05-06",
          "2023-05-13",
          "2023-05-20",
          "2023-05-27",
          "2023-06-03",
          "2023-06-10",
          "2023-06-17",
          "2023-06-24",
          "2023-07-01",
          "2023-07-08",
          "2023-07-15",
          "2023-07-22",
          "2023-07-29",
          "2023-08-05",
          "2023-08-12",
          "2023-08-19",
          "2023-08-26",
          "2023-09-02",
          "2023-09-09",
          "2023-09-16",
          "2023-09-23",
          "2023-09-30",
          "2023-10-07",
          "2023-10-14",
          "2023-10-21",
          "2023-10-28",
          "2023-11-04",
          "2023-11-11",
          "2023-11-18",
          "2023-11-25",
          "2023-12-02",
          "2023-12-09",
          "2023-12-16",
          "2023-12-23",
          "2023-12-30",
          "2024-01-06"
         ],
         "y": [
          "",
          "",
          "",
          "",
          "",
          "",
          "",
          "",
          "",
          "",
          "",
          "",
          "",
          "",
          "",
          "",
          "",
          "",
          "",
          "",
          "",
          "",
          "",
          "",
          "",
          "",
          "",
          "",
          "",
          "",
          "",
          "",
          "",
          "",
          "",
          "",
          "",
          "",
          "",
          "",
          "",
          "",
          "",
          "",
          "",
          "",
          "",
          "",
          "",
          "",
          "",
          "",
          "",
          "",
          "",
          "",
          "",
          "",
          "",
          "",
          "",
          "",
          "",
          "",
          "",
          "",
          "",
          "",
          "",
          "",
          "",
          "",
          "",
          "",
          "",
          "",
          "",
          "",
          "",
          "",
          "",
          "",
          "",
          "",
          "",
          "",
          "",
          "",
          "",
          "",
          "",
          2014,
          2776,
          3492,
          4387,
          5962,
          7510,
          10289,
          15727,
          21685,
          19550
         ]
        }
       ],
       "layout": {
        "legend": {
         "bgcolor": "#F5F6F9",
         "font": {
          "color": "#4D5663"
         }
        },
        "paper_bgcolor": "#F5F6F9",
        "plot_bgcolor": "#F5F6F9",
        "template": {
         "data": {
          "bar": [
           {
            "error_x": {
             "color": "#2a3f5f"
            },
            "error_y": {
             "color": "#2a3f5f"
            },
            "marker": {
             "line": {
              "color": "#E5ECF6",
              "width": 0.5
             },
             "pattern": {
              "fillmode": "overlay",
              "size": 10,
              "solidity": 0.2
             }
            },
            "type": "bar"
           }
          ],
          "barpolar": [
           {
            "marker": {
             "line": {
              "color": "#E5ECF6",
              "width": 0.5
             },
             "pattern": {
              "fillmode": "overlay",
              "size": 10,
              "solidity": 0.2
             }
            },
            "type": "barpolar"
           }
          ],
          "carpet": [
           {
            "aaxis": {
             "endlinecolor": "#2a3f5f",
             "gridcolor": "white",
             "linecolor": "white",
             "minorgridcolor": "white",
             "startlinecolor": "#2a3f5f"
            },
            "baxis": {
             "endlinecolor": "#2a3f5f",
             "gridcolor": "white",
             "linecolor": "white",
             "minorgridcolor": "white",
             "startlinecolor": "#2a3f5f"
            },
            "type": "carpet"
           }
          ],
          "choropleth": [
           {
            "colorbar": {
             "outlinewidth": 0,
             "ticks": ""
            },
            "type": "choropleth"
           }
          ],
          "contour": [
           {
            "colorbar": {
             "outlinewidth": 0,
             "ticks": ""
            },
            "colorscale": [
             [
              0,
              "#0d0887"
             ],
             [
              0.1111111111111111,
              "#46039f"
             ],
             [
              0.2222222222222222,
              "#7201a8"
             ],
             [
              0.3333333333333333,
              "#9c179e"
             ],
             [
              0.4444444444444444,
              "#bd3786"
             ],
             [
              0.5555555555555556,
              "#d8576b"
             ],
             [
              0.6666666666666666,
              "#ed7953"
             ],
             [
              0.7777777777777778,
              "#fb9f3a"
             ],
             [
              0.8888888888888888,
              "#fdca26"
             ],
             [
              1,
              "#f0f921"
             ]
            ],
            "type": "contour"
           }
          ],
          "contourcarpet": [
           {
            "colorbar": {
             "outlinewidth": 0,
             "ticks": ""
            },
            "type": "contourcarpet"
           }
          ],
          "heatmap": [
           {
            "colorbar": {
             "outlinewidth": 0,
             "ticks": ""
            },
            "colorscale": [
             [
              0,
              "#0d0887"
             ],
             [
              0.1111111111111111,
              "#46039f"
             ],
             [
              0.2222222222222222,
              "#7201a8"
             ],
             [
              0.3333333333333333,
              "#9c179e"
             ],
             [
              0.4444444444444444,
              "#bd3786"
             ],
             [
              0.5555555555555556,
              "#d8576b"
             ],
             [
              0.6666666666666666,
              "#ed7953"
             ],
             [
              0.7777777777777778,
              "#fb9f3a"
             ],
             [
              0.8888888888888888,
              "#fdca26"
             ],
             [
              1,
              "#f0f921"
             ]
            ],
            "type": "heatmap"
           }
          ],
          "heatmapgl": [
           {
            "colorbar": {
             "outlinewidth": 0,
             "ticks": ""
            },
            "colorscale": [
             [
              0,
              "#0d0887"
             ],
             [
              0.1111111111111111,
              "#46039f"
             ],
             [
              0.2222222222222222,
              "#7201a8"
             ],
             [
              0.3333333333333333,
              "#9c179e"
             ],
             [
              0.4444444444444444,
              "#bd3786"
             ],
             [
              0.5555555555555556,
              "#d8576b"
             ],
             [
              0.6666666666666666,
              "#ed7953"
             ],
             [
              0.7777777777777778,
              "#fb9f3a"
             ],
             [
              0.8888888888888888,
              "#fdca26"
             ],
             [
              1,
              "#f0f921"
             ]
            ],
            "type": "heatmapgl"
           }
          ],
          "histogram": [
           {
            "marker": {
             "pattern": {
              "fillmode": "overlay",
              "size": 10,
              "solidity": 0.2
             }
            },
            "type": "histogram"
           }
          ],
          "histogram2d": [
           {
            "colorbar": {
             "outlinewidth": 0,
             "ticks": ""
            },
            "colorscale": [
             [
              0,
              "#0d0887"
             ],
             [
              0.1111111111111111,
              "#46039f"
             ],
             [
              0.2222222222222222,
              "#7201a8"
             ],
             [
              0.3333333333333333,
              "#9c179e"
             ],
             [
              0.4444444444444444,
              "#bd3786"
             ],
             [
              0.5555555555555556,
              "#d8576b"
             ],
             [
              0.6666666666666666,
              "#ed7953"
             ],
             [
              0.7777777777777778,
              "#fb9f3a"
             ],
             [
              0.8888888888888888,
              "#fdca26"
             ],
             [
              1,
              "#f0f921"
             ]
            ],
            "type": "histogram2d"
           }
          ],
          "histogram2dcontour": [
           {
            "colorbar": {
             "outlinewidth": 0,
             "ticks": ""
            },
            "colorscale": [
             [
              0,
              "#0d0887"
             ],
             [
              0.1111111111111111,
              "#46039f"
             ],
             [
              0.2222222222222222,
              "#7201a8"
             ],
             [
              0.3333333333333333,
              "#9c179e"
             ],
             [
              0.4444444444444444,
              "#bd3786"
             ],
             [
              0.5555555555555556,
              "#d8576b"
             ],
             [
              0.6666666666666666,
              "#ed7953"
             ],
             [
              0.7777777777777778,
              "#fb9f3a"
             ],
             [
              0.8888888888888888,
              "#fdca26"
             ],
             [
              1,
              "#f0f921"
             ]
            ],
            "type": "histogram2dcontour"
           }
          ],
          "mesh3d": [
           {
            "colorbar": {
             "outlinewidth": 0,
             "ticks": ""
            },
            "type": "mesh3d"
           }
          ],
          "parcoords": [
           {
            "line": {
             "colorbar": {
              "outlinewidth": 0,
              "ticks": ""
             }
            },
            "type": "parcoords"
           }
          ],
          "pie": [
           {
            "automargin": true,
            "type": "pie"
           }
          ],
          "scatter": [
           {
            "fillpattern": {
             "fillmode": "overlay",
             "size": 10,
             "solidity": 0.2
            },
            "type": "scatter"
           }
          ],
          "scatter3d": [
           {
            "line": {
             "colorbar": {
              "outlinewidth": 0,
              "ticks": ""
             }
            },
            "marker": {
             "colorbar": {
              "outlinewidth": 0,
              "ticks": ""
             }
            },
            "type": "scatter3d"
           }
          ],
          "scattercarpet": [
           {
            "marker": {
             "colorbar": {
              "outlinewidth": 0,
              "ticks": ""
             }
            },
            "type": "scattercarpet"
           }
          ],
          "scattergeo": [
           {
            "marker": {
             "colorbar": {
              "outlinewidth": 0,
              "ticks": ""
             }
            },
            "type": "scattergeo"
           }
          ],
          "scattergl": [
           {
            "marker": {
             "colorbar": {
              "outlinewidth": 0,
              "ticks": ""
             }
            },
            "type": "scattergl"
           }
          ],
          "scattermapbox": [
           {
            "marker": {
             "colorbar": {
              "outlinewidth": 0,
              "ticks": ""
             }
            },
            "type": "scattermapbox"
           }
          ],
          "scatterpolar": [
           {
            "marker": {
             "colorbar": {
              "outlinewidth": 0,
              "ticks": ""
             }
            },
            "type": "scatterpolar"
           }
          ],
          "scatterpolargl": [
           {
            "marker": {
             "colorbar": {
              "outlinewidth": 0,
              "ticks": ""
             }
            },
            "type": "scatterpolargl"
           }
          ],
          "scatterternary": [
           {
            "marker": {
             "colorbar": {
              "outlinewidth": 0,
              "ticks": ""
             }
            },
            "type": "scatterternary"
           }
          ],
          "surface": [
           {
            "colorbar": {
             "outlinewidth": 0,
             "ticks": ""
            },
            "colorscale": [
             [
              0,
              "#0d0887"
             ],
             [
              0.1111111111111111,
              "#46039f"
             ],
             [
              0.2222222222222222,
              "#7201a8"
             ],
             [
              0.3333333333333333,
              "#9c179e"
             ],
             [
              0.4444444444444444,
              "#bd3786"
             ],
             [
              0.5555555555555556,
              "#d8576b"
             ],
             [
              0.6666666666666666,
              "#ed7953"
             ],
             [
              0.7777777777777778,
              "#fb9f3a"
             ],
             [
              0.8888888888888888,
              "#fdca26"
             ],
             [
              1,
              "#f0f921"
             ]
            ],
            "type": "surface"
           }
          ],
          "table": [
           {
            "cells": {
             "fill": {
              "color": "#EBF0F8"
             },
             "line": {
              "color": "white"
             }
            },
            "header": {
             "fill": {
              "color": "#C8D4E3"
             },
             "line": {
              "color": "white"
             }
            },
            "type": "table"
           }
          ]
         },
         "layout": {
          "annotationdefaults": {
           "arrowcolor": "#2a3f5f",
           "arrowhead": 0,
           "arrowwidth": 1
          },
          "autotypenumbers": "strict",
          "coloraxis": {
           "colorbar": {
            "outlinewidth": 0,
            "ticks": ""
           }
          },
          "colorscale": {
           "diverging": [
            [
             0,
             "#8e0152"
            ],
            [
             0.1,
             "#c51b7d"
            ],
            [
             0.2,
             "#de77ae"
            ],
            [
             0.3,
             "#f1b6da"
            ],
            [
             0.4,
             "#fde0ef"
            ],
            [
             0.5,
             "#f7f7f7"
            ],
            [
             0.6,
             "#e6f5d0"
            ],
            [
             0.7,
             "#b8e186"
            ],
            [
             0.8,
             "#7fbc41"
            ],
            [
             0.9,
             "#4d9221"
            ],
            [
             1,
             "#276419"
            ]
           ],
           "sequential": [
            [
             0,
             "#0d0887"
            ],
            [
             0.1111111111111111,
             "#46039f"
            ],
            [
             0.2222222222222222,
             "#7201a8"
            ],
            [
             0.3333333333333333,
             "#9c179e"
            ],
            [
             0.4444444444444444,
             "#bd3786"
            ],
            [
             0.5555555555555556,
             "#d8576b"
            ],
            [
             0.6666666666666666,
             "#ed7953"
            ],
            [
             0.7777777777777778,
             "#fb9f3a"
            ],
            [
             0.8888888888888888,
             "#fdca26"
            ],
            [
             1,
             "#f0f921"
            ]
           ],
           "sequentialminus": [
            [
             0,
             "#0d0887"
            ],
            [
             0.1111111111111111,
             "#46039f"
            ],
            [
             0.2222222222222222,
             "#7201a8"
            ],
            [
             0.3333333333333333,
             "#9c179e"
            ],
            [
             0.4444444444444444,
             "#bd3786"
            ],
            [
             0.5555555555555556,
             "#d8576b"
            ],
            [
             0.6666666666666666,
             "#ed7953"
            ],
            [
             0.7777777777777778,
             "#fb9f3a"
            ],
            [
             0.8888888888888888,
             "#fdca26"
            ],
            [
             1,
             "#f0f921"
            ]
           ]
          },
          "colorway": [
           "#636efa",
           "#EF553B",
           "#00cc96",
           "#ab63fa",
           "#FFA15A",
           "#19d3f3",
           "#FF6692",
           "#B6E880",
           "#FF97FF",
           "#FECB52"
          ],
          "font": {
           "color": "#2a3f5f"
          },
          "geo": {
           "bgcolor": "white",
           "lakecolor": "white",
           "landcolor": "#E5ECF6",
           "showlakes": true,
           "showland": true,
           "subunitcolor": "white"
          },
          "hoverlabel": {
           "align": "left"
          },
          "hovermode": "closest",
          "mapbox": {
           "style": "light"
          },
          "paper_bgcolor": "white",
          "plot_bgcolor": "#E5ECF6",
          "polar": {
           "angularaxis": {
            "gridcolor": "white",
            "linecolor": "white",
            "ticks": ""
           },
           "bgcolor": "#E5ECF6",
           "radialaxis": {
            "gridcolor": "white",
            "linecolor": "white",
            "ticks": ""
           }
          },
          "scene": {
           "xaxis": {
            "backgroundcolor": "#E5ECF6",
            "gridcolor": "white",
            "gridwidth": 2,
            "linecolor": "white",
            "showbackground": true,
            "ticks": "",
            "zerolinecolor": "white"
           },
           "yaxis": {
            "backgroundcolor": "#E5ECF6",
            "gridcolor": "white",
            "gridwidth": 2,
            "linecolor": "white",
            "showbackground": true,
            "ticks": "",
            "zerolinecolor": "white"
           },
           "zaxis": {
            "backgroundcolor": "#E5ECF6",
            "gridcolor": "white",
            "gridwidth": 2,
            "linecolor": "white",
            "showbackground": true,
            "ticks": "",
            "zerolinecolor": "white"
           }
          },
          "shapedefaults": {
           "line": {
            "color": "#2a3f5f"
           }
          },
          "ternary": {
           "aaxis": {
            "gridcolor": "white",
            "linecolor": "white",
            "ticks": ""
           },
           "baxis": {
            "gridcolor": "white",
            "linecolor": "white",
            "ticks": ""
           },
           "bgcolor": "#E5ECF6",
           "caxis": {
            "gridcolor": "white",
            "linecolor": "white",
            "ticks": ""
           }
          },
          "title": {
           "x": 0.05
          },
          "xaxis": {
           "automargin": true,
           "gridcolor": "white",
           "linecolor": "white",
           "ticks": "",
           "title": {
            "standoff": 15
           },
           "zerolinecolor": "white",
           "zerolinewidth": 2
          },
          "yaxis": {
           "automargin": true,
           "gridcolor": "white",
           "linecolor": "white",
           "ticks": "",
           "title": {
            "standoff": 15
           },
           "zerolinecolor": "white",
           "zerolinewidth": 2
          }
         }
        },
        "title": {
         "font": {
          "color": "#4D5663"
         },
         "text": "TimeGPT Prediction Given Oct. 28 As Final Point"
        },
        "xaxis": {
         "gridcolor": "#E1E5ED",
         "showgrid": true,
         "tickfont": {
          "color": "#4D5663"
         },
         "title": {
          "font": {
           "color": "#4D5663"
          },
          "text": "Date"
         },
         "zerolinecolor": "#E1E5ED"
        },
        "yaxis": {
         "gridcolor": "#E1E5ED",
         "showgrid": true,
         "tickfont": {
          "color": "#4D5663"
         },
         "title": {
          "font": {
           "color": "#4D5663"
          },
          "text": "Count"
         },
         "zerolinecolor": "#E1E5ED"
        }
       }
      },
      "text/html": [
       "<div>                            <div id=\"c18a2f01-2ae3-49e0-bb58-b3a33f82d292\" class=\"plotly-graph-div\" style=\"height:525px; width:100%;\"></div>            <script type=\"text/javascript\">                require([\"plotly\"], function(Plotly) {                    window.PLOTLYENV=window.PLOTLYENV || {};\n",
       "                    window.PLOTLYENV.BASE_URL='https://plot.ly';                                    if (document.getElementById(\"c18a2f01-2ae3-49e0-bb58-b3a33f82d292\")) {                    Plotly.newPlot(                        \"c18a2f01-2ae3-49e0-bb58-b3a33f82d292\",                        [{\"line\":{\"color\":\"rgba(255, 153, 51, 1.0)\",\"dash\":\"solid\",\"shape\":\"linear\",\"width\":1.3},\"mode\":\"lines\",\"name\":\"TimeGPT Forecast\",\"text\":\"\",\"x\":[\"2022-02-05\",\"2022-02-12\",\"2022-02-19\",\"2022-02-26\",\"2022-03-05\",\"2022-03-12\",\"2022-03-19\",\"2022-03-26\",\"2022-04-02\",\"2022-04-09\",\"2022-04-16\",\"2022-04-23\",\"2022-04-30\",\"2022-05-07\",\"2022-05-14\",\"2022-05-21\",\"2022-05-28\",\"2022-06-04\",\"2022-06-11\",\"2022-06-18\",\"2022-06-25\",\"2022-07-02\",\"2022-07-09\",\"2022-07-16\",\"2022-07-23\",\"2022-07-30\",\"2022-08-06\",\"2022-08-13\",\"2022-08-20\",\"2022-08-27\",\"2022-09-03\",\"2022-09-10\",\"2022-09-17\",\"2022-09-24\",\"2022-10-01\",\"2022-10-08\",\"2022-10-15\",\"2022-10-22\",\"2022-10-29\",\"2022-11-05\",\"2022-11-12\",\"2022-11-19\",\"2022-11-26\",\"2022-12-03\",\"2022-12-10\",\"2022-12-17\",\"2022-12-24\",\"2022-12-31\",\"2023-01-07\",\"2023-01-14\",\"2023-01-21\",\"2023-01-28\",\"2023-02-04\",\"2023-02-11\",\"2023-02-18\",\"2023-02-25\",\"2023-03-04\",\"2023-03-11\",\"2023-03-18\",\"2023-03-25\",\"2023-04-01\",\"2023-04-08\",\"2023-04-15\",\"2023-04-22\",\"2023-04-29\",\"2023-05-06\",\"2023-05-13\",\"2023-05-20\",\"2023-05-27\",\"2023-06-03\",\"2023-06-10\",\"2023-06-17\",\"2023-06-24\",\"2023-07-01\",\"2023-07-08\",\"2023-07-15\",\"2023-07-22\",\"2023-07-29\",\"2023-08-05\",\"2023-08-12\",\"2023-08-19\",\"2023-08-26\",\"2023-09-02\",\"2023-09-09\",\"2023-09-16\",\"2023-09-23\",\"2023-09-30\",\"2023-10-07\",\"2023-10-14\",\"2023-10-21\",\"2023-10-28\",\"2023-11-04\",\"2023-11-11\",\"2023-11-18\",\"2023-11-25\",\"2023-12-02\",\"2023-12-09\",\"2023-12-16\",\"2023-12-23\",\"2023-12-30\",\"2024-01-06\"],\"y\":[\"\",\"\",\"\",\"\",\"\",\"\",\"\",\"\",\"\",\"\",\"\",\"\",\"\",\"\",\"\",\"\",\"\",\"\",\"\",\"\",\"\",\"\",\"\",\"\",\"\",\"\",\"\",\"\",\"\",\"\",\"\",\"\",\"\",\"\",\"\",\"\",\"\",\"\",\"\",\"\",\"\",\"\",\"\",\"\",\"\",\"\",\"\",\"\",\"\",\"\",\"\",\"\",\"\",\"\",\"\",\"\",\"\",\"\",\"\",\"\",\"\",\"\",\"\",\"\",\"\",\"\",\"\",\"\",\"\",\"\",\"\",\"\",\"\",\"\",\"\",\"\",\"\",\"\",\"\",\"\",\"\",\"\",\"\",\"\",\"\",\"\",\"\",\"\",\"\",\"\",\"\",2966.3816,4812.8477,6585.4663,9445.198,12872.635,13883.653,12983.673,12255.561,12273.593,10079.804],\"type\":\"scatter\"},{\"line\":{\"color\":\"rgba(55, 128, 191, 1.0)\",\"dash\":\"solid\",\"shape\":\"linear\",\"width\":1.3},\"mode\":\"lines\",\"name\":\"Training Data\",\"text\":\"\",\"x\":[\"2022-02-05\",\"2022-02-12\",\"2022-02-19\",\"2022-02-26\",\"2022-03-05\",\"2022-03-12\",\"2022-03-19\",\"2022-03-26\",\"2022-04-02\",\"2022-04-09\",\"2022-04-16\",\"2022-04-23\",\"2022-04-30\",\"2022-05-07\",\"2022-05-14\",\"2022-05-21\",\"2022-05-28\",\"2022-06-04\",\"2022-06-11\",\"2022-06-18\",\"2022-06-25\",\"2022-07-02\",\"2022-07-09\",\"2022-07-16\",\"2022-07-23\",\"2022-07-30\",\"2022-08-06\",\"2022-08-13\",\"2022-08-20\",\"2022-08-27\",\"2022-09-03\",\"2022-09-10\",\"2022-09-17\",\"2022-09-24\",\"2022-10-01\",\"2022-10-08\",\"2022-10-15\",\"2022-10-22\",\"2022-10-29\",\"2022-11-05\",\"2022-11-12\",\"2022-11-19\",\"2022-11-26\",\"2022-12-03\",\"2022-12-10\",\"2022-12-17\",\"2022-12-24\",\"2022-12-31\",\"2023-01-07\",\"2023-01-14\",\"2023-01-21\",\"2023-01-28\",\"2023-02-04\",\"2023-02-11\",\"2023-02-18\",\"2023-02-25\",\"2023-03-04\",\"2023-03-11\",\"2023-03-18\",\"2023-03-25\",\"2023-04-01\",\"2023-04-08\",\"2023-04-15\",\"2023-04-22\",\"2023-04-29\",\"2023-05-06\",\"2023-05-13\",\"2023-05-20\",\"2023-05-27\",\"2023-06-03\",\"2023-06-10\",\"2023-06-17\",\"2023-06-24\",\"2023-07-01\",\"2023-07-08\",\"2023-07-15\",\"2023-07-22\",\"2023-07-29\",\"2023-08-05\",\"2023-08-12\",\"2023-08-19\",\"2023-08-26\",\"2023-09-02\",\"2023-09-09\",\"2023-09-16\",\"2023-09-23\",\"2023-09-30\",\"2023-10-07\",\"2023-10-14\",\"2023-10-21\",\"2023-10-28\",\"2023-11-04\",\"2023-11-11\",\"2023-11-18\",\"2023-11-25\",\"2023-12-02\",\"2023-12-09\",\"2023-12-16\",\"2023-12-23\",\"2023-12-30\",\"2024-01-06\"],\"y\":[1095.0,1164.0,1493.0,1603.0,1791.0,2097.0,2626.0,2919.0,3008.0,3149.0,3308.0,3474.0,3182.0,3175.0,3119.0,3134.0,2738.0,2678.0,2210.0,1776.0,1366.0,1073.0,776.0,766.0,628.0,522.0,486.0,490.0,483.0,483.0,545.0,576.0,665.0,796.0,921.0,1316.0,1674.0,2292.0,4184.0,6409.0,8595.0,10974.0,18185.0,26853.0,24039.0,21615.0,19634.0,19482.0,14078.0,7191.0,4492.0,3092.0,2597.0,2177.0,1908.0,1649.0,1504.0,1372.0,1415.0,1331.0,1295.0,1199.0,1077.0,982.0,903.0,994.0,980.0,1116.0,974.0,939.0,935.0,873.0,813.0,836.0,699.0,736.0,645.0,772.0,690.0,706.0,738.0,793.0,875.0,804.0,821.0,884.0,1026.0,1110.0,1215.0,1470.0,1614.0,\"\",\"\",\"\",\"\",\"\",\"\",\"\",\"\",\"\",\"\"],\"type\":\"scatter\"},{\"line\":{\"color\":\"rgba(50, 171, 96, 1.0)\",\"dash\":\"solid\",\"shape\":\"linear\",\"width\":1.3},\"mode\":\"lines\",\"name\":\"Real Data\",\"text\":\"\",\"x\":[\"2022-02-05\",\"2022-02-12\",\"2022-02-19\",\"2022-02-26\",\"2022-03-05\",\"2022-03-12\",\"2022-03-19\",\"2022-03-26\",\"2022-04-02\",\"2022-04-09\",\"2022-04-16\",\"2022-04-23\",\"2022-04-30\",\"2022-05-07\",\"2022-05-14\",\"2022-05-21\",\"2022-05-28\",\"2022-06-04\",\"2022-06-11\",\"2022-06-18\",\"2022-06-25\",\"2022-07-02\",\"2022-07-09\",\"2022-07-16\",\"2022-07-23\",\"2022-07-30\",\"2022-08-06\",\"2022-08-13\",\"2022-08-20\",\"2022-08-27\",\"2022-09-03\",\"2022-09-10\",\"2022-09-17\",\"2022-09-24\",\"2022-10-01\",\"2022-10-08\",\"2022-10-15\",\"2022-10-22\",\"2022-10-29\",\"2022-11-05\",\"2022-11-12\",\"2022-11-19\",\"2022-11-26\",\"2022-12-03\",\"2022-12-10\",\"2022-12-17\",\"2022-12-24\",\"2022-12-31\",\"2023-01-07\",\"2023-01-14\",\"2023-01-21\",\"2023-01-28\",\"2023-02-04\",\"2023-02-11\",\"2023-02-18\",\"2023-02-25\",\"2023-03-04\",\"2023-03-11\",\"2023-03-18\",\"2023-03-25\",\"2023-04-01\",\"2023-04-08\",\"2023-04-15\",\"2023-04-22\",\"2023-04-29\",\"2023-05-06\",\"2023-05-13\",\"2023-05-20\",\"2023-05-27\",\"2023-06-03\",\"2023-06-10\",\"2023-06-17\",\"2023-06-24\",\"2023-07-01\",\"2023-07-08\",\"2023-07-15\",\"2023-07-22\",\"2023-07-29\",\"2023-08-05\",\"2023-08-12\",\"2023-08-19\",\"2023-08-26\",\"2023-09-02\",\"2023-09-09\",\"2023-09-16\",\"2023-09-23\",\"2023-09-30\",\"2023-10-07\",\"2023-10-14\",\"2023-10-21\",\"2023-10-28\",\"2023-11-04\",\"2023-11-11\",\"2023-11-18\",\"2023-11-25\",\"2023-12-02\",\"2023-12-09\",\"2023-12-16\",\"2023-12-23\",\"2023-12-30\",\"2024-01-06\"],\"y\":[\"\",\"\",\"\",\"\",\"\",\"\",\"\",\"\",\"\",\"\",\"\",\"\",\"\",\"\",\"\",\"\",\"\",\"\",\"\",\"\",\"\",\"\",\"\",\"\",\"\",\"\",\"\",\"\",\"\",\"\",\"\",\"\",\"\",\"\",\"\",\"\",\"\",\"\",\"\",\"\",\"\",\"\",\"\",\"\",\"\",\"\",\"\",\"\",\"\",\"\",\"\",\"\",\"\",\"\",\"\",\"\",\"\",\"\",\"\",\"\",\"\",\"\",\"\",\"\",\"\",\"\",\"\",\"\",\"\",\"\",\"\",\"\",\"\",\"\",\"\",\"\",\"\",\"\",\"\",\"\",\"\",\"\",\"\",\"\",\"\",\"\",\"\",\"\",\"\",\"\",\"\",2014.0,2776.0,3492.0,4387.0,5962.0,7510.0,10289.0,15727.0,21685.0,19550.0],\"type\":\"scatter\"}],                        {\"legend\":{\"bgcolor\":\"#F5F6F9\",\"font\":{\"color\":\"#4D5663\"}},\"paper_bgcolor\":\"#F5F6F9\",\"plot_bgcolor\":\"#F5F6F9\",\"template\":{\"data\":{\"barpolar\":[{\"marker\":{\"line\":{\"color\":\"#E5ECF6\",\"width\":0.5},\"pattern\":{\"fillmode\":\"overlay\",\"size\":10,\"solidity\":0.2}},\"type\":\"barpolar\"}],\"bar\":[{\"error_x\":{\"color\":\"#2a3f5f\"},\"error_y\":{\"color\":\"#2a3f5f\"},\"marker\":{\"line\":{\"color\":\"#E5ECF6\",\"width\":0.5},\"pattern\":{\"fillmode\":\"overlay\",\"size\":10,\"solidity\":0.2}},\"type\":\"bar\"}],\"carpet\":[{\"aaxis\":{\"endlinecolor\":\"#2a3f5f\",\"gridcolor\":\"white\",\"linecolor\":\"white\",\"minorgridcolor\":\"white\",\"startlinecolor\":\"#2a3f5f\"},\"baxis\":{\"endlinecolor\":\"#2a3f5f\",\"gridcolor\":\"white\",\"linecolor\":\"white\",\"minorgridcolor\":\"white\",\"startlinecolor\":\"#2a3f5f\"},\"type\":\"carpet\"}],\"choropleth\":[{\"colorbar\":{\"outlinewidth\":0,\"ticks\":\"\"},\"type\":\"choropleth\"}],\"contourcarpet\":[{\"colorbar\":{\"outlinewidth\":0,\"ticks\":\"\"},\"type\":\"contourcarpet\"}],\"contour\":[{\"colorbar\":{\"outlinewidth\":0,\"ticks\":\"\"},\"colorscale\":[[0.0,\"#0d0887\"],[0.1111111111111111,\"#46039f\"],[0.2222222222222222,\"#7201a8\"],[0.3333333333333333,\"#9c179e\"],[0.4444444444444444,\"#bd3786\"],[0.5555555555555556,\"#d8576b\"],[0.6666666666666666,\"#ed7953\"],[0.7777777777777778,\"#fb9f3a\"],[0.8888888888888888,\"#fdca26\"],[1.0,\"#f0f921\"]],\"type\":\"contour\"}],\"heatmapgl\":[{\"colorbar\":{\"outlinewidth\":0,\"ticks\":\"\"},\"colorscale\":[[0.0,\"#0d0887\"],[0.1111111111111111,\"#46039f\"],[0.2222222222222222,\"#7201a8\"],[0.3333333333333333,\"#9c179e\"],[0.4444444444444444,\"#bd3786\"],[0.5555555555555556,\"#d8576b\"],[0.6666666666666666,\"#ed7953\"],[0.7777777777777778,\"#fb9f3a\"],[0.8888888888888888,\"#fdca26\"],[1.0,\"#f0f921\"]],\"type\":\"heatmapgl\"}],\"heatmap\":[{\"colorbar\":{\"outlinewidth\":0,\"ticks\":\"\"},\"colorscale\":[[0.0,\"#0d0887\"],[0.1111111111111111,\"#46039f\"],[0.2222222222222222,\"#7201a8\"],[0.3333333333333333,\"#9c179e\"],[0.4444444444444444,\"#bd3786\"],[0.5555555555555556,\"#d8576b\"],[0.6666666666666666,\"#ed7953\"],[0.7777777777777778,\"#fb9f3a\"],[0.8888888888888888,\"#fdca26\"],[1.0,\"#f0f921\"]],\"type\":\"heatmap\"}],\"histogram2dcontour\":[{\"colorbar\":{\"outlinewidth\":0,\"ticks\":\"\"},\"colorscale\":[[0.0,\"#0d0887\"],[0.1111111111111111,\"#46039f\"],[0.2222222222222222,\"#7201a8\"],[0.3333333333333333,\"#9c179e\"],[0.4444444444444444,\"#bd3786\"],[0.5555555555555556,\"#d8576b\"],[0.6666666666666666,\"#ed7953\"],[0.7777777777777778,\"#fb9f3a\"],[0.8888888888888888,\"#fdca26\"],[1.0,\"#f0f921\"]],\"type\":\"histogram2dcontour\"}],\"histogram2d\":[{\"colorbar\":{\"outlinewidth\":0,\"ticks\":\"\"},\"colorscale\":[[0.0,\"#0d0887\"],[0.1111111111111111,\"#46039f\"],[0.2222222222222222,\"#7201a8\"],[0.3333333333333333,\"#9c179e\"],[0.4444444444444444,\"#bd3786\"],[0.5555555555555556,\"#d8576b\"],[0.6666666666666666,\"#ed7953\"],[0.7777777777777778,\"#fb9f3a\"],[0.8888888888888888,\"#fdca26\"],[1.0,\"#f0f921\"]],\"type\":\"histogram2d\"}],\"histogram\":[{\"marker\":{\"pattern\":{\"fillmode\":\"overlay\",\"size\":10,\"solidity\":0.2}},\"type\":\"histogram\"}],\"mesh3d\":[{\"colorbar\":{\"outlinewidth\":0,\"ticks\":\"\"},\"type\":\"mesh3d\"}],\"parcoords\":[{\"line\":{\"colorbar\":{\"outlinewidth\":0,\"ticks\":\"\"}},\"type\":\"parcoords\"}],\"pie\":[{\"automargin\":true,\"type\":\"pie\"}],\"scatter3d\":[{\"line\":{\"colorbar\":{\"outlinewidth\":0,\"ticks\":\"\"}},\"marker\":{\"colorbar\":{\"outlinewidth\":0,\"ticks\":\"\"}},\"type\":\"scatter3d\"}],\"scattercarpet\":[{\"marker\":{\"colorbar\":{\"outlinewidth\":0,\"ticks\":\"\"}},\"type\":\"scattercarpet\"}],\"scattergeo\":[{\"marker\":{\"colorbar\":{\"outlinewidth\":0,\"ticks\":\"\"}},\"type\":\"scattergeo\"}],\"scattergl\":[{\"marker\":{\"colorbar\":{\"outlinewidth\":0,\"ticks\":\"\"}},\"type\":\"scattergl\"}],\"scattermapbox\":[{\"marker\":{\"colorbar\":{\"outlinewidth\":0,\"ticks\":\"\"}},\"type\":\"scattermapbox\"}],\"scatterpolargl\":[{\"marker\":{\"colorbar\":{\"outlinewidth\":0,\"ticks\":\"\"}},\"type\":\"scatterpolargl\"}],\"scatterpolar\":[{\"marker\":{\"colorbar\":{\"outlinewidth\":0,\"ticks\":\"\"}},\"type\":\"scatterpolar\"}],\"scatter\":[{\"fillpattern\":{\"fillmode\":\"overlay\",\"size\":10,\"solidity\":0.2},\"type\":\"scatter\"}],\"scatterternary\":[{\"marker\":{\"colorbar\":{\"outlinewidth\":0,\"ticks\":\"\"}},\"type\":\"scatterternary\"}],\"surface\":[{\"colorbar\":{\"outlinewidth\":0,\"ticks\":\"\"},\"colorscale\":[[0.0,\"#0d0887\"],[0.1111111111111111,\"#46039f\"],[0.2222222222222222,\"#7201a8\"],[0.3333333333333333,\"#9c179e\"],[0.4444444444444444,\"#bd3786\"],[0.5555555555555556,\"#d8576b\"],[0.6666666666666666,\"#ed7953\"],[0.7777777777777778,\"#fb9f3a\"],[0.8888888888888888,\"#fdca26\"],[1.0,\"#f0f921\"]],\"type\":\"surface\"}],\"table\":[{\"cells\":{\"fill\":{\"color\":\"#EBF0F8\"},\"line\":{\"color\":\"white\"}},\"header\":{\"fill\":{\"color\":\"#C8D4E3\"},\"line\":{\"color\":\"white\"}},\"type\":\"table\"}]},\"layout\":{\"annotationdefaults\":{\"arrowcolor\":\"#2a3f5f\",\"arrowhead\":0,\"arrowwidth\":1},\"autotypenumbers\":\"strict\",\"coloraxis\":{\"colorbar\":{\"outlinewidth\":0,\"ticks\":\"\"}},\"colorscale\":{\"diverging\":[[0,\"#8e0152\"],[0.1,\"#c51b7d\"],[0.2,\"#de77ae\"],[0.3,\"#f1b6da\"],[0.4,\"#fde0ef\"],[0.5,\"#f7f7f7\"],[0.6,\"#e6f5d0\"],[0.7,\"#b8e186\"],[0.8,\"#7fbc41\"],[0.9,\"#4d9221\"],[1,\"#276419\"]],\"sequential\":[[0.0,\"#0d0887\"],[0.1111111111111111,\"#46039f\"],[0.2222222222222222,\"#7201a8\"],[0.3333333333333333,\"#9c179e\"],[0.4444444444444444,\"#bd3786\"],[0.5555555555555556,\"#d8576b\"],[0.6666666666666666,\"#ed7953\"],[0.7777777777777778,\"#fb9f3a\"],[0.8888888888888888,\"#fdca26\"],[1.0,\"#f0f921\"]],\"sequentialminus\":[[0.0,\"#0d0887\"],[0.1111111111111111,\"#46039f\"],[0.2222222222222222,\"#7201a8\"],[0.3333333333333333,\"#9c179e\"],[0.4444444444444444,\"#bd3786\"],[0.5555555555555556,\"#d8576b\"],[0.6666666666666666,\"#ed7953\"],[0.7777777777777778,\"#fb9f3a\"],[0.8888888888888888,\"#fdca26\"],[1.0,\"#f0f921\"]]},\"colorway\":[\"#636efa\",\"#EF553B\",\"#00cc96\",\"#ab63fa\",\"#FFA15A\",\"#19d3f3\",\"#FF6692\",\"#B6E880\",\"#FF97FF\",\"#FECB52\"],\"font\":{\"color\":\"#2a3f5f\"},\"geo\":{\"bgcolor\":\"white\",\"lakecolor\":\"white\",\"landcolor\":\"#E5ECF6\",\"showlakes\":true,\"showland\":true,\"subunitcolor\":\"white\"},\"hoverlabel\":{\"align\":\"left\"},\"hovermode\":\"closest\",\"mapbox\":{\"style\":\"light\"},\"paper_bgcolor\":\"white\",\"plot_bgcolor\":\"#E5ECF6\",\"polar\":{\"angularaxis\":{\"gridcolor\":\"white\",\"linecolor\":\"white\",\"ticks\":\"\"},\"bgcolor\":\"#E5ECF6\",\"radialaxis\":{\"gridcolor\":\"white\",\"linecolor\":\"white\",\"ticks\":\"\"}},\"scene\":{\"xaxis\":{\"backgroundcolor\":\"#E5ECF6\",\"gridcolor\":\"white\",\"gridwidth\":2,\"linecolor\":\"white\",\"showbackground\":true,\"ticks\":\"\",\"zerolinecolor\":\"white\"},\"yaxis\":{\"backgroundcolor\":\"#E5ECF6\",\"gridcolor\":\"white\",\"gridwidth\":2,\"linecolor\":\"white\",\"showbackground\":true,\"ticks\":\"\",\"zerolinecolor\":\"white\"},\"zaxis\":{\"backgroundcolor\":\"#E5ECF6\",\"gridcolor\":\"white\",\"gridwidth\":2,\"linecolor\":\"white\",\"showbackground\":true,\"ticks\":\"\",\"zerolinecolor\":\"white\"}},\"shapedefaults\":{\"line\":{\"color\":\"#2a3f5f\"}},\"ternary\":{\"aaxis\":{\"gridcolor\":\"white\",\"linecolor\":\"white\",\"ticks\":\"\"},\"baxis\":{\"gridcolor\":\"white\",\"linecolor\":\"white\",\"ticks\":\"\"},\"bgcolor\":\"#E5ECF6\",\"caxis\":{\"gridcolor\":\"white\",\"linecolor\":\"white\",\"ticks\":\"\"}},\"title\":{\"x\":0.05},\"xaxis\":{\"automargin\":true,\"gridcolor\":\"white\",\"linecolor\":\"white\",\"ticks\":\"\",\"title\":{\"standoff\":15},\"zerolinecolor\":\"white\",\"zerolinewidth\":2},\"yaxis\":{\"automargin\":true,\"gridcolor\":\"white\",\"linecolor\":\"white\",\"ticks\":\"\",\"title\":{\"standoff\":15},\"zerolinecolor\":\"white\",\"zerolinewidth\":2}}},\"title\":{\"font\":{\"color\":\"#4D5663\"},\"text\":\"TimeGPT Prediction Given Oct. 28 As Final Point\"},\"xaxis\":{\"gridcolor\":\"#E1E5ED\",\"showgrid\":true,\"tickfont\":{\"color\":\"#4D5663\"},\"title\":{\"font\":{\"color\":\"#4D5663\"},\"text\":\"Date\"},\"zerolinecolor\":\"#E1E5ED\"},\"yaxis\":{\"gridcolor\":\"#E1E5ED\",\"showgrid\":true,\"tickfont\":{\"color\":\"#4D5663\"},\"title\":{\"font\":{\"color\":\"#4D5663\"},\"text\":\"Count\"},\"zerolinecolor\":\"#E1E5ED\"}},                        {\"showLink\": true, \"linkText\": \"Export to plot.ly\", \"plotlyServerURL\": \"https://plot.ly\", \"responsive\": true}                    ).then(function(){\n",
       "                            \n",
       "var gd = document.getElementById('c18a2f01-2ae3-49e0-bb58-b3a33f82d292');\n",
       "var x = new MutationObserver(function (mutations, observer) {{\n",
       "        var display = window.getComputedStyle(gd).display;\n",
       "        if (!display || display === 'none') {{\n",
       "            console.log([gd, 'removed!']);\n",
       "            Plotly.purge(gd);\n",
       "            observer.disconnect();\n",
       "        }}\n",
       "}});\n",
       "\n",
       "// Listen for the removal of the full notebook cells\n",
       "var notebookContainer = gd.closest('#notebook-container');\n",
       "if (notebookContainer) {{\n",
       "    x.observe(notebookContainer, {childList: true});\n",
       "}}\n",
       "\n",
       "// Listen for the clearing of the current output cell\n",
       "var outputEl = gd.closest('.output');\n",
       "if (outputEl) {{\n",
       "    x.observe(outputEl, {childList: true});\n",
       "}}\n",
       "\n",
       "                        })                };                });            </script>        </div>"
      ]
     },
     "metadata": {},
     "output_type": "display_data"
    }
   ],
   "source": [
    "oct28plottingdf.iplot(xTitle = \"Date\", yTitle = \"Count\", title = \"TimeGPT Prediction Given Oct. 28 As Final Point\")"
   ]
  },
  {
   "cell_type": "code",
   "execution_count": 24,
   "id": "dae59a70",
   "metadata": {},
   "outputs": [
    {
     "name": "stdout",
     "output_type": "stream",
     "text": [
      "MAE: 4947.28966\n",
      "MAPE: 0.6654331163499977\n",
      "MSE: 32616235.399480253\n"
     ]
    }
   ],
   "source": [
    "#Metrics\n",
    "print(\"MAE:\",mean_absolute_error(entire_df[\"2023-11-04\" : \"2024-01-06\"], oct28forecast[\"TimeGPT\"]))\n",
    "print(\"MAPE:\",mean_absolute_percentage_error(entire_df[\"2023-11-04\" : \"2024-01-06\"], oct28forecast[\"TimeGPT\"]))\n",
    "print(\"MSE:\",mean_squared_error(entire_df[\"2023-11-04\" : \"2024-01-06\"], oct28forecast[\"TimeGPT\"]))"
   ]
  },
  {
   "cell_type": "code",
   "execution_count": null,
   "id": "01aae29b",
   "metadata": {},
   "outputs": [],
   "source": []
  },
  {
   "cell_type": "code",
   "execution_count": 25,
   "id": "4b88405e",
   "metadata": {},
   "outputs": [
    {
     "name": "stderr",
     "output_type": "stream",
     "text": [
      "INFO:nixtla.nixtla_client:Validating inputs...\n",
      "INFO:nixtla.nixtla_client:Inferred freq: W-SAT\n",
      "INFO:nixtla.nixtla_client:Preprocessing dataframes...\n",
      "WARNING:nixtla.nixtla_client:The specified horizon \"h\" exceeds the model horizon, this may lead to less accurate forecasts. Please consider using a smaller horizon.\n",
      "INFO:nixtla.nixtla_client:Restricting input...\n",
      "INFO:nixtla.nixtla_client:Calling Forecast Endpoint...\n"
     ]
    }
   ],
   "source": [
    "#Training, forecasting, and plotting for Nov 4 df\n",
    "\n",
    "nov4forecast = nixtla_client.forecast(df = nov4df, time_col=\"date\", target_col=\"value\", h=9)\n",
    "nov4forecast = nov4forecast.set_index(\"date\")"
   ]
  },
  {
   "cell_type": "code",
   "execution_count": 26,
   "id": "a5c07211",
   "metadata": {},
   "outputs": [
    {
     "data": {
      "text/html": [
       "<div>\n",
       "<style scoped>\n",
       "    .dataframe tbody tr th:only-of-type {\n",
       "        vertical-align: middle;\n",
       "    }\n",
       "\n",
       "    .dataframe tbody tr th {\n",
       "        vertical-align: top;\n",
       "    }\n",
       "\n",
       "    .dataframe thead th {\n",
       "        text-align: right;\n",
       "    }\n",
       "</style>\n",
       "<table border=\"1\" class=\"dataframe\">\n",
       "  <thead>\n",
       "    <tr style=\"text-align: right;\">\n",
       "      <th></th>\n",
       "      <th>TimeGPT Forecast</th>\n",
       "      <th>Training Data</th>\n",
       "      <th>Real Data</th>\n",
       "    </tr>\n",
       "    <tr>\n",
       "      <th>date</th>\n",
       "      <th></th>\n",
       "      <th></th>\n",
       "      <th></th>\n",
       "    </tr>\n",
       "  </thead>\n",
       "  <tbody>\n",
       "    <tr>\n",
       "      <th>2022-02-05</th>\n",
       "      <td>NaN</td>\n",
       "      <td>1095.0</td>\n",
       "      <td>NaN</td>\n",
       "    </tr>\n",
       "    <tr>\n",
       "      <th>2022-02-12</th>\n",
       "      <td>NaN</td>\n",
       "      <td>1164.0</td>\n",
       "      <td>NaN</td>\n",
       "    </tr>\n",
       "    <tr>\n",
       "      <th>2022-02-19</th>\n",
       "      <td>NaN</td>\n",
       "      <td>1493.0</td>\n",
       "      <td>NaN</td>\n",
       "    </tr>\n",
       "    <tr>\n",
       "      <th>2022-02-26</th>\n",
       "      <td>NaN</td>\n",
       "      <td>1603.0</td>\n",
       "      <td>NaN</td>\n",
       "    </tr>\n",
       "    <tr>\n",
       "      <th>2022-03-05</th>\n",
       "      <td>NaN</td>\n",
       "      <td>1791.0</td>\n",
       "      <td>NaN</td>\n",
       "    </tr>\n",
       "    <tr>\n",
       "      <th>...</th>\n",
       "      <td>...</td>\n",
       "      <td>...</td>\n",
       "      <td>...</td>\n",
       "    </tr>\n",
       "    <tr>\n",
       "      <th>2023-12-09</th>\n",
       "      <td>10901.648</td>\n",
       "      <td>NaN</td>\n",
       "      <td>7510.0</td>\n",
       "    </tr>\n",
       "    <tr>\n",
       "      <th>2023-12-16</th>\n",
       "      <td>10511.217</td>\n",
       "      <td>NaN</td>\n",
       "      <td>10289.0</td>\n",
       "    </tr>\n",
       "    <tr>\n",
       "      <th>2023-12-23</th>\n",
       "      <td>9889.516</td>\n",
       "      <td>NaN</td>\n",
       "      <td>15727.0</td>\n",
       "    </tr>\n",
       "    <tr>\n",
       "      <th>2023-12-30</th>\n",
       "      <td>8929.090</td>\n",
       "      <td>NaN</td>\n",
       "      <td>21685.0</td>\n",
       "    </tr>\n",
       "    <tr>\n",
       "      <th>2024-01-06</th>\n",
       "      <td>8052.318</td>\n",
       "      <td>NaN</td>\n",
       "      <td>19550.0</td>\n",
       "    </tr>\n",
       "  </tbody>\n",
       "</table>\n",
       "<p>101 rows × 3 columns</p>\n",
       "</div>"
      ],
      "text/plain": [
       "            TimeGPT Forecast  Training Data  Real Data\n",
       "date                                                  \n",
       "2022-02-05               NaN         1095.0        NaN\n",
       "2022-02-12               NaN         1164.0        NaN\n",
       "2022-02-19               NaN         1493.0        NaN\n",
       "2022-02-26               NaN         1603.0        NaN\n",
       "2022-03-05               NaN         1791.0        NaN\n",
       "...                      ...            ...        ...\n",
       "2023-12-09         10901.648            NaN     7510.0\n",
       "2023-12-16         10511.217            NaN    10289.0\n",
       "2023-12-23          9889.516            NaN    15727.0\n",
       "2023-12-30          8929.090            NaN    21685.0\n",
       "2024-01-06          8052.318            NaN    19550.0\n",
       "\n",
       "[101 rows x 3 columns]"
      ]
     },
     "execution_count": 26,
     "metadata": {},
     "output_type": "execute_result"
    }
   ],
   "source": [
    "nov4plottingdf = pd.DataFrame()\n",
    "nov4plottingdf.index = entire_df.index\n",
    "nov4plottingdf = nov4plottingdf.loc[: \"2024-01-06\"]\n",
    "\n",
    "nov4plottingdf[\"TimeGPT Forecast\"] = nov4forecast[\"TimeGPT\"]\n",
    "nov4plottingdf[\"Training Data\"] = nov4df[\"value\"]\n",
    "nov4plottingdf[\"Real Data\"] = entire_df[\"2023-11-11\" : \"2024-01-06\"]\n",
    "\n",
    "nov4plottingdf"
   ]
  },
  {
   "cell_type": "code",
   "execution_count": 27,
   "id": "a797195f",
   "metadata": {
    "scrolled": false
   },
   "outputs": [
    {
     "name": "stderr",
     "output_type": "stream",
     "text": [
      "/Users/anshulchiranth/anaconda3/lib/python3.11/site-packages/cufflinks/plotlytools.py:117: FutureWarning:\n",
      "\n",
      "DatetimeIndex.format is deprecated and will be removed in a future version. Convert using index.astype(str) or index.map(formatter) instead.\n",
      "\n"
     ]
    },
    {
     "data": {
      "application/vnd.plotly.v1+json": {
       "config": {
        "linkText": "Export to plot.ly",
        "plotlyServerURL": "https://plot.ly",
        "showLink": true
       },
       "data": [
        {
         "line": {
          "color": "rgba(255, 153, 51, 1.0)",
          "dash": "solid",
          "shape": "linear",
          "width": 1.3
         },
         "mode": "lines",
         "name": "TimeGPT Forecast",
         "text": "",
         "type": "scatter",
         "x": [
          "2022-02-05",
          "2022-02-12",
          "2022-02-19",
          "2022-02-26",
          "2022-03-05",
          "2022-03-12",
          "2022-03-19",
          "2022-03-26",
          "2022-04-02",
          "2022-04-09",
          "2022-04-16",
          "2022-04-23",
          "2022-04-30",
          "2022-05-07",
          "2022-05-14",
          "2022-05-21",
          "2022-05-28",
          "2022-06-04",
          "2022-06-11",
          "2022-06-18",
          "2022-06-25",
          "2022-07-02",
          "2022-07-09",
          "2022-07-16",
          "2022-07-23",
          "2022-07-30",
          "2022-08-06",
          "2022-08-13",
          "2022-08-20",
          "2022-08-27",
          "2022-09-03",
          "2022-09-10",
          "2022-09-17",
          "2022-09-24",
          "2022-10-01",
          "2022-10-08",
          "2022-10-15",
          "2022-10-22",
          "2022-10-29",
          "2022-11-05",
          "2022-11-12",
          "2022-11-19",
          "2022-11-26",
          "2022-12-03",
          "2022-12-10",
          "2022-12-17",
          "2022-12-24",
          "2022-12-31",
          "2023-01-07",
          "2023-01-14",
          "2023-01-21",
          "2023-01-28",
          "2023-02-04",
          "2023-02-11",
          "2023-02-18",
          "2023-02-25",
          "2023-03-04",
          "2023-03-11",
          "2023-03-18",
          "2023-03-25",
          "2023-04-01",
          "2023-04-08",
          "2023-04-15",
          "2023-04-22",
          "2023-04-29",
          "2023-05-06",
          "2023-05-13",
          "2023-05-20",
          "2023-05-27",
          "2023-06-03",
          "2023-06-10",
          "2023-06-17",
          "2023-06-24",
          "2023-07-01",
          "2023-07-08",
          "2023-07-15",
          "2023-07-22",
          "2023-07-29",
          "2023-08-05",
          "2023-08-12",
          "2023-08-19",
          "2023-08-26",
          "2023-09-02",
          "2023-09-09",
          "2023-09-16",
          "2023-09-23",
          "2023-09-30",
          "2023-10-07",
          "2023-10-14",
          "2023-10-21",
          "2023-10-28",
          "2023-11-04",
          "2023-11-11",
          "2023-11-18",
          "2023-11-25",
          "2023-12-02",
          "2023-12-09",
          "2023-12-16",
          "2023-12-23",
          "2023-12-30",
          "2024-01-06"
         ],
         "y": [
          "",
          "",
          "",
          "",
          "",
          "",
          "",
          "",
          "",
          "",
          "",
          "",
          "",
          "",
          "",
          "",
          "",
          "",
          "",
          "",
          "",
          "",
          "",
          "",
          "",
          "",
          "",
          "",
          "",
          "",
          "",
          "",
          "",
          "",
          "",
          "",
          "",
          "",
          "",
          "",
          "",
          "",
          "",
          "",
          "",
          "",
          "",
          "",
          "",
          "",
          "",
          "",
          "",
          "",
          "",
          "",
          "",
          "",
          "",
          "",
          "",
          "",
          "",
          "",
          "",
          "",
          "",
          "",
          "",
          "",
          "",
          "",
          "",
          "",
          "",
          "",
          "",
          "",
          "",
          "",
          "",
          "",
          "",
          "",
          "",
          "",
          "",
          "",
          "",
          "",
          "",
          "",
          3569.099,
          5565.354,
          7580.861,
          9810.16,
          10901.648,
          10511.217,
          9889.516,
          8929.09,
          8052.318
         ]
        },
        {
         "line": {
          "color": "rgba(55, 128, 191, 1.0)",
          "dash": "solid",
          "shape": "linear",
          "width": 1.3
         },
         "mode": "lines",
         "name": "Training Data",
         "text": "",
         "type": "scatter",
         "x": [
          "2022-02-05",
          "2022-02-12",
          "2022-02-19",
          "2022-02-26",
          "2022-03-05",
          "2022-03-12",
          "2022-03-19",
          "2022-03-26",
          "2022-04-02",
          "2022-04-09",
          "2022-04-16",
          "2022-04-23",
          "2022-04-30",
          "2022-05-07",
          "2022-05-14",
          "2022-05-21",
          "2022-05-28",
          "2022-06-04",
          "2022-06-11",
          "2022-06-18",
          "2022-06-25",
          "2022-07-02",
          "2022-07-09",
          "2022-07-16",
          "2022-07-23",
          "2022-07-30",
          "2022-08-06",
          "2022-08-13",
          "2022-08-20",
          "2022-08-27",
          "2022-09-03",
          "2022-09-10",
          "2022-09-17",
          "2022-09-24",
          "2022-10-01",
          "2022-10-08",
          "2022-10-15",
          "2022-10-22",
          "2022-10-29",
          "2022-11-05",
          "2022-11-12",
          "2022-11-19",
          "2022-11-26",
          "2022-12-03",
          "2022-12-10",
          "2022-12-17",
          "2022-12-24",
          "2022-12-31",
          "2023-01-07",
          "2023-01-14",
          "2023-01-21",
          "2023-01-28",
          "2023-02-04",
          "2023-02-11",
          "2023-02-18",
          "2023-02-25",
          "2023-03-04",
          "2023-03-11",
          "2023-03-18",
          "2023-03-25",
          "2023-04-01",
          "2023-04-08",
          "2023-04-15",
          "2023-04-22",
          "2023-04-29",
          "2023-05-06",
          "2023-05-13",
          "2023-05-20",
          "2023-05-27",
          "2023-06-03",
          "2023-06-10",
          "2023-06-17",
          "2023-06-24",
          "2023-07-01",
          "2023-07-08",
          "2023-07-15",
          "2023-07-22",
          "2023-07-29",
          "2023-08-05",
          "2023-08-12",
          "2023-08-19",
          "2023-08-26",
          "2023-09-02",
          "2023-09-09",
          "2023-09-16",
          "2023-09-23",
          "2023-09-30",
          "2023-10-07",
          "2023-10-14",
          "2023-10-21",
          "2023-10-28",
          "2023-11-04",
          "2023-11-11",
          "2023-11-18",
          "2023-11-25",
          "2023-12-02",
          "2023-12-09",
          "2023-12-16",
          "2023-12-23",
          "2023-12-30",
          "2024-01-06"
         ],
         "y": [
          1095,
          1164,
          1493,
          1603,
          1791,
          2097,
          2626,
          2919,
          3008,
          3149,
          3308,
          3474,
          3182,
          3175,
          3119,
          3134,
          2738,
          2678,
          2210,
          1776,
          1366,
          1073,
          776,
          766,
          628,
          522,
          486,
          490,
          483,
          483,
          545,
          576,
          665,
          796,
          921,
          1316,
          1674,
          2292,
          4184,
          6409,
          8595,
          10974,
          18185,
          26853,
          24039,
          21615,
          19634,
          19482,
          14078,
          7191,
          4492,
          3092,
          2597,
          2177,
          1908,
          1649,
          1504,
          1372,
          1415,
          1331,
          1295,
          1199,
          1077,
          982,
          903,
          994,
          980,
          1116,
          974,
          939,
          935,
          873,
          813,
          836,
          699,
          736,
          645,
          772,
          690,
          706,
          738,
          793,
          875,
          804,
          821,
          884,
          1026,
          1110,
          1215,
          1470,
          1614,
          2014,
          "",
          "",
          "",
          "",
          "",
          "",
          "",
          "",
          ""
         ]
        },
        {
         "line": {
          "color": "rgba(50, 171, 96, 1.0)",
          "dash": "solid",
          "shape": "linear",
          "width": 1.3
         },
         "mode": "lines",
         "name": "Real Data",
         "text": "",
         "type": "scatter",
         "x": [
          "2022-02-05",
          "2022-02-12",
          "2022-02-19",
          "2022-02-26",
          "2022-03-05",
          "2022-03-12",
          "2022-03-19",
          "2022-03-26",
          "2022-04-02",
          "2022-04-09",
          "2022-04-16",
          "2022-04-23",
          "2022-04-30",
          "2022-05-07",
          "2022-05-14",
          "2022-05-21",
          "2022-05-28",
          "2022-06-04",
          "2022-06-11",
          "2022-06-18",
          "2022-06-25",
          "2022-07-02",
          "2022-07-09",
          "2022-07-16",
          "2022-07-23",
          "2022-07-30",
          "2022-08-06",
          "2022-08-13",
          "2022-08-20",
          "2022-08-27",
          "2022-09-03",
          "2022-09-10",
          "2022-09-17",
          "2022-09-24",
          "2022-10-01",
          "2022-10-08",
          "2022-10-15",
          "2022-10-22",
          "2022-10-29",
          "2022-11-05",
          "2022-11-12",
          "2022-11-19",
          "2022-11-26",
          "2022-12-03",
          "2022-12-10",
          "2022-12-17",
          "2022-12-24",
          "2022-12-31",
          "2023-01-07",
          "2023-01-14",
          "2023-01-21",
          "2023-01-28",
          "2023-02-04",
          "2023-02-11",
          "2023-02-18",
          "2023-02-25",
          "2023-03-04",
          "2023-03-11",
          "2023-03-18",
          "2023-03-25",
          "2023-04-01",
          "2023-04-08",
          "2023-04-15",
          "2023-04-22",
          "2023-04-29",
          "2023-05-06",
          "2023-05-13",
          "2023-05-20",
          "2023-05-27",
          "2023-06-03",
          "2023-06-10",
          "2023-06-17",
          "2023-06-24",
          "2023-07-01",
          "2023-07-08",
          "2023-07-15",
          "2023-07-22",
          "2023-07-29",
          "2023-08-05",
          "2023-08-12",
          "2023-08-19",
          "2023-08-26",
          "2023-09-02",
          "2023-09-09",
          "2023-09-16",
          "2023-09-23",
          "2023-09-30",
          "2023-10-07",
          "2023-10-14",
          "2023-10-21",
          "2023-10-28",
          "2023-11-04",
          "2023-11-11",
          "2023-11-18",
          "2023-11-25",
          "2023-12-02",
          "2023-12-09",
          "2023-12-16",
          "2023-12-23",
          "2023-12-30",
          "2024-01-06"
         ],
         "y": [
          "",
          "",
          "",
          "",
          "",
          "",
          "",
          "",
          "",
          "",
          "",
          "",
          "",
          "",
          "",
          "",
          "",
          "",
          "",
          "",
          "",
          "",
          "",
          "",
          "",
          "",
          "",
          "",
          "",
          "",
          "",
          "",
          "",
          "",
          "",
          "",
          "",
          "",
          "",
          "",
          "",
          "",
          "",
          "",
          "",
          "",
          "",
          "",
          "",
          "",
          "",
          "",
          "",
          "",
          "",
          "",
          "",
          "",
          "",
          "",
          "",
          "",
          "",
          "",
          "",
          "",
          "",
          "",
          "",
          "",
          "",
          "",
          "",
          "",
          "",
          "",
          "",
          "",
          "",
          "",
          "",
          "",
          "",
          "",
          "",
          "",
          "",
          "",
          "",
          "",
          "",
          "",
          2776,
          3492,
          4387,
          5962,
          7510,
          10289,
          15727,
          21685,
          19550
         ]
        }
       ],
       "layout": {
        "legend": {
         "bgcolor": "#F5F6F9",
         "font": {
          "color": "#4D5663"
         }
        },
        "paper_bgcolor": "#F5F6F9",
        "plot_bgcolor": "#F5F6F9",
        "template": {
         "data": {
          "bar": [
           {
            "error_x": {
             "color": "#2a3f5f"
            },
            "error_y": {
             "color": "#2a3f5f"
            },
            "marker": {
             "line": {
              "color": "#E5ECF6",
              "width": 0.5
             },
             "pattern": {
              "fillmode": "overlay",
              "size": 10,
              "solidity": 0.2
             }
            },
            "type": "bar"
           }
          ],
          "barpolar": [
           {
            "marker": {
             "line": {
              "color": "#E5ECF6",
              "width": 0.5
             },
             "pattern": {
              "fillmode": "overlay",
              "size": 10,
              "solidity": 0.2
             }
            },
            "type": "barpolar"
           }
          ],
          "carpet": [
           {
            "aaxis": {
             "endlinecolor": "#2a3f5f",
             "gridcolor": "white",
             "linecolor": "white",
             "minorgridcolor": "white",
             "startlinecolor": "#2a3f5f"
            },
            "baxis": {
             "endlinecolor": "#2a3f5f",
             "gridcolor": "white",
             "linecolor": "white",
             "minorgridcolor": "white",
             "startlinecolor": "#2a3f5f"
            },
            "type": "carpet"
           }
          ],
          "choropleth": [
           {
            "colorbar": {
             "outlinewidth": 0,
             "ticks": ""
            },
            "type": "choropleth"
           }
          ],
          "contour": [
           {
            "colorbar": {
             "outlinewidth": 0,
             "ticks": ""
            },
            "colorscale": [
             [
              0,
              "#0d0887"
             ],
             [
              0.1111111111111111,
              "#46039f"
             ],
             [
              0.2222222222222222,
              "#7201a8"
             ],
             [
              0.3333333333333333,
              "#9c179e"
             ],
             [
              0.4444444444444444,
              "#bd3786"
             ],
             [
              0.5555555555555556,
              "#d8576b"
             ],
             [
              0.6666666666666666,
              "#ed7953"
             ],
             [
              0.7777777777777778,
              "#fb9f3a"
             ],
             [
              0.8888888888888888,
              "#fdca26"
             ],
             [
              1,
              "#f0f921"
             ]
            ],
            "type": "contour"
           }
          ],
          "contourcarpet": [
           {
            "colorbar": {
             "outlinewidth": 0,
             "ticks": ""
            },
            "type": "contourcarpet"
           }
          ],
          "heatmap": [
           {
            "colorbar": {
             "outlinewidth": 0,
             "ticks": ""
            },
            "colorscale": [
             [
              0,
              "#0d0887"
             ],
             [
              0.1111111111111111,
              "#46039f"
             ],
             [
              0.2222222222222222,
              "#7201a8"
             ],
             [
              0.3333333333333333,
              "#9c179e"
             ],
             [
              0.4444444444444444,
              "#bd3786"
             ],
             [
              0.5555555555555556,
              "#d8576b"
             ],
             [
              0.6666666666666666,
              "#ed7953"
             ],
             [
              0.7777777777777778,
              "#fb9f3a"
             ],
             [
              0.8888888888888888,
              "#fdca26"
             ],
             [
              1,
              "#f0f921"
             ]
            ],
            "type": "heatmap"
           }
          ],
          "heatmapgl": [
           {
            "colorbar": {
             "outlinewidth": 0,
             "ticks": ""
            },
            "colorscale": [
             [
              0,
              "#0d0887"
             ],
             [
              0.1111111111111111,
              "#46039f"
             ],
             [
              0.2222222222222222,
              "#7201a8"
             ],
             [
              0.3333333333333333,
              "#9c179e"
             ],
             [
              0.4444444444444444,
              "#bd3786"
             ],
             [
              0.5555555555555556,
              "#d8576b"
             ],
             [
              0.6666666666666666,
              "#ed7953"
             ],
             [
              0.7777777777777778,
              "#fb9f3a"
             ],
             [
              0.8888888888888888,
              "#fdca26"
             ],
             [
              1,
              "#f0f921"
             ]
            ],
            "type": "heatmapgl"
           }
          ],
          "histogram": [
           {
            "marker": {
             "pattern": {
              "fillmode": "overlay",
              "size": 10,
              "solidity": 0.2
             }
            },
            "type": "histogram"
           }
          ],
          "histogram2d": [
           {
            "colorbar": {
             "outlinewidth": 0,
             "ticks": ""
            },
            "colorscale": [
             [
              0,
              "#0d0887"
             ],
             [
              0.1111111111111111,
              "#46039f"
             ],
             [
              0.2222222222222222,
              "#7201a8"
             ],
             [
              0.3333333333333333,
              "#9c179e"
             ],
             [
              0.4444444444444444,
              "#bd3786"
             ],
             [
              0.5555555555555556,
              "#d8576b"
             ],
             [
              0.6666666666666666,
              "#ed7953"
             ],
             [
              0.7777777777777778,
              "#fb9f3a"
             ],
             [
              0.8888888888888888,
              "#fdca26"
             ],
             [
              1,
              "#f0f921"
             ]
            ],
            "type": "histogram2d"
           }
          ],
          "histogram2dcontour": [
           {
            "colorbar": {
             "outlinewidth": 0,
             "ticks": ""
            },
            "colorscale": [
             [
              0,
              "#0d0887"
             ],
             [
              0.1111111111111111,
              "#46039f"
             ],
             [
              0.2222222222222222,
              "#7201a8"
             ],
             [
              0.3333333333333333,
              "#9c179e"
             ],
             [
              0.4444444444444444,
              "#bd3786"
             ],
             [
              0.5555555555555556,
              "#d8576b"
             ],
             [
              0.6666666666666666,
              "#ed7953"
             ],
             [
              0.7777777777777778,
              "#fb9f3a"
             ],
             [
              0.8888888888888888,
              "#fdca26"
             ],
             [
              1,
              "#f0f921"
             ]
            ],
            "type": "histogram2dcontour"
           }
          ],
          "mesh3d": [
           {
            "colorbar": {
             "outlinewidth": 0,
             "ticks": ""
            },
            "type": "mesh3d"
           }
          ],
          "parcoords": [
           {
            "line": {
             "colorbar": {
              "outlinewidth": 0,
              "ticks": ""
             }
            },
            "type": "parcoords"
           }
          ],
          "pie": [
           {
            "automargin": true,
            "type": "pie"
           }
          ],
          "scatter": [
           {
            "fillpattern": {
             "fillmode": "overlay",
             "size": 10,
             "solidity": 0.2
            },
            "type": "scatter"
           }
          ],
          "scatter3d": [
           {
            "line": {
             "colorbar": {
              "outlinewidth": 0,
              "ticks": ""
             }
            },
            "marker": {
             "colorbar": {
              "outlinewidth": 0,
              "ticks": ""
             }
            },
            "type": "scatter3d"
           }
          ],
          "scattercarpet": [
           {
            "marker": {
             "colorbar": {
              "outlinewidth": 0,
              "ticks": ""
             }
            },
            "type": "scattercarpet"
           }
          ],
          "scattergeo": [
           {
            "marker": {
             "colorbar": {
              "outlinewidth": 0,
              "ticks": ""
             }
            },
            "type": "scattergeo"
           }
          ],
          "scattergl": [
           {
            "marker": {
             "colorbar": {
              "outlinewidth": 0,
              "ticks": ""
             }
            },
            "type": "scattergl"
           }
          ],
          "scattermapbox": [
           {
            "marker": {
             "colorbar": {
              "outlinewidth": 0,
              "ticks": ""
             }
            },
            "type": "scattermapbox"
           }
          ],
          "scatterpolar": [
           {
            "marker": {
             "colorbar": {
              "outlinewidth": 0,
              "ticks": ""
             }
            },
            "type": "scatterpolar"
           }
          ],
          "scatterpolargl": [
           {
            "marker": {
             "colorbar": {
              "outlinewidth": 0,
              "ticks": ""
             }
            },
            "type": "scatterpolargl"
           }
          ],
          "scatterternary": [
           {
            "marker": {
             "colorbar": {
              "outlinewidth": 0,
              "ticks": ""
             }
            },
            "type": "scatterternary"
           }
          ],
          "surface": [
           {
            "colorbar": {
             "outlinewidth": 0,
             "ticks": ""
            },
            "colorscale": [
             [
              0,
              "#0d0887"
             ],
             [
              0.1111111111111111,
              "#46039f"
             ],
             [
              0.2222222222222222,
              "#7201a8"
             ],
             [
              0.3333333333333333,
              "#9c179e"
             ],
             [
              0.4444444444444444,
              "#bd3786"
             ],
             [
              0.5555555555555556,
              "#d8576b"
             ],
             [
              0.6666666666666666,
              "#ed7953"
             ],
             [
              0.7777777777777778,
              "#fb9f3a"
             ],
             [
              0.8888888888888888,
              "#fdca26"
             ],
             [
              1,
              "#f0f921"
             ]
            ],
            "type": "surface"
           }
          ],
          "table": [
           {
            "cells": {
             "fill": {
              "color": "#EBF0F8"
             },
             "line": {
              "color": "white"
             }
            },
            "header": {
             "fill": {
              "color": "#C8D4E3"
             },
             "line": {
              "color": "white"
             }
            },
            "type": "table"
           }
          ]
         },
         "layout": {
          "annotationdefaults": {
           "arrowcolor": "#2a3f5f",
           "arrowhead": 0,
           "arrowwidth": 1
          },
          "autotypenumbers": "strict",
          "coloraxis": {
           "colorbar": {
            "outlinewidth": 0,
            "ticks": ""
           }
          },
          "colorscale": {
           "diverging": [
            [
             0,
             "#8e0152"
            ],
            [
             0.1,
             "#c51b7d"
            ],
            [
             0.2,
             "#de77ae"
            ],
            [
             0.3,
             "#f1b6da"
            ],
            [
             0.4,
             "#fde0ef"
            ],
            [
             0.5,
             "#f7f7f7"
            ],
            [
             0.6,
             "#e6f5d0"
            ],
            [
             0.7,
             "#b8e186"
            ],
            [
             0.8,
             "#7fbc41"
            ],
            [
             0.9,
             "#4d9221"
            ],
            [
             1,
             "#276419"
            ]
           ],
           "sequential": [
            [
             0,
             "#0d0887"
            ],
            [
             0.1111111111111111,
             "#46039f"
            ],
            [
             0.2222222222222222,
             "#7201a8"
            ],
            [
             0.3333333333333333,
             "#9c179e"
            ],
            [
             0.4444444444444444,
             "#bd3786"
            ],
            [
             0.5555555555555556,
             "#d8576b"
            ],
            [
             0.6666666666666666,
             "#ed7953"
            ],
            [
             0.7777777777777778,
             "#fb9f3a"
            ],
            [
             0.8888888888888888,
             "#fdca26"
            ],
            [
             1,
             "#f0f921"
            ]
           ],
           "sequentialminus": [
            [
             0,
             "#0d0887"
            ],
            [
             0.1111111111111111,
             "#46039f"
            ],
            [
             0.2222222222222222,
             "#7201a8"
            ],
            [
             0.3333333333333333,
             "#9c179e"
            ],
            [
             0.4444444444444444,
             "#bd3786"
            ],
            [
             0.5555555555555556,
             "#d8576b"
            ],
            [
             0.6666666666666666,
             "#ed7953"
            ],
            [
             0.7777777777777778,
             "#fb9f3a"
            ],
            [
             0.8888888888888888,
             "#fdca26"
            ],
            [
             1,
             "#f0f921"
            ]
           ]
          },
          "colorway": [
           "#636efa",
           "#EF553B",
           "#00cc96",
           "#ab63fa",
           "#FFA15A",
           "#19d3f3",
           "#FF6692",
           "#B6E880",
           "#FF97FF",
           "#FECB52"
          ],
          "font": {
           "color": "#2a3f5f"
          },
          "geo": {
           "bgcolor": "white",
           "lakecolor": "white",
           "landcolor": "#E5ECF6",
           "showlakes": true,
           "showland": true,
           "subunitcolor": "white"
          },
          "hoverlabel": {
           "align": "left"
          },
          "hovermode": "closest",
          "mapbox": {
           "style": "light"
          },
          "paper_bgcolor": "white",
          "plot_bgcolor": "#E5ECF6",
          "polar": {
           "angularaxis": {
            "gridcolor": "white",
            "linecolor": "white",
            "ticks": ""
           },
           "bgcolor": "#E5ECF6",
           "radialaxis": {
            "gridcolor": "white",
            "linecolor": "white",
            "ticks": ""
           }
          },
          "scene": {
           "xaxis": {
            "backgroundcolor": "#E5ECF6",
            "gridcolor": "white",
            "gridwidth": 2,
            "linecolor": "white",
            "showbackground": true,
            "ticks": "",
            "zerolinecolor": "white"
           },
           "yaxis": {
            "backgroundcolor": "#E5ECF6",
            "gridcolor": "white",
            "gridwidth": 2,
            "linecolor": "white",
            "showbackground": true,
            "ticks": "",
            "zerolinecolor": "white"
           },
           "zaxis": {
            "backgroundcolor": "#E5ECF6",
            "gridcolor": "white",
            "gridwidth": 2,
            "linecolor": "white",
            "showbackground": true,
            "ticks": "",
            "zerolinecolor": "white"
           }
          },
          "shapedefaults": {
           "line": {
            "color": "#2a3f5f"
           }
          },
          "ternary": {
           "aaxis": {
            "gridcolor": "white",
            "linecolor": "white",
            "ticks": ""
           },
           "baxis": {
            "gridcolor": "white",
            "linecolor": "white",
            "ticks": ""
           },
           "bgcolor": "#E5ECF6",
           "caxis": {
            "gridcolor": "white",
            "linecolor": "white",
            "ticks": ""
           }
          },
          "title": {
           "x": 0.05
          },
          "xaxis": {
           "automargin": true,
           "gridcolor": "white",
           "linecolor": "white",
           "ticks": "",
           "title": {
            "standoff": 15
           },
           "zerolinecolor": "white",
           "zerolinewidth": 2
          },
          "yaxis": {
           "automargin": true,
           "gridcolor": "white",
           "linecolor": "white",
           "ticks": "",
           "title": {
            "standoff": 15
           },
           "zerolinecolor": "white",
           "zerolinewidth": 2
          }
         }
        },
        "title": {
         "font": {
          "color": "#4D5663"
         },
         "text": "TimeGPT Prediction Given Nov. 4 As Final Point"
        },
        "xaxis": {
         "gridcolor": "#E1E5ED",
         "showgrid": true,
         "tickfont": {
          "color": "#4D5663"
         },
         "title": {
          "font": {
           "color": "#4D5663"
          },
          "text": "Date"
         },
         "zerolinecolor": "#E1E5ED"
        },
        "yaxis": {
         "gridcolor": "#E1E5ED",
         "showgrid": true,
         "tickfont": {
          "color": "#4D5663"
         },
         "title": {
          "font": {
           "color": "#4D5663"
          },
          "text": "Count"
         },
         "zerolinecolor": "#E1E5ED"
        }
       }
      },
      "text/html": [
       "<div>                            <div id=\"409ed8b6-397e-4fdc-93a3-6e4a74db6825\" class=\"plotly-graph-div\" style=\"height:525px; width:100%;\"></div>            <script type=\"text/javascript\">                require([\"plotly\"], function(Plotly) {                    window.PLOTLYENV=window.PLOTLYENV || {};\n",
       "                    window.PLOTLYENV.BASE_URL='https://plot.ly';                                    if (document.getElementById(\"409ed8b6-397e-4fdc-93a3-6e4a74db6825\")) {                    Plotly.newPlot(                        \"409ed8b6-397e-4fdc-93a3-6e4a74db6825\",                        [{\"line\":{\"color\":\"rgba(255, 153, 51, 1.0)\",\"dash\":\"solid\",\"shape\":\"linear\",\"width\":1.3},\"mode\":\"lines\",\"name\":\"TimeGPT Forecast\",\"text\":\"\",\"x\":[\"2022-02-05\",\"2022-02-12\",\"2022-02-19\",\"2022-02-26\",\"2022-03-05\",\"2022-03-12\",\"2022-03-19\",\"2022-03-26\",\"2022-04-02\",\"2022-04-09\",\"2022-04-16\",\"2022-04-23\",\"2022-04-30\",\"2022-05-07\",\"2022-05-14\",\"2022-05-21\",\"2022-05-28\",\"2022-06-04\",\"2022-06-11\",\"2022-06-18\",\"2022-06-25\",\"2022-07-02\",\"2022-07-09\",\"2022-07-16\",\"2022-07-23\",\"2022-07-30\",\"2022-08-06\",\"2022-08-13\",\"2022-08-20\",\"2022-08-27\",\"2022-09-03\",\"2022-09-10\",\"2022-09-17\",\"2022-09-24\",\"2022-10-01\",\"2022-10-08\",\"2022-10-15\",\"2022-10-22\",\"2022-10-29\",\"2022-11-05\",\"2022-11-12\",\"2022-11-19\",\"2022-11-26\",\"2022-12-03\",\"2022-12-10\",\"2022-12-17\",\"2022-12-24\",\"2022-12-31\",\"2023-01-07\",\"2023-01-14\",\"2023-01-21\",\"2023-01-28\",\"2023-02-04\",\"2023-02-11\",\"2023-02-18\",\"2023-02-25\",\"2023-03-04\",\"2023-03-11\",\"2023-03-18\",\"2023-03-25\",\"2023-04-01\",\"2023-04-08\",\"2023-04-15\",\"2023-04-22\",\"2023-04-29\",\"2023-05-06\",\"2023-05-13\",\"2023-05-20\",\"2023-05-27\",\"2023-06-03\",\"2023-06-10\",\"2023-06-17\",\"2023-06-24\",\"2023-07-01\",\"2023-07-08\",\"2023-07-15\",\"2023-07-22\",\"2023-07-29\",\"2023-08-05\",\"2023-08-12\",\"2023-08-19\",\"2023-08-26\",\"2023-09-02\",\"2023-09-09\",\"2023-09-16\",\"2023-09-23\",\"2023-09-30\",\"2023-10-07\",\"2023-10-14\",\"2023-10-21\",\"2023-10-28\",\"2023-11-04\",\"2023-11-11\",\"2023-11-18\",\"2023-11-25\",\"2023-12-02\",\"2023-12-09\",\"2023-12-16\",\"2023-12-23\",\"2023-12-30\",\"2024-01-06\"],\"y\":[\"\",\"\",\"\",\"\",\"\",\"\",\"\",\"\",\"\",\"\",\"\",\"\",\"\",\"\",\"\",\"\",\"\",\"\",\"\",\"\",\"\",\"\",\"\",\"\",\"\",\"\",\"\",\"\",\"\",\"\",\"\",\"\",\"\",\"\",\"\",\"\",\"\",\"\",\"\",\"\",\"\",\"\",\"\",\"\",\"\",\"\",\"\",\"\",\"\",\"\",\"\",\"\",\"\",\"\",\"\",\"\",\"\",\"\",\"\",\"\",\"\",\"\",\"\",\"\",\"\",\"\",\"\",\"\",\"\",\"\",\"\",\"\",\"\",\"\",\"\",\"\",\"\",\"\",\"\",\"\",\"\",\"\",\"\",\"\",\"\",\"\",\"\",\"\",\"\",\"\",\"\",\"\",3569.099,5565.354,7580.861,9810.16,10901.648,10511.217,9889.516,8929.09,8052.318],\"type\":\"scatter\"},{\"line\":{\"color\":\"rgba(55, 128, 191, 1.0)\",\"dash\":\"solid\",\"shape\":\"linear\",\"width\":1.3},\"mode\":\"lines\",\"name\":\"Training Data\",\"text\":\"\",\"x\":[\"2022-02-05\",\"2022-02-12\",\"2022-02-19\",\"2022-02-26\",\"2022-03-05\",\"2022-03-12\",\"2022-03-19\",\"2022-03-26\",\"2022-04-02\",\"2022-04-09\",\"2022-04-16\",\"2022-04-23\",\"2022-04-30\",\"2022-05-07\",\"2022-05-14\",\"2022-05-21\",\"2022-05-28\",\"2022-06-04\",\"2022-06-11\",\"2022-06-18\",\"2022-06-25\",\"2022-07-02\",\"2022-07-09\",\"2022-07-16\",\"2022-07-23\",\"2022-07-30\",\"2022-08-06\",\"2022-08-13\",\"2022-08-20\",\"2022-08-27\",\"2022-09-03\",\"2022-09-10\",\"2022-09-17\",\"2022-09-24\",\"2022-10-01\",\"2022-10-08\",\"2022-10-15\",\"2022-10-22\",\"2022-10-29\",\"2022-11-05\",\"2022-11-12\",\"2022-11-19\",\"2022-11-26\",\"2022-12-03\",\"2022-12-10\",\"2022-12-17\",\"2022-12-24\",\"2022-12-31\",\"2023-01-07\",\"2023-01-14\",\"2023-01-21\",\"2023-01-28\",\"2023-02-04\",\"2023-02-11\",\"2023-02-18\",\"2023-02-25\",\"2023-03-04\",\"2023-03-11\",\"2023-03-18\",\"2023-03-25\",\"2023-04-01\",\"2023-04-08\",\"2023-04-15\",\"2023-04-22\",\"2023-04-29\",\"2023-05-06\",\"2023-05-13\",\"2023-05-20\",\"2023-05-27\",\"2023-06-03\",\"2023-06-10\",\"2023-06-17\",\"2023-06-24\",\"2023-07-01\",\"2023-07-08\",\"2023-07-15\",\"2023-07-22\",\"2023-07-29\",\"2023-08-05\",\"2023-08-12\",\"2023-08-19\",\"2023-08-26\",\"2023-09-02\",\"2023-09-09\",\"2023-09-16\",\"2023-09-23\",\"2023-09-30\",\"2023-10-07\",\"2023-10-14\",\"2023-10-21\",\"2023-10-28\",\"2023-11-04\",\"2023-11-11\",\"2023-11-18\",\"2023-11-25\",\"2023-12-02\",\"2023-12-09\",\"2023-12-16\",\"2023-12-23\",\"2023-12-30\",\"2024-01-06\"],\"y\":[1095.0,1164.0,1493.0,1603.0,1791.0,2097.0,2626.0,2919.0,3008.0,3149.0,3308.0,3474.0,3182.0,3175.0,3119.0,3134.0,2738.0,2678.0,2210.0,1776.0,1366.0,1073.0,776.0,766.0,628.0,522.0,486.0,490.0,483.0,483.0,545.0,576.0,665.0,796.0,921.0,1316.0,1674.0,2292.0,4184.0,6409.0,8595.0,10974.0,18185.0,26853.0,24039.0,21615.0,19634.0,19482.0,14078.0,7191.0,4492.0,3092.0,2597.0,2177.0,1908.0,1649.0,1504.0,1372.0,1415.0,1331.0,1295.0,1199.0,1077.0,982.0,903.0,994.0,980.0,1116.0,974.0,939.0,935.0,873.0,813.0,836.0,699.0,736.0,645.0,772.0,690.0,706.0,738.0,793.0,875.0,804.0,821.0,884.0,1026.0,1110.0,1215.0,1470.0,1614.0,2014.0,\"\",\"\",\"\",\"\",\"\",\"\",\"\",\"\",\"\"],\"type\":\"scatter\"},{\"line\":{\"color\":\"rgba(50, 171, 96, 1.0)\",\"dash\":\"solid\",\"shape\":\"linear\",\"width\":1.3},\"mode\":\"lines\",\"name\":\"Real Data\",\"text\":\"\",\"x\":[\"2022-02-05\",\"2022-02-12\",\"2022-02-19\",\"2022-02-26\",\"2022-03-05\",\"2022-03-12\",\"2022-03-19\",\"2022-03-26\",\"2022-04-02\",\"2022-04-09\",\"2022-04-16\",\"2022-04-23\",\"2022-04-30\",\"2022-05-07\",\"2022-05-14\",\"2022-05-21\",\"2022-05-28\",\"2022-06-04\",\"2022-06-11\",\"2022-06-18\",\"2022-06-25\",\"2022-07-02\",\"2022-07-09\",\"2022-07-16\",\"2022-07-23\",\"2022-07-30\",\"2022-08-06\",\"2022-08-13\",\"2022-08-20\",\"2022-08-27\",\"2022-09-03\",\"2022-09-10\",\"2022-09-17\",\"2022-09-24\",\"2022-10-01\",\"2022-10-08\",\"2022-10-15\",\"2022-10-22\",\"2022-10-29\",\"2022-11-05\",\"2022-11-12\",\"2022-11-19\",\"2022-11-26\",\"2022-12-03\",\"2022-12-10\",\"2022-12-17\",\"2022-12-24\",\"2022-12-31\",\"2023-01-07\",\"2023-01-14\",\"2023-01-21\",\"2023-01-28\",\"2023-02-04\",\"2023-02-11\",\"2023-02-18\",\"2023-02-25\",\"2023-03-04\",\"2023-03-11\",\"2023-03-18\",\"2023-03-25\",\"2023-04-01\",\"2023-04-08\",\"2023-04-15\",\"2023-04-22\",\"2023-04-29\",\"2023-05-06\",\"2023-05-13\",\"2023-05-20\",\"2023-05-27\",\"2023-06-03\",\"2023-06-10\",\"2023-06-17\",\"2023-06-24\",\"2023-07-01\",\"2023-07-08\",\"2023-07-15\",\"2023-07-22\",\"2023-07-29\",\"2023-08-05\",\"2023-08-12\",\"2023-08-19\",\"2023-08-26\",\"2023-09-02\",\"2023-09-09\",\"2023-09-16\",\"2023-09-23\",\"2023-09-30\",\"2023-10-07\",\"2023-10-14\",\"2023-10-21\",\"2023-10-28\",\"2023-11-04\",\"2023-11-11\",\"2023-11-18\",\"2023-11-25\",\"2023-12-02\",\"2023-12-09\",\"2023-12-16\",\"2023-12-23\",\"2023-12-30\",\"2024-01-06\"],\"y\":[\"\",\"\",\"\",\"\",\"\",\"\",\"\",\"\",\"\",\"\",\"\",\"\",\"\",\"\",\"\",\"\",\"\",\"\",\"\",\"\",\"\",\"\",\"\",\"\",\"\",\"\",\"\",\"\",\"\",\"\",\"\",\"\",\"\",\"\",\"\",\"\",\"\",\"\",\"\",\"\",\"\",\"\",\"\",\"\",\"\",\"\",\"\",\"\",\"\",\"\",\"\",\"\",\"\",\"\",\"\",\"\",\"\",\"\",\"\",\"\",\"\",\"\",\"\",\"\",\"\",\"\",\"\",\"\",\"\",\"\",\"\",\"\",\"\",\"\",\"\",\"\",\"\",\"\",\"\",\"\",\"\",\"\",\"\",\"\",\"\",\"\",\"\",\"\",\"\",\"\",\"\",\"\",2776.0,3492.0,4387.0,5962.0,7510.0,10289.0,15727.0,21685.0,19550.0],\"type\":\"scatter\"}],                        {\"legend\":{\"bgcolor\":\"#F5F6F9\",\"font\":{\"color\":\"#4D5663\"}},\"paper_bgcolor\":\"#F5F6F9\",\"plot_bgcolor\":\"#F5F6F9\",\"template\":{\"data\":{\"barpolar\":[{\"marker\":{\"line\":{\"color\":\"#E5ECF6\",\"width\":0.5},\"pattern\":{\"fillmode\":\"overlay\",\"size\":10,\"solidity\":0.2}},\"type\":\"barpolar\"}],\"bar\":[{\"error_x\":{\"color\":\"#2a3f5f\"},\"error_y\":{\"color\":\"#2a3f5f\"},\"marker\":{\"line\":{\"color\":\"#E5ECF6\",\"width\":0.5},\"pattern\":{\"fillmode\":\"overlay\",\"size\":10,\"solidity\":0.2}},\"type\":\"bar\"}],\"carpet\":[{\"aaxis\":{\"endlinecolor\":\"#2a3f5f\",\"gridcolor\":\"white\",\"linecolor\":\"white\",\"minorgridcolor\":\"white\",\"startlinecolor\":\"#2a3f5f\"},\"baxis\":{\"endlinecolor\":\"#2a3f5f\",\"gridcolor\":\"white\",\"linecolor\":\"white\",\"minorgridcolor\":\"white\",\"startlinecolor\":\"#2a3f5f\"},\"type\":\"carpet\"}],\"choropleth\":[{\"colorbar\":{\"outlinewidth\":0,\"ticks\":\"\"},\"type\":\"choropleth\"}],\"contourcarpet\":[{\"colorbar\":{\"outlinewidth\":0,\"ticks\":\"\"},\"type\":\"contourcarpet\"}],\"contour\":[{\"colorbar\":{\"outlinewidth\":0,\"ticks\":\"\"},\"colorscale\":[[0.0,\"#0d0887\"],[0.1111111111111111,\"#46039f\"],[0.2222222222222222,\"#7201a8\"],[0.3333333333333333,\"#9c179e\"],[0.4444444444444444,\"#bd3786\"],[0.5555555555555556,\"#d8576b\"],[0.6666666666666666,\"#ed7953\"],[0.7777777777777778,\"#fb9f3a\"],[0.8888888888888888,\"#fdca26\"],[1.0,\"#f0f921\"]],\"type\":\"contour\"}],\"heatmapgl\":[{\"colorbar\":{\"outlinewidth\":0,\"ticks\":\"\"},\"colorscale\":[[0.0,\"#0d0887\"],[0.1111111111111111,\"#46039f\"],[0.2222222222222222,\"#7201a8\"],[0.3333333333333333,\"#9c179e\"],[0.4444444444444444,\"#bd3786\"],[0.5555555555555556,\"#d8576b\"],[0.6666666666666666,\"#ed7953\"],[0.7777777777777778,\"#fb9f3a\"],[0.8888888888888888,\"#fdca26\"],[1.0,\"#f0f921\"]],\"type\":\"heatmapgl\"}],\"heatmap\":[{\"colorbar\":{\"outlinewidth\":0,\"ticks\":\"\"},\"colorscale\":[[0.0,\"#0d0887\"],[0.1111111111111111,\"#46039f\"],[0.2222222222222222,\"#7201a8\"],[0.3333333333333333,\"#9c179e\"],[0.4444444444444444,\"#bd3786\"],[0.5555555555555556,\"#d8576b\"],[0.6666666666666666,\"#ed7953\"],[0.7777777777777778,\"#fb9f3a\"],[0.8888888888888888,\"#fdca26\"],[1.0,\"#f0f921\"]],\"type\":\"heatmap\"}],\"histogram2dcontour\":[{\"colorbar\":{\"outlinewidth\":0,\"ticks\":\"\"},\"colorscale\":[[0.0,\"#0d0887\"],[0.1111111111111111,\"#46039f\"],[0.2222222222222222,\"#7201a8\"],[0.3333333333333333,\"#9c179e\"],[0.4444444444444444,\"#bd3786\"],[0.5555555555555556,\"#d8576b\"],[0.6666666666666666,\"#ed7953\"],[0.7777777777777778,\"#fb9f3a\"],[0.8888888888888888,\"#fdca26\"],[1.0,\"#f0f921\"]],\"type\":\"histogram2dcontour\"}],\"histogram2d\":[{\"colorbar\":{\"outlinewidth\":0,\"ticks\":\"\"},\"colorscale\":[[0.0,\"#0d0887\"],[0.1111111111111111,\"#46039f\"],[0.2222222222222222,\"#7201a8\"],[0.3333333333333333,\"#9c179e\"],[0.4444444444444444,\"#bd3786\"],[0.5555555555555556,\"#d8576b\"],[0.6666666666666666,\"#ed7953\"],[0.7777777777777778,\"#fb9f3a\"],[0.8888888888888888,\"#fdca26\"],[1.0,\"#f0f921\"]],\"type\":\"histogram2d\"}],\"histogram\":[{\"marker\":{\"pattern\":{\"fillmode\":\"overlay\",\"size\":10,\"solidity\":0.2}},\"type\":\"histogram\"}],\"mesh3d\":[{\"colorbar\":{\"outlinewidth\":0,\"ticks\":\"\"},\"type\":\"mesh3d\"}],\"parcoords\":[{\"line\":{\"colorbar\":{\"outlinewidth\":0,\"ticks\":\"\"}},\"type\":\"parcoords\"}],\"pie\":[{\"automargin\":true,\"type\":\"pie\"}],\"scatter3d\":[{\"line\":{\"colorbar\":{\"outlinewidth\":0,\"ticks\":\"\"}},\"marker\":{\"colorbar\":{\"outlinewidth\":0,\"ticks\":\"\"}},\"type\":\"scatter3d\"}],\"scattercarpet\":[{\"marker\":{\"colorbar\":{\"outlinewidth\":0,\"ticks\":\"\"}},\"type\":\"scattercarpet\"}],\"scattergeo\":[{\"marker\":{\"colorbar\":{\"outlinewidth\":0,\"ticks\":\"\"}},\"type\":\"scattergeo\"}],\"scattergl\":[{\"marker\":{\"colorbar\":{\"outlinewidth\":0,\"ticks\":\"\"}},\"type\":\"scattergl\"}],\"scattermapbox\":[{\"marker\":{\"colorbar\":{\"outlinewidth\":0,\"ticks\":\"\"}},\"type\":\"scattermapbox\"}],\"scatterpolargl\":[{\"marker\":{\"colorbar\":{\"outlinewidth\":0,\"ticks\":\"\"}},\"type\":\"scatterpolargl\"}],\"scatterpolar\":[{\"marker\":{\"colorbar\":{\"outlinewidth\":0,\"ticks\":\"\"}},\"type\":\"scatterpolar\"}],\"scatter\":[{\"fillpattern\":{\"fillmode\":\"overlay\",\"size\":10,\"solidity\":0.2},\"type\":\"scatter\"}],\"scatterternary\":[{\"marker\":{\"colorbar\":{\"outlinewidth\":0,\"ticks\":\"\"}},\"type\":\"scatterternary\"}],\"surface\":[{\"colorbar\":{\"outlinewidth\":0,\"ticks\":\"\"},\"colorscale\":[[0.0,\"#0d0887\"],[0.1111111111111111,\"#46039f\"],[0.2222222222222222,\"#7201a8\"],[0.3333333333333333,\"#9c179e\"],[0.4444444444444444,\"#bd3786\"],[0.5555555555555556,\"#d8576b\"],[0.6666666666666666,\"#ed7953\"],[0.7777777777777778,\"#fb9f3a\"],[0.8888888888888888,\"#fdca26\"],[1.0,\"#f0f921\"]],\"type\":\"surface\"}],\"table\":[{\"cells\":{\"fill\":{\"color\":\"#EBF0F8\"},\"line\":{\"color\":\"white\"}},\"header\":{\"fill\":{\"color\":\"#C8D4E3\"},\"line\":{\"color\":\"white\"}},\"type\":\"table\"}]},\"layout\":{\"annotationdefaults\":{\"arrowcolor\":\"#2a3f5f\",\"arrowhead\":0,\"arrowwidth\":1},\"autotypenumbers\":\"strict\",\"coloraxis\":{\"colorbar\":{\"outlinewidth\":0,\"ticks\":\"\"}},\"colorscale\":{\"diverging\":[[0,\"#8e0152\"],[0.1,\"#c51b7d\"],[0.2,\"#de77ae\"],[0.3,\"#f1b6da\"],[0.4,\"#fde0ef\"],[0.5,\"#f7f7f7\"],[0.6,\"#e6f5d0\"],[0.7,\"#b8e186\"],[0.8,\"#7fbc41\"],[0.9,\"#4d9221\"],[1,\"#276419\"]],\"sequential\":[[0.0,\"#0d0887\"],[0.1111111111111111,\"#46039f\"],[0.2222222222222222,\"#7201a8\"],[0.3333333333333333,\"#9c179e\"],[0.4444444444444444,\"#bd3786\"],[0.5555555555555556,\"#d8576b\"],[0.6666666666666666,\"#ed7953\"],[0.7777777777777778,\"#fb9f3a\"],[0.8888888888888888,\"#fdca26\"],[1.0,\"#f0f921\"]],\"sequentialminus\":[[0.0,\"#0d0887\"],[0.1111111111111111,\"#46039f\"],[0.2222222222222222,\"#7201a8\"],[0.3333333333333333,\"#9c179e\"],[0.4444444444444444,\"#bd3786\"],[0.5555555555555556,\"#d8576b\"],[0.6666666666666666,\"#ed7953\"],[0.7777777777777778,\"#fb9f3a\"],[0.8888888888888888,\"#fdca26\"],[1.0,\"#f0f921\"]]},\"colorway\":[\"#636efa\",\"#EF553B\",\"#00cc96\",\"#ab63fa\",\"#FFA15A\",\"#19d3f3\",\"#FF6692\",\"#B6E880\",\"#FF97FF\",\"#FECB52\"],\"font\":{\"color\":\"#2a3f5f\"},\"geo\":{\"bgcolor\":\"white\",\"lakecolor\":\"white\",\"landcolor\":\"#E5ECF6\",\"showlakes\":true,\"showland\":true,\"subunitcolor\":\"white\"},\"hoverlabel\":{\"align\":\"left\"},\"hovermode\":\"closest\",\"mapbox\":{\"style\":\"light\"},\"paper_bgcolor\":\"white\",\"plot_bgcolor\":\"#E5ECF6\",\"polar\":{\"angularaxis\":{\"gridcolor\":\"white\",\"linecolor\":\"white\",\"ticks\":\"\"},\"bgcolor\":\"#E5ECF6\",\"radialaxis\":{\"gridcolor\":\"white\",\"linecolor\":\"white\",\"ticks\":\"\"}},\"scene\":{\"xaxis\":{\"backgroundcolor\":\"#E5ECF6\",\"gridcolor\":\"white\",\"gridwidth\":2,\"linecolor\":\"white\",\"showbackground\":true,\"ticks\":\"\",\"zerolinecolor\":\"white\"},\"yaxis\":{\"backgroundcolor\":\"#E5ECF6\",\"gridcolor\":\"white\",\"gridwidth\":2,\"linecolor\":\"white\",\"showbackground\":true,\"ticks\":\"\",\"zerolinecolor\":\"white\"},\"zaxis\":{\"backgroundcolor\":\"#E5ECF6\",\"gridcolor\":\"white\",\"gridwidth\":2,\"linecolor\":\"white\",\"showbackground\":true,\"ticks\":\"\",\"zerolinecolor\":\"white\"}},\"shapedefaults\":{\"line\":{\"color\":\"#2a3f5f\"}},\"ternary\":{\"aaxis\":{\"gridcolor\":\"white\",\"linecolor\":\"white\",\"ticks\":\"\"},\"baxis\":{\"gridcolor\":\"white\",\"linecolor\":\"white\",\"ticks\":\"\"},\"bgcolor\":\"#E5ECF6\",\"caxis\":{\"gridcolor\":\"white\",\"linecolor\":\"white\",\"ticks\":\"\"}},\"title\":{\"x\":0.05},\"xaxis\":{\"automargin\":true,\"gridcolor\":\"white\",\"linecolor\":\"white\",\"ticks\":\"\",\"title\":{\"standoff\":15},\"zerolinecolor\":\"white\",\"zerolinewidth\":2},\"yaxis\":{\"automargin\":true,\"gridcolor\":\"white\",\"linecolor\":\"white\",\"ticks\":\"\",\"title\":{\"standoff\":15},\"zerolinecolor\":\"white\",\"zerolinewidth\":2}}},\"title\":{\"font\":{\"color\":\"#4D5663\"},\"text\":\"TimeGPT Prediction Given Nov. 4 As Final Point\"},\"xaxis\":{\"gridcolor\":\"#E1E5ED\",\"showgrid\":true,\"tickfont\":{\"color\":\"#4D5663\"},\"title\":{\"font\":{\"color\":\"#4D5663\"},\"text\":\"Date\"},\"zerolinecolor\":\"#E1E5ED\"},\"yaxis\":{\"gridcolor\":\"#E1E5ED\",\"showgrid\":true,\"tickfont\":{\"color\":\"#4D5663\"},\"title\":{\"font\":{\"color\":\"#4D5663\"},\"text\":\"Count\"},\"zerolinecolor\":\"#E1E5ED\"}},                        {\"showLink\": true, \"linkText\": \"Export to plot.ly\", \"plotlyServerURL\": \"https://plot.ly\", \"responsive\": true}                    ).then(function(){\n",
       "                            \n",
       "var gd = document.getElementById('409ed8b6-397e-4fdc-93a3-6e4a74db6825');\n",
       "var x = new MutationObserver(function (mutations, observer) {{\n",
       "        var display = window.getComputedStyle(gd).display;\n",
       "        if (!display || display === 'none') {{\n",
       "            console.log([gd, 'removed!']);\n",
       "            Plotly.purge(gd);\n",
       "            observer.disconnect();\n",
       "        }}\n",
       "}});\n",
       "\n",
       "// Listen for the removal of the full notebook cells\n",
       "var notebookContainer = gd.closest('#notebook-container');\n",
       "if (notebookContainer) {{\n",
       "    x.observe(notebookContainer, {childList: true});\n",
       "}}\n",
       "\n",
       "// Listen for the clearing of the current output cell\n",
       "var outputEl = gd.closest('.output');\n",
       "if (outputEl) {{\n",
       "    x.observe(outputEl, {childList: true});\n",
       "}}\n",
       "\n",
       "                        })                };                });            </script>        </div>"
      ]
     },
     "metadata": {},
     "output_type": "display_data"
    }
   ],
   "source": [
    "nov4plottingdf.iplot(xTitle = \"Date\", yTitle = \"Count\", title = \"TimeGPT Prediction Given Nov. 4 As Final Point\")"
   ]
  },
  {
   "cell_type": "code",
   "execution_count": 28,
   "id": "08991e64",
   "metadata": {},
   "outputs": [
    {
     "name": "stdout",
     "output_type": "stream",
     "text": [
      "MAE: 4845.935\n",
      "MAPE: 0.4748514606259648\n",
      "MSE: 41163965.956501216\n"
     ]
    }
   ],
   "source": [
    "#Metrics\n",
    "print(\"MAE:\",mean_absolute_error(entire_df[\"2023-11-11\" : \"2024-01-06\"], nov4forecast[\"TimeGPT\"]))\n",
    "print(\"MAPE:\",mean_absolute_percentage_error(entire_df[\"2023-11-11\" : \"2024-01-06\"], nov4forecast[\"TimeGPT\"]))\n",
    "print(\"MSE:\",mean_squared_error(entire_df[\"2023-11-11\" : \"2024-01-06\"], nov4forecast[\"TimeGPT\"]))"
   ]
  },
  {
   "cell_type": "code",
   "execution_count": 29,
   "id": "d1d01500",
   "metadata": {},
   "outputs": [],
   "source": [
    "#Visually, the graphs look worse but MAE, MAPE, MSE go down as training window expands. Could this potentially be because of fewer data points to account for in the MSE, MAPE, and MSE in the newer windows?"
   ]
  },
  {
   "cell_type": "code",
   "execution_count": null,
   "id": "d0e7f76b",
   "metadata": {},
   "outputs": [],
   "source": []
  },
  {
   "cell_type": "code",
   "execution_count": null,
   "id": "b058d679",
   "metadata": {},
   "outputs": [],
   "source": []
  },
  {
   "cell_type": "code",
   "execution_count": null,
   "id": "9cfc3e0a",
   "metadata": {},
   "outputs": [],
   "source": []
  },
  {
   "cell_type": "code",
   "execution_count": null,
   "id": "3ca9b4e5",
   "metadata": {},
   "outputs": [],
   "source": []
  },
  {
   "cell_type": "code",
   "execution_count": null,
   "id": "1eb5b219",
   "metadata": {},
   "outputs": [],
   "source": []
  },
  {
   "cell_type": "code",
   "execution_count": null,
   "id": "c21df8d6",
   "metadata": {},
   "outputs": [],
   "source": []
  },
  {
   "cell_type": "code",
   "execution_count": null,
   "id": "0f92075e",
   "metadata": {},
   "outputs": [],
   "source": []
  }
 ],
 "metadata": {
  "kernelspec": {
   "display_name": "Python 3 (ipykernel)",
   "language": "python",
   "name": "python3"
  },
  "language_info": {
   "codemirror_mode": {
    "name": "ipython",
    "version": 3
   },
   "file_extension": ".py",
   "mimetype": "text/x-python",
   "name": "python",
   "nbconvert_exporter": "python",
   "pygments_lexer": "ipython3",
   "version": "3.11.4"
  }
 },
 "nbformat": 4,
 "nbformat_minor": 5
}
