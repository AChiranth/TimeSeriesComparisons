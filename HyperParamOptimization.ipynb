{
 "cells": [
  {
   "cell_type": "code",
   "execution_count": 4,
   "id": "c98bb674-8546-40d3-add1-93db68c83f61",
   "metadata": {
    "tags": []
   },
   "outputs": [],
   "source": [
    "import os\n",
    "import tempfile\n",
    "\n",
    "import lightgbm as lgb\n",
    "import optuna\n",
    "import pandas as pd\n",
    "from datasetsforecast.m4 import M4, M4Evaluation, M4Info\n",
    "from sklearn.linear_model import Ridge\n",
    "from sklearn.compose import ColumnTransformer\n",
    "from sklearn.pipeline import make_pipeline\n",
    "from sklearn.preprocessing import OneHotEncoder\n",
    "from utilsforecast.plotting import plot_series\n",
    "\n",
    "from mlforecast import MLForecast\n",
    "from mlforecast.auto import (\n",
    "    AutoLightGBM,\n",
    "    AutoMLForecast,\n",
    "    AutoModel,\n",
    "    AutoRidge,\n",
    "    ridge_space,\n",
    ")\n",
    "from mlforecast.lag_transforms import ExponentiallyWeightedMean, RollingMean"
   ]
  },
  {
   "cell_type": "code",
   "execution_count": 5,
   "id": "d157d392-fc79-40e1-ab45-e5525023344c",
   "metadata": {
    "tags": []
   },
   "outputs": [
    {
     "name": "stderr",
     "output_type": "stream",
     "text": [
      "2.35MiB [00:00, 79.6MiB/s]                 \n",
      "ERROR:datasetsforecast.utils:ERROR, something went wrong downloading data\n",
      "INFO:datasetsforecast.utils:Successfully downloaded Hourly-train.csv, 2347115, bytes.\n",
      "133kiB [00:00, 36.9MiB/s]                   \n",
      "ERROR:datasetsforecast.utils:ERROR, something went wrong downloading data\n",
      "INFO:datasetsforecast.utils:Successfully downloaded Hourly-test.csv, 132820, bytes.\n",
      "4.34MiB [00:00, 106MiB/s]                  \n",
      "ERROR:datasetsforecast.utils:ERROR, something went wrong downloading data\n",
      "INFO:datasetsforecast.utils:Successfully downloaded M4-info.csv, 4335598, bytes.\n",
      "100%|██████████| 3.56M/3.56M [00:00<00:00, 34.6MiB/s]\n",
      "INFO:datasetsforecast.utils:Successfully downloaded submission-Naive2.zip, 3564691, bytes.\n",
      "INFO:datasetsforecast.utils:Decompressing zip file...\n",
      "INFO:datasetsforecast.utils:Successfully decompressed data/m4/datasets/submission-Naive2.zip\n"
     ]
    }
   ],
   "source": [
    "def get_data(group, horizon):\n",
    "    df, *_ = M4.load(directory='data', group=group)\n",
    "    df['ds'] = df['ds'].astype('int')\n",
    "    df['unique_id'] = df['unique_id'].astype('category')\n",
    "    return df.groupby('unique_id').head(-horizon).copy()\n",
    "\n",
    "group = 'Hourly'\n",
    "horizon = M4Info[group].horizon\n",
    "train = get_data(group, horizon)"
   ]
  },
  {
   "cell_type": "code",
   "execution_count": 6,
   "id": "55f1de1f-57e9-4a6b-83a3-73d6485cec4a",
   "metadata": {
    "tags": []
   },
   "outputs": [
    {
     "data": {
      "text/plain": [
       "AutoMLForecast(models={'lgb': AutoModel(model=LGBMRegressor), 'ridge': AutoModel(model=Ridge)})"
      ]
     },
     "execution_count": 6,
     "metadata": {},
     "output_type": "execute_result"
    }
   ],
   "source": [
    "optuna.logging.set_verbosity(optuna.logging.ERROR)\n",
    "auto_mlf = AutoMLForecast(\n",
    "    models={'lgb': AutoLightGBM(), 'ridge': AutoRidge()},\n",
    "    freq=1,\n",
    "    season_length=24,\n",
    ")\n",
    "auto_mlf.fit(\n",
    "    train,\n",
    "    n_windows=2,\n",
    "    h=horizon,\n",
    "    num_samples=2,  # number of trials to run\n",
    ")"
   ]
  },
  {
   "cell_type": "code",
   "execution_count": 7,
   "id": "dc3c9d04-b77b-4549-b1d9-c1e68cfe736a",
   "metadata": {
    "tags": []
   },
   "outputs": [
    {
     "data": {
      "text/html": [
       "<div>\n",
       "<style scoped>\n",
       "    .dataframe tbody tr th:only-of-type {\n",
       "        vertical-align: middle;\n",
       "    }\n",
       "\n",
       "    .dataframe tbody tr th {\n",
       "        vertical-align: top;\n",
       "    }\n",
       "\n",
       "    .dataframe thead th {\n",
       "        text-align: right;\n",
       "    }\n",
       "</style>\n",
       "<table border=\"1\" class=\"dataframe\">\n",
       "  <thead>\n",
       "    <tr style=\"text-align: right;\">\n",
       "      <th></th>\n",
       "      <th>unique_id</th>\n",
       "      <th>ds</th>\n",
       "      <th>lgb</th>\n",
       "      <th>ridge</th>\n",
       "    </tr>\n",
       "  </thead>\n",
       "  <tbody>\n",
       "    <tr>\n",
       "      <th>0</th>\n",
       "      <td>H1</td>\n",
       "      <td>701</td>\n",
       "      <td>680.534943</td>\n",
       "      <td>604.140123</td>\n",
       "    </tr>\n",
       "    <tr>\n",
       "      <th>1</th>\n",
       "      <td>H1</td>\n",
       "      <td>702</td>\n",
       "      <td>599.038307</td>\n",
       "      <td>523.364874</td>\n",
       "    </tr>\n",
       "    <tr>\n",
       "      <th>2</th>\n",
       "      <td>H1</td>\n",
       "      <td>703</td>\n",
       "      <td>572.808421</td>\n",
       "      <td>479.174481</td>\n",
       "    </tr>\n",
       "    <tr>\n",
       "      <th>3</th>\n",
       "      <td>H1</td>\n",
       "      <td>704</td>\n",
       "      <td>564.573783</td>\n",
       "      <td>444.540062</td>\n",
       "    </tr>\n",
       "    <tr>\n",
       "      <th>4</th>\n",
       "      <td>H1</td>\n",
       "      <td>705</td>\n",
       "      <td>543.046026</td>\n",
       "      <td>419.987657</td>\n",
       "    </tr>\n",
       "  </tbody>\n",
       "</table>\n",
       "</div>"
      ],
      "text/plain": [
       "  unique_id   ds         lgb       ridge\n",
       "0        H1  701  680.534943  604.140123\n",
       "1        H1  702  599.038307  523.364874\n",
       "2        H1  703  572.808421  479.174481\n",
       "3        H1  704  564.573783  444.540062\n",
       "4        H1  705  543.046026  419.987657"
      ]
     },
     "execution_count": 7,
     "metadata": {},
     "output_type": "execute_result"
    }
   ],
   "source": [
    "preds = auto_mlf.predict(horizon)\n",
    "preds.head()"
   ]
  },
  {
   "cell_type": "code",
   "execution_count": 8,
   "id": "9dae00cd-0a46-48a5-83e9-ec53bf59e66f",
   "metadata": {
    "tags": []
   },
   "outputs": [
    {
     "data": {
      "text/html": [
       "<div>\n",
       "<style scoped>\n",
       "    .dataframe tbody tr th:only-of-type {\n",
       "        vertical-align: middle;\n",
       "    }\n",
       "\n",
       "    .dataframe tbody tr th {\n",
       "        vertical-align: top;\n",
       "    }\n",
       "\n",
       "    .dataframe thead th {\n",
       "        text-align: right;\n",
       "    }\n",
       "</style>\n",
       "<table border=\"1\" class=\"dataframe\">\n",
       "  <thead>\n",
       "    <tr style=\"text-align: right;\">\n",
       "      <th></th>\n",
       "      <th>lgb</th>\n",
       "      <th>ridge</th>\n",
       "    </tr>\n",
       "  </thead>\n",
       "  <tbody>\n",
       "    <tr>\n",
       "      <th>SMAPE</th>\n",
       "      <td>18.78</td>\n",
       "      <td>20.00</td>\n",
       "    </tr>\n",
       "    <tr>\n",
       "      <th>MASE</th>\n",
       "      <td>5.07</td>\n",
       "      <td>1.29</td>\n",
       "    </tr>\n",
       "    <tr>\n",
       "      <th>OWA</th>\n",
       "      <td>1.57</td>\n",
       "      <td>0.81</td>\n",
       "    </tr>\n",
       "  </tbody>\n",
       "</table>\n",
       "</div>"
      ],
      "text/plain": [
       "         lgb  ridge\n",
       "SMAPE  18.78  20.00\n",
       "MASE    5.07   1.29\n",
       "OWA     1.57   0.81"
      ]
     },
     "execution_count": 8,
     "metadata": {},
     "output_type": "execute_result"
    }
   ],
   "source": [
    "def evaluate(df, group):\n",
    "    results = []\n",
    "    for model in df.columns.drop(['unique_id', 'ds']):\n",
    "        model_res = M4Evaluation.evaluate(\n",
    "            'data', group, df[model].to_numpy().reshape(-1, horizon)\n",
    "        )\n",
    "        model_res.index = [model]\n",
    "        results.append(model_res)\n",
    "    return pd.concat(results).T.round(2)\n",
    "\n",
    "evaluate(preds, group)"
   ]
  },
  {
   "cell_type": "code",
   "execution_count": 9,
   "id": "85c4a253-3fbf-494b-8aab-917b6d5a3648",
   "metadata": {
    "tags": []
   },
   "outputs": [
    {
     "data": {
      "text/html": [
       "<div>\n",
       "<style scoped>\n",
       "    .dataframe tbody tr th:only-of-type {\n",
       "        vertical-align: middle;\n",
       "    }\n",
       "\n",
       "    .dataframe tbody tr th {\n",
       "        vertical-align: top;\n",
       "    }\n",
       "\n",
       "    .dataframe thead th {\n",
       "        text-align: right;\n",
       "    }\n",
       "</style>\n",
       "<table border=\"1\" class=\"dataframe\">\n",
       "  <thead>\n",
       "    <tr style=\"text-align: right;\">\n",
       "      <th></th>\n",
       "      <th>my_lgb</th>\n",
       "    </tr>\n",
       "  </thead>\n",
       "  <tbody>\n",
       "    <tr>\n",
       "      <th>SMAPE</th>\n",
       "      <td>18.67</td>\n",
       "    </tr>\n",
       "    <tr>\n",
       "      <th>MASE</th>\n",
       "      <td>4.79</td>\n",
       "    </tr>\n",
       "    <tr>\n",
       "      <th>OWA</th>\n",
       "      <td>1.51</td>\n",
       "    </tr>\n",
       "  </tbody>\n",
       "</table>\n",
       "</div>"
      ],
      "text/plain": [
       "       my_lgb\n",
       "SMAPE   18.67\n",
       "MASE     4.79\n",
       "OWA      1.51"
      ]
     },
     "execution_count": 9,
     "metadata": {},
     "output_type": "execute_result"
    }
   ],
   "source": [
    "def my_lgb_config(trial: optuna.Trial):\n",
    "    return {\n",
    "        'learning_rate': 0.05,\n",
    "        'verbosity': -1,\n",
    "        'num_leaves': trial.suggest_int('num_leaves', 2, 128, log=True),\n",
    "        'objective': trial.suggest_categorical('objective', ['l1', 'l2', 'mape']),\n",
    "    }\n",
    "\n",
    "my_lgb = AutoModel(\n",
    "    model=lgb.LGBMRegressor(),\n",
    "    config=my_lgb_config,\n",
    ")\n",
    "auto_mlf = AutoMLForecast(\n",
    "    models={'my_lgb': my_lgb},\n",
    "    freq=1,\n",
    "    season_length=24,\n",
    ").fit(\n",
    "    train,\n",
    "    n_windows=2,\n",
    "    h=horizon,\n",
    "    num_samples=2,\n",
    ")\n",
    "preds = auto_mlf.predict(horizon)\n",
    "evaluate(preds, group)"
   ]
  },
  {
   "cell_type": "code",
   "execution_count": null,
   "id": "d75622df-2fc5-4f80-b457-66c431b34634",
   "metadata": {},
   "outputs": [],
   "source": []
  }
 ],
 "metadata": {
  "kernelspec": {
   "display_name": "Python 3 (ipykernel)",
   "language": "python",
   "name": "python3"
  },
  "language_info": {
   "codemirror_mode": {
    "name": "ipython",
    "version": 3
   },
   "file_extension": ".py",
   "mimetype": "text/x-python",
   "name": "python",
   "nbconvert_exporter": "python",
   "pygments_lexer": "ipython3",
   "version": "3.11.4"
  }
 },
 "nbformat": 4,
 "nbformat_minor": 5
}
