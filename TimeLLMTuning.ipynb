{
 "cells": [
  {
   "cell_type": "code",
   "execution_count": 1,
   "id": "d64eab22-e704-48a5-9530-c76352034758",
   "metadata": {
    "tags": []
   },
   "outputs": [],
   "source": [
    "from TimeLLMProcessors import FixedModelTimeLLMProcessor"
   ]
  },
  {
   "cell_type": "code",
   "execution_count": 2,
   "id": "5b86714a-b789-4674-9cb6-3ab5b33d575b",
   "metadata": {
    "tags": []
   },
   "outputs": [],
   "source": [
    "import pandas as pd"
   ]
  },
  {
   "cell_type": "code",
   "execution_count": 9,
   "id": "410dca25-e4b5-4fb9-9184-9490f97c3023",
   "metadata": {
    "tags": []
   },
   "outputs": [],
   "source": [
    "updated_df = pd.read_csv(\"https://raw.githubusercontent.com/cdcepi/FluSight-forecast-hub/refs/heads/main/target-data/target-hospital-admissions.csv\")\n",
    "updated_df = updated_df[updated_df[\"location_name\"] == \"US\"]\n",
    "updated_df = updated_df[[\"date\", \"value\"]]\n",
    "updated_df[\"date\"] = pd.to_datetime(updated_df[\"date\"])\n",
    "updated_df.set_index(\"date\", inplace = True)\n",
    "updated_df.sort_values(by = \"date\", inplace = True)"
   ]
  },
  {
   "cell_type": "code",
   "execution_count": null,
   "id": "d5f9462e-b1dd-4aaa-8c7d-23b4171a2909",
   "metadata": {
    "tags": []
   },
   "outputs": [],
   "source": [
    "input_size_df = pd.DataFrame(columns=[\"Parameter Value\", \"Forecast 1 MAE\", \"Forecast 2 MAE\", \"Forecast 3 MAE\", \"Forecast 4 MAE\", \"Forecast 5 MAE\"])\n",
    "patch_len_df = pd.DataFrame(columns=[\"Parameter Value\", \"Forecast 1 MAE\", \"Forecast 2 MAE\", \"Forecast 3 MAE\", \"Forecast 4 MAE\", \"Forecast 5 MAE\"])\n",
    "stride_df = pd.DataFrame(columns=[\"Parameter Value\", \"Forecast 1 MAE\", \"Forecast 2 MAE\", \"Forecast 3 MAE\", \"Forecast 4 MAE\", \"Forecast 5 MAE\"])"
   ]
  },
  {
   "cell_type": "code",
   "execution_count": null,
   "id": "405060e5-52c2-4dbc-ac42-61794eed0c0d",
   "metadata": {},
   "outputs": [],
   "source": []
  },
  {
   "cell_type": "code",
   "execution_count": null,
   "id": "f750d261-3a13-4199-a82e-4084c487002a",
   "metadata": {},
   "outputs": [],
   "source": []
  },
  {
   "cell_type": "code",
   "execution_count": null,
   "id": "7a45aaf8-26f6-41bc-8ea3-947b2c047930",
   "metadata": {
    "tags": []
   },
   "outputs": [],
   "source": [
    "#Iteration Loop for input_size\n",
    "\n",
    "input_sizes = [12, 24, 52, 70]\n",
    "\n",
    "for size in input_sizes:\n",
    "    Processor = FixedModelTimeLLMProcessor(overall_df = updated_df, dates = [\"2024-10-05\", \"2024-10-19\", \"2024-11-02\", \"2024-11-16\", \"2024-12-07\"])\n",
    "    Processor.create_training_dfs(value_col=\"value\")\n",
    "    prompt = \"This dataset contains data on weekly flu hospitalizations in the United States. There is a yearly (52 weeks) seasonality\"\n",
    "    Processor.create_fixed_model(h = 4, freq = \"W-SAT\", model_name = \"test_model\", prompt = prompt, string_param=\"input_size\", val=size)\n",
    "    \n",
    "    Processor.calculate_metrics()\n",
    "    Processor.create_metrics_df()\n",
    "    row_df = Processor.metrics_df[\"MAE\"].to_frame().T\n",
    "    row_df[\"Parameter Value\"] = size\n",
    "    row_df.rename(columns = {0: \"Forecast 1 MAE\", 1: \"Forecast 2 MAE\", 2: \"Forecast 3 MAE\", 3: \"Forecast 4 MAE\", 4: \"Forecast 5 MAE\"}, inplace=True)\n",
    "    input_size_df = pd.concat([input_size_df, row_df], ignore_index=True)"
   ]
  },
  {
   "cell_type": "code",
   "execution_count": null,
   "id": "c1197b65-b7fd-4482-aa49-0161b74881ff",
   "metadata": {
    "tags": []
   },
   "outputs": [],
   "source": [
    "input_size_df.set_index(\"Parameter Value\", inplace = True)\n",
    "input_size_df.style.highlight_min(color='yellow', axis=0)"
   ]
  },
  {
   "cell_type": "code",
   "execution_count": null,
   "id": "4eacf022-5b3c-4e11-ba1c-2dda362df2d7",
   "metadata": {},
   "outputs": [],
   "source": []
  },
  {
   "cell_type": "code",
   "execution_count": null,
   "id": "2cf90fcc-9089-4d92-b35a-e1e68d8cabb8",
   "metadata": {},
   "outputs": [],
   "source": []
  },
  {
   "cell_type": "code",
   "execution_count": null,
   "id": "91013def-7c59-4190-935d-61fcd153e410",
   "metadata": {},
   "outputs": [],
   "source": [
    "#Iteration Loop for patch_len\n",
    "\n",
    "patch_len_sizes = [2, 4, 8, 16, 32]\n",
    "\n",
    "for patch_len in patch_len_sizes:\n",
    "    Processor = FixedModelTimeLLMProcessor(overall_df = updated_df, dates = [\"2024-10-05\", \"2024-10-19\", \"2024-11-02\", \"2024-11-16\", \"2024-12-07\"])\n",
    "    Processor.create_training_dfs(value_col=\"value\")\n",
    "    prompt = \"This dataset contains data on weekly flu hospitalizations in the United States. There is a yearly (52 weeks) seasonality\"\n",
    "    Processor.create_fixed_model(h = 4, freq = \"W-SAT\", model_name = \"test_model\", prompt = prompt, string_param=\"patch_len\", val=patch_len)\n",
    "    \n",
    "    Processor.calculate_metrics()\n",
    "    Processor.create_metrics_df()\n",
    "    row_df = Processor.metrics_df[\"MAE\"].to_frame().T\n",
    "    row_df[\"Parameter Value\"] = patch_len\n",
    "    row_df.rename(columns = {0: \"Forecast 1 MAE\", 1: \"Forecast 2 MAE\", 2: \"Forecast 3 MAE\", 3: \"Forecast 4 MAE\", 4: \"Forecast 5 MAE\"}, inplace=True)\n",
    "    patch_len_df = pd.concat([patch_len_df, row_df], ignore_index=True)"
   ]
  },
  {
   "cell_type": "code",
   "execution_count": null,
   "id": "f76a0b60-2b3b-4255-bbbe-06cbc285cf3a",
   "metadata": {},
   "outputs": [],
   "source": [
    "patch_len_df.set_index(\"Parameter Value\", inplace = True)\n",
    "patch_len_df.style.highlight_min(color='yellow', axis=0)"
   ]
  },
  {
   "cell_type": "code",
   "execution_count": null,
   "id": "e14126d7-6c72-4acb-9e67-22b1790400ed",
   "metadata": {},
   "outputs": [],
   "source": []
  },
  {
   "cell_type": "code",
   "execution_count": null,
   "id": "0b3ac03b-7266-4f56-9334-23768a245ef6",
   "metadata": {},
   "outputs": [],
   "source": []
  },
  {
   "cell_type": "code",
   "execution_count": null,
   "id": "fa049d83-0048-417a-930a-109c37350d10",
   "metadata": {},
   "outputs": [],
   "source": []
  },
  {
   "cell_type": "code",
   "execution_count": null,
   "id": "d423b08f-36c5-4040-b30a-59bed1727104",
   "metadata": {},
   "outputs": [],
   "source": [
    "#Iteration Loop for stride\n",
    "\n",
    "strides = [1, 2, 4, 8]\n",
    "\n",
    "for stride in strides:\n",
    "    Processor = FixedModelTimeLLMProcessor(overall_df = updated_df, dates = [\"2024-10-05\", \"2024-10-19\", \"2024-11-02\", \"2024-11-16\", \"2024-12-07\"])\n",
    "    Processor.create_training_dfs(value_col=\"value\")\n",
    "    prompt = \"This dataset contains data on weekly flu hospitalizations in the United States. There is a yearly (52 weeks) seasonality\"\n",
    "    Processor.create_fixed_model(h = 4, freq = \"W-SAT\", model_name = \"test_model\", prompt = prompt, string_param=\"stride\", val=stride)\n",
    "    \n",
    "    Processor.calculate_metrics()\n",
    "    Processor.create_metrics_df()\n",
    "    row_df = Processor.metrics_df[\"MAE\"].to_frame().T\n",
    "    row_df[\"Parameter Value\"] = stride\n",
    "    row_df.rename(columns = {0: \"Forecast 1 MAE\", 1: \"Forecast 2 MAE\", 2: \"Forecast 3 MAE\", 3: \"Forecast 4 MAE\", 4: \"Forecast 5 MAE\"}, inplace=True)\n",
    "    stride_df = pd.concat([stride_df, row_df], ignore_index=True)"
   ]
  },
  {
   "cell_type": "code",
   "execution_count": null,
   "id": "d1cafb30-3cb0-4a2f-bb4f-b222769964b0",
   "metadata": {},
   "outputs": [],
   "source": [
    "stride_df.set_index(\"Parameter Value\", inplace = True)\n",
    "stride_df.style.highlight_min(color='yellow', axis=0)"
   ]
  },
  {
   "cell_type": "code",
   "execution_count": null,
   "id": "8491773e-a6f7-4755-aed8-c742e3e39420",
   "metadata": {},
   "outputs": [],
   "source": []
  },
  {
   "cell_type": "code",
   "execution_count": null,
   "id": "1dc7f697-0d8a-4fb4-bf47-61571bf7d298",
   "metadata": {},
   "outputs": [],
   "source": []
  },
  {
   "cell_type": "code",
   "execution_count": null,
   "id": "08fef516-4bb9-4416-95cb-676b8c75eed5",
   "metadata": {},
   "outputs": [],
   "source": []
  },
  {
   "cell_type": "code",
   "execution_count": 3,
   "id": "9780b664-f1f7-4e00-99c1-e70140b75d5c",
   "metadata": {
    "tags": []
   },
   "outputs": [],
   "source": [
    "import optuna"
   ]
  },
  {
   "cell_type": "code",
   "execution_count": 4,
   "id": "45815cd5-5c6b-42e3-8b8b-6017dcbc7824",
   "metadata": {
    "tags": []
   },
   "outputs": [
    {
     "name": "stderr",
     "output_type": "stream",
     "text": [
      "[I 2025-06-12 12:13:00,694] A new study created in memory with name: no-name-95586985-9579-41fc-ad87-d2d7b31aa9d5\n"
     ]
    }
   ],
   "source": [
    "study = optuna.create_study()"
   ]
  },
  {
   "cell_type": "code",
   "execution_count": 5,
   "id": "ccf30122-8071-478c-be0f-487061e2042e",
   "metadata": {
    "tags": []
   },
   "outputs": [
    {
     "data": {
      "text/plain": [
       "\u001b[0;31mType:\u001b[0m        Study\n",
       "\u001b[0;31mString form:\u001b[0m <optuna.study.study.Study object at 0x7f709549dc10>\n",
       "\u001b[0;31mFile:\u001b[0m        ~/.local/lib/python3.11/site-packages/optuna/study/study.py\n",
       "\u001b[0;31mDocstring:\u001b[0m  \n",
       "A study corresponds to an optimization task, i.e., a set of trials.\n",
       "\n",
       "This object provides interfaces to run a new :class:`~optuna.trial.Trial`, access trials'\n",
       "history, set/get user-defined attributes of the study itself.\n",
       "\n",
       "Note that the direct use of this constructor is not recommended.\n",
       "To create and load a study, please refer to the documentation of\n",
       ":func:`~optuna.study.create_study` and :func:`~optuna.study.load_study` respectively."
      ]
     },
     "metadata": {},
     "output_type": "display_data"
    }
   ],
   "source": [
    "study?"
   ]
  },
  {
   "cell_type": "code",
   "execution_count": 6,
   "id": "cd83d872-5361-426c-8583-692a057491e0",
   "metadata": {
    "tags": []
   },
   "outputs": [
    {
     "data": {
      "text/plain": [
       "\u001b[0;31mSignature:\u001b[0m\n",
       "\u001b[0mstudy\u001b[0m\u001b[0;34m.\u001b[0m\u001b[0moptimize\u001b[0m\u001b[0;34m(\u001b[0m\u001b[0;34m\u001b[0m\n",
       "\u001b[0;34m\u001b[0m    \u001b[0mfunc\u001b[0m\u001b[0;34m:\u001b[0m \u001b[0;34m'ObjectiveFuncType'\u001b[0m\u001b[0;34m,\u001b[0m\u001b[0;34m\u001b[0m\n",
       "\u001b[0;34m\u001b[0m    \u001b[0mn_trials\u001b[0m\u001b[0;34m:\u001b[0m \u001b[0;34m'int | None'\u001b[0m \u001b[0;34m=\u001b[0m \u001b[0;32mNone\u001b[0m\u001b[0;34m,\u001b[0m\u001b[0;34m\u001b[0m\n",
       "\u001b[0;34m\u001b[0m    \u001b[0mtimeout\u001b[0m\u001b[0;34m:\u001b[0m \u001b[0;34m'float | None'\u001b[0m \u001b[0;34m=\u001b[0m \u001b[0;32mNone\u001b[0m\u001b[0;34m,\u001b[0m\u001b[0;34m\u001b[0m\n",
       "\u001b[0;34m\u001b[0m    \u001b[0mn_jobs\u001b[0m\u001b[0;34m:\u001b[0m \u001b[0;34m'int'\u001b[0m \u001b[0;34m=\u001b[0m \u001b[0;36m1\u001b[0m\u001b[0;34m,\u001b[0m\u001b[0;34m\u001b[0m\n",
       "\u001b[0;34m\u001b[0m    \u001b[0mcatch\u001b[0m\u001b[0;34m:\u001b[0m \u001b[0;34m'Iterable[type[Exception]] | type[Exception]'\u001b[0m \u001b[0;34m=\u001b[0m \u001b[0;34m(\u001b[0m\u001b[0;34m)\u001b[0m\u001b[0;34m,\u001b[0m\u001b[0;34m\u001b[0m\n",
       "\u001b[0;34m\u001b[0m    \u001b[0mcallbacks\u001b[0m\u001b[0;34m:\u001b[0m \u001b[0;34m'Iterable[Callable[[Study, FrozenTrial], None]] | None'\u001b[0m \u001b[0;34m=\u001b[0m \u001b[0;32mNone\u001b[0m\u001b[0;34m,\u001b[0m\u001b[0;34m\u001b[0m\n",
       "\u001b[0;34m\u001b[0m    \u001b[0mgc_after_trial\u001b[0m\u001b[0;34m:\u001b[0m \u001b[0;34m'bool'\u001b[0m \u001b[0;34m=\u001b[0m \u001b[0;32mFalse\u001b[0m\u001b[0;34m,\u001b[0m\u001b[0;34m\u001b[0m\n",
       "\u001b[0;34m\u001b[0m    \u001b[0mshow_progress_bar\u001b[0m\u001b[0;34m:\u001b[0m \u001b[0;34m'bool'\u001b[0m \u001b[0;34m=\u001b[0m \u001b[0;32mFalse\u001b[0m\u001b[0;34m,\u001b[0m\u001b[0;34m\u001b[0m\n",
       "\u001b[0;34m\u001b[0m\u001b[0;34m)\u001b[0m \u001b[0;34m->\u001b[0m \u001b[0;34m'None'\u001b[0m\u001b[0;34m\u001b[0m\u001b[0;34m\u001b[0m\u001b[0m\n",
       "\u001b[0;31mDocstring:\u001b[0m\n",
       "Optimize an objective function.\n",
       "\n",
       "Optimization is done by choosing a suitable set of hyperparameter values from a given\n",
       "range. Uses a sampler which implements the task of value suggestion based on a specified\n",
       "distribution. The sampler is specified in :func:`~optuna.study.create_study` and the\n",
       "default choice for the sampler is TPE.\n",
       "See also :class:`~optuna.samplers.TPESampler` for more details on 'TPE'.\n",
       "\n",
       "Optimization will be stopped when receiving a termination signal such as SIGINT and\n",
       "SIGTERM. Unlike other signals, a trial is automatically and cleanly failed when receiving\n",
       "SIGINT (Ctrl+C). If ``n_jobs`` is greater than one or if another signal than SIGINT\n",
       "is used, the interrupted trial state won't be properly updated.\n",
       "\n",
       "Example:\n",
       "\n",
       "    .. testcode::\n",
       "\n",
       "        import optuna\n",
       "\n",
       "\n",
       "        def objective(trial):\n",
       "            x = trial.suggest_float(\"x\", -1, 1)\n",
       "            return x**2\n",
       "\n",
       "\n",
       "        study = optuna.create_study()\n",
       "        study.optimize(objective, n_trials=3)\n",
       "\n",
       "Args:\n",
       "    func:\n",
       "        A callable that implements objective function.\n",
       "    n_trials:\n",
       "        The number of trials for each process. :obj:`None` represents no limit in terms of\n",
       "        the number of trials. The study continues to create trials until the number of\n",
       "        trials reaches ``n_trials``, ``timeout`` period elapses,\n",
       "        :func:`~optuna.study.Study.stop` is called, or a termination signal such as\n",
       "        SIGTERM or Ctrl+C is received.\n",
       "\n",
       "        .. seealso::\n",
       "            :class:`optuna.study.MaxTrialsCallback` can ensure how many times trials\n",
       "            will be performed across all processes.\n",
       "    timeout:\n",
       "        Stop study after the given number of second(s). :obj:`None` represents no limit in\n",
       "        terms of elapsed time. The study continues to create trials until the number of\n",
       "        trials reaches ``n_trials``, ``timeout`` period elapses,\n",
       "        :func:`~optuna.study.Study.stop` is called or, a termination signal such as\n",
       "        SIGTERM or Ctrl+C is received.\n",
       "    n_jobs:\n",
       "        The number of parallel jobs. If this argument is set to ``-1``, the number is\n",
       "        set to CPU count.\n",
       "\n",
       "        .. note::\n",
       "            ``n_jobs`` allows parallelization using :obj:`threading` and may suffer from\n",
       "            `Python's GIL <https://wiki.python.org/moin/GlobalInterpreterLock>`__.\n",
       "            It is recommended to use :ref:`process-based parallelization<distributed>`\n",
       "            if ``func`` is CPU bound.\n",
       "\n",
       "    catch:\n",
       "        A study continues to run even when a trial raises one of the exceptions specified\n",
       "        in this argument. Default is an empty tuple, i.e. the study will stop for any\n",
       "        exception except for :class:`~optuna.exceptions.TrialPruned`.\n",
       "    callbacks:\n",
       "        List of callback functions that are invoked at the end of each trial. Each function\n",
       "        must accept two parameters with the following types in this order:\n",
       "        :class:`~optuna.study.Study` and :class:`~optuna.trial.FrozenTrial`.\n",
       "\n",
       "        .. seealso::\n",
       "\n",
       "            See the tutorial of :ref:`optuna_callback` for how to use and implement\n",
       "            callback functions.\n",
       "\n",
       "    gc_after_trial:\n",
       "        Flag to determine whether to automatically run garbage collection after each trial.\n",
       "        Set to :obj:`True` to run the garbage collection, :obj:`False` otherwise.\n",
       "        When it runs, it runs a full collection by internally calling :func:`gc.collect`.\n",
       "        If you see an increase in memory consumption over several trials, try setting this\n",
       "        flag to :obj:`True`.\n",
       "\n",
       "        .. seealso::\n",
       "\n",
       "            :ref:`out-of-memory-gc-collect`\n",
       "\n",
       "    show_progress_bar:\n",
       "        Flag to show progress bars or not. To show progress bar, set this :obj:`True`.\n",
       "        Note that it is disabled when ``n_trials`` is :obj:`None`,\n",
       "        ``timeout`` is not :obj:`None`, and ``n_jobs`` :math:`\\ne 1`.\n",
       "\n",
       "Raises:\n",
       "    RuntimeError:\n",
       "        If nested invocation of this method occurs.\n",
       "\u001b[0;31mFile:\u001b[0m      ~/.local/lib/python3.11/site-packages/optuna/study/study.py\n",
       "\u001b[0;31mType:\u001b[0m      method"
      ]
     },
     "metadata": {},
     "output_type": "display_data"
    }
   ],
   "source": [
    "study.optimize?"
   ]
  },
  {
   "cell_type": "code",
   "execution_count": 8,
   "id": "e5f3d597-af63-4cb6-97f7-685d2e6923f2",
   "metadata": {
    "tags": []
   },
   "outputs": [
    {
     "data": {
      "text/plain": [
       "\u001b[0;31mSignature:\u001b[0m\n",
       "\u001b[0mstudy\u001b[0m\u001b[0;34m.\u001b[0m\u001b[0moptimize\u001b[0m\u001b[0;34m(\u001b[0m\u001b[0;34m\u001b[0m\n",
       "\u001b[0;34m\u001b[0m    \u001b[0mfunc\u001b[0m\u001b[0;34m:\u001b[0m \u001b[0;34m'ObjectiveFuncType'\u001b[0m\u001b[0;34m,\u001b[0m\u001b[0;34m\u001b[0m\n",
       "\u001b[0;34m\u001b[0m    \u001b[0mn_trials\u001b[0m\u001b[0;34m:\u001b[0m \u001b[0;34m'int | None'\u001b[0m \u001b[0;34m=\u001b[0m \u001b[0;32mNone\u001b[0m\u001b[0;34m,\u001b[0m\u001b[0;34m\u001b[0m\n",
       "\u001b[0;34m\u001b[0m    \u001b[0mtimeout\u001b[0m\u001b[0;34m:\u001b[0m \u001b[0;34m'float | None'\u001b[0m \u001b[0;34m=\u001b[0m \u001b[0;32mNone\u001b[0m\u001b[0;34m,\u001b[0m\u001b[0;34m\u001b[0m\n",
       "\u001b[0;34m\u001b[0m    \u001b[0mn_jobs\u001b[0m\u001b[0;34m:\u001b[0m \u001b[0;34m'int'\u001b[0m \u001b[0;34m=\u001b[0m \u001b[0;36m1\u001b[0m\u001b[0;34m,\u001b[0m\u001b[0;34m\u001b[0m\n",
       "\u001b[0;34m\u001b[0m    \u001b[0mcatch\u001b[0m\u001b[0;34m:\u001b[0m \u001b[0;34m'Iterable[type[Exception]] | type[Exception]'\u001b[0m \u001b[0;34m=\u001b[0m \u001b[0;34m(\u001b[0m\u001b[0;34m)\u001b[0m\u001b[0;34m,\u001b[0m\u001b[0;34m\u001b[0m\n",
       "\u001b[0;34m\u001b[0m    \u001b[0mcallbacks\u001b[0m\u001b[0;34m:\u001b[0m \u001b[0;34m'Iterable[Callable[[Study, FrozenTrial], None]] | None'\u001b[0m \u001b[0;34m=\u001b[0m \u001b[0;32mNone\u001b[0m\u001b[0;34m,\u001b[0m\u001b[0;34m\u001b[0m\n",
       "\u001b[0;34m\u001b[0m    \u001b[0mgc_after_trial\u001b[0m\u001b[0;34m:\u001b[0m \u001b[0;34m'bool'\u001b[0m \u001b[0;34m=\u001b[0m \u001b[0;32mFalse\u001b[0m\u001b[0;34m,\u001b[0m\u001b[0;34m\u001b[0m\n",
       "\u001b[0;34m\u001b[0m    \u001b[0mshow_progress_bar\u001b[0m\u001b[0;34m:\u001b[0m \u001b[0;34m'bool'\u001b[0m \u001b[0;34m=\u001b[0m \u001b[0;32mFalse\u001b[0m\u001b[0;34m,\u001b[0m\u001b[0;34m\u001b[0m\n",
       "\u001b[0;34m\u001b[0m\u001b[0;34m)\u001b[0m \u001b[0;34m->\u001b[0m \u001b[0;34m'None'\u001b[0m\u001b[0;34m\u001b[0m\u001b[0;34m\u001b[0m\u001b[0m\n",
       "\u001b[0;31mDocstring:\u001b[0m\n",
       "Optimize an objective function.\n",
       "\n",
       "Optimization is done by choosing a suitable set of hyperparameter values from a given\n",
       "range. Uses a sampler which implements the task of value suggestion based on a specified\n",
       "distribution. The sampler is specified in :func:`~optuna.study.create_study` and the\n",
       "default choice for the sampler is TPE.\n",
       "See also :class:`~optuna.samplers.TPESampler` for more details on 'TPE'.\n",
       "\n",
       "Optimization will be stopped when receiving a termination signal such as SIGINT and\n",
       "SIGTERM. Unlike other signals, a trial is automatically and cleanly failed when receiving\n",
       "SIGINT (Ctrl+C). If ``n_jobs`` is greater than one or if another signal than SIGINT\n",
       "is used, the interrupted trial state won't be properly updated.\n",
       "\n",
       "Example:\n",
       "\n",
       "    .. testcode::\n",
       "\n",
       "        import optuna\n",
       "\n",
       "\n",
       "        def objective(trial):\n",
       "            x = trial.suggest_float(\"x\", -1, 1)\n",
       "            return x**2\n",
       "\n",
       "\n",
       "        study = optuna.create_study()\n",
       "        study.optimize(objective, n_trials=3)\n",
       "\n",
       "Args:\n",
       "    func:\n",
       "        A callable that implements objective function.\n",
       "    n_trials:\n",
       "        The number of trials for each process. :obj:`None` represents no limit in terms of\n",
       "        the number of trials. The study continues to create trials until the number of\n",
       "        trials reaches ``n_trials``, ``timeout`` period elapses,\n",
       "        :func:`~optuna.study.Study.stop` is called, or a termination signal such as\n",
       "        SIGTERM or Ctrl+C is received.\n",
       "\n",
       "        .. seealso::\n",
       "            :class:`optuna.study.MaxTrialsCallback` can ensure how many times trials\n",
       "            will be performed across all processes.\n",
       "    timeout:\n",
       "        Stop study after the given number of second(s). :obj:`None` represents no limit in\n",
       "        terms of elapsed time. The study continues to create trials until the number of\n",
       "        trials reaches ``n_trials``, ``timeout`` period elapses,\n",
       "        :func:`~optuna.study.Study.stop` is called or, a termination signal such as\n",
       "        SIGTERM or Ctrl+C is received.\n",
       "    n_jobs:\n",
       "        The number of parallel jobs. If this argument is set to ``-1``, the number is\n",
       "        set to CPU count.\n",
       "\n",
       "        .. note::\n",
       "            ``n_jobs`` allows parallelization using :obj:`threading` and may suffer from\n",
       "            `Python's GIL <https://wiki.python.org/moin/GlobalInterpreterLock>`__.\n",
       "            It is recommended to use :ref:`process-based parallelization<distributed>`\n",
       "            if ``func`` is CPU bound.\n",
       "\n",
       "    catch:\n",
       "        A study continues to run even when a trial raises one of the exceptions specified\n",
       "        in this argument. Default is an empty tuple, i.e. the study will stop for any\n",
       "        exception except for :class:`~optuna.exceptions.TrialPruned`.\n",
       "    callbacks:\n",
       "        List of callback functions that are invoked at the end of each trial. Each function\n",
       "        must accept two parameters with the following types in this order:\n",
       "        :class:`~optuna.study.Study` and :class:`~optuna.trial.FrozenTrial`.\n",
       "\n",
       "        .. seealso::\n",
       "\n",
       "            See the tutorial of :ref:`optuna_callback` for how to use and implement\n",
       "            callback functions.\n",
       "\n",
       "    gc_after_trial:\n",
       "        Flag to determine whether to automatically run garbage collection after each trial.\n",
       "        Set to :obj:`True` to run the garbage collection, :obj:`False` otherwise.\n",
       "        When it runs, it runs a full collection by internally calling :func:`gc.collect`.\n",
       "        If you see an increase in memory consumption over several trials, try setting this\n",
       "        flag to :obj:`True`.\n",
       "\n",
       "        .. seealso::\n",
       "\n",
       "            :ref:`out-of-memory-gc-collect`\n",
       "\n",
       "    show_progress_bar:\n",
       "        Flag to show progress bars or not. To show progress bar, set this :obj:`True`.\n",
       "        Note that it is disabled when ``n_trials`` is :obj:`None`,\n",
       "        ``timeout`` is not :obj:`None`, and ``n_jobs`` :math:`\\ne 1`.\n",
       "\n",
       "Raises:\n",
       "    RuntimeError:\n",
       "        If nested invocation of this method occurs.\n",
       "\u001b[0;31mFile:\u001b[0m      ~/.local/lib/python3.11/site-packages/optuna/study/study.py\n",
       "\u001b[0;31mType:\u001b[0m      method"
      ]
     },
     "metadata": {},
     "output_type": "display_data"
    }
   ],
   "source": [
    "study.optimize?"
   ]
  },
  {
   "cell_type": "code",
   "execution_count": 10,
   "id": "0c3a174b-0d88-414f-bb16-efe508c5bab3",
   "metadata": {},
   "outputs": [
    {
     "data": {
      "text/html": [
       "<div>\n",
       "<style scoped>\n",
       "    .dataframe tbody tr th:only-of-type {\n",
       "        vertical-align: middle;\n",
       "    }\n",
       "\n",
       "    .dataframe tbody tr th {\n",
       "        vertical-align: top;\n",
       "    }\n",
       "\n",
       "    .dataframe thead th {\n",
       "        text-align: right;\n",
       "    }\n",
       "</style>\n",
       "<table border=\"1\" class=\"dataframe\">\n",
       "  <thead>\n",
       "    <tr style=\"text-align: right;\">\n",
       "      <th></th>\n",
       "      <th>value</th>\n",
       "    </tr>\n",
       "    <tr>\n",
       "      <th>date</th>\n",
       "      <th></th>\n",
       "    </tr>\n",
       "  </thead>\n",
       "  <tbody>\n",
       "    <tr>\n",
       "      <th>2022-02-05</th>\n",
       "      <td>1091.0</td>\n",
       "    </tr>\n",
       "    <tr>\n",
       "      <th>2022-02-12</th>\n",
       "      <td>1158.0</td>\n",
       "    </tr>\n",
       "    <tr>\n",
       "      <th>2022-02-19</th>\n",
       "      <td>1490.0</td>\n",
       "    </tr>\n",
       "    <tr>\n",
       "      <th>2022-02-26</th>\n",
       "      <td>1603.0</td>\n",
       "    </tr>\n",
       "    <tr>\n",
       "      <th>2022-03-05</th>\n",
       "      <td>1791.0</td>\n",
       "    </tr>\n",
       "    <tr>\n",
       "      <th>...</th>\n",
       "      <td>...</td>\n",
       "    </tr>\n",
       "    <tr>\n",
       "      <th>2025-05-10</th>\n",
       "      <td>2103.0</td>\n",
       "    </tr>\n",
       "    <tr>\n",
       "      <th>2025-05-17</th>\n",
       "      <td>1791.0</td>\n",
       "    </tr>\n",
       "    <tr>\n",
       "      <th>2025-05-24</th>\n",
       "      <td>1660.0</td>\n",
       "    </tr>\n",
       "    <tr>\n",
       "      <th>2025-05-31</th>\n",
       "      <td>1733.0</td>\n",
       "    </tr>\n",
       "    <tr>\n",
       "      <th>2025-06-07</th>\n",
       "      <td>1381.0</td>\n",
       "    </tr>\n",
       "  </tbody>\n",
       "</table>\n",
       "<p>175 rows × 1 columns</p>\n",
       "</div>"
      ],
      "text/plain": [
       "             value\n",
       "date              \n",
       "2022-02-05  1091.0\n",
       "2022-02-12  1158.0\n",
       "2022-02-19  1490.0\n",
       "2022-02-26  1603.0\n",
       "2022-03-05  1791.0\n",
       "...            ...\n",
       "2025-05-10  2103.0\n",
       "2025-05-17  1791.0\n",
       "2025-05-24  1660.0\n",
       "2025-05-31  1733.0\n",
       "2025-06-07  1381.0\n",
       "\n",
       "[175 rows x 1 columns]"
      ]
     },
     "execution_count": 10,
     "metadata": {},
     "output_type": "execute_result"
    }
   ],
   "source": [
    "updated_df"
   ]
  },
  {
   "cell_type": "code",
   "execution_count": null,
   "id": "5591a7fc-ec4a-4cfd-bb33-eed9c0dcad6d",
   "metadata": {},
   "outputs": [],
   "source": []
  }
 ],
 "metadata": {
  "kernelspec": {
   "display_name": "Python 3 (ipykernel)",
   "language": "python",
   "name": "python3"
  },
  "language_info": {
   "codemirror_mode": {
    "name": "ipython",
    "version": 3
   },
   "file_extension": ".py",
   "mimetype": "text/x-python",
   "name": "python",
   "nbconvert_exporter": "python",
   "pygments_lexer": "ipython3",
   "version": "3.11.6"
  }
 },
 "nbformat": 4,
 "nbformat_minor": 5
}
