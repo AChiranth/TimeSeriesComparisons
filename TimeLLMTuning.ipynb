{
 "cells": [
  {
   "cell_type": "code",
   "execution_count": null,
   "id": "d64eab22-e704-48a5-9530-c76352034758",
   "metadata": {
    "tags": []
   },
   "outputs": [],
   "source": [
    "from TimeLLMProcessors import FixedModelTimeLLMProcessor"
   ]
  },
  {
   "cell_type": "code",
   "execution_count": null,
   "id": "5b86714a-b789-4674-9cb6-3ab5b33d575b",
   "metadata": {
    "tags": []
   },
   "outputs": [],
   "source": [
    "import pandas as pd"
   ]
  },
  {
   "cell_type": "code",
   "execution_count": null,
   "id": "410dca25-e4b5-4fb9-9184-9490f97c3023",
   "metadata": {
    "tags": []
   },
   "outputs": [],
   "source": [
    "updated_df = pd.read_csv(\"https://raw.githubusercontent.com/cdcepi/FluSight-forecast-hub/refs/heads/main/target-data/target-hospital-admissions.csv\")\n",
    "updated_df = updated_df[updated_df[\"location_name\"] == \"US\"]\n",
    "updated_df = updated_df[[\"date\", \"value\"]]\n",
    "updated_df[\"date\"] = pd.to_datetime(updated_df[\"date\"])\n",
    "updated_df.set_index(\"date\", inplace = True)\n",
    "updated_df.sort_values(by = \"date\", inplace = True)"
   ]
  },
  {
   "cell_type": "code",
   "execution_count": null,
   "id": "d5f9462e-b1dd-4aaa-8c7d-23b4171a2909",
   "metadata": {
    "tags": []
   },
   "outputs": [],
   "source": [
    "input_size_df = pd.DataFrame(columns=[\"Parameter Value\", \"Forecast 1 MAE\", \"Forecast 2 MAE\", \"Forecast 3 MAE\", \"Forecast 4 MAE\", \"Forecast 5 MAE\"])\n",
    "patch_len_df = pd.DataFrame(columns=[\"Parameter Value\", \"Forecast 1 MAE\", \"Forecast 2 MAE\", \"Forecast 3 MAE\", \"Forecast 4 MAE\", \"Forecast 5 MAE\"])\n",
    "stride_df = pd.DataFrame(columns=[\"Parameter Value\", \"Forecast 1 MAE\", \"Forecast 2 MAE\", \"Forecast 3 MAE\", \"Forecast 4 MAE\", \"Forecast 5 MAE\"])"
   ]
  },
  {
   "cell_type": "code",
   "execution_count": null,
   "id": "405060e5-52c2-4dbc-ac42-61794eed0c0d",
   "metadata": {},
   "outputs": [],
   "source": []
  },
  {
   "cell_type": "code",
   "execution_count": null,
   "id": "f750d261-3a13-4199-a82e-4084c487002a",
   "metadata": {},
   "outputs": [],
   "source": []
  },
  {
   "cell_type": "code",
   "execution_count": null,
   "id": "7a45aaf8-26f6-41bc-8ea3-947b2c047930",
   "metadata": {
    "tags": []
   },
   "outputs": [],
   "source": [
    "#Iteration Loop for input_size\n",
    "\n",
    "input_sizes = [12, 24, 52, 70]\n",
    "\n",
    "for size in input_sizes:\n",
    "    Processor = FixedModelTimeLLMProcessor(overall_df = updated_df, dates = [\"2024-10-05\", \"2024-10-19\", \"2024-11-02\", \"2024-11-16\", \"2024-12-07\"])\n",
    "    Processor.create_training_dfs(value_col=\"value\")\n",
    "    prompt = \"This dataset contains data on weekly flu hospitalizations in the United States. There is a yearly (52 weeks) seasonality\"\n",
    "    Processor.create_fixed_model(h = 4, freq = \"W-SAT\", model_name = \"test_model\", prompt = prompt, string_param=\"input_size\", val=size)\n",
    "    \n",
    "    Processor.calculate_metrics()\n",
    "    Processor.create_metrics_df()\n",
    "    row_df = Processor.metrics_df[\"MAE\"].to_frame().T\n",
    "    row_df[\"Parameter Value\"] = size\n",
    "    row_df.rename(columns = {0: \"Forecast 1 MAE\", 1: \"Forecast 2 MAE\", 2: \"Forecast 3 MAE\", 3: \"Forecast 4 MAE\", 4: \"Forecast 5 MAE\"}, inplace=True)\n",
    "    input_size_df = pd.concat([input_size_df, row_df], ignore_index=True)"
   ]
  },
  {
   "cell_type": "code",
   "execution_count": null,
   "id": "c1197b65-b7fd-4482-aa49-0161b74881ff",
   "metadata": {
    "tags": []
   },
   "outputs": [],
   "source": [
    "input_size_df.set_index(\"Parameter Value\", inplace = True)\n",
    "input_size_df.style.highlight_min(color='yellow', axis=0)"
   ]
  },
  {
   "cell_type": "code",
   "execution_count": null,
   "id": "4eacf022-5b3c-4e11-ba1c-2dda362df2d7",
   "metadata": {},
   "outputs": [],
   "source": []
  },
  {
   "cell_type": "code",
   "execution_count": null,
   "id": "2cf90fcc-9089-4d92-b35a-e1e68d8cabb8",
   "metadata": {},
   "outputs": [],
   "source": []
  },
  {
   "cell_type": "code",
   "execution_count": null,
   "id": "91013def-7c59-4190-935d-61fcd153e410",
   "metadata": {},
   "outputs": [],
   "source": [
    "#Iteration Loop for patch_len\n",
    "\n",
    "patch_len_sizes = [2, 4, 8, 16, 32]\n",
    "\n",
    "for patch_len in patch_len_sizes:\n",
    "    Processor = FixedModelTimeLLMProcessor(overall_df = updated_df, dates = [\"2024-10-05\", \"2024-10-19\", \"2024-11-02\", \"2024-11-16\", \"2024-12-07\"])\n",
    "    Processor.create_training_dfs(value_col=\"value\")\n",
    "    prompt = \"This dataset contains data on weekly flu hospitalizations in the United States. There is a yearly (52 weeks) seasonality\"\n",
    "    Processor.create_fixed_model(h = 4, freq = \"W-SAT\", model_name = \"test_model\", prompt = prompt, string_param=\"patch_len\", val=patch_len)\n",
    "    \n",
    "    Processor.calculate_metrics()\n",
    "    Processor.create_metrics_df()\n",
    "    row_df = Processor.metrics_df[\"MAE\"].to_frame().T\n",
    "    row_df[\"Parameter Value\"] = patch_len\n",
    "    row_df.rename(columns = {0: \"Forecast 1 MAE\", 1: \"Forecast 2 MAE\", 2: \"Forecast 3 MAE\", 3: \"Forecast 4 MAE\", 4: \"Forecast 5 MAE\"}, inplace=True)\n",
    "    patch_len_df = pd.concat([patch_len_df, row_df], ignore_index=True)"
   ]
  },
  {
   "cell_type": "code",
   "execution_count": null,
   "id": "f76a0b60-2b3b-4255-bbbe-06cbc285cf3a",
   "metadata": {},
   "outputs": [],
   "source": [
    "patch_len_df.set_index(\"Parameter Value\", inplace = True)\n",
    "patch_len_df.style.highlight_min(color='yellow', axis=0)"
   ]
  },
  {
   "cell_type": "code",
   "execution_count": null,
   "id": "e14126d7-6c72-4acb-9e67-22b1790400ed",
   "metadata": {},
   "outputs": [],
   "source": []
  },
  {
   "cell_type": "code",
   "execution_count": null,
   "id": "0b3ac03b-7266-4f56-9334-23768a245ef6",
   "metadata": {},
   "outputs": [],
   "source": []
  },
  {
   "cell_type": "code",
   "execution_count": null,
   "id": "fa049d83-0048-417a-930a-109c37350d10",
   "metadata": {},
   "outputs": [],
   "source": []
  },
  {
   "cell_type": "code",
   "execution_count": null,
   "id": "d423b08f-36c5-4040-b30a-59bed1727104",
   "metadata": {},
   "outputs": [],
   "source": [
    "#Iteration Loop for stride\n",
    "\n",
    "strides = [1, 2, 4, 8]\n",
    "\n",
    "for stride in strides:\n",
    "    Processor = FixedModelTimeLLMProcessor(overall_df = updated_df, dates = [\"2024-10-05\", \"2024-10-19\", \"2024-11-02\", \"2024-11-16\", \"2024-12-07\"])\n",
    "    Processor.create_training_dfs(value_col=\"value\")\n",
    "    prompt = \"This dataset contains data on weekly flu hospitalizations in the United States. There is a yearly (52 weeks) seasonality\"\n",
    "    Processor.create_fixed_model(h = 4, freq = \"W-SAT\", model_name = \"test_model\", prompt = prompt, string_param=\"stride\", val=stride)\n",
    "    \n",
    "    Processor.calculate_metrics()\n",
    "    Processor.create_metrics_df()\n",
    "    row_df = Processor.metrics_df[\"MAE\"].to_frame().T\n",
    "    row_df[\"Parameter Value\"] = stride\n",
    "    row_df.rename(columns = {0: \"Forecast 1 MAE\", 1: \"Forecast 2 MAE\", 2: \"Forecast 3 MAE\", 3: \"Forecast 4 MAE\", 4: \"Forecast 5 MAE\"}, inplace=True)\n",
    "    stride_df = pd.concat([stride_df, row_df], ignore_index=True)"
   ]
  },
  {
   "cell_type": "code",
   "execution_count": null,
   "id": "d1cafb30-3cb0-4a2f-bb4f-b222769964b0",
   "metadata": {},
   "outputs": [],
   "source": [
    "stride_df.set_index(\"Parameter Value\", inplace = True)\n",
    "stride_df.style.highlight_min(color='yellow', axis=0)"
   ]
  },
  {
   "cell_type": "code",
   "execution_count": null,
   "id": "8491773e-a6f7-4755-aed8-c742e3e39420",
   "metadata": {},
   "outputs": [],
   "source": []
  },
  {
   "cell_type": "code",
   "execution_count": null,
   "id": "1dc7f697-0d8a-4fb4-bf47-61571bf7d298",
   "metadata": {},
   "outputs": [],
   "source": []
  }
 ],
 "metadata": {
  "kernelspec": {
   "display_name": "Python 3 (ipykernel)",
   "language": "python",
   "name": "python3"
  },
  "language_info": {
   "codemirror_mode": {
    "name": "ipython",
    "version": 3
   },
   "file_extension": ".py",
   "mimetype": "text/x-python",
   "name": "python",
   "nbconvert_exporter": "python",
   "pygments_lexer": "ipython3",
   "version": "3.11.6"
  }
 },
 "nbformat": 4,
 "nbformat_minor": 5
}
