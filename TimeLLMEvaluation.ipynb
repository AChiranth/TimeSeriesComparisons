{
 "cells": [
  {
   "cell_type": "code",
   "execution_count": null,
   "id": "b1f276d6-5b84-4c05-b1a4-55076556f281",
   "metadata": {
    "tags": []
   },
   "outputs": [],
   "source": [
    "from TimeLLMProcessors import FixedModelTimeLLMProcessor, UpdatingModelTimeLLMProcessor"
   ]
  },
  {
   "cell_type": "code",
   "execution_count": null,
   "id": "74af965f-ce4e-4ea3-bfb3-6876dc0bc46e",
   "metadata": {
    "tags": []
   },
   "outputs": [],
   "source": [
    "from ARIMAProcessors import FixedARIMAProcessor, UpdatingARIMAProcessor"
   ]
  },
  {
   "cell_type": "code",
   "execution_count": null,
   "id": "b23a4e7b-7ede-412c-9b26-9cde17425735",
   "metadata": {
    "tags": []
   },
   "outputs": [],
   "source": [
    "from LSTMProcessors import FixedModelLSTMProcessor, UpdatingModelLSTMProcessor"
   ]
  },
  {
   "cell_type": "code",
   "execution_count": null,
   "id": "6d061957-dd27-4862-96ee-54d1c9df58ef",
   "metadata": {
    "tags": []
   },
   "outputs": [],
   "source": [
    "import pandas as pd"
   ]
  },
  {
   "cell_type": "code",
   "execution_count": null,
   "id": "6b688d3a-9eae-4303-ac37-50f7823f8ea6",
   "metadata": {
    "tags": []
   },
   "outputs": [],
   "source": [
    "updated_df = pd.read_csv(\"https://raw.githubusercontent.com/cdcepi/FluSight-forecast-hub/refs/heads/main/target-data/target-hospital-admissions.csv\")\n",
    "updated_df = updated_df[updated_df[\"location_name\"] == \"US\"]\n",
    "updated_df = updated_df[[\"date\", \"value\"]]\n",
    "updated_df[\"date\"] = pd.to_datetime(updated_df[\"date\"])\n",
    "updated_df.set_index(\"date\", inplace = True)\n",
    "updated_df.sort_values(by = \"date\", inplace = True)"
   ]
  },
  {
   "cell_type": "code",
   "execution_count": null,
   "id": "7fd7f1ae-229e-46b1-b471-9601e1e33578",
   "metadata": {
    "tags": []
   },
   "outputs": [],
   "source": [
    "FAProcessor = FixedARIMAProcessor(overall_df = updated_df, dates = [\"2024-10-05\", \"2024-10-19\", \"2024-11-02\", \"2024-11-16\", \"2024-12-07\"])\n",
    "FLProcessor = FixedModelLSTMProcessor(overall_df = updated_df, dates = [\"2024-10-05\", \"2024-10-19\", \"2024-11-02\", \"2024-11-16\", \"2024-12-07\"])\n",
    "FTProcessor = FixedModelTimeLLMProcessor(overall_df = updated_df, dates = [\"2024-10-05\", \"2024-10-19\", \"2024-11-02\", \"2024-11-16\", \"2024-12-07\"])"
   ]
  },
  {
   "cell_type": "code",
   "execution_count": null,
   "id": "ab295aa4-383c-4578-92fe-1f7b6efd4403",
   "metadata": {
    "tags": []
   },
   "outputs": [],
   "source": [
    "FAProcessor.create_training_dfs(value_col = \"value\")\n",
    "FLProcessor.create_training_dfs(value_col = \"value\")\n",
    "FTProcessor.create_training_dfs(value_col = \"value\")"
   ]
  },
  {
   "cell_type": "code",
   "execution_count": null,
   "id": "ba04f01a-c747-4455-b1f0-2ff7d96edffa",
   "metadata": {
    "tags": []
   },
   "outputs": [],
   "source": [
    "FAProcessor.create_fixed_model(h = 4, freq = \"W-SAT\", season_length = 52, model_name = \"testing\", level = [])"
   ]
  },
  {
   "cell_type": "code",
   "execution_count": null,
   "id": "9deae1ce-f575-4a9e-9ed9-5bb06a0a3180",
   "metadata": {
    "tags": []
   },
   "outputs": [],
   "source": [
    "def config_LSTM(trial):\n",
    "    return {\n",
    "        \"encoder_hidden_size\": trial.suggest_categorical(\"encoder_hidden_size\", [100, 200, 300]),\n",
    "          \"encoder_n_layers\": trial.suggest_categorical(\"encoder_n_layers\", [1, 2, 3]),\n",
    "          \"context_size\": trial.suggest_categorical(\"context_size\", [5, 10, 20, 30, 40, 50]),\n",
    "          \"decoder_hidden_size\": trial.suggest_categorical(\"decoder_hidden_size\", [64, 128, 256, 512]),\n",
    "          \"max_steps\": 1000,\n",
    "          \"batch_size\": trial.suggest_categorical(\"batch_size\", [8, 16, 32, 64]),\n",
    "          \"input_size\": trial.suggest_categorical(\"input_size\", [16, 64, 256])\n",
    "          }"
   ]
  },
  {
   "cell_type": "code",
   "execution_count": null,
   "id": "854eec66-4f17-451c-9e85-2f0d195254ff",
   "metadata": {
    "tags": []
   },
   "outputs": [],
   "source": [
    "FLProcessor.create_fixed_model(h = 4, freq = \"W-SAT\", model_name = \"test_model\", level = [], config = config_LSTM)"
   ]
  },
  {
   "cell_type": "code",
   "execution_count": null,
   "id": "6af38725-7b0a-49eb-bb70-50105620eb84",
   "metadata": {
    "tags": []
   },
   "outputs": [],
   "source": [
    "prompt = \"This dataset contains data on weekly flu hospitalizations in the United States. There is a yearly (52 weeks) seasonality\"\n",
    "FTProcessor.create_fixed_model(h = 4, freq = \"W-SAT\", model_name = \"test_model\", prompt = prompt)"
   ]
  },
  {
   "cell_type": "code",
   "execution_count": null,
   "id": "09b90239-b43c-4e21-a9f1-fbf0f74f79e4",
   "metadata": {
    "tags": []
   },
   "outputs": [],
   "source": [
    "FAProcessor.create_display_df()\n",
    "FAProcessor.create_metrics()\n",
    "FAProcessor.create_metrics_df()\n",
    "\n",
    "FLProcessor.create_display_df()\n",
    "FLProcessor.calculate_metrics()\n",
    "FLProcessor.create_metrics_df()\n",
    "\n",
    "FTProcessor.create_display_df()\n",
    "FTProcessor.calculate_metrics()\n",
    "FTProcessor.create_metrics_df()"
   ]
  },
  {
   "cell_type": "code",
   "execution_count": null,
   "id": "b2d7bba5-5dff-4040-8488-f67c00848bf3",
   "metadata": {
    "tags": []
   },
   "outputs": [],
   "source": []
  },
  {
   "cell_type": "code",
   "execution_count": null,
   "id": "5256546c-be4a-46c4-97be-d3c97bb1cdf0",
   "metadata": {
    "tags": []
   },
   "outputs": [],
   "source": [
    "FAProcessor.metrics_df"
   ]
  },
  {
   "cell_type": "code",
   "execution_count": null,
   "id": "40b30843-1c1f-44a1-a053-1111ddb145ff",
   "metadata": {
    "tags": []
   },
   "outputs": [],
   "source": [
    "FLProcessor.metrics_df"
   ]
  },
  {
   "cell_type": "code",
   "execution_count": null,
   "id": "c4b4845e-f47e-4dff-af18-06ba09c42290",
   "metadata": {
    "tags": []
   },
   "outputs": [],
   "source": [
    "FTProcessor.metrics_df"
   ]
  },
  {
   "cell_type": "code",
   "execution_count": null,
   "id": "df501f77-a4a3-47aa-b257-05a124eb3e6d",
   "metadata": {},
   "outputs": [],
   "source": []
  }
 ],
 "metadata": {
  "kernelspec": {
   "display_name": "Python 3 (ipykernel)",
   "language": "python",
   "name": "python3"
  },
  "language_info": {
   "codemirror_mode": {
    "name": "ipython",
    "version": 3
   },
   "file_extension": ".py",
   "mimetype": "text/x-python",
   "name": "python",
   "nbconvert_exporter": "python",
   "pygments_lexer": "ipython3",
   "version": "3.11.6"
  }
 },
 "nbformat": 4,
 "nbformat_minor": 5
}
